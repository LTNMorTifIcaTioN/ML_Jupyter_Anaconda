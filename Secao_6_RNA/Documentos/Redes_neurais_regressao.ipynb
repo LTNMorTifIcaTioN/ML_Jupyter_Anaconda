{
 "nbformat": 4,
 "nbformat_minor": 0,
 "metadata": {
  "colab": {
   "name": "Redes_neurais_regressao.ipynb",
   "provenance": []
  },
  "kernelspec": {
   "name": "python3",
   "display_name": "Python 3"
  },
  "language_info": {
   "name": "python"
  }
 },
 "cells": [
  {
   "cell_type": "markdown",
   "source": [
    "# **REDES NEURAIS ARTIFICIAIS: REGRESSÃO**"
   ],
   "metadata": {
    "id": "qLYL9vRhOG9c"
   }
  },
  {
   "cell_type": "markdown",
   "metadata": {
    "id": "kXFCCsVHTtTP"
   },
   "source": [
    "Este projeto tem por objetivo desenvolver um algoritmo de Machine Learning para prever o valor do preço médio de casas em Boston. "
   ]
  },
  {
   "cell_type": "markdown",
   "metadata": {
    "id": "5ZQ2nYhQUc3G"
   },
   "source": [
    "Os dados foram extraídos do site do Kaggle:\n",
    "\n",
    "https://www.kaggle.com/schirmerchad/bostonhoustingmlnd"
   ]
  },
  {
   "cell_type": "code",
   "metadata": {
    "id": "nWvIcticlCs2"
   },
   "source": [
    "import numpy as np\n",
    "import pandas as pd"
   ],
   "execution_count": 1,
   "outputs": []
  },
  {
   "cell_type": "code",
   "metadata": {
    "id": "LRIrwcC8kUhT"
   },
   "source": [
    "df = pd.read_csv('/content/drive/MyDrive/Cursos_Udemy/Machine_Learning_com_Python/housing.csv',\n",
    "                    sep=',', encoding='iso-8859-1')"
   ],
   "execution_count": 2,
   "outputs": []
  },
  {
   "cell_type": "code",
   "source": [
    "df.head()"
   ],
   "metadata": {
    "id": "QtugliripIyp",
    "colab": {
     "base_uri": "https://localhost:8080/",
     "height": 206
    },
    "outputId": "c873479f-9eab-4095-94e6-c897aae37940"
   },
   "execution_count": 3,
   "outputs": []
  },
  {
   "cell_type": "markdown",
   "source": [
    "**Atributos previsores**\n",
    "\n",
    "RM: é o número médio de cômodos entre os imóveis no bairro.\n",
    "\n",
    "LSTAT: é a porcentagem de proprietários no bairro considerados de \"classe baixa\" (proletariado).\n",
    "\n",
    "PTRATIO: é a razão entre estudantes e professores nas escolas de ensino fundamental e médio no bairro.\n",
    "\n",
    "**Variável alvo**\n",
    "\n",
    "MEDV: valor médio das casas"
   ],
   "metadata": {
    "id": "BxBX5HD17FZn"
   }
  },
  {
   "cell_type": "code",
   "source": [
    "df.shape"
   ],
   "metadata": {
    "colab": {
     "base_uri": "https://localhost:8080/"
    },
    "id": "-pOctrVgQWpa",
    "outputId": "8876525f-dfe6-41a7-b70f-77e1b11cd6ca"
   },
   "execution_count": 4,
   "outputs": []
  },
  {
   "cell_type": "code",
   "metadata": {
    "colab": {
     "base_uri": "https://localhost:8080/"
    },
    "outputId": "ed3188d1-acde-436b-8710-3383f129b32c",
    "id": "gJxxUoJfLZ3q"
   },
   "source": [
    "independente = df.iloc[:, 0:3].values\n",
    "independente"
   ],
   "execution_count": 5,
   "outputs": []
  },
  {
   "cell_type": "code",
   "source": [
    "independente.shape"
   ],
   "metadata": {
    "colab": {
     "base_uri": "https://localhost:8080/"
    },
    "outputId": "8bd1f347-4170-417a-f064-706fb93f973e",
    "id": "X748p6-1LZ3r"
   },
   "execution_count": 6,
   "outputs": []
  },
  {
   "cell_type": "code",
   "metadata": {
    "id": "T6PtTe5SLZ3r"
   },
   "source": [
    "dependente = df.iloc[:, 3].values"
   ],
   "execution_count": 7,
   "outputs": []
  },
  {
   "cell_type": "code",
   "source": [
    "dependente.shape"
   ],
   "metadata": {
    "colab": {
     "base_uri": "https://localhost:8080/"
    },
    "outputId": "2e6a49a9-f580-4798-9310-1a860320aadc",
    "id": "IVvAP3tJLZ3s"
   },
   "execution_count": 8,
   "outputs": []
  },
  {
   "cell_type": "markdown",
   "source": [
    "## **TREINAMENTO**"
   ],
   "metadata": {
    "id": "1Q1Eu75naWX8"
   }
  },
  {
   "cell_type": "code",
   "metadata": {
    "id": "-R3GlRD8LZ3s"
   },
   "source": [
    "from sklearn.model_selection import train_test_split\n",
    "x_treino, x_teste, y_treino, y_teste = train_test_split(independente, dependente, test_size = 0.3, random_state = 0)"
   ],
   "execution_count": 10,
   "outputs": []
  },
  {
   "cell_type": "code",
   "metadata": {
    "colab": {
     "base_uri": "https://localhost:8080/"
    },
    "outputId": "4bf8779f-0d2b-4f05-be45-01c1d18631de",
    "id": "2ZOzrZh1LZ3t"
   },
   "source": [
    "x_treino.shape, x_teste.shape"
   ],
   "execution_count": 11,
   "outputs": []
  },
  {
   "cell_type": "code",
   "source": [
    "from sklearn.neural_network import MLPRegressor"
   ],
   "metadata": {
    "id": "gXsNjojnEoyA"
   },
   "execution_count": 12,
   "outputs": []
  },
  {
   "cell_type": "code",
   "metadata": {
    "id": "ggIQN7N9LZ3v"
   },
   "source": [
    "redes = MLPRegressor(hidden_layer_sizes=(100, 100), activation='relu', verbose=True, max_iter=2000,\n",
    "                    solver='lbfgs', random_state = 12)"
   ],
   "execution_count": 82,
   "outputs": []
  },
  {
   "cell_type": "code",
   "source": [
    "redes.fit(x_treino, y_treino)"
   ],
   "metadata": {
    "colab": {
     "base_uri": "https://localhost:8080/"
    },
    "id": "KRKO0AVEPP6j",
    "outputId": "ffb7af05-00c9-4c31-b417-1ac26b273b1f"
   },
   "execution_count": 83,
   "outputs": []
  },
  {
   "cell_type": "code",
   "metadata": {
    "id": "2k8wuWqC0kZ9",
    "colab": {
     "base_uri": "https://localhost:8080/"
    },
    "outputId": "ec3f0b1d-027c-4ef4-c3d1-c055131d57e9"
   },
   "source": [
    "redes.n_layers_"
   ],
   "execution_count": 84,
   "outputs": []
  },
  {
   "cell_type": "code",
   "metadata": {
    "id": "YGYQw_tmXtle",
    "colab": {
     "base_uri": "https://localhost:8080/"
    },
    "outputId": "6b4f2fb0-ebe1-45c8-85f9-2fe020405549"
   },
   "source": [
    "redes.score(x_treino, y_treino)"
   ],
   "execution_count": 85,
   "outputs": []
  },
  {
   "cell_type": "markdown",
   "source": [
    "## **TESTE**"
   ],
   "metadata": {
    "id": "Ag0SWRYdLZ3w"
   }
  },
  {
   "cell_type": "code",
   "metadata": {
    "colab": {
     "base_uri": "https://localhost:8080/"
    },
    "outputId": "cc5dda25-99b7-4509-fab2-51d6774003c9",
    "id": "gPggEGb0LZ3w"
   },
   "source": [
    "redes.score(x_teste, y_teste)"
   ],
   "execution_count": 86,
   "outputs": []
  },
  {
   "cell_type": "code",
   "metadata": {
    "id": "LZ7WLVF4LZ3x"
   },
   "source": [
    "previsoes_teste = redes.predict(x_teste)"
   ],
   "execution_count": 87,
   "outputs": []
  },
  {
   "cell_type": "markdown",
   "source": [
    "## **MÉTRICAS**"
   ],
   "metadata": {
    "id": "eupiQ6n9LZ3y"
   }
  },
  {
   "cell_type": "code",
   "metadata": {
    "id": "mNFhiP0nLZ3z"
   },
   "source": [
    "from sklearn.metrics import mean_absolute_error, mean_squared_error"
   ],
   "execution_count": 19,
   "outputs": []
  },
  {
   "cell_type": "code",
   "metadata": {
    "colab": {
     "base_uri": "https://localhost:8080/"
    },
    "outputId": "715a0e34-6697-4860-f5f0-b2a3b76b5d59",
    "id": "ptcF4Z3QLZ3z"
   },
   "source": [
    "# Erro médio Absoluto\n",
    "mean_absolute_error(y_teste, previsoes_teste)"
   ],
   "execution_count": 88,
   "outputs": []
  },
  {
   "cell_type": "code",
   "metadata": {
    "colab": {
     "base_uri": "https://localhost:8080/"
    },
    "outputId": "bd40b988-9c78-42a0-8689-43456c4925d1",
    "id": "UW9rH3WyLZ30"
   },
   "source": [
    "# Raiz do erro quadrático médio (RMSE)\n",
    "np.sqrt(mean_squared_error(y_teste, previsoes_teste))"
   ],
   "execution_count": 89,
   "outputs": []
  },
  {
   "cell_type": "markdown",
   "source": [
    "### **Validação Cruzada**"
   ],
   "metadata": {
    "id": "mopLhYaKLZ31"
   }
  },
  {
   "cell_type": "code",
   "source": [
    "from sklearn.model_selection import KFold\n",
    "from sklearn.model_selection import cross_val_score"
   ],
   "metadata": {
    "id": "EW9FdkEELZ31"
   },
   "execution_count": 90,
   "outputs": []
  },
  {
   "cell_type": "code",
   "source": [
    "# Separando os dados em folds\n",
    "kfold = KFold(n_splits = 12, shuffle=True, random_state = 5)"
   ],
   "metadata": {
    "id": "-duD4L-4LZ32"
   },
   "execution_count": 91,
   "outputs": []
  },
  {
   "cell_type": "code",
   "source": [
    "# Criando o modelo\n",
    "from sklearn.neural_network import MLPRegressor\n",
    "modelo = MLPRegressor(hidden_layer_sizes=(100, 100), activation='relu', verbose=True, max_iter=2000,\n",
    "                    solver='lbfgs', random_state = 12)\n",
    "resultado = cross_val_score(modelo, independente, dependente, cv = kfold)\n",
    "resultado"
   ],
   "metadata": {
    "colab": {
     "base_uri": "https://localhost:8080/"
    },
    "outputId": "36123536-1c75-48d6-9f12-ed77a1d02a06",
    "id": "KTJuA6GpLZ32"
   },
   "execution_count": 92,
   "outputs": []
  },
  {
   "cell_type": "code",
   "source": [
    "# Usamos a média e o desvio padrão\n",
    "print(\"Acurácia Média: %.2f%%\" % (resultado.mean() * 100.0))"
   ],
   "metadata": {
    "colab": {
     "base_uri": "https://localhost:8080/"
    },
    "outputId": "be01f279-0750-4a60-d282-818176eab175",
    "id": "6OLrwVIQLZ33"
   },
   "execution_count": 93,
   "outputs": []
  },
  {
   "cell_type": "markdown",
   "source": [
    "## **RESULTADOS**"
   ],
   "metadata": {
    "id": "B0U27J9MahlK"
   }
  },
  {
   "cell_type": "markdown",
   "source": [
    "**REGRESSÃO LINEAR SIMPLES:** R^2 = 0,57/0,60; RMSE = 99315,5; R^2 Validação Cruzada: 55,97%\n",
    "\n",
    "**REGRESSÃO LINEAR MÚLTIPLA:** R^2 = 0,73/0,68; RMSE = 96087,3; R^2 Validação Cruzada: 69,25%\n",
    "\n",
    "**REGRESSÃO POLINOMIAL:** R^2 = 0,59/0,54; RMSE = 114670,6.\n",
    "\n",
    "**REGRESSÃO SVR:** R^2 = 0,87/0,81; RMSE = 73422,7. R^2 Validação Cruzada: 82,37%.\n",
    "\n",
    "**REGRESSÃO ÁRVORE DE DECISÃO:** R^2 = 0,91/0,83; RMSE = 71114,5. R^2 Validação Cruzada: 74,60%.\n",
    "\n",
    "**REGRESSÃO COM RANDOM FOREST:** R^2 = 0,92/0,85; RMSE = 66729,3. R^2 Validação Cruzada: 82,85%.\n",
    "\n",
    "**REGRESSÃO COM XGBOOST:** R^2 = 0,93/0,84; RMSE = 67788,8. R^2 Validação Cruzada: 83,22%.\n",
    "\n",
    "**REGRESSÃO COM LIGHT GBM:** R^2 = 0,88/0,82; RMSE = 71906,4. R^2 Validação Cruzada: 82,38%.\n",
    "\n",
    "**REGRESSÃO COM CATBOOST:** R^2 = 0,90/0,84; RMSE = 69053,3 R^2 Validação Cruzada: 83,40%.\n",
    "\n",
    "**REGRESSÃO COM REDES NEURAIS:** R^2 = 0,88/0,83; RMSE = 69717,4. R^2 Validação Cruzada: 77,15%. Escalonado."
   ],
   "metadata": {
    "id": "y4gwkctLLZ33"
   }
  },
  {
   "cell_type": "markdown",
   "source": [
    "## **Padronização de escala**"
   ],
   "metadata": {
    "id": "i0tdnZNhxRDj"
   }
  },
  {
   "cell_type": "code",
   "source": [
    "from sklearn.preprocessing import StandardScaler\n",
    "x_scaler = StandardScaler()\n",
    "x_treino_scaler = x_scaler.fit_transform(x_treino)"
   ],
   "metadata": {
    "id": "vIgPmXt8xRtk"
   },
   "execution_count": 94,
   "outputs": []
  },
  {
   "cell_type": "code",
   "source": [
    "x_treino_scaler"
   ],
   "metadata": {
    "colab": {
     "base_uri": "https://localhost:8080/"
    },
    "id": "fc4OD6JdyVks",
    "outputId": "41c33899-5321-4664-a8f8-a54fe16b7f2d"
   },
   "execution_count": 95,
   "outputs": []
  },
  {
   "cell_type": "code",
   "source": [
    "y_scaler = StandardScaler()\n",
    "y_treino_scaler = y_scaler.fit_transform(y_treino.reshape(-1,1))"
   ],
   "metadata": {
    "id": "wyKhCzqexRy0"
   },
   "execution_count": 134,
   "outputs": []
  },
  {
   "cell_type": "code",
   "source": [
    "y_treino_scaler"
   ],
   "metadata": {
    "id": "uyOhdquuyb2D"
   },
   "execution_count": null,
   "outputs": []
  },
  {
   "cell_type": "code",
   "source": [
    "x_teste_scaler = x_scaler.transform(x_teste)\n",
    "x_teste_scaler"
   ],
   "metadata": {
    "id": "IsHYG6i7ygdg"
   },
   "execution_count": null,
   "outputs": []
  },
  {
   "cell_type": "code",
   "source": [
    "y_teste_scaler = y_scaler.transform(y_teste.reshape(-1,1))\n",
    "y_teste_scaler"
   ],
   "metadata": {
    "id": "P5QgpoYoy_Vq"
   },
   "execution_count": null,
   "outputs": []
  },
  {
   "cell_type": "code",
   "metadata": {
    "id": "yLqV2EcBYgii"
   },
   "source": [
    "redes = MLPRegressor(hidden_layer_sizes=(6,6,6), activation='relu', verbose=True, max_iter=1500,\n",
    "                    solver='lbfgs', random_state = 12)"
   ],
   "execution_count": 153,
   "outputs": []
  },
  {
   "cell_type": "code",
   "source": [
    "redes.fit(x_treino_scaler, y_treino_scaler.ravel())"
   ],
   "metadata": {
    "colab": {
     "base_uri": "https://localhost:8080/"
    },
    "outputId": "84ba39e4-cc0e-4b1c-ba64-5157f98adcb1",
    "id": "3CNJpOG6Ygiw"
   },
   "execution_count": 154,
   "outputs": []
  },
  {
   "cell_type": "code",
   "metadata": {
    "colab": {
     "base_uri": "https://localhost:8080/"
    },
    "outputId": "1779c4bf-bc4e-43e5-8d6c-3f4937e7f9ef",
    "id": "p7n6MFkDYgiw"
   },
   "source": [
    "redes.n_layers_"
   ],
   "execution_count": 155,
   "outputs": []
  },
  {
   "cell_type": "code",
   "metadata": {
    "colab": {
     "base_uri": "https://localhost:8080/"
    },
    "outputId": "a2ee1370-470f-49d6-de03-553682b50749",
    "id": "DgEas9ZbYgix"
   },
   "source": [
    "redes.score(x_treino_scaler, y_treino_scaler)"
   ],
   "execution_count": 156,
   "outputs": []
  },
  {
   "cell_type": "markdown",
   "source": [
    "**TESTE**"
   ],
   "metadata": {
    "id": "ww7rXXpmYgiy"
   }
  },
  {
   "cell_type": "code",
   "metadata": {
    "colab": {
     "base_uri": "https://localhost:8080/"
    },
    "outputId": "1f7dcb88-0c15-4c9f-9b49-62dbeac226a5",
    "id": "-22L712oYgiy"
   },
   "source": [
    "redes.score(x_teste_scaler, y_teste_scaler)"
   ],
   "execution_count": 157,
   "outputs": []
  },
  {
   "cell_type": "code",
   "metadata": {
    "id": "TrJeD7ZNuO-i"
   },
   "source": [
    "previsoes_teste_scaler = redes.predict(x_teste_scaler)"
   ],
   "execution_count": 158,
   "outputs": []
  },
  {
   "cell_type": "code",
   "source": [
    "previsoes_teste_scaler"
   ],
   "metadata": {
    "id": "E29s37Jkumip"
   },
   "execution_count": null,
   "outputs": []
  },
  {
   "cell_type": "markdown",
   "source": [
    "## **MÉTRICAS**"
   ],
   "metadata": {
    "id": "-3gMP-aLuO-2"
   }
  },
  {
   "cell_type": "markdown",
   "source": [
    "**Revertendo a transformação**"
   ],
   "metadata": {
    "id": "bkj7pP_M0G_r"
   }
  },
  {
   "cell_type": "code",
   "source": [
    "previsoes_teste_scaler"
   ],
   "metadata": {
    "id": "IQjSU2awzSAf"
   },
   "execution_count": null,
   "outputs": []
  },
  {
   "cell_type": "code",
   "source": [
    "previsoes_teste_inverse = y_scaler.inverse_transform(previsoes_teste_scaler.reshape(-1,1))"
   ],
   "metadata": {
    "id": "Im0E-MAczbiP"
   },
   "execution_count": 176,
   "outputs": []
  },
  {
   "cell_type": "code",
   "source": [
    "previsoes_teste_inverse"
   ],
   "metadata": {
    "id": "UPrNMYiwzu0N"
   },
   "execution_count": null,
   "outputs": []
  },
  {
   "cell_type": "code",
   "source": [
    "y_teste"
   ],
   "metadata": {
    "id": "soMoe3Eez0Er"
   },
   "execution_count": null,
   "outputs": []
  },
  {
   "cell_type": "code",
   "metadata": {
    "id": "fTvkHk4JuO-2"
   },
   "source": [
    "from sklearn.metrics import mean_absolute_error, mean_squared_error"
   ],
   "execution_count": 160,
   "outputs": []
  },
  {
   "cell_type": "code",
   "metadata": {
    "colab": {
     "base_uri": "https://localhost:8080/"
    },
    "outputId": "dedea9ac-7598-4669-b150-5e44807f3de7",
    "id": "zQ1JBPZ5uO-3"
   },
   "source": [
    "# Erro médio Absoluto\n",
    "mean_absolute_error(y_teste, previsoes_teste_inverse)"
   ],
   "execution_count": 180,
   "outputs": []
  },
  {
   "cell_type": "code",
   "metadata": {
    "colab": {
     "base_uri": "https://localhost:8080/"
    },
    "outputId": "42ff8858-e2ff-41b5-bcf7-a08a4821fa37",
    "id": "pafOb9YDuO-3"
   },
   "source": [
    "# Raiz do erro quadrático médio (RMSE)\n",
    "np.sqrt(mean_squared_error(y_teste, previsoes_teste_inverse))"
   ],
   "execution_count": 181,
   "outputs": []
  },
  {
   "cell_type": "markdown",
   "source": [
    "**Revertendo a transformação**"
   ],
   "metadata": {
    "id": "qXiWO2g21N4C"
   }
  },
  {
   "cell_type": "code",
   "source": [
    "x_treino_inverse = x_scaler.inverse_transform(x_treino_scaler)"
   ],
   "metadata": {
    "id": "YxYKJhda1QOQ"
   },
   "execution_count": 163,
   "outputs": []
  },
  {
   "cell_type": "code",
   "source": [
    "x_treino_inverse"
   ],
   "metadata": {
    "id": "kPTE_4Tcnwyz"
   },
   "execution_count": null,
   "outputs": []
  },
  {
   "cell_type": "code",
   "source": [
    "x_treino"
   ],
   "metadata": {
    "id": "yIt3n-xOvBeP"
   },
   "execution_count": null,
   "outputs": []
  },
  {
   "cell_type": "code",
   "source": [
    "y_treino_inverse = y_scaler.inverse_transform(y_treino_scaler)"
   ],
   "metadata": {
    "id": "QUdHrRrXmykQ"
   },
   "execution_count": 166,
   "outputs": []
  },
  {
   "cell_type": "code",
   "source": [
    "y_treino_inverse"
   ],
   "metadata": {
    "id": "Ars4cnYBn31s"
   },
   "execution_count": null,
   "outputs": []
  },
  {
   "cell_type": "code",
   "source": [
    "x_teste_inverse = x_scaler.inverse_transform(x_teste_scaler)"
   ],
   "metadata": {
    "id": "h5UWcx7U2O4R"
   },
   "execution_count": 168,
   "outputs": []
  },
  {
   "cell_type": "code",
   "source": [
    "x_teste_inverse"
   ],
   "metadata": {
    "id": "-4opN-gQn-CU"
   },
   "execution_count": null,
   "outputs": []
  },
  {
   "cell_type": "code",
   "source": [
    "y_teste_inverse = y_scaler.inverse_transform(y_teste_scaler)"
   ],
   "metadata": {
    "id": "gzk4dY8b2RaH"
   },
   "execution_count": 170,
   "outputs": []
  },
  {
   "cell_type": "code",
   "source": [
    "y_teste_inverse"
   ],
   "metadata": {
    "id": "AKQyAROpoCXa"
   },
   "execution_count": null,
   "outputs": []
  },
  {
   "cell_type": "code",
   "source": [
    "y_teste"
   ],
   "metadata": {
    "id": "loN9hECp4XX1"
   },
   "execution_count": null,
   "outputs": []
  },
  {
   "cell_type": "markdown",
   "source": [
    "# **DESAFIO 4**"
   ],
   "metadata": {
    "id": "Q6LoOxMow4Ci"
   }
  },
  {
   "cell_type": "markdown",
   "source": [
    "DESENVOLVER UM ALGORITMO DE REDES NEURAIS ARTFICIAIS DE REGRESSÃO PARA DATASET DO LINK A SEGUIR:"
   ],
   "metadata": {
    "id": "bjLFumRQxayX"
   }
  },
  {
   "cell_type": "markdown",
   "source": [
    "https://www.kaggle.com/mirichoi0218/insurance/code"
   ],
   "metadata": {
    "id": "VG8xV9wYxKk2"
   }
  }
 ]
}
