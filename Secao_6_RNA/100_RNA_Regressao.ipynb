{
 "nbformat": 4,
 "nbformat_minor": 0,
 "metadata": {
  "colab": {
   "name": "Redes_neurais_regressao.ipynb",
   "provenance": []
  },
  "kernelspec": {
   "name": "python3",
   "display_name": "Python 3 (ipykernel)",
   "language": "python"
  },
  "language_info": {
   "name": "python"
  }
 },
 "cells": [
  {
   "cell_type": "markdown",
   "source": "# **100. Regressão Linear com Redes Neurais artificiais parte 1**",
   "metadata": {
    "id": "qLYL9vRhOG9c"
   }
  },
  {
   "cell_type": "markdown",
   "metadata": {
    "id": "kXFCCsVHTtTP"
   },
   "source": [
    "Este projeto tem por objetivo desenvolver um algoritmo de Machine Learning para prever o valor do preço médio de casas em Boston. "
   ]
  },
  {
   "cell_type": "markdown",
   "metadata": {
    "id": "5ZQ2nYhQUc3G"
   },
   "source": [
    "Os dados foram extraídos do site do Kaggle:\n",
    "\n",
    "https://www.kaggle.com/schirmerchad/bostonhoustingmlnd"
   ]
  },
  {
   "cell_type": "code",
   "metadata": {
    "id": "nWvIcticlCs2",
    "ExecuteTime": {
     "end_time": "2024-05-26T20:20:00.644829Z",
     "start_time": "2024-05-26T20:20:00.639213Z"
    }
   },
   "source": [
    "import numpy as np\n",
    "import pandas as pd"
   ],
   "outputs": [],
   "execution_count": 28
  },
  {
   "cell_type": "code",
   "metadata": {
    "id": "LRIrwcC8kUhT",
    "ExecuteTime": {
     "end_time": "2024-05-26T20:20:01.443860Z",
     "start_time": "2024-05-26T20:20:01.434954Z"
    }
   },
   "source": [
    "df = pd.read_csv(r'D:\\Users\\Nayan Couto\\Cloud Drive\\Documentos\\Arquivos PDF, PPT, DOC\\CURSOS\\Machine Learning com Python\\ML_Jupyter_Anaconda\\Secao_6_RNA\\Datasets\\housing.csv',\n",
    "                    sep=',', encoding='iso-8859-1')"
   ],
   "outputs": [],
   "execution_count": 29
  },
  {
   "cell_type": "code",
   "source": [
    "df.head()"
   ],
   "metadata": {
    "id": "QtugliripIyp",
    "colab": {
     "base_uri": "https://localhost:8080/",
     "height": 206
    },
    "outputId": "c873479f-9eab-4095-94e6-c897aae37940",
    "ExecuteTime": {
     "end_time": "2024-05-26T20:20:02.234316Z",
     "start_time": "2024-05-26T20:20:02.218434Z"
    }
   },
   "outputs": [
    {
     "data": {
      "text/plain": [
       "      RM  LSTAT  PTRATIO      MEDV\n",
       "0  6.575   4.98     15.3  504000.0\n",
       "1  6.421   9.14     17.8  453600.0\n",
       "2  7.185   4.03     17.8  728700.0\n",
       "3  6.998   2.94     18.7  701400.0\n",
       "4  7.147   5.33     18.7  760200.0"
      ],
      "text/html": [
       "<div>\n",
       "<style scoped>\n",
       "    .dataframe tbody tr th:only-of-type {\n",
       "        vertical-align: middle;\n",
       "    }\n",
       "\n",
       "    .dataframe tbody tr th {\n",
       "        vertical-align: top;\n",
       "    }\n",
       "\n",
       "    .dataframe thead th {\n",
       "        text-align: right;\n",
       "    }\n",
       "</style>\n",
       "<table border=\"1\" class=\"dataframe\">\n",
       "  <thead>\n",
       "    <tr style=\"text-align: right;\">\n",
       "      <th></th>\n",
       "      <th>RM</th>\n",
       "      <th>LSTAT</th>\n",
       "      <th>PTRATIO</th>\n",
       "      <th>MEDV</th>\n",
       "    </tr>\n",
       "  </thead>\n",
       "  <tbody>\n",
       "    <tr>\n",
       "      <th>0</th>\n",
       "      <td>6.575</td>\n",
       "      <td>4.98</td>\n",
       "      <td>15.3</td>\n",
       "      <td>504000.0</td>\n",
       "    </tr>\n",
       "    <tr>\n",
       "      <th>1</th>\n",
       "      <td>6.421</td>\n",
       "      <td>9.14</td>\n",
       "      <td>17.8</td>\n",
       "      <td>453600.0</td>\n",
       "    </tr>\n",
       "    <tr>\n",
       "      <th>2</th>\n",
       "      <td>7.185</td>\n",
       "      <td>4.03</td>\n",
       "      <td>17.8</td>\n",
       "      <td>728700.0</td>\n",
       "    </tr>\n",
       "    <tr>\n",
       "      <th>3</th>\n",
       "      <td>6.998</td>\n",
       "      <td>2.94</td>\n",
       "      <td>18.7</td>\n",
       "      <td>701400.0</td>\n",
       "    </tr>\n",
       "    <tr>\n",
       "      <th>4</th>\n",
       "      <td>7.147</td>\n",
       "      <td>5.33</td>\n",
       "      <td>18.7</td>\n",
       "      <td>760200.0</td>\n",
       "    </tr>\n",
       "  </tbody>\n",
       "</table>\n",
       "</div>"
      ]
     },
     "execution_count": 30,
     "metadata": {},
     "output_type": "execute_result"
    }
   ],
   "execution_count": 30
  },
  {
   "cell_type": "markdown",
   "source": [
    "**Atributos previsores**\n",
    "\n",
    "RM: é o número médio de cômodos entre os imóveis no bairro.\n",
    "\n",
    "LSTAT: é a porcentagem de proprietários no bairro considerados de \"classe baixa\" (proletariado).\n",
    "\n",
    "PTRATIO: é a razão entre estudantes e professores nas escolas de ensino fundamental e médio no bairro.\n",
    "\n",
    "**Variável alvo**\n",
    "\n",
    "MEDV: valor médio das casas"
   ],
   "metadata": {
    "id": "BxBX5HD17FZn"
   }
  },
  {
   "cell_type": "code",
   "source": [
    "df.shape"
   ],
   "metadata": {
    "colab": {
     "base_uri": "https://localhost:8080/"
    },
    "id": "-pOctrVgQWpa",
    "outputId": "8876525f-dfe6-41a7-b70f-77e1b11cd6ca",
    "ExecuteTime": {
     "end_time": "2024-05-26T20:20:04.507651Z",
     "start_time": "2024-05-26T20:20:04.500397Z"
    }
   },
   "outputs": [
    {
     "data": {
      "text/plain": [
       "(489, 4)"
      ]
     },
     "execution_count": 31,
     "metadata": {},
     "output_type": "execute_result"
    }
   ],
   "execution_count": 31
  },
  {
   "cell_type": "code",
   "metadata": {
    "colab": {
     "base_uri": "https://localhost:8080/"
    },
    "outputId": "ed3188d1-acde-436b-8710-3383f129b32c",
    "id": "gJxxUoJfLZ3q",
    "ExecuteTime": {
     "end_time": "2024-05-26T20:20:05.225507Z",
     "start_time": "2024-05-26T20:20:05.215363Z"
    }
   },
   "source": [
    "independente = df.iloc[:, 0:3].values\n",
    "independente"
   ],
   "outputs": [
    {
     "data": {
      "text/plain": [
       "array([[ 6.575,  4.98 , 15.3  ],\n",
       "       [ 6.421,  9.14 , 17.8  ],\n",
       "       [ 7.185,  4.03 , 17.8  ],\n",
       "       ...,\n",
       "       [ 6.976,  5.64 , 21.   ],\n",
       "       [ 6.794,  6.48 , 21.   ],\n",
       "       [ 6.03 ,  7.88 , 21.   ]])"
      ]
     },
     "execution_count": 32,
     "metadata": {},
     "output_type": "execute_result"
    }
   ],
   "execution_count": 32
  },
  {
   "cell_type": "code",
   "source": [
    "independente.shape"
   ],
   "metadata": {
    "colab": {
     "base_uri": "https://localhost:8080/"
    },
    "outputId": "8bd1f347-4170-417a-f064-706fb93f973e",
    "id": "X748p6-1LZ3r",
    "ExecuteTime": {
     "end_time": "2024-05-26T20:20:06.514300Z",
     "start_time": "2024-05-26T20:20:06.503086Z"
    }
   },
   "outputs": [
    {
     "data": {
      "text/plain": [
       "(489, 3)"
      ]
     },
     "execution_count": 33,
     "metadata": {},
     "output_type": "execute_result"
    }
   ],
   "execution_count": 33
  },
  {
   "cell_type": "code",
   "metadata": {
    "id": "T6PtTe5SLZ3r",
    "ExecuteTime": {
     "end_time": "2024-05-26T20:20:07.168167Z",
     "start_time": "2024-05-26T20:20:07.159704Z"
    }
   },
   "source": [
    "dependente = df.iloc[:, 3].values"
   ],
   "outputs": [],
   "execution_count": 34
  },
  {
   "cell_type": "code",
   "source": [
    "dependente.shape"
   ],
   "metadata": {
    "colab": {
     "base_uri": "https://localhost:8080/"
    },
    "outputId": "2e6a49a9-f580-4798-9310-1a860320aadc",
    "id": "IVvAP3tJLZ3s",
    "ExecuteTime": {
     "end_time": "2024-05-26T20:20:08.191931Z",
     "start_time": "2024-05-26T20:20:08.182066Z"
    }
   },
   "outputs": [
    {
     "data": {
      "text/plain": [
       "(489,)"
      ]
     },
     "execution_count": 35,
     "metadata": {},
     "output_type": "execute_result"
    }
   ],
   "execution_count": 35
  },
  {
   "cell_type": "markdown",
   "source": [
    "## **TREINAMENTO**"
   ],
   "metadata": {
    "id": "1Q1Eu75naWX8"
   }
  },
  {
   "cell_type": "code",
   "metadata": {
    "id": "-R3GlRD8LZ3s",
    "ExecuteTime": {
     "end_time": "2024-05-26T20:20:09.935293Z",
     "start_time": "2024-05-26T20:20:09.926040Z"
    }
   },
   "source": [
    "from sklearn.model_selection import train_test_split\n",
    "x_treino, x_teste, y_treino, y_teste = train_test_split(independente, dependente, test_size = 0.3, random_state = 0)"
   ],
   "outputs": [],
   "execution_count": 36
  },
  {
   "cell_type": "code",
   "metadata": {
    "colab": {
     "base_uri": "https://localhost:8080/"
    },
    "outputId": "4bf8779f-0d2b-4f05-be45-01c1d18631de",
    "id": "2ZOzrZh1LZ3t",
    "ExecuteTime": {
     "end_time": "2024-05-26T20:20:11.814958Z",
     "start_time": "2024-05-26T20:20:11.806379Z"
    }
   },
   "source": [
    "x_treino.shape, x_teste.shape"
   ],
   "outputs": [
    {
     "data": {
      "text/plain": [
       "((342, 3), (147, 3))"
      ]
     },
     "execution_count": 37,
     "metadata": {},
     "output_type": "execute_result"
    }
   ],
   "execution_count": 37
  },
  {
   "cell_type": "code",
   "source": [
    "from sklearn.neural_network import MLPRegressor"
   ],
   "metadata": {
    "id": "gXsNjojnEoyA",
    "ExecuteTime": {
     "end_time": "2024-05-26T20:20:12.880752Z",
     "start_time": "2024-05-26T20:20:12.874524Z"
    }
   },
   "outputs": [],
   "execution_count": 38
  },
  {
   "cell_type": "code",
   "metadata": {
    "id": "ggIQN7N9LZ3v",
    "ExecuteTime": {
     "end_time": "2024-05-26T20:36:12.246584Z",
     "start_time": "2024-05-26T20:36:12.238258Z"
    }
   },
   "source": [
    "redes = MLPRegressor(hidden_layer_sizes=(200, 200), activation='relu', verbose=True, max_iter=2000,\n",
    "                    solver='lbfgs', random_state = 12)"
   ],
   "outputs": [],
   "execution_count": 99
  },
  {
   "cell_type": "code",
   "source": [
    "redes.fit(x_treino, y_treino)"
   ],
   "metadata": {
    "colab": {
     "base_uri": "https://localhost:8080/"
    },
    "id": "KRKO0AVEPP6j",
    "outputId": "ffb7af05-00c9-4c31-b417-1ac26b273b1f",
    "ExecuteTime": {
     "end_time": "2024-05-26T20:36:37.149759Z",
     "start_time": "2024-05-26T20:36:13.122441Z"
    }
   },
   "outputs": [
    {
     "name": "stderr",
     "output_type": "stream",
     "text": [
      "C:\\Users\\Nayan Couto\\.conda\\envs\\POO\\Lib\\site-packages\\sklearn\\neural_network\\_multilayer_perceptron.py:541: ConvergenceWarning: lbfgs failed to converge (status=1):\n",
      "STOP: TOTAL NO. of ITERATIONS REACHED LIMIT.\n",
      "\n",
      "Increase the number of iterations (max_iter) or scale the data as shown in:\n",
      "    https://scikit-learn.org/stable/modules/preprocessing.html\n",
      "  self.n_iter_ = _check_optimize_result(\"lbfgs\", opt_res, self.max_iter)\n"
     ]
    },
    {
     "data": {
      "text/plain": [
       "MLPRegressor(hidden_layer_sizes=(200, 200), max_iter=2000, random_state=12,\n",
       "             solver='lbfgs', verbose=True)"
      ],
      "text/html": [
       "<style>#sk-container-id-12 {color: black;background-color: white;}#sk-container-id-12 pre{padding: 0;}#sk-container-id-12 div.sk-toggleable {background-color: white;}#sk-container-id-12 label.sk-toggleable__label {cursor: pointer;display: block;width: 100%;margin-bottom: 0;padding: 0.3em;box-sizing: border-box;text-align: center;}#sk-container-id-12 label.sk-toggleable__label-arrow:before {content: \"▸\";float: left;margin-right: 0.25em;color: #696969;}#sk-container-id-12 label.sk-toggleable__label-arrow:hover:before {color: black;}#sk-container-id-12 div.sk-estimator:hover label.sk-toggleable__label-arrow:before {color: black;}#sk-container-id-12 div.sk-toggleable__content {max-height: 0;max-width: 0;overflow: hidden;text-align: left;background-color: #f0f8ff;}#sk-container-id-12 div.sk-toggleable__content pre {margin: 0.2em;color: black;border-radius: 0.25em;background-color: #f0f8ff;}#sk-container-id-12 input.sk-toggleable__control:checked~div.sk-toggleable__content {max-height: 200px;max-width: 100%;overflow: auto;}#sk-container-id-12 input.sk-toggleable__control:checked~label.sk-toggleable__label-arrow:before {content: \"▾\";}#sk-container-id-12 div.sk-estimator input.sk-toggleable__control:checked~label.sk-toggleable__label {background-color: #d4ebff;}#sk-container-id-12 div.sk-label input.sk-toggleable__control:checked~label.sk-toggleable__label {background-color: #d4ebff;}#sk-container-id-12 input.sk-hidden--visually {border: 0;clip: rect(1px 1px 1px 1px);clip: rect(1px, 1px, 1px, 1px);height: 1px;margin: -1px;overflow: hidden;padding: 0;position: absolute;width: 1px;}#sk-container-id-12 div.sk-estimator {font-family: monospace;background-color: #f0f8ff;border: 1px dotted black;border-radius: 0.25em;box-sizing: border-box;margin-bottom: 0.5em;}#sk-container-id-12 div.sk-estimator:hover {background-color: #d4ebff;}#sk-container-id-12 div.sk-parallel-item::after {content: \"\";width: 100%;border-bottom: 1px solid gray;flex-grow: 1;}#sk-container-id-12 div.sk-label:hover label.sk-toggleable__label {background-color: #d4ebff;}#sk-container-id-12 div.sk-serial::before {content: \"\";position: absolute;border-left: 1px solid gray;box-sizing: border-box;top: 0;bottom: 0;left: 50%;z-index: 0;}#sk-container-id-12 div.sk-serial {display: flex;flex-direction: column;align-items: center;background-color: white;padding-right: 0.2em;padding-left: 0.2em;position: relative;}#sk-container-id-12 div.sk-item {position: relative;z-index: 1;}#sk-container-id-12 div.sk-parallel {display: flex;align-items: stretch;justify-content: center;background-color: white;position: relative;}#sk-container-id-12 div.sk-item::before, #sk-container-id-12 div.sk-parallel-item::before {content: \"\";position: absolute;border-left: 1px solid gray;box-sizing: border-box;top: 0;bottom: 0;left: 50%;z-index: -1;}#sk-container-id-12 div.sk-parallel-item {display: flex;flex-direction: column;z-index: 1;position: relative;background-color: white;}#sk-container-id-12 div.sk-parallel-item:first-child::after {align-self: flex-end;width: 50%;}#sk-container-id-12 div.sk-parallel-item:last-child::after {align-self: flex-start;width: 50%;}#sk-container-id-12 div.sk-parallel-item:only-child::after {width: 0;}#sk-container-id-12 div.sk-dashed-wrapped {border: 1px dashed gray;margin: 0 0.4em 0.5em 0.4em;box-sizing: border-box;padding-bottom: 0.4em;background-color: white;}#sk-container-id-12 div.sk-label label {font-family: monospace;font-weight: bold;display: inline-block;line-height: 1.2em;}#sk-container-id-12 div.sk-label-container {text-align: center;}#sk-container-id-12 div.sk-container {/* jupyter's `normalize.less` sets `[hidden] { display: none; }` but bootstrap.min.css set `[hidden] { display: none !important; }` so we also need the `!important` here to be able to override the default hidden behavior on the sphinx rendered scikit-learn.org. See: https://github.com/scikit-learn/scikit-learn/issues/21755 */display: inline-block !important;position: relative;}#sk-container-id-12 div.sk-text-repr-fallback {display: none;}</style><div id=\"sk-container-id-12\" class=\"sk-top-container\"><div class=\"sk-text-repr-fallback\"><pre>MLPRegressor(hidden_layer_sizes=(200, 200), max_iter=2000, random_state=12,\n",
       "             solver=&#x27;lbfgs&#x27;, verbose=True)</pre><b>In a Jupyter environment, please rerun this cell to show the HTML representation or trust the notebook. <br />On GitHub, the HTML representation is unable to render, please try loading this page with nbviewer.org.</b></div><div class=\"sk-container\" hidden><div class=\"sk-item\"><div class=\"sk-estimator sk-toggleable\"><input class=\"sk-toggleable__control sk-hidden--visually\" id=\"sk-estimator-id-12\" type=\"checkbox\" checked><label for=\"sk-estimator-id-12\" class=\"sk-toggleable__label sk-toggleable__label-arrow\">MLPRegressor</label><div class=\"sk-toggleable__content\"><pre>MLPRegressor(hidden_layer_sizes=(200, 200), max_iter=2000, random_state=12,\n",
       "             solver=&#x27;lbfgs&#x27;, verbose=True)</pre></div></div></div></div></div>"
      ]
     },
     "execution_count": 100,
     "metadata": {},
     "output_type": "execute_result"
    }
   ],
   "execution_count": 100
  },
  {
   "cell_type": "code",
   "metadata": {
    "id": "2k8wuWqC0kZ9",
    "colab": {
     "base_uri": "https://localhost:8080/"
    },
    "outputId": "ec3f0b1d-027c-4ef4-c3d1-c055131d57e9",
    "ExecuteTime": {
     "end_time": "2024-05-26T20:36:40.324843Z",
     "start_time": "2024-05-26T20:36:40.316377Z"
    }
   },
   "source": [
    "redes.n_layers_"
   ],
   "outputs": [
    {
     "data": {
      "text/plain": [
       "4"
      ]
     },
     "execution_count": 101,
     "metadata": {},
     "output_type": "execute_result"
    }
   ],
   "execution_count": 101
  },
  {
   "cell_type": "code",
   "metadata": {
    "id": "YGYQw_tmXtle",
    "colab": {
     "base_uri": "https://localhost:8080/"
    },
    "outputId": "6b4f2fb0-ebe1-45c8-85f9-2fe020405549",
    "ExecuteTime": {
     "end_time": "2024-05-26T20:36:41.339677Z",
     "start_time": "2024-05-26T20:36:41.327990Z"
    }
   },
   "source": [
    "redes.score(x_treino, y_treino)"
   ],
   "outputs": [
    {
     "data": {
      "text/plain": [
       "0.8611555223495078"
      ]
     },
     "execution_count": 102,
     "metadata": {},
     "output_type": "execute_result"
    }
   ],
   "execution_count": 102
  },
  {
   "cell_type": "markdown",
   "source": [
    "## **TESTE**"
   ],
   "metadata": {
    "id": "Ag0SWRYdLZ3w"
   }
  },
  {
   "cell_type": "code",
   "metadata": {
    "colab": {
     "base_uri": "https://localhost:8080/"
    },
    "outputId": "cc5dda25-99b7-4509-fab2-51d6774003c9",
    "id": "gPggEGb0LZ3w",
    "ExecuteTime": {
     "end_time": "2024-05-26T20:36:43.239777Z",
     "start_time": "2024-05-26T20:36:43.227183Z"
    }
   },
   "source": [
    "redes.score(x_teste, y_teste)"
   ],
   "outputs": [
    {
     "data": {
      "text/plain": [
       "0.808920315601159"
      ]
     },
     "execution_count": 103,
     "metadata": {},
     "output_type": "execute_result"
    }
   ],
   "execution_count": 103
  },
  {
   "cell_type": "code",
   "metadata": {
    "id": "LZ7WLVF4LZ3x",
    "ExecuteTime": {
     "end_time": "2024-05-26T20:36:44.491242Z",
     "start_time": "2024-05-26T20:36:44.484127Z"
    }
   },
   "source": [
    "previsoes_teste = redes.predict(x_teste)"
   ],
   "outputs": [],
   "execution_count": 104
  },
  {
   "cell_type": "markdown",
   "source": [
    "## **MÉTRICAS**"
   ],
   "metadata": {
    "id": "eupiQ6n9LZ3y"
   }
  },
  {
   "cell_type": "code",
   "metadata": {
    "id": "mNFhiP0nLZ3z",
    "ExecuteTime": {
     "end_time": "2024-05-26T20:36:46.151942Z",
     "start_time": "2024-05-26T20:36:46.146085Z"
    }
   },
   "source": [
    "from sklearn.metrics import mean_absolute_error, mean_squared_error"
   ],
   "outputs": [],
   "execution_count": 105
  },
  {
   "cell_type": "code",
   "metadata": {
    "colab": {
     "base_uri": "https://localhost:8080/"
    },
    "outputId": "715a0e34-6697-4860-f5f0-b2a3b76b5d59",
    "id": "ptcF4Z3QLZ3z",
    "ExecuteTime": {
     "end_time": "2024-05-26T20:36:46.866308Z",
     "start_time": "2024-05-26T20:36:46.857265Z"
    }
   },
   "source": [
    "# Erro médio Absoluto\n",
    "mean_absolute_error(y_teste, previsoes_teste)"
   ],
   "outputs": [
    {
     "data": {
      "text/plain": [
       "56816.70326726268"
      ]
     },
     "execution_count": 106,
     "metadata": {},
     "output_type": "execute_result"
    }
   ],
   "execution_count": 106
  },
  {
   "cell_type": "code",
   "metadata": {
    "colab": {
     "base_uri": "https://localhost:8080/"
    },
    "outputId": "bd40b988-9c78-42a0-8689-43456c4925d1",
    "id": "UW9rH3WyLZ30",
    "ExecuteTime": {
     "end_time": "2024-05-26T20:37:01.885802Z",
     "start_time": "2024-05-26T20:37:01.874162Z"
    }
   },
   "source": [
    "# Raiz do erro quadrático médio (RMSE)\n",
    "np.sqrt(mean_squared_error(y_teste, previsoes_teste))"
   ],
   "outputs": [
    {
     "data": {
      "text/plain": [
       "74457.84444087482"
      ]
     },
     "execution_count": 108,
     "metadata": {},
     "output_type": "execute_result"
    }
   ],
   "execution_count": 108
  },
  {
   "cell_type": "markdown",
   "source": [
    "### **Validação Cruzada**"
   ],
   "metadata": {
    "id": "mopLhYaKLZ31"
   }
  },
  {
   "cell_type": "code",
   "source": [
    "from sklearn.model_selection import KFold\n",
    "from sklearn.model_selection import cross_val_score"
   ],
   "metadata": {
    "id": "EW9FdkEELZ31",
    "ExecuteTime": {
     "end_time": "2024-05-26T20:37:03.418578Z",
     "start_time": "2024-05-26T20:37:03.413451Z"
    }
   },
   "outputs": [],
   "execution_count": 109
  },
  {
   "cell_type": "code",
   "source": [
    "# Separando os dados em folds\n",
    "kfold = KFold(n_splits = 12, shuffle=True, random_state = 5)"
   ],
   "metadata": {
    "id": "-duD4L-4LZ32",
    "ExecuteTime": {
     "end_time": "2024-05-26T20:37:06.414326Z",
     "start_time": "2024-05-26T20:37:06.408470Z"
    }
   },
   "outputs": [],
   "execution_count": 110
  },
  {
   "cell_type": "code",
   "source": [
    "# Criando o modelo\n",
    "from sklearn.neural_network import MLPRegressor\n",
    "modelo = MLPRegressor(hidden_layer_sizes=(200, 200), activation='relu', verbose=True, max_iter=2000,\n",
    "                    solver='lbfgs', random_state = 12)\n",
    "resultado = cross_val_score(modelo, independente, dependente, cv = kfold)\n",
    "resultado"
   ],
   "metadata": {
    "colab": {
     "base_uri": "https://localhost:8080/"
    },
    "outputId": "36123536-1c75-48d6-9f12-ed77a1d02a06",
    "id": "KTJuA6GpLZ32",
    "ExecuteTime": {
     "end_time": "2024-05-26T20:43:15.279448Z",
     "start_time": "2024-05-26T20:37:33.350616Z"
    }
   },
   "outputs": [
    {
     "name": "stderr",
     "output_type": "stream",
     "text": [
      "C:\\Users\\Nayan Couto\\.conda\\envs\\POO\\Lib\\site-packages\\sklearn\\neural_network\\_multilayer_perceptron.py:541: ConvergenceWarning: lbfgs failed to converge (status=1):\n",
      "STOP: TOTAL NO. of ITERATIONS REACHED LIMIT.\n",
      "\n",
      "Increase the number of iterations (max_iter) or scale the data as shown in:\n",
      "    https://scikit-learn.org/stable/modules/preprocessing.html\n",
      "  self.n_iter_ = _check_optimize_result(\"lbfgs\", opt_res, self.max_iter)\n",
      "C:\\Users\\Nayan Couto\\.conda\\envs\\POO\\Lib\\site-packages\\sklearn\\neural_network\\_multilayer_perceptron.py:541: ConvergenceWarning: lbfgs failed to converge (status=1):\n",
      "STOP: TOTAL NO. of ITERATIONS REACHED LIMIT.\n",
      "\n",
      "Increase the number of iterations (max_iter) or scale the data as shown in:\n",
      "    https://scikit-learn.org/stable/modules/preprocessing.html\n",
      "  self.n_iter_ = _check_optimize_result(\"lbfgs\", opt_res, self.max_iter)\n",
      "C:\\Users\\Nayan Couto\\.conda\\envs\\POO\\Lib\\site-packages\\sklearn\\neural_network\\_multilayer_perceptron.py:541: ConvergenceWarning: lbfgs failed to converge (status=1):\n",
      "STOP: TOTAL NO. of ITERATIONS REACHED LIMIT.\n",
      "\n",
      "Increase the number of iterations (max_iter) or scale the data as shown in:\n",
      "    https://scikit-learn.org/stable/modules/preprocessing.html\n",
      "  self.n_iter_ = _check_optimize_result(\"lbfgs\", opt_res, self.max_iter)\n",
      "C:\\Users\\Nayan Couto\\.conda\\envs\\POO\\Lib\\site-packages\\sklearn\\neural_network\\_multilayer_perceptron.py:541: ConvergenceWarning: lbfgs failed to converge (status=1):\n",
      "STOP: TOTAL NO. of ITERATIONS REACHED LIMIT.\n",
      "\n",
      "Increase the number of iterations (max_iter) or scale the data as shown in:\n",
      "    https://scikit-learn.org/stable/modules/preprocessing.html\n",
      "  self.n_iter_ = _check_optimize_result(\"lbfgs\", opt_res, self.max_iter)\n",
      "C:\\Users\\Nayan Couto\\.conda\\envs\\POO\\Lib\\site-packages\\sklearn\\neural_network\\_multilayer_perceptron.py:541: ConvergenceWarning: lbfgs failed to converge (status=1):\n",
      "STOP: TOTAL NO. of ITERATIONS REACHED LIMIT.\n",
      "\n",
      "Increase the number of iterations (max_iter) or scale the data as shown in:\n",
      "    https://scikit-learn.org/stable/modules/preprocessing.html\n",
      "  self.n_iter_ = _check_optimize_result(\"lbfgs\", opt_res, self.max_iter)\n",
      "C:\\Users\\Nayan Couto\\.conda\\envs\\POO\\Lib\\site-packages\\sklearn\\neural_network\\_multilayer_perceptron.py:541: ConvergenceWarning: lbfgs failed to converge (status=1):\n",
      "STOP: TOTAL NO. of ITERATIONS REACHED LIMIT.\n",
      "\n",
      "Increase the number of iterations (max_iter) or scale the data as shown in:\n",
      "    https://scikit-learn.org/stable/modules/preprocessing.html\n",
      "  self.n_iter_ = _check_optimize_result(\"lbfgs\", opt_res, self.max_iter)\n",
      "C:\\Users\\Nayan Couto\\.conda\\envs\\POO\\Lib\\site-packages\\sklearn\\neural_network\\_multilayer_perceptron.py:541: ConvergenceWarning: lbfgs failed to converge (status=1):\n",
      "STOP: TOTAL NO. of ITERATIONS REACHED LIMIT.\n",
      "\n",
      "Increase the number of iterations (max_iter) or scale the data as shown in:\n",
      "    https://scikit-learn.org/stable/modules/preprocessing.html\n",
      "  self.n_iter_ = _check_optimize_result(\"lbfgs\", opt_res, self.max_iter)\n",
      "C:\\Users\\Nayan Couto\\.conda\\envs\\POO\\Lib\\site-packages\\sklearn\\neural_network\\_multilayer_perceptron.py:541: ConvergenceWarning: lbfgs failed to converge (status=1):\n",
      "STOP: TOTAL NO. of ITERATIONS REACHED LIMIT.\n",
      "\n",
      "Increase the number of iterations (max_iter) or scale the data as shown in:\n",
      "    https://scikit-learn.org/stable/modules/preprocessing.html\n",
      "  self.n_iter_ = _check_optimize_result(\"lbfgs\", opt_res, self.max_iter)\n",
      "C:\\Users\\Nayan Couto\\.conda\\envs\\POO\\Lib\\site-packages\\sklearn\\neural_network\\_multilayer_perceptron.py:541: ConvergenceWarning: lbfgs failed to converge (status=1):\n",
      "STOP: TOTAL NO. of ITERATIONS REACHED LIMIT.\n",
      "\n",
      "Increase the number of iterations (max_iter) or scale the data as shown in:\n",
      "    https://scikit-learn.org/stable/modules/preprocessing.html\n",
      "  self.n_iter_ = _check_optimize_result(\"lbfgs\", opt_res, self.max_iter)\n",
      "C:\\Users\\Nayan Couto\\.conda\\envs\\POO\\Lib\\site-packages\\sklearn\\neural_network\\_multilayer_perceptron.py:541: ConvergenceWarning: lbfgs failed to converge (status=1):\n",
      "STOP: TOTAL NO. of ITERATIONS REACHED LIMIT.\n",
      "\n",
      "Increase the number of iterations (max_iter) or scale the data as shown in:\n",
      "    https://scikit-learn.org/stable/modules/preprocessing.html\n",
      "  self.n_iter_ = _check_optimize_result(\"lbfgs\", opt_res, self.max_iter)\n",
      "C:\\Users\\Nayan Couto\\.conda\\envs\\POO\\Lib\\site-packages\\sklearn\\neural_network\\_multilayer_perceptron.py:541: ConvergenceWarning: lbfgs failed to converge (status=1):\n",
      "STOP: TOTAL NO. of ITERATIONS REACHED LIMIT.\n",
      "\n",
      "Increase the number of iterations (max_iter) or scale the data as shown in:\n",
      "    https://scikit-learn.org/stable/modules/preprocessing.html\n",
      "  self.n_iter_ = _check_optimize_result(\"lbfgs\", opt_res, self.max_iter)\n",
      "C:\\Users\\Nayan Couto\\.conda\\envs\\POO\\Lib\\site-packages\\sklearn\\neural_network\\_multilayer_perceptron.py:541: ConvergenceWarning: lbfgs failed to converge (status=1):\n",
      "STOP: TOTAL NO. of ITERATIONS REACHED LIMIT.\n",
      "\n",
      "Increase the number of iterations (max_iter) or scale the data as shown in:\n",
      "    https://scikit-learn.org/stable/modules/preprocessing.html\n",
      "  self.n_iter_ = _check_optimize_result(\"lbfgs\", opt_res, self.max_iter)\n"
     ]
    },
    {
     "data": {
      "text/plain": [
       "array([0.88358143, 0.87640335, 0.82605385, 0.79171526, 0.69660486,\n",
       "       0.81701647, 0.69927824, 0.79936669, 0.75159404, 0.71544901,\n",
       "       0.83151711, 0.67688294])"
      ]
     },
     "execution_count": 111,
     "metadata": {},
     "output_type": "execute_result"
    }
   ],
   "execution_count": 111
  },
  {
   "cell_type": "code",
   "source": [
    "# Usamos a média e o desvio padrão\n",
    "print(\"R²: %.2f%%\" % (resultado.mean() * 100.0))"
   ],
   "metadata": {
    "colab": {
     "base_uri": "https://localhost:8080/"
    },
    "outputId": "be01f279-0750-4a60-d282-818176eab175",
    "id": "6OLrwVIQLZ33",
    "ExecuteTime": {
     "end_time": "2024-05-26T20:45:43.889204Z",
     "start_time": "2024-05-26T20:45:43.882771Z"
    }
   },
   "outputs": [
    {
     "name": "stdout",
     "output_type": "stream",
     "text": [
      "R²: 78.05%\n"
     ]
    }
   ],
   "execution_count": 113
  },
  {
   "cell_type": "markdown",
   "source": [
    "## **RESULTADOS**"
   ],
   "metadata": {
    "id": "B0U27J9MahlK"
   }
  },
  {
   "cell_type": "markdown",
   "source": [
    "**REGRESSÃO LINEAR SIMPLES:** R^2 = 0,57/0,60; RMSE = 99315,5; R^2 Validação Cruzada: 55,97%\n",
    "\n",
    "**REGRESSÃO LINEAR MÚLTIPLA:** R^2 = 0,73/0,68; RMSE = 96087,3; R^2 Validação Cruzada: 69,25%\n",
    "\n",
    "**REGRESSÃO POLINOMIAL:** R^2 = 0,59/0,54; RMSE = 114670,6.\n",
    "\n",
    "**REGRESSÃO SVR:** R^2 = 0,87/0,81; RMSE = 73422,7. R^2 Validação Cruzada: 82,37%.\n",
    "\n",
    "**REGRESSÃO ÁRVORE DE DECISÃO:** R^2 = 0,91/0,83; RMSE = 71114,5. R^2 Validação Cruzada: 74,60%.\n",
    "\n",
    "**REGRESSÃO COM RANDOM FOREST:** R^2 = 0,92/0,85; RMSE = 66729,3. R^2 Validação Cruzada: 82,85%.\n",
    "\n",
    "**REGRESSÃO COM XGBOOST:** R^2 = 0,93/0,84; RMSE = 67788,8. R^2 Validação Cruzada: 83,22%.\n",
    "\n",
    "**REGRESSÃO COM LIGHT GBM:** R^2 = 0,88/0,82; RMSE = 71906,4. R^2 Validação Cruzada: 82,38%.\n",
    "\n",
    "**REGRESSÃO COM CATBOOST:** R^2 = 0,90/0,84; RMSE = 69053,3 R^2 Validação Cruzada: 83,40%.\n",
    "\n",
    "**REGRESSÃO COM REDES NEURAIS:** R^2 = 0,86/0,81; RMSE = 74457,9. R^2 Validação Cruzada: 78,05%."
   ],
   "metadata": {
    "id": "y4gwkctLLZ33"
   }
  },
  {
   "cell_type": "markdown",
   "source": [
    "## **Padronização de escala**"
   ],
   "metadata": {
    "id": "i0tdnZNhxRDj"
   }
  },
  {
   "cell_type": "code",
   "source": [
    "from sklearn.preprocessing import StandardScaler\n",
    "x_scaler = StandardScaler()\n",
    "x_treino_scaler = x_scaler.fit_transform(x_treino)"
   ],
   "metadata": {
    "id": "vIgPmXt8xRtk",
    "ExecuteTime": {
     "end_time": "2024-05-26T20:46:14.447077Z",
     "start_time": "2024-05-26T20:46:14.419855Z"
    }
   },
   "outputs": [],
   "execution_count": 114
  },
  {
   "cell_type": "code",
   "source": [
    "x_treino_scaler"
   ],
   "metadata": {
    "colab": {
     "base_uri": "https://localhost:8080/"
    },
    "id": "fc4OD6JdyVks",
    "outputId": "41c33899-5321-4664-a8f8-a54fe16b7f2d",
    "ExecuteTime": {
     "end_time": "2024-05-26T20:46:17.072033Z",
     "start_time": "2024-05-26T20:46:17.061611Z"
    }
   },
   "outputs": [
    {
     "data": {
      "text/plain": [
       "array([[ 0.05327517, -0.70150711, -0.05467118],\n",
       "       [ 1.12799963, -0.44487061, -0.52922816],\n",
       "       [ 0.60711128, -0.79792304,  0.230063  ],\n",
       "       ...,\n",
       "       [-0.33111532, -0.36121561, -0.33940537],\n",
       "       [-0.31699486,  0.84398345, -0.29194967],\n",
       "       [-0.33268427, -0.38815536, -0.90887374]])"
      ]
     },
     "execution_count": 115,
     "metadata": {},
     "output_type": "execute_result"
    }
   ],
   "execution_count": 115
  },
  {
   "cell_type": "code",
   "source": [
    "y_scaler = StandardScaler()\n",
    "y_treino_scaler = y_scaler.fit_transform(y_treino.reshape(-1,1))"
   ],
   "metadata": {
    "id": "wyKhCzqexRy0",
    "ExecuteTime": {
     "end_time": "2024-05-26T20:51:47.148286Z",
     "start_time": "2024-05-26T20:51:47.138518Z"
    }
   },
   "outputs": [],
   "execution_count": 116
  },
  {
   "cell_type": "code",
   "source": [
    "y_treino_scaler"
   ],
   "metadata": {
    "id": "uyOhdquuyb2D",
    "ExecuteTime": {
     "end_time": "2024-05-26T20:51:49.581296Z",
     "start_time": "2024-05-26T20:51:49.565819Z"
    }
   },
   "outputs": [
    {
     "data": {
      "text/plain": [
       "array([[-1.05925606e-02],\n",
       "       [ 6.46900118e-01],\n",
       "       [ 2.85923746e-01],\n",
       "       [-1.13728667e-01],\n",
       "       [ 1.44111599e-01],\n",
       "       [-7.84113359e-01],\n",
       "       [-1.24822584e+00],\n",
       "       [-2.81324840e-01],\n",
       "       [-1.39512694e-01],\n",
       "       [-1.01616960e+00],\n",
       "       [ 2.00056152e+00],\n",
       "       [ 1.21414870e+00],\n",
       "       [ 1.27860877e+00],\n",
       "       [-1.52404707e-01],\n",
       "       [ 9.04740384e-01],\n",
       "       [ 2.29945267e-03],\n",
       "       [-2.81324840e-01],\n",
       "       [ 2.73031732e-01],\n",
       "       [-2.81324840e-01],\n",
       "       [ 2.73031732e-01],\n",
       "       [ 4.27735892e-01],\n",
       "       [ 2.60139719e-01],\n",
       "       [-1.06773765e+00],\n",
       "       [-1.17087376e+00],\n",
       "       [ 3.49603506e+00],\n",
       "       [ 9.04740384e-01],\n",
       "       [-2.07331469e+00],\n",
       "       [ 1.69895626e-01],\n",
       "       [ 4.27735892e-01],\n",
       "       [ 2.76119030e+00],\n",
       "       [-3.45784907e-01],\n",
       "       [ 2.73031732e-01],\n",
       "       [-1.48028208e+00],\n",
       "       [ 1.57003612e-01],\n",
       "       [-1.91080747e-01],\n",
       "       [-1.01616960e+00],\n",
       "       [ 3.37491799e-01],\n",
       "       [-2.34845740e-02],\n",
       "       [ 1.91031742e+00],\n",
       "       [ 3.37491799e-01],\n",
       "       [-5.26273093e-01],\n",
       "       [ 6.67595192e-02],\n",
       "       [-8.74357452e-01],\n",
       "       [-2.94216853e-01],\n",
       "       [-1.11930571e+00],\n",
       "       [-3.84460947e-01],\n",
       "       [-9.90385572e-01],\n",
       "       [ 6.21116092e-01],\n",
       "       [-1.69944630e+00],\n",
       "       [ 1.67826118e+00],\n",
       "       [-1.82836644e+00],\n",
       "       [-5.39165106e-01],\n",
       "       [-7.84113359e-01],\n",
       "       [ 2.60139719e-01],\n",
       "       [ 1.38174488e+00],\n",
       "       [-1.15798175e+00],\n",
       "       [-4.10244973e-01],\n",
       "       [ 4.01951865e-01],\n",
       "       [-3.07108867e-01],\n",
       "       [-9.77493559e-01],\n",
       "       [-2.15066677e+00],\n",
       "       [ 2.33575386e+00],\n",
       "       [-2.94216853e-01],\n",
       "       [-6.21606139e-02],\n",
       "       [ 1.82787639e-01],\n",
       "       [-1.06773765e+00],\n",
       "       [ 4.09754926e-02],\n",
       "       [ 1.95679652e-01],\n",
       "       [-3.71568933e-01],\n",
       "       [ 7.50036225e-01],\n",
       "       [ 1.42042092e+00],\n",
       "       [ 1.82787639e-01],\n",
       "       [-5.52057120e-01],\n",
       "       [ 1.49777300e+00],\n",
       "       [ 3.11707772e-01],\n",
       "       [ 1.02076850e+00],\n",
       "       [-7.71221346e-01],\n",
       "       [ 1.95679652e-01],\n",
       "       [-2.03972760e-01],\n",
       "       [-1.08062967e+00],\n",
       "       [-1.33846993e+00],\n",
       "       [ 1.31219586e-01],\n",
       "       [-4.23136987e-01],\n",
       "       [-1.10641369e+00],\n",
       "       [ 4.27735892e-01],\n",
       "       [ 4.27735892e-01],\n",
       "       [-1.05484564e+00],\n",
       "       [-6.21606139e-02],\n",
       "       [ 2.19394172e+00],\n",
       "       [ 6.34008105e-01],\n",
       "       [-7.32545306e-01],\n",
       "       [-3.32892893e-01],\n",
       "       [ 3.50383812e-01],\n",
       "       [ 3.76167839e-01],\n",
       "       [ 1.74272125e+00],\n",
       "       [ 9.25435458e-02],\n",
       "       [-4.36029000e-01],\n",
       "       [-9.51709532e-01],\n",
       "       [-4.10244973e-01],\n",
       "       [-2.42648800e-01],\n",
       "       [-1.31268591e+00],\n",
       "       [ 2.05212957e+00],\n",
       "       [-2.16864774e-01],\n",
       "       [-8.61465439e-01],\n",
       "       [ 4.53519919e-01],\n",
       "       [ 1.85874937e+00],\n",
       "       [ 2.21463679e-01],\n",
       "       [-5.90733160e-01],\n",
       "       [-6.21606139e-02],\n",
       "       [-3.58676920e-01],\n",
       "       [ 2.85923746e-01],\n",
       "       [-8.79446405e-02],\n",
       "       [ 2.80834793e-02],\n",
       "       [ 8.01604278e-01],\n",
       "       [-8.35681413e-01],\n",
       "       [ 2.98035453e+00],\n",
       "       [-8.87249466e-01],\n",
       "       [-1.39512694e-01],\n",
       "       [-1.78188734e-01],\n",
       "       [-1.10641369e+00],\n",
       "       [-3.45784907e-01],\n",
       "       [-3.32892893e-01],\n",
       "       [-1.08062967e+00],\n",
       "       [ 1.69895626e-01],\n",
       "       [-2.03972760e-01],\n",
       "       [-4.48921013e-01],\n",
       "       [ 1.57003612e-01],\n",
       "       [-1.39512694e-01],\n",
       "       [ 7.50036225e-01],\n",
       "       [-7.19653293e-01],\n",
       "       [ 9.56308438e-01],\n",
       "       [ 2.29945267e-03],\n",
       "       [-3.07108867e-01],\n",
       "       [ 6.67595192e-02],\n",
       "       [-1.26620680e-01],\n",
       "       [ 4.09754926e-02],\n",
       "       [-7.84113359e-01],\n",
       "       [ 1.08522857e+00],\n",
       "       [ 1.29150078e+00],\n",
       "       [-9.51709532e-01],\n",
       "       [ 1.44111599e-01],\n",
       "       [-5.52057120e-01],\n",
       "       [-1.72523033e+00],\n",
       "       [-1.23533383e+00],\n",
       "       [ 1.70404521e+00],\n",
       "       [ 4.09754926e-02],\n",
       "       [-2.29756787e-01],\n",
       "       [-1.78188734e-01],\n",
       "       [-8.79446405e-02],\n",
       "       [ 1.82787639e-01],\n",
       "       [-1.65296720e-01],\n",
       "       [ 1.05435559e-01],\n",
       "       [-1.45449805e+00],\n",
       "       [-6.29409200e-01],\n",
       "       [ 4.40627905e-01],\n",
       "       [ 1.31219586e-01],\n",
       "       [ 1.57003612e-01],\n",
       "       [ 2.85923746e-01],\n",
       "       [-3.63765873e-02],\n",
       "       [ 2.29945267e-03],\n",
       "       [-8.09897386e-01],\n",
       "       [-8.22789399e-01],\n",
       "       [ 1.82787639e-01],\n",
       "       [ 2.85923746e-01],\n",
       "       [-2.94216853e-01],\n",
       "       [-5.00489066e-01],\n",
       "       [-5.00489066e-01],\n",
       "       [-4.10244973e-01],\n",
       "       [-7.50526272e-02],\n",
       "       [-1.13728667e-01],\n",
       "       [-3.07108867e-01],\n",
       "       [-5.77841146e-01],\n",
       "       [ 2.87721842e+00],\n",
       "       [-1.15798175e+00],\n",
       "       [-4.48921013e-01],\n",
       "       [ 8.40280318e-01],\n",
       "       [ 1.72982924e+00],\n",
       "       [ 9.43416424e-01],\n",
       "       [-1.54474214e+00],\n",
       "       [ 1.51066501e+00],\n",
       "       [ 1.08522857e+00],\n",
       "       [-3.63765873e-02],\n",
       "       [ 2.01345353e+00],\n",
       "       [-1.78188734e-01],\n",
       "       [-1.13728667e-01],\n",
       "       [ 1.70404521e+00],\n",
       "       [-1.66077026e+00],\n",
       "       [ 1.51914660e-02],\n",
       "       [-2.03972760e-01],\n",
       "       [ 8.66064344e-01],\n",
       "       [-1.40293000e+00],\n",
       "       [ 1.33017682e+00],\n",
       "       [-9.77493559e-01],\n",
       "       [ 8.14496291e-01],\n",
       "       [ 1.82787639e-01],\n",
       "       [ 2.81275835e+00],\n",
       "       [-3.58676920e-01],\n",
       "       [-1.39003798e+00],\n",
       "       [ 1.05435559e-01],\n",
       "       [ 1.48488098e+00],\n",
       "       [-2.16864774e-01],\n",
       "       [-3.32892893e-01],\n",
       "       [ 2.08571666e-01],\n",
       "       [ 6.34008105e-01],\n",
       "       [ 3.05770661e+00],\n",
       "       [-2.55540814e-01],\n",
       "       [ 2.08571666e-01],\n",
       "       [-1.55763416e+00],\n",
       "       [-1.69944630e+00],\n",
       "       [-1.28690188e+00],\n",
       "       [-5.64949133e-01],\n",
       "       [ 3.37491799e-01],\n",
       "       [ 6.67595192e-02],\n",
       "       [-1.86704248e+00],\n",
       "       [-3.20000880e-01],\n",
       "       [ 1.89742541e+00],\n",
       "       [-9.25925506e-01],\n",
       "       [ 3.89059852e-01],\n",
       "       [ 2.98815759e-01],\n",
       "       [ 3.50383812e-01],\n",
       "       [-1.28690188e+00],\n",
       "       [ 2.85143439e+00],\n",
       "       [ 4.27735892e-01],\n",
       "       [-7.06761279e-01],\n",
       "       [ 1.51914660e-02],\n",
       "       [ 2.09080561e+00],\n",
       "       [-1.44160604e+00],\n",
       "       [ 1.44111599e-01],\n",
       "       [-1.39512694e-01],\n",
       "       [ 1.95679652e-01],\n",
       "       [ 8.66064344e-01],\n",
       "       [-1.06773765e+00],\n",
       "       [ 2.47247706e-01],\n",
       "       [-1.00836654e-01],\n",
       "       [-5.00489066e-01],\n",
       "       [-9.38817519e-01],\n",
       "       [-3.97352960e-01],\n",
       "       [-8.48573426e-01],\n",
       "       [ 2.60139719e-01],\n",
       "       [ 8.78956358e-01],\n",
       "       [ 2.98815759e-01],\n",
       "       [-5.00489066e-01],\n",
       "       [-7.84113359e-01],\n",
       "       [-5.39165106e-01],\n",
       "       [ 6.08224078e-01],\n",
       "       [-1.01616960e+00],\n",
       "       [-2.68432827e-01],\n",
       "       [-1.15798175e+00],\n",
       "       [ 4.09754926e-02],\n",
       "       [ 3.50383812e-01],\n",
       "       [-7.50526272e-02],\n",
       "       [ 2.29945267e-03],\n",
       "       [ 2.85923746e-01],\n",
       "       [-1.78188734e-01],\n",
       "       [-8.35681413e-01],\n",
       "       [-4.23136987e-01],\n",
       "       [-3.32892893e-01],\n",
       "       [-5.13381080e-01],\n",
       "       [-1.86704248e+00],\n",
       "       [ 4.09754926e-02],\n",
       "       [ 4.01951865e-01],\n",
       "       [ 1.47198897e+00],\n",
       "       [-3.07108867e-01],\n",
       "       [-8.61465439e-01],\n",
       "       [ 6.08224078e-01],\n",
       "       [ 1.27860877e+00],\n",
       "       [-2.94216853e-01],\n",
       "       [ 1.16258065e+00],\n",
       "       [-1.01616960e+00],\n",
       "       [-8.74357452e-01],\n",
       "       [ 4.66411932e-01],\n",
       "       [-2.81324840e-01],\n",
       "       [-2.15066677e+00],\n",
       "       [-2.68432827e-01],\n",
       "       [ 1.35596085e+00],\n",
       "       [-7.19653293e-01],\n",
       "       [ 3.89059852e-01],\n",
       "       [-1.26111785e+00],\n",
       "       [ 2.21463679e-01],\n",
       "       [-1.67366228e+00],\n",
       "       [-1.27400987e+00],\n",
       "       [-4.74705040e-01],\n",
       "       [ 4.09754926e-02],\n",
       "       [-4.23136987e-01],\n",
       "       [ 1.04655253e+00],\n",
       "       [-1.84125845e+00],\n",
       "       [ 2.73031732e-01],\n",
       "       [-2.68432827e-01],\n",
       "       [ 1.02076850e+00],\n",
       "       [-2.16864774e-01],\n",
       "       [-9.25925506e-01],\n",
       "       [-1.09352168e+00],\n",
       "       [-7.06761279e-01],\n",
       "       [ 1.97477749e+00],\n",
       "       [-6.42301213e-01],\n",
       "       [ 9.43416424e-01],\n",
       "       [-1.44160604e+00],\n",
       "       [-1.86704248e+00],\n",
       "       [-1.91080747e-01],\n",
       "       [-9.13033492e-01],\n",
       "       [ 6.98468171e-01],\n",
       "       [ 1.04655253e+00],\n",
       "       [ 1.87164138e+00],\n",
       "       [ 1.48488098e+00],\n",
       "       [ 6.34008105e-01],\n",
       "       [-2.29756787e-01],\n",
       "       [-9.77493559e-01],\n",
       "       [-5.77841146e-01],\n",
       "       [ 3.45735902e+00],\n",
       "       [ 4.01951865e-01],\n",
       "       [-4.36029000e-01],\n",
       "       [-9.64601546e-01],\n",
       "       [ 1.33017682e+00],\n",
       "       [ 1.44111599e-01],\n",
       "       [ 1.22704072e+00],\n",
       "       [-1.00327759e+00],\n",
       "       [ 7.96515325e-02],\n",
       "       [ 3.63275825e-01],\n",
       "       [-1.75101436e+00],\n",
       "       [ 1.05944454e+00],\n",
       "       [-2.03972760e-01],\n",
       "       [ 1.17547266e+00],\n",
       "       [ 1.70404521e+00],\n",
       "       [ 3.76167839e-01],\n",
       "       [-6.93869266e-01],\n",
       "       [ 2.47247706e-01],\n",
       "       [-1.89282650e+00],\n",
       "       [ 3.24599785e-01],\n",
       "       [ 6.67595192e-02],\n",
       "       [ 1.47198897e+00],\n",
       "       [ 3.50383812e-01],\n",
       "       [ 7.96515325e-02],\n",
       "       [-2.34845740e-02],\n",
       "       [-3.58676920e-01],\n",
       "       [-1.00327759e+00],\n",
       "       [ 3.11707772e-01],\n",
       "       [ 1.56223306e+00],\n",
       "       [-1.26620680e-01],\n",
       "       [ 1.66536917e+00],\n",
       "       [-3.20000880e-01],\n",
       "       [-6.55193226e-01],\n",
       "       [ 1.95679652e-01]])"
      ]
     },
     "execution_count": 117,
     "metadata": {},
     "output_type": "execute_result"
    }
   ],
   "execution_count": 117
  },
  {
   "cell_type": "code",
   "source": [
    "x_teste_scaler = x_scaler.transform(x_teste)\n",
    "x_teste_scaler"
   ],
   "metadata": {
    "id": "IsHYG6i7ygdg",
    "ExecuteTime": {
     "end_time": "2024-05-26T20:51:59.972119Z",
     "start_time": "2024-05-26T20:51:59.957559Z"
    }
   },
   "outputs": [
    {
     "data": {
      "text/plain": [
       "array([[-6.24507256e-01, -6.20687880e-01,  1.17917695e+00],\n",
       "       [ 9.56985082e-01, -8.43295235e-01, -2.61727885e+00],\n",
       "       [-1.30072075e+00,  1.98112421e+00, -1.81053199e+00],\n",
       "       [ 9.72674490e-01,  9.82935809e-01,  7.99531373e-01],\n",
       "       [ 2.90185237e-01, -5.72479917e-01, -3.39405369e-01],\n",
       "       [ 2.72926888e-01,  9.46070896e-01,  7.99531373e-01],\n",
       "       [-2.08519115e+00,  2.33134087e+00, -1.81053199e+00],\n",
       "       [-1.88341711e-01, -2.51777567e-02,  7.99531373e-01],\n",
       "       [-1.08325729e-01, -2.13755962e-01, -2.44493974e-01],\n",
       "       [-4.18976010e-01,  1.39296468e-01,  1.17917695e+00],\n",
       "       [-1.41892805e-02,  1.26651206e+00,  7.99531373e-01],\n",
       "       [-6.19800434e-01,  4.03022379e-01,  7.99531373e-01],\n",
       "       [-2.99736508e-01, -7.29864736e-01,  5.14797187e-01],\n",
       "       [-2.51664988e+00,  3.05162455e+00,  7.99531373e-01],\n",
       "       [ 7.76556889e-01, -4.85989161e-01,  1.13172126e+00],\n",
       "       [-7.45315699e-01,  6.32719141e-01,  1.27408835e+00],\n",
       "       [ 7.36714050e-02, -1.24429444e-01,  8.76959090e-02],\n",
       "       [ 4.36096733e-01, -7.73819054e-01, -1.81053199e+00],\n",
       "       [-6.66868658e-01,  4.51230342e-01,  4.02402114e-02],\n",
       "       [ 7.95384179e-01, -1.15664699e+00, -1.57325351e+00],\n",
       "       [ 1.71792138e+00, -2.26516894e-01, -2.61727885e+00],\n",
       "       [ 1.41668474e+00, -1.19067614e+00, -7.19050950e-01],\n",
       "       [-2.68766442e+00,  3.42169155e+00,  7.99531373e-01],\n",
       "       [-5.99404203e-01, -5.78151442e-01,  3.24974397e-01],\n",
       "       [-1.04027657e+00,  3.19367386e-01,  3.24974397e-01],\n",
       "       [ 2.21684455e+00, -1.39485104e+00, -1.71562060e+00],\n",
       "       [ 1.72733502e+00, -7.17103804e-01, -2.61727885e+00],\n",
       "       [ 2.16193163e+00, -1.38067223e+00, -1.81053199e+00],\n",
       "       [ 2.55668539e-01,  5.98951180e-02,  7.99531373e-01],\n",
       "       [-3.34253206e-01,  1.02692744e-02,  3.24974397e-01],\n",
       "       [ 3.96873212e-01,  8.51072853e-01,  7.99531373e-01],\n",
       "       [-5.38215512e-01,  4.05858142e-01, -1.57325351e+00],\n",
       "       [-9.48245807e-03, -3.82483831e-01,  2.77518699e-01],\n",
       "       [ 1.11544810e+00, -1.17082580e+00, -1.81053199e+00],\n",
       "       [-6.88131935e-05, -7.19678378e-02,  8.76959090e-02],\n",
       "       [ 3.30255160e+00, -1.47141663e+00, -5.29228159e-01],\n",
       "       [-1.38135605e-01, -5.32779243e-01, -7.66506647e-01],\n",
       "       [-9.49278004e-01,  1.42247899e+00,  7.99531373e-01],\n",
       "       [ 2.24289723e-01, -4.91660686e-01,  4.02402114e-02],\n",
       "       [ 2.52530658e-01, -1.08575293e+00, -9.08873740e-01],\n",
       "       [-6.12575049e-02,  1.22964715e+00,  7.99531373e-01],\n",
       "       [ 2.27427605e-01,  1.07793385e+00, -1.57325351e+00],\n",
       "       [-8.22193799e-01, -1.57040713e-01,  5.14797187e-01],\n",
       "       [ 8.46539907e-02, -5.54047461e-01,  8.76959090e-02],\n",
       "       [-1.32111698e+00,  1.17576766e+00,  3.24974397e-01],\n",
       "       [-6.73144422e-01,  2.54144849e-01,  7.99531373e-01],\n",
       "       [ 2.96461000e-01, -5.25689836e-01, -3.39405369e-01],\n",
       "       [-7.38090314e-02,  7.34806591e-01,  7.99531373e-01],\n",
       "       [ 3.18017421e+00, -1.31970333e+00,  2.77518699e-01],\n",
       "       [-4.80164702e-01,  1.05267318e-01,  3.24974397e-01],\n",
       "       [ 1.15467162e+00, -1.17082580e+00, -1.71562060e+00],\n",
       "       [-5.35077630e-01, -2.80396381e-01,  4.02402114e-02],\n",
       "       [ 6.99678789e-01, -9.32621754e-01, -1.19360793e+00],\n",
       "       [ 1.81928321e-01,  6.79509222e-01,  7.99531373e-01],\n",
       "       [ 1.76655854e+00, -1.15097547e+00, -5.29228159e-01],\n",
       "       [ 5.86715051e-01, -7.76654817e-01, -9.08873740e-01],\n",
       "       [-8.14349095e-01,  2.71159424e-01,  7.99531373e-01],\n",
       "       [-4.31527537e-01,  1.10203783e+00,  7.99531373e-01],\n",
       "       [-7.85158538e-02, -4.78899755e-01,  4.02402114e-02],\n",
       "       [-3.16994857e-01, -7.04342873e-01,  1.17917695e+00],\n",
       "       [-8.20624858e-01,  4.17201192e-01, -1.81053199e+00],\n",
       "       [ 6.66731032e-01,  1.18711071e+00,  7.99531373e-01],\n",
       "       [-5.64887506e-01,  3.57650179e-01, -3.39405369e-01],\n",
       "       [-2.19720527e-01,  6.01525754e-01, -3.39405369e-01],\n",
       "       [-1.64807598e-01,  1.76161380e-01,  1.13172126e+00],\n",
       "       [-7.04523238e-01,  7.39060234e-01,  4.02402114e-02],\n",
       "       [-1.11715467e+00,  1.66068304e+00,  7.99531373e-01],\n",
       "       [ 7.62436421e-01, -8.91503198e-01,  2.77518699e-01],\n",
       "       [ 4.83164957e-01, -5.95166017e-01, -1.24106362e+00],\n",
       "       [ 2.32134427e-01,  1.59262474e+00,  7.99531373e-01],\n",
       "       [-1.90319402e+00,  3.05729607e+00,  1.27408835e+00],\n",
       "       [ 3.92166390e-01, -8.02176679e-01, -4.34316764e-01],\n",
       "       [-5.39784453e-01,  2.76830949e-01,  1.22663265e+00],\n",
       "       [ 6.24369630e-01, -1.15522911e+00,  3.24974397e-01],\n",
       "       [ 8.81675923e-01,  1.18994647e+00,  7.99531373e-01],\n",
       "       [ 2.19582900e-01, -2.44949350e-01,  1.27408835e+00],\n",
       "       [ 1.04327683e+00, -2.08084437e-01, -9.08873740e-01],\n",
       "       [ 1.15467162e+00,  6.18540329e-01,  7.99531373e-01],\n",
       "       [ 2.36841249e-01, -1.00351582e+00, -5.76683857e-01],\n",
       "       [-2.36978876e-01,  2.62652136e-01,  7.99531373e-01],\n",
       "       [-7.70418752e-01,  4.28805430e-02,  5.62252885e-01],\n",
       "       [ 2.28117113e+00, -1.26582385e+00, -5.29228159e-01],\n",
       "       [-4.25251773e-01, -4.20766624e-01,  3.24974397e-01],\n",
       "       [ 3.15288290e-01, -4.71810349e-01,  2.77518699e-01],\n",
       "       [-3.45235792e-01, -5.92069066e-02, -1.57325351e+00],\n",
       "       [ 1.00248437e+00, -9.60979379e-01, -1.76307630e+00],\n",
       "       [ 4.45510377e-01, -9.19860823e-01, -2.91949672e-01],\n",
       "       [ 2.87047355e-01, -9.53889972e-01,  5.14797187e-01],\n",
       "       [ 2.71357947e-01, -3.14425531e-01,  1.13172126e+00],\n",
       "       [-9.42052619e-02,  8.93609290e-01, -1.57325351e+00],\n",
       "       [-8.25331680e-01, -5.92069066e-02, -7.66506647e-01],\n",
       "       [-9.43002241e-01,  2.42208527e+00, -1.57325351e+00],\n",
       "       [-4.64475294e-01,  5.80257535e-01,  7.99531373e-01],\n",
       "       [ 7.35764428e-01,  5.06527710e-01,  7.99531373e-01],\n",
       "       [-1.94617474e-01, -8.90085316e-01, -1.00378514e+00],\n",
       "       [-1.72652303e-01, -9.73740310e-01, -5.46711838e-02],\n",
       "       [-1.75790184e-01, -5.34197124e-01,  1.17917695e+00],\n",
       "       [ 4.92578602e-01, -1.06590259e+00, -9.08873740e-01],\n",
       "       [-3.61544519e-02,  5.28057118e-02,  7.99531373e-01],\n",
       "       [-1.26306617e+00,  7.50403284e-01,  7.99531373e-01],\n",
       "       [-1.38544355e+00,  9.81517927e-01,  7.99531373e-01],\n",
       "       [ 2.32134427e-01,  1.53732738e+00,  7.99531373e-01],\n",
       "       [ 5.01992247e-01, -1.28850995e+00, -5.29228159e-01],\n",
       "       [-4.78595761e-01, -5.14346786e-01,  5.62252885e-01],\n",
       "       [ 3.74908041e-01,  6.05779397e-01,  7.99531373e-01],\n",
       "       [-5.96266322e-01,  2.42775680e+00,  7.99531373e-01],\n",
       "       [-1.61669717e-01,  3.22203148e-01, -1.81053199e+00],\n",
       "       [ 1.56205949e-02, -2.98828837e-01,  7.99531373e-01],\n",
       "       [-3.90735075e-01,  7.40478116e-01,  7.52075675e-01],\n",
       "       [ 9.09297539e-02, -1.15948275e+00, -1.14615223e+00],\n",
       "       [ 1.86383287e+00, -9.04264129e-01, -5.46711838e-02],\n",
       "       [-8.62986260e-01, -3.73976543e-01, -2.91949672e-01],\n",
       "       [-1.97536530e+00, -2.94314005e-02, -5.46711838e-02],\n",
       "       [ 1.59554399e+00, -1.13963242e+00, -2.91949672e-01],\n",
       "       [ 5.19250596e-01, -1.01627675e+00, -3.39405369e-01],\n",
       "       [ 1.31722215e-01, -1.01627675e+00,  7.99531373e-01],\n",
       "       [ 9.28744148e-01,  1.40262866e+00,  7.99531373e-01],\n",
       "       [ 1.82147147e+00,  5.51899910e-01,  7.99531373e-01],\n",
       "       [-5.53904920e-01,  6.71001935e-01,  2.77518699e-01],\n",
       "       [ 3.16134692e+00, -1.26157020e+00, -5.29228159e-01],\n",
       "       [ 1.37275440e+00, -6.00837542e-01, -2.80710164e+00],\n",
       "       [-4.71370376e-02,  2.37130274e-01,  7.99531373e-01],\n",
       "       [ 2.71357947e-01,  9.24802678e-01,  7.99531373e-01],\n",
       "       [ 2.80771592e-01,  3.08024336e-01,  7.99531373e-01],\n",
       "       [ 2.81721214e-02, -1.04179861e+00, -1.81053199e+00],\n",
       "       [-1.02049966e-01,  4.88095254e-01,  7.99531373e-01],\n",
       "       [-9.88501525e-01,  4.75334323e-01, -2.91949672e-01],\n",
       "       [-7.06092179e-01,  4.38469410e-01, -5.46711838e-02],\n",
       "       [ 4.37665673e-01, -1.07299200e+00, -8.13962345e-01],\n",
       "       [ 6.42577601e-02, -8.60309810e-01,  8.76959090e-02],\n",
       "       [-6.57455013e-01,  2.78248830e-01,  1.17917695e+00],\n",
       "       [ 1.58394209e-01, -7.80908460e-01, -7.66506647e-01],\n",
       "       [ 1.43551203e+00, -1.06590259e+00,  8.76959090e-02],\n",
       "       [-3.71688960e+00,  6.84024055e-02,  7.99531373e-01],\n",
       "       [ 3.10581468e-01, -1.08291717e+00,  8.76959090e-02],\n",
       "       [-5.13112459e-01, -1.98159269e-01,  7.99531373e-01],\n",
       "       [ 1.61532090e-01,  5.83093297e-01,  1.27408835e+00],\n",
       "       [-5.58611742e-01, -5.10093143e-01, -1.00378514e+00],\n",
       "       [-4.25251773e-01,  7.20627778e-01,  2.77518699e-01],\n",
       "       [-1.41273486e-01,  8.32640397e-01,  1.17917695e+00],\n",
       "       [-1.00105305e+00,  3.43732556e-02,  1.82607304e-01],\n",
       "       [-1.03870763e+00,  1.15875308e+00,  1.17917695e+00],\n",
       "       [-5.85283736e-01, -4.54795774e-01, -9.08873740e-01],\n",
       "       [-2.13444764e-01, -3.66887137e-01,  1.17917695e+00],\n",
       "       [-4.66044234e-01,  3.00199870e+00,  7.99531373e-01],\n",
       "       [ 1.70945735e-01,  7.00777441e-01,  7.99531373e-01],\n",
       "       [ 1.36804757e+00, -6.80238892e-01,  4.02402114e-02]])"
      ]
     },
     "execution_count": 118,
     "metadata": {},
     "output_type": "execute_result"
    }
   ],
   "execution_count": 118
  },
  {
   "cell_type": "code",
   "source": [
    "y_teste_scaler = y_scaler.transform(y_teste.reshape(-1,1))\n",
    "y_teste_scaler"
   ],
   "metadata": {
    "id": "P5QgpoYoy_Vq",
    "ExecuteTime": {
     "end_time": "2024-05-26T21:51:34.648907Z",
     "start_time": "2024-05-26T21:51:34.634684Z"
    }
   },
   "outputs": [
    {
     "data": {
      "text/plain": [
       "array([[-2.29756787e-01],\n",
       "       [ 1.08522857e+00],\n",
       "       [-1.06773765e+00],\n",
       "       [ 7.50036225e-01],\n",
       "       [ 1.18327572e-01],\n",
       "       [-5.90733160e-01],\n",
       "       [-1.27400987e+00],\n",
       "       [ 1.18327572e-01],\n",
       "       [-3.63765873e-02],\n",
       "       [-2.68432827e-01],\n",
       "       [-1.48028208e+00],\n",
       "       [-1.48028208e+00],\n",
       "       [-1.65296720e-01],\n",
       "       [-4.87597053e-01],\n",
       "       [ 7.50036225e-01],\n",
       "       [-7.84113359e-01],\n",
       "       [-2.16864774e-01],\n",
       "       [ 2.08571666e-01],\n",
       "       [ 9.25435458e-02],\n",
       "       [ 1.13679662e+00],\n",
       "       [ 1.20125669e+00],\n",
       "       [ 1.44620494e+00],\n",
       "       [-1.89282650e+00],\n",
       "       [-8.79446405e-02],\n",
       "       [-5.39165106e-01],\n",
       "       [ 3.13505869e+00],\n",
       "       [ 1.84585736e+00],\n",
       "       [ 2.65805419e+00],\n",
       "       [ 2.29945267e-03],\n",
       "       [-6.21606139e-02],\n",
       "       [-8.09897386e-01],\n",
       "       [ 2.29945267e-03],\n",
       "       [-1.52404707e-01],\n",
       "       [ 2.52913406e+00],\n",
       "       [-6.21606139e-02],\n",
       "       [ 2.58070211e+00],\n",
       "       [-2.42648800e-01],\n",
       "       [-1.14508973e+00],\n",
       "       [ 8.27388305e-01],\n",
       "       [ 2.60139719e-01],\n",
       "       [-1.37714597e+00],\n",
       "       [-8.61465439e-01],\n",
       "       [-4.10244973e-01],\n",
       "       [-3.63765873e-02],\n",
       "       [-2.55540814e-01],\n",
       "       [-6.29409200e-01],\n",
       "       [-1.05925606e-02],\n",
       "       [-9.13033492e-01],\n",
       "       [ 2.72251426e+00],\n",
       "       [ 3.63275825e-01],\n",
       "       [ 1.76850528e+00],\n",
       "       [ 1.18327572e-01],\n",
       "       [ 8.91848371e-01],\n",
       "       [-9.25925506e-01],\n",
       "       [ 1.26571676e+00],\n",
       "       [ 2.08571666e-01],\n",
       "       [-2.03972760e-01],\n",
       "       [-1.66077026e+00],\n",
       "       [ 4.27735892e-01],\n",
       "       [-1.26111785e+00],\n",
       "       [-2.94216853e-01],\n",
       "       [-5.77841146e-01],\n",
       "       [-1.65296720e-01],\n",
       "       [-3.84460947e-01],\n",
       "       [-1.65296720e-01],\n",
       "       [ 1.05435559e-01],\n",
       "       [-1.20954980e+00],\n",
       "       [ 5.82440052e-01],\n",
       "       [-6.68085239e-01],\n",
       "       [-1.57052617e+00],\n",
       "       [-9.38817519e-01],\n",
       "       [ 9.56308438e-01],\n",
       "       [-3.58676920e-01],\n",
       "       [ 8.01604278e-01],\n",
       "       [-1.08062967e+00],\n",
       "       [ 1.69895626e-01],\n",
       "       [ 4.09754926e-02],\n",
       "       [-1.45449805e+00],\n",
       "       [ 3.89059852e-01],\n",
       "       [-2.16864774e-01],\n",
       "       [-3.84460947e-01],\n",
       "       [ 3.22530278e+00],\n",
       "       [ 2.29945267e-03],\n",
       "       [ 3.63275825e-01],\n",
       "       [ 1.57003612e-01],\n",
       "       [ 4.01951865e-01],\n",
       "       [ 1.82787639e-01],\n",
       "       [ 4.27735892e-01],\n",
       "       [-3.97352960e-01],\n",
       "       [ 6.98468171e-01],\n",
       "       [-5.90733160e-01],\n",
       "       [-6.68085239e-01],\n",
       "       [-1.05484564e+00],\n",
       "       [-6.80977253e-01],\n",
       "       [ 2.80834793e-02],\n",
       "       [ 5.38675059e-02],\n",
       "       [-1.39512694e-01],\n",
       "       [ 9.94984478e-01],\n",
       "       [-3.63765873e-02],\n",
       "       [-1.01616960e+00],\n",
       "       [-1.72523033e+00],\n",
       "       [-1.10641369e+00],\n",
       "       [ 1.26571676e+00],\n",
       "       [-2.68432827e-01],\n",
       "       [-1.10641369e+00],\n",
       "       [-1.98307060e+00],\n",
       "       [-6.03625173e-01],\n",
       "       [ 1.69895626e-01],\n",
       "       [-1.04195363e+00],\n",
       "       [ 2.34355692e-01],\n",
       "       [ 1.51066501e+00],\n",
       "       [-3.07108867e-01],\n",
       "       [-7.19653293e-01],\n",
       "       [ 1.76850528e+00],\n",
       "       [ 1.39463689e+00],\n",
       "       [ 6.67595192e-02],\n",
       "       [-1.71233832e+00],\n",
       "       [-5.00489066e-01],\n",
       "       [-3.71568933e-01],\n",
       "       [ 3.43157499e+00],\n",
       "       [ 1.11101260e+00],\n",
       "       [-1.39003798e+00],\n",
       "       [-1.18376577e+00],\n",
       "       [-6.42301213e-01],\n",
       "       [ 6.85576158e-01],\n",
       "       [-2.29756787e-01],\n",
       "       [-2.94216853e-01],\n",
       "       [-2.42648800e-01],\n",
       "       [ 4.27735892e-01],\n",
       "       [ 3.11707772e-01],\n",
       "       [-6.55193226e-01],\n",
       "       [ 1.18327572e-01],\n",
       "       [ 1.87164138e+00],\n",
       "       [ 1.82787639e-01],\n",
       "       [ 9.04740384e-01],\n",
       "       [-1.39512694e-01],\n",
       "       [-4.61813027e-01],\n",
       "       [-1.00836654e-01],\n",
       "       [-1.52404707e-01],\n",
       "       [-8.35681413e-01],\n",
       "       [-5.52057120e-01],\n",
       "       [-1.04195363e+00],\n",
       "       [ 1.18327572e-01],\n",
       "       [-4.48921013e-01],\n",
       "       [-1.71233832e+00],\n",
       "       [-8.74357452e-01],\n",
       "       [ 1.45909696e+00]])"
      ]
     },
     "execution_count": 169,
     "metadata": {},
     "output_type": "execute_result"
    }
   ],
   "execution_count": 169
  },
  {
   "cell_type": "code",
   "metadata": {
    "id": "yLqV2EcBYgii",
    "ExecuteTime": {
     "end_time": "2024-05-26T21:52:48.440814Z",
     "start_time": "2024-05-26T21:52:48.433890Z"
    }
   },
   "source": [
    "redes = MLPRegressor(hidden_layer_sizes=(6, 6), activation='relu', verbose=True, max_iter=1500,\n",
    "                    solver='lbfgs', random_state = 12)"
   ],
   "outputs": [],
   "execution_count": 184
  },
  {
   "cell_type": "code",
   "source": [
    "redes.fit(x_treino_scaler, y_treino_scaler.ravel())"
   ],
   "metadata": {
    "colab": {
     "base_uri": "https://localhost:8080/"
    },
    "outputId": "84ba39e4-cc0e-4b1c-ba64-5157f98adcb1",
    "id": "3CNJpOG6Ygiw",
    "ExecuteTime": {
     "end_time": "2024-05-26T21:52:50.149004Z",
     "start_time": "2024-05-26T21:52:49.923359Z"
    }
   },
   "outputs": [
    {
     "data": {
      "text/plain": [
       "MLPRegressor(hidden_layer_sizes=(6, 6), max_iter=1500, random_state=12,\n",
       "             solver='lbfgs', verbose=True)"
      ],
      "text/html": [
       "<style>#sk-container-id-22 {color: black;background-color: white;}#sk-container-id-22 pre{padding: 0;}#sk-container-id-22 div.sk-toggleable {background-color: white;}#sk-container-id-22 label.sk-toggleable__label {cursor: pointer;display: block;width: 100%;margin-bottom: 0;padding: 0.3em;box-sizing: border-box;text-align: center;}#sk-container-id-22 label.sk-toggleable__label-arrow:before {content: \"▸\";float: left;margin-right: 0.25em;color: #696969;}#sk-container-id-22 label.sk-toggleable__label-arrow:hover:before {color: black;}#sk-container-id-22 div.sk-estimator:hover label.sk-toggleable__label-arrow:before {color: black;}#sk-container-id-22 div.sk-toggleable__content {max-height: 0;max-width: 0;overflow: hidden;text-align: left;background-color: #f0f8ff;}#sk-container-id-22 div.sk-toggleable__content pre {margin: 0.2em;color: black;border-radius: 0.25em;background-color: #f0f8ff;}#sk-container-id-22 input.sk-toggleable__control:checked~div.sk-toggleable__content {max-height: 200px;max-width: 100%;overflow: auto;}#sk-container-id-22 input.sk-toggleable__control:checked~label.sk-toggleable__label-arrow:before {content: \"▾\";}#sk-container-id-22 div.sk-estimator input.sk-toggleable__control:checked~label.sk-toggleable__label {background-color: #d4ebff;}#sk-container-id-22 div.sk-label input.sk-toggleable__control:checked~label.sk-toggleable__label {background-color: #d4ebff;}#sk-container-id-22 input.sk-hidden--visually {border: 0;clip: rect(1px 1px 1px 1px);clip: rect(1px, 1px, 1px, 1px);height: 1px;margin: -1px;overflow: hidden;padding: 0;position: absolute;width: 1px;}#sk-container-id-22 div.sk-estimator {font-family: monospace;background-color: #f0f8ff;border: 1px dotted black;border-radius: 0.25em;box-sizing: border-box;margin-bottom: 0.5em;}#sk-container-id-22 div.sk-estimator:hover {background-color: #d4ebff;}#sk-container-id-22 div.sk-parallel-item::after {content: \"\";width: 100%;border-bottom: 1px solid gray;flex-grow: 1;}#sk-container-id-22 div.sk-label:hover label.sk-toggleable__label {background-color: #d4ebff;}#sk-container-id-22 div.sk-serial::before {content: \"\";position: absolute;border-left: 1px solid gray;box-sizing: border-box;top: 0;bottom: 0;left: 50%;z-index: 0;}#sk-container-id-22 div.sk-serial {display: flex;flex-direction: column;align-items: center;background-color: white;padding-right: 0.2em;padding-left: 0.2em;position: relative;}#sk-container-id-22 div.sk-item {position: relative;z-index: 1;}#sk-container-id-22 div.sk-parallel {display: flex;align-items: stretch;justify-content: center;background-color: white;position: relative;}#sk-container-id-22 div.sk-item::before, #sk-container-id-22 div.sk-parallel-item::before {content: \"\";position: absolute;border-left: 1px solid gray;box-sizing: border-box;top: 0;bottom: 0;left: 50%;z-index: -1;}#sk-container-id-22 div.sk-parallel-item {display: flex;flex-direction: column;z-index: 1;position: relative;background-color: white;}#sk-container-id-22 div.sk-parallel-item:first-child::after {align-self: flex-end;width: 50%;}#sk-container-id-22 div.sk-parallel-item:last-child::after {align-self: flex-start;width: 50%;}#sk-container-id-22 div.sk-parallel-item:only-child::after {width: 0;}#sk-container-id-22 div.sk-dashed-wrapped {border: 1px dashed gray;margin: 0 0.4em 0.5em 0.4em;box-sizing: border-box;padding-bottom: 0.4em;background-color: white;}#sk-container-id-22 div.sk-label label {font-family: monospace;font-weight: bold;display: inline-block;line-height: 1.2em;}#sk-container-id-22 div.sk-label-container {text-align: center;}#sk-container-id-22 div.sk-container {/* jupyter's `normalize.less` sets `[hidden] { display: none; }` but bootstrap.min.css set `[hidden] { display: none !important; }` so we also need the `!important` here to be able to override the default hidden behavior on the sphinx rendered scikit-learn.org. See: https://github.com/scikit-learn/scikit-learn/issues/21755 */display: inline-block !important;position: relative;}#sk-container-id-22 div.sk-text-repr-fallback {display: none;}</style><div id=\"sk-container-id-22\" class=\"sk-top-container\"><div class=\"sk-text-repr-fallback\"><pre>MLPRegressor(hidden_layer_sizes=(6, 6), max_iter=1500, random_state=12,\n",
       "             solver=&#x27;lbfgs&#x27;, verbose=True)</pre><b>In a Jupyter environment, please rerun this cell to show the HTML representation or trust the notebook. <br />On GitHub, the HTML representation is unable to render, please try loading this page with nbviewer.org.</b></div><div class=\"sk-container\" hidden><div class=\"sk-item\"><div class=\"sk-estimator sk-toggleable\"><input class=\"sk-toggleable__control sk-hidden--visually\" id=\"sk-estimator-id-22\" type=\"checkbox\" checked><label for=\"sk-estimator-id-22\" class=\"sk-toggleable__label sk-toggleable__label-arrow\">MLPRegressor</label><div class=\"sk-toggleable__content\"><pre>MLPRegressor(hidden_layer_sizes=(6, 6), max_iter=1500, random_state=12,\n",
       "             solver=&#x27;lbfgs&#x27;, verbose=True)</pre></div></div></div></div></div>"
      ]
     },
     "execution_count": 185,
     "metadata": {},
     "output_type": "execute_result"
    }
   ],
   "execution_count": 185
  },
  {
   "cell_type": "code",
   "metadata": {
    "colab": {
     "base_uri": "https://localhost:8080/"
    },
    "outputId": "1779c4bf-bc4e-43e5-8d6c-3f4937e7f9ef",
    "id": "p7n6MFkDYgiw",
    "ExecuteTime": {
     "end_time": "2024-05-26T21:52:51.320630Z",
     "start_time": "2024-05-26T21:52:51.311711Z"
    }
   },
   "source": [
    "redes.n_layers_"
   ],
   "outputs": [
    {
     "data": {
      "text/plain": [
       "4"
      ]
     },
     "execution_count": 186,
     "metadata": {},
     "output_type": "execute_result"
    }
   ],
   "execution_count": 186
  },
  {
   "cell_type": "code",
   "metadata": {
    "colab": {
     "base_uri": "https://localhost:8080/"
    },
    "outputId": "a2ee1370-470f-49d6-de03-553682b50749",
    "id": "DgEas9ZbYgix",
    "ExecuteTime": {
     "end_time": "2024-05-26T21:52:52.090704Z",
     "start_time": "2024-05-26T21:52:52.080469Z"
    }
   },
   "source": [
    "redes.score(x_treino_scaler, y_treino_scaler)"
   ],
   "outputs": [
    {
     "data": {
      "text/plain": [
       "0.8751927259348038"
      ]
     },
     "execution_count": 187,
     "metadata": {},
     "output_type": "execute_result"
    }
   ],
   "execution_count": 187
  },
  {
   "cell_type": "markdown",
   "source": [
    "**TESTE**"
   ],
   "metadata": {
    "id": "ww7rXXpmYgiy"
   }
  },
  {
   "cell_type": "code",
   "metadata": {
    "colab": {
     "base_uri": "https://localhost:8080/"
    },
    "outputId": "1f7dcb88-0c15-4c9f-9b49-62dbeac226a5",
    "id": "-22L712oYgiy",
    "ExecuteTime": {
     "end_time": "2024-05-26T21:52:53.753101Z",
     "start_time": "2024-05-26T21:52:53.744105Z"
    }
   },
   "source": [
    "redes.score(x_teste_scaler, y_teste_scaler)"
   ],
   "outputs": [
    {
     "data": {
      "text/plain": [
       "0.8326836739133189"
      ]
     },
     "execution_count": 188,
     "metadata": {},
     "output_type": "execute_result"
    }
   ],
   "execution_count": 188
  },
  {
   "cell_type": "code",
   "metadata": {
    "id": "TrJeD7ZNuO-i",
    "ExecuteTime": {
     "end_time": "2024-05-26T21:52:54.539744Z",
     "start_time": "2024-05-26T21:52:54.533487Z"
    }
   },
   "source": [
    "previsoes_teste_scaler = redes.predict(x_teste_scaler)"
   ],
   "outputs": [],
   "execution_count": 189
  },
  {
   "cell_type": "code",
   "source": [
    "previsoes_teste_scaler"
   ],
   "metadata": {
    "id": "E29s37Jkumip",
    "ExecuteTime": {
     "end_time": "2024-05-26T21:52:55.342019Z",
     "start_time": "2024-05-26T21:52:55.330333Z"
    }
   },
   "outputs": [
    {
     "data": {
      "text/plain": [
       "array([-2.68209691e-01,  1.30496964e+00, -7.31693840e-01, -1.05835046e+00,\n",
       "        1.34347096e-01, -1.02192571e+00, -7.88556342e-01, -3.42984470e-01,\n",
       "       -2.56884550e-02, -4.32905426e-01, -1.23508494e+00, -6.38283810e-01,\n",
       "        3.46220591e-02, -1.52131673e+00,  6.01078366e-02, -5.74914843e-01,\n",
       "        3.29722645e-02,  6.00434171e-01, -7.14615690e-02,  1.19809617e+00,\n",
       "        1.53638419e+00,  1.62133798e+00, -1.54941520e+00,  5.29844031e-02,\n",
       "       -3.00639477e-01,  2.56991002e+00,  1.95429772e+00,  2.53908623e+00,\n",
       "       -3.16282435e-01, -2.63695440e-01, -9.59363133e-01, -4.03097081e-01,\n",
       "        3.07951067e-03,  1.57331105e+00,  2.44170093e-02,  3.20850613e+00,\n",
       "       -8.87398046e-02, -1.32591683e+00,  2.26736278e-01,  5.23140614e-01,\n",
       "       -1.20926120e+00, -2.50978921e-01, -3.62754363e-01,  2.38944789e-01,\n",
       "       -4.48972976e-01, -5.36216585e-01,  1.12887346e-01, -8.72685168e-01,\n",
       "        2.96348448e+00, -2.98342074e-01,  1.59346214e+00,  4.86154395e-02,\n",
       "        8.39781448e-01, -8.39250064e-01,  1.83096920e+00,  5.71584027e-01,\n",
       "       -5.45488902e-01, -1.11650363e+00,  1.39329850e-01, -1.60724510e-01,\n",
       "       -4.75187059e-01, -1.19217090e+00, -1.40164734e-01, -1.80522779e-01,\n",
       "       -4.06227806e-01, -1.18713292e-01, -1.48511140e+00,  4.62752747e-01,\n",
       "        4.06449625e-01, -1.46076374e+00, -2.04460370e+00,  3.78672083e-01,\n",
       "       -4.53492438e-01,  5.13623686e-01, -1.19758973e+00, -2.03899640e-01,\n",
       "        5.37014766e-01, -6.53262190e-01,  4.13384543e-01, -5.49083820e-01,\n",
       "       -4.99762219e-01,  2.29675972e+00, -3.73761390e-02,  7.15142059e-02,\n",
       "       -1.37316863e-01,  1.27516562e+00,  4.83938705e-01,  2.61495705e-01,\n",
       "       -1.28015231e-01, -3.50012476e-01, -1.65949923e-01, -7.51946048e-01,\n",
       "       -7.61283785e-01, -6.46323041e-01,  6.88055518e-02,  3.21345289e-01,\n",
       "       -1.81887507e-01,  6.97189663e-01, -3.83243851e-01, -8.35890840e-01,\n",
       "       -9.66692588e-01, -1.42317487e+00,  8.13966054e-01, -9.73339156e-02,\n",
       "       -7.92266009e-01, -1.81144011e+00, -1.09373720e-01, -1.08017656e-01,\n",
       "       -8.93139697e-01,  4.76723443e-01,  1.66622469e+00, -9.22186270e-03,\n",
       "        1.55194445e-01,  1.64152125e+00,  6.13846962e-01,  1.64469592e-01,\n",
       "       -1.34292679e+00, -4.16422899e-01, -2.97343953e-01,  2.97910503e+00,\n",
       "        1.55069288e+00, -5.34818580e-01, -1.00744297e+00, -5.61019848e-01,\n",
       "        4.77042703e-01, -7.04522295e-01, -1.48637053e-01, -9.03290178e-02,\n",
       "        6.47459740e-01,  3.84947387e-01, -4.30680443e-01,  2.22055268e-01,\n",
       "        1.39511420e+00,  3.39803524e-01,  5.61008776e-01, -2.59161271e-01,\n",
       "       -5.55910539e-01, -1.44600645e-01, -3.16230127e-01, -7.64117826e-01,\n",
       "        2.87999383e-02, -9.71219364e-01, -1.32664674e-01, -2.48156704e-01,\n",
       "       -1.93776428e+00, -8.53528938e-01,  1.07952522e+00])"
      ]
     },
     "execution_count": 190,
     "metadata": {},
     "output_type": "execute_result"
    }
   ],
   "execution_count": 190
  },
  {
   "cell_type": "markdown",
   "source": [
    "## **MÉTRICAS**"
   ],
   "metadata": {
    "id": "-3gMP-aLuO-2"
   }
  },
  {
   "cell_type": "markdown",
   "source": [
    "**Revertendo a transformação**"
   ],
   "metadata": {
    "id": "bkj7pP_M0G_r"
   }
  },
  {
   "cell_type": "code",
   "source": [
    "previsoes_teste_scaler"
   ],
   "metadata": {
    "id": "IQjSU2awzSAf",
    "ExecuteTime": {
     "end_time": "2024-05-26T21:52:57.570205Z",
     "start_time": "2024-05-26T21:52:57.559160Z"
    }
   },
   "outputs": [
    {
     "data": {
      "text/plain": [
       "array([-2.68209691e-01,  1.30496964e+00, -7.31693840e-01, -1.05835046e+00,\n",
       "        1.34347096e-01, -1.02192571e+00, -7.88556342e-01, -3.42984470e-01,\n",
       "       -2.56884550e-02, -4.32905426e-01, -1.23508494e+00, -6.38283810e-01,\n",
       "        3.46220591e-02, -1.52131673e+00,  6.01078366e-02, -5.74914843e-01,\n",
       "        3.29722645e-02,  6.00434171e-01, -7.14615690e-02,  1.19809617e+00,\n",
       "        1.53638419e+00,  1.62133798e+00, -1.54941520e+00,  5.29844031e-02,\n",
       "       -3.00639477e-01,  2.56991002e+00,  1.95429772e+00,  2.53908623e+00,\n",
       "       -3.16282435e-01, -2.63695440e-01, -9.59363133e-01, -4.03097081e-01,\n",
       "        3.07951067e-03,  1.57331105e+00,  2.44170093e-02,  3.20850613e+00,\n",
       "       -8.87398046e-02, -1.32591683e+00,  2.26736278e-01,  5.23140614e-01,\n",
       "       -1.20926120e+00, -2.50978921e-01, -3.62754363e-01,  2.38944789e-01,\n",
       "       -4.48972976e-01, -5.36216585e-01,  1.12887346e-01, -8.72685168e-01,\n",
       "        2.96348448e+00, -2.98342074e-01,  1.59346214e+00,  4.86154395e-02,\n",
       "        8.39781448e-01, -8.39250064e-01,  1.83096920e+00,  5.71584027e-01,\n",
       "       -5.45488902e-01, -1.11650363e+00,  1.39329850e-01, -1.60724510e-01,\n",
       "       -4.75187059e-01, -1.19217090e+00, -1.40164734e-01, -1.80522779e-01,\n",
       "       -4.06227806e-01, -1.18713292e-01, -1.48511140e+00,  4.62752747e-01,\n",
       "        4.06449625e-01, -1.46076374e+00, -2.04460370e+00,  3.78672083e-01,\n",
       "       -4.53492438e-01,  5.13623686e-01, -1.19758973e+00, -2.03899640e-01,\n",
       "        5.37014766e-01, -6.53262190e-01,  4.13384543e-01, -5.49083820e-01,\n",
       "       -4.99762219e-01,  2.29675972e+00, -3.73761390e-02,  7.15142059e-02,\n",
       "       -1.37316863e-01,  1.27516562e+00,  4.83938705e-01,  2.61495705e-01,\n",
       "       -1.28015231e-01, -3.50012476e-01, -1.65949923e-01, -7.51946048e-01,\n",
       "       -7.61283785e-01, -6.46323041e-01,  6.88055518e-02,  3.21345289e-01,\n",
       "       -1.81887507e-01,  6.97189663e-01, -3.83243851e-01, -8.35890840e-01,\n",
       "       -9.66692588e-01, -1.42317487e+00,  8.13966054e-01, -9.73339156e-02,\n",
       "       -7.92266009e-01, -1.81144011e+00, -1.09373720e-01, -1.08017656e-01,\n",
       "       -8.93139697e-01,  4.76723443e-01,  1.66622469e+00, -9.22186270e-03,\n",
       "        1.55194445e-01,  1.64152125e+00,  6.13846962e-01,  1.64469592e-01,\n",
       "       -1.34292679e+00, -4.16422899e-01, -2.97343953e-01,  2.97910503e+00,\n",
       "        1.55069288e+00, -5.34818580e-01, -1.00744297e+00, -5.61019848e-01,\n",
       "        4.77042703e-01, -7.04522295e-01, -1.48637053e-01, -9.03290178e-02,\n",
       "        6.47459740e-01,  3.84947387e-01, -4.30680443e-01,  2.22055268e-01,\n",
       "        1.39511420e+00,  3.39803524e-01,  5.61008776e-01, -2.59161271e-01,\n",
       "       -5.55910539e-01, -1.44600645e-01, -3.16230127e-01, -7.64117826e-01,\n",
       "        2.87999383e-02, -9.71219364e-01, -1.32664674e-01, -2.48156704e-01,\n",
       "       -1.93776428e+00, -8.53528938e-01,  1.07952522e+00])"
      ]
     },
     "execution_count": 191,
     "metadata": {},
     "output_type": "execute_result"
    }
   ],
   "execution_count": 191
  },
  {
   "cell_type": "code",
   "source": [
    "previsoes_teste_inverse = y_scaler.inverse_transform(previsoes_teste_scaler.reshape(-1,1))"
   ],
   "metadata": {
    "id": "Im0E-MAczbiP",
    "ExecuteTime": {
     "end_time": "2024-05-26T21:52:58.429524Z",
     "start_time": "2024-05-26T21:52:58.423418Z"
    }
   },
   "outputs": [],
   "execution_count": 192
  },
  {
   "cell_type": "code",
   "source": [
    "previsoes_teste_inverse"
   ],
   "metadata": {
    "id": "UPrNMYiwzu0N",
    "ExecuteTime": {
     "end_time": "2024-05-26T21:52:59.040543Z",
     "start_time": "2024-05-26T21:52:59.025857Z"
    }
   },
   "outputs": [
    {
     "data": {
      "text/plain": [
       "array([[411636.34699899],\n",
       "       [667893.96203783],\n",
       "       [336138.6966176 ],\n",
       "       [282929.0941388 ],\n",
       "       [477209.44495801],\n",
       "       [288862.37890029],\n",
       "       [326876.27572069],\n",
       "       [399456.1674807 ],\n",
       "       [451141.0064076 ],\n",
       "       [384808.80380529],\n",
       "       [254140.54072583],\n",
       "       [351354.40095154],\n",
       "       [460965.07938501],\n",
       "       [207515.80195697],\n",
       "       [465116.4971285 ],\n",
       "       [361676.67005708],\n",
       "       [460696.34179103],\n",
       "       [553131.09002221],\n",
       "       [443684.95302381],\n",
       "       [650485.17760309],\n",
       "       [705589.43622052],\n",
       "       [719427.6907198 ],\n",
       "       [202938.79810893],\n",
       "       [463956.15002249],\n",
       "       [406353.80886773],\n",
       "       [873942.05939713],\n",
       "       [773664.01824513],\n",
       "       [868921.12449911],\n",
       "       [403805.7033159 ],\n",
       "       [412371.68020345],\n",
       "       [299053.29314578],\n",
       "       [389664.33128492],\n",
       "       [455827.06485581],\n",
       "       [711604.51096163],\n",
       "       [459302.76303518],\n",
       "       [977963.96721926],\n",
       "       [440870.47449831],\n",
       "       [239344.79368444],\n",
       "       [492258.86186914],\n",
       "       [540540.62278182],\n",
       "       [258347.00984375],\n",
       "       [414443.09374242],\n",
       "       [396235.81897249],\n",
       "       [494247.52502369],\n",
       "       [382191.53577257],\n",
       "       [367980.28915628],\n",
       "       [473713.83307792],\n",
       "       [313172.40095709],\n",
       "       [938052.01258722],\n",
       "       [406728.03641747],\n",
       "       [714886.95196126],\n",
       "       [463244.48277836],\n",
       "       [592118.7382884 ],\n",
       "       [318618.69681219],\n",
       "       [753574.84441445],\n",
       "       [548431.64531959],\n",
       "       [366469.90716672],\n",
       "       [273456.43498486],\n",
       "       [478021.0934852 ],\n",
       "       [429144.77448113],\n",
       "       [377921.48315144],\n",
       "       [261130.87602242],\n",
       "       [432493.7881317 ],\n",
       "       [425919.80380947],\n",
       "       [389154.36257112],\n",
       "       [435988.04679349],\n",
       "       [213413.34381857],\n",
       "       [530703.94973694],\n",
       "       [521532.64702333],\n",
       "       [217379.3722052 ],\n",
       "       [122276.77763441],\n",
       "       [517007.92027727],\n",
       "       [381455.35356319],\n",
       "       [538990.3956497 ],\n",
       "       [260248.19382106],\n",
       "       [422111.91067888],\n",
       "       [542800.60490851],\n",
       "       [348914.5494342 ],\n",
       "       [522662.28659447],\n",
       "       [365884.32543825],\n",
       "       [373918.39735329],\n",
       "       [829448.18418789],\n",
       "       [449237.18146661],\n",
       "       [466974.49827254],\n",
       "       [432957.6822572 ],\n",
       "       [663039.1391756 ],\n",
       "       [534154.96316552],\n",
       "       [497920.87863853],\n",
       "       [434472.83950294],\n",
       "       [398311.36477531],\n",
       "       [428293.59875281],\n",
       "       [332839.78316383],\n",
       "       [331318.74461509],\n",
       "       [350044.8781343 ],\n",
       "       [466533.28141973],\n",
       "       [507669.86998234],\n",
       "       [425697.50102748],\n",
       "       [568891.74174912],\n",
       "       [392898.25461701],\n",
       "       [319165.88602297],\n",
       "       [297859.38685551],\n",
       "       [223502.28092064],\n",
       "       [587913.62880065],\n",
       "       [439470.56645499],\n",
       "       [326272.00220483],\n",
       "       [160257.15565993],\n",
       "       [437509.38405743],\n",
       "       [437730.27547706],\n",
       "       [309840.53114733],\n",
       "       [532979.65796878],\n",
       "       [726739.35682005],\n",
       "       [453823.27510959],\n",
       "       [480605.30191855],\n",
       "       [722715.37544303],\n",
       "       [555315.92018423],\n",
       "       [482116.14504761],\n",
       "       [236574.01494124],\n",
       "       [387493.66806371],\n",
       "       [406890.6218453 ],\n",
       "       [940596.46707008],\n",
       "       [707920.20158624],\n",
       "       [368208.01241059],\n",
       "       [291221.49478998],\n",
       "       [363940.04733921],\n",
       "       [533031.66272524],\n",
       "       [340564.71167208],\n",
       "       [431113.71894857],\n",
       "       [440611.60508717],\n",
       "       [560791.15769585],\n",
       "       [518030.11423436],\n",
       "       [385171.23472891],\n",
       "       [491496.36486797],\n",
       "       [682577.74909292],\n",
       "       [510676.56045027],\n",
       "       [546709.02641773],\n",
       "       [413110.25806872],\n",
       "       [364772.31063027],\n",
       "       [431771.21575117],\n",
       "       [403814.22382566],\n",
       "       [330857.10341734],\n",
       "       [460016.7051227 ],\n",
       "       [297122.0132721 ],\n",
       "       [433715.48460876],\n",
       "       [414902.80896246],\n",
       "       [139680.01562691],\n",
       "       [316292.78891564],\n",
       "       [631170.97167645]])"
      ]
     },
     "execution_count": 193,
     "metadata": {},
     "output_type": "execute_result"
    }
   ],
   "execution_count": 193
  },
  {
   "cell_type": "code",
   "source": [
    "y_teste"
   ],
   "metadata": {
    "id": "soMoe3Eez0Er",
    "ExecuteTime": {
     "end_time": "2024-05-26T21:52:59.703844Z",
     "start_time": "2024-05-26T21:52:59.694406Z"
    }
   },
   "outputs": [
    {
     "data": {
      "text/plain": [
       "array([ 417900.,  632100.,  281400.,  577500.,  474600.,  359100.,\n",
       "        247800.,  474600.,  449400.,  411600.,  214200.,  214200.,\n",
       "        428400.,  375900.,  577500.,  327600.,  420000.,  489300.,\n",
       "        470400.,  640500.,  651000.,  690900.,  147000.,  441000.,\n",
       "        367500.,  966000.,  756000.,  888300.,  455700.,  445200.,\n",
       "        323400.,  455700.,  430500.,  867300.,  445200.,  875700.,\n",
       "        415800.,  268800.,  590100.,  497700.,  231000.,  315000.,\n",
       "        388500.,  449400.,  413700.,  352800.,  453600.,  306600.,\n",
       "        898800.,  514500.,  743400.,  474600.,  600600.,  304500.,\n",
       "        661500.,  489300.,  422100.,  184800.,  525000.,  249900.,\n",
       "        407400.,  361200.,  428400.,  392700.,  428400.,  472500.,\n",
       "        258300.,  550200.,  346500.,  199500.,  302400.,  611100.,\n",
       "        396900.,  585900.,  279300.,  483000.,  462000.,  218400.,\n",
       "        518700.,  420000.,  392700.,  980700.,  455700.,  514500.,\n",
       "        480900.,  520800.,  485100.,  525000.,  390600.,  569100.,\n",
       "        359100.,  346500.,  283500.,  344400.,  459900.,  464100.,\n",
       "        432600.,  617400.,  449400.,  289800.,  174300.,  275100.,\n",
       "        661500.,  411600.,  275100.,  132300.,  357000.,  483000.,\n",
       "        285600.,  493500.,  701400.,  405300.,  338100.,  743400.,\n",
       "        682500.,  466200.,  176400.,  373800.,  394800., 1014300.,\n",
       "        636300.,  228900.,  262500.,  350700.,  567000.,  417900.,\n",
       "        407400.,  415800.,  525000.,  506100.,  348600.,  474600.,\n",
       "        760200.,  485100.,  602700.,  432600.,  380100.,  438900.,\n",
       "        430500.,  319200.,  365400.,  285600.,  474600.,  382200.,\n",
       "        176400.,  312900.,  693000.])"
      ]
     },
     "execution_count": 194,
     "metadata": {},
     "output_type": "execute_result"
    }
   ],
   "execution_count": 194
  },
  {
   "cell_type": "code",
   "metadata": {
    "id": "fTvkHk4JuO-2",
    "ExecuteTime": {
     "end_time": "2024-05-26T21:53:00.590928Z",
     "start_time": "2024-05-26T21:53:00.585119Z"
    }
   },
   "source": [
    "from sklearn.metrics import mean_absolute_error, mean_squared_error"
   ],
   "outputs": [],
   "execution_count": 195
  },
  {
   "cell_type": "code",
   "metadata": {
    "colab": {
     "base_uri": "https://localhost:8080/"
    },
    "outputId": "dedea9ac-7598-4669-b150-5e44807f3de7",
    "id": "zQ1JBPZ5uO-3",
    "ExecuteTime": {
     "end_time": "2024-05-26T21:53:03.348027Z",
     "start_time": "2024-05-26T21:53:03.337398Z"
    }
   },
   "source": [
    "# Erro médio Absoluto\n",
    "mean_absolute_error(y_teste, previsoes_teste_inverse)"
   ],
   "outputs": [
    {
     "data": {
      "text/plain": [
       "51925.51007283016"
      ]
     },
     "execution_count": 196,
     "metadata": {},
     "output_type": "execute_result"
    }
   ],
   "execution_count": 196
  },
  {
   "cell_type": "code",
   "metadata": {
    "colab": {
     "base_uri": "https://localhost:8080/"
    },
    "outputId": "42ff8858-e2ff-41b5-bcf7-a08a4821fa37",
    "id": "pafOb9YDuO-3",
    "ExecuteTime": {
     "end_time": "2024-05-26T21:53:04.973767Z",
     "start_time": "2024-05-26T21:53:04.963385Z"
    }
   },
   "source": [
    "# Raiz do erro quadrático médio (RMSE)\n",
    "np.sqrt(mean_squared_error(y_teste, previsoes_teste_inverse))"
   ],
   "outputs": [
    {
     "data": {
      "text/plain": [
       "69674.25946129963"
      ]
     },
     "execution_count": 197,
     "metadata": {},
     "output_type": "execute_result"
    }
   ],
   "execution_count": 197
  },
  {
   "cell_type": "markdown",
   "source": [
    "**Revertendo a transformação**"
   ],
   "metadata": {
    "id": "qXiWO2g21N4C"
   }
  },
  {
   "cell_type": "code",
   "source": [
    "x_treino_inverse = x_scaler.inverse_transform(x_treino_scaler)"
   ],
   "metadata": {
    "id": "YxYKJhda1QOQ",
    "ExecuteTime": {
     "end_time": "2024-05-26T22:54:05.521803Z",
     "start_time": "2024-05-26T22:54:05.512197Z"
    }
   },
   "outputs": [],
   "execution_count": 198
  },
  {
   "cell_type": "code",
   "source": [
    "x_treino_inverse"
   ],
   "metadata": {
    "id": "kPTE_4Tcnwyz",
    "ExecuteTime": {
     "end_time": "2024-05-26T22:54:06.224288Z",
     "start_time": "2024-05-26T22:54:06.213136Z"
    }
   },
   "outputs": [
    {
     "data": {
      "text/plain": [
       "array([[ 6.266,  7.9  , 18.4  ],\n",
       "       [ 6.951,  9.71 , 17.4  ],\n",
       "       [ 6.619,  7.22 , 19.   ],\n",
       "       ...,\n",
       "       [ 6.021, 10.3  , 17.8  ],\n",
       "       [ 6.03 , 18.8  , 17.9  ],\n",
       "       [ 6.02 , 10.11 , 16.6  ]])"
      ]
     },
     "execution_count": 199,
     "metadata": {},
     "output_type": "execute_result"
    }
   ],
   "execution_count": 199
  },
  {
   "cell_type": "code",
   "source": [
    "x_treino"
   ],
   "metadata": {
    "id": "yIt3n-xOvBeP",
    "ExecuteTime": {
     "end_time": "2024-05-26T22:54:06.911599Z",
     "start_time": "2024-05-26T22:54:06.903791Z"
    }
   },
   "outputs": [
    {
     "data": {
      "text/plain": [
       "array([[ 6.266,  7.9  , 18.4  ],\n",
       "       [ 6.951,  9.71 , 17.4  ],\n",
       "       [ 6.619,  7.22 , 19.   ],\n",
       "       ...,\n",
       "       [ 6.021, 10.3  , 17.8  ],\n",
       "       [ 6.03 , 18.8  , 17.9  ],\n",
       "       [ 6.02 , 10.11 , 16.6  ]])"
      ]
     },
     "execution_count": 200,
     "metadata": {},
     "output_type": "execute_result"
    }
   ],
   "execution_count": 200
  },
  {
   "cell_type": "code",
   "source": [
    "y_treino_inverse = y_scaler.inverse_transform(y_treino_scaler)"
   ],
   "metadata": {
    "id": "QUdHrRrXmykQ",
    "ExecuteTime": {
     "end_time": "2024-05-26T22:54:07.928344Z",
     "start_time": "2024-05-26T22:54:07.920842Z"
    }
   },
   "outputs": [],
   "execution_count": 201
  },
  {
   "cell_type": "code",
   "source": [
    "y_treino_inverse"
   ],
   "metadata": {
    "id": "Ars4cnYBn31s",
    "ExecuteTime": {
     "end_time": "2024-05-26T22:54:08.640672Z",
     "start_time": "2024-05-26T22:54:08.622986Z"
    }
   },
   "outputs": [
    {
     "data": {
      "text/plain": [
       "array([[ 453600.],\n",
       "       [ 560700.],\n",
       "       [ 501900.],\n",
       "       [ 436800.],\n",
       "       [ 478800.],\n",
       "       [ 327600.],\n",
       "       [ 252000.],\n",
       "       [ 409500.],\n",
       "       [ 432600.],\n",
       "       [ 289800.],\n",
       "       [ 781200.],\n",
       "       [ 653100.],\n",
       "       [ 663600.],\n",
       "       [ 430500.],\n",
       "       [ 602700.],\n",
       "       [ 455700.],\n",
       "       [ 409500.],\n",
       "       [ 499800.],\n",
       "       [ 409500.],\n",
       "       [ 499800.],\n",
       "       [ 525000.],\n",
       "       [ 497700.],\n",
       "       [ 281400.],\n",
       "       [ 264600.],\n",
       "       [1024800.],\n",
       "       [ 602700.],\n",
       "       [ 117600.],\n",
       "       [ 483000.],\n",
       "       [ 525000.],\n",
       "       [ 905100.],\n",
       "       [ 399000.],\n",
       "       [ 499800.],\n",
       "       [ 214200.],\n",
       "       [ 480900.],\n",
       "       [ 424200.],\n",
       "       [ 289800.],\n",
       "       [ 510300.],\n",
       "       [ 451500.],\n",
       "       [ 766500.],\n",
       "       [ 510300.],\n",
       "       [ 369600.],\n",
       "       [ 466200.],\n",
       "       [ 312900.],\n",
       "       [ 407400.],\n",
       "       [ 273000.],\n",
       "       [ 392700.],\n",
       "       [ 294000.],\n",
       "       [ 556500.],\n",
       "       [ 178500.],\n",
       "       [ 728700.],\n",
       "       [ 157500.],\n",
       "       [ 367500.],\n",
       "       [ 327600.],\n",
       "       [ 497700.],\n",
       "       [ 680400.],\n",
       "       [ 266700.],\n",
       "       [ 388500.],\n",
       "       [ 520800.],\n",
       "       [ 405300.],\n",
       "       [ 296100.],\n",
       "       [ 105000.],\n",
       "       [ 835800.],\n",
       "       [ 407400.],\n",
       "       [ 445200.],\n",
       "       [ 485100.],\n",
       "       [ 281400.],\n",
       "       [ 462000.],\n",
       "       [ 487200.],\n",
       "       [ 394800.],\n",
       "       [ 577500.],\n",
       "       [ 686700.],\n",
       "       [ 485100.],\n",
       "       [ 365400.],\n",
       "       [ 699300.],\n",
       "       [ 506100.],\n",
       "       [ 621600.],\n",
       "       [ 329700.],\n",
       "       [ 487200.],\n",
       "       [ 422100.],\n",
       "       [ 279300.],\n",
       "       [ 237300.],\n",
       "       [ 476700.],\n",
       "       [ 386400.],\n",
       "       [ 275100.],\n",
       "       [ 525000.],\n",
       "       [ 525000.],\n",
       "       [ 283500.],\n",
       "       [ 445200.],\n",
       "       [ 812700.],\n",
       "       [ 558600.],\n",
       "       [ 336000.],\n",
       "       [ 401100.],\n",
       "       [ 512400.],\n",
       "       [ 516600.],\n",
       "       [ 739200.],\n",
       "       [ 470400.],\n",
       "       [ 384300.],\n",
       "       [ 300300.],\n",
       "       [ 388500.],\n",
       "       [ 415800.],\n",
       "       [ 241500.],\n",
       "       [ 789600.],\n",
       "       [ 420000.],\n",
       "       [ 315000.],\n",
       "       [ 529200.],\n",
       "       [ 758100.],\n",
       "       [ 491400.],\n",
       "       [ 359100.],\n",
       "       [ 445200.],\n",
       "       [ 396900.],\n",
       "       [ 501900.],\n",
       "       [ 441000.],\n",
       "       [ 459900.],\n",
       "       [ 585900.],\n",
       "       [ 319200.],\n",
       "       [ 940800.],\n",
       "       [ 310800.],\n",
       "       [ 432600.],\n",
       "       [ 426300.],\n",
       "       [ 275100.],\n",
       "       [ 399000.],\n",
       "       [ 401100.],\n",
       "       [ 279300.],\n",
       "       [ 483000.],\n",
       "       [ 422100.],\n",
       "       [ 382200.],\n",
       "       [ 480900.],\n",
       "       [ 432600.],\n",
       "       [ 577500.],\n",
       "       [ 338100.],\n",
       "       [ 611100.],\n",
       "       [ 455700.],\n",
       "       [ 405300.],\n",
       "       [ 466200.],\n",
       "       [ 434700.],\n",
       "       [ 462000.],\n",
       "       [ 327600.],\n",
       "       [ 632100.],\n",
       "       [ 665700.],\n",
       "       [ 300300.],\n",
       "       [ 478800.],\n",
       "       [ 365400.],\n",
       "       [ 174300.],\n",
       "       [ 254100.],\n",
       "       [ 732900.],\n",
       "       [ 462000.],\n",
       "       [ 417900.],\n",
       "       [ 426300.],\n",
       "       [ 441000.],\n",
       "       [ 485100.],\n",
       "       [ 428400.],\n",
       "       [ 472500.],\n",
       "       [ 218400.],\n",
       "       [ 352800.],\n",
       "       [ 527100.],\n",
       "       [ 476700.],\n",
       "       [ 480900.],\n",
       "       [ 501900.],\n",
       "       [ 449400.],\n",
       "       [ 455700.],\n",
       "       [ 323400.],\n",
       "       [ 321300.],\n",
       "       [ 485100.],\n",
       "       [ 501900.],\n",
       "       [ 407400.],\n",
       "       [ 373800.],\n",
       "       [ 373800.],\n",
       "       [ 388500.],\n",
       "       [ 443100.],\n",
       "       [ 436800.],\n",
       "       [ 405300.],\n",
       "       [ 361200.],\n",
       "       [ 924000.],\n",
       "       [ 266700.],\n",
       "       [ 382200.],\n",
       "       [ 592200.],\n",
       "       [ 737100.],\n",
       "       [ 609000.],\n",
       "       [ 203700.],\n",
       "       [ 701400.],\n",
       "       [ 632100.],\n",
       "       [ 449400.],\n",
       "       [ 783300.],\n",
       "       [ 426300.],\n",
       "       [ 436800.],\n",
       "       [ 732900.],\n",
       "       [ 184800.],\n",
       "       [ 457800.],\n",
       "       [ 422100.],\n",
       "       [ 596400.],\n",
       "       [ 226800.],\n",
       "       [ 672000.],\n",
       "       [ 296100.],\n",
       "       [ 588000.],\n",
       "       [ 485100.],\n",
       "       [ 913500.],\n",
       "       [ 396900.],\n",
       "       [ 228900.],\n",
       "       [ 472500.],\n",
       "       [ 697200.],\n",
       "       [ 420000.],\n",
       "       [ 401100.],\n",
       "       [ 489300.],\n",
       "       [ 558600.],\n",
       "       [ 953400.],\n",
       "       [ 413700.],\n",
       "       [ 489300.],\n",
       "       [ 201600.],\n",
       "       [ 178500.],\n",
       "       [ 245700.],\n",
       "       [ 363300.],\n",
       "       [ 510300.],\n",
       "       [ 466200.],\n",
       "       [ 151200.],\n",
       "       [ 403200.],\n",
       "       [ 764400.],\n",
       "       [ 304500.],\n",
       "       [ 518700.],\n",
       "       [ 504000.],\n",
       "       [ 512400.],\n",
       "       [ 245700.],\n",
       "       [ 919800.],\n",
       "       [ 525000.],\n",
       "       [ 340200.],\n",
       "       [ 457800.],\n",
       "       [ 795900.],\n",
       "       [ 220500.],\n",
       "       [ 478800.],\n",
       "       [ 432600.],\n",
       "       [ 487200.],\n",
       "       [ 596400.],\n",
       "       [ 281400.],\n",
       "       [ 495600.],\n",
       "       [ 438900.],\n",
       "       [ 373800.],\n",
       "       [ 302400.],\n",
       "       [ 390600.],\n",
       "       [ 317100.],\n",
       "       [ 497700.],\n",
       "       [ 598500.],\n",
       "       [ 504000.],\n",
       "       [ 373800.],\n",
       "       [ 327600.],\n",
       "       [ 367500.],\n",
       "       [ 554400.],\n",
       "       [ 289800.],\n",
       "       [ 411600.],\n",
       "       [ 266700.],\n",
       "       [ 462000.],\n",
       "       [ 512400.],\n",
       "       [ 443100.],\n",
       "       [ 455700.],\n",
       "       [ 501900.],\n",
       "       [ 426300.],\n",
       "       [ 319200.],\n",
       "       [ 386400.],\n",
       "       [ 401100.],\n",
       "       [ 371700.],\n",
       "       [ 151200.],\n",
       "       [ 462000.],\n",
       "       [ 520800.],\n",
       "       [ 695100.],\n",
       "       [ 405300.],\n",
       "       [ 315000.],\n",
       "       [ 554400.],\n",
       "       [ 663600.],\n",
       "       [ 407400.],\n",
       "       [ 644700.],\n",
       "       [ 289800.],\n",
       "       [ 312900.],\n",
       "       [ 531300.],\n",
       "       [ 409500.],\n",
       "       [ 105000.],\n",
       "       [ 411600.],\n",
       "       [ 676200.],\n",
       "       [ 338100.],\n",
       "       [ 518700.],\n",
       "       [ 249900.],\n",
       "       [ 491400.],\n",
       "       [ 182700.],\n",
       "       [ 247800.],\n",
       "       [ 378000.],\n",
       "       [ 462000.],\n",
       "       [ 386400.],\n",
       "       [ 625800.],\n",
       "       [ 155400.],\n",
       "       [ 499800.],\n",
       "       [ 411600.],\n",
       "       [ 621600.],\n",
       "       [ 420000.],\n",
       "       [ 304500.],\n",
       "       [ 277200.],\n",
       "       [ 340200.],\n",
       "       [ 777000.],\n",
       "       [ 350700.],\n",
       "       [ 609000.],\n",
       "       [ 220500.],\n",
       "       [ 151200.],\n",
       "       [ 424200.],\n",
       "       [ 306600.],\n",
       "       [ 569100.],\n",
       "       [ 625800.],\n",
       "       [ 760200.],\n",
       "       [ 697200.],\n",
       "       [ 558600.],\n",
       "       [ 417900.],\n",
       "       [ 296100.],\n",
       "       [ 361200.],\n",
       "       [1018500.],\n",
       "       [ 520800.],\n",
       "       [ 384300.],\n",
       "       [ 298200.],\n",
       "       [ 672000.],\n",
       "       [ 478800.],\n",
       "       [ 655200.],\n",
       "       [ 291900.],\n",
       "       [ 468300.],\n",
       "       [ 514500.],\n",
       "       [ 170100.],\n",
       "       [ 627900.],\n",
       "       [ 422100.],\n",
       "       [ 646800.],\n",
       "       [ 732900.],\n",
       "       [ 516600.],\n",
       "       [ 342300.],\n",
       "       [ 495600.],\n",
       "       [ 147000.],\n",
       "       [ 508200.],\n",
       "       [ 466200.],\n",
       "       [ 695100.],\n",
       "       [ 512400.],\n",
       "       [ 468300.],\n",
       "       [ 451500.],\n",
       "       [ 396900.],\n",
       "       [ 291900.],\n",
       "       [ 506100.],\n",
       "       [ 709800.],\n",
       "       [ 434700.],\n",
       "       [ 726600.],\n",
       "       [ 403200.],\n",
       "       [ 348600.],\n",
       "       [ 487200.]])"
      ]
     },
     "execution_count": 202,
     "metadata": {},
     "output_type": "execute_result"
    }
   ],
   "execution_count": 202
  },
  {
   "cell_type": "code",
   "source": [
    "x_teste_inverse = x_scaler.inverse_transform(x_teste_scaler)"
   ],
   "metadata": {
    "id": "h5UWcx7U2O4R",
    "ExecuteTime": {
     "end_time": "2024-05-26T22:54:09.288996Z",
     "start_time": "2024-05-26T22:54:09.279153Z"
    }
   },
   "outputs": [],
   "execution_count": 203
  },
  {
   "cell_type": "code",
   "source": [
    "x_teste_inverse"
   ],
   "metadata": {
    "id": "-4opN-gQn-CU",
    "ExecuteTime": {
     "end_time": "2024-05-26T22:54:10.262929Z",
     "start_time": "2024-05-26T22:54:10.245122Z"
    }
   },
   "outputs": [
    {
     "data": {
      "text/plain": [
       "array([[ 5.834,  8.47 , 21.   ],\n",
       "       [ 6.842,  6.9  , 13.   ],\n",
       "       [ 5.403, 26.82 , 14.7  ],\n",
       "       [ 6.852, 19.78 , 20.2  ],\n",
       "       [ 6.417,  8.81 , 17.8  ],\n",
       "       [ 6.406, 19.52 , 20.2  ],\n",
       "       [ 4.903, 29.29 , 14.7  ],\n",
       "       [ 6.112, 12.67 , 20.2  ],\n",
       "       [ 6.163, 11.34 , 18.   ],\n",
       "       [ 5.965, 13.83 , 21.   ],\n",
       "       [ 6.223, 21.78 , 20.2  ],\n",
       "       [ 5.837, 15.69 , 20.2  ],\n",
       "       [ 6.041,  7.7  , 19.6  ],\n",
       "       [ 4.628, 34.37 , 20.2  ],\n",
       "       [ 6.727,  9.42 , 20.9  ],\n",
       "       [ 5.757, 17.31 , 21.2  ],\n",
       "       [ 6.279, 11.97 , 18.7  ],\n",
       "       [ 6.51 ,  7.39 , 14.7  ],\n",
       "       [ 5.807, 16.03 , 18.6  ],\n",
       "       [ 6.739,  4.69 , 15.2  ],\n",
       "       [ 7.327, 11.25 , 13.   ],\n",
       "       [ 7.135,  4.45 , 17.   ],\n",
       "       [ 4.519, 36.98 , 20.2  ],\n",
       "       [ 5.85 ,  8.77 , 19.2  ],\n",
       "       [ 5.569, 15.1  , 19.2  ],\n",
       "       [ 7.645,  3.01 , 14.9  ],\n",
       "       [ 7.333,  7.79 , 13.   ],\n",
       "       [ 7.61 ,  3.11 , 14.7  ],\n",
       "       [ 6.395, 13.27 , 20.2  ],\n",
       "       [ 6.019, 12.92 , 19.2  ],\n",
       "       [ 6.485, 18.85 , 20.2  ],\n",
       "       [ 5.889, 15.71 , 15.2  ],\n",
       "       [ 6.226, 10.15 , 19.1  ],\n",
       "       [ 6.943,  4.59 , 14.7  ],\n",
       "       [ 6.232, 12.34 , 18.7  ],\n",
       "       [ 8.337,  2.47 , 17.4  ],\n",
       "       [ 6.144,  9.09 , 16.9  ],\n",
       "       [ 5.627, 22.88 , 20.2  ],\n",
       "       [ 6.375,  9.38 , 18.6  ],\n",
       "       [ 6.393,  5.19 , 16.6  ],\n",
       "       [ 6.193, 21.52 , 20.2  ],\n",
       "       [ 6.377, 20.45 , 15.2  ],\n",
       "       [ 5.708, 11.74 , 19.6  ],\n",
       "       [ 6.286,  8.94 , 18.7  ],\n",
       "       [ 5.39 , 21.14 , 19.2  ],\n",
       "       [ 5.803, 14.64 , 20.2  ],\n",
       "       [ 6.421,  9.14 , 17.8  ],\n",
       "       [ 6.185, 18.03 , 20.2  ],\n",
       "       [ 8.259,  3.54 , 19.1  ],\n",
       "       [ 5.926, 13.59 , 19.2  ],\n",
       "       [ 6.968,  4.59 , 14.9  ],\n",
       "       [ 5.891, 10.87 , 18.6  ],\n",
       "       [ 6.678,  6.27 , 16.   ],\n",
       "       [ 6.348, 17.64 , 20.2  ],\n",
       "       [ 7.358,  4.73 , 17.4  ],\n",
       "       [ 6.606,  7.37 , 16.6  ],\n",
       "       [ 5.713, 14.76 , 20.2  ],\n",
       "       [ 5.957, 20.62 , 20.2  ],\n",
       "       [ 6.182,  9.47 , 18.6  ],\n",
       "       [ 6.03 ,  7.88 , 21.   ],\n",
       "       [ 5.709, 15.79 , 14.7  ],\n",
       "       [ 6.657, 21.22 , 20.2  ],\n",
       "       [ 5.872, 15.37 , 17.8  ],\n",
       "       [ 6.092, 17.09 , 17.8  ],\n",
       "       [ 6.127, 14.09 , 20.9  ],\n",
       "       [ 5.783, 18.06 , 18.6  ],\n",
       "       [ 5.52 , 24.56 , 20.2  ],\n",
       "       [ 6.718,  6.56 , 19.1  ],\n",
       "       [ 6.54 ,  8.65 , 15.9  ],\n",
       "       [ 6.38 , 24.08 , 20.2  ],\n",
       "       [ 5.019, 34.41 , 21.2  ],\n",
       "       [ 6.482,  7.19 , 17.6  ],\n",
       "       [ 5.888, 14.8  , 21.1  ],\n",
       "       [ 6.63 ,  4.7  , 19.2  ],\n",
       "       [ 6.794, 21.24 , 20.2  ],\n",
       "       [ 6.372, 11.12 , 21.2  ],\n",
       "       [ 6.897, 11.38 , 16.6  ],\n",
       "       [ 6.968, 17.21 , 20.2  ],\n",
       "       [ 6.383,  5.77 , 17.3  ],\n",
       "       [ 6.081, 14.7  , 20.2  ],\n",
       "       [ 5.741, 13.15 , 19.7  ],\n",
       "       [ 7.686,  3.92 , 17.4  ],\n",
       "       [ 5.961,  9.88 , 19.2  ],\n",
       "       [ 6.433,  9.52 , 19.1  ],\n",
       "       [ 6.012, 12.43 , 15.2  ],\n",
       "       [ 6.871,  6.07 , 14.8  ],\n",
       "       [ 6.516,  6.36 , 17.9  ],\n",
       "       [ 6.415,  6.12 , 19.6  ],\n",
       "       [ 6.405, 10.63 , 20.9  ],\n",
       "       [ 6.172, 19.15 , 15.2  ],\n",
       "       [ 5.706, 12.43 , 16.9  ],\n",
       "       [ 5.631, 29.93 , 15.2  ],\n",
       "       [ 5.936, 16.94 , 20.2  ],\n",
       "       [ 6.701, 16.42 , 20.2  ],\n",
       "       [ 6.108,  6.57 , 16.4  ],\n",
       "       [ 6.122,  5.98 , 18.4  ],\n",
       "       [ 6.12 ,  9.08 , 21.   ],\n",
       "       [ 6.546,  5.33 , 16.6  ],\n",
       "       [ 6.209, 13.22 , 20.2  ],\n",
       "       [ 5.427, 18.14 , 20.2  ],\n",
       "       [ 5.349, 19.77 , 20.2  ],\n",
       "       [ 6.38 , 23.69 , 20.2  ],\n",
       "       [ 6.552,  3.76 , 17.4  ],\n",
       "       [ 5.927,  9.22 , 19.7  ],\n",
       "       [ 6.471, 17.12 , 20.2  ],\n",
       "       [ 5.852, 29.97 , 20.2  ],\n",
       "       [ 6.129, 15.12 , 14.7  ],\n",
       "       [ 6.242, 10.74 , 20.2  ],\n",
       "       [ 5.983, 18.07 , 20.1  ],\n",
       "       [ 6.29 ,  4.67 , 16.1  ],\n",
       "       [ 7.42 ,  6.47 , 18.4  ],\n",
       "       [ 5.682, 10.21 , 17.9  ],\n",
       "       [ 4.973, 12.64 , 18.4  ],\n",
       "       [ 7.249,  4.81 , 17.9  ],\n",
       "       [ 6.563,  5.68 , 17.8  ],\n",
       "       [ 6.316,  5.68 , 20.2  ],\n",
       "       [ 6.824, 22.74 , 20.2  ],\n",
       "       [ 7.393, 16.74 , 20.2  ],\n",
       "       [ 5.879, 17.58 , 19.1  ],\n",
       "       [ 8.247,  3.95 , 17.4  ],\n",
       "       [ 7.107,  8.61 , 12.6  ],\n",
       "       [ 6.202, 14.52 , 20.2  ],\n",
       "       [ 6.405, 19.37 , 20.2  ],\n",
       "       [ 6.411, 15.02 , 20.2  ],\n",
       "       [ 6.25 ,  5.5  , 14.7  ],\n",
       "       [ 6.167, 16.29 , 20.2  ],\n",
       "       [ 5.602, 16.2  , 17.9  ],\n",
       "       [ 5.782, 15.94 , 18.4  ],\n",
       "       [ 6.511,  5.28 , 16.8  ],\n",
       "       [ 6.273,  6.78 , 18.7  ],\n",
       "       [ 5.813, 14.81 , 21.   ],\n",
       "       [ 6.333,  7.34 , 16.9  ],\n",
       "       [ 7.147,  5.33 , 18.7  ],\n",
       "       [ 3.863, 13.33 , 20.2  ],\n",
       "       [ 6.43 ,  5.21 , 18.7  ],\n",
       "       [ 5.905, 11.45 , 20.2  ],\n",
       "       [ 6.335, 16.96 , 21.2  ],\n",
       "       [ 5.876,  9.25 , 16.4  ],\n",
       "       [ 5.961, 17.93 , 19.1  ],\n",
       "       [ 6.142, 18.72 , 21.   ],\n",
       "       [ 5.594, 13.09 , 18.9  ],\n",
       "       [ 5.57 , 21.02 , 21.   ],\n",
       "       [ 5.859,  9.64 , 16.6  ],\n",
       "       [ 6.096, 10.26 , 21.   ],\n",
       "       [ 5.935, 34.02 , 20.2  ],\n",
       "       [ 6.341, 17.79 , 20.2  ],\n",
       "       [ 7.104,  8.05 , 18.6  ]])"
      ]
     },
     "execution_count": 204,
     "metadata": {},
     "output_type": "execute_result"
    }
   ],
   "execution_count": 204
  },
  {
   "cell_type": "code",
   "source": [
    "y_teste_inverse = y_scaler.inverse_transform(y_teste_scaler)"
   ],
   "metadata": {
    "id": "gzk4dY8b2RaH",
    "ExecuteTime": {
     "end_time": "2024-05-26T22:54:10.941694Z",
     "start_time": "2024-05-26T22:54:10.935905Z"
    }
   },
   "outputs": [],
   "execution_count": 205
  },
  {
   "cell_type": "code",
   "source": [
    "y_teste_inverse"
   ],
   "metadata": {
    "id": "AKQyAROpoCXa",
    "ExecuteTime": {
     "end_time": "2024-05-26T22:54:12.073519Z",
     "start_time": "2024-05-26T22:54:12.060809Z"
    }
   },
   "outputs": [
    {
     "data": {
      "text/plain": [
       "array([[ 417900.],\n",
       "       [ 632100.],\n",
       "       [ 281400.],\n",
       "       [ 577500.],\n",
       "       [ 474600.],\n",
       "       [ 359100.],\n",
       "       [ 247800.],\n",
       "       [ 474600.],\n",
       "       [ 449400.],\n",
       "       [ 411600.],\n",
       "       [ 214200.],\n",
       "       [ 214200.],\n",
       "       [ 428400.],\n",
       "       [ 375900.],\n",
       "       [ 577500.],\n",
       "       [ 327600.],\n",
       "       [ 420000.],\n",
       "       [ 489300.],\n",
       "       [ 470400.],\n",
       "       [ 640500.],\n",
       "       [ 651000.],\n",
       "       [ 690900.],\n",
       "       [ 147000.],\n",
       "       [ 441000.],\n",
       "       [ 367500.],\n",
       "       [ 966000.],\n",
       "       [ 756000.],\n",
       "       [ 888300.],\n",
       "       [ 455700.],\n",
       "       [ 445200.],\n",
       "       [ 323400.],\n",
       "       [ 455700.],\n",
       "       [ 430500.],\n",
       "       [ 867300.],\n",
       "       [ 445200.],\n",
       "       [ 875700.],\n",
       "       [ 415800.],\n",
       "       [ 268800.],\n",
       "       [ 590100.],\n",
       "       [ 497700.],\n",
       "       [ 231000.],\n",
       "       [ 315000.],\n",
       "       [ 388500.],\n",
       "       [ 449400.],\n",
       "       [ 413700.],\n",
       "       [ 352800.],\n",
       "       [ 453600.],\n",
       "       [ 306600.],\n",
       "       [ 898800.],\n",
       "       [ 514500.],\n",
       "       [ 743400.],\n",
       "       [ 474600.],\n",
       "       [ 600600.],\n",
       "       [ 304500.],\n",
       "       [ 661500.],\n",
       "       [ 489300.],\n",
       "       [ 422100.],\n",
       "       [ 184800.],\n",
       "       [ 525000.],\n",
       "       [ 249900.],\n",
       "       [ 407400.],\n",
       "       [ 361200.],\n",
       "       [ 428400.],\n",
       "       [ 392700.],\n",
       "       [ 428400.],\n",
       "       [ 472500.],\n",
       "       [ 258300.],\n",
       "       [ 550200.],\n",
       "       [ 346500.],\n",
       "       [ 199500.],\n",
       "       [ 302400.],\n",
       "       [ 611100.],\n",
       "       [ 396900.],\n",
       "       [ 585900.],\n",
       "       [ 279300.],\n",
       "       [ 483000.],\n",
       "       [ 462000.],\n",
       "       [ 218400.],\n",
       "       [ 518700.],\n",
       "       [ 420000.],\n",
       "       [ 392700.],\n",
       "       [ 980700.],\n",
       "       [ 455700.],\n",
       "       [ 514500.],\n",
       "       [ 480900.],\n",
       "       [ 520800.],\n",
       "       [ 485100.],\n",
       "       [ 525000.],\n",
       "       [ 390600.],\n",
       "       [ 569100.],\n",
       "       [ 359100.],\n",
       "       [ 346500.],\n",
       "       [ 283500.],\n",
       "       [ 344400.],\n",
       "       [ 459900.],\n",
       "       [ 464100.],\n",
       "       [ 432600.],\n",
       "       [ 617400.],\n",
       "       [ 449400.],\n",
       "       [ 289800.],\n",
       "       [ 174300.],\n",
       "       [ 275100.],\n",
       "       [ 661500.],\n",
       "       [ 411600.],\n",
       "       [ 275100.],\n",
       "       [ 132300.],\n",
       "       [ 357000.],\n",
       "       [ 483000.],\n",
       "       [ 285600.],\n",
       "       [ 493500.],\n",
       "       [ 701400.],\n",
       "       [ 405300.],\n",
       "       [ 338100.],\n",
       "       [ 743400.],\n",
       "       [ 682500.],\n",
       "       [ 466200.],\n",
       "       [ 176400.],\n",
       "       [ 373800.],\n",
       "       [ 394800.],\n",
       "       [1014300.],\n",
       "       [ 636300.],\n",
       "       [ 228900.],\n",
       "       [ 262500.],\n",
       "       [ 350700.],\n",
       "       [ 567000.],\n",
       "       [ 417900.],\n",
       "       [ 407400.],\n",
       "       [ 415800.],\n",
       "       [ 525000.],\n",
       "       [ 506100.],\n",
       "       [ 348600.],\n",
       "       [ 474600.],\n",
       "       [ 760200.],\n",
       "       [ 485100.],\n",
       "       [ 602700.],\n",
       "       [ 432600.],\n",
       "       [ 380100.],\n",
       "       [ 438900.],\n",
       "       [ 430500.],\n",
       "       [ 319200.],\n",
       "       [ 365400.],\n",
       "       [ 285600.],\n",
       "       [ 474600.],\n",
       "       [ 382200.],\n",
       "       [ 176400.],\n",
       "       [ 312900.],\n",
       "       [ 693000.]])"
      ]
     },
     "execution_count": 206,
     "metadata": {},
     "output_type": "execute_result"
    }
   ],
   "execution_count": 206
  },
  {
   "cell_type": "code",
   "source": [
    "y_teste"
   ],
   "metadata": {
    "id": "loN9hECp4XX1",
    "ExecuteTime": {
     "end_time": "2024-05-26T22:54:14.219936Z",
     "start_time": "2024-05-26T22:54:14.208547Z"
    }
   },
   "outputs": [
    {
     "data": {
      "text/plain": [
       "array([ 417900.,  632100.,  281400.,  577500.,  474600.,  359100.,\n",
       "        247800.,  474600.,  449400.,  411600.,  214200.,  214200.,\n",
       "        428400.,  375900.,  577500.,  327600.,  420000.,  489300.,\n",
       "        470400.,  640500.,  651000.,  690900.,  147000.,  441000.,\n",
       "        367500.,  966000.,  756000.,  888300.,  455700.,  445200.,\n",
       "        323400.,  455700.,  430500.,  867300.,  445200.,  875700.,\n",
       "        415800.,  268800.,  590100.,  497700.,  231000.,  315000.,\n",
       "        388500.,  449400.,  413700.,  352800.,  453600.,  306600.,\n",
       "        898800.,  514500.,  743400.,  474600.,  600600.,  304500.,\n",
       "        661500.,  489300.,  422100.,  184800.,  525000.,  249900.,\n",
       "        407400.,  361200.,  428400.,  392700.,  428400.,  472500.,\n",
       "        258300.,  550200.,  346500.,  199500.,  302400.,  611100.,\n",
       "        396900.,  585900.,  279300.,  483000.,  462000.,  218400.,\n",
       "        518700.,  420000.,  392700.,  980700.,  455700.,  514500.,\n",
       "        480900.,  520800.,  485100.,  525000.,  390600.,  569100.,\n",
       "        359100.,  346500.,  283500.,  344400.,  459900.,  464100.,\n",
       "        432600.,  617400.,  449400.,  289800.,  174300.,  275100.,\n",
       "        661500.,  411600.,  275100.,  132300.,  357000.,  483000.,\n",
       "        285600.,  493500.,  701400.,  405300.,  338100.,  743400.,\n",
       "        682500.,  466200.,  176400.,  373800.,  394800., 1014300.,\n",
       "        636300.,  228900.,  262500.,  350700.,  567000.,  417900.,\n",
       "        407400.,  415800.,  525000.,  506100.,  348600.,  474600.,\n",
       "        760200.,  485100.,  602700.,  432600.,  380100.,  438900.,\n",
       "        430500.,  319200.,  365400.,  285600.,  474600.,  382200.,\n",
       "        176400.,  312900.,  693000.])"
      ]
     },
     "execution_count": 207,
     "metadata": {},
     "output_type": "execute_result"
    }
   ],
   "execution_count": 207
  },
  {
   "cell_type": "markdown",
   "source": [
    "# **DESAFIO 4**"
   ],
   "metadata": {
    "id": "Q6LoOxMow4Ci"
   }
  },
  {
   "cell_type": "markdown",
   "source": [
    "DESENVOLVER UM ALGORITMO DE REDES NEURAIS ARTFICIAIS DE REGRESSÃO PARA DATASET DO LINK A SEGUIR:"
   ],
   "metadata": {
    "id": "bjLFumRQxayX"
   }
  },
  {
   "cell_type": "markdown",
   "source": [
    "https://www.kaggle.com/mirichoi0218/insurance/code"
   ],
   "metadata": {
    "id": "VG8xV9wYxKk2"
   }
  }
 ]
}
