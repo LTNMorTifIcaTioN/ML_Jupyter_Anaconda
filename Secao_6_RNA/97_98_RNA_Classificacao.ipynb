{
 "nbformat": 4,
 "nbformat_minor": 0,
 "metadata": {
  "colab": {
   "name": "Redes_neurais_classificacao.ipynb",
   "provenance": []
  },
  "kernelspec": {
   "name": "python3",
   "display_name": "Python 3 (ipykernel)",
   "language": "python"
  },
  "language_info": {
   "name": "python"
  }
 },
 "cells": [
  {
   "cell_type": "markdown",
   "metadata": {
    "id": "fQJ5CYV9Te0X"
   },
   "source": "# **97. Classificação com Redes Neurais Artificiais: pré-processamento**"
  },
  {
   "cell_type": "markdown",
   "metadata": {
    "id": "kXFCCsVHTtTP"
   },
   "source": [
    "Este projeto tem por objetivo desenvolver um algoritmo de Machine Learning para prever a tendência de uma pessoa desenvolver algum tipo de doença cardíaca com base em alguns fatores clínicos e laboratoriais. "
   ]
  },
  {
   "cell_type": "markdown",
   "metadata": {
    "id": "5ZQ2nYhQUc3G"
   },
   "source": [
    "Os dados foram extraídos do site do Kaggle:\n",
    "\n",
    "https://www.kaggle.com/fedesoriano/heart-failure-prediction/version/1"
   ]
  },
  {
   "cell_type": "code",
   "metadata": {
    "id": "nWvIcticlCs2",
    "ExecuteTime": {
     "end_time": "2024-05-26T03:36:54.273401Z",
     "start_time": "2024-05-26T03:36:54.267296Z"
    }
   },
   "source": [
    "import numpy as np\n",
    "import pandas as pd"
   ],
   "execution_count": 2,
   "outputs": []
  },
  {
   "cell_type": "code",
   "metadata": {
    "id": "LRIrwcC8kUhT",
    "ExecuteTime": {
     "end_time": "2024-05-26T03:36:57.496596Z",
     "start_time": "2024-05-26T03:36:57.473080Z"
    }
   },
   "source": [
    "df = pd.read_csv(r'D:\\Users\\Nayan Couto\\Cloud Drive\\Documentos\\Arquivos PDF, PPT, DOC\\CURSOS\\Machine Learning com Python\\ML_Jupyter_Anaconda\\Secao_6_RNA\\Datasets\\heart_tratado.csv',\n",
    "                    sep=';', encoding='iso-8859-1')"
   ],
   "execution_count": 3,
   "outputs": []
  },
  {
   "cell_type": "code",
   "source": [
    "df.head()"
   ],
   "metadata": {
    "id": "QtugliripIyp",
    "colab": {
     "base_uri": "https://localhost:8080/",
     "height": 270
    },
    "outputId": "a50cc59c-5c55-4f6f-f0c9-b26f8a30a088",
    "ExecuteTime": {
     "end_time": "2024-05-26T03:37:02.729565Z",
     "start_time": "2024-05-26T03:37:02.658798Z"
    }
   },
   "execution_count": 4,
   "outputs": []
  },
  {
   "cell_type": "markdown",
   "source": [
    "## **LEGENDA**"
   ],
   "metadata": {
    "id": "khuvnjo8ta5k"
   }
  },
  {
   "cell_type": "markdown",
   "source": [
    "Age = idade (anos)\n",
    "\n",
    "Sex = sexo (0=M; 1=F)\n",
    "\n",
    "Chest Pain Type = tipo de dor no peito (0=TA:angina típica; 1=ATA:angina atípica; 2=NAP:dor não anginosa; 3=ASY:assintomático)\n",
    "\n",
    "Resting BP = pressão sanguínea em repouso (mmHg)\n",
    "\n",
    "Cholesterol = colesterol sérico (mg/dl)\n",
    "\n",
    "Fasting BS = açúcar no sangue em jejum (mg/dl)\n",
    "          0: Fasting BS < 120 mg/dl (não diabético)\n",
    "          1: Fasting BS >= 120 mg/dl, (diabético)\n",
    "\n",
    "Resting ECG = eletrocardiograma em repouso (0=Normal; 1=ST:Anormalidade da onda ST-T; 2=LVH: Hipertrofia ventricular esquerda)\n",
    "\n",
    "Max HR = frequência cardíaca máxima\n",
    "\n",
    "Exercise Angina = Angina induzida por exercício (0=Não; 1=Sim)\n",
    "\n",
    "Old Peak = Depressão de ST induzida por exercício em relação ao repouso\n",
    "\n",
    "ST_Slope = Inclinação do segmento ST (0=UP; 1=Flat; 2=Down)\n",
    "\n",
    "Heart Disease = Doença cardíaca (0=Não possui doença cardíaca; 1=Possui doença cardíaca)\n",
    "\n"
   ],
   "metadata": {
    "id": "9Kz8O68wpsY3"
   }
  },
  {
   "cell_type": "code",
   "source": [
    "df.shape"
   ],
   "metadata": {
    "colab": {
     "base_uri": "https://localhost:8080/"
    },
    "id": "NSH5-od1gRAU",
    "outputId": "de073565-01f3-4244-894c-a15e7973d58b",
    "ExecuteTime": {
     "end_time": "2024-05-26T03:54:50.112832Z",
     "start_time": "2024-05-26T03:54:50.101313Z"
    }
   },
   "execution_count": 5,
   "outputs": []
  },
  {
   "cell_type": "markdown",
   "source": [
    "**Resultados**"
   ],
   "metadata": {
    "id": "1EEHsLeu6oX-"
   }
  },
  {
   "cell_type": "markdown",
   "source": [
    "Naive Bayes = 84,78% (treino e teste) - 234 acertos e 85,17% (validação cruzada) : previsores3_esc\n",
    "\n",
    "SVM = 86,23% - 238 acertos e 85,72% (validação cruzada) : previsores3-esc - SVC(kernel='rbf', random_state=1, C = 2)\n",
    "\n",
    "Regressão logística = 86,23% - 238 acertos e 85,83% (validação cruzada) : previsores3_esc - LogisticRegression(random_state=1, max_iter=600, penalty=\"l2\", tol=0.0001, C=1,solver=\"lbfgs\")\n",
    "\n",
    "KNN = 84,06% - 232 acertos e 85,84% (validação cruzada) : previsores3_esc ou previsores_esc - KNeighborsClassifier(n_neighbors=7, metric='minkowski', p = 1)\n",
    "\n",
    "Árvore de decisão = 83,7% (treino e teste) - 231 acertos e 83,32% (validação cruzada): previsores3_esc - DecisionTreeClassifier(criterion='entropy', random_state = 0, max_depth=3)\n",
    "\n",
    "Random Forest = 86,59% - 239 acertos e 85,92% (validação cruzada) : previsores - RandomForestClassifier(n_estimators=150, criterion='entropy', random_state = 0, max_depth=4)\n",
    "\n",
    "**XGboost = 87,68% - 242 acertos e 87,13% (validação cruzada) : previsores - XGBClassifier(max_depth=2, learning_rate=0.05, n_estimators=250, objective='binary:logistic', random_state=3)**\n",
    "\n",
    "LightGBM = 86,23% (treino e teste)- 238 acertos e 85,93% (validação cruzada) : previsores - lgb.LGBMClassifier(num_leaves = 250, objective = 'binary',  max_depth = 2, learning_rate = .05, max_bin =100)\n",
    "\n",
    "CatBoost = 86,96% (treino e teste) previsores4 - 240 acertos e 88% (validação cruzada com previsores) - CatBoostClassifier(task_type='CPU', iterations=100, learning_rate=0.1, depth = 8, random_state = 5, eval_metric=\"Accuracy\")"
   ],
   "metadata": {
    "id": "mnkY8fGJ3UtC"
   }
  },
  {
   "cell_type": "markdown",
   "source": [
    "## **Transformando as classes strings em variáveis categóricas ordinais**"
   ],
   "metadata": {
    "id": "a-DfpMtio-sq"
   }
  },
  {
   "cell_type": "code",
   "source": [
    "df2 = pd.DataFrame.copy(df)"
   ],
   "metadata": {
    "id": "JntPfMmptEhg",
    "ExecuteTime": {
     "end_time": "2024-05-26T04:14:54.755618Z",
     "start_time": "2024-05-26T04:14:54.747555Z"
    }
   },
   "execution_count": 6,
   "outputs": []
  },
  {
   "cell_type": "code",
   "source": [
    "df2['Sex'].replace({'M':0, 'F': 1}, inplace=True)\n",
    "df2['ChestPainType'].replace({'TA':0, 'ATA': 1, 'NAP':2, 'ASY': 3}, inplace=True)\n",
    "df2['RestingECG'].replace({'Normal':0, 'ST': 1, 'LVH':2}, inplace=True)\n",
    "df2['ExerciseAngina'].replace({'N':0, 'Y': 1}, inplace=True)\n",
    "df2['ST_Slope'].replace({'Up':0, 'Flat': 1, 'Down':2}, inplace=True)"
   ],
   "metadata": {
    "id": "KUxPnNEhrsjL",
    "ExecuteTime": {
     "end_time": "2024-05-26T04:15:05.356665Z",
     "start_time": "2024-05-26T04:15:05.321019Z"
    }
   },
   "execution_count": 7,
   "outputs": []
  },
  {
   "cell_type": "code",
   "source": [
    "df2.head()"
   ],
   "metadata": {
    "id": "1aTDlfUZpfJi",
    "colab": {
     "base_uri": "https://localhost:8080/",
     "height": 0
    },
    "outputId": "debc9436-c4ef-4607-8fc9-7c52fb2d59b7",
    "ExecuteTime": {
     "end_time": "2024-05-26T04:15:33.615846Z",
     "start_time": "2024-05-26T04:15:33.595321Z"
    }
   },
   "execution_count": 8,
   "outputs": []
  },
  {
   "cell_type": "code",
   "source": [
    "df2.dtypes"
   ],
   "metadata": {
    "id": "6kC-deH0giws",
    "colab": {
     "base_uri": "https://localhost:8080/"
    },
    "outputId": "55b722c7-9b48-48df-d750-30a52ef07208",
    "ExecuteTime": {
     "end_time": "2024-05-26T04:21:05.853892Z",
     "start_time": "2024-05-26T04:21:05.838358Z"
    }
   },
   "execution_count": 9,
   "outputs": []
  },
  {
   "cell_type": "code",
   "source": [
    "df2.shape"
   ],
   "metadata": {
    "id": "e3oELnDctqsq",
    "colab": {
     "base_uri": "https://localhost:8080/"
    },
    "outputId": "9c6bad83-831d-4d46-f8bc-b3d5132f9f57",
    "ExecuteTime": {
     "end_time": "2024-05-26T04:21:35.700660Z",
     "start_time": "2024-05-26T04:21:35.689208Z"
    }
   },
   "execution_count": 12,
   "outputs": []
  },
  {
   "cell_type": "markdown",
   "source": [
    "## **ATRIBUTOS PREVISORES E ALVO**"
   ],
   "metadata": {
    "id": "_NBxZCLzC8Bl"
   }
  },
  {
   "cell_type": "code",
   "source": [
    "previsores = df2.iloc[:, 0:11].values\n"
   ],
   "metadata": {
    "id": "alp9Gsx8z6f3",
    "ExecuteTime": {
     "end_time": "2024-05-26T04:21:43.015719Z",
     "start_time": "2024-05-26T04:21:43.001427Z"
    }
   },
   "execution_count": 13,
   "outputs": []
  },
  {
   "cell_type": "code",
   "source": [
    "previsores"
   ],
   "metadata": {
    "id": "ZJjs6cWq-9Bn",
    "colab": {
     "base_uri": "https://localhost:8080/"
    },
    "outputId": "0d7c5b12-7ba5-424e-a3a6-38bbd4ffc658",
    "ExecuteTime": {
     "end_time": "2024-05-26T04:21:44.531043Z",
     "start_time": "2024-05-26T04:21:44.513901Z"
    }
   },
   "execution_count": 14,
   "outputs": []
  },
  {
   "cell_type": "code",
   "source": [
    "previsores.shape"
   ],
   "metadata": {
    "id": "KrtsyKXXAxTL",
    "colab": {
     "base_uri": "https://localhost:8080/"
    },
    "outputId": "7a489ee9-49c9-4440-deb4-42cb253c614c",
    "ExecuteTime": {
     "end_time": "2024-05-26T04:22:13.395727Z",
     "start_time": "2024-05-26T04:22:13.386348Z"
    }
   },
   "execution_count": 15,
   "outputs": []
  },
  {
   "cell_type": "code",
   "source": [
    "alvo = df.iloc[:, 11].values"
   ],
   "metadata": {
    "id": "wdXWRjHMBAFo",
    "ExecuteTime": {
     "end_time": "2024-05-26T04:29:10.054202Z",
     "start_time": "2024-05-26T04:29:10.048187Z"
    }
   },
   "execution_count": 16,
   "outputs": []
  },
  {
   "cell_type": "code",
   "source": [
    "alvo"
   ],
   "metadata": {
    "id": "wK163BWgBJg2",
    "colab": {
     "base_uri": "https://localhost:8080/"
    },
    "outputId": "5f6e0701-71a7-46bc-b37f-47c85ec45675",
    "ExecuteTime": {
     "end_time": "2024-05-26T04:29:11.245964Z",
     "start_time": "2024-05-26T04:29:11.231135Z"
    }
   },
   "execution_count": 17,
   "outputs": []
  },
  {
   "cell_type": "code",
   "source": [
    "alvo.shape"
   ],
   "metadata": {
    "id": "RoSOdYF3BaOf",
    "colab": {
     "base_uri": "https://localhost:8080/"
    },
    "outputId": "59a49df8-93a6-4ff7-8d3c-d33ee8adc50b",
    "ExecuteTime": {
     "end_time": "2024-05-26T04:30:13.236802Z",
     "start_time": "2024-05-26T04:30:13.224694Z"
    }
   },
   "execution_count": 18,
   "outputs": []
  },
  {
   "cell_type": "markdown",
   "source": [
    "## **Análise das escalas dos atributos (Escalonamento)**"
   ],
   "metadata": {
    "id": "Xw6d4rM0C9ZD"
   }
  },
  {
   "cell_type": "code",
   "source": [
    "df2.describe()"
   ],
   "metadata": {
    "id": "JzYfrEIxDHIL",
    "colab": {
     "base_uri": "https://localhost:8080/",
     "height": 0
    },
    "outputId": "7ea5b14d-bea9-4a88-fadf-7d5cd1a8ea5a",
    "ExecuteTime": {
     "end_time": "2024-05-26T04:30:17.073883Z",
     "start_time": "2024-05-26T04:30:16.976762Z"
    }
   },
   "execution_count": 19,
   "outputs": []
  },
  {
   "cell_type": "markdown",
   "source": [
    "Padronização (utiliza a média e o desvio padrão como referência).\n",
    "\n",
    "Normalização (utiliza os valores máximo e mínimo como referência)."
   ],
   "metadata": {
    "id": "XcSAxyqTD4dw"
   }
  },
  {
   "cell_type": "code",
   "source": [
    "from sklearn.preprocessing import StandardScaler"
   ],
   "metadata": {
    "id": "eMoVJG5kEJSG",
    "ExecuteTime": {
     "end_time": "2024-05-26T04:33:45.063479Z",
     "start_time": "2024-05-26T04:33:40.611675Z"
    }
   },
   "execution_count": 20,
   "outputs": []
  },
  {
   "cell_type": "code",
   "source": [
    "previsores_esc = StandardScaler().fit_transform(previsores)"
   ],
   "metadata": {
    "id": "0DpkgD9REQ7m",
    "ExecuteTime": {
     "end_time": "2024-05-26T04:33:46.023138Z",
     "start_time": "2024-05-26T04:33:46.010986Z"
    }
   },
   "execution_count": 21,
   "outputs": []
  },
  {
   "cell_type": "code",
   "source": [
    "previsores_esc"
   ],
   "metadata": {
    "id": "qmoQSiWMEr0k",
    "colab": {
     "base_uri": "https://localhost:8080/"
    },
    "outputId": "359480ab-b454-48b3-cc1e-97025d118b7f",
    "ExecuteTime": {
     "end_time": "2024-05-26T04:33:47.960423Z",
     "start_time": "2024-05-26T04:33:47.950296Z"
    }
   },
   "execution_count": 22,
   "outputs": []
  },
  {
   "cell_type": "code",
   "source": [
    "previsoresdf = pd.DataFrame(previsores_esc)\n",
    "previsoresdf"
   ],
   "metadata": {
    "id": "aFabOc6kFLMu",
    "colab": {
     "base_uri": "https://localhost:8080/",
     "height": 0
    },
    "outputId": "912a8c28-c801-4e37-eacf-09db25b92c4f",
    "ExecuteTime": {
     "end_time": "2024-05-26T04:34:21.510627Z",
     "start_time": "2024-05-26T04:34:21.438560Z"
    }
   },
   "execution_count": 23,
   "outputs": []
  },
  {
   "cell_type": "code",
   "source": [
    "previsoresdf.describe()"
   ],
   "metadata": {
    "id": "cXVXsyAtFWSo",
    "colab": {
     "base_uri": "https://localhost:8080/",
     "height": 0
    },
    "outputId": "176de0e8-0b05-4751-816e-af1c3f1f6235",
    "ExecuteTime": {
     "end_time": "2024-05-26T04:34:47.448640Z",
     "start_time": "2024-05-26T04:34:47.383944Z"
    }
   },
   "execution_count": 24,
   "outputs": []
  },
  {
   "cell_type": "markdown",
   "source": [
    "## **Codificação de variáveis categóricas**"
   ],
   "metadata": {
    "id": "HU3ZNfuI0BaL"
   }
  },
  {
   "cell_type": "markdown",
   "source": [
    "### **LabelEncoder: transformação de variáveis categóricas em numéricas**\n"
   ],
   "metadata": {
    "id": "lPObOxwx0Qy5"
   }
  },
  {
   "cell_type": "code",
   "source": [
    "from sklearn.preprocessing import LabelEncoder"
   ],
   "metadata": {
    "id": "oLt4fZ620l-5",
    "ExecuteTime": {
     "end_time": "2024-05-26T04:35:40.313306Z",
     "start_time": "2024-05-26T04:35:40.305036Z"
    }
   },
   "execution_count": 25,
   "outputs": []
  },
  {
   "cell_type": "code",
   "source": [
    "df.head()"
   ],
   "metadata": {
    "id": "oJc1Q36h1Ls_",
    "colab": {
     "base_uri": "https://localhost:8080/",
     "height": 0
    },
    "outputId": "c4a6281c-971f-4a22-8af1-c05f89c79c68",
    "ExecuteTime": {
     "end_time": "2024-05-26T04:36:00.189704Z",
     "start_time": "2024-05-26T04:36:00.143692Z"
    }
   },
   "execution_count": 26,
   "outputs": []
  },
  {
   "cell_type": "code",
   "source": [
    "previsores2 = df.iloc[:, 0:11].values\n",
    "previsores2"
   ],
   "metadata": {
    "id": "0VFq4NJ_181-",
    "colab": {
     "base_uri": "https://localhost:8080/"
    },
    "outputId": "42e7054a-b232-4a66-8d74-8d738e5836de",
    "ExecuteTime": {
     "end_time": "2024-05-26T04:36:10.134751Z",
     "start_time": "2024-05-26T04:36:10.118912Z"
    }
   },
   "execution_count": 27,
   "outputs": []
  },
  {
   "cell_type": "code",
   "source": [
    "previsores2[:,1] = LabelEncoder().fit_transform(previsores[:,1])"
   ],
   "metadata": {
    "id": "36oIQ8I10nin",
    "ExecuteTime": {
     "end_time": "2024-05-26T04:36:13.952792Z",
     "start_time": "2024-05-26T04:36:13.942805Z"
    }
   },
   "execution_count": 28,
   "outputs": []
  },
  {
   "cell_type": "code",
   "source": [
    "previsores2"
   ],
   "metadata": {
    "id": "IZQuLVsb1kMW",
    "colab": {
     "base_uri": "https://localhost:8080/"
    },
    "outputId": "fcff8f27-6875-4cb3-8069-bada2ef76f26",
    "ExecuteTime": {
     "end_time": "2024-05-26T04:36:21.006626Z",
     "start_time": "2024-05-26T04:36:20.995619Z"
    }
   },
   "execution_count": 29,
   "outputs": []
  },
  {
   "cell_type": "code",
   "source": [
    "previsores2[:,2] = LabelEncoder().fit_transform(previsores2[:,2])\n",
    "previsores2[:,6] = LabelEncoder().fit_transform(previsores2[:,6])\n",
    "previsores2[:,8] = LabelEncoder().fit_transform(previsores2[:,8])\n",
    "previsores2[:,10] = LabelEncoder().fit_transform(previsores2[:,10])"
   ],
   "metadata": {
    "id": "VAV6Jrmg00_B",
    "ExecuteTime": {
     "end_time": "2024-05-26T04:38:04.069242Z",
     "start_time": "2024-05-26T04:38:04.057861Z"
    }
   },
   "execution_count": 30,
   "outputs": []
  },
  {
   "cell_type": "code",
   "source": [
    "previsores2"
   ],
   "metadata": {
    "id": "6OYCPPGa3EE6",
    "colab": {
     "base_uri": "https://localhost:8080/"
    },
    "outputId": "c6ddd1b2-8ca6-440e-8d96-4dfb8a8067cb",
    "ExecuteTime": {
     "end_time": "2024-05-26T04:38:05.435090Z",
     "start_time": "2024-05-26T04:38:05.423226Z"
    }
   },
   "execution_count": 31,
   "outputs": []
  },
  {
   "cell_type": "code",
   "source": [
    "previsores2.shape"
   ],
   "metadata": {
    "id": "SV6SHdiD3i_Z",
    "colab": {
     "base_uri": "https://localhost:8080/"
    },
    "outputId": "6d20bf59-21a5-4832-e96f-0eb500c267eb",
    "ExecuteTime": {
     "end_time": "2024-05-26T04:38:09.357273Z",
     "start_time": "2024-05-26T04:38:09.347856Z"
    }
   },
   "execution_count": 32,
   "outputs": []
  },
  {
   "cell_type": "markdown",
   "source": [
    "### **OneHotEncoder: Criação de variáveis Dummy (fictícia).**"
   ],
   "metadata": {
    "id": "PIqEAMoH52Og"
   }
  },
  {
   "cell_type": "markdown",
   "source": [
    "Cuidado com a multicolinearidade (variáveis altamente correlacionadas entre si)."
   ],
   "metadata": {
    "id": "Ic1BCbFvGTNL"
   }
  },
  {
   "cell_type": "markdown",
   "source": [
    "![image.png](data:image/png;base64,iVBORw0KGgoAAAANSUhEUgAAAkUAAABlCAYAAABDTZfeAAAZVklEQVR4nO2dPZK6ThPHvzz1Pwr8AssTwAlkEyNTMwgh2WzDzTaBUDJTI5OFE8gJLIOFu/AEvAg4vCmo634/VVbtKkzP9IxM290zIyVJkoAQQggh5I/zv0dXgBBCCCHkGfgv/0OSpEfWgxBCCCHkbiRJAkmSUA6Y/Ve/gBBC7kH9YUTGhzomZBgMnxFCCCGEgEYRIYQQQggAGkWEEEIIIQBoFBFCCCGEAKBRRAghhBACgEYRIeTFCUwJkiRBMoOpJcGUMlnZa3KRYxKYkCQNbhzD1Uz8pqoTMhY0igghL0yAvQeoqgp4++km+tiFJuk4OhGSJEGSJIgcFZ7+RIZR7EKTNLhx8QZc7fx/sD/CibbAWoE9X2LxqHoS8kBoFBFCXpdgDw8GPrYrqPCwn8hACb5shKqDrSUX78nWFo4KeJ8u4pZ770sI+0ushMXmAEuWYR0SJBuaRORvQqOIEPKixHA/PcBYYiG/YaUC3iRWUeaNWr1Brrwv422lAuEO389iFakOHHyWvEVnYlc7h/5K7q3y+5roRkJeCBpFhJDXJP7GLgSM5QKFgeKJDYLb5PzgCGD+T774SP43BxDiFI0s8wbe3lfY1b1FsYv1boUoSZAkPow81Bi7WNtz+Nn7c3s9vv4IeSJoFBFCXpL4e4cQBpZZJEh+W0FFiF2b2yZ2odWSpcsvoackOiGcpgnTIFv4qHuLZAuHLbCWJEiSDg9H/MRI22bk+UULLI3nMvAIGRsaRYSQFyTG9y4E1BmU/C35H+YAwt13c46PbOGQJUqLXgfr0hv0G1m8r7D7+j6/EZiQlBM+ck/R46pGyEOhUUQIeT2y0Fk1z2eBpYHxc3yUGdQRi7sLsoUP2LDLLq7cIxTs4eXvKTOoxaq9AHtPxUwBIS8LjSJCyIMZP0klDZ0Boa1Uwl+6B6AthHZN+Czj+HP5WfxzBPCchsTi3Tkbc4slDE9P27kHjDwPSrawdY7Qs7Aa/ANSZ1kAU+JeRuT1kJIkSQBAkiRkfxJCyORM98yJ4WoKbDiIDlZtRVjbZ2PLm0LWMPhcJ6Sd+neEniJCyGsRfMEOAeNDZIjky+RtNGzXcwUyrA8DCG2sS56k2F3DDlU428cYRISQ4dAoIoS8FMHeA0qrzuqkq9BG3rNosUHiG5VwnWIDTpSHmwghvwGGzwghD4HPnOmhjglph+EzQgghhBABNIoIIYQQQkCjiBBCCCEEAI0iQgghhBAAwH+PrgAh5O8iSdKjq/DyUMeEiBEtQqBRRAh5GFwZNS1cfUbIMBg+I4QQQggBjSJCCCGEEAA0igghhBBCANAoIoQQQggBQKOIEEIIIQQAjSJCCCGEEAA0igghz0DsTlCkVpxYX36ZweiiylLhaveQcyWBKdZF7ELTXMQPrdxYpH3Qqv+r21sq+6V0RnK4TxEh5IVR4UQHWHL6X+xqUHQJ8BNsFiOLCkxIujdyoSMSu9B0wE8SLPL/FQ1udIAlWzgcHl3BOzJGe/+azv4I9BQRQv4M8tsKKoDjz8i/72MXmu5BdSIkvjFu2WOizqDkf8sWDklmMOZej9iFppkwM2+X5gaF50tzW3RW8ZrEcDUNbpy/37+8snev+Lyp7KZ7tS+cepd59uy1tVFYdqleFa/k2f3WXXZNP1LJvdVc7/x6E1VnWIu8socwl9Gjb4Ttil1opgnzor1Nevhd0CgihJBbkS0ckgSH3CX1jMgWPuY2FEk0oZYIj5htEySRA9ifQP737vu6UFHf8mIXa3sOP0mQJD7m9lpo/Agp37ud4Rj2LDP4gj33kRSff13qpans8ue7FaKsDMPbp2X0KbusnySCc9SL0FxjvYvrN6g4O5vkxS60z1lWvwQ+9HNosa1vmtoFAB6wrL/fdv0vgkYRIeTPEHzZCGHg45mNlwlZbJJs0lxi32QcqSu8yYK/r6VvedEJobHMJvoFlkaIU9RPRPy9A5z39F7ZwkfurOsqU5lB9fTMswFs6oZGW9k5soXDFlhLEiRJh4cjfuJ+ZVd1IuNtpaZezLZ6N+mwSV50QhjmxrAE3St5Stv6pqldQMnjqGCmZu+3Xf+LoFFECHlhQtjKOaSgewCKyUZA7EITJGd3hVd+HwtskgSRc8Tn6G2KcKp7U5617MzDl0ROYVAMjvoEJiTlhI/cQzJm2UNok2fkHqT01cuj2dSusa5/Uv6uUVQ8/MTxaUKmII+5v87k+uyocKLzZFBMGE2zUz6xNLyeOjzWRWDWPEMxvnch5v9GalN4QgQA8Q+O19yvzKAWIZcAe0/FLE+A6ihbflsBRXgqwD7Pd28rE0DkaulYyPrdNy7zzRrLLpMb2sEe+cdxj7LTtu3wHQOV/uiot4hGecoMqveZzXM9VuZ1tGvU65+QP2oUxXDXNkLVgKGGsNfDl1XGgVn6RanBDH75JBfHty8tHVpGbphOuaz1HjJ6E+DLDgHVwXbo5DpG/wwRF7gwtfKSdg2aGTyBDm9EtrB1VKCYJP4Qiw0i5wi96FMFu1U0cBVeAFMUcpMtfBheWvb6hLl6Rf1kC9uifjrgZ0ngfcqu3PuJo9pRZoZiHeBDP3sSj4LvZlPZOYsljDxstQcMpKEuuU/ZAKDOcVqn/WHP/bQ/OuotVl+DPNnCwZ9nHtOSjC4a2jX8+oYx86wkGaU/byZy1ARAAsPvujJxVCSAmjjRaOI7yetn+EmSRE6iAok6pALZPYCaqIaRGIY67P5nwzfS/oKRdPXYqGXkelSdZDLtTSrDTwwga7foVdWFb1w51sfon6vk5ePbyMb7uHUY85kjIv2eC/SdtU/4eCq+2+JXr+95W/l3Zgod+8adxuFfIHISdcrnH+mk/h2ZZJ8i+W0F1Q4RensEm0VL/P4buxDjJPP1Jvu1buTWsoWts4Nir+G+dVvjQJp4FwIw/MP4e51MQgxXU2CH1T1bLigv172WMcr4jagqLn/Azs5/xi4+PUB1tr3GmFjG/XSrGj62mwWKqm7eEZgKdM+Dbi6R/I6BLyT+OQJoCEfIFg6Jde8q/SJi/MyWoIbIy9JkLd1G7gFq/7WUe2x+m5cl/cX/HL8E+/EYj1wnL+Mp+iO/nAsvyjjtHfeZc4nQU5S3Ycov74t7igh5JerfkYlyitKlhQDg7ZsiiWlSGaBidT83ESHkWuR/mD+6DoOprj6TFBtwovE9XeVVa9mu1p6e/f8U+WyEkD5Mlmid7xyLpg2cOkJnl4meEjTNRFs+cxyY0Eo7ekqaBtO9TA5Ny5YqSaSi6y7Kz1YO5Tv5Fw+9chJZHCMwtcqyXk0zBUmd1d1Hq68eK+J6ygnMLLkuBOoTROXco4adSbt2eK3stNq4i2mMwK0mpmtd+u6txxtk4PqxMJgW/YjqUElqbtVtz3E/WJ8iQVeuKnoQsnW43wqytlVrBwv82UfIL6HJhXQ77SG0SrJzw2cAikRPQz0nO4ruyUNaouTQ8vXnsgVJpF0hFt9Jr8/qoqpZ3Qw/vc8/J2kWn6lnefXQVeTk9+cvtUjgbg1zDZAT5XWu69NwEj+/ThRSaA075WGjkqyWsES5b6p1bdD7QD1eJSO5cSxU9NAjnNSkH0FSs6GqVfk9dds47q/Qp7gJfRdQ9GP8Zw6pQx0T0k79OzKhUdT2EG2ZTMorbepGRNMqnPx99bK8yBdM/hcTXjQoT6jxWt9I1LKxUYjtN5n0nnQGy+nIKRJOui335PoWGVGNk36tb6LSyq0Lo2hg+66RMcpYOBuHqlE3cI3EKDdgqI5FdW1qd9e4v2FcRr6f+L5zlRHVBSfs6aGOCWnnrkZRo/EjmlSLj9onJNHnfSex1usGJGAOTrTuU/YYSayNcq4xipoT4YXtbygjv1aYTD80CXpEGeOMhY4l+Z1G421G0c0J/53trLZPZFjdAifs6aGOCWmn/h2ZZEn+mQWWBuB5HvbBBosstzHItgQ1lhenzODnCDQulwWgzFQAYbpT50LudU+1bOC4N2Hu658fEQLA8QcxFrflAMQxgugb+31+nnJWdkvd3LWdLfNvOB9nFDnDKLZWsL8QWHm98h1dDVx032UFi765Kpm+V/uukTH2WDDgN51r1IoM68OArXuwFQ074wPb9wXkXs3oO+7LtwwdLwrSr9u17etGkqQJSiVlqGNCxKQ2UZWJjSJgkVpF8PYBNosF2ifV/FybObp2ng9PEQB50D3FvZ43qvFwJoZrrmF7A0sPvtJEaKPnTqPXyhmK/IaVaiMMS0Ztvn172/lRN3On9mHKsdCTxQaRP8PXpw3P06F4AFQD/naT2vyNDBn399PnUEQPJTIekiRRx4QMYPpjPhbL9GC4fBVa66Sa/TLtcbquWvw87n9Pdmf1LKQRV4oEppJOPKoDv37eUvNdMNNTKuH3XCZ8nZxrSD0ZwHlrhWYv33jcr33TjYUhyAsLm0OCJIrgGyoQetCVrhWI/cf9/fRJCCG/mzucfZaG0AAPn27cManK+DcH0HjGSr63EUqHGHbd07fsWzmHM5yt1fEr/0xg6vAwJGx2nZyrqRi1mZdPdfDeq7LX6Hxo+66RMfVYuBJZxmJzQOSkIeJxxvMt40WGdUiQTBQ6I4SQZ+MuB8IuUqsI4e6rc1LNr/X0yz2J4jzMVLs/zTMCvM/LTdLiICjKKcoWXJde67bug3QdMYIvWxyiCcx0z6PeYbMr5dxkBJyN2r2ZevnU1VtvD0qjzmMXmtJUXxHN7btGxmPGQp0ApmDvrejUTyt9x72YtvFSql/ffbMIIeQVaMrAHpfaKpaONb3nvVdE+xSJVuqc90Tq2qeoUrZ63h8Igmu76le/9nLfG/W8703jyiMIl3M7PY5H6Sfn8p58n5risq5VSMWS9+Er2Op9U9kjR836tbYybHj7hstIm3XrWLh1n6Lz9+K8f5BgC4Geum0a99eMl4rcW1a4tTDtM4ckCXVMSBf178idjKLqg7nPPieRf94k8fxAb1sSHCW+Y1Qf9qqaGI5/uWmfqGzVSPyo33rjtqXQUa0OabnZ5NcwIYpeXYZjfznlepc3NDR6bbyY19URTdbVCrWUEdVkq4nhREkxqQs3VhzavuEykuTWsTDC5o2Rnzi1equGL95TqandPcb9NeNFuEnniHDCnh7qmJB26t8RKXuTqxQIIXeFz5zpeSYdx66G9Oi5A6Y4aYWQa6h/R+6SU0QIIQ+nfGhrfv7b6MlSgjMNG86sewiBWalb5fzDmw6uDWC23h/gy57D9+ewv55IH73oatsQ0vFhBhhB52QKaBQRQl6e2NUgKTbmfnnbhQirnTKqYRSYCuy5f5bhG4CnP4dhFLvQdMAvbclw1LMketnC4ZYtKLoOC44VvCcbLBYbJO/K7zIEpjoI+Vadk2loiqsRQsiU3O2Zk+VkTZEs3oc0B/GG43tuoKLjyEnUtpxA1UmiyEmT/vNFIM45n7A5zzGq5hxWysjaXV6scV7hUVoo0Fx+5YDw/JpKW6LEUTsOiladxDGyMdByb1lWWs/utgnr19SG7N56PS7l9tRPrb/K+YHNeqv1jagf6/JE/ddjrAjbFTnpgg/BQg+xHqal/hyip4gQ8tKkWw/0OZZmGvKtEx6ObOFjbkORJEiSiUbfVXjEbJt6kmB/Avnfu+8GD48Ma+tAVR1EuecjLyPZYBG70D5niDIPlQ89DR8FXyWvmo+5/XVZp9jF2p5n3i0fc3vdf3uIwIR+dFK5W2DndVwfu1jvVlk9fRjeHkGPtnXWr3zNdoZjfR8Modye+qnUJ4Jz1IvQXGO9yvWv6KtBXlP/lcsSjZWmdgGAByzr77ddf0doFBFCXphsw9FJj6Vpp+++U/dgsclDh0vsm4wjdYXiGMHy30Mo3xedEIa5MSZB95CeXanMoHp6lncFbESbhEYnhEXfLbA0+u+1Fuw9GB+ZISNbyDbnb0a2cNgCa0mCJOnwmnaLr7eto37x9w5w3tNrRPVokttHP5X6yHhbqalu2+rV1KdN8pr6r15Wvdw2faozpGdSKJip2ft99T8xNIoIIS+P2vvU3AxBUvZVCdqxi08PUPNJ8WlYYJMkiJwjPu+xM6dRyrNKEhwsOZ0E8+Nmssn4utSr/BzAG+8NTEjKCR+5p+LaIofSJHc0/fSkTZ6o/7oYqs9H6b8GjSJCCKmTTxANr16TAmK46zR09/EMa9ADs+YZSo9Nmvc9SftalBlU7zML35xXX8WuliagZ7r2jZIHonJvHkYJsPdUFPZteEIENCZCL5ZGabf3/CDyjntz70p+RmevtjXUL0N+WwFF6KtWjxa5vfQDAOEO35lui/7sUa86jfIa+q8XQ/U59PoJoFFECHl5wgcccheYCuxQhRM9ydlxiw0i5wi98Hgp2K2igUcMBTBFITf5H+ahDUW0xFy2cPDnsJVUpj1PjzWSrQN86IX3TT862NaNR9nCtqizDvjZHkeyhQ/DS99fnzAXpW0tNvCLHKo9CtdD072LJYw8fLQHjPxYpI62CevXeM0njvW6NsjtpR8AUOc4rau67VWvi2o2yGvov06a9Dn4+oYxNxHcvJEQ8hDu88yJ4WoKbJQSZXvd1n42n+pErd6idKPCEIafjHCu4fVMoePANIHNkxh6AwhMCfvlY/tjdGIX2hrYcmn/1XDzRkLIH0KG9WEAoY1BewbeED7LDSLVGeqF+Q3E+Jk9LmmdkKmhp4gQ8hDu+cwJzHTVTN1zE5gSPmftXp+BgiDpXqcn6V7wuU5IO/XvCI0iQshDuPszJzNYyoxrvGShuqaYm+EjubPriM91QtqhUUQIeQr4zJke6piQdphTRAghhBAigEYRIYQQQghoFBFCCCGEAAD+e3QFCCF/F0mSHl2Fl4c6JkSMKN+ORhEh5GEwCXhamGhNyDAYPiOEEEIIAY0iQgghhBAANIoIIYQQQgDQKCKEEEIIAUCjiBBCCCEEAI0iQgghhBAANIoIIa9KYEKSJMHLRDCZ0Biudk95A6npxMwrFrvQNBfxvepxb3lTc7f2pOPLDO4p829Bo4gQ8tIYfoIkOb98w4MuSdDc8aeTwFSwW0UleT4MeNCfwTCKXWg64Od1ixwcdQ1uDEC2cDhYkB9dx9/KI/THPpsEGkWEkD/FYpMgclSEtnL2lIxY9sEqT1MLvDsqgCN+nuEnvTqDkv8tWzgkB1gyzl6H2IWmmTAzb5fmBoXnq9WIrN0nlRVb9k4JFB67WvG5UEafOolkxC4004QpkC2WWfXyNbY3dqHVvYBl/TXIFN7Xp/3la7QvnCp6ST1F5TLOMnu0p6XfhPWqXF839FvkNfVPR78K29WzX0VjrQ80igghfw7Z2sJRAe/zD4UfZAsfcxtKV0gvPGK2TT1JsD+B/O/dd7uu8vuSCM5RP4d4PmeIci8d9KohGrtY2/PMe+Vjbq8htAva6tQmwwOWucfO2xcGjFBm8AV77hcevrn9JdBRAFPZYRWlsiLnCL0++YpkNt3Xp/3la7YzHEPB57tV1v6SzF7tae63xnoV12+wqKimQV5b/3T0q7Bdbf3adP0AaBQRQv4gMv7NAYQnRFOKCUwodgjV2cJ6gjjHYpOH9ZbYNxlH6gpvsuDvLoprZbytVBx/YiA6IQxzQ0yC7iF9Pyc6ITSW2eS6wNIIcRJ1SFud2mQUnjEFMzXz1jXJVGZQPT3zMgCb+qQPAPEPjiX5snVAsqldJZLZdF+P9sffO8B5T6+RLXwYtTrJFg5bYC1JkCQdXu6V7NOeij5r/dZUr6Yx0SSvtX9a+rWpXU06brt+ADSKCCF/EmXWEtaqhDouX82hpFqite5BdaJaSO0ZWGCTeSw+J8itqmD4KOd0TaKLMWTIFg5ZrlU+uY8dXp2EwISknPBR5LBl3Ls9bfKu6Z+mdo11fQM0igghpE7+gG94NT/UZViH8rU+5rYCSdLEYaF7Epg1z1CM712I+b+RjJRwh++4Vq4yg+p9Zm0vrZzKUWZQSyGmvadiplwW3UqXDOH1lzJjV0vzULK+942aVwsA5H+YF+1EqtM+K8Ca7uvRfvltBRShrwB7T1B+7tUJ9sg/7tUeoKXfhvVLo7yh/dPRrlGvF/DflfcRQsivJjqFAAyMZROIWWCT+ICkw/4KYNVDLfdksUHkaFAkqXhLdSIcFkD/xKoAprTHUhSKUec4rSVIIVLPwAIALBz8EyRFgo3S+7k82cK2VCfDT4aHGeUOGYLrhTKtA3xTQqEe1UG0qVdmgU30Ay2XBQN+YkGO3Y5KNtwHdLe/Ul8VqgrMK0UvYeg6JA+AYcBAGuqyerUHjf0mrFfLOJEb5Q3sn452ock4a7pebhmzAqQkSRIAkCQJ2Z+EEDI5kz9zAhOS7sHwE1zaIjFcTUkTQ0WGSuxCU2zUc1pzhoXEMllwEN15CfUUOg5ME9jUJpjYhbYGtlwi/rtgv118Rxg+I4T8OWJ3DTsEjGXDb8erw2ciIpxCAPN/LzDxxPiZLXv94ibkN8LwGSHkTxG7WrYiLBJ4kG4hgCnpQMUzFcPVdHhQ4by/gikhwxIZhLKFw+H+tSE3wn67gEYRIeSl8XSpmnSpOoiSwwRemwU2vgFJKO/vhicI+U0wp4gQ8hD4zJke6piQdphTRAghhBAigEYRIYQQQghoFBFCCCGEAKglWkulTb0IIWRq+MyZHuqYEDGifLsi0ZoQQggh5C/D8BkhhBBCCID/A9zNEqSpkCuUAAAAAElFTkSuQmCC)"
   ],
   "metadata": {
    "id": "ruBvkbyn74ly"
   }
  },
  {
   "cell_type": "markdown",
   "metadata": {
    "id": "ZszZwZIBPrQR"
   },
   "source": [
    "A   B   C   D   \n",
    "1   0   0   0   \n",
    "0   1   0   0   \n",
    "0   0   1   0   \n",
    "0   0   0   1\n"
   ]
  },
  {
   "cell_type": "code",
   "source": [
    "from sklearn.preprocessing import OneHotEncoder\n",
    "from sklearn.compose import ColumnTransformer"
   ],
   "metadata": {
    "id": "YeSR7cQC8uCQ",
    "ExecuteTime": {
     "end_time": "2024-05-26T04:40:56.345763Z",
     "start_time": "2024-05-26T04:40:56.323225Z"
    }
   },
   "execution_count": 33,
   "outputs": []
  },
  {
   "cell_type": "code",
   "source": [
    "previsores3 = ColumnTransformer(transformers=[('OneHot', OneHotEncoder(), [1,2,6,8,10])],\n",
    "                                remainder='passthrough').fit_transform(previsores2)"
   ],
   "metadata": {
    "id": "rXFOyMmd9JEB",
    "ExecuteTime": {
     "end_time": "2024-05-26T04:40:57.887939Z",
     "start_time": "2024-05-26T04:40:57.871178Z"
    }
   },
   "execution_count": 34,
   "outputs": []
  },
  {
   "cell_type": "code",
   "source": [
    "previsores3"
   ],
   "metadata": {
    "id": "F_H3hiDD_pfB",
    "colab": {
     "base_uri": "https://localhost:8080/"
    },
    "outputId": "8d167db6-d411-4d60-d499-daef72c36959",
    "ExecuteTime": {
     "end_time": "2024-05-26T04:41:41.686239Z",
     "start_time": "2024-05-26T04:41:41.675194Z"
    }
   },
   "execution_count": 35,
   "outputs": []
  },
  {
   "cell_type": "code",
   "source": [
    "previsores3.shape"
   ],
   "metadata": {
    "id": "eZ-nG4XEBMXU",
    "colab": {
     "base_uri": "https://localhost:8080/"
    },
    "outputId": "d93958e6-94b7-4e75-e7f1-3e05445ce914",
    "ExecuteTime": {
     "end_time": "2024-05-26T04:42:31.886682Z",
     "start_time": "2024-05-26T04:42:31.875609Z"
    }
   },
   "execution_count": 36,
   "outputs": []
  },
  {
   "cell_type": "code",
   "source": [
    "previsores3df = pd.DataFrame(previsores3)\n",
    "previsores3df.head()"
   ],
   "metadata": {
    "id": "1iTTX6b0C_0-",
    "colab": {
     "base_uri": "https://localhost:8080/",
     "height": 0
    },
    "outputId": "a05f8d66-6613-4dc7-b600-ae49195536e6",
    "ExecuteTime": {
     "end_time": "2024-05-26T04:42:33.216626Z",
     "start_time": "2024-05-26T04:42:33.172447Z"
    }
   },
   "execution_count": 37,
   "outputs": []
  },
  {
   "cell_type": "code",
   "source": [
    "df.head()"
   ],
   "metadata": {
    "id": "KTfczx7EDvwc",
    "colab": {
     "base_uri": "https://localhost:8080/",
     "height": 0
    },
    "outputId": "02f55dea-3f08-46b0-87cd-f3900e7f1449",
    "ExecuteTime": {
     "end_time": "2024-05-26T04:42:38.351399Z",
     "start_time": "2024-05-26T04:42:38.323980Z"
    }
   },
   "execution_count": 38,
   "outputs": []
  },
  {
   "cell_type": "markdown",
   "source": [
    "## **Escalonamento**"
   ],
   "metadata": {
    "id": "YWlyb9T-Fk1I"
   }
  },
  {
   "cell_type": "code",
   "source": [
    "from sklearn.preprocessing import StandardScaler"
   ],
   "metadata": {
    "id": "x4jzommSFk1L",
    "ExecuteTime": {
     "end_time": "2024-05-26T04:43:11.201317Z",
     "start_time": "2024-05-26T04:43:11.194197Z"
    }
   },
   "execution_count": 39,
   "outputs": []
  },
  {
   "cell_type": "code",
   "source": [
    "previsores3_esc = StandardScaler().fit_transform(previsores3)"
   ],
   "metadata": {
    "id": "nvLu4mtDFk1L",
    "ExecuteTime": {
     "end_time": "2024-05-26T04:43:16.018198Z",
     "start_time": "2024-05-26T04:43:16.008238Z"
    }
   },
   "execution_count": 40,
   "outputs": []
  },
  {
   "cell_type": "code",
   "source": [
    "previsores3_esc"
   ],
   "metadata": {
    "id": "eFTA8spkFk1M",
    "colab": {
     "base_uri": "https://localhost:8080/"
    },
    "outputId": "ad21b729-9d4e-421b-8674-826432d0920f",
    "ExecuteTime": {
     "end_time": "2024-05-26T04:43:17.953644Z",
     "start_time": "2024-05-26T04:43:17.943800Z"
    }
   },
   "execution_count": 41,
   "outputs": []
  },
  {
   "cell_type": "code",
   "source": [
    "previsores3df = pd.DataFrame(previsores3_esc)\n",
    "previsores3df"
   ],
   "metadata": {
    "id": "w6JQStnqFk1M",
    "colab": {
     "base_uri": "https://localhost:8080/",
     "height": 0
    },
    "outputId": "9560bf22-c551-400c-b38e-b619a37235a9",
    "ExecuteTime": {
     "end_time": "2024-05-26T04:43:21.018185Z",
     "start_time": "2024-05-26T04:43:20.964821Z"
    }
   },
   "execution_count": 42,
   "outputs": []
  },
  {
   "cell_type": "code",
   "source": [
    "previsores3df.describe()"
   ],
   "metadata": {
    "id": "e-dcMRS-Fk1N",
    "colab": {
     "base_uri": "https://localhost:8080/",
     "height": 0
    },
    "outputId": "30acf404-ff6f-43a8-8a1c-98fe38654806",
    "ExecuteTime": {
     "end_time": "2024-05-26T04:43:28.476240Z",
     "start_time": "2024-05-26T04:43:28.384430Z"
    }
   },
   "execution_count": 43,
   "outputs": []
  },
  {
   "cell_type": "markdown",
   "source": [
    "## **RESUMO PRÉ-PROCESSAMENTO**"
   ],
   "metadata": {
    "id": "kW700Sj9Fk1O"
   }
  },
  {
   "cell_type": "markdown",
   "source": [
    "alvo = variável que se pretende atingir (tem ou não doença cardíaca).\n",
    "\n",
    "previsores = conjunto de variáveis previsoras com as variáveis categóricas transformadas em numéricas manualmente, sem escalonar.\n",
    "\n",
    "previsores_esc = conjunto de variáveis previsoras com as variáveis categóricas transformadas em numéricas, escalonada.\n",
    "\n",
    "previsores2 = conjunto de variáveis previsoras com as variáveis categóricas transformadas em numéricas pelo labelencoder.\n",
    "\n",
    "previsores3 = conjunto de variáveis previsoras transformadas pelo labelencoder e onehotencoder, sem escalonar.\n",
    "\n",
    "previsores3_esc = conjunto de variáveis previsoras transformadas pelo labelencoder e onehotencoder escalonada."
   ],
   "metadata": {
    "id": "k-L1kFumG1pO"
   }
  },
  {
   "cell_type": "markdown",
   "source": "# **98. Classificação com Redes Neurais Artificiais: criação do algoritmo**",
   "metadata": {
    "id": "w-W634n0I_Db"
   }
  },
  {
   "metadata": {},
   "cell_type": "markdown",
   "source": "## **BASE DE TREINO E TESTE**"
  },
  {
   "cell_type": "code",
   "source": [
    "from sklearn.model_selection import train_test_split"
   ],
   "metadata": {
    "id": "UmjBvEubFG72",
    "ExecuteTime": {
     "end_time": "2024-05-26T05:36:58.405062Z",
     "start_time": "2024-05-26T05:36:58.397848Z"
    }
   },
   "execution_count": 100,
   "outputs": []
  },
  {
   "cell_type": "code",
   "source": "x_treino, x_teste, y_treino, y_teste = train_test_split(previsores_esc, alvo, test_size = 0.3, random_state = 0)",
   "metadata": {
    "id": "JFn1OrYtF0m9",
    "ExecuteTime": {
     "end_time": "2024-05-26T05:36:59.117145Z",
     "start_time": "2024-05-26T05:36:59.107669Z"
    }
   },
   "execution_count": 101,
   "outputs": []
  },
  {
   "cell_type": "code",
   "metadata": {
    "id": "Xza9uNMgJFD8",
    "colab": {
     "base_uri": "https://localhost:8080/"
    },
    "outputId": "ebd3df68-2737-49e5-da9d-c194ac2d5a65",
    "ExecuteTime": {
     "end_time": "2024-05-26T05:36:59.601326Z",
     "start_time": "2024-05-26T05:36:59.587190Z"
    }
   },
   "source": [
    "x_treino.shape"
   ],
   "execution_count": 102,
   "outputs": []
  },
  {
   "cell_type": "code",
   "metadata": {
    "id": "gM74hUlEJNOZ",
    "colab": {
     "base_uri": "https://localhost:8080/"
    },
    "outputId": "6218cc8c-e690-431a-d3f0-74fdecfcbe07",
    "ExecuteTime": {
     "end_time": "2024-05-26T05:37:00.192519Z",
     "start_time": "2024-05-26T05:37:00.178479Z"
    }
   },
   "source": [
    "x_teste.shape"
   ],
   "execution_count": 103,
   "outputs": []
  },
  {
   "cell_type": "code",
   "metadata": {
    "id": "lGzLxpISJeWG",
    "colab": {
     "base_uri": "https://localhost:8080/"
    },
    "outputId": "c6637085-a53c-4a62-e3cd-bb85aaa59f14",
    "ExecuteTime": {
     "end_time": "2024-05-26T05:37:01.092690Z",
     "start_time": "2024-05-26T05:37:01.081843Z"
    }
   },
   "source": [
    "y_treino.shape"
   ],
   "execution_count": 104,
   "outputs": []
  },
  {
   "cell_type": "code",
   "metadata": {
    "id": "ZUojufPlJnhy",
    "colab": {
     "base_uri": "https://localhost:8080/"
    },
    "outputId": "e3281db5-1178-4822-d0e0-4628163802cc",
    "ExecuteTime": {
     "end_time": "2024-05-26T05:37:02.124033Z",
     "start_time": "2024-05-26T05:37:02.113762Z"
    }
   },
   "source": [
    "y_teste.shape"
   ],
   "execution_count": 105,
   "outputs": []
  },
  {
   "cell_type": "markdown",
   "source": [
    "# **CRIAÇÃO DO ALGORITMO**"
   ],
   "metadata": {
    "id": "W9Wtgm9pDDA5"
   }
  },
  {
   "cell_type": "code",
   "source": [
    "from sklearn.neural_network import MLPClassifier"
   ],
   "metadata": {
    "id": "yGYSUrW1Dhdy",
    "ExecuteTime": {
     "end_time": "2024-05-26T05:37:10.409735Z",
     "start_time": "2024-05-26T05:37:10.402213Z"
    }
   },
   "execution_count": 106,
   "outputs": []
  },
  {
   "cell_type": "code",
   "metadata": {
    "id": "186gI6x5ah_Q",
    "ExecuteTime": {
     "end_time": "2024-05-26T04:53:44.087390Z",
     "start_time": "2024-05-26T04:53:44.002895Z"
    }
   },
   "source": [
    "MLPClassifier?"
   ],
   "execution_count": 57,
   "outputs": []
  },
  {
   "cell_type": "markdown",
   "metadata": {
    "id": "zcisB51XaUdI"
   },
   "source": [
    "Parâmetros MLPClassifier   \n",
    "- hidden_layer_sizes (camadas escondidas): default (100,)   \n",
    "\n",
    "  Quant.= (Ne+Ns)/2 = (11+1)/2 = 6 neurônios   \n",
    "  Quant.=2/3.(Ne) + Ns = 2/3.11+1 = 8 neurônios\n",
    "- activation: Função de ativação default='relu' \n",
    "- solver: algoritmo matemático. Default='adam' (datasets grandes = acima de 1000 amostras). lbfgs é para datasets pequenos. sgd é com a descida do gradiente estocástico (recomendado testar).\n",
    "- alpha:  parâmetro para o termo de regularização de ajuste de pesos. Aumento de alpha estimula pesos menores e diminuição de alpha estimula pesos maiores. Default=0.0001.\n",
    "- batch_size: tamanho dos mini lotes. default=min(200, n_samples). Não usar com o solver lbfgs.\n",
    "- learning_rate: taxa de aprendizagem. default='constant'. Três tipos:   \n",
    "  1- 'constant':uma taxa de aprendizado constante dada pela taxa de aprendizagem inicial.   \n",
    "  2- 'invscaling': diminui gradualmente por: taxa efetiva = taxa inicial / t^power_t  \n",
    "  3- 'adaptive': a taxa é dividida por 5 cada vez que em duas épocas consecutivas não diminuir o erro.\n",
    "- learning_rate_init: taxa de aprendizagem inicial. Default=0.001\n",
    "- max_iter int: Número máximo de iterações. default = 200.  ('sgd', 'adam').\n",
    "- max_fun: Número máximo de chamadas de função de perda. Para 'lbfgs'. Default: 15000\n",
    "- shuffle: default = True\n",
    "Usado apenas quando solver = 'sgd' ou 'adam'.\n",
    "- random_state: default = None\n",
    "- tol:Tolerância para a otimização.Default=0.0001\n",
    "- momentum: otimização do algoritmo 'sgd'. Default: 0.9.\n",
    "- n_iter_no_change: Número máximo de épocas que não atinge a tolerância de melhoria. default = 10. Apenas para solver = 'sgd' ou 'adam'\n",
    "- verbose : Mostra o progresso. default=False.\n",
    "\n"
   ]
  },
  {
   "cell_type": "code",
   "metadata": {
    "id": "FcGnW0944_yy",
    "ExecuteTime": {
     "end_time": "2024-05-26T05:37:35.682955Z",
     "start_time": "2024-05-26T05:37:35.676458Z"
    }
   },
   "source": [
    "redes = MLPClassifier(hidden_layer_sizes=(7), activation='relu', solver='adam', max_iter =800,\n",
    "                              tol=0.0001, random_state = 3, verbose = True)"
   ],
   "execution_count": 107,
   "outputs": []
  },
  {
   "cell_type": "code",
   "metadata": {
    "id": "nzucFruN5EcR",
    "ExecuteTime": {
     "end_time": "2024-05-26T05:37:38.827752Z",
     "start_time": "2024-05-26T05:37:37.513604Z"
    }
   },
   "source": [
    "redes.fit(x_treino, y_treino)"
   ],
   "execution_count": 108,
   "outputs": []
  },
  {
   "cell_type": "code",
   "metadata": {
    "id": "MyZqzs4k-43E",
    "ExecuteTime": {
     "end_time": "2024-05-26T05:37:42.144274Z",
     "start_time": "2024-05-26T05:37:42.137868Z"
    }
   },
   "source": [
    "previsoes = redes.predict(x_teste)"
   ],
   "execution_count": 109,
   "outputs": []
  },
  {
   "cell_type": "code",
   "metadata": {
    "id": "TuySRdbG_03u",
    "ExecuteTime": {
     "end_time": "2024-05-26T05:37:43.616562Z",
     "start_time": "2024-05-26T05:37:43.605669Z"
    }
   },
   "source": [
    "previsoes"
   ],
   "execution_count": 110,
   "outputs": []
  },
  {
   "cell_type": "code",
   "source": [
    "from sklearn.metrics import accuracy_score, confusion_matrix, classification_report"
   ],
   "metadata": {
    "id": "OEXPFIiVKUl_",
    "ExecuteTime": {
     "end_time": "2024-05-26T05:37:45.384959Z",
     "start_time": "2024-05-26T05:37:45.378741Z"
    }
   },
   "execution_count": 111,
   "outputs": []
  },
  {
   "cell_type": "code",
   "source": [
    "print(\"Acurácia: %.2f%%\" % (accuracy_score(y_teste, previsoes) * 100.0))"
   ],
   "metadata": {
    "id": "R8rjCRA7CwLV",
    "colab": {
     "base_uri": "https://localhost:8080/"
    },
    "outputId": "c16c2c68-eed1-47f7-9663-09c7552ca7c6",
    "ExecuteTime": {
     "end_time": "2024-05-26T05:37:47.096724Z",
     "start_time": "2024-05-26T05:37:47.086678Z"
    }
   },
   "execution_count": 112,
   "outputs": []
  },
  {
   "cell_type": "code",
   "source": [
    "confusion_matrix(y_teste, previsoes)"
   ],
   "metadata": {
    "id": "N_xxZiTXKeG3",
    "colab": {
     "base_uri": "https://localhost:8080/"
    },
    "outputId": "bcda0558-4197-4615-c729-33afcdd56c29",
    "ExecuteTime": {
     "end_time": "2024-05-26T05:38:28.662568Z",
     "start_time": "2024-05-26T05:38:28.651750Z"
    }
   },
   "execution_count": 113,
   "outputs": []
  },
  {
   "cell_type": "code",
   "source": [
    "print(classification_report(y_teste, previsoes))"
   ],
   "metadata": {
    "id": "CZMZ_zPNKzqW",
    "colab": {
     "base_uri": "https://localhost:8080/"
    },
    "outputId": "e7a35fbf-4398-4845-d25f-384c2bf8f9ec",
    "ExecuteTime": {
     "end_time": "2024-05-26T05:38:35.382411Z",
     "start_time": "2024-05-26T05:38:35.361369Z"
    }
   },
   "execution_count": 114,
   "outputs": []
  },
  {
   "cell_type": "markdown",
   "source": [
    "**Análise dados de treino**"
   ],
   "metadata": {
    "id": "Gnte-P_e0536"
   }
  },
  {
   "cell_type": "code",
   "source": [
    "previsoes_treino = redes.predict(x_treino)\n",
    "previsoes_treino"
   ],
   "metadata": {
    "id": "_t9CZH8qz9w-",
    "ExecuteTime": {
     "end_time": "2024-05-26T05:38:39.011773Z",
     "start_time": "2024-05-26T05:38:38.996861Z"
    }
   },
   "execution_count": 115,
   "outputs": []
  },
  {
   "cell_type": "code",
   "source": [
    "accuracy_score(y_treino, previsoes_treino)"
   ],
   "metadata": {
    "id": "ixfPbrJB0iEE",
    "colab": {
     "base_uri": "https://localhost:8080/"
    },
    "outputId": "8bba5763-89d2-487e-b822-382f507a2c2b",
    "ExecuteTime": {
     "end_time": "2024-05-26T05:38:40.062948Z",
     "start_time": "2024-05-26T05:38:40.052813Z"
    }
   },
   "execution_count": 116,
   "outputs": []
  },
  {
   "cell_type": "code",
   "source": [
    "confusion_matrix(y_treino, previsoes_treino)"
   ],
   "metadata": {
    "id": "nyTX_2Te0suq",
    "colab": {
     "base_uri": "https://localhost:8080/"
    },
    "outputId": "c0a00527-fffb-40d2-b50f-ed4e3c6459dd",
    "ExecuteTime": {
     "end_time": "2024-05-26T05:38:45.358381Z",
     "start_time": "2024-05-26T05:38:45.343205Z"
    }
   },
   "execution_count": 117,
   "outputs": []
  },
  {
   "cell_type": "markdown",
   "source": [
    "### **Validação Cruzada**"
   ],
   "metadata": {
    "id": "rNsT6wAn_e1l"
   }
  },
  {
   "cell_type": "code",
   "source": [
    "from sklearn.model_selection import KFold\n",
    "from sklearn.model_selection import cross_val_score"
   ],
   "metadata": {
    "id": "lvBuy5bm_qok",
    "ExecuteTime": {
     "end_time": "2024-05-26T05:38:48.763186Z",
     "start_time": "2024-05-26T05:38:48.756594Z"
    }
   },
   "execution_count": 118,
   "outputs": []
  },
  {
   "cell_type": "code",
   "source": [
    "# Separando os dados em folds\n",
    "kfold = KFold(n_splits = 30, shuffle=True, random_state = 5)"
   ],
   "metadata": {
    "id": "SS_dyx4x_260",
    "ExecuteTime": {
     "end_time": "2024-05-26T05:38:50.034686Z",
     "start_time": "2024-05-26T05:38:50.028443Z"
    }
   },
   "execution_count": 119,
   "outputs": []
  },
  {
   "cell_type": "code",
   "source": [
    "# Criando o modelo\n",
    "modelo = MLPClassifier(hidden_layer_sizes=(7), activation='relu', solver='adam', max_iter=800,\n",
    "                              tol=0.0001, random_state = 3, verbose = True)\n",
    "resultado = cross_val_score(modelo, previsores, alvo, cv = kfold)\n",
    "print(\"Acurácia Média: %.2f%%\" % (resultado.mean() * 100.0))"
   ],
   "metadata": {
    "id": "K0aqT7kPAf1L",
    "ExecuteTime": {
     "end_time": "2024-05-26T05:40:09.095795Z",
     "start_time": "2024-05-26T05:39:42.418750Z"
    }
   },
   "execution_count": 120,
   "outputs": []
  },
  {
   "cell_type": "markdown",
   "source": [
    "Naive Bayes = 84,78% (treino e teste) - 234 acertos e 85,17% (validação cruzada) : previsores3_esc\n",
    "\n",
    "SVM = 86,23% - 238 acertos e 85,72% (validação cruzada) : previsores3-esc - SVC(kernel='rbf', random_state=1, C = 2)\n",
    "\n",
    "Regressão logística = 86,23% - 238 acertos e 85,83% (validação cruzada) : previsores3_esc - LogisticRegression(random_state=1, max_iter=600, penalty=\"l2\", tol=0.0001, C=1,solver=\"lbfgs\")\n",
    "\n",
    "KNN = 84,06% - 232 acertos e 85,84% (validação cruzada) : previsores3_esc ou previsores_esc - KNeighborsClassifier(n_neighbors=7, metric='minkowski', p = 1)\n",
    "\n",
    "Árvore de decisão = 83,7% (treino e teste) - 231 acertos e 83,32% (validação cruzada): previsores3_esc - DecisionTreeClassifier(criterion='entropy', random_state = 0, max_depth=3)\n",
    "\n",
    "Random Forest = 86,59% - 239 acertos e 85,92% (validação cruzada) : previsores - RandomForestClassifier(n_estimators=150, criterion='entropy', random_state = 0, max_depth=4)\n",
    "\n",
    "**XGboost = 87,68% - 242 acertos e 87,13% (validação cruzada) : previsores - XGBClassifier(max_depth=2, learning_rate=0.05, n_estimators=250, objective='binary:logistic', random_state=3)**\n",
    "\n",
    "LightGBM = 86,23% (treino e teste)- 238 acertos e 85,93% (validação cruzada) : previsores - lgb.LGBMClassifier(num_leaves = 250, objective = 'binary',  max_depth = 2, learning_rate = .05, max_bin =100)\n",
    "\n",
    "CatBoost = 86,96% (treino e teste) previsores4 - 240 acertos e 88% (validação cruzada com previsores) - CatBoostClassifier(task_type='CPU', iterations=100, learning_rate=0.1, depth = 8, random_state = 5, eval_metric=\"Accuracy\")\n",
    "\n",
    "Redes Neurais Artificiais = 86,23% (treino e teste) - 238 acertos e 83,97% (validação cruzada) : previsores_esc - MLPClassifier(hidden_layer_sizes=(7), activation='relu', solver='adam', max_iter=800, tol=0.0001, random_state = 3, verbose = True)"
   ],
   "metadata": {
    "id": "tZ03xoOQNkQP"
   }
  },
  {
   "cell_type": "markdown",
   "source": [
    "# **DESAFIO 3**"
   ],
   "metadata": {
    "id": "Q6LoOxMow4Ci"
   }
  },
  {
   "cell_type": "markdown",
   "source": [
    "DESENVOLVER UM ALGORITMO DE REDES NEURAIS ARTFICIAIS DE CLASSIFICAÇÃO PARA O DATASET DO LINK A SEGUIR:"
   ],
   "metadata": {
    "id": "bjLFumRQxayX"
   }
  },
  {
   "cell_type": "markdown",
   "source": [
    "https://www.kaggle.com/uciml/breast-cancer-wisconsin-data "
   ],
   "metadata": {
    "id": "VG8xV9wYxKk2"
   }
  }
 ]
}
