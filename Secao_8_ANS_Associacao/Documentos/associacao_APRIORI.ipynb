{
 "nbformat": 4,
 "nbformat_minor": 0,
 "metadata": {
  "colab": {
   "name": "associacao_APRIORI.ipynb",
   "provenance": []
  },
  "kernelspec": {
   "name": "python3",
   "display_name": "Python 3"
  },
  "language_info": {
   "name": "python"
  }
 },
 "cells": [
  {
   "cell_type": "markdown",
   "metadata": {
    "id": "fQJ5CYV9Te0X"
   },
   "source": [
    "# **APRENDIZAGEM NÃO SUPERVISIONADA: ASSOCIAÇÃO**"
   ]
  },
  {
   "cell_type": "markdown",
   "metadata": {
    "id": "kXFCCsVHTtTP"
   },
   "source": [
    "Este projeto tem por objetivo desenvolver um algoritmo de Machine Learning para associar produtos de mercado. "
   ]
  },
  {
   "cell_type": "markdown",
   "metadata": {
    "id": "5ZQ2nYhQUc3G"
   },
   "source": [
    "Os dados foram extraídos do site do Kaggle:\n",
    "\n",
    "https://www.kaggle.com/heeraldedhia/groceries-dataset"
   ]
  },
  {
   "cell_type": "code",
   "metadata": {
    "id": "nWvIcticlCs2"
   },
   "source": [
    "import numpy as np\n",
    "import pandas as pd"
   ],
   "execution_count": 1,
   "outputs": []
  },
  {
   "cell_type": "code",
   "source": [
    "import warnings\n",
    "warnings.filterwarnings(\"ignore\")"
   ],
   "metadata": {
    "id": "Ucm_66mjkInE"
   },
   "execution_count": 2,
   "outputs": []
  },
  {
   "cell_type": "code",
   "metadata": {
    "id": "LRIrwcC8kUhT"
   },
   "source": [
    "df = pd.read_csv('/content/drive/MyDrive/Cursos_Udemy/Machine_Learning_com_Python/Groceries_dataset.csv',\n",
    "                    sep=',', encoding='iso-8859-1')"
   ],
   "execution_count": 3,
   "outputs": []
  },
  {
   "cell_type": "code",
   "source": [
    "df.head()"
   ],
   "metadata": {
    "id": "lBTqjg4LQKeZ"
   },
   "execution_count": null,
   "outputs": []
  },
  {
   "cell_type": "code",
   "source": [
    "df.shape"
   ],
   "metadata": {
    "id": "WivBUsFuYkH8"
   },
   "execution_count": null,
   "outputs": []
  },
  {
   "cell_type": "markdown",
   "source": [
    "## **ANÁLISE, TRATAMENTO E PRÉ-PROCESSAMENTO DOS DADOS**"
   ],
   "metadata": {
    "id": "HxaCUHTyTqsg"
   }
  },
  {
   "cell_type": "markdown",
   "metadata": {
    "id": "3lk5kf4eZ_sL"
   },
   "source": [
    "**Valores Missing (NAN)**"
   ]
  },
  {
   "cell_type": "code",
   "metadata": {
    "colab": {
     "base_uri": "https://localhost:8080/"
    },
    "id": "A24U7d5QYPaV",
    "outputId": "1fe9dc1d-75a0-4cd8-cb5c-2a5ad7a1bc15"
   },
   "source": [
    "# RELAÇÃO DA QUANTIDADE\n",
    "df.isnull().sum()"
   ],
   "execution_count": 4,
   "outputs": []
  },
  {
   "cell_type": "markdown",
   "source": [
    "**Análise dos tipos de atributos.**"
   ],
   "metadata": {
    "id": "Q_4_5j4Vlz2j"
   }
  },
  {
   "cell_type": "code",
   "metadata": {
    "id": "wopAqivQXpqI",
    "colab": {
     "base_uri": "https://localhost:8080/"
    },
    "outputId": "04259c8a-6f9f-404f-add0-e322533dcec8"
   },
   "source": [
    "# object: strings\n",
    "# int64: inteiros\n",
    "# float64: reais\n",
    "# complex: complexos\n",
    "df.dtypes"
   ],
   "execution_count": 5,
   "outputs": []
  },
  {
   "cell_type": "code",
   "source": [
    "df[\"Date\"]=pd.to_datetime(df[\"Date\"])"
   ],
   "metadata": {
    "id": "ODhWhAneZmAQ"
   },
   "execution_count": 6,
   "outputs": []
  },
  {
   "cell_type": "code",
   "source": [
    "df.dtypes"
   ],
   "metadata": {
    "colab": {
     "base_uri": "https://localhost:8080/"
    },
    "id": "S79_PTulZp92",
    "outputId": "a7a83627-4a90-4003-b507-7701658f0f70"
   },
   "execution_count": 7,
   "outputs": []
  },
  {
   "cell_type": "code",
   "source": [
    "df[\"itemDescription\"].value_counts().head(30)"
   ],
   "metadata": {
    "colab": {
     "base_uri": "https://localhost:8080/"
    },
    "id": "ghY2H_oKZyd_",
    "outputId": "97534434-43ad-4a6a-92fe-04f6e89f3ef3"
   },
   "execution_count": 8,
   "outputs": []
  },
  {
   "cell_type": "code",
   "source": [
    "df[\"Member_number\"].value_counts().head(10)"
   ],
   "metadata": {
    "colab": {
     "base_uri": "https://localhost:8080/"
    },
    "id": "UvmTEP6QaIcG",
    "outputId": "07bc665f-ccd7-496e-b199-3adf5c61e61c"
   },
   "execution_count": 9,
   "outputs": []
  },
  {
   "cell_type": "code",
   "source": [
    "df.head()"
   ],
   "metadata": {
    "colab": {
     "base_uri": "https://localhost:8080/",
     "height": 206
    },
    "id": "LtJX0hJzWBKO",
    "outputId": "7550592c-c2c3-4a04-ef43-eab75c849963"
   },
   "execution_count": 10,
   "outputs": []
  },
  {
   "cell_type": "code",
   "source": [
    "df2 = df.groupby(['Member_number', 'itemDescription'])['itemDescription'].count().unstack().fillna(0).applymap(\n",
    "    lambda x: 1 if x > 0 else 0)"
   ],
   "metadata": {
    "id": "fPaHKX8gaWKf"
   },
   "execution_count": 11,
   "outputs": []
  },
  {
   "cell_type": "code",
   "source": [
    "df2"
   ],
   "metadata": {
    "colab": {
     "base_uri": "https://localhost:8080/",
     "height": 554
    },
    "id": "0V9bjvxPWp2c",
    "outputId": "8f30342c-1fd3-4727-9a8d-d155d675c9ba"
   },
   "execution_count": 12,
   "outputs": []
  },
  {
   "cell_type": "code",
   "source": [
    "df2.iloc[0:12, 0:12]"
   ],
   "metadata": {
    "colab": {
     "base_uri": "https://localhost:8080/",
     "height": 536
    },
    "id": "pZ2eyBRAacdm",
    "outputId": "24cb2344-411e-464f-8887-1999fcc9e8d1"
   },
   "execution_count": 13,
   "outputs": []
  },
  {
   "cell_type": "code",
   "source": [
    "df2.shape"
   ],
   "metadata": {
    "colab": {
     "base_uri": "https://localhost:8080/"
    },
    "id": "F1y3U04LW-O4",
    "outputId": "83c48e56-7e53-467b-bdc4-3994d23bd7f9"
   },
   "execution_count": 14,
   "outputs": []
  },
  {
   "cell_type": "markdown",
   "source": [
    "## **APRIORI**"
   ],
   "metadata": {
    "id": "c6F7C5ELamj2"
   }
  },
  {
   "cell_type": "code",
   "source": [
    "from mlxtend.frequent_patterns import apriori, association_rules"
   ],
   "metadata": {
    "id": "DTNhbh2mbKMh"
   },
   "execution_count": 15,
   "outputs": []
  },
  {
   "cell_type": "code",
   "source": [
    "# Gerando a associação\n",
    "associacao = apriori(df2, min_support=0.05, use_colnames=True)"
   ],
   "metadata": {
    "id": "SqiQduxibHGk"
   },
   "execution_count": 16,
   "outputs": []
  },
  {
   "cell_type": "code",
   "source": [
    "# Colocando em ordem dos mais frequentes\n",
    "associacao.sort_values(\"support\", ascending=False).head(10)"
   ],
   "metadata": {
    "colab": {
     "base_uri": "https://localhost:8080/",
     "height": 363
    },
    "id": "OSltGUUIrArh",
    "outputId": "90559d6d-e60a-4f20-933f-4148128e1835"
   },
   "execution_count": 17,
   "outputs": []
  },
  {
   "cell_type": "code",
   "source": [
    "# Criando as regras de associação\n",
    "regras = association_rules(associacao, metric=\"lift\")"
   ],
   "metadata": {
    "id": "Z_8HJ7Nqba0a"
   },
   "execution_count": 18,
   "outputs": []
  },
  {
   "cell_type": "code",
   "source": [
    "# Colocando em ordem de suporte, confiança ou grau de associação (Lift)\n",
    "resultado = regras.sort_values(\"support\", ascending=False)"
   ],
   "metadata": {
    "id": "9Yh-kyhnrDrV"
   },
   "execution_count": 23,
   "outputs": []
  },
  {
   "cell_type": "code",
   "source": [
    "resultado.head(20)"
   ],
   "metadata": {
    "id": "muAOYsl0mour",
    "colab": {
     "base_uri": "https://localhost:8080/",
     "height": 877
    },
    "outputId": "007bc94d-7d80-4158-82e5-8c4f5e416b4b"
   },
   "execution_count": 24,
   "outputs": []
  },
  {
   "cell_type": "markdown",
   "source": [
    "## **DESAFIO 6**"
   ],
   "metadata": {
    "id": "AcrejG_izAAd"
   }
  },
  {
   "cell_type": "markdown",
   "source": [
    "Desenvolver os algoritmos Apriori e Eclat utilizando o Exemplo 2 disponível na biblioteca pyECLAT."
   ],
   "metadata": {
    "id": "HuoPc3eLl2KD"
   }
  },
  {
   "cell_type": "code",
   "source": [
    "!pip install pyECLAT"
   ],
   "metadata": {
    "colab": {
     "base_uri": "https://localhost:8080/"
    },
    "id": "2Uei1UZ-x5Ac",
    "outputId": "cded89b1-60ad-43e9-bcf9-ab77b6dba3a8"
   },
   "execution_count": 1,
   "outputs": []
  },
  {
   "cell_type": "code",
   "source": [
    "from pyECLAT import Example2\n",
    "dados = Example2().get()\n",
    "dados"
   ],
   "metadata": {
    "colab": {
     "base_uri": "https://localhost:8080/",
     "height": 423
    },
    "id": "JEovTDJVmNgX",
    "outputId": "b0d192ae-ad0f-4984-e371-6e1ef88c9c5a"
   },
   "execution_count": 2,
   "outputs": []
  }
 ]
}
