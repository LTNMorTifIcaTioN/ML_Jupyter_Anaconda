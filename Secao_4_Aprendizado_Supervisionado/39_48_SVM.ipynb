{
 "cells": [
  {
   "cell_type": "markdown",
   "source": [
    "# 39. Pré-processamento dos dados: variáveis categóricas"
   ],
   "metadata": {
    "collapsed": false
   },
   "id": "bd71a7194a09f15c"
  },
  {
   "cell_type": "code",
   "outputs": [],
   "source": [
    "# Pré-processamento\n",
    "import numpy as np\n",
    "import pandas as pd"
   ],
   "metadata": {
    "collapsed": false,
    "ExecuteTime": {
     "end_time": "2024-03-11T03:12:09.726735Z",
     "start_time": "2024-03-11T03:12:09.613730200Z"
    }
   },
   "id": "51a7670725738719",
   "execution_count": 97
  },
  {
   "cell_type": "code",
   "outputs": [],
   "source": [
    "df = pd.read_csv('Dataset/heart_tratado.csv', sep=',', encoding='utf-8')"
   ],
   "metadata": {
    "collapsed": false,
    "ExecuteTime": {
     "end_time": "2024-03-11T03:12:09.894863900Z",
     "start_time": "2024-03-11T03:12:09.742330800Z"
    }
   },
   "id": "92f7b0903fe5166",
   "execution_count": 98
  },
  {
   "cell_type": "code",
   "outputs": [
    {
     "data": {
      "text/plain": "   Age Sex ChestPainType  RestingBP  Cholesterol  FastingBS RestingECG  MaxHR  \\\n0   40   M           ATA        140        289.0          0     Normal    172   \n1   49   F           NAP        160        180.0          0     Normal    156   \n2   37   M           ATA        130        283.0          0         ST     98   \n3   48   F           ASY        138        214.0          0     Normal    108   \n4   54   M           NAP        150        195.0          0     Normal    122   \n5   39   M           NAP        120        339.0          0     Normal    170   \n6   45   F           ATA        130        237.0          0     Normal    170   \n7   54   M           ATA        110        208.0          0     Normal    142   \n8   37   M           ASY        140        207.0          0     Normal    130   \n9   48   F           ATA        120        284.0          0     Normal    120   \n\n  ExerciseAngina  Oldpeak ST_Slope  HeartDisease  \n0              N      0.0       Up             0  \n1              N      1.0     Flat             1  \n2              N      0.0       Up             0  \n3              Y      1.5     Flat             1  \n4              N      0.0       Up             0  \n5              N      0.0       Up             0  \n6              N      0.0       Up             0  \n7              N      0.0       Up             0  \n8              Y      1.5     Flat             1  \n9              N      0.0       Up             0  ",
      "text/html": "<div>\n<style scoped>\n    .dataframe tbody tr th:only-of-type {\n        vertical-align: middle;\n    }\n\n    .dataframe tbody tr th {\n        vertical-align: top;\n    }\n\n    .dataframe thead th {\n        text-align: right;\n    }\n</style>\n<table border=\"1\" class=\"dataframe\">\n  <thead>\n    <tr style=\"text-align: right;\">\n      <th></th>\n      <th>Age</th>\n      <th>Sex</th>\n      <th>ChestPainType</th>\n      <th>RestingBP</th>\n      <th>Cholesterol</th>\n      <th>FastingBS</th>\n      <th>RestingECG</th>\n      <th>MaxHR</th>\n      <th>ExerciseAngina</th>\n      <th>Oldpeak</th>\n      <th>ST_Slope</th>\n      <th>HeartDisease</th>\n    </tr>\n  </thead>\n  <tbody>\n    <tr>\n      <th>0</th>\n      <td>40</td>\n      <td>M</td>\n      <td>ATA</td>\n      <td>140</td>\n      <td>289.0</td>\n      <td>0</td>\n      <td>Normal</td>\n      <td>172</td>\n      <td>N</td>\n      <td>0.0</td>\n      <td>Up</td>\n      <td>0</td>\n    </tr>\n    <tr>\n      <th>1</th>\n      <td>49</td>\n      <td>F</td>\n      <td>NAP</td>\n      <td>160</td>\n      <td>180.0</td>\n      <td>0</td>\n      <td>Normal</td>\n      <td>156</td>\n      <td>N</td>\n      <td>1.0</td>\n      <td>Flat</td>\n      <td>1</td>\n    </tr>\n    <tr>\n      <th>2</th>\n      <td>37</td>\n      <td>M</td>\n      <td>ATA</td>\n      <td>130</td>\n      <td>283.0</td>\n      <td>0</td>\n      <td>ST</td>\n      <td>98</td>\n      <td>N</td>\n      <td>0.0</td>\n      <td>Up</td>\n      <td>0</td>\n    </tr>\n    <tr>\n      <th>3</th>\n      <td>48</td>\n      <td>F</td>\n      <td>ASY</td>\n      <td>138</td>\n      <td>214.0</td>\n      <td>0</td>\n      <td>Normal</td>\n      <td>108</td>\n      <td>Y</td>\n      <td>1.5</td>\n      <td>Flat</td>\n      <td>1</td>\n    </tr>\n    <tr>\n      <th>4</th>\n      <td>54</td>\n      <td>M</td>\n      <td>NAP</td>\n      <td>150</td>\n      <td>195.0</td>\n      <td>0</td>\n      <td>Normal</td>\n      <td>122</td>\n      <td>N</td>\n      <td>0.0</td>\n      <td>Up</td>\n      <td>0</td>\n    </tr>\n    <tr>\n      <th>5</th>\n      <td>39</td>\n      <td>M</td>\n      <td>NAP</td>\n      <td>120</td>\n      <td>339.0</td>\n      <td>0</td>\n      <td>Normal</td>\n      <td>170</td>\n      <td>N</td>\n      <td>0.0</td>\n      <td>Up</td>\n      <td>0</td>\n    </tr>\n    <tr>\n      <th>6</th>\n      <td>45</td>\n      <td>F</td>\n      <td>ATA</td>\n      <td>130</td>\n      <td>237.0</td>\n      <td>0</td>\n      <td>Normal</td>\n      <td>170</td>\n      <td>N</td>\n      <td>0.0</td>\n      <td>Up</td>\n      <td>0</td>\n    </tr>\n    <tr>\n      <th>7</th>\n      <td>54</td>\n      <td>M</td>\n      <td>ATA</td>\n      <td>110</td>\n      <td>208.0</td>\n      <td>0</td>\n      <td>Normal</td>\n      <td>142</td>\n      <td>N</td>\n      <td>0.0</td>\n      <td>Up</td>\n      <td>0</td>\n    </tr>\n    <tr>\n      <th>8</th>\n      <td>37</td>\n      <td>M</td>\n      <td>ASY</td>\n      <td>140</td>\n      <td>207.0</td>\n      <td>0</td>\n      <td>Normal</td>\n      <td>130</td>\n      <td>Y</td>\n      <td>1.5</td>\n      <td>Flat</td>\n      <td>1</td>\n    </tr>\n    <tr>\n      <th>9</th>\n      <td>48</td>\n      <td>F</td>\n      <td>ATA</td>\n      <td>120</td>\n      <td>284.0</td>\n      <td>0</td>\n      <td>Normal</td>\n      <td>120</td>\n      <td>N</td>\n      <td>0.0</td>\n      <td>Up</td>\n      <td>0</td>\n    </tr>\n  </tbody>\n</table>\n</div>"
     },
     "execution_count": 99,
     "metadata": {},
     "output_type": "execute_result"
    }
   ],
   "source": [
    "df.head(10)"
   ],
   "metadata": {
    "collapsed": false,
    "ExecuteTime": {
     "end_time": "2024-03-11T03:12:10.068190700Z",
     "start_time": "2024-03-11T03:12:09.906835300Z"
    }
   },
   "id": "af06cbd139788b66",
   "execution_count": 99
  },
  {
   "cell_type": "code",
   "outputs": [
    {
     "data": {
      "text/plain": "(917, 12)"
     },
     "execution_count": 100,
     "metadata": {},
     "output_type": "execute_result"
    }
   ],
   "source": [
    "df.shape"
   ],
   "metadata": {
    "collapsed": false,
    "ExecuteTime": {
     "end_time": "2024-03-11T03:12:10.286331200Z",
     "start_time": "2024-03-11T03:12:10.078158800Z"
    }
   },
   "id": "52e5034159d74ce5",
   "execution_count": 100
  },
  {
   "cell_type": "code",
   "outputs": [],
   "source": [
    "# Transformando as variáveis categóricas nominais em variáveis categóricas ordinais\n",
    "df2 = pd.DataFrame.copy(df)"
   ],
   "metadata": {
    "collapsed": false,
    "ExecuteTime": {
     "end_time": "2024-03-11T03:12:10.458944900Z",
     "start_time": "2024-03-11T03:12:10.301327300Z"
    }
   },
   "id": "82b73d93469345c4",
   "execution_count": 101
  },
  {
   "cell_type": "code",
   "outputs": [],
   "source": [
    "df2['Sex'].replace({'M': 1, 'F': 0}, inplace=True)\n",
    "df2['ChestPainType'].replace({'TA':0, 'ATA':1, 'NAP':2, 'ASY':3}, inplace=True)\n",
    "df2['RestingECG'].replace({'Normal':0, 'ST':1, 'LVH':2}, inplace=True)\n",
    "df2['ExerciseAngina'].replace({'N':0, 'Y':1}, inplace=True)\n",
    "df2['ST_Slope'].replace({'Up':0, 'Flat':1 ,'Down':2}, inplace=True)"
   ],
   "metadata": {
    "collapsed": false,
    "ExecuteTime": {
     "end_time": "2024-03-11T03:12:10.605663400Z",
     "start_time": "2024-03-11T03:12:10.485838800Z"
    }
   },
   "id": "baae510ad49b025f",
   "execution_count": 102
  },
  {
   "cell_type": "code",
   "outputs": [
    {
     "data": {
      "text/plain": "   Age  Sex  ChestPainType  RestingBP  Cholesterol  FastingBS  RestingECG  \\\n0   40    1              1        140        289.0          0           0   \n1   49    0              2        160        180.0          0           0   \n2   37    1              1        130        283.0          0           1   \n3   48    0              3        138        214.0          0           0   \n4   54    1              2        150        195.0          0           0   \n5   39    1              2        120        339.0          0           0   \n6   45    0              1        130        237.0          0           0   \n7   54    1              1        110        208.0          0           0   \n8   37    1              3        140        207.0          0           0   \n9   48    0              1        120        284.0          0           0   \n\n   MaxHR  ExerciseAngina  Oldpeak  ST_Slope  HeartDisease  \n0    172               0      0.0         0             0  \n1    156               0      1.0         1             1  \n2     98               0      0.0         0             0  \n3    108               1      1.5         1             1  \n4    122               0      0.0         0             0  \n5    170               0      0.0         0             0  \n6    170               0      0.0         0             0  \n7    142               0      0.0         0             0  \n8    130               1      1.5         1             1  \n9    120               0      0.0         0             0  ",
      "text/html": "<div>\n<style scoped>\n    .dataframe tbody tr th:only-of-type {\n        vertical-align: middle;\n    }\n\n    .dataframe tbody tr th {\n        vertical-align: top;\n    }\n\n    .dataframe thead th {\n        text-align: right;\n    }\n</style>\n<table border=\"1\" class=\"dataframe\">\n  <thead>\n    <tr style=\"text-align: right;\">\n      <th></th>\n      <th>Age</th>\n      <th>Sex</th>\n      <th>ChestPainType</th>\n      <th>RestingBP</th>\n      <th>Cholesterol</th>\n      <th>FastingBS</th>\n      <th>RestingECG</th>\n      <th>MaxHR</th>\n      <th>ExerciseAngina</th>\n      <th>Oldpeak</th>\n      <th>ST_Slope</th>\n      <th>HeartDisease</th>\n    </tr>\n  </thead>\n  <tbody>\n    <tr>\n      <th>0</th>\n      <td>40</td>\n      <td>1</td>\n      <td>1</td>\n      <td>140</td>\n      <td>289.0</td>\n      <td>0</td>\n      <td>0</td>\n      <td>172</td>\n      <td>0</td>\n      <td>0.0</td>\n      <td>0</td>\n      <td>0</td>\n    </tr>\n    <tr>\n      <th>1</th>\n      <td>49</td>\n      <td>0</td>\n      <td>2</td>\n      <td>160</td>\n      <td>180.0</td>\n      <td>0</td>\n      <td>0</td>\n      <td>156</td>\n      <td>0</td>\n      <td>1.0</td>\n      <td>1</td>\n      <td>1</td>\n    </tr>\n    <tr>\n      <th>2</th>\n      <td>37</td>\n      <td>1</td>\n      <td>1</td>\n      <td>130</td>\n      <td>283.0</td>\n      <td>0</td>\n      <td>1</td>\n      <td>98</td>\n      <td>0</td>\n      <td>0.0</td>\n      <td>0</td>\n      <td>0</td>\n    </tr>\n    <tr>\n      <th>3</th>\n      <td>48</td>\n      <td>0</td>\n      <td>3</td>\n      <td>138</td>\n      <td>214.0</td>\n      <td>0</td>\n      <td>0</td>\n      <td>108</td>\n      <td>1</td>\n      <td>1.5</td>\n      <td>1</td>\n      <td>1</td>\n    </tr>\n    <tr>\n      <th>4</th>\n      <td>54</td>\n      <td>1</td>\n      <td>2</td>\n      <td>150</td>\n      <td>195.0</td>\n      <td>0</td>\n      <td>0</td>\n      <td>122</td>\n      <td>0</td>\n      <td>0.0</td>\n      <td>0</td>\n      <td>0</td>\n    </tr>\n    <tr>\n      <th>5</th>\n      <td>39</td>\n      <td>1</td>\n      <td>2</td>\n      <td>120</td>\n      <td>339.0</td>\n      <td>0</td>\n      <td>0</td>\n      <td>170</td>\n      <td>0</td>\n      <td>0.0</td>\n      <td>0</td>\n      <td>0</td>\n    </tr>\n    <tr>\n      <th>6</th>\n      <td>45</td>\n      <td>0</td>\n      <td>1</td>\n      <td>130</td>\n      <td>237.0</td>\n      <td>0</td>\n      <td>0</td>\n      <td>170</td>\n      <td>0</td>\n      <td>0.0</td>\n      <td>0</td>\n      <td>0</td>\n    </tr>\n    <tr>\n      <th>7</th>\n      <td>54</td>\n      <td>1</td>\n      <td>1</td>\n      <td>110</td>\n      <td>208.0</td>\n      <td>0</td>\n      <td>0</td>\n      <td>142</td>\n      <td>0</td>\n      <td>0.0</td>\n      <td>0</td>\n      <td>0</td>\n    </tr>\n    <tr>\n      <th>8</th>\n      <td>37</td>\n      <td>1</td>\n      <td>3</td>\n      <td>140</td>\n      <td>207.0</td>\n      <td>0</td>\n      <td>0</td>\n      <td>130</td>\n      <td>1</td>\n      <td>1.5</td>\n      <td>1</td>\n      <td>1</td>\n    </tr>\n    <tr>\n      <th>9</th>\n      <td>48</td>\n      <td>0</td>\n      <td>1</td>\n      <td>120</td>\n      <td>284.0</td>\n      <td>0</td>\n      <td>0</td>\n      <td>120</td>\n      <td>0</td>\n      <td>0.0</td>\n      <td>0</td>\n      <td>0</td>\n    </tr>\n  </tbody>\n</table>\n</div>"
     },
     "execution_count": 103,
     "metadata": {},
     "output_type": "execute_result"
    }
   ],
   "source": [
    "df2.head(10)"
   ],
   "metadata": {
    "collapsed": false,
    "ExecuteTime": {
     "end_time": "2024-03-11T03:12:10.708582200Z",
     "start_time": "2024-03-11T03:12:10.617598400Z"
    }
   },
   "id": "3f9afee2a9535e58",
   "execution_count": 103
  },
  {
   "cell_type": "code",
   "outputs": [
    {
     "data": {
      "text/plain": "Age                 int64\nSex                 int64\nChestPainType       int64\nRestingBP           int64\nCholesterol       float64\nFastingBS           int64\nRestingECG          int64\nMaxHR               int64\nExerciseAngina      int64\nOldpeak           float64\nST_Slope            int64\nHeartDisease        int64\ndtype: object"
     },
     "execution_count": 104,
     "metadata": {},
     "output_type": "execute_result"
    }
   ],
   "source": [
    "df2.dtypes"
   ],
   "metadata": {
    "collapsed": false,
    "ExecuteTime": {
     "end_time": "2024-03-11T03:12:10.873786Z",
     "start_time": "2024-03-11T03:12:10.718932500Z"
    }
   },
   "id": "f0ef800e4298e28f",
   "execution_count": 104
  },
  {
   "cell_type": "code",
   "outputs": [
    {
     "data": {
      "text/plain": "(917, 12)"
     },
     "execution_count": 105,
     "metadata": {},
     "output_type": "execute_result"
    }
   ],
   "source": [
    "df2.shape"
   ],
   "metadata": {
    "collapsed": false,
    "ExecuteTime": {
     "end_time": "2024-03-11T03:12:11.104889300Z",
     "start_time": "2024-03-11T03:12:10.885531700Z"
    }
   },
   "id": "9a2c9c452cfe3e3b",
   "execution_count": 105
  },
  {
   "cell_type": "markdown",
   "source": [
    "# 40. Pré-processamento: escalonamento e separação de variáveis"
   ],
   "metadata": {
    "collapsed": false
   },
   "id": "d08cacc0e4701263"
  },
  {
   "cell_type": "code",
   "outputs": [
    {
     "data": {
      "text/plain": "   Age  Sex  ChestPainType  RestingBP  Cholesterol  FastingBS  RestingECG  \\\n0   40    1              1        140        289.0          0           0   \n1   49    0              2        160        180.0          0           0   \n2   37    1              1        130        283.0          0           1   \n3   48    0              3        138        214.0          0           0   \n4   54    1              2        150        195.0          0           0   \n5   39    1              2        120        339.0          0           0   \n6   45    0              1        130        237.0          0           0   \n7   54    1              1        110        208.0          0           0   \n8   37    1              3        140        207.0          0           0   \n9   48    0              1        120        284.0          0           0   \n\n   MaxHR  ExerciseAngina  Oldpeak  ST_Slope  HeartDisease  \n0    172               0      0.0         0             0  \n1    156               0      1.0         1             1  \n2     98               0      0.0         0             0  \n3    108               1      1.5         1             1  \n4    122               0      0.0         0             0  \n5    170               0      0.0         0             0  \n6    170               0      0.0         0             0  \n7    142               0      0.0         0             0  \n8    130               1      1.5         1             1  \n9    120               0      0.0         0             0  ",
      "text/html": "<div>\n<style scoped>\n    .dataframe tbody tr th:only-of-type {\n        vertical-align: middle;\n    }\n\n    .dataframe tbody tr th {\n        vertical-align: top;\n    }\n\n    .dataframe thead th {\n        text-align: right;\n    }\n</style>\n<table border=\"1\" class=\"dataframe\">\n  <thead>\n    <tr style=\"text-align: right;\">\n      <th></th>\n      <th>Age</th>\n      <th>Sex</th>\n      <th>ChestPainType</th>\n      <th>RestingBP</th>\n      <th>Cholesterol</th>\n      <th>FastingBS</th>\n      <th>RestingECG</th>\n      <th>MaxHR</th>\n      <th>ExerciseAngina</th>\n      <th>Oldpeak</th>\n      <th>ST_Slope</th>\n      <th>HeartDisease</th>\n    </tr>\n  </thead>\n  <tbody>\n    <tr>\n      <th>0</th>\n      <td>40</td>\n      <td>1</td>\n      <td>1</td>\n      <td>140</td>\n      <td>289.0</td>\n      <td>0</td>\n      <td>0</td>\n      <td>172</td>\n      <td>0</td>\n      <td>0.0</td>\n      <td>0</td>\n      <td>0</td>\n    </tr>\n    <tr>\n      <th>1</th>\n      <td>49</td>\n      <td>0</td>\n      <td>2</td>\n      <td>160</td>\n      <td>180.0</td>\n      <td>0</td>\n      <td>0</td>\n      <td>156</td>\n      <td>0</td>\n      <td>1.0</td>\n      <td>1</td>\n      <td>1</td>\n    </tr>\n    <tr>\n      <th>2</th>\n      <td>37</td>\n      <td>1</td>\n      <td>1</td>\n      <td>130</td>\n      <td>283.0</td>\n      <td>0</td>\n      <td>1</td>\n      <td>98</td>\n      <td>0</td>\n      <td>0.0</td>\n      <td>0</td>\n      <td>0</td>\n    </tr>\n    <tr>\n      <th>3</th>\n      <td>48</td>\n      <td>0</td>\n      <td>3</td>\n      <td>138</td>\n      <td>214.0</td>\n      <td>0</td>\n      <td>0</td>\n      <td>108</td>\n      <td>1</td>\n      <td>1.5</td>\n      <td>1</td>\n      <td>1</td>\n    </tr>\n    <tr>\n      <th>4</th>\n      <td>54</td>\n      <td>1</td>\n      <td>2</td>\n      <td>150</td>\n      <td>195.0</td>\n      <td>0</td>\n      <td>0</td>\n      <td>122</td>\n      <td>0</td>\n      <td>0.0</td>\n      <td>0</td>\n      <td>0</td>\n    </tr>\n    <tr>\n      <th>5</th>\n      <td>39</td>\n      <td>1</td>\n      <td>2</td>\n      <td>120</td>\n      <td>339.0</td>\n      <td>0</td>\n      <td>0</td>\n      <td>170</td>\n      <td>0</td>\n      <td>0.0</td>\n      <td>0</td>\n      <td>0</td>\n    </tr>\n    <tr>\n      <th>6</th>\n      <td>45</td>\n      <td>0</td>\n      <td>1</td>\n      <td>130</td>\n      <td>237.0</td>\n      <td>0</td>\n      <td>0</td>\n      <td>170</td>\n      <td>0</td>\n      <td>0.0</td>\n      <td>0</td>\n      <td>0</td>\n    </tr>\n    <tr>\n      <th>7</th>\n      <td>54</td>\n      <td>1</td>\n      <td>1</td>\n      <td>110</td>\n      <td>208.0</td>\n      <td>0</td>\n      <td>0</td>\n      <td>142</td>\n      <td>0</td>\n      <td>0.0</td>\n      <td>0</td>\n      <td>0</td>\n    </tr>\n    <tr>\n      <th>8</th>\n      <td>37</td>\n      <td>1</td>\n      <td>3</td>\n      <td>140</td>\n      <td>207.0</td>\n      <td>0</td>\n      <td>0</td>\n      <td>130</td>\n      <td>1</td>\n      <td>1.5</td>\n      <td>1</td>\n      <td>1</td>\n    </tr>\n    <tr>\n      <th>9</th>\n      <td>48</td>\n      <td>0</td>\n      <td>1</td>\n      <td>120</td>\n      <td>284.0</td>\n      <td>0</td>\n      <td>0</td>\n      <td>120</td>\n      <td>0</td>\n      <td>0.0</td>\n      <td>0</td>\n      <td>0</td>\n    </tr>\n  </tbody>\n</table>\n</div>"
     },
     "execution_count": 106,
     "metadata": {},
     "output_type": "execute_result"
    }
   ],
   "source": [
    "df2.head(10)"
   ],
   "metadata": {
    "collapsed": false,
    "ExecuteTime": {
     "end_time": "2024-03-11T03:12:12.351558400Z",
     "start_time": "2024-03-11T03:12:12.197701300Z"
    }
   },
   "id": "dee16986bad8041d",
   "execution_count": 106
  },
  {
   "cell_type": "code",
   "outputs": [],
   "source": [
    "previsores = df2.iloc[:, 0:11].values"
   ],
   "metadata": {
    "collapsed": false,
    "ExecuteTime": {
     "end_time": "2024-03-11T03:12:12.488305200Z",
     "start_time": "2024-03-11T03:12:12.367083200Z"
    }
   },
   "id": "a5bd4a4617d18ae8",
   "execution_count": 107
  },
  {
   "cell_type": "code",
   "outputs": [
    {
     "data": {
      "text/plain": "array([[40. ,  1. ,  1. , ...,  0. ,  0. ,  0. ],\n       [49. ,  0. ,  2. , ...,  0. ,  1. ,  1. ],\n       [37. ,  1. ,  1. , ...,  0. ,  0. ,  0. ],\n       ...,\n       [57. ,  1. ,  3. , ...,  1. ,  1.2,  1. ],\n       [57. ,  0. ,  1. , ...,  0. ,  0. ,  1. ],\n       [38. ,  1. ,  2. , ...,  0. ,  0. ,  0. ]])"
     },
     "execution_count": 108,
     "metadata": {},
     "output_type": "execute_result"
    }
   ],
   "source": [
    "previsores"
   ],
   "metadata": {
    "collapsed": false,
    "ExecuteTime": {
     "end_time": "2024-03-11T03:12:12.816373700Z",
     "start_time": "2024-03-11T03:12:12.556310300Z"
    }
   },
   "id": "92cde52becf2fc7d",
   "execution_count": 108
  },
  {
   "cell_type": "code",
   "outputs": [
    {
     "data": {
      "text/plain": "(917, 11)"
     },
     "execution_count": 109,
     "metadata": {},
     "output_type": "execute_result"
    }
   ],
   "source": [
    "previsores.shape"
   ],
   "metadata": {
    "collapsed": false,
    "ExecuteTime": {
     "end_time": "2024-03-11T03:12:14.085506300Z",
     "start_time": "2024-03-11T03:12:13.929169200Z"
    }
   },
   "id": "f7e463ce9347eaa8",
   "execution_count": 109
  },
  {
   "cell_type": "code",
   "outputs": [],
   "source": [
    "alvo = df2.iloc[:, 11].values"
   ],
   "metadata": {
    "collapsed": false,
    "ExecuteTime": {
     "end_time": "2024-03-11T03:12:14.280397500Z",
     "start_time": "2024-03-11T03:12:14.114453400Z"
    }
   },
   "id": "de3c52bb7fe75ff2",
   "execution_count": 110
  },
  {
   "cell_type": "code",
   "outputs": [
    {
     "data": {
      "text/plain": "array([0, 1, 0, 1, 0, 0, 0, 0, 1, 0, 0, 1, 0, 1, 0, 0, 1, 0, 1, 1, 0, 0,\n       0, 1, 0, 0, 0, 0, 0, 0, 1, 0, 1, 1, 0, 0, 1, 0, 0, 0, 0, 1, 0, 0,\n       1, 0, 0, 0, 0, 1, 1, 1, 0, 0, 0, 0, 1, 1, 0, 1, 0, 0, 0, 1, 0, 0,\n       0, 0, 1, 0, 1, 0, 1, 0, 1, 0, 1, 0, 0, 1, 0, 0, 1, 0, 1, 1, 1, 0,\n       1, 0, 0, 0, 0, 1, 0, 1, 0, 0, 0, 0, 1, 0, 1, 1, 1, 0, 0, 0, 0, 0,\n       0, 1, 0, 0, 0, 1, 1, 1, 0, 1, 1, 0, 0, 1, 0, 0, 0, 0, 0, 0, 0, 1,\n       1, 1, 0, 1, 0, 0, 1, 1, 1, 1, 1, 0, 1, 0, 0, 0, 0, 1, 0, 0, 0, 0,\n       0, 1, 1, 0, 1, 0, 1, 1, 0, 0, 0, 1, 1, 0, 0, 0, 0, 0, 0, 0, 1, 1,\n       1, 0, 0, 0, 1, 0, 1, 0, 0, 1, 0, 1, 0, 1, 0, 0, 0, 0, 0, 0, 0, 0,\n       1, 0, 0, 0, 0, 0, 0, 0, 0, 1, 0, 1, 1, 1, 0, 0, 1, 0, 1, 0, 0, 0,\n       1, 1, 0, 0, 0, 1, 0, 1, 0, 0, 0, 0, 0, 0, 0, 0, 1, 1, 1, 1, 0, 1,\n       1, 0, 1, 0, 1, 1, 1, 1, 1, 1, 0, 0, 1, 0, 0, 0, 0, 0, 0, 0, 1, 1,\n       1, 0, 1, 0, 1, 0, 0, 0, 1, 0, 0, 0, 1, 1, 0, 0, 0, 1, 0, 0, 0, 0,\n       0, 0, 0, 0, 0, 0, 0, 1, 1, 1, 1, 1, 1, 1, 1, 0, 1, 1, 1, 1, 1, 0,\n       1, 1, 0, 1, 1, 1, 0, 1, 1, 1, 1, 1, 1, 1, 1, 1, 1, 1, 0, 1, 1, 1,\n       1, 1, 0, 1, 1, 1, 0, 1, 1, 1, 1, 1, 1, 1, 1, 1, 1, 1, 1, 1, 1, 1,\n       1, 1, 1, 1, 1, 1, 1, 1, 1, 1, 1, 1, 0, 1, 1, 1, 1, 1, 1, 1, 1, 1,\n       1, 1, 1, 1, 1, 1, 1, 1, 1, 1, 1, 1, 1, 1, 1, 1, 1, 1, 1, 1, 1, 1,\n       1, 1, 1, 1, 1, 1, 1, 1, 1, 1, 1, 1, 1, 1, 1, 1, 1, 1, 1, 1, 1, 0,\n       1, 1, 0, 0, 1, 0, 1, 1, 0, 1, 1, 1, 1, 0, 1, 1, 0, 0, 1, 1, 1, 0,\n       1, 1, 1, 1, 1, 1, 1, 1, 1, 1, 1, 1, 0, 1, 0, 1, 1, 1, 0, 1, 1, 1,\n       0, 1, 0, 1, 0, 1, 0, 1, 1, 1, 1, 0, 1, 0, 1, 1, 1, 1, 1, 1, 1, 1,\n       1, 0, 1, 0, 1, 1, 1, 1, 1, 1, 1, 0, 1, 1, 1, 1, 1, 1, 0, 1, 1, 1,\n       0, 1, 1, 0, 1, 0, 1, 1, 0, 1, 1, 1, 1, 0, 1, 1, 1, 0, 0, 1, 0, 1,\n       1, 1, 1, 1, 1, 1, 1, 1, 1, 1, 0, 1, 1, 1, 1, 0, 0, 1, 1, 1, 0, 1,\n       0, 1, 1, 0, 1, 0, 1, 1, 1, 0, 0, 0, 1, 1, 1, 0, 1, 1, 1, 1, 1, 1,\n       1, 1, 1, 1, 1, 1, 1, 1, 1, 1, 0, 1, 1, 1, 0, 1, 1, 0, 0, 1, 1, 1,\n       1, 1, 0, 1, 1, 0, 1, 1, 1, 0, 0, 1, 1, 1, 1, 1, 0, 1, 0, 1, 1, 0,\n       1, 0, 0, 0, 1, 1, 1, 1, 0, 0, 0, 1, 0, 0, 1, 1, 0, 0, 1, 0, 0, 0,\n       0, 0, 0, 0, 1, 0, 1, 0, 0, 1, 1, 1, 1, 1, 0, 0, 1, 0, 0, 0, 1, 0,\n       1, 1, 1, 1, 1, 0, 0, 0, 0, 0, 1, 0, 1, 1, 0, 1, 0, 0, 0, 1, 0, 1,\n       0, 1, 1, 0, 0, 0, 0, 1, 0, 0, 0, 0, 1, 1, 1, 0, 0, 0, 0, 0, 0, 1,\n       0, 1, 1, 1, 1, 1, 0, 1, 0, 0, 0, 1, 0, 1, 1, 1, 0, 1, 1, 0, 1, 0,\n       1, 0, 0, 0, 1, 1, 0, 1, 1, 1, 1, 0, 0, 0, 1, 0, 0, 1, 1, 1, 0, 1,\n       0, 0, 0, 1, 0, 0, 1, 0, 1, 0, 1, 1, 1, 1, 1, 0, 0, 0, 0, 0, 0, 0,\n       1, 0, 0, 1, 1, 1, 0, 1, 0, 0, 0, 0, 0, 1, 0, 1, 1, 0, 0, 1, 1, 1,\n       1, 0, 0, 1, 1, 0, 0, 0, 1, 0, 0, 1, 0, 1, 0, 1, 0, 0, 0, 0, 0, 1,\n       0, 1, 1, 1, 1, 0, 0, 0, 1, 0, 1, 0, 0, 1, 0, 0, 0, 0, 0, 0, 1, 1,\n       0, 1, 0, 0, 1, 1, 0, 0, 1, 1, 0, 1, 0, 1, 0, 1, 0, 0, 1, 0, 0, 1,\n       0, 1, 1, 0, 1, 1, 1, 0, 1, 0, 0, 0, 0, 1, 1, 0, 0, 1, 1, 0, 1, 0,\n       0, 0, 0, 1, 0, 0, 1, 1, 1, 0, 0, 0, 1, 0, 1, 0, 1, 0, 1, 1, 1, 0,\n       0, 0, 1, 0, 1, 1, 1, 0, 1, 1, 1, 1, 1, 1, 0], dtype=int64)"
     },
     "execution_count": 111,
     "metadata": {},
     "output_type": "execute_result"
    }
   ],
   "source": [
    "alvo"
   ],
   "metadata": {
    "collapsed": false,
    "ExecuteTime": {
     "end_time": "2024-03-11T03:12:14.435224500Z",
     "start_time": "2024-03-11T03:12:14.311338500Z"
    }
   },
   "id": "efda2b97fd21c4a6",
   "execution_count": 111
  },
  {
   "cell_type": "code",
   "outputs": [
    {
     "data": {
      "text/plain": "(917,)"
     },
     "execution_count": 112,
     "metadata": {},
     "output_type": "execute_result"
    }
   ],
   "source": [
    "alvo.shape"
   ],
   "metadata": {
    "collapsed": false,
    "ExecuteTime": {
     "end_time": "2024-03-11T03:12:14.624439100Z",
     "start_time": "2024-03-11T03:12:14.449910800Z"
    }
   },
   "id": "d1cb5a864c3aca20",
   "execution_count": 112
  },
  {
   "cell_type": "code",
   "outputs": [
    {
     "data": {
      "text/plain": "              Age         Sex  ChestPainType   RestingBP  Cholesterol  \\\ncount  917.000000  917.000000     917.000000  917.000000   917.000000   \nmean    53.509269    0.789531       2.251908  132.540894   244.635389   \nstd      9.437636    0.407864       0.931502   17.999749    53.347125   \nmin     28.000000    0.000000       0.000000   80.000000    85.000000   \n25%     47.000000    1.000000       2.000000  120.000000   214.000000   \n50%     54.000000    1.000000       3.000000  130.000000   244.635389   \n75%     60.000000    1.000000       3.000000  140.000000   267.000000   \nmax     77.000000    1.000000       3.000000  200.000000   603.000000   \n\n        FastingBS  RestingECG       MaxHR  ExerciseAngina     Oldpeak  \\\ncount  917.000000  917.000000  917.000000      917.000000  917.000000   \nmean     0.233370    0.604144  136.789531        0.404580    0.886696   \nstd      0.423206    0.806161   25.467129        0.491078    1.066960   \nmin      0.000000    0.000000   60.000000        0.000000   -2.600000   \n25%      0.000000    0.000000  120.000000        0.000000    0.000000   \n50%      0.000000    0.000000  138.000000        0.000000    0.600000   \n75%      0.000000    1.000000  156.000000        1.000000    1.500000   \nmax      1.000000    2.000000  202.000000        1.000000    6.200000   \n\n        ST_Slope  HeartDisease  \ncount  917.00000    917.000000  \nmean     0.63795      0.552890  \nstd      0.60727      0.497466  \nmin      0.00000      0.000000  \n25%      0.00000      0.000000  \n50%      1.00000      1.000000  \n75%      1.00000      1.000000  \nmax      2.00000      1.000000  ",
      "text/html": "<div>\n<style scoped>\n    .dataframe tbody tr th:only-of-type {\n        vertical-align: middle;\n    }\n\n    .dataframe tbody tr th {\n        vertical-align: top;\n    }\n\n    .dataframe thead th {\n        text-align: right;\n    }\n</style>\n<table border=\"1\" class=\"dataframe\">\n  <thead>\n    <tr style=\"text-align: right;\">\n      <th></th>\n      <th>Age</th>\n      <th>Sex</th>\n      <th>ChestPainType</th>\n      <th>RestingBP</th>\n      <th>Cholesterol</th>\n      <th>FastingBS</th>\n      <th>RestingECG</th>\n      <th>MaxHR</th>\n      <th>ExerciseAngina</th>\n      <th>Oldpeak</th>\n      <th>ST_Slope</th>\n      <th>HeartDisease</th>\n    </tr>\n  </thead>\n  <tbody>\n    <tr>\n      <th>count</th>\n      <td>917.000000</td>\n      <td>917.000000</td>\n      <td>917.000000</td>\n      <td>917.000000</td>\n      <td>917.000000</td>\n      <td>917.000000</td>\n      <td>917.000000</td>\n      <td>917.000000</td>\n      <td>917.000000</td>\n      <td>917.000000</td>\n      <td>917.00000</td>\n      <td>917.000000</td>\n    </tr>\n    <tr>\n      <th>mean</th>\n      <td>53.509269</td>\n      <td>0.789531</td>\n      <td>2.251908</td>\n      <td>132.540894</td>\n      <td>244.635389</td>\n      <td>0.233370</td>\n      <td>0.604144</td>\n      <td>136.789531</td>\n      <td>0.404580</td>\n      <td>0.886696</td>\n      <td>0.63795</td>\n      <td>0.552890</td>\n    </tr>\n    <tr>\n      <th>std</th>\n      <td>9.437636</td>\n      <td>0.407864</td>\n      <td>0.931502</td>\n      <td>17.999749</td>\n      <td>53.347125</td>\n      <td>0.423206</td>\n      <td>0.806161</td>\n      <td>25.467129</td>\n      <td>0.491078</td>\n      <td>1.066960</td>\n      <td>0.60727</td>\n      <td>0.497466</td>\n    </tr>\n    <tr>\n      <th>min</th>\n      <td>28.000000</td>\n      <td>0.000000</td>\n      <td>0.000000</td>\n      <td>80.000000</td>\n      <td>85.000000</td>\n      <td>0.000000</td>\n      <td>0.000000</td>\n      <td>60.000000</td>\n      <td>0.000000</td>\n      <td>-2.600000</td>\n      <td>0.00000</td>\n      <td>0.000000</td>\n    </tr>\n    <tr>\n      <th>25%</th>\n      <td>47.000000</td>\n      <td>1.000000</td>\n      <td>2.000000</td>\n      <td>120.000000</td>\n      <td>214.000000</td>\n      <td>0.000000</td>\n      <td>0.000000</td>\n      <td>120.000000</td>\n      <td>0.000000</td>\n      <td>0.000000</td>\n      <td>0.00000</td>\n      <td>0.000000</td>\n    </tr>\n    <tr>\n      <th>50%</th>\n      <td>54.000000</td>\n      <td>1.000000</td>\n      <td>3.000000</td>\n      <td>130.000000</td>\n      <td>244.635389</td>\n      <td>0.000000</td>\n      <td>0.000000</td>\n      <td>138.000000</td>\n      <td>0.000000</td>\n      <td>0.600000</td>\n      <td>1.00000</td>\n      <td>1.000000</td>\n    </tr>\n    <tr>\n      <th>75%</th>\n      <td>60.000000</td>\n      <td>1.000000</td>\n      <td>3.000000</td>\n      <td>140.000000</td>\n      <td>267.000000</td>\n      <td>0.000000</td>\n      <td>1.000000</td>\n      <td>156.000000</td>\n      <td>1.000000</td>\n      <td>1.500000</td>\n      <td>1.00000</td>\n      <td>1.000000</td>\n    </tr>\n    <tr>\n      <th>max</th>\n      <td>77.000000</td>\n      <td>1.000000</td>\n      <td>3.000000</td>\n      <td>200.000000</td>\n      <td>603.000000</td>\n      <td>1.000000</td>\n      <td>2.000000</td>\n      <td>202.000000</td>\n      <td>1.000000</td>\n      <td>6.200000</td>\n      <td>2.00000</td>\n      <td>1.000000</td>\n    </tr>\n  </tbody>\n</table>\n</div>"
     },
     "execution_count": 113,
     "metadata": {},
     "output_type": "execute_result"
    }
   ],
   "source": [
    "# Análise das escalas dos atributos (Escalonamento)\n",
    "df2.describe()"
   ],
   "metadata": {
    "collapsed": false,
    "ExecuteTime": {
     "end_time": "2024-03-11T03:12:14.767784200Z",
     "start_time": "2024-03-11T03:12:14.639444900Z"
    }
   },
   "id": "6e01ee949feb1d78",
   "execution_count": 113
  },
  {
   "cell_type": "code",
   "outputs": [
    {
     "data": {
      "text/plain": "array([[-1.43220634,  0.51630861, -1.34470119, ..., -0.82431012,\n        -0.83150225, -1.05109458],\n       [-0.47805725, -1.9368261 , -0.27058012, ..., -0.82431012,\n         0.10625149,  0.59651863],\n       [-1.75025603,  0.51630861, -1.34470119, ..., -0.82431012,\n        -0.83150225, -1.05109458],\n       ...,\n       [ 0.37007527,  0.51630861,  0.80354095, ...,  1.21313565,\n         0.29380223,  0.59651863],\n       [ 0.37007527, -1.9368261 , -1.34470119, ..., -0.82431012,\n        -0.83150225,  0.59651863],\n       [-1.64423947,  0.51630861, -0.27058012, ..., -0.82431012,\n        -0.83150225, -1.05109458]])"
     },
     "execution_count": 114,
     "metadata": {},
     "output_type": "execute_result"
    }
   ],
   "source": [
    "# Padronização (utiliza a média e o desvio padrão como referência)\n",
    "from sklearn.preprocessing import StandardScaler\n",
    "previsores_esc = StandardScaler().fit_transform(previsores)\n",
    "previsores_esc"
   ],
   "metadata": {
    "collapsed": false,
    "ExecuteTime": {
     "end_time": "2024-03-11T03:12:14.892562800Z",
     "start_time": "2024-03-11T03:12:14.778793100Z"
    }
   },
   "id": "24e3424274f148a3",
   "execution_count": 114
  },
  {
   "cell_type": "code",
   "outputs": [
    {
     "data": {
      "text/plain": "           0         1         2         3         4         5         6   \\\n0   -1.432206  0.516309 -1.344701  0.414627  0.832075 -0.551733 -0.749818   \n1   -0.478057 -1.936826 -0.270580  1.526360 -1.212261 -0.551733 -0.749818   \n2   -1.750256  0.516309 -1.344701 -0.141240  0.719543 -0.551733  0.491306   \n3   -0.584074 -1.936826  0.803541  0.303453 -0.574578 -0.551733 -0.749818   \n4    0.052026  0.516309 -0.270580  0.970493 -0.930931 -0.551733 -0.749818   \n..        ...       ...       ...       ...       ...       ...       ...   \n912 -0.902124  0.516309 -2.418822 -1.252973  0.363191 -0.551733 -0.749818   \n913  1.536257  0.516309  0.803541  0.636973 -0.968441  1.812470 -0.749818   \n914  0.370075  0.516309  0.803541 -0.141240 -2.131275 -0.551733 -0.749818   \n915  0.370075 -1.936826 -1.344701 -0.141240 -0.161960 -0.551733  1.732430   \n916 -1.644239  0.516309 -0.270580  0.303453 -1.306038 -0.551733 -0.749818   \n\n           7         8         9         10  \n0    1.383339 -0.824310 -0.831502 -1.051095  \n1    0.754736 -0.824310  0.106251  0.596519  \n2   -1.523953 -0.824310 -0.831502 -1.051095  \n3   -1.131075  1.213136  0.575128  0.596519  \n4   -0.581047 -0.824310 -0.831502 -1.051095  \n..        ...       ...       ...       ...  \n912 -0.188170 -0.824310  0.293802  0.596519  \n913  0.165420 -0.824310  2.356860  0.596519  \n914 -0.856061  1.213136  0.293802  0.596519  \n915  1.461915 -0.824310 -0.831502  0.596519  \n916  1.422627 -0.824310 -0.831502 -1.051095  \n\n[917 rows x 11 columns]",
      "text/html": "<div>\n<style scoped>\n    .dataframe tbody tr th:only-of-type {\n        vertical-align: middle;\n    }\n\n    .dataframe tbody tr th {\n        vertical-align: top;\n    }\n\n    .dataframe thead th {\n        text-align: right;\n    }\n</style>\n<table border=\"1\" class=\"dataframe\">\n  <thead>\n    <tr style=\"text-align: right;\">\n      <th></th>\n      <th>0</th>\n      <th>1</th>\n      <th>2</th>\n      <th>3</th>\n      <th>4</th>\n      <th>5</th>\n      <th>6</th>\n      <th>7</th>\n      <th>8</th>\n      <th>9</th>\n      <th>10</th>\n    </tr>\n  </thead>\n  <tbody>\n    <tr>\n      <th>0</th>\n      <td>-1.432206</td>\n      <td>0.516309</td>\n      <td>-1.344701</td>\n      <td>0.414627</td>\n      <td>0.832075</td>\n      <td>-0.551733</td>\n      <td>-0.749818</td>\n      <td>1.383339</td>\n      <td>-0.824310</td>\n      <td>-0.831502</td>\n      <td>-1.051095</td>\n    </tr>\n    <tr>\n      <th>1</th>\n      <td>-0.478057</td>\n      <td>-1.936826</td>\n      <td>-0.270580</td>\n      <td>1.526360</td>\n      <td>-1.212261</td>\n      <td>-0.551733</td>\n      <td>-0.749818</td>\n      <td>0.754736</td>\n      <td>-0.824310</td>\n      <td>0.106251</td>\n      <td>0.596519</td>\n    </tr>\n    <tr>\n      <th>2</th>\n      <td>-1.750256</td>\n      <td>0.516309</td>\n      <td>-1.344701</td>\n      <td>-0.141240</td>\n      <td>0.719543</td>\n      <td>-0.551733</td>\n      <td>0.491306</td>\n      <td>-1.523953</td>\n      <td>-0.824310</td>\n      <td>-0.831502</td>\n      <td>-1.051095</td>\n    </tr>\n    <tr>\n      <th>3</th>\n      <td>-0.584074</td>\n      <td>-1.936826</td>\n      <td>0.803541</td>\n      <td>0.303453</td>\n      <td>-0.574578</td>\n      <td>-0.551733</td>\n      <td>-0.749818</td>\n      <td>-1.131075</td>\n      <td>1.213136</td>\n      <td>0.575128</td>\n      <td>0.596519</td>\n    </tr>\n    <tr>\n      <th>4</th>\n      <td>0.052026</td>\n      <td>0.516309</td>\n      <td>-0.270580</td>\n      <td>0.970493</td>\n      <td>-0.930931</td>\n      <td>-0.551733</td>\n      <td>-0.749818</td>\n      <td>-0.581047</td>\n      <td>-0.824310</td>\n      <td>-0.831502</td>\n      <td>-1.051095</td>\n    </tr>\n    <tr>\n      <th>...</th>\n      <td>...</td>\n      <td>...</td>\n      <td>...</td>\n      <td>...</td>\n      <td>...</td>\n      <td>...</td>\n      <td>...</td>\n      <td>...</td>\n      <td>...</td>\n      <td>...</td>\n      <td>...</td>\n    </tr>\n    <tr>\n      <th>912</th>\n      <td>-0.902124</td>\n      <td>0.516309</td>\n      <td>-2.418822</td>\n      <td>-1.252973</td>\n      <td>0.363191</td>\n      <td>-0.551733</td>\n      <td>-0.749818</td>\n      <td>-0.188170</td>\n      <td>-0.824310</td>\n      <td>0.293802</td>\n      <td>0.596519</td>\n    </tr>\n    <tr>\n      <th>913</th>\n      <td>1.536257</td>\n      <td>0.516309</td>\n      <td>0.803541</td>\n      <td>0.636973</td>\n      <td>-0.968441</td>\n      <td>1.812470</td>\n      <td>-0.749818</td>\n      <td>0.165420</td>\n      <td>-0.824310</td>\n      <td>2.356860</td>\n      <td>0.596519</td>\n    </tr>\n    <tr>\n      <th>914</th>\n      <td>0.370075</td>\n      <td>0.516309</td>\n      <td>0.803541</td>\n      <td>-0.141240</td>\n      <td>-2.131275</td>\n      <td>-0.551733</td>\n      <td>-0.749818</td>\n      <td>-0.856061</td>\n      <td>1.213136</td>\n      <td>0.293802</td>\n      <td>0.596519</td>\n    </tr>\n    <tr>\n      <th>915</th>\n      <td>0.370075</td>\n      <td>-1.936826</td>\n      <td>-1.344701</td>\n      <td>-0.141240</td>\n      <td>-0.161960</td>\n      <td>-0.551733</td>\n      <td>1.732430</td>\n      <td>1.461915</td>\n      <td>-0.824310</td>\n      <td>-0.831502</td>\n      <td>0.596519</td>\n    </tr>\n    <tr>\n      <th>916</th>\n      <td>-1.644239</td>\n      <td>0.516309</td>\n      <td>-0.270580</td>\n      <td>0.303453</td>\n      <td>-1.306038</td>\n      <td>-0.551733</td>\n      <td>-0.749818</td>\n      <td>1.422627</td>\n      <td>-0.824310</td>\n      <td>-0.831502</td>\n      <td>-1.051095</td>\n    </tr>\n  </tbody>\n</table>\n<p>917 rows × 11 columns</p>\n</div>"
     },
     "execution_count": 115,
     "metadata": {},
     "output_type": "execute_result"
    }
   ],
   "source": [
    "previsoresdf = pd.DataFrame(previsores_esc)\n",
    "previsoresdf"
   ],
   "metadata": {
    "collapsed": false,
    "ExecuteTime": {
     "end_time": "2024-03-11T03:12:15.164203Z",
     "start_time": "2024-03-11T03:12:14.903505400Z"
    }
   },
   "id": "78966393e83eed33",
   "execution_count": 115
  },
  {
   "cell_type": "code",
   "outputs": [
    {
     "data": {
      "text/plain": "                 0             1             2             3             4   \\\ncount  9.170000e+02  9.170000e+02  9.170000e+02  9.170000e+02  9.170000e+02   \nmean   1.859654e-16 -7.748558e-17  1.046055e-16  7.767929e-16 -1.869340e-16   \nstd    1.000546e+00  1.000546e+00  1.000546e+00  1.000546e+00  1.000546e+00   \nmin   -2.704405e+00 -1.936826e+00 -2.418822e+00 -2.920572e+00 -2.994023e+00   \n25%   -6.900904e-01  5.163086e-01 -2.705801e-01 -6.971063e-01 -5.745784e-01   \n50%    5.202558e-02  5.163086e-01  8.035410e-01 -1.412398e-01  0.000000e+00   \n75%    6.881250e-01  5.163086e-01  8.035410e-01  4.146267e-01  4.194568e-01   \nmax    2.490407e+00  5.163086e-01  8.035410e-01  3.749826e+00  6.721265e+00   \n\n                 5           6             7             8             9   \\\ncount  9.170000e+02  917.000000  9.170000e+02  9.170000e+02  9.170000e+02   \nmean   4.649135e-17    0.000000 -5.114048e-16 -1.046055e-16  7.748558e-17   \nstd    1.000546e+00    1.000546  1.000546e+00  1.000546e+00  1.000546e+00   \nmin   -5.517333e-01   -0.749818 -3.016886e+00 -8.243101e-01 -3.269662e+00   \n25%   -5.517333e-01   -0.749818 -6.596226e-01 -8.243101e-01 -8.315022e-01   \n50%   -5.517333e-01   -0.749818  4.755658e-02 -8.243101e-01 -2.688500e-01   \n75%   -5.517333e-01    0.491306  7.547357e-01  1.213136e+00  5.751284e-01   \nmax    1.812470e+00    1.732430  2.561971e+00  1.213136e+00  4.982571e+00   \n\n                 10  \ncount  9.170000e+02  \nmean  -3.874279e-17  \nstd    1.000546e+00  \nmin   -1.051095e+00  \n25%   -1.051095e+00  \n50%    5.965186e-01  \n75%    5.965186e-01  \nmax    2.244132e+00  ",
      "text/html": "<div>\n<style scoped>\n    .dataframe tbody tr th:only-of-type {\n        vertical-align: middle;\n    }\n\n    .dataframe tbody tr th {\n        vertical-align: top;\n    }\n\n    .dataframe thead th {\n        text-align: right;\n    }\n</style>\n<table border=\"1\" class=\"dataframe\">\n  <thead>\n    <tr style=\"text-align: right;\">\n      <th></th>\n      <th>0</th>\n      <th>1</th>\n      <th>2</th>\n      <th>3</th>\n      <th>4</th>\n      <th>5</th>\n      <th>6</th>\n      <th>7</th>\n      <th>8</th>\n      <th>9</th>\n      <th>10</th>\n    </tr>\n  </thead>\n  <tbody>\n    <tr>\n      <th>count</th>\n      <td>9.170000e+02</td>\n      <td>9.170000e+02</td>\n      <td>9.170000e+02</td>\n      <td>9.170000e+02</td>\n      <td>9.170000e+02</td>\n      <td>9.170000e+02</td>\n      <td>917.000000</td>\n      <td>9.170000e+02</td>\n      <td>9.170000e+02</td>\n      <td>9.170000e+02</td>\n      <td>9.170000e+02</td>\n    </tr>\n    <tr>\n      <th>mean</th>\n      <td>1.859654e-16</td>\n      <td>-7.748558e-17</td>\n      <td>1.046055e-16</td>\n      <td>7.767929e-16</td>\n      <td>-1.869340e-16</td>\n      <td>4.649135e-17</td>\n      <td>0.000000</td>\n      <td>-5.114048e-16</td>\n      <td>-1.046055e-16</td>\n      <td>7.748558e-17</td>\n      <td>-3.874279e-17</td>\n    </tr>\n    <tr>\n      <th>std</th>\n      <td>1.000546e+00</td>\n      <td>1.000546e+00</td>\n      <td>1.000546e+00</td>\n      <td>1.000546e+00</td>\n      <td>1.000546e+00</td>\n      <td>1.000546e+00</td>\n      <td>1.000546</td>\n      <td>1.000546e+00</td>\n      <td>1.000546e+00</td>\n      <td>1.000546e+00</td>\n      <td>1.000546e+00</td>\n    </tr>\n    <tr>\n      <th>min</th>\n      <td>-2.704405e+00</td>\n      <td>-1.936826e+00</td>\n      <td>-2.418822e+00</td>\n      <td>-2.920572e+00</td>\n      <td>-2.994023e+00</td>\n      <td>-5.517333e-01</td>\n      <td>-0.749818</td>\n      <td>-3.016886e+00</td>\n      <td>-8.243101e-01</td>\n      <td>-3.269662e+00</td>\n      <td>-1.051095e+00</td>\n    </tr>\n    <tr>\n      <th>25%</th>\n      <td>-6.900904e-01</td>\n      <td>5.163086e-01</td>\n      <td>-2.705801e-01</td>\n      <td>-6.971063e-01</td>\n      <td>-5.745784e-01</td>\n      <td>-5.517333e-01</td>\n      <td>-0.749818</td>\n      <td>-6.596226e-01</td>\n      <td>-8.243101e-01</td>\n      <td>-8.315022e-01</td>\n      <td>-1.051095e+00</td>\n    </tr>\n    <tr>\n      <th>50%</th>\n      <td>5.202558e-02</td>\n      <td>5.163086e-01</td>\n      <td>8.035410e-01</td>\n      <td>-1.412398e-01</td>\n      <td>0.000000e+00</td>\n      <td>-5.517333e-01</td>\n      <td>-0.749818</td>\n      <td>4.755658e-02</td>\n      <td>-8.243101e-01</td>\n      <td>-2.688500e-01</td>\n      <td>5.965186e-01</td>\n    </tr>\n    <tr>\n      <th>75%</th>\n      <td>6.881250e-01</td>\n      <td>5.163086e-01</td>\n      <td>8.035410e-01</td>\n      <td>4.146267e-01</td>\n      <td>4.194568e-01</td>\n      <td>-5.517333e-01</td>\n      <td>0.491306</td>\n      <td>7.547357e-01</td>\n      <td>1.213136e+00</td>\n      <td>5.751284e-01</td>\n      <td>5.965186e-01</td>\n    </tr>\n    <tr>\n      <th>max</th>\n      <td>2.490407e+00</td>\n      <td>5.163086e-01</td>\n      <td>8.035410e-01</td>\n      <td>3.749826e+00</td>\n      <td>6.721265e+00</td>\n      <td>1.812470e+00</td>\n      <td>1.732430</td>\n      <td>2.561971e+00</td>\n      <td>1.213136e+00</td>\n      <td>4.982571e+00</td>\n      <td>2.244132e+00</td>\n    </tr>\n  </tbody>\n</table>\n</div>"
     },
     "execution_count": 116,
     "metadata": {},
     "output_type": "execute_result"
    }
   ],
   "source": [
    "previsoresdf.describe()"
   ],
   "metadata": {
    "collapsed": false,
    "ExecuteTime": {
     "end_time": "2024-03-11T03:12:16.356692500Z",
     "start_time": "2024-03-11T03:12:16.089952300Z"
    }
   },
   "id": "3ca4e6c4a9658e55",
   "execution_count": 116
  },
  {
   "cell_type": "markdown",
   "source": [
    "# 41. Pré-processamento: LabelEncoder e OnehotEncoder"
   ],
   "metadata": {
    "collapsed": false
   },
   "id": "abd63a48f59b44d9"
  },
  {
   "cell_type": "code",
   "outputs": [],
   "source": [
    "# Transformação de variáveis categóricas em numéricas automaticamente\n",
    "from sklearn.preprocessing import LabelEncoder"
   ],
   "metadata": {
    "collapsed": false,
    "ExecuteTime": {
     "end_time": "2024-03-11T03:12:17.713864Z",
     "start_time": "2024-03-11T03:12:16.430356800Z"
    }
   },
   "id": "c6934c86cb314782",
   "execution_count": 117
  },
  {
   "cell_type": "code",
   "outputs": [
    {
     "data": {
      "text/plain": "   Age Sex ChestPainType  RestingBP  Cholesterol  FastingBS RestingECG  MaxHR  \\\n0   40   M           ATA        140        289.0          0     Normal    172   \n1   49   F           NAP        160        180.0          0     Normal    156   \n2   37   M           ATA        130        283.0          0         ST     98   \n3   48   F           ASY        138        214.0          0     Normal    108   \n4   54   M           NAP        150        195.0          0     Normal    122   \n\n  ExerciseAngina  Oldpeak ST_Slope  HeartDisease  \n0              N      0.0       Up             0  \n1              N      1.0     Flat             1  \n2              N      0.0       Up             0  \n3              Y      1.5     Flat             1  \n4              N      0.0       Up             0  ",
      "text/html": "<div>\n<style scoped>\n    .dataframe tbody tr th:only-of-type {\n        vertical-align: middle;\n    }\n\n    .dataframe tbody tr th {\n        vertical-align: top;\n    }\n\n    .dataframe thead th {\n        text-align: right;\n    }\n</style>\n<table border=\"1\" class=\"dataframe\">\n  <thead>\n    <tr style=\"text-align: right;\">\n      <th></th>\n      <th>Age</th>\n      <th>Sex</th>\n      <th>ChestPainType</th>\n      <th>RestingBP</th>\n      <th>Cholesterol</th>\n      <th>FastingBS</th>\n      <th>RestingECG</th>\n      <th>MaxHR</th>\n      <th>ExerciseAngina</th>\n      <th>Oldpeak</th>\n      <th>ST_Slope</th>\n      <th>HeartDisease</th>\n    </tr>\n  </thead>\n  <tbody>\n    <tr>\n      <th>0</th>\n      <td>40</td>\n      <td>M</td>\n      <td>ATA</td>\n      <td>140</td>\n      <td>289.0</td>\n      <td>0</td>\n      <td>Normal</td>\n      <td>172</td>\n      <td>N</td>\n      <td>0.0</td>\n      <td>Up</td>\n      <td>0</td>\n    </tr>\n    <tr>\n      <th>1</th>\n      <td>49</td>\n      <td>F</td>\n      <td>NAP</td>\n      <td>160</td>\n      <td>180.0</td>\n      <td>0</td>\n      <td>Normal</td>\n      <td>156</td>\n      <td>N</td>\n      <td>1.0</td>\n      <td>Flat</td>\n      <td>1</td>\n    </tr>\n    <tr>\n      <th>2</th>\n      <td>37</td>\n      <td>M</td>\n      <td>ATA</td>\n      <td>130</td>\n      <td>283.0</td>\n      <td>0</td>\n      <td>ST</td>\n      <td>98</td>\n      <td>N</td>\n      <td>0.0</td>\n      <td>Up</td>\n      <td>0</td>\n    </tr>\n    <tr>\n      <th>3</th>\n      <td>48</td>\n      <td>F</td>\n      <td>ASY</td>\n      <td>138</td>\n      <td>214.0</td>\n      <td>0</td>\n      <td>Normal</td>\n      <td>108</td>\n      <td>Y</td>\n      <td>1.5</td>\n      <td>Flat</td>\n      <td>1</td>\n    </tr>\n    <tr>\n      <th>4</th>\n      <td>54</td>\n      <td>M</td>\n      <td>NAP</td>\n      <td>150</td>\n      <td>195.0</td>\n      <td>0</td>\n      <td>Normal</td>\n      <td>122</td>\n      <td>N</td>\n      <td>0.0</td>\n      <td>Up</td>\n      <td>0</td>\n    </tr>\n  </tbody>\n</table>\n</div>"
     },
     "execution_count": 118,
     "metadata": {},
     "output_type": "execute_result"
    }
   ],
   "source": [
    "df.head()"
   ],
   "metadata": {
    "collapsed": false,
    "ExecuteTime": {
     "end_time": "2024-03-11T03:12:22.244748300Z",
     "start_time": "2024-03-11T03:12:17.806624700Z"
    }
   },
   "id": "5d2641f48f1821a8",
   "execution_count": 118
  },
  {
   "cell_type": "code",
   "outputs": [
    {
     "data": {
      "text/plain": "array([[40, 'M', 'ATA', ..., 'N', 0.0, 'Up'],\n       [49, 'F', 'NAP', ..., 'N', 1.0, 'Flat'],\n       [37, 'M', 'ATA', ..., 'N', 0.0, 'Up'],\n       ...,\n       [57, 'M', 'ASY', ..., 'Y', 1.2, 'Flat'],\n       [57, 'F', 'ATA', ..., 'N', 0.0, 'Flat'],\n       [38, 'M', 'NAP', ..., 'N', 0.0, 'Up']], dtype=object)"
     },
     "execution_count": 119,
     "metadata": {},
     "output_type": "execute_result"
    }
   ],
   "source": [
    "previsores2 = df.iloc[:, 0:11].values\n",
    "previsores2"
   ],
   "metadata": {
    "collapsed": false,
    "ExecuteTime": {
     "end_time": "2024-03-11T03:12:22.447344Z",
     "start_time": "2024-03-11T03:12:22.287485800Z"
    }
   },
   "id": "e06af90a1db5d79e",
   "execution_count": 119
  },
  {
   "cell_type": "code",
   "outputs": [
    {
     "data": {
      "text/plain": "array([[40, 1, 1, ..., 0, 0.0, 2],\n       [49, 0, 2, ..., 0, 1.0, 1],\n       [37, 1, 1, ..., 0, 0.0, 2],\n       ...,\n       [57, 1, 0, ..., 1, 1.2, 1],\n       [57, 0, 1, ..., 0, 0.0, 1],\n       [38, 1, 2, ..., 0, 0.0, 2]], dtype=object)"
     },
     "execution_count": 120,
     "metadata": {},
     "output_type": "execute_result"
    }
   ],
   "source": [
    "previsores2[:, 1] = LabelEncoder().fit_transform(previsores2[:, 1])\n",
    "previsores2[:, 2] = LabelEncoder().fit_transform(previsores2[:, 2])\n",
    "previsores2[:, 6] = LabelEncoder().fit_transform(previsores2[:, 6])\n",
    "previsores2[:, 8] = LabelEncoder().fit_transform(previsores2[:, 8])\n",
    "previsores2[:, 10] = LabelEncoder().fit_transform(previsores2[:, 10])\n",
    "previsores2"
   ],
   "metadata": {
    "collapsed": false,
    "ExecuteTime": {
     "end_time": "2024-03-11T03:12:23.723379600Z",
     "start_time": "2024-03-11T03:12:22.507213900Z"
    }
   },
   "id": "78a6f6101c8e90bc",
   "execution_count": 120
  },
  {
   "cell_type": "code",
   "outputs": [
    {
     "data": {
      "text/plain": "(917, 11)"
     },
     "execution_count": 121,
     "metadata": {},
     "output_type": "execute_result"
    }
   ],
   "source": [
    "previsores2.shape"
   ],
   "metadata": {
    "collapsed": false,
    "ExecuteTime": {
     "end_time": "2024-03-11T03:12:23.933224300Z",
     "start_time": "2024-03-11T03:12:23.761806100Z"
    }
   },
   "id": "1fdf0528402139b2",
   "execution_count": 121
  },
  {
   "cell_type": "code",
   "outputs": [],
   "source": [
    "# OneHotEncoder: Criação de variaveis Dummy (transformação de variáveis numéricas ordinais em binárias)\n",
    "from sklearn.preprocessing import OneHotEncoder\n",
    "from sklearn.compose import ColumnTransformer"
   ],
   "metadata": {
    "collapsed": false,
    "ExecuteTime": {
     "end_time": "2024-03-11T03:12:24.165578100Z",
     "start_time": "2024-03-11T03:12:23.970411300Z"
    }
   },
   "id": "a74e2869ad3361f1",
   "execution_count": 122
  },
  {
   "cell_type": "code",
   "outputs": [],
   "source": [
    "ColumnTransformer?"
   ],
   "metadata": {
    "collapsed": false,
    "ExecuteTime": {
     "end_time": "2024-03-11T03:12:24.339834900Z",
     "start_time": "2024-03-11T03:12:24.190469500Z"
    }
   },
   "id": "5a4b75f74c73d06e",
   "execution_count": 123
  },
  {
   "cell_type": "code",
   "outputs": [
    {
     "data": {
      "text/plain": "array([[0.0, 1.0, 0.0, ..., 0, 172, 0.0],\n       [1.0, 0.0, 0.0, ..., 0, 156, 1.0],\n       [0.0, 1.0, 0.0, ..., 0, 98, 0.0],\n       ...,\n       [0.0, 1.0, 1.0, ..., 0, 115, 1.2],\n       [1.0, 0.0, 0.0, ..., 0, 174, 0.0],\n       [0.0, 1.0, 0.0, ..., 0, 173, 0.0]], dtype=object)"
     },
     "execution_count": 124,
     "metadata": {},
     "output_type": "execute_result"
    }
   ],
   "source": [
    "previsores3 = ColumnTransformer(transformers=[('OneHot', OneHotEncoder(), [1, 2, 6, 8, 10])], remainder='passthrough').fit_transform(previsores2)\n",
    "previsores3"
   ],
   "metadata": {
    "collapsed": false,
    "ExecuteTime": {
     "end_time": "2024-03-11T03:12:24.504004500Z",
     "start_time": "2024-03-11T03:12:24.376970600Z"
    }
   },
   "id": "51ab5e20755ff69a",
   "execution_count": 124
  },
  {
   "cell_type": "code",
   "outputs": [
    {
     "data": {
      "text/plain": "(917, 20)"
     },
     "execution_count": 125,
     "metadata": {},
     "output_type": "execute_result"
    }
   ],
   "source": [
    "previsores3.shape"
   ],
   "metadata": {
    "collapsed": false,
    "ExecuteTime": {
     "end_time": "2024-03-11T03:12:24.666135800Z",
     "start_time": "2024-03-11T03:12:24.533912500Z"
    }
   },
   "id": "88ed88176553755b",
   "execution_count": 125
  },
  {
   "cell_type": "code",
   "outputs": [
    {
     "data": {
      "text/plain": "    0    1    2    3    4    5    6    7    8    9    10   11   12   13  14  \\\n0  0.0  1.0  0.0  1.0  0.0  0.0  0.0  1.0  0.0  1.0  0.0  0.0  0.0  1.0  40   \n1  1.0  0.0  0.0  0.0  1.0  0.0  0.0  1.0  0.0  1.0  0.0  0.0  1.0  0.0  49   \n2  0.0  1.0  0.0  1.0  0.0  0.0  0.0  0.0  1.0  1.0  0.0  0.0  0.0  1.0  37   \n3  1.0  0.0  1.0  0.0  0.0  0.0  0.0  1.0  0.0  0.0  1.0  0.0  1.0  0.0  48   \n4  0.0  1.0  0.0  0.0  1.0  0.0  0.0  1.0  0.0  1.0  0.0  0.0  0.0  1.0  54   \n5  0.0  1.0  0.0  0.0  1.0  0.0  0.0  1.0  0.0  1.0  0.0  0.0  0.0  1.0  39   \n6  1.0  0.0  0.0  1.0  0.0  0.0  0.0  1.0  0.0  1.0  0.0  0.0  0.0  1.0  45   \n7  0.0  1.0  0.0  1.0  0.0  0.0  0.0  1.0  0.0  1.0  0.0  0.0  0.0  1.0  54   \n8  0.0  1.0  1.0  0.0  0.0  0.0  0.0  1.0  0.0  0.0  1.0  0.0  1.0  0.0  37   \n9  1.0  0.0  0.0  1.0  0.0  0.0  0.0  1.0  0.0  1.0  0.0  0.0  0.0  1.0  48   \n\n    15     16 17   18   19  \n0  140  289.0  0  172  0.0  \n1  160  180.0  0  156  1.0  \n2  130  283.0  0   98  0.0  \n3  138  214.0  0  108  1.5  \n4  150  195.0  0  122  0.0  \n5  120  339.0  0  170  0.0  \n6  130  237.0  0  170  0.0  \n7  110  208.0  0  142  0.0  \n8  140  207.0  0  130  1.5  \n9  120  284.0  0  120  0.0  ",
      "text/html": "<div>\n<style scoped>\n    .dataframe tbody tr th:only-of-type {\n        vertical-align: middle;\n    }\n\n    .dataframe tbody tr th {\n        vertical-align: top;\n    }\n\n    .dataframe thead th {\n        text-align: right;\n    }\n</style>\n<table border=\"1\" class=\"dataframe\">\n  <thead>\n    <tr style=\"text-align: right;\">\n      <th></th>\n      <th>0</th>\n      <th>1</th>\n      <th>2</th>\n      <th>3</th>\n      <th>4</th>\n      <th>5</th>\n      <th>6</th>\n      <th>7</th>\n      <th>8</th>\n      <th>9</th>\n      <th>10</th>\n      <th>11</th>\n      <th>12</th>\n      <th>13</th>\n      <th>14</th>\n      <th>15</th>\n      <th>16</th>\n      <th>17</th>\n      <th>18</th>\n      <th>19</th>\n    </tr>\n  </thead>\n  <tbody>\n    <tr>\n      <th>0</th>\n      <td>0.0</td>\n      <td>1.0</td>\n      <td>0.0</td>\n      <td>1.0</td>\n      <td>0.0</td>\n      <td>0.0</td>\n      <td>0.0</td>\n      <td>1.0</td>\n      <td>0.0</td>\n      <td>1.0</td>\n      <td>0.0</td>\n      <td>0.0</td>\n      <td>0.0</td>\n      <td>1.0</td>\n      <td>40</td>\n      <td>140</td>\n      <td>289.0</td>\n      <td>0</td>\n      <td>172</td>\n      <td>0.0</td>\n    </tr>\n    <tr>\n      <th>1</th>\n      <td>1.0</td>\n      <td>0.0</td>\n      <td>0.0</td>\n      <td>0.0</td>\n      <td>1.0</td>\n      <td>0.0</td>\n      <td>0.0</td>\n      <td>1.0</td>\n      <td>0.0</td>\n      <td>1.0</td>\n      <td>0.0</td>\n      <td>0.0</td>\n      <td>1.0</td>\n      <td>0.0</td>\n      <td>49</td>\n      <td>160</td>\n      <td>180.0</td>\n      <td>0</td>\n      <td>156</td>\n      <td>1.0</td>\n    </tr>\n    <tr>\n      <th>2</th>\n      <td>0.0</td>\n      <td>1.0</td>\n      <td>0.0</td>\n      <td>1.0</td>\n      <td>0.0</td>\n      <td>0.0</td>\n      <td>0.0</td>\n      <td>0.0</td>\n      <td>1.0</td>\n      <td>1.0</td>\n      <td>0.0</td>\n      <td>0.0</td>\n      <td>0.0</td>\n      <td>1.0</td>\n      <td>37</td>\n      <td>130</td>\n      <td>283.0</td>\n      <td>0</td>\n      <td>98</td>\n      <td>0.0</td>\n    </tr>\n    <tr>\n      <th>3</th>\n      <td>1.0</td>\n      <td>0.0</td>\n      <td>1.0</td>\n      <td>0.0</td>\n      <td>0.0</td>\n      <td>0.0</td>\n      <td>0.0</td>\n      <td>1.0</td>\n      <td>0.0</td>\n      <td>0.0</td>\n      <td>1.0</td>\n      <td>0.0</td>\n      <td>1.0</td>\n      <td>0.0</td>\n      <td>48</td>\n      <td>138</td>\n      <td>214.0</td>\n      <td>0</td>\n      <td>108</td>\n      <td>1.5</td>\n    </tr>\n    <tr>\n      <th>4</th>\n      <td>0.0</td>\n      <td>1.0</td>\n      <td>0.0</td>\n      <td>0.0</td>\n      <td>1.0</td>\n      <td>0.0</td>\n      <td>0.0</td>\n      <td>1.0</td>\n      <td>0.0</td>\n      <td>1.0</td>\n      <td>0.0</td>\n      <td>0.0</td>\n      <td>0.0</td>\n      <td>1.0</td>\n      <td>54</td>\n      <td>150</td>\n      <td>195.0</td>\n      <td>0</td>\n      <td>122</td>\n      <td>0.0</td>\n    </tr>\n    <tr>\n      <th>5</th>\n      <td>0.0</td>\n      <td>1.0</td>\n      <td>0.0</td>\n      <td>0.0</td>\n      <td>1.0</td>\n      <td>0.0</td>\n      <td>0.0</td>\n      <td>1.0</td>\n      <td>0.0</td>\n      <td>1.0</td>\n      <td>0.0</td>\n      <td>0.0</td>\n      <td>0.0</td>\n      <td>1.0</td>\n      <td>39</td>\n      <td>120</td>\n      <td>339.0</td>\n      <td>0</td>\n      <td>170</td>\n      <td>0.0</td>\n    </tr>\n    <tr>\n      <th>6</th>\n      <td>1.0</td>\n      <td>0.0</td>\n      <td>0.0</td>\n      <td>1.0</td>\n      <td>0.0</td>\n      <td>0.0</td>\n      <td>0.0</td>\n      <td>1.0</td>\n      <td>0.0</td>\n      <td>1.0</td>\n      <td>0.0</td>\n      <td>0.0</td>\n      <td>0.0</td>\n      <td>1.0</td>\n      <td>45</td>\n      <td>130</td>\n      <td>237.0</td>\n      <td>0</td>\n      <td>170</td>\n      <td>0.0</td>\n    </tr>\n    <tr>\n      <th>7</th>\n      <td>0.0</td>\n      <td>1.0</td>\n      <td>0.0</td>\n      <td>1.0</td>\n      <td>0.0</td>\n      <td>0.0</td>\n      <td>0.0</td>\n      <td>1.0</td>\n      <td>0.0</td>\n      <td>1.0</td>\n      <td>0.0</td>\n      <td>0.0</td>\n      <td>0.0</td>\n      <td>1.0</td>\n      <td>54</td>\n      <td>110</td>\n      <td>208.0</td>\n      <td>0</td>\n      <td>142</td>\n      <td>0.0</td>\n    </tr>\n    <tr>\n      <th>8</th>\n      <td>0.0</td>\n      <td>1.0</td>\n      <td>1.0</td>\n      <td>0.0</td>\n      <td>0.0</td>\n      <td>0.0</td>\n      <td>0.0</td>\n      <td>1.0</td>\n      <td>0.0</td>\n      <td>0.0</td>\n      <td>1.0</td>\n      <td>0.0</td>\n      <td>1.0</td>\n      <td>0.0</td>\n      <td>37</td>\n      <td>140</td>\n      <td>207.0</td>\n      <td>0</td>\n      <td>130</td>\n      <td>1.5</td>\n    </tr>\n    <tr>\n      <th>9</th>\n      <td>1.0</td>\n      <td>0.0</td>\n      <td>0.0</td>\n      <td>1.0</td>\n      <td>0.0</td>\n      <td>0.0</td>\n      <td>0.0</td>\n      <td>1.0</td>\n      <td>0.0</td>\n      <td>1.0</td>\n      <td>0.0</td>\n      <td>0.0</td>\n      <td>0.0</td>\n      <td>1.0</td>\n      <td>48</td>\n      <td>120</td>\n      <td>284.0</td>\n      <td>0</td>\n      <td>120</td>\n      <td>0.0</td>\n    </tr>\n  </tbody>\n</table>\n</div>"
     },
     "execution_count": 126,
     "metadata": {},
     "output_type": "execute_result"
    }
   ],
   "source": [
    "previsores3df = pd.DataFrame(previsores3)\n",
    "previsores3df.head(10)"
   ],
   "metadata": {
    "collapsed": false,
    "ExecuteTime": {
     "end_time": "2024-03-11T03:12:24.837957200Z",
     "start_time": "2024-03-11T03:12:24.706011400Z"
    }
   },
   "id": "4ff5940bc6cf57d1",
   "execution_count": 126
  },
  {
   "cell_type": "code",
   "outputs": [
    {
     "data": {
      "text/plain": "   Age Sex ChestPainType  RestingBP  Cholesterol  FastingBS RestingECG  MaxHR  \\\n0   40   M           ATA        140        289.0          0     Normal    172   \n1   49   F           NAP        160        180.0          0     Normal    156   \n2   37   M           ATA        130        283.0          0         ST     98   \n3   48   F           ASY        138        214.0          0     Normal    108   \n4   54   M           NAP        150        195.0          0     Normal    122   \n5   39   M           NAP        120        339.0          0     Normal    170   \n6   45   F           ATA        130        237.0          0     Normal    170   \n7   54   M           ATA        110        208.0          0     Normal    142   \n8   37   M           ASY        140        207.0          0     Normal    130   \n9   48   F           ATA        120        284.0          0     Normal    120   \n\n  ExerciseAngina  Oldpeak ST_Slope  HeartDisease  \n0              N      0.0       Up             0  \n1              N      1.0     Flat             1  \n2              N      0.0       Up             0  \n3              Y      1.5     Flat             1  \n4              N      0.0       Up             0  \n5              N      0.0       Up             0  \n6              N      0.0       Up             0  \n7              N      0.0       Up             0  \n8              Y      1.5     Flat             1  \n9              N      0.0       Up             0  ",
      "text/html": "<div>\n<style scoped>\n    .dataframe tbody tr th:only-of-type {\n        vertical-align: middle;\n    }\n\n    .dataframe tbody tr th {\n        vertical-align: top;\n    }\n\n    .dataframe thead th {\n        text-align: right;\n    }\n</style>\n<table border=\"1\" class=\"dataframe\">\n  <thead>\n    <tr style=\"text-align: right;\">\n      <th></th>\n      <th>Age</th>\n      <th>Sex</th>\n      <th>ChestPainType</th>\n      <th>RestingBP</th>\n      <th>Cholesterol</th>\n      <th>FastingBS</th>\n      <th>RestingECG</th>\n      <th>MaxHR</th>\n      <th>ExerciseAngina</th>\n      <th>Oldpeak</th>\n      <th>ST_Slope</th>\n      <th>HeartDisease</th>\n    </tr>\n  </thead>\n  <tbody>\n    <tr>\n      <th>0</th>\n      <td>40</td>\n      <td>M</td>\n      <td>ATA</td>\n      <td>140</td>\n      <td>289.0</td>\n      <td>0</td>\n      <td>Normal</td>\n      <td>172</td>\n      <td>N</td>\n      <td>0.0</td>\n      <td>Up</td>\n      <td>0</td>\n    </tr>\n    <tr>\n      <th>1</th>\n      <td>49</td>\n      <td>F</td>\n      <td>NAP</td>\n      <td>160</td>\n      <td>180.0</td>\n      <td>0</td>\n      <td>Normal</td>\n      <td>156</td>\n      <td>N</td>\n      <td>1.0</td>\n      <td>Flat</td>\n      <td>1</td>\n    </tr>\n    <tr>\n      <th>2</th>\n      <td>37</td>\n      <td>M</td>\n      <td>ATA</td>\n      <td>130</td>\n      <td>283.0</td>\n      <td>0</td>\n      <td>ST</td>\n      <td>98</td>\n      <td>N</td>\n      <td>0.0</td>\n      <td>Up</td>\n      <td>0</td>\n    </tr>\n    <tr>\n      <th>3</th>\n      <td>48</td>\n      <td>F</td>\n      <td>ASY</td>\n      <td>138</td>\n      <td>214.0</td>\n      <td>0</td>\n      <td>Normal</td>\n      <td>108</td>\n      <td>Y</td>\n      <td>1.5</td>\n      <td>Flat</td>\n      <td>1</td>\n    </tr>\n    <tr>\n      <th>4</th>\n      <td>54</td>\n      <td>M</td>\n      <td>NAP</td>\n      <td>150</td>\n      <td>195.0</td>\n      <td>0</td>\n      <td>Normal</td>\n      <td>122</td>\n      <td>N</td>\n      <td>0.0</td>\n      <td>Up</td>\n      <td>0</td>\n    </tr>\n    <tr>\n      <th>5</th>\n      <td>39</td>\n      <td>M</td>\n      <td>NAP</td>\n      <td>120</td>\n      <td>339.0</td>\n      <td>0</td>\n      <td>Normal</td>\n      <td>170</td>\n      <td>N</td>\n      <td>0.0</td>\n      <td>Up</td>\n      <td>0</td>\n    </tr>\n    <tr>\n      <th>6</th>\n      <td>45</td>\n      <td>F</td>\n      <td>ATA</td>\n      <td>130</td>\n      <td>237.0</td>\n      <td>0</td>\n      <td>Normal</td>\n      <td>170</td>\n      <td>N</td>\n      <td>0.0</td>\n      <td>Up</td>\n      <td>0</td>\n    </tr>\n    <tr>\n      <th>7</th>\n      <td>54</td>\n      <td>M</td>\n      <td>ATA</td>\n      <td>110</td>\n      <td>208.0</td>\n      <td>0</td>\n      <td>Normal</td>\n      <td>142</td>\n      <td>N</td>\n      <td>0.0</td>\n      <td>Up</td>\n      <td>0</td>\n    </tr>\n    <tr>\n      <th>8</th>\n      <td>37</td>\n      <td>M</td>\n      <td>ASY</td>\n      <td>140</td>\n      <td>207.0</td>\n      <td>0</td>\n      <td>Normal</td>\n      <td>130</td>\n      <td>Y</td>\n      <td>1.5</td>\n      <td>Flat</td>\n      <td>1</td>\n    </tr>\n    <tr>\n      <th>9</th>\n      <td>48</td>\n      <td>F</td>\n      <td>ATA</td>\n      <td>120</td>\n      <td>284.0</td>\n      <td>0</td>\n      <td>Normal</td>\n      <td>120</td>\n      <td>N</td>\n      <td>0.0</td>\n      <td>Up</td>\n      <td>0</td>\n    </tr>\n  </tbody>\n</table>\n</div>"
     },
     "execution_count": 127,
     "metadata": {},
     "output_type": "execute_result"
    }
   ],
   "source": [
    "df.head(10)"
   ],
   "metadata": {
    "collapsed": false,
    "ExecuteTime": {
     "end_time": "2024-03-11T03:12:24.985534900Z",
     "start_time": "2024-03-11T03:12:24.848642300Z"
    }
   },
   "id": "f0e8d341075a82a4",
   "execution_count": 127
  },
  {
   "cell_type": "code",
   "outputs": [],
   "source": [
    "# Escalonamento\n",
    "from sklearn.preprocessing import StandardScaler"
   ],
   "metadata": {
    "collapsed": false,
    "ExecuteTime": {
     "end_time": "2024-03-11T03:12:25.951329Z",
     "start_time": "2024-03-11T03:12:24.998283600Z"
    }
   },
   "id": "eb966cb23a1bd663",
   "execution_count": 128
  },
  {
   "cell_type": "code",
   "outputs": [
    {
     "data": {
      "text/plain": "array([[-0.51630861,  0.51630861, -1.08542493, ..., -0.55173333,\n         1.38333943, -0.83150225],\n       [ 1.9368261 , -1.9368261 , -1.08542493, ..., -0.55173333,\n         0.75473573,  0.10625149],\n       [-0.51630861,  0.51630861, -1.08542493, ..., -0.55173333,\n        -1.52395266, -0.83150225],\n       ...,\n       [-0.51630861,  0.51630861,  0.92129817, ..., -0.55173333,\n        -0.85606123,  0.29380223],\n       [ 1.9368261 , -1.9368261 , -1.08542493, ..., -0.55173333,\n         1.46191489, -0.83150225],\n       [-0.51630861,  0.51630861, -1.08542493, ..., -0.55173333,\n         1.42262716, -0.83150225]])"
     },
     "execution_count": 129,
     "metadata": {},
     "output_type": "execute_result"
    }
   ],
   "source": [
    "previsores3_esc = StandardScaler().fit_transform(previsores3)\n",
    "previsores3_esc"
   ],
   "metadata": {
    "collapsed": false,
    "ExecuteTime": {
     "end_time": "2024-03-11T03:12:26.296528300Z",
     "start_time": "2024-03-11T03:12:26.087262700Z"
    }
   },
   "id": "a0cabe436427e0ac",
   "execution_count": 129
  },
  {
   "cell_type": "code",
   "outputs": [
    {
     "data": {
      "text/plain": "           0         1         2         3         4         5         6   \\\n0   -0.516309  0.516309 -1.085425  2.073784 -0.531524 -0.229810 -0.507826   \n1    1.936826 -1.936826 -1.085425 -0.482210  1.881384 -0.229810 -0.507826   \n2   -0.516309  0.516309 -1.085425  2.073784 -0.531524 -0.229810 -0.507826   \n3    1.936826 -1.936826  0.921298 -0.482210 -0.531524 -0.229810 -0.507826   \n4   -0.516309  0.516309 -1.085425 -0.482210  1.881384 -0.229810 -0.507826   \n..        ...       ...       ...       ...       ...       ...       ...   \n912 -0.516309  0.516309 -1.085425 -0.482210 -0.531524  4.351412 -0.507826   \n913 -0.516309  0.516309  0.921298 -0.482210 -0.531524 -0.229810 -0.507826   \n914 -0.516309  0.516309  0.921298 -0.482210 -0.531524 -0.229810 -0.507826   \n915  1.936826 -1.936826 -1.085425  2.073784 -0.531524 -0.229810  1.969177   \n916 -0.516309  0.516309 -1.085425 -0.482210  1.881384 -0.229810 -0.507826   \n\n           7         8         9         10        11        12        13  \\\n0    0.815013 -0.490781  0.824310 -0.824310 -0.271607 -1.001091  1.149573   \n1    0.815013 -0.490781  0.824310 -0.824310 -0.271607  0.998910 -0.869888   \n2   -1.226974  2.037569  0.824310 -0.824310 -0.271607 -1.001091  1.149573   \n3    0.815013 -0.490781 -1.213136  1.213136 -0.271607  0.998910 -0.869888   \n4    0.815013 -0.490781  0.824310 -0.824310 -0.271607 -1.001091  1.149573   \n..        ...       ...       ...       ...       ...       ...       ...   \n912  0.815013 -0.490781  0.824310 -0.824310 -0.271607  0.998910 -0.869888   \n913  0.815013 -0.490781  0.824310 -0.824310 -0.271607  0.998910 -0.869888   \n914  0.815013 -0.490781 -1.213136  1.213136 -0.271607  0.998910 -0.869888   \n915 -1.226974 -0.490781  0.824310 -0.824310 -0.271607  0.998910 -0.869888   \n916  0.815013 -0.490781  0.824310 -0.824310 -0.271607 -1.001091  1.149573   \n\n           14        15        16        17        18        19  \n0   -1.432206  0.414627  0.832075 -0.551733  1.383339 -0.831502  \n1   -0.478057  1.526360 -1.212261 -0.551733  0.754736  0.106251  \n2   -1.750256 -0.141240  0.719543 -0.551733 -1.523953 -0.831502  \n3   -0.584074  0.303453 -0.574578 -0.551733 -1.131075  0.575128  \n4    0.052026  0.970493 -0.930931 -0.551733 -0.581047 -0.831502  \n..        ...       ...       ...       ...       ...       ...  \n912 -0.902124 -1.252973  0.363191 -0.551733 -0.188170  0.293802  \n913  1.536257  0.636973 -0.968441  1.812470  0.165420  2.356860  \n914  0.370075 -0.141240 -2.131275 -0.551733 -0.856061  0.293802  \n915  0.370075 -0.141240 -0.161960 -0.551733  1.461915 -0.831502  \n916 -1.644239  0.303453 -1.306038 -0.551733  1.422627 -0.831502  \n\n[917 rows x 20 columns]",
      "text/html": "<div>\n<style scoped>\n    .dataframe tbody tr th:only-of-type {\n        vertical-align: middle;\n    }\n\n    .dataframe tbody tr th {\n        vertical-align: top;\n    }\n\n    .dataframe thead th {\n        text-align: right;\n    }\n</style>\n<table border=\"1\" class=\"dataframe\">\n  <thead>\n    <tr style=\"text-align: right;\">\n      <th></th>\n      <th>0</th>\n      <th>1</th>\n      <th>2</th>\n      <th>3</th>\n      <th>4</th>\n      <th>5</th>\n      <th>6</th>\n      <th>7</th>\n      <th>8</th>\n      <th>9</th>\n      <th>10</th>\n      <th>11</th>\n      <th>12</th>\n      <th>13</th>\n      <th>14</th>\n      <th>15</th>\n      <th>16</th>\n      <th>17</th>\n      <th>18</th>\n      <th>19</th>\n    </tr>\n  </thead>\n  <tbody>\n    <tr>\n      <th>0</th>\n      <td>-0.516309</td>\n      <td>0.516309</td>\n      <td>-1.085425</td>\n      <td>2.073784</td>\n      <td>-0.531524</td>\n      <td>-0.229810</td>\n      <td>-0.507826</td>\n      <td>0.815013</td>\n      <td>-0.490781</td>\n      <td>0.824310</td>\n      <td>-0.824310</td>\n      <td>-0.271607</td>\n      <td>-1.001091</td>\n      <td>1.149573</td>\n      <td>-1.432206</td>\n      <td>0.414627</td>\n      <td>0.832075</td>\n      <td>-0.551733</td>\n      <td>1.383339</td>\n      <td>-0.831502</td>\n    </tr>\n    <tr>\n      <th>1</th>\n      <td>1.936826</td>\n      <td>-1.936826</td>\n      <td>-1.085425</td>\n      <td>-0.482210</td>\n      <td>1.881384</td>\n      <td>-0.229810</td>\n      <td>-0.507826</td>\n      <td>0.815013</td>\n      <td>-0.490781</td>\n      <td>0.824310</td>\n      <td>-0.824310</td>\n      <td>-0.271607</td>\n      <td>0.998910</td>\n      <td>-0.869888</td>\n      <td>-0.478057</td>\n      <td>1.526360</td>\n      <td>-1.212261</td>\n      <td>-0.551733</td>\n      <td>0.754736</td>\n      <td>0.106251</td>\n    </tr>\n    <tr>\n      <th>2</th>\n      <td>-0.516309</td>\n      <td>0.516309</td>\n      <td>-1.085425</td>\n      <td>2.073784</td>\n      <td>-0.531524</td>\n      <td>-0.229810</td>\n      <td>-0.507826</td>\n      <td>-1.226974</td>\n      <td>2.037569</td>\n      <td>0.824310</td>\n      <td>-0.824310</td>\n      <td>-0.271607</td>\n      <td>-1.001091</td>\n      <td>1.149573</td>\n      <td>-1.750256</td>\n      <td>-0.141240</td>\n      <td>0.719543</td>\n      <td>-0.551733</td>\n      <td>-1.523953</td>\n      <td>-0.831502</td>\n    </tr>\n    <tr>\n      <th>3</th>\n      <td>1.936826</td>\n      <td>-1.936826</td>\n      <td>0.921298</td>\n      <td>-0.482210</td>\n      <td>-0.531524</td>\n      <td>-0.229810</td>\n      <td>-0.507826</td>\n      <td>0.815013</td>\n      <td>-0.490781</td>\n      <td>-1.213136</td>\n      <td>1.213136</td>\n      <td>-0.271607</td>\n      <td>0.998910</td>\n      <td>-0.869888</td>\n      <td>-0.584074</td>\n      <td>0.303453</td>\n      <td>-0.574578</td>\n      <td>-0.551733</td>\n      <td>-1.131075</td>\n      <td>0.575128</td>\n    </tr>\n    <tr>\n      <th>4</th>\n      <td>-0.516309</td>\n      <td>0.516309</td>\n      <td>-1.085425</td>\n      <td>-0.482210</td>\n      <td>1.881384</td>\n      <td>-0.229810</td>\n      <td>-0.507826</td>\n      <td>0.815013</td>\n      <td>-0.490781</td>\n      <td>0.824310</td>\n      <td>-0.824310</td>\n      <td>-0.271607</td>\n      <td>-1.001091</td>\n      <td>1.149573</td>\n      <td>0.052026</td>\n      <td>0.970493</td>\n      <td>-0.930931</td>\n      <td>-0.551733</td>\n      <td>-0.581047</td>\n      <td>-0.831502</td>\n    </tr>\n    <tr>\n      <th>...</th>\n      <td>...</td>\n      <td>...</td>\n      <td>...</td>\n      <td>...</td>\n      <td>...</td>\n      <td>...</td>\n      <td>...</td>\n      <td>...</td>\n      <td>...</td>\n      <td>...</td>\n      <td>...</td>\n      <td>...</td>\n      <td>...</td>\n      <td>...</td>\n      <td>...</td>\n      <td>...</td>\n      <td>...</td>\n      <td>...</td>\n      <td>...</td>\n      <td>...</td>\n    </tr>\n    <tr>\n      <th>912</th>\n      <td>-0.516309</td>\n      <td>0.516309</td>\n      <td>-1.085425</td>\n      <td>-0.482210</td>\n      <td>-0.531524</td>\n      <td>4.351412</td>\n      <td>-0.507826</td>\n      <td>0.815013</td>\n      <td>-0.490781</td>\n      <td>0.824310</td>\n      <td>-0.824310</td>\n      <td>-0.271607</td>\n      <td>0.998910</td>\n      <td>-0.869888</td>\n      <td>-0.902124</td>\n      <td>-1.252973</td>\n      <td>0.363191</td>\n      <td>-0.551733</td>\n      <td>-0.188170</td>\n      <td>0.293802</td>\n    </tr>\n    <tr>\n      <th>913</th>\n      <td>-0.516309</td>\n      <td>0.516309</td>\n      <td>0.921298</td>\n      <td>-0.482210</td>\n      <td>-0.531524</td>\n      <td>-0.229810</td>\n      <td>-0.507826</td>\n      <td>0.815013</td>\n      <td>-0.490781</td>\n      <td>0.824310</td>\n      <td>-0.824310</td>\n      <td>-0.271607</td>\n      <td>0.998910</td>\n      <td>-0.869888</td>\n      <td>1.536257</td>\n      <td>0.636973</td>\n      <td>-0.968441</td>\n      <td>1.812470</td>\n      <td>0.165420</td>\n      <td>2.356860</td>\n    </tr>\n    <tr>\n      <th>914</th>\n      <td>-0.516309</td>\n      <td>0.516309</td>\n      <td>0.921298</td>\n      <td>-0.482210</td>\n      <td>-0.531524</td>\n      <td>-0.229810</td>\n      <td>-0.507826</td>\n      <td>0.815013</td>\n      <td>-0.490781</td>\n      <td>-1.213136</td>\n      <td>1.213136</td>\n      <td>-0.271607</td>\n      <td>0.998910</td>\n      <td>-0.869888</td>\n      <td>0.370075</td>\n      <td>-0.141240</td>\n      <td>-2.131275</td>\n      <td>-0.551733</td>\n      <td>-0.856061</td>\n      <td>0.293802</td>\n    </tr>\n    <tr>\n      <th>915</th>\n      <td>1.936826</td>\n      <td>-1.936826</td>\n      <td>-1.085425</td>\n      <td>2.073784</td>\n      <td>-0.531524</td>\n      <td>-0.229810</td>\n      <td>1.969177</td>\n      <td>-1.226974</td>\n      <td>-0.490781</td>\n      <td>0.824310</td>\n      <td>-0.824310</td>\n      <td>-0.271607</td>\n      <td>0.998910</td>\n      <td>-0.869888</td>\n      <td>0.370075</td>\n      <td>-0.141240</td>\n      <td>-0.161960</td>\n      <td>-0.551733</td>\n      <td>1.461915</td>\n      <td>-0.831502</td>\n    </tr>\n    <tr>\n      <th>916</th>\n      <td>-0.516309</td>\n      <td>0.516309</td>\n      <td>-1.085425</td>\n      <td>-0.482210</td>\n      <td>1.881384</td>\n      <td>-0.229810</td>\n      <td>-0.507826</td>\n      <td>0.815013</td>\n      <td>-0.490781</td>\n      <td>0.824310</td>\n      <td>-0.824310</td>\n      <td>-0.271607</td>\n      <td>-1.001091</td>\n      <td>1.149573</td>\n      <td>-1.644239</td>\n      <td>0.303453</td>\n      <td>-1.306038</td>\n      <td>-0.551733</td>\n      <td>1.422627</td>\n      <td>-0.831502</td>\n    </tr>\n  </tbody>\n</table>\n<p>917 rows × 20 columns</p>\n</div>"
     },
     "execution_count": 130,
     "metadata": {},
     "output_type": "execute_result"
    }
   ],
   "source": [
    "previsores3df = pd.DataFrame(previsores3_esc)\n",
    "previsores3df"
   ],
   "metadata": {
    "collapsed": false,
    "ExecuteTime": {
     "end_time": "2024-03-11T03:12:27.595703900Z",
     "start_time": "2024-03-11T03:12:27.418892900Z"
    }
   },
   "id": "fd2e6de0fd8eaaae",
   "execution_count": 130
  },
  {
   "cell_type": "code",
   "outputs": [
    {
     "data": {
      "text/plain": "                 0             1             2             3             4   \\\ncount  9.170000e+02  9.170000e+02  9.170000e+02  9.170000e+02  9.170000e+02   \nmean   1.084798e-16 -1.472226e-16  1.937139e-17 -3.874279e-17  3.874279e-17   \nstd    1.000546e+00  1.000546e+00  1.000546e+00  1.000546e+00  1.000546e+00   \nmin   -5.163086e-01 -1.936826e+00 -1.085425e+00 -4.822104e-01 -5.315237e-01   \n25%   -5.163086e-01  5.163086e-01 -1.085425e+00 -4.822104e-01 -5.315237e-01   \n50%   -5.163086e-01  5.163086e-01  9.212982e-01 -4.822104e-01 -5.315237e-01   \n75%   -5.163086e-01  5.163086e-01  9.212982e-01 -4.822104e-01 -5.315237e-01   \nmax    1.936826e+00  5.163086e-01  9.212982e-01  2.073784e+00  1.881384e+00   \n\n                 5           6             7             8             9   \\\ncount  9.170000e+02  917.000000  9.170000e+02  9.170000e+02  9.170000e+02   \nmean   6.973702e-17    0.000000 -9.298269e-17  1.549712e-17 -4.261707e-17   \nstd    1.000546e+00    1.000546  1.000546e+00  1.000546e+00  1.000546e+00   \nmin   -2.298105e-01   -0.507826 -1.226974e+00 -4.907810e-01 -1.213136e+00   \n25%   -2.298105e-01   -0.507826 -1.226974e+00 -4.907810e-01 -1.213136e+00   \n50%   -2.298105e-01   -0.507826  8.150134e-01 -4.907810e-01  8.243101e-01   \n75%   -2.298105e-01   -0.507826  8.150134e-01 -4.907810e-01  8.243101e-01   \nmax    4.351412e+00    1.969177  8.150134e-01  2.037569e+00  8.243101e-01   \n\n                 10            11          12            13            14  \\\ncount  9.170000e+02  9.170000e+02  917.000000  9.170000e+02  9.170000e+02   \nmean   4.261707e-17  8.523413e-17    0.000000 -3.874279e-17  1.859654e-16   \nstd    1.000546e+00  1.000546e+00    1.000546  1.000546e+00  1.000546e+00   \nmin   -8.243101e-01 -2.716072e-01   -1.001091 -8.698879e-01 -2.704405e+00   \n25%   -8.243101e-01 -2.716072e-01   -1.001091 -8.698879e-01 -6.900904e-01   \n50%   -8.243101e-01 -2.716072e-01    0.998910 -8.698879e-01  5.202558e-02   \n75%    1.213136e+00 -2.716072e-01    0.998910  1.149573e+00  6.881250e-01   \nmax    1.213136e+00  3.681787e+00    0.998910  1.149573e+00  2.490407e+00   \n\n                 15            16            17            18            19  \ncount  9.170000e+02  9.170000e+02  9.170000e+02  9.170000e+02  9.170000e+02  \nmean   7.884157e-16  3.014189e-15 -1.549712e-17 -5.114048e-16 -1.859654e-16  \nstd    1.000546e+00  1.000546e+00  1.000546e+00  1.000546e+00  1.000546e+00  \nmin   -2.920572e+00 -2.994023e+00 -5.517333e-01 -3.016886e+00 -3.269662e+00  \n25%   -6.971063e-01 -5.745784e-01 -5.517333e-01 -6.596226e-01 -8.315022e-01  \n50%   -1.412398e-01  3.198360e-15 -5.517333e-01  4.755658e-02 -2.688500e-01  \n75%    4.146267e-01  4.194568e-01 -5.517333e-01  7.547357e-01  5.751284e-01  \nmax    3.749826e+00  6.721265e+00  1.812470e+00  2.561971e+00  4.982571e+00  ",
      "text/html": "<div>\n<style scoped>\n    .dataframe tbody tr th:only-of-type {\n        vertical-align: middle;\n    }\n\n    .dataframe tbody tr th {\n        vertical-align: top;\n    }\n\n    .dataframe thead th {\n        text-align: right;\n    }\n</style>\n<table border=\"1\" class=\"dataframe\">\n  <thead>\n    <tr style=\"text-align: right;\">\n      <th></th>\n      <th>0</th>\n      <th>1</th>\n      <th>2</th>\n      <th>3</th>\n      <th>4</th>\n      <th>5</th>\n      <th>6</th>\n      <th>7</th>\n      <th>8</th>\n      <th>9</th>\n      <th>10</th>\n      <th>11</th>\n      <th>12</th>\n      <th>13</th>\n      <th>14</th>\n      <th>15</th>\n      <th>16</th>\n      <th>17</th>\n      <th>18</th>\n      <th>19</th>\n    </tr>\n  </thead>\n  <tbody>\n    <tr>\n      <th>count</th>\n      <td>9.170000e+02</td>\n      <td>9.170000e+02</td>\n      <td>9.170000e+02</td>\n      <td>9.170000e+02</td>\n      <td>9.170000e+02</td>\n      <td>9.170000e+02</td>\n      <td>917.000000</td>\n      <td>9.170000e+02</td>\n      <td>9.170000e+02</td>\n      <td>9.170000e+02</td>\n      <td>9.170000e+02</td>\n      <td>9.170000e+02</td>\n      <td>917.000000</td>\n      <td>9.170000e+02</td>\n      <td>9.170000e+02</td>\n      <td>9.170000e+02</td>\n      <td>9.170000e+02</td>\n      <td>9.170000e+02</td>\n      <td>9.170000e+02</td>\n      <td>9.170000e+02</td>\n    </tr>\n    <tr>\n      <th>mean</th>\n      <td>1.084798e-16</td>\n      <td>-1.472226e-16</td>\n      <td>1.937139e-17</td>\n      <td>-3.874279e-17</td>\n      <td>3.874279e-17</td>\n      <td>6.973702e-17</td>\n      <td>0.000000</td>\n      <td>-9.298269e-17</td>\n      <td>1.549712e-17</td>\n      <td>-4.261707e-17</td>\n      <td>4.261707e-17</td>\n      <td>8.523413e-17</td>\n      <td>0.000000</td>\n      <td>-3.874279e-17</td>\n      <td>1.859654e-16</td>\n      <td>7.884157e-16</td>\n      <td>3.014189e-15</td>\n      <td>-1.549712e-17</td>\n      <td>-5.114048e-16</td>\n      <td>-1.859654e-16</td>\n    </tr>\n    <tr>\n      <th>std</th>\n      <td>1.000546e+00</td>\n      <td>1.000546e+00</td>\n      <td>1.000546e+00</td>\n      <td>1.000546e+00</td>\n      <td>1.000546e+00</td>\n      <td>1.000546e+00</td>\n      <td>1.000546</td>\n      <td>1.000546e+00</td>\n      <td>1.000546e+00</td>\n      <td>1.000546e+00</td>\n      <td>1.000546e+00</td>\n      <td>1.000546e+00</td>\n      <td>1.000546</td>\n      <td>1.000546e+00</td>\n      <td>1.000546e+00</td>\n      <td>1.000546e+00</td>\n      <td>1.000546e+00</td>\n      <td>1.000546e+00</td>\n      <td>1.000546e+00</td>\n      <td>1.000546e+00</td>\n    </tr>\n    <tr>\n      <th>min</th>\n      <td>-5.163086e-01</td>\n      <td>-1.936826e+00</td>\n      <td>-1.085425e+00</td>\n      <td>-4.822104e-01</td>\n      <td>-5.315237e-01</td>\n      <td>-2.298105e-01</td>\n      <td>-0.507826</td>\n      <td>-1.226974e+00</td>\n      <td>-4.907810e-01</td>\n      <td>-1.213136e+00</td>\n      <td>-8.243101e-01</td>\n      <td>-2.716072e-01</td>\n      <td>-1.001091</td>\n      <td>-8.698879e-01</td>\n      <td>-2.704405e+00</td>\n      <td>-2.920572e+00</td>\n      <td>-2.994023e+00</td>\n      <td>-5.517333e-01</td>\n      <td>-3.016886e+00</td>\n      <td>-3.269662e+00</td>\n    </tr>\n    <tr>\n      <th>25%</th>\n      <td>-5.163086e-01</td>\n      <td>5.163086e-01</td>\n      <td>-1.085425e+00</td>\n      <td>-4.822104e-01</td>\n      <td>-5.315237e-01</td>\n      <td>-2.298105e-01</td>\n      <td>-0.507826</td>\n      <td>-1.226974e+00</td>\n      <td>-4.907810e-01</td>\n      <td>-1.213136e+00</td>\n      <td>-8.243101e-01</td>\n      <td>-2.716072e-01</td>\n      <td>-1.001091</td>\n      <td>-8.698879e-01</td>\n      <td>-6.900904e-01</td>\n      <td>-6.971063e-01</td>\n      <td>-5.745784e-01</td>\n      <td>-5.517333e-01</td>\n      <td>-6.596226e-01</td>\n      <td>-8.315022e-01</td>\n    </tr>\n    <tr>\n      <th>50%</th>\n      <td>-5.163086e-01</td>\n      <td>5.163086e-01</td>\n      <td>9.212982e-01</td>\n      <td>-4.822104e-01</td>\n      <td>-5.315237e-01</td>\n      <td>-2.298105e-01</td>\n      <td>-0.507826</td>\n      <td>8.150134e-01</td>\n      <td>-4.907810e-01</td>\n      <td>8.243101e-01</td>\n      <td>-8.243101e-01</td>\n      <td>-2.716072e-01</td>\n      <td>0.998910</td>\n      <td>-8.698879e-01</td>\n      <td>5.202558e-02</td>\n      <td>-1.412398e-01</td>\n      <td>3.198360e-15</td>\n      <td>-5.517333e-01</td>\n      <td>4.755658e-02</td>\n      <td>-2.688500e-01</td>\n    </tr>\n    <tr>\n      <th>75%</th>\n      <td>-5.163086e-01</td>\n      <td>5.163086e-01</td>\n      <td>9.212982e-01</td>\n      <td>-4.822104e-01</td>\n      <td>-5.315237e-01</td>\n      <td>-2.298105e-01</td>\n      <td>-0.507826</td>\n      <td>8.150134e-01</td>\n      <td>-4.907810e-01</td>\n      <td>8.243101e-01</td>\n      <td>1.213136e+00</td>\n      <td>-2.716072e-01</td>\n      <td>0.998910</td>\n      <td>1.149573e+00</td>\n      <td>6.881250e-01</td>\n      <td>4.146267e-01</td>\n      <td>4.194568e-01</td>\n      <td>-5.517333e-01</td>\n      <td>7.547357e-01</td>\n      <td>5.751284e-01</td>\n    </tr>\n    <tr>\n      <th>max</th>\n      <td>1.936826e+00</td>\n      <td>5.163086e-01</td>\n      <td>9.212982e-01</td>\n      <td>2.073784e+00</td>\n      <td>1.881384e+00</td>\n      <td>4.351412e+00</td>\n      <td>1.969177</td>\n      <td>8.150134e-01</td>\n      <td>2.037569e+00</td>\n      <td>8.243101e-01</td>\n      <td>1.213136e+00</td>\n      <td>3.681787e+00</td>\n      <td>0.998910</td>\n      <td>1.149573e+00</td>\n      <td>2.490407e+00</td>\n      <td>3.749826e+00</td>\n      <td>6.721265e+00</td>\n      <td>1.812470e+00</td>\n      <td>2.561971e+00</td>\n      <td>4.982571e+00</td>\n    </tr>\n  </tbody>\n</table>\n</div>"
     },
     "execution_count": 131,
     "metadata": {},
     "output_type": "execute_result"
    }
   ],
   "source": [
    "previsores3df.describe()"
   ],
   "metadata": {
    "collapsed": false,
    "ExecuteTime": {
     "end_time": "2024-03-11T03:12:27.852458Z",
     "start_time": "2024-03-11T03:12:27.629778900Z"
    }
   },
   "id": "e31e156af64d7409",
   "execution_count": 131
  },
  {
   "cell_type": "code",
   "outputs": [],
   "source": [
    "# Resumo do Pré-Processamento:\n",
    "# alvo = variável que se pretende atingir (tem ou não tem doença cardiaca);\n",
    "# previsores = conjunto de variáveis previsoras com as variáveis categóricas transformadas em numéricas manualmente, sem escalonar;\n",
    "# previsores_esc = previsores escalonada;\n",
    "# previsores2 = conjunto de variáveis previsoras com as variáveis categóricas transformadas em numéricas automaticamente pelo labelencoder;\n",
    "# previsores3 = previsores2 aplicada onehotencoder (variáveis dummy);\n",
    "# previsores3_esc = previsores3 escalonada."
   ],
   "metadata": {
    "collapsed": false
   },
   "id": "bc76ca318018fffc"
  },
  {
   "cell_type": "markdown",
   "source": [
    "# 42. Pré-processamento: Redução de dimensionalidade"
   ],
   "metadata": {
    "collapsed": false
   },
   "id": "ae3e88e875aa7307"
  },
  {
   "cell_type": "code",
   "outputs": [],
   "source": [
    "# Análise dos componentes principais (Seleção de características vs Extração de características / aprendizagem não supervisionada)\n",
    "from sklearn.decomposition import PCA\n",
    "pca = PCA(n_components=3, svd_solver='auto')"
   ],
   "metadata": {
    "collapsed": false,
    "ExecuteTime": {
     "end_time": "2024-03-11T03:12:29.800031900Z",
     "start_time": "2024-03-11T03:12:29.671631200Z"
    }
   },
   "id": "83684a45a85543fa",
   "execution_count": 134
  },
  {
   "cell_type": "code",
   "outputs": [
    {
     "data": {
      "text/plain": "(917, 3)"
     },
     "execution_count": 135,
     "metadata": {},
     "output_type": "execute_result"
    }
   ],
   "source": [
    "previsores_pca = pca.fit_transform(previsores2)\n",
    "previsores_pca.shape"
   ],
   "metadata": {
    "collapsed": false,
    "ExecuteTime": {
     "end_time": "2024-03-11T03:12:29.970518900Z",
     "start_time": "2024-03-11T03:12:29.836847700Z"
    }
   },
   "id": "d32f88bed7ade7f6",
   "execution_count": 135
  },
  {
   "cell_type": "code",
   "outputs": [
    {
     "data": {
      "text/plain": "array([[  44.01218603,  -36.15137592,   10.64727631],\n       [ -63.9918455 ,  -13.93849233,   31.69212503],\n       [  38.53844277,   33.91712222,  -12.48837374],\n       ...,\n       [-113.3467467 ,   23.48595247,   -2.51064362],\n       [  -9.1141306 ,  -35.90083188,    4.81814643],\n       [ -70.01342608,  -35.68741686,   12.10984845]])"
     },
     "execution_count": 136,
     "metadata": {},
     "output_type": "execute_result"
    }
   ],
   "source": [
    "previsores_pca # componentes principais"
   ],
   "metadata": {
    "collapsed": false,
    "ExecuteTime": {
     "end_time": "2024-03-11T03:12:30.128032100Z",
     "start_time": "2024-03-11T03:12:29.984495Z"
    }
   },
   "id": "c4c01d5292c1c9a8",
   "execution_count": 136
  },
  {
   "cell_type": "code",
   "outputs": [
    {
     "data": {
      "text/plain": "array([0.72847929, 0.17183534, 0.08122019])"
     },
     "execution_count": 137,
     "metadata": {},
     "output_type": "execute_result"
    }
   ],
   "source": [
    "pca.explained_variance_ratio_ # razão das variáveis explicativas"
   ],
   "metadata": {
    "collapsed": false,
    "ExecuteTime": {
     "end_time": "2024-03-11T03:12:30.334376400Z",
     "start_time": "2024-03-11T03:12:30.175068800Z"
    }
   },
   "id": "a8b4aa025ebcf74a",
   "execution_count": 137
  },
  {
   "cell_type": "code",
   "outputs": [
    {
     "data": {
      "text/plain": "0.9815348236774056"
     },
     "execution_count": 138,
     "metadata": {},
     "output_type": "execute_result"
    }
   ],
   "source": [
    "pca.explained_variance_ratio_.sum() # Soma das variáveis explicativas"
   ],
   "metadata": {
    "collapsed": false,
    "ExecuteTime": {
     "end_time": "2024-03-11T03:12:30.520769100Z",
     "start_time": "2024-03-11T03:12:30.373903700Z"
    }
   },
   "id": "452c1485f6a2b60c",
   "execution_count": 138
  },
  {
   "cell_type": "code",
   "outputs": [],
   "source": [
    "# Kernel PCA (Redução de dimensionalidade com aprendizagem não supervisionada)\n",
    "from sklearn.decomposition import KernelPCA"
   ],
   "metadata": {
    "collapsed": false,
    "ExecuteTime": {
     "end_time": "2024-03-11T03:12:30.675034700Z",
     "start_time": "2024-03-11T03:12:30.537050500Z"
    }
   },
   "id": "3f278bb79a2d2f06",
   "execution_count": 139
  },
  {
   "cell_type": "code",
   "outputs": [],
   "source": [
    "kpca = KernelPCA(n_components=4, kernel='rbf')"
   ],
   "metadata": {
    "collapsed": false,
    "ExecuteTime": {
     "end_time": "2024-03-11T03:12:30.860850100Z",
     "start_time": "2024-03-11T03:12:30.719168900Z"
    }
   },
   "id": "d10673a60c4ba1f5",
   "execution_count": 140
  },
  {
   "cell_type": "code",
   "outputs": [
    {
     "data": {
      "text/plain": "(917, 4)"
     },
     "execution_count": 141,
     "metadata": {},
     "output_type": "execute_result"
    }
   ],
   "source": [
    "previsores_kernel = kpca.fit_transform(previsores2)\n",
    "previsores_kernel.shape"
   ],
   "metadata": {
    "collapsed": false,
    "ExecuteTime": {
     "end_time": "2024-03-11T03:12:31.042502900Z",
     "start_time": "2024-03-11T03:12:30.890512300Z"
    }
   },
   "id": "f74dd262246151cc",
   "execution_count": 141
  },
  {
   "cell_type": "code",
   "outputs": [
    {
     "data": {
      "text/plain": "array([[-0.00249772, -0.00290225, -0.0027372 , -0.00191636],\n       [-0.00249877, -0.00290359, -0.00273854, -0.00191743],\n       [-0.00249785, -0.00290241, -0.00273736, -0.00191649],\n       ...,\n       [-0.00249774, -0.00290227, -0.00273723, -0.00191638],\n       [-0.00249793, -0.00290252, -0.00273748, -0.00191659],\n       [-0.00249772, -0.00290225, -0.0027372 , -0.00191637]])"
     },
     "execution_count": 142,
     "metadata": {},
     "output_type": "execute_result"
    }
   ],
   "source": [
    "previsores_kernel"
   ],
   "metadata": {
    "collapsed": false,
    "ExecuteTime": {
     "end_time": "2024-03-11T03:12:31.232233900Z",
     "start_time": "2024-03-11T03:12:31.051506Z"
    }
   },
   "id": "1642de9d7beacb95",
   "execution_count": 142
  },
  {
   "cell_type": "code",
   "outputs": [],
   "source": [
    "# Análise do Discriminante Linear (LDA - Aprendizagem Supervisionada)\n",
    "from sklearn.discriminant_analysis import LinearDiscriminantAnalysis"
   ],
   "metadata": {
    "collapsed": false,
    "ExecuteTime": {
     "end_time": "2024-03-11T03:12:31.420635400Z",
     "start_time": "2024-03-11T03:12:31.276241100Z"
    }
   },
   "id": "d6c122fc42691b5e",
   "execution_count": 143
  },
  {
   "cell_type": "code",
   "outputs": [],
   "source": [
    "lda = LinearDiscriminantAnalysis(n_components=1)"
   ],
   "metadata": {
    "collapsed": false,
    "ExecuteTime": {
     "end_time": "2024-03-11T03:12:31.523738700Z",
     "start_time": "2024-03-11T03:12:31.438013600Z"
    }
   },
   "id": "20266c5b79278950",
   "execution_count": 144
  },
  {
   "cell_type": "code",
   "outputs": [
    {
     "data": {
      "text/plain": "(917, 1)"
     },
     "execution_count": 145,
     "metadata": {},
     "output_type": "execute_result"
    }
   ],
   "source": [
    "previsores_lda = lda.fit_transform(previsores2, alvo)\n",
    "previsores_lda.shape"
   ],
   "metadata": {
    "collapsed": false,
    "ExecuteTime": {
     "end_time": "2024-03-11T03:12:31.647507700Z",
     "start_time": "2024-03-11T03:12:31.537567700Z"
    }
   },
   "id": "93279c491a07f0e9",
   "execution_count": 145
  },
  {
   "cell_type": "code",
   "outputs": [
    {
     "data": {
      "text/plain": "array([[ 1.47297727],\n       [ 1.41360735],\n       [ 0.96705302],\n       [-0.53331037],\n       [ 1.45783427],\n       [ 1.78559221],\n       [ 2.28906835],\n       [ 1.26844095],\n       [-1.03044735],\n       [ 1.8033219 ],\n       [ 2.56103248],\n       [-1.08833702],\n       [ 1.4298088 ],\n       [-1.02172609],\n       [ 2.51881925],\n       [ 0.75582909],\n       [ 0.27447783],\n       [ 2.33841952],\n       [-0.50562225],\n       [-0.03155735],\n       [ 2.89530718],\n       [ 0.23402029],\n       [ 2.26833719],\n       [-0.97019565],\n       [ 1.70998121],\n       [ 2.0730337 ],\n       [-1.62722174],\n       [ 0.96486408],\n       [ 1.52502126],\n       [ 1.33460621],\n       [ 0.03948873],\n       [ 1.44459749],\n       [-0.63936919],\n       [-0.34808635],\n       [ 2.23945383],\n       [ 1.48957548],\n       [-2.4746182 ],\n       [ 2.13691975],\n       [ 1.54252555],\n       [-0.30741381],\n       [ 1.8748176 ],\n       [ 0.26749988],\n       [ 1.51713745],\n       [ 1.79186716],\n       [-1.00348547],\n       [-0.64800053],\n       [ 1.22524435],\n       [ 1.47829185],\n       [ 0.77636186],\n       [ 0.12865852],\n       [-1.34295208],\n       [-0.65422291],\n       [ 0.4557005 ],\n       [ 2.15691729],\n       [-0.25536539],\n       [ 2.26417676],\n       [-0.86836148],\n       [ 0.60301353],\n       [ 0.38277361],\n       [-1.50907547],\n       [ 1.50857567],\n       [ 2.67081271],\n       [ 0.93385381],\n       [-1.15581054],\n       [ 2.12436997],\n       [ 2.02566299],\n       [ 1.61128669],\n       [ 1.7825921 ],\n       [-2.05082548],\n       [ 0.83570852],\n       [-0.70693463],\n       [ 1.27352923],\n       [ 0.02482612],\n       [ 1.55996385],\n       [-1.31581706],\n       [ 1.53819264],\n       [-0.49380729],\n       [ 1.95231331],\n       [ 0.67889962],\n       [ 0.16066905],\n       [ 1.66499886],\n       [ 1.30296599],\n       [-0.45795738],\n       [ 1.42756451],\n       [-1.86472923],\n       [-1.39491241],\n       [-2.33294249],\n       [-0.03204149],\n       [ 1.12661004],\n       [-1.21970316],\n       [ 2.2425467 ],\n       [ 0.8391131 ],\n       [ 2.10401498],\n       [-1.65426173],\n       [ 2.93875944],\n       [-1.3176681 ],\n       [ 1.30501623],\n       [ 1.28599933],\n       [ 1.04351704],\n       [ 1.29286266],\n       [-1.3983015 ],\n       [ 0.61376488],\n       [ 0.04322651],\n       [-1.86713147],\n       [-0.12667388],\n       [ 0.42526827],\n       [ 1.42477203],\n       [ 1.63348802],\n       [ 0.96697796],\n       [ 0.97872716],\n       [ 0.71472611],\n       [-1.87337251],\n       [-0.71098493],\n       [ 1.30594287],\n       [ 2.42439448],\n       [ 0.02367259],\n       [ 0.15644551],\n       [-1.30613953],\n       [ 3.41405246],\n       [ 1.57442636],\n       [ 0.96084658],\n       [ 2.30250912],\n       [ 0.9303196 ],\n       [-0.48767217],\n       [ 1.23390101],\n       [ 0.9434399 ],\n       [ 2.67333379],\n       [ 1.71885403],\n       [ 1.31052999],\n       [-0.1651487 ],\n       [ 1.52484955],\n       [-0.65120793],\n       [-1.66167923],\n       [-1.28137826],\n       [-0.56657326],\n       [ 0.87302219],\n       [ 2.42171127],\n       [ 1.05416952],\n       [-0.95858464],\n       [-1.25165012],\n       [-1.85556412],\n       [-1.5570952 ],\n       [-1.30041712],\n       [ 0.91367757],\n       [ 0.81492644],\n       [ 0.85458961],\n       [ 1.48952001],\n       [ 2.37524388],\n       [ 1.50038603],\n       [-2.44483595],\n       [ 1.20312923],\n       [ 1.08524172],\n       [ 1.33407261],\n       [ 0.7573623 ],\n       [ 1.4166922 ],\n       [-2.23120635],\n       [-0.73115764],\n       [ 0.84762309],\n       [-1.54218584],\n       [ 0.98547065],\n       [-1.86137596],\n       [-1.14317372],\n       [ 1.43919738],\n       [ 1.45331485],\n       [ 1.99282263],\n       [ 0.20427491],\n       [-1.70211104],\n       [ 1.05246642],\n       [ 0.47205912],\n       [ 1.75670659],\n       [ 1.58128745],\n       [ 2.05994677],\n       [ 1.22032442],\n       [ 1.92453514],\n       [-1.32446452],\n       [-1.26569907],\n       [-0.69086695],\n       [ 1.12114124],\n       [ 1.86679774],\n       [ 1.27290952],\n       [-1.35716728],\n       [ 1.31042056],\n       [-1.62385683],\n       [-0.93631205],\n       [ 1.73165747],\n       [-0.48765751],\n       [ 0.88511655],\n       [-1.62097012],\n       [-0.60933153],\n       [-1.40838981],\n       [ 0.6241705 ],\n       [ 1.05454657],\n       [ 1.38434072],\n       [ 1.47224495],\n       [ 2.49687918],\n       [ 2.48419036],\n       [-0.44778238],\n       [ 1.19164147],\n       [-1.06848936],\n       [ 1.08627342],\n       [ 2.08200743],\n       [ 1.73528777],\n       [ 1.82633959],\n       [ 2.35721403],\n       [ 0.93253202],\n       [ 0.14330776],\n       [ 1.550762  ],\n       [ 0.3753301 ],\n       [ 1.92633663],\n       [-0.13349137],\n       [-1.04405064],\n       [ 0.59160027],\n       [ 0.49155109],\n       [ 2.56681625],\n       [-1.42069008],\n       [ 3.16014054],\n       [ 0.00455886],\n       [ 1.57713237],\n       [ 1.30484654],\n       [ 1.60395028],\n       [-0.29328685],\n       [-0.31205856],\n       [ 2.35955308],\n       [ 2.02670304],\n       [ 0.45131542],\n       [-0.11734055],\n       [ 1.6455011 ],\n       [-0.98223348],\n       [ 1.46223644],\n       [ 2.23048631],\n       [ 0.98729539],\n       [ 1.83301464],\n       [ 1.98424435],\n       [ 0.94861876],\n       [ 1.86629516],\n       [-0.31541967],\n       [-1.60871922],\n       [ 0.80471512],\n       [-1.72846954],\n       [-1.62149828],\n       [ 1.1304052 ],\n       [-1.24436421],\n       [-1.65274078],\n       [ 1.86413969],\n       [-1.38226014],\n       [ 1.67398489],\n       [-0.31003073],\n       [-2.78593696],\n       [-0.99935619],\n       [-1.33828415],\n       [-0.52894479],\n       [-0.68866632],\n       [-0.22487709],\n       [ 0.95817247],\n       [-1.62987478],\n       [ 2.22487019],\n       [ 1.75802244],\n       [ 2.07990393],\n       [ 2.1594062 ],\n       [ 1.95224582],\n       [ 0.66930706],\n       [ 1.8128839 ],\n       [-0.98546405],\n       [-0.16168507],\n       [-0.14853301],\n       [ 1.31301352],\n       [-1.3770381 ],\n       [ 1.51803096],\n       [-1.4563745 ],\n       [ 1.11876647],\n       [ 0.92490573],\n       [ 2.46651771],\n       [-1.45639102],\n       [ 1.5122684 ],\n       [ 2.21473145],\n       [ 1.17162839],\n       [ 0.44931342],\n       [-1.26722129],\n       [-0.59107024],\n       [ 2.08610147],\n       [ 1.43078248],\n       [-0.61858106],\n       [ 1.48987542],\n       [ 1.99465406],\n       [ 0.95323414],\n       [ 2.31154558],\n       [ 0.85639019],\n       [ 1.23027055],\n       [ 1.70856544],\n       [ 1.79504883],\n       [ 1.66405711],\n       [ 1.77445463],\n       [ 0.96810702],\n       [-1.35624968],\n       [ 1.26699755],\n       [-1.13404434],\n       [-1.68887454],\n       [-0.89192537],\n       [-1.19006114],\n       [-0.06388196],\n       [-0.95760723],\n       [ 1.21884641],\n       [-0.28940391],\n       [-2.24447341],\n       [-1.29036475],\n       [-0.13814178],\n       [-0.75544498],\n       [-1.03554626],\n       [-0.00765534],\n       [-1.62368595],\n       [ 0.5946977 ],\n       [-0.18926704],\n       [ 0.24907235],\n       [ 0.40058775],\n       [-2.15288514],\n       [-0.05416492],\n       [-0.1036372 ],\n       [-1.09454096],\n       [-1.86710518],\n       [-0.38359443],\n       [-0.33808944],\n       [-1.00068387],\n       [ 0.79683041],\n       [-3.1508434 ],\n       [-0.32359031],\n       [-2.2450472 ],\n       [ 1.65653801],\n       [-0.96279735],\n       [-2.11431285],\n       [-2.86135322],\n       [ 0.42807523],\n       [-0.1395382 ],\n       [ 2.23427119],\n       [ 0.35057846],\n       [ 0.50406329],\n       [ 0.26098473],\n       [-0.15728719],\n       [-0.50679805],\n       [-0.28929007],\n       [-1.26798669],\n       [-2.10919353],\n       [-3.06350319],\n       [-1.36605469],\n       [-1.00314274],\n       [-1.10758215],\n       [-0.41357299],\n       [-0.41803771],\n       [-0.88372537],\n       [-1.58852733],\n       [-1.67572817],\n       [-1.00061797],\n       [ 0.11400685],\n       [-1.99928015],\n       [-1.40104225],\n       [ 0.39382639],\n       [ 0.65089248],\n       [-1.2804095 ],\n       [-0.14371283],\n       [-0.07314985],\n       [ 0.40659027],\n       [-0.79831036],\n       [-0.99424132],\n       [ 0.2182558 ],\n       [-0.1024341 ],\n       [ 0.21792997],\n       [-0.47020931],\n       [-1.52241832],\n       [-0.18877912],\n       [-1.44844604],\n       [-1.78583376],\n       [-0.67614963],\n       [-1.64114833],\n       [-0.40163824],\n       [-1.32530632],\n       [-2.2162147 ],\n       [ 1.9881817 ],\n       [-0.46197067],\n       [-1.33181571],\n       [-1.96051671],\n       [ 0.28514746],\n       [-1.37649259],\n       [-1.08787029],\n       [-1.08736303],\n       [ 0.90238368],\n       [-0.05501476],\n       [-1.26574074],\n       [-1.12531647],\n       [-1.13115354],\n       [-0.65613811],\n       [-1.07719685],\n       [-0.79914271],\n       [-1.38507027],\n       [-0.47611231],\n       [-1.72991047],\n       [-2.32533712],\n       [-0.63891572],\n       [ 0.97855747],\n       [-1.91371281],\n       [-0.93813356],\n       [-0.79181952],\n       [-0.3146305 ],\n       [-0.62785746],\n       [-1.65929899],\n       [-2.01090329],\n       [-0.89555129],\n       [-1.67397512],\n       [-1.93416166],\n       [-2.0845939 ],\n       [-1.25079031],\n       [-1.02445415],\n       [-1.77828134],\n       [-1.10971477],\n       [-2.05845141],\n       [-0.1083399 ],\n       [-2.34145158],\n       [-0.61917586],\n       [-1.74217189],\n       [ 0.87237704],\n       [-2.13328918],\n       [-0.25687311],\n       [-1.44730953],\n       [ 1.39893279],\n       [-1.94266616],\n       [-0.50405737],\n       [-0.23699838],\n       [-0.54644327],\n       [ 1.30822157],\n       [-1.28872242],\n       [-1.19656229],\n       [-0.59946667],\n       [-1.69015361],\n       [ 0.37168032],\n       [-2.78615351],\n       [-1.25380876],\n       [-1.64138711],\n       [-0.14859618],\n       [ 0.47234942],\n       [-1.54049408],\n       [-0.43741118],\n       [ 1.11936529],\n       [ 1.38127202],\n       [-1.24351547],\n       [-1.84915996],\n       [-1.60276065],\n       [-1.09570752],\n       [-0.52013034],\n       [-1.29907866],\n       [-0.57387893],\n       [-2.12852626],\n       [-1.68924668],\n       [-1.301961  ],\n       [-1.43634145],\n       [-0.36982331],\n       [-1.90183175],\n       [-0.30243865],\n       [-0.67736167],\n       [-0.52774593],\n       [-1.59852847],\n       [ 0.74943586],\n       [-2.14965361],\n       [-1.43343158],\n       [-2.3086103 ],\n       [ 0.56642915],\n       [-1.62520535],\n       [ 1.81943187],\n       [-0.67756253],\n       [ 1.7695649 ],\n       [-0.46772558],\n       [-0.65473094],\n       [-0.43884558],\n       [-1.64801971],\n       [-1.83418625],\n       [-1.42731733],\n       [ 0.99588277],\n       [-1.86846878],\n       [ 0.13256577],\n       [-3.20503685],\n       [-1.9742736 ],\n       [-0.81704689],\n       [-1.82467517],\n       [-1.83727559],\n       [ 0.50312585],\n       [-2.46390553],\n       [-1.42266861],\n       [-1.53480843],\n       [ 0.82601248],\n       [-1.18348035],\n       [ 1.6979588 ],\n       [-1.39356202],\n       [-0.73581795],\n       [-1.27254184],\n       [ 0.52560067],\n       [-0.68131048],\n       [-1.60038916],\n       [-0.4502456 ],\n       [-2.96219487],\n       [-2.42379023],\n       [-2.01343704],\n       [-1.3194868 ],\n       [-2.69980309],\n       [-1.45316611],\n       [-1.32014624],\n       [ 0.14646919],\n       [-3.36134718],\n       [-1.10124266],\n       [-1.8229923 ],\n       [ 0.52844355],\n       [-2.14218391],\n       [-0.3612475 ],\n       [ 0.64709104],\n       [-2.47039177],\n       [ 2.01519925],\n       [ 0.02613638],\n       [ 0.66480555],\n       [-0.54396616],\n       [-0.25725793],\n       [-1.43380959],\n       [-2.10369212],\n       [-0.35806895],\n       [-0.40184572],\n       [-2.70910426],\n       [-0.42373062],\n       [-1.16096418],\n       [ 1.00260561],\n       [ 1.65832757],\n       [-1.66679303],\n       [ 0.93872855],\n       [-0.30491454],\n       [-1.52303744],\n       [-1.10937883],\n       [-2.27385138],\n       [-1.0361609 ],\n       [-1.29685312],\n       [-2.36355103],\n       [-1.26228272],\n       [-1.2585278 ],\n       [-3.55004738],\n       [-2.08191829],\n       [ 0.52493097],\n       [-0.49662546],\n       [-1.18452289],\n       [-0.71022701],\n       [-2.58338502],\n       [ 0.23960695],\n       [ 0.7904523 ],\n       [ 0.17903891],\n       [-1.28351519],\n       [ 0.4128116 ],\n       [ 1.149053  ],\n       [-1.14941993],\n       [ 1.0670796 ],\n       [-0.85966694],\n       [-1.12330776],\n       [ 1.0876075 ],\n       [-0.31763678],\n       [-3.47228584],\n       [-1.22916584],\n       [-0.52129229],\n       [-3.02724212],\n       [ 1.57554087],\n       [ 1.28483531],\n       [-1.24657264],\n       [-1.8054684 ],\n       [-1.83109196],\n       [-1.52345993],\n       [-1.03899448],\n       [-1.19373062],\n       [-2.31252409],\n       [-1.573519  ],\n       [-2.3515015 ],\n       [-2.02619492],\n       [-1.03641919],\n       [-1.24768979],\n       [-2.13795128],\n       [-1.98655531],\n       [-1.52449686],\n       [-1.81134466],\n       [-2.54433382],\n       [-2.33630302],\n       [-1.68391717],\n       [ 0.07200154],\n       [-2.13432193],\n       [ 1.1545702 ],\n       [-2.11176255],\n       [-0.91496576],\n       [-1.37248845],\n       [ 0.74280147],\n       [-1.46045437],\n       [-0.6691308 ],\n       [ 1.14051808],\n       [ 0.63441664],\n       [-3.06533191],\n       [-1.08730252],\n       [-1.10541382],\n       [-1.65649281],\n       [-0.5773584 ],\n       [ 1.58687157],\n       [-2.27506925],\n       [-1.41163617],\n       [-1.36284382],\n       [-0.65390639],\n       [-0.68315574],\n       [-2.68952107],\n       [ 0.08466893],\n       [ 0.37791689],\n       [-2.45806342],\n       [-2.00516362],\n       [-0.87874892],\n       [-0.32846032],\n       [-0.0806349 ],\n       [ 1.97350112],\n       [-1.11831654],\n       [-0.27762136],\n       [-1.0008783 ],\n       [-1.15460179],\n       [ 0.58136427],\n       [ 1.07755132],\n       [-1.33231469],\n       [ 0.81107814],\n       [ 0.7401585 ],\n       [-0.98281019],\n       [-1.13530236],\n       [-0.3332688 ],\n       [-0.38963788],\n       [-0.14447789],\n       [-0.14868847],\n       [ 1.93179234],\n       [ 0.46641398],\n       [ 1.58313548],\n       [ 0.21202799],\n       [-1.41422951],\n       [-2.94792208],\n       [-0.10426638],\n       [ 1.45386495],\n       [-1.55620898],\n       [ 0.49926973],\n       [-0.04294646],\n       [ 0.95509893],\n       [ 0.61265937],\n       [ 2.29479146],\n       [ 0.02276089],\n       [ 2.29095735],\n       [ 0.30181952],\n       [ 1.37302395],\n       [ 0.54424005],\n       [ 0.22442409],\n       [ 2.78737633],\n       [-2.72970162],\n       [-1.10140375],\n       [-0.5063465 ],\n       [-0.31329962],\n       [ 1.64460263],\n       [ 1.84136999],\n       [ 1.23423329],\n       [ 1.26033075],\n       [ 1.74880707],\n       [ 1.18229415],\n       [ 0.80436748],\n       [-0.54957092],\n       [ 1.03874187],\n       [ 1.48200374],\n       [ 1.25601938],\n       [-0.83504232],\n       [ 0.09380739],\n       [-1.33814187],\n       [ 0.92223168],\n       [ 1.22344097],\n       [ 2.24293909],\n       [ 1.22033797],\n       [ 2.40410771],\n       [-1.62703599],\n       [ 1.36411001],\n       [-0.19869353],\n       [-0.49758419],\n       [ 1.22687176],\n       [-0.37716501],\n       [ 1.91053206],\n       [ 2.71563484],\n       [-1.15922115],\n       [-1.3547069 ],\n       [ 0.40793628],\n       [ 1.17838292],\n       [ 1.48084206],\n       [ 1.73521054],\n       [-1.6104645 ],\n       [ 0.75077928],\n       [ 0.98173637],\n       [ 0.84653896],\n       [ 1.48220199],\n       [-0.90186502],\n       [-1.21347664],\n       [ 2.89617668],\n       [ 1.79211311],\n       [ 1.3356734 ],\n       [-0.82737115],\n       [-0.99032875],\n       [-0.41699303],\n       [ 0.57963328],\n       [-1.20734519],\n       [ 2.1451677 ],\n       [ 0.44821933],\n       [-0.91373591],\n       [ 2.16669077],\n       [-0.74666642],\n       [ 0.62344748],\n       [ 1.57811889],\n       [-1.58325016],\n       [-1.09193541],\n       [ 0.9177444 ],\n       [-1.23211784],\n       [-0.39008135],\n       [ 0.91891988],\n       [ 2.02170125],\n       [ 1.98593211],\n       [ 1.8065775 ],\n       [-1.00468248],\n       [ 1.76994383],\n       [-1.33513105],\n       [-0.50390027],\n       [-0.07741209],\n       [-0.23567449],\n       [ 0.14672819],\n       [ 0.30345337],\n       [ 1.20104262],\n       [-1.06751756],\n       [ 1.43626325],\n       [ 1.53075756],\n       [ 1.78509281],\n       [ 1.38963185],\n       [ 1.14790879],\n       [ 0.74113988],\n       [-2.73196784],\n       [-0.02847217],\n       [-3.23874677],\n       [ 0.35512335],\n       [-1.73326062],\n       [-1.62156389],\n       [ 1.92244877],\n       [-0.47627315],\n       [ 2.54370655],\n       [-1.6381938 ],\n       [ 1.62199313],\n       [ 1.25533589],\n       [-0.70400916],\n       [-0.30036755],\n       [-0.06642152],\n       [ 1.22727483],\n       [-2.7251934 ],\n       [ 1.42968888],\n       [-0.29095888],\n       [ 2.37851954],\n       [-1.80432131],\n       [ 2.50233817],\n       [ 0.33157325],\n       [-0.68803407],\n       [ 0.99987545],\n       [ 0.68445897],\n       [ 0.89991351],\n       [ 1.44024675],\n       [-1.64639125],\n       [ 1.01726181],\n       [-1.19969785],\n       [ 1.20803571],\n       [ 1.94945798],\n       [ 1.98932565],\n       [ 1.30043812],\n       [ 2.50571079],\n       [-0.08285144],\n       [ 2.29573024],\n       [ 2.37823233],\n       [-3.06899875],\n       [ 1.3666765 ],\n       [ 0.82671364],\n       [-0.9184909 ],\n       [ 0.07535019],\n       [-0.34956372],\n       [ 1.25083598],\n       [-1.59014858],\n       [ 1.14398153],\n       [ 0.69213888],\n       [ 1.75014385],\n       [-1.15355634],\n       [ 0.00838713],\n       [ 0.07966998],\n       [-0.01898824],\n       [ 0.06252445],\n       [-1.37689494],\n       [ 0.79296142],\n       [ 2.46599596],\n       [-0.84688598],\n       [-1.84698599],\n       [ 0.06086432],\n       [-0.85175381],\n       [ 1.84295857],\n       [-0.67693841],\n       [-0.68280366],\n       [ 1.17493682],\n       [ 0.44108234],\n       [ 1.10573122],\n       [ 1.37690055],\n       [-1.4949269 ],\n       [ 0.21794342],\n       [ 0.16817031],\n       [-1.10783138],\n       [ 0.73916671],\n       [-2.51253683],\n       [ 1.21973905],\n       [ 0.30785644],\n       [ 1.18902982],\n       [ 0.84228414],\n       [ 0.24744491],\n       [ 1.28227147],\n       [ 2.32760056],\n       [-0.08039122],\n       [ 1.28448873],\n       [ 0.89210846],\n       [-1.48223796],\n       [-0.0093788 ],\n       [-1.14352094],\n       [ 0.25498238],\n       [ 2.34577635],\n       [-0.17222734],\n       [-0.72919003],\n       [-0.50719338],\n       [ 0.86066056],\n       [-0.32484783],\n       [ 1.67557319],\n       [-1.37303714],\n       [ 1.93565301],\n       [ 2.12308764],\n       [ 2.45040633],\n       [ 1.04170395],\n       [ 0.51259589],\n       [ 1.55343755],\n       [-1.46771077],\n       [-0.93254394],\n       [ 1.60109671],\n       [-1.2260175 ],\n       [ 1.93545863],\n       [ 0.31102129],\n       [ 0.69282769],\n       [-1.4302537 ],\n       [ 1.87132154],\n       [ 1.43289725],\n       [-0.45432364],\n       [-0.19715333],\n       [ 1.20275518],\n       [ 0.25232469],\n       [ 0.24029426],\n       [-1.44171531],\n       [ 1.72746895],\n       [-1.29698041],\n       [ 1.68122955],\n       [ 1.28974531],\n       [-1.29932564],\n       [ 1.85789146],\n       [ 0.5042792 ],\n       [-1.00896199],\n       [ 1.96973984],\n       [-0.2032225 ],\n       [ 0.7186107 ],\n       [ 2.0771769 ],\n       [ 0.15417225],\n       [-1.53689274],\n       [-0.54133242],\n       [ 1.65793142],\n       [ 0.91581493],\n       [ 1.46933905],\n       [ 0.6983248 ],\n       [ 1.76702569],\n       [-1.11679298],\n       [-1.35780969],\n       [ 1.43421774],\n       [ 0.85346494],\n       [ 2.40254279],\n       [-1.40583604],\n       [-0.0851993 ],\n       [ 1.32252353],\n       [-0.63986776],\n       [ 0.99202986],\n       [ 1.50834481],\n       [ 0.71086621],\n       [-0.14914618],\n       [-1.66797091],\n       [ 2.16283999],\n       [ 1.8170826 ],\n       [-1.49998533],\n       [-1.54121585],\n       [ 1.96426485],\n       [ 0.80859047],\n       [ 1.22857051],\n       [ 1.61597014],\n       [ 1.29471864],\n       [ 0.4607469 ],\n       [-1.55100431],\n       [ 1.90540791],\n       [-0.4613423 ],\n       [ 1.71335028],\n       [ 0.93873984],\n       [-2.04804177],\n       [-1.32024901],\n       [ 0.15770864],\n       [ 1.34298905],\n       [-0.5625252 ],\n       [ 0.37654647],\n       [ 1.78093261],\n       [-2.11113324],\n       [-0.62197504],\n       [-0.14855117],\n       [ 1.77738959],\n       [-1.44035262],\n       [-0.31842344],\n       [ 0.74387089],\n       [-1.52212946],\n       [-1.1536229 ],\n       [ 1.19989839],\n       [ 2.0591881 ]])"
     },
     "execution_count": 146,
     "metadata": {},
     "output_type": "execute_result"
    }
   ],
   "source": [
    "previsores_lda"
   ],
   "metadata": {
    "collapsed": false,
    "ExecuteTime": {
     "end_time": "2024-03-11T03:12:31.849402600Z",
     "start_time": "2024-03-11T03:12:31.669175500Z"
    }
   },
   "id": "beeaba8d2137c9c4",
   "execution_count": 146
  },
  {
   "cell_type": "code",
   "outputs": [
    {
     "data": {
      "text/plain": "array([1.])"
     },
     "execution_count": 147,
     "metadata": {},
     "output_type": "execute_result"
    }
   ],
   "source": [
    "lda.explained_variance_ratio_"
   ],
   "metadata": {
    "collapsed": false,
    "ExecuteTime": {
     "end_time": "2024-03-11T03:12:32.016160500Z",
     "start_time": "2024-03-11T03:12:31.866172400Z"
    }
   },
   "id": "9d00402ee1509b1e",
   "execution_count": 147
  },
  {
   "cell_type": "code",
   "outputs": [
    {
     "data": {
      "text/plain": "1.0"
     },
     "execution_count": 148,
     "metadata": {},
     "output_type": "execute_result"
    }
   ],
   "source": [
    "lda.explained_variance_ratio_.sum()"
   ],
   "metadata": {
    "collapsed": false,
    "ExecuteTime": {
     "end_time": "2024-03-11T03:12:32.141863Z",
     "start_time": "2024-03-11T03:12:32.038145300Z"
    }
   },
   "id": "e4f533c7fcdfd8ec",
   "execution_count": 148
  },
  {
   "cell_type": "markdown",
   "source": [
    "# 43. Pré-processamento: Salvamento de variáveis"
   ],
   "metadata": {
    "collapsed": false
   },
   "id": "9ab6f46f3220e40e"
  },
  {
   "cell_type": "code",
   "outputs": [],
   "source": [
    "import pickle"
   ],
   "metadata": {
    "collapsed": false,
    "ExecuteTime": {
     "end_time": "2024-03-11T03:12:32.469079100Z",
     "start_time": "2024-03-11T03:12:32.344177400Z"
    }
   },
   "id": "aa713fbf27a156e7",
   "execution_count": 150
  },
  {
   "cell_type": "code",
   "outputs": [],
   "source": [
    "arq1 = open('Dataset/heart.pkl', 'wb') # Criando o arquivo"
   ],
   "metadata": {
    "collapsed": false,
    "ExecuteTime": {
     "end_time": "2024-03-11T03:12:32.603154600Z",
     "start_time": "2024-03-11T03:12:32.497362400Z"
    }
   },
   "id": "335d37d50e9a7cd6",
   "execution_count": 151
  },
  {
   "cell_type": "code",
   "outputs": [],
   "source": [
    "pickle.dump(alvo, arq1) # Salvando a variável no arquivo"
   ],
   "metadata": {
    "collapsed": false,
    "ExecuteTime": {
     "end_time": "2024-03-11T03:12:32.688275900Z",
     "start_time": "2024-03-11T03:12:32.616643700Z"
    }
   },
   "id": "8550ba0cb0726486",
   "execution_count": 152
  },
  {
   "cell_type": "code",
   "outputs": [],
   "source": [
    "arq1.close() # Fechando o arquivo"
   ],
   "metadata": {
    "collapsed": false,
    "ExecuteTime": {
     "end_time": "2024-03-11T03:12:32.813472200Z",
     "start_time": "2024-03-11T03:12:32.697705500Z"
    }
   },
   "id": "7bc8be385fedbcd9",
   "execution_count": 153
  },
  {
   "cell_type": "code",
   "outputs": [],
   "source": [
    "arq1 = open('Dataset/heart.pkl', 'rb') # Abrindo o arquivo"
   ],
   "metadata": {
    "collapsed": false,
    "ExecuteTime": {
     "end_time": "2024-03-11T03:12:32.952386Z",
     "start_time": "2024-03-11T03:12:32.828199600Z"
    }
   },
   "id": "40b6a4192191aca6",
   "execution_count": 154
  },
  {
   "cell_type": "code",
   "outputs": [],
   "source": [
    "alvo = pickle.load(arq1) # Lendo o arquivo"
   ],
   "metadata": {
    "collapsed": false,
    "ExecuteTime": {
     "end_time": "2024-03-11T03:12:33.028624500Z",
     "start_time": "2024-03-11T03:12:32.961411200Z"
    }
   },
   "id": "34f9971aaf2aaf74",
   "execution_count": 155
  },
  {
   "cell_type": "code",
   "outputs": [
    {
     "data": {
      "text/plain": "array([0, 1, 0, 1, 0, 0, 0, 0, 1, 0, 0, 1, 0, 1, 0, 0, 1, 0, 1, 1, 0, 0,\n       0, 1, 0, 0, 0, 0, 0, 0, 1, 0, 1, 1, 0, 0, 1, 0, 0, 0, 0, 1, 0, 0,\n       1, 0, 0, 0, 0, 1, 1, 1, 0, 0, 0, 0, 1, 1, 0, 1, 0, 0, 0, 1, 0, 0,\n       0, 0, 1, 0, 1, 0, 1, 0, 1, 0, 1, 0, 0, 1, 0, 0, 1, 0, 1, 1, 1, 0,\n       1, 0, 0, 0, 0, 1, 0, 1, 0, 0, 0, 0, 1, 0, 1, 1, 1, 0, 0, 0, 0, 0,\n       0, 1, 0, 0, 0, 1, 1, 1, 0, 1, 1, 0, 0, 1, 0, 0, 0, 0, 0, 0, 0, 1,\n       1, 1, 0, 1, 0, 0, 1, 1, 1, 1, 1, 0, 1, 0, 0, 0, 0, 1, 0, 0, 0, 0,\n       0, 1, 1, 0, 1, 0, 1, 1, 0, 0, 0, 1, 1, 0, 0, 0, 0, 0, 0, 0, 1, 1,\n       1, 0, 0, 0, 1, 0, 1, 0, 0, 1, 0, 1, 0, 1, 0, 0, 0, 0, 0, 0, 0, 0,\n       1, 0, 0, 0, 0, 0, 0, 0, 0, 1, 0, 1, 1, 1, 0, 0, 1, 0, 1, 0, 0, 0,\n       1, 1, 0, 0, 0, 1, 0, 1, 0, 0, 0, 0, 0, 0, 0, 0, 1, 1, 1, 1, 0, 1,\n       1, 0, 1, 0, 1, 1, 1, 1, 1, 1, 0, 0, 1, 0, 0, 0, 0, 0, 0, 0, 1, 1,\n       1, 0, 1, 0, 1, 0, 0, 0, 1, 0, 0, 0, 1, 1, 0, 0, 0, 1, 0, 0, 0, 0,\n       0, 0, 0, 0, 0, 0, 0, 1, 1, 1, 1, 1, 1, 1, 1, 0, 1, 1, 1, 1, 1, 0,\n       1, 1, 0, 1, 1, 1, 0, 1, 1, 1, 1, 1, 1, 1, 1, 1, 1, 1, 0, 1, 1, 1,\n       1, 1, 0, 1, 1, 1, 0, 1, 1, 1, 1, 1, 1, 1, 1, 1, 1, 1, 1, 1, 1, 1,\n       1, 1, 1, 1, 1, 1, 1, 1, 1, 1, 1, 1, 0, 1, 1, 1, 1, 1, 1, 1, 1, 1,\n       1, 1, 1, 1, 1, 1, 1, 1, 1, 1, 1, 1, 1, 1, 1, 1, 1, 1, 1, 1, 1, 1,\n       1, 1, 1, 1, 1, 1, 1, 1, 1, 1, 1, 1, 1, 1, 1, 1, 1, 1, 1, 1, 1, 0,\n       1, 1, 0, 0, 1, 0, 1, 1, 0, 1, 1, 1, 1, 0, 1, 1, 0, 0, 1, 1, 1, 0,\n       1, 1, 1, 1, 1, 1, 1, 1, 1, 1, 1, 1, 0, 1, 0, 1, 1, 1, 0, 1, 1, 1,\n       0, 1, 0, 1, 0, 1, 0, 1, 1, 1, 1, 0, 1, 0, 1, 1, 1, 1, 1, 1, 1, 1,\n       1, 0, 1, 0, 1, 1, 1, 1, 1, 1, 1, 0, 1, 1, 1, 1, 1, 1, 0, 1, 1, 1,\n       0, 1, 1, 0, 1, 0, 1, 1, 0, 1, 1, 1, 1, 0, 1, 1, 1, 0, 0, 1, 0, 1,\n       1, 1, 1, 1, 1, 1, 1, 1, 1, 1, 0, 1, 1, 1, 1, 0, 0, 1, 1, 1, 0, 1,\n       0, 1, 1, 0, 1, 0, 1, 1, 1, 0, 0, 0, 1, 1, 1, 0, 1, 1, 1, 1, 1, 1,\n       1, 1, 1, 1, 1, 1, 1, 1, 1, 1, 0, 1, 1, 1, 0, 1, 1, 0, 0, 1, 1, 1,\n       1, 1, 0, 1, 1, 0, 1, 1, 1, 0, 0, 1, 1, 1, 1, 1, 0, 1, 0, 1, 1, 0,\n       1, 0, 0, 0, 1, 1, 1, 1, 0, 0, 0, 1, 0, 0, 1, 1, 0, 0, 1, 0, 0, 0,\n       0, 0, 0, 0, 1, 0, 1, 0, 0, 1, 1, 1, 1, 1, 0, 0, 1, 0, 0, 0, 1, 0,\n       1, 1, 1, 1, 1, 0, 0, 0, 0, 0, 1, 0, 1, 1, 0, 1, 0, 0, 0, 1, 0, 1,\n       0, 1, 1, 0, 0, 0, 0, 1, 0, 0, 0, 0, 1, 1, 1, 0, 0, 0, 0, 0, 0, 1,\n       0, 1, 1, 1, 1, 1, 0, 1, 0, 0, 0, 1, 0, 1, 1, 1, 0, 1, 1, 0, 1, 0,\n       1, 0, 0, 0, 1, 1, 0, 1, 1, 1, 1, 0, 0, 0, 1, 0, 0, 1, 1, 1, 0, 1,\n       0, 0, 0, 1, 0, 0, 1, 0, 1, 0, 1, 1, 1, 1, 1, 0, 0, 0, 0, 0, 0, 0,\n       1, 0, 0, 1, 1, 1, 0, 1, 0, 0, 0, 0, 0, 1, 0, 1, 1, 0, 0, 1, 1, 1,\n       1, 0, 0, 1, 1, 0, 0, 0, 1, 0, 0, 1, 0, 1, 0, 1, 0, 0, 0, 0, 0, 1,\n       0, 1, 1, 1, 1, 0, 0, 0, 1, 0, 1, 0, 0, 1, 0, 0, 0, 0, 0, 0, 1, 1,\n       0, 1, 0, 0, 1, 1, 0, 0, 1, 1, 0, 1, 0, 1, 0, 1, 0, 0, 1, 0, 0, 1,\n       0, 1, 1, 0, 1, 1, 1, 0, 1, 0, 0, 0, 0, 1, 1, 0, 0, 1, 1, 0, 1, 0,\n       0, 0, 0, 1, 0, 0, 1, 1, 1, 0, 0, 0, 1, 0, 1, 0, 1, 0, 1, 1, 1, 0,\n       0, 0, 1, 0, 1, 1, 1, 0, 1, 1, 1, 1, 1, 1, 0], dtype=int64)"
     },
     "execution_count": 156,
     "metadata": {},
     "output_type": "execute_result"
    }
   ],
   "source": [
    "alvo"
   ],
   "metadata": {
    "collapsed": false,
    "ExecuteTime": {
     "end_time": "2024-03-11T03:12:33.179576Z",
     "start_time": "2024-03-11T03:12:33.082354400Z"
    }
   },
   "id": "603f371a740e71ed",
   "execution_count": 156
  },
  {
   "cell_type": "code",
   "outputs": [],
   "source": [
    "arq1.close() # Fechando o arquivo"
   ],
   "metadata": {
    "collapsed": false,
    "ExecuteTime": {
     "end_time": "2024-03-11T03:12:33.328571200Z",
     "start_time": "2024-03-11T03:12:33.188573500Z"
    }
   },
   "id": "f75512a9dd4aeb27",
   "execution_count": 157
  },
  {
   "cell_type": "markdown",
   "source": [
    "# 44. Separação entre treino e teste"
   ],
   "metadata": {
    "collapsed": false
   },
   "id": "b8b82dd752a1c680"
  },
  {
   "cell_type": "code",
   "outputs": [],
   "source": [
    "# Base de treino e teste\n",
    "from sklearn.model_selection import train_test_split"
   ],
   "metadata": {
    "collapsed": false,
    "ExecuteTime": {
     "end_time": "2024-03-11T03:12:33.550596700Z",
     "start_time": "2024-03-11T03:12:33.478930700Z"
    }
   },
   "id": "eaac1d78c42d16d2",
   "execution_count": 159
  },
  {
   "cell_type": "code",
   "outputs": [],
   "source": [
    "x_treino, x_teste, y_treino, y_teste = train_test_split(previsores3_esc, alvo, test_size=0.3, random_state=0)"
   ],
   "metadata": {
    "collapsed": false,
    "ExecuteTime": {
     "end_time": "2024-03-11T04:07:34.435073900Z",
     "start_time": "2024-03-11T04:07:34.036021500Z"
    }
   },
   "id": "64ce37c3c668f1bc",
   "execution_count": 310
  },
  {
   "cell_type": "code",
   "outputs": [
    {
     "data": {
      "text/plain": "(276, 20)"
     },
     "execution_count": 311,
     "metadata": {},
     "output_type": "execute_result"
    }
   ],
   "source": [
    "x_teste.shape"
   ],
   "metadata": {
    "collapsed": false,
    "ExecuteTime": {
     "end_time": "2024-03-11T04:07:35.947170Z",
     "start_time": "2024-03-11T04:07:35.770254200Z"
    }
   },
   "id": "225e5057f6851071",
   "execution_count": 311
  },
  {
   "cell_type": "code",
   "outputs": [
    {
     "data": {
      "text/plain": "(641,)"
     },
     "execution_count": 312,
     "metadata": {},
     "output_type": "execute_result"
    }
   ],
   "source": [
    "y_treino.shape"
   ],
   "metadata": {
    "collapsed": false,
    "ExecuteTime": {
     "end_time": "2024-03-11T04:07:36.949839700Z",
     "start_time": "2024-03-11T04:07:36.775076Z"
    }
   },
   "id": "9e382a174054be5",
   "execution_count": 312
  },
  {
   "cell_type": "code",
   "outputs": [
    {
     "data": {
      "text/plain": "(276,)"
     },
     "execution_count": 313,
     "metadata": {},
     "output_type": "execute_result"
    }
   ],
   "source": [
    "y_teste.shape"
   ],
   "metadata": {
    "collapsed": false,
    "ExecuteTime": {
     "end_time": "2024-03-11T04:07:38.470973100Z",
     "start_time": "2024-03-11T04:07:38.313402800Z"
    }
   },
   "id": "2322c132df464aea",
   "execution_count": 313
  },
  {
   "cell_type": "markdown",
   "source": [
    "# 45. Naive Bayes : Teoria\n",
    "\"\"\"\n",
    "P(A|B) = [P(B|A) * P(A)] / P(B)\n",
    "P(A|B)*P(B) = P(A^B) = P(B^A)\n",
    "\n",
    "Aplicações:\n",
    "> Filtros de spam.\n",
    "> Diagnostico médico.\n",
    "> Classificação de imagens.\n",
    "> Análise de crédito.\n",
    "> Separação de documentos.\n",
    "> Previsão de falhas.\n",
    "\n",
    "Vantagens:\n",
    "> Rápido e de fácil entendimento.\n",
    "> Pouco esforço computacional.\n",
    "> Bom desemprenho com muitos dados.\n",
    "> Boas previsões com poucos dados.\n",
    "\n",
    "Desvantagens:\n",
    "> Considera atributos independentes.\n",
    "> Atribuição de um valor nulo de probabilidade quando uma classe contida no conjunto de teste não se apresenta no conjunto de treino.\n",
    "\"\"\""
   ],
   "metadata": {
    "collapsed": false
   },
   "id": "88d6eb87fdbbc4db"
  },
  {
   "cell_type": "markdown",
   "source": [
    "# 46. Naive Bayes no Python\n",
    "\"https://scikit-learn.org/stable/modules/naive_bayes.html\""
   ],
   "metadata": {
    "collapsed": false
   },
   "id": "69ee1f9cfad55352"
  },
  {
   "cell_type": "code",
   "outputs": [],
   "source": [
    "# Naive Bayes\n",
    "from sklearn.naive_bayes import GaussianNB"
   ],
   "metadata": {
    "collapsed": false,
    "ExecuteTime": {
     "end_time": "2024-03-11T03:12:34.556978300Z",
     "start_time": "2024-03-11T03:12:34.440494800Z"
    }
   },
   "id": "839907b4b300721",
   "execution_count": 166
  },
  {
   "cell_type": "code",
   "outputs": [
    {
     "data": {
      "text/plain": "GaussianNB()",
      "text/html": "<style>#sk-container-id-3 {color: black;}#sk-container-id-3 pre{padding: 0;}#sk-container-id-3 div.sk-toggleable {background-color: white;}#sk-container-id-3 label.sk-toggleable__label {cursor: pointer;display: block;width: 100%;margin-bottom: 0;padding: 0.3em;box-sizing: border-box;text-align: center;}#sk-container-id-3 label.sk-toggleable__label-arrow:before {content: \"▸\";float: left;margin-right: 0.25em;color: #696969;}#sk-container-id-3 label.sk-toggleable__label-arrow:hover:before {color: black;}#sk-container-id-3 div.sk-estimator:hover label.sk-toggleable__label-arrow:before {color: black;}#sk-container-id-3 div.sk-toggleable__content {max-height: 0;max-width: 0;overflow: hidden;text-align: left;background-color: #f0f8ff;}#sk-container-id-3 div.sk-toggleable__content pre {margin: 0.2em;color: black;border-radius: 0.25em;background-color: #f0f8ff;}#sk-container-id-3 input.sk-toggleable__control:checked~div.sk-toggleable__content {max-height: 200px;max-width: 100%;overflow: auto;}#sk-container-id-3 input.sk-toggleable__control:checked~label.sk-toggleable__label-arrow:before {content: \"▾\";}#sk-container-id-3 div.sk-estimator input.sk-toggleable__control:checked~label.sk-toggleable__label {background-color: #d4ebff;}#sk-container-id-3 div.sk-label input.sk-toggleable__control:checked~label.sk-toggleable__label {background-color: #d4ebff;}#sk-container-id-3 input.sk-hidden--visually {border: 0;clip: rect(1px 1px 1px 1px);clip: rect(1px, 1px, 1px, 1px);height: 1px;margin: -1px;overflow: hidden;padding: 0;position: absolute;width: 1px;}#sk-container-id-3 div.sk-estimator {font-family: monospace;background-color: #f0f8ff;border: 1px dotted black;border-radius: 0.25em;box-sizing: border-box;margin-bottom: 0.5em;}#sk-container-id-3 div.sk-estimator:hover {background-color: #d4ebff;}#sk-container-id-3 div.sk-parallel-item::after {content: \"\";width: 100%;border-bottom: 1px solid gray;flex-grow: 1;}#sk-container-id-3 div.sk-label:hover label.sk-toggleable__label {background-color: #d4ebff;}#sk-container-id-3 div.sk-serial::before {content: \"\";position: absolute;border-left: 1px solid gray;box-sizing: border-box;top: 0;bottom: 0;left: 50%;z-index: 0;}#sk-container-id-3 div.sk-serial {display: flex;flex-direction: column;align-items: center;background-color: white;padding-right: 0.2em;padding-left: 0.2em;position: relative;}#sk-container-id-3 div.sk-item {position: relative;z-index: 1;}#sk-container-id-3 div.sk-parallel {display: flex;align-items: stretch;justify-content: center;background-color: white;position: relative;}#sk-container-id-3 div.sk-item::before, #sk-container-id-3 div.sk-parallel-item::before {content: \"\";position: absolute;border-left: 1px solid gray;box-sizing: border-box;top: 0;bottom: 0;left: 50%;z-index: -1;}#sk-container-id-3 div.sk-parallel-item {display: flex;flex-direction: column;z-index: 1;position: relative;background-color: white;}#sk-container-id-3 div.sk-parallel-item:first-child::after {align-self: flex-end;width: 50%;}#sk-container-id-3 div.sk-parallel-item:last-child::after {align-self: flex-start;width: 50%;}#sk-container-id-3 div.sk-parallel-item:only-child::after {width: 0;}#sk-container-id-3 div.sk-dashed-wrapped {border: 1px dashed gray;margin: 0 0.4em 0.5em 0.4em;box-sizing: border-box;padding-bottom: 0.4em;background-color: white;}#sk-container-id-3 div.sk-label label {font-family: monospace;font-weight: bold;display: inline-block;line-height: 1.2em;}#sk-container-id-3 div.sk-label-container {text-align: center;}#sk-container-id-3 div.sk-container {/* jupyter's `normalize.less` sets `[hidden] { display: none; }` but bootstrap.min.css set `[hidden] { display: none !important; }` so we also need the `!important` here to be able to override the default hidden behavior on the sphinx rendered scikit-learn.org. See: https://github.com/scikit-learn/scikit-learn/issues/21755 */display: inline-block !important;position: relative;}#sk-container-id-3 div.sk-text-repr-fallback {display: none;}</style><div id=\"sk-container-id-3\" class=\"sk-top-container\"><div class=\"sk-text-repr-fallback\"><pre>GaussianNB()</pre><b>In a Jupyter environment, please rerun this cell to show the HTML representation or trust the notebook. <br />On GitHub, the HTML representation is unable to render, please try loading this page with nbviewer.org.</b></div><div class=\"sk-container\" hidden><div class=\"sk-item\"><div class=\"sk-estimator sk-toggleable\"><input class=\"sk-toggleable__control sk-hidden--visually\" id=\"sk-estimator-id-3\" type=\"checkbox\" checked><label for=\"sk-estimator-id-3\" class=\"sk-toggleable__label sk-toggleable__label-arrow\">GaussianNB</label><div class=\"sk-toggleable__content\"><pre>GaussianNB()</pre></div></div></div></div></div>"
     },
     "execution_count": 167,
     "metadata": {},
     "output_type": "execute_result"
    }
   ],
   "source": [
    "# Treinamento do algoritmo\n",
    "naive = GaussianNB()\n",
    "naive.fit(x_treino, y_treino)"
   ],
   "metadata": {
    "collapsed": false,
    "ExecuteTime": {
     "end_time": "2024-03-11T03:12:34.670825300Z",
     "start_time": "2024-03-11T03:12:34.571200800Z"
    }
   },
   "id": "2db1945a9a61c654",
   "execution_count": 167
  },
  {
   "cell_type": "code",
   "outputs": [
    {
     "data": {
      "text/plain": "array([1, 1, 1, 0, 0, 0, 0, 0, 0, 0, 1, 1, 1, 1, 0, 1, 1, 1, 1, 0, 1, 1,\n       1, 0, 0, 0, 1, 1, 0, 1, 1, 0, 0, 0, 1, 0, 0, 0, 1, 0, 0, 1, 1, 1,\n       1, 0, 0, 1, 0, 1, 0, 0, 0, 1, 1, 0, 0, 0, 0, 0, 1, 0, 1, 0, 1, 1,\n       1, 0, 1, 0, 1, 1, 0, 1, 1, 1, 1, 1, 1, 1, 0, 1, 0, 0, 1, 1, 1, 1,\n       1, 0, 1, 0, 0, 0, 1, 0, 1, 0, 0, 0, 0, 0, 1, 1, 0, 1, 1, 0, 0, 1,\n       1, 1, 1, 1, 1, 1, 0, 1, 1, 1, 1, 1, 1, 0, 1, 1, 0, 1, 0, 1, 0, 1,\n       1, 1, 1, 1, 1, 1, 1, 0, 0, 1, 0, 1, 0, 0, 1, 1, 0, 0, 0, 1, 0, 0,\n       1, 0, 1, 1, 1, 0, 1, 1, 1, 0, 1, 0, 1, 0, 1, 0, 1, 1, 0, 0, 0, 1,\n       1, 0, 0, 1, 1, 1, 0, 1, 1, 1, 0, 1, 1, 0, 0, 0, 1, 1, 1, 1, 0, 0,\n       1, 0, 1, 1, 0, 1, 1, 0, 0, 0, 1, 0, 1, 1, 0, 0, 0, 0, 1, 0, 1, 1,\n       1, 0, 0, 1, 1, 1, 0, 1, 1, 1, 0, 1, 1, 1, 0, 1, 1, 1, 0, 1, 1, 0,\n       1, 0, 0, 0, 0, 0, 1, 0, 1, 0, 1, 0, 0, 0, 1, 0, 0, 1, 0, 1, 1, 0,\n       0, 0, 0, 0, 1, 0, 0, 0, 1, 1, 1, 0], dtype=int64)"
     },
     "execution_count": 168,
     "metadata": {},
     "output_type": "execute_result"
    }
   ],
   "source": [
    "# Avaliação do algoritmo\n",
    "previsoes_naive = naive.predict(x_teste)\n",
    "previsoes_naive"
   ],
   "metadata": {
    "collapsed": false,
    "ExecuteTime": {
     "end_time": "2024-03-11T03:12:34.783109700Z",
     "start_time": "2024-03-11T03:12:34.685177600Z"
    }
   },
   "id": "af9f4761fe9cef60",
   "execution_count": 168
  },
  {
   "cell_type": "code",
   "outputs": [
    {
     "data": {
      "text/plain": "array([1, 0, 1, 0, 0, 0, 0, 0, 0, 0, 1, 0, 1, 1, 0, 1, 1, 1, 1, 0, 1, 1,\n       1, 0, 0, 0, 1, 1, 0, 0, 1, 0, 0, 0, 1, 0, 1, 0, 1, 0, 0, 1, 1, 1,\n       1, 0, 0, 1, 1, 1, 1, 0, 0, 1, 1, 0, 0, 0, 1, 0, 1, 1, 1, 0, 1, 1,\n       1, 0, 1, 0, 1, 1, 1, 1, 1, 1, 1, 1, 1, 0, 0, 1, 0, 0, 1, 1, 0, 1,\n       1, 0, 1, 0, 0, 1, 1, 0, 1, 0, 0, 0, 0, 1, 1, 1, 0, 1, 0, 0, 0, 1,\n       0, 1, 1, 1, 0, 1, 1, 1, 1, 1, 1, 1, 1, 0, 0, 1, 0, 1, 0, 1, 0, 1,\n       0, 1, 0, 0, 0, 1, 1, 0, 1, 1, 0, 1, 0, 0, 1, 1, 1, 0, 1, 1, 0, 0,\n       0, 0, 1, 1, 1, 0, 1, 1, 1, 0, 1, 0, 1, 0, 1, 0, 1, 1, 0, 0, 1, 0,\n       0, 1, 0, 1, 1, 1, 0, 1, 1, 1, 0, 1, 1, 0, 0, 0, 1, 1, 1, 1, 1, 0,\n       1, 0, 1, 1, 0, 1, 1, 0, 0, 0, 1, 0, 1, 1, 0, 1, 0, 1, 1, 1, 1, 1,\n       1, 1, 0, 0, 0, 1, 0, 1, 1, 1, 0, 1, 0, 1, 1, 1, 1, 1, 0, 1, 1, 0,\n       1, 0, 1, 0, 0, 0, 1, 0, 1, 0, 1, 1, 0, 0, 1, 0, 0, 1, 0, 1, 1, 0,\n       0, 0, 0, 0, 1, 0, 0, 1, 1, 1, 1, 1], dtype=int64)"
     },
     "execution_count": 169,
     "metadata": {},
     "output_type": "execute_result"
    }
   ],
   "source": [
    "y_teste"
   ],
   "metadata": {
    "collapsed": false,
    "ExecuteTime": {
     "end_time": "2024-03-11T03:12:34.954247700Z",
     "start_time": "2024-03-11T03:12:34.796695100Z"
    }
   },
   "id": "e361b27a921f91a3",
   "execution_count": 169
  },
  {
   "cell_type": "code",
   "outputs": [],
   "source": [
    "from sklearn.metrics import accuracy_score, confusion_matrix, classification_report"
   ],
   "metadata": {
    "collapsed": false,
    "ExecuteTime": {
     "end_time": "2024-03-11T03:12:35.129648900Z",
     "start_time": "2024-03-11T03:12:34.986180800Z"
    }
   },
   "id": "7c9fe96545435698",
   "execution_count": 170
  },
  {
   "cell_type": "code",
   "outputs": [
    {
     "data": {
      "text/plain": "0.8442028985507246"
     },
     "execution_count": 171,
     "metadata": {},
     "output_type": "execute_result"
    }
   ],
   "source": [
    "accuracy_score(y_teste, previsoes_naive)"
   ],
   "metadata": {
    "collapsed": false,
    "ExecuteTime": {
     "end_time": "2024-03-11T03:12:35.234171100Z",
     "start_time": "2024-03-11T03:12:35.147454200Z"
    }
   },
   "id": "52d422f6f89e4eef",
   "execution_count": 171
  },
  {
   "cell_type": "code",
   "outputs": [
    {
     "name": "stdout",
     "output_type": "stream",
     "text": [
      "Acurácia: 84.42%\n"
     ]
    }
   ],
   "source": [
    "print(f'Acurácia: {accuracy_score(y_teste, previsoes_naive)*100:.2f}%')"
   ],
   "metadata": {
    "collapsed": false,
    "ExecuteTime": {
     "end_time": "2024-03-11T03:12:35.401120500Z",
     "start_time": "2024-03-11T03:12:35.246043900Z"
    }
   },
   "id": "e3b5928cd4bebfd8",
   "execution_count": 172
  },
  {
   "cell_type": "code",
   "outputs": [
    {
     "data": {
      "text/plain": "array([[102,  19],\n       [ 24, 131]], dtype=int64)"
     },
     "execution_count": 173,
     "metadata": {},
     "output_type": "execute_result"
    }
   ],
   "source": [
    "confusion_matrix(y_teste, previsoes_naive)"
   ],
   "metadata": {
    "collapsed": false,
    "ExecuteTime": {
     "end_time": "2024-03-11T03:12:35.588218100Z",
     "start_time": "2024-03-11T03:12:35.411120400Z"
    }
   },
   "id": "93146f7eab4684c9",
   "execution_count": 173
  },
  {
   "cell_type": "code",
   "outputs": [
    {
     "name": "stdout",
     "output_type": "stream",
     "text": [
      "              precision    recall  f1-score   support\n",
      "\n",
      "           0       0.81      0.84      0.83       121\n",
      "           1       0.87      0.85      0.86       155\n",
      "\n",
      "    accuracy                           0.84       276\n",
      "   macro avg       0.84      0.84      0.84       276\n",
      "weighted avg       0.85      0.84      0.84       276\n"
     ]
    }
   ],
   "source": [
    "print(classification_report(y_teste, previsoes_naive))"
   ],
   "metadata": {
    "collapsed": false,
    "ExecuteTime": {
     "end_time": "2024-03-11T03:12:35.748866500Z",
     "start_time": "2024-03-11T03:12:35.601460100Z"
    }
   },
   "id": "cba50bf5b157c6e6",
   "execution_count": 174
  },
  {
   "cell_type": "code",
   "outputs": [
    {
     "data": {
      "text/plain": "array([0, 0, 1, 1, 1, 1, 0, 0, 0, 0, 1, 0, 1, 1, 1, 0, 0, 0, 0, 1, 0, 0,\n       1, 1, 1, 0, 0, 1, 0, 1, 1, 0, 1, 1, 0, 0, 1, 1, 0, 1, 0, 1, 0, 0,\n       1, 1, 0, 1, 1, 1, 0, 0, 1, 0, 1, 0, 0, 0, 1, 0, 0, 0, 0, 0, 1, 1,\n       0, 1, 1, 0, 1, 1, 1, 1, 0, 0, 0, 1, 0, 1, 1, 1, 1, 1, 0, 1, 1, 1,\n       1, 1, 0, 1, 0, 0, 1, 1, 1, 1, 1, 1, 1, 1, 0, 1, 1, 1, 1, 0, 0, 1,\n       0, 0, 1, 0, 1, 0, 1, 0, 1, 0, 0, 0, 0, 1, 0, 1, 0, 0, 0, 1, 1, 0,\n       1, 1, 0, 0, 1, 0, 1, 1, 0, 1, 1, 1, 1, 1, 1, 0, 0, 1, 1, 0, 1, 0,\n       1, 0, 1, 1, 1, 1, 1, 0, 0, 0, 0, 1, 1, 0, 0, 0, 0, 1, 1, 0, 1, 0,\n       0, 1, 1, 0, 0, 0, 0, 0, 0, 1, 1, 1, 1, 0, 0, 0, 1, 0, 0, 0, 1, 1,\n       0, 1, 0, 1, 0, 1, 1, 1, 1, 1, 1, 0, 0, 0, 1, 1, 1, 1, 1, 0, 0, 1,\n       1, 0, 0, 1, 1, 0, 1, 1, 1, 1, 0, 1, 0, 1, 1, 0, 1, 0, 0, 0, 1, 0,\n       1, 1, 1, 1, 1, 1, 1, 0, 1, 1, 0, 0, 0, 0, 0, 0, 1, 0, 0, 1, 1, 0,\n       1, 0, 1, 0, 1, 0, 1, 1, 0, 1, 0, 1, 1, 0, 0, 0, 1, 0, 0, 0, 1, 1,\n       0, 1, 1, 1, 1, 0, 1, 1, 0, 1, 0, 1, 0, 1, 1, 0, 0, 1, 0, 1, 0, 1,\n       1, 0, 1, 0, 1, 0, 1, 0, 1, 0, 1, 0, 1, 1, 1, 1, 0, 1, 1, 1, 1, 0,\n       0, 0, 1, 0, 0, 0, 0, 1, 0, 1, 1, 1, 1, 1, 1, 0, 1, 1, 0, 1, 0, 1,\n       0, 0, 0, 0, 0, 0, 1, 0, 0, 1, 0, 1, 1, 0, 0, 0, 0, 0, 1, 1, 0, 1,\n       0, 1, 1, 1, 0, 0, 1, 1, 0, 1, 0, 1, 0, 0, 0, 1, 0, 1, 1, 0, 1, 1,\n       0, 0, 0, 1, 1, 1, 1, 0, 1, 0, 1, 1, 1, 0, 0, 1, 0, 1, 1, 1, 0, 0,\n       0, 1, 1, 1, 0, 1, 1, 0, 1, 0, 0, 0, 0, 1, 0, 1, 1, 1, 1, 0, 1, 1,\n       0, 0, 1, 1, 1, 1, 0, 1, 0, 0, 1, 0, 1, 1, 1, 1, 0, 0, 0, 1, 0, 1,\n       1, 1, 1, 1, 1, 0, 1, 1, 1, 1, 1, 1, 1, 1, 1, 0, 0, 0, 1, 0, 0, 0,\n       0, 0, 1, 0, 1, 1, 0, 0, 0, 1, 1, 0, 1, 1, 1, 0, 1, 1, 0, 0, 1, 1,\n       1, 0, 0, 0, 1, 1, 1, 1, 0, 1, 0, 0, 1, 0, 1, 1, 1, 0, 0, 1, 1, 0,\n       1, 0, 1, 0, 1, 0, 1, 0, 1, 0, 1, 1, 0, 1, 0, 1, 1, 0, 0, 1, 1, 1,\n       0, 1, 1, 0, 1, 0, 1, 1, 1, 0, 1, 1, 0, 0, 0, 0, 1, 0, 0, 1, 0, 1,\n       1, 0, 0, 0, 1, 0, 0, 0, 0, 0, 0, 1, 1, 1, 1, 0, 1, 0, 0, 0, 0, 0,\n       0, 0, 1, 0, 0, 0, 0, 0, 0, 0, 1, 0, 0, 1, 0, 0, 1, 0, 0, 1, 0, 1,\n       1, 1, 1, 1, 1, 0, 1, 0, 1, 1, 1, 1, 0, 1, 1, 0, 0, 0, 1, 0, 1, 0,\n       0, 0, 1], dtype=int64)"
     },
     "execution_count": 175,
     "metadata": {},
     "output_type": "execute_result"
    }
   ],
   "source": [
    "# Análise dos dados de treino\n",
    "previsoes_treino = naive.predict(x_treino)\n",
    "previsoes_treino"
   ],
   "metadata": {
    "collapsed": false,
    "ExecuteTime": {
     "end_time": "2024-03-11T03:12:35.873622300Z",
     "start_time": "2024-03-11T03:12:35.773881400Z"
    }
   },
   "id": "d2132b48912b80a",
   "execution_count": 175
  },
  {
   "cell_type": "code",
   "outputs": [
    {
     "data": {
      "text/plain": "0.8361934477379095"
     },
     "execution_count": 176,
     "metadata": {},
     "output_type": "execute_result"
    }
   ],
   "source": [
    "accuracy_score(y_treino, previsoes_treino)"
   ],
   "metadata": {
    "collapsed": false,
    "ExecuteTime": {
     "end_time": "2024-03-11T03:12:36.019933900Z",
     "start_time": "2024-03-11T03:12:35.894783500Z"
    }
   },
   "id": "90a1182bed9adcae",
   "execution_count": 176
  },
  {
   "cell_type": "code",
   "outputs": [
    {
     "data": {
      "text/plain": "array([[243,  46],\n       [ 59, 293]], dtype=int64)"
     },
     "execution_count": 177,
     "metadata": {},
     "output_type": "execute_result"
    }
   ],
   "source": [
    "confusion_matrix(y_treino, previsoes_treino)"
   ],
   "metadata": {
    "collapsed": false,
    "ExecuteTime": {
     "end_time": "2024-03-11T03:12:36.185953100Z",
     "start_time": "2024-03-11T03:12:36.032283Z"
    }
   },
   "id": "52b4990282737141",
   "execution_count": 177
  },
  {
   "cell_type": "code",
   "outputs": [
    {
     "name": "stdout",
     "output_type": "stream",
     "text": [
      "              precision    recall  f1-score   support\n",
      "\n",
      "           0       0.80      0.84      0.82       289\n",
      "           1       0.86      0.83      0.85       352\n",
      "\n",
      "    accuracy                           0.84       641\n",
      "   macro avg       0.83      0.84      0.84       641\n",
      "weighted avg       0.84      0.84      0.84       641\n"
     ]
    }
   ],
   "source": [
    "print(classification_report(y_treino, previsoes_treino))"
   ],
   "metadata": {
    "collapsed": false,
    "ExecuteTime": {
     "end_time": "2024-03-11T03:12:36.398860900Z",
     "start_time": "2024-03-11T03:12:36.251296900Z"
    }
   },
   "id": "3f110bb0d40e8599",
   "execution_count": 178
  },
  {
   "cell_type": "code",
   "outputs": [],
   "source": [
    "# Validação Cruzada\n",
    "from sklearn.model_selection import KFold\n",
    "from sklearn.model_selection import cross_val_score"
   ],
   "metadata": {
    "collapsed": false,
    "ExecuteTime": {
     "end_time": "2024-03-11T03:12:36.525851300Z",
     "start_time": "2024-03-11T03:12:36.412590700Z"
    }
   },
   "id": "f47e7b16953b26cb",
   "execution_count": 179
  },
  {
   "cell_type": "code",
   "outputs": [],
   "source": [
    "# Separando os dados em folds\n",
    "kfold = KFold(n_splits=30, shuffle=True, random_state=5)"
   ],
   "metadata": {
    "collapsed": false,
    "ExecuteTime": {
     "end_time": "2024-03-11T03:12:36.669955100Z",
     "start_time": "2024-03-11T03:12:36.538107100Z"
    }
   },
   "id": "4aae179add58cd39",
   "execution_count": 180
  },
  {
   "cell_type": "code",
   "outputs": [
    {
     "data": {
      "text/plain": "array([0.87096774, 0.87096774, 0.90322581, 0.80645161, 0.77419355,\n       0.90322581, 0.70967742, 0.87096774, 0.77419355, 0.87096774,\n       0.90322581, 0.77419355, 0.93548387, 0.90322581, 0.87096774,\n       0.87096774, 0.87096774, 0.93333333, 0.93333333, 0.9       ,\n       0.76666667, 0.83333333, 0.8       , 0.7       , 0.83333333,\n       0.93333333, 0.86666667, 0.9       , 0.86666667, 0.8       ])"
     },
     "execution_count": 181,
     "metadata": {},
     "output_type": "execute_result"
    }
   ],
   "source": [
    "# Criando o modelo\n",
    "modelo = GaussianNB()\n",
    "resultado = cross_val_score(modelo, previsores3_esc, alvo, cv=kfold)\n",
    "resultado"
   ],
   "metadata": {
    "collapsed": false,
    "ExecuteTime": {
     "end_time": "2024-03-11T03:12:36.873863500Z",
     "start_time": "2024-03-11T03:12:36.712067300Z"
    }
   },
   "id": "e8daf21a9e02b02b",
   "execution_count": 181
  },
  {
   "cell_type": "code",
   "outputs": [
    {
     "name": "stdout",
     "output_type": "stream",
     "text": [
      "Acurácia Média: 85.17%\n"
     ]
    }
   ],
   "source": [
    "# Usando a média e o desvio padrão\n",
    "print(f'Acurácia Média: {resultado.mean()*100:.2f}%')"
   ],
   "metadata": {
    "collapsed": false,
    "ExecuteTime": {
     "end_time": "2024-03-11T03:12:37.032713Z",
     "start_time": "2024-03-11T03:12:36.881862800Z"
    }
   },
   "id": "e196dd0955e3d363",
   "execution_count": 182
  },
  {
   "cell_type": "markdown",
   "source": [
    "# 47. Máquina de Vetor de Suporte (SVM): Teoria\n",
    "\"\"\"\n",
    "Equação:\n",
    "w-> * x-> +b >= 0\n",
    "Onde:\n",
    "w = Vetor hiperplano;\n",
    "x = vetor pertencente ao hiperplano;\n",
    "b = deslocamento em relação à origem;\n",
    "\n",
    "Aplicações:\n",
    "> Classificação e Regressão.\n",
    "> Categorização de textos.\n",
    "> Reconhecimento de imagem.\n",
    "> Detecção facial.\n",
    "> Detecção e anomalias.\n",
    "> Reconhecimento de letras manuscritas.\n",
    "\n",
    "Constante de Penalização (custo)\n",
    "> Hiperparâmetro C: controla a tolerância a erros.\n",
    "    - Quanto maior o valor de C, maior a probabilidade de overfitting e o tempo.\n",
    "    - Quanto menor o valor de C, maior o tempo de treinamento e maior a probabilidade de underfitting.\n",
    "    \n",
    "> Ajuste do hiperparâmetro Gama para otimização.\n",
    "\n",
    "Vantagens: \n",
    "> Não é influenciado por dados discrepantes.\n",
    "> Solução de problemas lineares e não lineares.\n",
    "> Muito efetivo para datasets grandes.\n",
    "> Consegue aprender com características não pertencentes aos dados.\n",
    "\n",
    "Desvantagens:\n",
    "> Difícil interpretação teórica devido à matemática complexa.\n",
    "> Difícil visualização gráfica.\n",
    "> É lento comparado a outros algoritmos.\n",
    "\"\"\""
   ],
   "metadata": {
    "collapsed": false
   },
   "id": "f935c5f6471e5f7d"
  },
  {
   "cell_type": "markdown",
   "source": [
    "# 48. Máquina de Vetor de Suporte (SVM): Aplicação"
   ],
   "metadata": {
    "collapsed": false
   },
   "id": "d021eaa8f46f1fcb"
  },
  {
   "cell_type": "code",
   "outputs": [
    {
     "data": {
      "text/plain": "'https://scikit-learn.org/stable/modules/generated/sklearn.svm.SVC.html'"
     },
     "execution_count": 186,
     "metadata": {},
     "output_type": "execute_result"
    }
   ],
   "source": [
    "# Máquinas de Vetores de Suporte (SVM)\n",
    "\"https://scikit-learn.org/stable/modules/generated/sklearn.svm.SVC.html\""
   ],
   "metadata": {
    "collapsed": false,
    "ExecuteTime": {
     "end_time": "2024-03-11T03:12:38.759885500Z",
     "start_time": "2024-03-11T03:12:38.532874100Z"
    }
   },
   "id": "575c07aedd02a5dd",
   "execution_count": 186
  },
  {
   "cell_type": "code",
   "outputs": [],
   "source": [
    "from sklearn.svm import SVC"
   ],
   "metadata": {
    "collapsed": false,
    "ExecuteTime": {
     "end_time": "2024-03-11T04:08:08.505465800Z",
     "start_time": "2024-03-11T04:08:08.396530900Z"
    }
   },
   "id": "16f6a4fc9c911d5f",
   "execution_count": 315
  },
  {
   "cell_type": "code",
   "outputs": [
    {
     "data": {
      "text/plain": "SVC(C=2, random_state=1)",
      "text/html": "<style>#sk-container-id-21 {color: black;}#sk-container-id-21 pre{padding: 0;}#sk-container-id-21 div.sk-toggleable {background-color: white;}#sk-container-id-21 label.sk-toggleable__label {cursor: pointer;display: block;width: 100%;margin-bottom: 0;padding: 0.3em;box-sizing: border-box;text-align: center;}#sk-container-id-21 label.sk-toggleable__label-arrow:before {content: \"▸\";float: left;margin-right: 0.25em;color: #696969;}#sk-container-id-21 label.sk-toggleable__label-arrow:hover:before {color: black;}#sk-container-id-21 div.sk-estimator:hover label.sk-toggleable__label-arrow:before {color: black;}#sk-container-id-21 div.sk-toggleable__content {max-height: 0;max-width: 0;overflow: hidden;text-align: left;background-color: #f0f8ff;}#sk-container-id-21 div.sk-toggleable__content pre {margin: 0.2em;color: black;border-radius: 0.25em;background-color: #f0f8ff;}#sk-container-id-21 input.sk-toggleable__control:checked~div.sk-toggleable__content {max-height: 200px;max-width: 100%;overflow: auto;}#sk-container-id-21 input.sk-toggleable__control:checked~label.sk-toggleable__label-arrow:before {content: \"▾\";}#sk-container-id-21 div.sk-estimator input.sk-toggleable__control:checked~label.sk-toggleable__label {background-color: #d4ebff;}#sk-container-id-21 div.sk-label input.sk-toggleable__control:checked~label.sk-toggleable__label {background-color: #d4ebff;}#sk-container-id-21 input.sk-hidden--visually {border: 0;clip: rect(1px 1px 1px 1px);clip: rect(1px, 1px, 1px, 1px);height: 1px;margin: -1px;overflow: hidden;padding: 0;position: absolute;width: 1px;}#sk-container-id-21 div.sk-estimator {font-family: monospace;background-color: #f0f8ff;border: 1px dotted black;border-radius: 0.25em;box-sizing: border-box;margin-bottom: 0.5em;}#sk-container-id-21 div.sk-estimator:hover {background-color: #d4ebff;}#sk-container-id-21 div.sk-parallel-item::after {content: \"\";width: 100%;border-bottom: 1px solid gray;flex-grow: 1;}#sk-container-id-21 div.sk-label:hover label.sk-toggleable__label {background-color: #d4ebff;}#sk-container-id-21 div.sk-serial::before {content: \"\";position: absolute;border-left: 1px solid gray;box-sizing: border-box;top: 0;bottom: 0;left: 50%;z-index: 0;}#sk-container-id-21 div.sk-serial {display: flex;flex-direction: column;align-items: center;background-color: white;padding-right: 0.2em;padding-left: 0.2em;position: relative;}#sk-container-id-21 div.sk-item {position: relative;z-index: 1;}#sk-container-id-21 div.sk-parallel {display: flex;align-items: stretch;justify-content: center;background-color: white;position: relative;}#sk-container-id-21 div.sk-item::before, #sk-container-id-21 div.sk-parallel-item::before {content: \"\";position: absolute;border-left: 1px solid gray;box-sizing: border-box;top: 0;bottom: 0;left: 50%;z-index: -1;}#sk-container-id-21 div.sk-parallel-item {display: flex;flex-direction: column;z-index: 1;position: relative;background-color: white;}#sk-container-id-21 div.sk-parallel-item:first-child::after {align-self: flex-end;width: 50%;}#sk-container-id-21 div.sk-parallel-item:last-child::after {align-self: flex-start;width: 50%;}#sk-container-id-21 div.sk-parallel-item:only-child::after {width: 0;}#sk-container-id-21 div.sk-dashed-wrapped {border: 1px dashed gray;margin: 0 0.4em 0.5em 0.4em;box-sizing: border-box;padding-bottom: 0.4em;background-color: white;}#sk-container-id-21 div.sk-label label {font-family: monospace;font-weight: bold;display: inline-block;line-height: 1.2em;}#sk-container-id-21 div.sk-label-container {text-align: center;}#sk-container-id-21 div.sk-container {/* jupyter's `normalize.less` sets `[hidden] { display: none; }` but bootstrap.min.css set `[hidden] { display: none !important; }` so we also need the `!important` here to be able to override the default hidden behavior on the sphinx rendered scikit-learn.org. See: https://github.com/scikit-learn/scikit-learn/issues/21755 */display: inline-block !important;position: relative;}#sk-container-id-21 div.sk-text-repr-fallback {display: none;}</style><div id=\"sk-container-id-21\" class=\"sk-top-container\"><div class=\"sk-text-repr-fallback\"><pre>SVC(C=2, random_state=1)</pre><b>In a Jupyter environment, please rerun this cell to show the HTML representation or trust the notebook. <br />On GitHub, the HTML representation is unable to render, please try loading this page with nbviewer.org.</b></div><div class=\"sk-container\" hidden><div class=\"sk-item\"><div class=\"sk-estimator sk-toggleable\"><input class=\"sk-toggleable__control sk-hidden--visually\" id=\"sk-estimator-id-21\" type=\"checkbox\" checked><label for=\"sk-estimator-id-21\" class=\"sk-toggleable__label sk-toggleable__label-arrow\">SVC</label><div class=\"sk-toggleable__content\"><pre>SVC(C=2, random_state=1)</pre></div></div></div></div></div>"
     },
     "execution_count": 354,
     "metadata": {},
     "output_type": "execute_result"
    }
   ],
   "source": [
    "svm = SVC(kernel = 'rbf', random_state=1, C=2)\n",
    "svm.fit(x_treino, y_treino)"
   ],
   "metadata": {
    "collapsed": false,
    "ExecuteTime": {
     "end_time": "2024-03-11T04:14:27.459997900Z",
     "start_time": "2024-03-11T04:14:26.359668400Z"
    }
   },
   "id": "e6d1c36ed66f2f63",
   "execution_count": 354
  },
  {
   "cell_type": "code",
   "outputs": [
    {
     "data": {
      "text/plain": "array([1, 1, 1, 0, 0, 0, 1, 0, 0, 0, 1, 1, 1, 1, 0, 1, 1, 1, 1, 0, 1, 1,\n       1, 0, 0, 0, 1, 1, 1, 1, 1, 0, 0, 0, 1, 0, 0, 0, 1, 0, 0, 1, 1, 1,\n       1, 0, 0, 1, 0, 1, 1, 0, 0, 0, 1, 0, 0, 0, 0, 0, 1, 1, 1, 0, 1, 1,\n       1, 0, 1, 0, 1, 1, 0, 1, 1, 1, 1, 1, 1, 1, 1, 1, 0, 0, 1, 1, 1, 1,\n       1, 0, 1, 0, 0, 0, 1, 0, 1, 0, 0, 0, 0, 1, 1, 1, 0, 1, 0, 0, 0, 1,\n       1, 1, 1, 1, 0, 1, 1, 1, 1, 1, 1, 1, 1, 0, 1, 1, 0, 1, 0, 1, 0, 1,\n       1, 1, 0, 1, 0, 1, 1, 0, 1, 1, 0, 1, 0, 0, 1, 1, 1, 0, 1, 1, 0, 0,\n       1, 0, 1, 1, 1, 0, 1, 1, 1, 0, 1, 0, 1, 0, 1, 0, 1, 1, 0, 0, 1, 1,\n       1, 0, 0, 1, 1, 1, 0, 1, 1, 1, 0, 1, 1, 0, 1, 0, 1, 1, 1, 0, 0, 0,\n       1, 0, 1, 1, 0, 1, 1, 0, 0, 0, 1, 1, 1, 1, 0, 1, 0, 0, 1, 0, 1, 1,\n       1, 0, 0, 1, 1, 1, 0, 1, 0, 1, 0, 1, 1, 1, 0, 1, 1, 1, 0, 1, 1, 0,\n       1, 0, 0, 0, 0, 0, 1, 0, 1, 0, 1, 0, 0, 0, 1, 0, 0, 1, 0, 1, 1, 0,\n       1, 1, 0, 0, 1, 0, 0, 1, 1, 1, 1, 1], dtype=int64)"
     },
     "execution_count": 355,
     "metadata": {},
     "output_type": "execute_result"
    }
   ],
   "source": [
    "previsoes_svm = svm.predict(x_teste)\n",
    "previsoes_svm"
   ],
   "metadata": {
    "collapsed": false,
    "ExecuteTime": {
     "end_time": "2024-03-11T04:14:27.892478800Z",
     "start_time": "2024-03-11T04:14:27.543039600Z"
    }
   },
   "id": "49939fdbd9dcdff3",
   "execution_count": 355
  },
  {
   "cell_type": "code",
   "outputs": [
    {
     "data": {
      "text/plain": "array([1, 0, 1, 0, 0, 0, 0, 0, 0, 0, 1, 0, 1, 1, 0, 1, 1, 1, 1, 0, 1, 1,\n       1, 0, 0, 0, 1, 1, 0, 0, 1, 0, 0, 0, 1, 0, 1, 0, 1, 0, 0, 1, 1, 1,\n       1, 0, 0, 1, 1, 1, 1, 0, 0, 1, 1, 0, 0, 0, 1, 0, 1, 1, 1, 0, 1, 1,\n       1, 0, 1, 0, 1, 1, 1, 1, 1, 1, 1, 1, 1, 0, 0, 1, 0, 0, 1, 1, 0, 1,\n       1, 0, 1, 0, 0, 1, 1, 0, 1, 0, 0, 0, 0, 1, 1, 1, 0, 1, 0, 0, 0, 1,\n       0, 1, 1, 1, 0, 1, 1, 1, 1, 1, 1, 1, 1, 0, 0, 1, 0, 1, 0, 1, 0, 1,\n       0, 1, 0, 0, 0, 1, 1, 0, 1, 1, 0, 1, 0, 0, 1, 1, 1, 0, 1, 1, 0, 0,\n       0, 0, 1, 1, 1, 0, 1, 1, 1, 0, 1, 0, 1, 0, 1, 0, 1, 1, 0, 0, 1, 0,\n       0, 1, 0, 1, 1, 1, 0, 1, 1, 1, 0, 1, 1, 0, 0, 0, 1, 1, 1, 1, 1, 0,\n       1, 0, 1, 1, 0, 1, 1, 0, 0, 0, 1, 0, 1, 1, 0, 1, 0, 1, 1, 1, 1, 1,\n       1, 1, 0, 0, 0, 1, 0, 1, 1, 1, 0, 1, 0, 1, 1, 1, 1, 1, 0, 1, 1, 0,\n       1, 0, 1, 0, 0, 0, 1, 0, 1, 0, 1, 1, 0, 0, 1, 0, 0, 1, 0, 1, 1, 0,\n       0, 0, 0, 0, 1, 0, 0, 1, 1, 1, 1, 1], dtype=int64)"
     },
     "execution_count": 356,
     "metadata": {},
     "output_type": "execute_result"
    }
   ],
   "source": [
    "y_teste"
   ],
   "metadata": {
    "collapsed": false,
    "ExecuteTime": {
     "end_time": "2024-03-11T04:14:29.524473900Z",
     "start_time": "2024-03-11T04:14:29.293476Z"
    }
   },
   "id": "1810cb43f9bb56a",
   "execution_count": 356
  },
  {
   "cell_type": "code",
   "outputs": [],
   "source": [
    "from sklearn.metrics import accuracy_score, confusion_matrix, classification_report"
   ],
   "metadata": {
    "collapsed": false,
    "ExecuteTime": {
     "end_time": "2024-03-11T04:14:30.539893Z",
     "start_time": "2024-03-11T04:14:30.273509100Z"
    }
   },
   "id": "19b8bcfd78207721",
   "execution_count": 357
  },
  {
   "cell_type": "code",
   "outputs": [
    {
     "data": {
      "text/plain": "0.8623188405797102"
     },
     "execution_count": 358,
     "metadata": {},
     "output_type": "execute_result"
    }
   ],
   "source": [
    "accuracy_score(y_teste, previsoes_svm)"
   ],
   "metadata": {
    "collapsed": false,
    "ExecuteTime": {
     "end_time": "2024-03-11T04:14:33.145440800Z",
     "start_time": "2024-03-11T04:14:32.910760900Z"
    }
   },
   "id": "a9c0dcc210c817c1",
   "execution_count": 358
  },
  {
   "cell_type": "code",
   "outputs": [
    {
     "name": "stdout",
     "output_type": "stream",
     "text": [
      "Acurácia: 86.23%\n"
     ]
    }
   ],
   "source": [
    "print(f'Acurácia: {accuracy_score(y_teste, previsoes_svm)*100:.2f}%')"
   ],
   "metadata": {
    "collapsed": false,
    "ExecuteTime": {
     "end_time": "2024-03-11T04:14:34.667079Z",
     "start_time": "2024-03-11T04:14:34.511017300Z"
    }
   },
   "id": "b500622deb63f12a",
   "execution_count": 359
  },
  {
   "cell_type": "code",
   "outputs": [
    {
     "data": {
      "text/plain": "array([[ 99,  22],\n       [ 16, 139]], dtype=int64)"
     },
     "execution_count": 360,
     "metadata": {},
     "output_type": "execute_result"
    }
   ],
   "source": [
    "confusion_matrix(y_teste, previsoes_svm)"
   ],
   "metadata": {
    "collapsed": false,
    "ExecuteTime": {
     "end_time": "2024-03-11T04:14:36.309896700Z",
     "start_time": "2024-03-11T04:14:36.081522500Z"
    }
   },
   "id": "80cf6005730be87d",
   "execution_count": 360
  },
  {
   "cell_type": "code",
   "outputs": [
    {
     "name": "stdout",
     "output_type": "stream",
     "text": [
      "              precision    recall  f1-score   support\n",
      "\n",
      "           0       0.86      0.82      0.84       121\n",
      "           1       0.86      0.90      0.88       155\n",
      "\n",
      "    accuracy                           0.86       276\n",
      "   macro avg       0.86      0.86      0.86       276\n",
      "weighted avg       0.86      0.86      0.86       276\n"
     ]
    }
   ],
   "source": [
    "print(classification_report(y_teste, previsoes_svm))"
   ],
   "metadata": {
    "collapsed": false,
    "ExecuteTime": {
     "end_time": "2024-03-11T04:14:37.871421400Z",
     "start_time": "2024-03-11T04:14:37.565519300Z"
    }
   },
   "id": "6de0152933b0d9b8",
   "execution_count": 361
  },
  {
   "cell_type": "code",
   "outputs": [
    {
     "data": {
      "text/plain": "array([1, 0, 1, 1, 1, 1, 0, 0, 0, 0, 1, 0, 1, 0, 1, 0, 0, 0, 0, 1, 0, 1,\n       1, 1, 1, 0, 0, 1, 1, 1, 1, 0, 1, 1, 0, 0, 1, 1, 0, 1, 0, 1, 0, 0,\n       1, 1, 0, 1, 1, 1, 0, 0, 1, 0, 1, 1, 1, 0, 1, 0, 0, 0, 1, 0, 1, 1,\n       0, 0, 1, 0, 1, 1, 1, 1, 0, 0, 1, 1, 1, 1, 1, 1, 1, 1, 0, 1, 1, 1,\n       1, 1, 0, 1, 0, 0, 1, 1, 1, 1, 1, 1, 1, 1, 0, 0, 1, 1, 1, 0, 1, 1,\n       0, 0, 1, 0, 1, 0, 1, 0, 1, 0, 0, 0, 0, 1, 0, 1, 0, 0, 1, 1, 1, 0,\n       1, 1, 0, 0, 1, 0, 1, 0, 0, 1, 1, 1, 1, 1, 0, 0, 0, 1, 1, 0, 1, 0,\n       1, 0, 1, 1, 1, 0, 1, 0, 0, 0, 1, 1, 1, 0, 0, 0, 0, 1, 1, 0, 1, 0,\n       0, 1, 1, 0, 0, 0, 0, 0, 0, 1, 1, 1, 1, 1, 0, 0, 1, 0, 0, 1, 1, 1,\n       1, 1, 0, 0, 0, 1, 1, 0, 1, 1, 0, 0, 1, 0, 1, 1, 1, 1, 1, 0, 0, 1,\n       1, 0, 0, 1, 1, 1, 1, 1, 1, 1, 1, 1, 0, 1, 1, 0, 1, 0, 1, 0, 1, 0,\n       1, 1, 1, 1, 1, 1, 1, 1, 1, 1, 0, 0, 0, 0, 0, 0, 0, 0, 1, 0, 1, 0,\n       1, 0, 1, 1, 1, 1, 1, 1, 0, 0, 0, 1, 1, 0, 0, 0, 1, 0, 0, 0, 1, 1,\n       1, 1, 1, 1, 1, 0, 1, 1, 0, 1, 0, 0, 0, 1, 1, 0, 0, 1, 0, 0, 1, 1,\n       1, 0, 1, 0, 1, 0, 1, 0, 1, 1, 1, 0, 1, 1, 1, 1, 0, 1, 1, 1, 1, 0,\n       0, 0, 1, 0, 0, 0, 1, 1, 0, 1, 1, 1, 1, 1, 1, 0, 1, 1, 0, 1, 0, 1,\n       0, 0, 0, 1, 0, 1, 1, 1, 0, 1, 0, 1, 1, 0, 0, 0, 0, 0, 1, 1, 1, 1,\n       0, 1, 1, 1, 1, 1, 1, 1, 0, 1, 0, 1, 0, 0, 1, 1, 0, 1, 1, 1, 1, 1,\n       0, 0, 0, 1, 1, 1, 1, 0, 1, 0, 1, 1, 1, 0, 0, 0, 0, 1, 1, 1, 0, 0,\n       0, 1, 1, 0, 0, 1, 1, 1, 0, 1, 0, 0, 0, 1, 1, 1, 1, 1, 1, 0, 1, 1,\n       0, 0, 1, 1, 0, 1, 0, 1, 0, 0, 1, 0, 1, 1, 1, 1, 0, 0, 0, 1, 0, 1,\n       1, 1, 1, 1, 1, 0, 1, 0, 1, 1, 1, 1, 1, 1, 1, 0, 0, 0, 1, 0, 0, 0,\n       0, 0, 1, 0, 1, 1, 0, 0, 0, 1, 1, 0, 0, 1, 1, 0, 1, 1, 0, 0, 1, 1,\n       1, 1, 0, 0, 1, 1, 1, 1, 0, 1, 0, 0, 1, 0, 1, 1, 1, 1, 0, 1, 1, 0,\n       1, 0, 1, 0, 1, 0, 1, 0, 1, 0, 1, 1, 0, 1, 1, 1, 1, 0, 0, 1, 1, 0,\n       0, 1, 1, 0, 1, 0, 1, 1, 1, 0, 1, 1, 0, 1, 0, 1, 1, 0, 1, 1, 0, 1,\n       1, 1, 0, 1, 1, 0, 0, 0, 0, 1, 0, 1, 1, 1, 1, 0, 1, 0, 0, 0, 0, 0,\n       0, 0, 1, 0, 0, 0, 0, 0, 0, 0, 1, 0, 1, 1, 1, 1, 1, 1, 1, 1, 0, 1,\n       1, 1, 0, 1, 1, 0, 1, 1, 1, 1, 1, 1, 0, 1, 1, 0, 0, 1, 1, 0, 1, 0,\n       0, 0, 1], dtype=int64)"
     },
     "execution_count": 362,
     "metadata": {},
     "output_type": "execute_result"
    }
   ],
   "source": [
    "# Análise de dados de treino\n",
    "previsoes_treino = svm.predict(x_treino)\n",
    "previsoes_treino"
   ],
   "metadata": {
    "collapsed": false,
    "ExecuteTime": {
     "end_time": "2024-03-11T04:14:40.268283100Z",
     "start_time": "2024-03-11T04:14:40.025437Z"
    }
   },
   "id": "c269aff4a2ffcb0",
   "execution_count": 362
  },
  {
   "cell_type": "code",
   "outputs": [
    {
     "data": {
      "text/plain": "0.9282371294851794"
     },
     "execution_count": 363,
     "metadata": {},
     "output_type": "execute_result"
    }
   ],
   "source": [
    "accuracy_score(y_treino, previsoes_treino)"
   ],
   "metadata": {
    "collapsed": false,
    "ExecuteTime": {
     "end_time": "2024-03-11T04:14:41.826281Z",
     "start_time": "2024-03-11T04:14:41.565769700Z"
    }
   },
   "id": "be79386d5618f639",
   "execution_count": 363
  },
  {
   "cell_type": "code",
   "outputs": [
    {
     "data": {
      "text/plain": "array([[257,  32],\n       [ 14, 338]], dtype=int64)"
     },
     "execution_count": 364,
     "metadata": {},
     "output_type": "execute_result"
    }
   ],
   "source": [
    "confusion_matrix(y_treino, previsoes_treino)"
   ],
   "metadata": {
    "collapsed": false,
    "ExecuteTime": {
     "end_time": "2024-03-11T04:14:43.838511800Z",
     "start_time": "2024-03-11T04:14:43.670590Z"
    }
   },
   "id": "fa1bfaf81a78b6ba",
   "execution_count": 364
  },
  {
   "cell_type": "code",
   "outputs": [],
   "source": [
    "# Validaçõa Cruzada\n",
    "from sklearn.model_selection import KFold\n",
    "from sklearn.model_selection import cross_val_score"
   ],
   "metadata": {
    "collapsed": false,
    "ExecuteTime": {
     "end_time": "2024-03-11T04:14:45.502526600Z",
     "start_time": "2024-03-11T04:14:45.302413100Z"
    }
   },
   "id": "ae5edd81526e1b15",
   "execution_count": 365
  },
  {
   "cell_type": "code",
   "outputs": [],
   "source": [
    "# Separando os dados em folds\n",
    "kfold = KFold(n_splits=30, shuffle=True, random_state=5)"
   ],
   "metadata": {
    "collapsed": false,
    "ExecuteTime": {
     "end_time": "2024-03-11T04:15:43.172202600Z",
     "start_time": "2024-03-11T04:15:42.265368800Z"
    }
   },
   "id": "ff40a1d4b0fd895b",
   "execution_count": 367
  },
  {
   "cell_type": "code",
   "outputs": [
    {
     "data": {
      "text/plain": "array([0.96774194, 0.83870968, 0.87096774, 0.90322581, 0.83870968,\n       0.87096774, 0.70967742, 0.87096774, 0.80645161, 0.80645161,\n       0.87096774, 0.80645161, 0.96774194, 0.90322581, 0.80645161,\n       0.83870968, 0.80645161, 0.93333333, 0.86666667, 0.93333333,\n       0.83333333, 0.86666667, 0.86666667, 0.63333333, 0.83333333,\n       0.93333333, 0.9       , 0.86666667, 0.9       , 0.86666667])"
     },
     "execution_count": 370,
     "metadata": {},
     "output_type": "execute_result"
    }
   ],
   "source": [
    "# Criando o modelo\n",
    "modelo = SVC(kernel = 'rbf', random_state=1, C=2)\n",
    "resultado = cross_val_score(modelo, previsores3_esc, alvo, cv=kfold)\n",
    "resultado"
   ],
   "metadata": {
    "collapsed": false,
    "ExecuteTime": {
     "end_time": "2024-03-11T04:16:22.742102700Z",
     "start_time": "2024-03-11T04:16:20.917133Z"
    }
   },
   "id": "ce0154844800c80e",
   "execution_count": 370
  },
  {
   "cell_type": "code",
   "outputs": [
    {
     "name": "stdout",
     "output_type": "stream",
     "text": [
      "Acurácia Média: 85.72%\n"
     ]
    }
   ],
   "source": [
    "# Usando a média e o desvio padrão\n",
    "print(f'Acurácia Média: {resultado.mean()*100:.2f}%')"
   ],
   "metadata": {
    "collapsed": false,
    "ExecuteTime": {
     "end_time": "2024-03-11T04:16:24.938355200Z",
     "start_time": "2024-03-11T04:16:24.776240Z"
    }
   },
   "id": "77c0eb85fc2640f7",
   "execution_count": 371
  },
  {
   "cell_type": "code",
   "outputs": [],
   "source": [],
   "metadata": {
    "collapsed": false
   },
   "id": "3a399e8faceaf9e5"
  }
 ],
 "metadata": {
  "kernelspec": {
   "display_name": "Python 3",
   "language": "python",
   "name": "python3"
  },
  "language_info": {
   "codemirror_mode": {
    "name": "ipython",
    "version": 2
   },
   "file_extension": ".py",
   "mimetype": "text/x-python",
   "name": "python",
   "nbconvert_exporter": "python",
   "pygments_lexer": "ipython2",
   "version": "2.7.6"
  }
 },
 "nbformat": 4,
 "nbformat_minor": 5
}
