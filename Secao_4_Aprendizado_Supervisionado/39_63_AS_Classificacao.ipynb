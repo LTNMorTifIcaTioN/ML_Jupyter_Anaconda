{
 "cells": [
  {
   "cell_type": "markdown",
   "source": [
    "# 39. Pré-processamento dos dados: variáveis categóricas"
   ],
   "metadata": {
    "collapsed": false
   },
   "id": "f43b15ffc434c6ae"
  },
  {
   "cell_type": "code",
   "source": [
    "# Pré-processamento\n",
    "import numpy as np\n",
    "import pandas as pd\n",
    "df = pd.read_csv('Dataset/heart_tratado.csv', sep=',', encoding='utf-8')"
   ],
   "metadata": {
    "collapsed": false,
    "ExecuteTime": {
     "end_time": "2024-04-09T03:38:01.782520Z",
     "start_time": "2024-04-09T03:38:01.745405Z"
    }
   },
   "id": "51a7670725738719",
   "outputs": [],
   "execution_count": 247
  },
  {
   "cell_type": "code",
   "source": [
    "df.head(10)"
   ],
   "metadata": {
    "collapsed": false,
    "ExecuteTime": {
     "end_time": "2024-04-09T03:38:16.192114Z",
     "start_time": "2024-04-09T03:38:16.164666Z"
    }
   },
   "id": "af06cbd139788b66",
   "outputs": [
    {
     "data": {
      "text/plain": [
       "   Age Sex ChestPainType  RestingBP  Cholesterol  FastingBS RestingECG  MaxHR  \\\n",
       "0   40   M           ATA        140        289.0          0     Normal    172   \n",
       "1   49   F           NAP        160        180.0          0     Normal    156   \n",
       "2   37   M           ATA        130        283.0          0         ST     98   \n",
       "3   48   F           ASY        138        214.0          0     Normal    108   \n",
       "4   54   M           NAP        150        195.0          0     Normal    122   \n",
       "5   39   M           NAP        120        339.0          0     Normal    170   \n",
       "6   45   F           ATA        130        237.0          0     Normal    170   \n",
       "7   54   M           ATA        110        208.0          0     Normal    142   \n",
       "8   37   M           ASY        140        207.0          0     Normal    130   \n",
       "9   48   F           ATA        120        284.0          0     Normal    120   \n",
       "\n",
       "  ExerciseAngina  Oldpeak ST_Slope  HeartDisease  \n",
       "0              N      0.0       Up             0  \n",
       "1              N      1.0     Flat             1  \n",
       "2              N      0.0       Up             0  \n",
       "3              Y      1.5     Flat             1  \n",
       "4              N      0.0       Up             0  \n",
       "5              N      0.0       Up             0  \n",
       "6              N      0.0       Up             0  \n",
       "7              N      0.0       Up             0  \n",
       "8              Y      1.5     Flat             1  \n",
       "9              N      0.0       Up             0  "
      ],
      "text/html": [
       "<div>\n",
       "<style scoped>\n",
       "    .dataframe tbody tr th:only-of-type {\n",
       "        vertical-align: middle;\n",
       "    }\n",
       "\n",
       "    .dataframe tbody tr th {\n",
       "        vertical-align: top;\n",
       "    }\n",
       "\n",
       "    .dataframe thead th {\n",
       "        text-align: right;\n",
       "    }\n",
       "</style>\n",
       "<table border=\"1\" class=\"dataframe\">\n",
       "  <thead>\n",
       "    <tr style=\"text-align: right;\">\n",
       "      <th></th>\n",
       "      <th>Age</th>\n",
       "      <th>Sex</th>\n",
       "      <th>ChestPainType</th>\n",
       "      <th>RestingBP</th>\n",
       "      <th>Cholesterol</th>\n",
       "      <th>FastingBS</th>\n",
       "      <th>RestingECG</th>\n",
       "      <th>MaxHR</th>\n",
       "      <th>ExerciseAngina</th>\n",
       "      <th>Oldpeak</th>\n",
       "      <th>ST_Slope</th>\n",
       "      <th>HeartDisease</th>\n",
       "    </tr>\n",
       "  </thead>\n",
       "  <tbody>\n",
       "    <tr>\n",
       "      <th>0</th>\n",
       "      <td>40</td>\n",
       "      <td>M</td>\n",
       "      <td>ATA</td>\n",
       "      <td>140</td>\n",
       "      <td>289.0</td>\n",
       "      <td>0</td>\n",
       "      <td>Normal</td>\n",
       "      <td>172</td>\n",
       "      <td>N</td>\n",
       "      <td>0.0</td>\n",
       "      <td>Up</td>\n",
       "      <td>0</td>\n",
       "    </tr>\n",
       "    <tr>\n",
       "      <th>1</th>\n",
       "      <td>49</td>\n",
       "      <td>F</td>\n",
       "      <td>NAP</td>\n",
       "      <td>160</td>\n",
       "      <td>180.0</td>\n",
       "      <td>0</td>\n",
       "      <td>Normal</td>\n",
       "      <td>156</td>\n",
       "      <td>N</td>\n",
       "      <td>1.0</td>\n",
       "      <td>Flat</td>\n",
       "      <td>1</td>\n",
       "    </tr>\n",
       "    <tr>\n",
       "      <th>2</th>\n",
       "      <td>37</td>\n",
       "      <td>M</td>\n",
       "      <td>ATA</td>\n",
       "      <td>130</td>\n",
       "      <td>283.0</td>\n",
       "      <td>0</td>\n",
       "      <td>ST</td>\n",
       "      <td>98</td>\n",
       "      <td>N</td>\n",
       "      <td>0.0</td>\n",
       "      <td>Up</td>\n",
       "      <td>0</td>\n",
       "    </tr>\n",
       "    <tr>\n",
       "      <th>3</th>\n",
       "      <td>48</td>\n",
       "      <td>F</td>\n",
       "      <td>ASY</td>\n",
       "      <td>138</td>\n",
       "      <td>214.0</td>\n",
       "      <td>0</td>\n",
       "      <td>Normal</td>\n",
       "      <td>108</td>\n",
       "      <td>Y</td>\n",
       "      <td>1.5</td>\n",
       "      <td>Flat</td>\n",
       "      <td>1</td>\n",
       "    </tr>\n",
       "    <tr>\n",
       "      <th>4</th>\n",
       "      <td>54</td>\n",
       "      <td>M</td>\n",
       "      <td>NAP</td>\n",
       "      <td>150</td>\n",
       "      <td>195.0</td>\n",
       "      <td>0</td>\n",
       "      <td>Normal</td>\n",
       "      <td>122</td>\n",
       "      <td>N</td>\n",
       "      <td>0.0</td>\n",
       "      <td>Up</td>\n",
       "      <td>0</td>\n",
       "    </tr>\n",
       "    <tr>\n",
       "      <th>5</th>\n",
       "      <td>39</td>\n",
       "      <td>M</td>\n",
       "      <td>NAP</td>\n",
       "      <td>120</td>\n",
       "      <td>339.0</td>\n",
       "      <td>0</td>\n",
       "      <td>Normal</td>\n",
       "      <td>170</td>\n",
       "      <td>N</td>\n",
       "      <td>0.0</td>\n",
       "      <td>Up</td>\n",
       "      <td>0</td>\n",
       "    </tr>\n",
       "    <tr>\n",
       "      <th>6</th>\n",
       "      <td>45</td>\n",
       "      <td>F</td>\n",
       "      <td>ATA</td>\n",
       "      <td>130</td>\n",
       "      <td>237.0</td>\n",
       "      <td>0</td>\n",
       "      <td>Normal</td>\n",
       "      <td>170</td>\n",
       "      <td>N</td>\n",
       "      <td>0.0</td>\n",
       "      <td>Up</td>\n",
       "      <td>0</td>\n",
       "    </tr>\n",
       "    <tr>\n",
       "      <th>7</th>\n",
       "      <td>54</td>\n",
       "      <td>M</td>\n",
       "      <td>ATA</td>\n",
       "      <td>110</td>\n",
       "      <td>208.0</td>\n",
       "      <td>0</td>\n",
       "      <td>Normal</td>\n",
       "      <td>142</td>\n",
       "      <td>N</td>\n",
       "      <td>0.0</td>\n",
       "      <td>Up</td>\n",
       "      <td>0</td>\n",
       "    </tr>\n",
       "    <tr>\n",
       "      <th>8</th>\n",
       "      <td>37</td>\n",
       "      <td>M</td>\n",
       "      <td>ASY</td>\n",
       "      <td>140</td>\n",
       "      <td>207.0</td>\n",
       "      <td>0</td>\n",
       "      <td>Normal</td>\n",
       "      <td>130</td>\n",
       "      <td>Y</td>\n",
       "      <td>1.5</td>\n",
       "      <td>Flat</td>\n",
       "      <td>1</td>\n",
       "    </tr>\n",
       "    <tr>\n",
       "      <th>9</th>\n",
       "      <td>48</td>\n",
       "      <td>F</td>\n",
       "      <td>ATA</td>\n",
       "      <td>120</td>\n",
       "      <td>284.0</td>\n",
       "      <td>0</td>\n",
       "      <td>Normal</td>\n",
       "      <td>120</td>\n",
       "      <td>N</td>\n",
       "      <td>0.0</td>\n",
       "      <td>Up</td>\n",
       "      <td>0</td>\n",
       "    </tr>\n",
       "  </tbody>\n",
       "</table>\n",
       "</div>"
      ]
     },
     "execution_count": 248,
     "metadata": {},
     "output_type": "execute_result"
    }
   ],
   "execution_count": 248
  },
  {
   "cell_type": "code",
   "source": [
    "df.shape"
   ],
   "metadata": {
    "collapsed": false,
    "ExecuteTime": {
     "end_time": "2024-04-09T03:38:16.717733Z",
     "start_time": "2024-04-09T03:38:16.704449Z"
    }
   },
   "id": "52e5034159d74ce5",
   "outputs": [
    {
     "data": {
      "text/plain": [
       "(917, 12)"
      ]
     },
     "execution_count": 249,
     "metadata": {},
     "output_type": "execute_result"
    }
   ],
   "execution_count": 249
  },
  {
   "cell_type": "code",
   "source": [
    "# Transformando as variáveis categóricas nominais em variáveis categóricas ordinais\n",
    "df2 = pd.DataFrame.copy(df)"
   ],
   "metadata": {
    "collapsed": false,
    "ExecuteTime": {
     "end_time": "2024-04-09T03:38:17.453060Z",
     "start_time": "2024-04-09T03:38:17.437592Z"
    }
   },
   "id": "82b73d93469345c4",
   "outputs": [],
   "execution_count": 250
  },
  {
   "cell_type": "code",
   "source": [
    "df2['Sex'].replace({'M': 1, 'F': 0}, inplace=True)\n",
    "df2['ChestPainType'].replace({'TA':0, 'ATA':1, 'NAP':2, 'ASY':3}, inplace=True)\n",
    "df2['RestingECG'].replace({'Normal':0, 'ST':1, 'LVH':2}, inplace=True)\n",
    "df2['ExerciseAngina'].replace({'N':0, 'Y':1}, inplace=True)\n",
    "df2['ST_Slope'].replace({'Up':0, 'Flat':1 ,'Down':2}, inplace=True)"
   ],
   "metadata": {
    "collapsed": false,
    "ExecuteTime": {
     "end_time": "2024-04-09T03:38:18.097247Z",
     "start_time": "2024-04-09T03:38:18.069797Z"
    }
   },
   "id": "baae510ad49b025f",
   "outputs": [],
   "execution_count": 251
  },
  {
   "cell_type": "code",
   "source": [
    "df2.head(10)"
   ],
   "metadata": {
    "collapsed": false,
    "ExecuteTime": {
     "end_time": "2024-04-09T03:38:18.545302Z",
     "start_time": "2024-04-09T03:38:18.518585Z"
    }
   },
   "id": "3f9afee2a9535e58",
   "outputs": [
    {
     "data": {
      "text/plain": [
       "   Age  Sex  ChestPainType  RestingBP  Cholesterol  FastingBS  RestingECG  \\\n",
       "0   40    1              1        140        289.0          0           0   \n",
       "1   49    0              2        160        180.0          0           0   \n",
       "2   37    1              1        130        283.0          0           1   \n",
       "3   48    0              3        138        214.0          0           0   \n",
       "4   54    1              2        150        195.0          0           0   \n",
       "5   39    1              2        120        339.0          0           0   \n",
       "6   45    0              1        130        237.0          0           0   \n",
       "7   54    1              1        110        208.0          0           0   \n",
       "8   37    1              3        140        207.0          0           0   \n",
       "9   48    0              1        120        284.0          0           0   \n",
       "\n",
       "   MaxHR  ExerciseAngina  Oldpeak  ST_Slope  HeartDisease  \n",
       "0    172               0      0.0         0             0  \n",
       "1    156               0      1.0         1             1  \n",
       "2     98               0      0.0         0             0  \n",
       "3    108               1      1.5         1             1  \n",
       "4    122               0      0.0         0             0  \n",
       "5    170               0      0.0         0             0  \n",
       "6    170               0      0.0         0             0  \n",
       "7    142               0      0.0         0             0  \n",
       "8    130               1      1.5         1             1  \n",
       "9    120               0      0.0         0             0  "
      ],
      "text/html": [
       "<div>\n",
       "<style scoped>\n",
       "    .dataframe tbody tr th:only-of-type {\n",
       "        vertical-align: middle;\n",
       "    }\n",
       "\n",
       "    .dataframe tbody tr th {\n",
       "        vertical-align: top;\n",
       "    }\n",
       "\n",
       "    .dataframe thead th {\n",
       "        text-align: right;\n",
       "    }\n",
       "</style>\n",
       "<table border=\"1\" class=\"dataframe\">\n",
       "  <thead>\n",
       "    <tr style=\"text-align: right;\">\n",
       "      <th></th>\n",
       "      <th>Age</th>\n",
       "      <th>Sex</th>\n",
       "      <th>ChestPainType</th>\n",
       "      <th>RestingBP</th>\n",
       "      <th>Cholesterol</th>\n",
       "      <th>FastingBS</th>\n",
       "      <th>RestingECG</th>\n",
       "      <th>MaxHR</th>\n",
       "      <th>ExerciseAngina</th>\n",
       "      <th>Oldpeak</th>\n",
       "      <th>ST_Slope</th>\n",
       "      <th>HeartDisease</th>\n",
       "    </tr>\n",
       "  </thead>\n",
       "  <tbody>\n",
       "    <tr>\n",
       "      <th>0</th>\n",
       "      <td>40</td>\n",
       "      <td>1</td>\n",
       "      <td>1</td>\n",
       "      <td>140</td>\n",
       "      <td>289.0</td>\n",
       "      <td>0</td>\n",
       "      <td>0</td>\n",
       "      <td>172</td>\n",
       "      <td>0</td>\n",
       "      <td>0.0</td>\n",
       "      <td>0</td>\n",
       "      <td>0</td>\n",
       "    </tr>\n",
       "    <tr>\n",
       "      <th>1</th>\n",
       "      <td>49</td>\n",
       "      <td>0</td>\n",
       "      <td>2</td>\n",
       "      <td>160</td>\n",
       "      <td>180.0</td>\n",
       "      <td>0</td>\n",
       "      <td>0</td>\n",
       "      <td>156</td>\n",
       "      <td>0</td>\n",
       "      <td>1.0</td>\n",
       "      <td>1</td>\n",
       "      <td>1</td>\n",
       "    </tr>\n",
       "    <tr>\n",
       "      <th>2</th>\n",
       "      <td>37</td>\n",
       "      <td>1</td>\n",
       "      <td>1</td>\n",
       "      <td>130</td>\n",
       "      <td>283.0</td>\n",
       "      <td>0</td>\n",
       "      <td>1</td>\n",
       "      <td>98</td>\n",
       "      <td>0</td>\n",
       "      <td>0.0</td>\n",
       "      <td>0</td>\n",
       "      <td>0</td>\n",
       "    </tr>\n",
       "    <tr>\n",
       "      <th>3</th>\n",
       "      <td>48</td>\n",
       "      <td>0</td>\n",
       "      <td>3</td>\n",
       "      <td>138</td>\n",
       "      <td>214.0</td>\n",
       "      <td>0</td>\n",
       "      <td>0</td>\n",
       "      <td>108</td>\n",
       "      <td>1</td>\n",
       "      <td>1.5</td>\n",
       "      <td>1</td>\n",
       "      <td>1</td>\n",
       "    </tr>\n",
       "    <tr>\n",
       "      <th>4</th>\n",
       "      <td>54</td>\n",
       "      <td>1</td>\n",
       "      <td>2</td>\n",
       "      <td>150</td>\n",
       "      <td>195.0</td>\n",
       "      <td>0</td>\n",
       "      <td>0</td>\n",
       "      <td>122</td>\n",
       "      <td>0</td>\n",
       "      <td>0.0</td>\n",
       "      <td>0</td>\n",
       "      <td>0</td>\n",
       "    </tr>\n",
       "    <tr>\n",
       "      <th>5</th>\n",
       "      <td>39</td>\n",
       "      <td>1</td>\n",
       "      <td>2</td>\n",
       "      <td>120</td>\n",
       "      <td>339.0</td>\n",
       "      <td>0</td>\n",
       "      <td>0</td>\n",
       "      <td>170</td>\n",
       "      <td>0</td>\n",
       "      <td>0.0</td>\n",
       "      <td>0</td>\n",
       "      <td>0</td>\n",
       "    </tr>\n",
       "    <tr>\n",
       "      <th>6</th>\n",
       "      <td>45</td>\n",
       "      <td>0</td>\n",
       "      <td>1</td>\n",
       "      <td>130</td>\n",
       "      <td>237.0</td>\n",
       "      <td>0</td>\n",
       "      <td>0</td>\n",
       "      <td>170</td>\n",
       "      <td>0</td>\n",
       "      <td>0.0</td>\n",
       "      <td>0</td>\n",
       "      <td>0</td>\n",
       "    </tr>\n",
       "    <tr>\n",
       "      <th>7</th>\n",
       "      <td>54</td>\n",
       "      <td>1</td>\n",
       "      <td>1</td>\n",
       "      <td>110</td>\n",
       "      <td>208.0</td>\n",
       "      <td>0</td>\n",
       "      <td>0</td>\n",
       "      <td>142</td>\n",
       "      <td>0</td>\n",
       "      <td>0.0</td>\n",
       "      <td>0</td>\n",
       "      <td>0</td>\n",
       "    </tr>\n",
       "    <tr>\n",
       "      <th>8</th>\n",
       "      <td>37</td>\n",
       "      <td>1</td>\n",
       "      <td>3</td>\n",
       "      <td>140</td>\n",
       "      <td>207.0</td>\n",
       "      <td>0</td>\n",
       "      <td>0</td>\n",
       "      <td>130</td>\n",
       "      <td>1</td>\n",
       "      <td>1.5</td>\n",
       "      <td>1</td>\n",
       "      <td>1</td>\n",
       "    </tr>\n",
       "    <tr>\n",
       "      <th>9</th>\n",
       "      <td>48</td>\n",
       "      <td>0</td>\n",
       "      <td>1</td>\n",
       "      <td>120</td>\n",
       "      <td>284.0</td>\n",
       "      <td>0</td>\n",
       "      <td>0</td>\n",
       "      <td>120</td>\n",
       "      <td>0</td>\n",
       "      <td>0.0</td>\n",
       "      <td>0</td>\n",
       "      <td>0</td>\n",
       "    </tr>\n",
       "  </tbody>\n",
       "</table>\n",
       "</div>"
      ]
     },
     "execution_count": 252,
     "metadata": {},
     "output_type": "execute_result"
    }
   ],
   "execution_count": 252
  },
  {
   "cell_type": "code",
   "source": [
    "df2.dtypes"
   ],
   "metadata": {
    "collapsed": false,
    "ExecuteTime": {
     "end_time": "2024-04-09T03:38:19.024043Z",
     "start_time": "2024-04-09T03:38:19.010847Z"
    }
   },
   "id": "f0ef800e4298e28f",
   "outputs": [
    {
     "data": {
      "text/plain": [
       "Age                 int64\n",
       "Sex                 int64\n",
       "ChestPainType       int64\n",
       "RestingBP           int64\n",
       "Cholesterol       float64\n",
       "FastingBS           int64\n",
       "RestingECG          int64\n",
       "MaxHR               int64\n",
       "ExerciseAngina      int64\n",
       "Oldpeak           float64\n",
       "ST_Slope            int64\n",
       "HeartDisease        int64\n",
       "dtype: object"
      ]
     },
     "execution_count": 253,
     "metadata": {},
     "output_type": "execute_result"
    }
   ],
   "execution_count": 253
  },
  {
   "cell_type": "code",
   "source": [
    "df2.shape"
   ],
   "metadata": {
    "collapsed": false,
    "ExecuteTime": {
     "end_time": "2024-04-09T03:38:19.687824Z",
     "start_time": "2024-04-09T03:38:19.664706Z"
    }
   },
   "id": "9a2c9c452cfe3e3b",
   "outputs": [
    {
     "data": {
      "text/plain": [
       "(917, 12)"
      ]
     },
     "execution_count": 254,
     "metadata": {},
     "output_type": "execute_result"
    }
   ],
   "execution_count": 254
  },
  {
   "cell_type": "markdown",
   "source": [
    "# 40. Pré-processamento: escalonamento e separação de variáveis"
   ],
   "metadata": {
    "collapsed": false
   },
   "id": "d08cacc0e4701263"
  },
  {
   "cell_type": "code",
   "source": [
    "df2.head(10)"
   ],
   "metadata": {
    "collapsed": false,
    "ExecuteTime": {
     "end_time": "2024-04-09T03:38:21.238712Z",
     "start_time": "2024-04-09T03:38:21.206605Z"
    }
   },
   "id": "dee16986bad8041d",
   "outputs": [
    {
     "data": {
      "text/plain": [
       "   Age  Sex  ChestPainType  RestingBP  Cholesterol  FastingBS  RestingECG  \\\n",
       "0   40    1              1        140        289.0          0           0   \n",
       "1   49    0              2        160        180.0          0           0   \n",
       "2   37    1              1        130        283.0          0           1   \n",
       "3   48    0              3        138        214.0          0           0   \n",
       "4   54    1              2        150        195.0          0           0   \n",
       "5   39    1              2        120        339.0          0           0   \n",
       "6   45    0              1        130        237.0          0           0   \n",
       "7   54    1              1        110        208.0          0           0   \n",
       "8   37    1              3        140        207.0          0           0   \n",
       "9   48    0              1        120        284.0          0           0   \n",
       "\n",
       "   MaxHR  ExerciseAngina  Oldpeak  ST_Slope  HeartDisease  \n",
       "0    172               0      0.0         0             0  \n",
       "1    156               0      1.0         1             1  \n",
       "2     98               0      0.0         0             0  \n",
       "3    108               1      1.5         1             1  \n",
       "4    122               0      0.0         0             0  \n",
       "5    170               0      0.0         0             0  \n",
       "6    170               0      0.0         0             0  \n",
       "7    142               0      0.0         0             0  \n",
       "8    130               1      1.5         1             1  \n",
       "9    120               0      0.0         0             0  "
      ],
      "text/html": [
       "<div>\n",
       "<style scoped>\n",
       "    .dataframe tbody tr th:only-of-type {\n",
       "        vertical-align: middle;\n",
       "    }\n",
       "\n",
       "    .dataframe tbody tr th {\n",
       "        vertical-align: top;\n",
       "    }\n",
       "\n",
       "    .dataframe thead th {\n",
       "        text-align: right;\n",
       "    }\n",
       "</style>\n",
       "<table border=\"1\" class=\"dataframe\">\n",
       "  <thead>\n",
       "    <tr style=\"text-align: right;\">\n",
       "      <th></th>\n",
       "      <th>Age</th>\n",
       "      <th>Sex</th>\n",
       "      <th>ChestPainType</th>\n",
       "      <th>RestingBP</th>\n",
       "      <th>Cholesterol</th>\n",
       "      <th>FastingBS</th>\n",
       "      <th>RestingECG</th>\n",
       "      <th>MaxHR</th>\n",
       "      <th>ExerciseAngina</th>\n",
       "      <th>Oldpeak</th>\n",
       "      <th>ST_Slope</th>\n",
       "      <th>HeartDisease</th>\n",
       "    </tr>\n",
       "  </thead>\n",
       "  <tbody>\n",
       "    <tr>\n",
       "      <th>0</th>\n",
       "      <td>40</td>\n",
       "      <td>1</td>\n",
       "      <td>1</td>\n",
       "      <td>140</td>\n",
       "      <td>289.0</td>\n",
       "      <td>0</td>\n",
       "      <td>0</td>\n",
       "      <td>172</td>\n",
       "      <td>0</td>\n",
       "      <td>0.0</td>\n",
       "      <td>0</td>\n",
       "      <td>0</td>\n",
       "    </tr>\n",
       "    <tr>\n",
       "      <th>1</th>\n",
       "      <td>49</td>\n",
       "      <td>0</td>\n",
       "      <td>2</td>\n",
       "      <td>160</td>\n",
       "      <td>180.0</td>\n",
       "      <td>0</td>\n",
       "      <td>0</td>\n",
       "      <td>156</td>\n",
       "      <td>0</td>\n",
       "      <td>1.0</td>\n",
       "      <td>1</td>\n",
       "      <td>1</td>\n",
       "    </tr>\n",
       "    <tr>\n",
       "      <th>2</th>\n",
       "      <td>37</td>\n",
       "      <td>1</td>\n",
       "      <td>1</td>\n",
       "      <td>130</td>\n",
       "      <td>283.0</td>\n",
       "      <td>0</td>\n",
       "      <td>1</td>\n",
       "      <td>98</td>\n",
       "      <td>0</td>\n",
       "      <td>0.0</td>\n",
       "      <td>0</td>\n",
       "      <td>0</td>\n",
       "    </tr>\n",
       "    <tr>\n",
       "      <th>3</th>\n",
       "      <td>48</td>\n",
       "      <td>0</td>\n",
       "      <td>3</td>\n",
       "      <td>138</td>\n",
       "      <td>214.0</td>\n",
       "      <td>0</td>\n",
       "      <td>0</td>\n",
       "      <td>108</td>\n",
       "      <td>1</td>\n",
       "      <td>1.5</td>\n",
       "      <td>1</td>\n",
       "      <td>1</td>\n",
       "    </tr>\n",
       "    <tr>\n",
       "      <th>4</th>\n",
       "      <td>54</td>\n",
       "      <td>1</td>\n",
       "      <td>2</td>\n",
       "      <td>150</td>\n",
       "      <td>195.0</td>\n",
       "      <td>0</td>\n",
       "      <td>0</td>\n",
       "      <td>122</td>\n",
       "      <td>0</td>\n",
       "      <td>0.0</td>\n",
       "      <td>0</td>\n",
       "      <td>0</td>\n",
       "    </tr>\n",
       "    <tr>\n",
       "      <th>5</th>\n",
       "      <td>39</td>\n",
       "      <td>1</td>\n",
       "      <td>2</td>\n",
       "      <td>120</td>\n",
       "      <td>339.0</td>\n",
       "      <td>0</td>\n",
       "      <td>0</td>\n",
       "      <td>170</td>\n",
       "      <td>0</td>\n",
       "      <td>0.0</td>\n",
       "      <td>0</td>\n",
       "      <td>0</td>\n",
       "    </tr>\n",
       "    <tr>\n",
       "      <th>6</th>\n",
       "      <td>45</td>\n",
       "      <td>0</td>\n",
       "      <td>1</td>\n",
       "      <td>130</td>\n",
       "      <td>237.0</td>\n",
       "      <td>0</td>\n",
       "      <td>0</td>\n",
       "      <td>170</td>\n",
       "      <td>0</td>\n",
       "      <td>0.0</td>\n",
       "      <td>0</td>\n",
       "      <td>0</td>\n",
       "    </tr>\n",
       "    <tr>\n",
       "      <th>7</th>\n",
       "      <td>54</td>\n",
       "      <td>1</td>\n",
       "      <td>1</td>\n",
       "      <td>110</td>\n",
       "      <td>208.0</td>\n",
       "      <td>0</td>\n",
       "      <td>0</td>\n",
       "      <td>142</td>\n",
       "      <td>0</td>\n",
       "      <td>0.0</td>\n",
       "      <td>0</td>\n",
       "      <td>0</td>\n",
       "    </tr>\n",
       "    <tr>\n",
       "      <th>8</th>\n",
       "      <td>37</td>\n",
       "      <td>1</td>\n",
       "      <td>3</td>\n",
       "      <td>140</td>\n",
       "      <td>207.0</td>\n",
       "      <td>0</td>\n",
       "      <td>0</td>\n",
       "      <td>130</td>\n",
       "      <td>1</td>\n",
       "      <td>1.5</td>\n",
       "      <td>1</td>\n",
       "      <td>1</td>\n",
       "    </tr>\n",
       "    <tr>\n",
       "      <th>9</th>\n",
       "      <td>48</td>\n",
       "      <td>0</td>\n",
       "      <td>1</td>\n",
       "      <td>120</td>\n",
       "      <td>284.0</td>\n",
       "      <td>0</td>\n",
       "      <td>0</td>\n",
       "      <td>120</td>\n",
       "      <td>0</td>\n",
       "      <td>0.0</td>\n",
       "      <td>0</td>\n",
       "      <td>0</td>\n",
       "    </tr>\n",
       "  </tbody>\n",
       "</table>\n",
       "</div>"
      ]
     },
     "execution_count": 255,
     "metadata": {},
     "output_type": "execute_result"
    }
   ],
   "execution_count": 255
  },
  {
   "cell_type": "code",
   "source": [
    "previsores = df2.iloc[:, 0:11].values"
   ],
   "metadata": {
    "collapsed": false,
    "ExecuteTime": {
     "end_time": "2024-04-09T03:38:21.963946Z",
     "start_time": "2024-04-09T03:38:21.931010Z"
    }
   },
   "id": "a5bd4a4617d18ae8",
   "outputs": [],
   "execution_count": 256
  },
  {
   "cell_type": "code",
   "source": [
    "previsores"
   ],
   "metadata": {
    "collapsed": false,
    "ExecuteTime": {
     "end_time": "2024-04-09T03:38:22.724112Z",
     "start_time": "2024-04-09T03:38:22.701719Z"
    }
   },
   "id": "92cde52becf2fc7d",
   "outputs": [
    {
     "data": {
      "text/plain": [
       "array([[40. ,  1. ,  1. , ...,  0. ,  0. ,  0. ],\n",
       "       [49. ,  0. ,  2. , ...,  0. ,  1. ,  1. ],\n",
       "       [37. ,  1. ,  1. , ...,  0. ,  0. ,  0. ],\n",
       "       ...,\n",
       "       [57. ,  1. ,  3. , ...,  1. ,  1.2,  1. ],\n",
       "       [57. ,  0. ,  1. , ...,  0. ,  0. ,  1. ],\n",
       "       [38. ,  1. ,  2. , ...,  0. ,  0. ,  0. ]])"
      ]
     },
     "execution_count": 257,
     "metadata": {},
     "output_type": "execute_result"
    }
   ],
   "execution_count": 257
  },
  {
   "cell_type": "code",
   "source": [
    "previsores.shape"
   ],
   "metadata": {
    "collapsed": false,
    "ExecuteTime": {
     "end_time": "2024-04-09T03:38:24.010920Z",
     "start_time": "2024-04-09T03:38:23.992933Z"
    }
   },
   "id": "f7e463ce9347eaa8",
   "outputs": [
    {
     "data": {
      "text/plain": [
       "(917, 11)"
      ]
     },
     "execution_count": 258,
     "metadata": {},
     "output_type": "execute_result"
    }
   ],
   "execution_count": 258
  },
  {
   "cell_type": "code",
   "source": [
    "alvo = df2.iloc[:, 11].values"
   ],
   "metadata": {
    "collapsed": false,
    "ExecuteTime": {
     "end_time": "2024-04-09T03:38:24.580885Z",
     "start_time": "2024-04-09T03:38:24.563613Z"
    }
   },
   "id": "de3c52bb7fe75ff2",
   "outputs": [],
   "execution_count": 259
  },
  {
   "cell_type": "code",
   "source": [
    "alvo"
   ],
   "metadata": {
    "collapsed": false,
    "ExecuteTime": {
     "end_time": "2024-04-09T03:38:25.199150Z",
     "start_time": "2024-04-09T03:38:25.177607Z"
    }
   },
   "id": "efda2b97fd21c4a6",
   "outputs": [
    {
     "data": {
      "text/plain": [
       "array([0, 1, 0, 1, 0, 0, 0, 0, 1, 0, 0, 1, 0, 1, 0, 0, 1, 0, 1, 1, 0, 0,\n",
       "       0, 1, 0, 0, 0, 0, 0, 0, 1, 0, 1, 1, 0, 0, 1, 0, 0, 0, 0, 1, 0, 0,\n",
       "       1, 0, 0, 0, 0, 1, 1, 1, 0, 0, 0, 0, 1, 1, 0, 1, 0, 0, 0, 1, 0, 0,\n",
       "       0, 0, 1, 0, 1, 0, 1, 0, 1, 0, 1, 0, 0, 1, 0, 0, 1, 0, 1, 1, 1, 0,\n",
       "       1, 0, 0, 0, 0, 1, 0, 1, 0, 0, 0, 0, 1, 0, 1, 1, 1, 0, 0, 0, 0, 0,\n",
       "       0, 1, 0, 0, 0, 1, 1, 1, 0, 1, 1, 0, 0, 1, 0, 0, 0, 0, 0, 0, 0, 1,\n",
       "       1, 1, 0, 1, 0, 0, 1, 1, 1, 1, 1, 0, 1, 0, 0, 0, 0, 1, 0, 0, 0, 0,\n",
       "       0, 1, 1, 0, 1, 0, 1, 1, 0, 0, 0, 1, 1, 0, 0, 0, 0, 0, 0, 0, 1, 1,\n",
       "       1, 0, 0, 0, 1, 0, 1, 0, 0, 1, 0, 1, 0, 1, 0, 0, 0, 0, 0, 0, 0, 0,\n",
       "       1, 0, 0, 0, 0, 0, 0, 0, 0, 1, 0, 1, 1, 1, 0, 0, 1, 0, 1, 0, 0, 0,\n",
       "       1, 1, 0, 0, 0, 1, 0, 1, 0, 0, 0, 0, 0, 0, 0, 0, 1, 1, 1, 1, 0, 1,\n",
       "       1, 0, 1, 0, 1, 1, 1, 1, 1, 1, 0, 0, 1, 0, 0, 0, 0, 0, 0, 0, 1, 1,\n",
       "       1, 0, 1, 0, 1, 0, 0, 0, 1, 0, 0, 0, 1, 1, 0, 0, 0, 1, 0, 0, 0, 0,\n",
       "       0, 0, 0, 0, 0, 0, 0, 1, 1, 1, 1, 1, 1, 1, 1, 0, 1, 1, 1, 1, 1, 0,\n",
       "       1, 1, 0, 1, 1, 1, 0, 1, 1, 1, 1, 1, 1, 1, 1, 1, 1, 1, 0, 1, 1, 1,\n",
       "       1, 1, 0, 1, 1, 1, 0, 1, 1, 1, 1, 1, 1, 1, 1, 1, 1, 1, 1, 1, 1, 1,\n",
       "       1, 1, 1, 1, 1, 1, 1, 1, 1, 1, 1, 1, 0, 1, 1, 1, 1, 1, 1, 1, 1, 1,\n",
       "       1, 1, 1, 1, 1, 1, 1, 1, 1, 1, 1, 1, 1, 1, 1, 1, 1, 1, 1, 1, 1, 1,\n",
       "       1, 1, 1, 1, 1, 1, 1, 1, 1, 1, 1, 1, 1, 1, 1, 1, 1, 1, 1, 1, 1, 0,\n",
       "       1, 1, 0, 0, 1, 0, 1, 1, 0, 1, 1, 1, 1, 0, 1, 1, 0, 0, 1, 1, 1, 0,\n",
       "       1, 1, 1, 1, 1, 1, 1, 1, 1, 1, 1, 1, 0, 1, 0, 1, 1, 1, 0, 1, 1, 1,\n",
       "       0, 1, 0, 1, 0, 1, 0, 1, 1, 1, 1, 0, 1, 0, 1, 1, 1, 1, 1, 1, 1, 1,\n",
       "       1, 0, 1, 0, 1, 1, 1, 1, 1, 1, 1, 0, 1, 1, 1, 1, 1, 1, 0, 1, 1, 1,\n",
       "       0, 1, 1, 0, 1, 0, 1, 1, 0, 1, 1, 1, 1, 0, 1, 1, 1, 0, 0, 1, 0, 1,\n",
       "       1, 1, 1, 1, 1, 1, 1, 1, 1, 1, 0, 1, 1, 1, 1, 0, 0, 1, 1, 1, 0, 1,\n",
       "       0, 1, 1, 0, 1, 0, 1, 1, 1, 0, 0, 0, 1, 1, 1, 0, 1, 1, 1, 1, 1, 1,\n",
       "       1, 1, 1, 1, 1, 1, 1, 1, 1, 1, 0, 1, 1, 1, 0, 1, 1, 0, 0, 1, 1, 1,\n",
       "       1, 1, 0, 1, 1, 0, 1, 1, 1, 0, 0, 1, 1, 1, 1, 1, 0, 1, 0, 1, 1, 0,\n",
       "       1, 0, 0, 0, 1, 1, 1, 1, 0, 0, 0, 1, 0, 0, 1, 1, 0, 0, 1, 0, 0, 0,\n",
       "       0, 0, 0, 0, 1, 0, 1, 0, 0, 1, 1, 1, 1, 1, 0, 0, 1, 0, 0, 0, 1, 0,\n",
       "       1, 1, 1, 1, 1, 0, 0, 0, 0, 0, 1, 0, 1, 1, 0, 1, 0, 0, 0, 1, 0, 1,\n",
       "       0, 1, 1, 0, 0, 0, 0, 1, 0, 0, 0, 0, 1, 1, 1, 0, 0, 0, 0, 0, 0, 1,\n",
       "       0, 1, 1, 1, 1, 1, 0, 1, 0, 0, 0, 1, 0, 1, 1, 1, 0, 1, 1, 0, 1, 0,\n",
       "       1, 0, 0, 0, 1, 1, 0, 1, 1, 1, 1, 0, 0, 0, 1, 0, 0, 1, 1, 1, 0, 1,\n",
       "       0, 0, 0, 1, 0, 0, 1, 0, 1, 0, 1, 1, 1, 1, 1, 0, 0, 0, 0, 0, 0, 0,\n",
       "       1, 0, 0, 1, 1, 1, 0, 1, 0, 0, 0, 0, 0, 1, 0, 1, 1, 0, 0, 1, 1, 1,\n",
       "       1, 0, 0, 1, 1, 0, 0, 0, 1, 0, 0, 1, 0, 1, 0, 1, 0, 0, 0, 0, 0, 1,\n",
       "       0, 1, 1, 1, 1, 0, 0, 0, 1, 0, 1, 0, 0, 1, 0, 0, 0, 0, 0, 0, 1, 1,\n",
       "       0, 1, 0, 0, 1, 1, 0, 0, 1, 1, 0, 1, 0, 1, 0, 1, 0, 0, 1, 0, 0, 1,\n",
       "       0, 1, 1, 0, 1, 1, 1, 0, 1, 0, 0, 0, 0, 1, 1, 0, 0, 1, 1, 0, 1, 0,\n",
       "       0, 0, 0, 1, 0, 0, 1, 1, 1, 0, 0, 0, 1, 0, 1, 0, 1, 0, 1, 1, 1, 0,\n",
       "       0, 0, 1, 0, 1, 1, 1, 0, 1, 1, 1, 1, 1, 1, 0], dtype=int64)"
      ]
     },
     "execution_count": 260,
     "metadata": {},
     "output_type": "execute_result"
    }
   ],
   "execution_count": 260
  },
  {
   "cell_type": "code",
   "source": [
    "alvo.shape"
   ],
   "metadata": {
    "collapsed": false,
    "ExecuteTime": {
     "end_time": "2024-04-09T03:38:25.694956Z",
     "start_time": "2024-04-09T03:38:25.682570Z"
    }
   },
   "id": "d1cb5a864c3aca20",
   "outputs": [
    {
     "data": {
      "text/plain": [
       "(917,)"
      ]
     },
     "execution_count": 261,
     "metadata": {},
     "output_type": "execute_result"
    }
   ],
   "execution_count": 261
  },
  {
   "cell_type": "code",
   "source": [
    "# Análise das escalas dos atributos (Escalonamento)\n",
    "df2.describe()"
   ],
   "metadata": {
    "collapsed": false,
    "ExecuteTime": {
     "end_time": "2024-04-09T03:38:26.326938Z",
     "start_time": "2024-04-09T03:38:26.260082Z"
    }
   },
   "id": "6e01ee949feb1d78",
   "outputs": [
    {
     "data": {
      "text/plain": [
       "              Age         Sex  ChestPainType   RestingBP  Cholesterol  \\\n",
       "count  917.000000  917.000000     917.000000  917.000000   917.000000   \n",
       "mean    53.509269    0.789531       2.251908  132.540894   244.635389   \n",
       "std      9.437636    0.407864       0.931502   17.999749    53.347125   \n",
       "min     28.000000    0.000000       0.000000   80.000000    85.000000   \n",
       "25%     47.000000    1.000000       2.000000  120.000000   214.000000   \n",
       "50%     54.000000    1.000000       3.000000  130.000000   244.635389   \n",
       "75%     60.000000    1.000000       3.000000  140.000000   267.000000   \n",
       "max     77.000000    1.000000       3.000000  200.000000   603.000000   \n",
       "\n",
       "        FastingBS  RestingECG       MaxHR  ExerciseAngina     Oldpeak  \\\n",
       "count  917.000000  917.000000  917.000000      917.000000  917.000000   \n",
       "mean     0.233370    0.604144  136.789531        0.404580    0.886696   \n",
       "std      0.423206    0.806161   25.467129        0.491078    1.066960   \n",
       "min      0.000000    0.000000   60.000000        0.000000   -2.600000   \n",
       "25%      0.000000    0.000000  120.000000        0.000000    0.000000   \n",
       "50%      0.000000    0.000000  138.000000        0.000000    0.600000   \n",
       "75%      0.000000    1.000000  156.000000        1.000000    1.500000   \n",
       "max      1.000000    2.000000  202.000000        1.000000    6.200000   \n",
       "\n",
       "        ST_Slope  HeartDisease  \n",
       "count  917.00000    917.000000  \n",
       "mean     0.63795      0.552890  \n",
       "std      0.60727      0.497466  \n",
       "min      0.00000      0.000000  \n",
       "25%      0.00000      0.000000  \n",
       "50%      1.00000      1.000000  \n",
       "75%      1.00000      1.000000  \n",
       "max      2.00000      1.000000  "
      ],
      "text/html": [
       "<div>\n",
       "<style scoped>\n",
       "    .dataframe tbody tr th:only-of-type {\n",
       "        vertical-align: middle;\n",
       "    }\n",
       "\n",
       "    .dataframe tbody tr th {\n",
       "        vertical-align: top;\n",
       "    }\n",
       "\n",
       "    .dataframe thead th {\n",
       "        text-align: right;\n",
       "    }\n",
       "</style>\n",
       "<table border=\"1\" class=\"dataframe\">\n",
       "  <thead>\n",
       "    <tr style=\"text-align: right;\">\n",
       "      <th></th>\n",
       "      <th>Age</th>\n",
       "      <th>Sex</th>\n",
       "      <th>ChestPainType</th>\n",
       "      <th>RestingBP</th>\n",
       "      <th>Cholesterol</th>\n",
       "      <th>FastingBS</th>\n",
       "      <th>RestingECG</th>\n",
       "      <th>MaxHR</th>\n",
       "      <th>ExerciseAngina</th>\n",
       "      <th>Oldpeak</th>\n",
       "      <th>ST_Slope</th>\n",
       "      <th>HeartDisease</th>\n",
       "    </tr>\n",
       "  </thead>\n",
       "  <tbody>\n",
       "    <tr>\n",
       "      <th>count</th>\n",
       "      <td>917.000000</td>\n",
       "      <td>917.000000</td>\n",
       "      <td>917.000000</td>\n",
       "      <td>917.000000</td>\n",
       "      <td>917.000000</td>\n",
       "      <td>917.000000</td>\n",
       "      <td>917.000000</td>\n",
       "      <td>917.000000</td>\n",
       "      <td>917.000000</td>\n",
       "      <td>917.000000</td>\n",
       "      <td>917.00000</td>\n",
       "      <td>917.000000</td>\n",
       "    </tr>\n",
       "    <tr>\n",
       "      <th>mean</th>\n",
       "      <td>53.509269</td>\n",
       "      <td>0.789531</td>\n",
       "      <td>2.251908</td>\n",
       "      <td>132.540894</td>\n",
       "      <td>244.635389</td>\n",
       "      <td>0.233370</td>\n",
       "      <td>0.604144</td>\n",
       "      <td>136.789531</td>\n",
       "      <td>0.404580</td>\n",
       "      <td>0.886696</td>\n",
       "      <td>0.63795</td>\n",
       "      <td>0.552890</td>\n",
       "    </tr>\n",
       "    <tr>\n",
       "      <th>std</th>\n",
       "      <td>9.437636</td>\n",
       "      <td>0.407864</td>\n",
       "      <td>0.931502</td>\n",
       "      <td>17.999749</td>\n",
       "      <td>53.347125</td>\n",
       "      <td>0.423206</td>\n",
       "      <td>0.806161</td>\n",
       "      <td>25.467129</td>\n",
       "      <td>0.491078</td>\n",
       "      <td>1.066960</td>\n",
       "      <td>0.60727</td>\n",
       "      <td>0.497466</td>\n",
       "    </tr>\n",
       "    <tr>\n",
       "      <th>min</th>\n",
       "      <td>28.000000</td>\n",
       "      <td>0.000000</td>\n",
       "      <td>0.000000</td>\n",
       "      <td>80.000000</td>\n",
       "      <td>85.000000</td>\n",
       "      <td>0.000000</td>\n",
       "      <td>0.000000</td>\n",
       "      <td>60.000000</td>\n",
       "      <td>0.000000</td>\n",
       "      <td>-2.600000</td>\n",
       "      <td>0.00000</td>\n",
       "      <td>0.000000</td>\n",
       "    </tr>\n",
       "    <tr>\n",
       "      <th>25%</th>\n",
       "      <td>47.000000</td>\n",
       "      <td>1.000000</td>\n",
       "      <td>2.000000</td>\n",
       "      <td>120.000000</td>\n",
       "      <td>214.000000</td>\n",
       "      <td>0.000000</td>\n",
       "      <td>0.000000</td>\n",
       "      <td>120.000000</td>\n",
       "      <td>0.000000</td>\n",
       "      <td>0.000000</td>\n",
       "      <td>0.00000</td>\n",
       "      <td>0.000000</td>\n",
       "    </tr>\n",
       "    <tr>\n",
       "      <th>50%</th>\n",
       "      <td>54.000000</td>\n",
       "      <td>1.000000</td>\n",
       "      <td>3.000000</td>\n",
       "      <td>130.000000</td>\n",
       "      <td>244.635389</td>\n",
       "      <td>0.000000</td>\n",
       "      <td>0.000000</td>\n",
       "      <td>138.000000</td>\n",
       "      <td>0.000000</td>\n",
       "      <td>0.600000</td>\n",
       "      <td>1.00000</td>\n",
       "      <td>1.000000</td>\n",
       "    </tr>\n",
       "    <tr>\n",
       "      <th>75%</th>\n",
       "      <td>60.000000</td>\n",
       "      <td>1.000000</td>\n",
       "      <td>3.000000</td>\n",
       "      <td>140.000000</td>\n",
       "      <td>267.000000</td>\n",
       "      <td>0.000000</td>\n",
       "      <td>1.000000</td>\n",
       "      <td>156.000000</td>\n",
       "      <td>1.000000</td>\n",
       "      <td>1.500000</td>\n",
       "      <td>1.00000</td>\n",
       "      <td>1.000000</td>\n",
       "    </tr>\n",
       "    <tr>\n",
       "      <th>max</th>\n",
       "      <td>77.000000</td>\n",
       "      <td>1.000000</td>\n",
       "      <td>3.000000</td>\n",
       "      <td>200.000000</td>\n",
       "      <td>603.000000</td>\n",
       "      <td>1.000000</td>\n",
       "      <td>2.000000</td>\n",
       "      <td>202.000000</td>\n",
       "      <td>1.000000</td>\n",
       "      <td>6.200000</td>\n",
       "      <td>2.00000</td>\n",
       "      <td>1.000000</td>\n",
       "    </tr>\n",
       "  </tbody>\n",
       "</table>\n",
       "</div>"
      ]
     },
     "execution_count": 262,
     "metadata": {},
     "output_type": "execute_result"
    }
   ],
   "execution_count": 262
  },
  {
   "cell_type": "code",
   "source": [
    "# Padronização (utiliza a média e o desvio padrão como referência)\n",
    "from sklearn.preprocessing import StandardScaler\n",
    "previsores_esc = StandardScaler().fit_transform(previsores)\n",
    "previsores_esc"
   ],
   "metadata": {
    "collapsed": false,
    "ExecuteTime": {
     "end_time": "2024-04-09T03:38:26.868522Z",
     "start_time": "2024-04-09T03:38:26.847032Z"
    }
   },
   "id": "24e3424274f148a3",
   "outputs": [
    {
     "data": {
      "text/plain": [
       "array([[-1.43220634,  0.51630861, -1.34470119, ..., -0.82431012,\n",
       "        -0.83150225, -1.05109458],\n",
       "       [-0.47805725, -1.9368261 , -0.27058012, ..., -0.82431012,\n",
       "         0.10625149,  0.59651863],\n",
       "       [-1.75025603,  0.51630861, -1.34470119, ..., -0.82431012,\n",
       "        -0.83150225, -1.05109458],\n",
       "       ...,\n",
       "       [ 0.37007527,  0.51630861,  0.80354095, ...,  1.21313565,\n",
       "         0.29380223,  0.59651863],\n",
       "       [ 0.37007527, -1.9368261 , -1.34470119, ..., -0.82431012,\n",
       "        -0.83150225,  0.59651863],\n",
       "       [-1.64423947,  0.51630861, -0.27058012, ..., -0.82431012,\n",
       "        -0.83150225, -1.05109458]])"
      ]
     },
     "execution_count": 263,
     "metadata": {},
     "output_type": "execute_result"
    }
   ],
   "execution_count": 263
  },
  {
   "cell_type": "code",
   "source": [
    "previsoresdf = pd.DataFrame(previsores_esc)\n",
    "previsoresdf"
   ],
   "metadata": {
    "collapsed": false,
    "ExecuteTime": {
     "end_time": "2024-04-09T03:38:27.500911Z",
     "start_time": "2024-04-09T03:38:27.475480Z"
    }
   },
   "id": "78966393e83eed33",
   "outputs": [
    {
     "data": {
      "text/plain": [
       "           0         1         2         3         4         5         6   \\\n",
       "0   -1.432206  0.516309 -1.344701  0.414627  0.832075 -0.551733 -0.749818   \n",
       "1   -0.478057 -1.936826 -0.270580  1.526360 -1.212261 -0.551733 -0.749818   \n",
       "2   -1.750256  0.516309 -1.344701 -0.141240  0.719543 -0.551733  0.491306   \n",
       "3   -0.584074 -1.936826  0.803541  0.303453 -0.574578 -0.551733 -0.749818   \n",
       "4    0.052026  0.516309 -0.270580  0.970493 -0.930931 -0.551733 -0.749818   \n",
       "..        ...       ...       ...       ...       ...       ...       ...   \n",
       "912 -0.902124  0.516309 -2.418822 -1.252973  0.363191 -0.551733 -0.749818   \n",
       "913  1.536257  0.516309  0.803541  0.636973 -0.968441  1.812470 -0.749818   \n",
       "914  0.370075  0.516309  0.803541 -0.141240 -2.131275 -0.551733 -0.749818   \n",
       "915  0.370075 -1.936826 -1.344701 -0.141240 -0.161960 -0.551733  1.732430   \n",
       "916 -1.644239  0.516309 -0.270580  0.303453 -1.306038 -0.551733 -0.749818   \n",
       "\n",
       "           7         8         9         10  \n",
       "0    1.383339 -0.824310 -0.831502 -1.051095  \n",
       "1    0.754736 -0.824310  0.106251  0.596519  \n",
       "2   -1.523953 -0.824310 -0.831502 -1.051095  \n",
       "3   -1.131075  1.213136  0.575128  0.596519  \n",
       "4   -0.581047 -0.824310 -0.831502 -1.051095  \n",
       "..        ...       ...       ...       ...  \n",
       "912 -0.188170 -0.824310  0.293802  0.596519  \n",
       "913  0.165420 -0.824310  2.356860  0.596519  \n",
       "914 -0.856061  1.213136  0.293802  0.596519  \n",
       "915  1.461915 -0.824310 -0.831502  0.596519  \n",
       "916  1.422627 -0.824310 -0.831502 -1.051095  \n",
       "\n",
       "[917 rows x 11 columns]"
      ],
      "text/html": [
       "<div>\n",
       "<style scoped>\n",
       "    .dataframe tbody tr th:only-of-type {\n",
       "        vertical-align: middle;\n",
       "    }\n",
       "\n",
       "    .dataframe tbody tr th {\n",
       "        vertical-align: top;\n",
       "    }\n",
       "\n",
       "    .dataframe thead th {\n",
       "        text-align: right;\n",
       "    }\n",
       "</style>\n",
       "<table border=\"1\" class=\"dataframe\">\n",
       "  <thead>\n",
       "    <tr style=\"text-align: right;\">\n",
       "      <th></th>\n",
       "      <th>0</th>\n",
       "      <th>1</th>\n",
       "      <th>2</th>\n",
       "      <th>3</th>\n",
       "      <th>4</th>\n",
       "      <th>5</th>\n",
       "      <th>6</th>\n",
       "      <th>7</th>\n",
       "      <th>8</th>\n",
       "      <th>9</th>\n",
       "      <th>10</th>\n",
       "    </tr>\n",
       "  </thead>\n",
       "  <tbody>\n",
       "    <tr>\n",
       "      <th>0</th>\n",
       "      <td>-1.432206</td>\n",
       "      <td>0.516309</td>\n",
       "      <td>-1.344701</td>\n",
       "      <td>0.414627</td>\n",
       "      <td>0.832075</td>\n",
       "      <td>-0.551733</td>\n",
       "      <td>-0.749818</td>\n",
       "      <td>1.383339</td>\n",
       "      <td>-0.824310</td>\n",
       "      <td>-0.831502</td>\n",
       "      <td>-1.051095</td>\n",
       "    </tr>\n",
       "    <tr>\n",
       "      <th>1</th>\n",
       "      <td>-0.478057</td>\n",
       "      <td>-1.936826</td>\n",
       "      <td>-0.270580</td>\n",
       "      <td>1.526360</td>\n",
       "      <td>-1.212261</td>\n",
       "      <td>-0.551733</td>\n",
       "      <td>-0.749818</td>\n",
       "      <td>0.754736</td>\n",
       "      <td>-0.824310</td>\n",
       "      <td>0.106251</td>\n",
       "      <td>0.596519</td>\n",
       "    </tr>\n",
       "    <tr>\n",
       "      <th>2</th>\n",
       "      <td>-1.750256</td>\n",
       "      <td>0.516309</td>\n",
       "      <td>-1.344701</td>\n",
       "      <td>-0.141240</td>\n",
       "      <td>0.719543</td>\n",
       "      <td>-0.551733</td>\n",
       "      <td>0.491306</td>\n",
       "      <td>-1.523953</td>\n",
       "      <td>-0.824310</td>\n",
       "      <td>-0.831502</td>\n",
       "      <td>-1.051095</td>\n",
       "    </tr>\n",
       "    <tr>\n",
       "      <th>3</th>\n",
       "      <td>-0.584074</td>\n",
       "      <td>-1.936826</td>\n",
       "      <td>0.803541</td>\n",
       "      <td>0.303453</td>\n",
       "      <td>-0.574578</td>\n",
       "      <td>-0.551733</td>\n",
       "      <td>-0.749818</td>\n",
       "      <td>-1.131075</td>\n",
       "      <td>1.213136</td>\n",
       "      <td>0.575128</td>\n",
       "      <td>0.596519</td>\n",
       "    </tr>\n",
       "    <tr>\n",
       "      <th>4</th>\n",
       "      <td>0.052026</td>\n",
       "      <td>0.516309</td>\n",
       "      <td>-0.270580</td>\n",
       "      <td>0.970493</td>\n",
       "      <td>-0.930931</td>\n",
       "      <td>-0.551733</td>\n",
       "      <td>-0.749818</td>\n",
       "      <td>-0.581047</td>\n",
       "      <td>-0.824310</td>\n",
       "      <td>-0.831502</td>\n",
       "      <td>-1.051095</td>\n",
       "    </tr>\n",
       "    <tr>\n",
       "      <th>...</th>\n",
       "      <td>...</td>\n",
       "      <td>...</td>\n",
       "      <td>...</td>\n",
       "      <td>...</td>\n",
       "      <td>...</td>\n",
       "      <td>...</td>\n",
       "      <td>...</td>\n",
       "      <td>...</td>\n",
       "      <td>...</td>\n",
       "      <td>...</td>\n",
       "      <td>...</td>\n",
       "    </tr>\n",
       "    <tr>\n",
       "      <th>912</th>\n",
       "      <td>-0.902124</td>\n",
       "      <td>0.516309</td>\n",
       "      <td>-2.418822</td>\n",
       "      <td>-1.252973</td>\n",
       "      <td>0.363191</td>\n",
       "      <td>-0.551733</td>\n",
       "      <td>-0.749818</td>\n",
       "      <td>-0.188170</td>\n",
       "      <td>-0.824310</td>\n",
       "      <td>0.293802</td>\n",
       "      <td>0.596519</td>\n",
       "    </tr>\n",
       "    <tr>\n",
       "      <th>913</th>\n",
       "      <td>1.536257</td>\n",
       "      <td>0.516309</td>\n",
       "      <td>0.803541</td>\n",
       "      <td>0.636973</td>\n",
       "      <td>-0.968441</td>\n",
       "      <td>1.812470</td>\n",
       "      <td>-0.749818</td>\n",
       "      <td>0.165420</td>\n",
       "      <td>-0.824310</td>\n",
       "      <td>2.356860</td>\n",
       "      <td>0.596519</td>\n",
       "    </tr>\n",
       "    <tr>\n",
       "      <th>914</th>\n",
       "      <td>0.370075</td>\n",
       "      <td>0.516309</td>\n",
       "      <td>0.803541</td>\n",
       "      <td>-0.141240</td>\n",
       "      <td>-2.131275</td>\n",
       "      <td>-0.551733</td>\n",
       "      <td>-0.749818</td>\n",
       "      <td>-0.856061</td>\n",
       "      <td>1.213136</td>\n",
       "      <td>0.293802</td>\n",
       "      <td>0.596519</td>\n",
       "    </tr>\n",
       "    <tr>\n",
       "      <th>915</th>\n",
       "      <td>0.370075</td>\n",
       "      <td>-1.936826</td>\n",
       "      <td>-1.344701</td>\n",
       "      <td>-0.141240</td>\n",
       "      <td>-0.161960</td>\n",
       "      <td>-0.551733</td>\n",
       "      <td>1.732430</td>\n",
       "      <td>1.461915</td>\n",
       "      <td>-0.824310</td>\n",
       "      <td>-0.831502</td>\n",
       "      <td>0.596519</td>\n",
       "    </tr>\n",
       "    <tr>\n",
       "      <th>916</th>\n",
       "      <td>-1.644239</td>\n",
       "      <td>0.516309</td>\n",
       "      <td>-0.270580</td>\n",
       "      <td>0.303453</td>\n",
       "      <td>-1.306038</td>\n",
       "      <td>-0.551733</td>\n",
       "      <td>-0.749818</td>\n",
       "      <td>1.422627</td>\n",
       "      <td>-0.824310</td>\n",
       "      <td>-0.831502</td>\n",
       "      <td>-1.051095</td>\n",
       "    </tr>\n",
       "  </tbody>\n",
       "</table>\n",
       "<p>917 rows × 11 columns</p>\n",
       "</div>"
      ]
     },
     "execution_count": 264,
     "metadata": {},
     "output_type": "execute_result"
    }
   ],
   "execution_count": 264
  },
  {
   "cell_type": "code",
   "source": [
    "previsoresdf.describe()"
   ],
   "metadata": {
    "collapsed": false,
    "ExecuteTime": {
     "end_time": "2024-04-09T03:38:29.222594Z",
     "start_time": "2024-04-09T03:38:29.115362Z"
    }
   },
   "id": "3ca4e6c4a9658e55",
   "outputs": [
    {
     "data": {
      "text/plain": [
       "                 0             1             2             3             4   \\\n",
       "count  9.170000e+02  9.170000e+02  9.170000e+02  9.170000e+02  9.170000e+02   \n",
       "mean   1.859654e-16 -7.748558e-17  1.046055e-16  7.767929e-16 -1.869340e-16   \n",
       "std    1.000546e+00  1.000546e+00  1.000546e+00  1.000546e+00  1.000546e+00   \n",
       "min   -2.704405e+00 -1.936826e+00 -2.418822e+00 -2.920572e+00 -2.994023e+00   \n",
       "25%   -6.900904e-01  5.163086e-01 -2.705801e-01 -6.971063e-01 -5.745784e-01   \n",
       "50%    5.202558e-02  5.163086e-01  8.035410e-01 -1.412398e-01  0.000000e+00   \n",
       "75%    6.881250e-01  5.163086e-01  8.035410e-01  4.146267e-01  4.194568e-01   \n",
       "max    2.490407e+00  5.163086e-01  8.035410e-01  3.749826e+00  6.721265e+00   \n",
       "\n",
       "                 5           6             7             8             9   \\\n",
       "count  9.170000e+02  917.000000  9.170000e+02  9.170000e+02  9.170000e+02   \n",
       "mean   4.649135e-17    0.000000 -5.114048e-16 -1.046055e-16  7.748558e-17   \n",
       "std    1.000546e+00    1.000546  1.000546e+00  1.000546e+00  1.000546e+00   \n",
       "min   -5.517333e-01   -0.749818 -3.016886e+00 -8.243101e-01 -3.269662e+00   \n",
       "25%   -5.517333e-01   -0.749818 -6.596226e-01 -8.243101e-01 -8.315022e-01   \n",
       "50%   -5.517333e-01   -0.749818  4.755658e-02 -8.243101e-01 -2.688500e-01   \n",
       "75%   -5.517333e-01    0.491306  7.547357e-01  1.213136e+00  5.751284e-01   \n",
       "max    1.812470e+00    1.732430  2.561971e+00  1.213136e+00  4.982571e+00   \n",
       "\n",
       "                 10  \n",
       "count  9.170000e+02  \n",
       "mean  -3.874279e-17  \n",
       "std    1.000546e+00  \n",
       "min   -1.051095e+00  \n",
       "25%   -1.051095e+00  \n",
       "50%    5.965186e-01  \n",
       "75%    5.965186e-01  \n",
       "max    2.244132e+00  "
      ],
      "text/html": [
       "<div>\n",
       "<style scoped>\n",
       "    .dataframe tbody tr th:only-of-type {\n",
       "        vertical-align: middle;\n",
       "    }\n",
       "\n",
       "    .dataframe tbody tr th {\n",
       "        vertical-align: top;\n",
       "    }\n",
       "\n",
       "    .dataframe thead th {\n",
       "        text-align: right;\n",
       "    }\n",
       "</style>\n",
       "<table border=\"1\" class=\"dataframe\">\n",
       "  <thead>\n",
       "    <tr style=\"text-align: right;\">\n",
       "      <th></th>\n",
       "      <th>0</th>\n",
       "      <th>1</th>\n",
       "      <th>2</th>\n",
       "      <th>3</th>\n",
       "      <th>4</th>\n",
       "      <th>5</th>\n",
       "      <th>6</th>\n",
       "      <th>7</th>\n",
       "      <th>8</th>\n",
       "      <th>9</th>\n",
       "      <th>10</th>\n",
       "    </tr>\n",
       "  </thead>\n",
       "  <tbody>\n",
       "    <tr>\n",
       "      <th>count</th>\n",
       "      <td>9.170000e+02</td>\n",
       "      <td>9.170000e+02</td>\n",
       "      <td>9.170000e+02</td>\n",
       "      <td>9.170000e+02</td>\n",
       "      <td>9.170000e+02</td>\n",
       "      <td>9.170000e+02</td>\n",
       "      <td>917.000000</td>\n",
       "      <td>9.170000e+02</td>\n",
       "      <td>9.170000e+02</td>\n",
       "      <td>9.170000e+02</td>\n",
       "      <td>9.170000e+02</td>\n",
       "    </tr>\n",
       "    <tr>\n",
       "      <th>mean</th>\n",
       "      <td>1.859654e-16</td>\n",
       "      <td>-7.748558e-17</td>\n",
       "      <td>1.046055e-16</td>\n",
       "      <td>7.767929e-16</td>\n",
       "      <td>-1.869340e-16</td>\n",
       "      <td>4.649135e-17</td>\n",
       "      <td>0.000000</td>\n",
       "      <td>-5.114048e-16</td>\n",
       "      <td>-1.046055e-16</td>\n",
       "      <td>7.748558e-17</td>\n",
       "      <td>-3.874279e-17</td>\n",
       "    </tr>\n",
       "    <tr>\n",
       "      <th>std</th>\n",
       "      <td>1.000546e+00</td>\n",
       "      <td>1.000546e+00</td>\n",
       "      <td>1.000546e+00</td>\n",
       "      <td>1.000546e+00</td>\n",
       "      <td>1.000546e+00</td>\n",
       "      <td>1.000546e+00</td>\n",
       "      <td>1.000546</td>\n",
       "      <td>1.000546e+00</td>\n",
       "      <td>1.000546e+00</td>\n",
       "      <td>1.000546e+00</td>\n",
       "      <td>1.000546e+00</td>\n",
       "    </tr>\n",
       "    <tr>\n",
       "      <th>min</th>\n",
       "      <td>-2.704405e+00</td>\n",
       "      <td>-1.936826e+00</td>\n",
       "      <td>-2.418822e+00</td>\n",
       "      <td>-2.920572e+00</td>\n",
       "      <td>-2.994023e+00</td>\n",
       "      <td>-5.517333e-01</td>\n",
       "      <td>-0.749818</td>\n",
       "      <td>-3.016886e+00</td>\n",
       "      <td>-8.243101e-01</td>\n",
       "      <td>-3.269662e+00</td>\n",
       "      <td>-1.051095e+00</td>\n",
       "    </tr>\n",
       "    <tr>\n",
       "      <th>25%</th>\n",
       "      <td>-6.900904e-01</td>\n",
       "      <td>5.163086e-01</td>\n",
       "      <td>-2.705801e-01</td>\n",
       "      <td>-6.971063e-01</td>\n",
       "      <td>-5.745784e-01</td>\n",
       "      <td>-5.517333e-01</td>\n",
       "      <td>-0.749818</td>\n",
       "      <td>-6.596226e-01</td>\n",
       "      <td>-8.243101e-01</td>\n",
       "      <td>-8.315022e-01</td>\n",
       "      <td>-1.051095e+00</td>\n",
       "    </tr>\n",
       "    <tr>\n",
       "      <th>50%</th>\n",
       "      <td>5.202558e-02</td>\n",
       "      <td>5.163086e-01</td>\n",
       "      <td>8.035410e-01</td>\n",
       "      <td>-1.412398e-01</td>\n",
       "      <td>0.000000e+00</td>\n",
       "      <td>-5.517333e-01</td>\n",
       "      <td>-0.749818</td>\n",
       "      <td>4.755658e-02</td>\n",
       "      <td>-8.243101e-01</td>\n",
       "      <td>-2.688500e-01</td>\n",
       "      <td>5.965186e-01</td>\n",
       "    </tr>\n",
       "    <tr>\n",
       "      <th>75%</th>\n",
       "      <td>6.881250e-01</td>\n",
       "      <td>5.163086e-01</td>\n",
       "      <td>8.035410e-01</td>\n",
       "      <td>4.146267e-01</td>\n",
       "      <td>4.194568e-01</td>\n",
       "      <td>-5.517333e-01</td>\n",
       "      <td>0.491306</td>\n",
       "      <td>7.547357e-01</td>\n",
       "      <td>1.213136e+00</td>\n",
       "      <td>5.751284e-01</td>\n",
       "      <td>5.965186e-01</td>\n",
       "    </tr>\n",
       "    <tr>\n",
       "      <th>max</th>\n",
       "      <td>2.490407e+00</td>\n",
       "      <td>5.163086e-01</td>\n",
       "      <td>8.035410e-01</td>\n",
       "      <td>3.749826e+00</td>\n",
       "      <td>6.721265e+00</td>\n",
       "      <td>1.812470e+00</td>\n",
       "      <td>1.732430</td>\n",
       "      <td>2.561971e+00</td>\n",
       "      <td>1.213136e+00</td>\n",
       "      <td>4.982571e+00</td>\n",
       "      <td>2.244132e+00</td>\n",
       "    </tr>\n",
       "  </tbody>\n",
       "</table>\n",
       "</div>"
      ]
     },
     "execution_count": 265,
     "metadata": {},
     "output_type": "execute_result"
    }
   ],
   "execution_count": 265
  },
  {
   "cell_type": "markdown",
   "source": [
    "# 41. Pré-processamento: LabelEncoder e OnehotEncoder"
   ],
   "metadata": {
    "collapsed": false
   },
   "id": "abd63a48f59b44d9"
  },
  {
   "cell_type": "code",
   "source": [
    "# Transformação de variáveis categóricas em numéricas automaticamente\n",
    "from sklearn.preprocessing import LabelEncoder"
   ],
   "metadata": {
    "collapsed": false,
    "ExecuteTime": {
     "end_time": "2024-04-09T03:38:30.086791Z",
     "start_time": "2024-04-09T03:38:30.066457Z"
    }
   },
   "id": "c6934c86cb314782",
   "outputs": [],
   "execution_count": 266
  },
  {
   "cell_type": "code",
   "source": [
    "df.head()"
   ],
   "metadata": {
    "collapsed": false,
    "ExecuteTime": {
     "end_time": "2024-04-09T03:38:31.754891Z",
     "start_time": "2024-04-09T03:38:31.711567Z"
    }
   },
   "id": "5d2641f48f1821a8",
   "outputs": [
    {
     "data": {
      "text/plain": [
       "   Age Sex ChestPainType  RestingBP  Cholesterol  FastingBS RestingECG  MaxHR  \\\n",
       "0   40   M           ATA        140        289.0          0     Normal    172   \n",
       "1   49   F           NAP        160        180.0          0     Normal    156   \n",
       "2   37   M           ATA        130        283.0          0         ST     98   \n",
       "3   48   F           ASY        138        214.0          0     Normal    108   \n",
       "4   54   M           NAP        150        195.0          0     Normal    122   \n",
       "\n",
       "  ExerciseAngina  Oldpeak ST_Slope  HeartDisease  \n",
       "0              N      0.0       Up             0  \n",
       "1              N      1.0     Flat             1  \n",
       "2              N      0.0       Up             0  \n",
       "3              Y      1.5     Flat             1  \n",
       "4              N      0.0       Up             0  "
      ],
      "text/html": [
       "<div>\n",
       "<style scoped>\n",
       "    .dataframe tbody tr th:only-of-type {\n",
       "        vertical-align: middle;\n",
       "    }\n",
       "\n",
       "    .dataframe tbody tr th {\n",
       "        vertical-align: top;\n",
       "    }\n",
       "\n",
       "    .dataframe thead th {\n",
       "        text-align: right;\n",
       "    }\n",
       "</style>\n",
       "<table border=\"1\" class=\"dataframe\">\n",
       "  <thead>\n",
       "    <tr style=\"text-align: right;\">\n",
       "      <th></th>\n",
       "      <th>Age</th>\n",
       "      <th>Sex</th>\n",
       "      <th>ChestPainType</th>\n",
       "      <th>RestingBP</th>\n",
       "      <th>Cholesterol</th>\n",
       "      <th>FastingBS</th>\n",
       "      <th>RestingECG</th>\n",
       "      <th>MaxHR</th>\n",
       "      <th>ExerciseAngina</th>\n",
       "      <th>Oldpeak</th>\n",
       "      <th>ST_Slope</th>\n",
       "      <th>HeartDisease</th>\n",
       "    </tr>\n",
       "  </thead>\n",
       "  <tbody>\n",
       "    <tr>\n",
       "      <th>0</th>\n",
       "      <td>40</td>\n",
       "      <td>M</td>\n",
       "      <td>ATA</td>\n",
       "      <td>140</td>\n",
       "      <td>289.0</td>\n",
       "      <td>0</td>\n",
       "      <td>Normal</td>\n",
       "      <td>172</td>\n",
       "      <td>N</td>\n",
       "      <td>0.0</td>\n",
       "      <td>Up</td>\n",
       "      <td>0</td>\n",
       "    </tr>\n",
       "    <tr>\n",
       "      <th>1</th>\n",
       "      <td>49</td>\n",
       "      <td>F</td>\n",
       "      <td>NAP</td>\n",
       "      <td>160</td>\n",
       "      <td>180.0</td>\n",
       "      <td>0</td>\n",
       "      <td>Normal</td>\n",
       "      <td>156</td>\n",
       "      <td>N</td>\n",
       "      <td>1.0</td>\n",
       "      <td>Flat</td>\n",
       "      <td>1</td>\n",
       "    </tr>\n",
       "    <tr>\n",
       "      <th>2</th>\n",
       "      <td>37</td>\n",
       "      <td>M</td>\n",
       "      <td>ATA</td>\n",
       "      <td>130</td>\n",
       "      <td>283.0</td>\n",
       "      <td>0</td>\n",
       "      <td>ST</td>\n",
       "      <td>98</td>\n",
       "      <td>N</td>\n",
       "      <td>0.0</td>\n",
       "      <td>Up</td>\n",
       "      <td>0</td>\n",
       "    </tr>\n",
       "    <tr>\n",
       "      <th>3</th>\n",
       "      <td>48</td>\n",
       "      <td>F</td>\n",
       "      <td>ASY</td>\n",
       "      <td>138</td>\n",
       "      <td>214.0</td>\n",
       "      <td>0</td>\n",
       "      <td>Normal</td>\n",
       "      <td>108</td>\n",
       "      <td>Y</td>\n",
       "      <td>1.5</td>\n",
       "      <td>Flat</td>\n",
       "      <td>1</td>\n",
       "    </tr>\n",
       "    <tr>\n",
       "      <th>4</th>\n",
       "      <td>54</td>\n",
       "      <td>M</td>\n",
       "      <td>NAP</td>\n",
       "      <td>150</td>\n",
       "      <td>195.0</td>\n",
       "      <td>0</td>\n",
       "      <td>Normal</td>\n",
       "      <td>122</td>\n",
       "      <td>N</td>\n",
       "      <td>0.0</td>\n",
       "      <td>Up</td>\n",
       "      <td>0</td>\n",
       "    </tr>\n",
       "  </tbody>\n",
       "</table>\n",
       "</div>"
      ]
     },
     "execution_count": 267,
     "metadata": {},
     "output_type": "execute_result"
    }
   ],
   "execution_count": 267
  },
  {
   "cell_type": "code",
   "source": [
    "previsores2 = df.iloc[:, 0:11].values\n",
    "previsores2"
   ],
   "metadata": {
    "collapsed": false,
    "ExecuteTime": {
     "end_time": "2024-04-09T03:38:33.288489Z",
     "start_time": "2024-04-09T03:38:33.266406Z"
    }
   },
   "id": "e06af90a1db5d79e",
   "outputs": [
    {
     "data": {
      "text/plain": [
       "array([[40, 'M', 'ATA', ..., 'N', 0.0, 'Up'],\n",
       "       [49, 'F', 'NAP', ..., 'N', 1.0, 'Flat'],\n",
       "       [37, 'M', 'ATA', ..., 'N', 0.0, 'Up'],\n",
       "       ...,\n",
       "       [57, 'M', 'ASY', ..., 'Y', 1.2, 'Flat'],\n",
       "       [57, 'F', 'ATA', ..., 'N', 0.0, 'Flat'],\n",
       "       [38, 'M', 'NAP', ..., 'N', 0.0, 'Up']], dtype=object)"
      ]
     },
     "execution_count": 268,
     "metadata": {},
     "output_type": "execute_result"
    }
   ],
   "execution_count": 268
  },
  {
   "cell_type": "code",
   "source": [
    "previsores2[:, 1] = LabelEncoder().fit_transform(previsores2[:, 1])\n",
    "previsores2[:, 2] = LabelEncoder().fit_transform(previsores2[:, 2])\n",
    "previsores2[:, 6] = LabelEncoder().fit_transform(previsores2[:, 6])\n",
    "previsores2[:, 8] = LabelEncoder().fit_transform(previsores2[:, 8])\n",
    "previsores2[:, 10] = LabelEncoder().fit_transform(previsores2[:, 10])\n",
    "previsores2"
   ],
   "metadata": {
    "collapsed": false,
    "ExecuteTime": {
     "end_time": "2024-04-09T03:38:34.123785Z",
     "start_time": "2024-04-09T03:38:34.098214Z"
    }
   },
   "id": "78a6f6101c8e90bc",
   "outputs": [
    {
     "data": {
      "text/plain": [
       "array([[40, 1, 1, ..., 0, 0.0, 2],\n",
       "       [49, 0, 2, ..., 0, 1.0, 1],\n",
       "       [37, 1, 1, ..., 0, 0.0, 2],\n",
       "       ...,\n",
       "       [57, 1, 0, ..., 1, 1.2, 1],\n",
       "       [57, 0, 1, ..., 0, 0.0, 1],\n",
       "       [38, 1, 2, ..., 0, 0.0, 2]], dtype=object)"
      ]
     },
     "execution_count": 269,
     "metadata": {},
     "output_type": "execute_result"
    }
   ],
   "execution_count": 269
  },
  {
   "cell_type": "code",
   "source": [
    "previsores2.shape"
   ],
   "metadata": {
    "collapsed": false,
    "ExecuteTime": {
     "end_time": "2024-04-09T03:38:35.643888Z",
     "start_time": "2024-04-09T03:38:35.616428Z"
    }
   },
   "id": "1fdf0528402139b2",
   "outputs": [
    {
     "data": {
      "text/plain": [
       "(917, 11)"
      ]
     },
     "execution_count": 270,
     "metadata": {},
     "output_type": "execute_result"
    }
   ],
   "execution_count": 270
  },
  {
   "cell_type": "code",
   "source": [
    "# OneHotEncoder: Criação de variaveis Dummy (transformação de variáveis numéricas ordinais em binárias)\n",
    "from sklearn.preprocessing import OneHotEncoder\n",
    "from sklearn.compose import ColumnTransformer"
   ],
   "metadata": {
    "collapsed": false,
    "ExecuteTime": {
     "end_time": "2024-04-09T03:38:36.330557Z",
     "start_time": "2024-04-09T03:38:36.313298Z"
    }
   },
   "id": "a74e2869ad3361f1",
   "outputs": [],
   "execution_count": 271
  },
  {
   "cell_type": "code",
   "source": [
    "ColumnTransformer?"
   ],
   "metadata": {
    "collapsed": false,
    "ExecuteTime": {
     "end_time": "2024-04-09T03:38:36.992577Z",
     "start_time": "2024-04-09T03:38:36.963937Z"
    }
   },
   "id": "5a4b75f74c73d06e",
   "outputs": [],
   "execution_count": 272
  },
  {
   "cell_type": "code",
   "source": [
    "previsores3 = ColumnTransformer(transformers=[('OneHot', OneHotEncoder(), [1, 2, 6, 8, 10])], remainder='passthrough').fit_transform(previsores2)\n",
    "previsores3"
   ],
   "metadata": {
    "collapsed": false,
    "ExecuteTime": {
     "end_time": "2024-04-09T03:38:37.575175Z",
     "start_time": "2024-04-09T03:38:37.555860Z"
    }
   },
   "id": "51ab5e20755ff69a",
   "outputs": [
    {
     "data": {
      "text/plain": [
       "array([[0.0, 1.0, 0.0, ..., 0, 172, 0.0],\n",
       "       [1.0, 0.0, 0.0, ..., 0, 156, 1.0],\n",
       "       [0.0, 1.0, 0.0, ..., 0, 98, 0.0],\n",
       "       ...,\n",
       "       [0.0, 1.0, 1.0, ..., 0, 115, 1.2],\n",
       "       [1.0, 0.0, 0.0, ..., 0, 174, 0.0],\n",
       "       [0.0, 1.0, 0.0, ..., 0, 173, 0.0]], dtype=object)"
      ]
     },
     "execution_count": 273,
     "metadata": {},
     "output_type": "execute_result"
    }
   ],
   "execution_count": 273
  },
  {
   "cell_type": "code",
   "source": [
    "previsores3.shape"
   ],
   "metadata": {
    "collapsed": false,
    "ExecuteTime": {
     "end_time": "2024-04-09T03:38:37.975596Z",
     "start_time": "2024-04-09T03:38:37.965537Z"
    }
   },
   "id": "88ed88176553755b",
   "outputs": [
    {
     "data": {
      "text/plain": [
       "(917, 20)"
      ]
     },
     "execution_count": 274,
     "metadata": {},
     "output_type": "execute_result"
    }
   ],
   "execution_count": 274
  },
  {
   "cell_type": "code",
   "source": [
    "previsores3df = pd.DataFrame(previsores3)\n",
    "previsores3df.head(10)"
   ],
   "metadata": {
    "collapsed": false,
    "ExecuteTime": {
     "end_time": "2024-04-09T03:38:38.484162Z",
     "start_time": "2024-04-09T03:38:38.441978Z"
    }
   },
   "id": "4ff5940bc6cf57d1",
   "outputs": [
    {
     "data": {
      "text/plain": [
       "    0    1    2    3    4    5    6    7    8    9    10   11   12   13  14  \\\n",
       "0  0.0  1.0  0.0  1.0  0.0  0.0  0.0  1.0  0.0  1.0  0.0  0.0  0.0  1.0  40   \n",
       "1  1.0  0.0  0.0  0.0  1.0  0.0  0.0  1.0  0.0  1.0  0.0  0.0  1.0  0.0  49   \n",
       "2  0.0  1.0  0.0  1.0  0.0  0.0  0.0  0.0  1.0  1.0  0.0  0.0  0.0  1.0  37   \n",
       "3  1.0  0.0  1.0  0.0  0.0  0.0  0.0  1.0  0.0  0.0  1.0  0.0  1.0  0.0  48   \n",
       "4  0.0  1.0  0.0  0.0  1.0  0.0  0.0  1.0  0.0  1.0  0.0  0.0  0.0  1.0  54   \n",
       "5  0.0  1.0  0.0  0.0  1.0  0.0  0.0  1.0  0.0  1.0  0.0  0.0  0.0  1.0  39   \n",
       "6  1.0  0.0  0.0  1.0  0.0  0.0  0.0  1.0  0.0  1.0  0.0  0.0  0.0  1.0  45   \n",
       "7  0.0  1.0  0.0  1.0  0.0  0.0  0.0  1.0  0.0  1.0  0.0  0.0  0.0  1.0  54   \n",
       "8  0.0  1.0  1.0  0.0  0.0  0.0  0.0  1.0  0.0  0.0  1.0  0.0  1.0  0.0  37   \n",
       "9  1.0  0.0  0.0  1.0  0.0  0.0  0.0  1.0  0.0  1.0  0.0  0.0  0.0  1.0  48   \n",
       "\n",
       "    15     16 17   18   19  \n",
       "0  140  289.0  0  172  0.0  \n",
       "1  160  180.0  0  156  1.0  \n",
       "2  130  283.0  0   98  0.0  \n",
       "3  138  214.0  0  108  1.5  \n",
       "4  150  195.0  0  122  0.0  \n",
       "5  120  339.0  0  170  0.0  \n",
       "6  130  237.0  0  170  0.0  \n",
       "7  110  208.0  0  142  0.0  \n",
       "8  140  207.0  0  130  1.5  \n",
       "9  120  284.0  0  120  0.0  "
      ],
      "text/html": [
       "<div>\n",
       "<style scoped>\n",
       "    .dataframe tbody tr th:only-of-type {\n",
       "        vertical-align: middle;\n",
       "    }\n",
       "\n",
       "    .dataframe tbody tr th {\n",
       "        vertical-align: top;\n",
       "    }\n",
       "\n",
       "    .dataframe thead th {\n",
       "        text-align: right;\n",
       "    }\n",
       "</style>\n",
       "<table border=\"1\" class=\"dataframe\">\n",
       "  <thead>\n",
       "    <tr style=\"text-align: right;\">\n",
       "      <th></th>\n",
       "      <th>0</th>\n",
       "      <th>1</th>\n",
       "      <th>2</th>\n",
       "      <th>3</th>\n",
       "      <th>4</th>\n",
       "      <th>5</th>\n",
       "      <th>6</th>\n",
       "      <th>7</th>\n",
       "      <th>8</th>\n",
       "      <th>9</th>\n",
       "      <th>10</th>\n",
       "      <th>11</th>\n",
       "      <th>12</th>\n",
       "      <th>13</th>\n",
       "      <th>14</th>\n",
       "      <th>15</th>\n",
       "      <th>16</th>\n",
       "      <th>17</th>\n",
       "      <th>18</th>\n",
       "      <th>19</th>\n",
       "    </tr>\n",
       "  </thead>\n",
       "  <tbody>\n",
       "    <tr>\n",
       "      <th>0</th>\n",
       "      <td>0.0</td>\n",
       "      <td>1.0</td>\n",
       "      <td>0.0</td>\n",
       "      <td>1.0</td>\n",
       "      <td>0.0</td>\n",
       "      <td>0.0</td>\n",
       "      <td>0.0</td>\n",
       "      <td>1.0</td>\n",
       "      <td>0.0</td>\n",
       "      <td>1.0</td>\n",
       "      <td>0.0</td>\n",
       "      <td>0.0</td>\n",
       "      <td>0.0</td>\n",
       "      <td>1.0</td>\n",
       "      <td>40</td>\n",
       "      <td>140</td>\n",
       "      <td>289.0</td>\n",
       "      <td>0</td>\n",
       "      <td>172</td>\n",
       "      <td>0.0</td>\n",
       "    </tr>\n",
       "    <tr>\n",
       "      <th>1</th>\n",
       "      <td>1.0</td>\n",
       "      <td>0.0</td>\n",
       "      <td>0.0</td>\n",
       "      <td>0.0</td>\n",
       "      <td>1.0</td>\n",
       "      <td>0.0</td>\n",
       "      <td>0.0</td>\n",
       "      <td>1.0</td>\n",
       "      <td>0.0</td>\n",
       "      <td>1.0</td>\n",
       "      <td>0.0</td>\n",
       "      <td>0.0</td>\n",
       "      <td>1.0</td>\n",
       "      <td>0.0</td>\n",
       "      <td>49</td>\n",
       "      <td>160</td>\n",
       "      <td>180.0</td>\n",
       "      <td>0</td>\n",
       "      <td>156</td>\n",
       "      <td>1.0</td>\n",
       "    </tr>\n",
       "    <tr>\n",
       "      <th>2</th>\n",
       "      <td>0.0</td>\n",
       "      <td>1.0</td>\n",
       "      <td>0.0</td>\n",
       "      <td>1.0</td>\n",
       "      <td>0.0</td>\n",
       "      <td>0.0</td>\n",
       "      <td>0.0</td>\n",
       "      <td>0.0</td>\n",
       "      <td>1.0</td>\n",
       "      <td>1.0</td>\n",
       "      <td>0.0</td>\n",
       "      <td>0.0</td>\n",
       "      <td>0.0</td>\n",
       "      <td>1.0</td>\n",
       "      <td>37</td>\n",
       "      <td>130</td>\n",
       "      <td>283.0</td>\n",
       "      <td>0</td>\n",
       "      <td>98</td>\n",
       "      <td>0.0</td>\n",
       "    </tr>\n",
       "    <tr>\n",
       "      <th>3</th>\n",
       "      <td>1.0</td>\n",
       "      <td>0.0</td>\n",
       "      <td>1.0</td>\n",
       "      <td>0.0</td>\n",
       "      <td>0.0</td>\n",
       "      <td>0.0</td>\n",
       "      <td>0.0</td>\n",
       "      <td>1.0</td>\n",
       "      <td>0.0</td>\n",
       "      <td>0.0</td>\n",
       "      <td>1.0</td>\n",
       "      <td>0.0</td>\n",
       "      <td>1.0</td>\n",
       "      <td>0.0</td>\n",
       "      <td>48</td>\n",
       "      <td>138</td>\n",
       "      <td>214.0</td>\n",
       "      <td>0</td>\n",
       "      <td>108</td>\n",
       "      <td>1.5</td>\n",
       "    </tr>\n",
       "    <tr>\n",
       "      <th>4</th>\n",
       "      <td>0.0</td>\n",
       "      <td>1.0</td>\n",
       "      <td>0.0</td>\n",
       "      <td>0.0</td>\n",
       "      <td>1.0</td>\n",
       "      <td>0.0</td>\n",
       "      <td>0.0</td>\n",
       "      <td>1.0</td>\n",
       "      <td>0.0</td>\n",
       "      <td>1.0</td>\n",
       "      <td>0.0</td>\n",
       "      <td>0.0</td>\n",
       "      <td>0.0</td>\n",
       "      <td>1.0</td>\n",
       "      <td>54</td>\n",
       "      <td>150</td>\n",
       "      <td>195.0</td>\n",
       "      <td>0</td>\n",
       "      <td>122</td>\n",
       "      <td>0.0</td>\n",
       "    </tr>\n",
       "    <tr>\n",
       "      <th>5</th>\n",
       "      <td>0.0</td>\n",
       "      <td>1.0</td>\n",
       "      <td>0.0</td>\n",
       "      <td>0.0</td>\n",
       "      <td>1.0</td>\n",
       "      <td>0.0</td>\n",
       "      <td>0.0</td>\n",
       "      <td>1.0</td>\n",
       "      <td>0.0</td>\n",
       "      <td>1.0</td>\n",
       "      <td>0.0</td>\n",
       "      <td>0.0</td>\n",
       "      <td>0.0</td>\n",
       "      <td>1.0</td>\n",
       "      <td>39</td>\n",
       "      <td>120</td>\n",
       "      <td>339.0</td>\n",
       "      <td>0</td>\n",
       "      <td>170</td>\n",
       "      <td>0.0</td>\n",
       "    </tr>\n",
       "    <tr>\n",
       "      <th>6</th>\n",
       "      <td>1.0</td>\n",
       "      <td>0.0</td>\n",
       "      <td>0.0</td>\n",
       "      <td>1.0</td>\n",
       "      <td>0.0</td>\n",
       "      <td>0.0</td>\n",
       "      <td>0.0</td>\n",
       "      <td>1.0</td>\n",
       "      <td>0.0</td>\n",
       "      <td>1.0</td>\n",
       "      <td>0.0</td>\n",
       "      <td>0.0</td>\n",
       "      <td>0.0</td>\n",
       "      <td>1.0</td>\n",
       "      <td>45</td>\n",
       "      <td>130</td>\n",
       "      <td>237.0</td>\n",
       "      <td>0</td>\n",
       "      <td>170</td>\n",
       "      <td>0.0</td>\n",
       "    </tr>\n",
       "    <tr>\n",
       "      <th>7</th>\n",
       "      <td>0.0</td>\n",
       "      <td>1.0</td>\n",
       "      <td>0.0</td>\n",
       "      <td>1.0</td>\n",
       "      <td>0.0</td>\n",
       "      <td>0.0</td>\n",
       "      <td>0.0</td>\n",
       "      <td>1.0</td>\n",
       "      <td>0.0</td>\n",
       "      <td>1.0</td>\n",
       "      <td>0.0</td>\n",
       "      <td>0.0</td>\n",
       "      <td>0.0</td>\n",
       "      <td>1.0</td>\n",
       "      <td>54</td>\n",
       "      <td>110</td>\n",
       "      <td>208.0</td>\n",
       "      <td>0</td>\n",
       "      <td>142</td>\n",
       "      <td>0.0</td>\n",
       "    </tr>\n",
       "    <tr>\n",
       "      <th>8</th>\n",
       "      <td>0.0</td>\n",
       "      <td>1.0</td>\n",
       "      <td>1.0</td>\n",
       "      <td>0.0</td>\n",
       "      <td>0.0</td>\n",
       "      <td>0.0</td>\n",
       "      <td>0.0</td>\n",
       "      <td>1.0</td>\n",
       "      <td>0.0</td>\n",
       "      <td>0.0</td>\n",
       "      <td>1.0</td>\n",
       "      <td>0.0</td>\n",
       "      <td>1.0</td>\n",
       "      <td>0.0</td>\n",
       "      <td>37</td>\n",
       "      <td>140</td>\n",
       "      <td>207.0</td>\n",
       "      <td>0</td>\n",
       "      <td>130</td>\n",
       "      <td>1.5</td>\n",
       "    </tr>\n",
       "    <tr>\n",
       "      <th>9</th>\n",
       "      <td>1.0</td>\n",
       "      <td>0.0</td>\n",
       "      <td>0.0</td>\n",
       "      <td>1.0</td>\n",
       "      <td>0.0</td>\n",
       "      <td>0.0</td>\n",
       "      <td>0.0</td>\n",
       "      <td>1.0</td>\n",
       "      <td>0.0</td>\n",
       "      <td>1.0</td>\n",
       "      <td>0.0</td>\n",
       "      <td>0.0</td>\n",
       "      <td>0.0</td>\n",
       "      <td>1.0</td>\n",
       "      <td>48</td>\n",
       "      <td>120</td>\n",
       "      <td>284.0</td>\n",
       "      <td>0</td>\n",
       "      <td>120</td>\n",
       "      <td>0.0</td>\n",
       "    </tr>\n",
       "  </tbody>\n",
       "</table>\n",
       "</div>"
      ]
     },
     "execution_count": 275,
     "metadata": {},
     "output_type": "execute_result"
    }
   ],
   "execution_count": 275
  },
  {
   "cell_type": "code",
   "source": [
    "df.head(10)"
   ],
   "metadata": {
    "collapsed": false,
    "ExecuteTime": {
     "end_time": "2024-04-09T03:38:39.037147Z",
     "start_time": "2024-04-09T03:38:39.007084Z"
    }
   },
   "id": "f0e8d341075a82a4",
   "outputs": [
    {
     "data": {
      "text/plain": [
       "   Age Sex ChestPainType  RestingBP  Cholesterol  FastingBS RestingECG  MaxHR  \\\n",
       "0   40   M           ATA        140        289.0          0     Normal    172   \n",
       "1   49   F           NAP        160        180.0          0     Normal    156   \n",
       "2   37   M           ATA        130        283.0          0         ST     98   \n",
       "3   48   F           ASY        138        214.0          0     Normal    108   \n",
       "4   54   M           NAP        150        195.0          0     Normal    122   \n",
       "5   39   M           NAP        120        339.0          0     Normal    170   \n",
       "6   45   F           ATA        130        237.0          0     Normal    170   \n",
       "7   54   M           ATA        110        208.0          0     Normal    142   \n",
       "8   37   M           ASY        140        207.0          0     Normal    130   \n",
       "9   48   F           ATA        120        284.0          0     Normal    120   \n",
       "\n",
       "  ExerciseAngina  Oldpeak ST_Slope  HeartDisease  \n",
       "0              N      0.0       Up             0  \n",
       "1              N      1.0     Flat             1  \n",
       "2              N      0.0       Up             0  \n",
       "3              Y      1.5     Flat             1  \n",
       "4              N      0.0       Up             0  \n",
       "5              N      0.0       Up             0  \n",
       "6              N      0.0       Up             0  \n",
       "7              N      0.0       Up             0  \n",
       "8              Y      1.5     Flat             1  \n",
       "9              N      0.0       Up             0  "
      ],
      "text/html": [
       "<div>\n",
       "<style scoped>\n",
       "    .dataframe tbody tr th:only-of-type {\n",
       "        vertical-align: middle;\n",
       "    }\n",
       "\n",
       "    .dataframe tbody tr th {\n",
       "        vertical-align: top;\n",
       "    }\n",
       "\n",
       "    .dataframe thead th {\n",
       "        text-align: right;\n",
       "    }\n",
       "</style>\n",
       "<table border=\"1\" class=\"dataframe\">\n",
       "  <thead>\n",
       "    <tr style=\"text-align: right;\">\n",
       "      <th></th>\n",
       "      <th>Age</th>\n",
       "      <th>Sex</th>\n",
       "      <th>ChestPainType</th>\n",
       "      <th>RestingBP</th>\n",
       "      <th>Cholesterol</th>\n",
       "      <th>FastingBS</th>\n",
       "      <th>RestingECG</th>\n",
       "      <th>MaxHR</th>\n",
       "      <th>ExerciseAngina</th>\n",
       "      <th>Oldpeak</th>\n",
       "      <th>ST_Slope</th>\n",
       "      <th>HeartDisease</th>\n",
       "    </tr>\n",
       "  </thead>\n",
       "  <tbody>\n",
       "    <tr>\n",
       "      <th>0</th>\n",
       "      <td>40</td>\n",
       "      <td>M</td>\n",
       "      <td>ATA</td>\n",
       "      <td>140</td>\n",
       "      <td>289.0</td>\n",
       "      <td>0</td>\n",
       "      <td>Normal</td>\n",
       "      <td>172</td>\n",
       "      <td>N</td>\n",
       "      <td>0.0</td>\n",
       "      <td>Up</td>\n",
       "      <td>0</td>\n",
       "    </tr>\n",
       "    <tr>\n",
       "      <th>1</th>\n",
       "      <td>49</td>\n",
       "      <td>F</td>\n",
       "      <td>NAP</td>\n",
       "      <td>160</td>\n",
       "      <td>180.0</td>\n",
       "      <td>0</td>\n",
       "      <td>Normal</td>\n",
       "      <td>156</td>\n",
       "      <td>N</td>\n",
       "      <td>1.0</td>\n",
       "      <td>Flat</td>\n",
       "      <td>1</td>\n",
       "    </tr>\n",
       "    <tr>\n",
       "      <th>2</th>\n",
       "      <td>37</td>\n",
       "      <td>M</td>\n",
       "      <td>ATA</td>\n",
       "      <td>130</td>\n",
       "      <td>283.0</td>\n",
       "      <td>0</td>\n",
       "      <td>ST</td>\n",
       "      <td>98</td>\n",
       "      <td>N</td>\n",
       "      <td>0.0</td>\n",
       "      <td>Up</td>\n",
       "      <td>0</td>\n",
       "    </tr>\n",
       "    <tr>\n",
       "      <th>3</th>\n",
       "      <td>48</td>\n",
       "      <td>F</td>\n",
       "      <td>ASY</td>\n",
       "      <td>138</td>\n",
       "      <td>214.0</td>\n",
       "      <td>0</td>\n",
       "      <td>Normal</td>\n",
       "      <td>108</td>\n",
       "      <td>Y</td>\n",
       "      <td>1.5</td>\n",
       "      <td>Flat</td>\n",
       "      <td>1</td>\n",
       "    </tr>\n",
       "    <tr>\n",
       "      <th>4</th>\n",
       "      <td>54</td>\n",
       "      <td>M</td>\n",
       "      <td>NAP</td>\n",
       "      <td>150</td>\n",
       "      <td>195.0</td>\n",
       "      <td>0</td>\n",
       "      <td>Normal</td>\n",
       "      <td>122</td>\n",
       "      <td>N</td>\n",
       "      <td>0.0</td>\n",
       "      <td>Up</td>\n",
       "      <td>0</td>\n",
       "    </tr>\n",
       "    <tr>\n",
       "      <th>5</th>\n",
       "      <td>39</td>\n",
       "      <td>M</td>\n",
       "      <td>NAP</td>\n",
       "      <td>120</td>\n",
       "      <td>339.0</td>\n",
       "      <td>0</td>\n",
       "      <td>Normal</td>\n",
       "      <td>170</td>\n",
       "      <td>N</td>\n",
       "      <td>0.0</td>\n",
       "      <td>Up</td>\n",
       "      <td>0</td>\n",
       "    </tr>\n",
       "    <tr>\n",
       "      <th>6</th>\n",
       "      <td>45</td>\n",
       "      <td>F</td>\n",
       "      <td>ATA</td>\n",
       "      <td>130</td>\n",
       "      <td>237.0</td>\n",
       "      <td>0</td>\n",
       "      <td>Normal</td>\n",
       "      <td>170</td>\n",
       "      <td>N</td>\n",
       "      <td>0.0</td>\n",
       "      <td>Up</td>\n",
       "      <td>0</td>\n",
       "    </tr>\n",
       "    <tr>\n",
       "      <th>7</th>\n",
       "      <td>54</td>\n",
       "      <td>M</td>\n",
       "      <td>ATA</td>\n",
       "      <td>110</td>\n",
       "      <td>208.0</td>\n",
       "      <td>0</td>\n",
       "      <td>Normal</td>\n",
       "      <td>142</td>\n",
       "      <td>N</td>\n",
       "      <td>0.0</td>\n",
       "      <td>Up</td>\n",
       "      <td>0</td>\n",
       "    </tr>\n",
       "    <tr>\n",
       "      <th>8</th>\n",
       "      <td>37</td>\n",
       "      <td>M</td>\n",
       "      <td>ASY</td>\n",
       "      <td>140</td>\n",
       "      <td>207.0</td>\n",
       "      <td>0</td>\n",
       "      <td>Normal</td>\n",
       "      <td>130</td>\n",
       "      <td>Y</td>\n",
       "      <td>1.5</td>\n",
       "      <td>Flat</td>\n",
       "      <td>1</td>\n",
       "    </tr>\n",
       "    <tr>\n",
       "      <th>9</th>\n",
       "      <td>48</td>\n",
       "      <td>F</td>\n",
       "      <td>ATA</td>\n",
       "      <td>120</td>\n",
       "      <td>284.0</td>\n",
       "      <td>0</td>\n",
       "      <td>Normal</td>\n",
       "      <td>120</td>\n",
       "      <td>N</td>\n",
       "      <td>0.0</td>\n",
       "      <td>Up</td>\n",
       "      <td>0</td>\n",
       "    </tr>\n",
       "  </tbody>\n",
       "</table>\n",
       "</div>"
      ]
     },
     "execution_count": 276,
     "metadata": {},
     "output_type": "execute_result"
    }
   ],
   "execution_count": 276
  },
  {
   "cell_type": "code",
   "source": [
    "# Escalonamento\n",
    "from sklearn.preprocessing import StandardScaler"
   ],
   "metadata": {
    "collapsed": false,
    "ExecuteTime": {
     "end_time": "2024-04-09T03:38:39.606226Z",
     "start_time": "2024-04-09T03:38:39.591008Z"
    }
   },
   "id": "eb966cb23a1bd663",
   "outputs": [],
   "execution_count": 277
  },
  {
   "cell_type": "code",
   "source": [
    "previsores3_esc = StandardScaler().fit_transform(previsores3)\n",
    "previsores3_esc"
   ],
   "metadata": {
    "collapsed": false,
    "ExecuteTime": {
     "end_time": "2024-04-09T03:38:41.269126Z",
     "start_time": "2024-04-09T03:38:41.254297Z"
    }
   },
   "id": "a0cabe436427e0ac",
   "outputs": [
    {
     "data": {
      "text/plain": [
       "array([[-0.51630861,  0.51630861, -1.08542493, ..., -0.55173333,\n",
       "         1.38333943, -0.83150225],\n",
       "       [ 1.9368261 , -1.9368261 , -1.08542493, ..., -0.55173333,\n",
       "         0.75473573,  0.10625149],\n",
       "       [-0.51630861,  0.51630861, -1.08542493, ..., -0.55173333,\n",
       "        -1.52395266, -0.83150225],\n",
       "       ...,\n",
       "       [-0.51630861,  0.51630861,  0.92129817, ..., -0.55173333,\n",
       "        -0.85606123,  0.29380223],\n",
       "       [ 1.9368261 , -1.9368261 , -1.08542493, ..., -0.55173333,\n",
       "         1.46191489, -0.83150225],\n",
       "       [-0.51630861,  0.51630861, -1.08542493, ..., -0.55173333,\n",
       "         1.42262716, -0.83150225]])"
      ]
     },
     "execution_count": 278,
     "metadata": {},
     "output_type": "execute_result"
    }
   ],
   "execution_count": 278
  },
  {
   "cell_type": "code",
   "source": [
    "previsores3df = pd.DataFrame(previsores3_esc)\n",
    "previsores3df"
   ],
   "metadata": {
    "collapsed": false,
    "ExecuteTime": {
     "end_time": "2024-04-09T03:38:42.598539Z",
     "start_time": "2024-04-09T03:38:42.561943Z"
    }
   },
   "id": "fd2e6de0fd8eaaae",
   "outputs": [
    {
     "data": {
      "text/plain": [
       "           0         1         2         3         4         5         6   \\\n",
       "0   -0.516309  0.516309 -1.085425  2.073784 -0.531524 -0.229810 -0.507826   \n",
       "1    1.936826 -1.936826 -1.085425 -0.482210  1.881384 -0.229810 -0.507826   \n",
       "2   -0.516309  0.516309 -1.085425  2.073784 -0.531524 -0.229810 -0.507826   \n",
       "3    1.936826 -1.936826  0.921298 -0.482210 -0.531524 -0.229810 -0.507826   \n",
       "4   -0.516309  0.516309 -1.085425 -0.482210  1.881384 -0.229810 -0.507826   \n",
       "..        ...       ...       ...       ...       ...       ...       ...   \n",
       "912 -0.516309  0.516309 -1.085425 -0.482210 -0.531524  4.351412 -0.507826   \n",
       "913 -0.516309  0.516309  0.921298 -0.482210 -0.531524 -0.229810 -0.507826   \n",
       "914 -0.516309  0.516309  0.921298 -0.482210 -0.531524 -0.229810 -0.507826   \n",
       "915  1.936826 -1.936826 -1.085425  2.073784 -0.531524 -0.229810  1.969177   \n",
       "916 -0.516309  0.516309 -1.085425 -0.482210  1.881384 -0.229810 -0.507826   \n",
       "\n",
       "           7         8         9         10        11        12        13  \\\n",
       "0    0.815013 -0.490781  0.824310 -0.824310 -0.271607 -1.001091  1.149573   \n",
       "1    0.815013 -0.490781  0.824310 -0.824310 -0.271607  0.998910 -0.869888   \n",
       "2   -1.226974  2.037569  0.824310 -0.824310 -0.271607 -1.001091  1.149573   \n",
       "3    0.815013 -0.490781 -1.213136  1.213136 -0.271607  0.998910 -0.869888   \n",
       "4    0.815013 -0.490781  0.824310 -0.824310 -0.271607 -1.001091  1.149573   \n",
       "..        ...       ...       ...       ...       ...       ...       ...   \n",
       "912  0.815013 -0.490781  0.824310 -0.824310 -0.271607  0.998910 -0.869888   \n",
       "913  0.815013 -0.490781  0.824310 -0.824310 -0.271607  0.998910 -0.869888   \n",
       "914  0.815013 -0.490781 -1.213136  1.213136 -0.271607  0.998910 -0.869888   \n",
       "915 -1.226974 -0.490781  0.824310 -0.824310 -0.271607  0.998910 -0.869888   \n",
       "916  0.815013 -0.490781  0.824310 -0.824310 -0.271607 -1.001091  1.149573   \n",
       "\n",
       "           14        15        16        17        18        19  \n",
       "0   -1.432206  0.414627  0.832075 -0.551733  1.383339 -0.831502  \n",
       "1   -0.478057  1.526360 -1.212261 -0.551733  0.754736  0.106251  \n",
       "2   -1.750256 -0.141240  0.719543 -0.551733 -1.523953 -0.831502  \n",
       "3   -0.584074  0.303453 -0.574578 -0.551733 -1.131075  0.575128  \n",
       "4    0.052026  0.970493 -0.930931 -0.551733 -0.581047 -0.831502  \n",
       "..        ...       ...       ...       ...       ...       ...  \n",
       "912 -0.902124 -1.252973  0.363191 -0.551733 -0.188170  0.293802  \n",
       "913  1.536257  0.636973 -0.968441  1.812470  0.165420  2.356860  \n",
       "914  0.370075 -0.141240 -2.131275 -0.551733 -0.856061  0.293802  \n",
       "915  0.370075 -0.141240 -0.161960 -0.551733  1.461915 -0.831502  \n",
       "916 -1.644239  0.303453 -1.306038 -0.551733  1.422627 -0.831502  \n",
       "\n",
       "[917 rows x 20 columns]"
      ],
      "text/html": [
       "<div>\n",
       "<style scoped>\n",
       "    .dataframe tbody tr th:only-of-type {\n",
       "        vertical-align: middle;\n",
       "    }\n",
       "\n",
       "    .dataframe tbody tr th {\n",
       "        vertical-align: top;\n",
       "    }\n",
       "\n",
       "    .dataframe thead th {\n",
       "        text-align: right;\n",
       "    }\n",
       "</style>\n",
       "<table border=\"1\" class=\"dataframe\">\n",
       "  <thead>\n",
       "    <tr style=\"text-align: right;\">\n",
       "      <th></th>\n",
       "      <th>0</th>\n",
       "      <th>1</th>\n",
       "      <th>2</th>\n",
       "      <th>3</th>\n",
       "      <th>4</th>\n",
       "      <th>5</th>\n",
       "      <th>6</th>\n",
       "      <th>7</th>\n",
       "      <th>8</th>\n",
       "      <th>9</th>\n",
       "      <th>10</th>\n",
       "      <th>11</th>\n",
       "      <th>12</th>\n",
       "      <th>13</th>\n",
       "      <th>14</th>\n",
       "      <th>15</th>\n",
       "      <th>16</th>\n",
       "      <th>17</th>\n",
       "      <th>18</th>\n",
       "      <th>19</th>\n",
       "    </tr>\n",
       "  </thead>\n",
       "  <tbody>\n",
       "    <tr>\n",
       "      <th>0</th>\n",
       "      <td>-0.516309</td>\n",
       "      <td>0.516309</td>\n",
       "      <td>-1.085425</td>\n",
       "      <td>2.073784</td>\n",
       "      <td>-0.531524</td>\n",
       "      <td>-0.229810</td>\n",
       "      <td>-0.507826</td>\n",
       "      <td>0.815013</td>\n",
       "      <td>-0.490781</td>\n",
       "      <td>0.824310</td>\n",
       "      <td>-0.824310</td>\n",
       "      <td>-0.271607</td>\n",
       "      <td>-1.001091</td>\n",
       "      <td>1.149573</td>\n",
       "      <td>-1.432206</td>\n",
       "      <td>0.414627</td>\n",
       "      <td>0.832075</td>\n",
       "      <td>-0.551733</td>\n",
       "      <td>1.383339</td>\n",
       "      <td>-0.831502</td>\n",
       "    </tr>\n",
       "    <tr>\n",
       "      <th>1</th>\n",
       "      <td>1.936826</td>\n",
       "      <td>-1.936826</td>\n",
       "      <td>-1.085425</td>\n",
       "      <td>-0.482210</td>\n",
       "      <td>1.881384</td>\n",
       "      <td>-0.229810</td>\n",
       "      <td>-0.507826</td>\n",
       "      <td>0.815013</td>\n",
       "      <td>-0.490781</td>\n",
       "      <td>0.824310</td>\n",
       "      <td>-0.824310</td>\n",
       "      <td>-0.271607</td>\n",
       "      <td>0.998910</td>\n",
       "      <td>-0.869888</td>\n",
       "      <td>-0.478057</td>\n",
       "      <td>1.526360</td>\n",
       "      <td>-1.212261</td>\n",
       "      <td>-0.551733</td>\n",
       "      <td>0.754736</td>\n",
       "      <td>0.106251</td>\n",
       "    </tr>\n",
       "    <tr>\n",
       "      <th>2</th>\n",
       "      <td>-0.516309</td>\n",
       "      <td>0.516309</td>\n",
       "      <td>-1.085425</td>\n",
       "      <td>2.073784</td>\n",
       "      <td>-0.531524</td>\n",
       "      <td>-0.229810</td>\n",
       "      <td>-0.507826</td>\n",
       "      <td>-1.226974</td>\n",
       "      <td>2.037569</td>\n",
       "      <td>0.824310</td>\n",
       "      <td>-0.824310</td>\n",
       "      <td>-0.271607</td>\n",
       "      <td>-1.001091</td>\n",
       "      <td>1.149573</td>\n",
       "      <td>-1.750256</td>\n",
       "      <td>-0.141240</td>\n",
       "      <td>0.719543</td>\n",
       "      <td>-0.551733</td>\n",
       "      <td>-1.523953</td>\n",
       "      <td>-0.831502</td>\n",
       "    </tr>\n",
       "    <tr>\n",
       "      <th>3</th>\n",
       "      <td>1.936826</td>\n",
       "      <td>-1.936826</td>\n",
       "      <td>0.921298</td>\n",
       "      <td>-0.482210</td>\n",
       "      <td>-0.531524</td>\n",
       "      <td>-0.229810</td>\n",
       "      <td>-0.507826</td>\n",
       "      <td>0.815013</td>\n",
       "      <td>-0.490781</td>\n",
       "      <td>-1.213136</td>\n",
       "      <td>1.213136</td>\n",
       "      <td>-0.271607</td>\n",
       "      <td>0.998910</td>\n",
       "      <td>-0.869888</td>\n",
       "      <td>-0.584074</td>\n",
       "      <td>0.303453</td>\n",
       "      <td>-0.574578</td>\n",
       "      <td>-0.551733</td>\n",
       "      <td>-1.131075</td>\n",
       "      <td>0.575128</td>\n",
       "    </tr>\n",
       "    <tr>\n",
       "      <th>4</th>\n",
       "      <td>-0.516309</td>\n",
       "      <td>0.516309</td>\n",
       "      <td>-1.085425</td>\n",
       "      <td>-0.482210</td>\n",
       "      <td>1.881384</td>\n",
       "      <td>-0.229810</td>\n",
       "      <td>-0.507826</td>\n",
       "      <td>0.815013</td>\n",
       "      <td>-0.490781</td>\n",
       "      <td>0.824310</td>\n",
       "      <td>-0.824310</td>\n",
       "      <td>-0.271607</td>\n",
       "      <td>-1.001091</td>\n",
       "      <td>1.149573</td>\n",
       "      <td>0.052026</td>\n",
       "      <td>0.970493</td>\n",
       "      <td>-0.930931</td>\n",
       "      <td>-0.551733</td>\n",
       "      <td>-0.581047</td>\n",
       "      <td>-0.831502</td>\n",
       "    </tr>\n",
       "    <tr>\n",
       "      <th>...</th>\n",
       "      <td>...</td>\n",
       "      <td>...</td>\n",
       "      <td>...</td>\n",
       "      <td>...</td>\n",
       "      <td>...</td>\n",
       "      <td>...</td>\n",
       "      <td>...</td>\n",
       "      <td>...</td>\n",
       "      <td>...</td>\n",
       "      <td>...</td>\n",
       "      <td>...</td>\n",
       "      <td>...</td>\n",
       "      <td>...</td>\n",
       "      <td>...</td>\n",
       "      <td>...</td>\n",
       "      <td>...</td>\n",
       "      <td>...</td>\n",
       "      <td>...</td>\n",
       "      <td>...</td>\n",
       "      <td>...</td>\n",
       "    </tr>\n",
       "    <tr>\n",
       "      <th>912</th>\n",
       "      <td>-0.516309</td>\n",
       "      <td>0.516309</td>\n",
       "      <td>-1.085425</td>\n",
       "      <td>-0.482210</td>\n",
       "      <td>-0.531524</td>\n",
       "      <td>4.351412</td>\n",
       "      <td>-0.507826</td>\n",
       "      <td>0.815013</td>\n",
       "      <td>-0.490781</td>\n",
       "      <td>0.824310</td>\n",
       "      <td>-0.824310</td>\n",
       "      <td>-0.271607</td>\n",
       "      <td>0.998910</td>\n",
       "      <td>-0.869888</td>\n",
       "      <td>-0.902124</td>\n",
       "      <td>-1.252973</td>\n",
       "      <td>0.363191</td>\n",
       "      <td>-0.551733</td>\n",
       "      <td>-0.188170</td>\n",
       "      <td>0.293802</td>\n",
       "    </tr>\n",
       "    <tr>\n",
       "      <th>913</th>\n",
       "      <td>-0.516309</td>\n",
       "      <td>0.516309</td>\n",
       "      <td>0.921298</td>\n",
       "      <td>-0.482210</td>\n",
       "      <td>-0.531524</td>\n",
       "      <td>-0.229810</td>\n",
       "      <td>-0.507826</td>\n",
       "      <td>0.815013</td>\n",
       "      <td>-0.490781</td>\n",
       "      <td>0.824310</td>\n",
       "      <td>-0.824310</td>\n",
       "      <td>-0.271607</td>\n",
       "      <td>0.998910</td>\n",
       "      <td>-0.869888</td>\n",
       "      <td>1.536257</td>\n",
       "      <td>0.636973</td>\n",
       "      <td>-0.968441</td>\n",
       "      <td>1.812470</td>\n",
       "      <td>0.165420</td>\n",
       "      <td>2.356860</td>\n",
       "    </tr>\n",
       "    <tr>\n",
       "      <th>914</th>\n",
       "      <td>-0.516309</td>\n",
       "      <td>0.516309</td>\n",
       "      <td>0.921298</td>\n",
       "      <td>-0.482210</td>\n",
       "      <td>-0.531524</td>\n",
       "      <td>-0.229810</td>\n",
       "      <td>-0.507826</td>\n",
       "      <td>0.815013</td>\n",
       "      <td>-0.490781</td>\n",
       "      <td>-1.213136</td>\n",
       "      <td>1.213136</td>\n",
       "      <td>-0.271607</td>\n",
       "      <td>0.998910</td>\n",
       "      <td>-0.869888</td>\n",
       "      <td>0.370075</td>\n",
       "      <td>-0.141240</td>\n",
       "      <td>-2.131275</td>\n",
       "      <td>-0.551733</td>\n",
       "      <td>-0.856061</td>\n",
       "      <td>0.293802</td>\n",
       "    </tr>\n",
       "    <tr>\n",
       "      <th>915</th>\n",
       "      <td>1.936826</td>\n",
       "      <td>-1.936826</td>\n",
       "      <td>-1.085425</td>\n",
       "      <td>2.073784</td>\n",
       "      <td>-0.531524</td>\n",
       "      <td>-0.229810</td>\n",
       "      <td>1.969177</td>\n",
       "      <td>-1.226974</td>\n",
       "      <td>-0.490781</td>\n",
       "      <td>0.824310</td>\n",
       "      <td>-0.824310</td>\n",
       "      <td>-0.271607</td>\n",
       "      <td>0.998910</td>\n",
       "      <td>-0.869888</td>\n",
       "      <td>0.370075</td>\n",
       "      <td>-0.141240</td>\n",
       "      <td>-0.161960</td>\n",
       "      <td>-0.551733</td>\n",
       "      <td>1.461915</td>\n",
       "      <td>-0.831502</td>\n",
       "    </tr>\n",
       "    <tr>\n",
       "      <th>916</th>\n",
       "      <td>-0.516309</td>\n",
       "      <td>0.516309</td>\n",
       "      <td>-1.085425</td>\n",
       "      <td>-0.482210</td>\n",
       "      <td>1.881384</td>\n",
       "      <td>-0.229810</td>\n",
       "      <td>-0.507826</td>\n",
       "      <td>0.815013</td>\n",
       "      <td>-0.490781</td>\n",
       "      <td>0.824310</td>\n",
       "      <td>-0.824310</td>\n",
       "      <td>-0.271607</td>\n",
       "      <td>-1.001091</td>\n",
       "      <td>1.149573</td>\n",
       "      <td>-1.644239</td>\n",
       "      <td>0.303453</td>\n",
       "      <td>-1.306038</td>\n",
       "      <td>-0.551733</td>\n",
       "      <td>1.422627</td>\n",
       "      <td>-0.831502</td>\n",
       "    </tr>\n",
       "  </tbody>\n",
       "</table>\n",
       "<p>917 rows × 20 columns</p>\n",
       "</div>"
      ]
     },
     "execution_count": 279,
     "metadata": {},
     "output_type": "execute_result"
    }
   ],
   "execution_count": 279
  },
  {
   "cell_type": "code",
   "source": [
    "previsores3df.describe()"
   ],
   "metadata": {
    "collapsed": false,
    "ExecuteTime": {
     "end_time": "2024-04-09T03:38:43.336678Z",
     "start_time": "2024-04-09T03:38:43.217803Z"
    }
   },
   "id": "e31e156af64d7409",
   "outputs": [
    {
     "data": {
      "text/plain": [
       "                 0             1             2             3             4   \\\n",
       "count  9.170000e+02  9.170000e+02  9.170000e+02  9.170000e+02  9.170000e+02   \n",
       "mean   1.084798e-16 -1.472226e-16  1.937139e-17 -3.874279e-17  3.874279e-17   \n",
       "std    1.000546e+00  1.000546e+00  1.000546e+00  1.000546e+00  1.000546e+00   \n",
       "min   -5.163086e-01 -1.936826e+00 -1.085425e+00 -4.822104e-01 -5.315237e-01   \n",
       "25%   -5.163086e-01  5.163086e-01 -1.085425e+00 -4.822104e-01 -5.315237e-01   \n",
       "50%   -5.163086e-01  5.163086e-01  9.212982e-01 -4.822104e-01 -5.315237e-01   \n",
       "75%   -5.163086e-01  5.163086e-01  9.212982e-01 -4.822104e-01 -5.315237e-01   \n",
       "max    1.936826e+00  5.163086e-01  9.212982e-01  2.073784e+00  1.881384e+00   \n",
       "\n",
       "                 5           6             7             8             9   \\\n",
       "count  9.170000e+02  917.000000  9.170000e+02  9.170000e+02  9.170000e+02   \n",
       "mean   6.973702e-17    0.000000 -9.298269e-17  1.549712e-17 -4.261707e-17   \n",
       "std    1.000546e+00    1.000546  1.000546e+00  1.000546e+00  1.000546e+00   \n",
       "min   -2.298105e-01   -0.507826 -1.226974e+00 -4.907810e-01 -1.213136e+00   \n",
       "25%   -2.298105e-01   -0.507826 -1.226974e+00 -4.907810e-01 -1.213136e+00   \n",
       "50%   -2.298105e-01   -0.507826  8.150134e-01 -4.907810e-01  8.243101e-01   \n",
       "75%   -2.298105e-01   -0.507826  8.150134e-01 -4.907810e-01  8.243101e-01   \n",
       "max    4.351412e+00    1.969177  8.150134e-01  2.037569e+00  8.243101e-01   \n",
       "\n",
       "                 10            11          12            13            14  \\\n",
       "count  9.170000e+02  9.170000e+02  917.000000  9.170000e+02  9.170000e+02   \n",
       "mean   4.261707e-17  8.523413e-17    0.000000 -3.874279e-17  1.859654e-16   \n",
       "std    1.000546e+00  1.000546e+00    1.000546  1.000546e+00  1.000546e+00   \n",
       "min   -8.243101e-01 -2.716072e-01   -1.001091 -8.698879e-01 -2.704405e+00   \n",
       "25%   -8.243101e-01 -2.716072e-01   -1.001091 -8.698879e-01 -6.900904e-01   \n",
       "50%   -8.243101e-01 -2.716072e-01    0.998910 -8.698879e-01  5.202558e-02   \n",
       "75%    1.213136e+00 -2.716072e-01    0.998910  1.149573e+00  6.881250e-01   \n",
       "max    1.213136e+00  3.681787e+00    0.998910  1.149573e+00  2.490407e+00   \n",
       "\n",
       "                 15            16            17            18            19  \n",
       "count  9.170000e+02  9.170000e+02  9.170000e+02  9.170000e+02  9.170000e+02  \n",
       "mean   7.884157e-16  3.014189e-15 -1.549712e-17 -5.114048e-16 -1.859654e-16  \n",
       "std    1.000546e+00  1.000546e+00  1.000546e+00  1.000546e+00  1.000546e+00  \n",
       "min   -2.920572e+00 -2.994023e+00 -5.517333e-01 -3.016886e+00 -3.269662e+00  \n",
       "25%   -6.971063e-01 -5.745784e-01 -5.517333e-01 -6.596226e-01 -8.315022e-01  \n",
       "50%   -1.412398e-01  3.198360e-15 -5.517333e-01  4.755658e-02 -2.688500e-01  \n",
       "75%    4.146267e-01  4.194568e-01 -5.517333e-01  7.547357e-01  5.751284e-01  \n",
       "max    3.749826e+00  6.721265e+00  1.812470e+00  2.561971e+00  4.982571e+00  "
      ],
      "text/html": [
       "<div>\n",
       "<style scoped>\n",
       "    .dataframe tbody tr th:only-of-type {\n",
       "        vertical-align: middle;\n",
       "    }\n",
       "\n",
       "    .dataframe tbody tr th {\n",
       "        vertical-align: top;\n",
       "    }\n",
       "\n",
       "    .dataframe thead th {\n",
       "        text-align: right;\n",
       "    }\n",
       "</style>\n",
       "<table border=\"1\" class=\"dataframe\">\n",
       "  <thead>\n",
       "    <tr style=\"text-align: right;\">\n",
       "      <th></th>\n",
       "      <th>0</th>\n",
       "      <th>1</th>\n",
       "      <th>2</th>\n",
       "      <th>3</th>\n",
       "      <th>4</th>\n",
       "      <th>5</th>\n",
       "      <th>6</th>\n",
       "      <th>7</th>\n",
       "      <th>8</th>\n",
       "      <th>9</th>\n",
       "      <th>10</th>\n",
       "      <th>11</th>\n",
       "      <th>12</th>\n",
       "      <th>13</th>\n",
       "      <th>14</th>\n",
       "      <th>15</th>\n",
       "      <th>16</th>\n",
       "      <th>17</th>\n",
       "      <th>18</th>\n",
       "      <th>19</th>\n",
       "    </tr>\n",
       "  </thead>\n",
       "  <tbody>\n",
       "    <tr>\n",
       "      <th>count</th>\n",
       "      <td>9.170000e+02</td>\n",
       "      <td>9.170000e+02</td>\n",
       "      <td>9.170000e+02</td>\n",
       "      <td>9.170000e+02</td>\n",
       "      <td>9.170000e+02</td>\n",
       "      <td>9.170000e+02</td>\n",
       "      <td>917.000000</td>\n",
       "      <td>9.170000e+02</td>\n",
       "      <td>9.170000e+02</td>\n",
       "      <td>9.170000e+02</td>\n",
       "      <td>9.170000e+02</td>\n",
       "      <td>9.170000e+02</td>\n",
       "      <td>917.000000</td>\n",
       "      <td>9.170000e+02</td>\n",
       "      <td>9.170000e+02</td>\n",
       "      <td>9.170000e+02</td>\n",
       "      <td>9.170000e+02</td>\n",
       "      <td>9.170000e+02</td>\n",
       "      <td>9.170000e+02</td>\n",
       "      <td>9.170000e+02</td>\n",
       "    </tr>\n",
       "    <tr>\n",
       "      <th>mean</th>\n",
       "      <td>1.084798e-16</td>\n",
       "      <td>-1.472226e-16</td>\n",
       "      <td>1.937139e-17</td>\n",
       "      <td>-3.874279e-17</td>\n",
       "      <td>3.874279e-17</td>\n",
       "      <td>6.973702e-17</td>\n",
       "      <td>0.000000</td>\n",
       "      <td>-9.298269e-17</td>\n",
       "      <td>1.549712e-17</td>\n",
       "      <td>-4.261707e-17</td>\n",
       "      <td>4.261707e-17</td>\n",
       "      <td>8.523413e-17</td>\n",
       "      <td>0.000000</td>\n",
       "      <td>-3.874279e-17</td>\n",
       "      <td>1.859654e-16</td>\n",
       "      <td>7.884157e-16</td>\n",
       "      <td>3.014189e-15</td>\n",
       "      <td>-1.549712e-17</td>\n",
       "      <td>-5.114048e-16</td>\n",
       "      <td>-1.859654e-16</td>\n",
       "    </tr>\n",
       "    <tr>\n",
       "      <th>std</th>\n",
       "      <td>1.000546e+00</td>\n",
       "      <td>1.000546e+00</td>\n",
       "      <td>1.000546e+00</td>\n",
       "      <td>1.000546e+00</td>\n",
       "      <td>1.000546e+00</td>\n",
       "      <td>1.000546e+00</td>\n",
       "      <td>1.000546</td>\n",
       "      <td>1.000546e+00</td>\n",
       "      <td>1.000546e+00</td>\n",
       "      <td>1.000546e+00</td>\n",
       "      <td>1.000546e+00</td>\n",
       "      <td>1.000546e+00</td>\n",
       "      <td>1.000546</td>\n",
       "      <td>1.000546e+00</td>\n",
       "      <td>1.000546e+00</td>\n",
       "      <td>1.000546e+00</td>\n",
       "      <td>1.000546e+00</td>\n",
       "      <td>1.000546e+00</td>\n",
       "      <td>1.000546e+00</td>\n",
       "      <td>1.000546e+00</td>\n",
       "    </tr>\n",
       "    <tr>\n",
       "      <th>min</th>\n",
       "      <td>-5.163086e-01</td>\n",
       "      <td>-1.936826e+00</td>\n",
       "      <td>-1.085425e+00</td>\n",
       "      <td>-4.822104e-01</td>\n",
       "      <td>-5.315237e-01</td>\n",
       "      <td>-2.298105e-01</td>\n",
       "      <td>-0.507826</td>\n",
       "      <td>-1.226974e+00</td>\n",
       "      <td>-4.907810e-01</td>\n",
       "      <td>-1.213136e+00</td>\n",
       "      <td>-8.243101e-01</td>\n",
       "      <td>-2.716072e-01</td>\n",
       "      <td>-1.001091</td>\n",
       "      <td>-8.698879e-01</td>\n",
       "      <td>-2.704405e+00</td>\n",
       "      <td>-2.920572e+00</td>\n",
       "      <td>-2.994023e+00</td>\n",
       "      <td>-5.517333e-01</td>\n",
       "      <td>-3.016886e+00</td>\n",
       "      <td>-3.269662e+00</td>\n",
       "    </tr>\n",
       "    <tr>\n",
       "      <th>25%</th>\n",
       "      <td>-5.163086e-01</td>\n",
       "      <td>5.163086e-01</td>\n",
       "      <td>-1.085425e+00</td>\n",
       "      <td>-4.822104e-01</td>\n",
       "      <td>-5.315237e-01</td>\n",
       "      <td>-2.298105e-01</td>\n",
       "      <td>-0.507826</td>\n",
       "      <td>-1.226974e+00</td>\n",
       "      <td>-4.907810e-01</td>\n",
       "      <td>-1.213136e+00</td>\n",
       "      <td>-8.243101e-01</td>\n",
       "      <td>-2.716072e-01</td>\n",
       "      <td>-1.001091</td>\n",
       "      <td>-8.698879e-01</td>\n",
       "      <td>-6.900904e-01</td>\n",
       "      <td>-6.971063e-01</td>\n",
       "      <td>-5.745784e-01</td>\n",
       "      <td>-5.517333e-01</td>\n",
       "      <td>-6.596226e-01</td>\n",
       "      <td>-8.315022e-01</td>\n",
       "    </tr>\n",
       "    <tr>\n",
       "      <th>50%</th>\n",
       "      <td>-5.163086e-01</td>\n",
       "      <td>5.163086e-01</td>\n",
       "      <td>9.212982e-01</td>\n",
       "      <td>-4.822104e-01</td>\n",
       "      <td>-5.315237e-01</td>\n",
       "      <td>-2.298105e-01</td>\n",
       "      <td>-0.507826</td>\n",
       "      <td>8.150134e-01</td>\n",
       "      <td>-4.907810e-01</td>\n",
       "      <td>8.243101e-01</td>\n",
       "      <td>-8.243101e-01</td>\n",
       "      <td>-2.716072e-01</td>\n",
       "      <td>0.998910</td>\n",
       "      <td>-8.698879e-01</td>\n",
       "      <td>5.202558e-02</td>\n",
       "      <td>-1.412398e-01</td>\n",
       "      <td>3.198360e-15</td>\n",
       "      <td>-5.517333e-01</td>\n",
       "      <td>4.755658e-02</td>\n",
       "      <td>-2.688500e-01</td>\n",
       "    </tr>\n",
       "    <tr>\n",
       "      <th>75%</th>\n",
       "      <td>-5.163086e-01</td>\n",
       "      <td>5.163086e-01</td>\n",
       "      <td>9.212982e-01</td>\n",
       "      <td>-4.822104e-01</td>\n",
       "      <td>-5.315237e-01</td>\n",
       "      <td>-2.298105e-01</td>\n",
       "      <td>-0.507826</td>\n",
       "      <td>8.150134e-01</td>\n",
       "      <td>-4.907810e-01</td>\n",
       "      <td>8.243101e-01</td>\n",
       "      <td>1.213136e+00</td>\n",
       "      <td>-2.716072e-01</td>\n",
       "      <td>0.998910</td>\n",
       "      <td>1.149573e+00</td>\n",
       "      <td>6.881250e-01</td>\n",
       "      <td>4.146267e-01</td>\n",
       "      <td>4.194568e-01</td>\n",
       "      <td>-5.517333e-01</td>\n",
       "      <td>7.547357e-01</td>\n",
       "      <td>5.751284e-01</td>\n",
       "    </tr>\n",
       "    <tr>\n",
       "      <th>max</th>\n",
       "      <td>1.936826e+00</td>\n",
       "      <td>5.163086e-01</td>\n",
       "      <td>9.212982e-01</td>\n",
       "      <td>2.073784e+00</td>\n",
       "      <td>1.881384e+00</td>\n",
       "      <td>4.351412e+00</td>\n",
       "      <td>1.969177</td>\n",
       "      <td>8.150134e-01</td>\n",
       "      <td>2.037569e+00</td>\n",
       "      <td>8.243101e-01</td>\n",
       "      <td>1.213136e+00</td>\n",
       "      <td>3.681787e+00</td>\n",
       "      <td>0.998910</td>\n",
       "      <td>1.149573e+00</td>\n",
       "      <td>2.490407e+00</td>\n",
       "      <td>3.749826e+00</td>\n",
       "      <td>6.721265e+00</td>\n",
       "      <td>1.812470e+00</td>\n",
       "      <td>2.561971e+00</td>\n",
       "      <td>4.982571e+00</td>\n",
       "    </tr>\n",
       "  </tbody>\n",
       "</table>\n",
       "</div>"
      ]
     },
     "execution_count": 280,
     "metadata": {},
     "output_type": "execute_result"
    }
   ],
   "execution_count": 280
  },
  {
   "cell_type": "code",
   "source": [
    "# Resumo do Pré-Processamento:\n",
    "# alvo = variável que se pretende atingir (tem ou não tem doença cardiaca);\n",
    "# previsores = conjunto de variáveis previsoras com as variáveis categóricas transformadas em numéricas manualmente, sem escalonar;\n",
    "# previsores_esc = previsores escalonada;\n",
    "# previsores2 = conjunto de variáveis previsoras com as variáveis categóricas transformadas em numéricas automaticamente pelo labelencoder;\n",
    "# previsores3 = previsores2 aplicada onehotencoder (variáveis dummy);\n",
    "# previsores3_esc = previsores3 escalonada."
   ],
   "metadata": {
    "collapsed": false,
    "ExecuteTime": {
     "end_time": "2024-04-09T03:38:44.118211Z",
     "start_time": "2024-04-09T03:38:44.100009Z"
    }
   },
   "id": "bc76ca318018fffc",
   "outputs": [],
   "execution_count": 281
  },
  {
   "cell_type": "markdown",
   "source": [
    "# 42. Pré-processamento: Redução de dimensionalidade"
   ],
   "metadata": {
    "collapsed": false
   },
   "id": "ae3e88e875aa7307"
  },
  {
   "cell_type": "code",
   "source": [
    "# Análise dos componentes principais (Seleção de características vs Extração de características / aprendizagem não supervisionada)\n",
    "from sklearn.decomposition import PCA\n",
    "pca = PCA(n_components=3, svd_solver='auto')"
   ],
   "metadata": {
    "collapsed": false,
    "ExecuteTime": {
     "end_time": "2024-04-09T03:38:45.665600Z",
     "start_time": "2024-04-09T03:38:45.657841Z"
    }
   },
   "id": "83684a45a85543fa",
   "outputs": [],
   "execution_count": 282
  },
  {
   "cell_type": "code",
   "source": [
    "previsores_pca = pca.fit_transform(previsores2)\n",
    "previsores_pca.shape"
   ],
   "metadata": {
    "collapsed": false,
    "ExecuteTime": {
     "end_time": "2024-04-09T03:38:46.481057Z",
     "start_time": "2024-04-09T03:38:46.457369Z"
    }
   },
   "id": "d32f88bed7ade7f6",
   "outputs": [
    {
     "data": {
      "text/plain": [
       "(917, 3)"
      ]
     },
     "execution_count": 283,
     "metadata": {},
     "output_type": "execute_result"
    }
   ],
   "execution_count": 283
  },
  {
   "cell_type": "code",
   "source": [
    "previsores_pca # componentes principais"
   ],
   "metadata": {
    "collapsed": false,
    "ExecuteTime": {
     "end_time": "2024-04-09T03:38:46.901818Z",
     "start_time": "2024-04-09T03:38:46.879534Z"
    }
   },
   "id": "c4c01d5292c1c9a8",
   "outputs": [
    {
     "data": {
      "text/plain": [
       "array([[  44.01218603,  -36.15137592,   10.64727631],\n",
       "       [ -63.9918455 ,  -13.93849233,   31.69212503],\n",
       "       [  38.53844277,   33.91712222,  -12.48837374],\n",
       "       ...,\n",
       "       [-113.3467467 ,   23.48595247,   -2.51064362],\n",
       "       [  -9.1141306 ,  -35.90083188,    4.81814643],\n",
       "       [ -70.01342608,  -35.68741686,   12.10984845]])"
      ]
     },
     "execution_count": 284,
     "metadata": {},
     "output_type": "execute_result"
    }
   ],
   "execution_count": 284
  },
  {
   "cell_type": "code",
   "source": [
    "pca.explained_variance_ratio_ # razão das variáveis explicativas"
   ],
   "metadata": {
    "collapsed": false,
    "ExecuteTime": {
     "end_time": "2024-04-09T03:38:47.422276Z",
     "start_time": "2024-04-09T03:38:47.409285Z"
    }
   },
   "id": "a8b4aa025ebcf74a",
   "outputs": [
    {
     "data": {
      "text/plain": [
       "array([0.72847929, 0.17183534, 0.08122019])"
      ]
     },
     "execution_count": 285,
     "metadata": {},
     "output_type": "execute_result"
    }
   ],
   "execution_count": 285
  },
  {
   "cell_type": "code",
   "source": [
    "pca.explained_variance_ratio_.sum() # Soma das variáveis explicativas"
   ],
   "metadata": {
    "collapsed": false,
    "ExecuteTime": {
     "end_time": "2024-04-09T03:38:47.896017Z",
     "start_time": "2024-04-09T03:38:47.886910Z"
    }
   },
   "id": "452c1485f6a2b60c",
   "outputs": [
    {
     "data": {
      "text/plain": [
       "0.9815348236774047"
      ]
     },
     "execution_count": 286,
     "metadata": {},
     "output_type": "execute_result"
    }
   ],
   "execution_count": 286
  },
  {
   "cell_type": "code",
   "source": [
    "# Kernel PCA (Redução de dimensionalidade com aprendizagem não supervisionada)\n",
    "from sklearn.decomposition import KernelPCA"
   ],
   "metadata": {
    "collapsed": false,
    "ExecuteTime": {
     "end_time": "2024-04-09T03:38:48.358474Z",
     "start_time": "2024-04-09T03:38:48.342256Z"
    }
   },
   "id": "3f278bb79a2d2f06",
   "outputs": [],
   "execution_count": 287
  },
  {
   "cell_type": "code",
   "source": [
    "kpca = KernelPCA(n_components=4, kernel='rbf')"
   ],
   "metadata": {
    "collapsed": false,
    "ExecuteTime": {
     "end_time": "2024-04-09T03:38:48.865528Z",
     "start_time": "2024-04-09T03:38:48.845805Z"
    }
   },
   "id": "d10673a60c4ba1f5",
   "outputs": [],
   "execution_count": 288
  },
  {
   "cell_type": "code",
   "source": [
    "previsores_kernel = kpca.fit_transform(previsores2)\n",
    "previsores_kernel.shape"
   ],
   "metadata": {
    "collapsed": false,
    "ExecuteTime": {
     "end_time": "2024-04-09T03:38:49.304083Z",
     "start_time": "2024-04-09T03:38:49.208248Z"
    }
   },
   "id": "f74dd262246151cc",
   "outputs": [
    {
     "data": {
      "text/plain": [
       "(917, 4)"
      ]
     },
     "execution_count": 289,
     "metadata": {},
     "output_type": "execute_result"
    }
   ],
   "execution_count": 289
  },
  {
   "cell_type": "code",
   "source": [
    "previsores_kernel"
   ],
   "metadata": {
    "collapsed": false,
    "ExecuteTime": {
     "end_time": "2024-04-09T03:38:49.691069Z",
     "start_time": "2024-04-09T03:38:49.679932Z"
    }
   },
   "id": "1642de9d7beacb95",
   "outputs": [
    {
     "data": {
      "text/plain": [
       "array([[-0.00249772, -0.00290225, -0.0027372 , -0.00191636],\n",
       "       [-0.00249877, -0.00290359, -0.00273854, -0.00191743],\n",
       "       [-0.00249785, -0.00290241, -0.00273736, -0.00191649],\n",
       "       ...,\n",
       "       [-0.00249774, -0.00290227, -0.00273723, -0.00191638],\n",
       "       [-0.00249793, -0.00290252, -0.00273748, -0.00191659],\n",
       "       [-0.00249772, -0.00290225, -0.0027372 , -0.00191637]])"
      ]
     },
     "execution_count": 290,
     "metadata": {},
     "output_type": "execute_result"
    }
   ],
   "execution_count": 290
  },
  {
   "cell_type": "code",
   "source": [
    "# Análise do Discriminante Linear (LDA - Aprendizagem Supervisionada)\n",
    "from sklearn.discriminant_analysis import LinearDiscriminantAnalysis"
   ],
   "metadata": {
    "collapsed": false,
    "ExecuteTime": {
     "end_time": "2024-04-09T03:38:50.242862Z",
     "start_time": "2024-04-09T03:38:50.232800Z"
    }
   },
   "id": "d6c122fc42691b5e",
   "outputs": [],
   "execution_count": 291
  },
  {
   "cell_type": "code",
   "source": [
    "lda = LinearDiscriminantAnalysis(n_components=1)"
   ],
   "metadata": {
    "collapsed": false,
    "ExecuteTime": {
     "end_time": "2024-04-09T03:38:50.707768Z",
     "start_time": "2024-04-09T03:38:50.692217Z"
    }
   },
   "id": "20266c5b79278950",
   "outputs": [],
   "execution_count": 292
  },
  {
   "cell_type": "code",
   "source": [
    "previsores_lda = lda.fit_transform(previsores2, alvo)\n",
    "previsores_lda.shape"
   ],
   "metadata": {
    "collapsed": false,
    "ExecuteTime": {
     "end_time": "2024-04-09T03:38:51.123803Z",
     "start_time": "2024-04-09T03:38:51.099306Z"
    }
   },
   "id": "93279c491a07f0e9",
   "outputs": [
    {
     "data": {
      "text/plain": [
       "(917, 1)"
      ]
     },
     "execution_count": 293,
     "metadata": {},
     "output_type": "execute_result"
    }
   ],
   "execution_count": 293
  },
  {
   "cell_type": "code",
   "source": [
    "previsores_lda"
   ],
   "metadata": {
    "collapsed": false,
    "ExecuteTime": {
     "end_time": "2024-04-09T03:38:51.541637Z",
     "start_time": "2024-04-09T03:38:51.503419Z"
    }
   },
   "id": "beeaba8d2137c9c4",
   "outputs": [
    {
     "data": {
      "text/plain": [
       "array([[ 1.47297727],\n",
       "       [ 1.41360735],\n",
       "       [ 0.96705302],\n",
       "       [-0.53331037],\n",
       "       [ 1.45783427],\n",
       "       [ 1.78559221],\n",
       "       [ 2.28906835],\n",
       "       [ 1.26844095],\n",
       "       [-1.03044735],\n",
       "       [ 1.8033219 ],\n",
       "       [ 2.56103248],\n",
       "       [-1.08833702],\n",
       "       [ 1.4298088 ],\n",
       "       [-1.02172609],\n",
       "       [ 2.51881925],\n",
       "       [ 0.75582909],\n",
       "       [ 0.27447783],\n",
       "       [ 2.33841952],\n",
       "       [-0.50562225],\n",
       "       [-0.03155735],\n",
       "       [ 2.89530718],\n",
       "       [ 0.23402029],\n",
       "       [ 2.26833719],\n",
       "       [-0.97019565],\n",
       "       [ 1.70998121],\n",
       "       [ 2.0730337 ],\n",
       "       [-1.62722174],\n",
       "       [ 0.96486408],\n",
       "       [ 1.52502126],\n",
       "       [ 1.33460621],\n",
       "       [ 0.03948873],\n",
       "       [ 1.44459749],\n",
       "       [-0.63936919],\n",
       "       [-0.34808635],\n",
       "       [ 2.23945383],\n",
       "       [ 1.48957548],\n",
       "       [-2.4746182 ],\n",
       "       [ 2.13691975],\n",
       "       [ 1.54252555],\n",
       "       [-0.30741381],\n",
       "       [ 1.8748176 ],\n",
       "       [ 0.26749988],\n",
       "       [ 1.51713745],\n",
       "       [ 1.79186716],\n",
       "       [-1.00348547],\n",
       "       [-0.64800053],\n",
       "       [ 1.22524435],\n",
       "       [ 1.47829185],\n",
       "       [ 0.77636186],\n",
       "       [ 0.12865852],\n",
       "       [-1.34295208],\n",
       "       [-0.65422291],\n",
       "       [ 0.4557005 ],\n",
       "       [ 2.15691729],\n",
       "       [-0.25536539],\n",
       "       [ 2.26417676],\n",
       "       [-0.86836148],\n",
       "       [ 0.60301353],\n",
       "       [ 0.38277361],\n",
       "       [-1.50907547],\n",
       "       [ 1.50857567],\n",
       "       [ 2.67081271],\n",
       "       [ 0.93385381],\n",
       "       [-1.15581054],\n",
       "       [ 2.12436997],\n",
       "       [ 2.02566299],\n",
       "       [ 1.61128669],\n",
       "       [ 1.7825921 ],\n",
       "       [-2.05082548],\n",
       "       [ 0.83570852],\n",
       "       [-0.70693463],\n",
       "       [ 1.27352923],\n",
       "       [ 0.02482612],\n",
       "       [ 1.55996385],\n",
       "       [-1.31581706],\n",
       "       [ 1.53819264],\n",
       "       [-0.49380729],\n",
       "       [ 1.95231331],\n",
       "       [ 0.67889962],\n",
       "       [ 0.16066905],\n",
       "       [ 1.66499886],\n",
       "       [ 1.30296599],\n",
       "       [-0.45795738],\n",
       "       [ 1.42756451],\n",
       "       [-1.86472923],\n",
       "       [-1.39491241],\n",
       "       [-2.33294249],\n",
       "       [-0.03204149],\n",
       "       [ 1.12661004],\n",
       "       [-1.21970316],\n",
       "       [ 2.2425467 ],\n",
       "       [ 0.8391131 ],\n",
       "       [ 2.10401498],\n",
       "       [-1.65426173],\n",
       "       [ 2.93875944],\n",
       "       [-1.3176681 ],\n",
       "       [ 1.30501623],\n",
       "       [ 1.28599933],\n",
       "       [ 1.04351704],\n",
       "       [ 1.29286266],\n",
       "       [-1.3983015 ],\n",
       "       [ 0.61376488],\n",
       "       [ 0.04322651],\n",
       "       [-1.86713147],\n",
       "       [-0.12667388],\n",
       "       [ 0.42526827],\n",
       "       [ 1.42477203],\n",
       "       [ 1.63348802],\n",
       "       [ 0.96697796],\n",
       "       [ 0.97872716],\n",
       "       [ 0.71472611],\n",
       "       [-1.87337251],\n",
       "       [-0.71098493],\n",
       "       [ 1.30594287],\n",
       "       [ 2.42439448],\n",
       "       [ 0.02367259],\n",
       "       [ 0.15644551],\n",
       "       [-1.30613953],\n",
       "       [ 3.41405246],\n",
       "       [ 1.57442636],\n",
       "       [ 0.96084658],\n",
       "       [ 2.30250912],\n",
       "       [ 0.9303196 ],\n",
       "       [-0.48767217],\n",
       "       [ 1.23390101],\n",
       "       [ 0.9434399 ],\n",
       "       [ 2.67333379],\n",
       "       [ 1.71885403],\n",
       "       [ 1.31052999],\n",
       "       [-0.1651487 ],\n",
       "       [ 1.52484955],\n",
       "       [-0.65120793],\n",
       "       [-1.66167923],\n",
       "       [-1.28137826],\n",
       "       [-0.56657326],\n",
       "       [ 0.87302219],\n",
       "       [ 2.42171127],\n",
       "       [ 1.05416952],\n",
       "       [-0.95858464],\n",
       "       [-1.25165012],\n",
       "       [-1.85556412],\n",
       "       [-1.5570952 ],\n",
       "       [-1.30041712],\n",
       "       [ 0.91367757],\n",
       "       [ 0.81492644],\n",
       "       [ 0.85458961],\n",
       "       [ 1.48952001],\n",
       "       [ 2.37524388],\n",
       "       [ 1.50038603],\n",
       "       [-2.44483595],\n",
       "       [ 1.20312923],\n",
       "       [ 1.08524172],\n",
       "       [ 1.33407261],\n",
       "       [ 0.7573623 ],\n",
       "       [ 1.4166922 ],\n",
       "       [-2.23120635],\n",
       "       [-0.73115764],\n",
       "       [ 0.84762309],\n",
       "       [-1.54218584],\n",
       "       [ 0.98547065],\n",
       "       [-1.86137596],\n",
       "       [-1.14317372],\n",
       "       [ 1.43919738],\n",
       "       [ 1.45331485],\n",
       "       [ 1.99282263],\n",
       "       [ 0.20427491],\n",
       "       [-1.70211104],\n",
       "       [ 1.05246642],\n",
       "       [ 0.47205912],\n",
       "       [ 1.75670659],\n",
       "       [ 1.58128745],\n",
       "       [ 2.05994677],\n",
       "       [ 1.22032442],\n",
       "       [ 1.92453514],\n",
       "       [-1.32446452],\n",
       "       [-1.26569907],\n",
       "       [-0.69086695],\n",
       "       [ 1.12114124],\n",
       "       [ 1.86679774],\n",
       "       [ 1.27290952],\n",
       "       [-1.35716728],\n",
       "       [ 1.31042056],\n",
       "       [-1.62385683],\n",
       "       [-0.93631205],\n",
       "       [ 1.73165747],\n",
       "       [-0.48765751],\n",
       "       [ 0.88511655],\n",
       "       [-1.62097012],\n",
       "       [-0.60933153],\n",
       "       [-1.40838981],\n",
       "       [ 0.6241705 ],\n",
       "       [ 1.05454657],\n",
       "       [ 1.38434072],\n",
       "       [ 1.47224495],\n",
       "       [ 2.49687918],\n",
       "       [ 2.48419036],\n",
       "       [-0.44778238],\n",
       "       [ 1.19164147],\n",
       "       [-1.06848936],\n",
       "       [ 1.08627342],\n",
       "       [ 2.08200743],\n",
       "       [ 1.73528777],\n",
       "       [ 1.82633959],\n",
       "       [ 2.35721403],\n",
       "       [ 0.93253202],\n",
       "       [ 0.14330776],\n",
       "       [ 1.550762  ],\n",
       "       [ 0.3753301 ],\n",
       "       [ 1.92633663],\n",
       "       [-0.13349137],\n",
       "       [-1.04405064],\n",
       "       [ 0.59160027],\n",
       "       [ 0.49155109],\n",
       "       [ 2.56681625],\n",
       "       [-1.42069008],\n",
       "       [ 3.16014054],\n",
       "       [ 0.00455886],\n",
       "       [ 1.57713237],\n",
       "       [ 1.30484654],\n",
       "       [ 1.60395028],\n",
       "       [-0.29328685],\n",
       "       [-0.31205856],\n",
       "       [ 2.35955308],\n",
       "       [ 2.02670304],\n",
       "       [ 0.45131542],\n",
       "       [-0.11734055],\n",
       "       [ 1.6455011 ],\n",
       "       [-0.98223348],\n",
       "       [ 1.46223644],\n",
       "       [ 2.23048631],\n",
       "       [ 0.98729539],\n",
       "       [ 1.83301464],\n",
       "       [ 1.98424435],\n",
       "       [ 0.94861876],\n",
       "       [ 1.86629516],\n",
       "       [-0.31541967],\n",
       "       [-1.60871922],\n",
       "       [ 0.80471512],\n",
       "       [-1.72846954],\n",
       "       [-1.62149828],\n",
       "       [ 1.1304052 ],\n",
       "       [-1.24436421],\n",
       "       [-1.65274078],\n",
       "       [ 1.86413969],\n",
       "       [-1.38226014],\n",
       "       [ 1.67398489],\n",
       "       [-0.31003073],\n",
       "       [-2.78593696],\n",
       "       [-0.99935619],\n",
       "       [-1.33828415],\n",
       "       [-0.52894479],\n",
       "       [-0.68866632],\n",
       "       [-0.22487709],\n",
       "       [ 0.95817247],\n",
       "       [-1.62987478],\n",
       "       [ 2.22487019],\n",
       "       [ 1.75802244],\n",
       "       [ 2.07990393],\n",
       "       [ 2.1594062 ],\n",
       "       [ 1.95224582],\n",
       "       [ 0.66930706],\n",
       "       [ 1.8128839 ],\n",
       "       [-0.98546405],\n",
       "       [-0.16168507],\n",
       "       [-0.14853301],\n",
       "       [ 1.31301352],\n",
       "       [-1.3770381 ],\n",
       "       [ 1.51803096],\n",
       "       [-1.4563745 ],\n",
       "       [ 1.11876647],\n",
       "       [ 0.92490573],\n",
       "       [ 2.46651771],\n",
       "       [-1.45639102],\n",
       "       [ 1.5122684 ],\n",
       "       [ 2.21473145],\n",
       "       [ 1.17162839],\n",
       "       [ 0.44931342],\n",
       "       [-1.26722129],\n",
       "       [-0.59107024],\n",
       "       [ 2.08610147],\n",
       "       [ 1.43078248],\n",
       "       [-0.61858106],\n",
       "       [ 1.48987542],\n",
       "       [ 1.99465406],\n",
       "       [ 0.95323414],\n",
       "       [ 2.31154558],\n",
       "       [ 0.85639019],\n",
       "       [ 1.23027055],\n",
       "       [ 1.70856544],\n",
       "       [ 1.79504883],\n",
       "       [ 1.66405711],\n",
       "       [ 1.77445463],\n",
       "       [ 0.96810702],\n",
       "       [-1.35624968],\n",
       "       [ 1.26699755],\n",
       "       [-1.13404434],\n",
       "       [-1.68887454],\n",
       "       [-0.89192537],\n",
       "       [-1.19006114],\n",
       "       [-0.06388196],\n",
       "       [-0.95760723],\n",
       "       [ 1.21884641],\n",
       "       [-0.28940391],\n",
       "       [-2.24447341],\n",
       "       [-1.29036475],\n",
       "       [-0.13814178],\n",
       "       [-0.75544498],\n",
       "       [-1.03554626],\n",
       "       [-0.00765534],\n",
       "       [-1.62368595],\n",
       "       [ 0.5946977 ],\n",
       "       [-0.18926704],\n",
       "       [ 0.24907235],\n",
       "       [ 0.40058775],\n",
       "       [-2.15288514],\n",
       "       [-0.05416492],\n",
       "       [-0.1036372 ],\n",
       "       [-1.09454096],\n",
       "       [-1.86710518],\n",
       "       [-0.38359443],\n",
       "       [-0.33808944],\n",
       "       [-1.00068387],\n",
       "       [ 0.79683041],\n",
       "       [-3.1508434 ],\n",
       "       [-0.32359031],\n",
       "       [-2.2450472 ],\n",
       "       [ 1.65653801],\n",
       "       [-0.96279735],\n",
       "       [-2.11431285],\n",
       "       [-2.86135322],\n",
       "       [ 0.42807523],\n",
       "       [-0.1395382 ],\n",
       "       [ 2.23427119],\n",
       "       [ 0.35057846],\n",
       "       [ 0.50406329],\n",
       "       [ 0.26098473],\n",
       "       [-0.15728719],\n",
       "       [-0.50679805],\n",
       "       [-0.28929007],\n",
       "       [-1.26798669],\n",
       "       [-2.10919353],\n",
       "       [-3.06350319],\n",
       "       [-1.36605469],\n",
       "       [-1.00314274],\n",
       "       [-1.10758215],\n",
       "       [-0.41357299],\n",
       "       [-0.41803771],\n",
       "       [-0.88372537],\n",
       "       [-1.58852733],\n",
       "       [-1.67572817],\n",
       "       [-1.00061797],\n",
       "       [ 0.11400685],\n",
       "       [-1.99928015],\n",
       "       [-1.40104225],\n",
       "       [ 0.39382639],\n",
       "       [ 0.65089248],\n",
       "       [-1.2804095 ],\n",
       "       [-0.14371283],\n",
       "       [-0.07314985],\n",
       "       [ 0.40659027],\n",
       "       [-0.79831036],\n",
       "       [-0.99424132],\n",
       "       [ 0.2182558 ],\n",
       "       [-0.1024341 ],\n",
       "       [ 0.21792997],\n",
       "       [-0.47020931],\n",
       "       [-1.52241832],\n",
       "       [-0.18877912],\n",
       "       [-1.44844604],\n",
       "       [-1.78583376],\n",
       "       [-0.67614963],\n",
       "       [-1.64114833],\n",
       "       [-0.40163824],\n",
       "       [-1.32530632],\n",
       "       [-2.2162147 ],\n",
       "       [ 1.9881817 ],\n",
       "       [-0.46197067],\n",
       "       [-1.33181571],\n",
       "       [-1.96051671],\n",
       "       [ 0.28514746],\n",
       "       [-1.37649259],\n",
       "       [-1.08787029],\n",
       "       [-1.08736303],\n",
       "       [ 0.90238368],\n",
       "       [-0.05501476],\n",
       "       [-1.26574074],\n",
       "       [-1.12531647],\n",
       "       [-1.13115354],\n",
       "       [-0.65613811],\n",
       "       [-1.07719685],\n",
       "       [-0.79914271],\n",
       "       [-1.38507027],\n",
       "       [-0.47611231],\n",
       "       [-1.72991047],\n",
       "       [-2.32533712],\n",
       "       [-0.63891572],\n",
       "       [ 0.97855747],\n",
       "       [-1.91371281],\n",
       "       [-0.93813356],\n",
       "       [-0.79181952],\n",
       "       [-0.3146305 ],\n",
       "       [-0.62785746],\n",
       "       [-1.65929899],\n",
       "       [-2.01090329],\n",
       "       [-0.89555129],\n",
       "       [-1.67397512],\n",
       "       [-1.93416166],\n",
       "       [-2.0845939 ],\n",
       "       [-1.25079031],\n",
       "       [-1.02445415],\n",
       "       [-1.77828134],\n",
       "       [-1.10971477],\n",
       "       [-2.05845141],\n",
       "       [-0.1083399 ],\n",
       "       [-2.34145158],\n",
       "       [-0.61917586],\n",
       "       [-1.74217189],\n",
       "       [ 0.87237704],\n",
       "       [-2.13328918],\n",
       "       [-0.25687311],\n",
       "       [-1.44730953],\n",
       "       [ 1.39893279],\n",
       "       [-1.94266616],\n",
       "       [-0.50405737],\n",
       "       [-0.23699838],\n",
       "       [-0.54644327],\n",
       "       [ 1.30822157],\n",
       "       [-1.28872242],\n",
       "       [-1.19656229],\n",
       "       [-0.59946667],\n",
       "       [-1.69015361],\n",
       "       [ 0.37168032],\n",
       "       [-2.78615351],\n",
       "       [-1.25380876],\n",
       "       [-1.64138711],\n",
       "       [-0.14859618],\n",
       "       [ 0.47234942],\n",
       "       [-1.54049408],\n",
       "       [-0.43741118],\n",
       "       [ 1.11936529],\n",
       "       [ 1.38127202],\n",
       "       [-1.24351547],\n",
       "       [-1.84915996],\n",
       "       [-1.60276065],\n",
       "       [-1.09570752],\n",
       "       [-0.52013034],\n",
       "       [-1.29907866],\n",
       "       [-0.57387893],\n",
       "       [-2.12852626],\n",
       "       [-1.68924668],\n",
       "       [-1.301961  ],\n",
       "       [-1.43634145],\n",
       "       [-0.36982331],\n",
       "       [-1.90183175],\n",
       "       [-0.30243865],\n",
       "       [-0.67736167],\n",
       "       [-0.52774593],\n",
       "       [-1.59852847],\n",
       "       [ 0.74943586],\n",
       "       [-2.14965361],\n",
       "       [-1.43343158],\n",
       "       [-2.3086103 ],\n",
       "       [ 0.56642915],\n",
       "       [-1.62520535],\n",
       "       [ 1.81943187],\n",
       "       [-0.67756253],\n",
       "       [ 1.7695649 ],\n",
       "       [-0.46772558],\n",
       "       [-0.65473094],\n",
       "       [-0.43884558],\n",
       "       [-1.64801971],\n",
       "       [-1.83418625],\n",
       "       [-1.42731733],\n",
       "       [ 0.99588277],\n",
       "       [-1.86846878],\n",
       "       [ 0.13256577],\n",
       "       [-3.20503685],\n",
       "       [-1.9742736 ],\n",
       "       [-0.81704689],\n",
       "       [-1.82467517],\n",
       "       [-1.83727559],\n",
       "       [ 0.50312585],\n",
       "       [-2.46390553],\n",
       "       [-1.42266861],\n",
       "       [-1.53480843],\n",
       "       [ 0.82601248],\n",
       "       [-1.18348035],\n",
       "       [ 1.6979588 ],\n",
       "       [-1.39356202],\n",
       "       [-0.73581795],\n",
       "       [-1.27254184],\n",
       "       [ 0.52560067],\n",
       "       [-0.68131048],\n",
       "       [-1.60038916],\n",
       "       [-0.4502456 ],\n",
       "       [-2.96219487],\n",
       "       [-2.42379023],\n",
       "       [-2.01343704],\n",
       "       [-1.3194868 ],\n",
       "       [-2.69980309],\n",
       "       [-1.45316611],\n",
       "       [-1.32014624],\n",
       "       [ 0.14646919],\n",
       "       [-3.36134718],\n",
       "       [-1.10124266],\n",
       "       [-1.8229923 ],\n",
       "       [ 0.52844355],\n",
       "       [-2.14218391],\n",
       "       [-0.3612475 ],\n",
       "       [ 0.64709104],\n",
       "       [-2.47039177],\n",
       "       [ 2.01519925],\n",
       "       [ 0.02613638],\n",
       "       [ 0.66480555],\n",
       "       [-0.54396616],\n",
       "       [-0.25725793],\n",
       "       [-1.43380959],\n",
       "       [-2.10369212],\n",
       "       [-0.35806895],\n",
       "       [-0.40184572],\n",
       "       [-2.70910426],\n",
       "       [-0.42373062],\n",
       "       [-1.16096418],\n",
       "       [ 1.00260561],\n",
       "       [ 1.65832757],\n",
       "       [-1.66679303],\n",
       "       [ 0.93872855],\n",
       "       [-0.30491454],\n",
       "       [-1.52303744],\n",
       "       [-1.10937883],\n",
       "       [-2.27385138],\n",
       "       [-1.0361609 ],\n",
       "       [-1.29685312],\n",
       "       [-2.36355103],\n",
       "       [-1.26228272],\n",
       "       [-1.2585278 ],\n",
       "       [-3.55004738],\n",
       "       [-2.08191829],\n",
       "       [ 0.52493097],\n",
       "       [-0.49662546],\n",
       "       [-1.18452289],\n",
       "       [-0.71022701],\n",
       "       [-2.58338502],\n",
       "       [ 0.23960695],\n",
       "       [ 0.7904523 ],\n",
       "       [ 0.17903891],\n",
       "       [-1.28351519],\n",
       "       [ 0.4128116 ],\n",
       "       [ 1.149053  ],\n",
       "       [-1.14941993],\n",
       "       [ 1.0670796 ],\n",
       "       [-0.85966694],\n",
       "       [-1.12330776],\n",
       "       [ 1.0876075 ],\n",
       "       [-0.31763678],\n",
       "       [-3.47228584],\n",
       "       [-1.22916584],\n",
       "       [-0.52129229],\n",
       "       [-3.02724212],\n",
       "       [ 1.57554087],\n",
       "       [ 1.28483531],\n",
       "       [-1.24657264],\n",
       "       [-1.8054684 ],\n",
       "       [-1.83109196],\n",
       "       [-1.52345993],\n",
       "       [-1.03899448],\n",
       "       [-1.19373062],\n",
       "       [-2.31252409],\n",
       "       [-1.573519  ],\n",
       "       [-2.3515015 ],\n",
       "       [-2.02619492],\n",
       "       [-1.03641919],\n",
       "       [-1.24768979],\n",
       "       [-2.13795128],\n",
       "       [-1.98655531],\n",
       "       [-1.52449686],\n",
       "       [-1.81134466],\n",
       "       [-2.54433382],\n",
       "       [-2.33630302],\n",
       "       [-1.68391717],\n",
       "       [ 0.07200154],\n",
       "       [-2.13432193],\n",
       "       [ 1.1545702 ],\n",
       "       [-2.11176255],\n",
       "       [-0.91496576],\n",
       "       [-1.37248845],\n",
       "       [ 0.74280147],\n",
       "       [-1.46045437],\n",
       "       [-0.6691308 ],\n",
       "       [ 1.14051808],\n",
       "       [ 0.63441664],\n",
       "       [-3.06533191],\n",
       "       [-1.08730252],\n",
       "       [-1.10541382],\n",
       "       [-1.65649281],\n",
       "       [-0.5773584 ],\n",
       "       [ 1.58687157],\n",
       "       [-2.27506925],\n",
       "       [-1.41163617],\n",
       "       [-1.36284382],\n",
       "       [-0.65390639],\n",
       "       [-0.68315574],\n",
       "       [-2.68952107],\n",
       "       [ 0.08466893],\n",
       "       [ 0.37791689],\n",
       "       [-2.45806342],\n",
       "       [-2.00516362],\n",
       "       [-0.87874892],\n",
       "       [-0.32846032],\n",
       "       [-0.0806349 ],\n",
       "       [ 1.97350112],\n",
       "       [-1.11831654],\n",
       "       [-0.27762136],\n",
       "       [-1.0008783 ],\n",
       "       [-1.15460179],\n",
       "       [ 0.58136427],\n",
       "       [ 1.07755132],\n",
       "       [-1.33231469],\n",
       "       [ 0.81107814],\n",
       "       [ 0.7401585 ],\n",
       "       [-0.98281019],\n",
       "       [-1.13530236],\n",
       "       [-0.3332688 ],\n",
       "       [-0.38963788],\n",
       "       [-0.14447789],\n",
       "       [-0.14868847],\n",
       "       [ 1.93179234],\n",
       "       [ 0.46641398],\n",
       "       [ 1.58313548],\n",
       "       [ 0.21202799],\n",
       "       [-1.41422951],\n",
       "       [-2.94792208],\n",
       "       [-0.10426638],\n",
       "       [ 1.45386495],\n",
       "       [-1.55620898],\n",
       "       [ 0.49926973],\n",
       "       [-0.04294646],\n",
       "       [ 0.95509893],\n",
       "       [ 0.61265937],\n",
       "       [ 2.29479146],\n",
       "       [ 0.02276089],\n",
       "       [ 2.29095735],\n",
       "       [ 0.30181952],\n",
       "       [ 1.37302395],\n",
       "       [ 0.54424005],\n",
       "       [ 0.22442409],\n",
       "       [ 2.78737633],\n",
       "       [-2.72970162],\n",
       "       [-1.10140375],\n",
       "       [-0.5063465 ],\n",
       "       [-0.31329962],\n",
       "       [ 1.64460263],\n",
       "       [ 1.84136999],\n",
       "       [ 1.23423329],\n",
       "       [ 1.26033075],\n",
       "       [ 1.74880707],\n",
       "       [ 1.18229415],\n",
       "       [ 0.80436748],\n",
       "       [-0.54957092],\n",
       "       [ 1.03874187],\n",
       "       [ 1.48200374],\n",
       "       [ 1.25601938],\n",
       "       [-0.83504232],\n",
       "       [ 0.09380739],\n",
       "       [-1.33814187],\n",
       "       [ 0.92223168],\n",
       "       [ 1.22344097],\n",
       "       [ 2.24293909],\n",
       "       [ 1.22033797],\n",
       "       [ 2.40410771],\n",
       "       [-1.62703599],\n",
       "       [ 1.36411001],\n",
       "       [-0.19869353],\n",
       "       [-0.49758419],\n",
       "       [ 1.22687176],\n",
       "       [-0.37716501],\n",
       "       [ 1.91053206],\n",
       "       [ 2.71563484],\n",
       "       [-1.15922115],\n",
       "       [-1.3547069 ],\n",
       "       [ 0.40793628],\n",
       "       [ 1.17838292],\n",
       "       [ 1.48084206],\n",
       "       [ 1.73521054],\n",
       "       [-1.6104645 ],\n",
       "       [ 0.75077928],\n",
       "       [ 0.98173637],\n",
       "       [ 0.84653896],\n",
       "       [ 1.48220199],\n",
       "       [-0.90186502],\n",
       "       [-1.21347664],\n",
       "       [ 2.89617668],\n",
       "       [ 1.79211311],\n",
       "       [ 1.3356734 ],\n",
       "       [-0.82737115],\n",
       "       [-0.99032875],\n",
       "       [-0.41699303],\n",
       "       [ 0.57963328],\n",
       "       [-1.20734519],\n",
       "       [ 2.1451677 ],\n",
       "       [ 0.44821933],\n",
       "       [-0.91373591],\n",
       "       [ 2.16669077],\n",
       "       [-0.74666642],\n",
       "       [ 0.62344748],\n",
       "       [ 1.57811889],\n",
       "       [-1.58325016],\n",
       "       [-1.09193541],\n",
       "       [ 0.9177444 ],\n",
       "       [-1.23211784],\n",
       "       [-0.39008135],\n",
       "       [ 0.91891988],\n",
       "       [ 2.02170125],\n",
       "       [ 1.98593211],\n",
       "       [ 1.8065775 ],\n",
       "       [-1.00468248],\n",
       "       [ 1.76994383],\n",
       "       [-1.33513105],\n",
       "       [-0.50390027],\n",
       "       [-0.07741209],\n",
       "       [-0.23567449],\n",
       "       [ 0.14672819],\n",
       "       [ 0.30345337],\n",
       "       [ 1.20104262],\n",
       "       [-1.06751756],\n",
       "       [ 1.43626325],\n",
       "       [ 1.53075756],\n",
       "       [ 1.78509281],\n",
       "       [ 1.38963185],\n",
       "       [ 1.14790879],\n",
       "       [ 0.74113988],\n",
       "       [-2.73196784],\n",
       "       [-0.02847217],\n",
       "       [-3.23874677],\n",
       "       [ 0.35512335],\n",
       "       [-1.73326062],\n",
       "       [-1.62156389],\n",
       "       [ 1.92244877],\n",
       "       [-0.47627315],\n",
       "       [ 2.54370655],\n",
       "       [-1.6381938 ],\n",
       "       [ 1.62199313],\n",
       "       [ 1.25533589],\n",
       "       [-0.70400916],\n",
       "       [-0.30036755],\n",
       "       [-0.06642152],\n",
       "       [ 1.22727483],\n",
       "       [-2.7251934 ],\n",
       "       [ 1.42968888],\n",
       "       [-0.29095888],\n",
       "       [ 2.37851954],\n",
       "       [-1.80432131],\n",
       "       [ 2.50233817],\n",
       "       [ 0.33157325],\n",
       "       [-0.68803407],\n",
       "       [ 0.99987545],\n",
       "       [ 0.68445897],\n",
       "       [ 0.89991351],\n",
       "       [ 1.44024675],\n",
       "       [-1.64639125],\n",
       "       [ 1.01726181],\n",
       "       [-1.19969785],\n",
       "       [ 1.20803571],\n",
       "       [ 1.94945798],\n",
       "       [ 1.98932565],\n",
       "       [ 1.30043812],\n",
       "       [ 2.50571079],\n",
       "       [-0.08285144],\n",
       "       [ 2.29573024],\n",
       "       [ 2.37823233],\n",
       "       [-3.06899875],\n",
       "       [ 1.3666765 ],\n",
       "       [ 0.82671364],\n",
       "       [-0.9184909 ],\n",
       "       [ 0.07535019],\n",
       "       [-0.34956372],\n",
       "       [ 1.25083598],\n",
       "       [-1.59014858],\n",
       "       [ 1.14398153],\n",
       "       [ 0.69213888],\n",
       "       [ 1.75014385],\n",
       "       [-1.15355634],\n",
       "       [ 0.00838713],\n",
       "       [ 0.07966998],\n",
       "       [-0.01898824],\n",
       "       [ 0.06252445],\n",
       "       [-1.37689494],\n",
       "       [ 0.79296142],\n",
       "       [ 2.46599596],\n",
       "       [-0.84688598],\n",
       "       [-1.84698599],\n",
       "       [ 0.06086432],\n",
       "       [-0.85175381],\n",
       "       [ 1.84295857],\n",
       "       [-0.67693841],\n",
       "       [-0.68280366],\n",
       "       [ 1.17493682],\n",
       "       [ 0.44108234],\n",
       "       [ 1.10573122],\n",
       "       [ 1.37690055],\n",
       "       [-1.4949269 ],\n",
       "       [ 0.21794342],\n",
       "       [ 0.16817031],\n",
       "       [-1.10783138],\n",
       "       [ 0.73916671],\n",
       "       [-2.51253683],\n",
       "       [ 1.21973905],\n",
       "       [ 0.30785644],\n",
       "       [ 1.18902982],\n",
       "       [ 0.84228414],\n",
       "       [ 0.24744491],\n",
       "       [ 1.28227147],\n",
       "       [ 2.32760056],\n",
       "       [-0.08039122],\n",
       "       [ 1.28448873],\n",
       "       [ 0.89210846],\n",
       "       [-1.48223796],\n",
       "       [-0.0093788 ],\n",
       "       [-1.14352094],\n",
       "       [ 0.25498238],\n",
       "       [ 2.34577635],\n",
       "       [-0.17222734],\n",
       "       [-0.72919003],\n",
       "       [-0.50719338],\n",
       "       [ 0.86066056],\n",
       "       [-0.32484783],\n",
       "       [ 1.67557319],\n",
       "       [-1.37303714],\n",
       "       [ 1.93565301],\n",
       "       [ 2.12308764],\n",
       "       [ 2.45040633],\n",
       "       [ 1.04170395],\n",
       "       [ 0.51259589],\n",
       "       [ 1.55343755],\n",
       "       [-1.46771077],\n",
       "       [-0.93254394],\n",
       "       [ 1.60109671],\n",
       "       [-1.2260175 ],\n",
       "       [ 1.93545863],\n",
       "       [ 0.31102129],\n",
       "       [ 0.69282769],\n",
       "       [-1.4302537 ],\n",
       "       [ 1.87132154],\n",
       "       [ 1.43289725],\n",
       "       [-0.45432364],\n",
       "       [-0.19715333],\n",
       "       [ 1.20275518],\n",
       "       [ 0.25232469],\n",
       "       [ 0.24029426],\n",
       "       [-1.44171531],\n",
       "       [ 1.72746895],\n",
       "       [-1.29698041],\n",
       "       [ 1.68122955],\n",
       "       [ 1.28974531],\n",
       "       [-1.29932564],\n",
       "       [ 1.85789146],\n",
       "       [ 0.5042792 ],\n",
       "       [-1.00896199],\n",
       "       [ 1.96973984],\n",
       "       [-0.2032225 ],\n",
       "       [ 0.7186107 ],\n",
       "       [ 2.0771769 ],\n",
       "       [ 0.15417225],\n",
       "       [-1.53689274],\n",
       "       [-0.54133242],\n",
       "       [ 1.65793142],\n",
       "       [ 0.91581493],\n",
       "       [ 1.46933905],\n",
       "       [ 0.6983248 ],\n",
       "       [ 1.76702569],\n",
       "       [-1.11679298],\n",
       "       [-1.35780969],\n",
       "       [ 1.43421774],\n",
       "       [ 0.85346494],\n",
       "       [ 2.40254279],\n",
       "       [-1.40583604],\n",
       "       [-0.0851993 ],\n",
       "       [ 1.32252353],\n",
       "       [-0.63986776],\n",
       "       [ 0.99202986],\n",
       "       [ 1.50834481],\n",
       "       [ 0.71086621],\n",
       "       [-0.14914618],\n",
       "       [-1.66797091],\n",
       "       [ 2.16283999],\n",
       "       [ 1.8170826 ],\n",
       "       [-1.49998533],\n",
       "       [-1.54121585],\n",
       "       [ 1.96426485],\n",
       "       [ 0.80859047],\n",
       "       [ 1.22857051],\n",
       "       [ 1.61597014],\n",
       "       [ 1.29471864],\n",
       "       [ 0.4607469 ],\n",
       "       [-1.55100431],\n",
       "       [ 1.90540791],\n",
       "       [-0.4613423 ],\n",
       "       [ 1.71335028],\n",
       "       [ 0.93873984],\n",
       "       [-2.04804177],\n",
       "       [-1.32024901],\n",
       "       [ 0.15770864],\n",
       "       [ 1.34298905],\n",
       "       [-0.5625252 ],\n",
       "       [ 0.37654647],\n",
       "       [ 1.78093261],\n",
       "       [-2.11113324],\n",
       "       [-0.62197504],\n",
       "       [-0.14855117],\n",
       "       [ 1.77738959],\n",
       "       [-1.44035262],\n",
       "       [-0.31842344],\n",
       "       [ 0.74387089],\n",
       "       [-1.52212946],\n",
       "       [-1.1536229 ],\n",
       "       [ 1.19989839],\n",
       "       [ 2.0591881 ]])"
      ]
     },
     "execution_count": 294,
     "metadata": {},
     "output_type": "execute_result"
    }
   ],
   "execution_count": 294
  },
  {
   "cell_type": "code",
   "source": [
    "lda.explained_variance_ratio_"
   ],
   "metadata": {
    "collapsed": false,
    "ExecuteTime": {
     "end_time": "2024-04-09T03:38:51.964802Z",
     "start_time": "2024-04-09T03:38:51.950730Z"
    }
   },
   "id": "9d00402ee1509b1e",
   "outputs": [
    {
     "data": {
      "text/plain": [
       "array([1.])"
      ]
     },
     "execution_count": 295,
     "metadata": {},
     "output_type": "execute_result"
    }
   ],
   "execution_count": 295
  },
  {
   "cell_type": "code",
   "source": [
    "lda.explained_variance_ratio_.sum()"
   ],
   "metadata": {
    "collapsed": false,
    "ExecuteTime": {
     "end_time": "2024-04-09T03:38:52.442664Z",
     "start_time": "2024-04-09T03:38:52.432535Z"
    }
   },
   "id": "e4f533c7fcdfd8ec",
   "outputs": [
    {
     "data": {
      "text/plain": [
       "1.0"
      ]
     },
     "execution_count": 296,
     "metadata": {},
     "output_type": "execute_result"
    }
   ],
   "execution_count": 296
  },
  {
   "cell_type": "markdown",
   "source": [
    "# 43. Pré-processamento: Salvamento de variáveis"
   ],
   "metadata": {
    "collapsed": false
   },
   "id": "9ab6f46f3220e40e"
  },
  {
   "cell_type": "code",
   "source": [
    "import pickle"
   ],
   "metadata": {
    "collapsed": false,
    "ExecuteTime": {
     "end_time": "2024-04-09T03:38:52.908105Z",
     "start_time": "2024-04-09T03:38:52.899107Z"
    }
   },
   "id": "aa713fbf27a156e7",
   "outputs": [],
   "execution_count": 297
  },
  {
   "cell_type": "code",
   "source": [
    "arq1 = open('Dataset/heart.pkl', 'wb') # Criando o arquivo"
   ],
   "metadata": {
    "collapsed": false,
    "ExecuteTime": {
     "end_time": "2024-04-09T03:38:53.384924Z",
     "start_time": "2024-04-09T03:38:53.362705Z"
    }
   },
   "id": "335d37d50e9a7cd6",
   "outputs": [],
   "execution_count": 298
  },
  {
   "cell_type": "code",
   "source": [
    "pickle.dump(alvo, arq1) # Salvando a variável no arquivo"
   ],
   "metadata": {
    "collapsed": false,
    "ExecuteTime": {
     "end_time": "2024-04-09T03:38:53.742814Z",
     "start_time": "2024-04-09T03:38:53.732822Z"
    }
   },
   "id": "8550ba0cb0726486",
   "outputs": [],
   "execution_count": 299
  },
  {
   "cell_type": "code",
   "source": [
    "arq1.close() # Fechando o arquivo"
   ],
   "metadata": {
    "collapsed": false,
    "ExecuteTime": {
     "end_time": "2024-04-09T03:38:54.149232Z",
     "start_time": "2024-04-09T03:38:54.133244Z"
    }
   },
   "id": "7bc8be385fedbcd9",
   "outputs": [],
   "execution_count": 300
  },
  {
   "cell_type": "code",
   "source": [
    "arq1 = open('Dataset/heart.pkl', 'rb') # Abrindo o arquivo"
   ],
   "metadata": {
    "collapsed": false,
    "ExecuteTime": {
     "end_time": "2024-04-09T03:38:54.588338Z",
     "start_time": "2024-04-09T03:38:54.544216Z"
    }
   },
   "id": "40b6a4192191aca6",
   "outputs": [],
   "execution_count": 301
  },
  {
   "cell_type": "code",
   "source": [
    "alvo = pickle.load(arq1) # Lendo o arquivo"
   ],
   "metadata": {
    "collapsed": false,
    "ExecuteTime": {
     "end_time": "2024-04-09T03:38:54.983352Z",
     "start_time": "2024-04-09T03:38:54.965155Z"
    }
   },
   "id": "34f9971aaf2aaf74",
   "outputs": [],
   "execution_count": 302
  },
  {
   "cell_type": "code",
   "source": [
    "alvo"
   ],
   "metadata": {
    "collapsed": false,
    "ExecuteTime": {
     "end_time": "2024-04-09T03:38:55.446443Z",
     "start_time": "2024-04-09T03:38:55.428454Z"
    }
   },
   "id": "603f371a740e71ed",
   "outputs": [
    {
     "data": {
      "text/plain": [
       "array([0, 1, 0, 1, 0, 0, 0, 0, 1, 0, 0, 1, 0, 1, 0, 0, 1, 0, 1, 1, 0, 0,\n",
       "       0, 1, 0, 0, 0, 0, 0, 0, 1, 0, 1, 1, 0, 0, 1, 0, 0, 0, 0, 1, 0, 0,\n",
       "       1, 0, 0, 0, 0, 1, 1, 1, 0, 0, 0, 0, 1, 1, 0, 1, 0, 0, 0, 1, 0, 0,\n",
       "       0, 0, 1, 0, 1, 0, 1, 0, 1, 0, 1, 0, 0, 1, 0, 0, 1, 0, 1, 1, 1, 0,\n",
       "       1, 0, 0, 0, 0, 1, 0, 1, 0, 0, 0, 0, 1, 0, 1, 1, 1, 0, 0, 0, 0, 0,\n",
       "       0, 1, 0, 0, 0, 1, 1, 1, 0, 1, 1, 0, 0, 1, 0, 0, 0, 0, 0, 0, 0, 1,\n",
       "       1, 1, 0, 1, 0, 0, 1, 1, 1, 1, 1, 0, 1, 0, 0, 0, 0, 1, 0, 0, 0, 0,\n",
       "       0, 1, 1, 0, 1, 0, 1, 1, 0, 0, 0, 1, 1, 0, 0, 0, 0, 0, 0, 0, 1, 1,\n",
       "       1, 0, 0, 0, 1, 0, 1, 0, 0, 1, 0, 1, 0, 1, 0, 0, 0, 0, 0, 0, 0, 0,\n",
       "       1, 0, 0, 0, 0, 0, 0, 0, 0, 1, 0, 1, 1, 1, 0, 0, 1, 0, 1, 0, 0, 0,\n",
       "       1, 1, 0, 0, 0, 1, 0, 1, 0, 0, 0, 0, 0, 0, 0, 0, 1, 1, 1, 1, 0, 1,\n",
       "       1, 0, 1, 0, 1, 1, 1, 1, 1, 1, 0, 0, 1, 0, 0, 0, 0, 0, 0, 0, 1, 1,\n",
       "       1, 0, 1, 0, 1, 0, 0, 0, 1, 0, 0, 0, 1, 1, 0, 0, 0, 1, 0, 0, 0, 0,\n",
       "       0, 0, 0, 0, 0, 0, 0, 1, 1, 1, 1, 1, 1, 1, 1, 0, 1, 1, 1, 1, 1, 0,\n",
       "       1, 1, 0, 1, 1, 1, 0, 1, 1, 1, 1, 1, 1, 1, 1, 1, 1, 1, 0, 1, 1, 1,\n",
       "       1, 1, 0, 1, 1, 1, 0, 1, 1, 1, 1, 1, 1, 1, 1, 1, 1, 1, 1, 1, 1, 1,\n",
       "       1, 1, 1, 1, 1, 1, 1, 1, 1, 1, 1, 1, 0, 1, 1, 1, 1, 1, 1, 1, 1, 1,\n",
       "       1, 1, 1, 1, 1, 1, 1, 1, 1, 1, 1, 1, 1, 1, 1, 1, 1, 1, 1, 1, 1, 1,\n",
       "       1, 1, 1, 1, 1, 1, 1, 1, 1, 1, 1, 1, 1, 1, 1, 1, 1, 1, 1, 1, 1, 0,\n",
       "       1, 1, 0, 0, 1, 0, 1, 1, 0, 1, 1, 1, 1, 0, 1, 1, 0, 0, 1, 1, 1, 0,\n",
       "       1, 1, 1, 1, 1, 1, 1, 1, 1, 1, 1, 1, 0, 1, 0, 1, 1, 1, 0, 1, 1, 1,\n",
       "       0, 1, 0, 1, 0, 1, 0, 1, 1, 1, 1, 0, 1, 0, 1, 1, 1, 1, 1, 1, 1, 1,\n",
       "       1, 0, 1, 0, 1, 1, 1, 1, 1, 1, 1, 0, 1, 1, 1, 1, 1, 1, 0, 1, 1, 1,\n",
       "       0, 1, 1, 0, 1, 0, 1, 1, 0, 1, 1, 1, 1, 0, 1, 1, 1, 0, 0, 1, 0, 1,\n",
       "       1, 1, 1, 1, 1, 1, 1, 1, 1, 1, 0, 1, 1, 1, 1, 0, 0, 1, 1, 1, 0, 1,\n",
       "       0, 1, 1, 0, 1, 0, 1, 1, 1, 0, 0, 0, 1, 1, 1, 0, 1, 1, 1, 1, 1, 1,\n",
       "       1, 1, 1, 1, 1, 1, 1, 1, 1, 1, 0, 1, 1, 1, 0, 1, 1, 0, 0, 1, 1, 1,\n",
       "       1, 1, 0, 1, 1, 0, 1, 1, 1, 0, 0, 1, 1, 1, 1, 1, 0, 1, 0, 1, 1, 0,\n",
       "       1, 0, 0, 0, 1, 1, 1, 1, 0, 0, 0, 1, 0, 0, 1, 1, 0, 0, 1, 0, 0, 0,\n",
       "       0, 0, 0, 0, 1, 0, 1, 0, 0, 1, 1, 1, 1, 1, 0, 0, 1, 0, 0, 0, 1, 0,\n",
       "       1, 1, 1, 1, 1, 0, 0, 0, 0, 0, 1, 0, 1, 1, 0, 1, 0, 0, 0, 1, 0, 1,\n",
       "       0, 1, 1, 0, 0, 0, 0, 1, 0, 0, 0, 0, 1, 1, 1, 0, 0, 0, 0, 0, 0, 1,\n",
       "       0, 1, 1, 1, 1, 1, 0, 1, 0, 0, 0, 1, 0, 1, 1, 1, 0, 1, 1, 0, 1, 0,\n",
       "       1, 0, 0, 0, 1, 1, 0, 1, 1, 1, 1, 0, 0, 0, 1, 0, 0, 1, 1, 1, 0, 1,\n",
       "       0, 0, 0, 1, 0, 0, 1, 0, 1, 0, 1, 1, 1, 1, 1, 0, 0, 0, 0, 0, 0, 0,\n",
       "       1, 0, 0, 1, 1, 1, 0, 1, 0, 0, 0, 0, 0, 1, 0, 1, 1, 0, 0, 1, 1, 1,\n",
       "       1, 0, 0, 1, 1, 0, 0, 0, 1, 0, 0, 1, 0, 1, 0, 1, 0, 0, 0, 0, 0, 1,\n",
       "       0, 1, 1, 1, 1, 0, 0, 0, 1, 0, 1, 0, 0, 1, 0, 0, 0, 0, 0, 0, 1, 1,\n",
       "       0, 1, 0, 0, 1, 1, 0, 0, 1, 1, 0, 1, 0, 1, 0, 1, 0, 0, 1, 0, 0, 1,\n",
       "       0, 1, 1, 0, 1, 1, 1, 0, 1, 0, 0, 0, 0, 1, 1, 0, 0, 1, 1, 0, 1, 0,\n",
       "       0, 0, 0, 1, 0, 0, 1, 1, 1, 0, 0, 0, 1, 0, 1, 0, 1, 0, 1, 1, 1, 0,\n",
       "       0, 0, 1, 0, 1, 1, 1, 0, 1, 1, 1, 1, 1, 1, 0], dtype=int64)"
      ]
     },
     "execution_count": 303,
     "metadata": {},
     "output_type": "execute_result"
    }
   ],
   "execution_count": 303
  },
  {
   "cell_type": "code",
   "source": [
    "arq1.close() # Fechando o arquivo"
   ],
   "metadata": {
    "collapsed": false,
    "ExecuteTime": {
     "end_time": "2024-04-09T03:38:55.820417Z",
     "start_time": "2024-04-09T03:38:55.811295Z"
    }
   },
   "id": "f75512a9dd4aeb27",
   "outputs": [],
   "execution_count": 304
  },
  {
   "cell_type": "markdown",
   "source": [
    "# 44. Separação entre treino e teste"
   ],
   "metadata": {
    "collapsed": false
   },
   "id": "b8b82dd752a1c680"
  },
  {
   "cell_type": "code",
   "source": [
    "# Base de treino e teste\n",
    "from sklearn.model_selection import train_test_split"
   ],
   "metadata": {
    "collapsed": false,
    "ExecuteTime": {
     "end_time": "2024-04-09T03:38:56.283548Z",
     "start_time": "2024-04-09T03:38:56.275490Z"
    }
   },
   "id": "eaac1d78c42d16d2",
   "outputs": [],
   "execution_count": 305
  },
  {
   "cell_type": "code",
   "source": [
    "x_treino, x_teste, y_treino, y_teste = train_test_split(previsores, alvo, test_size=0.3, random_state=0)"
   ],
   "metadata": {
    "collapsed": false,
    "ExecuteTime": {
     "end_time": "2024-04-09T03:38:56.700311Z",
     "start_time": "2024-04-09T03:38:56.681347Z"
    }
   },
   "id": "70f7fb11a8fb143",
   "outputs": [],
   "execution_count": 306
  },
  {
   "cell_type": "code",
   "source": [
    "x_treino.shape"
   ],
   "metadata": {
    "collapsed": false,
    "ExecuteTime": {
     "end_time": "2024-04-09T03:38:57.102803Z",
     "start_time": "2024-04-09T03:38:57.089575Z"
    }
   },
   "id": "64ce37c3c668f1bc",
   "outputs": [
    {
     "data": {
      "text/plain": [
       "(641, 11)"
      ]
     },
     "execution_count": 307,
     "metadata": {},
     "output_type": "execute_result"
    }
   ],
   "execution_count": 307
  },
  {
   "cell_type": "code",
   "source": [
    "x_teste.shape"
   ],
   "metadata": {
    "collapsed": false,
    "ExecuteTime": {
     "end_time": "2024-04-09T03:38:57.440322Z",
     "start_time": "2024-04-09T03:38:57.417773Z"
    }
   },
   "id": "225e5057f6851071",
   "outputs": [
    {
     "data": {
      "text/plain": [
       "(276, 11)"
      ]
     },
     "execution_count": 308,
     "metadata": {},
     "output_type": "execute_result"
    }
   ],
   "execution_count": 308
  },
  {
   "cell_type": "code",
   "source": [
    "y_treino.shape"
   ],
   "metadata": {
    "collapsed": false,
    "ExecuteTime": {
     "end_time": "2024-04-09T03:38:57.904669Z",
     "start_time": "2024-04-09T03:38:57.890547Z"
    }
   },
   "id": "9e382a174054be5",
   "outputs": [
    {
     "data": {
      "text/plain": [
       "(641,)"
      ]
     },
     "execution_count": 309,
     "metadata": {},
     "output_type": "execute_result"
    }
   ],
   "execution_count": 309
  },
  {
   "cell_type": "code",
   "source": [
    "y_teste.shape"
   ],
   "metadata": {
    "collapsed": false,
    "ExecuteTime": {
     "end_time": "2024-04-09T03:38:58.352016Z",
     "start_time": "2024-04-09T03:38:58.344791Z"
    }
   },
   "id": "2322c132df464aea",
   "outputs": [
    {
     "data": {
      "text/plain": [
       "(276,)"
      ]
     },
     "execution_count": 310,
     "metadata": {},
     "output_type": "execute_result"
    }
   ],
   "execution_count": 310
  },
  {
   "cell_type": "markdown",
   "source": [
    "# 45. Naive Bayes : Teoria\n",
    "\"\"\"\n",
    "P(A|B) = [P(B|A) * P(A)] / P(B)\n",
    "P(A|B)*P(B) = P(A^B) = P(B^A)\n",
    "\n",
    "Aplicações:\n",
    "> Filtros de spam.\n",
    "> Diagnostico médico.\n",
    "> Classificação de imagens.\n",
    "> Análise de crédito.\n",
    "> Separação de documentos.\n",
    "> Previsão de falhas.\n",
    "\n",
    "Vantagens:\n",
    "> Rápido e de fácil entendimento.\n",
    "> Pouco esforço computacional.\n",
    "> Bom desemprenho com muitos dados.\n",
    "> Boas previsões com poucos dados.\n",
    "\n",
    "Desvantagens:\n",
    "> Considera atributos independentes.\n",
    "> Atribuição de um valor nulo de probabilidade quando uma classe contida no conjunto de teste não se apresenta no conjunto de treino.\n",
    "\"\"\""
   ],
   "metadata": {
    "collapsed": false
   },
   "id": "88d6eb87fdbbc4db"
  },
  {
   "cell_type": "markdown",
   "source": [
    "# 46. Naive Bayes no Python\n",
    "\"https://scikit-learn.org/stable/modules/naive_bayes.html\""
   ],
   "metadata": {
    "collapsed": false
   },
   "id": "69ee1f9cfad55352"
  },
  {
   "cell_type": "code",
   "source": [
    "# Naive Bayes\n",
    "from sklearn.naive_bayes import GaussianNB"
   ],
   "metadata": {
    "collapsed": false,
    "ExecuteTime": {
     "end_time": "2024-04-09T03:38:58.817120Z",
     "start_time": "2024-04-09T03:38:58.803917Z"
    }
   },
   "id": "839907b4b300721",
   "outputs": [],
   "execution_count": 311
  },
  {
   "cell_type": "code",
   "source": [
    "# Treinamento do algoritmo\n",
    "naive = GaussianNB()\n",
    "naive.fit(x_treino, y_treino)"
   ],
   "metadata": {
    "collapsed": false,
    "ExecuteTime": {
     "end_time": "2024-04-09T03:38:59.281726Z",
     "start_time": "2024-04-09T03:38:59.267058Z"
    }
   },
   "id": "2db1945a9a61c654",
   "outputs": [
    {
     "data": {
      "text/plain": [
       "GaussianNB()"
      ],
      "text/html": [
       "<style>#sk-container-id-8 {color: black;}#sk-container-id-8 pre{padding: 0;}#sk-container-id-8 div.sk-toggleable {background-color: white;}#sk-container-id-8 label.sk-toggleable__label {cursor: pointer;display: block;width: 100%;margin-bottom: 0;padding: 0.3em;box-sizing: border-box;text-align: center;}#sk-container-id-8 label.sk-toggleable__label-arrow:before {content: \"▸\";float: left;margin-right: 0.25em;color: #696969;}#sk-container-id-8 label.sk-toggleable__label-arrow:hover:before {color: black;}#sk-container-id-8 div.sk-estimator:hover label.sk-toggleable__label-arrow:before {color: black;}#sk-container-id-8 div.sk-toggleable__content {max-height: 0;max-width: 0;overflow: hidden;text-align: left;background-color: #f0f8ff;}#sk-container-id-8 div.sk-toggleable__content pre {margin: 0.2em;color: black;border-radius: 0.25em;background-color: #f0f8ff;}#sk-container-id-8 input.sk-toggleable__control:checked~div.sk-toggleable__content {max-height: 200px;max-width: 100%;overflow: auto;}#sk-container-id-8 input.sk-toggleable__control:checked~label.sk-toggleable__label-arrow:before {content: \"▾\";}#sk-container-id-8 div.sk-estimator input.sk-toggleable__control:checked~label.sk-toggleable__label {background-color: #d4ebff;}#sk-container-id-8 div.sk-label input.sk-toggleable__control:checked~label.sk-toggleable__label {background-color: #d4ebff;}#sk-container-id-8 input.sk-hidden--visually {border: 0;clip: rect(1px 1px 1px 1px);clip: rect(1px, 1px, 1px, 1px);height: 1px;margin: -1px;overflow: hidden;padding: 0;position: absolute;width: 1px;}#sk-container-id-8 div.sk-estimator {font-family: monospace;background-color: #f0f8ff;border: 1px dotted black;border-radius: 0.25em;box-sizing: border-box;margin-bottom: 0.5em;}#sk-container-id-8 div.sk-estimator:hover {background-color: #d4ebff;}#sk-container-id-8 div.sk-parallel-item::after {content: \"\";width: 100%;border-bottom: 1px solid gray;flex-grow: 1;}#sk-container-id-8 div.sk-label:hover label.sk-toggleable__label {background-color: #d4ebff;}#sk-container-id-8 div.sk-serial::before {content: \"\";position: absolute;border-left: 1px solid gray;box-sizing: border-box;top: 0;bottom: 0;left: 50%;z-index: 0;}#sk-container-id-8 div.sk-serial {display: flex;flex-direction: column;align-items: center;background-color: white;padding-right: 0.2em;padding-left: 0.2em;position: relative;}#sk-container-id-8 div.sk-item {position: relative;z-index: 1;}#sk-container-id-8 div.sk-parallel {display: flex;align-items: stretch;justify-content: center;background-color: white;position: relative;}#sk-container-id-8 div.sk-item::before, #sk-container-id-8 div.sk-parallel-item::before {content: \"\";position: absolute;border-left: 1px solid gray;box-sizing: border-box;top: 0;bottom: 0;left: 50%;z-index: -1;}#sk-container-id-8 div.sk-parallel-item {display: flex;flex-direction: column;z-index: 1;position: relative;background-color: white;}#sk-container-id-8 div.sk-parallel-item:first-child::after {align-self: flex-end;width: 50%;}#sk-container-id-8 div.sk-parallel-item:last-child::after {align-self: flex-start;width: 50%;}#sk-container-id-8 div.sk-parallel-item:only-child::after {width: 0;}#sk-container-id-8 div.sk-dashed-wrapped {border: 1px dashed gray;margin: 0 0.4em 0.5em 0.4em;box-sizing: border-box;padding-bottom: 0.4em;background-color: white;}#sk-container-id-8 div.sk-label label {font-family: monospace;font-weight: bold;display: inline-block;line-height: 1.2em;}#sk-container-id-8 div.sk-label-container {text-align: center;}#sk-container-id-8 div.sk-container {/* jupyter's `normalize.less` sets `[hidden] { display: none; }` but bootstrap.min.css set `[hidden] { display: none !important; }` so we also need the `!important` here to be able to override the default hidden behavior on the sphinx rendered scikit-learn.org. See: https://github.com/scikit-learn/scikit-learn/issues/21755 */display: inline-block !important;position: relative;}#sk-container-id-8 div.sk-text-repr-fallback {display: none;}</style><div id=\"sk-container-id-8\" class=\"sk-top-container\"><div class=\"sk-text-repr-fallback\"><pre>GaussianNB()</pre><b>In a Jupyter environment, please rerun this cell to show the HTML representation or trust the notebook. <br />On GitHub, the HTML representation is unable to render, please try loading this page with nbviewer.org.</b></div><div class=\"sk-container\" hidden><div class=\"sk-item\"><div class=\"sk-estimator sk-toggleable\"><input class=\"sk-toggleable__control sk-hidden--visually\" id=\"sk-estimator-id-8\" type=\"checkbox\" checked><label for=\"sk-estimator-id-8\" class=\"sk-toggleable__label sk-toggleable__label-arrow\">GaussianNB</label><div class=\"sk-toggleable__content\"><pre>GaussianNB()</pre></div></div></div></div></div>"
      ]
     },
     "execution_count": 312,
     "metadata": {},
     "output_type": "execute_result"
    }
   ],
   "execution_count": 312
  },
  {
   "cell_type": "code",
   "source": [
    "# Avaliação do algoritmo\n",
    "previsoes_naive = naive.predict(x_teste)\n",
    "previsoes_naive"
   ],
   "metadata": {
    "collapsed": false,
    "ExecuteTime": {
     "end_time": "2024-04-09T03:38:59.777079Z",
     "start_time": "2024-04-09T03:38:59.764432Z"
    }
   },
   "id": "af9f4761fe9cef60",
   "outputs": [
    {
     "data": {
      "text/plain": [
       "array([1, 1, 1, 0, 0, 0, 0, 0, 0, 0, 1, 1, 1, 1, 0, 1, 1, 1, 1, 0, 1, 1,\n",
       "       1, 0, 0, 0, 1, 1, 0, 1, 1, 0, 0, 0, 1, 0, 0, 0, 1, 0, 0, 1, 1, 1,\n",
       "       1, 0, 0, 1, 0, 1, 0, 0, 0, 1, 1, 0, 0, 0, 0, 0, 1, 0, 1, 0, 1, 1,\n",
       "       1, 0, 1, 0, 1, 1, 0, 1, 1, 1, 1, 1, 1, 1, 0, 1, 0, 0, 1, 1, 1, 1,\n",
       "       1, 0, 1, 0, 0, 0, 1, 0, 1, 0, 0, 0, 0, 0, 1, 1, 0, 1, 1, 0, 0, 1,\n",
       "       1, 1, 1, 1, 1, 1, 0, 1, 1, 1, 1, 1, 1, 0, 1, 1, 0, 1, 0, 1, 0, 1,\n",
       "       1, 1, 1, 1, 1, 1, 1, 0, 0, 1, 0, 1, 0, 0, 1, 1, 0, 0, 0, 1, 0, 0,\n",
       "       1, 0, 1, 1, 1, 0, 1, 1, 1, 0, 1, 0, 1, 0, 1, 0, 1, 1, 0, 0, 0, 1,\n",
       "       1, 0, 0, 1, 1, 1, 0, 1, 1, 1, 0, 1, 1, 0, 0, 0, 1, 1, 1, 1, 0, 0,\n",
       "       1, 0, 1, 1, 0, 1, 1, 0, 0, 0, 1, 0, 1, 1, 0, 0, 0, 0, 1, 0, 1, 1,\n",
       "       1, 0, 0, 1, 1, 1, 0, 1, 1, 1, 0, 1, 1, 1, 0, 1, 1, 1, 0, 1, 1, 0,\n",
       "       1, 0, 0, 0, 0, 0, 1, 0, 1, 0, 1, 0, 0, 0, 1, 0, 0, 1, 0, 1, 1, 0,\n",
       "       0, 0, 0, 0, 1, 0, 0, 0, 1, 1, 1, 0], dtype=int64)"
      ]
     },
     "execution_count": 313,
     "metadata": {},
     "output_type": "execute_result"
    }
   ],
   "execution_count": 313
  },
  {
   "cell_type": "code",
   "source": [
    "y_teste"
   ],
   "metadata": {
    "collapsed": false,
    "ExecuteTime": {
     "end_time": "2024-04-09T03:39:00.370516Z",
     "start_time": "2024-04-09T03:39:00.360394Z"
    }
   },
   "id": "e361b27a921f91a3",
   "outputs": [
    {
     "data": {
      "text/plain": [
       "array([1, 0, 1, 0, 0, 0, 0, 0, 0, 0, 1, 0, 1, 1, 0, 1, 1, 1, 1, 0, 1, 1,\n",
       "       1, 0, 0, 0, 1, 1, 0, 0, 1, 0, 0, 0, 1, 0, 1, 0, 1, 0, 0, 1, 1, 1,\n",
       "       1, 0, 0, 1, 1, 1, 1, 0, 0, 1, 1, 0, 0, 0, 1, 0, 1, 1, 1, 0, 1, 1,\n",
       "       1, 0, 1, 0, 1, 1, 1, 1, 1, 1, 1, 1, 1, 0, 0, 1, 0, 0, 1, 1, 0, 1,\n",
       "       1, 0, 1, 0, 0, 1, 1, 0, 1, 0, 0, 0, 0, 1, 1, 1, 0, 1, 0, 0, 0, 1,\n",
       "       0, 1, 1, 1, 0, 1, 1, 1, 1, 1, 1, 1, 1, 0, 0, 1, 0, 1, 0, 1, 0, 1,\n",
       "       0, 1, 0, 0, 0, 1, 1, 0, 1, 1, 0, 1, 0, 0, 1, 1, 1, 0, 1, 1, 0, 0,\n",
       "       0, 0, 1, 1, 1, 0, 1, 1, 1, 0, 1, 0, 1, 0, 1, 0, 1, 1, 0, 0, 1, 0,\n",
       "       0, 1, 0, 1, 1, 1, 0, 1, 1, 1, 0, 1, 1, 0, 0, 0, 1, 1, 1, 1, 1, 0,\n",
       "       1, 0, 1, 1, 0, 1, 1, 0, 0, 0, 1, 0, 1, 1, 0, 1, 0, 1, 1, 1, 1, 1,\n",
       "       1, 1, 0, 0, 0, 1, 0, 1, 1, 1, 0, 1, 0, 1, 1, 1, 1, 1, 0, 1, 1, 0,\n",
       "       1, 0, 1, 0, 0, 0, 1, 0, 1, 0, 1, 1, 0, 0, 1, 0, 0, 1, 0, 1, 1, 0,\n",
       "       0, 0, 0, 0, 1, 0, 0, 1, 1, 1, 1, 1], dtype=int64)"
      ]
     },
     "execution_count": 314,
     "metadata": {},
     "output_type": "execute_result"
    }
   ],
   "execution_count": 314
  },
  {
   "cell_type": "code",
   "source": [
    "from sklearn.metrics import accuracy_score, confusion_matrix, classification_report"
   ],
   "metadata": {
    "collapsed": false,
    "ExecuteTime": {
     "end_time": "2024-04-09T03:39:00.835452Z",
     "start_time": "2024-04-09T03:39:00.822219Z"
    }
   },
   "id": "7c9fe96545435698",
   "outputs": [],
   "execution_count": 315
  },
  {
   "cell_type": "code",
   "source": [
    "accuracy_score(y_teste, previsoes_naive)"
   ],
   "metadata": {
    "collapsed": false,
    "ExecuteTime": {
     "end_time": "2024-04-09T03:39:01.312009Z",
     "start_time": "2024-04-09T03:39:01.300699Z"
    }
   },
   "id": "52d422f6f89e4eef",
   "outputs": [
    {
     "data": {
      "text/plain": [
       "0.8442028985507246"
      ]
     },
     "execution_count": 316,
     "metadata": {},
     "output_type": "execute_result"
    }
   ],
   "execution_count": 316
  },
  {
   "cell_type": "code",
   "source": [
    "print(f'Acurácia: {accuracy_score(y_teste, previsoes_naive)*100:.2f}%')"
   ],
   "metadata": {
    "collapsed": false,
    "ExecuteTime": {
     "end_time": "2024-04-09T03:39:01.681588Z",
     "start_time": "2024-04-09T03:39:01.671951Z"
    }
   },
   "id": "e3b5928cd4bebfd8",
   "outputs": [
    {
     "name": "stdout",
     "output_type": "stream",
     "text": [
      "Acurácia: 84.42%\n"
     ]
    }
   ],
   "execution_count": 317
  },
  {
   "cell_type": "code",
   "source": [
    "confusion_matrix(y_teste, previsoes_naive)"
   ],
   "metadata": {
    "collapsed": false,
    "ExecuteTime": {
     "end_time": "2024-04-09T03:39:02.303914Z",
     "start_time": "2024-04-09T03:39:02.286926Z"
    }
   },
   "id": "93146f7eab4684c9",
   "outputs": [
    {
     "data": {
      "text/plain": [
       "array([[102,  19],\n",
       "       [ 24, 131]], dtype=int64)"
      ]
     },
     "execution_count": 318,
     "metadata": {},
     "output_type": "execute_result"
    }
   ],
   "execution_count": 318
  },
  {
   "cell_type": "code",
   "source": [
    "print(classification_report(y_teste, previsoes_naive))"
   ],
   "metadata": {
    "collapsed": false,
    "ExecuteTime": {
     "end_time": "2024-04-09T03:39:02.649761Z",
     "start_time": "2024-04-09T03:39:02.627692Z"
    }
   },
   "id": "cba50bf5b157c6e6",
   "outputs": [
    {
     "name": "stdout",
     "output_type": "stream",
     "text": [
      "              precision    recall  f1-score   support\n",
      "\n",
      "           0       0.81      0.84      0.83       121\n",
      "           1       0.87      0.85      0.86       155\n",
      "\n",
      "    accuracy                           0.84       276\n",
      "   macro avg       0.84      0.84      0.84       276\n",
      "weighted avg       0.85      0.84      0.84       276\n",
      "\n"
     ]
    }
   ],
   "execution_count": 319
  },
  {
   "cell_type": "code",
   "source": [
    "# Análise dos dados de treino\n",
    "previsoes_treino = naive.predict(x_treino)\n",
    "previsoes_treino"
   ],
   "metadata": {
    "collapsed": false,
    "ExecuteTime": {
     "end_time": "2024-04-09T03:39:03.132828Z",
     "start_time": "2024-04-09T03:39:03.117591Z"
    }
   },
   "id": "d2132b48912b80a",
   "outputs": [
    {
     "data": {
      "text/plain": [
       "array([0, 0, 1, 1, 1, 1, 0, 0, 0, 0, 1, 0, 1, 1, 1, 0, 0, 0, 0, 1, 0, 0,\n",
       "       1, 1, 1, 0, 0, 1, 0, 1, 1, 0, 1, 1, 0, 0, 1, 1, 0, 1, 0, 1, 0, 0,\n",
       "       1, 1, 0, 1, 1, 1, 0, 0, 1, 0, 1, 0, 0, 0, 1, 0, 0, 0, 0, 0, 1, 1,\n",
       "       0, 1, 1, 0, 1, 1, 1, 1, 0, 0, 0, 1, 0, 1, 1, 1, 1, 1, 0, 1, 1, 1,\n",
       "       1, 1, 0, 1, 0, 0, 1, 1, 1, 1, 1, 1, 1, 1, 0, 1, 1, 1, 1, 0, 0, 1,\n",
       "       0, 0, 1, 0, 1, 0, 1, 0, 1, 0, 0, 0, 0, 1, 0, 1, 0, 0, 0, 1, 1, 0,\n",
       "       1, 1, 0, 0, 1, 0, 1, 1, 0, 1, 1, 1, 1, 1, 1, 0, 0, 1, 1, 0, 1, 0,\n",
       "       1, 0, 1, 1, 1, 1, 1, 0, 0, 0, 0, 1, 1, 0, 0, 0, 0, 1, 1, 0, 1, 0,\n",
       "       0, 1, 1, 0, 0, 0, 0, 0, 0, 1, 1, 1, 1, 0, 0, 0, 1, 0, 0, 0, 1, 1,\n",
       "       0, 1, 0, 1, 0, 1, 1, 1, 1, 1, 1, 0, 0, 0, 1, 1, 1, 1, 1, 0, 0, 1,\n",
       "       1, 0, 0, 1, 1, 0, 1, 1, 1, 1, 0, 1, 0, 1, 1, 0, 1, 0, 0, 0, 1, 0,\n",
       "       1, 1, 1, 1, 1, 1, 1, 0, 1, 1, 0, 0, 0, 0, 0, 0, 1, 0, 0, 1, 1, 0,\n",
       "       1, 0, 1, 0, 1, 0, 1, 1, 0, 1, 0, 1, 1, 0, 0, 0, 1, 0, 0, 0, 1, 1,\n",
       "       0, 1, 1, 1, 1, 0, 1, 1, 0, 1, 0, 1, 0, 1, 1, 0, 0, 1, 0, 1, 0, 1,\n",
       "       1, 0, 1, 0, 1, 0, 1, 0, 1, 0, 1, 0, 1, 1, 1, 1, 0, 1, 1, 1, 1, 0,\n",
       "       0, 0, 1, 0, 0, 0, 0, 1, 0, 1, 1, 1, 1, 1, 1, 0, 1, 1, 0, 1, 0, 1,\n",
       "       0, 0, 0, 0, 0, 0, 1, 0, 0, 1, 0, 1, 1, 0, 0, 0, 0, 0, 1, 1, 0, 1,\n",
       "       0, 1, 1, 1, 0, 0, 1, 1, 0, 1, 0, 1, 0, 0, 0, 1, 0, 1, 1, 0, 1, 1,\n",
       "       0, 0, 0, 1, 1, 1, 1, 0, 1, 0, 1, 1, 1, 0, 0, 1, 0, 1, 1, 1, 0, 0,\n",
       "       0, 1, 1, 1, 0, 1, 1, 0, 1, 0, 0, 0, 0, 1, 0, 1, 1, 1, 1, 0, 1, 1,\n",
       "       0, 0, 1, 1, 1, 1, 0, 1, 0, 0, 1, 0, 1, 1, 1, 1, 0, 0, 0, 1, 0, 1,\n",
       "       1, 1, 1, 1, 1, 0, 1, 1, 1, 1, 1, 1, 1, 1, 1, 0, 0, 0, 1, 0, 0, 0,\n",
       "       0, 0, 1, 0, 1, 1, 0, 0, 0, 1, 1, 0, 1, 1, 1, 0, 1, 1, 0, 0, 1, 1,\n",
       "       1, 0, 0, 0, 1, 1, 1, 1, 0, 1, 0, 0, 1, 0, 1, 1, 1, 0, 0, 1, 1, 0,\n",
       "       1, 0, 1, 0, 1, 0, 1, 0, 1, 0, 1, 1, 0, 1, 0, 1, 1, 0, 0, 1, 1, 1,\n",
       "       0, 1, 1, 0, 1, 0, 1, 1, 1, 0, 1, 1, 0, 0, 0, 0, 1, 0, 0, 1, 0, 1,\n",
       "       1, 0, 0, 0, 1, 0, 0, 0, 0, 0, 0, 1, 1, 1, 1, 0, 1, 0, 0, 0, 0, 0,\n",
       "       0, 0, 1, 0, 0, 0, 0, 0, 0, 0, 1, 0, 0, 1, 0, 0, 1, 0, 0, 1, 0, 1,\n",
       "       1, 1, 1, 1, 1, 0, 1, 0, 1, 1, 1, 1, 0, 1, 1, 0, 0, 0, 1, 0, 1, 0,\n",
       "       0, 0, 1], dtype=int64)"
      ]
     },
     "execution_count": 320,
     "metadata": {},
     "output_type": "execute_result"
    }
   ],
   "execution_count": 320
  },
  {
   "cell_type": "code",
   "source": [
    "accuracy_score(y_treino, previsoes_treino)"
   ],
   "metadata": {
    "collapsed": false,
    "ExecuteTime": {
     "end_time": "2024-04-09T03:39:03.566785Z",
     "start_time": "2024-04-09T03:39:03.549644Z"
    }
   },
   "id": "90a1182bed9adcae",
   "outputs": [
    {
     "data": {
      "text/plain": [
       "0.8361934477379095"
      ]
     },
     "execution_count": 321,
     "metadata": {},
     "output_type": "execute_result"
    }
   ],
   "execution_count": 321
  },
  {
   "cell_type": "code",
   "source": [
    "confusion_matrix(y_treino, previsoes_treino)"
   ],
   "metadata": {
    "collapsed": false,
    "ExecuteTime": {
     "end_time": "2024-04-09T03:39:04.038029Z",
     "start_time": "2024-04-09T03:39:04.018260Z"
    }
   },
   "id": "52b4990282737141",
   "outputs": [
    {
     "data": {
      "text/plain": [
       "array([[243,  46],\n",
       "       [ 59, 293]], dtype=int64)"
      ]
     },
     "execution_count": 322,
     "metadata": {},
     "output_type": "execute_result"
    }
   ],
   "execution_count": 322
  },
  {
   "cell_type": "code",
   "source": [
    "print(classification_report(y_treino, previsoes_treino))"
   ],
   "metadata": {
    "collapsed": false,
    "ExecuteTime": {
     "end_time": "2024-04-09T03:39:04.548028Z",
     "start_time": "2024-04-09T03:39:04.524731Z"
    }
   },
   "id": "3f110bb0d40e8599",
   "outputs": [
    {
     "name": "stdout",
     "output_type": "stream",
     "text": [
      "              precision    recall  f1-score   support\n",
      "\n",
      "           0       0.80      0.84      0.82       289\n",
      "           1       0.86      0.83      0.85       352\n",
      "\n",
      "    accuracy                           0.84       641\n",
      "   macro avg       0.83      0.84      0.84       641\n",
      "weighted avg       0.84      0.84      0.84       641\n",
      "\n"
     ]
    }
   ],
   "execution_count": 323
  },
  {
   "cell_type": "code",
   "source": [
    "# Validação Cruzada\n",
    "from sklearn.model_selection import KFold\n",
    "from sklearn.model_selection import cross_val_score"
   ],
   "metadata": {
    "collapsed": false,
    "ExecuteTime": {
     "end_time": "2024-04-09T03:39:05.094054Z",
     "start_time": "2024-04-09T03:39:05.089005Z"
    }
   },
   "id": "f47e7b16953b26cb",
   "outputs": [],
   "execution_count": 324
  },
  {
   "cell_type": "code",
   "source": [
    "# Separando os dados em folds\n",
    "kfold = KFold(n_splits=30, shuffle=True, random_state=5)"
   ],
   "metadata": {
    "collapsed": false,
    "ExecuteTime": {
     "end_time": "2024-04-09T03:39:05.511822Z",
     "start_time": "2024-04-09T03:39:05.502676Z"
    }
   },
   "id": "4aae179add58cd39",
   "outputs": [],
   "execution_count": 325
  },
  {
   "cell_type": "code",
   "source": [
    "# Criando o modelo\n",
    "modelo = GaussianNB()\n",
    "resultado = cross_val_score(modelo, previsores3_esc, alvo, cv=kfold)\n",
    "resultado"
   ],
   "metadata": {
    "collapsed": false,
    "ExecuteTime": {
     "end_time": "2024-04-09T03:39:05.993215Z",
     "start_time": "2024-04-09T03:39:05.892049Z"
    }
   },
   "id": "e8daf21a9e02b02b",
   "outputs": [
    {
     "data": {
      "text/plain": [
       "array([0.87096774, 0.87096774, 0.90322581, 0.80645161, 0.77419355,\n",
       "       0.90322581, 0.70967742, 0.87096774, 0.77419355, 0.87096774,\n",
       "       0.90322581, 0.77419355, 0.93548387, 0.90322581, 0.87096774,\n",
       "       0.87096774, 0.87096774, 0.93333333, 0.93333333, 0.9       ,\n",
       "       0.76666667, 0.83333333, 0.8       , 0.7       , 0.83333333,\n",
       "       0.93333333, 0.86666667, 0.9       , 0.86666667, 0.8       ])"
      ]
     },
     "execution_count": 326,
     "metadata": {},
     "output_type": "execute_result"
    }
   ],
   "execution_count": 326
  },
  {
   "cell_type": "code",
   "source": [
    "# Usando a média e o desvio padrão\n",
    "print(f'Acurácia Média: {resultado.mean()*100:.2f}%')"
   ],
   "metadata": {
    "collapsed": false,
    "ExecuteTime": {
     "end_time": "2024-04-09T03:39:06.271409Z",
     "start_time": "2024-04-09T03:39:06.262258Z"
    }
   },
   "id": "e196dd0955e3d363",
   "outputs": [
    {
     "name": "stdout",
     "output_type": "stream",
     "text": [
      "Acurácia Média: 85.17%\n"
     ]
    }
   ],
   "execution_count": 327
  },
  {
   "cell_type": "markdown",
   "source": [
    "# 47. Máquina de Vetor de Suporte (SVM): Teoria\n",
    "\"\"\"\n",
    "Equação:\n",
    "w-> * x-> +b >= 0\n",
    "Onde:\n",
    "w = Vetor hiperplano;\n",
    "x = vetor pertencente ao hiperplano;\n",
    "b = deslocamento em relação à origem;\n",
    "\n",
    "Aplicações:\n",
    "> Classificação e Regressão.\n",
    "> Categorização de textos.\n",
    "> Reconhecimento de imagem.\n",
    "> Detecção facial.\n",
    "> Detecção e anomalias.\n",
    "> Reconhecimento de letras manuscritas.\n",
    "\n",
    "Constante de Penalização (custo)\n",
    "> Hiperparâmetro C: controla a tolerância a erros.\n",
    "    - Quanto maior o valor de C, maior a probabilidade de overfitting e o tempo.\n",
    "    - Quanto menor o valor de C, maior o tempo de treinamento e maior a probabilidade de underfitting.\n",
    "    \n",
    "> Ajuste do hiperparâmetro Gama para otimização.\n",
    "\n",
    "Vantagens: \n",
    "> Não é influenciado por dados discrepantes.\n",
    "> Solução de problemas lineares e não lineares.\n",
    "> Muito efetivo para datasets grandes.\n",
    "> Consegue aprender com características não pertencentes aos dados.\n",
    "\n",
    "Desvantagens:\n",
    "> Difícil interpretação teórica devido à matemática complexa.\n",
    "> Difícil visualização gráfica.\n",
    "> É lento comparado a outros algoritmos.\n",
    "\"\"\""
   ],
   "metadata": {
    "collapsed": false
   },
   "id": "f935c5f6471e5f7d"
  },
  {
   "cell_type": "markdown",
   "source": [
    "# 48. Máquina de Vetor de Suporte (SVM): Aplicação"
   ],
   "metadata": {
    "collapsed": false
   },
   "id": "d021eaa8f46f1fcb"
  },
  {
   "cell_type": "code",
   "source": [
    "# Máquinas de Vetores de Suporte (SVM)\n",
    "\"https://scikit-learn.org/stable/modules/generated/sklearn.svm.SVC.html\""
   ],
   "metadata": {
    "collapsed": false,
    "ExecuteTime": {
     "end_time": "2024-04-09T03:39:06.729329Z",
     "start_time": "2024-04-09T03:39:06.718205Z"
    }
   },
   "id": "575c07aedd02a5dd",
   "outputs": [
    {
     "data": {
      "text/plain": [
       "'https://scikit-learn.org/stable/modules/generated/sklearn.svm.SVC.html'"
      ]
     },
     "execution_count": 328,
     "metadata": {},
     "output_type": "execute_result"
    }
   ],
   "execution_count": 328
  },
  {
   "cell_type": "code",
   "source": [
    "from sklearn.svm import SVC"
   ],
   "metadata": {
    "collapsed": false,
    "ExecuteTime": {
     "end_time": "2024-04-09T03:39:07.224246Z",
     "start_time": "2024-04-09T03:39:07.206148Z"
    }
   },
   "id": "16f6a4fc9c911d5f",
   "outputs": [],
   "execution_count": 329
  },
  {
   "cell_type": "code",
   "source": [
    "svm = SVC(kernel = 'rbf', random_state=1, C=2)\n",
    "svm.fit(x_treino, y_treino)"
   ],
   "metadata": {
    "collapsed": false,
    "ExecuteTime": {
     "end_time": "2024-04-09T03:39:07.704242Z",
     "start_time": "2024-04-09T03:39:07.665097Z"
    }
   },
   "id": "e6d1c36ed66f2f63",
   "outputs": [
    {
     "data": {
      "text/plain": [
       "SVC(C=2, random_state=1)"
      ],
      "text/html": [
       "<style>#sk-container-id-9 {color: black;}#sk-container-id-9 pre{padding: 0;}#sk-container-id-9 div.sk-toggleable {background-color: white;}#sk-container-id-9 label.sk-toggleable__label {cursor: pointer;display: block;width: 100%;margin-bottom: 0;padding: 0.3em;box-sizing: border-box;text-align: center;}#sk-container-id-9 label.sk-toggleable__label-arrow:before {content: \"▸\";float: left;margin-right: 0.25em;color: #696969;}#sk-container-id-9 label.sk-toggleable__label-arrow:hover:before {color: black;}#sk-container-id-9 div.sk-estimator:hover label.sk-toggleable__label-arrow:before {color: black;}#sk-container-id-9 div.sk-toggleable__content {max-height: 0;max-width: 0;overflow: hidden;text-align: left;background-color: #f0f8ff;}#sk-container-id-9 div.sk-toggleable__content pre {margin: 0.2em;color: black;border-radius: 0.25em;background-color: #f0f8ff;}#sk-container-id-9 input.sk-toggleable__control:checked~div.sk-toggleable__content {max-height: 200px;max-width: 100%;overflow: auto;}#sk-container-id-9 input.sk-toggleable__control:checked~label.sk-toggleable__label-arrow:before {content: \"▾\";}#sk-container-id-9 div.sk-estimator input.sk-toggleable__control:checked~label.sk-toggleable__label {background-color: #d4ebff;}#sk-container-id-9 div.sk-label input.sk-toggleable__control:checked~label.sk-toggleable__label {background-color: #d4ebff;}#sk-container-id-9 input.sk-hidden--visually {border: 0;clip: rect(1px 1px 1px 1px);clip: rect(1px, 1px, 1px, 1px);height: 1px;margin: -1px;overflow: hidden;padding: 0;position: absolute;width: 1px;}#sk-container-id-9 div.sk-estimator {font-family: monospace;background-color: #f0f8ff;border: 1px dotted black;border-radius: 0.25em;box-sizing: border-box;margin-bottom: 0.5em;}#sk-container-id-9 div.sk-estimator:hover {background-color: #d4ebff;}#sk-container-id-9 div.sk-parallel-item::after {content: \"\";width: 100%;border-bottom: 1px solid gray;flex-grow: 1;}#sk-container-id-9 div.sk-label:hover label.sk-toggleable__label {background-color: #d4ebff;}#sk-container-id-9 div.sk-serial::before {content: \"\";position: absolute;border-left: 1px solid gray;box-sizing: border-box;top: 0;bottom: 0;left: 50%;z-index: 0;}#sk-container-id-9 div.sk-serial {display: flex;flex-direction: column;align-items: center;background-color: white;padding-right: 0.2em;padding-left: 0.2em;position: relative;}#sk-container-id-9 div.sk-item {position: relative;z-index: 1;}#sk-container-id-9 div.sk-parallel {display: flex;align-items: stretch;justify-content: center;background-color: white;position: relative;}#sk-container-id-9 div.sk-item::before, #sk-container-id-9 div.sk-parallel-item::before {content: \"\";position: absolute;border-left: 1px solid gray;box-sizing: border-box;top: 0;bottom: 0;left: 50%;z-index: -1;}#sk-container-id-9 div.sk-parallel-item {display: flex;flex-direction: column;z-index: 1;position: relative;background-color: white;}#sk-container-id-9 div.sk-parallel-item:first-child::after {align-self: flex-end;width: 50%;}#sk-container-id-9 div.sk-parallel-item:last-child::after {align-self: flex-start;width: 50%;}#sk-container-id-9 div.sk-parallel-item:only-child::after {width: 0;}#sk-container-id-9 div.sk-dashed-wrapped {border: 1px dashed gray;margin: 0 0.4em 0.5em 0.4em;box-sizing: border-box;padding-bottom: 0.4em;background-color: white;}#sk-container-id-9 div.sk-label label {font-family: monospace;font-weight: bold;display: inline-block;line-height: 1.2em;}#sk-container-id-9 div.sk-label-container {text-align: center;}#sk-container-id-9 div.sk-container {/* jupyter's `normalize.less` sets `[hidden] { display: none; }` but bootstrap.min.css set `[hidden] { display: none !important; }` so we also need the `!important` here to be able to override the default hidden behavior on the sphinx rendered scikit-learn.org. See: https://github.com/scikit-learn/scikit-learn/issues/21755 */display: inline-block !important;position: relative;}#sk-container-id-9 div.sk-text-repr-fallback {display: none;}</style><div id=\"sk-container-id-9\" class=\"sk-top-container\"><div class=\"sk-text-repr-fallback\"><pre>SVC(C=2, random_state=1)</pre><b>In a Jupyter environment, please rerun this cell to show the HTML representation or trust the notebook. <br />On GitHub, the HTML representation is unable to render, please try loading this page with nbviewer.org.</b></div><div class=\"sk-container\" hidden><div class=\"sk-item\"><div class=\"sk-estimator sk-toggleable\"><input class=\"sk-toggleable__control sk-hidden--visually\" id=\"sk-estimator-id-9\" type=\"checkbox\" checked><label for=\"sk-estimator-id-9\" class=\"sk-toggleable__label sk-toggleable__label-arrow\">SVC</label><div class=\"sk-toggleable__content\"><pre>SVC(C=2, random_state=1)</pre></div></div></div></div></div>"
      ]
     },
     "execution_count": 330,
     "metadata": {},
     "output_type": "execute_result"
    }
   ],
   "execution_count": 330
  },
  {
   "cell_type": "code",
   "source": [
    "previsoes_svm = svm.predict(x_teste)\n",
    "previsoes_svm"
   ],
   "metadata": {
    "collapsed": false,
    "ExecuteTime": {
     "end_time": "2024-04-09T03:39:08.045248Z",
     "start_time": "2024-04-09T03:39:08.014918Z"
    }
   },
   "id": "49939fdbd9dcdff3",
   "outputs": [
    {
     "data": {
      "text/plain": [
       "array([0, 1, 1, 1, 1, 0, 0, 0, 0, 1, 1, 1, 1, 1, 1, 1, 1, 1, 0, 0, 1, 1,\n",
       "       1, 0, 1, 1, 0, 1, 0, 1, 1, 1, 0, 0, 1, 0, 0, 0, 1, 0, 0, 1, 1, 1,\n",
       "       1, 0, 0, 0, 1, 1, 0, 0, 1, 1, 1, 0, 0, 1, 1, 0, 1, 0, 0, 0, 1, 1,\n",
       "       1, 0, 1, 0, 0, 1, 0, 1, 1, 1, 0, 1, 1, 1, 0, 1, 0, 0, 1, 0, 1, 1,\n",
       "       1, 0, 1, 1, 0, 1, 1, 0, 1, 0, 1, 1, 1, 1, 1, 1, 0, 0, 0, 0, 0, 0,\n",
       "       1, 1, 1, 1, 0, 1, 0, 1, 1, 1, 1, 1, 1, 1, 1, 1, 1, 0, 0, 1, 0, 1,\n",
       "       1, 1, 1, 0, 1, 1, 1, 0, 1, 1, 0, 1, 0, 0, 1, 1, 0, 0, 0, 1, 1, 0,\n",
       "       1, 0, 1, 0, 1, 1, 1, 0, 1, 1, 1, 0, 1, 0, 1, 1, 1, 0, 0, 0, 0, 1,\n",
       "       1, 0, 1, 1, 1, 1, 1, 1, 0, 1, 1, 1, 1, 1, 0, 1, 1, 1, 1, 1, 0, 0,\n",
       "       1, 1, 1, 1, 0, 0, 1, 1, 1, 0, 1, 0, 0, 1, 1, 0, 0, 0, 1, 0, 1, 1,\n",
       "       1, 0, 1, 0, 1, 1, 0, 1, 1, 1, 0, 1, 1, 1, 1, 1, 0, 0, 1, 1, 1, 0,\n",
       "       1, 1, 0, 0, 0, 0, 1, 1, 1, 0, 1, 1, 0, 1, 1, 0, 1, 1, 1, 1, 1, 1,\n",
       "       0, 1, 0, 0, 1, 0, 1, 0, 0, 1, 0, 0], dtype=int64)"
      ]
     },
     "execution_count": 331,
     "metadata": {},
     "output_type": "execute_result"
    }
   ],
   "execution_count": 331
  },
  {
   "cell_type": "code",
   "source": [
    "y_teste"
   ],
   "metadata": {
    "collapsed": false,
    "ExecuteTime": {
     "end_time": "2024-04-09T03:39:08.528339Z",
     "start_time": "2024-04-09T03:39:08.505416Z"
    }
   },
   "id": "1810cb43f9bb56a",
   "outputs": [
    {
     "data": {
      "text/plain": [
       "array([1, 0, 1, 0, 0, 0, 0, 0, 0, 0, 1, 0, 1, 1, 0, 1, 1, 1, 1, 0, 1, 1,\n",
       "       1, 0, 0, 0, 1, 1, 0, 0, 1, 0, 0, 0, 1, 0, 1, 0, 1, 0, 0, 1, 1, 1,\n",
       "       1, 0, 0, 1, 1, 1, 1, 0, 0, 1, 1, 0, 0, 0, 1, 0, 1, 1, 1, 0, 1, 1,\n",
       "       1, 0, 1, 0, 1, 1, 1, 1, 1, 1, 1, 1, 1, 0, 0, 1, 0, 0, 1, 1, 0, 1,\n",
       "       1, 0, 1, 0, 0, 1, 1, 0, 1, 0, 0, 0, 0, 1, 1, 1, 0, 1, 0, 0, 0, 1,\n",
       "       0, 1, 1, 1, 0, 1, 1, 1, 1, 1, 1, 1, 1, 0, 0, 1, 0, 1, 0, 1, 0, 1,\n",
       "       0, 1, 0, 0, 0, 1, 1, 0, 1, 1, 0, 1, 0, 0, 1, 1, 1, 0, 1, 1, 0, 0,\n",
       "       0, 0, 1, 1, 1, 0, 1, 1, 1, 0, 1, 0, 1, 0, 1, 0, 1, 1, 0, 0, 1, 0,\n",
       "       0, 1, 0, 1, 1, 1, 0, 1, 1, 1, 0, 1, 1, 0, 0, 0, 1, 1, 1, 1, 1, 0,\n",
       "       1, 0, 1, 1, 0, 1, 1, 0, 0, 0, 1, 0, 1, 1, 0, 1, 0, 1, 1, 1, 1, 1,\n",
       "       1, 1, 0, 0, 0, 1, 0, 1, 1, 1, 0, 1, 0, 1, 1, 1, 1, 1, 0, 1, 1, 0,\n",
       "       1, 0, 1, 0, 0, 0, 1, 0, 1, 0, 1, 1, 0, 0, 1, 0, 0, 1, 0, 1, 1, 0,\n",
       "       0, 0, 0, 0, 1, 0, 0, 1, 1, 1, 1, 1], dtype=int64)"
      ]
     },
     "execution_count": 332,
     "metadata": {},
     "output_type": "execute_result"
    }
   ],
   "execution_count": 332
  },
  {
   "cell_type": "code",
   "source": [
    "from sklearn.metrics import accuracy_score, confusion_matrix, classification_report"
   ],
   "metadata": {
    "collapsed": false,
    "ExecuteTime": {
     "end_time": "2024-04-09T03:39:08.996054Z",
     "start_time": "2024-04-09T03:39:08.984063Z"
    }
   },
   "id": "19b8bcfd78207721",
   "outputs": [],
   "execution_count": 333
  },
  {
   "cell_type": "code",
   "source": [
    "accuracy_score(y_teste, previsoes_svm)"
   ],
   "metadata": {
    "collapsed": false,
    "ExecuteTime": {
     "end_time": "2024-04-09T03:39:09.506787Z",
     "start_time": "2024-04-09T03:39:09.489557Z"
    }
   },
   "id": "a9c0dcc210c817c1",
   "outputs": [
    {
     "data": {
      "text/plain": [
       "0.6702898550724637"
      ]
     },
     "execution_count": 334,
     "metadata": {},
     "output_type": "execute_result"
    }
   ],
   "execution_count": 334
  },
  {
   "cell_type": "code",
   "source": [
    "print(f'Acurácia: {accuracy_score(y_teste, previsoes_svm)*100:.2f}%')"
   ],
   "metadata": {
    "collapsed": false,
    "ExecuteTime": {
     "end_time": "2024-04-09T03:39:09.947471Z",
     "start_time": "2024-04-09T03:39:09.931342Z"
    }
   },
   "id": "b500622deb63f12a",
   "outputs": [
    {
     "name": "stdout",
     "output_type": "stream",
     "text": [
      "Acurácia: 67.03%\n"
     ]
    }
   ],
   "execution_count": 335
  },
  {
   "cell_type": "code",
   "source": [
    "confusion_matrix(y_teste, previsoes_svm)"
   ],
   "metadata": {
    "collapsed": false,
    "ExecuteTime": {
     "end_time": "2024-04-09T03:39:10.397390Z",
     "start_time": "2024-04-09T03:39:10.383271Z"
    }
   },
   "id": "80cf6005730be87d",
   "outputs": [
    {
     "data": {
      "text/plain": [
       "array([[ 68,  53],\n",
       "       [ 38, 117]], dtype=int64)"
      ]
     },
     "execution_count": 336,
     "metadata": {},
     "output_type": "execute_result"
    }
   ],
   "execution_count": 336
  },
  {
   "cell_type": "code",
   "source": [
    "print(classification_report(y_teste, previsoes_svm))"
   ],
   "metadata": {
    "collapsed": false,
    "ExecuteTime": {
     "end_time": "2024-04-09T03:39:10.889324Z",
     "start_time": "2024-04-09T03:39:10.866447Z"
    }
   },
   "id": "6de0152933b0d9b8",
   "outputs": [
    {
     "name": "stdout",
     "output_type": "stream",
     "text": [
      "              precision    recall  f1-score   support\n",
      "\n",
      "           0       0.64      0.56      0.60       121\n",
      "           1       0.69      0.75      0.72       155\n",
      "\n",
      "    accuracy                           0.67       276\n",
      "   macro avg       0.66      0.66      0.66       276\n",
      "weighted avg       0.67      0.67      0.67       276\n",
      "\n"
     ]
    }
   ],
   "execution_count": 337
  },
  {
   "cell_type": "code",
   "source": [
    "# Análise de dados de treino\n",
    "previsoes_treino = svm.predict(x_treino)\n",
    "previsoes_treino"
   ],
   "metadata": {
    "collapsed": false,
    "ExecuteTime": {
     "end_time": "2024-04-09T03:39:11.381596Z",
     "start_time": "2024-04-09T03:39:11.329094Z"
    }
   },
   "id": "c269aff4a2ffcb0",
   "outputs": [
    {
     "data": {
      "text/plain": [
       "array([1, 0, 1, 1, 0, 0, 1, 0, 0, 1, 1, 0, 1, 1, 1, 0, 0, 1, 0, 1, 0, 0,\n",
       "       1, 0, 1, 0, 0, 1, 1, 1, 1, 0, 1, 1, 0, 0, 1, 1, 0, 1, 0, 1, 0, 0,\n",
       "       1, 1, 0, 1, 1, 1, 1, 0, 1, 0, 1, 0, 1, 1, 0, 0, 0, 1, 0, 0, 1, 1,\n",
       "       1, 1, 1, 0, 0, 1, 1, 1, 0, 0, 1, 1, 0, 1, 1, 1, 1, 1, 0, 1, 1, 1,\n",
       "       1, 1, 1, 0, 0, 1, 1, 1, 1, 1, 1, 1, 0, 1, 1, 0, 1, 1, 1, 0, 0, 1,\n",
       "       0, 0, 1, 0, 1, 0, 0, 1, 1, 0, 0, 0, 0, 1, 0, 1, 1, 0, 1, 1, 1, 0,\n",
       "       1, 1, 0, 1, 0, 0, 1, 1, 0, 1, 1, 1, 1, 1, 1, 1, 1, 1, 1, 1, 1, 1,\n",
       "       1, 0, 1, 0, 1, 1, 1, 0, 0, 0, 0, 1, 1, 1, 0, 1, 0, 1, 1, 0, 1, 1,\n",
       "       0, 1, 1, 0, 1, 0, 0, 0, 0, 1, 1, 1, 1, 1, 0, 1, 1, 1, 0, 0, 1, 1,\n",
       "       1, 1, 0, 1, 0, 1, 1, 0, 0, 0, 0, 1, 0, 1, 1, 1, 1, 1, 1, 0, 1, 1,\n",
       "       0, 0, 1, 1, 1, 0, 1, 1, 1, 1, 1, 1, 1, 1, 1, 0, 1, 0, 0, 0, 1, 0,\n",
       "       1, 0, 0, 1, 1, 1, 1, 1, 1, 1, 0, 1, 0, 0, 0, 0, 1, 0, 0, 0, 1, 0,\n",
       "       1, 1, 1, 0, 1, 0, 0, 1, 1, 0, 0, 1, 1, 0, 0, 0, 1, 0, 0, 0, 1, 1,\n",
       "       0, 1, 1, 1, 1, 0, 1, 0, 1, 0, 0, 0, 0, 1, 1, 1, 0, 1, 0, 1, 0, 1,\n",
       "       1, 0, 1, 0, 0, 0, 1, 0, 1, 0, 1, 0, 1, 1, 1, 1, 0, 1, 1, 0, 1, 1,\n",
       "       1, 1, 1, 0, 1, 1, 0, 1, 0, 1, 1, 1, 1, 1, 1, 0, 1, 1, 0, 0, 0, 1,\n",
       "       0, 0, 1, 1, 0, 0, 1, 1, 0, 0, 1, 1, 1, 0, 0, 0, 0, 1, 1, 0, 0, 1,\n",
       "       1, 1, 1, 1, 0, 0, 1, 1, 0, 1, 0, 1, 0, 0, 0, 0, 1, 1, 0, 0, 1, 1,\n",
       "       0, 1, 1, 1, 1, 1, 1, 1, 1, 1, 0, 1, 1, 0, 0, 1, 1, 1, 1, 1, 0, 1,\n",
       "       1, 1, 1, 1, 1, 1, 0, 0, 1, 1, 1, 0, 0, 1, 0, 0, 1, 1, 1, 0, 1, 1,\n",
       "       0, 0, 1, 1, 0, 1, 0, 1, 1, 1, 1, 0, 1, 1, 1, 1, 0, 0, 1, 1, 0, 1,\n",
       "       1, 1, 1, 1, 1, 0, 1, 0, 1, 1, 1, 1, 0, 1, 1, 0, 0, 0, 1, 0, 1, 0,\n",
       "       1, 0, 0, 1, 1, 0, 1, 1, 0, 1, 1, 0, 1, 1, 1, 0, 1, 1, 0, 1, 1, 1,\n",
       "       1, 0, 0, 0, 0, 1, 0, 1, 0, 1, 1, 0, 1, 0, 1, 1, 0, 0, 0, 1, 1, 0,\n",
       "       1, 0, 0, 1, 1, 1, 1, 0, 0, 0, 1, 1, 0, 1, 0, 0, 0, 0, 0, 1, 0, 0,\n",
       "       0, 0, 1, 0, 1, 0, 1, 1, 1, 1, 1, 0, 1, 0, 1, 1, 1, 0, 0, 1, 0, 1,\n",
       "       1, 1, 1, 0, 1, 1, 0, 1, 1, 1, 1, 0, 1, 1, 1, 1, 1, 0, 1, 1, 1, 0,\n",
       "       0, 0, 1, 0, 0, 1, 1, 1, 0, 0, 1, 1, 0, 1, 0, 0, 1, 0, 0, 1, 0, 0,\n",
       "       1, 1, 0, 1, 0, 0, 0, 1, 1, 1, 1, 1, 0, 1, 1, 0, 1, 1, 1, 0, 1, 0,\n",
       "       1, 1, 1], dtype=int64)"
      ]
     },
     "execution_count": 338,
     "metadata": {},
     "output_type": "execute_result"
    }
   ],
   "execution_count": 338
  },
  {
   "cell_type": "code",
   "source": [
    "accuracy_score(y_treino, previsoes_treino)"
   ],
   "metadata": {
    "collapsed": false,
    "ExecuteTime": {
     "end_time": "2024-04-09T03:39:11.823975Z",
     "start_time": "2024-04-09T03:39:11.809731Z"
    }
   },
   "id": "be79386d5618f639",
   "outputs": [
    {
     "data": {
      "text/plain": [
       "0.7129485179407177"
      ]
     },
     "execution_count": 339,
     "metadata": {},
     "output_type": "execute_result"
    }
   ],
   "execution_count": 339
  },
  {
   "cell_type": "code",
   "source": [
    "confusion_matrix(y_treino, previsoes_treino)"
   ],
   "metadata": {
    "collapsed": false,
    "ExecuteTime": {
     "end_time": "2024-04-09T03:39:12.241904Z",
     "start_time": "2024-04-09T03:39:12.228753Z"
    }
   },
   "id": "fa1bfaf81a78b6ba",
   "outputs": [
    {
     "data": {
      "text/plain": [
       "array([[181, 108],\n",
       "       [ 76, 276]], dtype=int64)"
      ]
     },
     "execution_count": 340,
     "metadata": {},
     "output_type": "execute_result"
    }
   ],
   "execution_count": 340
  },
  {
   "cell_type": "code",
   "source": [
    "# Validaçõa Cruzada\n",
    "from sklearn.model_selection import KFold\n",
    "from sklearn.model_selection import cross_val_score"
   ],
   "metadata": {
    "collapsed": false,
    "ExecuteTime": {
     "end_time": "2024-04-09T03:39:12.707106Z",
     "start_time": "2024-04-09T03:39:12.700039Z"
    }
   },
   "id": "ae5edd81526e1b15",
   "outputs": [],
   "execution_count": 341
  },
  {
   "cell_type": "code",
   "source": [
    "# Separando os dados em folds\n",
    "kfold = KFold(n_splits=30, shuffle=True, random_state=5)"
   ],
   "metadata": {
    "collapsed": false,
    "ExecuteTime": {
     "end_time": "2024-04-09T03:39:13.173290Z",
     "start_time": "2024-04-09T03:39:13.155208Z"
    }
   },
   "id": "ff40a1d4b0fd895b",
   "outputs": [],
   "execution_count": 342
  },
  {
   "cell_type": "code",
   "source": [
    "# Criando o modelo\n",
    "modelo = SVC(kernel = 'rbf', random_state=1, C=2)\n",
    "resultado = cross_val_score(modelo, previsores3_esc, alvo, cv=kfold)\n",
    "resultado"
   ],
   "metadata": {
    "collapsed": false,
    "ExecuteTime": {
     "end_time": "2024-04-09T03:39:14.648980Z",
     "start_time": "2024-04-09T03:39:13.518954Z"
    }
   },
   "id": "ce0154844800c80e",
   "outputs": [
    {
     "data": {
      "text/plain": [
       "array([0.96774194, 0.83870968, 0.87096774, 0.90322581, 0.83870968,\n",
       "       0.87096774, 0.70967742, 0.87096774, 0.80645161, 0.80645161,\n",
       "       0.87096774, 0.80645161, 0.96774194, 0.90322581, 0.80645161,\n",
       "       0.83870968, 0.80645161, 0.93333333, 0.86666667, 0.93333333,\n",
       "       0.83333333, 0.86666667, 0.86666667, 0.63333333, 0.83333333,\n",
       "       0.93333333, 0.9       , 0.86666667, 0.9       , 0.86666667])"
      ]
     },
     "execution_count": 343,
     "metadata": {},
     "output_type": "execute_result"
    }
   ],
   "execution_count": 343
  },
  {
   "cell_type": "code",
   "source": [
    "# Usando a média e o desvio padrão\n",
    "print(f'Acurácia Média: {resultado.mean()*100:.2f}%')"
   ],
   "metadata": {
    "collapsed": false,
    "ExecuteTime": {
     "end_time": "2024-04-09T03:39:14.664213Z",
     "start_time": "2024-04-09T03:39:14.652067Z"
    }
   },
   "id": "77c0eb85fc2640f7",
   "outputs": [
    {
     "name": "stdout",
     "output_type": "stream",
     "text": [
      "Acurácia Média: 85.72%\n"
     ]
    }
   ],
   "execution_count": 344
  },
  {
   "cell_type": "markdown",
   "source": [
    "# 49. Regressão Logística: Aplicação"
   ],
   "metadata": {
    "collapsed": false
   },
   "id": "cb745ddaf940cfce"
  },
  {
   "cell_type": "code",
   "source": [
    "\"\"\"\n",
    "Regressão Logística\n",
    "> Algoritmo de classificação em aprendizagem supervisionada.\n",
    "> Utiliza conceitos de regressão linear em seu modelo matemático\n",
    "> Equação: p = 1/(1+e^-z) onde z=(b0+b1*x1+b2*x2+...+bn*xn)\n",
    "p = probabilidade de pertencer a determinada classe;\n",
    "e = número de euler;\n",
    "b0 = intercepto;\n",
    "bn = coeficientes;\n",
    "xn = variáveis dependentes;\n",
    "\n",
    "Aplicações:\n",
    "> Está presente em diversas aplicações em várias áreas de estudo como na economia, bioestatística, psicometria, medicina, ciências sociais...\n",
    "\n",
    "Vantagens:\n",
    "> Fácil implementação;\n",
    "> Teoria consolidada;\n",
    "> Excelente desempenho;\n",
    "> Indica o valor de probabilidade para cada instância:\n",
    "\"\"\""
   ],
   "metadata": {
    "collapsed": false,
    "ExecuteTime": {
     "end_time": "2024-04-09T03:39:14.679394Z",
     "start_time": "2024-04-09T03:39:14.667210Z"
    }
   },
   "id": "6443b6f79f9ede54",
   "outputs": [
    {
     "data": {
      "text/plain": [
       "'\\nRegressão Logística\\n> Algoritmo de classificação em aprendizagem supervisionada.\\n> Utiliza conceitos de regressão linear em seu modelo matemático\\n> Equação: p = 1/(1+e^-z) onde z=(b0+b1*x1+b2*x2+...+bn*xn)\\np = probabilidade de pertencer a determinada classe;\\ne = número de euler;\\nb0 = intercepto;\\nbn = coeficientes;\\nxn = variáveis dependentes;\\n\\nAplicações:\\n> Está presente em diversas aplicações em várias áreas de estudo como na economia, bioestatística, psicometria, medicina, ciências sociais...\\n\\nVantagens:\\n> Fácil implementação;\\n> Teoria consolidada;\\n> Excelente desempenho;\\n> Indica o valor de probabilidade para cada instância:\\n'"
      ]
     },
     "execution_count": 345,
     "metadata": {},
     "output_type": "execute_result"
    }
   ],
   "execution_count": 345
  },
  {
   "cell_type": "markdown",
   "source": [
    "# 50. Regressão Logística no Python"
   ],
   "metadata": {
    "collapsed": false
   },
   "id": "273fd556442be3a1"
  },
  {
   "cell_type": "code",
   "source": [
    "\"https: scikit-learn.org/stable/modules/generated/sklearn.linear_model.LogisticRegression.html\""
   ],
   "metadata": {
    "collapsed": false,
    "ExecuteTime": {
     "end_time": "2024-04-09T03:39:14.694628Z",
     "start_time": "2024-04-09T03:39:14.682393Z"
    }
   },
   "id": "749d3f25465b2c8c",
   "outputs": [
    {
     "data": {
      "text/plain": [
       "'https: scikit-learn.org/stable/modules/generated/sklearn.linear_model.LogisticRegression.html'"
      ]
     },
     "execution_count": 346,
     "metadata": {},
     "output_type": "execute_result"
    }
   ],
   "execution_count": 346
  },
  {
   "cell_type": "code",
   "source": [
    "from sklearn.linear_model import LogisticRegression"
   ],
   "metadata": {
    "collapsed": false,
    "ExecuteTime": {
     "end_time": "2024-04-09T03:39:14.773454Z",
     "start_time": "2024-04-09T03:39:14.758602Z"
    }
   },
   "id": "baacf3cc63a7ef64",
   "outputs": [],
   "execution_count": 347
  },
  {
   "cell_type": "code",
   "source": [
    "logistica = LogisticRegression(random_state=1, max_iter=500, penalty=\"l2\", tol=0.0001, C=1, solver=\"lbfgs\") \n",
    "logistica.fit(x_treino, y_treino)"
   ],
   "metadata": {
    "collapsed": false,
    "ExecuteTime": {
     "end_time": "2024-04-09T03:39:15.794575Z",
     "start_time": "2024-04-09T03:39:15.587233Z"
    }
   },
   "id": "ecda1daed55885a3",
   "outputs": [
    {
     "data": {
      "text/plain": [
       "LogisticRegression(C=1, max_iter=500, random_state=1)"
      ],
      "text/html": [
       "<style>#sk-container-id-10 {color: black;}#sk-container-id-10 pre{padding: 0;}#sk-container-id-10 div.sk-toggleable {background-color: white;}#sk-container-id-10 label.sk-toggleable__label {cursor: pointer;display: block;width: 100%;margin-bottom: 0;padding: 0.3em;box-sizing: border-box;text-align: center;}#sk-container-id-10 label.sk-toggleable__label-arrow:before {content: \"▸\";float: left;margin-right: 0.25em;color: #696969;}#sk-container-id-10 label.sk-toggleable__label-arrow:hover:before {color: black;}#sk-container-id-10 div.sk-estimator:hover label.sk-toggleable__label-arrow:before {color: black;}#sk-container-id-10 div.sk-toggleable__content {max-height: 0;max-width: 0;overflow: hidden;text-align: left;background-color: #f0f8ff;}#sk-container-id-10 div.sk-toggleable__content pre {margin: 0.2em;color: black;border-radius: 0.25em;background-color: #f0f8ff;}#sk-container-id-10 input.sk-toggleable__control:checked~div.sk-toggleable__content {max-height: 200px;max-width: 100%;overflow: auto;}#sk-container-id-10 input.sk-toggleable__control:checked~label.sk-toggleable__label-arrow:before {content: \"▾\";}#sk-container-id-10 div.sk-estimator input.sk-toggleable__control:checked~label.sk-toggleable__label {background-color: #d4ebff;}#sk-container-id-10 div.sk-label input.sk-toggleable__control:checked~label.sk-toggleable__label {background-color: #d4ebff;}#sk-container-id-10 input.sk-hidden--visually {border: 0;clip: rect(1px 1px 1px 1px);clip: rect(1px, 1px, 1px, 1px);height: 1px;margin: -1px;overflow: hidden;padding: 0;position: absolute;width: 1px;}#sk-container-id-10 div.sk-estimator {font-family: monospace;background-color: #f0f8ff;border: 1px dotted black;border-radius: 0.25em;box-sizing: border-box;margin-bottom: 0.5em;}#sk-container-id-10 div.sk-estimator:hover {background-color: #d4ebff;}#sk-container-id-10 div.sk-parallel-item::after {content: \"\";width: 100%;border-bottom: 1px solid gray;flex-grow: 1;}#sk-container-id-10 div.sk-label:hover label.sk-toggleable__label {background-color: #d4ebff;}#sk-container-id-10 div.sk-serial::before {content: \"\";position: absolute;border-left: 1px solid gray;box-sizing: border-box;top: 0;bottom: 0;left: 50%;z-index: 0;}#sk-container-id-10 div.sk-serial {display: flex;flex-direction: column;align-items: center;background-color: white;padding-right: 0.2em;padding-left: 0.2em;position: relative;}#sk-container-id-10 div.sk-item {position: relative;z-index: 1;}#sk-container-id-10 div.sk-parallel {display: flex;align-items: stretch;justify-content: center;background-color: white;position: relative;}#sk-container-id-10 div.sk-item::before, #sk-container-id-10 div.sk-parallel-item::before {content: \"\";position: absolute;border-left: 1px solid gray;box-sizing: border-box;top: 0;bottom: 0;left: 50%;z-index: -1;}#sk-container-id-10 div.sk-parallel-item {display: flex;flex-direction: column;z-index: 1;position: relative;background-color: white;}#sk-container-id-10 div.sk-parallel-item:first-child::after {align-self: flex-end;width: 50%;}#sk-container-id-10 div.sk-parallel-item:last-child::after {align-self: flex-start;width: 50%;}#sk-container-id-10 div.sk-parallel-item:only-child::after {width: 0;}#sk-container-id-10 div.sk-dashed-wrapped {border: 1px dashed gray;margin: 0 0.4em 0.5em 0.4em;box-sizing: border-box;padding-bottom: 0.4em;background-color: white;}#sk-container-id-10 div.sk-label label {font-family: monospace;font-weight: bold;display: inline-block;line-height: 1.2em;}#sk-container-id-10 div.sk-label-container {text-align: center;}#sk-container-id-10 div.sk-container {/* jupyter's `normalize.less` sets `[hidden] { display: none; }` but bootstrap.min.css set `[hidden] { display: none !important; }` so we also need the `!important` here to be able to override the default hidden behavior on the sphinx rendered scikit-learn.org. See: https://github.com/scikit-learn/scikit-learn/issues/21755 */display: inline-block !important;position: relative;}#sk-container-id-10 div.sk-text-repr-fallback {display: none;}</style><div id=\"sk-container-id-10\" class=\"sk-top-container\"><div class=\"sk-text-repr-fallback\"><pre>LogisticRegression(C=1, max_iter=500, random_state=1)</pre><b>In a Jupyter environment, please rerun this cell to show the HTML representation or trust the notebook. <br />On GitHub, the HTML representation is unable to render, please try loading this page with nbviewer.org.</b></div><div class=\"sk-container\" hidden><div class=\"sk-item\"><div class=\"sk-estimator sk-toggleable\"><input class=\"sk-toggleable__control sk-hidden--visually\" id=\"sk-estimator-id-10\" type=\"checkbox\" checked><label for=\"sk-estimator-id-10\" class=\"sk-toggleable__label sk-toggleable__label-arrow\">LogisticRegression</label><div class=\"sk-toggleable__content\"><pre>LogisticRegression(C=1, max_iter=500, random_state=1)</pre></div></div></div></div></div>"
      ]
     },
     "execution_count": 348,
     "metadata": {},
     "output_type": "execute_result"
    }
   ],
   "execution_count": 348
  },
  {
   "cell_type": "code",
   "source": [
    "logistica.intercept_"
   ],
   "metadata": {
    "collapsed": false,
    "ExecuteTime": {
     "end_time": "2024-04-09T03:39:16.164977Z",
     "start_time": "2024-04-09T03:39:16.145740Z"
    }
   },
   "id": "dbd09fedd16c1cea",
   "outputs": [
    {
     "data": {
      "text/plain": [
       "array([-4.70949359])"
      ]
     },
     "execution_count": 349,
     "metadata": {},
     "output_type": "execute_result"
    }
   ],
   "execution_count": 349
  },
  {
   "cell_type": "code",
   "source": [
    "logistica.coef_"
   ],
   "metadata": {
    "collapsed": false,
    "ExecuteTime": {
     "end_time": "2024-04-09T03:39:16.650118Z",
     "start_time": "2024-04-09T03:39:16.629828Z"
    }
   },
   "id": "83000f879dd663f6",
   "outputs": [
    {
     "data": {
      "text/plain": [
       "array([[ 0.01310081,  1.27109795,  0.66432244,  0.00337222,  0.00432106,\n",
       "         0.92045964,  0.08879068, -0.01148407,  1.02230033,  0.24998987,\n",
       "         1.64635353]])"
      ]
     },
     "execution_count": 350,
     "metadata": {},
     "output_type": "execute_result"
    }
   ],
   "execution_count": 350
  },
  {
   "cell_type": "code",
   "source": [
    "previsoes_logistica = logistica.predict(x_teste)\n",
    "previsoes_logistica"
   ],
   "metadata": {
    "collapsed": false,
    "ExecuteTime": {
     "end_time": "2024-04-09T03:39:17.069630Z",
     "start_time": "2024-04-09T03:39:17.048354Z"
    }
   },
   "id": "5c96737430b45147",
   "outputs": [
    {
     "data": {
      "text/plain": [
       "array([1, 1, 1, 0, 0, 0, 0, 0, 0, 0, 1, 1, 1, 1, 0, 1, 1, 1, 1, 0, 1, 1,\n",
       "       1, 0, 0, 0, 1, 1, 1, 1, 1, 0, 0, 0, 1, 0, 0, 0, 1, 0, 0, 1, 1, 1,\n",
       "       1, 0, 0, 1, 0, 1, 1, 0, 0, 1, 1, 0, 0, 0, 0, 0, 1, 1, 1, 0, 1, 1,\n",
       "       1, 0, 1, 0, 1, 1, 0, 1, 1, 1, 1, 1, 1, 1, 1, 1, 0, 0, 1, 1, 1, 1,\n",
       "       1, 0, 1, 0, 0, 0, 1, 0, 1, 0, 0, 0, 0, 1, 1, 1, 0, 1, 1, 0, 0, 1,\n",
       "       1, 1, 1, 1, 1, 1, 0, 1, 1, 1, 1, 1, 1, 0, 1, 1, 0, 1, 0, 1, 0, 1,\n",
       "       1, 1, 0, 1, 1, 1, 1, 0, 0, 1, 0, 1, 0, 0, 1, 1, 0, 1, 0, 1, 1, 0,\n",
       "       1, 0, 1, 1, 1, 0, 1, 1, 1, 0, 1, 0, 1, 0, 1, 0, 1, 1, 0, 0, 1, 1,\n",
       "       1, 0, 0, 1, 1, 1, 0, 1, 1, 1, 0, 1, 1, 0, 0, 0, 1, 1, 1, 1, 0, 0,\n",
       "       1, 0, 1, 1, 0, 1, 1, 0, 0, 0, 1, 0, 1, 1, 0, 0, 0, 0, 1, 0, 1, 1,\n",
       "       1, 0, 0, 1, 1, 1, 0, 1, 0, 1, 0, 1, 1, 1, 0, 1, 1, 1, 0, 1, 1, 0,\n",
       "       1, 0, 1, 0, 0, 0, 1, 0, 1, 0, 1, 0, 0, 0, 1, 0, 0, 1, 0, 1, 1, 0,\n",
       "       0, 0, 0, 0, 1, 0, 0, 1, 1, 1, 1, 1], dtype=int64)"
      ]
     },
     "execution_count": 351,
     "metadata": {},
     "output_type": "execute_result"
    }
   ],
   "execution_count": 351
  },
  {
   "cell_type": "code",
   "source": [
    "from sklearn.metrics import accuracy_score, confusion_matrix, classification_report"
   ],
   "metadata": {
    "collapsed": false,
    "ExecuteTime": {
     "end_time": "2024-04-09T03:39:17.993318Z",
     "start_time": "2024-04-09T03:39:17.973550Z"
    }
   },
   "id": "ba60b67a76a27730",
   "outputs": [],
   "execution_count": 352
  },
  {
   "cell_type": "code",
   "source": [
    "print(f'''Acurácia: {accuracy_score(y_teste, previsoes_logistica)*100:.2f}%''')"
   ],
   "metadata": {
    "collapsed": false,
    "ExecuteTime": {
     "end_time": "2024-04-09T03:39:20.411392Z",
     "start_time": "2024-04-09T03:39:20.398222Z"
    }
   },
   "id": "587b02ab7083be70",
   "outputs": [
    {
     "name": "stdout",
     "output_type": "stream",
     "text": [
      "Acurácia: 85.51%\n"
     ]
    }
   ],
   "execution_count": 353
  },
  {
   "cell_type": "code",
   "source": [
    "confusion_matrix(y_teste, previsoes_logistica)"
   ],
   "metadata": {
    "collapsed": false,
    "ExecuteTime": {
     "end_time": "2024-04-09T03:39:20.827672Z",
     "start_time": "2024-04-09T03:39:20.806345Z"
    }
   },
   "id": "54b8c1050f0241ac",
   "outputs": [
    {
     "data": {
      "text/plain": [
       "array([[ 99,  22],\n",
       "       [ 18, 137]], dtype=int64)"
      ]
     },
     "execution_count": 354,
     "metadata": {},
     "output_type": "execute_result"
    }
   ],
   "execution_count": 354
  },
  {
   "cell_type": "code",
   "source": [
    "print(classification_report(y_teste, previsoes_logistica))"
   ],
   "metadata": {
    "collapsed": false,
    "ExecuteTime": {
     "end_time": "2024-04-09T03:39:21.226388Z",
     "start_time": "2024-04-09T03:39:21.208047Z"
    }
   },
   "id": "dfe24a988c8d6094",
   "outputs": [
    {
     "name": "stdout",
     "output_type": "stream",
     "text": [
      "              precision    recall  f1-score   support\n",
      "\n",
      "           0       0.85      0.82      0.83       121\n",
      "           1       0.86      0.88      0.87       155\n",
      "\n",
      "    accuracy                           0.86       276\n",
      "   macro avg       0.85      0.85      0.85       276\n",
      "weighted avg       0.85      0.86      0.85       276\n",
      "\n"
     ]
    }
   ],
   "execution_count": 355
  },
  {
   "cell_type": "code",
   "source": [
    "# Análise dados de treino\n",
    "previsoes_treino = logistica.predict(x_treino)\n",
    "previsoes_treino"
   ],
   "metadata": {
    "collapsed": false,
    "ExecuteTime": {
     "end_time": "2024-04-09T03:39:21.704403Z",
     "start_time": "2024-04-09T03:39:21.684623Z"
    }
   },
   "id": "cf7da5cb5330a9d9",
   "outputs": [
    {
     "data": {
      "text/plain": [
       "array([1, 0, 1, 1, 1, 1, 0, 0, 0, 0, 1, 0, 1, 1, 1, 0, 0, 0, 0, 1, 1, 1,\n",
       "       1, 1, 1, 0, 0, 1, 0, 1, 1, 0, 1, 1, 0, 0, 1, 1, 0, 1, 0, 1, 0, 0,\n",
       "       1, 1, 0, 1, 1, 1, 0, 0, 1, 0, 1, 0, 1, 0, 1, 0, 0, 0, 0, 0, 1, 1,\n",
       "       0, 1, 1, 0, 1, 1, 1, 1, 0, 0, 1, 1, 0, 1, 1, 1, 1, 1, 0, 1, 1, 1,\n",
       "       1, 1, 0, 1, 0, 0, 1, 1, 1, 1, 1, 1, 0, 1, 0, 1, 1, 1, 1, 0, 0, 1,\n",
       "       0, 0, 1, 0, 1, 0, 1, 0, 1, 0, 0, 0, 0, 1, 0, 1, 0, 0, 1, 1, 1, 0,\n",
       "       1, 1, 0, 0, 1, 0, 1, 1, 0, 1, 1, 1, 1, 1, 1, 0, 0, 1, 1, 0, 1, 0,\n",
       "       1, 0, 1, 1, 1, 1, 1, 0, 0, 0, 0, 0, 1, 1, 0, 0, 0, 1, 1, 0, 1, 0,\n",
       "       0, 1, 1, 0, 0, 0, 0, 0, 0, 1, 1, 1, 1, 0, 0, 0, 1, 0, 0, 1, 1, 0,\n",
       "       1, 1, 0, 1, 0, 1, 1, 1, 1, 1, 1, 0, 0, 0, 1, 1, 1, 1, 1, 0, 0, 1,\n",
       "       1, 0, 0, 1, 1, 0, 1, 1, 1, 1, 0, 1, 0, 1, 1, 0, 1, 0, 1, 0, 1, 0,\n",
       "       1, 1, 0, 1, 1, 1, 1, 0, 1, 1, 0, 0, 0, 0, 0, 0, 1, 0, 1, 1, 1, 0,\n",
       "       1, 0, 1, 0, 1, 0, 1, 1, 0, 1, 0, 1, 1, 0, 0, 0, 1, 0, 0, 0, 1, 1,\n",
       "       1, 1, 1, 1, 1, 0, 1, 1, 0, 1, 0, 1, 0, 1, 1, 0, 0, 1, 0, 0, 1, 1,\n",
       "       1, 0, 1, 0, 1, 0, 1, 0, 1, 0, 1, 0, 1, 1, 1, 1, 0, 1, 1, 1, 1, 0,\n",
       "       0, 0, 1, 0, 0, 0, 1, 1, 0, 1, 1, 1, 1, 1, 1, 0, 1, 1, 0, 1, 0, 1,\n",
       "       0, 0, 0, 0, 0, 0, 1, 0, 0, 1, 0, 1, 1, 0, 0, 0, 0, 0, 1, 1, 0, 1,\n",
       "       0, 1, 1, 1, 0, 1, 1, 1, 0, 1, 0, 1, 0, 0, 0, 1, 0, 1, 1, 0, 1, 1,\n",
       "       0, 0, 0, 1, 1, 1, 1, 0, 1, 0, 1, 1, 1, 0, 0, 1, 0, 1, 1, 1, 0, 0,\n",
       "       0, 1, 1, 1, 0, 1, 1, 0, 1, 0, 0, 0, 0, 1, 1, 1, 1, 1, 1, 0, 1, 1,\n",
       "       0, 0, 1, 1, 1, 1, 0, 1, 0, 0, 1, 0, 1, 1, 1, 1, 0, 0, 0, 1, 0, 1,\n",
       "       1, 1, 1, 1, 1, 0, 1, 1, 1, 1, 1, 1, 0, 1, 1, 0, 0, 0, 1, 0, 0, 0,\n",
       "       0, 0, 1, 0, 1, 1, 0, 0, 0, 1, 1, 0, 1, 1, 1, 0, 1, 1, 0, 1, 1, 1,\n",
       "       1, 1, 0, 0, 1, 1, 1, 1, 0, 1, 0, 0, 1, 0, 1, 1, 1, 0, 0, 1, 1, 0,\n",
       "       1, 0, 1, 0, 1, 0, 1, 0, 1, 0, 1, 1, 0, 1, 1, 1, 1, 0, 0, 1, 1, 0,\n",
       "       0, 0, 1, 0, 1, 0, 1, 1, 1, 0, 1, 1, 0, 0, 0, 1, 1, 0, 0, 1, 0, 1,\n",
       "       1, 0, 0, 0, 1, 0, 0, 0, 0, 1, 0, 1, 1, 1, 1, 0, 1, 0, 0, 0, 0, 1,\n",
       "       0, 0, 1, 0, 0, 0, 0, 0, 0, 0, 1, 0, 0, 1, 0, 1, 1, 1, 1, 1, 0, 1,\n",
       "       1, 1, 0, 1, 1, 0, 1, 0, 1, 1, 1, 1, 0, 1, 1, 0, 0, 1, 1, 0, 1, 0,\n",
       "       0, 0, 1], dtype=int64)"
      ]
     },
     "execution_count": 356,
     "metadata": {},
     "output_type": "execute_result"
    }
   ],
   "execution_count": 356
  },
  {
   "cell_type": "code",
   "source": [
    "accuracy_score(y_treino, previsoes_treino)"
   ],
   "metadata": {
    "collapsed": false,
    "ExecuteTime": {
     "end_time": "2024-04-09T03:39:22.152822Z",
     "start_time": "2024-04-09T03:39:22.132870Z"
    }
   },
   "id": "2f62bd84912f4ed6",
   "outputs": [
    {
     "data": {
      "text/plain": [
       "0.8502340093603744"
      ]
     },
     "execution_count": 357,
     "metadata": {},
     "output_type": "execute_result"
    }
   ],
   "execution_count": 357
  },
  {
   "cell_type": "code",
   "source": [
    "confusion_matrix(y_treino, previsoes_treino)"
   ],
   "metadata": {
    "collapsed": false,
    "ExecuteTime": {
     "end_time": "2024-04-09T03:39:22.661597Z",
     "start_time": "2024-04-09T03:39:22.642397Z"
    }
   },
   "id": "2b570ce8d69a2a95",
   "outputs": [
    {
     "data": {
      "text/plain": [
       "array([[239,  50],\n",
       "       [ 46, 306]], dtype=int64)"
      ]
     },
     "execution_count": 358,
     "metadata": {},
     "output_type": "execute_result"
    }
   ],
   "execution_count": 358
  },
  {
   "cell_type": "code",
   "source": [
    "# Validação Cruzada\n",
    "from sklearn.model_selection import KFold\n",
    "from sklearn.model_selection import cross_val_score"
   ],
   "metadata": {
    "collapsed": false,
    "ExecuteTime": {
     "end_time": "2024-04-09T03:39:23.210945Z",
     "start_time": "2024-04-09T03:39:23.198951Z"
    }
   },
   "id": "61724051d1228fa9",
   "outputs": [],
   "execution_count": 359
  },
  {
   "cell_type": "code",
   "source": [
    "# Separando os dados em folds\n",
    "kfold = KFold(n_splits=30, shuffle=True, random_state=5)"
   ],
   "metadata": {
    "collapsed": false,
    "ExecuteTime": {
     "end_time": "2024-04-09T03:39:23.642560Z",
     "start_time": "2024-04-09T03:39:23.631325Z"
    }
   },
   "id": "5eb0055fff787274",
   "outputs": [],
   "execution_count": 360
  },
  {
   "cell_type": "code",
   "source": [
    "# Criando o modelo\n",
    "modelo = LogisticRegression(random_state=1, max_iter=500, penalty=\"l2\", tol=0.0001, C=1, solver=\"lbfgs\") \n",
    "resultado = cross_val_score(modelo, previsores3_esc, alvo, cv=kfold)\n",
    "resultado"
   ],
   "metadata": {
    "collapsed": false,
    "ExecuteTime": {
     "end_time": "2024-04-09T03:39:24.261860Z",
     "start_time": "2024-04-09T03:39:24.000143Z"
    }
   },
   "id": "4ed6181656e72bd9",
   "outputs": [
    {
     "data": {
      "text/plain": [
       "array([0.93548387, 0.83870968, 0.90322581, 0.77419355, 0.87096774,\n",
       "       0.90322581, 0.70967742, 0.87096774, 0.83870968, 0.87096774,\n",
       "       0.87096774, 0.80645161, 0.96774194, 0.83870968, 0.80645161,\n",
       "       0.90322581, 0.80645161, 0.96666667, 0.96666667, 0.86666667,\n",
       "       0.83333333, 0.86666667, 0.86666667, 0.7       , 0.83333333,\n",
       "       0.93333333, 0.9       , 0.83333333, 0.83333333, 0.83333333])"
      ]
     },
     "execution_count": 361,
     "metadata": {},
     "output_type": "execute_result"
    }
   ],
   "execution_count": 361
  },
  {
   "cell_type": "code",
   "source": [
    "# Usando a média e o desvio padrão\n",
    "print(f'Acurácia Média: {resultado.mean()*100:.2f}%')"
   ],
   "metadata": {
    "collapsed": false,
    "ExecuteTime": {
     "end_time": "2024-04-09T03:39:24.464732Z",
     "start_time": "2024-04-09T03:39:24.458677Z"
    }
   },
   "id": "f17c081366680204",
   "outputs": [
    {
     "name": "stdout",
     "output_type": "stream",
     "text": [
      "Acurácia Média: 85.83%\n"
     ]
    }
   ],
   "execution_count": 362
  },
  {
   "cell_type": "markdown",
   "source": [
    "# 51. KNN (Aprendizagem Baseada em Instâncias)"
   ],
   "metadata": {
    "collapsed": false
   },
   "id": "c74490024ea6bc24"
  },
  {
   "cell_type": "code",
   "source": [
    "# Aprendizagem baseada em instâncias (KNN)\n",
    "\"\"\"\n",
    "> Algoritmo de classificação em aprendizagem supervisionada.\n",
    "> KNN é a sigla de K Nearest Neighbors (K vizinhos mais próximos).\n",
    "> O Knn realiza classificação de instâncias (dados) em classes.\n",
    "> Não possuí um modelo matemático, apenas classifica uma instância através de cálculos de distâncias\n",
    "\n",
    "Vantagens:\n",
    "> Fácil implementação;\n",
    "> Fácil entendimento;\n",
    "> Excelente desempenho em situações de dados com características complexas;\n",
    "> Poucos parâmetros para ajustar;\n",
    "\n",
    "Desvantagens:\n",
    "> Alto custo computacional;\n",
    "> Parâmetro k é ajustado na tentativa e erro;\n",
    "\"\"\""
   ],
   "metadata": {
    "collapsed": false,
    "ExecuteTime": {
     "end_time": "2024-04-09T03:39:24.900100Z",
     "start_time": "2024-04-09T03:39:24.883277Z"
    }
   },
   "id": "ee3cb71a8d7d82b9",
   "outputs": [
    {
     "data": {
      "text/plain": [
       "'\\n> Algoritmo de classificação em aprendizagem supervisionada.\\n> KNN é a sigla de K Nearest Neighbors (K vizinhos mais próximos).\\n> O Knn realiza classificação de instâncias (dados) em classes.\\n> Não possuí um modelo matemático, apenas classifica uma instância através de cálculos de distâncias\\n\\nVantagens:\\n> Fácil implementação;\\n> Fácil entendimento;\\n> Excelente desempenho em situações de dados com características complexas;\\n> Poucos parâmetros para ajustar;\\n\\nDesvantagens:\\n> Alto custo computacional;\\n> Parâmetro k é ajustado na tentativa e erro;\\n'"
      ]
     },
     "execution_count": 363,
     "metadata": {},
     "output_type": "execute_result"
    }
   ],
   "execution_count": 363
  },
  {
   "cell_type": "markdown",
   "source": [
    "# 52. KNN no Python\n",
    "'https://scikit-learn.org/stable/modules/generated/sklearn.neighbors.KNeighborsClassifier.html'"
   ],
   "metadata": {
    "collapsed": false
   },
   "id": "589a0eccef3bae21"
  },
  {
   "cell_type": "code",
   "source": [
    "from sklearn.neighbors import KNeighborsClassifier"
   ],
   "metadata": {
    "collapsed": false,
    "ExecuteTime": {
     "end_time": "2024-04-09T03:39:25.390489Z",
     "start_time": "2024-04-09T03:39:25.385491Z"
    }
   },
   "id": "5f8317b15f6e9eb5",
   "outputs": [],
   "execution_count": 364
  },
  {
   "cell_type": "code",
   "source": [
    "knn = KNeighborsClassifier(n_neighbors=7, metric='minkowski', p=1)\n",
    "knn.fit(x_treino, y_treino)"
   ],
   "metadata": {
    "collapsed": false,
    "ExecuteTime": {
     "end_time": "2024-04-09T03:39:25.854112Z",
     "start_time": "2024-04-09T03:39:25.831400Z"
    }
   },
   "id": "7ccea4ad7239ffda",
   "outputs": [
    {
     "data": {
      "text/plain": [
       "KNeighborsClassifier(n_neighbors=7, p=1)"
      ],
      "text/html": [
       "<style>#sk-container-id-11 {color: black;}#sk-container-id-11 pre{padding: 0;}#sk-container-id-11 div.sk-toggleable {background-color: white;}#sk-container-id-11 label.sk-toggleable__label {cursor: pointer;display: block;width: 100%;margin-bottom: 0;padding: 0.3em;box-sizing: border-box;text-align: center;}#sk-container-id-11 label.sk-toggleable__label-arrow:before {content: \"▸\";float: left;margin-right: 0.25em;color: #696969;}#sk-container-id-11 label.sk-toggleable__label-arrow:hover:before {color: black;}#sk-container-id-11 div.sk-estimator:hover label.sk-toggleable__label-arrow:before {color: black;}#sk-container-id-11 div.sk-toggleable__content {max-height: 0;max-width: 0;overflow: hidden;text-align: left;background-color: #f0f8ff;}#sk-container-id-11 div.sk-toggleable__content pre {margin: 0.2em;color: black;border-radius: 0.25em;background-color: #f0f8ff;}#sk-container-id-11 input.sk-toggleable__control:checked~div.sk-toggleable__content {max-height: 200px;max-width: 100%;overflow: auto;}#sk-container-id-11 input.sk-toggleable__control:checked~label.sk-toggleable__label-arrow:before {content: \"▾\";}#sk-container-id-11 div.sk-estimator input.sk-toggleable__control:checked~label.sk-toggleable__label {background-color: #d4ebff;}#sk-container-id-11 div.sk-label input.sk-toggleable__control:checked~label.sk-toggleable__label {background-color: #d4ebff;}#sk-container-id-11 input.sk-hidden--visually {border: 0;clip: rect(1px 1px 1px 1px);clip: rect(1px, 1px, 1px, 1px);height: 1px;margin: -1px;overflow: hidden;padding: 0;position: absolute;width: 1px;}#sk-container-id-11 div.sk-estimator {font-family: monospace;background-color: #f0f8ff;border: 1px dotted black;border-radius: 0.25em;box-sizing: border-box;margin-bottom: 0.5em;}#sk-container-id-11 div.sk-estimator:hover {background-color: #d4ebff;}#sk-container-id-11 div.sk-parallel-item::after {content: \"\";width: 100%;border-bottom: 1px solid gray;flex-grow: 1;}#sk-container-id-11 div.sk-label:hover label.sk-toggleable__label {background-color: #d4ebff;}#sk-container-id-11 div.sk-serial::before {content: \"\";position: absolute;border-left: 1px solid gray;box-sizing: border-box;top: 0;bottom: 0;left: 50%;z-index: 0;}#sk-container-id-11 div.sk-serial {display: flex;flex-direction: column;align-items: center;background-color: white;padding-right: 0.2em;padding-left: 0.2em;position: relative;}#sk-container-id-11 div.sk-item {position: relative;z-index: 1;}#sk-container-id-11 div.sk-parallel {display: flex;align-items: stretch;justify-content: center;background-color: white;position: relative;}#sk-container-id-11 div.sk-item::before, #sk-container-id-11 div.sk-parallel-item::before {content: \"\";position: absolute;border-left: 1px solid gray;box-sizing: border-box;top: 0;bottom: 0;left: 50%;z-index: -1;}#sk-container-id-11 div.sk-parallel-item {display: flex;flex-direction: column;z-index: 1;position: relative;background-color: white;}#sk-container-id-11 div.sk-parallel-item:first-child::after {align-self: flex-end;width: 50%;}#sk-container-id-11 div.sk-parallel-item:last-child::after {align-self: flex-start;width: 50%;}#sk-container-id-11 div.sk-parallel-item:only-child::after {width: 0;}#sk-container-id-11 div.sk-dashed-wrapped {border: 1px dashed gray;margin: 0 0.4em 0.5em 0.4em;box-sizing: border-box;padding-bottom: 0.4em;background-color: white;}#sk-container-id-11 div.sk-label label {font-family: monospace;font-weight: bold;display: inline-block;line-height: 1.2em;}#sk-container-id-11 div.sk-label-container {text-align: center;}#sk-container-id-11 div.sk-container {/* jupyter's `normalize.less` sets `[hidden] { display: none; }` but bootstrap.min.css set `[hidden] { display: none !important; }` so we also need the `!important` here to be able to override the default hidden behavior on the sphinx rendered scikit-learn.org. See: https://github.com/scikit-learn/scikit-learn/issues/21755 */display: inline-block !important;position: relative;}#sk-container-id-11 div.sk-text-repr-fallback {display: none;}</style><div id=\"sk-container-id-11\" class=\"sk-top-container\"><div class=\"sk-text-repr-fallback\"><pre>KNeighborsClassifier(n_neighbors=7, p=1)</pre><b>In a Jupyter environment, please rerun this cell to show the HTML representation or trust the notebook. <br />On GitHub, the HTML representation is unable to render, please try loading this page with nbviewer.org.</b></div><div class=\"sk-container\" hidden><div class=\"sk-item\"><div class=\"sk-estimator sk-toggleable\"><input class=\"sk-toggleable__control sk-hidden--visually\" id=\"sk-estimator-id-11\" type=\"checkbox\" checked><label for=\"sk-estimator-id-11\" class=\"sk-toggleable__label sk-toggleable__label-arrow\">KNeighborsClassifier</label><div class=\"sk-toggleable__content\"><pre>KNeighborsClassifier(n_neighbors=7, p=1)</pre></div></div></div></div></div>"
      ]
     },
     "execution_count": 365,
     "metadata": {},
     "output_type": "execute_result"
    }
   ],
   "execution_count": 365
  },
  {
   "cell_type": "markdown",
   "source": [
    "'https://scikit-learn.org/stable/modules/generated/sklearn.metrics.DistanceMetric.html'"
   ],
   "metadata": {
    "collapsed": false
   },
   "id": "7ec8efdd721e4f8d"
  },
  {
   "cell_type": "code",
   "source": [
    "previsoes_knn = knn.predict(x_teste)\n",
    "previsoes_knn"
   ],
   "metadata": {
    "collapsed": false,
    "ExecuteTime": {
     "end_time": "2024-04-09T03:39:26.228318Z",
     "start_time": "2024-04-09T03:39:26.182707Z"
    }
   },
   "id": "6db85f2e05580f8c",
   "outputs": [
    {
     "data": {
      "text/plain": [
       "array([1, 1, 1, 1, 1, 0, 0, 0, 0, 1, 1, 1, 1, 1, 1, 1, 1, 1, 0, 0, 1, 1,\n",
       "       1, 0, 0, 0, 1, 1, 0, 1, 1, 0, 0, 0, 1, 0, 0, 1, 1, 0, 0, 1, 1, 1,\n",
       "       1, 0, 0, 0, 1, 1, 1, 0, 1, 1, 1, 0, 0, 1, 1, 0, 1, 1, 0, 0, 1, 1,\n",
       "       1, 0, 1, 0, 1, 1, 1, 1, 1, 1, 1, 1, 1, 1, 0, 1, 0, 1, 1, 0, 1, 1,\n",
       "       0, 0, 1, 1, 0, 0, 1, 0, 1, 0, 1, 1, 0, 1, 1, 1, 0, 0, 0, 0, 0, 0,\n",
       "       1, 1, 1, 1, 0, 1, 0, 1, 1, 1, 1, 1, 1, 0, 0, 1, 1, 0, 0, 1, 0, 1,\n",
       "       1, 0, 1, 1, 1, 1, 1, 0, 1, 1, 0, 1, 0, 0, 1, 1, 0, 0, 0, 1, 1, 0,\n",
       "       1, 1, 1, 1, 0, 1, 1, 0, 1, 1, 1, 0, 1, 0, 1, 1, 1, 1, 0, 0, 0, 1,\n",
       "       1, 0, 1, 0, 1, 1, 1, 1, 0, 1, 1, 1, 1, 1, 0, 1, 1, 1, 1, 1, 0, 0,\n",
       "       1, 1, 1, 1, 0, 0, 1, 1, 0, 1, 1, 0, 0, 0, 0, 0, 0, 0, 1, 0, 1, 1,\n",
       "       1, 0, 1, 0, 1, 1, 0, 1, 1, 1, 0, 1, 1, 1, 0, 1, 0, 0, 0, 1, 1, 0,\n",
       "       1, 0, 0, 1, 0, 0, 1, 1, 1, 0, 1, 1, 0, 1, 1, 0, 0, 1, 1, 1, 0, 1,\n",
       "       0, 1, 0, 0, 0, 0, 0, 0, 0, 1, 0, 0], dtype=int64)"
      ]
     },
     "execution_count": 366,
     "metadata": {},
     "output_type": "execute_result"
    }
   ],
   "execution_count": 366
  },
  {
   "cell_type": "code",
   "source": [
    "y_teste"
   ],
   "metadata": {
    "collapsed": false,
    "ExecuteTime": {
     "end_time": "2024-04-09T03:39:26.647142Z",
     "start_time": "2024-04-09T03:39:26.632840Z"
    }
   },
   "id": "df04308c35a58cea",
   "outputs": [
    {
     "data": {
      "text/plain": [
       "array([1, 0, 1, 0, 0, 0, 0, 0, 0, 0, 1, 0, 1, 1, 0, 1, 1, 1, 1, 0, 1, 1,\n",
       "       1, 0, 0, 0, 1, 1, 0, 0, 1, 0, 0, 0, 1, 0, 1, 0, 1, 0, 0, 1, 1, 1,\n",
       "       1, 0, 0, 1, 1, 1, 1, 0, 0, 1, 1, 0, 0, 0, 1, 0, 1, 1, 1, 0, 1, 1,\n",
       "       1, 0, 1, 0, 1, 1, 1, 1, 1, 1, 1, 1, 1, 0, 0, 1, 0, 0, 1, 1, 0, 1,\n",
       "       1, 0, 1, 0, 0, 1, 1, 0, 1, 0, 0, 0, 0, 1, 1, 1, 0, 1, 0, 0, 0, 1,\n",
       "       0, 1, 1, 1, 0, 1, 1, 1, 1, 1, 1, 1, 1, 0, 0, 1, 0, 1, 0, 1, 0, 1,\n",
       "       0, 1, 0, 0, 0, 1, 1, 0, 1, 1, 0, 1, 0, 0, 1, 1, 1, 0, 1, 1, 0, 0,\n",
       "       0, 0, 1, 1, 1, 0, 1, 1, 1, 0, 1, 0, 1, 0, 1, 0, 1, 1, 0, 0, 1, 0,\n",
       "       0, 1, 0, 1, 1, 1, 0, 1, 1, 1, 0, 1, 1, 0, 0, 0, 1, 1, 1, 1, 1, 0,\n",
       "       1, 0, 1, 1, 0, 1, 1, 0, 0, 0, 1, 0, 1, 1, 0, 1, 0, 1, 1, 1, 1, 1,\n",
       "       1, 1, 0, 0, 0, 1, 0, 1, 1, 1, 0, 1, 0, 1, 1, 1, 1, 1, 0, 1, 1, 0,\n",
       "       1, 0, 1, 0, 0, 0, 1, 0, 1, 0, 1, 1, 0, 0, 1, 0, 0, 1, 0, 1, 1, 0,\n",
       "       0, 0, 0, 0, 1, 0, 0, 1, 1, 1, 1, 1], dtype=int64)"
      ]
     },
     "execution_count": 367,
     "metadata": {},
     "output_type": "execute_result"
    }
   ],
   "execution_count": 367
  },
  {
   "cell_type": "code",
   "source": [
    "from sklearn.metrics import accuracy_score, confusion_matrix, classification_report"
   ],
   "metadata": {
    "collapsed": false,
    "ExecuteTime": {
     "end_time": "2024-04-09T03:39:27.126849Z",
     "start_time": "2024-04-09T03:39:27.108528Z"
    }
   },
   "id": "474cf7ceade791df",
   "outputs": [],
   "execution_count": 368
  },
  {
   "cell_type": "code",
   "source": [
    "print(f'''Acurácia: {accuracy_score(y_teste, previsoes_knn)*100:.2f}%''')"
   ],
   "metadata": {
    "collapsed": false,
    "ExecuteTime": {
     "end_time": "2024-04-09T03:39:27.596943Z",
     "start_time": "2024-04-09T03:39:27.589369Z"
    }
   },
   "id": "f78a121b25c34d1c",
   "outputs": [
    {
     "name": "stdout",
     "output_type": "stream",
     "text": [
      "Acurácia: 69.20%\n"
     ]
    }
   ],
   "execution_count": 369
  },
  {
   "cell_type": "code",
   "source": [
    "confusion_matrix(y_teste, previsoes_knn)"
   ],
   "metadata": {
    "collapsed": false,
    "ExecuteTime": {
     "end_time": "2024-04-09T03:39:28.004245Z",
     "start_time": "2024-04-09T03:39:27.978497Z"
    }
   },
   "id": "e3e445c12dc08a43",
   "outputs": [
    {
     "data": {
      "text/plain": [
       "array([[ 74,  47],\n",
       "       [ 38, 117]], dtype=int64)"
      ]
     },
     "execution_count": 370,
     "metadata": {},
     "output_type": "execute_result"
    }
   ],
   "execution_count": 370
  },
  {
   "cell_type": "code",
   "source": [
    "print(classification_report(y_teste, previsoes_knn))"
   ],
   "metadata": {
    "collapsed": false,
    "ExecuteTime": {
     "end_time": "2024-04-09T03:39:28.558910Z",
     "start_time": "2024-04-09T03:39:28.529538Z"
    }
   },
   "id": "18f34f7ee6ed14b7",
   "outputs": [
    {
     "name": "stdout",
     "output_type": "stream",
     "text": [
      "              precision    recall  f1-score   support\n",
      "\n",
      "           0       0.66      0.61      0.64       121\n",
      "           1       0.71      0.75      0.73       155\n",
      "\n",
      "    accuracy                           0.69       276\n",
      "   macro avg       0.69      0.68      0.68       276\n",
      "weighted avg       0.69      0.69      0.69       276\n",
      "\n"
     ]
    }
   ],
   "execution_count": 371
  },
  {
   "cell_type": "code",
   "source": [
    "# Análise dados de treino\n",
    "previsoes_treino = knn.predict(x_treino)\n",
    "previsoes_treino"
   ],
   "metadata": {
    "collapsed": false,
    "ExecuteTime": {
     "end_time": "2024-04-09T03:39:29.060017Z",
     "start_time": "2024-04-09T03:39:28.998930Z"
    }
   },
   "id": "b9f08ccb74a27e34",
   "outputs": [
    {
     "data": {
      "text/plain": [
       "array([1, 0, 1, 1, 1, 1, 1, 0, 0, 1, 1, 0, 1, 1, 1, 0, 0, 0, 0, 1, 0, 0,\n",
       "       1, 0, 1, 0, 0, 1, 1, 1, 1, 0, 1, 1, 0, 0, 1, 1, 0, 0, 0, 1, 0, 0,\n",
       "       1, 1, 0, 1, 1, 1, 0, 0, 1, 0, 1, 0, 1, 0, 1, 1, 0, 0, 1, 0, 1, 1,\n",
       "       1, 1, 1, 0, 1, 1, 1, 1, 0, 0, 0, 1, 0, 1, 1, 1, 1, 1, 0, 1, 1, 1,\n",
       "       1, 1, 1, 0, 0, 1, 1, 1, 1, 1, 1, 1, 1, 1, 1, 0, 1, 1, 1, 0, 0, 1,\n",
       "       0, 0, 1, 1, 1, 0, 1, 1, 0, 0, 0, 0, 0, 1, 1, 1, 1, 0, 1, 1, 1, 0,\n",
       "       1, 1, 0, 1, 0, 0, 1, 1, 0, 1, 1, 1, 1, 1, 0, 1, 1, 1, 1, 1, 1, 0,\n",
       "       1, 0, 1, 0, 1, 1, 1, 1, 0, 0, 1, 1, 1, 1, 0, 1, 0, 1, 1, 0, 1, 0,\n",
       "       0, 1, 1, 0, 1, 0, 0, 0, 0, 1, 1, 1, 1, 0, 0, 1, 1, 1, 0, 0, 1, 1,\n",
       "       1, 1, 1, 0, 0, 1, 1, 0, 0, 0, 0, 1, 0, 0, 1, 1, 1, 1, 1, 0, 1, 1,\n",
       "       1, 0, 0, 1, 1, 0, 1, 1, 1, 1, 1, 1, 1, 1, 1, 0, 1, 0, 1, 0, 1, 0,\n",
       "       1, 1, 0, 1, 1, 0, 1, 1, 1, 1, 0, 0, 0, 0, 0, 0, 0, 0, 1, 0, 1, 0,\n",
       "       1, 0, 1, 1, 1, 0, 0, 1, 1, 0, 0, 1, 1, 0, 0, 0, 1, 0, 0, 0, 1, 1,\n",
       "       0, 1, 1, 1, 1, 0, 1, 1, 1, 0, 0, 0, 0, 1, 1, 0, 0, 1, 0, 1, 1, 1,\n",
       "       1, 0, 1, 0, 0, 0, 1, 0, 1, 0, 1, 0, 0, 1, 1, 1, 0, 1, 0, 1, 1, 0,\n",
       "       0, 0, 1, 0, 0, 0, 0, 1, 0, 1, 1, 1, 1, 1, 1, 0, 1, 1, 0, 1, 0, 1,\n",
       "       0, 0, 1, 0, 0, 1, 1, 1, 0, 0, 0, 1, 1, 0, 0, 0, 0, 0, 1, 1, 1, 1,\n",
       "       1, 1, 1, 1, 1, 1, 1, 1, 0, 1, 0, 1, 0, 0, 1, 1, 0, 0, 1, 1, 1, 1,\n",
       "       0, 1, 1, 1, 0, 1, 1, 0, 1, 1, 1, 1, 1, 0, 0, 1, 0, 1, 1, 1, 0, 1,\n",
       "       1, 1, 1, 1, 1, 1, 1, 0, 1, 1, 1, 0, 0, 1, 1, 0, 1, 1, 1, 1, 1, 1,\n",
       "       0, 1, 1, 1, 0, 1, 0, 1, 1, 0, 1, 0, 1, 1, 1, 1, 0, 0, 0, 1, 0, 1,\n",
       "       1, 0, 1, 1, 1, 0, 1, 0, 1, 1, 1, 1, 0, 1, 1, 0, 0, 0, 0, 0, 0, 0,\n",
       "       0, 0, 1, 1, 1, 1, 0, 1, 0, 1, 1, 0, 1, 1, 1, 0, 1, 1, 0, 1, 1, 1,\n",
       "       1, 1, 0, 0, 0, 1, 0, 1, 0, 1, 1, 0, 1, 0, 1, 1, 1, 1, 0, 1, 1, 0,\n",
       "       1, 0, 0, 1, 1, 0, 1, 0, 0, 0, 0, 1, 0, 1, 0, 1, 1, 0, 0, 1, 0, 1,\n",
       "       0, 0, 1, 0, 1, 0, 1, 1, 1, 0, 1, 1, 1, 0, 0, 1, 1, 0, 1, 1, 0, 1,\n",
       "       1, 0, 1, 0, 1, 1, 0, 0, 0, 1, 1, 1, 1, 1, 0, 0, 1, 0, 1, 0, 0, 0,\n",
       "       0, 0, 1, 0, 0, 1, 1, 0, 0, 0, 1, 1, 0, 1, 1, 1, 1, 0, 0, 1, 0, 1,\n",
       "       1, 1, 0, 1, 1, 1, 1, 0, 1, 1, 1, 1, 0, 1, 1, 0, 0, 1, 1, 0, 1, 0,\n",
       "       1, 0, 1], dtype=int64)"
      ]
     },
     "execution_count": 372,
     "metadata": {},
     "output_type": "execute_result"
    }
   ],
   "execution_count": 372
  },
  {
   "cell_type": "code",
   "source": [
    "accuracy_score(y_treino, previsoes_treino)"
   ],
   "metadata": {
    "collapsed": false,
    "ExecuteTime": {
     "end_time": "2024-04-09T03:39:29.454065Z",
     "start_time": "2024-04-09T03:39:29.438473Z"
    }
   },
   "id": "b9b95dc808bb1ec9",
   "outputs": [
    {
     "data": {
      "text/plain": [
       "0.7987519500780031"
      ]
     },
     "execution_count": 373,
     "metadata": {},
     "output_type": "execute_result"
    }
   ],
   "execution_count": 373
  },
  {
   "cell_type": "code",
   "source": [
    "confusion_matrix(y_treino, previsoes_treino)"
   ],
   "metadata": {
    "collapsed": false,
    "ExecuteTime": {
     "end_time": "2024-04-09T03:39:29.940536Z",
     "start_time": "2024-04-09T03:39:29.905435Z"
    }
   },
   "id": "f8738105d50905ac",
   "outputs": [
    {
     "data": {
      "text/plain": [
       "array([[210,  79],\n",
       "       [ 50, 302]], dtype=int64)"
      ]
     },
     "execution_count": 374,
     "metadata": {},
     "output_type": "execute_result"
    }
   ],
   "execution_count": 374
  },
  {
   "cell_type": "code",
   "source": [
    "# Validação Cruzada\n",
    "from sklearn.model_selection import KFold\n",
    "from sklearn.model_selection import cross_val_score"
   ],
   "metadata": {
    "collapsed": false,
    "ExecuteTime": {
     "end_time": "2024-04-09T03:39:30.352109Z",
     "start_time": "2024-04-09T03:39:30.340116Z"
    }
   },
   "id": "51c89a1004f0f032",
   "outputs": [],
   "execution_count": 375
  },
  {
   "cell_type": "code",
   "source": [
    "# Separando os dados em folds\n",
    "kfold = KFold(n_splits=30, shuffle=True, random_state=5)"
   ],
   "metadata": {
    "collapsed": false,
    "ExecuteTime": {
     "end_time": "2024-04-09T03:39:30.823677Z",
     "start_time": "2024-04-09T03:39:30.813522Z"
    }
   },
   "id": "b5b8a6d499846d05",
   "outputs": [],
   "execution_count": 376
  },
  {
   "cell_type": "code",
   "source": [
    "# Criando o modelo\n",
    "modelo = KNeighborsClassifier(n_neighbors=7, metric='minkowski', p=1)\n",
    "resultado = cross_val_score(modelo, previsores3_esc, alvo, cv=kfold)\n",
    "resultado"
   ],
   "metadata": {
    "collapsed": false,
    "ExecuteTime": {
     "end_time": "2024-04-09T03:39:32.530209Z",
     "start_time": "2024-04-09T03:39:31.161065Z"
    }
   },
   "id": "ec8c5131fd909ca2",
   "outputs": [
    {
     "data": {
      "text/plain": [
       "array([0.96774194, 0.80645161, 0.83870968, 0.83870968, 0.83870968,\n",
       "       0.87096774, 0.67741935, 0.87096774, 0.80645161, 0.90322581,\n",
       "       0.83870968, 0.77419355, 0.96774194, 0.90322581, 0.87096774,\n",
       "       0.87096774, 0.83870968, 0.9       , 0.93333333, 0.96666667,\n",
       "       0.8       , 0.83333333, 0.86666667, 0.73333333, 0.8       ,\n",
       "       0.93333333, 0.9       , 0.9       , 0.86666667, 0.83333333])"
      ]
     },
     "execution_count": 377,
     "metadata": {},
     "output_type": "execute_result"
    }
   ],
   "execution_count": 377
  },
  {
   "cell_type": "code",
   "source": [
    "# Usando a média e o desvio padrão\n",
    "print(f'Acurácia Média: {resultado.mean()*100:.2f}%')"
   ],
   "metadata": {
    "collapsed": false,
    "ExecuteTime": {
     "end_time": "2024-04-09T03:39:32.546321Z",
     "start_time": "2024-04-09T03:39:32.533208Z"
    }
   },
   "id": "cd2b9751639ee373",
   "outputs": [
    {
     "name": "stdout",
     "output_type": "stream",
     "text": [
      "Acurácia Média: 85.84%\n"
     ]
    }
   ],
   "execution_count": 378
  },
  {
   "cell_type": "markdown",
   "source": [
    "# 53. Árvore de Decisão: Teoria"
   ],
   "metadata": {
    "collapsed": false
   },
   "id": "c934809ebc41eaba"
  },
  {
   "cell_type": "code",
   "source": [
    "# Decision Tree\n",
    "\"\"\"\n",
    "> Aplicado em problemas de aprendizagem supervisionada tanto de classificação (mais utilizado) como de regressão.\n",
    "> Seleciona a ordem que os atributos irão aparecer na árvore, sempre de cima para baixo, conforme sua importância para a predição, assim como determina a separação dos ramos da árvore.\n",
    "> Para determinar o nível de importância de um atributo, denominado de ganho de informação, utiliza-se de várias métricas, sendo que as mais e aplicadas são a entropia (medida da falta de homogeneidade) e o índice de Gini (medida do grau de heterogeneidade).\n",
    "> Cálculo da Entropia (E):\n",
    "    E(S) = -∑ p(xi)log2p(xi), onde \n",
    "        p(xi) = probabilidade de ocorrer os atributos nos dados.\n",
    "        n = número de classes que pode ser atingida.\n",
    "> Cálculo do índice de Gini (Gi):\n",
    "    Gi(S) = 1 - ∑ p(xi)^2, onde \n",
    "        p(xi) = probabilidade de ocorrer os atributos nos dados.\n",
    "        n = número de classes que pode ser atingida.\n",
    "> Cálculo do ganho de informação (G):\n",
    "    G(S, A) = E(S) - ∑ p(a)*P(i|a) * log2(P(i|a)), onde\n",
    "        p(a) = probabilidade de ocorrer o atributo a nos dados.\n",
    "        p(i|a) = probabilidade de i ocorrer, dado que a já tenha ocorrido.\n",
    "        n = número de classes que pode ser atingida.\n",
    "        \n",
    "Podagem das Árvores\n",
    "> Objetiva a probabilidade de overfitting\n",
    "> Processo de podagem:\n",
    "    - percorre a árvore em profundidade.\n",
    "    - para cada nó de decisão calcula o erro no nó e a soma dos erros nos nós descendentes.\n",
    "    - se o erro do nó é menor ou igual à soma dos erros dos nós descendentes, então o nó é transformado em folha.\n",
    "    \n",
    "Vantagens:\n",
    "> Fácil entendimento e interpretação.\n",
    "> Normalmente não necessitam de preparações sofisticadas nos dados (label Encoder e OneHotEncoder).\n",
    "> Trabalha com valores faltantes, variáveis categóricas e numéricas.\n",
    "> Atua com dados não linearmente separáveis.\n",
    "\n",
    "Desvantagens:\n",
    "> Sujeito a problemas de overfitting.\n",
    "> Os modelos são instáveis (possuem alta variância).\n",
    "> Não garante a construção da melhor estrutura para os dados de treino em questão (Necessita treinar várias árvores distintas).\n",
    "\"\"\""
   ],
   "metadata": {
    "collapsed": false,
    "ExecuteTime": {
     "end_time": "2024-04-09T03:39:32.561485Z",
     "start_time": "2024-04-09T03:39:32.548320Z"
    }
   },
   "id": "2cedf1cc84985929",
   "outputs": [
    {
     "data": {
      "text/plain": [
       "'\\n> Aplicado em problemas de aprendizagem supervisionada tanto de classificação (mais utilizado) como de regressão.\\n> Seleciona a ordem que os atributos irão aparecer na árvore, sempre de cima para baixo, conforme sua importância para a predição, assim como determina a separação dos ramos da árvore.\\n> Para determinar o nível de importância de um atributo, denominado de ganho de informação, utiliza-se de várias métricas, sendo que as mais e aplicadas são a entropia (medida da falta de homogeneidade) e o índice de Gini (medida do grau de heterogeneidade).\\n> Cálculo da Entropia (E):\\n    E(S) = -∑ p(xi)log2p(xi), onde \\n        p(xi) = probabilidade de ocorrer os atributos nos dados.\\n        n = número de classes que pode ser atingida.\\n> Cálculo do índice de Gini (Gi):\\n    Gi(S) = 1 - ∑ p(xi)^2, onde \\n        p(xi) = probabilidade de ocorrer os atributos nos dados.\\n        n = número de classes que pode ser atingida.\\n> Cálculo do ganho de informação (G):\\n    G(S, A) = E(S) - ∑ p(a)*P(i|a) * log2(P(i|a)), onde\\n        p(a) = probabilidade de ocorrer o atributo a nos dados.\\n        p(i|a) = probabilidade de i ocorrer, dado que a já tenha ocorrido.\\n        n = número de classes que pode ser atingida.\\n        \\nPodagem das Árvores\\n> Objetiva a probabilidade de overfitting\\n> Processo de podagem:\\n    - percorre a árvore em profundidade.\\n    - para cada nó de decisão calcula o erro no nó e a soma dos erros nos nós descendentes.\\n    - se o erro do nó é menor ou igual à soma dos erros dos nós descendentes, então o nó é transformado em folha.\\n    \\nVantagens:\\n> Fácil entendimento e interpretação.\\n> Normalmente não necessitam de preparações sofisticadas nos dados (label Encoder e OneHotEncoder).\\n> Trabalha com valores faltantes, variáveis categóricas e numéricas.\\n> Atua com dados não linearmente separáveis.\\n\\nDesvantagens:\\n> Sujeito a problemas de overfitting.\\n> Os modelos são instáveis (possuem alta variância).\\n> Não garante a construção da melhor estrutura para os dados de treino em questão (Necessita treinar várias árvores distintas).\\n'"
      ]
     },
     "execution_count": 379,
     "metadata": {},
     "output_type": "execute_result"
    }
   ],
   "execution_count": 379
  },
  {
   "cell_type": "markdown",
   "source": [
    "# 54. Árvore de Decisão no Python"
   ],
   "metadata": {
    "collapsed": false
   },
   "id": "696be9cbb0ca6a2c"
  },
  {
   "cell_type": "code",
   "source": [
    "# Árvore de Decisão\n",
    "\"\"\"\n",
    "https://scikit-learn.org/stable/modules/tree.html\n",
    "\"\"\""
   ],
   "metadata": {
    "collapsed": false,
    "ExecuteTime": {
     "end_time": "2024-04-09T03:39:32.576665Z",
     "start_time": "2024-04-09T03:39:32.563523Z"
    }
   },
   "id": "f8fce91deb07fb2a",
   "outputs": [
    {
     "data": {
      "text/plain": [
       "'\\nhttps://scikit-learn.org/stable/modules/tree.html\\n'"
      ]
     },
     "execution_count": 380,
     "metadata": {},
     "output_type": "execute_result"
    }
   ],
   "execution_count": 380
  },
  {
   "cell_type": "code",
   "source": [
    "from sklearn.tree import DecisionTreeClassifier"
   ],
   "metadata": {
    "collapsed": false,
    "ExecuteTime": {
     "end_time": "2024-04-09T03:39:32.591801Z",
     "start_time": "2024-04-09T03:39:32.580741Z"
    }
   },
   "id": "18a158312f47f060",
   "outputs": [],
   "execution_count": 381
  },
  {
   "cell_type": "code",
   "source": [
    "arvore = DecisionTreeClassifier(criterion='entropy', random_state=0, max_depth=3)\n",
    "arvore.fit(x_treino, y_treino)"
   ],
   "metadata": {
    "collapsed": false,
    "ExecuteTime": {
     "end_time": "2024-04-09T03:39:32.622985Z",
     "start_time": "2024-04-09T03:39:32.594800Z"
    }
   },
   "id": "a91ab6c6c49f20dc",
   "outputs": [
    {
     "data": {
      "text/plain": [
       "DecisionTreeClassifier(criterion='entropy', max_depth=3, random_state=0)"
      ],
      "text/html": [
       "<style>#sk-container-id-12 {color: black;}#sk-container-id-12 pre{padding: 0;}#sk-container-id-12 div.sk-toggleable {background-color: white;}#sk-container-id-12 label.sk-toggleable__label {cursor: pointer;display: block;width: 100%;margin-bottom: 0;padding: 0.3em;box-sizing: border-box;text-align: center;}#sk-container-id-12 label.sk-toggleable__label-arrow:before {content: \"▸\";float: left;margin-right: 0.25em;color: #696969;}#sk-container-id-12 label.sk-toggleable__label-arrow:hover:before {color: black;}#sk-container-id-12 div.sk-estimator:hover label.sk-toggleable__label-arrow:before {color: black;}#sk-container-id-12 div.sk-toggleable__content {max-height: 0;max-width: 0;overflow: hidden;text-align: left;background-color: #f0f8ff;}#sk-container-id-12 div.sk-toggleable__content pre {margin: 0.2em;color: black;border-radius: 0.25em;background-color: #f0f8ff;}#sk-container-id-12 input.sk-toggleable__control:checked~div.sk-toggleable__content {max-height: 200px;max-width: 100%;overflow: auto;}#sk-container-id-12 input.sk-toggleable__control:checked~label.sk-toggleable__label-arrow:before {content: \"▾\";}#sk-container-id-12 div.sk-estimator input.sk-toggleable__control:checked~label.sk-toggleable__label {background-color: #d4ebff;}#sk-container-id-12 div.sk-label input.sk-toggleable__control:checked~label.sk-toggleable__label {background-color: #d4ebff;}#sk-container-id-12 input.sk-hidden--visually {border: 0;clip: rect(1px 1px 1px 1px);clip: rect(1px, 1px, 1px, 1px);height: 1px;margin: -1px;overflow: hidden;padding: 0;position: absolute;width: 1px;}#sk-container-id-12 div.sk-estimator {font-family: monospace;background-color: #f0f8ff;border: 1px dotted black;border-radius: 0.25em;box-sizing: border-box;margin-bottom: 0.5em;}#sk-container-id-12 div.sk-estimator:hover {background-color: #d4ebff;}#sk-container-id-12 div.sk-parallel-item::after {content: \"\";width: 100%;border-bottom: 1px solid gray;flex-grow: 1;}#sk-container-id-12 div.sk-label:hover label.sk-toggleable__label {background-color: #d4ebff;}#sk-container-id-12 div.sk-serial::before {content: \"\";position: absolute;border-left: 1px solid gray;box-sizing: border-box;top: 0;bottom: 0;left: 50%;z-index: 0;}#sk-container-id-12 div.sk-serial {display: flex;flex-direction: column;align-items: center;background-color: white;padding-right: 0.2em;padding-left: 0.2em;position: relative;}#sk-container-id-12 div.sk-item {position: relative;z-index: 1;}#sk-container-id-12 div.sk-parallel {display: flex;align-items: stretch;justify-content: center;background-color: white;position: relative;}#sk-container-id-12 div.sk-item::before, #sk-container-id-12 div.sk-parallel-item::before {content: \"\";position: absolute;border-left: 1px solid gray;box-sizing: border-box;top: 0;bottom: 0;left: 50%;z-index: -1;}#sk-container-id-12 div.sk-parallel-item {display: flex;flex-direction: column;z-index: 1;position: relative;background-color: white;}#sk-container-id-12 div.sk-parallel-item:first-child::after {align-self: flex-end;width: 50%;}#sk-container-id-12 div.sk-parallel-item:last-child::after {align-self: flex-start;width: 50%;}#sk-container-id-12 div.sk-parallel-item:only-child::after {width: 0;}#sk-container-id-12 div.sk-dashed-wrapped {border: 1px dashed gray;margin: 0 0.4em 0.5em 0.4em;box-sizing: border-box;padding-bottom: 0.4em;background-color: white;}#sk-container-id-12 div.sk-label label {font-family: monospace;font-weight: bold;display: inline-block;line-height: 1.2em;}#sk-container-id-12 div.sk-label-container {text-align: center;}#sk-container-id-12 div.sk-container {/* jupyter's `normalize.less` sets `[hidden] { display: none; }` but bootstrap.min.css set `[hidden] { display: none !important; }` so we also need the `!important` here to be able to override the default hidden behavior on the sphinx rendered scikit-learn.org. See: https://github.com/scikit-learn/scikit-learn/issues/21755 */display: inline-block !important;position: relative;}#sk-container-id-12 div.sk-text-repr-fallback {display: none;}</style><div id=\"sk-container-id-12\" class=\"sk-top-container\"><div class=\"sk-text-repr-fallback\"><pre>DecisionTreeClassifier(criterion=&#x27;entropy&#x27;, max_depth=3, random_state=0)</pre><b>In a Jupyter environment, please rerun this cell to show the HTML representation or trust the notebook. <br />On GitHub, the HTML representation is unable to render, please try loading this page with nbviewer.org.</b></div><div class=\"sk-container\" hidden><div class=\"sk-item\"><div class=\"sk-estimator sk-toggleable\"><input class=\"sk-toggleable__control sk-hidden--visually\" id=\"sk-estimator-id-12\" type=\"checkbox\" checked><label for=\"sk-estimator-id-12\" class=\"sk-toggleable__label sk-toggleable__label-arrow\">DecisionTreeClassifier</label><div class=\"sk-toggleable__content\"><pre>DecisionTreeClassifier(criterion=&#x27;entropy&#x27;, max_depth=3, random_state=0)</pre></div></div></div></div></div>"
      ]
     },
     "execution_count": 382,
     "metadata": {},
     "output_type": "execute_result"
    }
   ],
   "execution_count": 382
  },
  {
   "cell_type": "code",
   "source": [
    "previsoes_arvore = arvore.predict(x_teste)\n",
    "previsoes_arvore"
   ],
   "metadata": {
    "collapsed": false,
    "ExecuteTime": {
     "end_time": "2024-04-09T03:39:32.654418Z",
     "start_time": "2024-04-09T03:39:32.626344Z"
    }
   },
   "id": "1837a123fb75309",
   "outputs": [
    {
     "data": {
      "text/plain": [
       "array([1, 1, 1, 0, 0, 0, 1, 0, 0, 0, 1, 1, 1, 1, 0, 1, 1, 1, 1, 0, 1, 1,\n",
       "       0, 0, 0, 0, 1, 1, 0, 1, 1, 0, 0, 0, 1, 0, 0, 0, 1, 0, 0, 1, 1, 1,\n",
       "       1, 0, 0, 1, 0, 1, 1, 0, 0, 0, 1, 0, 0, 0, 0, 0, 1, 1, 0, 0, 1, 1,\n",
       "       1, 0, 1, 0, 1, 1, 0, 1, 1, 1, 0, 1, 1, 1, 1, 1, 0, 0, 1, 1, 1, 1,\n",
       "       1, 0, 1, 0, 0, 0, 0, 0, 1, 0, 0, 0, 0, 1, 1, 1, 0, 1, 0, 0, 0, 0,\n",
       "       0, 1, 1, 1, 0, 1, 1, 1, 1, 1, 1, 1, 1, 0, 0, 1, 0, 1, 0, 1, 0, 1,\n",
       "       1, 1, 0, 0, 0, 1, 0, 0, 0, 1, 0, 1, 0, 0, 1, 0, 1, 0, 0, 1, 1, 0,\n",
       "       1, 0, 1, 0, 1, 0, 1, 0, 1, 0, 1, 0, 1, 0, 1, 0, 1, 0, 0, 0, 1, 1,\n",
       "       1, 0, 0, 1, 1, 1, 0, 1, 1, 1, 0, 1, 1, 0, 1, 0, 1, 0, 1, 0, 0, 0,\n",
       "       1, 0, 1, 1, 0, 1, 1, 0, 0, 0, 1, 0, 1, 1, 0, 0, 0, 0, 1, 0, 1, 1,\n",
       "       1, 1, 0, 1, 1, 1, 0, 1, 1, 1, 0, 1, 1, 1, 0, 1, 0, 1, 0, 1, 1, 0,\n",
       "       1, 0, 0, 0, 0, 0, 1, 0, 1, 0, 1, 0, 0, 0, 1, 0, 0, 1, 0, 1, 1, 0,\n",
       "       0, 0, 0, 0, 1, 0, 0, 1, 1, 1, 1, 1], dtype=int64)"
      ]
     },
     "execution_count": 383,
     "metadata": {},
     "output_type": "execute_result"
    }
   ],
   "execution_count": 383
  },
  {
   "cell_type": "code",
   "source": [
    "y_teste"
   ],
   "metadata": {
    "collapsed": false,
    "ExecuteTime": {
     "end_time": "2024-04-09T03:39:33.783843Z",
     "start_time": "2024-04-09T03:39:33.769616Z"
    }
   },
   "id": "191d590647aef759",
   "outputs": [
    {
     "data": {
      "text/plain": [
       "array([1, 0, 1, 0, 0, 0, 0, 0, 0, 0, 1, 0, 1, 1, 0, 1, 1, 1, 1, 0, 1, 1,\n",
       "       1, 0, 0, 0, 1, 1, 0, 0, 1, 0, 0, 0, 1, 0, 1, 0, 1, 0, 0, 1, 1, 1,\n",
       "       1, 0, 0, 1, 1, 1, 1, 0, 0, 1, 1, 0, 0, 0, 1, 0, 1, 1, 1, 0, 1, 1,\n",
       "       1, 0, 1, 0, 1, 1, 1, 1, 1, 1, 1, 1, 1, 0, 0, 1, 0, 0, 1, 1, 0, 1,\n",
       "       1, 0, 1, 0, 0, 1, 1, 0, 1, 0, 0, 0, 0, 1, 1, 1, 0, 1, 0, 0, 0, 1,\n",
       "       0, 1, 1, 1, 0, 1, 1, 1, 1, 1, 1, 1, 1, 0, 0, 1, 0, 1, 0, 1, 0, 1,\n",
       "       0, 1, 0, 0, 0, 1, 1, 0, 1, 1, 0, 1, 0, 0, 1, 1, 1, 0, 1, 1, 0, 0,\n",
       "       0, 0, 1, 1, 1, 0, 1, 1, 1, 0, 1, 0, 1, 0, 1, 0, 1, 1, 0, 0, 1, 0,\n",
       "       0, 1, 0, 1, 1, 1, 0, 1, 1, 1, 0, 1, 1, 0, 0, 0, 1, 1, 1, 1, 1, 0,\n",
       "       1, 0, 1, 1, 0, 1, 1, 0, 0, 0, 1, 0, 1, 1, 0, 1, 0, 1, 1, 1, 1, 1,\n",
       "       1, 1, 0, 0, 0, 1, 0, 1, 1, 1, 0, 1, 0, 1, 1, 1, 1, 1, 0, 1, 1, 0,\n",
       "       1, 0, 1, 0, 0, 0, 1, 0, 1, 0, 1, 1, 0, 0, 1, 0, 0, 1, 0, 1, 1, 0,\n",
       "       0, 0, 0, 0, 1, 0, 0, 1, 1, 1, 1, 1], dtype=int64)"
      ]
     },
     "execution_count": 384,
     "metadata": {},
     "output_type": "execute_result"
    }
   ],
   "execution_count": 384
  },
  {
   "cell_type": "code",
   "source": [
    "from sklearn.metrics import accuracy_score, confusion_matrix, classification_report"
   ],
   "metadata": {
    "collapsed": false,
    "ExecuteTime": {
     "end_time": "2024-04-09T03:39:34.339316Z",
     "start_time": "2024-04-09T03:39:34.324180Z"
    }
   },
   "id": "94f660963bfc54f7",
   "outputs": [],
   "execution_count": 385
  },
  {
   "cell_type": "code",
   "source": [
    "print(f'''Acurácia: {accuracy_score(y_teste, previsoes_arvore)*100:.2f}%''')"
   ],
   "metadata": {
    "collapsed": false,
    "ExecuteTime": {
     "end_time": "2024-04-09T03:39:34.773490Z",
     "start_time": "2024-04-09T03:39:34.759357Z"
    }
   },
   "id": "18a805701a91ac9",
   "outputs": [
    {
     "name": "stdout",
     "output_type": "stream",
     "text": [
      "Acurácia: 83.70%\n"
     ]
    }
   ],
   "execution_count": 386
  },
  {
   "cell_type": "code",
   "source": [
    "confusion_matrix(y_teste, previsoes_arvore)"
   ],
   "metadata": {
    "collapsed": false,
    "ExecuteTime": {
     "end_time": "2024-04-09T03:39:35.112769Z",
     "start_time": "2024-04-09T03:39:35.094489Z"
    }
   },
   "id": "3b5cfaa9f847c207",
   "outputs": [
    {
     "data": {
      "text/plain": [
       "array([[105,  16],\n",
       "       [ 29, 126]], dtype=int64)"
      ]
     },
     "execution_count": 387,
     "metadata": {},
     "output_type": "execute_result"
    }
   ],
   "execution_count": 387
  },
  {
   "cell_type": "code",
   "source": [
    "print(classification_report(y_teste, previsoes_arvore))"
   ],
   "metadata": {
    "collapsed": false,
    "ExecuteTime": {
     "end_time": "2024-04-09T03:39:35.513262Z",
     "start_time": "2024-04-09T03:39:35.484266Z"
    }
   },
   "id": "41a0bb1193945b87",
   "outputs": [
    {
     "name": "stdout",
     "output_type": "stream",
     "text": [
      "              precision    recall  f1-score   support\n",
      "\n",
      "           0       0.78      0.87      0.82       121\n",
      "           1       0.89      0.81      0.85       155\n",
      "\n",
      "    accuracy                           0.84       276\n",
      "   macro avg       0.84      0.84      0.84       276\n",
      "weighted avg       0.84      0.84      0.84       276\n",
      "\n"
     ]
    }
   ],
   "execution_count": 388
  },
  {
   "cell_type": "code",
   "source": [
    "# Análise dados de treino\n",
    "previsoes_treino = arvore.predict(x_treino)\n",
    "previsoes_treino"
   ],
   "metadata": {
    "collapsed": false,
    "ExecuteTime": {
     "end_time": "2024-04-09T03:39:36.008594Z",
     "start_time": "2024-04-09T03:39:35.997468Z"
    }
   },
   "id": "733ab559272e2498",
   "outputs": [
    {
     "data": {
      "text/plain": [
       "array([1, 0, 1, 1, 1, 0, 0, 0, 0, 0, 1, 0, 1, 1, 1, 0, 0, 0, 0, 1, 0, 1,\n",
       "       1, 1, 1, 0, 0, 1, 0, 1, 1, 0, 1, 1, 0, 0, 0, 1, 0, 1, 0, 1, 0, 0,\n",
       "       1, 1, 0, 1, 1, 1, 1, 0, 1, 0, 1, 0, 1, 0, 1, 0, 0, 0, 0, 0, 1, 1,\n",
       "       0, 1, 1, 0, 0, 1, 1, 1, 0, 0, 0, 1, 0, 1, 1, 1, 1, 1, 0, 1, 1, 1,\n",
       "       1, 1, 0, 0, 0, 0, 1, 1, 1, 1, 1, 1, 0, 0, 0, 1, 1, 1, 1, 0, 0, 1,\n",
       "       0, 0, 1, 0, 1, 0, 1, 0, 1, 0, 0, 0, 0, 1, 0, 1, 0, 0, 1, 1, 1, 0,\n",
       "       0, 1, 0, 0, 1, 0, 1, 1, 0, 1, 1, 1, 1, 1, 1, 0, 0, 1, 1, 0, 1, 0,\n",
       "       1, 0, 1, 1, 1, 0, 1, 0, 0, 0, 0, 0, 1, 0, 0, 0, 0, 1, 1, 0, 1, 1,\n",
       "       0, 1, 1, 0, 0, 0, 0, 0, 0, 1, 1, 1, 1, 0, 0, 0, 1, 0, 0, 1, 1, 1,\n",
       "       1, 1, 0, 0, 0, 1, 1, 0, 0, 1, 1, 0, 0, 0, 1, 1, 1, 1, 1, 0, 0, 1,\n",
       "       1, 0, 0, 1, 1, 0, 1, 1, 1, 1, 1, 1, 0, 1, 1, 0, 1, 0, 1, 0, 1, 0,\n",
       "       1, 1, 1, 0, 1, 1, 1, 1, 1, 1, 0, 0, 0, 0, 0, 0, 0, 0, 0, 0, 1, 0,\n",
       "       1, 0, 1, 0, 1, 0, 1, 1, 0, 0, 0, 1, 1, 0, 0, 0, 1, 0, 0, 0, 1, 1,\n",
       "       0, 0, 1, 1, 1, 0, 1, 1, 1, 1, 0, 0, 0, 1, 1, 0, 0, 1, 0, 0, 1, 1,\n",
       "       1, 0, 1, 0, 0, 0, 1, 0, 1, 0, 1, 0, 1, 1, 1, 1, 0, 1, 1, 1, 1, 0,\n",
       "       0, 0, 1, 0, 0, 0, 1, 1, 0, 1, 1, 1, 1, 1, 1, 1, 1, 1, 0, 1, 0, 1,\n",
       "       0, 0, 0, 1, 0, 0, 1, 1, 0, 0, 0, 1, 1, 0, 0, 0, 0, 0, 1, 1, 0, 1,\n",
       "       0, 1, 1, 1, 0, 0, 1, 1, 0, 1, 0, 1, 0, 0, 0, 1, 0, 0, 1, 0, 1, 1,\n",
       "       0, 0, 1, 1, 1, 1, 1, 0, 1, 0, 1, 1, 1, 0, 0, 1, 0, 1, 1, 1, 0, 0,\n",
       "       0, 1, 1, 0, 0, 1, 1, 0, 0, 1, 0, 0, 0, 1, 1, 0, 1, 1, 1, 0, 1, 1,\n",
       "       0, 0, 1, 1, 0, 1, 0, 1, 0, 0, 1, 0, 1, 1, 1, 1, 0, 0, 1, 1, 0, 1,\n",
       "       1, 1, 1, 1, 1, 0, 1, 0, 1, 1, 1, 1, 0, 1, 1, 0, 0, 0, 1, 0, 0, 0,\n",
       "       0, 0, 1, 0, 1, 1, 1, 0, 0, 1, 1, 0, 1, 1, 1, 0, 1, 1, 0, 0, 1, 1,\n",
       "       1, 1, 0, 0, 1, 1, 0, 1, 0, 1, 0, 0, 0, 0, 1, 1, 0, 1, 0, 1, 1, 0,\n",
       "       1, 0, 1, 0, 1, 0, 1, 0, 0, 0, 1, 1, 0, 1, 1, 0, 1, 0, 0, 1, 1, 0,\n",
       "       0, 0, 1, 0, 1, 0, 1, 1, 1, 0, 1, 1, 1, 0, 0, 0, 1, 0, 0, 1, 0, 1,\n",
       "       1, 1, 0, 0, 1, 0, 0, 1, 0, 1, 0, 1, 1, 1, 1, 0, 1, 0, 0, 0, 0, 0,\n",
       "       0, 0, 0, 0, 0, 1, 0, 0, 0, 0, 1, 0, 1, 1, 0, 1, 1, 1, 1, 1, 0, 1,\n",
       "       1, 1, 0, 1, 1, 0, 1, 0, 1, 1, 0, 1, 0, 1, 1, 0, 0, 1, 1, 0, 1, 0,\n",
       "       1, 0, 1], dtype=int64)"
      ]
     },
     "execution_count": 389,
     "metadata": {},
     "output_type": "execute_result"
    }
   ],
   "execution_count": 389
  },
  {
   "cell_type": "code",
   "source": [
    "accuracy_score(y_treino, previsoes_treino)"
   ],
   "metadata": {
    "collapsed": false,
    "ExecuteTime": {
     "end_time": "2024-04-09T03:39:36.465798Z",
     "start_time": "2024-04-09T03:39:36.445796Z"
    }
   },
   "id": "bb20605f9f8a4bc4",
   "outputs": [
    {
     "data": {
      "text/plain": [
       "0.8517940717628705"
      ]
     },
     "execution_count": 390,
     "metadata": {},
     "output_type": "execute_result"
    }
   ],
   "execution_count": 390
  },
  {
   "cell_type": "code",
   "source": [
    "confusion_matrix(y_treino, previsoes_treino)"
   ],
   "metadata": {
    "collapsed": false,
    "ExecuteTime": {
     "end_time": "2024-04-09T03:39:36.990803Z",
     "start_time": "2024-04-09T03:39:36.964576Z"
    }
   },
   "id": "3fb2c955c62946a8",
   "outputs": [
    {
     "data": {
      "text/plain": [
       "array([[249,  40],\n",
       "       [ 55, 297]], dtype=int64)"
      ]
     },
     "execution_count": 391,
     "metadata": {},
     "output_type": "execute_result"
    }
   ],
   "execution_count": 391
  },
  {
   "cell_type": "code",
   "source": [
    "# Validação Cruzada\n",
    "from sklearn.model_selection import KFold\n",
    "from sklearn.model_selection import cross_val_score"
   ],
   "metadata": {
    "collapsed": false,
    "ExecuteTime": {
     "end_time": "2024-04-09T03:39:37.453211Z",
     "start_time": "2024-04-09T03:39:37.434749Z"
    }
   },
   "id": "3fb2584bf9f60dbd",
   "outputs": [],
   "execution_count": 392
  },
  {
   "cell_type": "code",
   "source": [
    "# Separando os dados em folds\n",
    "kfold = KFold(n_splits=30, shuffle=True, random_state=5)"
   ],
   "metadata": {
    "collapsed": false,
    "ExecuteTime": {
     "end_time": "2024-04-09T03:39:37.883594Z",
     "start_time": "2024-04-09T03:39:37.877527Z"
    }
   },
   "id": "a09c288f8769eb2d",
   "outputs": [],
   "execution_count": 393
  },
  {
   "cell_type": "code",
   "source": [
    "# Criando o modelo\n",
    "modelo = DecisionTreeClassifier(criterion='gini', random_state=0, max_depth=3)\n",
    "resultado = cross_val_score(modelo, previsores3_esc, alvo, cv=kfold)\n",
    "resultado"
   ],
   "metadata": {
    "collapsed": false,
    "ExecuteTime": {
     "end_time": "2024-04-09T03:39:38.343984Z",
     "start_time": "2024-04-09T03:39:38.199728Z"
    }
   },
   "id": "5f5a7836b64682e2",
   "outputs": [
    {
     "data": {
      "text/plain": [
       "array([0.90322581, 0.80645161, 0.90322581, 0.87096774, 0.83870968,\n",
       "       0.83870968, 0.67741935, 0.77419355, 0.80645161, 0.80645161,\n",
       "       0.77419355, 0.87096774, 0.93548387, 0.80645161, 0.90322581,\n",
       "       0.87096774, 0.80645161, 0.93333333, 0.8       , 0.8       ,\n",
       "       0.73333333, 0.86666667, 0.8       , 0.76666667, 0.83333333,\n",
       "       0.9       , 0.86666667, 0.86666667, 0.73333333, 0.86666667])"
      ]
     },
     "execution_count": 394,
     "metadata": {},
     "output_type": "execute_result"
    }
   ],
   "execution_count": 394
  },
  {
   "cell_type": "code",
   "source": [
    "# Usando a média e o desvio padrão\n",
    "print(f'Acurácia Média: {resultado.mean()*100:.2f}%')"
   ],
   "metadata": {
    "collapsed": false,
    "ExecuteTime": {
     "end_time": "2024-04-09T03:39:38.574948Z",
     "start_time": "2024-04-09T03:39:38.562701Z"
    }
   },
   "id": "5a0d1ea728d8d77d",
   "outputs": [
    {
     "name": "stdout",
     "output_type": "stream",
     "text": [
      "Acurácia Média: 83.20%\n"
     ]
    }
   ],
   "execution_count": 395
  },
  {
   "cell_type": "markdown",
   "source": [
    "# 55. Random Forest: teoria"
   ],
   "metadata": {
    "collapsed": false
   },
   "id": "91a28e0976a705b5"
  },
  {
   "cell_type": "code",
   "source": [
    "# Random Forest (Floresta Aleatória)\n",
    "\"\"\"\n",
    "> Criação aleatória de várias árvores de decisão;\n",
    "> Utiliza o método Ensemble (construção de vários modelos para obter um resultado único);\n",
    "> É mais robusto, complexo e normalmente propicia resultados melhores, mas possui maior custo computacional;\n",
    "> Em problemas de classificação o resultado que mais aparece será o escolhido (moda), já em regressão será a média;\n",
    "\n",
    "Vantagens:\n",
    "> Resultados bastante precisos;\n",
    "> Normalmente não necessitam de preparações sofisticadas nos dados (label Encoder e OneHotEncoder);\n",
    "> Trabalha com valores faltantes, variáveis categóricas e numéricas;\n",
    "> Pouca probabilidade de ocorrência de overfitting;\n",
    "\n",
    "Desvantagens:\n",
    "> Velocidade de processamento relativamente baixa;\n",
    "> Difícil interpretação de como chegou no resultado;\n",
    "\"\"\""
   ],
   "metadata": {
    "collapsed": false,
    "ExecuteTime": {
     "end_time": "2024-04-09T03:39:39.042004Z",
     "start_time": "2024-04-09T03:39:39.032850Z"
    }
   },
   "id": "130e3c76fd039d48",
   "outputs": [
    {
     "data": {
      "text/plain": [
       "'\\n> Criação aleatória de várias árvores de decisão;\\n> Utiliza o método Ensemble (construção de vários modelos para obter um resultado único);\\n> É mais robusto, complexo e normalmente propicia resultados melhores, mas possui maior custo computacional;\\n> Em problemas de classificação o resultado que mais aparece será o escolhido (moda), já em regressão será a média;\\n\\nVantagens:\\n> Resultados bastante precisos;\\n> Normalmente não necessitam de preparações sofisticadas nos dados (label Encoder e OneHotEncoder);\\n> Trabalha com valores faltantes, variáveis categóricas e numéricas;\\n> Pouca probabilidade de ocorrência de overfitting;\\n\\nDesvantagens:\\n> Velocidade de processamento relativamente baixa;\\n> Difícil interpretação de como chegou no resultado;\\n'"
      ]
     },
     "execution_count": 396,
     "metadata": {},
     "output_type": "execute_result"
    }
   ],
   "execution_count": 396
  },
  {
   "cell_type": "markdown",
   "source": [
    "# 56. Random Forest no Python"
   ],
   "metadata": {
    "collapsed": false
   },
   "id": "120dd09ffa37ca17"
  },
  {
   "cell_type": "code",
   "source": [
    "# Random Forest\n",
    "\"\"\"https://scikit-learn.org/stable/modules/generated/sklearn.ensemble.RandomForestClassifier.html\"\"\""
   ],
   "metadata": {
    "collapsed": false,
    "ExecuteTime": {
     "end_time": "2024-04-09T03:39:39.460244Z",
     "start_time": "2024-04-09T03:39:39.441980Z"
    }
   },
   "id": "612816a543ea0735",
   "outputs": [
    {
     "data": {
      "text/plain": [
       "'https://scikit-learn.org/stable/modules/generated/sklearn.ensemble.RandomForestClassifier.html'"
      ]
     },
     "execution_count": 397,
     "metadata": {},
     "output_type": "execute_result"
    }
   ],
   "execution_count": 397
  },
  {
   "cell_type": "code",
   "source": [
    "from sklearn.ensemble import RandomForestClassifier"
   ],
   "metadata": {
    "collapsed": false,
    "ExecuteTime": {
     "end_time": "2024-04-09T03:39:39.893006Z",
     "start_time": "2024-04-09T03:39:39.878893Z"
    }
   },
   "id": "c7aa245060e5042f",
   "outputs": [],
   "execution_count": 398
  },
  {
   "cell_type": "code",
   "source": [
    "random_forest = RandomForestClassifier(n_estimators=150, criterion='entropy', random_state=0, max_depth=4)\n",
    "random_forest.fit(x_treino, y_treino)"
   ],
   "metadata": {
    "collapsed": false,
    "ExecuteTime": {
     "end_time": "2024-04-09T03:39:40.715344Z",
     "start_time": "2024-04-09T03:39:40.307188Z"
    }
   },
   "id": "f161b9cfac899f3b",
   "outputs": [
    {
     "data": {
      "text/plain": [
       "RandomForestClassifier(criterion='entropy', max_depth=4, n_estimators=150,\n",
       "                       random_state=0)"
      ],
      "text/html": [
       "<style>#sk-container-id-13 {color: black;}#sk-container-id-13 pre{padding: 0;}#sk-container-id-13 div.sk-toggleable {background-color: white;}#sk-container-id-13 label.sk-toggleable__label {cursor: pointer;display: block;width: 100%;margin-bottom: 0;padding: 0.3em;box-sizing: border-box;text-align: center;}#sk-container-id-13 label.sk-toggleable__label-arrow:before {content: \"▸\";float: left;margin-right: 0.25em;color: #696969;}#sk-container-id-13 label.sk-toggleable__label-arrow:hover:before {color: black;}#sk-container-id-13 div.sk-estimator:hover label.sk-toggleable__label-arrow:before {color: black;}#sk-container-id-13 div.sk-toggleable__content {max-height: 0;max-width: 0;overflow: hidden;text-align: left;background-color: #f0f8ff;}#sk-container-id-13 div.sk-toggleable__content pre {margin: 0.2em;color: black;border-radius: 0.25em;background-color: #f0f8ff;}#sk-container-id-13 input.sk-toggleable__control:checked~div.sk-toggleable__content {max-height: 200px;max-width: 100%;overflow: auto;}#sk-container-id-13 input.sk-toggleable__control:checked~label.sk-toggleable__label-arrow:before {content: \"▾\";}#sk-container-id-13 div.sk-estimator input.sk-toggleable__control:checked~label.sk-toggleable__label {background-color: #d4ebff;}#sk-container-id-13 div.sk-label input.sk-toggleable__control:checked~label.sk-toggleable__label {background-color: #d4ebff;}#sk-container-id-13 input.sk-hidden--visually {border: 0;clip: rect(1px 1px 1px 1px);clip: rect(1px, 1px, 1px, 1px);height: 1px;margin: -1px;overflow: hidden;padding: 0;position: absolute;width: 1px;}#sk-container-id-13 div.sk-estimator {font-family: monospace;background-color: #f0f8ff;border: 1px dotted black;border-radius: 0.25em;box-sizing: border-box;margin-bottom: 0.5em;}#sk-container-id-13 div.sk-estimator:hover {background-color: #d4ebff;}#sk-container-id-13 div.sk-parallel-item::after {content: \"\";width: 100%;border-bottom: 1px solid gray;flex-grow: 1;}#sk-container-id-13 div.sk-label:hover label.sk-toggleable__label {background-color: #d4ebff;}#sk-container-id-13 div.sk-serial::before {content: \"\";position: absolute;border-left: 1px solid gray;box-sizing: border-box;top: 0;bottom: 0;left: 50%;z-index: 0;}#sk-container-id-13 div.sk-serial {display: flex;flex-direction: column;align-items: center;background-color: white;padding-right: 0.2em;padding-left: 0.2em;position: relative;}#sk-container-id-13 div.sk-item {position: relative;z-index: 1;}#sk-container-id-13 div.sk-parallel {display: flex;align-items: stretch;justify-content: center;background-color: white;position: relative;}#sk-container-id-13 div.sk-item::before, #sk-container-id-13 div.sk-parallel-item::before {content: \"\";position: absolute;border-left: 1px solid gray;box-sizing: border-box;top: 0;bottom: 0;left: 50%;z-index: -1;}#sk-container-id-13 div.sk-parallel-item {display: flex;flex-direction: column;z-index: 1;position: relative;background-color: white;}#sk-container-id-13 div.sk-parallel-item:first-child::after {align-self: flex-end;width: 50%;}#sk-container-id-13 div.sk-parallel-item:last-child::after {align-self: flex-start;width: 50%;}#sk-container-id-13 div.sk-parallel-item:only-child::after {width: 0;}#sk-container-id-13 div.sk-dashed-wrapped {border: 1px dashed gray;margin: 0 0.4em 0.5em 0.4em;box-sizing: border-box;padding-bottom: 0.4em;background-color: white;}#sk-container-id-13 div.sk-label label {font-family: monospace;font-weight: bold;display: inline-block;line-height: 1.2em;}#sk-container-id-13 div.sk-label-container {text-align: center;}#sk-container-id-13 div.sk-container {/* jupyter's `normalize.less` sets `[hidden] { display: none; }` but bootstrap.min.css set `[hidden] { display: none !important; }` so we also need the `!important` here to be able to override the default hidden behavior on the sphinx rendered scikit-learn.org. See: https://github.com/scikit-learn/scikit-learn/issues/21755 */display: inline-block !important;position: relative;}#sk-container-id-13 div.sk-text-repr-fallback {display: none;}</style><div id=\"sk-container-id-13\" class=\"sk-top-container\"><div class=\"sk-text-repr-fallback\"><pre>RandomForestClassifier(criterion=&#x27;entropy&#x27;, max_depth=4, n_estimators=150,\n",
       "                       random_state=0)</pre><b>In a Jupyter environment, please rerun this cell to show the HTML representation or trust the notebook. <br />On GitHub, the HTML representation is unable to render, please try loading this page with nbviewer.org.</b></div><div class=\"sk-container\" hidden><div class=\"sk-item\"><div class=\"sk-estimator sk-toggleable\"><input class=\"sk-toggleable__control sk-hidden--visually\" id=\"sk-estimator-id-13\" type=\"checkbox\" checked><label for=\"sk-estimator-id-13\" class=\"sk-toggleable__label sk-toggleable__label-arrow\">RandomForestClassifier</label><div class=\"sk-toggleable__content\"><pre>RandomForestClassifier(criterion=&#x27;entropy&#x27;, max_depth=4, n_estimators=150,\n",
       "                       random_state=0)</pre></div></div></div></div></div>"
      ]
     },
     "execution_count": 399,
     "metadata": {},
     "output_type": "execute_result"
    }
   ],
   "execution_count": 399
  },
  {
   "cell_type": "code",
   "source": [
    "previsoes_random_forest = random_forest.predict(x_teste)\n",
    "previsoes_random_forest"
   ],
   "metadata": {
    "collapsed": false,
    "ExecuteTime": {
     "end_time": "2024-04-09T03:39:40.760967Z",
     "start_time": "2024-04-09T03:39:40.718404Z"
    }
   },
   "id": "2d01d18bcf94e238",
   "outputs": [
    {
     "data": {
      "text/plain": [
       "array([1, 1, 1, 0, 0, 0, 0, 0, 0, 0, 1, 1, 1, 1, 0, 1, 1, 1, 1, 0, 1, 1,\n",
       "       1, 0, 0, 0, 1, 1, 1, 1, 1, 0, 0, 0, 1, 0, 0, 0, 1, 0, 0, 1, 1, 1,\n",
       "       1, 0, 0, 1, 0, 1, 1, 0, 0, 0, 1, 0, 0, 0, 1, 0, 1, 1, 1, 0, 1, 1,\n",
       "       1, 0, 1, 0, 1, 1, 0, 1, 1, 1, 1, 1, 1, 1, 1, 1, 0, 0, 1, 1, 1, 1,\n",
       "       1, 0, 1, 0, 0, 0, 1, 0, 1, 0, 0, 0, 0, 1, 1, 1, 0, 1, 0, 0, 0, 1,\n",
       "       0, 1, 1, 1, 0, 1, 0, 1, 1, 1, 1, 1, 1, 0, 1, 1, 0, 1, 0, 1, 0, 1,\n",
       "       1, 1, 0, 1, 1, 1, 1, 0, 0, 1, 0, 1, 0, 0, 1, 1, 1, 1, 0, 1, 1, 0,\n",
       "       1, 0, 1, 1, 1, 0, 1, 1, 1, 0, 1, 0, 1, 0, 1, 0, 1, 1, 0, 0, 1, 1,\n",
       "       1, 0, 0, 1, 1, 1, 0, 1, 1, 1, 0, 1, 1, 0, 0, 0, 1, 0, 1, 1, 0, 0,\n",
       "       1, 0, 1, 1, 0, 1, 1, 0, 0, 0, 1, 0, 1, 1, 0, 0, 0, 0, 1, 0, 1, 1,\n",
       "       1, 0, 0, 1, 1, 1, 0, 1, 0, 1, 0, 1, 1, 1, 0, 1, 1, 1, 0, 1, 1, 0,\n",
       "       1, 0, 0, 0, 0, 0, 1, 0, 1, 0, 1, 0, 0, 0, 1, 0, 0, 1, 0, 1, 1, 0,\n",
       "       0, 0, 0, 0, 1, 0, 0, 1, 1, 1, 1, 1], dtype=int64)"
      ]
     },
     "execution_count": 400,
     "metadata": {},
     "output_type": "execute_result"
    }
   ],
   "execution_count": 400
  },
  {
   "cell_type": "code",
   "source": [
    "y_teste"
   ],
   "metadata": {
    "collapsed": false,
    "ExecuteTime": {
     "end_time": "2024-04-09T03:39:40.977699Z",
     "start_time": "2024-04-09T03:39:40.956424Z"
    }
   },
   "id": "5779f63dbdd2706c",
   "outputs": [
    {
     "data": {
      "text/plain": [
       "array([1, 0, 1, 0, 0, 0, 0, 0, 0, 0, 1, 0, 1, 1, 0, 1, 1, 1, 1, 0, 1, 1,\n",
       "       1, 0, 0, 0, 1, 1, 0, 0, 1, 0, 0, 0, 1, 0, 1, 0, 1, 0, 0, 1, 1, 1,\n",
       "       1, 0, 0, 1, 1, 1, 1, 0, 0, 1, 1, 0, 0, 0, 1, 0, 1, 1, 1, 0, 1, 1,\n",
       "       1, 0, 1, 0, 1, 1, 1, 1, 1, 1, 1, 1, 1, 0, 0, 1, 0, 0, 1, 1, 0, 1,\n",
       "       1, 0, 1, 0, 0, 1, 1, 0, 1, 0, 0, 0, 0, 1, 1, 1, 0, 1, 0, 0, 0, 1,\n",
       "       0, 1, 1, 1, 0, 1, 1, 1, 1, 1, 1, 1, 1, 0, 0, 1, 0, 1, 0, 1, 0, 1,\n",
       "       0, 1, 0, 0, 0, 1, 1, 0, 1, 1, 0, 1, 0, 0, 1, 1, 1, 0, 1, 1, 0, 0,\n",
       "       0, 0, 1, 1, 1, 0, 1, 1, 1, 0, 1, 0, 1, 0, 1, 0, 1, 1, 0, 0, 1, 0,\n",
       "       0, 1, 0, 1, 1, 1, 0, 1, 1, 1, 0, 1, 1, 0, 0, 0, 1, 1, 1, 1, 1, 0,\n",
       "       1, 0, 1, 1, 0, 1, 1, 0, 0, 0, 1, 0, 1, 1, 0, 1, 0, 1, 1, 1, 1, 1,\n",
       "       1, 1, 0, 0, 0, 1, 0, 1, 1, 1, 0, 1, 0, 1, 1, 1, 1, 1, 0, 1, 1, 0,\n",
       "       1, 0, 1, 0, 0, 0, 1, 0, 1, 0, 1, 1, 0, 0, 1, 0, 0, 1, 0, 1, 1, 0,\n",
       "       0, 0, 0, 0, 1, 0, 0, 1, 1, 1, 1, 1], dtype=int64)"
      ]
     },
     "execution_count": 401,
     "metadata": {},
     "output_type": "execute_result"
    }
   ],
   "execution_count": 401
  },
  {
   "cell_type": "code",
   "source": [
    "from sklearn.metrics import accuracy_score, confusion_matrix, classification_report"
   ],
   "metadata": {
    "collapsed": false,
    "ExecuteTime": {
     "end_time": "2024-04-09T03:39:41.510372Z",
     "start_time": "2024-04-09T03:39:41.490687Z"
    }
   },
   "id": "2c57cf20141887c1",
   "outputs": [],
   "execution_count": 402
  },
  {
   "cell_type": "code",
   "source": [
    "print(f'''Acurácia: {accuracy_score(y_teste, previsoes_random_forest)*100:.2f}%''')"
   ],
   "metadata": {
    "collapsed": false,
    "ExecuteTime": {
     "end_time": "2024-04-09T03:39:41.958856Z",
     "start_time": "2024-04-09T03:39:41.938985Z"
    }
   },
   "id": "e44b7f977c40af66",
   "outputs": [
    {
     "name": "stdout",
     "output_type": "stream",
     "text": [
      "Acurácia: 86.23%\n"
     ]
    }
   ],
   "execution_count": 403
  },
  {
   "cell_type": "code",
   "source": [
    "confusion_matrix(y_teste, previsoes_random_forest)"
   ],
   "metadata": {
    "collapsed": false,
    "ExecuteTime": {
     "end_time": "2024-04-09T03:39:42.326552Z",
     "start_time": "2024-04-09T03:39:42.309299Z"
    }
   },
   "id": "b28923315ea0f1ce",
   "outputs": [
    {
     "data": {
      "text/plain": [
       "array([[102,  19],\n",
       "       [ 19, 136]], dtype=int64)"
      ]
     },
     "execution_count": 404,
     "metadata": {},
     "output_type": "execute_result"
    }
   ],
   "execution_count": 404
  },
  {
   "cell_type": "code",
   "source": [
    "print(classification_report(y_teste, previsoes_random_forest))"
   ],
   "metadata": {
    "collapsed": false,
    "ExecuteTime": {
     "end_time": "2024-04-09T03:39:42.773791Z",
     "start_time": "2024-04-09T03:39:42.742214Z"
    }
   },
   "id": "89a733fcf9029724",
   "outputs": [
    {
     "name": "stdout",
     "output_type": "stream",
     "text": [
      "              precision    recall  f1-score   support\n",
      "\n",
      "           0       0.84      0.84      0.84       121\n",
      "           1       0.88      0.88      0.88       155\n",
      "\n",
      "    accuracy                           0.86       276\n",
      "   macro avg       0.86      0.86      0.86       276\n",
      "weighted avg       0.86      0.86      0.86       276\n",
      "\n"
     ]
    }
   ],
   "execution_count": 405
  },
  {
   "cell_type": "code",
   "source": [
    "# Análise dados de treino\n",
    "previsoes_treino = random_forest.predict(x_treino)\n",
    "previsoes_treino"
   ],
   "metadata": {
    "collapsed": false,
    "ExecuteTime": {
     "end_time": "2024-04-09T03:39:43.206624Z",
     "start_time": "2024-04-09T03:39:43.129907Z"
    }
   },
   "id": "83f0102b47dddce0",
   "outputs": [
    {
     "data": {
      "text/plain": [
       "array([1, 0, 1, 1, 1, 1, 0, 0, 0, 0, 1, 0, 1, 1, 1, 0, 0, 0, 0, 1, 1, 1,\n",
       "       1, 1, 1, 0, 0, 1, 1, 1, 1, 0, 1, 1, 0, 0, 1, 1, 0, 1, 0, 1, 0, 0,\n",
       "       1, 1, 0, 1, 1, 1, 1, 0, 1, 0, 1, 0, 1, 0, 1, 0, 0, 0, 1, 0, 1, 1,\n",
       "       0, 1, 1, 0, 1, 1, 1, 1, 0, 0, 1, 1, 1, 1, 1, 1, 1, 1, 0, 1, 1, 1,\n",
       "       1, 1, 0, 1, 0, 0, 1, 1, 1, 1, 1, 1, 1, 1, 0, 1, 1, 1, 1, 0, 0, 1,\n",
       "       0, 0, 1, 0, 1, 0, 1, 0, 1, 0, 0, 0, 0, 1, 1, 1, 1, 0, 1, 1, 1, 0,\n",
       "       1, 1, 0, 0, 1, 0, 1, 1, 0, 1, 1, 1, 1, 1, 0, 0, 0, 1, 1, 0, 1, 0,\n",
       "       1, 0, 1, 1, 1, 0, 1, 0, 0, 0, 0, 1, 1, 0, 0, 0, 0, 1, 1, 0, 1, 0,\n",
       "       0, 1, 1, 0, 0, 0, 0, 0, 0, 1, 1, 1, 1, 1, 0, 0, 1, 0, 0, 1, 1, 1,\n",
       "       1, 1, 0, 0, 0, 1, 1, 1, 1, 1, 1, 0, 1, 0, 1, 1, 1, 1, 1, 0, 0, 1,\n",
       "       1, 0, 0, 1, 1, 1, 1, 1, 1, 1, 1, 1, 0, 1, 1, 0, 1, 0, 1, 0, 1, 0,\n",
       "       1, 1, 0, 1, 1, 1, 1, 1, 1, 1, 0, 0, 0, 0, 0, 0, 0, 0, 1, 0, 1, 0,\n",
       "       1, 0, 1, 0, 1, 0, 1, 1, 0, 1, 0, 1, 1, 0, 0, 0, 1, 0, 0, 0, 1, 1,\n",
       "       1, 1, 1, 1, 1, 0, 1, 1, 0, 1, 0, 1, 0, 1, 1, 0, 0, 1, 0, 0, 1, 1,\n",
       "       1, 0, 1, 0, 1, 0, 1, 0, 1, 1, 1, 0, 1, 1, 1, 1, 0, 1, 1, 1, 1, 0,\n",
       "       0, 0, 1, 0, 0, 0, 1, 1, 0, 1, 1, 1, 1, 1, 1, 0, 1, 1, 0, 1, 0, 1,\n",
       "       0, 0, 0, 1, 0, 1, 1, 1, 0, 1, 0, 1, 1, 0, 0, 0, 0, 0, 1, 1, 0, 1,\n",
       "       0, 1, 1, 1, 0, 1, 1, 1, 0, 1, 0, 1, 0, 0, 0, 1, 0, 1, 1, 1, 1, 1,\n",
       "       0, 0, 0, 1, 1, 1, 1, 0, 1, 1, 1, 1, 1, 0, 0, 1, 0, 1, 1, 1, 0, 0,\n",
       "       0, 1, 1, 0, 0, 1, 1, 0, 1, 1, 0, 0, 0, 1, 1, 1, 1, 1, 1, 1, 1, 1,\n",
       "       0, 0, 1, 1, 0, 1, 0, 1, 0, 0, 1, 0, 1, 1, 1, 1, 0, 0, 0, 1, 0, 1,\n",
       "       1, 1, 1, 1, 1, 0, 1, 0, 1, 1, 1, 1, 1, 1, 1, 0, 0, 0, 1, 0, 0, 0,\n",
       "       0, 0, 1, 0, 1, 1, 1, 0, 0, 1, 1, 0, 1, 1, 1, 0, 1, 1, 0, 0, 1, 1,\n",
       "       1, 1, 0, 0, 1, 1, 1, 1, 0, 1, 0, 0, 1, 0, 1, 1, 1, 1, 0, 1, 1, 0,\n",
       "       1, 0, 1, 0, 1, 0, 1, 0, 1, 0, 1, 1, 0, 1, 1, 1, 1, 0, 0, 1, 1, 0,\n",
       "       0, 1, 1, 0, 1, 0, 1, 1, 1, 0, 1, 1, 0, 1, 0, 1, 1, 0, 0, 1, 0, 1,\n",
       "       1, 1, 0, 0, 1, 0, 0, 1, 0, 1, 0, 1, 1, 1, 1, 0, 1, 0, 0, 0, 0, 0,\n",
       "       0, 0, 1, 0, 0, 1, 0, 0, 0, 0, 1, 0, 0, 1, 0, 1, 1, 1, 1, 1, 0, 1,\n",
       "       1, 1, 1, 1, 1, 0, 1, 1, 1, 1, 1, 1, 0, 1, 1, 0, 0, 1, 1, 0, 1, 0,\n",
       "       1, 0, 1], dtype=int64)"
      ]
     },
     "execution_count": 406,
     "metadata": {},
     "output_type": "execute_result"
    }
   ],
   "execution_count": 406
  },
  {
   "cell_type": "code",
   "source": [
    "accuracy_score(y_treino, previsoes_treino)"
   ],
   "metadata": {
    "collapsed": false,
    "ExecuteTime": {
     "end_time": "2024-04-09T03:39:43.590400Z",
     "start_time": "2024-04-09T03:39:43.576177Z"
    }
   },
   "id": "d9c088492682c0d8",
   "outputs": [
    {
     "data": {
      "text/plain": [
       "0.890795631825273"
      ]
     },
     "execution_count": 407,
     "metadata": {},
     "output_type": "execute_result"
    }
   ],
   "execution_count": 407
  },
  {
   "cell_type": "code",
   "source": [
    "confusion_matrix(y_treino, previsoes_treino)"
   ],
   "metadata": {
    "collapsed": false,
    "ExecuteTime": {
     "end_time": "2024-04-09T03:39:44.039404Z",
     "start_time": "2024-04-09T03:39:44.016075Z"
    }
   },
   "id": "d526ed68cdc77c70",
   "outputs": [
    {
     "data": {
      "text/plain": [
       "array([[241,  48],\n",
       "       [ 22, 330]], dtype=int64)"
      ]
     },
     "execution_count": 408,
     "metadata": {},
     "output_type": "execute_result"
    }
   ],
   "execution_count": 408
  },
  {
   "cell_type": "code",
   "source": [
    "# Validação Cruzada\n",
    "from sklearn.model_selection import KFold\n",
    "from sklearn.model_selection import cross_val_score"
   ],
   "metadata": {
    "collapsed": false,
    "ExecuteTime": {
     "end_time": "2024-04-09T03:39:44.470563Z",
     "start_time": "2024-04-09T03:39:44.450393Z"
    }
   },
   "id": "ae40d5c01197e1e5",
   "outputs": [],
   "execution_count": 409
  },
  {
   "cell_type": "code",
   "source": [
    "# Separando os dados em folds\n",
    "kfold = KFold(n_splits=30, shuffle=True, random_state=5)"
   ],
   "metadata": {
    "collapsed": false,
    "ExecuteTime": {
     "end_time": "2024-04-09T03:39:44.842282Z",
     "start_time": "2024-04-09T03:39:44.832543Z"
    }
   },
   "id": "b2597a028140870e",
   "outputs": [],
   "execution_count": 410
  },
  {
   "cell_type": "code",
   "source": [
    "# Criando o modelo\n",
    "modelo = RandomForestClassifier(n_estimators=150, criterion='entropy', random_state=0, max_depth=4)\n",
    "resultado = cross_val_score(modelo, previsores, alvo, cv=kfold)\n",
    "resultado"
   ],
   "metadata": {
    "collapsed": false,
    "ExecuteTime": {
     "end_time": "2024-04-09T03:39:58.457862Z",
     "start_time": "2024-04-09T03:39:45.172547Z"
    }
   },
   "id": "1a28ee938fbf02f5",
   "outputs": [
    {
     "data": {
      "text/plain": [
       "array([0.93548387, 0.90322581, 0.90322581, 0.83870968, 0.90322581,\n",
       "       0.83870968, 0.74193548, 0.80645161, 0.83870968, 0.80645161,\n",
       "       0.83870968, 0.83870968, 0.96774194, 0.87096774, 0.87096774,\n",
       "       0.90322581, 0.80645161, 0.96666667, 0.9       , 0.83333333,\n",
       "       0.76666667, 0.86666667, 0.83333333, 0.66666667, 0.86666667,\n",
       "       0.93333333, 0.86666667, 0.86666667, 0.83333333, 0.86666667])"
      ]
     },
     "execution_count": 411,
     "metadata": {},
     "output_type": "execute_result"
    }
   ],
   "execution_count": 411
  },
  {
   "cell_type": "code",
   "source": [
    "# Usando a média e o desvio padrão\n",
    "print(f'Acurácia Média: {resultado.mean()*100:.2f}%')"
   ],
   "metadata": {
    "collapsed": false,
    "ExecuteTime": {
     "end_time": "2024-04-09T03:39:58.473147Z",
     "start_time": "2024-04-09T03:39:58.460936Z"
    }
   },
   "id": "636c0af452be578f",
   "outputs": [
    {
     "name": "stdout",
     "output_type": "stream",
     "text": [
      "Acurácia Média: 85.60%\n"
     ]
    }
   ],
   "execution_count": 412
  },
  {
   "cell_type": "markdown",
   "source": [
    "# 57. XGBoost: Teoria"
   ],
   "metadata": {
    "collapsed": false
   },
   "id": "d330481ef56b59a0"
  },
  {
   "cell_type": "code",
   "source": [
    "# XGBOOST (eXtreme Gradient Boosting)\n",
    "\"\"\"\n",
    "> Algoritmo poderoso baseado em árvores de decisão;\n",
    "> É uma evolução do algoritmo Gradient Boosting, que por sua vez é uma evolução do Random Forest;\n",
    "> Apresenta aderência a grande variedade de aplicações;\n",
    "> Roda em várias linguagens de programação, nos principais sistemas operacionais e em nuvem;\n",
    "\"\"\""
   ],
   "metadata": {
    "collapsed": false,
    "ExecuteTime": {
     "end_time": "2024-04-09T03:39:58.488304Z",
     "start_time": "2024-04-09T03:39:58.475145Z"
    }
   },
   "id": "161e50d19ef59044",
   "outputs": [
    {
     "data": {
      "text/plain": [
       "'\\n> Algoritmo poderoso baseado em árvores de decisão;\\n> É uma evolução do algoritmo Gradient Boosting, que por sua vez é uma evolução do Random Forest;\\n> Apresenta aderência a grande variedade de aplicações;\\n> Roda em várias linguagens de programação, nos principais sistemas operacionais e em nuvem;\\n'"
      ]
     },
     "execution_count": 413,
     "metadata": {},
     "output_type": "execute_result"
    }
   ],
   "execution_count": 413
  },
  {
   "cell_type": "markdown",
   "source": [
    "# 58. XGBoost no Python"
   ],
   "metadata": {
    "collapsed": false
   },
   "id": "766110281a0803a5"
  },
  {
   "cell_type": "code",
   "source": [
    "# XGBOOST\n",
    "\"\"\"https//xgboost.readthedocs.io/en/stable/\"\"\""
   ],
   "metadata": {
    "collapsed": false,
    "ExecuteTime": {
     "end_time": "2024-04-09T03:39:58.503074Z",
     "start_time": "2024-04-09T03:39:58.490960Z"
    }
   },
   "id": "e44fa473b58c6bfe",
   "outputs": [
    {
     "data": {
      "text/plain": [
       "'https//xgboost.readthedocs.io/en/stable/'"
      ]
     },
     "execution_count": 414,
     "metadata": {},
     "output_type": "execute_result"
    }
   ],
   "execution_count": 414
  },
  {
   "cell_type": "code",
   "source": [
    "from xgboost import XGBClassifier"
   ],
   "metadata": {
    "collapsed": false,
    "ExecuteTime": {
     "end_time": "2024-04-09T03:39:58.518767Z",
     "start_time": "2024-04-09T03:39:58.507138Z"
    }
   },
   "id": "3096c34dcb101fe6",
   "outputs": [],
   "execution_count": 415
  },
  {
   "cell_type": "code",
   "source": [
    "xg = XGBClassifier(max_depth=2, learning_rate=0.05, n_estimators=250, objective='binary:logistic', random_state=3)\n",
    "xg.fit(x_treino, y_treino)"
   ],
   "metadata": {
    "collapsed": false,
    "ExecuteTime": {
     "end_time": "2024-04-09T03:39:58.627228Z",
     "start_time": "2024-04-09T03:39:58.521769Z"
    }
   },
   "id": "cfa9a0663b468add",
   "outputs": [
    {
     "data": {
      "text/plain": [
       "XGBClassifier(base_score=None, booster=None, callbacks=None,\n",
       "              colsample_bylevel=None, colsample_bynode=None,\n",
       "              colsample_bytree=None, early_stopping_rounds=None,\n",
       "              enable_categorical=False, eval_metric=None, feature_types=None,\n",
       "              gamma=None, gpu_id=None, grow_policy=None, importance_type=None,\n",
       "              interaction_constraints=None, learning_rate=0.05, max_bin=None,\n",
       "              max_cat_threshold=None, max_cat_to_onehot=None,\n",
       "              max_delta_step=None, max_depth=2, max_leaves=None,\n",
       "              min_child_weight=None, missing=nan, monotone_constraints=None,\n",
       "              n_estimators=250, n_jobs=None, num_parallel_tree=None,\n",
       "              predictor=None, random_state=3, ...)"
      ],
      "text/html": [
       "<style>#sk-container-id-14 {color: black;}#sk-container-id-14 pre{padding: 0;}#sk-container-id-14 div.sk-toggleable {background-color: white;}#sk-container-id-14 label.sk-toggleable__label {cursor: pointer;display: block;width: 100%;margin-bottom: 0;padding: 0.3em;box-sizing: border-box;text-align: center;}#sk-container-id-14 label.sk-toggleable__label-arrow:before {content: \"▸\";float: left;margin-right: 0.25em;color: #696969;}#sk-container-id-14 label.sk-toggleable__label-arrow:hover:before {color: black;}#sk-container-id-14 div.sk-estimator:hover label.sk-toggleable__label-arrow:before {color: black;}#sk-container-id-14 div.sk-toggleable__content {max-height: 0;max-width: 0;overflow: hidden;text-align: left;background-color: #f0f8ff;}#sk-container-id-14 div.sk-toggleable__content pre {margin: 0.2em;color: black;border-radius: 0.25em;background-color: #f0f8ff;}#sk-container-id-14 input.sk-toggleable__control:checked~div.sk-toggleable__content {max-height: 200px;max-width: 100%;overflow: auto;}#sk-container-id-14 input.sk-toggleable__control:checked~label.sk-toggleable__label-arrow:before {content: \"▾\";}#sk-container-id-14 div.sk-estimator input.sk-toggleable__control:checked~label.sk-toggleable__label {background-color: #d4ebff;}#sk-container-id-14 div.sk-label input.sk-toggleable__control:checked~label.sk-toggleable__label {background-color: #d4ebff;}#sk-container-id-14 input.sk-hidden--visually {border: 0;clip: rect(1px 1px 1px 1px);clip: rect(1px, 1px, 1px, 1px);height: 1px;margin: -1px;overflow: hidden;padding: 0;position: absolute;width: 1px;}#sk-container-id-14 div.sk-estimator {font-family: monospace;background-color: #f0f8ff;border: 1px dotted black;border-radius: 0.25em;box-sizing: border-box;margin-bottom: 0.5em;}#sk-container-id-14 div.sk-estimator:hover {background-color: #d4ebff;}#sk-container-id-14 div.sk-parallel-item::after {content: \"\";width: 100%;border-bottom: 1px solid gray;flex-grow: 1;}#sk-container-id-14 div.sk-label:hover label.sk-toggleable__label {background-color: #d4ebff;}#sk-container-id-14 div.sk-serial::before {content: \"\";position: absolute;border-left: 1px solid gray;box-sizing: border-box;top: 0;bottom: 0;left: 50%;z-index: 0;}#sk-container-id-14 div.sk-serial {display: flex;flex-direction: column;align-items: center;background-color: white;padding-right: 0.2em;padding-left: 0.2em;position: relative;}#sk-container-id-14 div.sk-item {position: relative;z-index: 1;}#sk-container-id-14 div.sk-parallel {display: flex;align-items: stretch;justify-content: center;background-color: white;position: relative;}#sk-container-id-14 div.sk-item::before, #sk-container-id-14 div.sk-parallel-item::before {content: \"\";position: absolute;border-left: 1px solid gray;box-sizing: border-box;top: 0;bottom: 0;left: 50%;z-index: -1;}#sk-container-id-14 div.sk-parallel-item {display: flex;flex-direction: column;z-index: 1;position: relative;background-color: white;}#sk-container-id-14 div.sk-parallel-item:first-child::after {align-self: flex-end;width: 50%;}#sk-container-id-14 div.sk-parallel-item:last-child::after {align-self: flex-start;width: 50%;}#sk-container-id-14 div.sk-parallel-item:only-child::after {width: 0;}#sk-container-id-14 div.sk-dashed-wrapped {border: 1px dashed gray;margin: 0 0.4em 0.5em 0.4em;box-sizing: border-box;padding-bottom: 0.4em;background-color: white;}#sk-container-id-14 div.sk-label label {font-family: monospace;font-weight: bold;display: inline-block;line-height: 1.2em;}#sk-container-id-14 div.sk-label-container {text-align: center;}#sk-container-id-14 div.sk-container {/* jupyter's `normalize.less` sets `[hidden] { display: none; }` but bootstrap.min.css set `[hidden] { display: none !important; }` so we also need the `!important` here to be able to override the default hidden behavior on the sphinx rendered scikit-learn.org. See: https://github.com/scikit-learn/scikit-learn/issues/21755 */display: inline-block !important;position: relative;}#sk-container-id-14 div.sk-text-repr-fallback {display: none;}</style><div id=\"sk-container-id-14\" class=\"sk-top-container\"><div class=\"sk-text-repr-fallback\"><pre>XGBClassifier(base_score=None, booster=None, callbacks=None,\n",
       "              colsample_bylevel=None, colsample_bynode=None,\n",
       "              colsample_bytree=None, early_stopping_rounds=None,\n",
       "              enable_categorical=False, eval_metric=None, feature_types=None,\n",
       "              gamma=None, gpu_id=None, grow_policy=None, importance_type=None,\n",
       "              interaction_constraints=None, learning_rate=0.05, max_bin=None,\n",
       "              max_cat_threshold=None, max_cat_to_onehot=None,\n",
       "              max_delta_step=None, max_depth=2, max_leaves=None,\n",
       "              min_child_weight=None, missing=nan, monotone_constraints=None,\n",
       "              n_estimators=250, n_jobs=None, num_parallel_tree=None,\n",
       "              predictor=None, random_state=3, ...)</pre><b>In a Jupyter environment, please rerun this cell to show the HTML representation or trust the notebook. <br />On GitHub, the HTML representation is unable to render, please try loading this page with nbviewer.org.</b></div><div class=\"sk-container\" hidden><div class=\"sk-item\"><div class=\"sk-estimator sk-toggleable\"><input class=\"sk-toggleable__control sk-hidden--visually\" id=\"sk-estimator-id-14\" type=\"checkbox\" checked><label for=\"sk-estimator-id-14\" class=\"sk-toggleable__label sk-toggleable__label-arrow\">XGBClassifier</label><div class=\"sk-toggleable__content\"><pre>XGBClassifier(base_score=None, booster=None, callbacks=None,\n",
       "              colsample_bylevel=None, colsample_bynode=None,\n",
       "              colsample_bytree=None, early_stopping_rounds=None,\n",
       "              enable_categorical=False, eval_metric=None, feature_types=None,\n",
       "              gamma=None, gpu_id=None, grow_policy=None, importance_type=None,\n",
       "              interaction_constraints=None, learning_rate=0.05, max_bin=None,\n",
       "              max_cat_threshold=None, max_cat_to_onehot=None,\n",
       "              max_delta_step=None, max_depth=2, max_leaves=None,\n",
       "              min_child_weight=None, missing=nan, monotone_constraints=None,\n",
       "              n_estimators=250, n_jobs=None, num_parallel_tree=None,\n",
       "              predictor=None, random_state=3, ...)</pre></div></div></div></div></div>"
      ]
     },
     "execution_count": 416,
     "metadata": {},
     "output_type": "execute_result"
    }
   ],
   "execution_count": 416
  },
  {
   "cell_type": "code",
   "source": [
    "previsoes_xg = xg.predict(x_teste)\n",
    "previsoes_xg"
   ],
   "metadata": {
    "collapsed": false,
    "ExecuteTime": {
     "end_time": "2024-04-09T03:39:58.642397Z",
     "start_time": "2024-04-09T03:39:58.629227Z"
    }
   },
   "id": "78d75dea36eb897",
   "outputs": [
    {
     "data": {
      "text/plain": [
       "array([1, 1, 1, 0, 0, 0, 0, 0, 0, 0, 1, 1, 1, 1, 0, 1, 1, 1, 1, 0, 1, 1,\n",
       "       1, 0, 0, 0, 1, 1, 1, 1, 1, 0, 0, 0, 1, 0, 0, 0, 1, 0, 0, 1, 1, 1,\n",
       "       1, 0, 0, 1, 0, 1, 1, 0, 0, 0, 1, 0, 0, 0, 1, 0, 1, 1, 1, 0, 1, 1,\n",
       "       1, 0, 1, 0, 1, 1, 0, 1, 1, 1, 1, 1, 1, 1, 1, 1, 0, 0, 1, 1, 1, 1,\n",
       "       1, 0, 1, 0, 0, 0, 1, 0, 1, 0, 0, 0, 0, 1, 1, 1, 0, 1, 0, 0, 0, 1,\n",
       "       0, 1, 1, 1, 0, 1, 0, 1, 1, 1, 1, 1, 1, 0, 1, 1, 0, 1, 0, 1, 0, 1,\n",
       "       1, 1, 0, 0, 0, 1, 1, 0, 0, 1, 0, 1, 0, 0, 1, 1, 1, 0, 0, 1, 1, 0,\n",
       "       1, 0, 1, 1, 1, 0, 1, 1, 1, 0, 1, 0, 1, 0, 1, 0, 1, 1, 0, 0, 1, 0,\n",
       "       1, 0, 0, 1, 1, 1, 0, 1, 1, 1, 0, 1, 1, 0, 1, 0, 1, 1, 1, 1, 0, 0,\n",
       "       1, 0, 1, 1, 0, 1, 1, 0, 0, 0, 1, 0, 1, 1, 0, 1, 0, 0, 1, 0, 1, 1,\n",
       "       1, 0, 0, 1, 1, 1, 0, 1, 0, 1, 0, 1, 1, 1, 0, 1, 1, 1, 0, 1, 1, 0,\n",
       "       1, 0, 0, 0, 0, 0, 1, 0, 1, 0, 1, 1, 0, 0, 1, 0, 0, 1, 0, 0, 1, 0,\n",
       "       1, 0, 0, 0, 1, 0, 0, 1, 1, 1, 1, 1])"
      ]
     },
     "execution_count": 417,
     "metadata": {},
     "output_type": "execute_result"
    }
   ],
   "execution_count": 417
  },
  {
   "cell_type": "code",
   "source": [
    "y_teste"
   ],
   "metadata": {
    "collapsed": false,
    "ExecuteTime": {
     "end_time": "2024-04-09T03:39:58.657559Z",
     "start_time": "2024-04-09T03:39:58.645396Z"
    }
   },
   "id": "585f8d2ada7f770f",
   "outputs": [
    {
     "data": {
      "text/plain": [
       "array([1, 0, 1, 0, 0, 0, 0, 0, 0, 0, 1, 0, 1, 1, 0, 1, 1, 1, 1, 0, 1, 1,\n",
       "       1, 0, 0, 0, 1, 1, 0, 0, 1, 0, 0, 0, 1, 0, 1, 0, 1, 0, 0, 1, 1, 1,\n",
       "       1, 0, 0, 1, 1, 1, 1, 0, 0, 1, 1, 0, 0, 0, 1, 0, 1, 1, 1, 0, 1, 1,\n",
       "       1, 0, 1, 0, 1, 1, 1, 1, 1, 1, 1, 1, 1, 0, 0, 1, 0, 0, 1, 1, 0, 1,\n",
       "       1, 0, 1, 0, 0, 1, 1, 0, 1, 0, 0, 0, 0, 1, 1, 1, 0, 1, 0, 0, 0, 1,\n",
       "       0, 1, 1, 1, 0, 1, 1, 1, 1, 1, 1, 1, 1, 0, 0, 1, 0, 1, 0, 1, 0, 1,\n",
       "       0, 1, 0, 0, 0, 1, 1, 0, 1, 1, 0, 1, 0, 0, 1, 1, 1, 0, 1, 1, 0, 0,\n",
       "       0, 0, 1, 1, 1, 0, 1, 1, 1, 0, 1, 0, 1, 0, 1, 0, 1, 1, 0, 0, 1, 0,\n",
       "       0, 1, 0, 1, 1, 1, 0, 1, 1, 1, 0, 1, 1, 0, 0, 0, 1, 1, 1, 1, 1, 0,\n",
       "       1, 0, 1, 1, 0, 1, 1, 0, 0, 0, 1, 0, 1, 1, 0, 1, 0, 1, 1, 1, 1, 1,\n",
       "       1, 1, 0, 0, 0, 1, 0, 1, 1, 1, 0, 1, 0, 1, 1, 1, 1, 1, 0, 1, 1, 0,\n",
       "       1, 0, 1, 0, 0, 0, 1, 0, 1, 0, 1, 1, 0, 0, 1, 0, 0, 1, 0, 1, 1, 0,\n",
       "       0, 0, 0, 0, 1, 0, 0, 1, 1, 1, 1, 1], dtype=int64)"
      ]
     },
     "execution_count": 418,
     "metadata": {},
     "output_type": "execute_result"
    }
   ],
   "execution_count": 418
  },
  {
   "cell_type": "code",
   "source": [
    "from sklearn.metrics import accuracy_score, confusion_matrix, classification_report"
   ],
   "metadata": {
    "collapsed": false,
    "ExecuteTime": {
     "end_time": "2024-04-09T03:39:58.673549Z",
     "start_time": "2024-04-09T03:39:58.660561Z"
    }
   },
   "id": "5322d77cca94317c",
   "outputs": [],
   "execution_count": 419
  },
  {
   "cell_type": "code",
   "source": [
    "print(f'''Acurácia: {accuracy_score(y_teste, previsoes_xg)*100:.2f}%''')"
   ],
   "metadata": {
    "collapsed": false,
    "ExecuteTime": {
     "end_time": "2024-04-09T03:39:58.689592Z",
     "start_time": "2024-04-09T03:39:58.676547Z"
    }
   },
   "id": "e20c53c0358342cf",
   "outputs": [
    {
     "name": "stdout",
     "output_type": "stream",
     "text": [
      "Acurácia: 87.68%\n"
     ]
    }
   ],
   "execution_count": 420
  },
  {
   "cell_type": "code",
   "source": [
    "confusion_matrix(y_teste, previsoes_xg)"
   ],
   "metadata": {
    "collapsed": false,
    "ExecuteTime": {
     "end_time": "2024-04-09T03:39:58.704767Z",
     "start_time": "2024-04-09T03:39:58.691591Z"
    }
   },
   "id": "a8abdb2cae353fb0",
   "outputs": [
    {
     "data": {
      "text/plain": [
       "array([[104,  17],\n",
       "       [ 17, 138]], dtype=int64)"
      ]
     },
     "execution_count": 421,
     "metadata": {},
     "output_type": "execute_result"
    }
   ],
   "execution_count": 421
  },
  {
   "cell_type": "code",
   "source": [
    "print(classification_report(y_teste, previsoes_xg))"
   ],
   "metadata": {
    "collapsed": false,
    "ExecuteTime": {
     "end_time": "2024-04-09T03:39:58.735535Z",
     "start_time": "2024-04-09T03:39:58.706766Z"
    }
   },
   "id": "29b8e4183b9c3b44",
   "outputs": [
    {
     "name": "stdout",
     "output_type": "stream",
     "text": [
      "              precision    recall  f1-score   support\n",
      "\n",
      "           0       0.86      0.86      0.86       121\n",
      "           1       0.89      0.89      0.89       155\n",
      "\n",
      "    accuracy                           0.88       276\n",
      "   macro avg       0.87      0.87      0.87       276\n",
      "weighted avg       0.88      0.88      0.88       276\n",
      "\n"
     ]
    }
   ],
   "execution_count": 422
  },
  {
   "cell_type": "code",
   "source": [
    "# Análise dados de treino\n",
    "previsoes_treino = xg.predict(x_treino)\n",
    "previsoes_treino"
   ],
   "metadata": {
    "collapsed": false,
    "ExecuteTime": {
     "end_time": "2024-04-09T03:39:58.765820Z",
     "start_time": "2024-04-09T03:39:58.738532Z"
    }
   },
   "id": "a4095260285282f9",
   "outputs": [
    {
     "data": {
      "text/plain": [
       "array([1, 0, 1, 1, 1, 1, 0, 0, 0, 0, 1, 0, 1, 1, 1, 0, 0, 0, 0, 1, 0, 1,\n",
       "       1, 1, 1, 0, 0, 1, 1, 1, 1, 0, 1, 1, 0, 0, 1, 1, 0, 1, 0, 1, 0, 0,\n",
       "       1, 1, 0, 1, 1, 1, 0, 0, 1, 0, 1, 0, 1, 0, 1, 0, 0, 0, 1, 0, 1, 1,\n",
       "       0, 0, 1, 0, 1, 1, 1, 1, 0, 0, 1, 1, 1, 1, 1, 1, 1, 1, 0, 1, 1, 1,\n",
       "       1, 1, 0, 1, 0, 0, 1, 1, 1, 1, 1, 1, 1, 1, 0, 1, 1, 1, 1, 0, 1, 1,\n",
       "       0, 0, 1, 0, 1, 0, 1, 0, 1, 0, 0, 0, 0, 1, 0, 1, 1, 0, 1, 1, 1, 0,\n",
       "       1, 1, 0, 0, 1, 0, 1, 1, 0, 1, 1, 1, 1, 1, 0, 0, 0, 1, 1, 0, 1, 0,\n",
       "       1, 0, 1, 1, 1, 0, 1, 0, 0, 0, 1, 0, 1, 0, 0, 0, 0, 1, 1, 0, 1, 0,\n",
       "       0, 1, 1, 0, 0, 0, 0, 0, 0, 1, 1, 1, 1, 1, 0, 0, 1, 0, 0, 1, 1, 1,\n",
       "       1, 1, 0, 0, 0, 1, 1, 1, 1, 1, 0, 0, 1, 0, 1, 1, 1, 1, 1, 0, 0, 1,\n",
       "       1, 0, 0, 1, 1, 1, 1, 1, 1, 1, 1, 1, 0, 1, 1, 0, 1, 0, 1, 0, 1, 0,\n",
       "       1, 1, 0, 1, 1, 1, 1, 1, 1, 1, 0, 0, 0, 0, 0, 0, 0, 0, 0, 0, 1, 0,\n",
       "       1, 0, 1, 1, 1, 0, 1, 1, 0, 0, 0, 1, 1, 0, 0, 0, 1, 0, 0, 0, 1, 1,\n",
       "       1, 1, 1, 1, 1, 0, 1, 1, 0, 1, 0, 1, 0, 1, 1, 0, 0, 1, 0, 1, 1, 1,\n",
       "       1, 0, 1, 0, 1, 0, 1, 0, 1, 1, 1, 0, 1, 1, 1, 1, 0, 1, 1, 1, 1, 0,\n",
       "       0, 0, 1, 0, 0, 0, 1, 1, 0, 1, 1, 1, 1, 1, 1, 0, 1, 1, 0, 1, 0, 1,\n",
       "       0, 0, 0, 1, 0, 1, 1, 1, 0, 1, 0, 1, 1, 0, 0, 0, 0, 0, 1, 1, 0, 1,\n",
       "       0, 1, 1, 1, 0, 1, 1, 1, 0, 1, 0, 1, 0, 0, 1, 1, 0, 1, 1, 1, 1, 1,\n",
       "       0, 0, 0, 1, 1, 1, 1, 0, 1, 1, 1, 1, 0, 0, 0, 1, 0, 1, 1, 1, 0, 0,\n",
       "       0, 1, 1, 0, 0, 1, 1, 0, 1, 1, 0, 0, 0, 1, 1, 0, 1, 1, 1, 1, 1, 1,\n",
       "       0, 0, 1, 1, 0, 1, 0, 1, 0, 0, 1, 0, 1, 1, 1, 1, 0, 0, 0, 1, 0, 1,\n",
       "       1, 1, 1, 1, 1, 0, 1, 0, 1, 1, 1, 1, 1, 1, 1, 0, 0, 0, 1, 0, 0, 0,\n",
       "       0, 0, 1, 0, 1, 1, 0, 0, 0, 1, 1, 0, 0, 1, 1, 0, 1, 1, 0, 0, 1, 1,\n",
       "       1, 1, 0, 0, 1, 1, 1, 1, 0, 1, 0, 0, 1, 0, 1, 1, 1, 1, 0, 1, 1, 0,\n",
       "       1, 0, 1, 0, 1, 0, 1, 0, 1, 0, 1, 1, 0, 1, 1, 1, 1, 0, 0, 1, 1, 0,\n",
       "       0, 1, 1, 0, 1, 0, 1, 1, 1, 0, 1, 1, 1, 0, 0, 1, 1, 0, 1, 1, 0, 1,\n",
       "       1, 1, 0, 0, 1, 0, 0, 0, 0, 0, 0, 1, 1, 1, 1, 0, 1, 0, 0, 0, 0, 0,\n",
       "       0, 0, 1, 0, 0, 0, 0, 0, 0, 0, 1, 0, 1, 1, 0, 1, 1, 1, 1, 1, 0, 1,\n",
       "       1, 1, 0, 1, 1, 0, 1, 1, 1, 1, 1, 1, 0, 1, 1, 0, 0, 1, 1, 0, 1, 0,\n",
       "       0, 0, 1])"
      ]
     },
     "execution_count": 423,
     "metadata": {},
     "output_type": "execute_result"
    }
   ],
   "execution_count": 423
  },
  {
   "cell_type": "code",
   "source": [
    "accuracy_score(y_treino, previsoes_treino)"
   ],
   "metadata": {
    "collapsed": false,
    "ExecuteTime": {
     "end_time": "2024-04-09T03:39:58.797527Z",
     "start_time": "2024-04-09T03:39:58.775420Z"
    }
   },
   "id": "90efbd4195ffa90f",
   "outputs": [
    {
     "data": {
      "text/plain": [
       "0.9157566302652106"
      ]
     },
     "execution_count": 424,
     "metadata": {},
     "output_type": "execute_result"
    }
   ],
   "execution_count": 424
  },
  {
   "cell_type": "code",
   "source": [
    "confusion_matrix(y_treino, previsoes_treino)"
   ],
   "metadata": {
    "collapsed": false,
    "ExecuteTime": {
     "end_time": "2024-04-09T03:39:58.812634Z",
     "start_time": "2024-04-09T03:39:58.800525Z"
    }
   },
   "id": "1ccde07b66763af9",
   "outputs": [
    {
     "data": {
      "text/plain": [
       "array([[254,  35],\n",
       "       [ 19, 333]], dtype=int64)"
      ]
     },
     "execution_count": 425,
     "metadata": {},
     "output_type": "execute_result"
    }
   ],
   "execution_count": 425
  },
  {
   "cell_type": "code",
   "source": [
    "# Validação Cruzada\n",
    "from sklearn.model_selection import KFold\n",
    "from sklearn.model_selection import cross_val_score"
   ],
   "metadata": {
    "collapsed": false,
    "ExecuteTime": {
     "end_time": "2024-04-09T03:39:58.828260Z",
     "start_time": "2024-04-09T03:39:58.814632Z"
    }
   },
   "id": "9487e59b9353793b",
   "outputs": [],
   "execution_count": 426
  },
  {
   "cell_type": "code",
   "source": [
    "# Separando os dados em folds\n",
    "kfold = KFold(n_splits=30, shuffle=True, random_state=5)"
   ],
   "metadata": {
    "collapsed": false,
    "ExecuteTime": {
     "end_time": "2024-04-09T03:39:58.844379Z",
     "start_time": "2024-04-09T03:39:58.831257Z"
    }
   },
   "id": "4fc03443bdfa3a96",
   "outputs": [],
   "execution_count": 427
  },
  {
   "cell_type": "code",
   "source": [
    "# Criando o modelo\n",
    "modelo = XGBClassifier(max_depth=2, learning_rate=0.05, n_estimators=250, objective='binary:logistic', random_state=3)\n",
    "resultado = cross_val_score(modelo, previsores, alvo, cv=kfold)\n",
    "resultado"
   ],
   "metadata": {
    "collapsed": false,
    "ExecuteTime": {
     "end_time": "2024-04-09T03:40:01.675456Z",
     "start_time": "2024-04-09T03:39:58.847443Z"
    }
   },
   "id": "4313a09fee34918",
   "outputs": [
    {
     "data": {
      "text/plain": [
       "array([0.87096774, 0.93548387, 0.83870968, 0.90322581, 0.93548387,\n",
       "       0.87096774, 0.80645161, 0.87096774, 0.83870968, 0.80645161,\n",
       "       0.83870968, 0.83870968, 0.96774194, 0.90322581, 0.87096774,\n",
       "       0.90322581, 0.83870968, 0.96666667, 0.93333333, 0.93333333,\n",
       "       0.76666667, 0.83333333, 0.9       , 0.7       , 0.86666667,\n",
       "       0.96666667, 0.86666667, 0.86666667, 0.83333333, 0.86666667])"
      ]
     },
     "execution_count": 428,
     "metadata": {},
     "output_type": "execute_result"
    }
   ],
   "execution_count": 428
  },
  {
   "cell_type": "code",
   "source": [
    "# Usando a média e o desvio padrão\n",
    "print(f'Acurácia Média: {resultado.mean()*100:.2f}%')"
   ],
   "metadata": {
    "collapsed": false,
    "ExecuteTime": {
     "end_time": "2024-04-09T03:40:01.690725Z",
     "start_time": "2024-04-09T03:40:01.678621Z"
    }
   },
   "id": "4c9e3f72ac022035",
   "outputs": [
    {
     "name": "stdout",
     "output_type": "stream",
     "text": [
      "Acurácia Média: 87.13%\n"
     ]
    }
   ],
   "execution_count": 429
  },
  {
   "cell_type": "markdown",
   "source": [
    "# 59. Light GBM: teoria"
   ],
   "metadata": {
    "collapsed": false
   },
   "id": "b9f3fd88777a294b"
  },
  {
   "cell_type": "code",
   "source": [
    "# Light Gradient Boosting Machine\n",
    "\"\"\"\n",
    "> Baseado em árvores de decisão;\n",
    "> É uma evolução do Gradient Boosting e do Random Forest;\n",
    "> Alta velocidade de processamento;\n",
    "> No LGBM a árvore cresce em folhas ao invés de níveis;\n",
    "\n",
    "Observações:\n",
    "> O LGBM é feito para trabalhar com grandes quantidades de dados.\n",
    "> Possui mais de 100 hiperparâmetros;\n",
    "\"\"\""
   ],
   "metadata": {
    "collapsed": false,
    "ExecuteTime": {
     "end_time": "2024-04-09T03:40:01.706716Z",
     "start_time": "2024-04-09T03:40:01.693726Z"
    }
   },
   "id": "e1e638cd08f85196",
   "outputs": [
    {
     "data": {
      "text/plain": [
       "'\\n> Baseado em árvores de decisão;\\n> É uma evolução do Gradient Boosting e do Random Forest;\\n> Alta velocidade de processamento;\\n> No LGBM a árvore cresce em folhas ao invés de níveis;\\n\\nObservações:\\n> O LGBM é feito para trabalhar com grandes quantidades de dados.\\n> Possui mais de 100 hiperparâmetros;\\n'"
      ]
     },
     "execution_count": 430,
     "metadata": {},
     "output_type": "execute_result"
    }
   ],
   "execution_count": 430
  },
  {
   "cell_type": "markdown",
   "source": [
    "# 60. LGBM no Python"
   ],
   "metadata": {
    "collapsed": false
   },
   "id": "884e459d40fada5b"
  },
  {
   "cell_type": "code",
   "source": [
    "# LGMB\n",
    "\"\"\"https://lightgbm.readthedocs.io/en/latest/pythonapi/lightgbm.train.html\"\"\""
   ],
   "metadata": {
    "collapsed": false,
    "ExecuteTime": {
     "end_time": "2024-04-09T03:40:01.722269Z",
     "start_time": "2024-04-09T03:40:01.709717Z"
    }
   },
   "id": "d5927bd94a3676bb",
   "outputs": [
    {
     "data": {
      "text/plain": [
       "'https://lightgbm.readthedocs.io/en/latest/pythonapi/lightgbm.train.html'"
      ]
     },
     "execution_count": 431,
     "metadata": {},
     "output_type": "execute_result"
    }
   ],
   "execution_count": 431
  },
  {
   "cell_type": "code",
   "source": [
    "import lightgbm as lgb"
   ],
   "metadata": {
    "collapsed": false,
    "ExecuteTime": {
     "end_time": "2024-04-09T03:40:01.737496Z",
     "start_time": "2024-04-09T03:40:01.725332Z"
    }
   },
   "id": "b806c3b8398d5a2",
   "outputs": [],
   "execution_count": 432
  },
  {
   "cell_type": "code",
   "source": [
    "# Dataset para treino\n",
    "dataset = lgb.Dataset(x_treino, label=y_treino)"
   ],
   "metadata": {
    "collapsed": false,
    "ExecuteTime": {
     "end_time": "2024-04-09T03:40:01.752712Z",
     "start_time": "2024-04-09T03:40:01.740551Z"
    }
   },
   "id": "ef9e4dcf63a11cc3",
   "outputs": [],
   "execution_count": 433
  },
  {
   "cell_type": "code",
   "source": [
    "# Parâmetros\n",
    "parametros = {\n",
    "    'num_leaves':250,\n",
    "    'objective':'binary',\n",
    "    'max_depth':2,\n",
    "    'learning_rate':0.05,\n",
    "    'max_bin':250\n",
    "}"
   ],
   "metadata": {
    "collapsed": false,
    "ExecuteTime": {
     "end_time": "2024-04-09T03:40:01.767929Z",
     "start_time": "2024-04-09T03:40:01.755710Z"
    }
   },
   "id": "ddd77565d81e38fd",
   "outputs": [],
   "execution_count": 434
  },
  {
   "cell_type": "code",
   "source": [
    "lgbm = lgb.train(parametros, dataset, num_boost_round=150)"
   ],
   "metadata": {
    "collapsed": false,
    "ExecuteTime": {
     "end_time": "2024-04-09T03:40:01.813517Z",
     "start_time": "2024-04-09T03:40:01.770927Z"
    }
   },
   "id": "9923d11e7a0ff11e",
   "outputs": [
    {
     "name": "stdout",
     "output_type": "stream",
     "text": [
      "[LightGBM] [Info] Number of positive: 352, number of negative: 289\n",
      "[LightGBM] [Info] Auto-choosing row-wise multi-threading, the overhead of testing was 0.000276 seconds.\n",
      "You can set `force_row_wise=true` to remove the overhead.\n",
      "And if memory is not enough, you can set `force_col_wise=true`.\n",
      "[LightGBM] [Info] Total Bins 354\n",
      "[LightGBM] [Info] Number of data points in the train set: 641, number of used features: 11\n",
      "[LightGBM] [Info] [binary:BoostFromScore]: pavg=0.549142 -> initscore=0.197204\n",
      "[LightGBM] [Info] Start training from score 0.197204\n"
     ]
    }
   ],
   "execution_count": 435
  },
  {
   "cell_type": "code",
   "source": [
    "\"\"\"# Marcação de tempo de execução\n",
    "from datetime import datetime\n",
    "inicio = datetime.now()\n",
    "lgbm = lgb.train(parametros, dataset)\n",
    "fim = datetime.now()\n",
    "print(f'Tempo de execução: {fim - inicio}')\"\"\""
   ],
   "metadata": {
    "collapsed": false,
    "ExecuteTime": {
     "end_time": "2024-04-09T03:40:01.829139Z",
     "start_time": "2024-04-09T03:40:01.816516Z"
    }
   },
   "id": "b5b590b811353aff",
   "outputs": [
    {
     "data": {
      "text/plain": [
       "\"# Marcação de tempo de execução\\nfrom datetime import datetime\\ninicio = datetime.now()\\nlgbm = lgb.train(parametros, dataset)\\nfim = datetime.now()\\nprint(f'Tempo de execução: {fim - inicio}')\""
      ]
     },
     "execution_count": 436,
     "metadata": {},
     "output_type": "execute_result"
    }
   ],
   "execution_count": 436
  },
  {
   "cell_type": "code",
   "source": [
    "previsoes_lgbm = lgbm.predict(x_teste)\n",
    "previsoes_lgbm"
   ],
   "metadata": {
    "collapsed": false,
    "ExecuteTime": {
     "end_time": "2024-04-09T03:40:01.860055Z",
     "start_time": "2024-04-09T03:40:01.831645Z"
    }
   },
   "id": "22d22d76c824327f",
   "outputs": [
    {
     "data": {
      "text/plain": [
       "array([0.89657674, 0.79376542, 0.96611784, 0.0345637 , 0.13164081,\n",
       "       0.32808911, 0.42011256, 0.02537998, 0.05898933, 0.08452429,\n",
       "       0.89221534, 0.90140987, 0.96633094, 0.9429581 , 0.41218974,\n",
       "       0.90669656, 0.66820624, 0.92499868, 0.90940891, 0.16515864,\n",
       "       0.9006004 , 0.93603904, 0.74183747, 0.22011269, 0.04246358,\n",
       "       0.02223214, 0.94077573, 0.97032438, 0.59886293, 0.61467825,\n",
       "       0.94414578, 0.04762212, 0.07400267, 0.0670975 , 0.78816801,\n",
       "       0.09527251, 0.17931325, 0.05683303, 0.66382839, 0.01511374,\n",
       "       0.02193676, 0.92546141, 0.92516916, 0.95050782, 0.95207891,\n",
       "       0.07706578, 0.01166637, 0.90214505, 0.37468361, 0.96673338,\n",
       "       0.90973708, 0.14357247, 0.10166874, 0.40031337, 0.9598319 ,\n",
       "       0.14179928, 0.08635226, 0.13797462, 0.55797668, 0.10313952,\n",
       "       0.94889437, 0.8967696 , 0.5851622 , 0.13936401, 0.95897641,\n",
       "       0.62845591, 0.95952399, 0.30669151, 0.91749655, 0.13936401,\n",
       "       0.87882209, 0.88958389, 0.31503401, 0.9598319 , 0.93522307,\n",
       "       0.8839228 , 0.78931175, 0.97690059, 0.90632897, 0.83154044,\n",
       "       0.85548596, 0.87293038, 0.12316906, 0.12302714, 0.87233051,\n",
       "       0.84036691, 0.86840409, 0.9594479 , 0.91197027, 0.19633164,\n",
       "       0.90552359, 0.32287008, 0.01446633, 0.21249939, 0.64903187,\n",
       "       0.10924735, 0.88564512, 0.04753229, 0.08574367, 0.15532787,\n",
       "       0.20222273, 0.75130453, 0.96873998, 0.90365416, 0.15599467,\n",
       "       0.92690214, 0.20862451, 0.02462251, 0.16975228, 0.72983494,\n",
       "       0.45325063, 0.96727016, 0.95568987, 0.92545045, 0.30891836,\n",
       "       0.95870254, 0.42011256, 0.95039408, 0.96369842, 0.89283643,\n",
       "       0.95649394, 0.98807298, 0.98150376, 0.07564598, 0.61707473,\n",
       "       0.61342298, 0.20117026, 0.73164264, 0.04481258, 0.95061855,\n",
       "       0.30637962, 0.97958086, 0.86166862, 0.79330531, 0.20328204,\n",
       "       0.47985297, 0.47642713, 0.96318759, 0.78739451, 0.06585713,\n",
       "       0.27353311, 0.93864794, 0.04003619, 0.91842033, 0.48589268,\n",
       "       0.04654251, 0.92924298, 0.64204563, 0.51534289, 0.34216061,\n",
       "       0.40873405, 0.92965182, 0.58358945, 0.07929172, 0.91886848,\n",
       "       0.03773233, 0.8283494 , 0.69127005, 0.79807688, 0.01837891,\n",
       "       0.96588669, 0.62294852, 0.95374477, 0.48611534, 0.90973708,\n",
       "       0.1457901 , 0.87728279, 0.01487402, 0.89669063, 0.33049634,\n",
       "       0.77574399, 0.74800747, 0.03167809, 0.16975228, 0.81491225,\n",
       "       0.46612616, 0.64674089, 0.25701429, 0.18349923, 0.68635021,\n",
       "       0.9598319 , 0.83869025, 0.13263632, 0.95597961, 0.9522421 ,\n",
       "       0.92646285, 0.16028117, 0.88234779, 0.92192263, 0.08671785,\n",
       "       0.57591004, 0.10470668, 0.95967281, 0.50785862, 0.91537999,\n",
       "       0.63239695, 0.24055161, 0.02365329, 0.85664172, 0.05707086,\n",
       "       0.95784179, 0.87435673, 0.2390999 , 0.96366387, 0.97801102,\n",
       "       0.21063862, 0.03433569, 0.06065329, 0.96243101, 0.25347668,\n",
       "       0.87360083, 0.97729563, 0.0104863 , 0.62190343, 0.10992783,\n",
       "       0.08603914, 0.92044062, 0.05016705, 0.8145629 , 0.75256075,\n",
       "       0.91287643, 0.16353824, 0.45984087, 0.58031618, 0.86963476,\n",
       "       0.9286985 , 0.08085302, 0.95078071, 0.30085282, 0.84923182,\n",
       "       0.02678492, 0.93819604, 0.71606169, 0.93102403, 0.0626857 ,\n",
       "       0.86866746, 0.71980352, 0.79090192, 0.02507046, 0.91475733,\n",
       "       0.96487581, 0.01166637, 0.91734492, 0.14479188, 0.15805441,\n",
       "       0.07680581, 0.19093731, 0.26068214, 0.94157294, 0.0740291 ,\n",
       "       0.97032438, 0.05185151, 0.78723302, 0.45270414, 0.01487561,\n",
       "       0.15075235, 0.97739898, 0.09649646, 0.04997909, 0.93012044,\n",
       "       0.06273764, 0.49782162, 0.55302045, 0.07267068, 0.52512139,\n",
       "       0.38729178, 0.01228617, 0.06606773, 0.923518  , 0.03984553,\n",
       "       0.02648392, 0.91072988, 0.94804434, 0.94524537, 0.83364459,\n",
       "       0.90318924])"
      ]
     },
     "execution_count": 437,
     "metadata": {},
     "output_type": "execute_result"
    }
   ],
   "execution_count": 437
  },
  {
   "cell_type": "code",
   "source": [
    "previsoes_lgbm.shape"
   ],
   "metadata": {
    "collapsed": false,
    "ExecuteTime": {
     "end_time": "2024-04-09T03:40:01.875231Z",
     "start_time": "2024-04-09T03:40:01.863053Z"
    }
   },
   "id": "8a21793f78d3d56",
   "outputs": [
    {
     "data": {
      "text/plain": [
       "(276,)"
      ]
     },
     "execution_count": 438,
     "metadata": {},
     "output_type": "execute_result"
    }
   ],
   "execution_count": 438
  },
  {
   "cell_type": "code",
   "source": [
    "# Quando for menor que 5 considera 0 e quando for maior ou igual a 5 considera 1\n",
    "for i in range(0, 276):\n",
    "    if previsoes_lgbm[i] >= 0.5:\n",
    "        previsoes_lgbm[i] = 1\n",
    "    else:\n",
    "        previsoes_lgbm[i] = 0"
   ],
   "metadata": {
    "collapsed": false,
    "ExecuteTime": {
     "end_time": "2024-04-09T03:40:01.890922Z",
     "start_time": "2024-04-09T03:40:01.878786Z"
    }
   },
   "id": "69124d1e450644e3",
   "outputs": [],
   "execution_count": 439
  },
  {
   "cell_type": "code",
   "source": [
    "previsoes_lgbm"
   ],
   "metadata": {
    "collapsed": false,
    "ExecuteTime": {
     "end_time": "2024-04-09T03:40:01.922183Z",
     "start_time": "2024-04-09T03:40:01.892921Z"
    }
   },
   "id": "833db2a909420920",
   "outputs": [
    {
     "data": {
      "text/plain": [
       "array([1., 1., 1., 0., 0., 0., 0., 0., 0., 0., 1., 1., 1., 1., 0., 1., 1.,\n",
       "       1., 1., 0., 1., 1., 1., 0., 0., 0., 1., 1., 1., 1., 1., 0., 0., 0.,\n",
       "       1., 0., 0., 0., 1., 0., 0., 1., 1., 1., 1., 0., 0., 1., 0., 1., 1.,\n",
       "       0., 0., 0., 1., 0., 0., 0., 1., 0., 1., 1., 1., 0., 1., 1., 1., 0.,\n",
       "       1., 0., 1., 1., 0., 1., 1., 1., 1., 1., 1., 1., 1., 1., 0., 0., 1.,\n",
       "       1., 1., 1., 1., 0., 1., 0., 0., 0., 1., 0., 1., 0., 0., 0., 0., 1.,\n",
       "       1., 1., 0., 1., 0., 0., 0., 1., 0., 1., 1., 1., 0., 1., 0., 1., 1.,\n",
       "       1., 1., 1., 1., 0., 1., 1., 0., 1., 0., 1., 0., 1., 1., 1., 0., 0.,\n",
       "       0., 1., 1., 0., 0., 1., 0., 1., 0., 0., 1., 1., 1., 0., 0., 1., 1.,\n",
       "       0., 1., 0., 1., 1., 1., 0., 1., 1., 1., 0., 1., 0., 1., 0., 1., 0.,\n",
       "       1., 1., 0., 0., 1., 0., 1., 0., 0., 1., 1., 1., 0., 1., 1., 1., 0.,\n",
       "       1., 1., 0., 1., 0., 1., 1., 1., 1., 0., 0., 1., 0., 1., 1., 0., 1.,\n",
       "       1., 0., 0., 0., 1., 0., 1., 1., 0., 1., 0., 0., 1., 0., 1., 1., 1.,\n",
       "       0., 0., 1., 1., 1., 0., 1., 0., 1., 0., 1., 1., 1., 0., 1., 1., 1.,\n",
       "       0., 1., 1., 0., 1., 0., 0., 0., 0., 0., 1., 0., 1., 0., 1., 0., 0.,\n",
       "       0., 1., 0., 0., 1., 0., 0., 1., 0., 1., 0., 0., 0., 1., 0., 0., 1.,\n",
       "       1., 1., 1., 1.])"
      ]
     },
     "execution_count": 440,
     "metadata": {},
     "output_type": "execute_result"
    }
   ],
   "execution_count": 440
  },
  {
   "cell_type": "code",
   "source": [
    "y_teste"
   ],
   "metadata": {
    "collapsed": false,
    "ExecuteTime": {
     "end_time": "2024-04-09T03:40:01.937680Z",
     "start_time": "2024-04-09T03:40:01.925687Z"
    }
   },
   "id": "8dd2dfabc0d823e2",
   "outputs": [
    {
     "data": {
      "text/plain": [
       "array([1, 0, 1, 0, 0, 0, 0, 0, 0, 0, 1, 0, 1, 1, 0, 1, 1, 1, 1, 0, 1, 1,\n",
       "       1, 0, 0, 0, 1, 1, 0, 0, 1, 0, 0, 0, 1, 0, 1, 0, 1, 0, 0, 1, 1, 1,\n",
       "       1, 0, 0, 1, 1, 1, 1, 0, 0, 1, 1, 0, 0, 0, 1, 0, 1, 1, 1, 0, 1, 1,\n",
       "       1, 0, 1, 0, 1, 1, 1, 1, 1, 1, 1, 1, 1, 0, 0, 1, 0, 0, 1, 1, 0, 1,\n",
       "       1, 0, 1, 0, 0, 1, 1, 0, 1, 0, 0, 0, 0, 1, 1, 1, 0, 1, 0, 0, 0, 1,\n",
       "       0, 1, 1, 1, 0, 1, 1, 1, 1, 1, 1, 1, 1, 0, 0, 1, 0, 1, 0, 1, 0, 1,\n",
       "       0, 1, 0, 0, 0, 1, 1, 0, 1, 1, 0, 1, 0, 0, 1, 1, 1, 0, 1, 1, 0, 0,\n",
       "       0, 0, 1, 1, 1, 0, 1, 1, 1, 0, 1, 0, 1, 0, 1, 0, 1, 1, 0, 0, 1, 0,\n",
       "       0, 1, 0, 1, 1, 1, 0, 1, 1, 1, 0, 1, 1, 0, 0, 0, 1, 1, 1, 1, 1, 0,\n",
       "       1, 0, 1, 1, 0, 1, 1, 0, 0, 0, 1, 0, 1, 1, 0, 1, 0, 1, 1, 1, 1, 1,\n",
       "       1, 1, 0, 0, 0, 1, 0, 1, 1, 1, 0, 1, 0, 1, 1, 1, 1, 1, 0, 1, 1, 0,\n",
       "       1, 0, 1, 0, 0, 0, 1, 0, 1, 0, 1, 1, 0, 0, 1, 0, 0, 1, 0, 1, 1, 0,\n",
       "       0, 0, 0, 0, 1, 0, 0, 1, 1, 1, 1, 1], dtype=int64)"
      ]
     },
     "execution_count": 441,
     "metadata": {},
     "output_type": "execute_result"
    }
   ],
   "execution_count": 441
  },
  {
   "cell_type": "code",
   "source": [
    "from sklearn.metrics import accuracy_score, confusion_matrix, classification_report"
   ],
   "metadata": {
    "collapsed": false,
    "ExecuteTime": {
     "end_time": "2024-04-09T03:40:01.953896Z",
     "start_time": "2024-04-09T03:40:01.940678Z"
    }
   },
   "id": "4fb7f00fdc48870",
   "outputs": [],
   "execution_count": 442
  },
  {
   "cell_type": "code",
   "source": [
    "print(f'''Acurácia: {accuracy_score(y_teste, previsoes_lgbm)*100:.2f}%''')"
   ],
   "metadata": {
    "collapsed": false,
    "ExecuteTime": {
     "end_time": "2024-04-09T03:40:01.969129Z",
     "start_time": "2024-04-09T03:40:01.955935Z"
    }
   },
   "id": "685d6ba947c86d6e",
   "outputs": [
    {
     "name": "stdout",
     "output_type": "stream",
     "text": [
      "Acurácia: 87.32%\n"
     ]
    }
   ],
   "execution_count": 443
  },
  {
   "cell_type": "code",
   "source": [
    "confusion_matrix(y_teste, previsoes_lgbm)"
   ],
   "metadata": {
    "collapsed": false,
    "ExecuteTime": {
     "end_time": "2024-04-09T03:40:01.984339Z",
     "start_time": "2024-04-09T03:40:01.971183Z"
    }
   },
   "id": "6b491ae24db417da",
   "outputs": [
    {
     "data": {
      "text/plain": [
       "array([[104,  17],\n",
       "       [ 18, 137]], dtype=int64)"
      ]
     },
     "execution_count": 444,
     "metadata": {},
     "output_type": "execute_result"
    }
   ],
   "execution_count": 444
  },
  {
   "cell_type": "code",
   "source": [
    "print(classification_report(y_teste, previsoes_lgbm))"
   ],
   "metadata": {
    "collapsed": false,
    "ExecuteTime": {
     "end_time": "2024-04-09T03:40:02.014849Z",
     "start_time": "2024-04-09T03:40:01.986339Z"
    }
   },
   "id": "5cb3146290550a9e",
   "outputs": [
    {
     "name": "stdout",
     "output_type": "stream",
     "text": [
      "              precision    recall  f1-score   support\n",
      "\n",
      "           0       0.85      0.86      0.86       121\n",
      "           1       0.89      0.88      0.89       155\n",
      "\n",
      "    accuracy                           0.87       276\n",
      "   macro avg       0.87      0.87      0.87       276\n",
      "weighted avg       0.87      0.87      0.87       276\n",
      "\n"
     ]
    }
   ],
   "execution_count": 445
  },
  {
   "cell_type": "code",
   "source": [
    "# Análise dados de treino\n",
    "previsoes_treino = lgbm.predict(x_treino)\n",
    "previsoes_treino"
   ],
   "metadata": {
    "collapsed": false,
    "ExecuteTime": {
     "end_time": "2024-04-09T03:40:02.065106Z",
     "start_time": "2024-04-09T03:40:02.017871Z"
    }
   },
   "id": "d1da8274c1dfccd",
   "outputs": [
    {
     "data": {
      "text/plain": [
       "array([0.91322533, 0.46783483, 0.93277683, 0.87912667, 0.79091118,\n",
       "       0.67168101, 0.12526164, 0.01399622, 0.05855133, 0.06401418,\n",
       "       0.91401951, 0.04033972, 0.84519125, 0.77457595, 0.90740634,\n",
       "       0.00679826, 0.02648392, 0.16975228, 0.28564554, 0.9429581 ,\n",
       "       0.3296561 , 0.68937129, 0.90380512, 0.87293038, 0.772692  ,\n",
       "       0.1023139 , 0.15520584, 0.84926588, 0.62665664, 0.91199231,\n",
       "       0.96305324, 0.00679826, 0.90222525, 0.96363648, 0.0443194 ,\n",
       "       0.25524952, 0.7945205 , 0.6084711 , 0.03649648, 0.87081326,\n",
       "       0.09244642, 0.93825883, 0.08784896, 0.08940363, 0.93407525,\n",
       "       0.96476373, 0.08899818, 0.94439448, 0.95059933, 0.83084074,\n",
       "       0.50661071, 0.08533556, 0.80833912, 0.29979011, 0.95120529,\n",
       "       0.36930553, 0.89667239, 0.03281802, 0.86306095, 0.07242802,\n",
       "       0.04057756, 0.04994571, 0.59371247, 0.01399622, 0.92910388,\n",
       "       0.85988102, 0.0778941 , 0.57920137, 0.9838597 , 0.00859929,\n",
       "       0.5489168 , 0.92336416, 0.96830816, 0.96304375, 0.04182618,\n",
       "       0.03029668, 0.63337444, 0.9598319 , 0.67912376, 0.95995583,\n",
       "       0.6906481 , 0.96130185, 0.96937692, 0.96118102, 0.13513013,\n",
       "       0.92508023, 0.90275714, 0.56433047, 0.96376871, 0.97045851,\n",
       "       0.13237712, 0.592541  , 0.0812393 , 0.14700654, 0.91555617,\n",
       "       0.79978921, 0.7613612 , 0.86720042, 0.921262  , 0.95317615,\n",
       "       0.70662572, 0.75638065, 0.18487714, 0.62869693, 0.91919603,\n",
       "       0.92898864, 0.87109035, 0.08894941, 0.50199106, 0.93980214,\n",
       "       0.01242279, 0.12570876, 0.92289438, 0.15748574, 0.86285778,\n",
       "       0.09874158, 0.82543099, 0.04681906, 0.64061939, 0.24586911,\n",
       "       0.06963759, 0.0348082 , 0.0095106 , 0.79700782, 0.37752678,\n",
       "       0.9838597 , 0.5122873 , 0.03984553, 0.87872114, 0.90333673,\n",
       "       0.92071927, 0.0397704 , 0.61280169, 0.79133277, 0.01473795,\n",
       "       0.36293741, 0.53239689, 0.00816394, 0.9286985 , 0.77275164,\n",
       "       0.03296273, 0.90856228, 0.67231436, 0.93424557, 0.88110882,\n",
       "       0.90062134, 0.31945721, 0.16108031, 0.37666758, 0.96413476,\n",
       "       0.95014611, 0.16961358, 0.86853039, 0.0398896 , 0.93053308,\n",
       "       0.00679826, 0.68937129, 0.94543603, 0.74655011, 0.31657991,\n",
       "       0.94345037, 0.39971358, 0.04912114, 0.03984553, 0.63451746,\n",
       "       0.33987592, 0.88763856, 0.2725156 , 0.04912114, 0.06632804,\n",
       "       0.09026833, 0.86606758, 0.71772777, 0.02738943, 0.92986039,\n",
       "       0.31130574, 0.08305699, 0.92042869, 0.85083448, 0.01477604,\n",
       "       0.07234564, 0.03919183, 0.07929172, 0.21243339, 0.04118855,\n",
       "       0.92545045, 0.94679854, 0.85910795, 0.96051894, 0.81195684,\n",
       "       0.02738943, 0.27885119, 0.89627428, 0.22928696, 0.07706578,\n",
       "       0.65669229, 0.81258424, 0.52283408, 0.79460341, 0.91365628,\n",
       "       0.19016175, 0.31641812, 0.01794955, 0.82116335, 0.72521888,\n",
       "       0.62532486, 0.68197511, 0.85791978, 0.42224568, 0.1480096 ,\n",
       "       0.73137614, 0.18412315, 0.95356235, 0.97984548, 0.85657708,\n",
       "       0.66382839, 0.85625454, 0.20390608, 0.11842515, 0.93316243,\n",
       "       0.81509583, 0.30637962, 0.1762312 , 0.86714946, 0.70796943,\n",
       "       0.55690311, 0.93405022, 0.74048371, 0.73703063, 0.93267459,\n",
       "       0.88845756, 0.94687334, 0.18151281, 0.96305324, 0.90997822,\n",
       "       0.05713918, 0.89627428, 0.06055002, 0.92357467, 0.04120123,\n",
       "       0.9689842 , 0.05387891, 0.80874592, 0.82016842, 0.38982456,\n",
       "       0.70387834, 0.6545484 , 0.90646318, 0.95534228, 0.7917042 ,\n",
       "       0.64057006, 0.94047156, 0.00679826, 0.02570435, 0.04118855,\n",
       "       0.03984553, 0.07116793, 0.05373533, 0.25880581, 0.11906034,\n",
       "       0.48056815, 0.29428633, 0.97958086, 0.50415472, 0.92192263,\n",
       "       0.27987407, 0.96118102, 0.44415386, 0.94229282, 0.15757222,\n",
       "       0.87732113, 0.9517801 , 0.10948426, 0.40959476, 0.10740487,\n",
       "       0.92655611, 0.84880754, 0.34101353, 0.04699491, 0.07864925,\n",
       "       0.93289547, 0.20469818, 0.02648392, 0.02648392, 0.79836371,\n",
       "       0.9006004 , 0.62904027, 0.82754255, 0.9354439 , 0.93252829,\n",
       "       0.87221006, 0.01487561, 0.95862586, 0.95051749, 0.28463969,\n",
       "       0.64696218, 0.07478372, 0.60580064, 0.10324181, 0.96000081,\n",
       "       0.91548095, 0.08723641, 0.03948213, 0.85086293, 0.03125404,\n",
       "       0.5889891 , 0.59450449, 0.76430301, 0.94439448, 0.07407394,\n",
       "       0.92192263, 0.0348082 , 0.67503694, 0.30319796, 0.96513797,\n",
       "       0.03187901, 0.87008753, 0.55312102, 0.87555748, 0.21949146,\n",
       "       0.7955156 , 0.87212894, 0.94207746, 0.81949666, 0.41965953,\n",
       "       0.97882153, 0.89518894, 0.84643419, 0.65667755, 0.17380754,\n",
       "       0.04123376, 0.07329344, 0.9576101 , 0.11812591, 0.00959139,\n",
       "       0.13923089, 0.8422589 , 0.97032438, 0.09687386, 0.74963301,\n",
       "       0.92640973, 0.86219442, 0.90775308, 0.962462  , 0.95580324,\n",
       "       0.38651129, 0.95071433, 0.89106001, 0.04125401, 0.81008394,\n",
       "       0.16849007, 0.97947554, 0.08612615, 0.07680581, 0.05678567,\n",
       "       0.64751573, 0.02411576, 0.67310865, 0.8964768 , 0.86046965,\n",
       "       0.30319796, 0.70687679, 0.21217002, 0.88754568, 0.87149535,\n",
       "       0.092206  , 0.02648392, 0.02648392, 0.03167809, 0.0178348 ,\n",
       "       0.87941533, 0.67619701, 0.3543627 , 0.87698133, 0.21660342,\n",
       "       0.95859271, 0.87786493, 0.93272002, 0.37584384, 0.63255188,\n",
       "       0.95757447, 0.92079302, 0.0071613 , 0.93666344, 0.09325093,\n",
       "       0.97045974, 0.18844648, 0.07924212, 0.59574354, 0.91958328,\n",
       "       0.02223214, 0.47113286, 0.8248432 , 0.67607504, 0.84763239,\n",
       "       0.92534994, 0.06293644, 0.11419863, 0.31117798, 0.88203661,\n",
       "       0.92673844, 0.9814774 , 0.82646476, 0.07234564, 0.95509184,\n",
       "       0.5528962 , 0.90661138, 0.84243892, 0.56638656, 0.07975312,\n",
       "       0.37728886, 0.54865284, 0.0478288 , 0.85657708, 0.89598167,\n",
       "       0.85006668, 0.06083246, 0.30352342, 0.18767585, 0.92272983,\n",
       "       0.92965182, 0.34955163, 0.12152473, 0.90552359, 0.86934826,\n",
       "       0.36930553, 0.70115712, 0.56885575, 0.02861292, 0.04481258,\n",
       "       0.03984553, 0.90130047, 0.9361249 , 0.51105543, 0.94216241,\n",
       "       0.97993746, 0.95117123, 0.76628246, 0.94207746, 0.86633292,\n",
       "       0.06403763, 0.31658598, 0.91366134, 0.954922  , 0.32096738,\n",
       "       0.95099161, 0.02996001, 0.92090829, 0.12694111, 0.0362953 ,\n",
       "       0.87127685, 0.07680581, 0.87388824, 0.92283674, 0.83615254,\n",
       "       0.87383375, 0.04118855, 0.03984553, 0.12424144, 0.93604256,\n",
       "       0.07242802, 0.93867386, 0.73390736, 0.82422828, 0.83715766,\n",
       "       0.92773209, 0.9276799 , 0.17810774, 0.92863977, 0.38595849,\n",
       "       0.81872948, 0.92192263, 0.96396896, 0.91868922, 0.57038149,\n",
       "       0.94143919, 0.93387512, 0.24794623, 0.04499432, 0.02411576,\n",
       "       0.73881201, 0.25059525, 0.13832405, 0.18332831, 0.03963096,\n",
       "       0.11451528, 0.91548095, 0.0670674 , 0.9689842 , 0.75146857,\n",
       "       0.33352889, 0.13421697, 0.09345569, 0.94159878, 0.85376356,\n",
       "       0.1405908 , 0.5505429 , 0.96658292, 0.91215276, 0.08888468,\n",
       "       0.96918835, 0.97240131, 0.02648392, 0.32073435, 0.75885265,\n",
       "       0.93091842, 0.92300025, 0.83717727, 0.03167809, 0.04512908,\n",
       "       0.87360083, 0.75747416, 0.60121852, 0.94856783, 0.19116941,\n",
       "       0.93213056, 0.07955938, 0.09531805, 0.83863268, 0.11048093,\n",
       "       0.92131051, 0.6535443 , 0.79067511, 0.73201568, 0.04753229,\n",
       "       0.95457007, 0.90301639, 0.04524846, 0.86913094, 0.16179696,\n",
       "       0.8756482 , 0.03616655, 0.93644172, 0.07478372, 0.91530659,\n",
       "       0.07242802, 0.78340052, 0.06224559, 0.95967281, 0.70044964,\n",
       "       0.03131405, 0.92192263, 0.78207945, 0.80347561, 0.89825226,\n",
       "       0.19893215, 0.20769615, 0.91734492, 0.87905978, 0.11591643,\n",
       "       0.03275521, 0.60213223, 0.95859271, 0.01228617, 0.92162564,\n",
       "       0.10589543, 0.85666109, 0.91938163, 0.81724196, 0.3022808 ,\n",
       "       0.86362868, 0.94100702, 0.59282122, 0.44792681, 0.0357313 ,\n",
       "       0.68188011, 0.96633094, 0.04491552, 0.5409054 , 0.96335318,\n",
       "       0.07478372, 0.90856228, 0.92545045, 0.85611634, 0.06243183,\n",
       "       0.35871686, 0.95652451, 0.13513073, 0.02223214, 0.50639236,\n",
       "       0.01565878, 0.55150675, 0.0639559 , 0.74140926, 0.96165449,\n",
       "       0.98078722, 0.71304267, 0.10194921, 0.92752315, 0.10016697,\n",
       "       0.23606217, 0.268032  , 0.03448589, 0.45419043, 0.12365042,\n",
       "       0.05227129, 0.79460135, 0.02223214, 0.1008632 , 0.55582843,\n",
       "       0.03280195, 0.11744243, 0.07242802, 0.10895021, 0.93727132,\n",
       "       0.21660342, 0.50602551, 0.8852475 , 0.42855764, 0.65237682,\n",
       "       0.93132321, 0.8648499 , 0.81121128, 0.95017381, 0.03817864,\n",
       "       0.83043244, 0.9578324 , 0.92342876, 0.27874313, 0.93854266,\n",
       "       0.91115256, 0.24421   , 0.79064716, 0.63268111, 0.90577367,\n",
       "       0.91312246, 0.7639378 , 0.86720042, 0.32665841, 0.85661155,\n",
       "       0.86665079, 0.15652702, 0.04166428, 0.87696526, 0.91008752,\n",
       "       0.13139907, 0.94121491, 0.08583846, 0.48082014, 0.04699491,\n",
       "       0.91829377])"
      ]
     },
     "execution_count": 446,
     "metadata": {},
     "output_type": "execute_result"
    }
   ],
   "execution_count": 446
  },
  {
   "cell_type": "code",
   "source": [
    "previsoes_treino.shape"
   ],
   "metadata": {
    "collapsed": false,
    "ExecuteTime": {
     "end_time": "2024-04-09T03:40:02.092438Z",
     "start_time": "2024-04-09T03:40:02.069103Z"
    }
   },
   "id": "5898701ee3ff0f35",
   "outputs": [
    {
     "data": {
      "text/plain": [
       "(641,)"
      ]
     },
     "execution_count": 447,
     "metadata": {},
     "output_type": "execute_result"
    }
   ],
   "execution_count": 447
  },
  {
   "cell_type": "code",
   "source": [
    "# Quando for menor que 5 considera 0 e quando for maior ou igual a 5 considera 1\n",
    "for i in range(0, 641):\n",
    "    if previsoes_treino[i] >= 0.5:\n",
    "        previsoes_treino[i] = 1\n",
    "    else:\n",
    "        previsoes_treino[i] = 0"
   ],
   "metadata": {
    "collapsed": false,
    "ExecuteTime": {
     "end_time": "2024-04-09T03:40:02.107617Z",
     "start_time": "2024-04-09T03:40:02.095476Z"
    }
   },
   "id": "ef048b52400c98f",
   "outputs": [],
   "execution_count": 448
  },
  {
   "cell_type": "code",
   "source": [
    "previsoes_treino"
   ],
   "metadata": {
    "collapsed": false,
    "ExecuteTime": {
     "end_time": "2024-04-09T03:40:02.134551Z",
     "start_time": "2024-04-09T03:40:02.110676Z"
    }
   },
   "id": "bb5a8826f7c420c0",
   "outputs": [
    {
     "data": {
      "text/plain": [
       "array([1., 0., 1., 1., 1., 1., 0., 0., 0., 0., 1., 0., 1., 1., 1., 0., 0.,\n",
       "       0., 0., 1., 0., 1., 1., 1., 1., 0., 0., 1., 1., 1., 1., 0., 1., 1.,\n",
       "       0., 0., 1., 1., 0., 1., 0., 1., 0., 0., 1., 1., 0., 1., 1., 1., 1.,\n",
       "       0., 1., 0., 1., 0., 1., 0., 1., 0., 0., 0., 1., 0., 1., 1., 0., 1.,\n",
       "       1., 0., 1., 1., 1., 1., 0., 0., 1., 1., 1., 1., 1., 1., 1., 1., 0.,\n",
       "       1., 1., 1., 1., 1., 0., 1., 0., 0., 1., 1., 1., 1., 1., 1., 1., 1.,\n",
       "       0., 1., 1., 1., 1., 0., 1., 1., 0., 0., 1., 0., 1., 0., 1., 0., 1.,\n",
       "       0., 0., 0., 0., 1., 0., 1., 1., 0., 1., 1., 1., 0., 1., 1., 0., 0.,\n",
       "       1., 0., 1., 1., 0., 1., 1., 1., 1., 1., 0., 0., 0., 1., 1., 0., 1.,\n",
       "       0., 1., 0., 1., 1., 1., 0., 1., 0., 0., 0., 1., 0., 1., 0., 0., 0.,\n",
       "       0., 1., 1., 0., 1., 0., 0., 1., 1., 0., 0., 0., 0., 0., 0., 1., 1.,\n",
       "       1., 1., 1., 0., 0., 1., 0., 0., 1., 1., 1., 1., 1., 0., 0., 0., 1.,\n",
       "       1., 1., 1., 1., 0., 0., 1., 0., 1., 1., 1., 1., 1., 0., 0., 1., 1.,\n",
       "       0., 0., 1., 1., 1., 1., 1., 1., 1., 1., 1., 0., 1., 1., 0., 1., 0.,\n",
       "       1., 0., 1., 0., 1., 1., 0., 1., 1., 1., 1., 1., 1., 1., 0., 0., 0.,\n",
       "       0., 0., 0., 0., 0., 0., 0., 1., 1., 1., 0., 1., 0., 1., 0., 1., 1.,\n",
       "       0., 0., 0., 1., 1., 0., 0., 0., 1., 0., 0., 0., 1., 1., 1., 1., 1.,\n",
       "       1., 1., 0., 1., 1., 0., 1., 0., 1., 0., 1., 1., 0., 0., 1., 0., 1.,\n",
       "       1., 1., 1., 0., 1., 0., 1., 0., 1., 0., 1., 1., 1., 0., 1., 1., 1.,\n",
       "       1., 0., 1., 1., 1., 1., 0., 0., 0., 1., 0., 0., 0., 1., 1., 0., 1.,\n",
       "       1., 1., 1., 1., 1., 0., 1., 1., 0., 1., 0., 1., 0., 0., 0., 1., 0.,\n",
       "       1., 1., 1., 0., 1., 0., 1., 1., 0., 0., 0., 0., 0., 1., 1., 0., 1.,\n",
       "       0., 1., 1., 1., 0., 1., 1., 1., 0., 1., 0., 1., 0., 0., 1., 1., 0.,\n",
       "       0., 1., 1., 1., 1., 0., 0., 0., 1., 1., 1., 1., 0., 1., 1., 1., 1.,\n",
       "       1., 0., 0., 1., 0., 1., 1., 1., 0., 0., 0., 1., 1., 0., 0., 1., 1.,\n",
       "       0., 1., 1., 0., 0., 0., 1., 1., 1., 1., 1., 1., 1., 1., 1., 0., 0.,\n",
       "       1., 1., 0., 1., 0., 1., 0., 0., 1., 0., 1., 1., 1., 1., 0., 0., 0.,\n",
       "       1., 0., 1., 1., 1., 1., 1., 1., 0., 1., 0., 1., 1., 1., 1., 1., 1.,\n",
       "       1., 0., 0., 0., 1., 0., 0., 0., 0., 0., 1., 0., 1., 1., 0., 0., 0.,\n",
       "       1., 1., 0., 1., 1., 1., 0., 1., 1., 0., 0., 1., 1., 1., 1., 0., 0.,\n",
       "       1., 1., 1., 1., 0., 1., 0., 0., 1., 0., 1., 1., 1., 1., 0., 1., 1.,\n",
       "       0., 1., 0., 1., 0., 1., 0., 1., 0., 1., 0., 1., 1., 0., 1., 1., 1.,\n",
       "       1., 0., 0., 1., 1., 0., 0., 1., 1., 0., 1., 0., 1., 1., 1., 0., 1.,\n",
       "       1., 1., 0., 0., 1., 1., 0., 1., 1., 0., 1., 1., 1., 0., 0., 1., 0.,\n",
       "       0., 1., 0., 1., 0., 1., 1., 1., 1., 0., 1., 0., 0., 0., 0., 0., 0.,\n",
       "       0., 1., 0., 0., 1., 0., 0., 0., 0., 1., 0., 1., 1., 0., 1., 1., 1.,\n",
       "       1., 1., 0., 1., 1., 1., 0., 1., 1., 0., 1., 1., 1., 1., 1., 1., 0.,\n",
       "       1., 1., 0., 0., 1., 1., 0., 1., 0., 0., 0., 1.])"
      ]
     },
     "execution_count": 449,
     "metadata": {},
     "output_type": "execute_result"
    }
   ],
   "execution_count": 449
  },
  {
   "cell_type": "code",
   "source": [
    "accuracy_score(y_treino, previsoes_treino)"
   ],
   "metadata": {
    "collapsed": false,
    "ExecuteTime": {
     "end_time": "2024-04-09T03:40:02.150254Z",
     "start_time": "2024-04-09T03:40:02.138136Z"
    }
   },
   "id": "f75f3ba52fe62eb1",
   "outputs": [
    {
     "data": {
      "text/plain": [
       "0.9017160686427457"
      ]
     },
     "execution_count": 450,
     "metadata": {},
     "output_type": "execute_result"
    }
   ],
   "execution_count": 450
  },
  {
   "cell_type": "code",
   "source": [
    "confusion_matrix(y_treino, previsoes_treino)"
   ],
   "metadata": {
    "collapsed": false,
    "ExecuteTime": {
     "end_time": "2024-04-09T03:40:02.185316Z",
     "start_time": "2024-04-09T03:40:02.163547Z"
    }
   },
   "id": "ea23f1c7740925ac",
   "outputs": [
    {
     "data": {
      "text/plain": [
       "array([[246,  43],\n",
       "       [ 20, 332]], dtype=int64)"
      ]
     },
     "execution_count": 451,
     "metadata": {},
     "output_type": "execute_result"
    }
   ],
   "execution_count": 451
  },
  {
   "cell_type": "code",
   "source": [
    "# Validação Cruzada\n",
    "from sklearn.model_selection import KFold\n",
    "from sklearn.model_selection import cross_val_score"
   ],
   "metadata": {
    "collapsed": false,
    "ExecuteTime": {
     "end_time": "2024-04-09T03:40:02.200428Z",
     "start_time": "2024-04-09T03:40:02.189383Z"
    }
   },
   "id": "a4c9389148e83338",
   "outputs": [],
   "execution_count": 452
  },
  {
   "cell_type": "code",
   "source": [
    "# Separando os dados em folds\n",
    "kfold = KFold(n_splits =30, shuffle=True, random_state=5)"
   ],
   "metadata": {
    "collapsed": false,
    "ExecuteTime": {
     "end_time": "2024-04-09T03:40:02.215615Z",
     "start_time": "2024-04-09T03:40:02.202426Z"
    }
   },
   "id": "7dc5bc6b1bdf52b1",
   "outputs": [],
   "execution_count": 453
  },
  {
   "cell_type": "code",
   "source": [
    "# Criando o modelo\n",
    "modelo = lgb.LGBMClassifier(num_leaves=250, objective='binary', max_depth=2, learning_rate=0.05, max_bin=250)\n",
    "resultado = cross_val_score(modelo, previsores, alvo, cv=kfold)\n",
    "resultado"
   ],
   "metadata": {
    "collapsed": false,
    "ExecuteTime": {
     "end_time": "2024-04-09T03:40:02.938670Z",
     "start_time": "2024-04-09T03:40:02.218614Z"
    }
   },
   "id": "c93b9182744d557",
   "outputs": [
    {
     "name": "stdout",
     "output_type": "stream",
     "text": [
      "[LightGBM] [Info] Number of positive: 489, number of negative: 397\n",
      "[LightGBM] [Info] Auto-choosing row-wise multi-threading, the overhead of testing was 0.000178 seconds.\n",
      "You can set `force_row_wise=true` to remove the overhead.\n",
      "And if memory is not enough, you can set `force_col_wise=true`.\n",
      "[LightGBM] [Info] Total Bins 395\n",
      "[LightGBM] [Info] Number of data points in the train set: 886, number of used features: 11\n",
      "[LightGBM] [Info] [binary:BoostFromScore]: pavg=0.551919 -> initscore=0.208426\n",
      "[LightGBM] [Info] Start training from score 0.208426\n",
      "[LightGBM] [Info] Number of positive: 490, number of negative: 396\n",
      "[LightGBM] [Info] Auto-choosing row-wise multi-threading, the overhead of testing was 0.000103 seconds.\n",
      "You can set `force_row_wise=true` to remove the overhead.\n",
      "And if memory is not enough, you can set `force_col_wise=true`.\n",
      "[LightGBM] [Info] Total Bins 394\n",
      "[LightGBM] [Info] Number of data points in the train set: 886, number of used features: 11\n",
      "[LightGBM] [Info] [binary:BoostFromScore]: pavg=0.553047 -> initscore=0.212991\n",
      "[LightGBM] [Info] Start training from score 0.212991\n",
      "[LightGBM] [Info] Number of positive: 486, number of negative: 400\n",
      "[LightGBM] [Info] Auto-choosing row-wise multi-threading, the overhead of testing was 0.000143 seconds.\n",
      "You can set `force_row_wise=true` to remove the overhead.\n",
      "And if memory is not enough, you can set `force_col_wise=true`.\n",
      "[LightGBM] [Info] Total Bins 392\n",
      "[LightGBM] [Info] Number of data points in the train set: 886, number of used features: 11\n",
      "[LightGBM] [Info] [binary:BoostFromScore]: pavg=0.548533 -> initscore=0.194744\n",
      "[LightGBM] [Info] Start training from score 0.194744\n",
      "[LightGBM] [Info] Number of positive: 487, number of negative: 399\n",
      "[LightGBM] [Info] Auto-choosing row-wise multi-threading, the overhead of testing was 0.000132 seconds.\n",
      "You can set `force_row_wise=true` to remove the overhead.\n",
      "And if memory is not enough, you can set `force_col_wise=true`.\n",
      "[LightGBM] [Info] Total Bins 395\n",
      "[LightGBM] [Info] Number of data points in the train set: 886, number of used features: 11\n",
      "[LightGBM] [Info] [binary:BoostFromScore]: pavg=0.549661 -> initscore=0.199303\n",
      "[LightGBM] [Info] Start training from score 0.199303\n",
      "[LightGBM] [Info] Number of positive: 490, number of negative: 396\n",
      "[LightGBM] [Info] Auto-choosing row-wise multi-threading, the overhead of testing was 0.000131 seconds.\n",
      "You can set `force_row_wise=true` to remove the overhead.\n",
      "And if memory is not enough, you can set `force_col_wise=true`.\n",
      "[LightGBM] [Info] Total Bins 394\n",
      "[LightGBM] [Info] Number of data points in the train set: 886, number of used features: 11\n",
      "[LightGBM] [Info] [binary:BoostFromScore]: pavg=0.553047 -> initscore=0.212991\n",
      "[LightGBM] [Info] Start training from score 0.212991\n",
      "[LightGBM] [Info] Number of positive: 489, number of negative: 397\n",
      "[LightGBM] [Info] Auto-choosing row-wise multi-threading, the overhead of testing was 0.000117 seconds.\n",
      "You can set `force_row_wise=true` to remove the overhead.\n",
      "And if memory is not enough, you can set `force_col_wise=true`.\n",
      "[LightGBM] [Info] Total Bins 396\n",
      "[LightGBM] [Info] Number of data points in the train set: 886, number of used features: 11\n",
      "[LightGBM] [Info] [binary:BoostFromScore]: pavg=0.551919 -> initscore=0.208426\n",
      "[LightGBM] [Info] Start training from score 0.208426\n",
      "[LightGBM] [Info] Number of positive: 490, number of negative: 396\n",
      "[LightGBM] [Info] Auto-choosing row-wise multi-threading, the overhead of testing was 0.000125 seconds.\n",
      "You can set `force_row_wise=true` to remove the overhead.\n",
      "And if memory is not enough, you can set `force_col_wise=true`.\n",
      "[LightGBM] [Info] Total Bins 395\n",
      "[LightGBM] [Info] Number of data points in the train set: 886, number of used features: 11\n",
      "[LightGBM] [Info] [binary:BoostFromScore]: pavg=0.553047 -> initscore=0.212991\n",
      "[LightGBM] [Info] Start training from score 0.212991\n",
      "[LightGBM] [Info] Number of positive: 491, number of negative: 395\n",
      "[LightGBM] [Info] Auto-choosing row-wise multi-threading, the overhead of testing was 0.000119 seconds.\n",
      "You can set `force_row_wise=true` to remove the overhead.\n",
      "And if memory is not enough, you can set `force_col_wise=true`.\n",
      "[LightGBM] [Info] Total Bins 392\n",
      "[LightGBM] [Info] Number of data points in the train set: 886, number of used features: 11\n",
      "[LightGBM] [Info] [binary:BoostFromScore]: pavg=0.554176 -> initscore=0.217558\n",
      "[LightGBM] [Info] Start training from score 0.217558\n",
      "[LightGBM] [Info] Number of positive: 491, number of negative: 395\n",
      "[LightGBM] [Info] Auto-choosing row-wise multi-threading, the overhead of testing was 0.000103 seconds.\n",
      "You can set `force_row_wise=true` to remove the overhead.\n",
      "And if memory is not enough, you can set `force_col_wise=true`.\n",
      "[LightGBM] [Info] Total Bins 394\n",
      "[LightGBM] [Info] Number of data points in the train set: 886, number of used features: 11\n",
      "[LightGBM] [Info] [binary:BoostFromScore]: pavg=0.554176 -> initscore=0.217558\n",
      "[LightGBM] [Info] Start training from score 0.217558\n",
      "[LightGBM] [Info] Number of positive: 490, number of negative: 396\n",
      "[LightGBM] [Info] Auto-choosing row-wise multi-threading, the overhead of testing was 0.000076 seconds.\n",
      "You can set `force_row_wise=true` to remove the overhead.\n",
      "And if memory is not enough, you can set `force_col_wise=true`.\n",
      "[LightGBM] [Info] Total Bins 390\n",
      "[LightGBM] [Info] Number of data points in the train set: 886, number of used features: 11\n",
      "[LightGBM] [Info] [binary:BoostFromScore]: pavg=0.553047 -> initscore=0.212991\n",
      "[LightGBM] [Info] Start training from score 0.212991\n",
      "[LightGBM] [Info] Number of positive: 492, number of negative: 394\n",
      "[LightGBM] [Info] Auto-choosing row-wise multi-threading, the overhead of testing was 0.000118 seconds.\n",
      "You can set `force_row_wise=true` to remove the overhead.\n",
      "And if memory is not enough, you can set `force_col_wise=true`.\n",
      "[LightGBM] [Info] Total Bins 396\n",
      "[LightGBM] [Info] Number of data points in the train set: 886, number of used features: 11\n",
      "[LightGBM] [Info] [binary:BoostFromScore]: pavg=0.555305 -> initscore=0.222128\n",
      "[LightGBM] [Info] Start training from score 0.222128\n",
      "[LightGBM] [Info] Number of positive: 484, number of negative: 402\n",
      "[LightGBM] [Info] Auto-choosing row-wise multi-threading, the overhead of testing was 0.000120 seconds.\n",
      "You can set `force_row_wise=true` to remove the overhead.\n",
      "And if memory is not enough, you can set `force_col_wise=true`.\n",
      "[LightGBM] [Info] Total Bins 394\n",
      "[LightGBM] [Info] Number of data points in the train set: 886, number of used features: 11\n",
      "[LightGBM] [Info] [binary:BoostFromScore]: pavg=0.546275 -> initscore=0.185633\n",
      "[LightGBM] [Info] Start training from score 0.185633\n",
      "[LightGBM] [Info] Number of positive: 489, number of negative: 397\n",
      "[LightGBM] [Info] Auto-choosing row-wise multi-threading, the overhead of testing was 0.000101 seconds.\n",
      "You can set `force_row_wise=true` to remove the overhead.\n",
      "And if memory is not enough, you can set `force_col_wise=true`.\n",
      "[LightGBM] [Info] Total Bins 394\n",
      "[LightGBM] [Info] Number of data points in the train set: 886, number of used features: 11\n",
      "[LightGBM] [Info] [binary:BoostFromScore]: pavg=0.551919 -> initscore=0.208426\n",
      "[LightGBM] [Info] Start training from score 0.208426\n",
      "[LightGBM] [Info] Number of positive: 489, number of negative: 397\n",
      "[LightGBM] [Info] Auto-choosing row-wise multi-threading, the overhead of testing was 0.000091 seconds.\n",
      "You can set `force_row_wise=true` to remove the overhead.\n",
      "And if memory is not enough, you can set `force_col_wise=true`.\n",
      "[LightGBM] [Info] Total Bins 397\n",
      "[LightGBM] [Info] Number of data points in the train set: 886, number of used features: 11\n",
      "[LightGBM] [Info] [binary:BoostFromScore]: pavg=0.551919 -> initscore=0.208426\n",
      "[LightGBM] [Info] Start training from score 0.208426\n",
      "[LightGBM] [Info] Number of positive: 494, number of negative: 392\n",
      "[LightGBM] [Info] Auto-choosing row-wise multi-threading, the overhead of testing was 0.000108 seconds.\n",
      "You can set `force_row_wise=true` to remove the overhead.\n",
      "And if memory is not enough, you can set `force_col_wise=true`.\n",
      "[LightGBM] [Info] Total Bins 397\n",
      "[LightGBM] [Info] Number of data points in the train set: 886, number of used features: 11\n",
      "[LightGBM] [Info] [binary:BoostFromScore]: pavg=0.557562 -> initscore=0.231274\n",
      "[LightGBM] [Info] Start training from score 0.231274\n",
      "[LightGBM] [Info] Number of positive: 488, number of negative: 398\n",
      "[LightGBM] [Info] Auto-choosing row-wise multi-threading, the overhead of testing was 0.000093 seconds.\n",
      "You can set `force_row_wise=true` to remove the overhead.\n",
      "And if memory is not enough, you can set `force_col_wise=true`.\n",
      "[LightGBM] [Info] Total Bins 397\n",
      "[LightGBM] [Info] Number of data points in the train set: 886, number of used features: 11\n",
      "[LightGBM] [Info] [binary:BoostFromScore]: pavg=0.550790 -> initscore=0.203863\n",
      "[LightGBM] [Info] Start training from score 0.203863\n",
      "[LightGBM] [Info] Number of positive: 489, number of negative: 397\n",
      "[LightGBM] [Info] Auto-choosing row-wise multi-threading, the overhead of testing was 0.000121 seconds.\n",
      "You can set `force_row_wise=true` to remove the overhead.\n",
      "And if memory is not enough, you can set `force_col_wise=true`.\n",
      "[LightGBM] [Info] Total Bins 396\n",
      "[LightGBM] [Info] Number of data points in the train set: 886, number of used features: 11\n",
      "[LightGBM] [Info] [binary:BoostFromScore]: pavg=0.551919 -> initscore=0.208426\n",
      "[LightGBM] [Info] Start training from score 0.208426\n",
      "[LightGBM] [Info] Number of positive: 488, number of negative: 399\n",
      "[LightGBM] [Info] Auto-choosing row-wise multi-threading, the overhead of testing was 0.000102 seconds.\n",
      "You can set `force_row_wise=true` to remove the overhead.\n",
      "And if memory is not enough, you can set `force_col_wise=true`.\n",
      "[LightGBM] [Info] Total Bins 396\n",
      "[LightGBM] [Info] Number of data points in the train set: 887, number of used features: 11\n",
      "[LightGBM] [Info] [binary:BoostFromScore]: pavg=0.550169 -> initscore=0.201354\n",
      "[LightGBM] [Info] Start training from score 0.201354\n",
      "[LightGBM] [Info] Number of positive: 490, number of negative: 397\n",
      "[LightGBM] [Info] Auto-choosing row-wise multi-threading, the overhead of testing was 0.000080 seconds.\n",
      "You can set `force_row_wise=true` to remove the overhead.\n",
      "And if memory is not enough, you can set `force_col_wise=true`.\n",
      "[LightGBM] [Info] Total Bins 396\n",
      "[LightGBM] [Info] Number of data points in the train set: 887, number of used features: 11\n",
      "[LightGBM] [Info] [binary:BoostFromScore]: pavg=0.552424 -> initscore=0.210469\n",
      "[LightGBM] [Info] Start training from score 0.210469\n",
      "[LightGBM] [Info] Number of positive: 490, number of negative: 397\n",
      "[LightGBM] [Info] Auto-choosing row-wise multi-threading, the overhead of testing was 0.000077 seconds.\n",
      "You can set `force_row_wise=true` to remove the overhead.\n",
      "And if memory is not enough, you can set `force_col_wise=true`.\n",
      "[LightGBM] [Info] Total Bins 393\n",
      "[LightGBM] [Info] Number of data points in the train set: 887, number of used features: 11\n",
      "[LightGBM] [Info] [binary:BoostFromScore]: pavg=0.552424 -> initscore=0.210469\n",
      "[LightGBM] [Info] Start training from score 0.210469\n",
      "[LightGBM] [Info] Number of positive: 491, number of negative: 396\n",
      "[LightGBM] [Info] Auto-choosing row-wise multi-threading, the overhead of testing was 0.000095 seconds.\n",
      "You can set `force_row_wise=true` to remove the overhead.\n",
      "And if memory is not enough, you can set `force_col_wise=true`.\n",
      "[LightGBM] [Info] Total Bins 394\n",
      "[LightGBM] [Info] Number of data points in the train set: 887, number of used features: 11\n",
      "[LightGBM] [Info] [binary:BoostFromScore]: pavg=0.553551 -> initscore=0.215030\n",
      "[LightGBM] [Info] Start training from score 0.215030\n",
      "[LightGBM] [Info] Number of positive: 491, number of negative: 396\n",
      "[LightGBM] [Info] Auto-choosing row-wise multi-threading, the overhead of testing was 0.000128 seconds.\n",
      "You can set `force_row_wise=true` to remove the overhead.\n",
      "And if memory is not enough, you can set `force_col_wise=true`.\n",
      "[LightGBM] [Info] Total Bins 392\n",
      "[LightGBM] [Info] Number of data points in the train set: 887, number of used features: 11\n",
      "[LightGBM] [Info] [binary:BoostFromScore]: pavg=0.553551 -> initscore=0.215030\n",
      "[LightGBM] [Info] Start training from score 0.215030\n",
      "[LightGBM] [Info] Number of positive: 493, number of negative: 394\n",
      "[LightGBM] [Info] Auto-choosing row-wise multi-threading, the overhead of testing was 0.000105 seconds.\n",
      "You can set `force_row_wise=true` to remove the overhead.\n",
      "And if memory is not enough, you can set `force_col_wise=true`.\n",
      "[LightGBM] [Info] Total Bins 398\n",
      "[LightGBM] [Info] Number of data points in the train set: 887, number of used features: 11\n",
      "[LightGBM] [Info] [binary:BoostFromScore]: pavg=0.555806 -> initscore=0.224158\n",
      "[LightGBM] [Info] Start training from score 0.224158\n",
      "[LightGBM] [Info] Number of positive: 494, number of negative: 393\n",
      "[LightGBM] [Info] Auto-choosing row-wise multi-threading, the overhead of testing was 0.000119 seconds.\n",
      "You can set `force_row_wise=true` to remove the overhead.\n",
      "And if memory is not enough, you can set `force_col_wise=true`.\n",
      "[LightGBM] [Info] Total Bins 398\n",
      "[LightGBM] [Info] Number of data points in the train set: 887, number of used features: 11\n",
      "[LightGBM] [Info] [binary:BoostFromScore]: pavg=0.556933 -> initscore=0.228726\n",
      "[LightGBM] [Info] Start training from score 0.228726\n",
      "[LightGBM] [Info] Number of positive: 493, number of negative: 394\n",
      "[LightGBM] [Info] Auto-choosing row-wise multi-threading, the overhead of testing was 0.000122 seconds.\n",
      "You can set `force_row_wise=true` to remove the overhead.\n",
      "And if memory is not enough, you can set `force_col_wise=true`.\n",
      "[LightGBM] [Info] Total Bins 394\n",
      "[LightGBM] [Info] Number of data points in the train set: 887, number of used features: 11\n",
      "[LightGBM] [Info] [binary:BoostFromScore]: pavg=0.555806 -> initscore=0.224158\n",
      "[LightGBM] [Info] Start training from score 0.224158\n",
      "[LightGBM] [Info] Number of positive: 487, number of negative: 400\n",
      "[LightGBM] [Info] Auto-choosing row-wise multi-threading, the overhead of testing was 0.000119 seconds.\n",
      "You can set `force_row_wise=true` to remove the overhead.\n",
      "And if memory is not enough, you can set `force_col_wise=true`.\n",
      "[LightGBM] [Info] Total Bins 395\n",
      "[LightGBM] [Info] Number of data points in the train set: 887, number of used features: 11\n",
      "[LightGBM] [Info] [binary:BoostFromScore]: pavg=0.549042 -> initscore=0.196800\n",
      "[LightGBM] [Info] Start training from score 0.196800\n",
      "[LightGBM] [Info] Number of positive: 489, number of negative: 398\n",
      "[LightGBM] [Info] Auto-choosing row-wise multi-threading, the overhead of testing was 0.000076 seconds.\n",
      "You can set `force_row_wise=true` to remove the overhead.\n",
      "And if memory is not enough, you can set `force_col_wise=true`.\n",
      "[LightGBM] [Info] Total Bins 395\n",
      "[LightGBM] [Info] Number of data points in the train set: 887, number of used features: 11\n",
      "[LightGBM] [Info] [binary:BoostFromScore]: pavg=0.551297 -> initscore=0.205910\n",
      "[LightGBM] [Info] Start training from score 0.205910\n",
      "[LightGBM] [Info] Number of positive: 492, number of negative: 395\n",
      "[LightGBM] [Info] Auto-choosing row-wise multi-threading, the overhead of testing was 0.000121 seconds.\n",
      "You can set `force_row_wise=true` to remove the overhead.\n",
      "And if memory is not enough, you can set `force_col_wise=true`.\n",
      "[LightGBM] [Info] Total Bins 398\n",
      "[LightGBM] [Info] Number of data points in the train set: 887, number of used features: 11\n",
      "[LightGBM] [Info] [binary:BoostFromScore]: pavg=0.554679 -> initscore=0.219593\n",
      "[LightGBM] [Info] Start training from score 0.219593\n",
      "[LightGBM] [Info] Number of positive: 493, number of negative: 394\n",
      "[LightGBM] [Info] Auto-choosing row-wise multi-threading, the overhead of testing was 0.000074 seconds.\n",
      "You can set `force_row_wise=true` to remove the overhead.\n",
      "And if memory is not enough, you can set `force_col_wise=true`.\n",
      "[LightGBM] [Info] Total Bins 392\n",
      "[LightGBM] [Info] Number of data points in the train set: 887, number of used features: 11\n",
      "[LightGBM] [Info] [binary:BoostFromScore]: pavg=0.555806 -> initscore=0.224158\n",
      "[LightGBM] [Info] Start training from score 0.224158\n",
      "[LightGBM] [Info] Number of positive: 494, number of negative: 393\n",
      "[LightGBM] [Info] Auto-choosing row-wise multi-threading, the overhead of testing was 0.000118 seconds.\n",
      "You can set `force_row_wise=true` to remove the overhead.\n",
      "And if memory is not enough, you can set `force_col_wise=true`.\n",
      "[LightGBM] [Info] Total Bins 396\n",
      "[LightGBM] [Info] Number of data points in the train set: 887, number of used features: 11\n",
      "[LightGBM] [Info] [binary:BoostFromScore]: pavg=0.556933 -> initscore=0.228726\n",
      "[LightGBM] [Info] Start training from score 0.228726\n"
     ]
    },
    {
     "data": {
      "text/plain": [
       "array([0.87096774, 0.93548387, 0.87096774, 0.80645161, 0.93548387,\n",
       "       0.87096774, 0.74193548, 0.87096774, 0.80645161, 0.83870968,\n",
       "       0.87096774, 0.83870968, 0.96774194, 0.90322581, 0.87096774,\n",
       "       0.87096774, 0.80645161, 0.96666667, 0.93333333, 0.9       ,\n",
       "       0.8       , 0.83333333, 0.83333333, 0.66666667, 0.83333333,\n",
       "       0.96666667, 0.86666667, 0.86666667, 0.83333333, 0.86666667])"
      ]
     },
     "execution_count": 454,
     "metadata": {},
     "output_type": "execute_result"
    }
   ],
   "execution_count": 454
  },
  {
   "cell_type": "code",
   "source": [
    "# Usando a média e o desvio padrão\n",
    "print(f'Acurácia Média: {resultado.mean()*100:.2f}%')"
   ],
   "metadata": {
    "collapsed": false,
    "ExecuteTime": {
     "end_time": "2024-04-09T03:40:02.954659Z",
     "start_time": "2024-04-09T03:40:02.941669Z"
    }
   },
   "id": "21373cd948ee767e",
   "outputs": [
    {
     "name": "stdout",
     "output_type": "stream",
     "text": [
      "Acurácia Média: 86.15%\n"
     ]
    }
   ],
   "execution_count": 455
  },
  {
   "metadata": {},
   "cell_type": "markdown",
   "source": "# 61. Catboost: Teoria",
   "id": "2d51113d6a219fcc"
  },
  {
   "metadata": {
    "ExecuteTime": {
     "end_time": "2024-04-09T03:40:02.970651Z",
     "start_time": "2024-04-09T03:40:02.957659Z"
    }
   },
   "cell_type": "code",
   "source": [
    "# Category Boosting\n",
    "\"\"\"\n",
    "> Baseado em árvores de decisão;\n",
    "> É uma evolução do Gradient Boosting e do Random Forest;\n",
    "> Alta velocidade de processamento;\n",
    "> Executa automaticamente as transformações das variáveis categóricas;\n",
    "> Trabalha com eficiência em grandes e baixos volumes de dados;\n",
    "\n",
    "Vantagens\n",
    "> Permite o treinamento de dados em várias GPUs;\n",
    "> Fornece ótimos resultados com parâmetros padrão;\n",
    "> Oferece maior precissão devido ao ajustr excessivo reduzido;\n",
    "> Pode lidar com valores ausentes internamente;\n",
    "> Pode ser usado para problemas de regressão e de classificação;\n",
    "\"\"\""
   ],
   "id": "f45690c8e3e69256",
   "outputs": [
    {
     "data": {
      "text/plain": [
       "'\\n> Baseado em árvores de decisão;\\n> É uma evolução do Gradient Boosting e do Random Forest;\\n> Alta velocidade de processamento;\\n> Executa automaticamente as transformações das variáveis categóricas;\\n> Trabalha com eficiência em grandes e baixos volumes de dados;\\n\\nVantagens\\n> Permite o treinamento de dados em várias GPUs;\\n> Fornece ótimos resultados com parâmetros padrão;\\n> Oferece maior precissão devido ao ajustr excessivo reduzido;\\n> Pode lidar com valores ausentes internamente;\\n> Pode ser usado para problemas de regressão e de classificação;\\n'"
      ]
     },
     "execution_count": 456,
     "metadata": {},
     "output_type": "execute_result"
    }
   ],
   "execution_count": 456
  },
  {
   "metadata": {},
   "cell_type": "markdown",
   "source": [
    "# 62. Catboost no Python\n",
    "'https://catboost.ai/en/docs/'"
   ],
   "id": "91dcf8cfd0cdaeed"
  },
  {
   "metadata": {
    "ExecuteTime": {
     "end_time": "2024-04-09T03:40:02.985846Z",
     "start_time": "2024-04-09T03:40:02.973707Z"
    }
   },
   "cell_type": "code",
   "source": "from catboost import CatBoostClassifier",
   "id": "d6d7778608a55bd2",
   "outputs": [],
   "execution_count": 457
  },
  {
   "metadata": {
    "ExecuteTime": {
     "end_time": "2024-04-09T03:40:03.031504Z",
     "start_time": "2024-04-09T03:40:02.988844Z"
    }
   },
   "cell_type": "code",
   "source": "df",
   "id": "3497700c665b4ade",
   "outputs": [
    {
     "data": {
      "text/plain": [
       "     Age Sex ChestPainType  RestingBP  Cholesterol  FastingBS RestingECG  \\\n",
       "0     40   M           ATA        140        289.0          0     Normal   \n",
       "1     49   F           NAP        160        180.0          0     Normal   \n",
       "2     37   M           ATA        130        283.0          0         ST   \n",
       "3     48   F           ASY        138        214.0          0     Normal   \n",
       "4     54   M           NAP        150        195.0          0     Normal   \n",
       "..   ...  ..           ...        ...          ...        ...        ...   \n",
       "912   45   M            TA        110        264.0          0     Normal   \n",
       "913   68   M           ASY        144        193.0          1     Normal   \n",
       "914   57   M           ASY        130        131.0          0     Normal   \n",
       "915   57   F           ATA        130        236.0          0        LVH   \n",
       "916   38   M           NAP        138        175.0          0     Normal   \n",
       "\n",
       "     MaxHR ExerciseAngina  Oldpeak ST_Slope  HeartDisease  \n",
       "0      172              N      0.0       Up             0  \n",
       "1      156              N      1.0     Flat             1  \n",
       "2       98              N      0.0       Up             0  \n",
       "3      108              Y      1.5     Flat             1  \n",
       "4      122              N      0.0       Up             0  \n",
       "..     ...            ...      ...      ...           ...  \n",
       "912    132              N      1.2     Flat             1  \n",
       "913    141              N      3.4     Flat             1  \n",
       "914    115              Y      1.2     Flat             1  \n",
       "915    174              N      0.0     Flat             1  \n",
       "916    173              N      0.0       Up             0  \n",
       "\n",
       "[917 rows x 12 columns]"
      ],
      "text/html": [
       "<div>\n",
       "<style scoped>\n",
       "    .dataframe tbody tr th:only-of-type {\n",
       "        vertical-align: middle;\n",
       "    }\n",
       "\n",
       "    .dataframe tbody tr th {\n",
       "        vertical-align: top;\n",
       "    }\n",
       "\n",
       "    .dataframe thead th {\n",
       "        text-align: right;\n",
       "    }\n",
       "</style>\n",
       "<table border=\"1\" class=\"dataframe\">\n",
       "  <thead>\n",
       "    <tr style=\"text-align: right;\">\n",
       "      <th></th>\n",
       "      <th>Age</th>\n",
       "      <th>Sex</th>\n",
       "      <th>ChestPainType</th>\n",
       "      <th>RestingBP</th>\n",
       "      <th>Cholesterol</th>\n",
       "      <th>FastingBS</th>\n",
       "      <th>RestingECG</th>\n",
       "      <th>MaxHR</th>\n",
       "      <th>ExerciseAngina</th>\n",
       "      <th>Oldpeak</th>\n",
       "      <th>ST_Slope</th>\n",
       "      <th>HeartDisease</th>\n",
       "    </tr>\n",
       "  </thead>\n",
       "  <tbody>\n",
       "    <tr>\n",
       "      <th>0</th>\n",
       "      <td>40</td>\n",
       "      <td>M</td>\n",
       "      <td>ATA</td>\n",
       "      <td>140</td>\n",
       "      <td>289.0</td>\n",
       "      <td>0</td>\n",
       "      <td>Normal</td>\n",
       "      <td>172</td>\n",
       "      <td>N</td>\n",
       "      <td>0.0</td>\n",
       "      <td>Up</td>\n",
       "      <td>0</td>\n",
       "    </tr>\n",
       "    <tr>\n",
       "      <th>1</th>\n",
       "      <td>49</td>\n",
       "      <td>F</td>\n",
       "      <td>NAP</td>\n",
       "      <td>160</td>\n",
       "      <td>180.0</td>\n",
       "      <td>0</td>\n",
       "      <td>Normal</td>\n",
       "      <td>156</td>\n",
       "      <td>N</td>\n",
       "      <td>1.0</td>\n",
       "      <td>Flat</td>\n",
       "      <td>1</td>\n",
       "    </tr>\n",
       "    <tr>\n",
       "      <th>2</th>\n",
       "      <td>37</td>\n",
       "      <td>M</td>\n",
       "      <td>ATA</td>\n",
       "      <td>130</td>\n",
       "      <td>283.0</td>\n",
       "      <td>0</td>\n",
       "      <td>ST</td>\n",
       "      <td>98</td>\n",
       "      <td>N</td>\n",
       "      <td>0.0</td>\n",
       "      <td>Up</td>\n",
       "      <td>0</td>\n",
       "    </tr>\n",
       "    <tr>\n",
       "      <th>3</th>\n",
       "      <td>48</td>\n",
       "      <td>F</td>\n",
       "      <td>ASY</td>\n",
       "      <td>138</td>\n",
       "      <td>214.0</td>\n",
       "      <td>0</td>\n",
       "      <td>Normal</td>\n",
       "      <td>108</td>\n",
       "      <td>Y</td>\n",
       "      <td>1.5</td>\n",
       "      <td>Flat</td>\n",
       "      <td>1</td>\n",
       "    </tr>\n",
       "    <tr>\n",
       "      <th>4</th>\n",
       "      <td>54</td>\n",
       "      <td>M</td>\n",
       "      <td>NAP</td>\n",
       "      <td>150</td>\n",
       "      <td>195.0</td>\n",
       "      <td>0</td>\n",
       "      <td>Normal</td>\n",
       "      <td>122</td>\n",
       "      <td>N</td>\n",
       "      <td>0.0</td>\n",
       "      <td>Up</td>\n",
       "      <td>0</td>\n",
       "    </tr>\n",
       "    <tr>\n",
       "      <th>...</th>\n",
       "      <td>...</td>\n",
       "      <td>...</td>\n",
       "      <td>...</td>\n",
       "      <td>...</td>\n",
       "      <td>...</td>\n",
       "      <td>...</td>\n",
       "      <td>...</td>\n",
       "      <td>...</td>\n",
       "      <td>...</td>\n",
       "      <td>...</td>\n",
       "      <td>...</td>\n",
       "      <td>...</td>\n",
       "    </tr>\n",
       "    <tr>\n",
       "      <th>912</th>\n",
       "      <td>45</td>\n",
       "      <td>M</td>\n",
       "      <td>TA</td>\n",
       "      <td>110</td>\n",
       "      <td>264.0</td>\n",
       "      <td>0</td>\n",
       "      <td>Normal</td>\n",
       "      <td>132</td>\n",
       "      <td>N</td>\n",
       "      <td>1.2</td>\n",
       "      <td>Flat</td>\n",
       "      <td>1</td>\n",
       "    </tr>\n",
       "    <tr>\n",
       "      <th>913</th>\n",
       "      <td>68</td>\n",
       "      <td>M</td>\n",
       "      <td>ASY</td>\n",
       "      <td>144</td>\n",
       "      <td>193.0</td>\n",
       "      <td>1</td>\n",
       "      <td>Normal</td>\n",
       "      <td>141</td>\n",
       "      <td>N</td>\n",
       "      <td>3.4</td>\n",
       "      <td>Flat</td>\n",
       "      <td>1</td>\n",
       "    </tr>\n",
       "    <tr>\n",
       "      <th>914</th>\n",
       "      <td>57</td>\n",
       "      <td>M</td>\n",
       "      <td>ASY</td>\n",
       "      <td>130</td>\n",
       "      <td>131.0</td>\n",
       "      <td>0</td>\n",
       "      <td>Normal</td>\n",
       "      <td>115</td>\n",
       "      <td>Y</td>\n",
       "      <td>1.2</td>\n",
       "      <td>Flat</td>\n",
       "      <td>1</td>\n",
       "    </tr>\n",
       "    <tr>\n",
       "      <th>915</th>\n",
       "      <td>57</td>\n",
       "      <td>F</td>\n",
       "      <td>ATA</td>\n",
       "      <td>130</td>\n",
       "      <td>236.0</td>\n",
       "      <td>0</td>\n",
       "      <td>LVH</td>\n",
       "      <td>174</td>\n",
       "      <td>N</td>\n",
       "      <td>0.0</td>\n",
       "      <td>Flat</td>\n",
       "      <td>1</td>\n",
       "    </tr>\n",
       "    <tr>\n",
       "      <th>916</th>\n",
       "      <td>38</td>\n",
       "      <td>M</td>\n",
       "      <td>NAP</td>\n",
       "      <td>138</td>\n",
       "      <td>175.0</td>\n",
       "      <td>0</td>\n",
       "      <td>Normal</td>\n",
       "      <td>173</td>\n",
       "      <td>N</td>\n",
       "      <td>0.0</td>\n",
       "      <td>Up</td>\n",
       "      <td>0</td>\n",
       "    </tr>\n",
       "  </tbody>\n",
       "</table>\n",
       "<p>917 rows × 12 columns</p>\n",
       "</div>"
      ]
     },
     "execution_count": 458,
     "metadata": {},
     "output_type": "execute_result"
    }
   ],
   "execution_count": 458
  },
  {
   "metadata": {
    "ExecuteTime": {
     "end_time": "2024-04-09T03:40:03.046740Z",
     "start_time": "2024-04-09T03:40:03.033503Z"
    }
   },
   "cell_type": "code",
   "source": "previsores4 = df.iloc[:, 0:11]",
   "id": "715aae24665d1588",
   "outputs": [],
   "execution_count": 459
  },
  {
   "metadata": {
    "ExecuteTime": {
     "end_time": "2024-04-09T03:40:03.078053Z",
     "start_time": "2024-04-09T03:40:03.048739Z"
    }
   },
   "cell_type": "code",
   "source": "previsores4.head()",
   "id": "440e9c733ffc8887",
   "outputs": [
    {
     "data": {
      "text/plain": [
       "   Age Sex ChestPainType  RestingBP  Cholesterol  FastingBS RestingECG  MaxHR  \\\n",
       "0   40   M           ATA        140        289.0          0     Normal    172   \n",
       "1   49   F           NAP        160        180.0          0     Normal    156   \n",
       "2   37   M           ATA        130        283.0          0         ST     98   \n",
       "3   48   F           ASY        138        214.0          0     Normal    108   \n",
       "4   54   M           NAP        150        195.0          0     Normal    122   \n",
       "\n",
       "  ExerciseAngina  Oldpeak ST_Slope  \n",
       "0              N      0.0       Up  \n",
       "1              N      1.0     Flat  \n",
       "2              N      0.0       Up  \n",
       "3              Y      1.5     Flat  \n",
       "4              N      0.0       Up  "
      ],
      "text/html": [
       "<div>\n",
       "<style scoped>\n",
       "    .dataframe tbody tr th:only-of-type {\n",
       "        vertical-align: middle;\n",
       "    }\n",
       "\n",
       "    .dataframe tbody tr th {\n",
       "        vertical-align: top;\n",
       "    }\n",
       "\n",
       "    .dataframe thead th {\n",
       "        text-align: right;\n",
       "    }\n",
       "</style>\n",
       "<table border=\"1\" class=\"dataframe\">\n",
       "  <thead>\n",
       "    <tr style=\"text-align: right;\">\n",
       "      <th></th>\n",
       "      <th>Age</th>\n",
       "      <th>Sex</th>\n",
       "      <th>ChestPainType</th>\n",
       "      <th>RestingBP</th>\n",
       "      <th>Cholesterol</th>\n",
       "      <th>FastingBS</th>\n",
       "      <th>RestingECG</th>\n",
       "      <th>MaxHR</th>\n",
       "      <th>ExerciseAngina</th>\n",
       "      <th>Oldpeak</th>\n",
       "      <th>ST_Slope</th>\n",
       "    </tr>\n",
       "  </thead>\n",
       "  <tbody>\n",
       "    <tr>\n",
       "      <th>0</th>\n",
       "      <td>40</td>\n",
       "      <td>M</td>\n",
       "      <td>ATA</td>\n",
       "      <td>140</td>\n",
       "      <td>289.0</td>\n",
       "      <td>0</td>\n",
       "      <td>Normal</td>\n",
       "      <td>172</td>\n",
       "      <td>N</td>\n",
       "      <td>0.0</td>\n",
       "      <td>Up</td>\n",
       "    </tr>\n",
       "    <tr>\n",
       "      <th>1</th>\n",
       "      <td>49</td>\n",
       "      <td>F</td>\n",
       "      <td>NAP</td>\n",
       "      <td>160</td>\n",
       "      <td>180.0</td>\n",
       "      <td>0</td>\n",
       "      <td>Normal</td>\n",
       "      <td>156</td>\n",
       "      <td>N</td>\n",
       "      <td>1.0</td>\n",
       "      <td>Flat</td>\n",
       "    </tr>\n",
       "    <tr>\n",
       "      <th>2</th>\n",
       "      <td>37</td>\n",
       "      <td>M</td>\n",
       "      <td>ATA</td>\n",
       "      <td>130</td>\n",
       "      <td>283.0</td>\n",
       "      <td>0</td>\n",
       "      <td>ST</td>\n",
       "      <td>98</td>\n",
       "      <td>N</td>\n",
       "      <td>0.0</td>\n",
       "      <td>Up</td>\n",
       "    </tr>\n",
       "    <tr>\n",
       "      <th>3</th>\n",
       "      <td>48</td>\n",
       "      <td>F</td>\n",
       "      <td>ASY</td>\n",
       "      <td>138</td>\n",
       "      <td>214.0</td>\n",
       "      <td>0</td>\n",
       "      <td>Normal</td>\n",
       "      <td>108</td>\n",
       "      <td>Y</td>\n",
       "      <td>1.5</td>\n",
       "      <td>Flat</td>\n",
       "    </tr>\n",
       "    <tr>\n",
       "      <th>4</th>\n",
       "      <td>54</td>\n",
       "      <td>M</td>\n",
       "      <td>NAP</td>\n",
       "      <td>150</td>\n",
       "      <td>195.0</td>\n",
       "      <td>0</td>\n",
       "      <td>Normal</td>\n",
       "      <td>122</td>\n",
       "      <td>N</td>\n",
       "      <td>0.0</td>\n",
       "      <td>Up</td>\n",
       "    </tr>\n",
       "  </tbody>\n",
       "</table>\n",
       "</div>"
      ]
     },
     "execution_count": 460,
     "metadata": {},
     "output_type": "execute_result"
    }
   ],
   "execution_count": 460
  },
  {
   "metadata": {
    "ExecuteTime": {
     "end_time": "2024-04-09T03:40:03.093199Z",
     "start_time": "2024-04-09T03:40:03.080053Z"
    }
   },
   "cell_type": "code",
   "source": "alvo4 = df.iloc[:, 11]",
   "id": "bca873576ada62be",
   "outputs": [],
   "execution_count": 461
  },
  {
   "metadata": {
    "ExecuteTime": {
     "end_time": "2024-04-09T03:40:03.108467Z",
     "start_time": "2024-04-09T03:40:03.095199Z"
    }
   },
   "cell_type": "code",
   "source": "from sklearn.model_selection import train_test_split",
   "id": "c0ba45017dfb724a",
   "outputs": [],
   "execution_count": 462
  },
  {
   "metadata": {
    "ExecuteTime": {
     "end_time": "2024-04-09T03:40:03.123629Z",
     "start_time": "2024-04-09T03:40:03.111485Z"
    }
   },
   "cell_type": "code",
   "source": "x_treino, x_teste, y_treino, y_teste = train_test_split(previsores4, alvo4, test_size=0.3, random_state=0)",
   "id": "186871cbd75872ec",
   "outputs": [],
   "execution_count": 463
  },
  {
   "metadata": {
    "ExecuteTime": {
     "end_time": "2024-04-09T03:40:03.139455Z",
     "start_time": "2024-04-09T03:40:03.126275Z"
    }
   },
   "cell_type": "code",
   "source": "categoricas = ['Sex', 'ChestPainType', 'RestingECG', 'ExerciseAngina', 'ST_Slope']",
   "id": "dcba7787cd0ba347",
   "outputs": [],
   "execution_count": 464
  },
  {
   "metadata": {
    "ExecuteTime": {
     "end_time": "2024-04-09T03:40:03.154772Z",
     "start_time": "2024-04-09T03:40:03.142542Z"
    }
   },
   "cell_type": "code",
   "source": "catboost = CatBoostClassifier(task_type='CPU', iterations=150, learning_rate=0.1, depth=5, random_state=5, eval_metric='Accuracy')",
   "id": "30d0bc00be705958",
   "outputs": [],
   "execution_count": 465
  },
  {
   "metadata": {
    "ExecuteTime": {
     "end_time": "2024-04-09T03:40:07.940855Z",
     "start_time": "2024-04-09T03:40:03.157859Z"
    }
   },
   "cell_type": "code",
   "source": "catboost.fit(x_treino, y_treino, cat_features=categoricas, plot=True, eval_set=(x_teste, y_teste))",
   "id": "2f740b69ec3cc77e",
   "outputs": [
    {
     "data": {
      "text/plain": [
       "MetricVisualizer(layout=Layout(align_self='stretch', height='500px'))"
      ],
      "application/vnd.jupyter.widget-view+json": {
       "version_major": 2,
       "version_minor": 0,
       "model_id": "8bd01ac9d33343dcb7f9ba04f89e07cd"
      }
     },
     "metadata": {},
     "output_type": "display_data"
    },
    {
     "name": "stdout",
     "output_type": "stream",
     "text": [
      "0:\tlearn: 0.7815913\ttest: 0.7753623\tbest: 0.7753623 (0)\ttotal: 21.2ms\tremaining: 3.15s\n",
      "1:\tlearn: 0.8346334\ttest: 0.8115942\tbest: 0.8115942 (1)\ttotal: 42.3ms\tremaining: 3.13s\n",
      "2:\tlearn: 0.8439938\ttest: 0.8007246\tbest: 0.8115942 (1)\ttotal: 52.8ms\tremaining: 2.59s\n",
      "3:\tlearn: 0.8439938\ttest: 0.8007246\tbest: 0.8115942 (1)\ttotal: 78.9ms\tremaining: 2.88s\n",
      "4:\tlearn: 0.8580343\ttest: 0.8188406\tbest: 0.8188406 (4)\ttotal: 105ms\tremaining: 3.05s\n",
      "5:\tlearn: 0.8658346\ttest: 0.8260870\tbest: 0.8260870 (5)\ttotal: 131ms\tremaining: 3.14s\n",
      "6:\tlearn: 0.8564743\ttest: 0.8152174\tbest: 0.8260870 (5)\ttotal: 151ms\tremaining: 3.08s\n",
      "7:\tlearn: 0.8486739\ttest: 0.8079710\tbest: 0.8260870 (5)\ttotal: 177ms\tremaining: 3.15s\n",
      "8:\tlearn: 0.8455538\ttest: 0.8079710\tbest: 0.8260870 (5)\ttotal: 202ms\tremaining: 3.17s\n",
      "9:\tlearn: 0.8439938\ttest: 0.8043478\tbest: 0.8260870 (5)\ttotal: 228ms\tremaining: 3.19s\n",
      "10:\tlearn: 0.8439938\ttest: 0.8007246\tbest: 0.8260870 (5)\ttotal: 257ms\tremaining: 3.24s\n",
      "11:\tlearn: 0.8439938\ttest: 0.8043478\tbest: 0.8260870 (5)\ttotal: 282ms\tremaining: 3.24s\n",
      "12:\tlearn: 0.8439938\ttest: 0.8079710\tbest: 0.8260870 (5)\ttotal: 308ms\tremaining: 3.24s\n",
      "13:\tlearn: 0.8439938\ttest: 0.8115942\tbest: 0.8260870 (5)\ttotal: 336ms\tremaining: 3.27s\n",
      "14:\tlearn: 0.8439938\ttest: 0.8115942\tbest: 0.8260870 (5)\ttotal: 353ms\tremaining: 3.18s\n",
      "15:\tlearn: 0.8439938\ttest: 0.8115942\tbest: 0.8260870 (5)\ttotal: 381ms\tremaining: 3.19s\n",
      "16:\tlearn: 0.8486739\ttest: 0.8188406\tbest: 0.8260870 (5)\ttotal: 402ms\tremaining: 3.15s\n",
      "17:\tlearn: 0.8549142\ttest: 0.8188406\tbest: 0.8260870 (5)\ttotal: 433ms\tremaining: 3.18s\n",
      "18:\tlearn: 0.8564743\ttest: 0.8224638\tbest: 0.8260870 (5)\ttotal: 463ms\tremaining: 3.19s\n",
      "19:\tlearn: 0.8627145\ttest: 0.8152174\tbest: 0.8260870 (5)\ttotal: 489ms\tremaining: 3.18s\n",
      "20:\tlearn: 0.8658346\ttest: 0.8152174\tbest: 0.8260870 (5)\ttotal: 516ms\tremaining: 3.17s\n",
      "21:\tlearn: 0.8658346\ttest: 0.8188406\tbest: 0.8260870 (5)\ttotal: 544ms\tremaining: 3.17s\n",
      "22:\tlearn: 0.8642746\ttest: 0.8152174\tbest: 0.8260870 (5)\ttotal: 574ms\tremaining: 3.17s\n",
      "23:\tlearn: 0.8705148\ttest: 0.8188406\tbest: 0.8260870 (5)\ttotal: 603ms\tremaining: 3.17s\n",
      "24:\tlearn: 0.8705148\ttest: 0.8297101\tbest: 0.8297101 (24)\ttotal: 635ms\tremaining: 3.17s\n",
      "25:\tlearn: 0.8767551\ttest: 0.8297101\tbest: 0.8297101 (24)\ttotal: 666ms\tremaining: 3.17s\n",
      "26:\tlearn: 0.8783151\ttest: 0.8297101\tbest: 0.8297101 (24)\ttotal: 696ms\tremaining: 3.17s\n",
      "27:\tlearn: 0.8814353\ttest: 0.8333333\tbest: 0.8333333 (27)\ttotal: 725ms\tremaining: 3.16s\n",
      "28:\tlearn: 0.8798752\ttest: 0.8333333\tbest: 0.8333333 (27)\ttotal: 753ms\tremaining: 3.14s\n",
      "29:\tlearn: 0.8798752\ttest: 0.8333333\tbest: 0.8333333 (27)\ttotal: 793ms\tremaining: 3.17s\n",
      "30:\tlearn: 0.8814353\ttest: 0.8405797\tbest: 0.8405797 (30)\ttotal: 821ms\tremaining: 3.15s\n",
      "31:\tlearn: 0.8829953\ttest: 0.8369565\tbest: 0.8405797 (30)\ttotal: 852ms\tremaining: 3.14s\n",
      "32:\tlearn: 0.8814353\ttest: 0.8405797\tbest: 0.8405797 (30)\ttotal: 881ms\tremaining: 3.12s\n",
      "33:\tlearn: 0.8829953\ttest: 0.8442029\tbest: 0.8442029 (33)\ttotal: 908ms\tremaining: 3.1s\n",
      "34:\tlearn: 0.8845554\ttest: 0.8369565\tbest: 0.8442029 (33)\ttotal: 934ms\tremaining: 3.07s\n",
      "35:\tlearn: 0.8845554\ttest: 0.8405797\tbest: 0.8442029 (33)\ttotal: 961ms\tremaining: 3.04s\n",
      "36:\tlearn: 0.8861154\ttest: 0.8442029\tbest: 0.8442029 (33)\ttotal: 990ms\tremaining: 3.02s\n",
      "37:\tlearn: 0.8845554\ttest: 0.8478261\tbest: 0.8478261 (37)\ttotal: 1.02s\tremaining: 3s\n",
      "38:\tlearn: 0.8814353\ttest: 0.8478261\tbest: 0.8478261 (37)\ttotal: 1.05s\tremaining: 2.98s\n",
      "39:\tlearn: 0.8845554\ttest: 0.8550725\tbest: 0.8550725 (39)\ttotal: 1.07s\tremaining: 2.96s\n",
      "40:\tlearn: 0.8907956\ttest: 0.8586957\tbest: 0.8586957 (40)\ttotal: 1.1s\tremaining: 2.93s\n",
      "41:\tlearn: 0.8907956\ttest: 0.8586957\tbest: 0.8586957 (40)\ttotal: 1.13s\tremaining: 2.91s\n",
      "42:\tlearn: 0.8876755\ttest: 0.8659420\tbest: 0.8659420 (42)\ttotal: 1.16s\tremaining: 2.89s\n",
      "43:\tlearn: 0.8876755\ttest: 0.8623188\tbest: 0.8659420 (42)\ttotal: 1.19s\tremaining: 2.87s\n",
      "44:\tlearn: 0.8923557\ttest: 0.8623188\tbest: 0.8659420 (42)\ttotal: 1.22s\tremaining: 2.85s\n",
      "45:\tlearn: 0.8907956\ttest: 0.8659420\tbest: 0.8659420 (42)\ttotal: 1.25s\tremaining: 2.83s\n",
      "46:\tlearn: 0.8892356\ttest: 0.8623188\tbest: 0.8659420 (42)\ttotal: 1.28s\tremaining: 2.81s\n",
      "47:\tlearn: 0.8923557\ttest: 0.8659420\tbest: 0.8659420 (42)\ttotal: 1.31s\tremaining: 2.78s\n",
      "48:\tlearn: 0.8923557\ttest: 0.8659420\tbest: 0.8659420 (42)\ttotal: 1.34s\tremaining: 2.76s\n",
      "49:\tlearn: 0.8939158\ttest: 0.8695652\tbest: 0.8695652 (49)\ttotal: 1.37s\tremaining: 2.73s\n",
      "50:\tlearn: 0.8939158\ttest: 0.8695652\tbest: 0.8695652 (49)\ttotal: 1.39s\tremaining: 2.71s\n",
      "51:\tlearn: 0.8939158\ttest: 0.8695652\tbest: 0.8695652 (49)\ttotal: 1.42s\tremaining: 2.68s\n",
      "52:\tlearn: 0.8970359\ttest: 0.8695652\tbest: 0.8695652 (49)\ttotal: 1.48s\tremaining: 2.7s\n",
      "53:\tlearn: 0.8939158\ttest: 0.8695652\tbest: 0.8695652 (49)\ttotal: 1.5s\tremaining: 2.68s\n",
      "54:\tlearn: 0.8939158\ttest: 0.8695652\tbest: 0.8695652 (49)\ttotal: 1.53s\tremaining: 2.65s\n",
      "55:\tlearn: 0.8954758\ttest: 0.8695652\tbest: 0.8695652 (49)\ttotal: 1.56s\tremaining: 2.62s\n",
      "56:\tlearn: 0.8970359\ttest: 0.8695652\tbest: 0.8695652 (49)\ttotal: 1.59s\tremaining: 2.6s\n",
      "57:\tlearn: 0.8985959\ttest: 0.8695652\tbest: 0.8695652 (49)\ttotal: 1.62s\tremaining: 2.57s\n",
      "58:\tlearn: 0.8985959\ttest: 0.8695652\tbest: 0.8695652 (49)\ttotal: 1.65s\tremaining: 2.55s\n",
      "59:\tlearn: 0.8985959\ttest: 0.8695652\tbest: 0.8695652 (49)\ttotal: 1.69s\tremaining: 2.53s\n",
      "60:\tlearn: 0.8985959\ttest: 0.8695652\tbest: 0.8695652 (49)\ttotal: 1.72s\tremaining: 2.51s\n",
      "61:\tlearn: 0.8985959\ttest: 0.8695652\tbest: 0.8695652 (49)\ttotal: 1.75s\tremaining: 2.48s\n",
      "62:\tlearn: 0.8985959\ttest: 0.8695652\tbest: 0.8695652 (49)\ttotal: 1.77s\tremaining: 2.44s\n",
      "63:\tlearn: 0.8985959\ttest: 0.8695652\tbest: 0.8695652 (49)\ttotal: 1.8s\tremaining: 2.42s\n",
      "64:\tlearn: 0.8985959\ttest: 0.8695652\tbest: 0.8695652 (49)\ttotal: 1.84s\tremaining: 2.4s\n",
      "65:\tlearn: 0.8985959\ttest: 0.8695652\tbest: 0.8695652 (49)\ttotal: 1.86s\tremaining: 2.37s\n",
      "66:\tlearn: 0.8985959\ttest: 0.8695652\tbest: 0.8695652 (49)\ttotal: 1.89s\tremaining: 2.34s\n",
      "67:\tlearn: 0.8985959\ttest: 0.8659420\tbest: 0.8695652 (49)\ttotal: 1.92s\tremaining: 2.31s\n",
      "68:\tlearn: 0.8985959\ttest: 0.8695652\tbest: 0.8695652 (49)\ttotal: 1.94s\tremaining: 2.28s\n",
      "69:\tlearn: 0.8985959\ttest: 0.8695652\tbest: 0.8695652 (49)\ttotal: 1.97s\tremaining: 2.25s\n",
      "70:\tlearn: 0.8985959\ttest: 0.8695652\tbest: 0.8695652 (49)\ttotal: 2s\tremaining: 2.22s\n",
      "71:\tlearn: 0.8985959\ttest: 0.8695652\tbest: 0.8695652 (49)\ttotal: 2.02s\tremaining: 2.19s\n",
      "72:\tlearn: 0.8985959\ttest: 0.8695652\tbest: 0.8695652 (49)\ttotal: 2.05s\tremaining: 2.16s\n",
      "73:\tlearn: 0.8985959\ttest: 0.8695652\tbest: 0.8695652 (49)\ttotal: 2.07s\tremaining: 2.13s\n",
      "74:\tlearn: 0.8985959\ttest: 0.8695652\tbest: 0.8695652 (49)\ttotal: 2.1s\tremaining: 2.1s\n",
      "75:\tlearn: 0.8985959\ttest: 0.8695652\tbest: 0.8695652 (49)\ttotal: 2.13s\tremaining: 2.07s\n",
      "76:\tlearn: 0.8985959\ttest: 0.8695652\tbest: 0.8695652 (49)\ttotal: 2.15s\tremaining: 2.04s\n",
      "77:\tlearn: 0.8985959\ttest: 0.8695652\tbest: 0.8695652 (49)\ttotal: 2.18s\tremaining: 2.01s\n",
      "78:\tlearn: 0.8985959\ttest: 0.8659420\tbest: 0.8695652 (49)\ttotal: 2.21s\tremaining: 1.98s\n",
      "79:\tlearn: 0.8985959\ttest: 0.8695652\tbest: 0.8695652 (49)\ttotal: 2.23s\tremaining: 1.95s\n",
      "80:\tlearn: 0.8985959\ttest: 0.8695652\tbest: 0.8695652 (49)\ttotal: 2.26s\tremaining: 1.93s\n",
      "81:\tlearn: 0.8985959\ttest: 0.8659420\tbest: 0.8695652 (49)\ttotal: 2.29s\tremaining: 1.9s\n",
      "82:\tlearn: 0.8985959\ttest: 0.8695652\tbest: 0.8695652 (49)\ttotal: 2.32s\tremaining: 1.88s\n",
      "83:\tlearn: 0.8970359\ttest: 0.8695652\tbest: 0.8695652 (49)\ttotal: 2.35s\tremaining: 1.84s\n",
      "84:\tlearn: 0.8985959\ttest: 0.8695652\tbest: 0.8695652 (49)\ttotal: 2.37s\tremaining: 1.81s\n",
      "85:\tlearn: 0.8970359\ttest: 0.8695652\tbest: 0.8695652 (49)\ttotal: 2.4s\tremaining: 1.79s\n",
      "86:\tlearn: 0.8985959\ttest: 0.8695652\tbest: 0.8695652 (49)\ttotal: 2.42s\tremaining: 1.76s\n",
      "87:\tlearn: 0.8985959\ttest: 0.8695652\tbest: 0.8695652 (49)\ttotal: 2.47s\tremaining: 1.74s\n",
      "88:\tlearn: 0.8985959\ttest: 0.8659420\tbest: 0.8695652 (49)\ttotal: 2.49s\tremaining: 1.71s\n",
      "89:\tlearn: 0.8985959\ttest: 0.8659420\tbest: 0.8695652 (49)\ttotal: 2.52s\tremaining: 1.68s\n",
      "90:\tlearn: 0.8985959\ttest: 0.8659420\tbest: 0.8695652 (49)\ttotal: 2.54s\tremaining: 1.65s\n",
      "91:\tlearn: 0.8985959\ttest: 0.8659420\tbest: 0.8695652 (49)\ttotal: 2.57s\tremaining: 1.62s\n",
      "92:\tlearn: 0.8985959\ttest: 0.8659420\tbest: 0.8695652 (49)\ttotal: 2.59s\tremaining: 1.59s\n",
      "93:\tlearn: 0.8985959\ttest: 0.8659420\tbest: 0.8695652 (49)\ttotal: 2.62s\tremaining: 1.56s\n",
      "94:\tlearn: 0.8985959\ttest: 0.8659420\tbest: 0.8695652 (49)\ttotal: 2.64s\tremaining: 1.53s\n",
      "95:\tlearn: 0.8985959\ttest: 0.8659420\tbest: 0.8695652 (49)\ttotal: 2.67s\tremaining: 1.5s\n",
      "96:\tlearn: 0.8985959\ttest: 0.8659420\tbest: 0.8695652 (49)\ttotal: 2.7s\tremaining: 1.48s\n",
      "97:\tlearn: 0.8985959\ttest: 0.8659420\tbest: 0.8695652 (49)\ttotal: 2.73s\tremaining: 1.45s\n",
      "98:\tlearn: 0.8985959\ttest: 0.8659420\tbest: 0.8695652 (49)\ttotal: 2.76s\tremaining: 1.42s\n",
      "99:\tlearn: 0.8985959\ttest: 0.8659420\tbest: 0.8695652 (49)\ttotal: 2.8s\tremaining: 1.4s\n",
      "100:\tlearn: 0.8970359\ttest: 0.8659420\tbest: 0.8695652 (49)\ttotal: 2.82s\tremaining: 1.37s\n",
      "101:\tlearn: 0.9001560\ttest: 0.8659420\tbest: 0.8695652 (49)\ttotal: 2.85s\tremaining: 1.34s\n",
      "102:\tlearn: 0.9001560\ttest: 0.8659420\tbest: 0.8695652 (49)\ttotal: 2.88s\tremaining: 1.31s\n",
      "103:\tlearn: 0.9001560\ttest: 0.8659420\tbest: 0.8695652 (49)\ttotal: 2.91s\tremaining: 1.29s\n",
      "104:\tlearn: 0.9001560\ttest: 0.8659420\tbest: 0.8695652 (49)\ttotal: 2.94s\tremaining: 1.26s\n",
      "105:\tlearn: 0.9001560\ttest: 0.8659420\tbest: 0.8695652 (49)\ttotal: 2.97s\tremaining: 1.23s\n",
      "106:\tlearn: 0.8985959\ttest: 0.8659420\tbest: 0.8695652 (49)\ttotal: 2.99s\tremaining: 1.2s\n",
      "107:\tlearn: 0.8985959\ttest: 0.8659420\tbest: 0.8695652 (49)\ttotal: 3.02s\tremaining: 1.17s\n",
      "108:\tlearn: 0.8985959\ttest: 0.8659420\tbest: 0.8695652 (49)\ttotal: 3.05s\tremaining: 1.15s\n",
      "109:\tlearn: 0.8985959\ttest: 0.8659420\tbest: 0.8695652 (49)\ttotal: 3.08s\tremaining: 1.12s\n",
      "110:\tlearn: 0.8985959\ttest: 0.8659420\tbest: 0.8695652 (49)\ttotal: 3.1s\tremaining: 1.09s\n",
      "111:\tlearn: 0.8985959\ttest: 0.8659420\tbest: 0.8695652 (49)\ttotal: 3.13s\tremaining: 1.06s\n",
      "112:\tlearn: 0.8985959\ttest: 0.8659420\tbest: 0.8695652 (49)\ttotal: 3.15s\tremaining: 1.03s\n",
      "113:\tlearn: 0.8985959\ttest: 0.8659420\tbest: 0.8695652 (49)\ttotal: 3.19s\tremaining: 1s\n",
      "114:\tlearn: 0.8985959\ttest: 0.8695652\tbest: 0.8695652 (49)\ttotal: 3.21s\tremaining: 977ms\n",
      "115:\tlearn: 0.8985959\ttest: 0.8695652\tbest: 0.8695652 (49)\ttotal: 3.24s\tremaining: 949ms\n",
      "116:\tlearn: 0.9001560\ttest: 0.8695652\tbest: 0.8695652 (49)\ttotal: 3.26s\tremaining: 920ms\n",
      "117:\tlearn: 0.9001560\ttest: 0.8695652\tbest: 0.8695652 (49)\ttotal: 3.29s\tremaining: 892ms\n",
      "118:\tlearn: 0.9001560\ttest: 0.8695652\tbest: 0.8695652 (49)\ttotal: 3.31s\tremaining: 863ms\n",
      "119:\tlearn: 0.9001560\ttest: 0.8695652\tbest: 0.8695652 (49)\ttotal: 3.34s\tremaining: 835ms\n",
      "120:\tlearn: 0.9017161\ttest: 0.8659420\tbest: 0.8695652 (49)\ttotal: 3.36s\tremaining: 806ms\n",
      "121:\tlearn: 0.9017161\ttest: 0.8659420\tbest: 0.8695652 (49)\ttotal: 3.39s\tremaining: 778ms\n",
      "122:\tlearn: 0.9017161\ttest: 0.8659420\tbest: 0.8695652 (49)\ttotal: 3.42s\tremaining: 750ms\n",
      "123:\tlearn: 0.9017161\ttest: 0.8659420\tbest: 0.8695652 (49)\ttotal: 3.44s\tremaining: 722ms\n",
      "124:\tlearn: 0.9017161\ttest: 0.8659420\tbest: 0.8695652 (49)\ttotal: 3.47s\tremaining: 694ms\n",
      "125:\tlearn: 0.9017161\ttest: 0.8659420\tbest: 0.8695652 (49)\ttotal: 3.5s\tremaining: 666ms\n",
      "126:\tlearn: 0.9001560\ttest: 0.8659420\tbest: 0.8695652 (49)\ttotal: 3.52s\tremaining: 638ms\n",
      "127:\tlearn: 0.9017161\ttest: 0.8659420\tbest: 0.8695652 (49)\ttotal: 3.55s\tremaining: 611ms\n",
      "128:\tlearn: 0.9032761\ttest: 0.8659420\tbest: 0.8695652 (49)\ttotal: 3.58s\tremaining: 584ms\n",
      "129:\tlearn: 0.9032761\ttest: 0.8659420\tbest: 0.8695652 (49)\ttotal: 3.62s\tremaining: 557ms\n",
      "130:\tlearn: 0.9032761\ttest: 0.8659420\tbest: 0.8695652 (49)\ttotal: 3.65s\tremaining: 529ms\n",
      "131:\tlearn: 0.9032761\ttest: 0.8659420\tbest: 0.8695652 (49)\ttotal: 3.67s\tremaining: 501ms\n",
      "132:\tlearn: 0.9032761\ttest: 0.8659420\tbest: 0.8695652 (49)\ttotal: 3.71s\tremaining: 474ms\n",
      "133:\tlearn: 0.9032761\ttest: 0.8659420\tbest: 0.8695652 (49)\ttotal: 3.74s\tremaining: 447ms\n",
      "134:\tlearn: 0.9032761\ttest: 0.8659420\tbest: 0.8695652 (49)\ttotal: 3.77s\tremaining: 419ms\n",
      "135:\tlearn: 0.9032761\ttest: 0.8659420\tbest: 0.8695652 (49)\ttotal: 3.8s\tremaining: 391ms\n",
      "136:\tlearn: 0.9001560\ttest: 0.8659420\tbest: 0.8695652 (49)\ttotal: 3.83s\tremaining: 363ms\n",
      "137:\tlearn: 0.9001560\ttest: 0.8659420\tbest: 0.8695652 (49)\ttotal: 3.86s\tremaining: 335ms\n",
      "138:\tlearn: 0.9001560\ttest: 0.8659420\tbest: 0.8695652 (49)\ttotal: 3.88s\tremaining: 307ms\n",
      "139:\tlearn: 0.9001560\ttest: 0.8659420\tbest: 0.8695652 (49)\ttotal: 3.91s\tremaining: 279ms\n",
      "140:\tlearn: 0.9017161\ttest: 0.8659420\tbest: 0.8695652 (49)\ttotal: 3.94s\tremaining: 252ms\n",
      "141:\tlearn: 0.9017161\ttest: 0.8659420\tbest: 0.8695652 (49)\ttotal: 3.97s\tremaining: 224ms\n",
      "142:\tlearn: 0.9017161\ttest: 0.8659420\tbest: 0.8695652 (49)\ttotal: 4s\tremaining: 196ms\n",
      "143:\tlearn: 0.9017161\ttest: 0.8659420\tbest: 0.8695652 (49)\ttotal: 4.03s\tremaining: 168ms\n",
      "144:\tlearn: 0.9001560\ttest: 0.8659420\tbest: 0.8695652 (49)\ttotal: 4.06s\tremaining: 140ms\n",
      "145:\tlearn: 0.9001560\ttest: 0.8659420\tbest: 0.8695652 (49)\ttotal: 4.08s\tremaining: 112ms\n",
      "146:\tlearn: 0.9032761\ttest: 0.8659420\tbest: 0.8695652 (49)\ttotal: 4.11s\tremaining: 83.9ms\n",
      "147:\tlearn: 0.9017161\ttest: 0.8659420\tbest: 0.8695652 (49)\ttotal: 4.14s\tremaining: 55.9ms\n",
      "148:\tlearn: 0.9017161\ttest: 0.8659420\tbest: 0.8695652 (49)\ttotal: 4.16s\tremaining: 27.9ms\n",
      "149:\tlearn: 0.9017161\ttest: 0.8659420\tbest: 0.8695652 (49)\ttotal: 4.19s\tremaining: 0us\n",
      "\n",
      "bestTest = 0.8695652174\n",
      "bestIteration = 49\n",
      "\n",
      "Shrink model to first 50 iterations.\n"
     ]
    },
    {
     "data": {
      "text/plain": [
       "<catboost.core.CatBoostClassifier at 0x27c815d63a0>"
      ]
     },
     "execution_count": 466,
     "metadata": {},
     "output_type": "execute_result"
    }
   ],
   "execution_count": 466
  },
  {
   "metadata": {
    "ExecuteTime": {
     "end_time": "2024-04-09T03:40:07.972392Z",
     "start_time": "2024-04-09T03:40:07.944410Z"
    }
   },
   "cell_type": "code",
   "source": [
    "previsoes_cat = catboost.predict(x_teste)\n",
    "previsoes_cat"
   ],
   "id": "a5af94be3502835f",
   "outputs": [
    {
     "data": {
      "text/plain": [
       "array([1, 1, 1, 0, 0, 0, 0, 0, 0, 0, 1, 1, 1, 1, 0, 1, 1, 1, 1, 0, 1, 1,\n",
       "       1, 0, 0, 0, 1, 1, 1, 1, 1, 0, 0, 0, 1, 0, 0, 0, 1, 0, 0, 1, 1, 1,\n",
       "       1, 0, 0, 1, 0, 1, 1, 0, 0, 0, 1, 0, 0, 0, 1, 0, 1, 1, 1, 0, 1, 1,\n",
       "       1, 0, 1, 0, 1, 1, 0, 1, 1, 1, 1, 1, 1, 1, 1, 1, 0, 0, 1, 1, 1, 1,\n",
       "       1, 0, 1, 0, 0, 0, 1, 0, 1, 0, 0, 0, 0, 1, 1, 1, 0, 1, 0, 0, 0, 1,\n",
       "       0, 1, 1, 1, 0, 1, 0, 1, 1, 1, 1, 1, 1, 0, 1, 1, 0, 1, 0, 1, 0, 1,\n",
       "       1, 1, 0, 1, 1, 1, 1, 0, 0, 1, 0, 1, 0, 0, 1, 1, 1, 0, 0, 1, 1, 0,\n",
       "       1, 0, 1, 1, 1, 0, 1, 0, 1, 0, 1, 0, 1, 0, 1, 0, 1, 1, 0, 0, 1, 0,\n",
       "       1, 0, 0, 1, 1, 1, 0, 1, 1, 1, 0, 1, 1, 0, 1, 0, 1, 1, 1, 1, 0, 0,\n",
       "       1, 0, 1, 1, 0, 1, 1, 0, 0, 0, 1, 0, 1, 1, 0, 1, 0, 0, 1, 0, 1, 1,\n",
       "       1, 0, 0, 1, 1, 1, 0, 1, 0, 1, 0, 1, 1, 1, 0, 1, 1, 1, 0, 1, 1, 0,\n",
       "       1, 0, 0, 0, 0, 0, 1, 0, 1, 0, 1, 0, 0, 0, 1, 0, 0, 1, 0, 1, 1, 0,\n",
       "       0, 0, 0, 0, 1, 0, 0, 1, 1, 1, 1, 1], dtype=int64)"
      ]
     },
     "execution_count": 467,
     "metadata": {},
     "output_type": "execute_result"
    }
   ],
   "execution_count": 467
  },
  {
   "metadata": {
    "ExecuteTime": {
     "end_time": "2024-04-09T03:40:07.988384Z",
     "start_time": "2024-04-09T03:40:07.975391Z"
    }
   },
   "cell_type": "code",
   "source": "y_teste",
   "id": "c887168a3dcad05d",
   "outputs": [
    {
     "data": {
      "text/plain": [
       "306    1\n",
       "710    0\n",
       "298    1\n",
       "466    0\n",
       "253    0\n",
       "      ..\n",
       "49     1\n",
       "456    1\n",
       "342    1\n",
       "906    1\n",
       "116    1\n",
       "Name: HeartDisease, Length: 276, dtype: int64"
      ]
     },
     "execution_count": 468,
     "metadata": {},
     "output_type": "execute_result"
    }
   ],
   "execution_count": 468
  },
  {
   "metadata": {
    "ExecuteTime": {
     "end_time": "2024-04-09T03:40:08.004372Z",
     "start_time": "2024-04-09T03:40:07.991381Z"
    }
   },
   "cell_type": "code",
   "source": "from sklearn.metrics import accuracy_score, confusion_matrix, classification_report",
   "id": "645cbbb15655df35",
   "outputs": [],
   "execution_count": 469
  },
  {
   "metadata": {
    "ExecuteTime": {
     "end_time": "2024-04-09T03:40:08.034873Z",
     "start_time": "2024-04-09T03:40:08.008372Z"
    }
   },
   "cell_type": "code",
   "source": "print(f'''Acurácia: {accuracy_score(y_teste, previsoes_cat)*100:.2f}%''')",
   "id": "5f1223534fc72d55",
   "outputs": [
    {
     "name": "stdout",
     "output_type": "stream",
     "text": [
      "Acurácia: 86.96%\n"
     ]
    }
   ],
   "execution_count": 470
  },
  {
   "metadata": {
    "ExecuteTime": {
     "end_time": "2024-04-09T03:40:08.050863Z",
     "start_time": "2024-04-09T03:40:08.036871Z"
    }
   },
   "cell_type": "code",
   "source": "confusion_matrix(y_teste, previsoes_cat)",
   "id": "20ba62385a39c279",
   "outputs": [
    {
     "data": {
      "text/plain": [
       "array([[103,  18],\n",
       "       [ 18, 137]], dtype=int64)"
      ]
     },
     "execution_count": 471,
     "metadata": {},
     "output_type": "execute_result"
    }
   ],
   "execution_count": 471
  },
  {
   "metadata": {
    "ExecuteTime": {
     "end_time": "2024-04-09T03:40:08.082848Z",
     "start_time": "2024-04-09T03:40:08.052861Z"
    }
   },
   "cell_type": "code",
   "source": "print(classification_report(y_teste, previsoes_cat))",
   "id": "5dd47ffb69acc977",
   "outputs": [
    {
     "name": "stdout",
     "output_type": "stream",
     "text": [
      "              precision    recall  f1-score   support\n",
      "\n",
      "           0       0.85      0.85      0.85       121\n",
      "           1       0.88      0.88      0.88       155\n",
      "\n",
      "    accuracy                           0.87       276\n",
      "   macro avg       0.87      0.87      0.87       276\n",
      "weighted avg       0.87      0.87      0.87       276\n",
      "\n"
     ]
    }
   ],
   "execution_count": 472
  },
  {
   "metadata": {
    "ExecuteTime": {
     "end_time": "2024-04-09T03:40:08.114827Z",
     "start_time": "2024-04-09T03:40:08.085841Z"
    }
   },
   "cell_type": "code",
   "source": [
    "# Análise dados de treino\n",
    "previsoes_treino = catboost.predict(x_treino)\n",
    "previsoes_treino"
   ],
   "id": "ebf128e7da2110d8",
   "outputs": [
    {
     "data": {
      "text/plain": [
       "array([1, 0, 1, 1, 1, 1, 0, 0, 0, 0, 1, 0, 1, 1, 1, 0, 0, 0, 0, 1, 0, 1,\n",
       "       1, 1, 1, 0, 0, 1, 1, 1, 1, 0, 1, 1, 0, 0, 1, 1, 0, 1, 0, 1, 0, 0,\n",
       "       1, 1, 0, 1, 1, 1, 1, 0, 1, 0, 1, 0, 1, 0, 1, 0, 0, 0, 0, 0, 1, 1,\n",
       "       0, 0, 1, 0, 1, 1, 1, 1, 0, 0, 1, 1, 1, 1, 1, 1, 1, 1, 0, 1, 1, 1,\n",
       "       1, 1, 0, 1, 0, 0, 1, 1, 1, 1, 1, 1, 1, 1, 0, 1, 1, 1, 1, 0, 0, 1,\n",
       "       0, 0, 1, 0, 1, 0, 1, 0, 1, 0, 0, 0, 0, 1, 0, 1, 0, 0, 1, 1, 1, 0,\n",
       "       1, 1, 0, 0, 1, 0, 1, 1, 0, 1, 1, 1, 1, 1, 0, 0, 0, 1, 1, 0, 1, 0,\n",
       "       1, 0, 1, 1, 1, 0, 1, 0, 0, 0, 1, 0, 1, 0, 0, 0, 0, 1, 1, 0, 1, 0,\n",
       "       0, 1, 1, 0, 0, 0, 0, 0, 0, 1, 1, 1, 1, 1, 0, 0, 1, 0, 0, 1, 1, 0,\n",
       "       1, 1, 0, 0, 0, 1, 1, 1, 1, 1, 1, 0, 1, 0, 1, 1, 1, 1, 1, 0, 0, 1,\n",
       "       1, 0, 0, 1, 1, 1, 1, 1, 1, 1, 1, 1, 0, 1, 1, 0, 1, 0, 1, 0, 1, 0,\n",
       "       1, 1, 0, 1, 1, 1, 1, 1, 1, 1, 0, 0, 0, 0, 0, 0, 0, 0, 0, 0, 1, 0,\n",
       "       1, 0, 1, 0, 1, 0, 1, 1, 0, 0, 0, 1, 1, 0, 0, 0, 1, 0, 0, 0, 1, 1,\n",
       "       1, 1, 1, 1, 1, 0, 1, 1, 0, 1, 0, 1, 0, 1, 1, 0, 0, 1, 0, 0, 1, 1,\n",
       "       1, 0, 1, 0, 1, 0, 1, 0, 1, 0, 1, 0, 1, 1, 1, 1, 0, 1, 1, 1, 1, 0,\n",
       "       0, 0, 1, 0, 0, 0, 1, 1, 0, 1, 1, 1, 1, 1, 1, 0, 1, 1, 0, 1, 0, 1,\n",
       "       0, 0, 0, 1, 0, 1, 1, 1, 0, 1, 0, 1, 1, 0, 0, 0, 0, 0, 1, 1, 1, 1,\n",
       "       0, 1, 1, 1, 0, 1, 1, 1, 0, 1, 0, 1, 0, 0, 1, 1, 0, 0, 1, 1, 1, 1,\n",
       "       0, 0, 0, 1, 1, 1, 1, 0, 1, 1, 1, 1, 1, 0, 0, 1, 0, 1, 1, 1, 0, 0,\n",
       "       0, 1, 1, 0, 0, 1, 1, 0, 1, 1, 0, 0, 0, 1, 1, 1, 1, 1, 1, 1, 1, 1,\n",
       "       0, 0, 1, 1, 0, 1, 0, 1, 0, 0, 1, 0, 1, 1, 1, 1, 0, 0, 0, 1, 0, 1,\n",
       "       1, 1, 1, 1, 1, 0, 1, 0, 1, 1, 1, 1, 0, 1, 1, 0, 0, 0, 1, 0, 0, 0,\n",
       "       0, 0, 1, 0, 1, 1, 0, 0, 0, 1, 1, 0, 1, 1, 1, 0, 1, 1, 0, 0, 1, 1,\n",
       "       1, 1, 0, 0, 1, 1, 1, 1, 0, 1, 0, 0, 1, 0, 1, 1, 1, 1, 0, 1, 1, 0,\n",
       "       1, 0, 1, 0, 1, 0, 1, 0, 1, 0, 1, 1, 0, 1, 1, 1, 1, 0, 0, 1, 1, 0,\n",
       "       0, 1, 1, 0, 1, 0, 1, 1, 1, 0, 1, 1, 0, 0, 0, 1, 1, 0, 0, 1, 0, 1,\n",
       "       1, 1, 0, 0, 1, 0, 0, 1, 0, 1, 0, 1, 1, 1, 1, 0, 1, 0, 0, 0, 0, 0,\n",
       "       0, 0, 1, 0, 0, 1, 0, 0, 0, 0, 1, 0, 1, 1, 0, 1, 1, 1, 1, 1, 0, 1,\n",
       "       1, 1, 1, 1, 1, 0, 1, 1, 1, 1, 1, 1, 0, 1, 1, 0, 0, 1, 1, 0, 1, 0,\n",
       "       1, 0, 1], dtype=int64)"
      ]
     },
     "execution_count": 473,
     "metadata": {},
     "output_type": "execute_result"
    }
   ],
   "execution_count": 473
  },
  {
   "metadata": {
    "ExecuteTime": {
     "end_time": "2024-04-09T03:40:08.130444Z",
     "start_time": "2024-04-09T03:40:08.116826Z"
    }
   },
   "cell_type": "code",
   "source": "accuracy_score(y_treino, previsoes_treino)",
   "id": "b86c113cc673c0d5",
   "outputs": [
    {
     "data": {
      "text/plain": [
       "0.8939157566302652"
      ]
     },
     "execution_count": 474,
     "metadata": {},
     "output_type": "execute_result"
    }
   ],
   "execution_count": 474
  },
  {
   "metadata": {
    "ExecuteTime": {
     "end_time": "2024-04-09T03:40:08.146434Z",
     "start_time": "2024-04-09T03:40:08.133442Z"
    }
   },
   "cell_type": "code",
   "source": "confusion_matrix(y_treino, previsoes_treino)",
   "id": "7c33ab34cd0faed4",
   "outputs": [
    {
     "data": {
      "text/plain": [
       "array([[247,  42],\n",
       "       [ 26, 326]], dtype=int64)"
      ]
     },
     "execution_count": 475,
     "metadata": {},
     "output_type": "execute_result"
    }
   ],
   "execution_count": 475
  },
  {
   "metadata": {
    "ExecuteTime": {
     "end_time": "2024-04-09T03:40:08.162424Z",
     "start_time": "2024-04-09T03:40:08.148433Z"
    }
   },
   "cell_type": "code",
   "source": [
    "# Validação Cruzada\n",
    "from sklearn.model_selection import KFold\n",
    "from sklearn.model_selection import cross_val_score"
   ],
   "id": "b91407b71fc0c46f",
   "outputs": [],
   "execution_count": 476
  },
  {
   "metadata": {
    "ExecuteTime": {
     "end_time": "2024-04-09T03:40:08.177546Z",
     "start_time": "2024-04-09T03:40:08.165423Z"
    }
   },
   "cell_type": "code",
   "source": [
    "# Separando os dados em folds\n",
    "kfold = KFold(n_splits =30, shuffle=True, random_state=5)"
   ],
   "id": "862e6825cd142908",
   "outputs": [],
   "execution_count": 477
  },
  {
   "metadata": {
    "ExecuteTime": {
     "end_time": "2024-04-09T03:40:23.492703Z",
     "start_time": "2024-04-09T03:40:08.180544Z"
    }
   },
   "cell_type": "code",
   "source": [
    "# Criando o modelo\n",
    "modelo = CatBoostClassifier(task_type='CPU', iterations=150, learning_rate=0.1, depth=5, random_state=5, eval_metric='Accuracy')\n",
    "resultado = cross_val_score(modelo, previsores, alvo, cv=kfold)\n",
    "resultado"
   ],
   "id": "8ecbfab75822eb26",
   "outputs": [
    {
     "name": "stdout",
     "output_type": "stream",
     "text": [
      "0:\tlearn: 0.8510158\ttotal: 1.42ms\tremaining: 212ms\n",
      "1:\tlearn: 0.8577878\ttotal: 2.71ms\tremaining: 201ms\n",
      "2:\tlearn: 0.8668172\ttotal: 3.9ms\tremaining: 191ms\n",
      "3:\tlearn: 0.8679458\ttotal: 5.1ms\tremaining: 186ms\n",
      "4:\tlearn: 0.8668172\ttotal: 6.3ms\tremaining: 183ms\n",
      "5:\tlearn: 0.8690745\ttotal: 7.57ms\tremaining: 182ms\n",
      "6:\tlearn: 0.8702032\ttotal: 8.72ms\tremaining: 178ms\n",
      "7:\tlearn: 0.8702032\ttotal: 9.92ms\tremaining: 176ms\n",
      "8:\tlearn: 0.8656885\ttotal: 11.1ms\tremaining: 174ms\n",
      "9:\tlearn: 0.8656885\ttotal: 12.3ms\tremaining: 172ms\n",
      "10:\tlearn: 0.8713318\ttotal: 13.5ms\tremaining: 170ms\n",
      "11:\tlearn: 0.8735892\ttotal: 14.7ms\tremaining: 169ms\n",
      "12:\tlearn: 0.8713318\ttotal: 15.9ms\tremaining: 167ms\n",
      "13:\tlearn: 0.8758465\ttotal: 17.1ms\tremaining: 166ms\n",
      "14:\tlearn: 0.8803612\ttotal: 18.2ms\tremaining: 164ms\n",
      "15:\tlearn: 0.8747178\ttotal: 19.4ms\tremaining: 162ms\n",
      "16:\tlearn: 0.8769752\ttotal: 20.7ms\tremaining: 162ms\n",
      "17:\tlearn: 0.8781038\ttotal: 21.9ms\tremaining: 160ms\n",
      "18:\tlearn: 0.8735892\ttotal: 23.2ms\tremaining: 160ms\n",
      "19:\tlearn: 0.8803612\ttotal: 24.4ms\tremaining: 159ms\n",
      "20:\tlearn: 0.8803612\ttotal: 25.1ms\tremaining: 154ms\n",
      "21:\tlearn: 0.8803612\ttotal: 26.3ms\tremaining: 153ms\n",
      "22:\tlearn: 0.8814898\ttotal: 27.7ms\tremaining: 153ms\n",
      "23:\tlearn: 0.8837472\ttotal: 28.8ms\tremaining: 151ms\n",
      "24:\tlearn: 0.8837472\ttotal: 29.9ms\tremaining: 150ms\n",
      "25:\tlearn: 0.8848758\ttotal: 31.3ms\tremaining: 149ms\n",
      "26:\tlearn: 0.8871332\ttotal: 32.6ms\tremaining: 148ms\n",
      "27:\tlearn: 0.8905192\ttotal: 33.8ms\tremaining: 147ms\n",
      "28:\tlearn: 0.8905192\ttotal: 35ms\tremaining: 146ms\n",
      "29:\tlearn: 0.8882619\ttotal: 36.2ms\tremaining: 145ms\n",
      "30:\tlearn: 0.8916479\ttotal: 37.3ms\tremaining: 143ms\n",
      "31:\tlearn: 0.8905192\ttotal: 38.4ms\tremaining: 142ms\n",
      "32:\tlearn: 0.8905192\ttotal: 39.5ms\tremaining: 140ms\n",
      "33:\tlearn: 0.8905192\ttotal: 40.8ms\tremaining: 139ms\n",
      "34:\tlearn: 0.8916479\ttotal: 42ms\tremaining: 138ms\n",
      "35:\tlearn: 0.8905192\ttotal: 43.1ms\tremaining: 137ms\n",
      "36:\tlearn: 0.8893905\ttotal: 44.3ms\tremaining: 135ms\n",
      "37:\tlearn: 0.8905192\ttotal: 45.4ms\tremaining: 134ms\n",
      "38:\tlearn: 0.8905192\ttotal: 46.6ms\tremaining: 132ms\n",
      "39:\tlearn: 0.8916479\ttotal: 47.7ms\tremaining: 131ms\n",
      "40:\tlearn: 0.8927765\ttotal: 48.8ms\tremaining: 130ms\n",
      "41:\tlearn: 0.8927765\ttotal: 50ms\tremaining: 129ms\n",
      "42:\tlearn: 0.8961625\ttotal: 51.2ms\tremaining: 127ms\n",
      "43:\tlearn: 0.8961625\ttotal: 52.4ms\tremaining: 126ms\n",
      "44:\tlearn: 0.8950339\ttotal: 53.6ms\tremaining: 125ms\n",
      "45:\tlearn: 0.8961625\ttotal: 54.7ms\tremaining: 124ms\n",
      "46:\tlearn: 0.8972912\ttotal: 55.8ms\tremaining: 122ms\n",
      "47:\tlearn: 0.8950339\ttotal: 57.1ms\tremaining: 121ms\n",
      "48:\tlearn: 0.8972912\ttotal: 58.3ms\tremaining: 120ms\n",
      "49:\tlearn: 0.8995485\ttotal: 59.6ms\tremaining: 119ms\n",
      "50:\tlearn: 0.8995485\ttotal: 60.9ms\tremaining: 118ms\n",
      "51:\tlearn: 0.9018059\ttotal: 62ms\tremaining: 117ms\n",
      "52:\tlearn: 0.9029345\ttotal: 63.2ms\tremaining: 116ms\n",
      "53:\tlearn: 0.9029345\ttotal: 64.4ms\tremaining: 115ms\n",
      "54:\tlearn: 0.9040632\ttotal: 65.7ms\tremaining: 113ms\n",
      "55:\tlearn: 0.9029345\ttotal: 67.1ms\tremaining: 113ms\n",
      "56:\tlearn: 0.9040632\ttotal: 68.2ms\tremaining: 111ms\n",
      "57:\tlearn: 0.9051919\ttotal: 69.3ms\tremaining: 110ms\n",
      "58:\tlearn: 0.9051919\ttotal: 70.4ms\tremaining: 109ms\n",
      "59:\tlearn: 0.9051919\ttotal: 71.6ms\tremaining: 107ms\n",
      "60:\tlearn: 0.9040632\ttotal: 73ms\tremaining: 106ms\n",
      "61:\tlearn: 0.9063205\ttotal: 74.2ms\tremaining: 105ms\n",
      "62:\tlearn: 0.9063205\ttotal: 75.5ms\tremaining: 104ms\n",
      "63:\tlearn: 0.9063205\ttotal: 76.6ms\tremaining: 103ms\n",
      "64:\tlearn: 0.9063205\ttotal: 77.7ms\tremaining: 102ms\n",
      "65:\tlearn: 0.9063205\ttotal: 79ms\tremaining: 101ms\n",
      "66:\tlearn: 0.9063205\ttotal: 80.3ms\tremaining: 99.4ms\n",
      "67:\tlearn: 0.9063205\ttotal: 81.4ms\tremaining: 98.2ms\n",
      "68:\tlearn: 0.9074492\ttotal: 82.7ms\tremaining: 97.1ms\n",
      "69:\tlearn: 0.9074492\ttotal: 83.8ms\tremaining: 95.8ms\n",
      "70:\tlearn: 0.9074492\ttotal: 84.9ms\tremaining: 94.5ms\n",
      "71:\tlearn: 0.9074492\ttotal: 86ms\tremaining: 93.1ms\n",
      "72:\tlearn: 0.9074492\ttotal: 87.1ms\tremaining: 91.9ms\n",
      "73:\tlearn: 0.9085779\ttotal: 88.3ms\tremaining: 90.7ms\n",
      "74:\tlearn: 0.9085779\ttotal: 89.6ms\tremaining: 89.6ms\n",
      "75:\tlearn: 0.9085779\ttotal: 90.7ms\tremaining: 88.3ms\n",
      "76:\tlearn: 0.9085779\ttotal: 91.9ms\tremaining: 87.1ms\n",
      "77:\tlearn: 0.9074492\ttotal: 93ms\tremaining: 85.9ms\n",
      "78:\tlearn: 0.9085779\ttotal: 94.1ms\tremaining: 84.6ms\n",
      "79:\tlearn: 0.9074492\ttotal: 95.2ms\tremaining: 83.3ms\n",
      "80:\tlearn: 0.9074492\ttotal: 96.3ms\tremaining: 82.1ms\n",
      "81:\tlearn: 0.9074492\ttotal: 97.5ms\tremaining: 80.8ms\n",
      "82:\tlearn: 0.9074492\ttotal: 98.6ms\tremaining: 79.6ms\n",
      "83:\tlearn: 0.9074492\ttotal: 99.7ms\tremaining: 78.3ms\n",
      "84:\tlearn: 0.9074492\ttotal: 101ms\tremaining: 77.1ms\n",
      "85:\tlearn: 0.9074492\ttotal: 102ms\tremaining: 76ms\n",
      "86:\tlearn: 0.9074492\ttotal: 103ms\tremaining: 74.7ms\n",
      "87:\tlearn: 0.9085779\ttotal: 104ms\tremaining: 73.5ms\n",
      "88:\tlearn: 0.9074492\ttotal: 105ms\tremaining: 72.3ms\n",
      "89:\tlearn: 0.9074492\ttotal: 107ms\tremaining: 71ms\n",
      "90:\tlearn: 0.9085779\ttotal: 108ms\tremaining: 69.8ms\n",
      "91:\tlearn: 0.9097065\ttotal: 109ms\tremaining: 68.6ms\n",
      "92:\tlearn: 0.9097065\ttotal: 110ms\tremaining: 67.3ms\n",
      "93:\tlearn: 0.9085779\ttotal: 111ms\tremaining: 66.2ms\n",
      "94:\tlearn: 0.9085779\ttotal: 112ms\tremaining: 64.9ms\n",
      "95:\tlearn: 0.9085779\ttotal: 113ms\tremaining: 63.7ms\n",
      "96:\tlearn: 0.9085779\ttotal: 114ms\tremaining: 62.5ms\n",
      "97:\tlearn: 0.9085779\ttotal: 116ms\tremaining: 61.3ms\n",
      "98:\tlearn: 0.9097065\ttotal: 117ms\tremaining: 60.1ms\n",
      "99:\tlearn: 0.9097065\ttotal: 118ms\tremaining: 58.9ms\n",
      "100:\tlearn: 0.9097065\ttotal: 119ms\tremaining: 57.7ms\n",
      "101:\tlearn: 0.9097065\ttotal: 120ms\tremaining: 56.5ms\n",
      "102:\tlearn: 0.9097065\ttotal: 121ms\tremaining: 55.3ms\n",
      "103:\tlearn: 0.9097065\ttotal: 122ms\tremaining: 54.1ms\n",
      "104:\tlearn: 0.9097065\ttotal: 124ms\tremaining: 52.9ms\n",
      "105:\tlearn: 0.9097065\ttotal: 125ms\tremaining: 51.7ms\n",
      "106:\tlearn: 0.9097065\ttotal: 126ms\tremaining: 50.6ms\n",
      "107:\tlearn: 0.9097065\ttotal: 127ms\tremaining: 49.4ms\n",
      "108:\tlearn: 0.9097065\ttotal: 128ms\tremaining: 48.2ms\n",
      "109:\tlearn: 0.9097065\ttotal: 130ms\tremaining: 47.4ms\n",
      "110:\tlearn: 0.9097065\ttotal: 132ms\tremaining: 46.2ms\n",
      "111:\tlearn: 0.9097065\ttotal: 133ms\tremaining: 45ms\n",
      "112:\tlearn: 0.9097065\ttotal: 134ms\tremaining: 43.8ms\n",
      "113:\tlearn: 0.9097065\ttotal: 135ms\tremaining: 42.7ms\n",
      "114:\tlearn: 0.9097065\ttotal: 136ms\tremaining: 41.5ms\n",
      "115:\tlearn: 0.9097065\ttotal: 137ms\tremaining: 40.3ms\n",
      "116:\tlearn: 0.9097065\ttotal: 139ms\tremaining: 39.1ms\n",
      "117:\tlearn: 0.9097065\ttotal: 140ms\tremaining: 37.9ms\n",
      "118:\tlearn: 0.9097065\ttotal: 141ms\tremaining: 36.7ms\n",
      "119:\tlearn: 0.9097065\ttotal: 142ms\tremaining: 35.5ms\n",
      "120:\tlearn: 0.9097065\ttotal: 143ms\tremaining: 34.3ms\n",
      "121:\tlearn: 0.9097065\ttotal: 144ms\tremaining: 33.2ms\n",
      "122:\tlearn: 0.9097065\ttotal: 146ms\tremaining: 32ms\n",
      "123:\tlearn: 0.9108352\ttotal: 147ms\tremaining: 30.8ms\n",
      "124:\tlearn: 0.9108352\ttotal: 148ms\tremaining: 29.6ms\n",
      "125:\tlearn: 0.9108352\ttotal: 149ms\tremaining: 28.4ms\n",
      "126:\tlearn: 0.9108352\ttotal: 150ms\tremaining: 27.2ms\n",
      "127:\tlearn: 0.9108352\ttotal: 151ms\tremaining: 26ms\n",
      "128:\tlearn: 0.9108352\ttotal: 152ms\tremaining: 24.8ms\n",
      "129:\tlearn: 0.9108352\ttotal: 153ms\tremaining: 23.6ms\n",
      "130:\tlearn: 0.9119639\ttotal: 154ms\tremaining: 22.4ms\n",
      "131:\tlearn: 0.9119639\ttotal: 156ms\tremaining: 21.2ms\n",
      "132:\tlearn: 0.9119639\ttotal: 157ms\tremaining: 20ms\n",
      "133:\tlearn: 0.9119639\ttotal: 158ms\tremaining: 18.8ms\n",
      "134:\tlearn: 0.9119639\ttotal: 159ms\tremaining: 17.7ms\n",
      "135:\tlearn: 0.9119639\ttotal: 160ms\tremaining: 16.5ms\n",
      "136:\tlearn: 0.9119639\ttotal: 162ms\tremaining: 15.3ms\n",
      "137:\tlearn: 0.9130926\ttotal: 163ms\tremaining: 14.1ms\n",
      "138:\tlearn: 0.9130926\ttotal: 164ms\tremaining: 13ms\n",
      "139:\tlearn: 0.9142212\ttotal: 165ms\tremaining: 11.8ms\n",
      "140:\tlearn: 0.9130926\ttotal: 166ms\tremaining: 10.6ms\n",
      "141:\tlearn: 0.9130926\ttotal: 168ms\tremaining: 9.45ms\n",
      "142:\tlearn: 0.9130926\ttotal: 169ms\tremaining: 8.26ms\n",
      "143:\tlearn: 0.9142212\ttotal: 170ms\tremaining: 7.08ms\n",
      "144:\tlearn: 0.9142212\ttotal: 171ms\tremaining: 5.9ms\n",
      "145:\tlearn: 0.9142212\ttotal: 172ms\tremaining: 4.72ms\n",
      "146:\tlearn: 0.9142212\ttotal: 173ms\tremaining: 3.54ms\n",
      "147:\tlearn: 0.9153499\ttotal: 174ms\tremaining: 2.36ms\n",
      "148:\tlearn: 0.9153499\ttotal: 176ms\tremaining: 1.18ms\n",
      "149:\tlearn: 0.9153499\ttotal: 177ms\tremaining: 0us\n",
      "0:\tlearn: 0.8487585\ttotal: 1.49ms\tremaining: 222ms\n",
      "1:\tlearn: 0.8510158\ttotal: 2.79ms\tremaining: 207ms\n",
      "2:\tlearn: 0.8634312\ttotal: 4.04ms\tremaining: 198ms\n",
      "3:\tlearn: 0.8577878\ttotal: 5.29ms\tremaining: 193ms\n",
      "4:\tlearn: 0.8577878\ttotal: 6.52ms\tremaining: 189ms\n",
      "5:\tlearn: 0.8600451\ttotal: 7.86ms\tremaining: 189ms\n",
      "6:\tlearn: 0.8600451\ttotal: 9.14ms\tremaining: 187ms\n",
      "7:\tlearn: 0.8634312\ttotal: 10.3ms\tremaining: 183ms\n",
      "8:\tlearn: 0.8634312\ttotal: 11.5ms\tremaining: 180ms\n",
      "9:\tlearn: 0.8668172\ttotal: 13ms\tremaining: 182ms\n",
      "10:\tlearn: 0.8645598\ttotal: 14.2ms\tremaining: 180ms\n",
      "11:\tlearn: 0.8690745\ttotal: 15.5ms\tremaining: 179ms\n",
      "12:\tlearn: 0.8690745\ttotal: 16.7ms\tremaining: 176ms\n",
      "13:\tlearn: 0.8713318\ttotal: 17.9ms\tremaining: 174ms\n",
      "14:\tlearn: 0.8713318\ttotal: 19.1ms\tremaining: 172ms\n",
      "15:\tlearn: 0.8724605\ttotal: 20.2ms\tremaining: 170ms\n",
      "16:\tlearn: 0.8702032\ttotal: 21.4ms\tremaining: 168ms\n",
      "17:\tlearn: 0.8702032\ttotal: 22.7ms\tremaining: 166ms\n",
      "18:\tlearn: 0.8724605\ttotal: 23.8ms\tremaining: 164ms\n",
      "19:\tlearn: 0.8735892\ttotal: 25.2ms\tremaining: 164ms\n",
      "20:\tlearn: 0.8735892\ttotal: 25.9ms\tremaining: 159ms\n",
      "21:\tlearn: 0.8769752\ttotal: 27.2ms\tremaining: 158ms\n",
      "22:\tlearn: 0.8792325\ttotal: 28.3ms\tremaining: 156ms\n",
      "23:\tlearn: 0.8769752\ttotal: 29.5ms\tremaining: 155ms\n",
      "24:\tlearn: 0.8803612\ttotal: 30.7ms\tremaining: 154ms\n",
      "25:\tlearn: 0.8814898\ttotal: 31.9ms\tremaining: 152ms\n",
      "26:\tlearn: 0.8826185\ttotal: 33.3ms\tremaining: 151ms\n",
      "27:\tlearn: 0.8860045\ttotal: 34.5ms\tremaining: 150ms\n",
      "28:\tlearn: 0.8882619\ttotal: 35.6ms\tremaining: 149ms\n",
      "29:\tlearn: 0.8837472\ttotal: 36.7ms\tremaining: 147ms\n",
      "30:\tlearn: 0.8848758\ttotal: 37.9ms\tremaining: 145ms\n",
      "31:\tlearn: 0.8871332\ttotal: 39.1ms\tremaining: 144ms\n",
      "32:\tlearn: 0.8860045\ttotal: 40.2ms\tremaining: 143ms\n",
      "33:\tlearn: 0.8882619\ttotal: 41.4ms\tremaining: 141ms\n",
      "34:\tlearn: 0.8882619\ttotal: 42.6ms\tremaining: 140ms\n",
      "35:\tlearn: 0.8916479\ttotal: 43.9ms\tremaining: 139ms\n",
      "36:\tlearn: 0.8927765\ttotal: 45.3ms\tremaining: 138ms\n",
      "37:\tlearn: 0.8905192\ttotal: 46.7ms\tremaining: 138ms\n",
      "38:\tlearn: 0.8950339\ttotal: 48.5ms\tremaining: 138ms\n",
      "39:\tlearn: 0.8961625\ttotal: 49.9ms\tremaining: 137ms\n",
      "40:\tlearn: 0.8950339\ttotal: 51.1ms\tremaining: 136ms\n",
      "41:\tlearn: 0.8961625\ttotal: 52.2ms\tremaining: 134ms\n",
      "42:\tlearn: 0.8961625\ttotal: 54ms\tremaining: 134ms\n",
      "43:\tlearn: 0.8961625\ttotal: 55.2ms\tremaining: 133ms\n",
      "44:\tlearn: 0.8961625\ttotal: 56.3ms\tremaining: 131ms\n",
      "45:\tlearn: 0.8972912\ttotal: 57.5ms\tremaining: 130ms\n",
      "46:\tlearn: 0.8984199\ttotal: 58.6ms\tremaining: 128ms\n",
      "47:\tlearn: 0.8972912\ttotal: 59.8ms\tremaining: 127ms\n",
      "48:\tlearn: 0.8984199\ttotal: 60.9ms\tremaining: 125ms\n",
      "49:\tlearn: 0.8972912\ttotal: 62ms\tremaining: 124ms\n",
      "50:\tlearn: 0.8995485\ttotal: 63.2ms\tremaining: 123ms\n",
      "51:\tlearn: 0.9006772\ttotal: 64.3ms\tremaining: 121ms\n",
      "52:\tlearn: 0.9018059\ttotal: 65.4ms\tremaining: 120ms\n",
      "53:\tlearn: 0.9018059\ttotal: 66.7ms\tremaining: 119ms\n",
      "54:\tlearn: 0.9029345\ttotal: 67.9ms\tremaining: 117ms\n",
      "55:\tlearn: 0.9018059\ttotal: 69.1ms\tremaining: 116ms\n",
      "56:\tlearn: 0.9018059\ttotal: 70.3ms\tremaining: 115ms\n",
      "57:\tlearn: 0.9006772\ttotal: 71.5ms\tremaining: 113ms\n",
      "58:\tlearn: 0.9006772\ttotal: 72.7ms\tremaining: 112ms\n",
      "59:\tlearn: 0.9006772\ttotal: 74ms\tremaining: 111ms\n",
      "60:\tlearn: 0.9018059\ttotal: 75.2ms\tremaining: 110ms\n",
      "61:\tlearn: 0.9040632\ttotal: 76.4ms\tremaining: 108ms\n",
      "62:\tlearn: 0.9040632\ttotal: 78ms\tremaining: 108ms\n",
      "63:\tlearn: 0.9040632\ttotal: 79.2ms\tremaining: 106ms\n",
      "64:\tlearn: 0.9040632\ttotal: 80.3ms\tremaining: 105ms\n",
      "65:\tlearn: 0.9040632\ttotal: 81.8ms\tremaining: 104ms\n",
      "66:\tlearn: 0.9051919\ttotal: 83ms\tremaining: 103ms\n",
      "67:\tlearn: 0.9051919\ttotal: 84.2ms\tremaining: 102ms\n",
      "68:\tlearn: 0.9051919\ttotal: 85.5ms\tremaining: 100ms\n",
      "69:\tlearn: 0.9051919\ttotal: 86.8ms\tremaining: 99.2ms\n",
      "70:\tlearn: 0.9051919\ttotal: 88.1ms\tremaining: 98.1ms\n",
      "71:\tlearn: 0.9051919\ttotal: 88.7ms\tremaining: 96ms\n",
      "72:\tlearn: 0.9051919\ttotal: 89.8ms\tremaining: 94.7ms\n",
      "73:\tlearn: 0.9051919\ttotal: 90.9ms\tremaining: 93.4ms\n",
      "74:\tlearn: 0.9051919\ttotal: 92ms\tremaining: 92ms\n",
      "75:\tlearn: 0.9040632\ttotal: 93.2ms\tremaining: 90.7ms\n",
      "76:\tlearn: 0.9074492\ttotal: 94.3ms\tremaining: 89.4ms\n",
      "77:\tlearn: 0.9063205\ttotal: 95.7ms\tremaining: 88.3ms\n",
      "78:\tlearn: 0.9074492\ttotal: 96.9ms\tremaining: 87.1ms\n",
      "79:\tlearn: 0.9074492\ttotal: 98.1ms\tremaining: 85.8ms\n",
      "80:\tlearn: 0.9074492\ttotal: 99.2ms\tremaining: 84.5ms\n",
      "81:\tlearn: 0.9074492\ttotal: 100ms\tremaining: 83.2ms\n",
      "82:\tlearn: 0.9074492\ttotal: 101ms\tremaining: 81.8ms\n",
      "83:\tlearn: 0.9074492\ttotal: 103ms\tremaining: 80.5ms\n",
      "84:\tlearn: 0.9074492\ttotal: 104ms\tremaining: 79.2ms\n",
      "85:\tlearn: 0.9074492\ttotal: 105ms\tremaining: 78ms\n",
      "86:\tlearn: 0.9074492\ttotal: 106ms\tremaining: 76.7ms\n",
      "87:\tlearn: 0.9074492\ttotal: 107ms\tremaining: 75.4ms\n",
      "88:\tlearn: 0.9074492\ttotal: 108ms\tremaining: 74.1ms\n",
      "89:\tlearn: 0.9074492\ttotal: 109ms\tremaining: 72.8ms\n",
      "90:\tlearn: 0.9074492\ttotal: 110ms\tremaining: 71.5ms\n",
      "91:\tlearn: 0.9074492\ttotal: 111ms\tremaining: 70.3ms\n",
      "92:\tlearn: 0.9074492\ttotal: 113ms\tremaining: 69ms\n",
      "93:\tlearn: 0.9074492\ttotal: 114ms\tremaining: 67.7ms\n",
      "94:\tlearn: 0.9063205\ttotal: 115ms\tremaining: 66.6ms\n",
      "95:\tlearn: 0.9063205\ttotal: 116ms\tremaining: 65.4ms\n",
      "96:\tlearn: 0.9074492\ttotal: 117ms\tremaining: 64.2ms\n",
      "97:\tlearn: 0.9063205\ttotal: 119ms\tremaining: 62.9ms\n",
      "98:\tlearn: 0.9063205\ttotal: 120ms\tremaining: 61.7ms\n",
      "99:\tlearn: 0.9063205\ttotal: 121ms\tremaining: 60.5ms\n",
      "100:\tlearn: 0.9063205\ttotal: 122ms\tremaining: 59.2ms\n",
      "101:\tlearn: 0.9063205\ttotal: 123ms\tremaining: 57.9ms\n",
      "102:\tlearn: 0.9074492\ttotal: 124ms\tremaining: 56.7ms\n",
      "103:\tlearn: 0.9074492\ttotal: 126ms\tremaining: 55.6ms\n",
      "104:\tlearn: 0.9074492\ttotal: 127ms\tremaining: 54.5ms\n",
      "105:\tlearn: 0.9085779\ttotal: 128ms\tremaining: 53.3ms\n",
      "106:\tlearn: 0.9085779\ttotal: 130ms\tremaining: 52.1ms\n",
      "107:\tlearn: 0.9097065\ttotal: 131ms\tremaining: 50.9ms\n",
      "108:\tlearn: 0.9097065\ttotal: 132ms\tremaining: 49.7ms\n",
      "109:\tlearn: 0.9097065\ttotal: 133ms\tremaining: 48.4ms\n",
      "110:\tlearn: 0.9097065\ttotal: 134ms\tremaining: 47.2ms\n",
      "111:\tlearn: 0.9097065\ttotal: 136ms\tremaining: 46ms\n",
      "112:\tlearn: 0.9097065\ttotal: 137ms\tremaining: 44.8ms\n",
      "113:\tlearn: 0.9097065\ttotal: 138ms\tremaining: 43.6ms\n",
      "114:\tlearn: 0.9085779\ttotal: 139ms\tremaining: 42.3ms\n",
      "115:\tlearn: 0.9085779\ttotal: 140ms\tremaining: 41.1ms\n",
      "116:\tlearn: 0.9074492\ttotal: 141ms\tremaining: 39.9ms\n",
      "117:\tlearn: 0.9074492\ttotal: 143ms\tremaining: 38.7ms\n",
      "118:\tlearn: 0.9074492\ttotal: 144ms\tremaining: 37.4ms\n",
      "119:\tlearn: 0.9074492\ttotal: 145ms\tremaining: 36.2ms\n",
      "120:\tlearn: 0.9074492\ttotal: 146ms\tremaining: 35ms\n",
      "121:\tlearn: 0.9074492\ttotal: 147ms\tremaining: 33.8ms\n",
      "122:\tlearn: 0.9074492\ttotal: 148ms\tremaining: 32.6ms\n",
      "123:\tlearn: 0.9074492\ttotal: 150ms\tremaining: 31.4ms\n",
      "124:\tlearn: 0.9074492\ttotal: 151ms\tremaining: 30.1ms\n",
      "125:\tlearn: 0.9074492\ttotal: 152ms\tremaining: 28.9ms\n",
      "126:\tlearn: 0.9074492\ttotal: 153ms\tremaining: 27.7ms\n",
      "127:\tlearn: 0.9074492\ttotal: 154ms\tremaining: 26.5ms\n",
      "128:\tlearn: 0.9074492\ttotal: 155ms\tremaining: 25.3ms\n",
      "129:\tlearn: 0.9085779\ttotal: 156ms\tremaining: 24.1ms\n",
      "130:\tlearn: 0.9085779\ttotal: 158ms\tremaining: 22.8ms\n",
      "131:\tlearn: 0.9108352\ttotal: 159ms\tremaining: 21.6ms\n",
      "132:\tlearn: 0.9108352\ttotal: 160ms\tremaining: 20.4ms\n",
      "133:\tlearn: 0.9108352\ttotal: 161ms\tremaining: 19.2ms\n",
      "134:\tlearn: 0.9108352\ttotal: 162ms\tremaining: 18ms\n",
      "135:\tlearn: 0.9108352\ttotal: 163ms\tremaining: 16.8ms\n",
      "136:\tlearn: 0.9108352\ttotal: 164ms\tremaining: 15.6ms\n",
      "137:\tlearn: 0.9108352\ttotal: 165ms\tremaining: 14.4ms\n",
      "138:\tlearn: 0.9108352\ttotal: 167ms\tremaining: 13.2ms\n",
      "139:\tlearn: 0.9108352\ttotal: 168ms\tremaining: 12ms\n",
      "140:\tlearn: 0.9119639\ttotal: 169ms\tremaining: 10.8ms\n",
      "141:\tlearn: 0.9108352\ttotal: 170ms\tremaining: 9.57ms\n",
      "142:\tlearn: 0.9119639\ttotal: 171ms\tremaining: 8.38ms\n",
      "143:\tlearn: 0.9119639\ttotal: 173ms\tremaining: 7.19ms\n",
      "144:\tlearn: 0.9108352\ttotal: 174ms\tremaining: 5.99ms\n",
      "145:\tlearn: 0.9108352\ttotal: 175ms\tremaining: 4.79ms\n",
      "146:\tlearn: 0.9108352\ttotal: 176ms\tremaining: 3.59ms\n",
      "147:\tlearn: 0.9108352\ttotal: 177ms\tremaining: 2.39ms\n",
      "148:\tlearn: 0.9108352\ttotal: 178ms\tremaining: 1.2ms\n",
      "149:\tlearn: 0.9108352\ttotal: 179ms\tremaining: 0us\n",
      "0:\tlearn: 0.8374718\ttotal: 1.61ms\tremaining: 240ms\n",
      "1:\tlearn: 0.8476298\ttotal: 2.98ms\tremaining: 220ms\n",
      "2:\tlearn: 0.8577878\ttotal: 4.19ms\tremaining: 205ms\n",
      "3:\tlearn: 0.8634312\ttotal: 5.33ms\tremaining: 194ms\n",
      "4:\tlearn: 0.8634312\ttotal: 6.54ms\tremaining: 190ms\n",
      "5:\tlearn: 0.8656885\ttotal: 7.73ms\tremaining: 185ms\n",
      "6:\tlearn: 0.8690745\ttotal: 8.88ms\tremaining: 181ms\n",
      "7:\tlearn: 0.8656885\ttotal: 10ms\tremaining: 178ms\n",
      "8:\tlearn: 0.8623025\ttotal: 11.1ms\tremaining: 174ms\n",
      "9:\tlearn: 0.8679458\ttotal: 12.3ms\tremaining: 172ms\n",
      "10:\tlearn: 0.8668172\ttotal: 13.5ms\tremaining: 171ms\n",
      "11:\tlearn: 0.8679458\ttotal: 14.8ms\tremaining: 170ms\n",
      "12:\tlearn: 0.8735892\ttotal: 16.1ms\tremaining: 170ms\n",
      "13:\tlearn: 0.8758465\ttotal: 17.5ms\tremaining: 170ms\n",
      "14:\tlearn: 0.8758465\ttotal: 18.8ms\tremaining: 169ms\n",
      "15:\tlearn: 0.8758465\ttotal: 27.8ms\tremaining: 233ms\n",
      "16:\tlearn: 0.8792325\ttotal: 29ms\tremaining: 227ms\n",
      "17:\tlearn: 0.8781038\ttotal: 30.1ms\tremaining: 221ms\n",
      "18:\tlearn: 0.8792325\ttotal: 31.3ms\tremaining: 215ms\n",
      "19:\tlearn: 0.8803612\ttotal: 32.3ms\tremaining: 210ms\n",
      "20:\tlearn: 0.8837472\ttotal: 33.5ms\tremaining: 206ms\n",
      "21:\tlearn: 0.8803612\ttotal: 34.6ms\tremaining: 202ms\n",
      "22:\tlearn: 0.8792325\ttotal: 35.8ms\tremaining: 198ms\n",
      "23:\tlearn: 0.8814898\ttotal: 37.1ms\tremaining: 195ms\n",
      "24:\tlearn: 0.8826185\ttotal: 38.2ms\tremaining: 191ms\n",
      "25:\tlearn: 0.8860045\ttotal: 39.3ms\tremaining: 188ms\n",
      "26:\tlearn: 0.8837472\ttotal: 40.5ms\tremaining: 184ms\n",
      "27:\tlearn: 0.8826185\ttotal: 41.6ms\tremaining: 181ms\n",
      "28:\tlearn: 0.8837472\ttotal: 42.8ms\tremaining: 178ms\n",
      "29:\tlearn: 0.8848758\ttotal: 44ms\tremaining: 176ms\n",
      "30:\tlearn: 0.8848758\ttotal: 45.1ms\tremaining: 173ms\n",
      "31:\tlearn: 0.8871332\ttotal: 46.3ms\tremaining: 171ms\n",
      "32:\tlearn: 0.8871332\ttotal: 47.5ms\tremaining: 168ms\n",
      "33:\tlearn: 0.8905192\ttotal: 48.6ms\tremaining: 166ms\n",
      "34:\tlearn: 0.8905192\ttotal: 49.7ms\tremaining: 163ms\n",
      "35:\tlearn: 0.8905192\ttotal: 50.9ms\tremaining: 161ms\n",
      "36:\tlearn: 0.8927765\ttotal: 52ms\tremaining: 159ms\n",
      "37:\tlearn: 0.8893905\ttotal: 53.3ms\tremaining: 157ms\n",
      "38:\tlearn: 0.8927765\ttotal: 54.5ms\tremaining: 155ms\n",
      "39:\tlearn: 0.8927765\ttotal: 55.7ms\tremaining: 153ms\n",
      "40:\tlearn: 0.8950339\ttotal: 56.9ms\tremaining: 151ms\n",
      "41:\tlearn: 0.8950339\ttotal: 58.2ms\tremaining: 150ms\n",
      "42:\tlearn: 0.8961625\ttotal: 59.7ms\tremaining: 149ms\n",
      "43:\tlearn: 0.8950339\ttotal: 60.9ms\tremaining: 147ms\n",
      "44:\tlearn: 0.8961625\ttotal: 62ms\tremaining: 145ms\n",
      "45:\tlearn: 0.8984199\ttotal: 63.2ms\tremaining: 143ms\n",
      "46:\tlearn: 0.8972912\ttotal: 64.4ms\tremaining: 141ms\n",
      "47:\tlearn: 0.8984199\ttotal: 65.6ms\tremaining: 139ms\n",
      "48:\tlearn: 0.8984199\ttotal: 66.9ms\tremaining: 138ms\n",
      "49:\tlearn: 0.8972912\ttotal: 68.2ms\tremaining: 136ms\n",
      "50:\tlearn: 0.8984199\ttotal: 69.4ms\tremaining: 135ms\n",
      "51:\tlearn: 0.8995485\ttotal: 70.5ms\tremaining: 133ms\n",
      "52:\tlearn: 0.9018059\ttotal: 71.6ms\tremaining: 131ms\n",
      "53:\tlearn: 0.9029345\ttotal: 72.8ms\tremaining: 129ms\n",
      "54:\tlearn: 0.9018059\ttotal: 74ms\tremaining: 128ms\n",
      "55:\tlearn: 0.9051919\ttotal: 75.2ms\tremaining: 126ms\n",
      "56:\tlearn: 0.9040632\ttotal: 76.3ms\tremaining: 124ms\n",
      "57:\tlearn: 0.9029345\ttotal: 77.5ms\tremaining: 123ms\n",
      "58:\tlearn: 0.9029345\ttotal: 78.6ms\tremaining: 121ms\n",
      "59:\tlearn: 0.9040632\ttotal: 79.7ms\tremaining: 120ms\n",
      "60:\tlearn: 0.9051919\ttotal: 80.8ms\tremaining: 118ms\n",
      "61:\tlearn: 0.9051919\ttotal: 81.9ms\tremaining: 116ms\n",
      "62:\tlearn: 0.9051919\ttotal: 83.1ms\tremaining: 115ms\n",
      "63:\tlearn: 0.9074492\ttotal: 84.2ms\tremaining: 113ms\n",
      "64:\tlearn: 0.9085779\ttotal: 85.3ms\tremaining: 112ms\n",
      "65:\tlearn: 0.9074492\ttotal: 86.5ms\tremaining: 110ms\n",
      "66:\tlearn: 0.9074492\ttotal: 87.7ms\tremaining: 109ms\n",
      "67:\tlearn: 0.9085779\ttotal: 88.9ms\tremaining: 107ms\n",
      "68:\tlearn: 0.9063205\ttotal: 90.1ms\tremaining: 106ms\n",
      "69:\tlearn: 0.9085779\ttotal: 91.2ms\tremaining: 104ms\n",
      "70:\tlearn: 0.9097065\ttotal: 92.5ms\tremaining: 103ms\n",
      "71:\tlearn: 0.9097065\ttotal: 93.7ms\tremaining: 102ms\n",
      "72:\tlearn: 0.9097065\ttotal: 95.1ms\tremaining: 100ms\n",
      "73:\tlearn: 0.9097065\ttotal: 96.3ms\tremaining: 98.9ms\n",
      "74:\tlearn: 0.9097065\ttotal: 97.6ms\tremaining: 97.6ms\n",
      "75:\tlearn: 0.9097065\ttotal: 98.8ms\tremaining: 96.2ms\n",
      "76:\tlearn: 0.9097065\ttotal: 99.9ms\tremaining: 94.7ms\n",
      "77:\tlearn: 0.9097065\ttotal: 101ms\tremaining: 93.5ms\n",
      "78:\tlearn: 0.9097065\ttotal: 103ms\tremaining: 92.3ms\n",
      "79:\tlearn: 0.9097065\ttotal: 104ms\tremaining: 90.9ms\n",
      "80:\tlearn: 0.9097065\ttotal: 105ms\tremaining: 89.5ms\n",
      "81:\tlearn: 0.9097065\ttotal: 106ms\tremaining: 88.1ms\n",
      "82:\tlearn: 0.9097065\ttotal: 107ms\tremaining: 86.7ms\n",
      "83:\tlearn: 0.9108352\ttotal: 108ms\tremaining: 85.2ms\n",
      "84:\tlearn: 0.9108352\ttotal: 110ms\tremaining: 83.8ms\n",
      "85:\tlearn: 0.9108352\ttotal: 111ms\tremaining: 82.5ms\n",
      "86:\tlearn: 0.9119639\ttotal: 112ms\tremaining: 81.1ms\n",
      "87:\tlearn: 0.9119639\ttotal: 113ms\tremaining: 79.7ms\n",
      "88:\tlearn: 0.9119639\ttotal: 114ms\tremaining: 78.3ms\n",
      "89:\tlearn: 0.9119639\ttotal: 115ms\tremaining: 76.9ms\n",
      "90:\tlearn: 0.9119639\ttotal: 116ms\tremaining: 75.5ms\n",
      "91:\tlearn: 0.9119639\ttotal: 118ms\tremaining: 74.1ms\n",
      "92:\tlearn: 0.9119639\ttotal: 119ms\tremaining: 72.8ms\n",
      "93:\tlearn: 0.9119639\ttotal: 120ms\tremaining: 71.5ms\n",
      "94:\tlearn: 0.9119639\ttotal: 121ms\tremaining: 70ms\n",
      "95:\tlearn: 0.9119639\ttotal: 122ms\tremaining: 68.7ms\n",
      "96:\tlearn: 0.9119639\ttotal: 123ms\tremaining: 67.3ms\n",
      "97:\tlearn: 0.9119639\ttotal: 124ms\tremaining: 66ms\n",
      "98:\tlearn: 0.9119639\ttotal: 125ms\tremaining: 64.6ms\n",
      "99:\tlearn: 0.9119639\ttotal: 127ms\tremaining: 63.3ms\n",
      "100:\tlearn: 0.9119639\ttotal: 128ms\tremaining: 62ms\n",
      "101:\tlearn: 0.9119639\ttotal: 129ms\tremaining: 60.6ms\n",
      "102:\tlearn: 0.9119639\ttotal: 130ms\tremaining: 59.3ms\n",
      "103:\tlearn: 0.9119639\ttotal: 131ms\tremaining: 58ms\n",
      "104:\tlearn: 0.9119639\ttotal: 132ms\tremaining: 56.6ms\n",
      "105:\tlearn: 0.9119639\ttotal: 133ms\tremaining: 55.3ms\n",
      "106:\tlearn: 0.9119639\ttotal: 134ms\tremaining: 54ms\n",
      "107:\tlearn: 0.9119639\ttotal: 135ms\tremaining: 52.7ms\n",
      "108:\tlearn: 0.9119639\ttotal: 137ms\tremaining: 51.6ms\n",
      "109:\tlearn: 0.9119639\ttotal: 138ms\tremaining: 50.4ms\n",
      "110:\tlearn: 0.9119639\ttotal: 140ms\tremaining: 49.1ms\n",
      "111:\tlearn: 0.9119639\ttotal: 141ms\tremaining: 47.8ms\n",
      "112:\tlearn: 0.9119639\ttotal: 142ms\tremaining: 46.5ms\n",
      "113:\tlearn: 0.9119639\ttotal: 143ms\tremaining: 45.2ms\n",
      "114:\tlearn: 0.9119639\ttotal: 145ms\tremaining: 44ms\n",
      "115:\tlearn: 0.9119639\ttotal: 146ms\tremaining: 42.7ms\n",
      "116:\tlearn: 0.9119639\ttotal: 147ms\tremaining: 41.4ms\n",
      "117:\tlearn: 0.9119639\ttotal: 148ms\tremaining: 40.1ms\n",
      "118:\tlearn: 0.9119639\ttotal: 149ms\tremaining: 38.9ms\n",
      "119:\tlearn: 0.9119639\ttotal: 150ms\tremaining: 37.6ms\n",
      "120:\tlearn: 0.9119639\ttotal: 152ms\tremaining: 36.4ms\n",
      "121:\tlearn: 0.9130926\ttotal: 153ms\tremaining: 35.2ms\n",
      "122:\tlearn: 0.9130926\ttotal: 154ms\tremaining: 33.9ms\n",
      "123:\tlearn: 0.9130926\ttotal: 156ms\tremaining: 32.7ms\n",
      "124:\tlearn: 0.9130926\ttotal: 157ms\tremaining: 31.4ms\n",
      "125:\tlearn: 0.9130926\ttotal: 158ms\tremaining: 30.2ms\n",
      "126:\tlearn: 0.9130926\ttotal: 160ms\tremaining: 28.9ms\n",
      "127:\tlearn: 0.9130926\ttotal: 161ms\tremaining: 27.7ms\n",
      "128:\tlearn: 0.9130926\ttotal: 162ms\tremaining: 26.4ms\n",
      "129:\tlearn: 0.9130926\ttotal: 164ms\tremaining: 25.2ms\n",
      "130:\tlearn: 0.9130926\ttotal: 165ms\tremaining: 23.9ms\n",
      "131:\tlearn: 0.9130926\ttotal: 166ms\tremaining: 22.6ms\n",
      "132:\tlearn: 0.9130926\ttotal: 167ms\tremaining: 21.4ms\n",
      "133:\tlearn: 0.9130926\ttotal: 168ms\tremaining: 20.1ms\n",
      "134:\tlearn: 0.9142212\ttotal: 170ms\tremaining: 18.8ms\n",
      "135:\tlearn: 0.9142212\ttotal: 171ms\tremaining: 17.6ms\n",
      "136:\tlearn: 0.9142212\ttotal: 172ms\tremaining: 16.3ms\n",
      "137:\tlearn: 0.9142212\ttotal: 173ms\tremaining: 15ms\n",
      "138:\tlearn: 0.9142212\ttotal: 174ms\tremaining: 13.8ms\n",
      "139:\tlearn: 0.9142212\ttotal: 175ms\tremaining: 12.5ms\n",
      "140:\tlearn: 0.9142212\ttotal: 176ms\tremaining: 11.3ms\n",
      "141:\tlearn: 0.9142212\ttotal: 177ms\tremaining: 10ms\n",
      "142:\tlearn: 0.9142212\ttotal: 179ms\tremaining: 8.74ms\n",
      "143:\tlearn: 0.9142212\ttotal: 180ms\tremaining: 7.49ms\n",
      "144:\tlearn: 0.9142212\ttotal: 181ms\tremaining: 6.24ms\n",
      "145:\tlearn: 0.9142212\ttotal: 182ms\tremaining: 4.99ms\n",
      "146:\tlearn: 0.9142212\ttotal: 183ms\tremaining: 3.74ms\n",
      "147:\tlearn: 0.9142212\ttotal: 184ms\tremaining: 2.49ms\n",
      "148:\tlearn: 0.9142212\ttotal: 186ms\tremaining: 1.24ms\n",
      "149:\tlearn: 0.9142212\ttotal: 187ms\tremaining: 0us\n",
      "0:\tlearn: 0.8408578\ttotal: 1.48ms\tremaining: 220ms\n",
      "1:\tlearn: 0.8453725\ttotal: 2.81ms\tremaining: 208ms\n",
      "2:\tlearn: 0.8634312\ttotal: 4.01ms\tremaining: 197ms\n",
      "3:\tlearn: 0.8589165\ttotal: 5.23ms\tremaining: 191ms\n",
      "4:\tlearn: 0.8645598\ttotal: 6.69ms\tremaining: 194ms\n",
      "5:\tlearn: 0.8634312\ttotal: 8.09ms\tremaining: 194ms\n",
      "6:\tlearn: 0.8634312\ttotal: 9.19ms\tremaining: 188ms\n",
      "7:\tlearn: 0.8634312\ttotal: 10.4ms\tremaining: 184ms\n",
      "8:\tlearn: 0.8645598\ttotal: 11.5ms\tremaining: 180ms\n",
      "9:\tlearn: 0.8645598\ttotal: 12.8ms\tremaining: 179ms\n",
      "10:\tlearn: 0.8713318\ttotal: 14ms\tremaining: 176ms\n",
      "11:\tlearn: 0.8713318\ttotal: 15.4ms\tremaining: 177ms\n",
      "12:\tlearn: 0.8713318\ttotal: 16.7ms\tremaining: 176ms\n",
      "13:\tlearn: 0.8735892\ttotal: 18.2ms\tremaining: 177ms\n",
      "14:\tlearn: 0.8747178\ttotal: 19.5ms\tremaining: 176ms\n",
      "15:\tlearn: 0.8769752\ttotal: 20.7ms\tremaining: 174ms\n",
      "16:\tlearn: 0.8735892\ttotal: 21.9ms\tremaining: 171ms\n",
      "17:\tlearn: 0.8758465\ttotal: 23.3ms\tremaining: 171ms\n",
      "18:\tlearn: 0.8781038\ttotal: 24.5ms\tremaining: 169ms\n",
      "19:\tlearn: 0.8781038\ttotal: 25.6ms\tremaining: 166ms\n",
      "20:\tlearn: 0.8792325\ttotal: 26.3ms\tremaining: 161ms\n",
      "21:\tlearn: 0.8792325\ttotal: 27.4ms\tremaining: 159ms\n",
      "22:\tlearn: 0.8826185\ttotal: 28.5ms\tremaining: 158ms\n",
      "23:\tlearn: 0.8803612\ttotal: 29.7ms\tremaining: 156ms\n",
      "24:\tlearn: 0.8837472\ttotal: 30.9ms\tremaining: 155ms\n",
      "25:\tlearn: 0.8837472\ttotal: 32.1ms\tremaining: 153ms\n",
      "26:\tlearn: 0.8882619\ttotal: 33.4ms\tremaining: 152ms\n",
      "27:\tlearn: 0.8893905\ttotal: 34.5ms\tremaining: 150ms\n",
      "28:\tlearn: 0.8882619\ttotal: 35.6ms\tremaining: 149ms\n",
      "29:\tlearn: 0.8905192\ttotal: 36.8ms\tremaining: 147ms\n",
      "30:\tlearn: 0.8905192\ttotal: 37.9ms\tremaining: 146ms\n",
      "31:\tlearn: 0.8916479\ttotal: 39.1ms\tremaining: 144ms\n",
      "32:\tlearn: 0.8905192\ttotal: 40.2ms\tremaining: 143ms\n",
      "33:\tlearn: 0.8916479\ttotal: 41.4ms\tremaining: 141ms\n",
      "34:\tlearn: 0.8916479\ttotal: 42.8ms\tremaining: 141ms\n",
      "35:\tlearn: 0.8916479\ttotal: 44.1ms\tremaining: 140ms\n",
      "36:\tlearn: 0.8916479\ttotal: 45.4ms\tremaining: 139ms\n",
      "37:\tlearn: 0.8916479\ttotal: 46.7ms\tremaining: 138ms\n",
      "38:\tlearn: 0.8916479\ttotal: 48ms\tremaining: 137ms\n",
      "39:\tlearn: 0.8961625\ttotal: 49.3ms\tremaining: 135ms\n",
      "40:\tlearn: 0.8961625\ttotal: 50.4ms\tremaining: 134ms\n",
      "41:\tlearn: 0.8995485\ttotal: 51.7ms\tremaining: 133ms\n",
      "42:\tlearn: 0.9006772\ttotal: 52.8ms\tremaining: 131ms\n",
      "43:\tlearn: 0.8984199\ttotal: 54.1ms\tremaining: 130ms\n",
      "44:\tlearn: 0.8984199\ttotal: 55.3ms\tremaining: 129ms\n",
      "45:\tlearn: 0.9006772\ttotal: 56.4ms\tremaining: 128ms\n",
      "46:\tlearn: 0.8995485\ttotal: 57.6ms\tremaining: 126ms\n",
      "47:\tlearn: 0.9006772\ttotal: 58.7ms\tremaining: 125ms\n",
      "48:\tlearn: 0.9018059\ttotal: 59.8ms\tremaining: 123ms\n",
      "49:\tlearn: 0.9018059\ttotal: 61ms\tremaining: 122ms\n",
      "50:\tlearn: 0.9018059\ttotal: 62.3ms\tremaining: 121ms\n",
      "51:\tlearn: 0.9051919\ttotal: 63.5ms\tremaining: 120ms\n",
      "52:\tlearn: 0.9051919\ttotal: 64.6ms\tremaining: 118ms\n",
      "53:\tlearn: 0.9040632\ttotal: 65.9ms\tremaining: 117ms\n",
      "54:\tlearn: 0.9018059\ttotal: 67.1ms\tremaining: 116ms\n",
      "55:\tlearn: 0.9040632\ttotal: 68.2ms\tremaining: 115ms\n",
      "56:\tlearn: 0.9040632\ttotal: 69.4ms\tremaining: 113ms\n",
      "57:\tlearn: 0.9029345\ttotal: 70.6ms\tremaining: 112ms\n",
      "58:\tlearn: 0.9051919\ttotal: 71.8ms\tremaining: 111ms\n",
      "59:\tlearn: 0.9051919\ttotal: 72.9ms\tremaining: 109ms\n",
      "60:\tlearn: 0.9051919\ttotal: 74ms\tremaining: 108ms\n",
      "61:\tlearn: 0.9051919\ttotal: 75.1ms\tremaining: 107ms\n",
      "62:\tlearn: 0.9051919\ttotal: 76.3ms\tremaining: 105ms\n",
      "63:\tlearn: 0.9063205\ttotal: 77.5ms\tremaining: 104ms\n",
      "64:\tlearn: 0.9063205\ttotal: 78.7ms\tremaining: 103ms\n",
      "65:\tlearn: 0.9063205\ttotal: 79.9ms\tremaining: 102ms\n",
      "66:\tlearn: 0.9063205\ttotal: 81ms\tremaining: 100ms\n",
      "67:\tlearn: 0.9051919\ttotal: 82.2ms\tremaining: 99.2ms\n",
      "68:\tlearn: 0.9040632\ttotal: 83.3ms\tremaining: 97.8ms\n",
      "69:\tlearn: 0.9040632\ttotal: 84.4ms\tremaining: 96.5ms\n",
      "70:\tlearn: 0.9040632\ttotal: 85.6ms\tremaining: 95.2ms\n",
      "71:\tlearn: 0.9040632\ttotal: 86.7ms\tremaining: 93.9ms\n",
      "72:\tlearn: 0.9040632\ttotal: 88.1ms\tremaining: 93ms\n",
      "73:\tlearn: 0.9051919\ttotal: 89.4ms\tremaining: 91.8ms\n",
      "74:\tlearn: 0.9063205\ttotal: 90.6ms\tremaining: 90.6ms\n",
      "75:\tlearn: 0.9051919\ttotal: 92.3ms\tremaining: 89.8ms\n",
      "76:\tlearn: 0.9051919\ttotal: 93.5ms\tremaining: 88.6ms\n",
      "77:\tlearn: 0.9063205\ttotal: 94.6ms\tremaining: 87.3ms\n",
      "78:\tlearn: 0.9063205\ttotal: 95.8ms\tremaining: 86.1ms\n",
      "79:\tlearn: 0.9063205\ttotal: 97.2ms\tremaining: 85ms\n",
      "80:\tlearn: 0.9063205\ttotal: 98.5ms\tremaining: 83.9ms\n",
      "81:\tlearn: 0.9063205\ttotal: 99.9ms\tremaining: 82.9ms\n",
      "82:\tlearn: 0.9063205\ttotal: 101ms\tremaining: 81.7ms\n",
      "83:\tlearn: 0.9063205\ttotal: 102ms\tremaining: 80.4ms\n",
      "84:\tlearn: 0.9063205\ttotal: 103ms\tremaining: 79.1ms\n",
      "85:\tlearn: 0.9063205\ttotal: 105ms\tremaining: 77.8ms\n",
      "86:\tlearn: 0.9063205\ttotal: 106ms\tremaining: 76.6ms\n",
      "87:\tlearn: 0.9063205\ttotal: 107ms\tremaining: 75.3ms\n",
      "88:\tlearn: 0.9063205\ttotal: 108ms\tremaining: 74.1ms\n",
      "89:\tlearn: 0.9063205\ttotal: 109ms\tremaining: 72.6ms\n",
      "90:\tlearn: 0.9074492\ttotal: 110ms\tremaining: 71.4ms\n",
      "91:\tlearn: 0.9074492\ttotal: 111ms\tremaining: 70.2ms\n",
      "92:\tlearn: 0.9074492\ttotal: 113ms\tremaining: 69ms\n",
      "93:\tlearn: 0.9074492\ttotal: 114ms\tremaining: 67.7ms\n",
      "94:\tlearn: 0.9074492\ttotal: 115ms\tremaining: 66.6ms\n",
      "95:\tlearn: 0.9074492\ttotal: 116ms\tremaining: 65.5ms\n",
      "96:\tlearn: 0.9074492\ttotal: 118ms\tremaining: 64.2ms\n",
      "97:\tlearn: 0.9074492\ttotal: 119ms\tremaining: 63ms\n",
      "98:\tlearn: 0.9074492\ttotal: 120ms\tremaining: 61.7ms\n",
      "99:\tlearn: 0.9074492\ttotal: 121ms\tremaining: 60.5ms\n",
      "100:\tlearn: 0.9063205\ttotal: 122ms\tremaining: 59.2ms\n",
      "101:\tlearn: 0.9063205\ttotal: 123ms\tremaining: 58ms\n",
      "102:\tlearn: 0.9063205\ttotal: 124ms\tremaining: 56.7ms\n",
      "103:\tlearn: 0.9063205\ttotal: 125ms\tremaining: 55.5ms\n",
      "104:\tlearn: 0.9063205\ttotal: 127ms\tremaining: 54.2ms\n",
      "105:\tlearn: 0.9063205\ttotal: 128ms\tremaining: 53ms\n",
      "106:\tlearn: 0.9063205\ttotal: 129ms\tremaining: 51.7ms\n",
      "107:\tlearn: 0.9063205\ttotal: 130ms\tremaining: 50.7ms\n",
      "108:\tlearn: 0.9063205\ttotal: 132ms\tremaining: 49.7ms\n",
      "109:\tlearn: 0.9063205\ttotal: 133ms\tremaining: 48.5ms\n",
      "110:\tlearn: 0.9063205\ttotal: 135ms\tremaining: 47.3ms\n",
      "111:\tlearn: 0.9051919\ttotal: 136ms\tremaining: 46.1ms\n",
      "112:\tlearn: 0.9051919\ttotal: 137ms\tremaining: 44.8ms\n",
      "113:\tlearn: 0.9051919\ttotal: 138ms\tremaining: 43.6ms\n",
      "114:\tlearn: 0.9051919\ttotal: 139ms\tremaining: 42.3ms\n",
      "115:\tlearn: 0.9063205\ttotal: 140ms\tremaining: 41.1ms\n",
      "116:\tlearn: 0.9063205\ttotal: 141ms\tremaining: 39.9ms\n",
      "117:\tlearn: 0.9063205\ttotal: 142ms\tremaining: 38.6ms\n",
      "118:\tlearn: 0.9063205\ttotal: 144ms\tremaining: 37.4ms\n",
      "119:\tlearn: 0.9063205\ttotal: 145ms\tremaining: 36.2ms\n",
      "120:\tlearn: 0.9063205\ttotal: 146ms\tremaining: 34.9ms\n",
      "121:\tlearn: 0.9063205\ttotal: 147ms\tremaining: 33.7ms\n",
      "122:\tlearn: 0.9063205\ttotal: 148ms\tremaining: 32.5ms\n",
      "123:\tlearn: 0.9063205\ttotal: 149ms\tremaining: 31.3ms\n",
      "124:\tlearn: 0.9051919\ttotal: 150ms\tremaining: 30.1ms\n",
      "125:\tlearn: 0.9074492\ttotal: 151ms\tremaining: 28.8ms\n",
      "126:\tlearn: 0.9074492\ttotal: 153ms\tremaining: 27.6ms\n",
      "127:\tlearn: 0.9074492\ttotal: 154ms\tremaining: 26.4ms\n",
      "128:\tlearn: 0.9097065\ttotal: 154ms\tremaining: 25.1ms\n",
      "129:\tlearn: 0.9097065\ttotal: 156ms\tremaining: 24ms\n",
      "130:\tlearn: 0.9097065\ttotal: 157ms\tremaining: 22.8ms\n",
      "131:\tlearn: 0.9097065\ttotal: 158ms\tremaining: 21.5ms\n",
      "132:\tlearn: 0.9097065\ttotal: 159ms\tremaining: 20.3ms\n",
      "133:\tlearn: 0.9074492\ttotal: 160ms\tremaining: 19.1ms\n",
      "134:\tlearn: 0.9074492\ttotal: 161ms\tremaining: 17.9ms\n",
      "135:\tlearn: 0.9074492\ttotal: 162ms\tremaining: 16.7ms\n",
      "136:\tlearn: 0.9085779\ttotal: 164ms\tremaining: 15.5ms\n",
      "137:\tlearn: 0.9085779\ttotal: 165ms\tremaining: 14.3ms\n",
      "138:\tlearn: 0.9085779\ttotal: 166ms\tremaining: 13.1ms\n",
      "139:\tlearn: 0.9085779\ttotal: 167ms\tremaining: 11.9ms\n",
      "140:\tlearn: 0.9085779\ttotal: 168ms\tremaining: 10.7ms\n",
      "141:\tlearn: 0.9085779\ttotal: 170ms\tremaining: 9.55ms\n",
      "142:\tlearn: 0.9085779\ttotal: 171ms\tremaining: 8.35ms\n",
      "143:\tlearn: 0.9085779\ttotal: 172ms\tremaining: 7.16ms\n",
      "144:\tlearn: 0.9085779\ttotal: 173ms\tremaining: 5.97ms\n",
      "145:\tlearn: 0.9085779\ttotal: 174ms\tremaining: 4.78ms\n",
      "146:\tlearn: 0.9085779\ttotal: 176ms\tremaining: 3.58ms\n",
      "147:\tlearn: 0.9085779\ttotal: 177ms\tremaining: 2.39ms\n",
      "148:\tlearn: 0.9085779\ttotal: 178ms\tremaining: 1.19ms\n",
      "149:\tlearn: 0.9085779\ttotal: 179ms\tremaining: 0us\n",
      "0:\tlearn: 0.8397291\ttotal: 1.48ms\tremaining: 221ms\n",
      "1:\tlearn: 0.8487585\ttotal: 3.12ms\tremaining: 231ms\n",
      "2:\tlearn: 0.8679458\ttotal: 4.52ms\tremaining: 221ms\n",
      "3:\tlearn: 0.8645598\ttotal: 6.14ms\tremaining: 224ms\n",
      "4:\tlearn: 0.8656885\ttotal: 7.51ms\tremaining: 218ms\n",
      "5:\tlearn: 0.8634312\ttotal: 9.13ms\tremaining: 219ms\n",
      "6:\tlearn: 0.8679458\ttotal: 10.8ms\tremaining: 220ms\n",
      "7:\tlearn: 0.8702032\ttotal: 12.2ms\tremaining: 216ms\n",
      "8:\tlearn: 0.8623025\ttotal: 13.5ms\tremaining: 212ms\n",
      "9:\tlearn: 0.8679458\ttotal: 14.8ms\tremaining: 207ms\n",
      "10:\tlearn: 0.8724605\ttotal: 16ms\tremaining: 202ms\n",
      "11:\tlearn: 0.8724605\ttotal: 17.3ms\tremaining: 199ms\n",
      "12:\tlearn: 0.8724605\ttotal: 18.6ms\tremaining: 196ms\n",
      "13:\tlearn: 0.8769752\ttotal: 20ms\tremaining: 195ms\n",
      "14:\tlearn: 0.8769752\ttotal: 21.5ms\tremaining: 193ms\n",
      "15:\tlearn: 0.8781038\ttotal: 22.8ms\tremaining: 191ms\n",
      "16:\tlearn: 0.8724605\ttotal: 24.2ms\tremaining: 189ms\n",
      "17:\tlearn: 0.8724605\ttotal: 25.6ms\tremaining: 188ms\n",
      "18:\tlearn: 0.8724605\ttotal: 27ms\tremaining: 186ms\n",
      "19:\tlearn: 0.8781038\ttotal: 28.4ms\tremaining: 184ms\n",
      "20:\tlearn: 0.8792325\ttotal: 29.8ms\tremaining: 183ms\n",
      "21:\tlearn: 0.8826185\ttotal: 31.3ms\tremaining: 182ms\n",
      "22:\tlearn: 0.8826185\ttotal: 32.5ms\tremaining: 180ms\n",
      "23:\tlearn: 0.8826185\ttotal: 33.8ms\tremaining: 177ms\n",
      "24:\tlearn: 0.8814898\ttotal: 35ms\tremaining: 175ms\n",
      "25:\tlearn: 0.8848758\ttotal: 36.4ms\tremaining: 174ms\n",
      "26:\tlearn: 0.8837472\ttotal: 37.4ms\tremaining: 170ms\n",
      "27:\tlearn: 0.8860045\ttotal: 38.6ms\tremaining: 168ms\n",
      "28:\tlearn: 0.8860045\ttotal: 40ms\tremaining: 167ms\n",
      "29:\tlearn: 0.8860045\ttotal: 41.3ms\tremaining: 165ms\n",
      "30:\tlearn: 0.8882619\ttotal: 42.6ms\tremaining: 164ms\n",
      "31:\tlearn: 0.8882619\ttotal: 43.9ms\tremaining: 162ms\n",
      "32:\tlearn: 0.8893905\ttotal: 45.4ms\tremaining: 161ms\n",
      "33:\tlearn: 0.8893905\ttotal: 46.6ms\tremaining: 159ms\n",
      "34:\tlearn: 0.8871332\ttotal: 47.8ms\tremaining: 157ms\n",
      "35:\tlearn: 0.8905192\ttotal: 49.2ms\tremaining: 156ms\n",
      "36:\tlearn: 0.8905192\ttotal: 50.7ms\tremaining: 155ms\n",
      "37:\tlearn: 0.8927765\ttotal: 51.9ms\tremaining: 153ms\n",
      "38:\tlearn: 0.8927765\ttotal: 53.3ms\tremaining: 152ms\n",
      "39:\tlearn: 0.8927765\ttotal: 54.6ms\tremaining: 150ms\n",
      "40:\tlearn: 0.8950339\ttotal: 56.3ms\tremaining: 150ms\n",
      "41:\tlearn: 0.8950339\ttotal: 57.8ms\tremaining: 149ms\n",
      "42:\tlearn: 0.8961625\ttotal: 59.4ms\tremaining: 148ms\n",
      "43:\tlearn: 0.8961625\ttotal: 60.8ms\tremaining: 146ms\n",
      "44:\tlearn: 0.8950339\ttotal: 62.3ms\tremaining: 145ms\n",
      "45:\tlearn: 0.8961625\ttotal: 64.1ms\tremaining: 145ms\n",
      "46:\tlearn: 0.8950339\ttotal: 65.5ms\tremaining: 144ms\n",
      "47:\tlearn: 0.8961625\ttotal: 66.9ms\tremaining: 142ms\n",
      "48:\tlearn: 0.8961625\ttotal: 68.3ms\tremaining: 141ms\n",
      "49:\tlearn: 0.8984199\ttotal: 70.1ms\tremaining: 140ms\n",
      "50:\tlearn: 0.9006772\ttotal: 71.4ms\tremaining: 139ms\n",
      "51:\tlearn: 0.8995485\ttotal: 72.7ms\tremaining: 137ms\n",
      "52:\tlearn: 0.9006772\ttotal: 74ms\tremaining: 135ms\n",
      "53:\tlearn: 0.9029345\ttotal: 75.4ms\tremaining: 134ms\n",
      "54:\tlearn: 0.9029345\ttotal: 76.7ms\tremaining: 133ms\n",
      "55:\tlearn: 0.9029345\ttotal: 78ms\tremaining: 131ms\n",
      "56:\tlearn: 0.9018059\ttotal: 79.3ms\tremaining: 129ms\n",
      "57:\tlearn: 0.9040632\ttotal: 80.6ms\tremaining: 128ms\n",
      "58:\tlearn: 0.9040632\ttotal: 81.9ms\tremaining: 126ms\n",
      "59:\tlearn: 0.9051919\ttotal: 83.4ms\tremaining: 125ms\n",
      "60:\tlearn: 0.9029345\ttotal: 84.8ms\tremaining: 124ms\n",
      "61:\tlearn: 0.9040632\ttotal: 86.3ms\tremaining: 122ms\n",
      "62:\tlearn: 0.9040632\ttotal: 87.8ms\tremaining: 121ms\n",
      "63:\tlearn: 0.9040632\ttotal: 89.2ms\tremaining: 120ms\n",
      "64:\tlearn: 0.9051919\ttotal: 90.8ms\tremaining: 119ms\n",
      "65:\tlearn: 0.9040632\ttotal: 92.2ms\tremaining: 117ms\n",
      "66:\tlearn: 0.9063205\ttotal: 93.7ms\tremaining: 116ms\n",
      "67:\tlearn: 0.9051919\ttotal: 95.2ms\tremaining: 115ms\n",
      "68:\tlearn: 0.9063205\ttotal: 96.8ms\tremaining: 114ms\n",
      "69:\tlearn: 0.9063205\ttotal: 98.2ms\tremaining: 112ms\n",
      "70:\tlearn: 0.9074492\ttotal: 99.6ms\tremaining: 111ms\n",
      "71:\tlearn: 0.9085779\ttotal: 101ms\tremaining: 109ms\n",
      "72:\tlearn: 0.9085779\ttotal: 102ms\tremaining: 108ms\n",
      "73:\tlearn: 0.9085779\ttotal: 104ms\tremaining: 106ms\n",
      "74:\tlearn: 0.9074492\ttotal: 105ms\tremaining: 105ms\n",
      "75:\tlearn: 0.9074492\ttotal: 106ms\tremaining: 104ms\n",
      "76:\tlearn: 0.9074492\ttotal: 108ms\tremaining: 102ms\n",
      "77:\tlearn: 0.9085779\ttotal: 109ms\tremaining: 101ms\n",
      "78:\tlearn: 0.9097065\ttotal: 110ms\tremaining: 99.2ms\n",
      "79:\tlearn: 0.9097065\ttotal: 112ms\tremaining: 97.7ms\n",
      "80:\tlearn: 0.9097065\ttotal: 113ms\tremaining: 96.2ms\n",
      "81:\tlearn: 0.9097065\ttotal: 114ms\tremaining: 94.6ms\n",
      "82:\tlearn: 0.9097065\ttotal: 115ms\tremaining: 93.1ms\n",
      "83:\tlearn: 0.9097065\ttotal: 117ms\tremaining: 91.5ms\n",
      "84:\tlearn: 0.9097065\ttotal: 118ms\tremaining: 90ms\n",
      "85:\tlearn: 0.9097065\ttotal: 119ms\tremaining: 88.5ms\n",
      "86:\tlearn: 0.9097065\ttotal: 120ms\tremaining: 87ms\n",
      "87:\tlearn: 0.9097065\ttotal: 122ms\tremaining: 86.1ms\n",
      "88:\tlearn: 0.9097065\ttotal: 124ms\tremaining: 84.7ms\n",
      "89:\tlearn: 0.9097065\ttotal: 125ms\tremaining: 83.2ms\n",
      "90:\tlearn: 0.9119639\ttotal: 126ms\tremaining: 81.9ms\n",
      "91:\tlearn: 0.9119639\ttotal: 128ms\tremaining: 80.7ms\n",
      "92:\tlearn: 0.9119639\ttotal: 129ms\tremaining: 79.3ms\n",
      "93:\tlearn: 0.9119639\ttotal: 131ms\tremaining: 77.9ms\n",
      "94:\tlearn: 0.9119639\ttotal: 132ms\tremaining: 76.5ms\n",
      "95:\tlearn: 0.9119639\ttotal: 134ms\tremaining: 75.4ms\n",
      "96:\tlearn: 0.9119639\ttotal: 136ms\tremaining: 74.1ms\n",
      "97:\tlearn: 0.9119639\ttotal: 137ms\tremaining: 72.6ms\n",
      "98:\tlearn: 0.9119639\ttotal: 138ms\tremaining: 71.2ms\n",
      "99:\tlearn: 0.9119639\ttotal: 140ms\tremaining: 69.8ms\n",
      "100:\tlearn: 0.9119639\ttotal: 141ms\tremaining: 68.4ms\n",
      "101:\tlearn: 0.9130926\ttotal: 142ms\tremaining: 66.9ms\n",
      "102:\tlearn: 0.9130926\ttotal: 143ms\tremaining: 65.5ms\n",
      "103:\tlearn: 0.9130926\ttotal: 145ms\tremaining: 64ms\n",
      "104:\tlearn: 0.9130926\ttotal: 146ms\tremaining: 62.6ms\n",
      "105:\tlearn: 0.9130926\ttotal: 147ms\tremaining: 61.2ms\n",
      "106:\tlearn: 0.9130926\ttotal: 149ms\tremaining: 59.8ms\n",
      "107:\tlearn: 0.9130926\ttotal: 150ms\tremaining: 58.4ms\n",
      "108:\tlearn: 0.9130926\ttotal: 151ms\tremaining: 57ms\n",
      "109:\tlearn: 0.9130926\ttotal: 153ms\tremaining: 55.5ms\n",
      "110:\tlearn: 0.9130926\ttotal: 154ms\tremaining: 54.1ms\n",
      "111:\tlearn: 0.9130926\ttotal: 156ms\tremaining: 52.8ms\n",
      "112:\tlearn: 0.9119639\ttotal: 157ms\tremaining: 51.4ms\n",
      "113:\tlearn: 0.9130926\ttotal: 159ms\tremaining: 50.1ms\n",
      "114:\tlearn: 0.9119639\ttotal: 160ms\tremaining: 48.7ms\n",
      "115:\tlearn: 0.9130926\ttotal: 161ms\tremaining: 47.3ms\n",
      "116:\tlearn: 0.9130926\ttotal: 163ms\tremaining: 45.9ms\n",
      "117:\tlearn: 0.9130926\ttotal: 164ms\tremaining: 44.6ms\n",
      "118:\tlearn: 0.9130926\ttotal: 166ms\tremaining: 43.1ms\n",
      "119:\tlearn: 0.9130926\ttotal: 167ms\tremaining: 41.7ms\n",
      "120:\tlearn: 0.9130926\ttotal: 168ms\tremaining: 40.3ms\n",
      "121:\tlearn: 0.9130926\ttotal: 169ms\tremaining: 38.8ms\n",
      "122:\tlearn: 0.9130926\ttotal: 171ms\tremaining: 37.4ms\n",
      "123:\tlearn: 0.9130926\ttotal: 172ms\tremaining: 36ms\n",
      "124:\tlearn: 0.9130926\ttotal: 173ms\tremaining: 34.6ms\n",
      "125:\tlearn: 0.9142212\ttotal: 174ms\tremaining: 33.2ms\n",
      "126:\tlearn: 0.9142212\ttotal: 175ms\tremaining: 31.8ms\n",
      "127:\tlearn: 0.9142212\ttotal: 177ms\tremaining: 30.3ms\n",
      "128:\tlearn: 0.9142212\ttotal: 178ms\tremaining: 29ms\n",
      "129:\tlearn: 0.9142212\ttotal: 179ms\tremaining: 27.6ms\n",
      "130:\tlearn: 0.9142212\ttotal: 180ms\tremaining: 26.2ms\n",
      "131:\tlearn: 0.9142212\ttotal: 181ms\tremaining: 24.7ms\n",
      "132:\tlearn: 0.9142212\ttotal: 183ms\tremaining: 23.3ms\n",
      "133:\tlearn: 0.9142212\ttotal: 184ms\tremaining: 22ms\n",
      "134:\tlearn: 0.9142212\ttotal: 186ms\tremaining: 20.6ms\n",
      "135:\tlearn: 0.9142212\ttotal: 187ms\tremaining: 19.3ms\n",
      "136:\tlearn: 0.9153499\ttotal: 188ms\tremaining: 17.9ms\n",
      "137:\tlearn: 0.9153499\ttotal: 190ms\tremaining: 16.5ms\n",
      "138:\tlearn: 0.9153499\ttotal: 191ms\tremaining: 15.1ms\n",
      "139:\tlearn: 0.9153499\ttotal: 193ms\tremaining: 13.8ms\n",
      "140:\tlearn: 0.9153499\ttotal: 194ms\tremaining: 12.4ms\n",
      "141:\tlearn: 0.9153499\ttotal: 195ms\tremaining: 11ms\n",
      "142:\tlearn: 0.9142212\ttotal: 196ms\tremaining: 9.61ms\n",
      "143:\tlearn: 0.9153499\ttotal: 198ms\tremaining: 8.24ms\n",
      "144:\tlearn: 0.9153499\ttotal: 199ms\tremaining: 6.87ms\n",
      "145:\tlearn: 0.9153499\ttotal: 200ms\tremaining: 5.49ms\n",
      "146:\tlearn: 0.9164786\ttotal: 202ms\tremaining: 4.11ms\n",
      "147:\tlearn: 0.9164786\ttotal: 203ms\tremaining: 2.74ms\n",
      "148:\tlearn: 0.9164786\ttotal: 204ms\tremaining: 1.37ms\n",
      "149:\tlearn: 0.9164786\ttotal: 206ms\tremaining: 0us\n",
      "0:\tlearn: 0.8476298\ttotal: 1.87ms\tremaining: 279ms\n",
      "1:\tlearn: 0.8510158\ttotal: 3.42ms\tremaining: 253ms\n",
      "2:\tlearn: 0.8600451\ttotal: 5.33ms\tremaining: 261ms\n",
      "3:\tlearn: 0.8555305\ttotal: 7.03ms\tremaining: 257ms\n",
      "4:\tlearn: 0.8555305\ttotal: 8.6ms\tremaining: 250ms\n",
      "5:\tlearn: 0.8600451\ttotal: 10.1ms\tremaining: 243ms\n",
      "6:\tlearn: 0.8645598\ttotal: 11.8ms\tremaining: 241ms\n",
      "7:\tlearn: 0.8656885\ttotal: 13.4ms\tremaining: 237ms\n",
      "8:\tlearn: 0.8656885\ttotal: 15.6ms\tremaining: 244ms\n",
      "9:\tlearn: 0.8679458\ttotal: 17.7ms\tremaining: 247ms\n",
      "10:\tlearn: 0.8690745\ttotal: 19.3ms\tremaining: 244ms\n",
      "11:\tlearn: 0.8724605\ttotal: 21ms\tremaining: 242ms\n",
      "12:\tlearn: 0.8656885\ttotal: 22.7ms\tremaining: 240ms\n",
      "13:\tlearn: 0.8713318\ttotal: 24.4ms\tremaining: 237ms\n",
      "14:\tlearn: 0.8758465\ttotal: 25.8ms\tremaining: 232ms\n",
      "15:\tlearn: 0.8690745\ttotal: 27.3ms\tremaining: 229ms\n",
      "16:\tlearn: 0.8702032\ttotal: 28.8ms\tremaining: 225ms\n",
      "17:\tlearn: 0.8735892\ttotal: 30.3ms\tremaining: 222ms\n",
      "18:\tlearn: 0.8724605\ttotal: 31.7ms\tremaining: 219ms\n",
      "19:\tlearn: 0.8747178\ttotal: 33.6ms\tremaining: 218ms\n",
      "20:\tlearn: 0.8735892\ttotal: 34.7ms\tremaining: 213ms\n",
      "21:\tlearn: 0.8803612\ttotal: 36.4ms\tremaining: 212ms\n",
      "22:\tlearn: 0.8792325\ttotal: 38.2ms\tremaining: 211ms\n",
      "23:\tlearn: 0.8837472\ttotal: 40.1ms\tremaining: 211ms\n",
      "24:\tlearn: 0.8826185\ttotal: 43.1ms\tremaining: 216ms\n",
      "25:\tlearn: 0.8826185\ttotal: 44.9ms\tremaining: 214ms\n",
      "26:\tlearn: 0.8814898\ttotal: 46.4ms\tremaining: 211ms\n",
      "27:\tlearn: 0.8837472\ttotal: 47.8ms\tremaining: 208ms\n",
      "28:\tlearn: 0.8860045\ttotal: 49.3ms\tremaining: 206ms\n",
      "29:\tlearn: 0.8882619\ttotal: 50.8ms\tremaining: 203ms\n",
      "30:\tlearn: 0.8916479\ttotal: 52.4ms\tremaining: 201ms\n",
      "31:\tlearn: 0.8916479\ttotal: 54ms\tremaining: 199ms\n",
      "32:\tlearn: 0.8905192\ttotal: 55.7ms\tremaining: 198ms\n",
      "33:\tlearn: 0.8939052\ttotal: 57.4ms\tremaining: 196ms\n",
      "34:\tlearn: 0.8916479\ttotal: 58.9ms\tremaining: 194ms\n",
      "35:\tlearn: 0.8939052\ttotal: 60.4ms\tremaining: 191ms\n",
      "36:\tlearn: 0.8927765\ttotal: 62ms\tremaining: 189ms\n",
      "37:\tlearn: 0.8939052\ttotal: 63.4ms\tremaining: 187ms\n",
      "38:\tlearn: 0.8961625\ttotal: 65.4ms\tremaining: 186ms\n",
      "39:\tlearn: 0.8961625\ttotal: 66.9ms\tremaining: 184ms\n",
      "40:\tlearn: 0.8972912\ttotal: 68.7ms\tremaining: 183ms\n",
      "41:\tlearn: 0.8972912\ttotal: 70.5ms\tremaining: 181ms\n",
      "42:\tlearn: 0.8972912\ttotal: 71.9ms\tremaining: 179ms\n",
      "43:\tlearn: 0.8984199\ttotal: 73.4ms\tremaining: 177ms\n",
      "44:\tlearn: 0.8984199\ttotal: 74.9ms\tremaining: 175ms\n",
      "45:\tlearn: 0.8984199\ttotal: 77.2ms\tremaining: 175ms\n",
      "46:\tlearn: 0.8972912\ttotal: 78.7ms\tremaining: 172ms\n",
      "47:\tlearn: 0.8984199\ttotal: 80.1ms\tremaining: 170ms\n",
      "48:\tlearn: 0.8984199\ttotal: 81.6ms\tremaining: 168ms\n",
      "49:\tlearn: 0.8995485\ttotal: 83.3ms\tremaining: 167ms\n",
      "50:\tlearn: 0.9006772\ttotal: 84.7ms\tremaining: 165ms\n",
      "51:\tlearn: 0.9018059\ttotal: 86.4ms\tremaining: 163ms\n",
      "52:\tlearn: 0.9018059\ttotal: 87.9ms\tremaining: 161ms\n",
      "53:\tlearn: 0.9029345\ttotal: 89.4ms\tremaining: 159ms\n",
      "54:\tlearn: 0.9029345\ttotal: 91ms\tremaining: 157ms\n",
      "55:\tlearn: 0.9051919\ttotal: 92.9ms\tremaining: 156ms\n",
      "56:\tlearn: 0.9040632\ttotal: 94.7ms\tremaining: 154ms\n",
      "57:\tlearn: 0.9074492\ttotal: 96.5ms\tremaining: 153ms\n",
      "58:\tlearn: 0.9063205\ttotal: 97.8ms\tremaining: 151ms\n",
      "59:\tlearn: 0.9051919\ttotal: 99.3ms\tremaining: 149ms\n",
      "60:\tlearn: 0.9051919\ttotal: 102ms\tremaining: 149ms\n",
      "61:\tlearn: 0.9074492\ttotal: 104ms\tremaining: 147ms\n",
      "62:\tlearn: 0.9063205\ttotal: 105ms\tremaining: 146ms\n",
      "63:\tlearn: 0.9063205\ttotal: 107ms\tremaining: 144ms\n",
      "64:\tlearn: 0.9063205\ttotal: 109ms\tremaining: 142ms\n",
      "65:\tlearn: 0.9074492\ttotal: 110ms\tremaining: 141ms\n",
      "66:\tlearn: 0.9074492\ttotal: 112ms\tremaining: 139ms\n",
      "67:\tlearn: 0.9063205\ttotal: 114ms\tremaining: 137ms\n",
      "68:\tlearn: 0.9063205\ttotal: 115ms\tremaining: 135ms\n",
      "69:\tlearn: 0.9063205\ttotal: 117ms\tremaining: 133ms\n",
      "70:\tlearn: 0.9074492\ttotal: 118ms\tremaining: 131ms\n",
      "71:\tlearn: 0.9074492\ttotal: 120ms\tremaining: 130ms\n",
      "72:\tlearn: 0.9085779\ttotal: 121ms\tremaining: 128ms\n",
      "73:\tlearn: 0.9085779\ttotal: 123ms\tremaining: 126ms\n",
      "74:\tlearn: 0.9074492\ttotal: 124ms\tremaining: 124ms\n",
      "75:\tlearn: 0.9074492\ttotal: 126ms\tremaining: 122ms\n",
      "76:\tlearn: 0.9085779\ttotal: 129ms\tremaining: 122ms\n",
      "77:\tlearn: 0.9085779\ttotal: 130ms\tremaining: 120ms\n",
      "78:\tlearn: 0.9085779\ttotal: 132ms\tremaining: 119ms\n",
      "79:\tlearn: 0.9085779\ttotal: 133ms\tremaining: 117ms\n",
      "80:\tlearn: 0.9074492\ttotal: 135ms\tremaining: 115ms\n",
      "81:\tlearn: 0.9074492\ttotal: 136ms\tremaining: 113ms\n",
      "82:\tlearn: 0.9085779\ttotal: 139ms\tremaining: 112ms\n",
      "83:\tlearn: 0.9085779\ttotal: 140ms\tremaining: 110ms\n",
      "84:\tlearn: 0.9085779\ttotal: 142ms\tremaining: 109ms\n",
      "85:\tlearn: 0.9085779\ttotal: 144ms\tremaining: 107ms\n",
      "86:\tlearn: 0.9085779\ttotal: 146ms\tremaining: 105ms\n",
      "87:\tlearn: 0.9085779\ttotal: 147ms\tremaining: 104ms\n",
      "88:\tlearn: 0.9085779\ttotal: 149ms\tremaining: 102ms\n",
      "89:\tlearn: 0.9085779\ttotal: 150ms\tremaining: 100ms\n",
      "90:\tlearn: 0.9085779\ttotal: 152ms\tremaining: 98.4ms\n",
      "91:\tlearn: 0.9085779\ttotal: 153ms\tremaining: 96.7ms\n",
      "92:\tlearn: 0.9085779\ttotal: 155ms\tremaining: 94.8ms\n",
      "93:\tlearn: 0.9085779\ttotal: 156ms\tremaining: 93ms\n",
      "94:\tlearn: 0.9085779\ttotal: 159ms\tremaining: 92.1ms\n",
      "95:\tlearn: 0.9085779\ttotal: 161ms\tremaining: 90.6ms\n",
      "96:\tlearn: 0.9097065\ttotal: 163ms\tremaining: 88.8ms\n",
      "97:\tlearn: 0.9085779\ttotal: 164ms\tremaining: 87ms\n",
      "98:\tlearn: 0.9085779\ttotal: 166ms\tremaining: 85.4ms\n",
      "99:\tlearn: 0.9097065\ttotal: 167ms\tremaining: 83.7ms\n",
      "100:\tlearn: 0.9097065\ttotal: 169ms\tremaining: 81.9ms\n",
      "101:\tlearn: 0.9097065\ttotal: 171ms\tremaining: 80.3ms\n",
      "102:\tlearn: 0.9097065\ttotal: 172ms\tremaining: 78.5ms\n",
      "103:\tlearn: 0.9097065\ttotal: 174ms\tremaining: 76.9ms\n",
      "104:\tlearn: 0.9108352\ttotal: 176ms\tremaining: 75.3ms\n",
      "105:\tlearn: 0.9108352\ttotal: 177ms\tremaining: 73.5ms\n",
      "106:\tlearn: 0.9108352\ttotal: 179ms\tremaining: 71.8ms\n",
      "107:\tlearn: 0.9108352\ttotal: 180ms\tremaining: 70ms\n",
      "108:\tlearn: 0.9108352\ttotal: 181ms\tremaining: 68.1ms\n",
      "109:\tlearn: 0.9108352\ttotal: 183ms\tremaining: 66.4ms\n",
      "110:\tlearn: 0.9108352\ttotal: 184ms\tremaining: 64.8ms\n",
      "111:\tlearn: 0.9108352\ttotal: 186ms\tremaining: 63.1ms\n",
      "112:\tlearn: 0.9097065\ttotal: 188ms\tremaining: 61.4ms\n",
      "113:\tlearn: 0.9097065\ttotal: 190ms\tremaining: 60ms\n",
      "114:\tlearn: 0.9097065\ttotal: 192ms\tremaining: 58.3ms\n",
      "115:\tlearn: 0.9097065\ttotal: 193ms\tremaining: 56.5ms\n",
      "116:\tlearn: 0.9097065\ttotal: 194ms\tremaining: 54.8ms\n",
      "117:\tlearn: 0.9097065\ttotal: 196ms\tremaining: 53.1ms\n",
      "118:\tlearn: 0.9108352\ttotal: 197ms\tremaining: 51.4ms\n",
      "119:\tlearn: 0.9108352\ttotal: 199ms\tremaining: 49.7ms\n",
      "120:\tlearn: 0.9108352\ttotal: 200ms\tremaining: 48ms\n",
      "121:\tlearn: 0.9108352\ttotal: 202ms\tremaining: 46.4ms\n",
      "122:\tlearn: 0.9108352\ttotal: 204ms\tremaining: 44.7ms\n",
      "123:\tlearn: 0.9108352\ttotal: 205ms\tremaining: 43ms\n",
      "124:\tlearn: 0.9108352\ttotal: 207ms\tremaining: 41.3ms\n",
      "125:\tlearn: 0.9108352\ttotal: 208ms\tremaining: 39.6ms\n",
      "126:\tlearn: 0.9108352\ttotal: 210ms\tremaining: 38ms\n",
      "127:\tlearn: 0.9108352\ttotal: 211ms\tremaining: 36.3ms\n",
      "128:\tlearn: 0.9097065\ttotal: 212ms\tremaining: 34.6ms\n",
      "129:\tlearn: 0.9097065\ttotal: 214ms\tremaining: 32.9ms\n",
      "130:\tlearn: 0.9097065\ttotal: 215ms\tremaining: 31.3ms\n",
      "131:\tlearn: 0.9097065\ttotal: 217ms\tremaining: 29.6ms\n",
      "132:\tlearn: 0.9097065\ttotal: 218ms\tremaining: 27.9ms\n",
      "133:\tlearn: 0.9097065\ttotal: 221ms\tremaining: 26.4ms\n",
      "134:\tlearn: 0.9097065\ttotal: 223ms\tremaining: 24.8ms\n",
      "135:\tlearn: 0.9108352\ttotal: 224ms\tremaining: 23.1ms\n",
      "136:\tlearn: 0.9108352\ttotal: 226ms\tremaining: 21.5ms\n",
      "137:\tlearn: 0.9108352\ttotal: 228ms\tremaining: 19.9ms\n",
      "138:\tlearn: 0.9108352\ttotal: 230ms\tremaining: 18.2ms\n",
      "139:\tlearn: 0.9108352\ttotal: 232ms\tremaining: 16.6ms\n",
      "140:\tlearn: 0.9119639\ttotal: 234ms\tremaining: 14.9ms\n",
      "141:\tlearn: 0.9119639\ttotal: 236ms\tremaining: 13.3ms\n",
      "142:\tlearn: 0.9119639\ttotal: 237ms\tremaining: 11.6ms\n",
      "143:\tlearn: 0.9119639\ttotal: 239ms\tremaining: 9.95ms\n",
      "144:\tlearn: 0.9119639\ttotal: 240ms\tremaining: 8.28ms\n",
      "145:\tlearn: 0.9119639\ttotal: 242ms\tremaining: 6.62ms\n",
      "146:\tlearn: 0.9119639\ttotal: 244ms\tremaining: 4.97ms\n",
      "147:\tlearn: 0.9119639\ttotal: 245ms\tremaining: 3.31ms\n",
      "148:\tlearn: 0.9130926\ttotal: 246ms\tremaining: 1.65ms\n",
      "149:\tlearn: 0.9119639\ttotal: 248ms\tremaining: 0us\n",
      "0:\tlearn: 0.8544018\ttotal: 1.54ms\tremaining: 229ms\n",
      "1:\tlearn: 0.8555305\ttotal: 2.89ms\tremaining: 214ms\n",
      "2:\tlearn: 0.8713318\ttotal: 4.42ms\tremaining: 217ms\n",
      "3:\tlearn: 0.8758465\ttotal: 5.75ms\tremaining: 210ms\n",
      "4:\tlearn: 0.8769752\ttotal: 7.1ms\tremaining: 206ms\n",
      "5:\tlearn: 0.8803612\ttotal: 8.3ms\tremaining: 199ms\n",
      "6:\tlearn: 0.8792325\ttotal: 9.54ms\tremaining: 195ms\n",
      "7:\tlearn: 0.8826185\ttotal: 10.7ms\tremaining: 191ms\n",
      "8:\tlearn: 0.8792325\ttotal: 11.9ms\tremaining: 186ms\n",
      "9:\tlearn: 0.8769752\ttotal: 13.2ms\tremaining: 185ms\n",
      "10:\tlearn: 0.8792325\ttotal: 14.6ms\tremaining: 184ms\n",
      "11:\tlearn: 0.8837472\ttotal: 16.2ms\tremaining: 186ms\n",
      "12:\tlearn: 0.8814898\ttotal: 17.6ms\tremaining: 186ms\n",
      "13:\tlearn: 0.8803612\ttotal: 18.9ms\tremaining: 183ms\n",
      "14:\tlearn: 0.8837472\ttotal: 20.2ms\tremaining: 182ms\n",
      "15:\tlearn: 0.8781038\ttotal: 21.5ms\tremaining: 180ms\n",
      "16:\tlearn: 0.8781038\ttotal: 22.8ms\tremaining: 178ms\n",
      "17:\tlearn: 0.8803612\ttotal: 24.1ms\tremaining: 177ms\n",
      "18:\tlearn: 0.8826185\ttotal: 25.4ms\tremaining: 175ms\n",
      "19:\tlearn: 0.8826185\ttotal: 26.8ms\tremaining: 174ms\n",
      "20:\tlearn: 0.8871332\ttotal: 27.6ms\tremaining: 170ms\n",
      "21:\tlearn: 0.8882619\ttotal: 29ms\tremaining: 169ms\n",
      "22:\tlearn: 0.8893905\ttotal: 30.3ms\tremaining: 167ms\n",
      "23:\tlearn: 0.8882619\ttotal: 31.7ms\tremaining: 166ms\n",
      "24:\tlearn: 0.8837472\ttotal: 33ms\tremaining: 165ms\n",
      "25:\tlearn: 0.8882619\ttotal: 34.4ms\tremaining: 164ms\n",
      "26:\tlearn: 0.8893905\ttotal: 35.7ms\tremaining: 163ms\n",
      "27:\tlearn: 0.8882619\ttotal: 37.2ms\tremaining: 162ms\n",
      "28:\tlearn: 0.8871332\ttotal: 38.5ms\tremaining: 161ms\n",
      "29:\tlearn: 0.8893905\ttotal: 39.9ms\tremaining: 160ms\n",
      "30:\tlearn: 0.8916479\ttotal: 41.3ms\tremaining: 158ms\n",
      "31:\tlearn: 0.8950339\ttotal: 42.5ms\tremaining: 157ms\n",
      "32:\tlearn: 0.8950339\ttotal: 43.7ms\tremaining: 155ms\n",
      "33:\tlearn: 0.8961625\ttotal: 45.1ms\tremaining: 154ms\n",
      "34:\tlearn: 0.8961625\ttotal: 46.4ms\tremaining: 152ms\n",
      "35:\tlearn: 0.8950339\ttotal: 47.8ms\tremaining: 151ms\n",
      "36:\tlearn: 0.8972912\ttotal: 49.1ms\tremaining: 150ms\n",
      "37:\tlearn: 0.8972912\ttotal: 50.1ms\tremaining: 148ms\n",
      "38:\tlearn: 0.8984199\ttotal: 51.4ms\tremaining: 146ms\n",
      "39:\tlearn: 0.8984199\ttotal: 52.7ms\tremaining: 145ms\n",
      "40:\tlearn: 0.8984199\ttotal: 53.7ms\tremaining: 143ms\n",
      "41:\tlearn: 0.9006772\ttotal: 55ms\tremaining: 141ms\n",
      "42:\tlearn: 0.8995485\ttotal: 56.5ms\tremaining: 141ms\n",
      "43:\tlearn: 0.9006772\ttotal: 58.2ms\tremaining: 140ms\n",
      "44:\tlearn: 0.9006772\ttotal: 59.6ms\tremaining: 139ms\n",
      "45:\tlearn: 0.9018059\ttotal: 61ms\tremaining: 138ms\n",
      "46:\tlearn: 0.9029345\ttotal: 62.3ms\tremaining: 137ms\n",
      "47:\tlearn: 0.9018059\ttotal: 63.7ms\tremaining: 135ms\n",
      "48:\tlearn: 0.9018059\ttotal: 65.3ms\tremaining: 135ms\n",
      "49:\tlearn: 0.9018059\ttotal: 66.6ms\tremaining: 133ms\n",
      "50:\tlearn: 0.9029345\ttotal: 67.9ms\tremaining: 132ms\n",
      "51:\tlearn: 0.9018059\ttotal: 69.1ms\tremaining: 130ms\n",
      "52:\tlearn: 0.9029345\ttotal: 70.3ms\tremaining: 129ms\n",
      "53:\tlearn: 0.9029345\ttotal: 71.6ms\tremaining: 127ms\n",
      "54:\tlearn: 0.9063205\ttotal: 72.8ms\tremaining: 126ms\n",
      "55:\tlearn: 0.9063205\ttotal: 74.3ms\tremaining: 125ms\n",
      "56:\tlearn: 0.9063205\ttotal: 75.8ms\tremaining: 124ms\n",
      "57:\tlearn: 0.9063205\ttotal: 77.2ms\tremaining: 123ms\n",
      "58:\tlearn: 0.9051919\ttotal: 78.8ms\tremaining: 121ms\n",
      "59:\tlearn: 0.9051919\ttotal: 80.2ms\tremaining: 120ms\n",
      "60:\tlearn: 0.9063205\ttotal: 81.5ms\tremaining: 119ms\n",
      "61:\tlearn: 0.9074492\ttotal: 82.7ms\tremaining: 117ms\n",
      "62:\tlearn: 0.9063205\ttotal: 83.9ms\tremaining: 116ms\n",
      "63:\tlearn: 0.9085779\ttotal: 85ms\tremaining: 114ms\n",
      "64:\tlearn: 0.9074492\ttotal: 86.2ms\tremaining: 113ms\n",
      "65:\tlearn: 0.9063205\ttotal: 87.4ms\tremaining: 111ms\n",
      "66:\tlearn: 0.9063205\ttotal: 88.7ms\tremaining: 110ms\n",
      "67:\tlearn: 0.9074492\ttotal: 89.9ms\tremaining: 108ms\n",
      "68:\tlearn: 0.9074492\ttotal: 91.2ms\tremaining: 107ms\n",
      "69:\tlearn: 0.9074492\ttotal: 92.3ms\tremaining: 105ms\n",
      "70:\tlearn: 0.9085779\ttotal: 93.5ms\tremaining: 104ms\n",
      "71:\tlearn: 0.9085779\ttotal: 94.7ms\tremaining: 103ms\n",
      "72:\tlearn: 0.9097065\ttotal: 95.9ms\tremaining: 101ms\n",
      "73:\tlearn: 0.9097065\ttotal: 96.9ms\tremaining: 99.5ms\n",
      "74:\tlearn: 0.9108352\ttotal: 98ms\tremaining: 98ms\n",
      "75:\tlearn: 0.9108352\ttotal: 99.1ms\tremaining: 96.5ms\n",
      "76:\tlearn: 0.9108352\ttotal: 100ms\tremaining: 95ms\n",
      "77:\tlearn: 0.9108352\ttotal: 101ms\tremaining: 93.6ms\n",
      "78:\tlearn: 0.9119639\ttotal: 103ms\tremaining: 92.3ms\n",
      "79:\tlearn: 0.9119639\ttotal: 104ms\tremaining: 91.1ms\n",
      "80:\tlearn: 0.9119639\ttotal: 105ms\tremaining: 89.7ms\n",
      "81:\tlearn: 0.9119639\ttotal: 106ms\tremaining: 88.3ms\n",
      "82:\tlearn: 0.9119639\ttotal: 108ms\tremaining: 86.9ms\n",
      "83:\tlearn: 0.9119639\ttotal: 109ms\tremaining: 85.4ms\n",
      "84:\tlearn: 0.9119639\ttotal: 110ms\tremaining: 84.1ms\n",
      "85:\tlearn: 0.9119639\ttotal: 111ms\tremaining: 82.7ms\n",
      "86:\tlearn: 0.9119639\ttotal: 112ms\tremaining: 81.4ms\n",
      "87:\tlearn: 0.9119639\ttotal: 114ms\tremaining: 80ms\n",
      "88:\tlearn: 0.9119639\ttotal: 116ms\tremaining: 79.5ms\n",
      "89:\tlearn: 0.9119639\ttotal: 117ms\tremaining: 78.1ms\n",
      "90:\tlearn: 0.9119639\ttotal: 118ms\tremaining: 76.7ms\n",
      "91:\tlearn: 0.9119639\ttotal: 119ms\tremaining: 75.3ms\n",
      "92:\tlearn: 0.9119639\ttotal: 121ms\tremaining: 73.9ms\n",
      "93:\tlearn: 0.9119639\ttotal: 122ms\tremaining: 72.5ms\n",
      "94:\tlearn: 0.9130926\ttotal: 123ms\tremaining: 71.1ms\n",
      "95:\tlearn: 0.9130926\ttotal: 124ms\tremaining: 69.6ms\n",
      "96:\tlearn: 0.9130926\ttotal: 125ms\tremaining: 68.3ms\n",
      "97:\tlearn: 0.9142212\ttotal: 126ms\tremaining: 66.9ms\n",
      "98:\tlearn: 0.9142212\ttotal: 127ms\tremaining: 65.6ms\n",
      "99:\tlearn: 0.9142212\ttotal: 128ms\tremaining: 64.2ms\n",
      "100:\tlearn: 0.9142212\ttotal: 130ms\tremaining: 62.8ms\n",
      "101:\tlearn: 0.9142212\ttotal: 131ms\tremaining: 61.5ms\n",
      "102:\tlearn: 0.9142212\ttotal: 132ms\tremaining: 60.1ms\n",
      "103:\tlearn: 0.9142212\ttotal: 133ms\tremaining: 58.8ms\n",
      "104:\tlearn: 0.9142212\ttotal: 134ms\tremaining: 57.4ms\n",
      "105:\tlearn: 0.9142212\ttotal: 135ms\tremaining: 56.1ms\n",
      "106:\tlearn: 0.9142212\ttotal: 136ms\tremaining: 54.8ms\n",
      "107:\tlearn: 0.9142212\ttotal: 137ms\tremaining: 53.4ms\n",
      "108:\tlearn: 0.9142212\ttotal: 138ms\tremaining: 52.1ms\n",
      "109:\tlearn: 0.9142212\ttotal: 140ms\tremaining: 50.8ms\n",
      "110:\tlearn: 0.9142212\ttotal: 141ms\tremaining: 49.4ms\n",
      "111:\tlearn: 0.9142212\ttotal: 142ms\tremaining: 48.1ms\n",
      "112:\tlearn: 0.9142212\ttotal: 143ms\tremaining: 46.8ms\n",
      "113:\tlearn: 0.9142212\ttotal: 144ms\tremaining: 45.5ms\n",
      "114:\tlearn: 0.9142212\ttotal: 145ms\tremaining: 44.2ms\n",
      "115:\tlearn: 0.9142212\ttotal: 146ms\tremaining: 42.9ms\n",
      "116:\tlearn: 0.9142212\ttotal: 147ms\tremaining: 41.6ms\n",
      "117:\tlearn: 0.9142212\ttotal: 149ms\tremaining: 40.3ms\n",
      "118:\tlearn: 0.9142212\ttotal: 150ms\tremaining: 39ms\n",
      "119:\tlearn: 0.9142212\ttotal: 151ms\tremaining: 37.7ms\n",
      "120:\tlearn: 0.9142212\ttotal: 152ms\tremaining: 36.5ms\n",
      "121:\tlearn: 0.9153499\ttotal: 153ms\tremaining: 35.2ms\n",
      "122:\tlearn: 0.9153499\ttotal: 155ms\tremaining: 33.9ms\n",
      "123:\tlearn: 0.9153499\ttotal: 156ms\tremaining: 32.7ms\n",
      "124:\tlearn: 0.9153499\ttotal: 157ms\tremaining: 31.4ms\n",
      "125:\tlearn: 0.9153499\ttotal: 158ms\tremaining: 30.1ms\n",
      "126:\tlearn: 0.9153499\ttotal: 160ms\tremaining: 28.9ms\n",
      "127:\tlearn: 0.9153499\ttotal: 161ms\tremaining: 27.6ms\n",
      "128:\tlearn: 0.9153499\ttotal: 162ms\tremaining: 26.3ms\n",
      "129:\tlearn: 0.9153499\ttotal: 163ms\tremaining: 25.1ms\n",
      "130:\tlearn: 0.9153499\ttotal: 164ms\tremaining: 23.8ms\n",
      "131:\tlearn: 0.9153499\ttotal: 165ms\tremaining: 22.5ms\n",
      "132:\tlearn: 0.9153499\ttotal: 166ms\tremaining: 21.3ms\n",
      "133:\tlearn: 0.9153499\ttotal: 168ms\tremaining: 20ms\n",
      "134:\tlearn: 0.9153499\ttotal: 169ms\tremaining: 18.7ms\n",
      "135:\tlearn: 0.9153499\ttotal: 170ms\tremaining: 17.5ms\n",
      "136:\tlearn: 0.9153499\ttotal: 171ms\tremaining: 16.2ms\n",
      "137:\tlearn: 0.9153499\ttotal: 172ms\tremaining: 15ms\n",
      "138:\tlearn: 0.9153499\ttotal: 173ms\tremaining: 13.7ms\n",
      "139:\tlearn: 0.9153499\ttotal: 174ms\tremaining: 12.5ms\n",
      "140:\tlearn: 0.9153499\ttotal: 176ms\tremaining: 11.2ms\n",
      "141:\tlearn: 0.9153499\ttotal: 177ms\tremaining: 9.95ms\n",
      "142:\tlearn: 0.9153499\ttotal: 178ms\tremaining: 8.7ms\n",
      "143:\tlearn: 0.9153499\ttotal: 179ms\tremaining: 7.45ms\n",
      "144:\tlearn: 0.9153499\ttotal: 180ms\tremaining: 6.21ms\n",
      "145:\tlearn: 0.9153499\ttotal: 181ms\tremaining: 4.96ms\n",
      "146:\tlearn: 0.9164786\ttotal: 182ms\tremaining: 3.72ms\n",
      "147:\tlearn: 0.9153499\ttotal: 183ms\tremaining: 2.48ms\n",
      "148:\tlearn: 0.9164786\ttotal: 184ms\tremaining: 1.24ms\n",
      "149:\tlearn: 0.9164786\ttotal: 185ms\tremaining: 0us\n",
      "0:\tlearn: 0.8397291\ttotal: 1.41ms\tremaining: 211ms\n",
      "1:\tlearn: 0.8442438\ttotal: 2.8ms\tremaining: 207ms\n",
      "2:\tlearn: 0.8634312\ttotal: 4.02ms\tremaining: 197ms\n",
      "3:\tlearn: 0.8645598\ttotal: 5.25ms\tremaining: 192ms\n",
      "4:\tlearn: 0.8690745\ttotal: 6.45ms\tremaining: 187ms\n",
      "5:\tlearn: 0.8702032\ttotal: 7.62ms\tremaining: 183ms\n",
      "6:\tlearn: 0.8747178\ttotal: 9.15ms\tremaining: 187ms\n",
      "7:\tlearn: 0.8724605\ttotal: 10.4ms\tremaining: 184ms\n",
      "8:\tlearn: 0.8645598\ttotal: 11.4ms\tremaining: 179ms\n",
      "9:\tlearn: 0.8679458\ttotal: 12.6ms\tremaining: 176ms\n",
      "10:\tlearn: 0.8724605\ttotal: 13.8ms\tremaining: 174ms\n",
      "11:\tlearn: 0.8758465\ttotal: 15ms\tremaining: 173ms\n",
      "12:\tlearn: 0.8724605\ttotal: 16.2ms\tremaining: 171ms\n",
      "13:\tlearn: 0.8747178\ttotal: 17.5ms\tremaining: 170ms\n",
      "14:\tlearn: 0.8769752\ttotal: 18.8ms\tremaining: 169ms\n",
      "15:\tlearn: 0.8781038\ttotal: 19.9ms\tremaining: 167ms\n",
      "16:\tlearn: 0.8758465\ttotal: 21ms\tremaining: 164ms\n",
      "17:\tlearn: 0.8758465\ttotal: 22.2ms\tremaining: 163ms\n",
      "18:\tlearn: 0.8792325\ttotal: 23.4ms\tremaining: 162ms\n",
      "19:\tlearn: 0.8792325\ttotal: 24.6ms\tremaining: 160ms\n",
      "20:\tlearn: 0.8814898\ttotal: 25.8ms\tremaining: 158ms\n",
      "21:\tlearn: 0.8781038\ttotal: 26.9ms\tremaining: 157ms\n",
      "22:\tlearn: 0.8837472\ttotal: 28.1ms\tremaining: 155ms\n",
      "23:\tlearn: 0.8814898\ttotal: 29.2ms\tremaining: 153ms\n",
      "24:\tlearn: 0.8837472\ttotal: 30.4ms\tremaining: 152ms\n",
      "25:\tlearn: 0.8893905\ttotal: 31.5ms\tremaining: 150ms\n",
      "26:\tlearn: 0.8882619\ttotal: 32.7ms\tremaining: 149ms\n",
      "27:\tlearn: 0.8882619\ttotal: 33.8ms\tremaining: 147ms\n",
      "28:\tlearn: 0.8916479\ttotal: 34.9ms\tremaining: 146ms\n",
      "29:\tlearn: 0.8927765\ttotal: 36.1ms\tremaining: 144ms\n",
      "30:\tlearn: 0.8893905\ttotal: 37.2ms\tremaining: 143ms\n",
      "31:\tlearn: 0.8905192\ttotal: 38.4ms\tremaining: 142ms\n",
      "32:\tlearn: 0.8882619\ttotal: 39.8ms\tremaining: 141ms\n",
      "33:\tlearn: 0.8916479\ttotal: 40.9ms\tremaining: 139ms\n",
      "34:\tlearn: 0.8916479\ttotal: 42.1ms\tremaining: 138ms\n",
      "35:\tlearn: 0.8905192\ttotal: 43.3ms\tremaining: 137ms\n",
      "36:\tlearn: 0.8893905\ttotal: 44.5ms\tremaining: 136ms\n",
      "37:\tlearn: 0.8916479\ttotal: 45.8ms\tremaining: 135ms\n",
      "38:\tlearn: 0.8927765\ttotal: 47.1ms\tremaining: 134ms\n",
      "39:\tlearn: 0.8939052\ttotal: 48.2ms\tremaining: 133ms\n",
      "40:\tlearn: 0.8939052\ttotal: 49.4ms\tremaining: 131ms\n",
      "41:\tlearn: 0.8950339\ttotal: 50.5ms\tremaining: 130ms\n",
      "42:\tlearn: 0.8961625\ttotal: 51.7ms\tremaining: 129ms\n",
      "43:\tlearn: 0.8950339\ttotal: 52.9ms\tremaining: 127ms\n",
      "44:\tlearn: 0.8972912\ttotal: 54ms\tremaining: 126ms\n",
      "45:\tlearn: 0.8972912\ttotal: 55.1ms\tremaining: 125ms\n",
      "46:\tlearn: 0.8984199\ttotal: 56.2ms\tremaining: 123ms\n",
      "47:\tlearn: 0.8984199\ttotal: 57.4ms\tremaining: 122ms\n",
      "48:\tlearn: 0.8984199\ttotal: 58.6ms\tremaining: 121ms\n",
      "49:\tlearn: 0.8995485\ttotal: 59.8ms\tremaining: 120ms\n",
      "50:\tlearn: 0.8995485\ttotal: 61.2ms\tremaining: 119ms\n",
      "51:\tlearn: 0.8995485\ttotal: 62.3ms\tremaining: 117ms\n",
      "52:\tlearn: 0.8972912\ttotal: 63.4ms\tremaining: 116ms\n",
      "53:\tlearn: 0.8984199\ttotal: 64.5ms\tremaining: 115ms\n",
      "54:\tlearn: 0.8984199\ttotal: 65.6ms\tremaining: 113ms\n",
      "55:\tlearn: 0.8984199\ttotal: 66.8ms\tremaining: 112ms\n",
      "56:\tlearn: 0.8984199\ttotal: 68.1ms\tremaining: 111ms\n",
      "57:\tlearn: 0.8984199\ttotal: 69.4ms\tremaining: 110ms\n",
      "58:\tlearn: 0.8972912\ttotal: 70.5ms\tremaining: 109ms\n",
      "59:\tlearn: 0.8984199\ttotal: 71.6ms\tremaining: 107ms\n",
      "60:\tlearn: 0.8984199\ttotal: 72.7ms\tremaining: 106ms\n",
      "61:\tlearn: 0.8984199\ttotal: 73.8ms\tremaining: 105ms\n",
      "62:\tlearn: 0.8972912\ttotal: 74.9ms\tremaining: 103ms\n",
      "63:\tlearn: 0.8972912\ttotal: 76.1ms\tremaining: 102ms\n",
      "64:\tlearn: 0.8972912\ttotal: 77.2ms\tremaining: 101ms\n",
      "65:\tlearn: 0.8984199\ttotal: 78.3ms\tremaining: 99.7ms\n",
      "66:\tlearn: 0.8995485\ttotal: 79.4ms\tremaining: 98.4ms\n",
      "67:\tlearn: 0.8995485\ttotal: 80.5ms\tremaining: 97.1ms\n",
      "68:\tlearn: 0.9029345\ttotal: 81.6ms\tremaining: 95.8ms\n",
      "69:\tlearn: 0.9018059\ttotal: 82.7ms\tremaining: 94.6ms\n",
      "70:\tlearn: 0.9018059\ttotal: 83.8ms\tremaining: 93.2ms\n",
      "71:\tlearn: 0.9029345\ttotal: 84.9ms\tremaining: 92ms\n",
      "72:\tlearn: 0.9029345\ttotal: 86ms\tremaining: 90.7ms\n",
      "73:\tlearn: 0.9051919\ttotal: 87.1ms\tremaining: 89.5ms\n",
      "74:\tlearn: 0.9051919\ttotal: 88.2ms\tremaining: 88.2ms\n",
      "75:\tlearn: 0.9051919\ttotal: 89.3ms\tremaining: 86.9ms\n",
      "76:\tlearn: 0.9051919\ttotal: 90.4ms\tremaining: 85.7ms\n",
      "77:\tlearn: 0.9051919\ttotal: 91.6ms\tremaining: 84.5ms\n",
      "78:\tlearn: 0.9063205\ttotal: 92.6ms\tremaining: 83.3ms\n",
      "79:\tlearn: 0.9063205\ttotal: 93.9ms\tremaining: 82.1ms\n",
      "80:\tlearn: 0.9063205\ttotal: 95ms\tremaining: 81ms\n",
      "81:\tlearn: 0.9051919\ttotal: 96.1ms\tremaining: 79.7ms\n",
      "82:\tlearn: 0.9051919\ttotal: 97.2ms\tremaining: 78.5ms\n",
      "83:\tlearn: 0.9051919\ttotal: 98.3ms\tremaining: 77.2ms\n",
      "84:\tlearn: 0.9074492\ttotal: 99.5ms\tremaining: 76.1ms\n",
      "85:\tlearn: 0.9074492\ttotal: 101ms\tremaining: 74.9ms\n",
      "86:\tlearn: 0.9074492\ttotal: 102ms\tremaining: 73.7ms\n",
      "87:\tlearn: 0.9051919\ttotal: 103ms\tremaining: 72.5ms\n",
      "88:\tlearn: 0.9051919\ttotal: 104ms\tremaining: 71.3ms\n",
      "89:\tlearn: 0.9051919\ttotal: 105ms\tremaining: 70.1ms\n",
      "90:\tlearn: 0.9051919\ttotal: 106ms\tremaining: 69ms\n",
      "91:\tlearn: 0.9051919\ttotal: 107ms\tremaining: 67.8ms\n",
      "92:\tlearn: 0.9051919\ttotal: 109ms\tremaining: 66.6ms\n",
      "93:\tlearn: 0.9051919\ttotal: 110ms\tremaining: 65.6ms\n",
      "94:\tlearn: 0.9051919\ttotal: 111ms\tremaining: 64.5ms\n",
      "95:\tlearn: 0.9074492\ttotal: 113ms\tremaining: 63.4ms\n",
      "96:\tlearn: 0.9085779\ttotal: 114ms\tremaining: 62.1ms\n",
      "97:\tlearn: 0.9085779\ttotal: 115ms\tremaining: 60.9ms\n",
      "98:\tlearn: 0.9097065\ttotal: 116ms\tremaining: 59.7ms\n",
      "99:\tlearn: 0.9085779\ttotal: 117ms\tremaining: 58.5ms\n",
      "100:\tlearn: 0.9085779\ttotal: 118ms\tremaining: 57.3ms\n",
      "101:\tlearn: 0.9097065\ttotal: 119ms\tremaining: 56.2ms\n",
      "102:\tlearn: 0.9097065\ttotal: 120ms\tremaining: 55ms\n",
      "103:\tlearn: 0.9108352\ttotal: 122ms\tremaining: 53.7ms\n",
      "104:\tlearn: 0.9108352\ttotal: 123ms\tremaining: 52.5ms\n",
      "105:\tlearn: 0.9108352\ttotal: 124ms\tremaining: 51.3ms\n",
      "106:\tlearn: 0.9108352\ttotal: 125ms\tremaining: 50.2ms\n",
      "107:\tlearn: 0.9097065\ttotal: 126ms\tremaining: 49ms\n",
      "108:\tlearn: 0.9085779\ttotal: 127ms\tremaining: 47.8ms\n",
      "109:\tlearn: 0.9085779\ttotal: 128ms\tremaining: 46.7ms\n",
      "110:\tlearn: 0.9085779\ttotal: 130ms\tremaining: 45.5ms\n",
      "111:\tlearn: 0.9085779\ttotal: 131ms\tremaining: 44.3ms\n",
      "112:\tlearn: 0.9097065\ttotal: 132ms\tremaining: 43.1ms\n",
      "113:\tlearn: 0.9097065\ttotal: 133ms\tremaining: 42ms\n",
      "114:\tlearn: 0.9108352\ttotal: 134ms\tremaining: 40.8ms\n",
      "115:\tlearn: 0.9108352\ttotal: 135ms\tremaining: 39.6ms\n",
      "116:\tlearn: 0.9108352\ttotal: 136ms\tremaining: 38.4ms\n",
      "117:\tlearn: 0.9108352\ttotal: 138ms\tremaining: 37.5ms\n",
      "118:\tlearn: 0.9108352\ttotal: 140ms\tremaining: 36.3ms\n",
      "119:\tlearn: 0.9108352\ttotal: 141ms\tremaining: 35.1ms\n",
      "120:\tlearn: 0.9108352\ttotal: 142ms\tremaining: 34ms\n",
      "121:\tlearn: 0.9108352\ttotal: 143ms\tremaining: 32.8ms\n",
      "122:\tlearn: 0.9119639\ttotal: 144ms\tremaining: 31.6ms\n",
      "123:\tlearn: 0.9119639\ttotal: 145ms\tremaining: 30.4ms\n",
      "124:\tlearn: 0.9119639\ttotal: 146ms\tremaining: 29.2ms\n",
      "125:\tlearn: 0.9119639\ttotal: 147ms\tremaining: 28ms\n",
      "126:\tlearn: 0.9119639\ttotal: 148ms\tremaining: 26.9ms\n",
      "127:\tlearn: 0.9119639\ttotal: 149ms\tremaining: 25.7ms\n",
      "128:\tlearn: 0.9119639\ttotal: 151ms\tremaining: 24.5ms\n",
      "129:\tlearn: 0.9119639\ttotal: 152ms\tremaining: 23.3ms\n",
      "130:\tlearn: 0.9119639\ttotal: 153ms\tremaining: 22.2ms\n",
      "131:\tlearn: 0.9130926\ttotal: 154ms\tremaining: 21ms\n",
      "132:\tlearn: 0.9142212\ttotal: 155ms\tremaining: 19.8ms\n",
      "133:\tlearn: 0.9142212\ttotal: 156ms\tremaining: 18.6ms\n",
      "134:\tlearn: 0.9153499\ttotal: 157ms\tremaining: 17.5ms\n",
      "135:\tlearn: 0.9153499\ttotal: 158ms\tremaining: 16.3ms\n",
      "136:\tlearn: 0.9153499\ttotal: 159ms\tremaining: 15.1ms\n",
      "137:\tlearn: 0.9153499\ttotal: 160ms\tremaining: 14ms\n",
      "138:\tlearn: 0.9153499\ttotal: 162ms\tremaining: 12.8ms\n",
      "139:\tlearn: 0.9153499\ttotal: 163ms\tremaining: 11.6ms\n",
      "140:\tlearn: 0.9164786\ttotal: 164ms\tremaining: 10.5ms\n",
      "141:\tlearn: 0.9164786\ttotal: 165ms\tremaining: 9.29ms\n",
      "142:\tlearn: 0.9164786\ttotal: 166ms\tremaining: 8.12ms\n",
      "143:\tlearn: 0.9176072\ttotal: 167ms\tremaining: 6.96ms\n",
      "144:\tlearn: 0.9164786\ttotal: 168ms\tremaining: 5.8ms\n",
      "145:\tlearn: 0.9164786\ttotal: 169ms\tremaining: 4.64ms\n",
      "146:\tlearn: 0.9164786\ttotal: 170ms\tremaining: 3.47ms\n",
      "147:\tlearn: 0.9164786\ttotal: 171ms\tremaining: 2.31ms\n",
      "148:\tlearn: 0.9176072\ttotal: 173ms\tremaining: 1.16ms\n",
      "149:\tlearn: 0.9164786\ttotal: 174ms\tremaining: 0us\n",
      "0:\tlearn: 0.8487585\ttotal: 1.38ms\tremaining: 205ms\n",
      "1:\tlearn: 0.8521445\ttotal: 2.7ms\tremaining: 200ms\n",
      "2:\tlearn: 0.8690745\ttotal: 3.87ms\tremaining: 190ms\n",
      "3:\tlearn: 0.8645598\ttotal: 5.79ms\tremaining: 211ms\n",
      "4:\tlearn: 0.8656885\ttotal: 6.99ms\tremaining: 203ms\n",
      "5:\tlearn: 0.8690745\ttotal: 8.13ms\tremaining: 195ms\n",
      "6:\tlearn: 0.8679458\ttotal: 9.29ms\tremaining: 190ms\n",
      "7:\tlearn: 0.8702032\ttotal: 10.5ms\tremaining: 186ms\n",
      "8:\tlearn: 0.8724605\ttotal: 11.6ms\tremaining: 182ms\n",
      "9:\tlearn: 0.8724605\ttotal: 13.2ms\tremaining: 184ms\n",
      "10:\tlearn: 0.8724605\ttotal: 14.4ms\tremaining: 181ms\n",
      "11:\tlearn: 0.8713318\ttotal: 15.5ms\tremaining: 178ms\n",
      "12:\tlearn: 0.8724605\ttotal: 16.7ms\tremaining: 176ms\n",
      "13:\tlearn: 0.8735892\ttotal: 17.8ms\tremaining: 173ms\n",
      "14:\tlearn: 0.8747178\ttotal: 19ms\tremaining: 171ms\n",
      "15:\tlearn: 0.8769752\ttotal: 20.2ms\tremaining: 169ms\n",
      "16:\tlearn: 0.8758465\ttotal: 21.3ms\tremaining: 167ms\n",
      "17:\tlearn: 0.8769752\ttotal: 22.4ms\tremaining: 165ms\n",
      "18:\tlearn: 0.8781038\ttotal: 23.6ms\tremaining: 163ms\n",
      "19:\tlearn: 0.8792325\ttotal: 24.8ms\tremaining: 161ms\n",
      "20:\tlearn: 0.8781038\ttotal: 25.5ms\tremaining: 156ms\n",
      "21:\tlearn: 0.8837472\ttotal: 26.6ms\tremaining: 155ms\n",
      "22:\tlearn: 0.8814898\ttotal: 27.7ms\tremaining: 153ms\n",
      "23:\tlearn: 0.8837472\ttotal: 28.9ms\tremaining: 152ms\n",
      "24:\tlearn: 0.8826185\ttotal: 30.1ms\tremaining: 151ms\n",
      "25:\tlearn: 0.8826185\ttotal: 31.2ms\tremaining: 149ms\n",
      "26:\tlearn: 0.8848758\ttotal: 32.4ms\tremaining: 147ms\n",
      "27:\tlearn: 0.8848758\ttotal: 33.6ms\tremaining: 146ms\n",
      "28:\tlearn: 0.8837472\ttotal: 34.8ms\tremaining: 145ms\n",
      "29:\tlearn: 0.8860045\ttotal: 35.9ms\tremaining: 144ms\n",
      "30:\tlearn: 0.8860045\ttotal: 37.1ms\tremaining: 142ms\n",
      "31:\tlearn: 0.8871332\ttotal: 38.2ms\tremaining: 141ms\n",
      "32:\tlearn: 0.8882619\ttotal: 39.5ms\tremaining: 140ms\n",
      "33:\tlearn: 0.8893905\ttotal: 41ms\tremaining: 140ms\n",
      "34:\tlearn: 0.8905192\ttotal: 42.2ms\tremaining: 139ms\n",
      "35:\tlearn: 0.8916479\ttotal: 43.3ms\tremaining: 137ms\n",
      "36:\tlearn: 0.8927765\ttotal: 44.5ms\tremaining: 136ms\n",
      "37:\tlearn: 0.8927765\ttotal: 45.4ms\tremaining: 134ms\n",
      "38:\tlearn: 0.8939052\ttotal: 46.7ms\tremaining: 133ms\n",
      "39:\tlearn: 0.8950339\ttotal: 47.9ms\tremaining: 132ms\n",
      "40:\tlearn: 0.8939052\ttotal: 48.7ms\tremaining: 129ms\n",
      "41:\tlearn: 0.8927765\ttotal: 49.9ms\tremaining: 128ms\n",
      "42:\tlearn: 0.8950339\ttotal: 51.1ms\tremaining: 127ms\n",
      "43:\tlearn: 0.8972912\ttotal: 52.5ms\tremaining: 126ms\n",
      "44:\tlearn: 0.8972912\ttotal: 54ms\tremaining: 126ms\n",
      "45:\tlearn: 0.8984199\ttotal: 55.3ms\tremaining: 125ms\n",
      "46:\tlearn: 0.8995485\ttotal: 56.9ms\tremaining: 125ms\n",
      "47:\tlearn: 0.8995485\ttotal: 58.1ms\tremaining: 124ms\n",
      "48:\tlearn: 0.9018059\ttotal: 59.2ms\tremaining: 122ms\n",
      "49:\tlearn: 0.9006772\ttotal: 60.3ms\tremaining: 121ms\n",
      "50:\tlearn: 0.9006772\ttotal: 61.4ms\tremaining: 119ms\n",
      "51:\tlearn: 0.8995485\ttotal: 62.6ms\tremaining: 118ms\n",
      "52:\tlearn: 0.9029345\ttotal: 63.8ms\tremaining: 117ms\n",
      "53:\tlearn: 0.9029345\ttotal: 64.9ms\tremaining: 115ms\n",
      "54:\tlearn: 0.9040632\ttotal: 66ms\tremaining: 114ms\n",
      "55:\tlearn: 0.9040632\ttotal: 67.1ms\tremaining: 113ms\n",
      "56:\tlearn: 0.9040632\ttotal: 68.3ms\tremaining: 111ms\n",
      "57:\tlearn: 0.9040632\ttotal: 69.5ms\tremaining: 110ms\n",
      "58:\tlearn: 0.9074492\ttotal: 70.6ms\tremaining: 109ms\n",
      "59:\tlearn: 0.9074492\ttotal: 71.8ms\tremaining: 108ms\n",
      "60:\tlearn: 0.9074492\ttotal: 72.9ms\tremaining: 106ms\n",
      "61:\tlearn: 0.9074492\ttotal: 74.1ms\tremaining: 105ms\n",
      "62:\tlearn: 0.9074492\ttotal: 75.2ms\tremaining: 104ms\n",
      "63:\tlearn: 0.9085779\ttotal: 76.3ms\tremaining: 103ms\n",
      "64:\tlearn: 0.9085779\ttotal: 77.5ms\tremaining: 101ms\n",
      "65:\tlearn: 0.9085779\ttotal: 78.6ms\tremaining: 100ms\n",
      "66:\tlearn: 0.9097065\ttotal: 79.8ms\tremaining: 98.9ms\n",
      "67:\tlearn: 0.9097065\ttotal: 80.9ms\tremaining: 97.6ms\n",
      "68:\tlearn: 0.9108352\ttotal: 82.1ms\tremaining: 96.4ms\n",
      "69:\tlearn: 0.9108352\ttotal: 83.2ms\tremaining: 95ms\n",
      "70:\tlearn: 0.9130926\ttotal: 84.3ms\tremaining: 93.8ms\n",
      "71:\tlearn: 0.9119639\ttotal: 85.4ms\tremaining: 92.5ms\n",
      "72:\tlearn: 0.9119639\ttotal: 104ms\tremaining: 110ms\n",
      "73:\tlearn: 0.9119639\ttotal: 105ms\tremaining: 108ms\n",
      "74:\tlearn: 0.9142212\ttotal: 107ms\tremaining: 107ms\n",
      "75:\tlearn: 0.9142212\ttotal: 108ms\tremaining: 105ms\n",
      "76:\tlearn: 0.9130926\ttotal: 109ms\tremaining: 104ms\n",
      "77:\tlearn: 0.9153499\ttotal: 110ms\tremaining: 102ms\n",
      "78:\tlearn: 0.9142212\ttotal: 112ms\tremaining: 100ms\n",
      "79:\tlearn: 0.9142212\ttotal: 113ms\tremaining: 98.6ms\n",
      "80:\tlearn: 0.9153499\ttotal: 114ms\tremaining: 96.9ms\n",
      "81:\tlearn: 0.9153499\ttotal: 115ms\tremaining: 95.3ms\n",
      "82:\tlearn: 0.9153499\ttotal: 116ms\tremaining: 93.7ms\n",
      "83:\tlearn: 0.9153499\ttotal: 117ms\tremaining: 92.1ms\n",
      "84:\tlearn: 0.9153499\ttotal: 118ms\tremaining: 90.4ms\n",
      "85:\tlearn: 0.9153499\ttotal: 119ms\tremaining: 88.8ms\n",
      "86:\tlearn: 0.9153499\ttotal: 120ms\tremaining: 87.2ms\n",
      "87:\tlearn: 0.9164786\ttotal: 122ms\tremaining: 85.7ms\n",
      "88:\tlearn: 0.9130926\ttotal: 123ms\tremaining: 84.2ms\n",
      "89:\tlearn: 0.9142212\ttotal: 124ms\tremaining: 82.9ms\n",
      "90:\tlearn: 0.9142212\ttotal: 126ms\tremaining: 81.4ms\n",
      "91:\tlearn: 0.9142212\ttotal: 126ms\tremaining: 79.7ms\n",
      "92:\tlearn: 0.9130926\ttotal: 128ms\tremaining: 78.2ms\n",
      "93:\tlearn: 0.9142212\ttotal: 129ms\tremaining: 76.7ms\n",
      "94:\tlearn: 0.9130926\ttotal: 130ms\tremaining: 75.2ms\n",
      "95:\tlearn: 0.9130926\ttotal: 131ms\tremaining: 73.7ms\n",
      "96:\tlearn: 0.9130926\ttotal: 132ms\tremaining: 72.3ms\n",
      "97:\tlearn: 0.9130926\ttotal: 134ms\tremaining: 71.2ms\n",
      "98:\tlearn: 0.9130926\ttotal: 136ms\tremaining: 69.9ms\n",
      "99:\tlearn: 0.9130926\ttotal: 137ms\tremaining: 68.4ms\n",
      "100:\tlearn: 0.9130926\ttotal: 138ms\tremaining: 67ms\n",
      "101:\tlearn: 0.9130926\ttotal: 139ms\tremaining: 65.6ms\n",
      "102:\tlearn: 0.9130926\ttotal: 141ms\tremaining: 64.2ms\n",
      "103:\tlearn: 0.9130926\ttotal: 142ms\tremaining: 62.7ms\n",
      "104:\tlearn: 0.9130926\ttotal: 143ms\tremaining: 61.2ms\n",
      "105:\tlearn: 0.9130926\ttotal: 144ms\tremaining: 59.7ms\n",
      "106:\tlearn: 0.9142212\ttotal: 145ms\tremaining: 58.2ms\n",
      "107:\tlearn: 0.9142212\ttotal: 146ms\tremaining: 56.8ms\n",
      "108:\tlearn: 0.9130926\ttotal: 147ms\tremaining: 55.3ms\n",
      "109:\tlearn: 0.9130926\ttotal: 149ms\tremaining: 54ms\n",
      "110:\tlearn: 0.9130926\ttotal: 150ms\tremaining: 52.6ms\n",
      "111:\tlearn: 0.9130926\ttotal: 151ms\tremaining: 51.2ms\n",
      "112:\tlearn: 0.9142212\ttotal: 152ms\tremaining: 49.7ms\n",
      "113:\tlearn: 0.9142212\ttotal: 153ms\tremaining: 48.4ms\n",
      "114:\tlearn: 0.9142212\ttotal: 154ms\tremaining: 47ms\n",
      "115:\tlearn: 0.9130926\ttotal: 155ms\tremaining: 45.6ms\n",
      "116:\tlearn: 0.9130926\ttotal: 157ms\tremaining: 44.2ms\n",
      "117:\tlearn: 0.9130926\ttotal: 158ms\tremaining: 42.8ms\n",
      "118:\tlearn: 0.9130926\ttotal: 159ms\tremaining: 41.4ms\n",
      "119:\tlearn: 0.9130926\ttotal: 160ms\tremaining: 40.1ms\n",
      "120:\tlearn: 0.9130926\ttotal: 162ms\tremaining: 38.8ms\n",
      "121:\tlearn: 0.9130926\ttotal: 163ms\tremaining: 37.4ms\n",
      "122:\tlearn: 0.9130926\ttotal: 164ms\tremaining: 36ms\n",
      "123:\tlearn: 0.9142212\ttotal: 165ms\tremaining: 34.7ms\n",
      "124:\tlearn: 0.9142212\ttotal: 166ms\tremaining: 33.3ms\n",
      "125:\tlearn: 0.9142212\ttotal: 167ms\tremaining: 31.9ms\n",
      "126:\tlearn: 0.9142212\ttotal: 169ms\tremaining: 30.5ms\n",
      "127:\tlearn: 0.9142212\ttotal: 170ms\tremaining: 29.2ms\n",
      "128:\tlearn: 0.9142212\ttotal: 171ms\tremaining: 27.8ms\n",
      "129:\tlearn: 0.9142212\ttotal: 172ms\tremaining: 26.5ms\n",
      "130:\tlearn: 0.9130926\ttotal: 173ms\tremaining: 25.1ms\n",
      "131:\tlearn: 0.9130926\ttotal: 174ms\tremaining: 23.8ms\n",
      "132:\tlearn: 0.9130926\ttotal: 175ms\tremaining: 22.4ms\n",
      "133:\tlearn: 0.9130926\ttotal: 177ms\tremaining: 21.1ms\n",
      "134:\tlearn: 0.9130926\ttotal: 178ms\tremaining: 19.8ms\n",
      "135:\tlearn: 0.9130926\ttotal: 179ms\tremaining: 18.4ms\n",
      "136:\tlearn: 0.9130926\ttotal: 180ms\tremaining: 17.1ms\n",
      "137:\tlearn: 0.9130926\ttotal: 181ms\tremaining: 15.8ms\n",
      "138:\tlearn: 0.9130926\ttotal: 183ms\tremaining: 14.5ms\n",
      "139:\tlearn: 0.9130926\ttotal: 184ms\tremaining: 13.1ms\n",
      "140:\tlearn: 0.9153499\ttotal: 185ms\tremaining: 11.8ms\n",
      "141:\tlearn: 0.9130926\ttotal: 186ms\tremaining: 10.5ms\n",
      "142:\tlearn: 0.9130926\ttotal: 187ms\tremaining: 9.18ms\n",
      "143:\tlearn: 0.9142212\ttotal: 189ms\tremaining: 7.86ms\n",
      "144:\tlearn: 0.9142212\ttotal: 190ms\tremaining: 6.54ms\n",
      "145:\tlearn: 0.9142212\ttotal: 191ms\tremaining: 5.23ms\n",
      "146:\tlearn: 0.9187359\ttotal: 193ms\tremaining: 3.93ms\n",
      "147:\tlearn: 0.9187359\ttotal: 194ms\tremaining: 2.62ms\n",
      "148:\tlearn: 0.9187359\ttotal: 195ms\tremaining: 1.31ms\n",
      "149:\tlearn: 0.9187359\ttotal: 196ms\tremaining: 0us\n",
      "0:\tlearn: 0.8397291\ttotal: 1.42ms\tremaining: 212ms\n",
      "1:\tlearn: 0.8442438\ttotal: 2.7ms\tremaining: 200ms\n",
      "2:\tlearn: 0.8645598\ttotal: 3.87ms\tremaining: 190ms\n",
      "3:\tlearn: 0.8679458\ttotal: 5.07ms\tremaining: 185ms\n",
      "4:\tlearn: 0.8690745\ttotal: 6.34ms\tremaining: 184ms\n",
      "5:\tlearn: 0.8690745\ttotal: 7.61ms\tremaining: 183ms\n",
      "6:\tlearn: 0.8713318\ttotal: 8.86ms\tremaining: 181ms\n",
      "7:\tlearn: 0.8668172\ttotal: 10ms\tremaining: 177ms\n",
      "8:\tlearn: 0.8668172\ttotal: 11.2ms\tremaining: 176ms\n",
      "9:\tlearn: 0.8713318\ttotal: 12.5ms\tremaining: 176ms\n",
      "10:\tlearn: 0.8735892\ttotal: 13.8ms\tremaining: 174ms\n",
      "11:\tlearn: 0.8724605\ttotal: 15.4ms\tremaining: 177ms\n",
      "12:\tlearn: 0.8769752\ttotal: 16.7ms\tremaining: 176ms\n",
      "13:\tlearn: 0.8769752\ttotal: 17.8ms\tremaining: 173ms\n",
      "14:\tlearn: 0.8747178\ttotal: 19ms\tremaining: 171ms\n",
      "15:\tlearn: 0.8781038\ttotal: 20.2ms\tremaining: 169ms\n",
      "16:\tlearn: 0.8814898\ttotal: 21.6ms\tremaining: 169ms\n",
      "17:\tlearn: 0.8826185\ttotal: 22.8ms\tremaining: 167ms\n",
      "18:\tlearn: 0.8814898\ttotal: 24ms\tremaining: 165ms\n",
      "19:\tlearn: 0.8814898\ttotal: 25.2ms\tremaining: 164ms\n",
      "20:\tlearn: 0.8860045\ttotal: 25.9ms\tremaining: 159ms\n",
      "21:\tlearn: 0.8848758\ttotal: 27ms\tremaining: 157ms\n",
      "22:\tlearn: 0.8871332\ttotal: 28.4ms\tremaining: 157ms\n",
      "23:\tlearn: 0.8905192\ttotal: 29.5ms\tremaining: 155ms\n",
      "24:\tlearn: 0.8893905\ttotal: 30.8ms\tremaining: 154ms\n",
      "25:\tlearn: 0.8882619\ttotal: 31.9ms\tremaining: 152ms\n",
      "26:\tlearn: 0.8916479\ttotal: 33.4ms\tremaining: 152ms\n",
      "27:\tlearn: 0.8893905\ttotal: 34.7ms\tremaining: 151ms\n",
      "28:\tlearn: 0.8893905\ttotal: 35.9ms\tremaining: 150ms\n",
      "29:\tlearn: 0.8905192\ttotal: 37.1ms\tremaining: 148ms\n",
      "30:\tlearn: 0.8893905\ttotal: 38.2ms\tremaining: 147ms\n",
      "31:\tlearn: 0.8893905\ttotal: 39.4ms\tremaining: 145ms\n",
      "32:\tlearn: 0.8905192\ttotal: 40.5ms\tremaining: 144ms\n",
      "33:\tlearn: 0.8905192\ttotal: 41.8ms\tremaining: 143ms\n",
      "34:\tlearn: 0.8927765\ttotal: 42.9ms\tremaining: 141ms\n",
      "35:\tlearn: 0.8950339\ttotal: 44.1ms\tremaining: 140ms\n",
      "36:\tlearn: 0.8950339\ttotal: 45.4ms\tremaining: 139ms\n",
      "37:\tlearn: 0.8950339\ttotal: 46.6ms\tremaining: 137ms\n",
      "38:\tlearn: 0.8950339\ttotal: 47.8ms\tremaining: 136ms\n",
      "39:\tlearn: 0.8950339\ttotal: 49ms\tremaining: 135ms\n",
      "40:\tlearn: 0.8961625\ttotal: 50.1ms\tremaining: 133ms\n",
      "41:\tlearn: 0.8961625\ttotal: 51.3ms\tremaining: 132ms\n",
      "42:\tlearn: 0.8972912\ttotal: 52.4ms\tremaining: 130ms\n",
      "43:\tlearn: 0.8984199\ttotal: 53.6ms\tremaining: 129ms\n",
      "44:\tlearn: 0.8984199\ttotal: 54.7ms\tremaining: 128ms\n",
      "45:\tlearn: 0.8995485\ttotal: 55.8ms\tremaining: 126ms\n",
      "46:\tlearn: 0.8961625\ttotal: 57ms\tremaining: 125ms\n",
      "47:\tlearn: 0.8995485\ttotal: 58.2ms\tremaining: 124ms\n",
      "48:\tlearn: 0.9074492\ttotal: 59.3ms\tremaining: 122ms\n",
      "49:\tlearn: 0.9040632\ttotal: 60.4ms\tremaining: 121ms\n",
      "50:\tlearn: 0.9051919\ttotal: 61.6ms\tremaining: 120ms\n",
      "51:\tlearn: 0.9051919\ttotal: 62.9ms\tremaining: 118ms\n",
      "52:\tlearn: 0.9051919\ttotal: 64ms\tremaining: 117ms\n",
      "53:\tlearn: 0.9051919\ttotal: 65.2ms\tremaining: 116ms\n",
      "54:\tlearn: 0.9051919\ttotal: 66.4ms\tremaining: 115ms\n",
      "55:\tlearn: 0.9051919\ttotal: 67.6ms\tremaining: 114ms\n",
      "56:\tlearn: 0.9051919\ttotal: 68.7ms\tremaining: 112ms\n",
      "57:\tlearn: 0.9063205\ttotal: 69.9ms\tremaining: 111ms\n",
      "58:\tlearn: 0.9051919\ttotal: 70.9ms\tremaining: 109ms\n",
      "59:\tlearn: 0.9074492\ttotal: 72.2ms\tremaining: 108ms\n",
      "60:\tlearn: 0.9063205\ttotal: 73.5ms\tremaining: 107ms\n",
      "61:\tlearn: 0.9074492\ttotal: 74.8ms\tremaining: 106ms\n",
      "62:\tlearn: 0.9074492\ttotal: 76ms\tremaining: 105ms\n",
      "63:\tlearn: 0.9051919\ttotal: 77.2ms\tremaining: 104ms\n",
      "64:\tlearn: 0.9074492\ttotal: 78.7ms\tremaining: 103ms\n",
      "65:\tlearn: 0.9097065\ttotal: 79.9ms\tremaining: 102ms\n",
      "66:\tlearn: 0.9108352\ttotal: 81.1ms\tremaining: 100ms\n",
      "67:\tlearn: 0.9108352\ttotal: 82.2ms\tremaining: 99.1ms\n",
      "68:\tlearn: 0.9108352\ttotal: 83.5ms\tremaining: 98ms\n",
      "69:\tlearn: 0.9097065\ttotal: 84.7ms\tremaining: 96.8ms\n",
      "70:\tlearn: 0.9097065\ttotal: 85.9ms\tremaining: 95.6ms\n",
      "71:\tlearn: 0.9097065\ttotal: 87.3ms\tremaining: 94.5ms\n",
      "72:\tlearn: 0.9097065\ttotal: 88.6ms\tremaining: 93.5ms\n",
      "73:\tlearn: 0.9108352\ttotal: 89.7ms\tremaining: 92.1ms\n",
      "74:\tlearn: 0.9097065\ttotal: 90.8ms\tremaining: 90.8ms\n",
      "75:\tlearn: 0.9097065\ttotal: 91.9ms\tremaining: 89.5ms\n",
      "76:\tlearn: 0.9097065\ttotal: 93.1ms\tremaining: 88.2ms\n",
      "77:\tlearn: 0.9097065\ttotal: 94.3ms\tremaining: 87ms\n",
      "78:\tlearn: 0.9097065\ttotal: 95.6ms\tremaining: 86ms\n",
      "79:\tlearn: 0.9097065\ttotal: 96.7ms\tremaining: 84.6ms\n",
      "80:\tlearn: 0.9085779\ttotal: 97.8ms\tremaining: 83.3ms\n",
      "81:\tlearn: 0.9085779\ttotal: 98.9ms\tremaining: 82ms\n",
      "82:\tlearn: 0.9097065\ttotal: 100ms\tremaining: 80.7ms\n",
      "83:\tlearn: 0.9097065\ttotal: 101ms\tremaining: 79.4ms\n",
      "84:\tlearn: 0.9097065\ttotal: 102ms\tremaining: 78.2ms\n",
      "85:\tlearn: 0.9097065\ttotal: 103ms\tremaining: 76.9ms\n",
      "86:\tlearn: 0.9097065\ttotal: 104ms\tremaining: 75.7ms\n",
      "87:\tlearn: 0.9108352\ttotal: 106ms\tremaining: 74.4ms\n",
      "88:\tlearn: 0.9097065\ttotal: 107ms\tremaining: 73.1ms\n",
      "89:\tlearn: 0.9097065\ttotal: 108ms\tremaining: 71.9ms\n",
      "90:\tlearn: 0.9097065\ttotal: 109ms\tremaining: 70.6ms\n",
      "91:\tlearn: 0.9097065\ttotal: 110ms\tremaining: 69.4ms\n",
      "92:\tlearn: 0.9097065\ttotal: 111ms\tremaining: 68.1ms\n",
      "93:\tlearn: 0.9097065\ttotal: 112ms\tremaining: 66.8ms\n",
      "94:\tlearn: 0.9085779\ttotal: 113ms\tremaining: 65.6ms\n",
      "95:\tlearn: 0.9085779\ttotal: 114ms\tremaining: 64.3ms\n",
      "96:\tlearn: 0.9085779\ttotal: 115ms\tremaining: 63.1ms\n",
      "97:\tlearn: 0.9085779\ttotal: 117ms\tremaining: 61.9ms\n",
      "98:\tlearn: 0.9097065\ttotal: 118ms\tremaining: 60.6ms\n",
      "99:\tlearn: 0.9085779\ttotal: 119ms\tremaining: 59.4ms\n",
      "100:\tlearn: 0.9097065\ttotal: 120ms\tremaining: 58.2ms\n",
      "101:\tlearn: 0.9108352\ttotal: 121ms\tremaining: 57ms\n",
      "102:\tlearn: 0.9108352\ttotal: 122ms\tremaining: 55.8ms\n",
      "103:\tlearn: 0.9108352\ttotal: 124ms\tremaining: 54.6ms\n",
      "104:\tlearn: 0.9108352\ttotal: 125ms\tremaining: 53.4ms\n",
      "105:\tlearn: 0.9108352\ttotal: 126ms\tremaining: 52.2ms\n",
      "106:\tlearn: 0.9108352\ttotal: 127ms\tremaining: 51ms\n",
      "107:\tlearn: 0.9108352\ttotal: 128ms\tremaining: 49.8ms\n",
      "108:\tlearn: 0.9108352\ttotal: 129ms\tremaining: 48.6ms\n",
      "109:\tlearn: 0.9108352\ttotal: 130ms\tremaining: 47.4ms\n",
      "110:\tlearn: 0.9108352\ttotal: 132ms\tremaining: 46.3ms\n",
      "111:\tlearn: 0.9108352\ttotal: 133ms\tremaining: 45.2ms\n",
      "112:\tlearn: 0.9108352\ttotal: 134ms\tremaining: 44ms\n",
      "113:\tlearn: 0.9108352\ttotal: 136ms\tremaining: 42.8ms\n",
      "114:\tlearn: 0.9119639\ttotal: 137ms\tremaining: 41.6ms\n",
      "115:\tlearn: 0.9119639\ttotal: 138ms\tremaining: 40.4ms\n",
      "116:\tlearn: 0.9119639\ttotal: 139ms\tremaining: 39.2ms\n",
      "117:\tlearn: 0.9119639\ttotal: 140ms\tremaining: 38ms\n",
      "118:\tlearn: 0.9108352\ttotal: 141ms\tremaining: 36.8ms\n",
      "119:\tlearn: 0.9108352\ttotal: 143ms\tremaining: 35.7ms\n",
      "120:\tlearn: 0.9108352\ttotal: 144ms\tremaining: 34.5ms\n",
      "121:\tlearn: 0.9108352\ttotal: 145ms\tremaining: 33.3ms\n",
      "122:\tlearn: 0.9108352\ttotal: 146ms\tremaining: 32.1ms\n",
      "123:\tlearn: 0.9108352\ttotal: 147ms\tremaining: 30.9ms\n",
      "124:\tlearn: 0.9108352\ttotal: 149ms\tremaining: 29.7ms\n",
      "125:\tlearn: 0.9119639\ttotal: 150ms\tremaining: 28.5ms\n",
      "126:\tlearn: 0.9119639\ttotal: 151ms\tremaining: 27.3ms\n",
      "127:\tlearn: 0.9119639\ttotal: 152ms\tremaining: 26.1ms\n",
      "128:\tlearn: 0.9142212\ttotal: 153ms\tremaining: 25ms\n",
      "129:\tlearn: 0.9142212\ttotal: 155ms\tremaining: 23.8ms\n",
      "130:\tlearn: 0.9142212\ttotal: 156ms\tremaining: 22.6ms\n",
      "131:\tlearn: 0.9142212\ttotal: 157ms\tremaining: 21.4ms\n",
      "132:\tlearn: 0.9142212\ttotal: 158ms\tremaining: 20.2ms\n",
      "133:\tlearn: 0.9142212\ttotal: 159ms\tremaining: 19ms\n",
      "134:\tlearn: 0.9142212\ttotal: 161ms\tremaining: 17.8ms\n",
      "135:\tlearn: 0.9142212\ttotal: 162ms\tremaining: 16.7ms\n",
      "136:\tlearn: 0.9142212\ttotal: 163ms\tremaining: 15.5ms\n",
      "137:\tlearn: 0.9142212\ttotal: 164ms\tremaining: 14.3ms\n",
      "138:\tlearn: 0.9153499\ttotal: 166ms\tremaining: 13.1ms\n",
      "139:\tlearn: 0.9153499\ttotal: 167ms\tremaining: 11.9ms\n",
      "140:\tlearn: 0.9153499\ttotal: 168ms\tremaining: 10.7ms\n",
      "141:\tlearn: 0.9153499\ttotal: 169ms\tremaining: 9.52ms\n",
      "142:\tlearn: 0.9153499\ttotal: 170ms\tremaining: 8.32ms\n",
      "143:\tlearn: 0.9164786\ttotal: 171ms\tremaining: 7.13ms\n",
      "144:\tlearn: 0.9153499\ttotal: 172ms\tremaining: 5.94ms\n",
      "145:\tlearn: 0.9153499\ttotal: 173ms\tremaining: 4.75ms\n",
      "146:\tlearn: 0.9164786\ttotal: 174ms\tremaining: 3.56ms\n",
      "147:\tlearn: 0.9164786\ttotal: 176ms\tremaining: 2.38ms\n",
      "148:\tlearn: 0.9153499\ttotal: 177ms\tremaining: 1.19ms\n",
      "149:\tlearn: 0.9153499\ttotal: 178ms\tremaining: 0us\n",
      "0:\tlearn: 0.8521445\ttotal: 1.35ms\tremaining: 201ms\n",
      "1:\tlearn: 0.8510158\ttotal: 3.11ms\tremaining: 230ms\n",
      "2:\tlearn: 0.8656885\ttotal: 4.44ms\tremaining: 217ms\n",
      "3:\tlearn: 0.8702032\ttotal: 5.66ms\tremaining: 207ms\n",
      "4:\tlearn: 0.8735892\ttotal: 6.96ms\tremaining: 202ms\n",
      "5:\tlearn: 0.8713318\ttotal: 8.2ms\tremaining: 197ms\n",
      "6:\tlearn: 0.8690745\ttotal: 9.48ms\tremaining: 194ms\n",
      "7:\tlearn: 0.8724605\ttotal: 10.7ms\tremaining: 190ms\n",
      "8:\tlearn: 0.8702032\ttotal: 11.9ms\tremaining: 186ms\n",
      "9:\tlearn: 0.8747178\ttotal: 13ms\tremaining: 182ms\n",
      "10:\tlearn: 0.8724605\ttotal: 14.2ms\tremaining: 180ms\n",
      "11:\tlearn: 0.8758465\ttotal: 15.6ms\tremaining: 180ms\n",
      "12:\tlearn: 0.8735892\ttotal: 16.8ms\tremaining: 178ms\n",
      "13:\tlearn: 0.8758465\ttotal: 18.1ms\tremaining: 176ms\n",
      "14:\tlearn: 0.8826185\ttotal: 19.2ms\tremaining: 173ms\n",
      "15:\tlearn: 0.8747178\ttotal: 20.5ms\tremaining: 171ms\n",
      "16:\tlearn: 0.8781038\ttotal: 21.6ms\tremaining: 169ms\n",
      "17:\tlearn: 0.8803612\ttotal: 22.8ms\tremaining: 167ms\n",
      "18:\tlearn: 0.8803612\ttotal: 24ms\tremaining: 166ms\n",
      "19:\tlearn: 0.8792325\ttotal: 25.2ms\tremaining: 164ms\n",
      "20:\tlearn: 0.8803612\ttotal: 25.8ms\tremaining: 159ms\n",
      "21:\tlearn: 0.8826185\ttotal: 27ms\tremaining: 157ms\n",
      "22:\tlearn: 0.8814898\ttotal: 28.2ms\tremaining: 156ms\n",
      "23:\tlearn: 0.8826185\ttotal: 29.4ms\tremaining: 154ms\n",
      "24:\tlearn: 0.8848758\ttotal: 30.5ms\tremaining: 152ms\n",
      "25:\tlearn: 0.8871332\ttotal: 31.6ms\tremaining: 151ms\n",
      "26:\tlearn: 0.8882619\ttotal: 32.7ms\tremaining: 149ms\n",
      "27:\tlearn: 0.8916479\ttotal: 33.9ms\tremaining: 148ms\n",
      "28:\tlearn: 0.8916479\ttotal: 35ms\tremaining: 146ms\n",
      "29:\tlearn: 0.8871332\ttotal: 36.1ms\tremaining: 145ms\n",
      "30:\tlearn: 0.8882619\ttotal: 37.3ms\tremaining: 143ms\n",
      "31:\tlearn: 0.8882619\ttotal: 38.4ms\tremaining: 142ms\n",
      "32:\tlearn: 0.8871332\ttotal: 39.6ms\tremaining: 140ms\n",
      "33:\tlearn: 0.8893905\ttotal: 40.9ms\tremaining: 140ms\n",
      "34:\tlearn: 0.8905192\ttotal: 42.1ms\tremaining: 138ms\n",
      "35:\tlearn: 0.8916479\ttotal: 43.2ms\tremaining: 137ms\n",
      "36:\tlearn: 0.8939052\ttotal: 44.5ms\tremaining: 136ms\n",
      "37:\tlearn: 0.8927765\ttotal: 45.6ms\tremaining: 135ms\n",
      "38:\tlearn: 0.8950339\ttotal: 46.8ms\tremaining: 133ms\n",
      "39:\tlearn: 0.8972912\ttotal: 48ms\tremaining: 132ms\n",
      "40:\tlearn: 0.8972912\ttotal: 49.1ms\tremaining: 131ms\n",
      "41:\tlearn: 0.8961625\ttotal: 50.7ms\tremaining: 130ms\n",
      "42:\tlearn: 0.8961625\ttotal: 51.9ms\tremaining: 129ms\n",
      "43:\tlearn: 0.8950339\ttotal: 53.1ms\tremaining: 128ms\n",
      "44:\tlearn: 0.8950339\ttotal: 54.2ms\tremaining: 127ms\n",
      "45:\tlearn: 0.8961625\ttotal: 55.4ms\tremaining: 125ms\n",
      "46:\tlearn: 0.8950339\ttotal: 56.5ms\tremaining: 124ms\n",
      "47:\tlearn: 0.8961625\ttotal: 57.6ms\tremaining: 122ms\n",
      "48:\tlearn: 0.8950339\ttotal: 58.7ms\tremaining: 121ms\n",
      "49:\tlearn: 0.8961625\ttotal: 59.8ms\tremaining: 120ms\n",
      "50:\tlearn: 0.8984199\ttotal: 61.1ms\tremaining: 119ms\n",
      "51:\tlearn: 0.8984199\ttotal: 62.4ms\tremaining: 118ms\n",
      "52:\tlearn: 0.8984199\ttotal: 63.7ms\tremaining: 117ms\n",
      "53:\tlearn: 0.8995485\ttotal: 64.8ms\tremaining: 115ms\n",
      "54:\tlearn: 0.9006772\ttotal: 66.1ms\tremaining: 114ms\n",
      "55:\tlearn: 0.9006772\ttotal: 67.6ms\tremaining: 113ms\n",
      "56:\tlearn: 0.9006772\ttotal: 68.8ms\tremaining: 112ms\n",
      "57:\tlearn: 0.9018059\ttotal: 70ms\tremaining: 111ms\n",
      "58:\tlearn: 0.9018059\ttotal: 71.1ms\tremaining: 110ms\n",
      "59:\tlearn: 0.9018059\ttotal: 72.3ms\tremaining: 108ms\n",
      "60:\tlearn: 0.9029345\ttotal: 73.5ms\tremaining: 107ms\n",
      "61:\tlearn: 0.9040632\ttotal: 74.7ms\tremaining: 106ms\n",
      "62:\tlearn: 0.9040632\ttotal: 76ms\tremaining: 105ms\n",
      "63:\tlearn: 0.9040632\ttotal: 77.2ms\tremaining: 104ms\n",
      "64:\tlearn: 0.9040632\ttotal: 78.3ms\tremaining: 102ms\n",
      "65:\tlearn: 0.9063205\ttotal: 79.7ms\tremaining: 101ms\n",
      "66:\tlearn: 0.9063205\ttotal: 80.8ms\tremaining: 100ms\n",
      "67:\tlearn: 0.9063205\ttotal: 82.1ms\tremaining: 99ms\n",
      "68:\tlearn: 0.9063205\ttotal: 83.8ms\tremaining: 98.3ms\n",
      "69:\tlearn: 0.9063205\ttotal: 85.1ms\tremaining: 97.2ms\n",
      "70:\tlearn: 0.9063205\ttotal: 86.5ms\tremaining: 96.2ms\n",
      "71:\tlearn: 0.9063205\ttotal: 87ms\tremaining: 94.2ms\n",
      "72:\tlearn: 0.9051919\ttotal: 88.1ms\tremaining: 93ms\n",
      "73:\tlearn: 0.9051919\ttotal: 89.3ms\tremaining: 91.7ms\n",
      "74:\tlearn: 0.9051919\ttotal: 90.5ms\tremaining: 90.5ms\n",
      "75:\tlearn: 0.9051919\ttotal: 91.6ms\tremaining: 89.1ms\n",
      "76:\tlearn: 0.9040632\ttotal: 92.7ms\tremaining: 87.8ms\n",
      "77:\tlearn: 0.9051919\ttotal: 93.8ms\tremaining: 86.6ms\n",
      "78:\tlearn: 0.9051919\ttotal: 94.9ms\tremaining: 85.3ms\n",
      "79:\tlearn: 0.9074492\ttotal: 96ms\tremaining: 84ms\n",
      "80:\tlearn: 0.9063205\ttotal: 97.2ms\tremaining: 82.8ms\n",
      "81:\tlearn: 0.9074492\ttotal: 98.3ms\tremaining: 81.5ms\n",
      "82:\tlearn: 0.9074492\ttotal: 99.5ms\tremaining: 80.3ms\n",
      "83:\tlearn: 0.9074492\ttotal: 101ms\tremaining: 79ms\n",
      "84:\tlearn: 0.9074492\ttotal: 102ms\tremaining: 77.7ms\n",
      "85:\tlearn: 0.9074492\ttotal: 103ms\tremaining: 76.5ms\n",
      "86:\tlearn: 0.9085779\ttotal: 104ms\tremaining: 75.2ms\n",
      "87:\tlearn: 0.9085779\ttotal: 105ms\tremaining: 74ms\n",
      "88:\tlearn: 0.9085779\ttotal: 106ms\tremaining: 72.7ms\n",
      "89:\tlearn: 0.9074492\ttotal: 107ms\tremaining: 71.5ms\n",
      "90:\tlearn: 0.9074492\ttotal: 108ms\tremaining: 70.3ms\n",
      "91:\tlearn: 0.9074492\ttotal: 109ms\tremaining: 69ms\n",
      "92:\tlearn: 0.9074492\ttotal: 110ms\tremaining: 67.7ms\n",
      "93:\tlearn: 0.9074492\ttotal: 112ms\tremaining: 66.5ms\n",
      "94:\tlearn: 0.9074492\ttotal: 113ms\tremaining: 65.3ms\n",
      "95:\tlearn: 0.9085779\ttotal: 114ms\tremaining: 64.1ms\n",
      "96:\tlearn: 0.9085779\ttotal: 118ms\tremaining: 64.5ms\n",
      "97:\tlearn: 0.9085779\ttotal: 120ms\tremaining: 63.8ms\n",
      "98:\tlearn: 0.9085779\ttotal: 122ms\tremaining: 62.8ms\n",
      "99:\tlearn: 0.9108352\ttotal: 123ms\tremaining: 61.6ms\n",
      "100:\tlearn: 0.9097065\ttotal: 124ms\tremaining: 60.2ms\n",
      "101:\tlearn: 0.9108352\ttotal: 125ms\tremaining: 59ms\n",
      "102:\tlearn: 0.9130926\ttotal: 126ms\tremaining: 57.7ms\n",
      "103:\tlearn: 0.9130926\ttotal: 128ms\tremaining: 56.4ms\n",
      "104:\tlearn: 0.9130926\ttotal: 129ms\tremaining: 55.1ms\n",
      "105:\tlearn: 0.9130926\ttotal: 130ms\tremaining: 54ms\n",
      "106:\tlearn: 0.9130926\ttotal: 132ms\tremaining: 52.9ms\n",
      "107:\tlearn: 0.9130926\ttotal: 133ms\tremaining: 51.6ms\n",
      "108:\tlearn: 0.9130926\ttotal: 134ms\tremaining: 50.3ms\n",
      "109:\tlearn: 0.9130926\ttotal: 135ms\tremaining: 49ms\n",
      "110:\tlearn: 0.9119639\ttotal: 136ms\tremaining: 47.8ms\n",
      "111:\tlearn: 0.9119639\ttotal: 137ms\tremaining: 46.5ms\n",
      "112:\tlearn: 0.9130926\ttotal: 138ms\tremaining: 45.2ms\n",
      "113:\tlearn: 0.9130926\ttotal: 139ms\tremaining: 44ms\n",
      "114:\tlearn: 0.9142212\ttotal: 140ms\tremaining: 42.7ms\n",
      "115:\tlearn: 0.9142212\ttotal: 142ms\tremaining: 41.6ms\n",
      "116:\tlearn: 0.9153499\ttotal: 143ms\tremaining: 40.3ms\n",
      "117:\tlearn: 0.9153499\ttotal: 144ms\tremaining: 39.1ms\n",
      "118:\tlearn: 0.9153499\ttotal: 146ms\tremaining: 37.9ms\n",
      "119:\tlearn: 0.9153499\ttotal: 147ms\tremaining: 36.7ms\n",
      "120:\tlearn: 0.9153499\ttotal: 148ms\tremaining: 35.4ms\n",
      "121:\tlearn: 0.9153499\ttotal: 149ms\tremaining: 34.1ms\n",
      "122:\tlearn: 0.9153499\ttotal: 150ms\tremaining: 32.9ms\n",
      "123:\tlearn: 0.9153499\ttotal: 151ms\tremaining: 31.7ms\n",
      "124:\tlearn: 0.9153499\ttotal: 152ms\tremaining: 30.5ms\n",
      "125:\tlearn: 0.9164786\ttotal: 153ms\tremaining: 29.2ms\n",
      "126:\tlearn: 0.9164786\ttotal: 155ms\tremaining: 28ms\n",
      "127:\tlearn: 0.9164786\ttotal: 156ms\tremaining: 26.8ms\n",
      "128:\tlearn: 0.9164786\ttotal: 157ms\tremaining: 25.5ms\n",
      "129:\tlearn: 0.9164786\ttotal: 158ms\tremaining: 24.3ms\n",
      "130:\tlearn: 0.9187359\ttotal: 159ms\tremaining: 23.1ms\n",
      "131:\tlearn: 0.9187359\ttotal: 160ms\tremaining: 21.8ms\n",
      "132:\tlearn: 0.9187359\ttotal: 161ms\tremaining: 20.6ms\n",
      "133:\tlearn: 0.9187359\ttotal: 162ms\tremaining: 19.4ms\n",
      "134:\tlearn: 0.9187359\ttotal: 163ms\tremaining: 18.2ms\n",
      "135:\tlearn: 0.9187359\ttotal: 164ms\tremaining: 16.9ms\n",
      "136:\tlearn: 0.9187359\ttotal: 166ms\tremaining: 15.7ms\n",
      "137:\tlearn: 0.9198646\ttotal: 167ms\tremaining: 14.5ms\n",
      "138:\tlearn: 0.9187359\ttotal: 168ms\tremaining: 13.3ms\n",
      "139:\tlearn: 0.9198646\ttotal: 169ms\tremaining: 12.1ms\n",
      "140:\tlearn: 0.9187359\ttotal: 170ms\tremaining: 10.8ms\n",
      "141:\tlearn: 0.9187359\ttotal: 171ms\tremaining: 9.63ms\n",
      "142:\tlearn: 0.9176072\ttotal: 172ms\tremaining: 8.42ms\n",
      "143:\tlearn: 0.9176072\ttotal: 173ms\tremaining: 7.21ms\n",
      "144:\tlearn: 0.9187359\ttotal: 174ms\tremaining: 6.01ms\n",
      "145:\tlearn: 0.9187359\ttotal: 175ms\tremaining: 4.8ms\n",
      "146:\tlearn: 0.9187359\ttotal: 176ms\tremaining: 3.6ms\n",
      "147:\tlearn: 0.9187359\ttotal: 177ms\tremaining: 2.4ms\n",
      "148:\tlearn: 0.9209932\ttotal: 179ms\tremaining: 1.2ms\n",
      "149:\tlearn: 0.9209932\ttotal: 180ms\tremaining: 0us\n",
      "0:\tlearn: 0.8510158\ttotal: 2.27ms\tremaining: 338ms\n",
      "1:\tlearn: 0.8555305\ttotal: 3.63ms\tremaining: 269ms\n",
      "2:\tlearn: 0.8713318\ttotal: 4.92ms\tremaining: 241ms\n",
      "3:\tlearn: 0.8656885\ttotal: 6.25ms\tremaining: 228ms\n",
      "4:\tlearn: 0.8623025\ttotal: 7.48ms\tremaining: 217ms\n",
      "5:\tlearn: 0.8735892\ttotal: 8.75ms\tremaining: 210ms\n",
      "6:\tlearn: 0.8702032\ttotal: 10ms\tremaining: 205ms\n",
      "7:\tlearn: 0.8747178\ttotal: 11.7ms\tremaining: 208ms\n",
      "8:\tlearn: 0.8690745\ttotal: 13.2ms\tremaining: 207ms\n",
      "9:\tlearn: 0.8702032\ttotal: 14.6ms\tremaining: 204ms\n",
      "10:\tlearn: 0.8679458\ttotal: 15.8ms\tremaining: 200ms\n",
      "11:\tlearn: 0.8735892\ttotal: 17ms\tremaining: 195ms\n",
      "12:\tlearn: 0.8747178\ttotal: 18.4ms\tremaining: 194ms\n",
      "13:\tlearn: 0.8758465\ttotal: 19.7ms\tremaining: 191ms\n",
      "14:\tlearn: 0.8758465\ttotal: 20.9ms\tremaining: 188ms\n",
      "15:\tlearn: 0.8758465\ttotal: 22.3ms\tremaining: 187ms\n",
      "16:\tlearn: 0.8735892\ttotal: 23.5ms\tremaining: 184ms\n",
      "17:\tlearn: 0.8747178\ttotal: 24.6ms\tremaining: 181ms\n",
      "18:\tlearn: 0.8769752\ttotal: 26ms\tremaining: 179ms\n",
      "19:\tlearn: 0.8769752\ttotal: 27.6ms\tremaining: 179ms\n",
      "20:\tlearn: 0.8803612\ttotal: 28.7ms\tremaining: 177ms\n",
      "21:\tlearn: 0.8792325\ttotal: 30.1ms\tremaining: 175ms\n",
      "22:\tlearn: 0.8814898\ttotal: 31.4ms\tremaining: 173ms\n",
      "23:\tlearn: 0.8781038\ttotal: 32.5ms\tremaining: 171ms\n",
      "24:\tlearn: 0.8826185\ttotal: 33.9ms\tremaining: 169ms\n",
      "25:\tlearn: 0.8848758\ttotal: 35.1ms\tremaining: 167ms\n",
      "26:\tlearn: 0.8837472\ttotal: 36.2ms\tremaining: 165ms\n",
      "27:\tlearn: 0.8860045\ttotal: 37.4ms\tremaining: 163ms\n",
      "28:\tlearn: 0.8860045\ttotal: 38.7ms\tremaining: 161ms\n",
      "29:\tlearn: 0.8837472\ttotal: 39.9ms\tremaining: 160ms\n",
      "30:\tlearn: 0.8826185\ttotal: 41.1ms\tremaining: 158ms\n",
      "31:\tlearn: 0.8814898\ttotal: 42.3ms\tremaining: 156ms\n",
      "32:\tlearn: 0.8837472\ttotal: 43.5ms\tremaining: 154ms\n",
      "33:\tlearn: 0.8860045\ttotal: 44.7ms\tremaining: 152ms\n",
      "34:\tlearn: 0.8871332\ttotal: 45.9ms\tremaining: 151ms\n",
      "35:\tlearn: 0.8882619\ttotal: 47.2ms\tremaining: 150ms\n",
      "36:\tlearn: 0.8882619\ttotal: 48.4ms\tremaining: 148ms\n",
      "37:\tlearn: 0.8916479\ttotal: 49.7ms\tremaining: 146ms\n",
      "38:\tlearn: 0.8927765\ttotal: 50.9ms\tremaining: 145ms\n",
      "39:\tlearn: 0.8916479\ttotal: 52.1ms\tremaining: 143ms\n",
      "40:\tlearn: 0.8961625\ttotal: 53.2ms\tremaining: 141ms\n",
      "41:\tlearn: 0.8950339\ttotal: 54.5ms\tremaining: 140ms\n",
      "42:\tlearn: 0.8972912\ttotal: 56.1ms\tremaining: 139ms\n",
      "43:\tlearn: 0.8995485\ttotal: 57.3ms\tremaining: 138ms\n",
      "44:\tlearn: 0.9018059\ttotal: 58.6ms\tremaining: 137ms\n",
      "45:\tlearn: 0.9029345\ttotal: 59.7ms\tremaining: 135ms\n",
      "46:\tlearn: 0.9018059\ttotal: 60.8ms\tremaining: 133ms\n",
      "47:\tlearn: 0.9018059\ttotal: 62ms\tremaining: 132ms\n",
      "48:\tlearn: 0.9018059\ttotal: 63.3ms\tremaining: 130ms\n",
      "49:\tlearn: 0.9029345\ttotal: 64.7ms\tremaining: 129ms\n",
      "50:\tlearn: 0.9018059\ttotal: 65.8ms\tremaining: 128ms\n",
      "51:\tlearn: 0.9018059\ttotal: 66.9ms\tremaining: 126ms\n",
      "52:\tlearn: 0.9040632\ttotal: 68.1ms\tremaining: 125ms\n",
      "53:\tlearn: 0.9040632\ttotal: 69.3ms\tremaining: 123ms\n",
      "54:\tlearn: 0.9040632\ttotal: 70.4ms\tremaining: 122ms\n",
      "55:\tlearn: 0.9029345\ttotal: 71.6ms\tremaining: 120ms\n",
      "56:\tlearn: 0.9040632\ttotal: 73ms\tremaining: 119ms\n",
      "57:\tlearn: 0.9040632\ttotal: 74.2ms\tremaining: 118ms\n",
      "58:\tlearn: 0.9040632\ttotal: 75.3ms\tremaining: 116ms\n",
      "59:\tlearn: 0.9051919\ttotal: 76.4ms\tremaining: 115ms\n",
      "60:\tlearn: 0.9051919\ttotal: 77.5ms\tremaining: 113ms\n",
      "61:\tlearn: 0.9051919\ttotal: 78.7ms\tremaining: 112ms\n",
      "62:\tlearn: 0.9051919\ttotal: 79.9ms\tremaining: 110ms\n",
      "63:\tlearn: 0.9051919\ttotal: 81.2ms\tremaining: 109ms\n",
      "64:\tlearn: 0.9051919\ttotal: 82.7ms\tremaining: 108ms\n",
      "65:\tlearn: 0.9063205\ttotal: 84ms\tremaining: 107ms\n",
      "66:\tlearn: 0.9051919\ttotal: 85.3ms\tremaining: 106ms\n",
      "67:\tlearn: 0.9051919\ttotal: 86.6ms\tremaining: 104ms\n",
      "68:\tlearn: 0.9063205\ttotal: 87.7ms\tremaining: 103ms\n",
      "69:\tlearn: 0.9063205\ttotal: 89ms\tremaining: 102ms\n",
      "70:\tlearn: 0.9063205\ttotal: 90.4ms\tremaining: 101ms\n",
      "71:\tlearn: 0.9074492\ttotal: 91.9ms\tremaining: 99.5ms\n",
      "72:\tlearn: 0.9074492\ttotal: 93.2ms\tremaining: 98.3ms\n",
      "73:\tlearn: 0.9074492\ttotal: 95ms\tremaining: 97.5ms\n",
      "74:\tlearn: 0.9085779\ttotal: 96.3ms\tremaining: 96.3ms\n",
      "75:\tlearn: 0.9097065\ttotal: 97.8ms\tremaining: 95.3ms\n",
      "76:\tlearn: 0.9097065\ttotal: 99.1ms\tremaining: 93.9ms\n",
      "77:\tlearn: 0.9097065\ttotal: 100ms\tremaining: 92.6ms\n",
      "78:\tlearn: 0.9097065\ttotal: 102ms\tremaining: 91.5ms\n",
      "79:\tlearn: 0.9097065\ttotal: 103ms\tremaining: 90.2ms\n",
      "80:\tlearn: 0.9097065\ttotal: 104ms\tremaining: 88.8ms\n",
      "81:\tlearn: 0.9074492\ttotal: 106ms\tremaining: 87.6ms\n",
      "82:\tlearn: 0.9074492\ttotal: 107ms\tremaining: 86.3ms\n",
      "83:\tlearn: 0.9074492\ttotal: 108ms\tremaining: 85ms\n",
      "84:\tlearn: 0.9074492\ttotal: 109ms\tremaining: 83.7ms\n",
      "85:\tlearn: 0.9074492\ttotal: 111ms\tremaining: 82.3ms\n",
      "86:\tlearn: 0.9074492\ttotal: 112ms\tremaining: 81ms\n",
      "87:\tlearn: 0.9074492\ttotal: 113ms\tremaining: 79.7ms\n",
      "88:\tlearn: 0.9074492\ttotal: 115ms\tremaining: 78.5ms\n",
      "89:\tlearn: 0.9074492\ttotal: 116ms\tremaining: 77.1ms\n",
      "90:\tlearn: 0.9074492\ttotal: 117ms\tremaining: 75.8ms\n",
      "91:\tlearn: 0.9074492\ttotal: 118ms\tremaining: 74.4ms\n",
      "92:\tlearn: 0.9074492\ttotal: 119ms\tremaining: 73ms\n",
      "93:\tlearn: 0.9074492\ttotal: 120ms\tremaining: 71.5ms\n",
      "94:\tlearn: 0.9074492\ttotal: 121ms\tremaining: 70ms\n",
      "95:\tlearn: 0.9074492\ttotal: 122ms\tremaining: 68.7ms\n",
      "96:\tlearn: 0.9074492\ttotal: 124ms\tremaining: 67.7ms\n",
      "97:\tlearn: 0.9074492\ttotal: 126ms\tremaining: 66.7ms\n",
      "98:\tlearn: 0.9074492\ttotal: 127ms\tremaining: 65.4ms\n",
      "99:\tlearn: 0.9074492\ttotal: 128ms\tremaining: 64ms\n",
      "100:\tlearn: 0.9074492\ttotal: 129ms\tremaining: 62.7ms\n",
      "101:\tlearn: 0.9085779\ttotal: 130ms\tremaining: 61.3ms\n",
      "102:\tlearn: 0.9085779\ttotal: 132ms\tremaining: 60.1ms\n",
      "103:\tlearn: 0.9085779\ttotal: 133ms\tremaining: 58.8ms\n",
      "104:\tlearn: 0.9085779\ttotal: 134ms\tremaining: 57.4ms\n",
      "105:\tlearn: 0.9085779\ttotal: 135ms\tremaining: 56.1ms\n",
      "106:\tlearn: 0.9085779\ttotal: 136ms\tremaining: 54.8ms\n",
      "107:\tlearn: 0.9085779\ttotal: 137ms\tremaining: 53.5ms\n",
      "108:\tlearn: 0.9097065\ttotal: 139ms\tremaining: 52.1ms\n",
      "109:\tlearn: 0.9097065\ttotal: 140ms\tremaining: 50.9ms\n",
      "110:\tlearn: 0.9097065\ttotal: 141ms\tremaining: 49.6ms\n",
      "111:\tlearn: 0.9097065\ttotal: 142ms\tremaining: 48.3ms\n",
      "112:\tlearn: 0.9097065\ttotal: 144ms\tremaining: 47ms\n",
      "113:\tlearn: 0.9097065\ttotal: 145ms\tremaining: 45.7ms\n",
      "114:\tlearn: 0.9085779\ttotal: 146ms\tremaining: 44.4ms\n",
      "115:\tlearn: 0.9085779\ttotal: 147ms\tremaining: 43.1ms\n",
      "116:\tlearn: 0.9085779\ttotal: 148ms\tremaining: 41.8ms\n",
      "117:\tlearn: 0.9097065\ttotal: 150ms\tremaining: 40.5ms\n",
      "118:\tlearn: 0.9097065\ttotal: 151ms\tremaining: 39.2ms\n",
      "119:\tlearn: 0.9108352\ttotal: 152ms\tremaining: 38ms\n",
      "120:\tlearn: 0.9108352\ttotal: 153ms\tremaining: 36.6ms\n",
      "121:\tlearn: 0.9097065\ttotal: 154ms\tremaining: 35.4ms\n",
      "122:\tlearn: 0.9108352\ttotal: 155ms\tremaining: 34.1ms\n",
      "123:\tlearn: 0.9108352\ttotal: 157ms\tremaining: 32.8ms\n",
      "124:\tlearn: 0.9108352\ttotal: 158ms\tremaining: 31.5ms\n",
      "125:\tlearn: 0.9108352\ttotal: 159ms\tremaining: 30.3ms\n",
      "126:\tlearn: 0.9097065\ttotal: 160ms\tremaining: 29ms\n",
      "127:\tlearn: 0.9097065\ttotal: 162ms\tremaining: 27.8ms\n",
      "128:\tlearn: 0.9108352\ttotal: 163ms\tremaining: 26.5ms\n",
      "129:\tlearn: 0.9108352\ttotal: 164ms\tremaining: 25.2ms\n",
      "130:\tlearn: 0.9108352\ttotal: 165ms\tremaining: 24ms\n",
      "131:\tlearn: 0.9119639\ttotal: 166ms\tremaining: 22.7ms\n",
      "132:\tlearn: 0.9119639\ttotal: 167ms\tremaining: 21.4ms\n",
      "133:\tlearn: 0.9108352\ttotal: 169ms\tremaining: 20.2ms\n",
      "134:\tlearn: 0.9108352\ttotal: 170ms\tremaining: 18.9ms\n",
      "135:\tlearn: 0.9108352\ttotal: 171ms\tremaining: 17.6ms\n",
      "136:\tlearn: 0.9108352\ttotal: 172ms\tremaining: 16.4ms\n",
      "137:\tlearn: 0.9108352\ttotal: 174ms\tremaining: 15.1ms\n",
      "138:\tlearn: 0.9119639\ttotal: 175ms\tremaining: 13.8ms\n",
      "139:\tlearn: 0.9119639\ttotal: 176ms\tremaining: 12.6ms\n",
      "140:\tlearn: 0.9119639\ttotal: 177ms\tremaining: 11.3ms\n",
      "141:\tlearn: 0.9130926\ttotal: 178ms\tremaining: 10ms\n",
      "142:\tlearn: 0.9130926\ttotal: 179ms\tremaining: 8.79ms\n",
      "143:\tlearn: 0.9130926\ttotal: 181ms\tremaining: 7.53ms\n",
      "144:\tlearn: 0.9130926\ttotal: 182ms\tremaining: 6.27ms\n",
      "145:\tlearn: 0.9130926\ttotal: 183ms\tremaining: 5.02ms\n",
      "146:\tlearn: 0.9130926\ttotal: 185ms\tremaining: 3.77ms\n",
      "147:\tlearn: 0.9130926\ttotal: 186ms\tremaining: 2.51ms\n",
      "148:\tlearn: 0.9142212\ttotal: 187ms\tremaining: 1.25ms\n",
      "149:\tlearn: 0.9130926\ttotal: 188ms\tremaining: 0us\n",
      "0:\tlearn: 0.8374718\ttotal: 1.49ms\tremaining: 222ms\n",
      "1:\tlearn: 0.8363431\ttotal: 3.08ms\tremaining: 228ms\n",
      "2:\tlearn: 0.8589165\ttotal: 4.33ms\tremaining: 212ms\n",
      "3:\tlearn: 0.8611738\ttotal: 5.58ms\tremaining: 204ms\n",
      "4:\tlearn: 0.8611738\ttotal: 6.8ms\tremaining: 197ms\n",
      "5:\tlearn: 0.8577878\ttotal: 7.96ms\tremaining: 191ms\n",
      "6:\tlearn: 0.8566591\ttotal: 9.19ms\tremaining: 188ms\n",
      "7:\tlearn: 0.8634312\ttotal: 10.4ms\tremaining: 184ms\n",
      "8:\tlearn: 0.8611738\ttotal: 11.6ms\tremaining: 182ms\n",
      "9:\tlearn: 0.8611738\ttotal: 13ms\tremaining: 182ms\n",
      "10:\tlearn: 0.8656885\ttotal: 14.4ms\tremaining: 182ms\n",
      "11:\tlearn: 0.8679458\ttotal: 15.7ms\tremaining: 180ms\n",
      "12:\tlearn: 0.8702032\ttotal: 16.9ms\tremaining: 178ms\n",
      "13:\tlearn: 0.8724605\ttotal: 18.2ms\tremaining: 176ms\n",
      "14:\tlearn: 0.8758465\ttotal: 19.4ms\tremaining: 175ms\n",
      "15:\tlearn: 0.8724605\ttotal: 20.6ms\tremaining: 173ms\n",
      "16:\tlearn: 0.8713318\ttotal: 22ms\tremaining: 172ms\n",
      "17:\tlearn: 0.8724605\ttotal: 23.3ms\tremaining: 171ms\n",
      "18:\tlearn: 0.8724605\ttotal: 24.5ms\tremaining: 169ms\n",
      "19:\tlearn: 0.8735892\ttotal: 25.7ms\tremaining: 167ms\n",
      "20:\tlearn: 0.8724605\ttotal: 26.9ms\tremaining: 165ms\n",
      "21:\tlearn: 0.8758465\ttotal: 28.1ms\tremaining: 163ms\n",
      "22:\tlearn: 0.8803612\ttotal: 29.2ms\tremaining: 161ms\n",
      "23:\tlearn: 0.8803612\ttotal: 30.5ms\tremaining: 160ms\n",
      "24:\tlearn: 0.8814898\ttotal: 31.8ms\tremaining: 159ms\n",
      "25:\tlearn: 0.8814898\ttotal: 33ms\tremaining: 157ms\n",
      "26:\tlearn: 0.8837472\ttotal: 34.2ms\tremaining: 156ms\n",
      "27:\tlearn: 0.8848758\ttotal: 35.4ms\tremaining: 154ms\n",
      "28:\tlearn: 0.8848758\ttotal: 36.7ms\tremaining: 153ms\n",
      "29:\tlearn: 0.8848758\ttotal: 37.8ms\tremaining: 151ms\n",
      "30:\tlearn: 0.8860045\ttotal: 39.2ms\tremaining: 151ms\n",
      "31:\tlearn: 0.8837472\ttotal: 40.8ms\tremaining: 150ms\n",
      "32:\tlearn: 0.8882619\ttotal: 42ms\tremaining: 149ms\n",
      "33:\tlearn: 0.8882619\ttotal: 43.2ms\tremaining: 147ms\n",
      "34:\tlearn: 0.8882619\ttotal: 44.5ms\tremaining: 146ms\n",
      "35:\tlearn: 0.8893905\ttotal: 45.7ms\tremaining: 145ms\n",
      "36:\tlearn: 0.8893905\ttotal: 46.9ms\tremaining: 143ms\n",
      "37:\tlearn: 0.8882619\ttotal: 48ms\tremaining: 142ms\n",
      "38:\tlearn: 0.8905192\ttotal: 49.3ms\tremaining: 140ms\n",
      "39:\tlearn: 0.8893905\ttotal: 50.5ms\tremaining: 139ms\n",
      "40:\tlearn: 0.8893905\ttotal: 51.7ms\tremaining: 137ms\n",
      "41:\tlearn: 0.8916479\ttotal: 52.9ms\tremaining: 136ms\n",
      "42:\tlearn: 0.8939052\ttotal: 54.1ms\tremaining: 135ms\n",
      "43:\tlearn: 0.8961625\ttotal: 55.3ms\tremaining: 133ms\n",
      "44:\tlearn: 0.8961625\ttotal: 56.4ms\tremaining: 132ms\n",
      "45:\tlearn: 0.8961625\ttotal: 57.7ms\tremaining: 130ms\n",
      "46:\tlearn: 0.8972912\ttotal: 58.9ms\tremaining: 129ms\n",
      "47:\tlearn: 0.8950339\ttotal: 60.1ms\tremaining: 128ms\n",
      "48:\tlearn: 0.8961625\ttotal: 61.3ms\tremaining: 126ms\n",
      "49:\tlearn: 0.8961625\ttotal: 62.4ms\tremaining: 125ms\n",
      "50:\tlearn: 0.8950339\ttotal: 63.6ms\tremaining: 123ms\n",
      "51:\tlearn: 0.8984199\ttotal: 64.8ms\tremaining: 122ms\n",
      "52:\tlearn: 0.8972912\ttotal: 66.1ms\tremaining: 121ms\n",
      "53:\tlearn: 0.8984199\ttotal: 67.3ms\tremaining: 120ms\n",
      "54:\tlearn: 0.8984199\ttotal: 68.5ms\tremaining: 118ms\n",
      "55:\tlearn: 0.9006772\ttotal: 69.7ms\tremaining: 117ms\n",
      "56:\tlearn: 0.9006772\ttotal: 71ms\tremaining: 116ms\n",
      "57:\tlearn: 0.9006772\ttotal: 72.2ms\tremaining: 114ms\n",
      "58:\tlearn: 0.9006772\ttotal: 73.3ms\tremaining: 113ms\n",
      "59:\tlearn: 0.9006772\ttotal: 74.6ms\tremaining: 112ms\n",
      "60:\tlearn: 0.9029345\ttotal: 75.8ms\tremaining: 111ms\n",
      "61:\tlearn: 0.9029345\ttotal: 77ms\tremaining: 109ms\n",
      "62:\tlearn: 0.9029345\ttotal: 78.1ms\tremaining: 108ms\n",
      "63:\tlearn: 0.9029345\ttotal: 79.2ms\tremaining: 106ms\n",
      "64:\tlearn: 0.9018059\ttotal: 80.4ms\tremaining: 105ms\n",
      "65:\tlearn: 0.9029345\ttotal: 81.7ms\tremaining: 104ms\n",
      "66:\tlearn: 0.9040632\ttotal: 82.9ms\tremaining: 103ms\n",
      "67:\tlearn: 0.9040632\ttotal: 84.1ms\tremaining: 101ms\n",
      "68:\tlearn: 0.9040632\ttotal: 85.3ms\tremaining: 100ms\n",
      "69:\tlearn: 0.9040632\ttotal: 86.4ms\tremaining: 98.7ms\n",
      "70:\tlearn: 0.9040632\ttotal: 87.6ms\tremaining: 97.4ms\n",
      "71:\tlearn: 0.9051919\ttotal: 88.7ms\tremaining: 96.1ms\n",
      "72:\tlearn: 0.9063205\ttotal: 89.9ms\tremaining: 94.8ms\n",
      "73:\tlearn: 0.9063205\ttotal: 91.1ms\tremaining: 93.5ms\n",
      "74:\tlearn: 0.9074492\ttotal: 92.3ms\tremaining: 92.3ms\n",
      "75:\tlearn: 0.9063205\ttotal: 93.4ms\tremaining: 90.9ms\n",
      "76:\tlearn: 0.9097065\ttotal: 94.6ms\tremaining: 89.7ms\n",
      "77:\tlearn: 0.9097065\ttotal: 95.9ms\tremaining: 88.6ms\n",
      "78:\tlearn: 0.9097065\ttotal: 97ms\tremaining: 87.2ms\n",
      "79:\tlearn: 0.9097065\ttotal: 98.2ms\tremaining: 85.9ms\n",
      "80:\tlearn: 0.9097065\ttotal: 99.4ms\tremaining: 84.7ms\n",
      "81:\tlearn: 0.9097065\ttotal: 101ms\tremaining: 83.6ms\n",
      "82:\tlearn: 0.9097065\ttotal: 102ms\tremaining: 82.3ms\n",
      "83:\tlearn: 0.9097065\ttotal: 103ms\tremaining: 80.9ms\n",
      "84:\tlearn: 0.9085779\ttotal: 104ms\tremaining: 79.8ms\n",
      "85:\tlearn: 0.9085779\ttotal: 105ms\tremaining: 78.5ms\n",
      "86:\tlearn: 0.9085779\ttotal: 107ms\tremaining: 77.2ms\n",
      "87:\tlearn: 0.9097065\ttotal: 108ms\tremaining: 76ms\n",
      "88:\tlearn: 0.9097065\ttotal: 109ms\tremaining: 74.9ms\n",
      "89:\tlearn: 0.9097065\ttotal: 111ms\tremaining: 73.7ms\n",
      "90:\tlearn: 0.9097065\ttotal: 112ms\tremaining: 72.4ms\n",
      "91:\tlearn: 0.9097065\ttotal: 113ms\tremaining: 71.2ms\n",
      "92:\tlearn: 0.9097065\ttotal: 114ms\tremaining: 69.9ms\n",
      "93:\tlearn: 0.9097065\ttotal: 115ms\tremaining: 68.6ms\n",
      "94:\tlearn: 0.9097065\ttotal: 116ms\tremaining: 67.3ms\n",
      "95:\tlearn: 0.9097065\ttotal: 118ms\tremaining: 66.1ms\n",
      "96:\tlearn: 0.9108352\ttotal: 119ms\tremaining: 64.9ms\n",
      "97:\tlearn: 0.9097065\ttotal: 120ms\tremaining: 63.6ms\n",
      "98:\tlearn: 0.9097065\ttotal: 121ms\tremaining: 62.3ms\n",
      "99:\tlearn: 0.9097065\ttotal: 122ms\tremaining: 61.1ms\n",
      "100:\tlearn: 0.9097065\ttotal: 123ms\tremaining: 59.8ms\n",
      "101:\tlearn: 0.9097065\ttotal: 124ms\tremaining: 58.6ms\n",
      "102:\tlearn: 0.9097065\ttotal: 126ms\tremaining: 57.4ms\n",
      "103:\tlearn: 0.9097065\ttotal: 127ms\tremaining: 56.1ms\n",
      "104:\tlearn: 0.9097065\ttotal: 128ms\tremaining: 54.9ms\n",
      "105:\tlearn: 0.9097065\ttotal: 129ms\tremaining: 53.6ms\n",
      "106:\tlearn: 0.9097065\ttotal: 130ms\tremaining: 52.3ms\n",
      "107:\tlearn: 0.9097065\ttotal: 131ms\tremaining: 51.1ms\n",
      "108:\tlearn: 0.9097065\ttotal: 133ms\tremaining: 49.8ms\n",
      "109:\tlearn: 0.9097065\ttotal: 134ms\tremaining: 48.6ms\n",
      "110:\tlearn: 0.9097065\ttotal: 135ms\tremaining: 47.3ms\n",
      "111:\tlearn: 0.9097065\ttotal: 137ms\tremaining: 46.3ms\n",
      "112:\tlearn: 0.9097065\ttotal: 138ms\tremaining: 45.2ms\n",
      "113:\tlearn: 0.9097065\ttotal: 140ms\tremaining: 44.1ms\n",
      "114:\tlearn: 0.9097065\ttotal: 141ms\tremaining: 42.8ms\n",
      "115:\tlearn: 0.9097065\ttotal: 142ms\tremaining: 41.6ms\n",
      "116:\tlearn: 0.9097065\ttotal: 143ms\tremaining: 40.4ms\n",
      "117:\tlearn: 0.9097065\ttotal: 144ms\tremaining: 39.1ms\n",
      "118:\tlearn: 0.9097065\ttotal: 145ms\tremaining: 37.9ms\n",
      "119:\tlearn: 0.9097065\ttotal: 147ms\tremaining: 36.7ms\n",
      "120:\tlearn: 0.9097065\ttotal: 148ms\tremaining: 35.5ms\n",
      "121:\tlearn: 0.9097065\ttotal: 149ms\tremaining: 34.3ms\n",
      "122:\tlearn: 0.9097065\ttotal: 150ms\tremaining: 33ms\n",
      "123:\tlearn: 0.9097065\ttotal: 152ms\tremaining: 31.8ms\n",
      "124:\tlearn: 0.9097065\ttotal: 153ms\tremaining: 30.5ms\n",
      "125:\tlearn: 0.9097065\ttotal: 154ms\tremaining: 29.3ms\n",
      "126:\tlearn: 0.9097065\ttotal: 155ms\tremaining: 28.1ms\n",
      "127:\tlearn: 0.9108352\ttotal: 156ms\tremaining: 26.8ms\n",
      "128:\tlearn: 0.9119639\ttotal: 157ms\tremaining: 25.6ms\n",
      "129:\tlearn: 0.9119639\ttotal: 158ms\tremaining: 24.4ms\n",
      "130:\tlearn: 0.9108352\ttotal: 159ms\tremaining: 23.1ms\n",
      "131:\tlearn: 0.9108352\ttotal: 161ms\tremaining: 21.9ms\n",
      "132:\tlearn: 0.9108352\ttotal: 162ms\tremaining: 20.7ms\n",
      "133:\tlearn: 0.9108352\ttotal: 163ms\tremaining: 19.4ms\n",
      "134:\tlearn: 0.9108352\ttotal: 164ms\tremaining: 18.2ms\n",
      "135:\tlearn: 0.9108352\ttotal: 165ms\tremaining: 17ms\n",
      "136:\tlearn: 0.9108352\ttotal: 166ms\tremaining: 15.8ms\n",
      "137:\tlearn: 0.9108352\ttotal: 167ms\tremaining: 14.5ms\n",
      "138:\tlearn: 0.9108352\ttotal: 168ms\tremaining: 13.3ms\n",
      "139:\tlearn: 0.9108352\ttotal: 169ms\tremaining: 12.1ms\n",
      "140:\tlearn: 0.9097065\ttotal: 171ms\tremaining: 10.9ms\n",
      "141:\tlearn: 0.9108352\ttotal: 172ms\tremaining: 9.68ms\n",
      "142:\tlearn: 0.9108352\ttotal: 173ms\tremaining: 8.46ms\n",
      "143:\tlearn: 0.9108352\ttotal: 174ms\tremaining: 7.25ms\n",
      "144:\tlearn: 0.9108352\ttotal: 175ms\tremaining: 6.04ms\n",
      "145:\tlearn: 0.9108352\ttotal: 176ms\tremaining: 4.83ms\n",
      "146:\tlearn: 0.9119639\ttotal: 178ms\tremaining: 3.62ms\n",
      "147:\tlearn: 0.9119639\ttotal: 179ms\tremaining: 2.41ms\n",
      "148:\tlearn: 0.9119639\ttotal: 180ms\tremaining: 1.21ms\n",
      "149:\tlearn: 0.9119639\ttotal: 181ms\tremaining: 0us\n",
      "0:\tlearn: 0.8487585\ttotal: 1.55ms\tremaining: 231ms\n",
      "1:\tlearn: 0.8521445\ttotal: 3.01ms\tremaining: 223ms\n",
      "2:\tlearn: 0.8679458\ttotal: 4.28ms\tremaining: 210ms\n",
      "3:\tlearn: 0.8645598\ttotal: 5.46ms\tremaining: 199ms\n",
      "4:\tlearn: 0.8702032\ttotal: 6.62ms\tremaining: 192ms\n",
      "5:\tlearn: 0.8735892\ttotal: 7.81ms\tremaining: 187ms\n",
      "6:\tlearn: 0.8702032\ttotal: 8.96ms\tremaining: 183ms\n",
      "7:\tlearn: 0.8724605\ttotal: 10.1ms\tremaining: 179ms\n",
      "8:\tlearn: 0.8724605\ttotal: 11.5ms\tremaining: 181ms\n",
      "9:\tlearn: 0.8724605\ttotal: 14.3ms\tremaining: 201ms\n",
      "10:\tlearn: 0.8735892\ttotal: 16ms\tremaining: 202ms\n",
      "11:\tlearn: 0.8735892\ttotal: 17.4ms\tremaining: 200ms\n",
      "12:\tlearn: 0.8724605\ttotal: 19.1ms\tremaining: 201ms\n",
      "13:\tlearn: 0.8747178\ttotal: 20.6ms\tremaining: 200ms\n",
      "14:\tlearn: 0.8747178\ttotal: 22.3ms\tremaining: 201ms\n",
      "15:\tlearn: 0.8781038\ttotal: 23.7ms\tremaining: 198ms\n",
      "16:\tlearn: 0.8769752\ttotal: 25ms\tremaining: 196ms\n",
      "17:\tlearn: 0.8758465\ttotal: 26.4ms\tremaining: 193ms\n",
      "18:\tlearn: 0.8781038\ttotal: 28.4ms\tremaining: 196ms\n",
      "19:\tlearn: 0.8758465\ttotal: 29.8ms\tremaining: 194ms\n",
      "20:\tlearn: 0.8792325\ttotal: 31.3ms\tremaining: 192ms\n",
      "21:\tlearn: 0.8792325\ttotal: 32.6ms\tremaining: 190ms\n",
      "22:\tlearn: 0.8792325\ttotal: 34.1ms\tremaining: 188ms\n",
      "23:\tlearn: 0.8826185\ttotal: 35.5ms\tremaining: 186ms\n",
      "24:\tlearn: 0.8826185\ttotal: 36.9ms\tremaining: 185ms\n",
      "25:\tlearn: 0.8837472\ttotal: 38.5ms\tremaining: 184ms\n",
      "26:\tlearn: 0.8837472\ttotal: 39.9ms\tremaining: 182ms\n",
      "27:\tlearn: 0.8837472\ttotal: 41.2ms\tremaining: 180ms\n",
      "28:\tlearn: 0.8893905\ttotal: 42.6ms\tremaining: 178ms\n",
      "29:\tlearn: 0.8848758\ttotal: 44.1ms\tremaining: 176ms\n",
      "30:\tlearn: 0.8837472\ttotal: 45.5ms\tremaining: 175ms\n",
      "31:\tlearn: 0.8826185\ttotal: 47.4ms\tremaining: 175ms\n",
      "32:\tlearn: 0.8848758\ttotal: 49.3ms\tremaining: 175ms\n",
      "33:\tlearn: 0.8837472\ttotal: 50.8ms\tremaining: 173ms\n",
      "34:\tlearn: 0.8848758\ttotal: 52.6ms\tremaining: 173ms\n",
      "35:\tlearn: 0.8871332\ttotal: 54ms\tremaining: 171ms\n",
      "36:\tlearn: 0.8860045\ttotal: 55.4ms\tremaining: 169ms\n",
      "37:\tlearn: 0.8871332\ttotal: 57.2ms\tremaining: 169ms\n",
      "38:\tlearn: 0.8939052\ttotal: 59.2ms\tremaining: 169ms\n",
      "39:\tlearn: 0.8927765\ttotal: 60.7ms\tremaining: 167ms\n",
      "40:\tlearn: 0.8927765\ttotal: 62.1ms\tremaining: 165ms\n",
      "41:\tlearn: 0.8927765\ttotal: 63.6ms\tremaining: 163ms\n",
      "42:\tlearn: 0.8939052\ttotal: 64.9ms\tremaining: 161ms\n",
      "43:\tlearn: 0.8939052\ttotal: 66.2ms\tremaining: 159ms\n",
      "44:\tlearn: 0.8950339\ttotal: 67.8ms\tremaining: 158ms\n",
      "45:\tlearn: 0.8961625\ttotal: 69.1ms\tremaining: 156ms\n",
      "46:\tlearn: 0.8984199\ttotal: 70.5ms\tremaining: 154ms\n",
      "47:\tlearn: 0.8995485\ttotal: 71.9ms\tremaining: 153ms\n",
      "48:\tlearn: 0.8984199\ttotal: 73.2ms\tremaining: 151ms\n",
      "49:\tlearn: 0.8984199\ttotal: 74.5ms\tremaining: 149ms\n",
      "50:\tlearn: 0.8984199\ttotal: 75.8ms\tremaining: 147ms\n",
      "51:\tlearn: 0.8995485\ttotal: 77.1ms\tremaining: 145ms\n",
      "52:\tlearn: 0.8984199\ttotal: 78.4ms\tremaining: 143ms\n",
      "53:\tlearn: 0.8995485\ttotal: 79.9ms\tremaining: 142ms\n",
      "54:\tlearn: 0.8995485\ttotal: 81.2ms\tremaining: 140ms\n",
      "55:\tlearn: 0.8995485\ttotal: 82.5ms\tremaining: 138ms\n",
      "56:\tlearn: 0.8984199\ttotal: 83.9ms\tremaining: 137ms\n",
      "57:\tlearn: 0.8995485\ttotal: 85.2ms\tremaining: 135ms\n",
      "58:\tlearn: 0.8995485\ttotal: 86.5ms\tremaining: 133ms\n",
      "59:\tlearn: 0.8984199\ttotal: 88ms\tremaining: 132ms\n",
      "60:\tlearn: 0.9006772\ttotal: 89.3ms\tremaining: 130ms\n",
      "61:\tlearn: 0.8995485\ttotal: 90.6ms\tremaining: 129ms\n",
      "62:\tlearn: 0.9006772\ttotal: 91.9ms\tremaining: 127ms\n",
      "63:\tlearn: 0.8984199\ttotal: 93.2ms\tremaining: 125ms\n",
      "64:\tlearn: 0.8995485\ttotal: 94.5ms\tremaining: 124ms\n",
      "65:\tlearn: 0.8995485\ttotal: 96.1ms\tremaining: 122ms\n",
      "66:\tlearn: 0.9006772\ttotal: 97.4ms\tremaining: 121ms\n",
      "67:\tlearn: 0.9018059\ttotal: 98.6ms\tremaining: 119ms\n",
      "68:\tlearn: 0.9006772\ttotal: 99.8ms\tremaining: 117ms\n",
      "69:\tlearn: 0.9006772\ttotal: 101ms\tremaining: 116ms\n",
      "70:\tlearn: 0.9006772\ttotal: 102ms\tremaining: 114ms\n",
      "71:\tlearn: 0.9018059\ttotal: 104ms\tremaining: 113ms\n",
      "72:\tlearn: 0.9018059\ttotal: 105ms\tremaining: 111ms\n",
      "73:\tlearn: 0.9018059\ttotal: 107ms\tremaining: 109ms\n",
      "74:\tlearn: 0.9018059\ttotal: 108ms\tremaining: 108ms\n",
      "75:\tlearn: 0.9063205\ttotal: 109ms\tremaining: 106ms\n",
      "76:\tlearn: 0.9063205\ttotal: 110ms\tremaining: 105ms\n",
      "77:\tlearn: 0.9063205\ttotal: 112ms\tremaining: 103ms\n",
      "78:\tlearn: 0.9085779\ttotal: 113ms\tremaining: 102ms\n",
      "79:\tlearn: 0.9108352\ttotal: 114ms\tremaining: 100ms\n",
      "80:\tlearn: 0.9108352\ttotal: 116ms\tremaining: 98.7ms\n",
      "81:\tlearn: 0.9108352\ttotal: 117ms\tremaining: 97.3ms\n",
      "82:\tlearn: 0.9119639\ttotal: 119ms\tremaining: 95.9ms\n",
      "83:\tlearn: 0.9108352\ttotal: 120ms\tremaining: 94.3ms\n",
      "84:\tlearn: 0.9108352\ttotal: 121ms\tremaining: 92.8ms\n",
      "85:\tlearn: 0.9108352\ttotal: 122ms\tremaining: 91.1ms\n",
      "86:\tlearn: 0.9119639\ttotal: 125ms\tremaining: 90.2ms\n",
      "87:\tlearn: 0.9130926\ttotal: 127ms\tremaining: 89.3ms\n",
      "88:\tlearn: 0.9130926\ttotal: 128ms\tremaining: 87.9ms\n",
      "89:\tlearn: 0.9119639\ttotal: 129ms\tremaining: 86.3ms\n",
      "90:\tlearn: 0.9130926\ttotal: 131ms\tremaining: 84.9ms\n",
      "91:\tlearn: 0.9130926\ttotal: 132ms\tremaining: 83.4ms\n",
      "92:\tlearn: 0.9130926\ttotal: 134ms\tremaining: 81.9ms\n",
      "93:\tlearn: 0.9130926\ttotal: 135ms\tremaining: 80.3ms\n",
      "94:\tlearn: 0.9130926\ttotal: 136ms\tremaining: 78.8ms\n",
      "95:\tlearn: 0.9130926\ttotal: 138ms\tremaining: 77.3ms\n",
      "96:\tlearn: 0.9130926\ttotal: 139ms\tremaining: 75.8ms\n",
      "97:\tlearn: 0.9130926\ttotal: 140ms\tremaining: 74.2ms\n",
      "98:\tlearn: 0.9130926\ttotal: 141ms\tremaining: 72.6ms\n",
      "99:\tlearn: 0.9130926\ttotal: 142ms\tremaining: 71.1ms\n",
      "100:\tlearn: 0.9130926\ttotal: 143ms\tremaining: 69.6ms\n",
      "101:\tlearn: 0.9130926\ttotal: 145ms\tremaining: 68.1ms\n",
      "102:\tlearn: 0.9130926\ttotal: 146ms\tremaining: 66.6ms\n",
      "103:\tlearn: 0.9130926\ttotal: 147ms\tremaining: 65.1ms\n",
      "104:\tlearn: 0.9119639\ttotal: 148ms\tremaining: 63.6ms\n",
      "105:\tlearn: 0.9130926\ttotal: 150ms\tremaining: 62.1ms\n",
      "106:\tlearn: 0.9130926\ttotal: 151ms\tremaining: 60.6ms\n",
      "107:\tlearn: 0.9130926\ttotal: 152ms\tremaining: 59.1ms\n",
      "108:\tlearn: 0.9108352\ttotal: 153ms\tremaining: 57.7ms\n",
      "109:\tlearn: 0.9119639\ttotal: 155ms\tremaining: 56.2ms\n",
      "110:\tlearn: 0.9119639\ttotal: 156ms\tremaining: 54.7ms\n",
      "111:\tlearn: 0.9119639\ttotal: 157ms\tremaining: 53.3ms\n",
      "112:\tlearn: 0.9119639\ttotal: 158ms\tremaining: 51.8ms\n",
      "113:\tlearn: 0.9119639\ttotal: 160ms\tremaining: 50.4ms\n",
      "114:\tlearn: 0.9130926\ttotal: 161ms\tremaining: 49ms\n",
      "115:\tlearn: 0.9130926\ttotal: 162ms\tremaining: 47.5ms\n",
      "116:\tlearn: 0.9130926\ttotal: 164ms\tremaining: 46.2ms\n",
      "117:\tlearn: 0.9130926\ttotal: 165ms\tremaining: 44.8ms\n",
      "118:\tlearn: 0.9130926\ttotal: 167ms\tremaining: 43.4ms\n",
      "119:\tlearn: 0.9130926\ttotal: 170ms\tremaining: 42.5ms\n",
      "120:\tlearn: 0.9119639\ttotal: 171ms\tremaining: 41.1ms\n",
      "121:\tlearn: 0.9119639\ttotal: 173ms\tremaining: 39.7ms\n",
      "122:\tlearn: 0.9119639\ttotal: 174ms\tremaining: 38.3ms\n",
      "123:\tlearn: 0.9119639\ttotal: 176ms\tremaining: 36.8ms\n",
      "124:\tlearn: 0.9119639\ttotal: 178ms\tremaining: 35.6ms\n",
      "125:\tlearn: 0.9130926\ttotal: 179ms\tremaining: 34.2ms\n",
      "126:\tlearn: 0.9130926\ttotal: 181ms\tremaining: 32.7ms\n",
      "127:\tlearn: 0.9130926\ttotal: 182ms\tremaining: 31.3ms\n",
      "128:\tlearn: 0.9130926\ttotal: 184ms\tremaining: 29.9ms\n",
      "129:\tlearn: 0.9142212\ttotal: 185ms\tremaining: 28.5ms\n",
      "130:\tlearn: 0.9142212\ttotal: 187ms\tremaining: 27.1ms\n",
      "131:\tlearn: 0.9142212\ttotal: 188ms\tremaining: 25.7ms\n",
      "132:\tlearn: 0.9142212\ttotal: 190ms\tremaining: 24.2ms\n",
      "133:\tlearn: 0.9142212\ttotal: 191ms\tremaining: 22.8ms\n",
      "134:\tlearn: 0.9142212\ttotal: 192ms\tremaining: 21.4ms\n",
      "135:\tlearn: 0.9142212\ttotal: 193ms\tremaining: 19.9ms\n",
      "136:\tlearn: 0.9142212\ttotal: 195ms\tremaining: 18.5ms\n",
      "137:\tlearn: 0.9142212\ttotal: 196ms\tremaining: 17ms\n",
      "138:\tlearn: 0.9153499\ttotal: 197ms\tremaining: 15.6ms\n",
      "139:\tlearn: 0.9153499\ttotal: 198ms\tremaining: 14.2ms\n",
      "140:\tlearn: 0.9153499\ttotal: 200ms\tremaining: 12.7ms\n",
      "141:\tlearn: 0.9153499\ttotal: 201ms\tremaining: 11.3ms\n",
      "142:\tlearn: 0.9153499\ttotal: 202ms\tremaining: 9.9ms\n",
      "143:\tlearn: 0.9164786\ttotal: 204ms\tremaining: 8.48ms\n",
      "144:\tlearn: 0.9164786\ttotal: 205ms\tremaining: 7.06ms\n",
      "145:\tlearn: 0.9164786\ttotal: 206ms\tremaining: 5.65ms\n",
      "146:\tlearn: 0.9164786\ttotal: 208ms\tremaining: 4.24ms\n",
      "147:\tlearn: 0.9164786\ttotal: 209ms\tremaining: 2.82ms\n",
      "148:\tlearn: 0.9164786\ttotal: 210ms\tremaining: 1.41ms\n",
      "149:\tlearn: 0.9164786\ttotal: 212ms\tremaining: 0us\n",
      "0:\tlearn: 0.8397291\ttotal: 1.76ms\tremaining: 262ms\n",
      "1:\tlearn: 0.8419865\ttotal: 3.24ms\tremaining: 240ms\n",
      "2:\tlearn: 0.8656885\ttotal: 4.74ms\tremaining: 232ms\n",
      "3:\tlearn: 0.8600451\ttotal: 6.32ms\tremaining: 231ms\n",
      "4:\tlearn: 0.8611738\ttotal: 7.58ms\tremaining: 220ms\n",
      "5:\tlearn: 0.8577878\ttotal: 8.99ms\tremaining: 216ms\n",
      "6:\tlearn: 0.8668172\ttotal: 10.2ms\tremaining: 209ms\n",
      "7:\tlearn: 0.8668172\ttotal: 11.6ms\tremaining: 205ms\n",
      "8:\tlearn: 0.8589165\ttotal: 12.9ms\tremaining: 202ms\n",
      "9:\tlearn: 0.8645598\ttotal: 14.2ms\tremaining: 198ms\n",
      "10:\tlearn: 0.8645598\ttotal: 15.6ms\tremaining: 197ms\n",
      "11:\tlearn: 0.8690745\ttotal: 16.9ms\tremaining: 195ms\n",
      "12:\tlearn: 0.8679458\ttotal: 18.3ms\tremaining: 193ms\n",
      "13:\tlearn: 0.8656885\ttotal: 19.6ms\tremaining: 191ms\n",
      "14:\tlearn: 0.8702032\ttotal: 21.1ms\tremaining: 189ms\n",
      "15:\tlearn: 0.8679458\ttotal: 22.6ms\tremaining: 189ms\n",
      "16:\tlearn: 0.8713318\ttotal: 23.9ms\tremaining: 187ms\n",
      "17:\tlearn: 0.8702032\ttotal: 25.3ms\tremaining: 185ms\n",
      "18:\tlearn: 0.8758465\ttotal: 26.5ms\tremaining: 183ms\n",
      "19:\tlearn: 0.8747178\ttotal: 28ms\tremaining: 182ms\n",
      "20:\tlearn: 0.8747178\ttotal: 29.4ms\tremaining: 180ms\n",
      "21:\tlearn: 0.8735892\ttotal: 31.1ms\tremaining: 181ms\n",
      "22:\tlearn: 0.8781038\ttotal: 32.6ms\tremaining: 180ms\n",
      "23:\tlearn: 0.8803612\ttotal: 33.8ms\tremaining: 178ms\n",
      "24:\tlearn: 0.8792325\ttotal: 35.1ms\tremaining: 176ms\n",
      "25:\tlearn: 0.8814898\ttotal: 36.4ms\tremaining: 174ms\n",
      "26:\tlearn: 0.8837472\ttotal: 37.7ms\tremaining: 172ms\n",
      "27:\tlearn: 0.8826185\ttotal: 39ms\tremaining: 170ms\n",
      "28:\tlearn: 0.8837472\ttotal: 40.4ms\tremaining: 168ms\n",
      "29:\tlearn: 0.8826185\ttotal: 41.7ms\tremaining: 167ms\n",
      "30:\tlearn: 0.8848758\ttotal: 43.1ms\tremaining: 165ms\n",
      "31:\tlearn: 0.8848758\ttotal: 44.5ms\tremaining: 164ms\n",
      "32:\tlearn: 0.8860045\ttotal: 45.8ms\tremaining: 163ms\n",
      "33:\tlearn: 0.8860045\ttotal: 47.3ms\tremaining: 161ms\n",
      "34:\tlearn: 0.8882619\ttotal: 48.5ms\tremaining: 159ms\n",
      "35:\tlearn: 0.8893905\ttotal: 50ms\tremaining: 158ms\n",
      "36:\tlearn: 0.8916479\ttotal: 51.3ms\tremaining: 157ms\n",
      "37:\tlearn: 0.8950339\ttotal: 52.6ms\tremaining: 155ms\n",
      "38:\tlearn: 0.8961625\ttotal: 54.1ms\tremaining: 154ms\n",
      "39:\tlearn: 0.8961625\ttotal: 55.3ms\tremaining: 152ms\n",
      "40:\tlearn: 0.8961625\ttotal: 56.6ms\tremaining: 151ms\n",
      "41:\tlearn: 0.8961625\ttotal: 58ms\tremaining: 149ms\n",
      "42:\tlearn: 0.8961625\ttotal: 59.4ms\tremaining: 148ms\n",
      "43:\tlearn: 0.8972912\ttotal: 61.2ms\tremaining: 147ms\n",
      "44:\tlearn: 0.8984199\ttotal: 62.7ms\tremaining: 146ms\n",
      "45:\tlearn: 0.8984199\ttotal: 64.1ms\tremaining: 145ms\n",
      "46:\tlearn: 0.8984199\ttotal: 65.8ms\tremaining: 144ms\n",
      "47:\tlearn: 0.8984199\ttotal: 67.8ms\tremaining: 144ms\n",
      "48:\tlearn: 0.8984199\ttotal: 69.4ms\tremaining: 143ms\n",
      "49:\tlearn: 0.8995485\ttotal: 70.9ms\tremaining: 142ms\n",
      "50:\tlearn: 0.8995485\ttotal: 72.5ms\tremaining: 141ms\n",
      "51:\tlearn: 0.9006772\ttotal: 74.4ms\tremaining: 140ms\n",
      "52:\tlearn: 0.9018059\ttotal: 75.9ms\tremaining: 139ms\n",
      "53:\tlearn: 0.9018059\ttotal: 77.7ms\tremaining: 138ms\n",
      "54:\tlearn: 0.9018059\ttotal: 79.1ms\tremaining: 137ms\n",
      "55:\tlearn: 0.9018059\ttotal: 80.7ms\tremaining: 135ms\n",
      "56:\tlearn: 0.9018059\ttotal: 82.2ms\tremaining: 134ms\n",
      "57:\tlearn: 0.9018059\ttotal: 83.5ms\tremaining: 133ms\n",
      "58:\tlearn: 0.9018059\ttotal: 84.9ms\tremaining: 131ms\n",
      "59:\tlearn: 0.9040632\ttotal: 86.4ms\tremaining: 130ms\n",
      "60:\tlearn: 0.9029345\ttotal: 87.7ms\tremaining: 128ms\n",
      "61:\tlearn: 0.9029345\ttotal: 89.3ms\tremaining: 127ms\n",
      "62:\tlearn: 0.9029345\ttotal: 90.6ms\tremaining: 125ms\n",
      "63:\tlearn: 0.9029345\ttotal: 92ms\tremaining: 124ms\n",
      "64:\tlearn: 0.9040632\ttotal: 93.4ms\tremaining: 122ms\n",
      "65:\tlearn: 0.9029345\ttotal: 94.7ms\tremaining: 121ms\n",
      "66:\tlearn: 0.9040632\ttotal: 96.1ms\tremaining: 119ms\n",
      "67:\tlearn: 0.9051919\ttotal: 97.9ms\tremaining: 118ms\n",
      "68:\tlearn: 0.9051919\ttotal: 99.4ms\tremaining: 117ms\n",
      "69:\tlearn: 0.9051919\ttotal: 101ms\tremaining: 115ms\n",
      "70:\tlearn: 0.9051919\ttotal: 102ms\tremaining: 114ms\n",
      "71:\tlearn: 0.9063205\ttotal: 104ms\tremaining: 112ms\n",
      "72:\tlearn: 0.9063205\ttotal: 105ms\tremaining: 111ms\n",
      "73:\tlearn: 0.9063205\ttotal: 106ms\tremaining: 109ms\n",
      "74:\tlearn: 0.9051919\ttotal: 108ms\tremaining: 108ms\n",
      "75:\tlearn: 0.9040632\ttotal: 109ms\tremaining: 106ms\n",
      "76:\tlearn: 0.9051919\ttotal: 110ms\tremaining: 105ms\n",
      "77:\tlearn: 0.9051919\ttotal: 112ms\tremaining: 103ms\n",
      "78:\tlearn: 0.9063205\ttotal: 113ms\tremaining: 102ms\n",
      "79:\tlearn: 0.9063205\ttotal: 115ms\tremaining: 100ms\n",
      "80:\tlearn: 0.9063205\ttotal: 116ms\tremaining: 98.6ms\n",
      "81:\tlearn: 0.9063205\ttotal: 118ms\tremaining: 98.1ms\n",
      "82:\tlearn: 0.9063205\ttotal: 120ms\tremaining: 97.3ms\n",
      "83:\tlearn: 0.9097065\ttotal: 122ms\tremaining: 95.8ms\n",
      "84:\tlearn: 0.9097065\ttotal: 123ms\tremaining: 94.4ms\n",
      "85:\tlearn: 0.9097065\ttotal: 125ms\tremaining: 93ms\n",
      "86:\tlearn: 0.9097065\ttotal: 126ms\tremaining: 91.6ms\n",
      "87:\tlearn: 0.9097065\ttotal: 128ms\tremaining: 90.3ms\n",
      "88:\tlearn: 0.9097065\ttotal: 129ms\tremaining: 88.8ms\n",
      "89:\tlearn: 0.9097065\ttotal: 131ms\tremaining: 87.2ms\n",
      "90:\tlearn: 0.9085779\ttotal: 132ms\tremaining: 85.9ms\n",
      "91:\tlearn: 0.9085779\ttotal: 134ms\tremaining: 84.3ms\n",
      "92:\tlearn: 0.9085779\ttotal: 135ms\tremaining: 82.8ms\n",
      "93:\tlearn: 0.9097065\ttotal: 137ms\tremaining: 81.3ms\n",
      "94:\tlearn: 0.9097065\ttotal: 138ms\tremaining: 79.8ms\n",
      "95:\tlearn: 0.9097065\ttotal: 139ms\tremaining: 78.4ms\n",
      "96:\tlearn: 0.9097065\ttotal: 141ms\tremaining: 77.1ms\n",
      "97:\tlearn: 0.9097065\ttotal: 142ms\tremaining: 75.6ms\n",
      "98:\tlearn: 0.9085779\ttotal: 144ms\tremaining: 74ms\n",
      "99:\tlearn: 0.9085779\ttotal: 145ms\tremaining: 72.5ms\n",
      "100:\tlearn: 0.9085779\ttotal: 146ms\tremaining: 71ms\n",
      "101:\tlearn: 0.9085779\ttotal: 148ms\tremaining: 69.8ms\n",
      "102:\tlearn: 0.9085779\ttotal: 150ms\tremaining: 68.4ms\n",
      "103:\tlearn: 0.9085779\ttotal: 151ms\tremaining: 67ms\n",
      "104:\tlearn: 0.9074492\ttotal: 153ms\tremaining: 65.5ms\n",
      "105:\tlearn: 0.9074492\ttotal: 154ms\tremaining: 64ms\n",
      "106:\tlearn: 0.9074492\ttotal: 156ms\tremaining: 62.6ms\n",
      "107:\tlearn: 0.9074492\ttotal: 157ms\tremaining: 61.1ms\n",
      "108:\tlearn: 0.9074492\ttotal: 159ms\tremaining: 59.9ms\n",
      "109:\tlearn: 0.9074492\ttotal: 161ms\tremaining: 58.5ms\n",
      "110:\tlearn: 0.9074492\ttotal: 162ms\tremaining: 57ms\n",
      "111:\tlearn: 0.9074492\ttotal: 164ms\tremaining: 55.6ms\n",
      "112:\tlearn: 0.9074492\ttotal: 165ms\tremaining: 54.1ms\n",
      "113:\tlearn: 0.9074492\ttotal: 167ms\tremaining: 52.6ms\n",
      "114:\tlearn: 0.9097065\ttotal: 168ms\tremaining: 51.2ms\n",
      "115:\tlearn: 0.9108352\ttotal: 170ms\tremaining: 49.9ms\n",
      "116:\tlearn: 0.9108352\ttotal: 172ms\tremaining: 48.4ms\n",
      "117:\tlearn: 0.9108352\ttotal: 173ms\tremaining: 47ms\n",
      "118:\tlearn: 0.9108352\ttotal: 175ms\tremaining: 45.6ms\n",
      "119:\tlearn: 0.9097065\ttotal: 176ms\tremaining: 44.1ms\n",
      "120:\tlearn: 0.9097065\ttotal: 178ms\tremaining: 42.6ms\n",
      "121:\tlearn: 0.9097065\ttotal: 180ms\tremaining: 41.2ms\n",
      "122:\tlearn: 0.9097065\ttotal: 181ms\tremaining: 39.8ms\n",
      "123:\tlearn: 0.9097065\ttotal: 183ms\tremaining: 38.4ms\n",
      "124:\tlearn: 0.9108352\ttotal: 184ms\tremaining: 36.9ms\n",
      "125:\tlearn: 0.9097065\ttotal: 186ms\tremaining: 35.4ms\n",
      "126:\tlearn: 0.9097065\ttotal: 187ms\tremaining: 33.9ms\n",
      "127:\tlearn: 0.9097065\ttotal: 189ms\tremaining: 32.5ms\n",
      "128:\tlearn: 0.9097065\ttotal: 191ms\tremaining: 31ms\n",
      "129:\tlearn: 0.9097065\ttotal: 192ms\tremaining: 29.6ms\n",
      "130:\tlearn: 0.9097065\ttotal: 194ms\tremaining: 28.1ms\n",
      "131:\tlearn: 0.9097065\ttotal: 195ms\tremaining: 26.6ms\n",
      "132:\tlearn: 0.9097065\ttotal: 197ms\tremaining: 25.2ms\n",
      "133:\tlearn: 0.9097065\ttotal: 198ms\tremaining: 23.7ms\n",
      "134:\tlearn: 0.9097065\ttotal: 200ms\tremaining: 22.2ms\n",
      "135:\tlearn: 0.9097065\ttotal: 201ms\tremaining: 20.7ms\n",
      "136:\tlearn: 0.9108352\ttotal: 203ms\tremaining: 19.3ms\n",
      "137:\tlearn: 0.9108352\ttotal: 205ms\tremaining: 17.8ms\n",
      "138:\tlearn: 0.9108352\ttotal: 206ms\tremaining: 16.3ms\n",
      "139:\tlearn: 0.9108352\ttotal: 208ms\tremaining: 14.8ms\n",
      "140:\tlearn: 0.9108352\ttotal: 209ms\tremaining: 13.4ms\n",
      "141:\tlearn: 0.9108352\ttotal: 211ms\tremaining: 11.9ms\n",
      "142:\tlearn: 0.9108352\ttotal: 213ms\tremaining: 10.4ms\n",
      "143:\tlearn: 0.9108352\ttotal: 214ms\tremaining: 8.92ms\n",
      "144:\tlearn: 0.9130926\ttotal: 216ms\tremaining: 7.44ms\n",
      "145:\tlearn: 0.9130926\ttotal: 217ms\tremaining: 5.95ms\n",
      "146:\tlearn: 0.9130926\ttotal: 219ms\tremaining: 4.47ms\n",
      "147:\tlearn: 0.9119639\ttotal: 221ms\tremaining: 2.98ms\n",
      "148:\tlearn: 0.9119639\ttotal: 222ms\tremaining: 1.49ms\n",
      "149:\tlearn: 0.9119639\ttotal: 224ms\tremaining: 0us\n",
      "0:\tlearn: 0.8397291\ttotal: 1.61ms\tremaining: 240ms\n",
      "1:\tlearn: 0.8386005\ttotal: 4.31ms\tremaining: 319ms\n",
      "2:\tlearn: 0.8611738\ttotal: 5.79ms\tremaining: 283ms\n",
      "3:\tlearn: 0.8645598\ttotal: 7.08ms\tremaining: 258ms\n",
      "4:\tlearn: 0.8645598\ttotal: 8.29ms\tremaining: 240ms\n",
      "5:\tlearn: 0.8668172\ttotal: 9.51ms\tremaining: 228ms\n",
      "6:\tlearn: 0.8668172\ttotal: 10.8ms\tremaining: 220ms\n",
      "7:\tlearn: 0.8713318\ttotal: 12ms\tremaining: 213ms\n",
      "8:\tlearn: 0.8713318\ttotal: 13.2ms\tremaining: 207ms\n",
      "9:\tlearn: 0.8702032\ttotal: 14.7ms\tremaining: 205ms\n",
      "10:\tlearn: 0.8747178\ttotal: 15.9ms\tremaining: 202ms\n",
      "11:\tlearn: 0.8735892\ttotal: 17.3ms\tremaining: 199ms\n",
      "12:\tlearn: 0.8758465\ttotal: 18.5ms\tremaining: 195ms\n",
      "13:\tlearn: 0.8724605\ttotal: 19.7ms\tremaining: 192ms\n",
      "14:\tlearn: 0.8690745\ttotal: 21ms\tremaining: 189ms\n",
      "15:\tlearn: 0.8724605\ttotal: 22.2ms\tremaining: 186ms\n",
      "16:\tlearn: 0.8713318\ttotal: 23.6ms\tremaining: 184ms\n",
      "17:\tlearn: 0.8735892\ttotal: 24.9ms\tremaining: 182ms\n",
      "18:\tlearn: 0.8747178\ttotal: 26.1ms\tremaining: 180ms\n",
      "19:\tlearn: 0.8735892\ttotal: 27.4ms\tremaining: 178ms\n",
      "20:\tlearn: 0.8769752\ttotal: 28.2ms\tremaining: 173ms\n",
      "21:\tlearn: 0.8735892\ttotal: 29.4ms\tremaining: 171ms\n",
      "22:\tlearn: 0.8792325\ttotal: 30.8ms\tremaining: 170ms\n",
      "23:\tlearn: 0.8792325\ttotal: 32ms\tremaining: 168ms\n",
      "24:\tlearn: 0.8814898\ttotal: 33.4ms\tremaining: 167ms\n",
      "25:\tlearn: 0.8826185\ttotal: 34.6ms\tremaining: 165ms\n",
      "26:\tlearn: 0.8826185\ttotal: 35.8ms\tremaining: 163ms\n",
      "27:\tlearn: 0.8826185\ttotal: 37.1ms\tremaining: 162ms\n",
      "28:\tlearn: 0.8860045\ttotal: 38.4ms\tremaining: 160ms\n",
      "29:\tlearn: 0.8860045\ttotal: 39.6ms\tremaining: 158ms\n",
      "30:\tlearn: 0.8882619\ttotal: 40.9ms\tremaining: 157ms\n",
      "31:\tlearn: 0.8860045\ttotal: 42.1ms\tremaining: 155ms\n",
      "32:\tlearn: 0.8905192\ttotal: 43.3ms\tremaining: 154ms\n",
      "33:\tlearn: 0.8893905\ttotal: 44.6ms\tremaining: 152ms\n",
      "34:\tlearn: 0.8927765\ttotal: 45.8ms\tremaining: 151ms\n",
      "35:\tlearn: 0.8927765\ttotal: 47.2ms\tremaining: 149ms\n",
      "36:\tlearn: 0.8905192\ttotal: 48.4ms\tremaining: 148ms\n",
      "37:\tlearn: 0.8916479\ttotal: 49.4ms\tremaining: 146ms\n",
      "38:\tlearn: 0.8905192\ttotal: 50.8ms\tremaining: 145ms\n",
      "39:\tlearn: 0.8939052\ttotal: 52.1ms\tremaining: 143ms\n",
      "40:\tlearn: 0.8916479\ttotal: 52.8ms\tremaining: 140ms\n",
      "41:\tlearn: 0.8916479\ttotal: 54.1ms\tremaining: 139ms\n",
      "42:\tlearn: 0.8950339\ttotal: 55.3ms\tremaining: 138ms\n",
      "43:\tlearn: 0.8961625\ttotal: 56.5ms\tremaining: 136ms\n",
      "44:\tlearn: 0.8961625\ttotal: 57.8ms\tremaining: 135ms\n",
      "45:\tlearn: 0.8950339\ttotal: 59ms\tremaining: 133ms\n",
      "46:\tlearn: 0.8972912\ttotal: 60.3ms\tremaining: 132ms\n",
      "47:\tlearn: 0.8961625\ttotal: 61.6ms\tremaining: 131ms\n",
      "48:\tlearn: 0.8972912\ttotal: 63.4ms\tremaining: 131ms\n",
      "49:\tlearn: 0.8972912\ttotal: 64.7ms\tremaining: 129ms\n",
      "50:\tlearn: 0.8995485\ttotal: 66ms\tremaining: 128ms\n",
      "51:\tlearn: 0.8984199\ttotal: 67.3ms\tremaining: 127ms\n",
      "52:\tlearn: 0.8984199\ttotal: 68.5ms\tremaining: 125ms\n",
      "53:\tlearn: 0.8984199\ttotal: 70.4ms\tremaining: 125ms\n",
      "54:\tlearn: 0.8984199\ttotal: 71.8ms\tremaining: 124ms\n",
      "55:\tlearn: 0.8984199\ttotal: 73.7ms\tremaining: 124ms\n",
      "56:\tlearn: 0.9006772\ttotal: 76.7ms\tremaining: 125ms\n",
      "57:\tlearn: 0.8995485\ttotal: 79.5ms\tremaining: 126ms\n",
      "58:\tlearn: 0.8995485\ttotal: 81ms\tremaining: 125ms\n",
      "59:\tlearn: 0.8995485\ttotal: 82.4ms\tremaining: 124ms\n",
      "60:\tlearn: 0.9029345\ttotal: 83.7ms\tremaining: 122ms\n",
      "61:\tlearn: 0.9051919\ttotal: 85ms\tremaining: 121ms\n",
      "62:\tlearn: 0.9074492\ttotal: 86.3ms\tremaining: 119ms\n",
      "63:\tlearn: 0.9063205\ttotal: 87.8ms\tremaining: 118ms\n",
      "64:\tlearn: 0.9063205\ttotal: 89.3ms\tremaining: 117ms\n",
      "65:\tlearn: 0.9063205\ttotal: 94.9ms\tremaining: 121ms\n",
      "66:\tlearn: 0.9074492\ttotal: 96.2ms\tremaining: 119ms\n",
      "67:\tlearn: 0.9074492\ttotal: 97.4ms\tremaining: 117ms\n",
      "68:\tlearn: 0.9074492\ttotal: 98.6ms\tremaining: 116ms\n",
      "69:\tlearn: 0.9074492\ttotal: 99.8ms\tremaining: 114ms\n",
      "70:\tlearn: 0.9074492\ttotal: 101ms\tremaining: 112ms\n",
      "71:\tlearn: 0.9085779\ttotal: 102ms\tremaining: 111ms\n",
      "72:\tlearn: 0.9074492\ttotal: 104ms\tremaining: 109ms\n",
      "73:\tlearn: 0.9074492\ttotal: 105ms\tremaining: 108ms\n",
      "74:\tlearn: 0.9085779\ttotal: 106ms\tremaining: 106ms\n",
      "75:\tlearn: 0.9074492\ttotal: 108ms\tremaining: 105ms\n",
      "76:\tlearn: 0.9097065\ttotal: 109ms\tremaining: 103ms\n",
      "77:\tlearn: 0.9085779\ttotal: 110ms\tremaining: 102ms\n",
      "78:\tlearn: 0.9085779\ttotal: 111ms\tremaining: 100ms\n",
      "79:\tlearn: 0.9085779\ttotal: 113ms\tremaining: 98.6ms\n",
      "80:\tlearn: 0.9097065\ttotal: 115ms\tremaining: 97.7ms\n",
      "81:\tlearn: 0.9097065\ttotal: 116ms\tremaining: 96.4ms\n",
      "82:\tlearn: 0.9097065\ttotal: 117ms\tremaining: 94.8ms\n",
      "83:\tlearn: 0.9097065\ttotal: 119ms\tremaining: 93.2ms\n",
      "84:\tlearn: 0.9097065\ttotal: 120ms\tremaining: 91.6ms\n",
      "85:\tlearn: 0.9097065\ttotal: 121ms\tremaining: 90.1ms\n",
      "86:\tlearn: 0.9097065\ttotal: 122ms\tremaining: 88.5ms\n",
      "87:\tlearn: 0.9097065\ttotal: 124ms\tremaining: 87.1ms\n",
      "88:\tlearn: 0.9108352\ttotal: 125ms\tremaining: 85.6ms\n",
      "89:\tlearn: 0.9119639\ttotal: 126ms\tremaining: 84.2ms\n",
      "90:\tlearn: 0.9119639\ttotal: 128ms\tremaining: 82.9ms\n",
      "91:\tlearn: 0.9119639\ttotal: 129ms\tremaining: 81.4ms\n",
      "92:\tlearn: 0.9119639\ttotal: 131ms\tremaining: 80.2ms\n",
      "93:\tlearn: 0.9119639\ttotal: 133ms\tremaining: 79ms\n",
      "94:\tlearn: 0.9119639\ttotal: 134ms\tremaining: 77.5ms\n",
      "95:\tlearn: 0.9119639\ttotal: 135ms\tremaining: 76.1ms\n",
      "96:\tlearn: 0.9108352\ttotal: 137ms\tremaining: 74.7ms\n",
      "97:\tlearn: 0.9108352\ttotal: 138ms\tremaining: 73.2ms\n",
      "98:\tlearn: 0.9119639\ttotal: 139ms\tremaining: 71.8ms\n",
      "99:\tlearn: 0.9119639\ttotal: 141ms\tremaining: 70.4ms\n",
      "100:\tlearn: 0.9119639\ttotal: 142ms\tremaining: 68.9ms\n",
      "101:\tlearn: 0.9108352\ttotal: 143ms\tremaining: 67.4ms\n",
      "102:\tlearn: 0.9108352\ttotal: 144ms\tremaining: 65.8ms\n",
      "103:\tlearn: 0.9108352\ttotal: 145ms\tremaining: 64.3ms\n",
      "104:\tlearn: 0.9108352\ttotal: 147ms\tremaining: 62.8ms\n",
      "105:\tlearn: 0.9108352\ttotal: 148ms\tremaining: 61.3ms\n",
      "106:\tlearn: 0.9108352\ttotal: 149ms\tremaining: 59.9ms\n",
      "107:\tlearn: 0.9119639\ttotal: 150ms\tremaining: 58.4ms\n",
      "108:\tlearn: 0.9119639\ttotal: 152ms\tremaining: 57ms\n",
      "109:\tlearn: 0.9119639\ttotal: 153ms\tremaining: 55.6ms\n",
      "110:\tlearn: 0.9130926\ttotal: 154ms\tremaining: 54.2ms\n",
      "111:\tlearn: 0.9130926\ttotal: 156ms\tremaining: 52.8ms\n",
      "112:\tlearn: 0.9130926\ttotal: 157ms\tremaining: 51.4ms\n",
      "113:\tlearn: 0.9130926\ttotal: 158ms\tremaining: 50ms\n",
      "114:\tlearn: 0.9130926\ttotal: 160ms\tremaining: 48.6ms\n",
      "115:\tlearn: 0.9130926\ttotal: 161ms\tremaining: 47.2ms\n",
      "116:\tlearn: 0.9130926\ttotal: 163ms\tremaining: 46ms\n",
      "117:\tlearn: 0.9130926\ttotal: 164ms\tremaining: 44.6ms\n",
      "118:\tlearn: 0.9130926\ttotal: 166ms\tremaining: 43.2ms\n",
      "119:\tlearn: 0.9130926\ttotal: 167ms\tremaining: 41.8ms\n",
      "120:\tlearn: 0.9130926\ttotal: 169ms\tremaining: 40.4ms\n",
      "121:\tlearn: 0.9130926\ttotal: 170ms\tremaining: 39ms\n",
      "122:\tlearn: 0.9130926\ttotal: 171ms\tremaining: 37.6ms\n",
      "123:\tlearn: 0.9130926\ttotal: 173ms\tremaining: 36.2ms\n",
      "124:\tlearn: 0.9130926\ttotal: 175ms\tremaining: 34.9ms\n",
      "125:\tlearn: 0.9130926\ttotal: 176ms\tremaining: 33.5ms\n",
      "126:\tlearn: 0.9130926\ttotal: 178ms\tremaining: 32.2ms\n",
      "127:\tlearn: 0.9130926\ttotal: 179ms\tremaining: 30.8ms\n",
      "128:\tlearn: 0.9130926\ttotal: 181ms\tremaining: 29.4ms\n",
      "129:\tlearn: 0.9130926\ttotal: 182ms\tremaining: 28ms\n",
      "130:\tlearn: 0.9130926\ttotal: 183ms\tremaining: 26.5ms\n",
      "131:\tlearn: 0.9130926\ttotal: 184ms\tremaining: 25.1ms\n",
      "132:\tlearn: 0.9130926\ttotal: 185ms\tremaining: 23.7ms\n",
      "133:\tlearn: 0.9130926\ttotal: 187ms\tremaining: 22.3ms\n",
      "134:\tlearn: 0.9130926\ttotal: 188ms\tremaining: 20.9ms\n",
      "135:\tlearn: 0.9130926\ttotal: 189ms\tremaining: 19.4ms\n",
      "136:\tlearn: 0.9130926\ttotal: 190ms\tremaining: 18ms\n",
      "137:\tlearn: 0.9130926\ttotal: 191ms\tremaining: 16.6ms\n",
      "138:\tlearn: 0.9130926\ttotal: 193ms\tremaining: 15.2ms\n",
      "139:\tlearn: 0.9119639\ttotal: 194ms\tremaining: 13.8ms\n",
      "140:\tlearn: 0.9119639\ttotal: 195ms\tremaining: 12.4ms\n",
      "141:\tlearn: 0.9119639\ttotal: 196ms\tremaining: 11.1ms\n",
      "142:\tlearn: 0.9108352\ttotal: 197ms\tremaining: 9.66ms\n",
      "143:\tlearn: 0.9119639\ttotal: 198ms\tremaining: 8.27ms\n",
      "144:\tlearn: 0.9142212\ttotal: 200ms\tremaining: 6.88ms\n",
      "145:\tlearn: 0.9142212\ttotal: 201ms\tremaining: 5.5ms\n",
      "146:\tlearn: 0.9153499\ttotal: 202ms\tremaining: 4.12ms\n",
      "147:\tlearn: 0.9142212\ttotal: 203ms\tremaining: 2.75ms\n",
      "148:\tlearn: 0.9153499\ttotal: 205ms\tremaining: 1.37ms\n",
      "149:\tlearn: 0.9153499\ttotal: 206ms\tremaining: 0us\n",
      "0:\tlearn: 0.8408578\ttotal: 1.33ms\tremaining: 199ms\n",
      "1:\tlearn: 0.8453725\ttotal: 2.53ms\tremaining: 187ms\n",
      "2:\tlearn: 0.8679458\ttotal: 3.61ms\tremaining: 177ms\n",
      "3:\tlearn: 0.8600451\ttotal: 4.65ms\tremaining: 170ms\n",
      "4:\tlearn: 0.8634312\ttotal: 5.69ms\tremaining: 165ms\n",
      "5:\tlearn: 0.8690745\ttotal: 6.76ms\tremaining: 162ms\n",
      "6:\tlearn: 0.8713318\ttotal: 7.82ms\tremaining: 160ms\n",
      "7:\tlearn: 0.8724605\ttotal: 8.88ms\tremaining: 158ms\n",
      "8:\tlearn: 0.8645598\ttotal: 9.95ms\tremaining: 156ms\n",
      "9:\tlearn: 0.8623025\ttotal: 11ms\tremaining: 154ms\n",
      "10:\tlearn: 0.8645598\ttotal: 12.1ms\tremaining: 153ms\n",
      "11:\tlearn: 0.8702032\ttotal: 13.1ms\tremaining: 151ms\n",
      "12:\tlearn: 0.8702032\ttotal: 14.2ms\tremaining: 149ms\n",
      "13:\tlearn: 0.8758465\ttotal: 15.4ms\tremaining: 149ms\n",
      "14:\tlearn: 0.8769752\ttotal: 16.6ms\tremaining: 149ms\n",
      "15:\tlearn: 0.8781038\ttotal: 17.6ms\tremaining: 148ms\n",
      "16:\tlearn: 0.8803612\ttotal: 18.7ms\tremaining: 146ms\n",
      "17:\tlearn: 0.8792325\ttotal: 19.7ms\tremaining: 145ms\n",
      "18:\tlearn: 0.8769752\ttotal: 20.9ms\tremaining: 144ms\n",
      "19:\tlearn: 0.8758465\ttotal: 22ms\tremaining: 143ms\n",
      "20:\tlearn: 0.8769752\ttotal: 23ms\tremaining: 141ms\n",
      "21:\tlearn: 0.8792325\ttotal: 24ms\tremaining: 140ms\n",
      "22:\tlearn: 0.8814898\ttotal: 25.1ms\tremaining: 139ms\n",
      "23:\tlearn: 0.8826185\ttotal: 26.2ms\tremaining: 137ms\n",
      "24:\tlearn: 0.8837472\ttotal: 27.2ms\tremaining: 136ms\n",
      "25:\tlearn: 0.8837472\ttotal: 28.2ms\tremaining: 135ms\n",
      "26:\tlearn: 0.8837472\ttotal: 29.3ms\tremaining: 133ms\n",
      "27:\tlearn: 0.8826185\ttotal: 30.3ms\tremaining: 132ms\n",
      "28:\tlearn: 0.8814898\ttotal: 31.4ms\tremaining: 131ms\n",
      "29:\tlearn: 0.8848758\ttotal: 32.4ms\tremaining: 130ms\n",
      "30:\tlearn: 0.8848758\ttotal: 33.4ms\tremaining: 128ms\n",
      "31:\tlearn: 0.8882619\ttotal: 34.5ms\tremaining: 127ms\n",
      "32:\tlearn: 0.8905192\ttotal: 35.6ms\tremaining: 126ms\n",
      "33:\tlearn: 0.8905192\ttotal: 36.6ms\tremaining: 125ms\n",
      "34:\tlearn: 0.8916479\ttotal: 37.6ms\tremaining: 124ms\n",
      "35:\tlearn: 0.8905192\ttotal: 38.6ms\tremaining: 122ms\n",
      "36:\tlearn: 0.8927765\ttotal: 39.7ms\tremaining: 121ms\n",
      "37:\tlearn: 0.8950339\ttotal: 40.7ms\tremaining: 120ms\n",
      "38:\tlearn: 0.8927765\ttotal: 41.9ms\tremaining: 119ms\n",
      "39:\tlearn: 0.8927765\ttotal: 42.9ms\tremaining: 118ms\n",
      "40:\tlearn: 0.8961625\ttotal: 44.1ms\tremaining: 117ms\n",
      "41:\tlearn: 0.8950339\ttotal: 45.3ms\tremaining: 117ms\n",
      "42:\tlearn: 0.8984199\ttotal: 46.5ms\tremaining: 116ms\n",
      "43:\tlearn: 0.8972912\ttotal: 47.6ms\tremaining: 115ms\n",
      "44:\tlearn: 0.8995485\ttotal: 48.7ms\tremaining: 114ms\n",
      "45:\tlearn: 0.8995485\ttotal: 49.8ms\tremaining: 113ms\n",
      "46:\tlearn: 0.9006772\ttotal: 50.9ms\tremaining: 111ms\n",
      "47:\tlearn: 0.9051919\ttotal: 51.9ms\tremaining: 110ms\n",
      "48:\tlearn: 0.9051919\ttotal: 52.9ms\tremaining: 109ms\n",
      "49:\tlearn: 0.9051919\ttotal: 54.1ms\tremaining: 108ms\n",
      "50:\tlearn: 0.9063205\ttotal: 55.5ms\tremaining: 108ms\n",
      "51:\tlearn: 0.9085779\ttotal: 56.7ms\tremaining: 107ms\n",
      "52:\tlearn: 0.9085779\ttotal: 57.7ms\tremaining: 106ms\n",
      "53:\tlearn: 0.9074492\ttotal: 58.8ms\tremaining: 104ms\n",
      "54:\tlearn: 0.9074492\ttotal: 59.8ms\tremaining: 103ms\n",
      "55:\tlearn: 0.9085779\ttotal: 60.8ms\tremaining: 102ms\n",
      "56:\tlearn: 0.9085779\ttotal: 62ms\tremaining: 101ms\n",
      "57:\tlearn: 0.9085779\ttotal: 63.1ms\tremaining: 100ms\n",
      "58:\tlearn: 0.9085779\ttotal: 64.1ms\tremaining: 98.8ms\n",
      "59:\tlearn: 0.9097065\ttotal: 65.1ms\tremaining: 97.6ms\n",
      "60:\tlearn: 0.9097065\ttotal: 66.1ms\tremaining: 96.4ms\n",
      "61:\tlearn: 0.9097065\ttotal: 67.1ms\tremaining: 95.2ms\n",
      "62:\tlearn: 0.9085779\ttotal: 68.1ms\tremaining: 94ms\n",
      "63:\tlearn: 0.9085779\ttotal: 69.1ms\tremaining: 92.9ms\n",
      "64:\tlearn: 0.9085779\ttotal: 70.2ms\tremaining: 91.8ms\n",
      "65:\tlearn: 0.9085779\ttotal: 71.2ms\tremaining: 90.6ms\n",
      "66:\tlearn: 0.9085779\ttotal: 72.2ms\tremaining: 89.5ms\n",
      "67:\tlearn: 0.9085779\ttotal: 73.3ms\tremaining: 88.3ms\n",
      "68:\tlearn: 0.9085779\ttotal: 74.3ms\tremaining: 87.2ms\n",
      "69:\tlearn: 0.9085779\ttotal: 75.3ms\tremaining: 86ms\n",
      "70:\tlearn: 0.9085779\ttotal: 76.6ms\tremaining: 85.2ms\n",
      "71:\tlearn: 0.9085779\ttotal: 77.8ms\tremaining: 84.3ms\n",
      "72:\tlearn: 0.9085779\ttotal: 79.1ms\tremaining: 83.4ms\n",
      "73:\tlearn: 0.9085779\ttotal: 80.7ms\tremaining: 82.9ms\n",
      "74:\tlearn: 0.9097065\ttotal: 81.9ms\tremaining: 81.9ms\n",
      "75:\tlearn: 0.9097065\ttotal: 83ms\tremaining: 80.8ms\n",
      "76:\tlearn: 0.9097065\ttotal: 84.1ms\tremaining: 79.8ms\n",
      "77:\tlearn: 0.9097065\ttotal: 85.3ms\tremaining: 78.7ms\n",
      "78:\tlearn: 0.9097065\ttotal: 86.3ms\tremaining: 77.5ms\n",
      "79:\tlearn: 0.9097065\ttotal: 87.3ms\tremaining: 76.4ms\n",
      "80:\tlearn: 0.9097065\ttotal: 88.3ms\tremaining: 75.2ms\n",
      "81:\tlearn: 0.9130926\ttotal: 89.4ms\tremaining: 74.1ms\n",
      "82:\tlearn: 0.9130926\ttotal: 90.3ms\tremaining: 72.9ms\n",
      "83:\tlearn: 0.9130926\ttotal: 91.4ms\tremaining: 71.8ms\n",
      "84:\tlearn: 0.9130926\ttotal: 92.4ms\tremaining: 70.6ms\n",
      "85:\tlearn: 0.9130926\ttotal: 93.6ms\tremaining: 69.6ms\n",
      "86:\tlearn: 0.9130926\ttotal: 94.7ms\tremaining: 68.5ms\n",
      "87:\tlearn: 0.9130926\ttotal: 95.7ms\tremaining: 67.4ms\n",
      "88:\tlearn: 0.9130926\ttotal: 96.7ms\tremaining: 66.3ms\n",
      "89:\tlearn: 0.9130926\ttotal: 97.7ms\tremaining: 65.1ms\n",
      "90:\tlearn: 0.9130926\ttotal: 98.7ms\tremaining: 64ms\n",
      "91:\tlearn: 0.9119639\ttotal: 99.8ms\tremaining: 62.9ms\n",
      "92:\tlearn: 0.9119639\ttotal: 101ms\tremaining: 61.8ms\n",
      "93:\tlearn: 0.9119639\ttotal: 102ms\tremaining: 60.6ms\n",
      "94:\tlearn: 0.9119639\ttotal: 103ms\tremaining: 59.7ms\n",
      "95:\tlearn: 0.9119639\ttotal: 104ms\tremaining: 58.8ms\n",
      "96:\tlearn: 0.9119639\ttotal: 106ms\tremaining: 57.7ms\n",
      "97:\tlearn: 0.9119639\ttotal: 107ms\tremaining: 56.6ms\n",
      "98:\tlearn: 0.9130926\ttotal: 108ms\tremaining: 55.6ms\n",
      "99:\tlearn: 0.9130926\ttotal: 109ms\tremaining: 54.5ms\n",
      "100:\tlearn: 0.9142212\ttotal: 110ms\tremaining: 53.5ms\n",
      "101:\tlearn: 0.9130926\ttotal: 111ms\tremaining: 52.5ms\n",
      "102:\tlearn: 0.9130926\ttotal: 113ms\tremaining: 51.4ms\n",
      "103:\tlearn: 0.9130926\ttotal: 114ms\tremaining: 50.3ms\n",
      "104:\tlearn: 0.9130926\ttotal: 115ms\tremaining: 49.2ms\n",
      "105:\tlearn: 0.9130926\ttotal: 116ms\tremaining: 48.1ms\n",
      "106:\tlearn: 0.9130926\ttotal: 117ms\tremaining: 47.1ms\n",
      "107:\tlearn: 0.9130926\ttotal: 119ms\tremaining: 46.1ms\n",
      "108:\tlearn: 0.9130926\ttotal: 120ms\tremaining: 45.1ms\n",
      "109:\tlearn: 0.9130926\ttotal: 121ms\tremaining: 44ms\n",
      "110:\tlearn: 0.9130926\ttotal: 122ms\tremaining: 42.9ms\n",
      "111:\tlearn: 0.9130926\ttotal: 123ms\tremaining: 41.8ms\n",
      "112:\tlearn: 0.9130926\ttotal: 124ms\tremaining: 40.7ms\n",
      "113:\tlearn: 0.9130926\ttotal: 125ms\tremaining: 39.6ms\n",
      "114:\tlearn: 0.9130926\ttotal: 127ms\tremaining: 38.5ms\n",
      "115:\tlearn: 0.9130926\ttotal: 128ms\tremaining: 37.6ms\n",
      "116:\tlearn: 0.9130926\ttotal: 130ms\tremaining: 36.6ms\n",
      "117:\tlearn: 0.9130926\ttotal: 132ms\tremaining: 35.8ms\n",
      "118:\tlearn: 0.9130926\ttotal: 133ms\tremaining: 34.7ms\n",
      "119:\tlearn: 0.9130926\ttotal: 134ms\tremaining: 33.6ms\n",
      "120:\tlearn: 0.9130926\ttotal: 136ms\tremaining: 32.5ms\n",
      "121:\tlearn: 0.9130926\ttotal: 137ms\tremaining: 31.4ms\n",
      "122:\tlearn: 0.9130926\ttotal: 138ms\tremaining: 30.2ms\n",
      "123:\tlearn: 0.9130926\ttotal: 139ms\tremaining: 29.1ms\n",
      "124:\tlearn: 0.9142212\ttotal: 140ms\tremaining: 28ms\n",
      "125:\tlearn: 0.9142212\ttotal: 141ms\tremaining: 27ms\n",
      "126:\tlearn: 0.9130926\ttotal: 143ms\tremaining: 25.9ms\n",
      "127:\tlearn: 0.9142212\ttotal: 144ms\tremaining: 24.8ms\n",
      "128:\tlearn: 0.9130926\ttotal: 145ms\tremaining: 23.6ms\n",
      "129:\tlearn: 0.9130926\ttotal: 147ms\tremaining: 22.5ms\n",
      "130:\tlearn: 0.9142212\ttotal: 148ms\tremaining: 21.4ms\n",
      "131:\tlearn: 0.9142212\ttotal: 149ms\tremaining: 20.3ms\n",
      "132:\tlearn: 0.9142212\ttotal: 150ms\tremaining: 19.2ms\n",
      "133:\tlearn: 0.9142212\ttotal: 152ms\tremaining: 18.1ms\n",
      "134:\tlearn: 0.9142212\ttotal: 153ms\tremaining: 17ms\n",
      "135:\tlearn: 0.9142212\ttotal: 154ms\tremaining: 15.9ms\n",
      "136:\tlearn: 0.9130926\ttotal: 155ms\tremaining: 14.7ms\n",
      "137:\tlearn: 0.9130926\ttotal: 156ms\tremaining: 13.6ms\n",
      "138:\tlearn: 0.9130926\ttotal: 157ms\tremaining: 12.5ms\n",
      "139:\tlearn: 0.9130926\ttotal: 158ms\tremaining: 11.3ms\n",
      "140:\tlearn: 0.9153499\ttotal: 160ms\tremaining: 10.2ms\n",
      "141:\tlearn: 0.9153499\ttotal: 161ms\tremaining: 9.05ms\n",
      "142:\tlearn: 0.9142212\ttotal: 162ms\tremaining: 7.92ms\n",
      "143:\tlearn: 0.9142212\ttotal: 163ms\tremaining: 6.79ms\n",
      "144:\tlearn: 0.9142212\ttotal: 164ms\tremaining: 5.66ms\n",
      "145:\tlearn: 0.9142212\ttotal: 165ms\tremaining: 4.53ms\n",
      "146:\tlearn: 0.9153499\ttotal: 166ms\tremaining: 3.39ms\n",
      "147:\tlearn: 0.9153499\ttotal: 167ms\tremaining: 2.26ms\n",
      "148:\tlearn: 0.9153499\ttotal: 168ms\tremaining: 1.13ms\n",
      "149:\tlearn: 0.9153499\ttotal: 169ms\tremaining: 0us\n",
      "0:\tlearn: 0.8365276\ttotal: 1.46ms\tremaining: 218ms\n",
      "1:\tlearn: 0.8421646\ttotal: 2.85ms\tremaining: 211ms\n",
      "2:\tlearn: 0.8579481\ttotal: 4.06ms\tremaining: 199ms\n",
      "3:\tlearn: 0.8568207\ttotal: 5.24ms\tremaining: 191ms\n",
      "4:\tlearn: 0.8568207\ttotal: 6.36ms\tremaining: 184ms\n",
      "5:\tlearn: 0.8647125\ttotal: 7.47ms\tremaining: 179ms\n",
      "6:\tlearn: 0.8680947\ttotal: 8.66ms\tremaining: 177ms\n",
      "7:\tlearn: 0.8602029\ttotal: 9.85ms\tremaining: 175ms\n",
      "8:\tlearn: 0.8556933\ttotal: 11.1ms\tremaining: 173ms\n",
      "9:\tlearn: 0.8624577\ttotal: 12.4ms\tremaining: 174ms\n",
      "10:\tlearn: 0.8669673\ttotal: 13.5ms\tremaining: 171ms\n",
      "11:\tlearn: 0.8669673\ttotal: 14.6ms\tremaining: 168ms\n",
      "12:\tlearn: 0.8680947\ttotal: 15.8ms\tremaining: 167ms\n",
      "13:\tlearn: 0.8703495\ttotal: 17ms\tremaining: 165ms\n",
      "14:\tlearn: 0.8714769\ttotal: 18.1ms\tremaining: 163ms\n",
      "15:\tlearn: 0.8714769\ttotal: 19.2ms\tremaining: 161ms\n",
      "16:\tlearn: 0.8737317\ttotal: 20.6ms\tremaining: 161ms\n",
      "17:\tlearn: 0.8714769\ttotal: 21.7ms\tremaining: 159ms\n",
      "18:\tlearn: 0.8782413\ttotal: 22.9ms\tremaining: 158ms\n",
      "19:\tlearn: 0.8771139\ttotal: 24ms\tremaining: 156ms\n",
      "20:\tlearn: 0.8827508\ttotal: 25.3ms\tremaining: 155ms\n",
      "21:\tlearn: 0.8804961\ttotal: 26.5ms\tremaining: 154ms\n",
      "22:\tlearn: 0.8850056\ttotal: 27.8ms\tremaining: 154ms\n",
      "23:\tlearn: 0.8816234\ttotal: 29.1ms\tremaining: 153ms\n",
      "24:\tlearn: 0.8850056\ttotal: 30.2ms\tremaining: 151ms\n",
      "25:\tlearn: 0.8861330\ttotal: 31.4ms\tremaining: 150ms\n",
      "26:\tlearn: 0.8861330\ttotal: 32.5ms\tremaining: 148ms\n",
      "27:\tlearn: 0.8861330\ttotal: 33.7ms\tremaining: 147ms\n",
      "28:\tlearn: 0.8906426\ttotal: 34.9ms\tremaining: 145ms\n",
      "29:\tlearn: 0.8861330\ttotal: 36ms\tremaining: 144ms\n",
      "30:\tlearn: 0.8850056\ttotal: 37.3ms\tremaining: 143ms\n",
      "31:\tlearn: 0.8872604\ttotal: 38.5ms\tremaining: 142ms\n",
      "32:\tlearn: 0.8883878\ttotal: 39.7ms\tremaining: 141ms\n",
      "33:\tlearn: 0.8917700\ttotal: 40.8ms\tremaining: 139ms\n",
      "34:\tlearn: 0.8906426\ttotal: 42ms\tremaining: 138ms\n",
      "35:\tlearn: 0.8895152\ttotal: 43.1ms\tremaining: 136ms\n",
      "36:\tlearn: 0.8895152\ttotal: 44.3ms\tremaining: 135ms\n",
      "37:\tlearn: 0.8917700\ttotal: 45.6ms\tremaining: 134ms\n",
      "38:\tlearn: 0.8917700\ttotal: 46.8ms\tremaining: 133ms\n",
      "39:\tlearn: 0.8917700\ttotal: 48ms\tremaining: 132ms\n",
      "40:\tlearn: 0.8928974\ttotal: 49.2ms\tremaining: 131ms\n",
      "41:\tlearn: 0.8917700\ttotal: 50.4ms\tremaining: 130ms\n",
      "42:\tlearn: 0.8917700\ttotal: 51.6ms\tremaining: 128ms\n",
      "43:\tlearn: 0.8928974\ttotal: 52.8ms\tremaining: 127ms\n",
      "44:\tlearn: 0.8940248\ttotal: 54ms\tremaining: 126ms\n",
      "45:\tlearn: 0.8940248\ttotal: 55.3ms\tremaining: 125ms\n",
      "46:\tlearn: 0.8962796\ttotal: 56.6ms\tremaining: 124ms\n",
      "47:\tlearn: 0.8985344\ttotal: 57.9ms\tremaining: 123ms\n",
      "48:\tlearn: 0.8974070\ttotal: 59ms\tremaining: 122ms\n",
      "49:\tlearn: 0.8996618\ttotal: 60.2ms\tremaining: 120ms\n",
      "50:\tlearn: 0.8985344\ttotal: 61.3ms\tremaining: 119ms\n",
      "51:\tlearn: 0.8974070\ttotal: 62.4ms\tremaining: 118ms\n",
      "52:\tlearn: 0.8996618\ttotal: 63.4ms\tremaining: 116ms\n",
      "53:\tlearn: 0.8985344\ttotal: 64.6ms\tremaining: 115ms\n",
      "54:\tlearn: 0.8985344\ttotal: 65.7ms\tremaining: 113ms\n",
      "55:\tlearn: 0.8974070\ttotal: 66.7ms\tremaining: 112ms\n",
      "56:\tlearn: 0.8996618\ttotal: 67.8ms\tremaining: 111ms\n",
      "57:\tlearn: 0.9007892\ttotal: 68.8ms\tremaining: 109ms\n",
      "58:\tlearn: 0.9030440\ttotal: 69.9ms\tremaining: 108ms\n",
      "59:\tlearn: 0.9030440\ttotal: 71.1ms\tremaining: 107ms\n",
      "60:\tlearn: 0.9041714\ttotal: 72.1ms\tremaining: 105ms\n",
      "61:\tlearn: 0.9030440\ttotal: 73.3ms\tremaining: 104ms\n",
      "62:\tlearn: 0.9041714\ttotal: 74.4ms\tremaining: 103ms\n",
      "63:\tlearn: 0.9064262\ttotal: 75.4ms\tremaining: 101ms\n",
      "64:\tlearn: 0.9075536\ttotal: 76.5ms\tremaining: 100ms\n",
      "65:\tlearn: 0.9052988\ttotal: 77.5ms\tremaining: 98.6ms\n",
      "66:\tlearn: 0.9064262\ttotal: 78.5ms\tremaining: 97.2ms\n",
      "67:\tlearn: 0.9064262\ttotal: 79.6ms\tremaining: 96ms\n",
      "68:\tlearn: 0.9075536\ttotal: 80.7ms\tremaining: 94.7ms\n",
      "69:\tlearn: 0.9075536\ttotal: 81.9ms\tremaining: 93.6ms\n",
      "70:\tlearn: 0.9098083\ttotal: 83ms\tremaining: 92.3ms\n",
      "71:\tlearn: 0.9086809\ttotal: 84ms\tremaining: 91ms\n",
      "72:\tlearn: 0.9098083\ttotal: 85.1ms\tremaining: 89.7ms\n",
      "73:\tlearn: 0.9086809\ttotal: 86.1ms\tremaining: 88.4ms\n",
      "74:\tlearn: 0.9075536\ttotal: 87.1ms\tremaining: 87.1ms\n",
      "75:\tlearn: 0.9086809\ttotal: 88.4ms\tremaining: 86.1ms\n",
      "76:\tlearn: 0.9086809\ttotal: 89.5ms\tremaining: 84.9ms\n",
      "77:\tlearn: 0.9086809\ttotal: 90.7ms\tremaining: 83.7ms\n",
      "78:\tlearn: 0.9086809\ttotal: 91.7ms\tremaining: 82.4ms\n",
      "79:\tlearn: 0.9086809\ttotal: 92.7ms\tremaining: 81.2ms\n",
      "80:\tlearn: 0.9086809\ttotal: 93.7ms\tremaining: 79.9ms\n",
      "81:\tlearn: 0.9086809\ttotal: 94.8ms\tremaining: 78.6ms\n",
      "82:\tlearn: 0.9086809\ttotal: 95.9ms\tremaining: 77.4ms\n",
      "83:\tlearn: 0.9086809\ttotal: 97.1ms\tremaining: 76.3ms\n",
      "84:\tlearn: 0.9098083\ttotal: 98.2ms\tremaining: 75.1ms\n",
      "85:\tlearn: 0.9098083\ttotal: 99.3ms\tremaining: 73.9ms\n",
      "86:\tlearn: 0.9075536\ttotal: 100ms\tremaining: 72.7ms\n",
      "87:\tlearn: 0.9075536\ttotal: 101ms\tremaining: 71.4ms\n",
      "88:\tlearn: 0.9075536\ttotal: 102ms\tremaining: 70.2ms\n",
      "89:\tlearn: 0.9120631\ttotal: 103ms\tremaining: 69ms\n",
      "90:\tlearn: 0.9120631\ttotal: 105ms\tremaining: 67.9ms\n",
      "91:\tlearn: 0.9109357\ttotal: 106ms\tremaining: 66.7ms\n",
      "92:\tlearn: 0.9131905\ttotal: 107ms\tremaining: 65.5ms\n",
      "93:\tlearn: 0.9131905\ttotal: 108ms\tremaining: 64.3ms\n",
      "94:\tlearn: 0.9131905\ttotal: 109ms\tremaining: 63.2ms\n",
      "95:\tlearn: 0.9120631\ttotal: 110ms\tremaining: 62ms\n",
      "96:\tlearn: 0.9131905\ttotal: 111ms\tremaining: 60.7ms\n",
      "97:\tlearn: 0.9131905\ttotal: 112ms\tremaining: 59.5ms\n",
      "98:\tlearn: 0.9131905\ttotal: 113ms\tremaining: 58.4ms\n",
      "99:\tlearn: 0.9131905\ttotal: 114ms\tremaining: 57.2ms\n",
      "100:\tlearn: 0.9131905\ttotal: 115ms\tremaining: 56ms\n",
      "101:\tlearn: 0.9120631\ttotal: 116ms\tremaining: 54.8ms\n",
      "102:\tlearn: 0.9143179\ttotal: 117ms\tremaining: 53.6ms\n",
      "103:\tlearn: 0.9143179\ttotal: 118ms\tremaining: 52.4ms\n",
      "104:\tlearn: 0.9143179\ttotal: 120ms\tremaining: 51.2ms\n",
      "105:\tlearn: 0.9143179\ttotal: 121ms\tremaining: 50.1ms\n",
      "106:\tlearn: 0.9143179\ttotal: 122ms\tremaining: 48.9ms\n",
      "107:\tlearn: 0.9143179\ttotal: 123ms\tremaining: 47.8ms\n",
      "108:\tlearn: 0.9131905\ttotal: 124ms\tremaining: 46.6ms\n",
      "109:\tlearn: 0.9143179\ttotal: 125ms\tremaining: 45.5ms\n",
      "110:\tlearn: 0.9131905\ttotal: 126ms\tremaining: 44.3ms\n",
      "111:\tlearn: 0.9131905\ttotal: 127ms\tremaining: 43.1ms\n",
      "112:\tlearn: 0.9131905\ttotal: 128ms\tremaining: 41.9ms\n",
      "113:\tlearn: 0.9143179\ttotal: 129ms\tremaining: 40.8ms\n",
      "114:\tlearn: 0.9131905\ttotal: 130ms\tremaining: 39.6ms\n",
      "115:\tlearn: 0.9131905\ttotal: 131ms\tremaining: 38.5ms\n",
      "116:\tlearn: 0.9131905\ttotal: 132ms\tremaining: 37.3ms\n",
      "117:\tlearn: 0.9120631\ttotal: 133ms\tremaining: 36.1ms\n",
      "118:\tlearn: 0.9120631\ttotal: 134ms\tremaining: 35ms\n",
      "119:\tlearn: 0.9120631\ttotal: 135ms\tremaining: 33.8ms\n",
      "120:\tlearn: 0.9120631\ttotal: 137ms\tremaining: 32.8ms\n",
      "121:\tlearn: 0.9120631\ttotal: 138ms\tremaining: 31.7ms\n",
      "122:\tlearn: 0.9120631\ttotal: 139ms\tremaining: 30.6ms\n",
      "123:\tlearn: 0.9131905\ttotal: 141ms\tremaining: 29.5ms\n",
      "124:\tlearn: 0.9131905\ttotal: 142ms\tremaining: 28.3ms\n",
      "125:\tlearn: 0.9143179\ttotal: 143ms\tremaining: 27.2ms\n",
      "126:\tlearn: 0.9143179\ttotal: 144ms\tremaining: 26ms\n",
      "127:\tlearn: 0.9143179\ttotal: 145ms\tremaining: 24.9ms\n",
      "128:\tlearn: 0.9154453\ttotal: 146ms\tremaining: 23.8ms\n",
      "129:\tlearn: 0.9154453\ttotal: 147ms\tremaining: 22.6ms\n",
      "130:\tlearn: 0.9154453\ttotal: 148ms\tremaining: 21.5ms\n",
      "131:\tlearn: 0.9154453\ttotal: 149ms\tremaining: 20.4ms\n",
      "132:\tlearn: 0.9154453\ttotal: 151ms\tremaining: 19.2ms\n",
      "133:\tlearn: 0.9154453\ttotal: 152ms\tremaining: 18.1ms\n",
      "134:\tlearn: 0.9154453\ttotal: 153ms\tremaining: 17ms\n",
      "135:\tlearn: 0.9154453\ttotal: 154ms\tremaining: 15.8ms\n",
      "136:\tlearn: 0.9154453\ttotal: 155ms\tremaining: 14.7ms\n",
      "137:\tlearn: 0.9154453\ttotal: 156ms\tremaining: 13.6ms\n",
      "138:\tlearn: 0.9154453\ttotal: 157ms\tremaining: 12.4ms\n",
      "139:\tlearn: 0.9154453\ttotal: 158ms\tremaining: 11.3ms\n",
      "140:\tlearn: 0.9154453\ttotal: 159ms\tremaining: 10.2ms\n",
      "141:\tlearn: 0.9165727\ttotal: 160ms\tremaining: 9.03ms\n",
      "142:\tlearn: 0.9177001\ttotal: 161ms\tremaining: 7.9ms\n",
      "143:\tlearn: 0.9177001\ttotal: 162ms\tremaining: 6.77ms\n",
      "144:\tlearn: 0.9165727\ttotal: 164ms\tremaining: 5.64ms\n",
      "145:\tlearn: 0.9165727\ttotal: 165ms\tremaining: 4.51ms\n",
      "146:\tlearn: 0.9154453\ttotal: 166ms\tremaining: 3.38ms\n",
      "147:\tlearn: 0.9154453\ttotal: 167ms\tremaining: 2.25ms\n",
      "148:\tlearn: 0.9177001\ttotal: 168ms\tremaining: 1.13ms\n",
      "149:\tlearn: 0.9177001\ttotal: 169ms\tremaining: 0us\n",
      "0:\tlearn: 0.8376550\ttotal: 1.55ms\tremaining: 231ms\n",
      "1:\tlearn: 0.8444194\ttotal: 2.94ms\tremaining: 218ms\n",
      "2:\tlearn: 0.8624577\ttotal: 4.17ms\tremaining: 204ms\n",
      "3:\tlearn: 0.8624577\ttotal: 5.32ms\tremaining: 194ms\n",
      "4:\tlearn: 0.8647125\ttotal: 6.5ms\tremaining: 189ms\n",
      "5:\tlearn: 0.8669673\ttotal: 7.72ms\tremaining: 185ms\n",
      "6:\tlearn: 0.8680947\ttotal: 8.84ms\tremaining: 181ms\n",
      "7:\tlearn: 0.8680947\ttotal: 9.95ms\tremaining: 177ms\n",
      "8:\tlearn: 0.8635851\ttotal: 11ms\tremaining: 173ms\n",
      "9:\tlearn: 0.8669673\ttotal: 12.2ms\tremaining: 171ms\n",
      "10:\tlearn: 0.8647125\ttotal: 13.3ms\tremaining: 169ms\n",
      "11:\tlearn: 0.8680947\ttotal: 14.5ms\tremaining: 166ms\n",
      "12:\tlearn: 0.8703495\ttotal: 15.6ms\tremaining: 164ms\n",
      "13:\tlearn: 0.8714769\ttotal: 16.8ms\tremaining: 163ms\n",
      "14:\tlearn: 0.8759865\ttotal: 17.9ms\tremaining: 161ms\n",
      "15:\tlearn: 0.8759865\ttotal: 19ms\tremaining: 159ms\n",
      "16:\tlearn: 0.8748591\ttotal: 20.1ms\tremaining: 157ms\n",
      "17:\tlearn: 0.8737317\ttotal: 21.2ms\tremaining: 156ms\n",
      "18:\tlearn: 0.8759865\ttotal: 22.4ms\tremaining: 154ms\n",
      "19:\tlearn: 0.8771139\ttotal: 23.6ms\tremaining: 153ms\n",
      "20:\tlearn: 0.8782413\ttotal: 24.7ms\tremaining: 151ms\n",
      "21:\tlearn: 0.8771139\ttotal: 25.8ms\tremaining: 150ms\n",
      "22:\tlearn: 0.8771139\ttotal: 26.9ms\tremaining: 149ms\n",
      "23:\tlearn: 0.8782413\ttotal: 28ms\tremaining: 147ms\n",
      "24:\tlearn: 0.8782413\ttotal: 29.6ms\tremaining: 148ms\n",
      "25:\tlearn: 0.8804961\ttotal: 30.8ms\tremaining: 147ms\n",
      "26:\tlearn: 0.8838782\ttotal: 31.9ms\tremaining: 145ms\n",
      "27:\tlearn: 0.8850056\ttotal: 33.1ms\tremaining: 144ms\n",
      "28:\tlearn: 0.8827508\ttotal: 34.4ms\tremaining: 144ms\n",
      "29:\tlearn: 0.8827508\ttotal: 35.6ms\tremaining: 142ms\n",
      "30:\tlearn: 0.8838782\ttotal: 36.7ms\tremaining: 141ms\n",
      "31:\tlearn: 0.8861330\ttotal: 37.9ms\tremaining: 140ms\n",
      "32:\tlearn: 0.8838782\ttotal: 39.1ms\tremaining: 139ms\n",
      "33:\tlearn: 0.8850056\ttotal: 40.3ms\tremaining: 137ms\n",
      "34:\tlearn: 0.8872604\ttotal: 41.6ms\tremaining: 137ms\n",
      "35:\tlearn: 0.8872604\ttotal: 42.9ms\tremaining: 136ms\n",
      "36:\tlearn: 0.8872604\ttotal: 44ms\tremaining: 134ms\n",
      "37:\tlearn: 0.8906426\ttotal: 45.2ms\tremaining: 133ms\n",
      "38:\tlearn: 0.8906426\ttotal: 46.5ms\tremaining: 132ms\n",
      "39:\tlearn: 0.8895152\ttotal: 47.6ms\tremaining: 131ms\n",
      "40:\tlearn: 0.8917700\ttotal: 48.8ms\tremaining: 130ms\n",
      "41:\tlearn: 0.8928974\ttotal: 50.2ms\tremaining: 129ms\n",
      "42:\tlearn: 0.8917700\ttotal: 51.4ms\tremaining: 128ms\n",
      "43:\tlearn: 0.8928974\ttotal: 52.6ms\tremaining: 127ms\n",
      "44:\tlearn: 0.8917700\ttotal: 53.7ms\tremaining: 125ms\n",
      "45:\tlearn: 0.8940248\ttotal: 54.9ms\tremaining: 124ms\n",
      "46:\tlearn: 0.8940248\ttotal: 56.1ms\tremaining: 123ms\n",
      "47:\tlearn: 0.8951522\ttotal: 57.2ms\tremaining: 122ms\n",
      "48:\tlearn: 0.8951522\ttotal: 58.5ms\tremaining: 121ms\n",
      "49:\tlearn: 0.8940248\ttotal: 59.6ms\tremaining: 119ms\n",
      "50:\tlearn: 0.8951522\ttotal: 60.7ms\tremaining: 118ms\n",
      "51:\tlearn: 0.8974070\ttotal: 61.9ms\tremaining: 117ms\n",
      "52:\tlearn: 0.8985344\ttotal: 63ms\tremaining: 115ms\n",
      "53:\tlearn: 0.8985344\ttotal: 64.3ms\tremaining: 114ms\n",
      "54:\tlearn: 0.8974070\ttotal: 65.3ms\tremaining: 113ms\n",
      "55:\tlearn: 0.8996618\ttotal: 66.4ms\tremaining: 111ms\n",
      "56:\tlearn: 0.9019166\ttotal: 67.6ms\tremaining: 110ms\n",
      "57:\tlearn: 0.9019166\ttotal: 68.3ms\tremaining: 108ms\n",
      "58:\tlearn: 0.9019166\ttotal: 69.3ms\tremaining: 107ms\n",
      "59:\tlearn: 0.9007892\ttotal: 70.3ms\tremaining: 105ms\n",
      "60:\tlearn: 0.9019166\ttotal: 71.4ms\tremaining: 104ms\n",
      "61:\tlearn: 0.9019166\ttotal: 72.5ms\tremaining: 103ms\n",
      "62:\tlearn: 0.9030440\ttotal: 73.6ms\tremaining: 102ms\n",
      "63:\tlearn: 0.9030440\ttotal: 74.6ms\tremaining: 100ms\n",
      "64:\tlearn: 0.9030440\ttotal: 75.8ms\tremaining: 99.2ms\n",
      "65:\tlearn: 0.9019166\ttotal: 76.9ms\tremaining: 97.9ms\n",
      "66:\tlearn: 0.9041714\ttotal: 77.9ms\tremaining: 96.5ms\n",
      "67:\tlearn: 0.9052988\ttotal: 79ms\tremaining: 95.2ms\n",
      "68:\tlearn: 0.9064262\ttotal: 80ms\tremaining: 93.9ms\n",
      "69:\tlearn: 0.9052988\ttotal: 81.1ms\tremaining: 92.7ms\n",
      "70:\tlearn: 0.9052988\ttotal: 82.3ms\tremaining: 91.5ms\n",
      "71:\tlearn: 0.9064262\ttotal: 83.3ms\tremaining: 90.3ms\n",
      "72:\tlearn: 0.9052988\ttotal: 84.4ms\tremaining: 89ms\n",
      "73:\tlearn: 0.9064262\ttotal: 85.4ms\tremaining: 87.7ms\n",
      "74:\tlearn: 0.9086809\ttotal: 86.4ms\tremaining: 86.4ms\n",
      "75:\tlearn: 0.9086809\ttotal: 87.5ms\tremaining: 85.2ms\n",
      "76:\tlearn: 0.9086809\ttotal: 88.5ms\tremaining: 83.9ms\n",
      "77:\tlearn: 0.9086809\ttotal: 89.6ms\tremaining: 82.7ms\n",
      "78:\tlearn: 0.9098083\ttotal: 90.8ms\tremaining: 81.6ms\n",
      "79:\tlearn: 0.9098083\ttotal: 91.9ms\tremaining: 80.4ms\n",
      "80:\tlearn: 0.9098083\ttotal: 93.1ms\tremaining: 79.3ms\n",
      "81:\tlearn: 0.9098083\ttotal: 94.2ms\tremaining: 78.1ms\n",
      "82:\tlearn: 0.9086809\ttotal: 95.2ms\tremaining: 76.9ms\n",
      "83:\tlearn: 0.9075536\ttotal: 96.3ms\tremaining: 75.7ms\n",
      "84:\tlearn: 0.9075536\ttotal: 97.1ms\tremaining: 74.3ms\n",
      "85:\tlearn: 0.9086809\ttotal: 98.3ms\tremaining: 73.1ms\n",
      "86:\tlearn: 0.9086809\ttotal: 99.3ms\tremaining: 71.9ms\n",
      "87:\tlearn: 0.9075536\ttotal: 100ms\tremaining: 70.7ms\n",
      "88:\tlearn: 0.9086809\ttotal: 101ms\tremaining: 69.5ms\n",
      "89:\tlearn: 0.9098083\ttotal: 103ms\tremaining: 68.4ms\n",
      "90:\tlearn: 0.9098083\ttotal: 104ms\tremaining: 67.2ms\n",
      "91:\tlearn: 0.9109357\ttotal: 105ms\tremaining: 65.9ms\n",
      "92:\tlearn: 0.9109357\ttotal: 106ms\tremaining: 64.7ms\n",
      "93:\tlearn: 0.9109357\ttotal: 107ms\tremaining: 63.5ms\n",
      "94:\tlearn: 0.9109357\ttotal: 108ms\tremaining: 62.3ms\n",
      "95:\tlearn: 0.9120631\ttotal: 109ms\tremaining: 61.1ms\n",
      "96:\tlearn: 0.9120631\ttotal: 110ms\tremaining: 60ms\n",
      "97:\tlearn: 0.9120631\ttotal: 111ms\tremaining: 58.8ms\n",
      "98:\tlearn: 0.9120631\ttotal: 112ms\tremaining: 57.6ms\n",
      "99:\tlearn: 0.9109357\ttotal: 113ms\tremaining: 56.4ms\n",
      "100:\tlearn: 0.9109357\ttotal: 114ms\tremaining: 55.2ms\n",
      "101:\tlearn: 0.9109357\ttotal: 115ms\tremaining: 54.1ms\n",
      "102:\tlearn: 0.9109357\ttotal: 116ms\tremaining: 52.9ms\n",
      "103:\tlearn: 0.9109357\ttotal: 117ms\tremaining: 51.7ms\n",
      "104:\tlearn: 0.9109357\ttotal: 118ms\tremaining: 50.6ms\n",
      "105:\tlearn: 0.9098083\ttotal: 119ms\tremaining: 49.5ms\n",
      "106:\tlearn: 0.9098083\ttotal: 121ms\tremaining: 48.6ms\n",
      "107:\tlearn: 0.9098083\ttotal: 122ms\tremaining: 47.5ms\n",
      "108:\tlearn: 0.9098083\ttotal: 123ms\tremaining: 46.3ms\n",
      "109:\tlearn: 0.9098083\ttotal: 124ms\tremaining: 45.2ms\n",
      "110:\tlearn: 0.9109357\ttotal: 125ms\tremaining: 44ms\n",
      "111:\tlearn: 0.9120631\ttotal: 126ms\tremaining: 42.9ms\n",
      "112:\tlearn: 0.9120631\ttotal: 127ms\tremaining: 41.7ms\n",
      "113:\tlearn: 0.9120631\ttotal: 128ms\tremaining: 40.6ms\n",
      "114:\tlearn: 0.9120631\ttotal: 129ms\tremaining: 39.4ms\n",
      "115:\tlearn: 0.9120631\ttotal: 131ms\tremaining: 38.3ms\n",
      "116:\tlearn: 0.9131905\ttotal: 132ms\tremaining: 37.1ms\n",
      "117:\tlearn: 0.9131905\ttotal: 133ms\tremaining: 36ms\n",
      "118:\tlearn: 0.9143179\ttotal: 134ms\tremaining: 34.8ms\n",
      "119:\tlearn: 0.9143179\ttotal: 135ms\tremaining: 33.7ms\n",
      "120:\tlearn: 0.9154453\ttotal: 136ms\tremaining: 32.5ms\n",
      "121:\tlearn: 0.9154453\ttotal: 137ms\tremaining: 31.4ms\n",
      "122:\tlearn: 0.9154453\ttotal: 138ms\tremaining: 30.2ms\n",
      "123:\tlearn: 0.9154453\ttotal: 139ms\tremaining: 29.1ms\n",
      "124:\tlearn: 0.9154453\ttotal: 140ms\tremaining: 28ms\n",
      "125:\tlearn: 0.9154453\ttotal: 141ms\tremaining: 26.8ms\n",
      "126:\tlearn: 0.9154453\ttotal: 143ms\tremaining: 25.8ms\n",
      "127:\tlearn: 0.9154453\ttotal: 144ms\tremaining: 24.7ms\n",
      "128:\tlearn: 0.9154453\ttotal: 145ms\tremaining: 23.6ms\n",
      "129:\tlearn: 0.9154453\ttotal: 146ms\tremaining: 22.4ms\n",
      "130:\tlearn: 0.9154453\ttotal: 147ms\tremaining: 21.3ms\n",
      "131:\tlearn: 0.9154453\ttotal: 148ms\tremaining: 20.2ms\n",
      "132:\tlearn: 0.9154453\ttotal: 149ms\tremaining: 19.1ms\n",
      "133:\tlearn: 0.9154453\ttotal: 150ms\tremaining: 18ms\n",
      "134:\tlearn: 0.9165727\ttotal: 152ms\tremaining: 16.8ms\n",
      "135:\tlearn: 0.9165727\ttotal: 153ms\tremaining: 15.7ms\n",
      "136:\tlearn: 0.9165727\ttotal: 154ms\tremaining: 14.6ms\n",
      "137:\tlearn: 0.9165727\ttotal: 155ms\tremaining: 13.5ms\n",
      "138:\tlearn: 0.9143179\ttotal: 156ms\tremaining: 12.4ms\n",
      "139:\tlearn: 0.9143179\ttotal: 157ms\tremaining: 11.2ms\n",
      "140:\tlearn: 0.9143179\ttotal: 158ms\tremaining: 10.1ms\n",
      "141:\tlearn: 0.9143179\ttotal: 160ms\tremaining: 8.99ms\n",
      "142:\tlearn: 0.9143179\ttotal: 161ms\tremaining: 7.89ms\n",
      "143:\tlearn: 0.9143179\ttotal: 163ms\tremaining: 6.77ms\n",
      "144:\tlearn: 0.9143179\ttotal: 164ms\tremaining: 5.64ms\n",
      "145:\tlearn: 0.9154453\ttotal: 165ms\tremaining: 4.52ms\n",
      "146:\tlearn: 0.9154453\ttotal: 166ms\tremaining: 3.39ms\n",
      "147:\tlearn: 0.9165727\ttotal: 167ms\tremaining: 2.26ms\n",
      "148:\tlearn: 0.9177001\ttotal: 168ms\tremaining: 1.13ms\n",
      "149:\tlearn: 0.9177001\ttotal: 170ms\tremaining: 0us\n",
      "0:\tlearn: 0.8376550\ttotal: 1.45ms\tremaining: 216ms\n",
      "1:\tlearn: 0.8432920\ttotal: 2.81ms\tremaining: 208ms\n",
      "2:\tlearn: 0.8635851\ttotal: 4.01ms\tremaining: 196ms\n",
      "3:\tlearn: 0.8613303\ttotal: 5.14ms\tremaining: 188ms\n",
      "4:\tlearn: 0.8624577\ttotal: 6.35ms\tremaining: 184ms\n",
      "5:\tlearn: 0.8613303\ttotal: 7.64ms\tremaining: 183ms\n",
      "6:\tlearn: 0.8590755\ttotal: 8.89ms\tremaining: 182ms\n",
      "7:\tlearn: 0.8647125\ttotal: 10ms\tremaining: 178ms\n",
      "8:\tlearn: 0.8635851\ttotal: 11.2ms\tremaining: 176ms\n",
      "9:\tlearn: 0.8635851\ttotal: 12.3ms\tremaining: 173ms\n",
      "10:\tlearn: 0.8680947\ttotal: 13.8ms\tremaining: 174ms\n",
      "11:\tlearn: 0.8703495\ttotal: 14.7ms\tremaining: 169ms\n",
      "12:\tlearn: 0.8737317\ttotal: 16.1ms\tremaining: 170ms\n",
      "13:\tlearn: 0.8737317\ttotal: 17.5ms\tremaining: 170ms\n",
      "14:\tlearn: 0.8759865\ttotal: 18.8ms\tremaining: 169ms\n",
      "15:\tlearn: 0.8714769\ttotal: 20ms\tremaining: 167ms\n",
      "16:\tlearn: 0.8748591\ttotal: 21.2ms\tremaining: 166ms\n",
      "17:\tlearn: 0.8748591\ttotal: 22.3ms\tremaining: 164ms\n",
      "18:\tlearn: 0.8737317\ttotal: 23.5ms\tremaining: 162ms\n",
      "19:\tlearn: 0.8737317\ttotal: 24.6ms\tremaining: 160ms\n",
      "20:\tlearn: 0.8748591\ttotal: 25.8ms\tremaining: 158ms\n",
      "21:\tlearn: 0.8748591\ttotal: 26.9ms\tremaining: 156ms\n",
      "22:\tlearn: 0.8782413\ttotal: 28ms\tremaining: 154ms\n",
      "23:\tlearn: 0.8759865\ttotal: 28.7ms\tremaining: 150ms\n",
      "24:\tlearn: 0.8804961\ttotal: 29.8ms\tremaining: 149ms\n",
      "25:\tlearn: 0.8816234\ttotal: 30.7ms\tremaining: 146ms\n",
      "26:\tlearn: 0.8816234\ttotal: 32.1ms\tremaining: 146ms\n",
      "27:\tlearn: 0.8827508\ttotal: 33.2ms\tremaining: 145ms\n",
      "28:\tlearn: 0.8816234\ttotal: 34.4ms\tremaining: 143ms\n",
      "29:\tlearn: 0.8850056\ttotal: 35.5ms\tremaining: 142ms\n",
      "30:\tlearn: 0.8827508\ttotal: 36.6ms\tremaining: 141ms\n",
      "31:\tlearn: 0.8861330\ttotal: 37.8ms\tremaining: 140ms\n",
      "32:\tlearn: 0.8883878\ttotal: 39ms\tremaining: 138ms\n",
      "33:\tlearn: 0.8872604\ttotal: 40.1ms\tremaining: 137ms\n",
      "34:\tlearn: 0.8850056\ttotal: 41.2ms\tremaining: 135ms\n",
      "35:\tlearn: 0.8872604\ttotal: 42.3ms\tremaining: 134ms\n",
      "36:\tlearn: 0.8850056\ttotal: 43.5ms\tremaining: 133ms\n",
      "37:\tlearn: 0.8872604\ttotal: 44.5ms\tremaining: 131ms\n",
      "38:\tlearn: 0.8850056\ttotal: 45.7ms\tremaining: 130ms\n",
      "39:\tlearn: 0.8883878\ttotal: 46.8ms\tremaining: 129ms\n",
      "40:\tlearn: 0.8883878\ttotal: 48ms\tremaining: 128ms\n",
      "41:\tlearn: 0.8895152\ttotal: 49.2ms\tremaining: 126ms\n",
      "42:\tlearn: 0.8895152\ttotal: 50.5ms\tremaining: 126ms\n",
      "43:\tlearn: 0.8906426\ttotal: 51.7ms\tremaining: 124ms\n",
      "44:\tlearn: 0.8906426\ttotal: 52.8ms\tremaining: 123ms\n",
      "45:\tlearn: 0.8906426\ttotal: 54ms\tremaining: 122ms\n",
      "46:\tlearn: 0.8906426\ttotal: 55.2ms\tremaining: 121ms\n",
      "47:\tlearn: 0.8895152\ttotal: 56.7ms\tremaining: 120ms\n",
      "48:\tlearn: 0.8928974\ttotal: 57.8ms\tremaining: 119ms\n",
      "49:\tlearn: 0.8906426\ttotal: 59ms\tremaining: 118ms\n",
      "50:\tlearn: 0.8895152\ttotal: 60.1ms\tremaining: 117ms\n",
      "51:\tlearn: 0.8906426\ttotal: 61.4ms\tremaining: 116ms\n",
      "52:\tlearn: 0.8906426\ttotal: 62.7ms\tremaining: 115ms\n",
      "53:\tlearn: 0.8917700\ttotal: 64.1ms\tremaining: 114ms\n",
      "54:\tlearn: 0.8940248\ttotal: 65.4ms\tremaining: 113ms\n",
      "55:\tlearn: 0.8928974\ttotal: 66.6ms\tremaining: 112ms\n",
      "56:\tlearn: 0.8996618\ttotal: 67.9ms\tremaining: 111ms\n",
      "57:\tlearn: 0.9019166\ttotal: 69ms\tremaining: 109ms\n",
      "58:\tlearn: 0.9019166\ttotal: 70.2ms\tremaining: 108ms\n",
      "59:\tlearn: 0.9007892\ttotal: 71.3ms\tremaining: 107ms\n",
      "60:\tlearn: 0.9019166\ttotal: 72.6ms\tremaining: 106ms\n",
      "61:\tlearn: 0.9019166\ttotal: 73.9ms\tremaining: 105ms\n",
      "62:\tlearn: 0.9019166\ttotal: 75.1ms\tremaining: 104ms\n",
      "63:\tlearn: 0.8996618\ttotal: 76.6ms\tremaining: 103ms\n",
      "64:\tlearn: 0.9019166\ttotal: 78.1ms\tremaining: 102ms\n",
      "65:\tlearn: 0.9019166\ttotal: 79.2ms\tremaining: 101ms\n",
      "66:\tlearn: 0.9007892\ttotal: 80.3ms\tremaining: 99.5ms\n",
      "67:\tlearn: 0.9007892\ttotal: 81.3ms\tremaining: 98ms\n",
      "68:\tlearn: 0.9019166\ttotal: 82.5ms\tremaining: 96.8ms\n",
      "69:\tlearn: 0.9019166\ttotal: 83.7ms\tremaining: 95.6ms\n",
      "70:\tlearn: 0.9019166\ttotal: 84.7ms\tremaining: 94.3ms\n",
      "71:\tlearn: 0.9007892\ttotal: 85.8ms\tremaining: 92.9ms\n",
      "72:\tlearn: 0.9030440\ttotal: 86.8ms\tremaining: 91.6ms\n",
      "73:\tlearn: 0.9030440\ttotal: 87.8ms\tremaining: 90.2ms\n",
      "74:\tlearn: 0.9030440\ttotal: 88.8ms\tremaining: 88.8ms\n",
      "75:\tlearn: 0.9041714\ttotal: 89.9ms\tremaining: 87.5ms\n",
      "76:\tlearn: 0.9019166\ttotal: 90.9ms\tremaining: 86.2ms\n",
      "77:\tlearn: 0.9007892\ttotal: 92ms\tremaining: 84.9ms\n",
      "78:\tlearn: 0.9007892\ttotal: 93ms\tremaining: 83.6ms\n",
      "79:\tlearn: 0.9007892\ttotal: 94ms\tremaining: 82.3ms\n",
      "80:\tlearn: 0.9019166\ttotal: 95.1ms\tremaining: 81ms\n",
      "81:\tlearn: 0.9030440\ttotal: 96.1ms\tremaining: 79.7ms\n",
      "82:\tlearn: 0.9030440\ttotal: 97.2ms\tremaining: 78.4ms\n",
      "83:\tlearn: 0.9019166\ttotal: 98.2ms\tremaining: 77.2ms\n",
      "84:\tlearn: 0.9019166\ttotal: 99.2ms\tremaining: 75.9ms\n",
      "85:\tlearn: 0.9019166\ttotal: 100ms\tremaining: 74.6ms\n",
      "86:\tlearn: 0.9019166\ttotal: 101ms\tremaining: 73.2ms\n",
      "87:\tlearn: 0.9030440\ttotal: 102ms\tremaining: 71.9ms\n",
      "88:\tlearn: 0.9030440\ttotal: 103ms\tremaining: 70.7ms\n",
      "89:\tlearn: 0.9064262\ttotal: 104ms\tremaining: 69.5ms\n",
      "90:\tlearn: 0.9064262\ttotal: 105ms\tremaining: 68.3ms\n",
      "91:\tlearn: 0.9064262\ttotal: 106ms\tremaining: 67.1ms\n",
      "92:\tlearn: 0.9052988\ttotal: 108ms\tremaining: 65.9ms\n",
      "93:\tlearn: 0.9019166\ttotal: 109ms\tremaining: 64.7ms\n",
      "94:\tlearn: 0.9052988\ttotal: 110ms\tremaining: 63.6ms\n",
      "95:\tlearn: 0.9052988\ttotal: 111ms\tremaining: 62.3ms\n",
      "96:\tlearn: 0.9064262\ttotal: 112ms\tremaining: 61.1ms\n",
      "97:\tlearn: 0.9064262\ttotal: 113ms\tremaining: 60ms\n",
      "98:\tlearn: 0.9064262\ttotal: 114ms\tremaining: 58.8ms\n",
      "99:\tlearn: 0.9064262\ttotal: 115ms\tremaining: 57.6ms\n",
      "100:\tlearn: 0.9052988\ttotal: 116ms\tremaining: 56.4ms\n",
      "101:\tlearn: 0.9052988\ttotal: 117ms\tremaining: 55.2ms\n",
      "102:\tlearn: 0.9064262\ttotal: 118ms\tremaining: 54ms\n",
      "103:\tlearn: 0.9075536\ttotal: 119ms\tremaining: 52.8ms\n",
      "104:\tlearn: 0.9075536\ttotal: 120ms\tremaining: 51.6ms\n",
      "105:\tlearn: 0.9075536\ttotal: 121ms\tremaining: 50.4ms\n",
      "106:\tlearn: 0.9075536\ttotal: 122ms\tremaining: 49.2ms\n",
      "107:\tlearn: 0.9064262\ttotal: 124ms\tremaining: 48.3ms\n",
      "108:\tlearn: 0.9075536\ttotal: 126ms\tremaining: 47.3ms\n",
      "109:\tlearn: 0.9075536\ttotal: 127ms\tremaining: 46.1ms\n",
      "110:\tlearn: 0.9075536\ttotal: 128ms\tremaining: 44.9ms\n",
      "111:\tlearn: 0.9075536\ttotal: 129ms\tremaining: 43.7ms\n",
      "112:\tlearn: 0.9086809\ttotal: 138ms\tremaining: 45.2ms\n",
      "113:\tlearn: 0.9098083\ttotal: 139ms\tremaining: 44ms\n",
      "114:\tlearn: 0.9098083\ttotal: 141ms\tremaining: 42.8ms\n",
      "115:\tlearn: 0.9098083\ttotal: 142ms\tremaining: 41.6ms\n",
      "116:\tlearn: 0.9086809\ttotal: 143ms\tremaining: 40.3ms\n",
      "117:\tlearn: 0.9086809\ttotal: 144ms\tremaining: 39.1ms\n",
      "118:\tlearn: 0.9086809\ttotal: 145ms\tremaining: 37.8ms\n",
      "119:\tlearn: 0.9086809\ttotal: 146ms\tremaining: 36.6ms\n",
      "120:\tlearn: 0.9086809\ttotal: 147ms\tremaining: 35.3ms\n",
      "121:\tlearn: 0.9120631\ttotal: 148ms\tremaining: 34.1ms\n",
      "122:\tlearn: 0.9120631\ttotal: 150ms\tremaining: 32.8ms\n",
      "123:\tlearn: 0.9120631\ttotal: 151ms\tremaining: 31.6ms\n",
      "124:\tlearn: 0.9098083\ttotal: 152ms\tremaining: 30.3ms\n",
      "125:\tlearn: 0.9098083\ttotal: 153ms\tremaining: 29.1ms\n",
      "126:\tlearn: 0.9086809\ttotal: 154ms\tremaining: 27.9ms\n",
      "127:\tlearn: 0.9086809\ttotal: 155ms\tremaining: 26.7ms\n",
      "128:\tlearn: 0.9120631\ttotal: 156ms\tremaining: 25.5ms\n",
      "129:\tlearn: 0.9131905\ttotal: 158ms\tremaining: 24.3ms\n",
      "130:\tlearn: 0.9109357\ttotal: 159ms\tremaining: 23ms\n",
      "131:\tlearn: 0.9109357\ttotal: 160ms\tremaining: 21.8ms\n",
      "132:\tlearn: 0.9109357\ttotal: 161ms\tremaining: 20.6ms\n",
      "133:\tlearn: 0.9109357\ttotal: 162ms\tremaining: 19.4ms\n",
      "134:\tlearn: 0.9109357\ttotal: 163ms\tremaining: 18.1ms\n",
      "135:\tlearn: 0.9120631\ttotal: 164ms\tremaining: 16.9ms\n",
      "136:\tlearn: 0.9143179\ttotal: 165ms\tremaining: 15.7ms\n",
      "137:\tlearn: 0.9143179\ttotal: 166ms\tremaining: 14.5ms\n",
      "138:\tlearn: 0.9154453\ttotal: 168ms\tremaining: 13.3ms\n",
      "139:\tlearn: 0.9154453\ttotal: 169ms\tremaining: 12.1ms\n",
      "140:\tlearn: 0.9154453\ttotal: 170ms\tremaining: 10.8ms\n",
      "141:\tlearn: 0.9154453\ttotal: 171ms\tremaining: 9.63ms\n",
      "142:\tlearn: 0.9165727\ttotal: 172ms\tremaining: 8.42ms\n",
      "143:\tlearn: 0.9165727\ttotal: 173ms\tremaining: 7.21ms\n",
      "144:\tlearn: 0.9154453\ttotal: 174ms\tremaining: 6ms\n",
      "145:\tlearn: 0.9154453\ttotal: 175ms\tremaining: 4.8ms\n",
      "146:\tlearn: 0.9154453\ttotal: 176ms\tremaining: 3.6ms\n",
      "147:\tlearn: 0.9131905\ttotal: 177ms\tremaining: 2.4ms\n",
      "148:\tlearn: 0.9143179\ttotal: 178ms\tremaining: 1.2ms\n",
      "149:\tlearn: 0.9143179\ttotal: 180ms\tremaining: 0us\n",
      "0:\tlearn: 0.8455468\ttotal: 1.47ms\tremaining: 219ms\n",
      "1:\tlearn: 0.8511838\ttotal: 2.76ms\tremaining: 204ms\n",
      "2:\tlearn: 0.8680947\ttotal: 3.97ms\tremaining: 194ms\n",
      "3:\tlearn: 0.8748591\ttotal: 5.16ms\tremaining: 188ms\n",
      "4:\tlearn: 0.8759865\ttotal: 6.31ms\tremaining: 183ms\n",
      "5:\tlearn: 0.8748591\ttotal: 7.47ms\tremaining: 179ms\n",
      "6:\tlearn: 0.8714769\ttotal: 8.58ms\tremaining: 175ms\n",
      "7:\tlearn: 0.8669673\ttotal: 9.68ms\tremaining: 172ms\n",
      "8:\tlearn: 0.8669673\ttotal: 10.8ms\tremaining: 170ms\n",
      "9:\tlearn: 0.8703495\ttotal: 11.9ms\tremaining: 167ms\n",
      "10:\tlearn: 0.8726043\ttotal: 13.1ms\tremaining: 165ms\n",
      "11:\tlearn: 0.8759865\ttotal: 14ms\tremaining: 161ms\n",
      "12:\tlearn: 0.8748591\ttotal: 15.2ms\tremaining: 160ms\n",
      "13:\tlearn: 0.8771139\ttotal: 16.3ms\tremaining: 158ms\n",
      "14:\tlearn: 0.8782413\ttotal: 17.5ms\tremaining: 157ms\n",
      "15:\tlearn: 0.8771139\ttotal: 18.6ms\tremaining: 156ms\n",
      "16:\tlearn: 0.8804961\ttotal: 19.7ms\tremaining: 154ms\n",
      "17:\tlearn: 0.8816234\ttotal: 20.9ms\tremaining: 153ms\n",
      "18:\tlearn: 0.8872604\ttotal: 22ms\tremaining: 152ms\n",
      "19:\tlearn: 0.8838782\ttotal: 23.2ms\tremaining: 151ms\n",
      "20:\tlearn: 0.8895152\ttotal: 24.5ms\tremaining: 150ms\n",
      "21:\tlearn: 0.8895152\ttotal: 25.6ms\tremaining: 149ms\n",
      "22:\tlearn: 0.8895152\ttotal: 26.7ms\tremaining: 148ms\n",
      "23:\tlearn: 0.8883878\ttotal: 27.5ms\tremaining: 145ms\n",
      "24:\tlearn: 0.8872604\ttotal: 28.7ms\tremaining: 144ms\n",
      "25:\tlearn: 0.8872604\ttotal: 29.8ms\tremaining: 142ms\n",
      "26:\tlearn: 0.8928974\ttotal: 31.2ms\tremaining: 142ms\n",
      "27:\tlearn: 0.8940248\ttotal: 32.5ms\tremaining: 142ms\n",
      "28:\tlearn: 0.8951522\ttotal: 33.7ms\tremaining: 141ms\n",
      "29:\tlearn: 0.8962796\ttotal: 35.2ms\tremaining: 141ms\n",
      "30:\tlearn: 0.8962796\ttotal: 36.4ms\tremaining: 140ms\n",
      "31:\tlearn: 0.8974070\ttotal: 37.7ms\tremaining: 139ms\n",
      "32:\tlearn: 0.8940248\ttotal: 38.9ms\tremaining: 138ms\n",
      "33:\tlearn: 0.8962796\ttotal: 40ms\tremaining: 137ms\n",
      "34:\tlearn: 0.8951522\ttotal: 41.2ms\tremaining: 135ms\n",
      "35:\tlearn: 0.8962796\ttotal: 42.4ms\tremaining: 134ms\n",
      "36:\tlearn: 0.8962796\ttotal: 43.5ms\tremaining: 133ms\n",
      "37:\tlearn: 0.8962796\ttotal: 44.6ms\tremaining: 132ms\n",
      "38:\tlearn: 0.8962796\ttotal: 45.8ms\tremaining: 130ms\n",
      "39:\tlearn: 0.8974070\ttotal: 46.9ms\tremaining: 129ms\n",
      "40:\tlearn: 0.8962796\ttotal: 48.3ms\tremaining: 128ms\n",
      "41:\tlearn: 0.8962796\ttotal: 49.7ms\tremaining: 128ms\n",
      "42:\tlearn: 0.8974070\ttotal: 51.1ms\tremaining: 127ms\n",
      "43:\tlearn: 0.9007892\ttotal: 52.6ms\tremaining: 127ms\n",
      "44:\tlearn: 0.8962796\ttotal: 53.8ms\tremaining: 125ms\n",
      "45:\tlearn: 0.8996618\ttotal: 55ms\tremaining: 124ms\n",
      "46:\tlearn: 0.8996618\ttotal: 56.2ms\tremaining: 123ms\n",
      "47:\tlearn: 0.8996618\ttotal: 57.6ms\tremaining: 122ms\n",
      "48:\tlearn: 0.9007892\ttotal: 58.8ms\tremaining: 121ms\n",
      "49:\tlearn: 0.9007892\ttotal: 60.1ms\tremaining: 120ms\n",
      "50:\tlearn: 0.9019166\ttotal: 61.3ms\tremaining: 119ms\n",
      "51:\tlearn: 0.9030440\ttotal: 62.4ms\tremaining: 118ms\n",
      "52:\tlearn: 0.9052988\ttotal: 63.6ms\tremaining: 116ms\n",
      "53:\tlearn: 0.9052988\ttotal: 65.1ms\tremaining: 116ms\n",
      "54:\tlearn: 0.9052988\ttotal: 66.5ms\tremaining: 115ms\n",
      "55:\tlearn: 0.9052988\ttotal: 67.7ms\tremaining: 114ms\n",
      "56:\tlearn: 0.9052988\ttotal: 68.8ms\tremaining: 112ms\n",
      "57:\tlearn: 0.9064262\ttotal: 70.3ms\tremaining: 112ms\n",
      "58:\tlearn: 0.9086809\ttotal: 71.5ms\tremaining: 110ms\n",
      "59:\tlearn: 0.9064262\ttotal: 72.7ms\tremaining: 109ms\n",
      "60:\tlearn: 0.9086809\ttotal: 74.5ms\tremaining: 109ms\n",
      "61:\tlearn: 0.9098083\ttotal: 75.9ms\tremaining: 108ms\n",
      "62:\tlearn: 0.9109357\ttotal: 77.1ms\tremaining: 106ms\n",
      "63:\tlearn: 0.9109357\ttotal: 78.3ms\tremaining: 105ms\n",
      "64:\tlearn: 0.9109357\ttotal: 79.5ms\tremaining: 104ms\n",
      "65:\tlearn: 0.9131905\ttotal: 80.6ms\tremaining: 103ms\n",
      "66:\tlearn: 0.9131905\ttotal: 81.8ms\tremaining: 101ms\n",
      "67:\tlearn: 0.9120631\ttotal: 82.9ms\tremaining: 99.9ms\n",
      "68:\tlearn: 0.9120631\ttotal: 84ms\tremaining: 98.6ms\n",
      "69:\tlearn: 0.9131905\ttotal: 85.2ms\tremaining: 97.4ms\n",
      "70:\tlearn: 0.9131905\ttotal: 86.6ms\tremaining: 96.4ms\n",
      "71:\tlearn: 0.9131905\ttotal: 87.9ms\tremaining: 95.2ms\n",
      "72:\tlearn: 0.9143179\ttotal: 89.3ms\tremaining: 94.2ms\n",
      "73:\tlearn: 0.9143179\ttotal: 90.7ms\tremaining: 93.1ms\n",
      "74:\tlearn: 0.9154453\ttotal: 92ms\tremaining: 92ms\n",
      "75:\tlearn: 0.9154453\ttotal: 93.1ms\tremaining: 90.6ms\n",
      "76:\tlearn: 0.9120631\ttotal: 94.2ms\tremaining: 89.3ms\n",
      "77:\tlearn: 0.9120631\ttotal: 95.4ms\tremaining: 88ms\n",
      "78:\tlearn: 0.9143179\ttotal: 96.5ms\tremaining: 86.8ms\n",
      "79:\tlearn: 0.9143179\ttotal: 97.6ms\tremaining: 85.4ms\n",
      "80:\tlearn: 0.9154453\ttotal: 98.9ms\tremaining: 84.3ms\n",
      "81:\tlearn: 0.9165727\ttotal: 100ms\tremaining: 82.9ms\n",
      "82:\tlearn: 0.9165727\ttotal: 101ms\tremaining: 81.5ms\n",
      "83:\tlearn: 0.9165727\ttotal: 102ms\tremaining: 80.2ms\n",
      "84:\tlearn: 0.9165727\ttotal: 103ms\tremaining: 78.8ms\n",
      "85:\tlearn: 0.9165727\ttotal: 104ms\tremaining: 77.6ms\n",
      "86:\tlearn: 0.9165727\ttotal: 105ms\tremaining: 76.3ms\n",
      "87:\tlearn: 0.9154453\ttotal: 106ms\tremaining: 74.9ms\n",
      "88:\tlearn: 0.9143179\ttotal: 107ms\tremaining: 73.6ms\n",
      "89:\tlearn: 0.9143179\ttotal: 108ms\tremaining: 72.3ms\n",
      "90:\tlearn: 0.9143179\ttotal: 109ms\tremaining: 70.9ms\n",
      "91:\tlearn: 0.9143179\ttotal: 110ms\tremaining: 69.6ms\n",
      "92:\tlearn: 0.9143179\ttotal: 111ms\tremaining: 68.3ms\n",
      "93:\tlearn: 0.9143179\ttotal: 113ms\tremaining: 67ms\n",
      "94:\tlearn: 0.9131905\ttotal: 114ms\tremaining: 65.8ms\n",
      "95:\tlearn: 0.9131905\ttotal: 115ms\tremaining: 64.5ms\n",
      "96:\tlearn: 0.9131905\ttotal: 116ms\tremaining: 63.2ms\n",
      "97:\tlearn: 0.9143179\ttotal: 117ms\tremaining: 62ms\n",
      "98:\tlearn: 0.9177001\ttotal: 118ms\tremaining: 60.7ms\n",
      "99:\tlearn: 0.9177001\ttotal: 119ms\tremaining: 59.4ms\n",
      "100:\tlearn: 0.9199549\ttotal: 120ms\tremaining: 58.1ms\n",
      "101:\tlearn: 0.9199549\ttotal: 121ms\tremaining: 56.9ms\n",
      "102:\tlearn: 0.9199549\ttotal: 122ms\tremaining: 55.7ms\n",
      "103:\tlearn: 0.9199549\ttotal: 123ms\tremaining: 54.5ms\n",
      "104:\tlearn: 0.9199549\ttotal: 124ms\tremaining: 53.3ms\n",
      "105:\tlearn: 0.9199549\ttotal: 126ms\tremaining: 52.4ms\n",
      "106:\tlearn: 0.9199549\ttotal: 128ms\tremaining: 51.2ms\n",
      "107:\tlearn: 0.9199549\ttotal: 129ms\tremaining: 50ms\n",
      "108:\tlearn: 0.9199549\ttotal: 130ms\tremaining: 48.8ms\n",
      "109:\tlearn: 0.9199549\ttotal: 131ms\tremaining: 47.6ms\n",
      "110:\tlearn: 0.9210823\ttotal: 132ms\tremaining: 46.4ms\n",
      "111:\tlearn: 0.9210823\ttotal: 133ms\tremaining: 45.1ms\n",
      "112:\tlearn: 0.9210823\ttotal: 134ms\tremaining: 43.9ms\n",
      "113:\tlearn: 0.9222097\ttotal: 135ms\tremaining: 42.7ms\n",
      "114:\tlearn: 0.9222097\ttotal: 136ms\tremaining: 41.5ms\n",
      "115:\tlearn: 0.9210823\ttotal: 137ms\tremaining: 40.3ms\n",
      "116:\tlearn: 0.9222097\ttotal: 139ms\tremaining: 39.1ms\n",
      "117:\tlearn: 0.9222097\ttotal: 140ms\tremaining: 37.9ms\n",
      "118:\tlearn: 0.9222097\ttotal: 141ms\tremaining: 36.7ms\n",
      "119:\tlearn: 0.9233371\ttotal: 142ms\tremaining: 35.5ms\n",
      "120:\tlearn: 0.9233371\ttotal: 143ms\tremaining: 34.4ms\n",
      "121:\tlearn: 0.9233371\ttotal: 144ms\tremaining: 33.1ms\n",
      "122:\tlearn: 0.9222097\ttotal: 146ms\tremaining: 31.9ms\n",
      "123:\tlearn: 0.9244645\ttotal: 147ms\tremaining: 30.8ms\n",
      "124:\tlearn: 0.9244645\ttotal: 148ms\tremaining: 29.6ms\n",
      "125:\tlearn: 0.9244645\ttotal: 149ms\tremaining: 28.4ms\n",
      "126:\tlearn: 0.9244645\ttotal: 150ms\tremaining: 27.2ms\n",
      "127:\tlearn: 0.9255919\ttotal: 151ms\tremaining: 26ms\n",
      "128:\tlearn: 0.9255919\ttotal: 152ms\tremaining: 24.8ms\n",
      "129:\tlearn: 0.9267193\ttotal: 154ms\tremaining: 23.6ms\n",
      "130:\tlearn: 0.9267193\ttotal: 155ms\tremaining: 22.4ms\n",
      "131:\tlearn: 0.9267193\ttotal: 156ms\tremaining: 21.2ms\n",
      "132:\tlearn: 0.9267193\ttotal: 157ms\tremaining: 20.1ms\n",
      "133:\tlearn: 0.9267193\ttotal: 158ms\tremaining: 18.9ms\n",
      "134:\tlearn: 0.9267193\ttotal: 159ms\tremaining: 17.7ms\n",
      "135:\tlearn: 0.9233371\ttotal: 160ms\tremaining: 16.5ms\n",
      "136:\tlearn: 0.9233371\ttotal: 161ms\tremaining: 15.3ms\n",
      "137:\tlearn: 0.9255919\ttotal: 162ms\tremaining: 14.1ms\n",
      "138:\tlearn: 0.9289741\ttotal: 164ms\tremaining: 12.9ms\n",
      "139:\tlearn: 0.9278467\ttotal: 165ms\tremaining: 11.8ms\n",
      "140:\tlearn: 0.9278467\ttotal: 166ms\tremaining: 10.6ms\n",
      "141:\tlearn: 0.9289741\ttotal: 167ms\tremaining: 9.41ms\n",
      "142:\tlearn: 0.9289741\ttotal: 168ms\tremaining: 8.23ms\n",
      "143:\tlearn: 0.9289741\ttotal: 169ms\tremaining: 7.05ms\n",
      "144:\tlearn: 0.9289741\ttotal: 170ms\tremaining: 5.87ms\n",
      "145:\tlearn: 0.9289741\ttotal: 171ms\tremaining: 4.69ms\n",
      "146:\tlearn: 0.9289741\ttotal: 172ms\tremaining: 3.52ms\n",
      "147:\tlearn: 0.9289741\ttotal: 173ms\tremaining: 2.34ms\n",
      "148:\tlearn: 0.9289741\ttotal: 175ms\tremaining: 1.17ms\n",
      "149:\tlearn: 0.9289741\ttotal: 176ms\tremaining: 0us\n",
      "0:\tlearn: 0.8511838\ttotal: 1.51ms\tremaining: 226ms\n",
      "1:\tlearn: 0.8466742\ttotal: 2.61ms\tremaining: 193ms\n",
      "2:\tlearn: 0.8579481\ttotal: 3.79ms\tremaining: 186ms\n",
      "3:\tlearn: 0.8602029\ttotal: 4.9ms\tremaining: 179ms\n",
      "4:\tlearn: 0.8590755\ttotal: 6ms\tremaining: 174ms\n",
      "5:\tlearn: 0.8635851\ttotal: 7.16ms\tremaining: 172ms\n",
      "6:\tlearn: 0.8669673\ttotal: 8.29ms\tremaining: 169ms\n",
      "7:\tlearn: 0.8669673\ttotal: 9.4ms\tremaining: 167ms\n",
      "8:\tlearn: 0.8669673\ttotal: 10.6ms\tremaining: 166ms\n",
      "9:\tlearn: 0.8680947\ttotal: 11.7ms\tremaining: 163ms\n",
      "10:\tlearn: 0.8748591\ttotal: 12.8ms\tremaining: 162ms\n",
      "11:\tlearn: 0.8759865\ttotal: 14ms\tremaining: 161ms\n",
      "12:\tlearn: 0.8748591\ttotal: 15.1ms\tremaining: 159ms\n",
      "13:\tlearn: 0.8737317\ttotal: 16.2ms\tremaining: 157ms\n",
      "14:\tlearn: 0.8771139\ttotal: 17.3ms\tremaining: 156ms\n",
      "15:\tlearn: 0.8793687\ttotal: 18.4ms\tremaining: 155ms\n",
      "16:\tlearn: 0.8804961\ttotal: 19.6ms\tremaining: 153ms\n",
      "17:\tlearn: 0.8793687\ttotal: 20.7ms\tremaining: 152ms\n",
      "18:\tlearn: 0.8838782\ttotal: 21.9ms\tremaining: 151ms\n",
      "19:\tlearn: 0.8827508\ttotal: 23ms\tremaining: 149ms\n",
      "20:\tlearn: 0.8850056\ttotal: 24.3ms\tremaining: 149ms\n",
      "21:\tlearn: 0.8883878\ttotal: 25.5ms\tremaining: 149ms\n",
      "22:\tlearn: 0.8917700\ttotal: 26.7ms\tremaining: 148ms\n",
      "23:\tlearn: 0.8883878\ttotal: 27.5ms\tremaining: 145ms\n",
      "24:\tlearn: 0.8895152\ttotal: 28.7ms\tremaining: 144ms\n",
      "25:\tlearn: 0.8872604\ttotal: 30.1ms\tremaining: 143ms\n",
      "26:\tlearn: 0.8906426\ttotal: 31.3ms\tremaining: 143ms\n",
      "27:\tlearn: 0.8872604\ttotal: 32ms\tremaining: 140ms\n",
      "28:\tlearn: 0.8895152\ttotal: 33.3ms\tremaining: 139ms\n",
      "29:\tlearn: 0.8940248\ttotal: 34.4ms\tremaining: 138ms\n",
      "30:\tlearn: 0.8917700\ttotal: 35.5ms\tremaining: 136ms\n",
      "31:\tlearn: 0.8951522\ttotal: 36.7ms\tremaining: 135ms\n",
      "32:\tlearn: 0.8974070\ttotal: 38.1ms\tremaining: 135ms\n",
      "33:\tlearn: 0.8928974\ttotal: 39.6ms\tremaining: 135ms\n",
      "34:\tlearn: 0.8940248\ttotal: 40.7ms\tremaining: 134ms\n",
      "35:\tlearn: 0.8940248\ttotal: 41.8ms\tremaining: 132ms\n",
      "36:\tlearn: 0.8928974\ttotal: 42.8ms\tremaining: 131ms\n",
      "37:\tlearn: 0.8962796\ttotal: 43.9ms\tremaining: 129ms\n",
      "38:\tlearn: 0.8974070\ttotal: 44.9ms\tremaining: 128ms\n",
      "39:\tlearn: 0.8985344\ttotal: 46.1ms\tremaining: 127ms\n",
      "40:\tlearn: 0.8996618\ttotal: 47.2ms\tremaining: 126ms\n",
      "41:\tlearn: 0.8996618\ttotal: 48.3ms\tremaining: 124ms\n",
      "42:\tlearn: 0.9019166\ttotal: 49.3ms\tremaining: 123ms\n",
      "43:\tlearn: 0.8985344\ttotal: 50.3ms\tremaining: 121ms\n",
      "44:\tlearn: 0.8974070\ttotal: 51.4ms\tremaining: 120ms\n",
      "45:\tlearn: 0.8974070\ttotal: 52.4ms\tremaining: 119ms\n",
      "46:\tlearn: 0.9019166\ttotal: 53.4ms\tremaining: 117ms\n",
      "47:\tlearn: 0.9007892\ttotal: 54.5ms\tremaining: 116ms\n",
      "48:\tlearn: 0.9019166\ttotal: 55.7ms\tremaining: 115ms\n",
      "49:\tlearn: 0.9041714\ttotal: 56.7ms\tremaining: 113ms\n",
      "50:\tlearn: 0.9052988\ttotal: 57.8ms\tremaining: 112ms\n",
      "51:\tlearn: 0.9064262\ttotal: 58.8ms\tremaining: 111ms\n",
      "52:\tlearn: 0.9064262\ttotal: 59.9ms\tremaining: 110ms\n",
      "53:\tlearn: 0.9064262\ttotal: 60.9ms\tremaining: 108ms\n",
      "54:\tlearn: 0.9075536\ttotal: 61.9ms\tremaining: 107ms\n",
      "55:\tlearn: 0.9098083\ttotal: 63ms\tremaining: 106ms\n",
      "56:\tlearn: 0.9109357\ttotal: 64ms\tremaining: 104ms\n",
      "57:\tlearn: 0.9109357\ttotal: 65.1ms\tremaining: 103ms\n",
      "58:\tlearn: 0.9109357\ttotal: 66.4ms\tremaining: 102ms\n",
      "59:\tlearn: 0.9109357\ttotal: 67.7ms\tremaining: 102ms\n",
      "60:\tlearn: 0.9109357\ttotal: 68.8ms\tremaining: 100ms\n",
      "61:\tlearn: 0.9109357\ttotal: 69.9ms\tremaining: 99.3ms\n",
      "62:\tlearn: 0.9120631\ttotal: 71.1ms\tremaining: 98.2ms\n",
      "63:\tlearn: 0.9131905\ttotal: 72.3ms\tremaining: 97.2ms\n",
      "64:\tlearn: 0.9120631\ttotal: 73.6ms\tremaining: 96.2ms\n",
      "65:\tlearn: 0.9120631\ttotal: 74.6ms\tremaining: 95ms\n",
      "66:\tlearn: 0.9120631\ttotal: 75.7ms\tremaining: 93.8ms\n",
      "67:\tlearn: 0.9120631\ttotal: 76.8ms\tremaining: 92.6ms\n",
      "68:\tlearn: 0.9131905\ttotal: 77.9ms\tremaining: 91.5ms\n",
      "69:\tlearn: 0.9120631\ttotal: 79.1ms\tremaining: 90.4ms\n",
      "70:\tlearn: 0.9165727\ttotal: 80.3ms\tremaining: 89.4ms\n",
      "71:\tlearn: 0.9165727\ttotal: 81ms\tremaining: 87.8ms\n",
      "72:\tlearn: 0.9165727\ttotal: 82.1ms\tremaining: 86.6ms\n",
      "73:\tlearn: 0.9165727\ttotal: 83.2ms\tremaining: 85.5ms\n",
      "74:\tlearn: 0.9177001\ttotal: 84.3ms\tremaining: 84.3ms\n",
      "75:\tlearn: 0.9177001\ttotal: 85.4ms\tremaining: 83.2ms\n",
      "76:\tlearn: 0.9177001\ttotal: 86.6ms\tremaining: 82.1ms\n",
      "77:\tlearn: 0.9165727\ttotal: 87.7ms\tremaining: 80.9ms\n",
      "78:\tlearn: 0.9165727\ttotal: 88.7ms\tremaining: 79.7ms\n",
      "79:\tlearn: 0.9165727\ttotal: 89.9ms\tremaining: 78.7ms\n",
      "80:\tlearn: 0.9165727\ttotal: 91ms\tremaining: 77.5ms\n",
      "81:\tlearn: 0.9165727\ttotal: 92.1ms\tremaining: 76.3ms\n",
      "82:\tlearn: 0.9165727\ttotal: 93.1ms\tremaining: 75.2ms\n",
      "83:\tlearn: 0.9165727\ttotal: 94.2ms\tremaining: 74ms\n",
      "84:\tlearn: 0.9165727\ttotal: 95.3ms\tremaining: 72.9ms\n",
      "85:\tlearn: 0.9165727\ttotal: 96.4ms\tremaining: 71.8ms\n",
      "86:\tlearn: 0.9165727\ttotal: 97.5ms\tremaining: 70.6ms\n",
      "87:\tlearn: 0.9165727\ttotal: 98.6ms\tremaining: 69.5ms\n",
      "88:\tlearn: 0.9165727\ttotal: 99.7ms\tremaining: 68.3ms\n",
      "89:\tlearn: 0.9177001\ttotal: 101ms\tremaining: 67.2ms\n",
      "90:\tlearn: 0.9177001\ttotal: 102ms\tremaining: 66.2ms\n",
      "91:\tlearn: 0.9177001\ttotal: 104ms\tremaining: 65.6ms\n",
      "92:\tlearn: 0.9177001\ttotal: 105ms\tremaining: 64.5ms\n",
      "93:\tlearn: 0.9177001\ttotal: 107ms\tremaining: 63.5ms\n",
      "94:\tlearn: 0.9177001\ttotal: 108ms\tremaining: 62.5ms\n",
      "95:\tlearn: 0.9177001\ttotal: 109ms\tremaining: 61.6ms\n",
      "96:\tlearn: 0.9177001\ttotal: 111ms\tremaining: 60.5ms\n",
      "97:\tlearn: 0.9177001\ttotal: 112ms\tremaining: 59.3ms\n",
      "98:\tlearn: 0.9177001\ttotal: 113ms\tremaining: 58.2ms\n",
      "99:\tlearn: 0.9188275\ttotal: 114ms\tremaining: 56.9ms\n",
      "100:\tlearn: 0.9188275\ttotal: 115ms\tremaining: 55.7ms\n",
      "101:\tlearn: 0.9188275\ttotal: 116ms\tremaining: 54.6ms\n",
      "102:\tlearn: 0.9165727\ttotal: 117ms\tremaining: 53.4ms\n",
      "103:\tlearn: 0.9165727\ttotal: 118ms\tremaining: 52.2ms\n",
      "104:\tlearn: 0.9177001\ttotal: 119ms\tremaining: 51ms\n",
      "105:\tlearn: 0.9177001\ttotal: 120ms\tremaining: 49.9ms\n",
      "106:\tlearn: 0.9177001\ttotal: 121ms\tremaining: 48.7ms\n",
      "107:\tlearn: 0.9177001\ttotal: 122ms\tremaining: 47.5ms\n",
      "108:\tlearn: 0.9177001\ttotal: 123ms\tremaining: 46.3ms\n",
      "109:\tlearn: 0.9188275\ttotal: 124ms\tremaining: 45.2ms\n",
      "110:\tlearn: 0.9188275\ttotal: 125ms\tremaining: 44ms\n",
      "111:\tlearn: 0.9188275\ttotal: 126ms\tremaining: 42.9ms\n",
      "112:\tlearn: 0.9188275\ttotal: 127ms\tremaining: 41.7ms\n",
      "113:\tlearn: 0.9177001\ttotal: 128ms\tremaining: 40.5ms\n",
      "114:\tlearn: 0.9177001\ttotal: 129ms\tremaining: 39.4ms\n",
      "115:\tlearn: 0.9165727\ttotal: 130ms\tremaining: 38.2ms\n",
      "116:\tlearn: 0.9165727\ttotal: 131ms\tremaining: 37.1ms\n",
      "117:\tlearn: 0.9165727\ttotal: 132ms\tremaining: 35.9ms\n",
      "118:\tlearn: 0.9165727\ttotal: 133ms\tremaining: 34.8ms\n",
      "119:\tlearn: 0.9165727\ttotal: 134ms\tremaining: 33.6ms\n",
      "120:\tlearn: 0.9165727\ttotal: 135ms\tremaining: 32.5ms\n",
      "121:\tlearn: 0.9165727\ttotal: 137ms\tremaining: 31.4ms\n",
      "122:\tlearn: 0.9177001\ttotal: 138ms\tremaining: 30.4ms\n",
      "123:\tlearn: 0.9177001\ttotal: 139ms\tremaining: 29.2ms\n",
      "124:\tlearn: 0.9188275\ttotal: 141ms\tremaining: 28.1ms\n",
      "125:\tlearn: 0.9177001\ttotal: 142ms\tremaining: 27ms\n",
      "126:\tlearn: 0.9177001\ttotal: 143ms\tremaining: 25.9ms\n",
      "127:\tlearn: 0.9177001\ttotal: 144ms\tremaining: 24.8ms\n",
      "128:\tlearn: 0.9177001\ttotal: 145ms\tremaining: 23.6ms\n",
      "129:\tlearn: 0.9188275\ttotal: 146ms\tremaining: 22.5ms\n",
      "130:\tlearn: 0.9177001\ttotal: 147ms\tremaining: 21.4ms\n",
      "131:\tlearn: 0.9177001\ttotal: 149ms\tremaining: 20.3ms\n",
      "132:\tlearn: 0.9177001\ttotal: 150ms\tremaining: 19.1ms\n",
      "133:\tlearn: 0.9177001\ttotal: 151ms\tremaining: 18ms\n",
      "134:\tlearn: 0.9177001\ttotal: 152ms\tremaining: 16.9ms\n",
      "135:\tlearn: 0.9177001\ttotal: 153ms\tremaining: 15.7ms\n",
      "136:\tlearn: 0.9177001\ttotal: 154ms\tremaining: 14.6ms\n",
      "137:\tlearn: 0.9177001\ttotal: 155ms\tremaining: 13.5ms\n",
      "138:\tlearn: 0.9177001\ttotal: 156ms\tremaining: 12.4ms\n",
      "139:\tlearn: 0.9165727\ttotal: 158ms\tremaining: 11.3ms\n",
      "140:\tlearn: 0.9177001\ttotal: 159ms\tremaining: 10.1ms\n",
      "141:\tlearn: 0.9177001\ttotal: 160ms\tremaining: 9ms\n",
      "142:\tlearn: 0.9177001\ttotal: 161ms\tremaining: 7.87ms\n",
      "143:\tlearn: 0.9177001\ttotal: 162ms\tremaining: 6.74ms\n",
      "144:\tlearn: 0.9177001\ttotal: 163ms\tremaining: 5.62ms\n",
      "145:\tlearn: 0.9177001\ttotal: 164ms\tremaining: 4.49ms\n",
      "146:\tlearn: 0.9177001\ttotal: 165ms\tremaining: 3.37ms\n",
      "147:\tlearn: 0.9177001\ttotal: 166ms\tremaining: 2.24ms\n",
      "148:\tlearn: 0.9177001\ttotal: 167ms\tremaining: 1.12ms\n",
      "149:\tlearn: 0.9165727\ttotal: 168ms\tremaining: 0us\n",
      "0:\tlearn: 0.8354002\ttotal: 1.41ms\tremaining: 211ms\n",
      "1:\tlearn: 0.8376550\ttotal: 2.8ms\tremaining: 207ms\n",
      "2:\tlearn: 0.8658399\ttotal: 3.96ms\tremaining: 194ms\n",
      "3:\tlearn: 0.8613303\ttotal: 5.14ms\tremaining: 188ms\n",
      "4:\tlearn: 0.8613303\ttotal: 6.3ms\tremaining: 183ms\n",
      "5:\tlearn: 0.8624577\ttotal: 7.42ms\tremaining: 178ms\n",
      "6:\tlearn: 0.8647125\ttotal: 8.51ms\tremaining: 174ms\n",
      "7:\tlearn: 0.8692221\ttotal: 9.63ms\tremaining: 171ms\n",
      "8:\tlearn: 0.8647125\ttotal: 10.8ms\tremaining: 170ms\n",
      "9:\tlearn: 0.8692221\ttotal: 12.1ms\tremaining: 169ms\n",
      "10:\tlearn: 0.8692221\ttotal: 13.3ms\tremaining: 168ms\n",
      "11:\tlearn: 0.8748591\ttotal: 14.5ms\tremaining: 167ms\n",
      "12:\tlearn: 0.8748591\ttotal: 15.8ms\tremaining: 167ms\n",
      "13:\tlearn: 0.8726043\ttotal: 17ms\tremaining: 165ms\n",
      "14:\tlearn: 0.8793687\ttotal: 18.3ms\tremaining: 165ms\n",
      "15:\tlearn: 0.8759865\ttotal: 19.9ms\tremaining: 166ms\n",
      "16:\tlearn: 0.8771139\ttotal: 21.3ms\tremaining: 167ms\n",
      "17:\tlearn: 0.8737317\ttotal: 22.5ms\tremaining: 165ms\n",
      "18:\tlearn: 0.8759865\ttotal: 23.9ms\tremaining: 165ms\n",
      "19:\tlearn: 0.8804961\ttotal: 25ms\tremaining: 163ms\n",
      "20:\tlearn: 0.8793687\ttotal: 25.9ms\tremaining: 159ms\n",
      "21:\tlearn: 0.8804961\ttotal: 27.2ms\tremaining: 158ms\n",
      "22:\tlearn: 0.8804961\ttotal: 28.4ms\tremaining: 157ms\n",
      "23:\tlearn: 0.8827508\ttotal: 29.5ms\tremaining: 155ms\n",
      "24:\tlearn: 0.8838782\ttotal: 30.8ms\tremaining: 154ms\n",
      "25:\tlearn: 0.8827508\ttotal: 32ms\tremaining: 153ms\n",
      "26:\tlearn: 0.8850056\ttotal: 33.1ms\tremaining: 151ms\n",
      "27:\tlearn: 0.8838782\ttotal: 34.2ms\tremaining: 149ms\n",
      "28:\tlearn: 0.8883878\ttotal: 35.4ms\tremaining: 148ms\n",
      "29:\tlearn: 0.8883878\ttotal: 36.5ms\tremaining: 146ms\n",
      "30:\tlearn: 0.8861330\ttotal: 37.7ms\tremaining: 145ms\n",
      "31:\tlearn: 0.8872604\ttotal: 38.9ms\tremaining: 143ms\n",
      "32:\tlearn: 0.8883878\ttotal: 40.2ms\tremaining: 143ms\n",
      "33:\tlearn: 0.8895152\ttotal: 41.6ms\tremaining: 142ms\n",
      "34:\tlearn: 0.8883878\ttotal: 43.1ms\tremaining: 142ms\n",
      "35:\tlearn: 0.8917700\ttotal: 44.5ms\tremaining: 141ms\n",
      "36:\tlearn: 0.8917700\ttotal: 46.1ms\tremaining: 141ms\n",
      "37:\tlearn: 0.8906426\ttotal: 47.6ms\tremaining: 140ms\n",
      "38:\tlearn: 0.8895152\ttotal: 49ms\tremaining: 139ms\n",
      "39:\tlearn: 0.8917700\ttotal: 50.7ms\tremaining: 139ms\n",
      "40:\tlearn: 0.8928974\ttotal: 51.9ms\tremaining: 138ms\n",
      "41:\tlearn: 0.8951522\ttotal: 53.1ms\tremaining: 137ms\n",
      "42:\tlearn: 0.8974070\ttotal: 54.2ms\tremaining: 135ms\n",
      "43:\tlearn: 0.8962796\ttotal: 55.5ms\tremaining: 134ms\n",
      "44:\tlearn: 0.8985344\ttotal: 56.8ms\tremaining: 133ms\n",
      "45:\tlearn: 0.8962796\ttotal: 58.1ms\tremaining: 131ms\n",
      "46:\tlearn: 0.8974070\ttotal: 59.2ms\tremaining: 130ms\n",
      "47:\tlearn: 0.8974070\ttotal: 60.5ms\tremaining: 129ms\n",
      "48:\tlearn: 0.8985344\ttotal: 61.7ms\tremaining: 127ms\n",
      "49:\tlearn: 0.8985344\ttotal: 62.9ms\tremaining: 126ms\n",
      "50:\tlearn: 0.8996618\ttotal: 64ms\tremaining: 124ms\n",
      "51:\tlearn: 0.9019166\ttotal: 65.3ms\tremaining: 123ms\n",
      "52:\tlearn: 0.9041714\ttotal: 66.5ms\tremaining: 122ms\n",
      "53:\tlearn: 0.9052988\ttotal: 67.8ms\tremaining: 120ms\n",
      "54:\tlearn: 0.9041714\ttotal: 69ms\tremaining: 119ms\n",
      "55:\tlearn: 0.9052988\ttotal: 70.2ms\tremaining: 118ms\n",
      "56:\tlearn: 0.9052988\ttotal: 71.4ms\tremaining: 116ms\n",
      "57:\tlearn: 0.9041714\ttotal: 72.6ms\tremaining: 115ms\n",
      "58:\tlearn: 0.9041714\ttotal: 73.8ms\tremaining: 114ms\n",
      "59:\tlearn: 0.9041714\ttotal: 75ms\tremaining: 112ms\n",
      "60:\tlearn: 0.9041714\ttotal: 76.1ms\tremaining: 111ms\n",
      "61:\tlearn: 0.9064262\ttotal: 77.3ms\tremaining: 110ms\n",
      "62:\tlearn: 0.9041714\ttotal: 78.4ms\tremaining: 108ms\n",
      "63:\tlearn: 0.9041714\ttotal: 79.6ms\tremaining: 107ms\n",
      "64:\tlearn: 0.9041714\ttotal: 80.7ms\tremaining: 106ms\n",
      "65:\tlearn: 0.9030440\ttotal: 81.8ms\tremaining: 104ms\n",
      "66:\tlearn: 0.9064262\ttotal: 82.9ms\tremaining: 103ms\n",
      "67:\tlearn: 0.9064262\ttotal: 84.3ms\tremaining: 102ms\n",
      "68:\tlearn: 0.9052988\ttotal: 85.6ms\tremaining: 100ms\n",
      "69:\tlearn: 0.9075536\ttotal: 86.8ms\tremaining: 99.2ms\n",
      "70:\tlearn: 0.9075536\ttotal: 88ms\tremaining: 97.9ms\n",
      "71:\tlearn: 0.9086809\ttotal: 89.2ms\tremaining: 96.7ms\n",
      "72:\tlearn: 0.9086809\ttotal: 91ms\tremaining: 96ms\n",
      "73:\tlearn: 0.9075536\ttotal: 92.5ms\tremaining: 95ms\n",
      "74:\tlearn: 0.9075536\ttotal: 93.9ms\tremaining: 93.9ms\n",
      "75:\tlearn: 0.9075536\ttotal: 95.1ms\tremaining: 92.6ms\n",
      "76:\tlearn: 0.9075536\ttotal: 96.3ms\tremaining: 91.3ms\n",
      "77:\tlearn: 0.9075536\ttotal: 97.3ms\tremaining: 89.8ms\n",
      "78:\tlearn: 0.9075536\ttotal: 98.5ms\tremaining: 88.5ms\n",
      "79:\tlearn: 0.9075536\ttotal: 99.6ms\tremaining: 87.2ms\n",
      "80:\tlearn: 0.9075536\ttotal: 101ms\tremaining: 86ms\n",
      "81:\tlearn: 0.9075536\ttotal: 102ms\tremaining: 84.7ms\n",
      "82:\tlearn: 0.9075536\ttotal: 104ms\tremaining: 83.6ms\n",
      "83:\tlearn: 0.9075536\ttotal: 105ms\tremaining: 82.4ms\n",
      "84:\tlearn: 0.9075536\ttotal: 106ms\tremaining: 81.2ms\n",
      "85:\tlearn: 0.9075536\ttotal: 108ms\tremaining: 80ms\n",
      "86:\tlearn: 0.9075536\ttotal: 109ms\tremaining: 78.8ms\n",
      "87:\tlearn: 0.9075536\ttotal: 110ms\tremaining: 77.7ms\n",
      "88:\tlearn: 0.9086809\ttotal: 112ms\tremaining: 76.5ms\n",
      "89:\tlearn: 0.9086809\ttotal: 113ms\tremaining: 75.3ms\n",
      "90:\tlearn: 0.9086809\ttotal: 115ms\tremaining: 74.4ms\n",
      "91:\tlearn: 0.9086809\ttotal: 116ms\tremaining: 73.2ms\n",
      "92:\tlearn: 0.9086809\ttotal: 117ms\tremaining: 72ms\n",
      "93:\tlearn: 0.9086809\ttotal: 119ms\tremaining: 70.8ms\n",
      "94:\tlearn: 0.9086809\ttotal: 120ms\tremaining: 69.6ms\n",
      "95:\tlearn: 0.9086809\ttotal: 121ms\tremaining: 68.3ms\n",
      "96:\tlearn: 0.9086809\ttotal: 123ms\tremaining: 67.2ms\n",
      "97:\tlearn: 0.9086809\ttotal: 124ms\tremaining: 65.9ms\n",
      "98:\tlearn: 0.9086809\ttotal: 125ms\tremaining: 64.5ms\n",
      "99:\tlearn: 0.9086809\ttotal: 126ms\tremaining: 63.2ms\n",
      "100:\tlearn: 0.9086809\ttotal: 127ms\tremaining: 61.8ms\n",
      "101:\tlearn: 0.9086809\ttotal: 129ms\tremaining: 60.5ms\n",
      "102:\tlearn: 0.9086809\ttotal: 130ms\tremaining: 59.1ms\n",
      "103:\tlearn: 0.9086809\ttotal: 131ms\tremaining: 57.8ms\n",
      "104:\tlearn: 0.9086809\ttotal: 132ms\tremaining: 56.5ms\n",
      "105:\tlearn: 0.9086809\ttotal: 133ms\tremaining: 55.2ms\n",
      "106:\tlearn: 0.9086809\ttotal: 134ms\tremaining: 53.9ms\n",
      "107:\tlearn: 0.9086809\ttotal: 135ms\tremaining: 52.6ms\n",
      "108:\tlearn: 0.9086809\ttotal: 136ms\tremaining: 51.3ms\n",
      "109:\tlearn: 0.9086809\ttotal: 138ms\tremaining: 50.1ms\n",
      "110:\tlearn: 0.9086809\ttotal: 139ms\tremaining: 48.8ms\n",
      "111:\tlearn: 0.9086809\ttotal: 140ms\tremaining: 47.5ms\n",
      "112:\tlearn: 0.9086809\ttotal: 141ms\tremaining: 46.2ms\n",
      "113:\tlearn: 0.9086809\ttotal: 142ms\tremaining: 44.9ms\n",
      "114:\tlearn: 0.9086809\ttotal: 143ms\tremaining: 43.6ms\n",
      "115:\tlearn: 0.9086809\ttotal: 144ms\tremaining: 42.3ms\n",
      "116:\tlearn: 0.9086809\ttotal: 146ms\tremaining: 41.1ms\n",
      "117:\tlearn: 0.9086809\ttotal: 147ms\tremaining: 39.8ms\n",
      "118:\tlearn: 0.9086809\ttotal: 148ms\tremaining: 38.6ms\n",
      "119:\tlearn: 0.9086809\ttotal: 149ms\tremaining: 37.3ms\n",
      "120:\tlearn: 0.9086809\ttotal: 150ms\tremaining: 36.1ms\n",
      "121:\tlearn: 0.9086809\ttotal: 152ms\tremaining: 34.8ms\n",
      "122:\tlearn: 0.9086809\ttotal: 153ms\tremaining: 33.5ms\n",
      "123:\tlearn: 0.9086809\ttotal: 154ms\tremaining: 32.3ms\n",
      "124:\tlearn: 0.9086809\ttotal: 155ms\tremaining: 31ms\n",
      "125:\tlearn: 0.9086809\ttotal: 156ms\tremaining: 29.8ms\n",
      "126:\tlearn: 0.9086809\ttotal: 158ms\tremaining: 28.5ms\n",
      "127:\tlearn: 0.9086809\ttotal: 159ms\tremaining: 27.3ms\n",
      "128:\tlearn: 0.9086809\ttotal: 160ms\tremaining: 26.1ms\n",
      "129:\tlearn: 0.9086809\ttotal: 161ms\tremaining: 24.8ms\n",
      "130:\tlearn: 0.9086809\ttotal: 162ms\tremaining: 23.6ms\n",
      "131:\tlearn: 0.9098083\ttotal: 164ms\tremaining: 22.3ms\n",
      "132:\tlearn: 0.9098083\ttotal: 165ms\tremaining: 21.1ms\n",
      "133:\tlearn: 0.9098083\ttotal: 166ms\tremaining: 19.8ms\n",
      "134:\tlearn: 0.9098083\ttotal: 167ms\tremaining: 18.6ms\n",
      "135:\tlearn: 0.9098083\ttotal: 168ms\tremaining: 17.3ms\n",
      "136:\tlearn: 0.9098083\ttotal: 170ms\tremaining: 16.1ms\n",
      "137:\tlearn: 0.9098083\ttotal: 171ms\tremaining: 14.8ms\n",
      "138:\tlearn: 0.9098083\ttotal: 172ms\tremaining: 13.6ms\n",
      "139:\tlearn: 0.9098083\ttotal: 173ms\tremaining: 12.4ms\n",
      "140:\tlearn: 0.9098083\ttotal: 174ms\tremaining: 11.1ms\n",
      "141:\tlearn: 0.9098083\ttotal: 175ms\tremaining: 9.88ms\n",
      "142:\tlearn: 0.9109357\ttotal: 177ms\tremaining: 8.64ms\n",
      "143:\tlearn: 0.9109357\ttotal: 178ms\tremaining: 7.41ms\n",
      "144:\tlearn: 0.9109357\ttotal: 179ms\tremaining: 6.17ms\n",
      "145:\tlearn: 0.9098083\ttotal: 180ms\tremaining: 4.94ms\n",
      "146:\tlearn: 0.9109357\ttotal: 181ms\tremaining: 3.7ms\n",
      "147:\tlearn: 0.9109357\ttotal: 183ms\tremaining: 2.47ms\n",
      "148:\tlearn: 0.9086809\ttotal: 184ms\tremaining: 1.23ms\n",
      "149:\tlearn: 0.9109357\ttotal: 185ms\tremaining: 0us\n",
      "0:\tlearn: 0.8162345\ttotal: 1.48ms\tremaining: 220ms\n",
      "1:\tlearn: 0.8478016\ttotal: 2.9ms\tremaining: 215ms\n",
      "2:\tlearn: 0.8568207\ttotal: 4.22ms\tremaining: 207ms\n",
      "3:\tlearn: 0.8669673\ttotal: 5.72ms\tremaining: 209ms\n",
      "4:\tlearn: 0.8669673\ttotal: 7.3ms\tremaining: 212ms\n",
      "5:\tlearn: 0.8726043\ttotal: 8.74ms\tremaining: 210ms\n",
      "6:\tlearn: 0.8692221\ttotal: 10.6ms\tremaining: 218ms\n",
      "7:\tlearn: 0.8726043\ttotal: 12.2ms\tremaining: 217ms\n",
      "8:\tlearn: 0.8703495\ttotal: 14.6ms\tremaining: 228ms\n",
      "9:\tlearn: 0.8703495\ttotal: 18.9ms\tremaining: 264ms\n",
      "10:\tlearn: 0.8737317\ttotal: 20.6ms\tremaining: 260ms\n",
      "11:\tlearn: 0.8782413\ttotal: 22.3ms\tremaining: 256ms\n",
      "12:\tlearn: 0.8759865\ttotal: 23.9ms\tremaining: 251ms\n",
      "13:\tlearn: 0.8748591\ttotal: 25.3ms\tremaining: 246ms\n",
      "14:\tlearn: 0.8759865\ttotal: 26.8ms\tremaining: 241ms\n",
      "15:\tlearn: 0.8771139\ttotal: 28.2ms\tremaining: 236ms\n",
      "16:\tlearn: 0.8759865\ttotal: 29.7ms\tremaining: 232ms\n",
      "17:\tlearn: 0.8793687\ttotal: 31.2ms\tremaining: 229ms\n",
      "18:\tlearn: 0.8804961\ttotal: 32.8ms\tremaining: 226ms\n",
      "19:\tlearn: 0.8827508\ttotal: 34.2ms\tremaining: 222ms\n",
      "20:\tlearn: 0.8838782\ttotal: 35ms\tremaining: 215ms\n",
      "21:\tlearn: 0.8872604\ttotal: 36.3ms\tremaining: 211ms\n",
      "22:\tlearn: 0.8872604\ttotal: 37.7ms\tremaining: 208ms\n",
      "23:\tlearn: 0.8895152\ttotal: 39.2ms\tremaining: 206ms\n",
      "24:\tlearn: 0.8906426\ttotal: 40.5ms\tremaining: 202ms\n",
      "25:\tlearn: 0.8917700\ttotal: 42.3ms\tremaining: 202ms\n",
      "26:\tlearn: 0.8940248\ttotal: 43.7ms\tremaining: 199ms\n",
      "27:\tlearn: 0.8962796\ttotal: 45.2ms\tremaining: 197ms\n",
      "28:\tlearn: 0.8985344\ttotal: 46.5ms\tremaining: 194ms\n",
      "29:\tlearn: 0.8996618\ttotal: 47.8ms\tremaining: 191ms\n",
      "30:\tlearn: 0.8996618\ttotal: 49.2ms\tremaining: 189ms\n",
      "31:\tlearn: 0.8985344\ttotal: 50.5ms\tremaining: 186ms\n",
      "32:\tlearn: 0.9019166\ttotal: 51.9ms\tremaining: 184ms\n",
      "33:\tlearn: 0.9030440\ttotal: 53.3ms\tremaining: 182ms\n",
      "34:\tlearn: 0.9019166\ttotal: 54.7ms\tremaining: 180ms\n",
      "35:\tlearn: 0.8996618\ttotal: 56ms\tremaining: 177ms\n",
      "36:\tlearn: 0.9030440\ttotal: 57.7ms\tremaining: 176ms\n",
      "37:\tlearn: 0.9019166\ttotal: 60.3ms\tremaining: 178ms\n",
      "38:\tlearn: 0.9052988\ttotal: 62.1ms\tremaining: 177ms\n",
      "39:\tlearn: 0.9041714\ttotal: 63.7ms\tremaining: 175ms\n",
      "40:\tlearn: 0.9052988\ttotal: 65.1ms\tremaining: 173ms\n",
      "41:\tlearn: 0.9041714\ttotal: 66.7ms\tremaining: 172ms\n",
      "42:\tlearn: 0.9041714\ttotal: 68.1ms\tremaining: 169ms\n",
      "43:\tlearn: 0.9064262\ttotal: 69.7ms\tremaining: 168ms\n",
      "44:\tlearn: 0.9041714\ttotal: 71.1ms\tremaining: 166ms\n",
      "45:\tlearn: 0.9052988\ttotal: 72.8ms\tremaining: 165ms\n",
      "46:\tlearn: 0.9052988\ttotal: 74.7ms\tremaining: 164ms\n",
      "47:\tlearn: 0.9041714\ttotal: 76ms\tremaining: 162ms\n",
      "48:\tlearn: 0.9041714\ttotal: 77.4ms\tremaining: 159ms\n",
      "49:\tlearn: 0.9052988\ttotal: 78.7ms\tremaining: 157ms\n",
      "50:\tlearn: 0.9064262\ttotal: 79.9ms\tremaining: 155ms\n",
      "51:\tlearn: 0.9052988\ttotal: 81.1ms\tremaining: 153ms\n",
      "52:\tlearn: 0.9052988\ttotal: 82.4ms\tremaining: 151ms\n",
      "53:\tlearn: 0.9052988\ttotal: 83.8ms\tremaining: 149ms\n",
      "54:\tlearn: 0.9064262\ttotal: 85.1ms\tremaining: 147ms\n",
      "55:\tlearn: 0.9075536\ttotal: 86.3ms\tremaining: 145ms\n",
      "56:\tlearn: 0.9086809\ttotal: 87.5ms\tremaining: 143ms\n",
      "57:\tlearn: 0.9086809\ttotal: 88.7ms\tremaining: 141ms\n",
      "58:\tlearn: 0.9086809\ttotal: 89.9ms\tremaining: 139ms\n",
      "59:\tlearn: 0.9075536\ttotal: 91.2ms\tremaining: 137ms\n",
      "60:\tlearn: 0.9075536\ttotal: 92.5ms\tremaining: 135ms\n",
      "61:\tlearn: 0.9086809\ttotal: 93.9ms\tremaining: 133ms\n",
      "62:\tlearn: 0.9120631\ttotal: 95.4ms\tremaining: 132ms\n",
      "63:\tlearn: 0.9109357\ttotal: 96.8ms\tremaining: 130ms\n",
      "64:\tlearn: 0.9109357\ttotal: 98.2ms\tremaining: 128ms\n",
      "65:\tlearn: 0.9098083\ttotal: 99.7ms\tremaining: 127ms\n",
      "66:\tlearn: 0.9120631\ttotal: 101ms\tremaining: 125ms\n",
      "67:\tlearn: 0.9120631\ttotal: 102ms\tremaining: 123ms\n",
      "68:\tlearn: 0.9120631\ttotal: 104ms\tremaining: 122ms\n",
      "69:\tlearn: 0.9120631\ttotal: 105ms\tremaining: 120ms\n",
      "70:\tlearn: 0.9120631\ttotal: 106ms\tremaining: 118ms\n",
      "71:\tlearn: 0.9154453\ttotal: 108ms\tremaining: 116ms\n",
      "72:\tlearn: 0.9154453\ttotal: 109ms\tremaining: 115ms\n",
      "73:\tlearn: 0.9154453\ttotal: 110ms\tremaining: 113ms\n",
      "74:\tlearn: 0.9120631\ttotal: 111ms\tremaining: 111ms\n",
      "75:\tlearn: 0.9131905\ttotal: 113ms\tremaining: 110ms\n",
      "76:\tlearn: 0.9131905\ttotal: 114ms\tremaining: 108ms\n",
      "77:\tlearn: 0.9131905\ttotal: 115ms\tremaining: 106ms\n",
      "78:\tlearn: 0.9131905\ttotal: 117ms\tremaining: 105ms\n",
      "79:\tlearn: 0.9143179\ttotal: 118ms\tremaining: 103ms\n",
      "80:\tlearn: 0.9143179\ttotal: 119ms\tremaining: 102ms\n",
      "81:\tlearn: 0.9143179\ttotal: 120ms\tremaining: 99.9ms\n",
      "82:\tlearn: 0.9143179\ttotal: 122ms\tremaining: 98.2ms\n",
      "83:\tlearn: 0.9131905\ttotal: 123ms\tremaining: 96.6ms\n",
      "84:\tlearn: 0.9131905\ttotal: 124ms\tremaining: 95ms\n",
      "85:\tlearn: 0.9131905\ttotal: 126ms\tremaining: 93.4ms\n",
      "86:\tlearn: 0.9131905\ttotal: 127ms\tremaining: 91.8ms\n",
      "87:\tlearn: 0.9131905\ttotal: 128ms\tremaining: 90.3ms\n",
      "88:\tlearn: 0.9143179\ttotal: 130ms\tremaining: 88.8ms\n",
      "89:\tlearn: 0.9143179\ttotal: 131ms\tremaining: 87.1ms\n",
      "90:\tlearn: 0.9143179\ttotal: 132ms\tremaining: 85.5ms\n",
      "91:\tlearn: 0.9143179\ttotal: 133ms\tremaining: 84.1ms\n",
      "92:\tlearn: 0.9143179\ttotal: 135ms\tremaining: 82.6ms\n",
      "93:\tlearn: 0.9143179\ttotal: 136ms\tremaining: 81.1ms\n",
      "94:\tlearn: 0.9143179\ttotal: 137ms\tremaining: 79.6ms\n",
      "95:\tlearn: 0.9143179\ttotal: 139ms\tremaining: 78ms\n",
      "96:\tlearn: 0.9143179\ttotal: 140ms\tremaining: 76.5ms\n",
      "97:\tlearn: 0.9143179\ttotal: 141ms\tremaining: 74.9ms\n",
      "98:\tlearn: 0.9143179\ttotal: 143ms\tremaining: 73.4ms\n",
      "99:\tlearn: 0.9143179\ttotal: 144ms\tremaining: 71.9ms\n",
      "100:\tlearn: 0.9143179\ttotal: 145ms\tremaining: 70.4ms\n",
      "101:\tlearn: 0.9131905\ttotal: 146ms\tremaining: 68.9ms\n",
      "102:\tlearn: 0.9131905\ttotal: 148ms\tremaining: 67.5ms\n",
      "103:\tlearn: 0.9143179\ttotal: 149ms\tremaining: 66.1ms\n",
      "104:\tlearn: 0.9143179\ttotal: 151ms\tremaining: 64.8ms\n",
      "105:\tlearn: 0.9154453\ttotal: 152ms\tremaining: 63.3ms\n",
      "106:\tlearn: 0.9143179\ttotal: 154ms\tremaining: 61.8ms\n",
      "107:\tlearn: 0.9131905\ttotal: 155ms\tremaining: 60.3ms\n",
      "108:\tlearn: 0.9131905\ttotal: 156ms\tremaining: 58.8ms\n",
      "109:\tlearn: 0.9131905\ttotal: 158ms\tremaining: 57.3ms\n",
      "110:\tlearn: 0.9154453\ttotal: 159ms\tremaining: 55.8ms\n",
      "111:\tlearn: 0.9154453\ttotal: 160ms\tremaining: 54.3ms\n",
      "112:\tlearn: 0.9154453\ttotal: 161ms\tremaining: 52.8ms\n",
      "113:\tlearn: 0.9154453\ttotal: 163ms\tremaining: 51.3ms\n",
      "114:\tlearn: 0.9154453\ttotal: 164ms\tremaining: 49.9ms\n",
      "115:\tlearn: 0.9143179\ttotal: 165ms\tremaining: 48.4ms\n",
      "116:\tlearn: 0.9120631\ttotal: 166ms\tremaining: 46.9ms\n",
      "117:\tlearn: 0.9120631\ttotal: 167ms\tremaining: 45.4ms\n",
      "118:\tlearn: 0.9120631\ttotal: 169ms\tremaining: 43.9ms\n",
      "119:\tlearn: 0.9143179\ttotal: 170ms\tremaining: 42.5ms\n",
      "120:\tlearn: 0.9143179\ttotal: 171ms\tremaining: 41.1ms\n",
      "121:\tlearn: 0.9143179\ttotal: 173ms\tremaining: 39.6ms\n",
      "122:\tlearn: 0.9143179\ttotal: 174ms\tremaining: 38.1ms\n",
      "123:\tlearn: 0.9143179\ttotal: 175ms\tremaining: 36.6ms\n",
      "124:\tlearn: 0.9131905\ttotal: 176ms\tremaining: 35.2ms\n",
      "125:\tlearn: 0.9131905\ttotal: 177ms\tremaining: 33.8ms\n",
      "126:\tlearn: 0.9131905\ttotal: 179ms\tremaining: 32.3ms\n",
      "127:\tlearn: 0.9131905\ttotal: 180ms\tremaining: 30.9ms\n",
      "128:\tlearn: 0.9131905\ttotal: 181ms\tremaining: 29.5ms\n",
      "129:\tlearn: 0.9131905\ttotal: 182ms\tremaining: 28.1ms\n",
      "130:\tlearn: 0.9120631\ttotal: 184ms\tremaining: 26.6ms\n",
      "131:\tlearn: 0.9131905\ttotal: 185ms\tremaining: 25.2ms\n",
      "132:\tlearn: 0.9131905\ttotal: 186ms\tremaining: 23.8ms\n",
      "133:\tlearn: 0.9143179\ttotal: 187ms\tremaining: 22.3ms\n",
      "134:\tlearn: 0.9177001\ttotal: 188ms\tremaining: 20.9ms\n",
      "135:\tlearn: 0.9177001\ttotal: 190ms\tremaining: 19.5ms\n",
      "136:\tlearn: 0.9177001\ttotal: 191ms\tremaining: 18.2ms\n",
      "137:\tlearn: 0.9177001\ttotal: 193ms\tremaining: 16.8ms\n",
      "138:\tlearn: 0.9177001\ttotal: 194ms\tremaining: 15.4ms\n",
      "139:\tlearn: 0.9177001\ttotal: 195ms\tremaining: 14ms\n",
      "140:\tlearn: 0.9177001\ttotal: 197ms\tremaining: 12.6ms\n",
      "141:\tlearn: 0.9188275\ttotal: 199ms\tremaining: 11.2ms\n",
      "142:\tlearn: 0.9188275\ttotal: 200ms\tremaining: 9.78ms\n",
      "143:\tlearn: 0.9188275\ttotal: 201ms\tremaining: 8.38ms\n",
      "144:\tlearn: 0.9188275\ttotal: 202ms\tremaining: 6.98ms\n",
      "145:\tlearn: 0.9188275\ttotal: 204ms\tremaining: 5.58ms\n",
      "146:\tlearn: 0.9188275\ttotal: 205ms\tremaining: 4.19ms\n",
      "147:\tlearn: 0.9188275\ttotal: 207ms\tremaining: 2.79ms\n",
      "148:\tlearn: 0.9188275\ttotal: 208ms\tremaining: 1.39ms\n",
      "149:\tlearn: 0.9188275\ttotal: 209ms\tremaining: 0us\n",
      "0:\tlearn: 0.8534386\ttotal: 1.52ms\tremaining: 226ms\n",
      "1:\tlearn: 0.8523112\ttotal: 3ms\tremaining: 222ms\n",
      "2:\tlearn: 0.8602029\ttotal: 4.33ms\tremaining: 212ms\n",
      "3:\tlearn: 0.8647125\ttotal: 5.65ms\tremaining: 206ms\n",
      "4:\tlearn: 0.8658399\ttotal: 7.25ms\tremaining: 210ms\n",
      "5:\tlearn: 0.8680947\ttotal: 8.68ms\tremaining: 208ms\n",
      "6:\tlearn: 0.8692221\ttotal: 10.1ms\tremaining: 206ms\n",
      "7:\tlearn: 0.8658399\ttotal: 11.4ms\tremaining: 203ms\n",
      "8:\tlearn: 0.8602029\ttotal: 13.3ms\tremaining: 208ms\n",
      "9:\tlearn: 0.8602029\ttotal: 14.6ms\tremaining: 204ms\n",
      "10:\tlearn: 0.8635851\ttotal: 16ms\tremaining: 203ms\n",
      "11:\tlearn: 0.8669673\ttotal: 17.3ms\tremaining: 199ms\n",
      "12:\tlearn: 0.8658399\ttotal: 18.7ms\tremaining: 197ms\n",
      "13:\tlearn: 0.8703495\ttotal: 20.1ms\tremaining: 195ms\n",
      "14:\tlearn: 0.8737317\ttotal: 21.4ms\tremaining: 193ms\n",
      "15:\tlearn: 0.8714769\ttotal: 22.8ms\tremaining: 191ms\n",
      "16:\tlearn: 0.8759865\ttotal: 24.2ms\tremaining: 189ms\n",
      "17:\tlearn: 0.8759865\ttotal: 25.5ms\tremaining: 187ms\n",
      "18:\tlearn: 0.8793687\ttotal: 26.7ms\tremaining: 184ms\n",
      "19:\tlearn: 0.8793687\ttotal: 28.3ms\tremaining: 184ms\n",
      "20:\tlearn: 0.8827508\ttotal: 29.2ms\tremaining: 179ms\n",
      "21:\tlearn: 0.8850056\ttotal: 30.4ms\tremaining: 177ms\n",
      "22:\tlearn: 0.8838782\ttotal: 31.7ms\tremaining: 175ms\n",
      "23:\tlearn: 0.8838782\ttotal: 33.1ms\tremaining: 174ms\n",
      "24:\tlearn: 0.8861330\ttotal: 34.3ms\tremaining: 171ms\n",
      "25:\tlearn: 0.8883878\ttotal: 35.6ms\tremaining: 170ms\n",
      "26:\tlearn: 0.8906426\ttotal: 36.9ms\tremaining: 168ms\n",
      "27:\tlearn: 0.8883878\ttotal: 38.2ms\tremaining: 167ms\n",
      "28:\tlearn: 0.8861330\ttotal: 39.6ms\tremaining: 165ms\n",
      "29:\tlearn: 0.8883878\ttotal: 40.9ms\tremaining: 164ms\n",
      "30:\tlearn: 0.8861330\ttotal: 42.3ms\tremaining: 162ms\n",
      "31:\tlearn: 0.8883878\ttotal: 43.5ms\tremaining: 161ms\n",
      "32:\tlearn: 0.8872604\ttotal: 44.9ms\tremaining: 159ms\n",
      "33:\tlearn: 0.8872604\ttotal: 46.2ms\tremaining: 158ms\n",
      "34:\tlearn: 0.8906426\ttotal: 47.5ms\tremaining: 156ms\n",
      "35:\tlearn: 0.8906426\ttotal: 48.9ms\tremaining: 155ms\n",
      "36:\tlearn: 0.8906426\ttotal: 50.3ms\tremaining: 154ms\n",
      "37:\tlearn: 0.8906426\ttotal: 51.6ms\tremaining: 152ms\n",
      "38:\tlearn: 0.8940248\ttotal: 52.8ms\tremaining: 150ms\n",
      "39:\tlearn: 0.8974070\ttotal: 54.1ms\tremaining: 149ms\n",
      "40:\tlearn: 0.8962796\ttotal: 55.2ms\tremaining: 147ms\n",
      "41:\tlearn: 0.8974070\ttotal: 56.5ms\tremaining: 145ms\n",
      "42:\tlearn: 0.8974070\ttotal: 57.7ms\tremaining: 144ms\n",
      "43:\tlearn: 0.8974070\ttotal: 59.3ms\tremaining: 143ms\n",
      "44:\tlearn: 0.8974070\ttotal: 60.8ms\tremaining: 142ms\n",
      "45:\tlearn: 0.9007892\ttotal: 62.1ms\tremaining: 140ms\n",
      "46:\tlearn: 0.9007892\ttotal: 63.3ms\tremaining: 139ms\n",
      "47:\tlearn: 0.8996618\ttotal: 64.5ms\tremaining: 137ms\n",
      "48:\tlearn: 0.9030440\ttotal: 65.7ms\tremaining: 135ms\n",
      "49:\tlearn: 0.9064262\ttotal: 66.9ms\tremaining: 134ms\n",
      "50:\tlearn: 0.9030440\ttotal: 68.2ms\tremaining: 132ms\n",
      "51:\tlearn: 0.9052988\ttotal: 69.6ms\tremaining: 131ms\n",
      "52:\tlearn: 0.9052988\ttotal: 71ms\tremaining: 130ms\n",
      "53:\tlearn: 0.9041714\ttotal: 72.2ms\tremaining: 128ms\n",
      "54:\tlearn: 0.9041714\ttotal: 73.4ms\tremaining: 127ms\n",
      "55:\tlearn: 0.9052988\ttotal: 74.6ms\tremaining: 125ms\n",
      "56:\tlearn: 0.9075536\ttotal: 75.8ms\tremaining: 124ms\n",
      "57:\tlearn: 0.9075536\ttotal: 76.9ms\tremaining: 122ms\n",
      "58:\tlearn: 0.9075536\ttotal: 78.1ms\tremaining: 120ms\n",
      "59:\tlearn: 0.9064262\ttotal: 79.5ms\tremaining: 119ms\n",
      "60:\tlearn: 0.9086809\ttotal: 80.8ms\tremaining: 118ms\n",
      "61:\tlearn: 0.9098083\ttotal: 81.9ms\tremaining: 116ms\n",
      "62:\tlearn: 0.9120631\ttotal: 83.1ms\tremaining: 115ms\n",
      "63:\tlearn: 0.9109357\ttotal: 84.2ms\tremaining: 113ms\n",
      "64:\tlearn: 0.9098083\ttotal: 85.3ms\tremaining: 112ms\n",
      "65:\tlearn: 0.9109357\ttotal: 86.5ms\tremaining: 110ms\n",
      "66:\tlearn: 0.9120631\ttotal: 87.6ms\tremaining: 109ms\n",
      "67:\tlearn: 0.9131905\ttotal: 88.7ms\tremaining: 107ms\n",
      "68:\tlearn: 0.9120631\ttotal: 90.1ms\tremaining: 106ms\n",
      "69:\tlearn: 0.9109357\ttotal: 91.2ms\tremaining: 104ms\n",
      "70:\tlearn: 0.9109357\ttotal: 92.3ms\tremaining: 103ms\n",
      "71:\tlearn: 0.9120631\ttotal: 93.5ms\tremaining: 101ms\n",
      "72:\tlearn: 0.9120631\ttotal: 94.8ms\tremaining: 100ms\n",
      "73:\tlearn: 0.9120631\ttotal: 96ms\tremaining: 98.6ms\n",
      "74:\tlearn: 0.9109357\ttotal: 97.2ms\tremaining: 97.2ms\n",
      "75:\tlearn: 0.9109357\ttotal: 98.3ms\tremaining: 95.7ms\n",
      "76:\tlearn: 0.9109357\ttotal: 99.6ms\tremaining: 94.4ms\n",
      "77:\tlearn: 0.9109357\ttotal: 101ms\tremaining: 93.1ms\n",
      "78:\tlearn: 0.9109357\ttotal: 102ms\tremaining: 91.7ms\n",
      "79:\tlearn: 0.9109357\ttotal: 103ms\tremaining: 90.2ms\n",
      "80:\tlearn: 0.9109357\ttotal: 104ms\tremaining: 88.8ms\n",
      "81:\tlearn: 0.9109357\ttotal: 105ms\tremaining: 87.3ms\n",
      "82:\tlearn: 0.9109357\ttotal: 106ms\tremaining: 85.9ms\n",
      "83:\tlearn: 0.9109357\ttotal: 108ms\tremaining: 84.6ms\n",
      "84:\tlearn: 0.9109357\ttotal: 109ms\tremaining: 83.2ms\n",
      "85:\tlearn: 0.9109357\ttotal: 110ms\tremaining: 81.8ms\n",
      "86:\tlearn: 0.9109357\ttotal: 111ms\tremaining: 80.7ms\n",
      "87:\tlearn: 0.9109357\ttotal: 113ms\tremaining: 79.5ms\n",
      "88:\tlearn: 0.9109357\ttotal: 114ms\tremaining: 78.1ms\n",
      "89:\tlearn: 0.9109357\ttotal: 115ms\tremaining: 76.7ms\n",
      "90:\tlearn: 0.9120631\ttotal: 116ms\tremaining: 75.4ms\n",
      "91:\tlearn: 0.9120631\ttotal: 117ms\tremaining: 74ms\n",
      "92:\tlearn: 0.9120631\ttotal: 119ms\tremaining: 72.8ms\n",
      "93:\tlearn: 0.9131905\ttotal: 120ms\tremaining: 71.5ms\n",
      "94:\tlearn: 0.9131905\ttotal: 121ms\tremaining: 70.2ms\n",
      "95:\tlearn: 0.9131905\ttotal: 123ms\tremaining: 69ms\n",
      "96:\tlearn: 0.9131905\ttotal: 124ms\tremaining: 67.7ms\n",
      "97:\tlearn: 0.9131905\ttotal: 125ms\tremaining: 66.4ms\n",
      "98:\tlearn: 0.9131905\ttotal: 126ms\tremaining: 65ms\n",
      "99:\tlearn: 0.9131905\ttotal: 127ms\tremaining: 63.6ms\n",
      "100:\tlearn: 0.9131905\ttotal: 129ms\tremaining: 62.6ms\n",
      "101:\tlearn: 0.9131905\ttotal: 130ms\tremaining: 61.3ms\n",
      "102:\tlearn: 0.9131905\ttotal: 131ms\tremaining: 60ms\n",
      "103:\tlearn: 0.9131905\ttotal: 133ms\tremaining: 58.6ms\n",
      "104:\tlearn: 0.9131905\ttotal: 134ms\tremaining: 57.3ms\n",
      "105:\tlearn: 0.9131905\ttotal: 135ms\tremaining: 56ms\n",
      "106:\tlearn: 0.9131905\ttotal: 136ms\tremaining: 54.7ms\n",
      "107:\tlearn: 0.9143179\ttotal: 137ms\tremaining: 53.3ms\n",
      "108:\tlearn: 0.9143179\ttotal: 138ms\tremaining: 52ms\n",
      "109:\tlearn: 0.9143179\ttotal: 139ms\tremaining: 50.6ms\n",
      "110:\tlearn: 0.9143179\ttotal: 140ms\tremaining: 49.3ms\n",
      "111:\tlearn: 0.9143179\ttotal: 141ms\tremaining: 48ms\n",
      "112:\tlearn: 0.9120631\ttotal: 143ms\tremaining: 46.8ms\n",
      "113:\tlearn: 0.9131905\ttotal: 144ms\tremaining: 45.5ms\n",
      "114:\tlearn: 0.9131905\ttotal: 145ms\tremaining: 44.2ms\n",
      "115:\tlearn: 0.9131905\ttotal: 147ms\tremaining: 43ms\n",
      "116:\tlearn: 0.9131905\ttotal: 148ms\tremaining: 41.7ms\n",
      "117:\tlearn: 0.9143179\ttotal: 149ms\tremaining: 40.4ms\n",
      "118:\tlearn: 0.9154453\ttotal: 150ms\tremaining: 39.2ms\n",
      "119:\tlearn: 0.9154453\ttotal: 151ms\tremaining: 37.9ms\n",
      "120:\tlearn: 0.9154453\ttotal: 153ms\tremaining: 36.6ms\n",
      "121:\tlearn: 0.9154453\ttotal: 154ms\tremaining: 35.4ms\n",
      "122:\tlearn: 0.9143179\ttotal: 156ms\tremaining: 34.2ms\n",
      "123:\tlearn: 0.9143179\ttotal: 158ms\tremaining: 33ms\n",
      "124:\tlearn: 0.9143179\ttotal: 159ms\tremaining: 31.8ms\n",
      "125:\tlearn: 0.9143179\ttotal: 160ms\tremaining: 30.5ms\n",
      "126:\tlearn: 0.9143179\ttotal: 161ms\tremaining: 29.2ms\n",
      "127:\tlearn: 0.9143179\ttotal: 163ms\tremaining: 27.9ms\n",
      "128:\tlearn: 0.9131905\ttotal: 164ms\tremaining: 26.7ms\n",
      "129:\tlearn: 0.9143179\ttotal: 165ms\tremaining: 25.4ms\n",
      "130:\tlearn: 0.9143179\ttotal: 166ms\tremaining: 24.1ms\n",
      "131:\tlearn: 0.9120631\ttotal: 168ms\tremaining: 22.9ms\n",
      "132:\tlearn: 0.9131905\ttotal: 169ms\tremaining: 21.6ms\n",
      "133:\tlearn: 0.9131905\ttotal: 170ms\tremaining: 20.3ms\n",
      "134:\tlearn: 0.9131905\ttotal: 171ms\tremaining: 19ms\n",
      "135:\tlearn: 0.9131905\ttotal: 172ms\tremaining: 17.7ms\n",
      "136:\tlearn: 0.9109357\ttotal: 173ms\tremaining: 16.4ms\n",
      "137:\tlearn: 0.9131905\ttotal: 175ms\tremaining: 15.2ms\n",
      "138:\tlearn: 0.9131905\ttotal: 176ms\tremaining: 13.9ms\n",
      "139:\tlearn: 0.9131905\ttotal: 177ms\tremaining: 12.6ms\n",
      "140:\tlearn: 0.9131905\ttotal: 178ms\tremaining: 11.4ms\n",
      "141:\tlearn: 0.9131905\ttotal: 179ms\tremaining: 10.1ms\n",
      "142:\tlearn: 0.9131905\ttotal: 180ms\tremaining: 8.82ms\n",
      "143:\tlearn: 0.9131905\ttotal: 181ms\tremaining: 7.56ms\n",
      "144:\tlearn: 0.9131905\ttotal: 182ms\tremaining: 6.29ms\n",
      "145:\tlearn: 0.9143179\ttotal: 184ms\tremaining: 5.03ms\n",
      "146:\tlearn: 0.9143179\ttotal: 185ms\tremaining: 3.77ms\n",
      "147:\tlearn: 0.9143179\ttotal: 186ms\tremaining: 2.52ms\n",
      "148:\tlearn: 0.9143179\ttotal: 188ms\tremaining: 1.26ms\n",
      "149:\tlearn: 0.9143179\ttotal: 189ms\tremaining: 0us\n",
      "0:\tlearn: 0.8466742\ttotal: 2.08ms\tremaining: 311ms\n",
      "1:\tlearn: 0.8500564\ttotal: 3.48ms\tremaining: 258ms\n",
      "2:\tlearn: 0.8602029\ttotal: 5.18ms\tremaining: 254ms\n",
      "3:\tlearn: 0.8658399\ttotal: 6.5ms\tremaining: 237ms\n",
      "4:\tlearn: 0.8647125\ttotal: 7.91ms\tremaining: 230ms\n",
      "5:\tlearn: 0.8669673\ttotal: 9.27ms\tremaining: 223ms\n",
      "6:\tlearn: 0.8647125\ttotal: 10.5ms\tremaining: 215ms\n",
      "7:\tlearn: 0.8658399\ttotal: 11.8ms\tremaining: 209ms\n",
      "8:\tlearn: 0.8647125\ttotal: 13.2ms\tremaining: 206ms\n",
      "9:\tlearn: 0.8635851\ttotal: 14.5ms\tremaining: 203ms\n",
      "10:\tlearn: 0.8692221\ttotal: 15.9ms\tremaining: 201ms\n",
      "11:\tlearn: 0.8726043\ttotal: 17.3ms\tremaining: 198ms\n",
      "12:\tlearn: 0.8737317\ttotal: 18.4ms\tremaining: 194ms\n",
      "13:\tlearn: 0.8759865\ttotal: 19.6ms\tremaining: 191ms\n",
      "14:\tlearn: 0.8771139\ttotal: 20.8ms\tremaining: 187ms\n",
      "15:\tlearn: 0.8748591\ttotal: 22.1ms\tremaining: 185ms\n",
      "16:\tlearn: 0.8759865\ttotal: 23.3ms\tremaining: 182ms\n",
      "17:\tlearn: 0.8748591\ttotal: 24.6ms\tremaining: 180ms\n",
      "18:\tlearn: 0.8748591\ttotal: 25.8ms\tremaining: 178ms\n",
      "19:\tlearn: 0.8748591\ttotal: 27ms\tremaining: 175ms\n",
      "20:\tlearn: 0.8771139\ttotal: 27.8ms\tremaining: 171ms\n",
      "21:\tlearn: 0.8748591\ttotal: 28.9ms\tremaining: 168ms\n",
      "22:\tlearn: 0.8793687\ttotal: 30.1ms\tremaining: 166ms\n",
      "23:\tlearn: 0.8827508\ttotal: 31.3ms\tremaining: 164ms\n",
      "24:\tlearn: 0.8816234\ttotal: 32.5ms\tremaining: 162ms\n",
      "25:\tlearn: 0.8838782\ttotal: 33.7ms\tremaining: 161ms\n",
      "26:\tlearn: 0.8816234\ttotal: 34.9ms\tremaining: 159ms\n",
      "27:\tlearn: 0.8861330\ttotal: 36.1ms\tremaining: 157ms\n",
      "28:\tlearn: 0.8861330\ttotal: 37.4ms\tremaining: 156ms\n",
      "29:\tlearn: 0.8861330\ttotal: 38.6ms\tremaining: 155ms\n",
      "30:\tlearn: 0.8861330\ttotal: 39.7ms\tremaining: 153ms\n",
      "31:\tlearn: 0.8872604\ttotal: 40.9ms\tremaining: 151ms\n",
      "32:\tlearn: 0.8861330\ttotal: 42ms\tremaining: 149ms\n",
      "33:\tlearn: 0.8883878\ttotal: 43.2ms\tremaining: 147ms\n",
      "34:\tlearn: 0.8895152\ttotal: 44.3ms\tremaining: 146ms\n",
      "35:\tlearn: 0.8906426\ttotal: 45.5ms\tremaining: 144ms\n",
      "36:\tlearn: 0.8895152\ttotal: 46.7ms\tremaining: 143ms\n",
      "37:\tlearn: 0.8917700\ttotal: 47.6ms\tremaining: 140ms\n",
      "38:\tlearn: 0.8928974\ttotal: 48.8ms\tremaining: 139ms\n",
      "39:\tlearn: 0.8917700\ttotal: 49.9ms\tremaining: 137ms\n",
      "40:\tlearn: 0.8917700\ttotal: 50.8ms\tremaining: 135ms\n",
      "41:\tlearn: 0.8917700\ttotal: 52ms\tremaining: 134ms\n",
      "42:\tlearn: 0.8906426\ttotal: 53.3ms\tremaining: 133ms\n",
      "43:\tlearn: 0.8917700\ttotal: 54.5ms\tremaining: 131ms\n",
      "44:\tlearn: 0.8917700\ttotal: 56.1ms\tremaining: 131ms\n",
      "45:\tlearn: 0.8917700\ttotal: 57.4ms\tremaining: 130ms\n",
      "46:\tlearn: 0.8917700\ttotal: 58.6ms\tremaining: 128ms\n",
      "47:\tlearn: 0.8906426\ttotal: 59.8ms\tremaining: 127ms\n",
      "48:\tlearn: 0.8928974\ttotal: 61ms\tremaining: 126ms\n",
      "49:\tlearn: 0.8928974\ttotal: 62ms\tremaining: 124ms\n",
      "50:\tlearn: 0.8917700\ttotal: 63.2ms\tremaining: 123ms\n",
      "51:\tlearn: 0.8895152\ttotal: 64.6ms\tremaining: 122ms\n",
      "52:\tlearn: 0.8928974\ttotal: 66ms\tremaining: 121ms\n",
      "53:\tlearn: 0.8928974\ttotal: 67.2ms\tremaining: 120ms\n",
      "54:\tlearn: 0.8951522\ttotal: 68.5ms\tremaining: 118ms\n",
      "55:\tlearn: 0.8974070\ttotal: 69.7ms\tremaining: 117ms\n",
      "56:\tlearn: 0.8951522\ttotal: 70.9ms\tremaining: 116ms\n",
      "57:\tlearn: 0.8974070\ttotal: 72.6ms\tremaining: 115ms\n",
      "58:\tlearn: 0.8974070\ttotal: 73.9ms\tremaining: 114ms\n",
      "59:\tlearn: 0.8962796\ttotal: 75.2ms\tremaining: 113ms\n",
      "60:\tlearn: 0.8985344\ttotal: 76.5ms\tremaining: 112ms\n",
      "61:\tlearn: 0.8996618\ttotal: 77.6ms\tremaining: 110ms\n",
      "62:\tlearn: 0.8996618\ttotal: 78.8ms\tremaining: 109ms\n",
      "63:\tlearn: 0.9041714\ttotal: 80.1ms\tremaining: 108ms\n",
      "64:\tlearn: 0.9041714\ttotal: 81.3ms\tremaining: 106ms\n",
      "65:\tlearn: 0.9052988\ttotal: 82.5ms\tremaining: 105ms\n",
      "66:\tlearn: 0.9064262\ttotal: 83.7ms\tremaining: 104ms\n",
      "67:\tlearn: 0.9052988\ttotal: 84.8ms\tremaining: 102ms\n",
      "68:\tlearn: 0.9075536\ttotal: 86.1ms\tremaining: 101ms\n",
      "69:\tlearn: 0.9075536\ttotal: 87.2ms\tremaining: 99.7ms\n",
      "70:\tlearn: 0.9075536\ttotal: 88.4ms\tremaining: 98.4ms\n",
      "71:\tlearn: 0.9098083\ttotal: 89.6ms\tremaining: 97.1ms\n",
      "72:\tlearn: 0.9098083\ttotal: 90.7ms\tremaining: 95.7ms\n",
      "73:\tlearn: 0.9098083\ttotal: 91.9ms\tremaining: 94.4ms\n",
      "74:\tlearn: 0.9098083\ttotal: 93ms\tremaining: 93ms\n",
      "75:\tlearn: 0.9098083\ttotal: 94.2ms\tremaining: 91.7ms\n",
      "76:\tlearn: 0.9109357\ttotal: 95.5ms\tremaining: 90.5ms\n",
      "77:\tlearn: 0.9109357\ttotal: 96.7ms\tremaining: 89.2ms\n",
      "78:\tlearn: 0.9109357\ttotal: 97.8ms\tremaining: 87.9ms\n",
      "79:\tlearn: 0.9098083\ttotal: 98.9ms\tremaining: 86.5ms\n",
      "80:\tlearn: 0.9120631\ttotal: 100ms\tremaining: 85.1ms\n",
      "81:\tlearn: 0.9120631\ttotal: 101ms\tremaining: 83.8ms\n",
      "82:\tlearn: 0.9120631\ttotal: 102ms\tremaining: 82.4ms\n",
      "83:\tlearn: 0.9120631\ttotal: 103ms\tremaining: 81.1ms\n",
      "84:\tlearn: 0.9120631\ttotal: 104ms\tremaining: 79.8ms\n",
      "85:\tlearn: 0.9120631\ttotal: 105ms\tremaining: 78.5ms\n",
      "86:\tlearn: 0.9120631\ttotal: 107ms\tremaining: 77.2ms\n",
      "87:\tlearn: 0.9120631\ttotal: 108ms\tremaining: 75.9ms\n",
      "88:\tlearn: 0.9120631\ttotal: 109ms\tremaining: 74.6ms\n",
      "89:\tlearn: 0.9120631\ttotal: 110ms\tremaining: 73.3ms\n",
      "90:\tlearn: 0.9120631\ttotal: 111ms\tremaining: 72ms\n",
      "91:\tlearn: 0.9120631\ttotal: 112ms\tremaining: 70.9ms\n",
      "92:\tlearn: 0.9120631\ttotal: 114ms\tremaining: 69.7ms\n",
      "93:\tlearn: 0.9120631\ttotal: 115ms\tremaining: 68.5ms\n",
      "94:\tlearn: 0.9120631\ttotal: 116ms\tremaining: 67.2ms\n",
      "95:\tlearn: 0.9120631\ttotal: 117ms\tremaining: 65.9ms\n",
      "96:\tlearn: 0.9120631\ttotal: 118ms\tremaining: 64.7ms\n",
      "97:\tlearn: 0.9120631\ttotal: 120ms\tremaining: 63.5ms\n",
      "98:\tlearn: 0.9120631\ttotal: 121ms\tremaining: 62.3ms\n",
      "99:\tlearn: 0.9120631\ttotal: 122ms\tremaining: 61ms\n",
      "100:\tlearn: 0.9120631\ttotal: 123ms\tremaining: 59.8ms\n",
      "101:\tlearn: 0.9120631\ttotal: 125ms\tremaining: 58.7ms\n",
      "102:\tlearn: 0.9120631\ttotal: 126ms\tremaining: 57.5ms\n",
      "103:\tlearn: 0.9120631\ttotal: 127ms\tremaining: 56.2ms\n",
      "104:\tlearn: 0.9120631\ttotal: 128ms\tremaining: 55ms\n",
      "105:\tlearn: 0.9120631\ttotal: 130ms\tremaining: 53.8ms\n",
      "106:\tlearn: 0.9120631\ttotal: 131ms\tremaining: 52.5ms\n",
      "107:\tlearn: 0.9120631\ttotal: 132ms\tremaining: 51.3ms\n",
      "108:\tlearn: 0.9120631\ttotal: 133ms\tremaining: 50.1ms\n",
      "109:\tlearn: 0.9120631\ttotal: 135ms\tremaining: 49.1ms\n",
      "110:\tlearn: 0.9120631\ttotal: 137ms\tremaining: 48ms\n",
      "111:\tlearn: 0.9131905\ttotal: 138ms\tremaining: 46.8ms\n",
      "112:\tlearn: 0.9131905\ttotal: 139ms\tremaining: 45.5ms\n",
      "113:\tlearn: 0.9131905\ttotal: 140ms\tremaining: 44.3ms\n",
      "114:\tlearn: 0.9131905\ttotal: 141ms\tremaining: 43.1ms\n",
      "115:\tlearn: 0.9131905\ttotal: 143ms\tremaining: 41.9ms\n",
      "116:\tlearn: 0.9131905\ttotal: 144ms\tremaining: 40.6ms\n",
      "117:\tlearn: 0.9131905\ttotal: 145ms\tremaining: 39.4ms\n",
      "118:\tlearn: 0.9131905\ttotal: 146ms\tremaining: 38.1ms\n",
      "119:\tlearn: 0.9131905\ttotal: 148ms\tremaining: 36.9ms\n",
      "120:\tlearn: 0.9131905\ttotal: 149ms\tremaining: 35.6ms\n",
      "121:\tlearn: 0.9131905\ttotal: 150ms\tremaining: 34.4ms\n",
      "122:\tlearn: 0.9131905\ttotal: 151ms\tremaining: 33.1ms\n",
      "123:\tlearn: 0.9131905\ttotal: 152ms\tremaining: 31.9ms\n",
      "124:\tlearn: 0.9120631\ttotal: 153ms\tremaining: 30.7ms\n",
      "125:\tlearn: 0.9120631\ttotal: 154ms\tremaining: 29.4ms\n",
      "126:\tlearn: 0.9131905\ttotal: 156ms\tremaining: 28.2ms\n",
      "127:\tlearn: 0.9120631\ttotal: 157ms\tremaining: 26.9ms\n",
      "128:\tlearn: 0.9120631\ttotal: 158ms\tremaining: 25.7ms\n",
      "129:\tlearn: 0.9120631\ttotal: 159ms\tremaining: 24.5ms\n",
      "130:\tlearn: 0.9120631\ttotal: 160ms\tremaining: 23.3ms\n",
      "131:\tlearn: 0.9120631\ttotal: 162ms\tremaining: 22ms\n",
      "132:\tlearn: 0.9120631\ttotal: 163ms\tremaining: 20.8ms\n",
      "133:\tlearn: 0.9120631\ttotal: 164ms\tremaining: 19.6ms\n",
      "134:\tlearn: 0.9131905\ttotal: 165ms\tremaining: 18.3ms\n",
      "135:\tlearn: 0.9131905\ttotal: 166ms\tremaining: 17.1ms\n",
      "136:\tlearn: 0.9131905\ttotal: 167ms\tremaining: 15.9ms\n",
      "137:\tlearn: 0.9143179\ttotal: 168ms\tremaining: 14.6ms\n",
      "138:\tlearn: 0.9143179\ttotal: 170ms\tremaining: 13.4ms\n",
      "139:\tlearn: 0.9143179\ttotal: 171ms\tremaining: 12.2ms\n",
      "140:\tlearn: 0.9143179\ttotal: 172ms\tremaining: 11ms\n",
      "141:\tlearn: 0.9120631\ttotal: 173ms\tremaining: 9.74ms\n",
      "142:\tlearn: 0.9120631\ttotal: 174ms\tremaining: 8.52ms\n",
      "143:\tlearn: 0.9120631\ttotal: 175ms\tremaining: 7.29ms\n",
      "144:\tlearn: 0.9109357\ttotal: 176ms\tremaining: 6.08ms\n",
      "145:\tlearn: 0.9109357\ttotal: 177ms\tremaining: 4.86ms\n",
      "146:\tlearn: 0.9109357\ttotal: 178ms\tremaining: 3.64ms\n",
      "147:\tlearn: 0.9109357\ttotal: 180ms\tremaining: 2.43ms\n",
      "148:\tlearn: 0.9109357\ttotal: 181ms\tremaining: 1.21ms\n",
      "149:\tlearn: 0.9120631\ttotal: 182ms\tremaining: 0us\n",
      "0:\tlearn: 0.8376550\ttotal: 1.39ms\tremaining: 208ms\n",
      "1:\tlearn: 0.8432920\ttotal: 2.77ms\tremaining: 205ms\n",
      "2:\tlearn: 0.8624577\ttotal: 4.09ms\tremaining: 201ms\n",
      "3:\tlearn: 0.8568207\ttotal: 5.26ms\tremaining: 192ms\n",
      "4:\tlearn: 0.8624577\ttotal: 6.43ms\tremaining: 187ms\n",
      "5:\tlearn: 0.8590755\ttotal: 7.56ms\tremaining: 181ms\n",
      "6:\tlearn: 0.8579481\ttotal: 8.67ms\tremaining: 177ms\n",
      "7:\tlearn: 0.8613303\ttotal: 9.8ms\tremaining: 174ms\n",
      "8:\tlearn: 0.8624577\ttotal: 11.1ms\tremaining: 173ms\n",
      "9:\tlearn: 0.8635851\ttotal: 12.4ms\tremaining: 173ms\n",
      "10:\tlearn: 0.8669673\ttotal: 13.6ms\tremaining: 172ms\n",
      "11:\tlearn: 0.8692221\ttotal: 14.8ms\tremaining: 171ms\n",
      "12:\tlearn: 0.8669673\ttotal: 16ms\tremaining: 169ms\n",
      "13:\tlearn: 0.8669673\ttotal: 17.2ms\tremaining: 167ms\n",
      "14:\tlearn: 0.8726043\ttotal: 18.3ms\tremaining: 165ms\n",
      "15:\tlearn: 0.8692221\ttotal: 19.7ms\tremaining: 165ms\n",
      "16:\tlearn: 0.8703495\ttotal: 20.9ms\tremaining: 164ms\n",
      "17:\tlearn: 0.8714769\ttotal: 22.2ms\tremaining: 162ms\n",
      "18:\tlearn: 0.8748591\ttotal: 23.5ms\tremaining: 162ms\n",
      "19:\tlearn: 0.8748591\ttotal: 24.7ms\tremaining: 161ms\n",
      "20:\tlearn: 0.8771139\ttotal: 25.9ms\tremaining: 159ms\n",
      "21:\tlearn: 0.8782413\ttotal: 27.1ms\tremaining: 157ms\n",
      "22:\tlearn: 0.8793687\ttotal: 28.3ms\tremaining: 156ms\n",
      "23:\tlearn: 0.8804961\ttotal: 29.5ms\tremaining: 155ms\n",
      "24:\tlearn: 0.8793687\ttotal: 30.7ms\tremaining: 153ms\n",
      "25:\tlearn: 0.8850056\ttotal: 31.8ms\tremaining: 152ms\n",
      "26:\tlearn: 0.8861330\ttotal: 33ms\tremaining: 150ms\n",
      "27:\tlearn: 0.8850056\ttotal: 34.3ms\tremaining: 149ms\n",
      "28:\tlearn: 0.8861330\ttotal: 35.5ms\tremaining: 148ms\n",
      "29:\tlearn: 0.8850056\ttotal: 36.8ms\tremaining: 147ms\n",
      "30:\tlearn: 0.8838782\ttotal: 38.1ms\tremaining: 146ms\n",
      "31:\tlearn: 0.8827508\ttotal: 39.4ms\tremaining: 145ms\n",
      "32:\tlearn: 0.8804961\ttotal: 40.6ms\tremaining: 144ms\n",
      "33:\tlearn: 0.8827508\ttotal: 41.8ms\tremaining: 143ms\n",
      "34:\tlearn: 0.8850056\ttotal: 43.1ms\tremaining: 142ms\n",
      "35:\tlearn: 0.8872604\ttotal: 44.3ms\tremaining: 140ms\n",
      "36:\tlearn: 0.8872604\ttotal: 45.6ms\tremaining: 139ms\n",
      "37:\tlearn: 0.8883878\ttotal: 46.9ms\tremaining: 138ms\n",
      "38:\tlearn: 0.8906426\ttotal: 48.1ms\tremaining: 137ms\n",
      "39:\tlearn: 0.8906426\ttotal: 49.5ms\tremaining: 136ms\n",
      "40:\tlearn: 0.8917700\ttotal: 50.7ms\tremaining: 135ms\n",
      "41:\tlearn: 0.8928974\ttotal: 52ms\tremaining: 134ms\n",
      "42:\tlearn: 0.8962796\ttotal: 53.4ms\tremaining: 133ms\n",
      "43:\tlearn: 0.8962796\ttotal: 54.6ms\tremaining: 132ms\n",
      "44:\tlearn: 0.8962796\ttotal: 56ms\tremaining: 131ms\n",
      "45:\tlearn: 0.8951522\ttotal: 57.3ms\tremaining: 129ms\n",
      "46:\tlearn: 0.8962796\ttotal: 58.7ms\tremaining: 129ms\n",
      "47:\tlearn: 0.8962796\ttotal: 60.1ms\tremaining: 128ms\n",
      "48:\tlearn: 0.8962796\ttotal: 61.4ms\tremaining: 127ms\n",
      "49:\tlearn: 0.8974070\ttotal: 62.5ms\tremaining: 125ms\n",
      "50:\tlearn: 0.8985344\ttotal: 63.6ms\tremaining: 124ms\n",
      "51:\tlearn: 0.8985344\ttotal: 64.7ms\tremaining: 122ms\n",
      "52:\tlearn: 0.8996618\ttotal: 65.8ms\tremaining: 121ms\n",
      "53:\tlearn: 0.9019166\ttotal: 67ms\tremaining: 119ms\n",
      "54:\tlearn: 0.9041714\ttotal: 68ms\tremaining: 118ms\n",
      "55:\tlearn: 0.9041714\ttotal: 69.2ms\tremaining: 116ms\n",
      "56:\tlearn: 0.9041714\ttotal: 70.5ms\tremaining: 115ms\n",
      "57:\tlearn: 0.9041714\ttotal: 71.6ms\tremaining: 114ms\n",
      "58:\tlearn: 0.9041714\ttotal: 72.7ms\tremaining: 112ms\n",
      "59:\tlearn: 0.9052988\ttotal: 73.9ms\tremaining: 111ms\n",
      "60:\tlearn: 0.9052988\ttotal: 75ms\tremaining: 109ms\n",
      "61:\tlearn: 0.9064262\ttotal: 76.2ms\tremaining: 108ms\n",
      "62:\tlearn: 0.9075536\ttotal: 77.4ms\tremaining: 107ms\n",
      "63:\tlearn: 0.9075536\ttotal: 78.5ms\tremaining: 105ms\n",
      "64:\tlearn: 0.9075536\ttotal: 79.7ms\tremaining: 104ms\n",
      "65:\tlearn: 0.9064262\ttotal: 80.8ms\tremaining: 103ms\n",
      "66:\tlearn: 0.9064262\ttotal: 81.6ms\tremaining: 101ms\n",
      "67:\tlearn: 0.9064262\ttotal: 82.9ms\tremaining: 99.9ms\n",
      "68:\tlearn: 0.9064262\ttotal: 84.1ms\tremaining: 98.8ms\n",
      "69:\tlearn: 0.9064262\ttotal: 85.2ms\tremaining: 97.4ms\n",
      "70:\tlearn: 0.9086809\ttotal: 86.4ms\tremaining: 96.1ms\n",
      "71:\tlearn: 0.9086809\ttotal: 87.5ms\tremaining: 94.8ms\n",
      "72:\tlearn: 0.9086809\ttotal: 88.6ms\tremaining: 93.4ms\n",
      "73:\tlearn: 0.9086809\ttotal: 89.7ms\tremaining: 92.1ms\n",
      "74:\tlearn: 0.9086809\ttotal: 90.8ms\tremaining: 90.8ms\n",
      "75:\tlearn: 0.9086809\ttotal: 92.1ms\tremaining: 89.6ms\n",
      "76:\tlearn: 0.9086809\ttotal: 93.1ms\tremaining: 88.3ms\n",
      "77:\tlearn: 0.9086809\ttotal: 94.3ms\tremaining: 87ms\n",
      "78:\tlearn: 0.9098083\ttotal: 95.4ms\tremaining: 85.8ms\n",
      "79:\tlearn: 0.9098083\ttotal: 96.5ms\tremaining: 84.5ms\n",
      "80:\tlearn: 0.9098083\ttotal: 97.6ms\tremaining: 83.1ms\n",
      "81:\tlearn: 0.9098083\ttotal: 98.7ms\tremaining: 81.9ms\n",
      "82:\tlearn: 0.9098083\ttotal: 99.8ms\tremaining: 80.6ms\n",
      "83:\tlearn: 0.9098083\ttotal: 101ms\tremaining: 79.3ms\n",
      "84:\tlearn: 0.9098083\ttotal: 102ms\tremaining: 78.2ms\n",
      "85:\tlearn: 0.9098083\ttotal: 104ms\tremaining: 77.1ms\n",
      "86:\tlearn: 0.9086809\ttotal: 105ms\tremaining: 76ms\n",
      "87:\tlearn: 0.9086809\ttotal: 106ms\tremaining: 74.9ms\n",
      "88:\tlearn: 0.9086809\ttotal: 107ms\tremaining: 73.7ms\n",
      "89:\tlearn: 0.9086809\ttotal: 109ms\tremaining: 72.4ms\n",
      "90:\tlearn: 0.9086809\ttotal: 110ms\tremaining: 71.2ms\n",
      "91:\tlearn: 0.9086809\ttotal: 111ms\tremaining: 69.9ms\n",
      "92:\tlearn: 0.9086809\ttotal: 112ms\tremaining: 68.7ms\n",
      "93:\tlearn: 0.9098083\ttotal: 113ms\tremaining: 67.6ms\n",
      "94:\tlearn: 0.9098083\ttotal: 115ms\tremaining: 66.5ms\n",
      "95:\tlearn: 0.9098083\ttotal: 116ms\tremaining: 65.2ms\n",
      "96:\tlearn: 0.9098083\ttotal: 117ms\tremaining: 63.9ms\n",
      "97:\tlearn: 0.9098083\ttotal: 118ms\tremaining: 62.6ms\n",
      "98:\tlearn: 0.9098083\ttotal: 119ms\tremaining: 61.3ms\n",
      "99:\tlearn: 0.9098083\ttotal: 120ms\tremaining: 60ms\n",
      "100:\tlearn: 0.9086809\ttotal: 122ms\tremaining: 59.4ms\n",
      "101:\tlearn: 0.9086809\ttotal: 124ms\tremaining: 58.4ms\n",
      "102:\tlearn: 0.9086809\ttotal: 125ms\tremaining: 57.2ms\n",
      "103:\tlearn: 0.9086809\ttotal: 127ms\tremaining: 56ms\n",
      "104:\tlearn: 0.9075536\ttotal: 128ms\tremaining: 54.8ms\n",
      "105:\tlearn: 0.9098083\ttotal: 129ms\tremaining: 53.6ms\n",
      "106:\tlearn: 0.9098083\ttotal: 131ms\tremaining: 52.5ms\n",
      "107:\tlearn: 0.9098083\ttotal: 132ms\tremaining: 51.3ms\n",
      "108:\tlearn: 0.9098083\ttotal: 133ms\tremaining: 50.1ms\n",
      "109:\tlearn: 0.9098083\ttotal: 135ms\tremaining: 48.9ms\n",
      "110:\tlearn: 0.9098083\ttotal: 136ms\tremaining: 47.7ms\n",
      "111:\tlearn: 0.9098083\ttotal: 137ms\tremaining: 46.5ms\n",
      "112:\tlearn: 0.9098083\ttotal: 138ms\tremaining: 45.3ms\n",
      "113:\tlearn: 0.9098083\ttotal: 139ms\tremaining: 44ms\n",
      "114:\tlearn: 0.9098083\ttotal: 141ms\tremaining: 42.8ms\n",
      "115:\tlearn: 0.9098083\ttotal: 142ms\tremaining: 41.6ms\n",
      "116:\tlearn: 0.9098083\ttotal: 143ms\tremaining: 40.4ms\n",
      "117:\tlearn: 0.9098083\ttotal: 145ms\tremaining: 39.2ms\n",
      "118:\tlearn: 0.9098083\ttotal: 146ms\tremaining: 37.9ms\n",
      "119:\tlearn: 0.9098083\ttotal: 147ms\tremaining: 36.7ms\n",
      "120:\tlearn: 0.9098083\ttotal: 148ms\tremaining: 35.4ms\n",
      "121:\tlearn: 0.9098083\ttotal: 149ms\tremaining: 34.2ms\n",
      "122:\tlearn: 0.9098083\ttotal: 150ms\tremaining: 33ms\n",
      "123:\tlearn: 0.9098083\ttotal: 152ms\tremaining: 31.8ms\n",
      "124:\tlearn: 0.9098083\ttotal: 153ms\tremaining: 30.6ms\n",
      "125:\tlearn: 0.9098083\ttotal: 154ms\tremaining: 29.4ms\n",
      "126:\tlearn: 0.9098083\ttotal: 155ms\tremaining: 28.1ms\n",
      "127:\tlearn: 0.9098083\ttotal: 156ms\tremaining: 26.9ms\n",
      "128:\tlearn: 0.9098083\ttotal: 158ms\tremaining: 25.7ms\n",
      "129:\tlearn: 0.9098083\ttotal: 159ms\tremaining: 24.4ms\n",
      "130:\tlearn: 0.9098083\ttotal: 160ms\tremaining: 23.2ms\n",
      "131:\tlearn: 0.9098083\ttotal: 161ms\tremaining: 22ms\n",
      "132:\tlearn: 0.9098083\ttotal: 163ms\tremaining: 20.8ms\n",
      "133:\tlearn: 0.9098083\ttotal: 164ms\tremaining: 19.6ms\n",
      "134:\tlearn: 0.9098083\ttotal: 165ms\tremaining: 18.3ms\n",
      "135:\tlearn: 0.9098083\ttotal: 166ms\tremaining: 17.1ms\n",
      "136:\tlearn: 0.9098083\ttotal: 167ms\tremaining: 15.9ms\n",
      "137:\tlearn: 0.9098083\ttotal: 168ms\tremaining: 14.6ms\n",
      "138:\tlearn: 0.9098083\ttotal: 169ms\tremaining: 13.4ms\n",
      "139:\tlearn: 0.9098083\ttotal: 171ms\tremaining: 12.2ms\n",
      "140:\tlearn: 0.9109357\ttotal: 172ms\tremaining: 11ms\n",
      "141:\tlearn: 0.9109357\ttotal: 173ms\tremaining: 9.76ms\n",
      "142:\tlearn: 0.9120631\ttotal: 174ms\tremaining: 8.54ms\n",
      "143:\tlearn: 0.9120631\ttotal: 176ms\tremaining: 7.32ms\n",
      "144:\tlearn: 0.9120631\ttotal: 177ms\tremaining: 6.1ms\n",
      "145:\tlearn: 0.9120631\ttotal: 178ms\tremaining: 4.88ms\n",
      "146:\tlearn: 0.9131905\ttotal: 180ms\tremaining: 3.66ms\n",
      "147:\tlearn: 0.9131905\ttotal: 181ms\tremaining: 2.44ms\n",
      "148:\tlearn: 0.9131905\ttotal: 182ms\tremaining: 1.22ms\n",
      "149:\tlearn: 0.9131905\ttotal: 184ms\tremaining: 0us\n",
      "0:\tlearn: 0.8489290\ttotal: 1.64ms\tremaining: 244ms\n",
      "1:\tlearn: 0.8444194\ttotal: 2.71ms\tremaining: 201ms\n",
      "2:\tlearn: 0.8556933\ttotal: 4.15ms\tremaining: 204ms\n",
      "3:\tlearn: 0.8545660\ttotal: 5.58ms\tremaining: 204ms\n",
      "4:\tlearn: 0.8534386\ttotal: 6.99ms\tremaining: 203ms\n",
      "5:\tlearn: 0.8635851\ttotal: 8.26ms\tremaining: 198ms\n",
      "6:\tlearn: 0.8635851\ttotal: 9.61ms\tremaining: 196ms\n",
      "7:\tlearn: 0.8590755\ttotal: 11ms\tremaining: 195ms\n",
      "8:\tlearn: 0.8624577\ttotal: 12.3ms\tremaining: 192ms\n",
      "9:\tlearn: 0.8635851\ttotal: 13.9ms\tremaining: 195ms\n",
      "10:\tlearn: 0.8647125\ttotal: 15.3ms\tremaining: 194ms\n",
      "11:\tlearn: 0.8647125\ttotal: 16.6ms\tremaining: 191ms\n",
      "12:\tlearn: 0.8658399\ttotal: 17.9ms\tremaining: 189ms\n",
      "13:\tlearn: 0.8658399\ttotal: 19.4ms\tremaining: 188ms\n",
      "14:\tlearn: 0.8680947\ttotal: 20.7ms\tremaining: 187ms\n",
      "15:\tlearn: 0.8658399\ttotal: 22.2ms\tremaining: 186ms\n",
      "16:\tlearn: 0.8692221\ttotal: 24.1ms\tremaining: 189ms\n",
      "17:\tlearn: 0.8737317\ttotal: 25.4ms\tremaining: 186ms\n",
      "18:\tlearn: 0.8771139\ttotal: 26.7ms\tremaining: 184ms\n",
      "19:\tlearn: 0.8748591\ttotal: 28ms\tremaining: 182ms\n",
      "20:\tlearn: 0.8748591\ttotal: 29.3ms\tremaining: 180ms\n",
      "21:\tlearn: 0.8748591\ttotal: 30.7ms\tremaining: 178ms\n",
      "22:\tlearn: 0.8782413\ttotal: 31.9ms\tremaining: 176ms\n",
      "23:\tlearn: 0.8804961\ttotal: 33.2ms\tremaining: 175ms\n",
      "24:\tlearn: 0.8804961\ttotal: 34.6ms\tremaining: 173ms\n",
      "25:\tlearn: 0.8804961\ttotal: 35.9ms\tremaining: 171ms\n",
      "26:\tlearn: 0.8850056\ttotal: 37.3ms\tremaining: 170ms\n",
      "27:\tlearn: 0.8838782\ttotal: 38.6ms\tremaining: 168ms\n",
      "28:\tlearn: 0.8883878\ttotal: 39.8ms\tremaining: 166ms\n",
      "29:\tlearn: 0.8883878\ttotal: 41.1ms\tremaining: 164ms\n",
      "30:\tlearn: 0.8895152\ttotal: 42.4ms\tremaining: 163ms\n",
      "31:\tlearn: 0.8906426\ttotal: 43.8ms\tremaining: 161ms\n",
      "32:\tlearn: 0.8940248\ttotal: 45.1ms\tremaining: 160ms\n",
      "33:\tlearn: 0.8940248\ttotal: 46.3ms\tremaining: 158ms\n",
      "34:\tlearn: 0.8917700\ttotal: 47.7ms\tremaining: 157ms\n",
      "35:\tlearn: 0.8928974\ttotal: 48.9ms\tremaining: 155ms\n",
      "36:\tlearn: 0.8928974\ttotal: 50.2ms\tremaining: 153ms\n",
      "37:\tlearn: 0.8940248\ttotal: 51.4ms\tremaining: 151ms\n",
      "38:\tlearn: 0.8951522\ttotal: 52.5ms\tremaining: 149ms\n",
      "39:\tlearn: 0.8951522\ttotal: 53.6ms\tremaining: 147ms\n",
      "40:\tlearn: 0.8985344\ttotal: 54.7ms\tremaining: 146ms\n",
      "41:\tlearn: 0.8962796\ttotal: 55.9ms\tremaining: 144ms\n",
      "42:\tlearn: 0.8951522\ttotal: 57.1ms\tremaining: 142ms\n",
      "43:\tlearn: 0.8985344\ttotal: 58.2ms\tremaining: 140ms\n",
      "44:\tlearn: 0.8996618\ttotal: 59.4ms\tremaining: 139ms\n",
      "45:\tlearn: 0.9007892\ttotal: 60.5ms\tremaining: 137ms\n",
      "46:\tlearn: 0.9030440\ttotal: 61.8ms\tremaining: 135ms\n",
      "47:\tlearn: 0.9007892\ttotal: 62.9ms\tremaining: 134ms\n",
      "48:\tlearn: 0.9019166\ttotal: 64ms\tremaining: 132ms\n",
      "49:\tlearn: 0.9019166\ttotal: 65.1ms\tremaining: 130ms\n",
      "50:\tlearn: 0.9019166\ttotal: 66.3ms\tremaining: 129ms\n",
      "51:\tlearn: 0.9019166\ttotal: 67.4ms\tremaining: 127ms\n",
      "52:\tlearn: 0.9019166\ttotal: 68.4ms\tremaining: 125ms\n",
      "53:\tlearn: 0.9019166\ttotal: 69ms\tremaining: 123ms\n",
      "54:\tlearn: 0.9041714\ttotal: 70.2ms\tremaining: 121ms\n",
      "55:\tlearn: 0.9030440\ttotal: 71.4ms\tremaining: 120ms\n",
      "56:\tlearn: 0.9052988\ttotal: 72.6ms\tremaining: 118ms\n",
      "57:\tlearn: 0.9041714\ttotal: 73.7ms\tremaining: 117ms\n",
      "58:\tlearn: 0.9052988\ttotal: 74.9ms\tremaining: 116ms\n",
      "59:\tlearn: 0.9052988\ttotal: 76ms\tremaining: 114ms\n",
      "60:\tlearn: 0.9052988\ttotal: 77.1ms\tremaining: 113ms\n",
      "61:\tlearn: 0.9052988\ttotal: 78.3ms\tremaining: 111ms\n",
      "62:\tlearn: 0.9052988\ttotal: 79.5ms\tremaining: 110ms\n",
      "63:\tlearn: 0.9052988\ttotal: 80.7ms\tremaining: 108ms\n",
      "64:\tlearn: 0.9041714\ttotal: 82.6ms\tremaining: 108ms\n",
      "65:\tlearn: 0.9041714\ttotal: 83.8ms\tremaining: 107ms\n",
      "66:\tlearn: 0.9041714\ttotal: 84.9ms\tremaining: 105ms\n",
      "67:\tlearn: 0.9041714\ttotal: 86.1ms\tremaining: 104ms\n",
      "68:\tlearn: 0.9064262\ttotal: 87.4ms\tremaining: 103ms\n",
      "69:\tlearn: 0.9064262\ttotal: 88.6ms\tremaining: 101ms\n",
      "70:\tlearn: 0.9064262\ttotal: 89.8ms\tremaining: 99.9ms\n",
      "71:\tlearn: 0.9064262\ttotal: 91.1ms\tremaining: 98.7ms\n",
      "72:\tlearn: 0.9075536\ttotal: 92.3ms\tremaining: 97.3ms\n",
      "73:\tlearn: 0.9086809\ttotal: 93.5ms\tremaining: 96ms\n",
      "74:\tlearn: 0.9086809\ttotal: 94.7ms\tremaining: 94.7ms\n",
      "75:\tlearn: 0.9075536\ttotal: 96ms\tremaining: 93.4ms\n",
      "76:\tlearn: 0.9075536\ttotal: 97.1ms\tremaining: 92.1ms\n",
      "77:\tlearn: 0.9075536\ttotal: 98.4ms\tremaining: 90.8ms\n",
      "78:\tlearn: 0.9075536\ttotal: 99.6ms\tremaining: 89.5ms\n",
      "79:\tlearn: 0.9086809\ttotal: 101ms\tremaining: 88.2ms\n",
      "80:\tlearn: 0.9086809\ttotal: 102ms\tremaining: 86.8ms\n",
      "81:\tlearn: 0.9086809\ttotal: 103ms\tremaining: 85.5ms\n",
      "82:\tlearn: 0.9098083\ttotal: 104ms\tremaining: 84.1ms\n",
      "83:\tlearn: 0.9098083\ttotal: 105ms\tremaining: 82.8ms\n",
      "84:\tlearn: 0.9098083\ttotal: 107ms\tremaining: 81.5ms\n",
      "85:\tlearn: 0.9098083\ttotal: 108ms\tremaining: 80.2ms\n",
      "86:\tlearn: 0.9098083\ttotal: 109ms\tremaining: 78.9ms\n",
      "87:\tlearn: 0.9098083\ttotal: 110ms\tremaining: 77.6ms\n",
      "88:\tlearn: 0.9098083\ttotal: 112ms\tremaining: 76.4ms\n",
      "89:\tlearn: 0.9098083\ttotal: 113ms\tremaining: 75.1ms\n",
      "90:\tlearn: 0.9098083\ttotal: 114ms\tremaining: 73.8ms\n",
      "91:\tlearn: 0.9098083\ttotal: 115ms\tremaining: 72.5ms\n",
      "92:\tlearn: 0.9098083\ttotal: 116ms\tremaining: 71.2ms\n",
      "93:\tlearn: 0.9086809\ttotal: 117ms\tremaining: 69.9ms\n",
      "94:\tlearn: 0.9098083\ttotal: 118ms\tremaining: 68.6ms\n",
      "95:\tlearn: 0.9098083\ttotal: 120ms\tremaining: 67.3ms\n",
      "96:\tlearn: 0.9086809\ttotal: 121ms\tremaining: 66ms\n",
      "97:\tlearn: 0.9086809\ttotal: 122ms\tremaining: 64.7ms\n",
      "98:\tlearn: 0.9086809\ttotal: 123ms\tremaining: 63.4ms\n",
      "99:\tlearn: 0.9086809\ttotal: 124ms\tremaining: 62.1ms\n",
      "100:\tlearn: 0.9086809\ttotal: 125ms\tremaining: 60.8ms\n",
      "101:\tlearn: 0.9086809\ttotal: 127ms\tremaining: 59.5ms\n",
      "102:\tlearn: 0.9086809\ttotal: 128ms\tremaining: 58.3ms\n",
      "103:\tlearn: 0.9086809\ttotal: 129ms\tremaining: 57.1ms\n",
      "104:\tlearn: 0.9086809\ttotal: 130ms\tremaining: 55.8ms\n",
      "105:\tlearn: 0.9098083\ttotal: 132ms\tremaining: 54.8ms\n",
      "106:\tlearn: 0.9109357\ttotal: 133ms\tremaining: 53.6ms\n",
      "107:\tlearn: 0.9098083\ttotal: 135ms\tremaining: 52.4ms\n",
      "108:\tlearn: 0.9098083\ttotal: 136ms\tremaining: 51.2ms\n",
      "109:\tlearn: 0.9098083\ttotal: 137ms\tremaining: 50ms\n",
      "110:\tlearn: 0.9098083\ttotal: 139ms\tremaining: 48.7ms\n",
      "111:\tlearn: 0.9109357\ttotal: 140ms\tremaining: 47.5ms\n",
      "112:\tlearn: 0.9109357\ttotal: 141ms\tremaining: 46.2ms\n",
      "113:\tlearn: 0.9109357\ttotal: 142ms\tremaining: 44.9ms\n",
      "114:\tlearn: 0.9109357\ttotal: 143ms\tremaining: 43.7ms\n",
      "115:\tlearn: 0.9109357\ttotal: 145ms\tremaining: 42.4ms\n",
      "116:\tlearn: 0.9109357\ttotal: 146ms\tremaining: 41.1ms\n",
      "117:\tlearn: 0.9109357\ttotal: 147ms\tremaining: 39.8ms\n",
      "118:\tlearn: 0.9109357\ttotal: 148ms\tremaining: 38.5ms\n",
      "119:\tlearn: 0.9109357\ttotal: 149ms\tremaining: 37.3ms\n",
      "120:\tlearn: 0.9109357\ttotal: 150ms\tremaining: 36ms\n",
      "121:\tlearn: 0.9109357\ttotal: 152ms\tremaining: 34.8ms\n",
      "122:\tlearn: 0.9109357\ttotal: 153ms\tremaining: 33.5ms\n",
      "123:\tlearn: 0.9086809\ttotal: 154ms\tremaining: 32.2ms\n",
      "124:\tlearn: 0.9086809\ttotal: 155ms\tremaining: 31ms\n",
      "125:\tlearn: 0.9086809\ttotal: 156ms\tremaining: 29.7ms\n",
      "126:\tlearn: 0.9086809\ttotal: 157ms\tremaining: 28.5ms\n",
      "127:\tlearn: 0.9086809\ttotal: 158ms\tremaining: 27.2ms\n",
      "128:\tlearn: 0.9086809\ttotal: 160ms\tremaining: 26ms\n",
      "129:\tlearn: 0.9086809\ttotal: 161ms\tremaining: 24.7ms\n",
      "130:\tlearn: 0.9120631\ttotal: 162ms\tremaining: 23.5ms\n",
      "131:\tlearn: 0.9120631\ttotal: 163ms\tremaining: 22.2ms\n",
      "132:\tlearn: 0.9120631\ttotal: 164ms\tremaining: 21ms\n",
      "133:\tlearn: 0.9109357\ttotal: 165ms\tremaining: 19.7ms\n",
      "134:\tlearn: 0.9109357\ttotal: 166ms\tremaining: 18.5ms\n",
      "135:\tlearn: 0.9120631\ttotal: 167ms\tremaining: 17.2ms\n",
      "136:\tlearn: 0.9120631\ttotal: 168ms\tremaining: 16ms\n",
      "137:\tlearn: 0.9109357\ttotal: 170ms\tremaining: 14.8ms\n",
      "138:\tlearn: 0.9120631\ttotal: 171ms\tremaining: 13.5ms\n",
      "139:\tlearn: 0.9120631\ttotal: 172ms\tremaining: 12.3ms\n",
      "140:\tlearn: 0.9131905\ttotal: 173ms\tremaining: 11ms\n",
      "141:\tlearn: 0.9131905\ttotal: 174ms\tremaining: 9.81ms\n",
      "142:\tlearn: 0.9131905\ttotal: 175ms\tremaining: 8.58ms\n",
      "143:\tlearn: 0.9131905\ttotal: 176ms\tremaining: 7.35ms\n",
      "144:\tlearn: 0.9120631\ttotal: 178ms\tremaining: 6.13ms\n",
      "145:\tlearn: 0.9120631\ttotal: 179ms\tremaining: 4.9ms\n",
      "146:\tlearn: 0.9131905\ttotal: 196ms\tremaining: 3.99ms\n",
      "147:\tlearn: 0.9143179\ttotal: 197ms\tremaining: 2.66ms\n",
      "148:\tlearn: 0.9143179\ttotal: 198ms\tremaining: 1.33ms\n",
      "149:\tlearn: 0.9143179\ttotal: 199ms\tremaining: 0us\n",
      "0:\tlearn: 0.8500564\ttotal: 1.48ms\tremaining: 220ms\n",
      "1:\tlearn: 0.8534386\ttotal: 2.86ms\tremaining: 212ms\n",
      "2:\tlearn: 0.8647125\ttotal: 4.2ms\tremaining: 206ms\n",
      "3:\tlearn: 0.8647125\ttotal: 5.69ms\tremaining: 208ms\n",
      "4:\tlearn: 0.8658399\ttotal: 6.92ms\tremaining: 201ms\n",
      "5:\tlearn: 0.8703495\ttotal: 8.09ms\tremaining: 194ms\n",
      "6:\tlearn: 0.8703495\ttotal: 9.24ms\tremaining: 189ms\n",
      "7:\tlearn: 0.8680947\ttotal: 10.4ms\tremaining: 184ms\n",
      "8:\tlearn: 0.8680947\ttotal: 11.6ms\tremaining: 181ms\n",
      "9:\tlearn: 0.8680947\ttotal: 12.8ms\tremaining: 180ms\n",
      "10:\tlearn: 0.8658399\ttotal: 14ms\tremaining: 177ms\n",
      "11:\tlearn: 0.8714769\ttotal: 15.2ms\tremaining: 175ms\n",
      "12:\tlearn: 0.8669673\ttotal: 16.4ms\tremaining: 172ms\n",
      "13:\tlearn: 0.8737317\ttotal: 17.5ms\tremaining: 170ms\n",
      "14:\tlearn: 0.8782413\ttotal: 18.7ms\tremaining: 168ms\n",
      "15:\tlearn: 0.8804961\ttotal: 19.9ms\tremaining: 166ms\n",
      "16:\tlearn: 0.8816234\ttotal: 21.1ms\tremaining: 165ms\n",
      "17:\tlearn: 0.8793687\ttotal: 22.3ms\tremaining: 163ms\n",
      "18:\tlearn: 0.8816234\ttotal: 23.5ms\tremaining: 162ms\n",
      "19:\tlearn: 0.8816234\ttotal: 24.7ms\tremaining: 160ms\n",
      "20:\tlearn: 0.8793687\ttotal: 25.8ms\tremaining: 159ms\n",
      "21:\tlearn: 0.8827508\ttotal: 26.9ms\tremaining: 157ms\n",
      "22:\tlearn: 0.8827508\ttotal: 28.2ms\tremaining: 156ms\n",
      "23:\tlearn: 0.8827508\ttotal: 29.3ms\tremaining: 154ms\n",
      "24:\tlearn: 0.8838782\ttotal: 30.5ms\tremaining: 152ms\n",
      "25:\tlearn: 0.8850056\ttotal: 31.6ms\tremaining: 151ms\n",
      "26:\tlearn: 0.8850056\ttotal: 32.8ms\tremaining: 149ms\n",
      "27:\tlearn: 0.8861330\ttotal: 33.9ms\tremaining: 147ms\n",
      "28:\tlearn: 0.8872604\ttotal: 35ms\tremaining: 146ms\n",
      "29:\tlearn: 0.8917700\ttotal: 36.2ms\tremaining: 145ms\n",
      "30:\tlearn: 0.8883878\ttotal: 37.5ms\tremaining: 144ms\n",
      "31:\tlearn: 0.8895152\ttotal: 38.8ms\tremaining: 143ms\n",
      "32:\tlearn: 0.8883878\ttotal: 39.9ms\tremaining: 142ms\n",
      "33:\tlearn: 0.8917700\ttotal: 41.1ms\tremaining: 140ms\n",
      "34:\tlearn: 0.8895152\ttotal: 42.4ms\tremaining: 139ms\n",
      "35:\tlearn: 0.8906426\ttotal: 43.5ms\tremaining: 138ms\n",
      "36:\tlearn: 0.8917700\ttotal: 44.9ms\tremaining: 137ms\n",
      "37:\tlearn: 0.8928974\ttotal: 46.4ms\tremaining: 137ms\n",
      "38:\tlearn: 0.8940248\ttotal: 47.8ms\tremaining: 136ms\n",
      "39:\tlearn: 0.8940248\ttotal: 49ms\tremaining: 135ms\n",
      "40:\tlearn: 0.8951522\ttotal: 50.3ms\tremaining: 134ms\n",
      "41:\tlearn: 0.8962796\ttotal: 51.7ms\tremaining: 133ms\n",
      "42:\tlearn: 0.8974070\ttotal: 53ms\tremaining: 132ms\n",
      "43:\tlearn: 0.8962796\ttotal: 54.3ms\tremaining: 131ms\n",
      "44:\tlearn: 0.8985344\ttotal: 55.8ms\tremaining: 130ms\n",
      "45:\tlearn: 0.9007892\ttotal: 57.3ms\tremaining: 129ms\n",
      "46:\tlearn: 0.9019166\ttotal: 58.4ms\tremaining: 128ms\n",
      "47:\tlearn: 0.9019166\ttotal: 59.6ms\tremaining: 127ms\n",
      "48:\tlearn: 0.9041714\ttotal: 60.8ms\tremaining: 125ms\n",
      "49:\tlearn: 0.9041714\ttotal: 62.1ms\tremaining: 124ms\n",
      "50:\tlearn: 0.9041714\ttotal: 63.5ms\tremaining: 123ms\n",
      "51:\tlearn: 0.9041714\ttotal: 64.8ms\tremaining: 122ms\n",
      "52:\tlearn: 0.9041714\ttotal: 66ms\tremaining: 121ms\n",
      "53:\tlearn: 0.9041714\ttotal: 67.2ms\tremaining: 119ms\n",
      "54:\tlearn: 0.9041714\ttotal: 68.3ms\tremaining: 118ms\n",
      "55:\tlearn: 0.9030440\ttotal: 69.5ms\tremaining: 117ms\n",
      "56:\tlearn: 0.9041714\ttotal: 70.7ms\tremaining: 115ms\n",
      "57:\tlearn: 0.9064262\ttotal: 71.8ms\tremaining: 114ms\n",
      "58:\tlearn: 0.9064262\ttotal: 72.9ms\tremaining: 112ms\n",
      "59:\tlearn: 0.9064262\ttotal: 74.1ms\tremaining: 111ms\n",
      "60:\tlearn: 0.9064262\ttotal: 75.3ms\tremaining: 110ms\n",
      "61:\tlearn: 0.9064262\ttotal: 76.5ms\tremaining: 109ms\n",
      "62:\tlearn: 0.9064262\ttotal: 77.6ms\tremaining: 107ms\n",
      "63:\tlearn: 0.9075536\ttotal: 78.7ms\tremaining: 106ms\n",
      "64:\tlearn: 0.9075536\ttotal: 79.9ms\tremaining: 104ms\n",
      "65:\tlearn: 0.9064262\ttotal: 81ms\tremaining: 103ms\n",
      "66:\tlearn: 0.9064262\ttotal: 82.2ms\tremaining: 102ms\n",
      "67:\tlearn: 0.9064262\ttotal: 83.3ms\tremaining: 100ms\n",
      "68:\tlearn: 0.9064262\ttotal: 84.1ms\tremaining: 98.8ms\n",
      "69:\tlearn: 0.9075536\ttotal: 85.3ms\tremaining: 97.4ms\n",
      "70:\tlearn: 0.9086809\ttotal: 86.4ms\tremaining: 96.2ms\n",
      "71:\tlearn: 0.9098083\ttotal: 87.5ms\tremaining: 94.8ms\n",
      "72:\tlearn: 0.9086809\ttotal: 88.7ms\tremaining: 93.5ms\n",
      "73:\tlearn: 0.9086809\ttotal: 89.8ms\tremaining: 92.2ms\n",
      "74:\tlearn: 0.9098083\ttotal: 90.9ms\tremaining: 90.9ms\n",
      "75:\tlearn: 0.9109357\ttotal: 92ms\tremaining: 89.6ms\n",
      "76:\tlearn: 0.9109357\ttotal: 93.1ms\tremaining: 88.3ms\n",
      "77:\tlearn: 0.9098083\ttotal: 94.2ms\tremaining: 86.9ms\n",
      "78:\tlearn: 0.9098083\ttotal: 95.3ms\tremaining: 85.7ms\n",
      "79:\tlearn: 0.9098083\ttotal: 96.4ms\tremaining: 84.3ms\n",
      "80:\tlearn: 0.9098083\ttotal: 97.4ms\tremaining: 83ms\n",
      "81:\tlearn: 0.9098083\ttotal: 98.6ms\tremaining: 81.8ms\n",
      "82:\tlearn: 0.9120631\ttotal: 99.8ms\tremaining: 80.6ms\n",
      "83:\tlearn: 0.9120631\ttotal: 101ms\tremaining: 79.3ms\n",
      "84:\tlearn: 0.9098083\ttotal: 102ms\tremaining: 78.2ms\n",
      "85:\tlearn: 0.9098083\ttotal: 103ms\tremaining: 76.9ms\n",
      "86:\tlearn: 0.9098083\ttotal: 104ms\tremaining: 75.6ms\n",
      "87:\tlearn: 0.9098083\ttotal: 105ms\tremaining: 74.3ms\n",
      "88:\tlearn: 0.9109357\ttotal: 107ms\tremaining: 73.1ms\n",
      "89:\tlearn: 0.9109357\ttotal: 108ms\tremaining: 71.8ms\n",
      "90:\tlearn: 0.9109357\ttotal: 109ms\tremaining: 70.6ms\n",
      "91:\tlearn: 0.9109357\ttotal: 110ms\tremaining: 69.4ms\n",
      "92:\tlearn: 0.9098083\ttotal: 111ms\tremaining: 68.1ms\n",
      "93:\tlearn: 0.9120631\ttotal: 112ms\tremaining: 66.8ms\n",
      "94:\tlearn: 0.9120631\ttotal: 113ms\tremaining: 65.6ms\n",
      "95:\tlearn: 0.9120631\ttotal: 114ms\tremaining: 64.4ms\n",
      "96:\tlearn: 0.9120631\ttotal: 116ms\tremaining: 63.1ms\n",
      "97:\tlearn: 0.9120631\ttotal: 117ms\tremaining: 61.9ms\n",
      "98:\tlearn: 0.9120631\ttotal: 118ms\tremaining: 60.6ms\n",
      "99:\tlearn: 0.9120631\ttotal: 119ms\tremaining: 59.4ms\n",
      "100:\tlearn: 0.9120631\ttotal: 120ms\tremaining: 58.2ms\n",
      "101:\tlearn: 0.9120631\ttotal: 121ms\tremaining: 57ms\n",
      "102:\tlearn: 0.9120631\ttotal: 122ms\tremaining: 55.8ms\n",
      "103:\tlearn: 0.9120631\ttotal: 123ms\tremaining: 54.5ms\n",
      "104:\tlearn: 0.9120631\ttotal: 124ms\tremaining: 53.3ms\n",
      "105:\tlearn: 0.9120631\ttotal: 126ms\tremaining: 52.2ms\n",
      "106:\tlearn: 0.9120631\ttotal: 127ms\tremaining: 51ms\n",
      "107:\tlearn: 0.9120631\ttotal: 128ms\tremaining: 49.8ms\n",
      "108:\tlearn: 0.9120631\ttotal: 129ms\tremaining: 48.6ms\n",
      "109:\tlearn: 0.9120631\ttotal: 130ms\tremaining: 47.4ms\n",
      "110:\tlearn: 0.9120631\ttotal: 132ms\tremaining: 46.2ms\n",
      "111:\tlearn: 0.9120631\ttotal: 133ms\tremaining: 45ms\n",
      "112:\tlearn: 0.9120631\ttotal: 134ms\tremaining: 43.9ms\n",
      "113:\tlearn: 0.9120631\ttotal: 135ms\tremaining: 42.7ms\n",
      "114:\tlearn: 0.9120631\ttotal: 136ms\tremaining: 41.5ms\n",
      "115:\tlearn: 0.9120631\ttotal: 138ms\tremaining: 40.3ms\n",
      "116:\tlearn: 0.9120631\ttotal: 140ms\tremaining: 39.4ms\n",
      "117:\tlearn: 0.9120631\ttotal: 141ms\tremaining: 38.3ms\n",
      "118:\tlearn: 0.9120631\ttotal: 142ms\tremaining: 37.1ms\n",
      "119:\tlearn: 0.9120631\ttotal: 144ms\tremaining: 35.9ms\n",
      "120:\tlearn: 0.9120631\ttotal: 145ms\tremaining: 34.7ms\n",
      "121:\tlearn: 0.9120631\ttotal: 146ms\tremaining: 33.5ms\n",
      "122:\tlearn: 0.9120631\ttotal: 147ms\tremaining: 32.3ms\n",
      "123:\tlearn: 0.9120631\ttotal: 148ms\tremaining: 31ms\n",
      "124:\tlearn: 0.9120631\ttotal: 149ms\tremaining: 29.9ms\n",
      "125:\tlearn: 0.9120631\ttotal: 151ms\tremaining: 28.8ms\n",
      "126:\tlearn: 0.9120631\ttotal: 152ms\tremaining: 27.6ms\n",
      "127:\tlearn: 0.9120631\ttotal: 154ms\tremaining: 26.4ms\n",
      "128:\tlearn: 0.9131905\ttotal: 155ms\tremaining: 25.2ms\n",
      "129:\tlearn: 0.9131905\ttotal: 156ms\tremaining: 24ms\n",
      "130:\tlearn: 0.9131905\ttotal: 157ms\tremaining: 22.8ms\n",
      "131:\tlearn: 0.9131905\ttotal: 158ms\tremaining: 21.6ms\n",
      "132:\tlearn: 0.9131905\ttotal: 159ms\tremaining: 20.3ms\n",
      "133:\tlearn: 0.9131905\ttotal: 160ms\tremaining: 19.1ms\n",
      "134:\tlearn: 0.9131905\ttotal: 161ms\tremaining: 17.9ms\n",
      "135:\tlearn: 0.9143179\ttotal: 162ms\tremaining: 16.7ms\n",
      "136:\tlearn: 0.9143179\ttotal: 164ms\tremaining: 15.5ms\n",
      "137:\tlearn: 0.9177001\ttotal: 165ms\tremaining: 14.3ms\n",
      "138:\tlearn: 0.9188275\ttotal: 166ms\tremaining: 13.1ms\n",
      "139:\tlearn: 0.9177001\ttotal: 167ms\tremaining: 11.9ms\n",
      "140:\tlearn: 0.9188275\ttotal: 168ms\tremaining: 10.7ms\n",
      "141:\tlearn: 0.9188275\ttotal: 169ms\tremaining: 9.52ms\n",
      "142:\tlearn: 0.9188275\ttotal: 170ms\tremaining: 8.32ms\n",
      "143:\tlearn: 0.9188275\ttotal: 171ms\tremaining: 7.13ms\n",
      "144:\tlearn: 0.9188275\ttotal: 172ms\tremaining: 5.94ms\n",
      "145:\tlearn: 0.9188275\ttotal: 173ms\tremaining: 4.75ms\n",
      "146:\tlearn: 0.9188275\ttotal: 174ms\tremaining: 3.56ms\n",
      "147:\tlearn: 0.9188275\ttotal: 175ms\tremaining: 2.37ms\n",
      "148:\tlearn: 0.9188275\ttotal: 176ms\tremaining: 1.18ms\n",
      "149:\tlearn: 0.9188275\ttotal: 178ms\tremaining: 0us\n",
      "0:\tlearn: 0.8387824\ttotal: 1.41ms\tremaining: 210ms\n",
      "1:\tlearn: 0.8590755\ttotal: 3.01ms\tremaining: 223ms\n",
      "2:\tlearn: 0.8647125\ttotal: 4.5ms\tremaining: 220ms\n",
      "3:\tlearn: 0.8602029\ttotal: 5.79ms\tremaining: 211ms\n",
      "4:\tlearn: 0.8590755\ttotal: 7.02ms\tremaining: 204ms\n",
      "5:\tlearn: 0.8602029\ttotal: 8.42ms\tremaining: 202ms\n",
      "6:\tlearn: 0.8602029\ttotal: 9.67ms\tremaining: 198ms\n",
      "7:\tlearn: 0.8658399\ttotal: 10.9ms\tremaining: 193ms\n",
      "8:\tlearn: 0.8635851\ttotal: 12.2ms\tremaining: 191ms\n",
      "9:\tlearn: 0.8680947\ttotal: 13.5ms\tremaining: 189ms\n",
      "10:\tlearn: 0.8692221\ttotal: 14.7ms\tremaining: 186ms\n",
      "11:\tlearn: 0.8692221\ttotal: 15.9ms\tremaining: 182ms\n",
      "12:\tlearn: 0.8714769\ttotal: 17ms\tremaining: 179ms\n",
      "13:\tlearn: 0.8726043\ttotal: 18.2ms\tremaining: 177ms\n",
      "14:\tlearn: 0.8737317\ttotal: 19.5ms\tremaining: 175ms\n",
      "15:\tlearn: 0.8771139\ttotal: 20.6ms\tremaining: 173ms\n",
      "16:\tlearn: 0.8759865\ttotal: 21.9ms\tremaining: 171ms\n",
      "17:\tlearn: 0.8771139\ttotal: 23.1ms\tremaining: 169ms\n",
      "18:\tlearn: 0.8816234\ttotal: 24.2ms\tremaining: 167ms\n",
      "19:\tlearn: 0.8816234\ttotal: 25.4ms\tremaining: 165ms\n",
      "20:\tlearn: 0.8804961\ttotal: 26.1ms\tremaining: 160ms\n",
      "21:\tlearn: 0.8804961\ttotal: 27.3ms\tremaining: 159ms\n",
      "22:\tlearn: 0.8827508\ttotal: 28.6ms\tremaining: 158ms\n",
      "23:\tlearn: 0.8838782\ttotal: 29.8ms\tremaining: 156ms\n",
      "24:\tlearn: 0.8838782\ttotal: 31.1ms\tremaining: 156ms\n",
      "25:\tlearn: 0.8861330\ttotal: 32.4ms\tremaining: 155ms\n",
      "26:\tlearn: 0.8861330\ttotal: 34ms\tremaining: 155ms\n",
      "27:\tlearn: 0.8895152\ttotal: 35.3ms\tremaining: 154ms\n",
      "28:\tlearn: 0.8895152\ttotal: 36.6ms\tremaining: 153ms\n",
      "29:\tlearn: 0.8917700\ttotal: 37.8ms\tremaining: 151ms\n",
      "30:\tlearn: 0.8917700\ttotal: 38.9ms\tremaining: 149ms\n",
      "31:\tlearn: 0.8917700\ttotal: 40.1ms\tremaining: 148ms\n",
      "32:\tlearn: 0.8917700\ttotal: 41.3ms\tremaining: 146ms\n",
      "33:\tlearn: 0.8940248\ttotal: 42.4ms\tremaining: 145ms\n",
      "34:\tlearn: 0.8940248\ttotal: 43.6ms\tremaining: 143ms\n",
      "35:\tlearn: 0.8917700\ttotal: 44.7ms\tremaining: 141ms\n",
      "36:\tlearn: 0.8928974\ttotal: 45.8ms\tremaining: 140ms\n",
      "37:\tlearn: 0.8917700\ttotal: 47.1ms\tremaining: 139ms\n",
      "38:\tlearn: 0.8928974\ttotal: 48.4ms\tremaining: 138ms\n",
      "39:\tlearn: 0.8951522\ttotal: 49.6ms\tremaining: 136ms\n",
      "40:\tlearn: 0.8951522\ttotal: 50.8ms\tremaining: 135ms\n",
      "41:\tlearn: 0.8985344\ttotal: 52ms\tremaining: 134ms\n",
      "42:\tlearn: 0.8974070\ttotal: 53.2ms\tremaining: 132ms\n",
      "43:\tlearn: 0.8974070\ttotal: 54.4ms\tremaining: 131ms\n",
      "44:\tlearn: 0.8985344\ttotal: 56.3ms\tremaining: 131ms\n",
      "45:\tlearn: 0.8996618\ttotal: 57.5ms\tremaining: 130ms\n",
      "46:\tlearn: 0.9019166\ttotal: 58.7ms\tremaining: 129ms\n",
      "47:\tlearn: 0.9019166\ttotal: 59.9ms\tremaining: 127ms\n",
      "48:\tlearn: 0.9030440\ttotal: 61ms\tremaining: 126ms\n",
      "49:\tlearn: 0.9019166\ttotal: 62.2ms\tremaining: 124ms\n",
      "50:\tlearn: 0.9007892\ttotal: 63.4ms\tremaining: 123ms\n",
      "51:\tlearn: 0.9041714\ttotal: 64.5ms\tremaining: 122ms\n",
      "52:\tlearn: 0.9041714\ttotal: 65.7ms\tremaining: 120ms\n",
      "53:\tlearn: 0.9064262\ttotal: 66.8ms\tremaining: 119ms\n",
      "54:\tlearn: 0.9075536\ttotal: 68ms\tremaining: 117ms\n",
      "55:\tlearn: 0.9075536\ttotal: 69.2ms\tremaining: 116ms\n",
      "56:\tlearn: 0.9075536\ttotal: 70.5ms\tremaining: 115ms\n",
      "57:\tlearn: 0.9041714\ttotal: 71.7ms\tremaining: 114ms\n",
      "58:\tlearn: 0.9064262\ttotal: 72.8ms\tremaining: 112ms\n",
      "59:\tlearn: 0.9075536\ttotal: 74.2ms\tremaining: 111ms\n",
      "60:\tlearn: 0.9098083\ttotal: 75.4ms\tremaining: 110ms\n",
      "61:\tlearn: 0.9098083\ttotal: 76.7ms\tremaining: 109ms\n",
      "62:\tlearn: 0.9098083\ttotal: 78ms\tremaining: 108ms\n",
      "63:\tlearn: 0.9098083\ttotal: 79.2ms\tremaining: 106ms\n",
      "64:\tlearn: 0.9086809\ttotal: 80.3ms\tremaining: 105ms\n",
      "65:\tlearn: 0.9086809\ttotal: 81.4ms\tremaining: 104ms\n",
      "66:\tlearn: 0.9075536\ttotal: 82.6ms\tremaining: 102ms\n",
      "67:\tlearn: 0.9075536\ttotal: 84ms\tremaining: 101ms\n",
      "68:\tlearn: 0.9086809\ttotal: 85.4ms\tremaining: 100ms\n",
      "69:\tlearn: 0.9098083\ttotal: 86.7ms\tremaining: 99.1ms\n",
      "70:\tlearn: 0.9098083\ttotal: 87.9ms\tremaining: 97.9ms\n",
      "71:\tlearn: 0.9109357\ttotal: 89.2ms\tremaining: 96.6ms\n",
      "72:\tlearn: 0.9120631\ttotal: 90.3ms\tremaining: 95.3ms\n",
      "73:\tlearn: 0.9120631\ttotal: 91.6ms\tremaining: 94ms\n",
      "74:\tlearn: 0.9098083\ttotal: 92.8ms\tremaining: 92.8ms\n",
      "75:\tlearn: 0.9086809\ttotal: 94.4ms\tremaining: 91.9ms\n",
      "76:\tlearn: 0.9098083\ttotal: 95.8ms\tremaining: 90.8ms\n",
      "77:\tlearn: 0.9086809\ttotal: 97ms\tremaining: 89.5ms\n",
      "78:\tlearn: 0.9098083\ttotal: 98.2ms\tremaining: 88.2ms\n",
      "79:\tlearn: 0.9086809\ttotal: 99.2ms\tremaining: 86.8ms\n",
      "80:\tlearn: 0.9098083\ttotal: 100ms\tremaining: 85.5ms\n",
      "81:\tlearn: 0.9098083\ttotal: 102ms\tremaining: 84.3ms\n",
      "82:\tlearn: 0.9131905\ttotal: 103ms\tremaining: 83.1ms\n",
      "83:\tlearn: 0.9131905\ttotal: 104ms\tremaining: 81.8ms\n",
      "84:\tlearn: 0.9131905\ttotal: 105ms\tremaining: 80.5ms\n",
      "85:\tlearn: 0.9131905\ttotal: 106ms\tremaining: 79.2ms\n",
      "86:\tlearn: 0.9131905\ttotal: 108ms\tremaining: 77.9ms\n",
      "87:\tlearn: 0.9131905\ttotal: 109ms\tremaining: 76.7ms\n",
      "88:\tlearn: 0.9131905\ttotal: 110ms\tremaining: 75.3ms\n",
      "89:\tlearn: 0.9131905\ttotal: 111ms\tremaining: 73.8ms\n",
      "90:\tlearn: 0.9131905\ttotal: 112ms\tremaining: 72.5ms\n",
      "91:\tlearn: 0.9131905\ttotal: 113ms\tremaining: 71.3ms\n",
      "92:\tlearn: 0.9131905\ttotal: 114ms\tremaining: 69.9ms\n",
      "93:\tlearn: 0.9131905\ttotal: 115ms\tremaining: 68.5ms\n",
      "94:\tlearn: 0.9131905\ttotal: 116ms\tremaining: 67.2ms\n",
      "95:\tlearn: 0.9131905\ttotal: 117ms\tremaining: 65.9ms\n",
      "96:\tlearn: 0.9131905\ttotal: 118ms\tremaining: 64.6ms\n",
      "97:\tlearn: 0.9131905\ttotal: 119ms\tremaining: 63.4ms\n",
      "98:\tlearn: 0.9131905\ttotal: 121ms\tremaining: 62.1ms\n",
      "99:\tlearn: 0.9120631\ttotal: 123ms\tremaining: 61.4ms\n",
      "100:\tlearn: 0.9120631\ttotal: 124ms\tremaining: 60.3ms\n",
      "101:\tlearn: 0.9120631\ttotal: 125ms\tremaining: 59.1ms\n",
      "102:\tlearn: 0.9120631\ttotal: 127ms\tremaining: 57.8ms\n",
      "103:\tlearn: 0.9131905\ttotal: 128ms\tremaining: 56.7ms\n",
      "104:\tlearn: 0.9131905\ttotal: 129ms\tremaining: 55.5ms\n",
      "105:\tlearn: 0.9131905\ttotal: 131ms\tremaining: 54.2ms\n",
      "106:\tlearn: 0.9131905\ttotal: 132ms\tremaining: 52.9ms\n",
      "107:\tlearn: 0.9131905\ttotal: 133ms\tremaining: 51.7ms\n",
      "108:\tlearn: 0.9120631\ttotal: 134ms\tremaining: 50.4ms\n",
      "109:\tlearn: 0.9120631\ttotal: 135ms\tremaining: 49.1ms\n",
      "110:\tlearn: 0.9120631\ttotal: 136ms\tremaining: 47.9ms\n",
      "111:\tlearn: 0.9120631\ttotal: 138ms\tremaining: 46.7ms\n",
      "112:\tlearn: 0.9131905\ttotal: 139ms\tremaining: 45.4ms\n",
      "113:\tlearn: 0.9131905\ttotal: 140ms\tremaining: 44.1ms\n",
      "114:\tlearn: 0.9131905\ttotal: 141ms\tremaining: 42.9ms\n",
      "115:\tlearn: 0.9131905\ttotal: 142ms\tremaining: 41.6ms\n",
      "116:\tlearn: 0.9131905\ttotal: 143ms\tremaining: 40.4ms\n",
      "117:\tlearn: 0.9120631\ttotal: 144ms\tremaining: 39.1ms\n",
      "118:\tlearn: 0.9131905\ttotal: 146ms\tremaining: 37.9ms\n",
      "119:\tlearn: 0.9131905\ttotal: 147ms\tremaining: 36.7ms\n",
      "120:\tlearn: 0.9131905\ttotal: 148ms\tremaining: 35.4ms\n",
      "121:\tlearn: 0.9131905\ttotal: 149ms\tremaining: 34.2ms\n",
      "122:\tlearn: 0.9131905\ttotal: 150ms\tremaining: 32.9ms\n",
      "123:\tlearn: 0.9120631\ttotal: 151ms\tremaining: 31.7ms\n",
      "124:\tlearn: 0.9131905\ttotal: 153ms\tremaining: 30.5ms\n",
      "125:\tlearn: 0.9131905\ttotal: 154ms\tremaining: 29.3ms\n",
      "126:\tlearn: 0.9131905\ttotal: 155ms\tremaining: 28ms\n",
      "127:\tlearn: 0.9131905\ttotal: 156ms\tremaining: 26.8ms\n",
      "128:\tlearn: 0.9143179\ttotal: 157ms\tremaining: 25.6ms\n",
      "129:\tlearn: 0.9143179\ttotal: 158ms\tremaining: 24.3ms\n",
      "130:\tlearn: 0.9143179\ttotal: 159ms\tremaining: 23.1ms\n",
      "131:\tlearn: 0.9143179\ttotal: 160ms\tremaining: 21.9ms\n",
      "132:\tlearn: 0.9143179\ttotal: 162ms\tremaining: 20.7ms\n",
      "133:\tlearn: 0.9165727\ttotal: 163ms\tremaining: 19.4ms\n",
      "134:\tlearn: 0.9154453\ttotal: 164ms\tremaining: 18.2ms\n",
      "135:\tlearn: 0.9165727\ttotal: 165ms\tremaining: 17ms\n",
      "136:\tlearn: 0.9177001\ttotal: 166ms\tremaining: 15.8ms\n",
      "137:\tlearn: 0.9165727\ttotal: 167ms\tremaining: 14.5ms\n",
      "138:\tlearn: 0.9165727\ttotal: 168ms\tremaining: 13.3ms\n",
      "139:\tlearn: 0.9165727\ttotal: 170ms\tremaining: 12.1ms\n",
      "140:\tlearn: 0.9165727\ttotal: 171ms\tremaining: 10.9ms\n",
      "141:\tlearn: 0.9165727\ttotal: 172ms\tremaining: 9.7ms\n",
      "142:\tlearn: 0.9154453\ttotal: 173ms\tremaining: 8.48ms\n",
      "143:\tlearn: 0.9154453\ttotal: 174ms\tremaining: 7.27ms\n",
      "144:\tlearn: 0.9165727\ttotal: 176ms\tremaining: 6.05ms\n",
      "145:\tlearn: 0.9165727\ttotal: 177ms\tremaining: 4.84ms\n",
      "146:\tlearn: 0.9165727\ttotal: 178ms\tremaining: 3.63ms\n",
      "147:\tlearn: 0.9165727\ttotal: 179ms\tremaining: 2.42ms\n",
      "148:\tlearn: 0.9165727\ttotal: 180ms\tremaining: 1.21ms\n",
      "149:\tlearn: 0.9143179\ttotal: 181ms\tremaining: 0us\n"
     ]
    },
    {
     "data": {
      "text/plain": [
       "array([0.93548387, 0.93548387, 0.90322581, 0.87096774, 0.93548387,\n",
       "       0.90322581, 0.70967742, 0.87096774, 0.80645161, 0.83870968,\n",
       "       0.87096774, 0.90322581, 1.        , 0.90322581, 0.87096774,\n",
       "       0.90322581, 0.80645161, 0.96666667, 0.93333333, 0.93333333,\n",
       "       0.8       , 0.86666667, 0.9       , 0.73333333, 0.86666667,\n",
       "       0.96666667, 0.86666667, 0.93333333, 0.86666667, 0.86666667])"
      ]
     },
     "execution_count": 478,
     "metadata": {},
     "output_type": "execute_result"
    }
   ],
   "execution_count": 478
  },
  {
   "metadata": {
    "ExecuteTime": {
     "end_time": "2024-04-09T03:40:23.508222Z",
     "start_time": "2024-04-09T03:40:23.498595Z"
    }
   },
   "cell_type": "code",
   "source": [
    "# Usando a média e o desvio padrão\n",
    "print(f'Acurácia Média: {resultado.mean()*100:.2f}%')"
   ],
   "id": "f04db97944a604d6",
   "outputs": [
    {
     "name": "stdout",
     "output_type": "stream",
     "text": [
      "Acurácia Média: 88.23%\n"
     ]
    }
   ],
   "execution_count": 479
  },
  {
   "metadata": {},
   "cell_type": "markdown",
   "source": "# 63. Salvando dados e simulando Deploy",
   "id": "573f22358462a154"
  },
  {
   "metadata": {
    "ExecuteTime": {
     "end_time": "2024-04-09T03:40:23.539418Z",
     "start_time": "2024-04-09T03:40:23.521312Z"
    }
   },
   "cell_type": "code",
   "source": "# Salvando dados para Deploy",
   "id": "c57f5040f0eaca57",
   "outputs": [],
   "execution_count": 480
  },
  {
   "metadata": {
    "ExecuteTime": {
     "end_time": "2024-04-09T03:40:23.554590Z",
     "start_time": "2024-04-09T03:40:23.540922Z"
    }
   },
   "cell_type": "code",
   "source": "previsores",
   "id": "fb721ac29ecf41bb",
   "outputs": [
    {
     "data": {
      "text/plain": [
       "array([[40. ,  1. ,  1. , ...,  0. ,  0. ,  0. ],\n",
       "       [49. ,  0. ,  2. , ...,  0. ,  1. ,  1. ],\n",
       "       [37. ,  1. ,  1. , ...,  0. ,  0. ,  0. ],\n",
       "       ...,\n",
       "       [57. ,  1. ,  3. , ...,  1. ,  1.2,  1. ],\n",
       "       [57. ,  0. ,  1. , ...,  0. ,  0. ,  1. ],\n",
       "       [38. ,  1. ,  2. , ...,  0. ,  0. ,  0. ]])"
      ]
     },
     "execution_count": 481,
     "metadata": {},
     "output_type": "execute_result"
    }
   ],
   "execution_count": 481
  },
  {
   "metadata": {
    "ExecuteTime": {
     "end_time": "2024-04-09T03:40:23.591025Z",
     "start_time": "2024-04-09T03:40:23.560705Z"
    }
   },
   "cell_type": "code",
   "source": "alvo",
   "id": "fa3629cdf6474742",
   "outputs": [
    {
     "data": {
      "text/plain": [
       "array([0, 1, 0, 1, 0, 0, 0, 0, 1, 0, 0, 1, 0, 1, 0, 0, 1, 0, 1, 1, 0, 0,\n",
       "       0, 1, 0, 0, 0, 0, 0, 0, 1, 0, 1, 1, 0, 0, 1, 0, 0, 0, 0, 1, 0, 0,\n",
       "       1, 0, 0, 0, 0, 1, 1, 1, 0, 0, 0, 0, 1, 1, 0, 1, 0, 0, 0, 1, 0, 0,\n",
       "       0, 0, 1, 0, 1, 0, 1, 0, 1, 0, 1, 0, 0, 1, 0, 0, 1, 0, 1, 1, 1, 0,\n",
       "       1, 0, 0, 0, 0, 1, 0, 1, 0, 0, 0, 0, 1, 0, 1, 1, 1, 0, 0, 0, 0, 0,\n",
       "       0, 1, 0, 0, 0, 1, 1, 1, 0, 1, 1, 0, 0, 1, 0, 0, 0, 0, 0, 0, 0, 1,\n",
       "       1, 1, 0, 1, 0, 0, 1, 1, 1, 1, 1, 0, 1, 0, 0, 0, 0, 1, 0, 0, 0, 0,\n",
       "       0, 1, 1, 0, 1, 0, 1, 1, 0, 0, 0, 1, 1, 0, 0, 0, 0, 0, 0, 0, 1, 1,\n",
       "       1, 0, 0, 0, 1, 0, 1, 0, 0, 1, 0, 1, 0, 1, 0, 0, 0, 0, 0, 0, 0, 0,\n",
       "       1, 0, 0, 0, 0, 0, 0, 0, 0, 1, 0, 1, 1, 1, 0, 0, 1, 0, 1, 0, 0, 0,\n",
       "       1, 1, 0, 0, 0, 1, 0, 1, 0, 0, 0, 0, 0, 0, 0, 0, 1, 1, 1, 1, 0, 1,\n",
       "       1, 0, 1, 0, 1, 1, 1, 1, 1, 1, 0, 0, 1, 0, 0, 0, 0, 0, 0, 0, 1, 1,\n",
       "       1, 0, 1, 0, 1, 0, 0, 0, 1, 0, 0, 0, 1, 1, 0, 0, 0, 1, 0, 0, 0, 0,\n",
       "       0, 0, 0, 0, 0, 0, 0, 1, 1, 1, 1, 1, 1, 1, 1, 0, 1, 1, 1, 1, 1, 0,\n",
       "       1, 1, 0, 1, 1, 1, 0, 1, 1, 1, 1, 1, 1, 1, 1, 1, 1, 1, 0, 1, 1, 1,\n",
       "       1, 1, 0, 1, 1, 1, 0, 1, 1, 1, 1, 1, 1, 1, 1, 1, 1, 1, 1, 1, 1, 1,\n",
       "       1, 1, 1, 1, 1, 1, 1, 1, 1, 1, 1, 1, 0, 1, 1, 1, 1, 1, 1, 1, 1, 1,\n",
       "       1, 1, 1, 1, 1, 1, 1, 1, 1, 1, 1, 1, 1, 1, 1, 1, 1, 1, 1, 1, 1, 1,\n",
       "       1, 1, 1, 1, 1, 1, 1, 1, 1, 1, 1, 1, 1, 1, 1, 1, 1, 1, 1, 1, 1, 0,\n",
       "       1, 1, 0, 0, 1, 0, 1, 1, 0, 1, 1, 1, 1, 0, 1, 1, 0, 0, 1, 1, 1, 0,\n",
       "       1, 1, 1, 1, 1, 1, 1, 1, 1, 1, 1, 1, 0, 1, 0, 1, 1, 1, 0, 1, 1, 1,\n",
       "       0, 1, 0, 1, 0, 1, 0, 1, 1, 1, 1, 0, 1, 0, 1, 1, 1, 1, 1, 1, 1, 1,\n",
       "       1, 0, 1, 0, 1, 1, 1, 1, 1, 1, 1, 0, 1, 1, 1, 1, 1, 1, 0, 1, 1, 1,\n",
       "       0, 1, 1, 0, 1, 0, 1, 1, 0, 1, 1, 1, 1, 0, 1, 1, 1, 0, 0, 1, 0, 1,\n",
       "       1, 1, 1, 1, 1, 1, 1, 1, 1, 1, 0, 1, 1, 1, 1, 0, 0, 1, 1, 1, 0, 1,\n",
       "       0, 1, 1, 0, 1, 0, 1, 1, 1, 0, 0, 0, 1, 1, 1, 0, 1, 1, 1, 1, 1, 1,\n",
       "       1, 1, 1, 1, 1, 1, 1, 1, 1, 1, 0, 1, 1, 1, 0, 1, 1, 0, 0, 1, 1, 1,\n",
       "       1, 1, 0, 1, 1, 0, 1, 1, 1, 0, 0, 1, 1, 1, 1, 1, 0, 1, 0, 1, 1, 0,\n",
       "       1, 0, 0, 0, 1, 1, 1, 1, 0, 0, 0, 1, 0, 0, 1, 1, 0, 0, 1, 0, 0, 0,\n",
       "       0, 0, 0, 0, 1, 0, 1, 0, 0, 1, 1, 1, 1, 1, 0, 0, 1, 0, 0, 0, 1, 0,\n",
       "       1, 1, 1, 1, 1, 0, 0, 0, 0, 0, 1, 0, 1, 1, 0, 1, 0, 0, 0, 1, 0, 1,\n",
       "       0, 1, 1, 0, 0, 0, 0, 1, 0, 0, 0, 0, 1, 1, 1, 0, 0, 0, 0, 0, 0, 1,\n",
       "       0, 1, 1, 1, 1, 1, 0, 1, 0, 0, 0, 1, 0, 1, 1, 1, 0, 1, 1, 0, 1, 0,\n",
       "       1, 0, 0, 0, 1, 1, 0, 1, 1, 1, 1, 0, 0, 0, 1, 0, 0, 1, 1, 1, 0, 1,\n",
       "       0, 0, 0, 1, 0, 0, 1, 0, 1, 0, 1, 1, 1, 1, 1, 0, 0, 0, 0, 0, 0, 0,\n",
       "       1, 0, 0, 1, 1, 1, 0, 1, 0, 0, 0, 0, 0, 1, 0, 1, 1, 0, 0, 1, 1, 1,\n",
       "       1, 0, 0, 1, 1, 0, 0, 0, 1, 0, 0, 1, 0, 1, 0, 1, 0, 0, 0, 0, 0, 1,\n",
       "       0, 1, 1, 1, 1, 0, 0, 0, 1, 0, 1, 0, 0, 1, 0, 0, 0, 0, 0, 0, 1, 1,\n",
       "       0, 1, 0, 0, 1, 1, 0, 0, 1, 1, 0, 1, 0, 1, 0, 1, 0, 0, 1, 0, 0, 1,\n",
       "       0, 1, 1, 0, 1, 1, 1, 0, 1, 0, 0, 0, 0, 1, 1, 0, 0, 1, 1, 0, 1, 0,\n",
       "       0, 0, 0, 1, 0, 0, 1, 1, 1, 0, 0, 0, 1, 0, 1, 0, 1, 0, 1, 1, 1, 0,\n",
       "       0, 0, 1, 0, 1, 1, 1, 0, 1, 1, 1, 1, 1, 1, 0], dtype=int64)"
      ]
     },
     "execution_count": 482,
     "metadata": {},
     "output_type": "execute_result"
    }
   ],
   "execution_count": 482
  },
  {
   "metadata": {
    "ExecuteTime": {
     "end_time": "2024-04-09T03:40:23.667907Z",
     "start_time": "2024-04-09T03:40:23.595945Z"
    }
   },
   "cell_type": "code",
   "source": "np.savetxt('Dataset/previsores.csv', previsores, delimiter=',')",
   "id": "3da1b9f095726f26",
   "outputs": [],
   "execution_count": 483
  },
  {
   "metadata": {
    "ExecuteTime": {
     "end_time": "2024-04-09T03:40:23.714357Z",
     "start_time": "2024-04-09T03:40:23.670853Z"
    }
   },
   "cell_type": "code",
   "source": "np.savetxt('Dataset/alvo.csv', alvo, delimiter=',')",
   "id": "858137c367180c8",
   "outputs": [],
   "execution_count": 484
  },
  {
   "metadata": {
    "ExecuteTime": {
     "end_time": "2024-04-09T03:40:23.729556Z",
     "start_time": "2024-04-09T03:40:23.717356Z"
    }
   },
   "cell_type": "code",
   "source": "",
   "id": "fefe65daeb835468",
   "outputs": [],
   "execution_count": 484
  }
 ],
 "metadata": {
  "kernelspec": {
   "display_name": "Python 3",
   "language": "python",
   "name": "python3"
  },
  "language_info": {
   "codemirror_mode": {
    "name": "ipython",
    "version": 2
   },
   "file_extension": ".py",
   "mimetype": "text/x-python",
   "name": "python",
   "nbconvert_exporter": "python",
   "pygments_lexer": "ipython2",
   "version": "2.7.6"
  }
 },
 "nbformat": 4,
 "nbformat_minor": 5
}
