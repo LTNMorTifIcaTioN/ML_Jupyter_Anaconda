{
 "cells": [
  {
   "cell_type": "markdown",
   "source": [
    "# 39. Pré-processamento dos dados: variáveis categóricas"
   ],
   "metadata": {
    "collapsed": false
   },
   "id": "f43b15ffc434c6ae"
  },
  {
   "cell_type": "code",
   "outputs": [],
   "source": [
    "# Pré-processamento\n",
    "import numpy as np\n",
    "import pandas as pd\n",
    "df = pd.read_csv('Dataset/heart_tratado.csv', sep=',', encoding='utf-8')"
   ],
   "metadata": {
    "collapsed": false,
    "ExecuteTime": {
     "end_time": "2024-04-06T17:46:29.924636Z",
     "start_time": "2024-04-06T17:46:27.091562Z"
    }
   },
   "id": "51a7670725738719",
   "execution_count": 1
  },
  {
   "cell_type": "code",
   "outputs": [
    {
     "data": {
      "text/plain": "   Age Sex ChestPainType  RestingBP  Cholesterol  FastingBS RestingECG  MaxHR  \\\n0   40   M           ATA        140        289.0          0     Normal    172   \n1   49   F           NAP        160        180.0          0     Normal    156   \n2   37   M           ATA        130        283.0          0         ST     98   \n3   48   F           ASY        138        214.0          0     Normal    108   \n4   54   M           NAP        150        195.0          0     Normal    122   \n5   39   M           NAP        120        339.0          0     Normal    170   \n6   45   F           ATA        130        237.0          0     Normal    170   \n7   54   M           ATA        110        208.0          0     Normal    142   \n8   37   M           ASY        140        207.0          0     Normal    130   \n9   48   F           ATA        120        284.0          0     Normal    120   \n\n  ExerciseAngina  Oldpeak ST_Slope  HeartDisease  \n0              N      0.0       Up             0  \n1              N      1.0     Flat             1  \n2              N      0.0       Up             0  \n3              Y      1.5     Flat             1  \n4              N      0.0       Up             0  \n5              N      0.0       Up             0  \n6              N      0.0       Up             0  \n7              N      0.0       Up             0  \n8              Y      1.5     Flat             1  \n9              N      0.0       Up             0  ",
      "text/html": "<div>\n<style scoped>\n    .dataframe tbody tr th:only-of-type {\n        vertical-align: middle;\n    }\n\n    .dataframe tbody tr th {\n        vertical-align: top;\n    }\n\n    .dataframe thead th {\n        text-align: right;\n    }\n</style>\n<table border=\"1\" class=\"dataframe\">\n  <thead>\n    <tr style=\"text-align: right;\">\n      <th></th>\n      <th>Age</th>\n      <th>Sex</th>\n      <th>ChestPainType</th>\n      <th>RestingBP</th>\n      <th>Cholesterol</th>\n      <th>FastingBS</th>\n      <th>RestingECG</th>\n      <th>MaxHR</th>\n      <th>ExerciseAngina</th>\n      <th>Oldpeak</th>\n      <th>ST_Slope</th>\n      <th>HeartDisease</th>\n    </tr>\n  </thead>\n  <tbody>\n    <tr>\n      <th>0</th>\n      <td>40</td>\n      <td>M</td>\n      <td>ATA</td>\n      <td>140</td>\n      <td>289.0</td>\n      <td>0</td>\n      <td>Normal</td>\n      <td>172</td>\n      <td>N</td>\n      <td>0.0</td>\n      <td>Up</td>\n      <td>0</td>\n    </tr>\n    <tr>\n      <th>1</th>\n      <td>49</td>\n      <td>F</td>\n      <td>NAP</td>\n      <td>160</td>\n      <td>180.0</td>\n      <td>0</td>\n      <td>Normal</td>\n      <td>156</td>\n      <td>N</td>\n      <td>1.0</td>\n      <td>Flat</td>\n      <td>1</td>\n    </tr>\n    <tr>\n      <th>2</th>\n      <td>37</td>\n      <td>M</td>\n      <td>ATA</td>\n      <td>130</td>\n      <td>283.0</td>\n      <td>0</td>\n      <td>ST</td>\n      <td>98</td>\n      <td>N</td>\n      <td>0.0</td>\n      <td>Up</td>\n      <td>0</td>\n    </tr>\n    <tr>\n      <th>3</th>\n      <td>48</td>\n      <td>F</td>\n      <td>ASY</td>\n      <td>138</td>\n      <td>214.0</td>\n      <td>0</td>\n      <td>Normal</td>\n      <td>108</td>\n      <td>Y</td>\n      <td>1.5</td>\n      <td>Flat</td>\n      <td>1</td>\n    </tr>\n    <tr>\n      <th>4</th>\n      <td>54</td>\n      <td>M</td>\n      <td>NAP</td>\n      <td>150</td>\n      <td>195.0</td>\n      <td>0</td>\n      <td>Normal</td>\n      <td>122</td>\n      <td>N</td>\n      <td>0.0</td>\n      <td>Up</td>\n      <td>0</td>\n    </tr>\n    <tr>\n      <th>5</th>\n      <td>39</td>\n      <td>M</td>\n      <td>NAP</td>\n      <td>120</td>\n      <td>339.0</td>\n      <td>0</td>\n      <td>Normal</td>\n      <td>170</td>\n      <td>N</td>\n      <td>0.0</td>\n      <td>Up</td>\n      <td>0</td>\n    </tr>\n    <tr>\n      <th>6</th>\n      <td>45</td>\n      <td>F</td>\n      <td>ATA</td>\n      <td>130</td>\n      <td>237.0</td>\n      <td>0</td>\n      <td>Normal</td>\n      <td>170</td>\n      <td>N</td>\n      <td>0.0</td>\n      <td>Up</td>\n      <td>0</td>\n    </tr>\n    <tr>\n      <th>7</th>\n      <td>54</td>\n      <td>M</td>\n      <td>ATA</td>\n      <td>110</td>\n      <td>208.0</td>\n      <td>0</td>\n      <td>Normal</td>\n      <td>142</td>\n      <td>N</td>\n      <td>0.0</td>\n      <td>Up</td>\n      <td>0</td>\n    </tr>\n    <tr>\n      <th>8</th>\n      <td>37</td>\n      <td>M</td>\n      <td>ASY</td>\n      <td>140</td>\n      <td>207.0</td>\n      <td>0</td>\n      <td>Normal</td>\n      <td>130</td>\n      <td>Y</td>\n      <td>1.5</td>\n      <td>Flat</td>\n      <td>1</td>\n    </tr>\n    <tr>\n      <th>9</th>\n      <td>48</td>\n      <td>F</td>\n      <td>ATA</td>\n      <td>120</td>\n      <td>284.0</td>\n      <td>0</td>\n      <td>Normal</td>\n      <td>120</td>\n      <td>N</td>\n      <td>0.0</td>\n      <td>Up</td>\n      <td>0</td>\n    </tr>\n  </tbody>\n</table>\n</div>"
     },
     "execution_count": 2,
     "metadata": {},
     "output_type": "execute_result"
    }
   ],
   "source": [
    "df.head(10)"
   ],
   "metadata": {
    "collapsed": false,
    "ExecuteTime": {
     "end_time": "2024-04-06T17:46:29.988596Z",
     "start_time": "2024-04-06T17:46:29.929633Z"
    }
   },
   "id": "af06cbd139788b66",
   "execution_count": 2
  },
  {
   "cell_type": "code",
   "outputs": [
    {
     "data": {
      "text/plain": "(917, 12)"
     },
     "execution_count": 3,
     "metadata": {},
     "output_type": "execute_result"
    }
   ],
   "source": [
    "df.shape"
   ],
   "metadata": {
    "collapsed": false,
    "ExecuteTime": {
     "end_time": "2024-04-06T17:46:30.004592Z",
     "start_time": "2024-04-06T17:46:29.991593Z"
    }
   },
   "id": "52e5034159d74ce5",
   "execution_count": 3
  },
  {
   "cell_type": "code",
   "outputs": [],
   "source": [
    "# Transformando as variáveis categóricas nominais em variáveis categóricas ordinais\n",
    "df2 = pd.DataFrame.copy(df)"
   ],
   "metadata": {
    "collapsed": false,
    "ExecuteTime": {
     "end_time": "2024-04-06T17:46:30.020633Z",
     "start_time": "2024-04-06T17:46:30.007588Z"
    }
   },
   "id": "82b73d93469345c4",
   "execution_count": 4
  },
  {
   "cell_type": "code",
   "outputs": [],
   "source": [
    "df2['Sex'].replace({'M': 1, 'F': 0}, inplace=True)\n",
    "df2['ChestPainType'].replace({'TA':0, 'ATA':1, 'NAP':2, 'ASY':3}, inplace=True)\n",
    "df2['RestingECG'].replace({'Normal':0, 'ST':1, 'LVH':2}, inplace=True)\n",
    "df2['ExerciseAngina'].replace({'N':0, 'Y':1}, inplace=True)\n",
    "df2['ST_Slope'].replace({'Up':0, 'Flat':1 ,'Down':2}, inplace=True)"
   ],
   "metadata": {
    "collapsed": false,
    "ExecuteTime": {
     "end_time": "2024-04-06T17:46:30.052614Z",
     "start_time": "2024-04-06T17:46:30.023632Z"
    }
   },
   "id": "baae510ad49b025f",
   "execution_count": 5
  },
  {
   "cell_type": "code",
   "outputs": [
    {
     "data": {
      "text/plain": "   Age  Sex  ChestPainType  RestingBP  Cholesterol  FastingBS  RestingECG  \\\n0   40    1              1        140        289.0          0           0   \n1   49    0              2        160        180.0          0           0   \n2   37    1              1        130        283.0          0           1   \n3   48    0              3        138        214.0          0           0   \n4   54    1              2        150        195.0          0           0   \n5   39    1              2        120        339.0          0           0   \n6   45    0              1        130        237.0          0           0   \n7   54    1              1        110        208.0          0           0   \n8   37    1              3        140        207.0          0           0   \n9   48    0              1        120        284.0          0           0   \n\n   MaxHR  ExerciseAngina  Oldpeak  ST_Slope  HeartDisease  \n0    172               0      0.0         0             0  \n1    156               0      1.0         1             1  \n2     98               0      0.0         0             0  \n3    108               1      1.5         1             1  \n4    122               0      0.0         0             0  \n5    170               0      0.0         0             0  \n6    170               0      0.0         0             0  \n7    142               0      0.0         0             0  \n8    130               1      1.5         1             1  \n9    120               0      0.0         0             0  ",
      "text/html": "<div>\n<style scoped>\n    .dataframe tbody tr th:only-of-type {\n        vertical-align: middle;\n    }\n\n    .dataframe tbody tr th {\n        vertical-align: top;\n    }\n\n    .dataframe thead th {\n        text-align: right;\n    }\n</style>\n<table border=\"1\" class=\"dataframe\">\n  <thead>\n    <tr style=\"text-align: right;\">\n      <th></th>\n      <th>Age</th>\n      <th>Sex</th>\n      <th>ChestPainType</th>\n      <th>RestingBP</th>\n      <th>Cholesterol</th>\n      <th>FastingBS</th>\n      <th>RestingECG</th>\n      <th>MaxHR</th>\n      <th>ExerciseAngina</th>\n      <th>Oldpeak</th>\n      <th>ST_Slope</th>\n      <th>HeartDisease</th>\n    </tr>\n  </thead>\n  <tbody>\n    <tr>\n      <th>0</th>\n      <td>40</td>\n      <td>1</td>\n      <td>1</td>\n      <td>140</td>\n      <td>289.0</td>\n      <td>0</td>\n      <td>0</td>\n      <td>172</td>\n      <td>0</td>\n      <td>0.0</td>\n      <td>0</td>\n      <td>0</td>\n    </tr>\n    <tr>\n      <th>1</th>\n      <td>49</td>\n      <td>0</td>\n      <td>2</td>\n      <td>160</td>\n      <td>180.0</td>\n      <td>0</td>\n      <td>0</td>\n      <td>156</td>\n      <td>0</td>\n      <td>1.0</td>\n      <td>1</td>\n      <td>1</td>\n    </tr>\n    <tr>\n      <th>2</th>\n      <td>37</td>\n      <td>1</td>\n      <td>1</td>\n      <td>130</td>\n      <td>283.0</td>\n      <td>0</td>\n      <td>1</td>\n      <td>98</td>\n      <td>0</td>\n      <td>0.0</td>\n      <td>0</td>\n      <td>0</td>\n    </tr>\n    <tr>\n      <th>3</th>\n      <td>48</td>\n      <td>0</td>\n      <td>3</td>\n      <td>138</td>\n      <td>214.0</td>\n      <td>0</td>\n      <td>0</td>\n      <td>108</td>\n      <td>1</td>\n      <td>1.5</td>\n      <td>1</td>\n      <td>1</td>\n    </tr>\n    <tr>\n      <th>4</th>\n      <td>54</td>\n      <td>1</td>\n      <td>2</td>\n      <td>150</td>\n      <td>195.0</td>\n      <td>0</td>\n      <td>0</td>\n      <td>122</td>\n      <td>0</td>\n      <td>0.0</td>\n      <td>0</td>\n      <td>0</td>\n    </tr>\n    <tr>\n      <th>5</th>\n      <td>39</td>\n      <td>1</td>\n      <td>2</td>\n      <td>120</td>\n      <td>339.0</td>\n      <td>0</td>\n      <td>0</td>\n      <td>170</td>\n      <td>0</td>\n      <td>0.0</td>\n      <td>0</td>\n      <td>0</td>\n    </tr>\n    <tr>\n      <th>6</th>\n      <td>45</td>\n      <td>0</td>\n      <td>1</td>\n      <td>130</td>\n      <td>237.0</td>\n      <td>0</td>\n      <td>0</td>\n      <td>170</td>\n      <td>0</td>\n      <td>0.0</td>\n      <td>0</td>\n      <td>0</td>\n    </tr>\n    <tr>\n      <th>7</th>\n      <td>54</td>\n      <td>1</td>\n      <td>1</td>\n      <td>110</td>\n      <td>208.0</td>\n      <td>0</td>\n      <td>0</td>\n      <td>142</td>\n      <td>0</td>\n      <td>0.0</td>\n      <td>0</td>\n      <td>0</td>\n    </tr>\n    <tr>\n      <th>8</th>\n      <td>37</td>\n      <td>1</td>\n      <td>3</td>\n      <td>140</td>\n      <td>207.0</td>\n      <td>0</td>\n      <td>0</td>\n      <td>130</td>\n      <td>1</td>\n      <td>1.5</td>\n      <td>1</td>\n      <td>1</td>\n    </tr>\n    <tr>\n      <th>9</th>\n      <td>48</td>\n      <td>0</td>\n      <td>1</td>\n      <td>120</td>\n      <td>284.0</td>\n      <td>0</td>\n      <td>0</td>\n      <td>120</td>\n      <td>0</td>\n      <td>0.0</td>\n      <td>0</td>\n      <td>0</td>\n    </tr>\n  </tbody>\n</table>\n</div>"
     },
     "execution_count": 6,
     "metadata": {},
     "output_type": "execute_result"
    }
   ],
   "source": [
    "df2.head(10)"
   ],
   "metadata": {
    "collapsed": false,
    "ExecuteTime": {
     "end_time": "2024-04-06T17:46:30.099587Z",
     "start_time": "2024-04-06T17:46:30.057614Z"
    }
   },
   "id": "3f9afee2a9535e58",
   "execution_count": 6
  },
  {
   "cell_type": "code",
   "outputs": [
    {
     "data": {
      "text/plain": "Age                 int64\nSex                 int64\nChestPainType       int64\nRestingBP           int64\nCholesterol       float64\nFastingBS           int64\nRestingECG          int64\nMaxHR               int64\nExerciseAngina      int64\nOldpeak           float64\nST_Slope            int64\nHeartDisease        int64\ndtype: object"
     },
     "execution_count": 7,
     "metadata": {},
     "output_type": "execute_result"
    }
   ],
   "source": [
    "df2.dtypes"
   ],
   "metadata": {
    "collapsed": false,
    "ExecuteTime": {
     "end_time": "2024-04-06T17:46:30.115685Z",
     "start_time": "2024-04-06T17:46:30.102591Z"
    }
   },
   "id": "f0ef800e4298e28f",
   "execution_count": 7
  },
  {
   "cell_type": "code",
   "outputs": [
    {
     "data": {
      "text/plain": "(917, 12)"
     },
     "execution_count": 8,
     "metadata": {},
     "output_type": "execute_result"
    }
   ],
   "source": [
    "df2.shape"
   ],
   "metadata": {
    "collapsed": false,
    "ExecuteTime": {
     "end_time": "2024-04-06T17:46:30.131674Z",
     "start_time": "2024-04-06T17:46:30.118684Z"
    }
   },
   "id": "9a2c9c452cfe3e3b",
   "execution_count": 8
  },
  {
   "cell_type": "markdown",
   "source": [
    "# 40. Pré-processamento: escalonamento e separação de variáveis"
   ],
   "metadata": {
    "collapsed": false
   },
   "id": "d08cacc0e4701263"
  },
  {
   "cell_type": "code",
   "outputs": [
    {
     "data": {
      "text/plain": "   Age  Sex  ChestPainType  RestingBP  Cholesterol  FastingBS  RestingECG  \\\n0   40    1              1        140        289.0          0           0   \n1   49    0              2        160        180.0          0           0   \n2   37    1              1        130        283.0          0           1   \n3   48    0              3        138        214.0          0           0   \n4   54    1              2        150        195.0          0           0   \n5   39    1              2        120        339.0          0           0   \n6   45    0              1        130        237.0          0           0   \n7   54    1              1        110        208.0          0           0   \n8   37    1              3        140        207.0          0           0   \n9   48    0              1        120        284.0          0           0   \n\n   MaxHR  ExerciseAngina  Oldpeak  ST_Slope  HeartDisease  \n0    172               0      0.0         0             0  \n1    156               0      1.0         1             1  \n2     98               0      0.0         0             0  \n3    108               1      1.5         1             1  \n4    122               0      0.0         0             0  \n5    170               0      0.0         0             0  \n6    170               0      0.0         0             0  \n7    142               0      0.0         0             0  \n8    130               1      1.5         1             1  \n9    120               0      0.0         0             0  ",
      "text/html": "<div>\n<style scoped>\n    .dataframe tbody tr th:only-of-type {\n        vertical-align: middle;\n    }\n\n    .dataframe tbody tr th {\n        vertical-align: top;\n    }\n\n    .dataframe thead th {\n        text-align: right;\n    }\n</style>\n<table border=\"1\" class=\"dataframe\">\n  <thead>\n    <tr style=\"text-align: right;\">\n      <th></th>\n      <th>Age</th>\n      <th>Sex</th>\n      <th>ChestPainType</th>\n      <th>RestingBP</th>\n      <th>Cholesterol</th>\n      <th>FastingBS</th>\n      <th>RestingECG</th>\n      <th>MaxHR</th>\n      <th>ExerciseAngina</th>\n      <th>Oldpeak</th>\n      <th>ST_Slope</th>\n      <th>HeartDisease</th>\n    </tr>\n  </thead>\n  <tbody>\n    <tr>\n      <th>0</th>\n      <td>40</td>\n      <td>1</td>\n      <td>1</td>\n      <td>140</td>\n      <td>289.0</td>\n      <td>0</td>\n      <td>0</td>\n      <td>172</td>\n      <td>0</td>\n      <td>0.0</td>\n      <td>0</td>\n      <td>0</td>\n    </tr>\n    <tr>\n      <th>1</th>\n      <td>49</td>\n      <td>0</td>\n      <td>2</td>\n      <td>160</td>\n      <td>180.0</td>\n      <td>0</td>\n      <td>0</td>\n      <td>156</td>\n      <td>0</td>\n      <td>1.0</td>\n      <td>1</td>\n      <td>1</td>\n    </tr>\n    <tr>\n      <th>2</th>\n      <td>37</td>\n      <td>1</td>\n      <td>1</td>\n      <td>130</td>\n      <td>283.0</td>\n      <td>0</td>\n      <td>1</td>\n      <td>98</td>\n      <td>0</td>\n      <td>0.0</td>\n      <td>0</td>\n      <td>0</td>\n    </tr>\n    <tr>\n      <th>3</th>\n      <td>48</td>\n      <td>0</td>\n      <td>3</td>\n      <td>138</td>\n      <td>214.0</td>\n      <td>0</td>\n      <td>0</td>\n      <td>108</td>\n      <td>1</td>\n      <td>1.5</td>\n      <td>1</td>\n      <td>1</td>\n    </tr>\n    <tr>\n      <th>4</th>\n      <td>54</td>\n      <td>1</td>\n      <td>2</td>\n      <td>150</td>\n      <td>195.0</td>\n      <td>0</td>\n      <td>0</td>\n      <td>122</td>\n      <td>0</td>\n      <td>0.0</td>\n      <td>0</td>\n      <td>0</td>\n    </tr>\n    <tr>\n      <th>5</th>\n      <td>39</td>\n      <td>1</td>\n      <td>2</td>\n      <td>120</td>\n      <td>339.0</td>\n      <td>0</td>\n      <td>0</td>\n      <td>170</td>\n      <td>0</td>\n      <td>0.0</td>\n      <td>0</td>\n      <td>0</td>\n    </tr>\n    <tr>\n      <th>6</th>\n      <td>45</td>\n      <td>0</td>\n      <td>1</td>\n      <td>130</td>\n      <td>237.0</td>\n      <td>0</td>\n      <td>0</td>\n      <td>170</td>\n      <td>0</td>\n      <td>0.0</td>\n      <td>0</td>\n      <td>0</td>\n    </tr>\n    <tr>\n      <th>7</th>\n      <td>54</td>\n      <td>1</td>\n      <td>1</td>\n      <td>110</td>\n      <td>208.0</td>\n      <td>0</td>\n      <td>0</td>\n      <td>142</td>\n      <td>0</td>\n      <td>0.0</td>\n      <td>0</td>\n      <td>0</td>\n    </tr>\n    <tr>\n      <th>8</th>\n      <td>37</td>\n      <td>1</td>\n      <td>3</td>\n      <td>140</td>\n      <td>207.0</td>\n      <td>0</td>\n      <td>0</td>\n      <td>130</td>\n      <td>1</td>\n      <td>1.5</td>\n      <td>1</td>\n      <td>1</td>\n    </tr>\n    <tr>\n      <th>9</th>\n      <td>48</td>\n      <td>0</td>\n      <td>1</td>\n      <td>120</td>\n      <td>284.0</td>\n      <td>0</td>\n      <td>0</td>\n      <td>120</td>\n      <td>0</td>\n      <td>0.0</td>\n      <td>0</td>\n      <td>0</td>\n    </tr>\n  </tbody>\n</table>\n</div>"
     },
     "execution_count": 9,
     "metadata": {},
     "output_type": "execute_result"
    }
   ],
   "source": [
    "df2.head(10)"
   ],
   "metadata": {
    "collapsed": false,
    "ExecuteTime": {
     "end_time": "2024-04-06T17:46:30.178646Z",
     "start_time": "2024-04-06T17:46:30.133675Z"
    }
   },
   "id": "dee16986bad8041d",
   "execution_count": 9
  },
  {
   "cell_type": "code",
   "outputs": [],
   "source": [
    "previsores = df2.iloc[:, 0:11].values"
   ],
   "metadata": {
    "collapsed": false,
    "ExecuteTime": {
     "end_time": "2024-04-06T17:46:30.210632Z",
     "start_time": "2024-04-06T17:46:30.182645Z"
    }
   },
   "id": "a5bd4a4617d18ae8",
   "execution_count": 10
  },
  {
   "cell_type": "code",
   "outputs": [
    {
     "data": {
      "text/plain": "array([[40. ,  1. ,  1. , ...,  0. ,  0. ,  0. ],\n       [49. ,  0. ,  2. , ...,  0. ,  1. ,  1. ],\n       [37. ,  1. ,  1. , ...,  0. ,  0. ,  0. ],\n       ...,\n       [57. ,  1. ,  3. , ...,  1. ,  1.2,  1. ],\n       [57. ,  0. ,  1. , ...,  0. ,  0. ,  1. ],\n       [38. ,  1. ,  2. , ...,  0. ,  0. ,  0. ]])"
     },
     "execution_count": 11,
     "metadata": {},
     "output_type": "execute_result"
    }
   ],
   "source": [
    "previsores"
   ],
   "metadata": {
    "collapsed": false,
    "ExecuteTime": {
     "end_time": "2024-04-06T17:46:30.225923Z",
     "start_time": "2024-04-06T17:46:30.213632Z"
    }
   },
   "id": "92cde52becf2fc7d",
   "execution_count": 11
  },
  {
   "cell_type": "code",
   "outputs": [
    {
     "data": {
      "text/plain": "(917, 11)"
     },
     "execution_count": 12,
     "metadata": {},
     "output_type": "execute_result"
    }
   ],
   "source": [
    "previsores.shape"
   ],
   "metadata": {
    "collapsed": false,
    "ExecuteTime": {
     "end_time": "2024-04-06T17:46:30.241985Z",
     "start_time": "2024-04-06T17:46:30.228993Z"
    }
   },
   "id": "f7e463ce9347eaa8",
   "execution_count": 12
  },
  {
   "cell_type": "code",
   "outputs": [],
   "source": [
    "alvo = df2.iloc[:, 11].values"
   ],
   "metadata": {
    "collapsed": false,
    "ExecuteTime": {
     "end_time": "2024-04-06T17:46:30.257973Z",
     "start_time": "2024-04-06T17:46:30.244982Z"
    }
   },
   "id": "de3c52bb7fe75ff2",
   "execution_count": 13
  },
  {
   "cell_type": "code",
   "outputs": [
    {
     "data": {
      "text/plain": "array([0, 1, 0, 1, 0, 0, 0, 0, 1, 0, 0, 1, 0, 1, 0, 0, 1, 0, 1, 1, 0, 0,\n       0, 1, 0, 0, 0, 0, 0, 0, 1, 0, 1, 1, 0, 0, 1, 0, 0, 0, 0, 1, 0, 0,\n       1, 0, 0, 0, 0, 1, 1, 1, 0, 0, 0, 0, 1, 1, 0, 1, 0, 0, 0, 1, 0, 0,\n       0, 0, 1, 0, 1, 0, 1, 0, 1, 0, 1, 0, 0, 1, 0, 0, 1, 0, 1, 1, 1, 0,\n       1, 0, 0, 0, 0, 1, 0, 1, 0, 0, 0, 0, 1, 0, 1, 1, 1, 0, 0, 0, 0, 0,\n       0, 1, 0, 0, 0, 1, 1, 1, 0, 1, 1, 0, 0, 1, 0, 0, 0, 0, 0, 0, 0, 1,\n       1, 1, 0, 1, 0, 0, 1, 1, 1, 1, 1, 0, 1, 0, 0, 0, 0, 1, 0, 0, 0, 0,\n       0, 1, 1, 0, 1, 0, 1, 1, 0, 0, 0, 1, 1, 0, 0, 0, 0, 0, 0, 0, 1, 1,\n       1, 0, 0, 0, 1, 0, 1, 0, 0, 1, 0, 1, 0, 1, 0, 0, 0, 0, 0, 0, 0, 0,\n       1, 0, 0, 0, 0, 0, 0, 0, 0, 1, 0, 1, 1, 1, 0, 0, 1, 0, 1, 0, 0, 0,\n       1, 1, 0, 0, 0, 1, 0, 1, 0, 0, 0, 0, 0, 0, 0, 0, 1, 1, 1, 1, 0, 1,\n       1, 0, 1, 0, 1, 1, 1, 1, 1, 1, 0, 0, 1, 0, 0, 0, 0, 0, 0, 0, 1, 1,\n       1, 0, 1, 0, 1, 0, 0, 0, 1, 0, 0, 0, 1, 1, 0, 0, 0, 1, 0, 0, 0, 0,\n       0, 0, 0, 0, 0, 0, 0, 1, 1, 1, 1, 1, 1, 1, 1, 0, 1, 1, 1, 1, 1, 0,\n       1, 1, 0, 1, 1, 1, 0, 1, 1, 1, 1, 1, 1, 1, 1, 1, 1, 1, 0, 1, 1, 1,\n       1, 1, 0, 1, 1, 1, 0, 1, 1, 1, 1, 1, 1, 1, 1, 1, 1, 1, 1, 1, 1, 1,\n       1, 1, 1, 1, 1, 1, 1, 1, 1, 1, 1, 1, 0, 1, 1, 1, 1, 1, 1, 1, 1, 1,\n       1, 1, 1, 1, 1, 1, 1, 1, 1, 1, 1, 1, 1, 1, 1, 1, 1, 1, 1, 1, 1, 1,\n       1, 1, 1, 1, 1, 1, 1, 1, 1, 1, 1, 1, 1, 1, 1, 1, 1, 1, 1, 1, 1, 0,\n       1, 1, 0, 0, 1, 0, 1, 1, 0, 1, 1, 1, 1, 0, 1, 1, 0, 0, 1, 1, 1, 0,\n       1, 1, 1, 1, 1, 1, 1, 1, 1, 1, 1, 1, 0, 1, 0, 1, 1, 1, 0, 1, 1, 1,\n       0, 1, 0, 1, 0, 1, 0, 1, 1, 1, 1, 0, 1, 0, 1, 1, 1, 1, 1, 1, 1, 1,\n       1, 0, 1, 0, 1, 1, 1, 1, 1, 1, 1, 0, 1, 1, 1, 1, 1, 1, 0, 1, 1, 1,\n       0, 1, 1, 0, 1, 0, 1, 1, 0, 1, 1, 1, 1, 0, 1, 1, 1, 0, 0, 1, 0, 1,\n       1, 1, 1, 1, 1, 1, 1, 1, 1, 1, 0, 1, 1, 1, 1, 0, 0, 1, 1, 1, 0, 1,\n       0, 1, 1, 0, 1, 0, 1, 1, 1, 0, 0, 0, 1, 1, 1, 0, 1, 1, 1, 1, 1, 1,\n       1, 1, 1, 1, 1, 1, 1, 1, 1, 1, 0, 1, 1, 1, 0, 1, 1, 0, 0, 1, 1, 1,\n       1, 1, 0, 1, 1, 0, 1, 1, 1, 0, 0, 1, 1, 1, 1, 1, 0, 1, 0, 1, 1, 0,\n       1, 0, 0, 0, 1, 1, 1, 1, 0, 0, 0, 1, 0, 0, 1, 1, 0, 0, 1, 0, 0, 0,\n       0, 0, 0, 0, 1, 0, 1, 0, 0, 1, 1, 1, 1, 1, 0, 0, 1, 0, 0, 0, 1, 0,\n       1, 1, 1, 1, 1, 0, 0, 0, 0, 0, 1, 0, 1, 1, 0, 1, 0, 0, 0, 1, 0, 1,\n       0, 1, 1, 0, 0, 0, 0, 1, 0, 0, 0, 0, 1, 1, 1, 0, 0, 0, 0, 0, 0, 1,\n       0, 1, 1, 1, 1, 1, 0, 1, 0, 0, 0, 1, 0, 1, 1, 1, 0, 1, 1, 0, 1, 0,\n       1, 0, 0, 0, 1, 1, 0, 1, 1, 1, 1, 0, 0, 0, 1, 0, 0, 1, 1, 1, 0, 1,\n       0, 0, 0, 1, 0, 0, 1, 0, 1, 0, 1, 1, 1, 1, 1, 0, 0, 0, 0, 0, 0, 0,\n       1, 0, 0, 1, 1, 1, 0, 1, 0, 0, 0, 0, 0, 1, 0, 1, 1, 0, 0, 1, 1, 1,\n       1, 0, 0, 1, 1, 0, 0, 0, 1, 0, 0, 1, 0, 1, 0, 1, 0, 0, 0, 0, 0, 1,\n       0, 1, 1, 1, 1, 0, 0, 0, 1, 0, 1, 0, 0, 1, 0, 0, 0, 0, 0, 0, 1, 1,\n       0, 1, 0, 0, 1, 1, 0, 0, 1, 1, 0, 1, 0, 1, 0, 1, 0, 0, 1, 0, 0, 1,\n       0, 1, 1, 0, 1, 1, 1, 0, 1, 0, 0, 0, 0, 1, 1, 0, 0, 1, 1, 0, 1, 0,\n       0, 0, 0, 1, 0, 0, 1, 1, 1, 0, 0, 0, 1, 0, 1, 0, 1, 0, 1, 1, 1, 0,\n       0, 0, 1, 0, 1, 1, 1, 0, 1, 1, 1, 1, 1, 1, 0], dtype=int64)"
     },
     "execution_count": 14,
     "metadata": {},
     "output_type": "execute_result"
    }
   ],
   "source": [
    "alvo"
   ],
   "metadata": {
    "collapsed": false,
    "ExecuteTime": {
     "end_time": "2024-04-06T17:46:30.289953Z",
     "start_time": "2024-04-06T17:46:30.260974Z"
    }
   },
   "id": "efda2b97fd21c4a6",
   "execution_count": 14
  },
  {
   "cell_type": "code",
   "outputs": [
    {
     "data": {
      "text/plain": "(917,)"
     },
     "execution_count": 15,
     "metadata": {},
     "output_type": "execute_result"
    }
   ],
   "source": [
    "alvo.shape"
   ],
   "metadata": {
    "collapsed": false,
    "ExecuteTime": {
     "end_time": "2024-04-06T17:46:30.305950Z",
     "start_time": "2024-04-06T17:46:30.292953Z"
    }
   },
   "id": "d1cb5a864c3aca20",
   "execution_count": 15
  },
  {
   "cell_type": "code",
   "outputs": [
    {
     "data": {
      "text/plain": "              Age         Sex  ChestPainType   RestingBP  Cholesterol  \\\ncount  917.000000  917.000000     917.000000  917.000000   917.000000   \nmean    53.509269    0.789531       2.251908  132.540894   244.635389   \nstd      9.437636    0.407864       0.931502   17.999749    53.347125   \nmin     28.000000    0.000000       0.000000   80.000000    85.000000   \n25%     47.000000    1.000000       2.000000  120.000000   214.000000   \n50%     54.000000    1.000000       3.000000  130.000000   244.635389   \n75%     60.000000    1.000000       3.000000  140.000000   267.000000   \nmax     77.000000    1.000000       3.000000  200.000000   603.000000   \n\n        FastingBS  RestingECG       MaxHR  ExerciseAngina     Oldpeak  \\\ncount  917.000000  917.000000  917.000000      917.000000  917.000000   \nmean     0.233370    0.604144  136.789531        0.404580    0.886696   \nstd      0.423206    0.806161   25.467129        0.491078    1.066960   \nmin      0.000000    0.000000   60.000000        0.000000   -2.600000   \n25%      0.000000    0.000000  120.000000        0.000000    0.000000   \n50%      0.000000    0.000000  138.000000        0.000000    0.600000   \n75%      0.000000    1.000000  156.000000        1.000000    1.500000   \nmax      1.000000    2.000000  202.000000        1.000000    6.200000   \n\n        ST_Slope  HeartDisease  \ncount  917.00000    917.000000  \nmean     0.63795      0.552890  \nstd      0.60727      0.497466  \nmin      0.00000      0.000000  \n25%      0.00000      0.000000  \n50%      1.00000      1.000000  \n75%      1.00000      1.000000  \nmax      2.00000      1.000000  ",
      "text/html": "<div>\n<style scoped>\n    .dataframe tbody tr th:only-of-type {\n        vertical-align: middle;\n    }\n\n    .dataframe tbody tr th {\n        vertical-align: top;\n    }\n\n    .dataframe thead th {\n        text-align: right;\n    }\n</style>\n<table border=\"1\" class=\"dataframe\">\n  <thead>\n    <tr style=\"text-align: right;\">\n      <th></th>\n      <th>Age</th>\n      <th>Sex</th>\n      <th>ChestPainType</th>\n      <th>RestingBP</th>\n      <th>Cholesterol</th>\n      <th>FastingBS</th>\n      <th>RestingECG</th>\n      <th>MaxHR</th>\n      <th>ExerciseAngina</th>\n      <th>Oldpeak</th>\n      <th>ST_Slope</th>\n      <th>HeartDisease</th>\n    </tr>\n  </thead>\n  <tbody>\n    <tr>\n      <th>count</th>\n      <td>917.000000</td>\n      <td>917.000000</td>\n      <td>917.000000</td>\n      <td>917.000000</td>\n      <td>917.000000</td>\n      <td>917.000000</td>\n      <td>917.000000</td>\n      <td>917.000000</td>\n      <td>917.000000</td>\n      <td>917.000000</td>\n      <td>917.00000</td>\n      <td>917.000000</td>\n    </tr>\n    <tr>\n      <th>mean</th>\n      <td>53.509269</td>\n      <td>0.789531</td>\n      <td>2.251908</td>\n      <td>132.540894</td>\n      <td>244.635389</td>\n      <td>0.233370</td>\n      <td>0.604144</td>\n      <td>136.789531</td>\n      <td>0.404580</td>\n      <td>0.886696</td>\n      <td>0.63795</td>\n      <td>0.552890</td>\n    </tr>\n    <tr>\n      <th>std</th>\n      <td>9.437636</td>\n      <td>0.407864</td>\n      <td>0.931502</td>\n      <td>17.999749</td>\n      <td>53.347125</td>\n      <td>0.423206</td>\n      <td>0.806161</td>\n      <td>25.467129</td>\n      <td>0.491078</td>\n      <td>1.066960</td>\n      <td>0.60727</td>\n      <td>0.497466</td>\n    </tr>\n    <tr>\n      <th>min</th>\n      <td>28.000000</td>\n      <td>0.000000</td>\n      <td>0.000000</td>\n      <td>80.000000</td>\n      <td>85.000000</td>\n      <td>0.000000</td>\n      <td>0.000000</td>\n      <td>60.000000</td>\n      <td>0.000000</td>\n      <td>-2.600000</td>\n      <td>0.00000</td>\n      <td>0.000000</td>\n    </tr>\n    <tr>\n      <th>25%</th>\n      <td>47.000000</td>\n      <td>1.000000</td>\n      <td>2.000000</td>\n      <td>120.000000</td>\n      <td>214.000000</td>\n      <td>0.000000</td>\n      <td>0.000000</td>\n      <td>120.000000</td>\n      <td>0.000000</td>\n      <td>0.000000</td>\n      <td>0.00000</td>\n      <td>0.000000</td>\n    </tr>\n    <tr>\n      <th>50%</th>\n      <td>54.000000</td>\n      <td>1.000000</td>\n      <td>3.000000</td>\n      <td>130.000000</td>\n      <td>244.635389</td>\n      <td>0.000000</td>\n      <td>0.000000</td>\n      <td>138.000000</td>\n      <td>0.000000</td>\n      <td>0.600000</td>\n      <td>1.00000</td>\n      <td>1.000000</td>\n    </tr>\n    <tr>\n      <th>75%</th>\n      <td>60.000000</td>\n      <td>1.000000</td>\n      <td>3.000000</td>\n      <td>140.000000</td>\n      <td>267.000000</td>\n      <td>0.000000</td>\n      <td>1.000000</td>\n      <td>156.000000</td>\n      <td>1.000000</td>\n      <td>1.500000</td>\n      <td>1.00000</td>\n      <td>1.000000</td>\n    </tr>\n    <tr>\n      <th>max</th>\n      <td>77.000000</td>\n      <td>1.000000</td>\n      <td>3.000000</td>\n      <td>200.000000</td>\n      <td>603.000000</td>\n      <td>1.000000</td>\n      <td>2.000000</td>\n      <td>202.000000</td>\n      <td>1.000000</td>\n      <td>6.200000</td>\n      <td>2.00000</td>\n      <td>1.000000</td>\n    </tr>\n  </tbody>\n</table>\n</div>"
     },
     "execution_count": 16,
     "metadata": {},
     "output_type": "execute_result"
    }
   ],
   "source": [
    "# Análise das escalas dos atributos (Escalonamento)\n",
    "df2.describe()"
   ],
   "metadata": {
    "collapsed": false,
    "ExecuteTime": {
     "end_time": "2024-04-06T17:46:30.385498Z",
     "start_time": "2024-04-06T17:46:30.308949Z"
    }
   },
   "id": "6e01ee949feb1d78",
   "execution_count": 16
  },
  {
   "cell_type": "code",
   "outputs": [
    {
     "data": {
      "text/plain": "array([[-1.43220634,  0.51630861, -1.34470119, ..., -0.82431012,\n        -0.83150225, -1.05109458],\n       [-0.47805725, -1.9368261 , -0.27058012, ..., -0.82431012,\n         0.10625149,  0.59651863],\n       [-1.75025603,  0.51630861, -1.34470119, ..., -0.82431012,\n        -0.83150225, -1.05109458],\n       ...,\n       [ 0.37007527,  0.51630861,  0.80354095, ...,  1.21313565,\n         0.29380223,  0.59651863],\n       [ 0.37007527, -1.9368261 , -1.34470119, ..., -0.82431012,\n        -0.83150225,  0.59651863],\n       [-1.64423947,  0.51630861, -0.27058012, ..., -0.82431012,\n        -0.83150225, -1.05109458]])"
     },
     "execution_count": 17,
     "metadata": {},
     "output_type": "execute_result"
    }
   ],
   "source": [
    "# Padronização (utiliza a média e o desvio padrão como referência)\n",
    "from sklearn.preprocessing import StandardScaler\n",
    "previsores_esc = StandardScaler().fit_transform(previsores)\n",
    "previsores_esc"
   ],
   "metadata": {
    "collapsed": false,
    "ExecuteTime": {
     "end_time": "2024-04-06T17:46:36.094799Z",
     "start_time": "2024-04-06T17:46:30.388495Z"
    }
   },
   "id": "24e3424274f148a3",
   "execution_count": 17
  },
  {
   "cell_type": "code",
   "outputs": [
    {
     "data": {
      "text/plain": "           0         1         2         3         4         5         6   \\\n0   -1.432206  0.516309 -1.344701  0.414627  0.832075 -0.551733 -0.749818   \n1   -0.478057 -1.936826 -0.270580  1.526360 -1.212261 -0.551733 -0.749818   \n2   -1.750256  0.516309 -1.344701 -0.141240  0.719543 -0.551733  0.491306   \n3   -0.584074 -1.936826  0.803541  0.303453 -0.574578 -0.551733 -0.749818   \n4    0.052026  0.516309 -0.270580  0.970493 -0.930931 -0.551733 -0.749818   \n..        ...       ...       ...       ...       ...       ...       ...   \n912 -0.902124  0.516309 -2.418822 -1.252973  0.363191 -0.551733 -0.749818   \n913  1.536257  0.516309  0.803541  0.636973 -0.968441  1.812470 -0.749818   \n914  0.370075  0.516309  0.803541 -0.141240 -2.131275 -0.551733 -0.749818   \n915  0.370075 -1.936826 -1.344701 -0.141240 -0.161960 -0.551733  1.732430   \n916 -1.644239  0.516309 -0.270580  0.303453 -1.306038 -0.551733 -0.749818   \n\n           7         8         9         10  \n0    1.383339 -0.824310 -0.831502 -1.051095  \n1    0.754736 -0.824310  0.106251  0.596519  \n2   -1.523953 -0.824310 -0.831502 -1.051095  \n3   -1.131075  1.213136  0.575128  0.596519  \n4   -0.581047 -0.824310 -0.831502 -1.051095  \n..        ...       ...       ...       ...  \n912 -0.188170 -0.824310  0.293802  0.596519  \n913  0.165420 -0.824310  2.356860  0.596519  \n914 -0.856061  1.213136  0.293802  0.596519  \n915  1.461915 -0.824310 -0.831502  0.596519  \n916  1.422627 -0.824310 -0.831502 -1.051095  \n\n[917 rows x 11 columns]",
      "text/html": "<div>\n<style scoped>\n    .dataframe tbody tr th:only-of-type {\n        vertical-align: middle;\n    }\n\n    .dataframe tbody tr th {\n        vertical-align: top;\n    }\n\n    .dataframe thead th {\n        text-align: right;\n    }\n</style>\n<table border=\"1\" class=\"dataframe\">\n  <thead>\n    <tr style=\"text-align: right;\">\n      <th></th>\n      <th>0</th>\n      <th>1</th>\n      <th>2</th>\n      <th>3</th>\n      <th>4</th>\n      <th>5</th>\n      <th>6</th>\n      <th>7</th>\n      <th>8</th>\n      <th>9</th>\n      <th>10</th>\n    </tr>\n  </thead>\n  <tbody>\n    <tr>\n      <th>0</th>\n      <td>-1.432206</td>\n      <td>0.516309</td>\n      <td>-1.344701</td>\n      <td>0.414627</td>\n      <td>0.832075</td>\n      <td>-0.551733</td>\n      <td>-0.749818</td>\n      <td>1.383339</td>\n      <td>-0.824310</td>\n      <td>-0.831502</td>\n      <td>-1.051095</td>\n    </tr>\n    <tr>\n      <th>1</th>\n      <td>-0.478057</td>\n      <td>-1.936826</td>\n      <td>-0.270580</td>\n      <td>1.526360</td>\n      <td>-1.212261</td>\n      <td>-0.551733</td>\n      <td>-0.749818</td>\n      <td>0.754736</td>\n      <td>-0.824310</td>\n      <td>0.106251</td>\n      <td>0.596519</td>\n    </tr>\n    <tr>\n      <th>2</th>\n      <td>-1.750256</td>\n      <td>0.516309</td>\n      <td>-1.344701</td>\n      <td>-0.141240</td>\n      <td>0.719543</td>\n      <td>-0.551733</td>\n      <td>0.491306</td>\n      <td>-1.523953</td>\n      <td>-0.824310</td>\n      <td>-0.831502</td>\n      <td>-1.051095</td>\n    </tr>\n    <tr>\n      <th>3</th>\n      <td>-0.584074</td>\n      <td>-1.936826</td>\n      <td>0.803541</td>\n      <td>0.303453</td>\n      <td>-0.574578</td>\n      <td>-0.551733</td>\n      <td>-0.749818</td>\n      <td>-1.131075</td>\n      <td>1.213136</td>\n      <td>0.575128</td>\n      <td>0.596519</td>\n    </tr>\n    <tr>\n      <th>4</th>\n      <td>0.052026</td>\n      <td>0.516309</td>\n      <td>-0.270580</td>\n      <td>0.970493</td>\n      <td>-0.930931</td>\n      <td>-0.551733</td>\n      <td>-0.749818</td>\n      <td>-0.581047</td>\n      <td>-0.824310</td>\n      <td>-0.831502</td>\n      <td>-1.051095</td>\n    </tr>\n    <tr>\n      <th>...</th>\n      <td>...</td>\n      <td>...</td>\n      <td>...</td>\n      <td>...</td>\n      <td>...</td>\n      <td>...</td>\n      <td>...</td>\n      <td>...</td>\n      <td>...</td>\n      <td>...</td>\n      <td>...</td>\n    </tr>\n    <tr>\n      <th>912</th>\n      <td>-0.902124</td>\n      <td>0.516309</td>\n      <td>-2.418822</td>\n      <td>-1.252973</td>\n      <td>0.363191</td>\n      <td>-0.551733</td>\n      <td>-0.749818</td>\n      <td>-0.188170</td>\n      <td>-0.824310</td>\n      <td>0.293802</td>\n      <td>0.596519</td>\n    </tr>\n    <tr>\n      <th>913</th>\n      <td>1.536257</td>\n      <td>0.516309</td>\n      <td>0.803541</td>\n      <td>0.636973</td>\n      <td>-0.968441</td>\n      <td>1.812470</td>\n      <td>-0.749818</td>\n      <td>0.165420</td>\n      <td>-0.824310</td>\n      <td>2.356860</td>\n      <td>0.596519</td>\n    </tr>\n    <tr>\n      <th>914</th>\n      <td>0.370075</td>\n      <td>0.516309</td>\n      <td>0.803541</td>\n      <td>-0.141240</td>\n      <td>-2.131275</td>\n      <td>-0.551733</td>\n      <td>-0.749818</td>\n      <td>-0.856061</td>\n      <td>1.213136</td>\n      <td>0.293802</td>\n      <td>0.596519</td>\n    </tr>\n    <tr>\n      <th>915</th>\n      <td>0.370075</td>\n      <td>-1.936826</td>\n      <td>-1.344701</td>\n      <td>-0.141240</td>\n      <td>-0.161960</td>\n      <td>-0.551733</td>\n      <td>1.732430</td>\n      <td>1.461915</td>\n      <td>-0.824310</td>\n      <td>-0.831502</td>\n      <td>0.596519</td>\n    </tr>\n    <tr>\n      <th>916</th>\n      <td>-1.644239</td>\n      <td>0.516309</td>\n      <td>-0.270580</td>\n      <td>0.303453</td>\n      <td>-1.306038</td>\n      <td>-0.551733</td>\n      <td>-0.749818</td>\n      <td>1.422627</td>\n      <td>-0.824310</td>\n      <td>-0.831502</td>\n      <td>-1.051095</td>\n    </tr>\n  </tbody>\n</table>\n<p>917 rows × 11 columns</p>\n</div>"
     },
     "execution_count": 18,
     "metadata": {},
     "output_type": "execute_result"
    }
   ],
   "source": [
    "previsoresdf = pd.DataFrame(previsores_esc)\n",
    "previsoresdf"
   ],
   "metadata": {
    "collapsed": false,
    "ExecuteTime": {
     "end_time": "2024-04-06T17:46:36.142288Z",
     "start_time": "2024-04-06T17:46:36.104798Z"
    }
   },
   "id": "78966393e83eed33",
   "execution_count": 18
  },
  {
   "cell_type": "code",
   "outputs": [
    {
     "data": {
      "text/plain": "                 0             1             2             3             4   \\\ncount  9.170000e+02  9.170000e+02  9.170000e+02  9.170000e+02  9.170000e+02   \nmean   1.859654e-16 -7.748558e-17  1.046055e-16  7.767929e-16 -1.869340e-16   \nstd    1.000546e+00  1.000546e+00  1.000546e+00  1.000546e+00  1.000546e+00   \nmin   -2.704405e+00 -1.936826e+00 -2.418822e+00 -2.920572e+00 -2.994023e+00   \n25%   -6.900904e-01  5.163086e-01 -2.705801e-01 -6.971063e-01 -5.745784e-01   \n50%    5.202558e-02  5.163086e-01  8.035410e-01 -1.412398e-01  0.000000e+00   \n75%    6.881250e-01  5.163086e-01  8.035410e-01  4.146267e-01  4.194568e-01   \nmax    2.490407e+00  5.163086e-01  8.035410e-01  3.749826e+00  6.721265e+00   \n\n                 5           6             7             8             9   \\\ncount  9.170000e+02  917.000000  9.170000e+02  9.170000e+02  9.170000e+02   \nmean   4.649135e-17    0.000000 -5.114048e-16 -1.046055e-16  7.748558e-17   \nstd    1.000546e+00    1.000546  1.000546e+00  1.000546e+00  1.000546e+00   \nmin   -5.517333e-01   -0.749818 -3.016886e+00 -8.243101e-01 -3.269662e+00   \n25%   -5.517333e-01   -0.749818 -6.596226e-01 -8.243101e-01 -8.315022e-01   \n50%   -5.517333e-01   -0.749818  4.755658e-02 -8.243101e-01 -2.688500e-01   \n75%   -5.517333e-01    0.491306  7.547357e-01  1.213136e+00  5.751284e-01   \nmax    1.812470e+00    1.732430  2.561971e+00  1.213136e+00  4.982571e+00   \n\n                 10  \ncount  9.170000e+02  \nmean  -3.874279e-17  \nstd    1.000546e+00  \nmin   -1.051095e+00  \n25%   -1.051095e+00  \n50%    5.965186e-01  \n75%    5.965186e-01  \nmax    2.244132e+00  ",
      "text/html": "<div>\n<style scoped>\n    .dataframe tbody tr th:only-of-type {\n        vertical-align: middle;\n    }\n\n    .dataframe tbody tr th {\n        vertical-align: top;\n    }\n\n    .dataframe thead th {\n        text-align: right;\n    }\n</style>\n<table border=\"1\" class=\"dataframe\">\n  <thead>\n    <tr style=\"text-align: right;\">\n      <th></th>\n      <th>0</th>\n      <th>1</th>\n      <th>2</th>\n      <th>3</th>\n      <th>4</th>\n      <th>5</th>\n      <th>6</th>\n      <th>7</th>\n      <th>8</th>\n      <th>9</th>\n      <th>10</th>\n    </tr>\n  </thead>\n  <tbody>\n    <tr>\n      <th>count</th>\n      <td>9.170000e+02</td>\n      <td>9.170000e+02</td>\n      <td>9.170000e+02</td>\n      <td>9.170000e+02</td>\n      <td>9.170000e+02</td>\n      <td>9.170000e+02</td>\n      <td>917.000000</td>\n      <td>9.170000e+02</td>\n      <td>9.170000e+02</td>\n      <td>9.170000e+02</td>\n      <td>9.170000e+02</td>\n    </tr>\n    <tr>\n      <th>mean</th>\n      <td>1.859654e-16</td>\n      <td>-7.748558e-17</td>\n      <td>1.046055e-16</td>\n      <td>7.767929e-16</td>\n      <td>-1.869340e-16</td>\n      <td>4.649135e-17</td>\n      <td>0.000000</td>\n      <td>-5.114048e-16</td>\n      <td>-1.046055e-16</td>\n      <td>7.748558e-17</td>\n      <td>-3.874279e-17</td>\n    </tr>\n    <tr>\n      <th>std</th>\n      <td>1.000546e+00</td>\n      <td>1.000546e+00</td>\n      <td>1.000546e+00</td>\n      <td>1.000546e+00</td>\n      <td>1.000546e+00</td>\n      <td>1.000546e+00</td>\n      <td>1.000546</td>\n      <td>1.000546e+00</td>\n      <td>1.000546e+00</td>\n      <td>1.000546e+00</td>\n      <td>1.000546e+00</td>\n    </tr>\n    <tr>\n      <th>min</th>\n      <td>-2.704405e+00</td>\n      <td>-1.936826e+00</td>\n      <td>-2.418822e+00</td>\n      <td>-2.920572e+00</td>\n      <td>-2.994023e+00</td>\n      <td>-5.517333e-01</td>\n      <td>-0.749818</td>\n      <td>-3.016886e+00</td>\n      <td>-8.243101e-01</td>\n      <td>-3.269662e+00</td>\n      <td>-1.051095e+00</td>\n    </tr>\n    <tr>\n      <th>25%</th>\n      <td>-6.900904e-01</td>\n      <td>5.163086e-01</td>\n      <td>-2.705801e-01</td>\n      <td>-6.971063e-01</td>\n      <td>-5.745784e-01</td>\n      <td>-5.517333e-01</td>\n      <td>-0.749818</td>\n      <td>-6.596226e-01</td>\n      <td>-8.243101e-01</td>\n      <td>-8.315022e-01</td>\n      <td>-1.051095e+00</td>\n    </tr>\n    <tr>\n      <th>50%</th>\n      <td>5.202558e-02</td>\n      <td>5.163086e-01</td>\n      <td>8.035410e-01</td>\n      <td>-1.412398e-01</td>\n      <td>0.000000e+00</td>\n      <td>-5.517333e-01</td>\n      <td>-0.749818</td>\n      <td>4.755658e-02</td>\n      <td>-8.243101e-01</td>\n      <td>-2.688500e-01</td>\n      <td>5.965186e-01</td>\n    </tr>\n    <tr>\n      <th>75%</th>\n      <td>6.881250e-01</td>\n      <td>5.163086e-01</td>\n      <td>8.035410e-01</td>\n      <td>4.146267e-01</td>\n      <td>4.194568e-01</td>\n      <td>-5.517333e-01</td>\n      <td>0.491306</td>\n      <td>7.547357e-01</td>\n      <td>1.213136e+00</td>\n      <td>5.751284e-01</td>\n      <td>5.965186e-01</td>\n    </tr>\n    <tr>\n      <th>max</th>\n      <td>2.490407e+00</td>\n      <td>5.163086e-01</td>\n      <td>8.035410e-01</td>\n      <td>3.749826e+00</td>\n      <td>6.721265e+00</td>\n      <td>1.812470e+00</td>\n      <td>1.732430</td>\n      <td>2.561971e+00</td>\n      <td>1.213136e+00</td>\n      <td>4.982571e+00</td>\n      <td>2.244132e+00</td>\n    </tr>\n  </tbody>\n</table>\n</div>"
     },
     "execution_count": 19,
     "metadata": {},
     "output_type": "execute_result"
    }
   ],
   "source": [
    "previsoresdf.describe()"
   ],
   "metadata": {
    "collapsed": false,
    "ExecuteTime": {
     "end_time": "2024-04-06T17:46:36.221753Z",
     "start_time": "2024-04-06T17:46:36.145285Z"
    }
   },
   "id": "3ca4e6c4a9658e55",
   "execution_count": 19
  },
  {
   "cell_type": "markdown",
   "source": [
    "# 41. Pré-processamento: LabelEncoder e OnehotEncoder"
   ],
   "metadata": {
    "collapsed": false
   },
   "id": "abd63a48f59b44d9"
  },
  {
   "cell_type": "code",
   "outputs": [],
   "source": [
    "# Transformação de variáveis categóricas em numéricas automaticamente\n",
    "from sklearn.preprocessing import LabelEncoder"
   ],
   "metadata": {
    "collapsed": false,
    "ExecuteTime": {
     "end_time": "2024-04-06T17:46:36.237743Z",
     "start_time": "2024-04-06T17:46:36.224753Z"
    }
   },
   "id": "c6934c86cb314782",
   "execution_count": 20
  },
  {
   "cell_type": "code",
   "outputs": [
    {
     "data": {
      "text/plain": "   Age Sex ChestPainType  RestingBP  Cholesterol  FastingBS RestingECG  MaxHR  \\\n0   40   M           ATA        140        289.0          0     Normal    172   \n1   49   F           NAP        160        180.0          0     Normal    156   \n2   37   M           ATA        130        283.0          0         ST     98   \n3   48   F           ASY        138        214.0          0     Normal    108   \n4   54   M           NAP        150        195.0          0     Normal    122   \n\n  ExerciseAngina  Oldpeak ST_Slope  HeartDisease  \n0              N      0.0       Up             0  \n1              N      1.0     Flat             1  \n2              N      0.0       Up             0  \n3              Y      1.5     Flat             1  \n4              N      0.0       Up             0  ",
      "text/html": "<div>\n<style scoped>\n    .dataframe tbody tr th:only-of-type {\n        vertical-align: middle;\n    }\n\n    .dataframe tbody tr th {\n        vertical-align: top;\n    }\n\n    .dataframe thead th {\n        text-align: right;\n    }\n</style>\n<table border=\"1\" class=\"dataframe\">\n  <thead>\n    <tr style=\"text-align: right;\">\n      <th></th>\n      <th>Age</th>\n      <th>Sex</th>\n      <th>ChestPainType</th>\n      <th>RestingBP</th>\n      <th>Cholesterol</th>\n      <th>FastingBS</th>\n      <th>RestingECG</th>\n      <th>MaxHR</th>\n      <th>ExerciseAngina</th>\n      <th>Oldpeak</th>\n      <th>ST_Slope</th>\n      <th>HeartDisease</th>\n    </tr>\n  </thead>\n  <tbody>\n    <tr>\n      <th>0</th>\n      <td>40</td>\n      <td>M</td>\n      <td>ATA</td>\n      <td>140</td>\n      <td>289.0</td>\n      <td>0</td>\n      <td>Normal</td>\n      <td>172</td>\n      <td>N</td>\n      <td>0.0</td>\n      <td>Up</td>\n      <td>0</td>\n    </tr>\n    <tr>\n      <th>1</th>\n      <td>49</td>\n      <td>F</td>\n      <td>NAP</td>\n      <td>160</td>\n      <td>180.0</td>\n      <td>0</td>\n      <td>Normal</td>\n      <td>156</td>\n      <td>N</td>\n      <td>1.0</td>\n      <td>Flat</td>\n      <td>1</td>\n    </tr>\n    <tr>\n      <th>2</th>\n      <td>37</td>\n      <td>M</td>\n      <td>ATA</td>\n      <td>130</td>\n      <td>283.0</td>\n      <td>0</td>\n      <td>ST</td>\n      <td>98</td>\n      <td>N</td>\n      <td>0.0</td>\n      <td>Up</td>\n      <td>0</td>\n    </tr>\n    <tr>\n      <th>3</th>\n      <td>48</td>\n      <td>F</td>\n      <td>ASY</td>\n      <td>138</td>\n      <td>214.0</td>\n      <td>0</td>\n      <td>Normal</td>\n      <td>108</td>\n      <td>Y</td>\n      <td>1.5</td>\n      <td>Flat</td>\n      <td>1</td>\n    </tr>\n    <tr>\n      <th>4</th>\n      <td>54</td>\n      <td>M</td>\n      <td>NAP</td>\n      <td>150</td>\n      <td>195.0</td>\n      <td>0</td>\n      <td>Normal</td>\n      <td>122</td>\n      <td>N</td>\n      <td>0.0</td>\n      <td>Up</td>\n      <td>0</td>\n    </tr>\n  </tbody>\n</table>\n</div>"
     },
     "execution_count": 21,
     "metadata": {},
     "output_type": "execute_result"
    }
   ],
   "source": [
    "df.head()"
   ],
   "metadata": {
    "collapsed": false,
    "ExecuteTime": {
     "end_time": "2024-04-06T17:46:36.284714Z",
     "start_time": "2024-04-06T17:46:36.240742Z"
    }
   },
   "id": "5d2641f48f1821a8",
   "execution_count": 21
  },
  {
   "cell_type": "code",
   "outputs": [
    {
     "data": {
      "text/plain": "array([[40, 'M', 'ATA', ..., 'N', 0.0, 'Up'],\n       [49, 'F', 'NAP', ..., 'N', 1.0, 'Flat'],\n       [37, 'M', 'ATA', ..., 'N', 0.0, 'Up'],\n       ...,\n       [57, 'M', 'ASY', ..., 'Y', 1.2, 'Flat'],\n       [57, 'F', 'ATA', ..., 'N', 0.0, 'Flat'],\n       [38, 'M', 'NAP', ..., 'N', 0.0, 'Up']], dtype=object)"
     },
     "execution_count": 22,
     "metadata": {},
     "output_type": "execute_result"
    }
   ],
   "source": [
    "previsores2 = df.iloc[:, 0:11].values\n",
    "previsores2"
   ],
   "metadata": {
    "collapsed": false,
    "ExecuteTime": {
     "end_time": "2024-04-06T17:46:36.300706Z",
     "start_time": "2024-04-06T17:46:36.288713Z"
    }
   },
   "id": "e06af90a1db5d79e",
   "execution_count": 22
  },
  {
   "cell_type": "code",
   "outputs": [
    {
     "data": {
      "text/plain": "array([[40, 1, 1, ..., 0, 0.0, 2],\n       [49, 0, 2, ..., 0, 1.0, 1],\n       [37, 1, 1, ..., 0, 0.0, 2],\n       ...,\n       [57, 1, 0, ..., 1, 1.2, 1],\n       [57, 0, 1, ..., 0, 0.0, 1],\n       [38, 1, 2, ..., 0, 0.0, 2]], dtype=object)"
     },
     "execution_count": 23,
     "metadata": {},
     "output_type": "execute_result"
    }
   ],
   "source": [
    "previsores2[:, 1] = LabelEncoder().fit_transform(previsores2[:, 1])\n",
    "previsores2[:, 2] = LabelEncoder().fit_transform(previsores2[:, 2])\n",
    "previsores2[:, 6] = LabelEncoder().fit_transform(previsores2[:, 6])\n",
    "previsores2[:, 8] = LabelEncoder().fit_transform(previsores2[:, 8])\n",
    "previsores2[:, 10] = LabelEncoder().fit_transform(previsores2[:, 10])\n",
    "previsores2"
   ],
   "metadata": {
    "collapsed": false,
    "ExecuteTime": {
     "end_time": "2024-04-06T17:46:36.331752Z",
     "start_time": "2024-04-06T17:46:36.304259Z"
    }
   },
   "id": "78a6f6101c8e90bc",
   "execution_count": 23
  },
  {
   "cell_type": "code",
   "outputs": [
    {
     "data": {
      "text/plain": "(917, 11)"
     },
     "execution_count": 24,
     "metadata": {},
     "output_type": "execute_result"
    }
   ],
   "source": [
    "previsores2.shape"
   ],
   "metadata": {
    "collapsed": false,
    "ExecuteTime": {
     "end_time": "2024-04-06T17:46:36.347741Z",
     "start_time": "2024-04-06T17:46:36.335750Z"
    }
   },
   "id": "1fdf0528402139b2",
   "execution_count": 24
  },
  {
   "cell_type": "code",
   "outputs": [],
   "source": [
    "# OneHotEncoder: Criação de variaveis Dummy (transformação de variáveis numéricas ordinais em binárias)\n",
    "from sklearn.preprocessing import OneHotEncoder\n",
    "from sklearn.compose import ColumnTransformer"
   ],
   "metadata": {
    "collapsed": false,
    "ExecuteTime": {
     "end_time": "2024-04-06T17:46:36.410706Z",
     "start_time": "2024-04-06T17:46:36.350740Z"
    }
   },
   "id": "a74e2869ad3361f1",
   "execution_count": 25
  },
  {
   "cell_type": "code",
   "outputs": [],
   "source": [
    "ColumnTransformer?"
   ],
   "metadata": {
    "collapsed": false,
    "ExecuteTime": {
     "end_time": "2024-04-06T17:46:36.552707Z",
     "start_time": "2024-04-06T17:46:36.413705Z"
    }
   },
   "id": "5a4b75f74c73d06e",
   "execution_count": 26
  },
  {
   "cell_type": "code",
   "outputs": [
    {
     "data": {
      "text/plain": "array([[0.0, 1.0, 0.0, ..., 0, 172, 0.0],\n       [1.0, 0.0, 0.0, ..., 0, 156, 1.0],\n       [0.0, 1.0, 0.0, ..., 0, 98, 0.0],\n       ...,\n       [0.0, 1.0, 1.0, ..., 0, 115, 1.2],\n       [1.0, 0.0, 0.0, ..., 0, 174, 0.0],\n       [0.0, 1.0, 0.0, ..., 0, 173, 0.0]], dtype=object)"
     },
     "execution_count": 27,
     "metadata": {},
     "output_type": "execute_result"
    }
   ],
   "source": [
    "previsores3 = ColumnTransformer(transformers=[('OneHot', OneHotEncoder(), [1, 2, 6, 8, 10])], remainder='passthrough').fit_transform(previsores2)\n",
    "previsores3"
   ],
   "metadata": {
    "collapsed": false,
    "ExecuteTime": {
     "end_time": "2024-04-06T17:46:36.584688Z",
     "start_time": "2024-04-06T17:46:36.555705Z"
    }
   },
   "id": "51ab5e20755ff69a",
   "execution_count": 27
  },
  {
   "cell_type": "code",
   "outputs": [
    {
     "data": {
      "text/plain": "(917, 20)"
     },
     "execution_count": 28,
     "metadata": {},
     "output_type": "execute_result"
    }
   ],
   "source": [
    "previsores3.shape"
   ],
   "metadata": {
    "collapsed": false,
    "ExecuteTime": {
     "end_time": "2024-04-06T17:46:36.600677Z",
     "start_time": "2024-04-06T17:46:36.586685Z"
    }
   },
   "id": "88ed88176553755b",
   "execution_count": 28
  },
  {
   "cell_type": "code",
   "outputs": [
    {
     "data": {
      "text/plain": "    0    1    2    3    4    5    6    7    8    9    10   11   12   13  14  \\\n0  0.0  1.0  0.0  1.0  0.0  0.0  0.0  1.0  0.0  1.0  0.0  0.0  0.0  1.0  40   \n1  1.0  0.0  0.0  0.0  1.0  0.0  0.0  1.0  0.0  1.0  0.0  0.0  1.0  0.0  49   \n2  0.0  1.0  0.0  1.0  0.0  0.0  0.0  0.0  1.0  1.0  0.0  0.0  0.0  1.0  37   \n3  1.0  0.0  1.0  0.0  0.0  0.0  0.0  1.0  0.0  0.0  1.0  0.0  1.0  0.0  48   \n4  0.0  1.0  0.0  0.0  1.0  0.0  0.0  1.0  0.0  1.0  0.0  0.0  0.0  1.0  54   \n5  0.0  1.0  0.0  0.0  1.0  0.0  0.0  1.0  0.0  1.0  0.0  0.0  0.0  1.0  39   \n6  1.0  0.0  0.0  1.0  0.0  0.0  0.0  1.0  0.0  1.0  0.0  0.0  0.0  1.0  45   \n7  0.0  1.0  0.0  1.0  0.0  0.0  0.0  1.0  0.0  1.0  0.0  0.0  0.0  1.0  54   \n8  0.0  1.0  1.0  0.0  0.0  0.0  0.0  1.0  0.0  0.0  1.0  0.0  1.0  0.0  37   \n9  1.0  0.0  0.0  1.0  0.0  0.0  0.0  1.0  0.0  1.0  0.0  0.0  0.0  1.0  48   \n\n    15     16 17   18   19  \n0  140  289.0  0  172  0.0  \n1  160  180.0  0  156  1.0  \n2  130  283.0  0   98  0.0  \n3  138  214.0  0  108  1.5  \n4  150  195.0  0  122  0.0  \n5  120  339.0  0  170  0.0  \n6  130  237.0  0  170  0.0  \n7  110  208.0  0  142  0.0  \n8  140  207.0  0  130  1.5  \n9  120  284.0  0  120  0.0  ",
      "text/html": "<div>\n<style scoped>\n    .dataframe tbody tr th:only-of-type {\n        vertical-align: middle;\n    }\n\n    .dataframe tbody tr th {\n        vertical-align: top;\n    }\n\n    .dataframe thead th {\n        text-align: right;\n    }\n</style>\n<table border=\"1\" class=\"dataframe\">\n  <thead>\n    <tr style=\"text-align: right;\">\n      <th></th>\n      <th>0</th>\n      <th>1</th>\n      <th>2</th>\n      <th>3</th>\n      <th>4</th>\n      <th>5</th>\n      <th>6</th>\n      <th>7</th>\n      <th>8</th>\n      <th>9</th>\n      <th>10</th>\n      <th>11</th>\n      <th>12</th>\n      <th>13</th>\n      <th>14</th>\n      <th>15</th>\n      <th>16</th>\n      <th>17</th>\n      <th>18</th>\n      <th>19</th>\n    </tr>\n  </thead>\n  <tbody>\n    <tr>\n      <th>0</th>\n      <td>0.0</td>\n      <td>1.0</td>\n      <td>0.0</td>\n      <td>1.0</td>\n      <td>0.0</td>\n      <td>0.0</td>\n      <td>0.0</td>\n      <td>1.0</td>\n      <td>0.0</td>\n      <td>1.0</td>\n      <td>0.0</td>\n      <td>0.0</td>\n      <td>0.0</td>\n      <td>1.0</td>\n      <td>40</td>\n      <td>140</td>\n      <td>289.0</td>\n      <td>0</td>\n      <td>172</td>\n      <td>0.0</td>\n    </tr>\n    <tr>\n      <th>1</th>\n      <td>1.0</td>\n      <td>0.0</td>\n      <td>0.0</td>\n      <td>0.0</td>\n      <td>1.0</td>\n      <td>0.0</td>\n      <td>0.0</td>\n      <td>1.0</td>\n      <td>0.0</td>\n      <td>1.0</td>\n      <td>0.0</td>\n      <td>0.0</td>\n      <td>1.0</td>\n      <td>0.0</td>\n      <td>49</td>\n      <td>160</td>\n      <td>180.0</td>\n      <td>0</td>\n      <td>156</td>\n      <td>1.0</td>\n    </tr>\n    <tr>\n      <th>2</th>\n      <td>0.0</td>\n      <td>1.0</td>\n      <td>0.0</td>\n      <td>1.0</td>\n      <td>0.0</td>\n      <td>0.0</td>\n      <td>0.0</td>\n      <td>0.0</td>\n      <td>1.0</td>\n      <td>1.0</td>\n      <td>0.0</td>\n      <td>0.0</td>\n      <td>0.0</td>\n      <td>1.0</td>\n      <td>37</td>\n      <td>130</td>\n      <td>283.0</td>\n      <td>0</td>\n      <td>98</td>\n      <td>0.0</td>\n    </tr>\n    <tr>\n      <th>3</th>\n      <td>1.0</td>\n      <td>0.0</td>\n      <td>1.0</td>\n      <td>0.0</td>\n      <td>0.0</td>\n      <td>0.0</td>\n      <td>0.0</td>\n      <td>1.0</td>\n      <td>0.0</td>\n      <td>0.0</td>\n      <td>1.0</td>\n      <td>0.0</td>\n      <td>1.0</td>\n      <td>0.0</td>\n      <td>48</td>\n      <td>138</td>\n      <td>214.0</td>\n      <td>0</td>\n      <td>108</td>\n      <td>1.5</td>\n    </tr>\n    <tr>\n      <th>4</th>\n      <td>0.0</td>\n      <td>1.0</td>\n      <td>0.0</td>\n      <td>0.0</td>\n      <td>1.0</td>\n      <td>0.0</td>\n      <td>0.0</td>\n      <td>1.0</td>\n      <td>0.0</td>\n      <td>1.0</td>\n      <td>0.0</td>\n      <td>0.0</td>\n      <td>0.0</td>\n      <td>1.0</td>\n      <td>54</td>\n      <td>150</td>\n      <td>195.0</td>\n      <td>0</td>\n      <td>122</td>\n      <td>0.0</td>\n    </tr>\n    <tr>\n      <th>5</th>\n      <td>0.0</td>\n      <td>1.0</td>\n      <td>0.0</td>\n      <td>0.0</td>\n      <td>1.0</td>\n      <td>0.0</td>\n      <td>0.0</td>\n      <td>1.0</td>\n      <td>0.0</td>\n      <td>1.0</td>\n      <td>0.0</td>\n      <td>0.0</td>\n      <td>0.0</td>\n      <td>1.0</td>\n      <td>39</td>\n      <td>120</td>\n      <td>339.0</td>\n      <td>0</td>\n      <td>170</td>\n      <td>0.0</td>\n    </tr>\n    <tr>\n      <th>6</th>\n      <td>1.0</td>\n      <td>0.0</td>\n      <td>0.0</td>\n      <td>1.0</td>\n      <td>0.0</td>\n      <td>0.0</td>\n      <td>0.0</td>\n      <td>1.0</td>\n      <td>0.0</td>\n      <td>1.0</td>\n      <td>0.0</td>\n      <td>0.0</td>\n      <td>0.0</td>\n      <td>1.0</td>\n      <td>45</td>\n      <td>130</td>\n      <td>237.0</td>\n      <td>0</td>\n      <td>170</td>\n      <td>0.0</td>\n    </tr>\n    <tr>\n      <th>7</th>\n      <td>0.0</td>\n      <td>1.0</td>\n      <td>0.0</td>\n      <td>1.0</td>\n      <td>0.0</td>\n      <td>0.0</td>\n      <td>0.0</td>\n      <td>1.0</td>\n      <td>0.0</td>\n      <td>1.0</td>\n      <td>0.0</td>\n      <td>0.0</td>\n      <td>0.0</td>\n      <td>1.0</td>\n      <td>54</td>\n      <td>110</td>\n      <td>208.0</td>\n      <td>0</td>\n      <td>142</td>\n      <td>0.0</td>\n    </tr>\n    <tr>\n      <th>8</th>\n      <td>0.0</td>\n      <td>1.0</td>\n      <td>1.0</td>\n      <td>0.0</td>\n      <td>0.0</td>\n      <td>0.0</td>\n      <td>0.0</td>\n      <td>1.0</td>\n      <td>0.0</td>\n      <td>0.0</td>\n      <td>1.0</td>\n      <td>0.0</td>\n      <td>1.0</td>\n      <td>0.0</td>\n      <td>37</td>\n      <td>140</td>\n      <td>207.0</td>\n      <td>0</td>\n      <td>130</td>\n      <td>1.5</td>\n    </tr>\n    <tr>\n      <th>9</th>\n      <td>1.0</td>\n      <td>0.0</td>\n      <td>0.0</td>\n      <td>1.0</td>\n      <td>0.0</td>\n      <td>0.0</td>\n      <td>0.0</td>\n      <td>1.0</td>\n      <td>0.0</td>\n      <td>1.0</td>\n      <td>0.0</td>\n      <td>0.0</td>\n      <td>0.0</td>\n      <td>1.0</td>\n      <td>48</td>\n      <td>120</td>\n      <td>284.0</td>\n      <td>0</td>\n      <td>120</td>\n      <td>0.0</td>\n    </tr>\n  </tbody>\n</table>\n</div>"
     },
     "execution_count": 29,
     "metadata": {},
     "output_type": "execute_result"
    }
   ],
   "source": [
    "previsores3df = pd.DataFrame(previsores3)\n",
    "previsores3df.head(10)"
   ],
   "metadata": {
    "collapsed": false,
    "ExecuteTime": {
     "end_time": "2024-04-06T17:46:36.664155Z",
     "start_time": "2024-04-06T17:46:36.603681Z"
    }
   },
   "id": "4ff5940bc6cf57d1",
   "execution_count": 29
  },
  {
   "cell_type": "code",
   "outputs": [
    {
     "data": {
      "text/plain": "   Age Sex ChestPainType  RestingBP  Cholesterol  FastingBS RestingECG  MaxHR  \\\n0   40   M           ATA        140        289.0          0     Normal    172   \n1   49   F           NAP        160        180.0          0     Normal    156   \n2   37   M           ATA        130        283.0          0         ST     98   \n3   48   F           ASY        138        214.0          0     Normal    108   \n4   54   M           NAP        150        195.0          0     Normal    122   \n5   39   M           NAP        120        339.0          0     Normal    170   \n6   45   F           ATA        130        237.0          0     Normal    170   \n7   54   M           ATA        110        208.0          0     Normal    142   \n8   37   M           ASY        140        207.0          0     Normal    130   \n9   48   F           ATA        120        284.0          0     Normal    120   \n\n  ExerciseAngina  Oldpeak ST_Slope  HeartDisease  \n0              N      0.0       Up             0  \n1              N      1.0     Flat             1  \n2              N      0.0       Up             0  \n3              Y      1.5     Flat             1  \n4              N      0.0       Up             0  \n5              N      0.0       Up             0  \n6              N      0.0       Up             0  \n7              N      0.0       Up             0  \n8              Y      1.5     Flat             1  \n9              N      0.0       Up             0  ",
      "text/html": "<div>\n<style scoped>\n    .dataframe tbody tr th:only-of-type {\n        vertical-align: middle;\n    }\n\n    .dataframe tbody tr th {\n        vertical-align: top;\n    }\n\n    .dataframe thead th {\n        text-align: right;\n    }\n</style>\n<table border=\"1\" class=\"dataframe\">\n  <thead>\n    <tr style=\"text-align: right;\">\n      <th></th>\n      <th>Age</th>\n      <th>Sex</th>\n      <th>ChestPainType</th>\n      <th>RestingBP</th>\n      <th>Cholesterol</th>\n      <th>FastingBS</th>\n      <th>RestingECG</th>\n      <th>MaxHR</th>\n      <th>ExerciseAngina</th>\n      <th>Oldpeak</th>\n      <th>ST_Slope</th>\n      <th>HeartDisease</th>\n    </tr>\n  </thead>\n  <tbody>\n    <tr>\n      <th>0</th>\n      <td>40</td>\n      <td>M</td>\n      <td>ATA</td>\n      <td>140</td>\n      <td>289.0</td>\n      <td>0</td>\n      <td>Normal</td>\n      <td>172</td>\n      <td>N</td>\n      <td>0.0</td>\n      <td>Up</td>\n      <td>0</td>\n    </tr>\n    <tr>\n      <th>1</th>\n      <td>49</td>\n      <td>F</td>\n      <td>NAP</td>\n      <td>160</td>\n      <td>180.0</td>\n      <td>0</td>\n      <td>Normal</td>\n      <td>156</td>\n      <td>N</td>\n      <td>1.0</td>\n      <td>Flat</td>\n      <td>1</td>\n    </tr>\n    <tr>\n      <th>2</th>\n      <td>37</td>\n      <td>M</td>\n      <td>ATA</td>\n      <td>130</td>\n      <td>283.0</td>\n      <td>0</td>\n      <td>ST</td>\n      <td>98</td>\n      <td>N</td>\n      <td>0.0</td>\n      <td>Up</td>\n      <td>0</td>\n    </tr>\n    <tr>\n      <th>3</th>\n      <td>48</td>\n      <td>F</td>\n      <td>ASY</td>\n      <td>138</td>\n      <td>214.0</td>\n      <td>0</td>\n      <td>Normal</td>\n      <td>108</td>\n      <td>Y</td>\n      <td>1.5</td>\n      <td>Flat</td>\n      <td>1</td>\n    </tr>\n    <tr>\n      <th>4</th>\n      <td>54</td>\n      <td>M</td>\n      <td>NAP</td>\n      <td>150</td>\n      <td>195.0</td>\n      <td>0</td>\n      <td>Normal</td>\n      <td>122</td>\n      <td>N</td>\n      <td>0.0</td>\n      <td>Up</td>\n      <td>0</td>\n    </tr>\n    <tr>\n      <th>5</th>\n      <td>39</td>\n      <td>M</td>\n      <td>NAP</td>\n      <td>120</td>\n      <td>339.0</td>\n      <td>0</td>\n      <td>Normal</td>\n      <td>170</td>\n      <td>N</td>\n      <td>0.0</td>\n      <td>Up</td>\n      <td>0</td>\n    </tr>\n    <tr>\n      <th>6</th>\n      <td>45</td>\n      <td>F</td>\n      <td>ATA</td>\n      <td>130</td>\n      <td>237.0</td>\n      <td>0</td>\n      <td>Normal</td>\n      <td>170</td>\n      <td>N</td>\n      <td>0.0</td>\n      <td>Up</td>\n      <td>0</td>\n    </tr>\n    <tr>\n      <th>7</th>\n      <td>54</td>\n      <td>M</td>\n      <td>ATA</td>\n      <td>110</td>\n      <td>208.0</td>\n      <td>0</td>\n      <td>Normal</td>\n      <td>142</td>\n      <td>N</td>\n      <td>0.0</td>\n      <td>Up</td>\n      <td>0</td>\n    </tr>\n    <tr>\n      <th>8</th>\n      <td>37</td>\n      <td>M</td>\n      <td>ASY</td>\n      <td>140</td>\n      <td>207.0</td>\n      <td>0</td>\n      <td>Normal</td>\n      <td>130</td>\n      <td>Y</td>\n      <td>1.5</td>\n      <td>Flat</td>\n      <td>1</td>\n    </tr>\n    <tr>\n      <th>9</th>\n      <td>48</td>\n      <td>F</td>\n      <td>ATA</td>\n      <td>120</td>\n      <td>284.0</td>\n      <td>0</td>\n      <td>Normal</td>\n      <td>120</td>\n      <td>N</td>\n      <td>0.0</td>\n      <td>Up</td>\n      <td>0</td>\n    </tr>\n  </tbody>\n</table>\n</div>"
     },
     "execution_count": 30,
     "metadata": {},
     "output_type": "execute_result"
    }
   ],
   "source": [
    "df.head(10)"
   ],
   "metadata": {
    "collapsed": false,
    "ExecuteTime": {
     "end_time": "2024-04-06T17:46:36.712128Z",
     "start_time": "2024-04-06T17:46:36.666154Z"
    }
   },
   "id": "f0e8d341075a82a4",
   "execution_count": 30
  },
  {
   "cell_type": "code",
   "outputs": [],
   "source": [
    "# Escalonamento\n",
    "from sklearn.preprocessing import StandardScaler"
   ],
   "metadata": {
    "collapsed": false,
    "ExecuteTime": {
     "end_time": "2024-04-06T17:46:36.727633Z",
     "start_time": "2024-04-06T17:46:36.715128Z"
    }
   },
   "id": "eb966cb23a1bd663",
   "execution_count": 31
  },
  {
   "cell_type": "code",
   "outputs": [
    {
     "data": {
      "text/plain": "array([[-0.51630861,  0.51630861, -1.08542493, ..., -0.55173333,\n         1.38333943, -0.83150225],\n       [ 1.9368261 , -1.9368261 , -1.08542493, ..., -0.55173333,\n         0.75473573,  0.10625149],\n       [-0.51630861,  0.51630861, -1.08542493, ..., -0.55173333,\n        -1.52395266, -0.83150225],\n       ...,\n       [-0.51630861,  0.51630861,  0.92129817, ..., -0.55173333,\n        -0.85606123,  0.29380223],\n       [ 1.9368261 , -1.9368261 , -1.08542493, ..., -0.55173333,\n         1.46191489, -0.83150225],\n       [-0.51630861,  0.51630861, -1.08542493, ..., -0.55173333,\n         1.42262716, -0.83150225]])"
     },
     "execution_count": 32,
     "metadata": {},
     "output_type": "execute_result"
    }
   ],
   "source": [
    "previsores3_esc = StandardScaler().fit_transform(previsores3)\n",
    "previsores3_esc"
   ],
   "metadata": {
    "collapsed": false,
    "ExecuteTime": {
     "end_time": "2024-04-06T17:46:36.758613Z",
     "start_time": "2024-04-06T17:46:36.730631Z"
    }
   },
   "id": "a0cabe436427e0ac",
   "execution_count": 32
  },
  {
   "cell_type": "code",
   "outputs": [
    {
     "data": {
      "text/plain": "           0         1         2         3         4         5         6   \\\n0   -0.516309  0.516309 -1.085425  2.073784 -0.531524 -0.229810 -0.507826   \n1    1.936826 -1.936826 -1.085425 -0.482210  1.881384 -0.229810 -0.507826   \n2   -0.516309  0.516309 -1.085425  2.073784 -0.531524 -0.229810 -0.507826   \n3    1.936826 -1.936826  0.921298 -0.482210 -0.531524 -0.229810 -0.507826   \n4   -0.516309  0.516309 -1.085425 -0.482210  1.881384 -0.229810 -0.507826   \n..        ...       ...       ...       ...       ...       ...       ...   \n912 -0.516309  0.516309 -1.085425 -0.482210 -0.531524  4.351412 -0.507826   \n913 -0.516309  0.516309  0.921298 -0.482210 -0.531524 -0.229810 -0.507826   \n914 -0.516309  0.516309  0.921298 -0.482210 -0.531524 -0.229810 -0.507826   \n915  1.936826 -1.936826 -1.085425  2.073784 -0.531524 -0.229810  1.969177   \n916 -0.516309  0.516309 -1.085425 -0.482210  1.881384 -0.229810 -0.507826   \n\n           7         8         9         10        11        12        13  \\\n0    0.815013 -0.490781  0.824310 -0.824310 -0.271607 -1.001091  1.149573   \n1    0.815013 -0.490781  0.824310 -0.824310 -0.271607  0.998910 -0.869888   \n2   -1.226974  2.037569  0.824310 -0.824310 -0.271607 -1.001091  1.149573   \n3    0.815013 -0.490781 -1.213136  1.213136 -0.271607  0.998910 -0.869888   \n4    0.815013 -0.490781  0.824310 -0.824310 -0.271607 -1.001091  1.149573   \n..        ...       ...       ...       ...       ...       ...       ...   \n912  0.815013 -0.490781  0.824310 -0.824310 -0.271607  0.998910 -0.869888   \n913  0.815013 -0.490781  0.824310 -0.824310 -0.271607  0.998910 -0.869888   \n914  0.815013 -0.490781 -1.213136  1.213136 -0.271607  0.998910 -0.869888   \n915 -1.226974 -0.490781  0.824310 -0.824310 -0.271607  0.998910 -0.869888   \n916  0.815013 -0.490781  0.824310 -0.824310 -0.271607 -1.001091  1.149573   \n\n           14        15        16        17        18        19  \n0   -1.432206  0.414627  0.832075 -0.551733  1.383339 -0.831502  \n1   -0.478057  1.526360 -1.212261 -0.551733  0.754736  0.106251  \n2   -1.750256 -0.141240  0.719543 -0.551733 -1.523953 -0.831502  \n3   -0.584074  0.303453 -0.574578 -0.551733 -1.131075  0.575128  \n4    0.052026  0.970493 -0.930931 -0.551733 -0.581047 -0.831502  \n..        ...       ...       ...       ...       ...       ...  \n912 -0.902124 -1.252973  0.363191 -0.551733 -0.188170  0.293802  \n913  1.536257  0.636973 -0.968441  1.812470  0.165420  2.356860  \n914  0.370075 -0.141240 -2.131275 -0.551733 -0.856061  0.293802  \n915  0.370075 -0.141240 -0.161960 -0.551733  1.461915 -0.831502  \n916 -1.644239  0.303453 -1.306038 -0.551733  1.422627 -0.831502  \n\n[917 rows x 20 columns]",
      "text/html": "<div>\n<style scoped>\n    .dataframe tbody tr th:only-of-type {\n        vertical-align: middle;\n    }\n\n    .dataframe tbody tr th {\n        vertical-align: top;\n    }\n\n    .dataframe thead th {\n        text-align: right;\n    }\n</style>\n<table border=\"1\" class=\"dataframe\">\n  <thead>\n    <tr style=\"text-align: right;\">\n      <th></th>\n      <th>0</th>\n      <th>1</th>\n      <th>2</th>\n      <th>3</th>\n      <th>4</th>\n      <th>5</th>\n      <th>6</th>\n      <th>7</th>\n      <th>8</th>\n      <th>9</th>\n      <th>10</th>\n      <th>11</th>\n      <th>12</th>\n      <th>13</th>\n      <th>14</th>\n      <th>15</th>\n      <th>16</th>\n      <th>17</th>\n      <th>18</th>\n      <th>19</th>\n    </tr>\n  </thead>\n  <tbody>\n    <tr>\n      <th>0</th>\n      <td>-0.516309</td>\n      <td>0.516309</td>\n      <td>-1.085425</td>\n      <td>2.073784</td>\n      <td>-0.531524</td>\n      <td>-0.229810</td>\n      <td>-0.507826</td>\n      <td>0.815013</td>\n      <td>-0.490781</td>\n      <td>0.824310</td>\n      <td>-0.824310</td>\n      <td>-0.271607</td>\n      <td>-1.001091</td>\n      <td>1.149573</td>\n      <td>-1.432206</td>\n      <td>0.414627</td>\n      <td>0.832075</td>\n      <td>-0.551733</td>\n      <td>1.383339</td>\n      <td>-0.831502</td>\n    </tr>\n    <tr>\n      <th>1</th>\n      <td>1.936826</td>\n      <td>-1.936826</td>\n      <td>-1.085425</td>\n      <td>-0.482210</td>\n      <td>1.881384</td>\n      <td>-0.229810</td>\n      <td>-0.507826</td>\n      <td>0.815013</td>\n      <td>-0.490781</td>\n      <td>0.824310</td>\n      <td>-0.824310</td>\n      <td>-0.271607</td>\n      <td>0.998910</td>\n      <td>-0.869888</td>\n      <td>-0.478057</td>\n      <td>1.526360</td>\n      <td>-1.212261</td>\n      <td>-0.551733</td>\n      <td>0.754736</td>\n      <td>0.106251</td>\n    </tr>\n    <tr>\n      <th>2</th>\n      <td>-0.516309</td>\n      <td>0.516309</td>\n      <td>-1.085425</td>\n      <td>2.073784</td>\n      <td>-0.531524</td>\n      <td>-0.229810</td>\n      <td>-0.507826</td>\n      <td>-1.226974</td>\n      <td>2.037569</td>\n      <td>0.824310</td>\n      <td>-0.824310</td>\n      <td>-0.271607</td>\n      <td>-1.001091</td>\n      <td>1.149573</td>\n      <td>-1.750256</td>\n      <td>-0.141240</td>\n      <td>0.719543</td>\n      <td>-0.551733</td>\n      <td>-1.523953</td>\n      <td>-0.831502</td>\n    </tr>\n    <tr>\n      <th>3</th>\n      <td>1.936826</td>\n      <td>-1.936826</td>\n      <td>0.921298</td>\n      <td>-0.482210</td>\n      <td>-0.531524</td>\n      <td>-0.229810</td>\n      <td>-0.507826</td>\n      <td>0.815013</td>\n      <td>-0.490781</td>\n      <td>-1.213136</td>\n      <td>1.213136</td>\n      <td>-0.271607</td>\n      <td>0.998910</td>\n      <td>-0.869888</td>\n      <td>-0.584074</td>\n      <td>0.303453</td>\n      <td>-0.574578</td>\n      <td>-0.551733</td>\n      <td>-1.131075</td>\n      <td>0.575128</td>\n    </tr>\n    <tr>\n      <th>4</th>\n      <td>-0.516309</td>\n      <td>0.516309</td>\n      <td>-1.085425</td>\n      <td>-0.482210</td>\n      <td>1.881384</td>\n      <td>-0.229810</td>\n      <td>-0.507826</td>\n      <td>0.815013</td>\n      <td>-0.490781</td>\n      <td>0.824310</td>\n      <td>-0.824310</td>\n      <td>-0.271607</td>\n      <td>-1.001091</td>\n      <td>1.149573</td>\n      <td>0.052026</td>\n      <td>0.970493</td>\n      <td>-0.930931</td>\n      <td>-0.551733</td>\n      <td>-0.581047</td>\n      <td>-0.831502</td>\n    </tr>\n    <tr>\n      <th>...</th>\n      <td>...</td>\n      <td>...</td>\n      <td>...</td>\n      <td>...</td>\n      <td>...</td>\n      <td>...</td>\n      <td>...</td>\n      <td>...</td>\n      <td>...</td>\n      <td>...</td>\n      <td>...</td>\n      <td>...</td>\n      <td>...</td>\n      <td>...</td>\n      <td>...</td>\n      <td>...</td>\n      <td>...</td>\n      <td>...</td>\n      <td>...</td>\n      <td>...</td>\n    </tr>\n    <tr>\n      <th>912</th>\n      <td>-0.516309</td>\n      <td>0.516309</td>\n      <td>-1.085425</td>\n      <td>-0.482210</td>\n      <td>-0.531524</td>\n      <td>4.351412</td>\n      <td>-0.507826</td>\n      <td>0.815013</td>\n      <td>-0.490781</td>\n      <td>0.824310</td>\n      <td>-0.824310</td>\n      <td>-0.271607</td>\n      <td>0.998910</td>\n      <td>-0.869888</td>\n      <td>-0.902124</td>\n      <td>-1.252973</td>\n      <td>0.363191</td>\n      <td>-0.551733</td>\n      <td>-0.188170</td>\n      <td>0.293802</td>\n    </tr>\n    <tr>\n      <th>913</th>\n      <td>-0.516309</td>\n      <td>0.516309</td>\n      <td>0.921298</td>\n      <td>-0.482210</td>\n      <td>-0.531524</td>\n      <td>-0.229810</td>\n      <td>-0.507826</td>\n      <td>0.815013</td>\n      <td>-0.490781</td>\n      <td>0.824310</td>\n      <td>-0.824310</td>\n      <td>-0.271607</td>\n      <td>0.998910</td>\n      <td>-0.869888</td>\n      <td>1.536257</td>\n      <td>0.636973</td>\n      <td>-0.968441</td>\n      <td>1.812470</td>\n      <td>0.165420</td>\n      <td>2.356860</td>\n    </tr>\n    <tr>\n      <th>914</th>\n      <td>-0.516309</td>\n      <td>0.516309</td>\n      <td>0.921298</td>\n      <td>-0.482210</td>\n      <td>-0.531524</td>\n      <td>-0.229810</td>\n      <td>-0.507826</td>\n      <td>0.815013</td>\n      <td>-0.490781</td>\n      <td>-1.213136</td>\n      <td>1.213136</td>\n      <td>-0.271607</td>\n      <td>0.998910</td>\n      <td>-0.869888</td>\n      <td>0.370075</td>\n      <td>-0.141240</td>\n      <td>-2.131275</td>\n      <td>-0.551733</td>\n      <td>-0.856061</td>\n      <td>0.293802</td>\n    </tr>\n    <tr>\n      <th>915</th>\n      <td>1.936826</td>\n      <td>-1.936826</td>\n      <td>-1.085425</td>\n      <td>2.073784</td>\n      <td>-0.531524</td>\n      <td>-0.229810</td>\n      <td>1.969177</td>\n      <td>-1.226974</td>\n      <td>-0.490781</td>\n      <td>0.824310</td>\n      <td>-0.824310</td>\n      <td>-0.271607</td>\n      <td>0.998910</td>\n      <td>-0.869888</td>\n      <td>0.370075</td>\n      <td>-0.141240</td>\n      <td>-0.161960</td>\n      <td>-0.551733</td>\n      <td>1.461915</td>\n      <td>-0.831502</td>\n    </tr>\n    <tr>\n      <th>916</th>\n      <td>-0.516309</td>\n      <td>0.516309</td>\n      <td>-1.085425</td>\n      <td>-0.482210</td>\n      <td>1.881384</td>\n      <td>-0.229810</td>\n      <td>-0.507826</td>\n      <td>0.815013</td>\n      <td>-0.490781</td>\n      <td>0.824310</td>\n      <td>-0.824310</td>\n      <td>-0.271607</td>\n      <td>-1.001091</td>\n      <td>1.149573</td>\n      <td>-1.644239</td>\n      <td>0.303453</td>\n      <td>-1.306038</td>\n      <td>-0.551733</td>\n      <td>1.422627</td>\n      <td>-0.831502</td>\n    </tr>\n  </tbody>\n</table>\n<p>917 rows × 20 columns</p>\n</div>"
     },
     "execution_count": 33,
     "metadata": {},
     "output_type": "execute_result"
    }
   ],
   "source": [
    "previsores3df = pd.DataFrame(previsores3_esc)\n",
    "previsores3df"
   ],
   "metadata": {
    "collapsed": false,
    "ExecuteTime": {
     "end_time": "2024-04-06T17:46:36.822670Z",
     "start_time": "2024-04-06T17:46:36.761613Z"
    }
   },
   "id": "fd2e6de0fd8eaaae",
   "execution_count": 33
  },
  {
   "cell_type": "code",
   "outputs": [
    {
     "data": {
      "text/plain": "                 0             1             2             3             4   \\\ncount  9.170000e+02  9.170000e+02  9.170000e+02  9.170000e+02  9.170000e+02   \nmean   1.084798e-16 -1.472226e-16  1.937139e-17 -3.874279e-17  3.874279e-17   \nstd    1.000546e+00  1.000546e+00  1.000546e+00  1.000546e+00  1.000546e+00   \nmin   -5.163086e-01 -1.936826e+00 -1.085425e+00 -4.822104e-01 -5.315237e-01   \n25%   -5.163086e-01  5.163086e-01 -1.085425e+00 -4.822104e-01 -5.315237e-01   \n50%   -5.163086e-01  5.163086e-01  9.212982e-01 -4.822104e-01 -5.315237e-01   \n75%   -5.163086e-01  5.163086e-01  9.212982e-01 -4.822104e-01 -5.315237e-01   \nmax    1.936826e+00  5.163086e-01  9.212982e-01  2.073784e+00  1.881384e+00   \n\n                 5           6             7             8             9   \\\ncount  9.170000e+02  917.000000  9.170000e+02  9.170000e+02  9.170000e+02   \nmean   6.973702e-17    0.000000 -9.298269e-17  1.549712e-17 -4.261707e-17   \nstd    1.000546e+00    1.000546  1.000546e+00  1.000546e+00  1.000546e+00   \nmin   -2.298105e-01   -0.507826 -1.226974e+00 -4.907810e-01 -1.213136e+00   \n25%   -2.298105e-01   -0.507826 -1.226974e+00 -4.907810e-01 -1.213136e+00   \n50%   -2.298105e-01   -0.507826  8.150134e-01 -4.907810e-01  8.243101e-01   \n75%   -2.298105e-01   -0.507826  8.150134e-01 -4.907810e-01  8.243101e-01   \nmax    4.351412e+00    1.969177  8.150134e-01  2.037569e+00  8.243101e-01   \n\n                 10            11          12            13            14  \\\ncount  9.170000e+02  9.170000e+02  917.000000  9.170000e+02  9.170000e+02   \nmean   4.261707e-17  8.523413e-17    0.000000 -3.874279e-17  1.859654e-16   \nstd    1.000546e+00  1.000546e+00    1.000546  1.000546e+00  1.000546e+00   \nmin   -8.243101e-01 -2.716072e-01   -1.001091 -8.698879e-01 -2.704405e+00   \n25%   -8.243101e-01 -2.716072e-01   -1.001091 -8.698879e-01 -6.900904e-01   \n50%   -8.243101e-01 -2.716072e-01    0.998910 -8.698879e-01  5.202558e-02   \n75%    1.213136e+00 -2.716072e-01    0.998910  1.149573e+00  6.881250e-01   \nmax    1.213136e+00  3.681787e+00    0.998910  1.149573e+00  2.490407e+00   \n\n                 15            16            17            18            19  \ncount  9.170000e+02  9.170000e+02  9.170000e+02  9.170000e+02  9.170000e+02  \nmean   7.884157e-16  3.014189e-15 -1.549712e-17 -5.114048e-16 -1.859654e-16  \nstd    1.000546e+00  1.000546e+00  1.000546e+00  1.000546e+00  1.000546e+00  \nmin   -2.920572e+00 -2.994023e+00 -5.517333e-01 -3.016886e+00 -3.269662e+00  \n25%   -6.971063e-01 -5.745784e-01 -5.517333e-01 -6.596226e-01 -8.315022e-01  \n50%   -1.412398e-01  3.198360e-15 -5.517333e-01  4.755658e-02 -2.688500e-01  \n75%    4.146267e-01  4.194568e-01 -5.517333e-01  7.547357e-01  5.751284e-01  \nmax    3.749826e+00  6.721265e+00  1.812470e+00  2.561971e+00  4.982571e+00  ",
      "text/html": "<div>\n<style scoped>\n    .dataframe tbody tr th:only-of-type {\n        vertical-align: middle;\n    }\n\n    .dataframe tbody tr th {\n        vertical-align: top;\n    }\n\n    .dataframe thead th {\n        text-align: right;\n    }\n</style>\n<table border=\"1\" class=\"dataframe\">\n  <thead>\n    <tr style=\"text-align: right;\">\n      <th></th>\n      <th>0</th>\n      <th>1</th>\n      <th>2</th>\n      <th>3</th>\n      <th>4</th>\n      <th>5</th>\n      <th>6</th>\n      <th>7</th>\n      <th>8</th>\n      <th>9</th>\n      <th>10</th>\n      <th>11</th>\n      <th>12</th>\n      <th>13</th>\n      <th>14</th>\n      <th>15</th>\n      <th>16</th>\n      <th>17</th>\n      <th>18</th>\n      <th>19</th>\n    </tr>\n  </thead>\n  <tbody>\n    <tr>\n      <th>count</th>\n      <td>9.170000e+02</td>\n      <td>9.170000e+02</td>\n      <td>9.170000e+02</td>\n      <td>9.170000e+02</td>\n      <td>9.170000e+02</td>\n      <td>9.170000e+02</td>\n      <td>917.000000</td>\n      <td>9.170000e+02</td>\n      <td>9.170000e+02</td>\n      <td>9.170000e+02</td>\n      <td>9.170000e+02</td>\n      <td>9.170000e+02</td>\n      <td>917.000000</td>\n      <td>9.170000e+02</td>\n      <td>9.170000e+02</td>\n      <td>9.170000e+02</td>\n      <td>9.170000e+02</td>\n      <td>9.170000e+02</td>\n      <td>9.170000e+02</td>\n      <td>9.170000e+02</td>\n    </tr>\n    <tr>\n      <th>mean</th>\n      <td>1.084798e-16</td>\n      <td>-1.472226e-16</td>\n      <td>1.937139e-17</td>\n      <td>-3.874279e-17</td>\n      <td>3.874279e-17</td>\n      <td>6.973702e-17</td>\n      <td>0.000000</td>\n      <td>-9.298269e-17</td>\n      <td>1.549712e-17</td>\n      <td>-4.261707e-17</td>\n      <td>4.261707e-17</td>\n      <td>8.523413e-17</td>\n      <td>0.000000</td>\n      <td>-3.874279e-17</td>\n      <td>1.859654e-16</td>\n      <td>7.884157e-16</td>\n      <td>3.014189e-15</td>\n      <td>-1.549712e-17</td>\n      <td>-5.114048e-16</td>\n      <td>-1.859654e-16</td>\n    </tr>\n    <tr>\n      <th>std</th>\n      <td>1.000546e+00</td>\n      <td>1.000546e+00</td>\n      <td>1.000546e+00</td>\n      <td>1.000546e+00</td>\n      <td>1.000546e+00</td>\n      <td>1.000546e+00</td>\n      <td>1.000546</td>\n      <td>1.000546e+00</td>\n      <td>1.000546e+00</td>\n      <td>1.000546e+00</td>\n      <td>1.000546e+00</td>\n      <td>1.000546e+00</td>\n      <td>1.000546</td>\n      <td>1.000546e+00</td>\n      <td>1.000546e+00</td>\n      <td>1.000546e+00</td>\n      <td>1.000546e+00</td>\n      <td>1.000546e+00</td>\n      <td>1.000546e+00</td>\n      <td>1.000546e+00</td>\n    </tr>\n    <tr>\n      <th>min</th>\n      <td>-5.163086e-01</td>\n      <td>-1.936826e+00</td>\n      <td>-1.085425e+00</td>\n      <td>-4.822104e-01</td>\n      <td>-5.315237e-01</td>\n      <td>-2.298105e-01</td>\n      <td>-0.507826</td>\n      <td>-1.226974e+00</td>\n      <td>-4.907810e-01</td>\n      <td>-1.213136e+00</td>\n      <td>-8.243101e-01</td>\n      <td>-2.716072e-01</td>\n      <td>-1.001091</td>\n      <td>-8.698879e-01</td>\n      <td>-2.704405e+00</td>\n      <td>-2.920572e+00</td>\n      <td>-2.994023e+00</td>\n      <td>-5.517333e-01</td>\n      <td>-3.016886e+00</td>\n      <td>-3.269662e+00</td>\n    </tr>\n    <tr>\n      <th>25%</th>\n      <td>-5.163086e-01</td>\n      <td>5.163086e-01</td>\n      <td>-1.085425e+00</td>\n      <td>-4.822104e-01</td>\n      <td>-5.315237e-01</td>\n      <td>-2.298105e-01</td>\n      <td>-0.507826</td>\n      <td>-1.226974e+00</td>\n      <td>-4.907810e-01</td>\n      <td>-1.213136e+00</td>\n      <td>-8.243101e-01</td>\n      <td>-2.716072e-01</td>\n      <td>-1.001091</td>\n      <td>-8.698879e-01</td>\n      <td>-6.900904e-01</td>\n      <td>-6.971063e-01</td>\n      <td>-5.745784e-01</td>\n      <td>-5.517333e-01</td>\n      <td>-6.596226e-01</td>\n      <td>-8.315022e-01</td>\n    </tr>\n    <tr>\n      <th>50%</th>\n      <td>-5.163086e-01</td>\n      <td>5.163086e-01</td>\n      <td>9.212982e-01</td>\n      <td>-4.822104e-01</td>\n      <td>-5.315237e-01</td>\n      <td>-2.298105e-01</td>\n      <td>-0.507826</td>\n      <td>8.150134e-01</td>\n      <td>-4.907810e-01</td>\n      <td>8.243101e-01</td>\n      <td>-8.243101e-01</td>\n      <td>-2.716072e-01</td>\n      <td>0.998910</td>\n      <td>-8.698879e-01</td>\n      <td>5.202558e-02</td>\n      <td>-1.412398e-01</td>\n      <td>3.198360e-15</td>\n      <td>-5.517333e-01</td>\n      <td>4.755658e-02</td>\n      <td>-2.688500e-01</td>\n    </tr>\n    <tr>\n      <th>75%</th>\n      <td>-5.163086e-01</td>\n      <td>5.163086e-01</td>\n      <td>9.212982e-01</td>\n      <td>-4.822104e-01</td>\n      <td>-5.315237e-01</td>\n      <td>-2.298105e-01</td>\n      <td>-0.507826</td>\n      <td>8.150134e-01</td>\n      <td>-4.907810e-01</td>\n      <td>8.243101e-01</td>\n      <td>1.213136e+00</td>\n      <td>-2.716072e-01</td>\n      <td>0.998910</td>\n      <td>1.149573e+00</td>\n      <td>6.881250e-01</td>\n      <td>4.146267e-01</td>\n      <td>4.194568e-01</td>\n      <td>-5.517333e-01</td>\n      <td>7.547357e-01</td>\n      <td>5.751284e-01</td>\n    </tr>\n    <tr>\n      <th>max</th>\n      <td>1.936826e+00</td>\n      <td>5.163086e-01</td>\n      <td>9.212982e-01</td>\n      <td>2.073784e+00</td>\n      <td>1.881384e+00</td>\n      <td>4.351412e+00</td>\n      <td>1.969177</td>\n      <td>8.150134e-01</td>\n      <td>2.037569e+00</td>\n      <td>8.243101e-01</td>\n      <td>1.213136e+00</td>\n      <td>3.681787e+00</td>\n      <td>0.998910</td>\n      <td>1.149573e+00</td>\n      <td>2.490407e+00</td>\n      <td>3.749826e+00</td>\n      <td>6.721265e+00</td>\n      <td>1.812470e+00</td>\n      <td>2.561971e+00</td>\n      <td>4.982571e+00</td>\n    </tr>\n  </tbody>\n</table>\n</div>"
     },
     "execution_count": 34,
     "metadata": {},
     "output_type": "execute_result"
    }
   ],
   "source": [
    "previsores3df.describe()"
   ],
   "metadata": {
    "collapsed": false,
    "ExecuteTime": {
     "end_time": "2024-04-06T17:46:36.964761Z",
     "start_time": "2024-04-06T17:46:36.827667Z"
    }
   },
   "id": "e31e156af64d7409",
   "execution_count": 34
  },
  {
   "cell_type": "code",
   "outputs": [],
   "source": [
    "# Resumo do Pré-Processamento:\n",
    "# alvo = variável que se pretende atingir (tem ou não tem doença cardiaca);\n",
    "# previsores = conjunto de variáveis previsoras com as variáveis categóricas transformadas em numéricas manualmente, sem escalonar;\n",
    "# previsores_esc = previsores escalonada;\n",
    "# previsores2 = conjunto de variáveis previsoras com as variáveis categóricas transformadas em numéricas automaticamente pelo labelencoder;\n",
    "# previsores3 = previsores2 aplicada onehotencoder (variáveis dummy);\n",
    "# previsores3_esc = previsores3 escalonada."
   ],
   "metadata": {
    "collapsed": false,
    "ExecuteTime": {
     "end_time": "2024-04-06T17:46:36.996739Z",
     "start_time": "2024-04-06T17:46:36.976756Z"
    }
   },
   "id": "bc76ca318018fffc",
   "execution_count": 35
  },
  {
   "cell_type": "markdown",
   "source": [
    "# 42. Pré-processamento: Redução de dimensionalidade"
   ],
   "metadata": {
    "collapsed": false
   },
   "id": "ae3e88e875aa7307"
  },
  {
   "cell_type": "code",
   "outputs": [],
   "source": [
    "# Análise dos componentes principais (Seleção de características vs Extração de características / aprendizagem não supervisionada)\n",
    "from sklearn.decomposition import PCA\n",
    "pca = PCA(n_components=3, svd_solver='auto')"
   ],
   "metadata": {
    "collapsed": false,
    "ExecuteTime": {
     "end_time": "2024-04-06T17:46:37.797174Z",
     "start_time": "2024-04-06T17:46:36.999738Z"
    }
   },
   "id": "83684a45a85543fa",
   "execution_count": 36
  },
  {
   "cell_type": "code",
   "outputs": [
    {
     "data": {
      "text/plain": "(917, 3)"
     },
     "execution_count": 37,
     "metadata": {},
     "output_type": "execute_result"
    }
   ],
   "source": [
    "previsores_pca = pca.fit_transform(previsores2)\n",
    "previsores_pca.shape"
   ],
   "metadata": {
    "collapsed": false,
    "ExecuteTime": {
     "end_time": "2024-04-06T17:46:38.018251Z",
     "start_time": "2024-04-06T17:46:37.800172Z"
    }
   },
   "id": "d32f88bed7ade7f6",
   "execution_count": 37
  },
  {
   "cell_type": "code",
   "outputs": [
    {
     "data": {
      "text/plain": "array([[  44.01218603,  -36.15137592,   10.64727631],\n       [ -63.9918455 ,  -13.93849233,   31.69212503],\n       [  38.53844277,   33.91712222,  -12.48837374],\n       ...,\n       [-113.3467467 ,   23.48595247,   -2.51064362],\n       [  -9.1141306 ,  -35.90083188,    4.81814643],\n       [ -70.01342608,  -35.68741686,   12.10984845]])"
     },
     "execution_count": 38,
     "metadata": {},
     "output_type": "execute_result"
    }
   ],
   "source": [
    "previsores_pca # componentes principais"
   ],
   "metadata": {
    "collapsed": false,
    "ExecuteTime": {
     "end_time": "2024-04-06T17:46:38.501047Z",
     "start_time": "2024-04-06T17:46:38.487049Z"
    }
   },
   "id": "c4c01d5292c1c9a8",
   "execution_count": 38
  },
  {
   "cell_type": "code",
   "outputs": [
    {
     "data": {
      "text/plain": "array([0.72847929, 0.17183534, 0.08122019])"
     },
     "execution_count": 39,
     "metadata": {},
     "output_type": "execute_result"
    }
   ],
   "source": [
    "pca.explained_variance_ratio_ # razão das variáveis explicativas"
   ],
   "metadata": {
    "collapsed": false,
    "ExecuteTime": {
     "end_time": "2024-04-06T17:46:40.323505Z",
     "start_time": "2024-04-06T17:46:40.303003Z"
    }
   },
   "id": "a8b4aa025ebcf74a",
   "execution_count": 39
  },
  {
   "cell_type": "code",
   "outputs": [
    {
     "data": {
      "text/plain": "0.9815348236774052"
     },
     "execution_count": 40,
     "metadata": {},
     "output_type": "execute_result"
    }
   ],
   "source": [
    "pca.explained_variance_ratio_.sum() # Soma das variáveis explicativas"
   ],
   "metadata": {
    "collapsed": false,
    "ExecuteTime": {
     "end_time": "2024-04-06T17:46:41.565319Z",
     "start_time": "2024-04-06T17:46:41.550328Z"
    }
   },
   "id": "452c1485f6a2b60c",
   "execution_count": 40
  },
  {
   "cell_type": "code",
   "outputs": [],
   "source": [
    "# Kernel PCA (Redução de dimensionalidade com aprendizagem não supervisionada)\n",
    "from sklearn.decomposition import KernelPCA"
   ],
   "metadata": {
    "collapsed": false,
    "ExecuteTime": {
     "end_time": "2024-04-06T17:46:42.006092Z",
     "start_time": "2024-04-06T17:46:41.987102Z"
    }
   },
   "id": "3f278bb79a2d2f06",
   "execution_count": 41
  },
  {
   "cell_type": "code",
   "outputs": [],
   "source": [
    "kpca = KernelPCA(n_components=4, kernel='rbf')"
   ],
   "metadata": {
    "collapsed": false,
    "ExecuteTime": {
     "end_time": "2024-04-06T17:46:42.525568Z",
     "start_time": "2024-04-06T17:46:42.505066Z"
    }
   },
   "id": "d10673a60c4ba1f5",
   "execution_count": 42
  },
  {
   "cell_type": "code",
   "outputs": [
    {
     "data": {
      "text/plain": "(917, 4)"
     },
     "execution_count": 43,
     "metadata": {},
     "output_type": "execute_result"
    }
   ],
   "source": [
    "previsores_kernel = kpca.fit_transform(previsores2)\n",
    "previsores_kernel.shape"
   ],
   "metadata": {
    "collapsed": false,
    "ExecuteTime": {
     "end_time": "2024-04-06T17:46:42.993917Z",
     "start_time": "2024-04-06T17:46:42.780110Z"
    }
   },
   "id": "f74dd262246151cc",
   "execution_count": 43
  },
  {
   "cell_type": "code",
   "outputs": [
    {
     "data": {
      "text/plain": "array([[-0.00249772, -0.00290225, -0.0027372 , -0.00191636],\n       [-0.00249877, -0.00290359, -0.00273854, -0.00191743],\n       [-0.00249785, -0.00290241, -0.00273736, -0.00191649],\n       ...,\n       [-0.00249774, -0.00290227, -0.00273723, -0.00191638],\n       [-0.00249793, -0.00290252, -0.00273748, -0.00191659],\n       [-0.00249772, -0.00290225, -0.0027372 , -0.00191637]])"
     },
     "execution_count": 44,
     "metadata": {},
     "output_type": "execute_result"
    }
   ],
   "source": [
    "previsores_kernel"
   ],
   "metadata": {
    "collapsed": false,
    "ExecuteTime": {
     "end_time": "2024-04-06T17:46:43.025383Z",
     "start_time": "2024-04-06T17:46:43.008917Z"
    }
   },
   "id": "1642de9d7beacb95",
   "execution_count": 44
  },
  {
   "cell_type": "code",
   "outputs": [],
   "source": [
    "# Análise do Discriminante Linear (LDA - Aprendizagem Supervisionada)\n",
    "from sklearn.discriminant_analysis import LinearDiscriminantAnalysis"
   ],
   "metadata": {
    "collapsed": false,
    "ExecuteTime": {
     "end_time": "2024-04-06T17:46:43.356283Z",
     "start_time": "2024-04-06T17:46:43.291069Z"
    }
   },
   "id": "d6c122fc42691b5e",
   "execution_count": 45
  },
  {
   "cell_type": "code",
   "outputs": [],
   "source": [
    "lda = LinearDiscriminantAnalysis(n_components=1)"
   ],
   "metadata": {
    "collapsed": false,
    "ExecuteTime": {
     "end_time": "2024-04-06T17:46:43.591141Z",
     "start_time": "2024-04-06T17:46:43.571151Z"
    }
   },
   "id": "20266c5b79278950",
   "execution_count": 46
  },
  {
   "cell_type": "code",
   "outputs": [
    {
     "data": {
      "text/plain": "(917, 1)"
     },
     "execution_count": 47,
     "metadata": {},
     "output_type": "execute_result"
    }
   ],
   "source": [
    "previsores_lda = lda.fit_transform(previsores2, alvo)\n",
    "previsores_lda.shape"
   ],
   "metadata": {
    "collapsed": false,
    "ExecuteTime": {
     "end_time": "2024-04-06T17:46:43.812078Z",
     "start_time": "2024-04-06T17:46:43.784677Z"
    }
   },
   "id": "93279c491a07f0e9",
   "execution_count": 47
  },
  {
   "cell_type": "code",
   "outputs": [
    {
     "data": {
      "text/plain": "array([[ 1.47297727],\n       [ 1.41360735],\n       [ 0.96705302],\n       [-0.53331037],\n       [ 1.45783427],\n       [ 1.78559221],\n       [ 2.28906835],\n       [ 1.26844095],\n       [-1.03044735],\n       [ 1.8033219 ],\n       [ 2.56103248],\n       [-1.08833702],\n       [ 1.4298088 ],\n       [-1.02172609],\n       [ 2.51881925],\n       [ 0.75582909],\n       [ 0.27447783],\n       [ 2.33841952],\n       [-0.50562225],\n       [-0.03155735],\n       [ 2.89530718],\n       [ 0.23402029],\n       [ 2.26833719],\n       [-0.97019565],\n       [ 1.70998121],\n       [ 2.0730337 ],\n       [-1.62722174],\n       [ 0.96486408],\n       [ 1.52502126],\n       [ 1.33460621],\n       [ 0.03948873],\n       [ 1.44459749],\n       [-0.63936919],\n       [-0.34808635],\n       [ 2.23945383],\n       [ 1.48957548],\n       [-2.4746182 ],\n       [ 2.13691975],\n       [ 1.54252555],\n       [-0.30741381],\n       [ 1.8748176 ],\n       [ 0.26749988],\n       [ 1.51713745],\n       [ 1.79186716],\n       [-1.00348547],\n       [-0.64800053],\n       [ 1.22524435],\n       [ 1.47829185],\n       [ 0.77636186],\n       [ 0.12865852],\n       [-1.34295208],\n       [-0.65422291],\n       [ 0.4557005 ],\n       [ 2.15691729],\n       [-0.25536539],\n       [ 2.26417676],\n       [-0.86836148],\n       [ 0.60301353],\n       [ 0.38277361],\n       [-1.50907547],\n       [ 1.50857567],\n       [ 2.67081271],\n       [ 0.93385381],\n       [-1.15581054],\n       [ 2.12436997],\n       [ 2.02566299],\n       [ 1.61128669],\n       [ 1.7825921 ],\n       [-2.05082548],\n       [ 0.83570852],\n       [-0.70693463],\n       [ 1.27352923],\n       [ 0.02482612],\n       [ 1.55996385],\n       [-1.31581706],\n       [ 1.53819264],\n       [-0.49380729],\n       [ 1.95231331],\n       [ 0.67889962],\n       [ 0.16066905],\n       [ 1.66499886],\n       [ 1.30296599],\n       [-0.45795738],\n       [ 1.42756451],\n       [-1.86472923],\n       [-1.39491241],\n       [-2.33294249],\n       [-0.03204149],\n       [ 1.12661004],\n       [-1.21970316],\n       [ 2.2425467 ],\n       [ 0.8391131 ],\n       [ 2.10401498],\n       [-1.65426173],\n       [ 2.93875944],\n       [-1.3176681 ],\n       [ 1.30501623],\n       [ 1.28599933],\n       [ 1.04351704],\n       [ 1.29286266],\n       [-1.3983015 ],\n       [ 0.61376488],\n       [ 0.04322651],\n       [-1.86713147],\n       [-0.12667388],\n       [ 0.42526827],\n       [ 1.42477203],\n       [ 1.63348802],\n       [ 0.96697796],\n       [ 0.97872716],\n       [ 0.71472611],\n       [-1.87337251],\n       [-0.71098493],\n       [ 1.30594287],\n       [ 2.42439448],\n       [ 0.02367259],\n       [ 0.15644551],\n       [-1.30613953],\n       [ 3.41405246],\n       [ 1.57442636],\n       [ 0.96084658],\n       [ 2.30250912],\n       [ 0.9303196 ],\n       [-0.48767217],\n       [ 1.23390101],\n       [ 0.9434399 ],\n       [ 2.67333379],\n       [ 1.71885403],\n       [ 1.31052999],\n       [-0.1651487 ],\n       [ 1.52484955],\n       [-0.65120793],\n       [-1.66167923],\n       [-1.28137826],\n       [-0.56657326],\n       [ 0.87302219],\n       [ 2.42171127],\n       [ 1.05416952],\n       [-0.95858464],\n       [-1.25165012],\n       [-1.85556412],\n       [-1.5570952 ],\n       [-1.30041712],\n       [ 0.91367757],\n       [ 0.81492644],\n       [ 0.85458961],\n       [ 1.48952001],\n       [ 2.37524388],\n       [ 1.50038603],\n       [-2.44483595],\n       [ 1.20312923],\n       [ 1.08524172],\n       [ 1.33407261],\n       [ 0.7573623 ],\n       [ 1.4166922 ],\n       [-2.23120635],\n       [-0.73115764],\n       [ 0.84762309],\n       [-1.54218584],\n       [ 0.98547065],\n       [-1.86137596],\n       [-1.14317372],\n       [ 1.43919738],\n       [ 1.45331485],\n       [ 1.99282263],\n       [ 0.20427491],\n       [-1.70211104],\n       [ 1.05246642],\n       [ 0.47205912],\n       [ 1.75670659],\n       [ 1.58128745],\n       [ 2.05994677],\n       [ 1.22032442],\n       [ 1.92453514],\n       [-1.32446452],\n       [-1.26569907],\n       [-0.69086695],\n       [ 1.12114124],\n       [ 1.86679774],\n       [ 1.27290952],\n       [-1.35716728],\n       [ 1.31042056],\n       [-1.62385683],\n       [-0.93631205],\n       [ 1.73165747],\n       [-0.48765751],\n       [ 0.88511655],\n       [-1.62097012],\n       [-0.60933153],\n       [-1.40838981],\n       [ 0.6241705 ],\n       [ 1.05454657],\n       [ 1.38434072],\n       [ 1.47224495],\n       [ 2.49687918],\n       [ 2.48419036],\n       [-0.44778238],\n       [ 1.19164147],\n       [-1.06848936],\n       [ 1.08627342],\n       [ 2.08200743],\n       [ 1.73528777],\n       [ 1.82633959],\n       [ 2.35721403],\n       [ 0.93253202],\n       [ 0.14330776],\n       [ 1.550762  ],\n       [ 0.3753301 ],\n       [ 1.92633663],\n       [-0.13349137],\n       [-1.04405064],\n       [ 0.59160027],\n       [ 0.49155109],\n       [ 2.56681625],\n       [-1.42069008],\n       [ 3.16014054],\n       [ 0.00455886],\n       [ 1.57713237],\n       [ 1.30484654],\n       [ 1.60395028],\n       [-0.29328685],\n       [-0.31205856],\n       [ 2.35955308],\n       [ 2.02670304],\n       [ 0.45131542],\n       [-0.11734055],\n       [ 1.6455011 ],\n       [-0.98223348],\n       [ 1.46223644],\n       [ 2.23048631],\n       [ 0.98729539],\n       [ 1.83301464],\n       [ 1.98424435],\n       [ 0.94861876],\n       [ 1.86629516],\n       [-0.31541967],\n       [-1.60871922],\n       [ 0.80471512],\n       [-1.72846954],\n       [-1.62149828],\n       [ 1.1304052 ],\n       [-1.24436421],\n       [-1.65274078],\n       [ 1.86413969],\n       [-1.38226014],\n       [ 1.67398489],\n       [-0.31003073],\n       [-2.78593696],\n       [-0.99935619],\n       [-1.33828415],\n       [-0.52894479],\n       [-0.68866632],\n       [-0.22487709],\n       [ 0.95817247],\n       [-1.62987478],\n       [ 2.22487019],\n       [ 1.75802244],\n       [ 2.07990393],\n       [ 2.1594062 ],\n       [ 1.95224582],\n       [ 0.66930706],\n       [ 1.8128839 ],\n       [-0.98546405],\n       [-0.16168507],\n       [-0.14853301],\n       [ 1.31301352],\n       [-1.3770381 ],\n       [ 1.51803096],\n       [-1.4563745 ],\n       [ 1.11876647],\n       [ 0.92490573],\n       [ 2.46651771],\n       [-1.45639102],\n       [ 1.5122684 ],\n       [ 2.21473145],\n       [ 1.17162839],\n       [ 0.44931342],\n       [-1.26722129],\n       [-0.59107024],\n       [ 2.08610147],\n       [ 1.43078248],\n       [-0.61858106],\n       [ 1.48987542],\n       [ 1.99465406],\n       [ 0.95323414],\n       [ 2.31154558],\n       [ 0.85639019],\n       [ 1.23027055],\n       [ 1.70856544],\n       [ 1.79504883],\n       [ 1.66405711],\n       [ 1.77445463],\n       [ 0.96810702],\n       [-1.35624968],\n       [ 1.26699755],\n       [-1.13404434],\n       [-1.68887454],\n       [-0.89192537],\n       [-1.19006114],\n       [-0.06388196],\n       [-0.95760723],\n       [ 1.21884641],\n       [-0.28940391],\n       [-2.24447341],\n       [-1.29036475],\n       [-0.13814178],\n       [-0.75544498],\n       [-1.03554626],\n       [-0.00765534],\n       [-1.62368595],\n       [ 0.5946977 ],\n       [-0.18926704],\n       [ 0.24907235],\n       [ 0.40058775],\n       [-2.15288514],\n       [-0.05416492],\n       [-0.1036372 ],\n       [-1.09454096],\n       [-1.86710518],\n       [-0.38359443],\n       [-0.33808944],\n       [-1.00068387],\n       [ 0.79683041],\n       [-3.1508434 ],\n       [-0.32359031],\n       [-2.2450472 ],\n       [ 1.65653801],\n       [-0.96279735],\n       [-2.11431285],\n       [-2.86135322],\n       [ 0.42807523],\n       [-0.1395382 ],\n       [ 2.23427119],\n       [ 0.35057846],\n       [ 0.50406329],\n       [ 0.26098473],\n       [-0.15728719],\n       [-0.50679805],\n       [-0.28929007],\n       [-1.26798669],\n       [-2.10919353],\n       [-3.06350319],\n       [-1.36605469],\n       [-1.00314274],\n       [-1.10758215],\n       [-0.41357299],\n       [-0.41803771],\n       [-0.88372537],\n       [-1.58852733],\n       [-1.67572817],\n       [-1.00061797],\n       [ 0.11400685],\n       [-1.99928015],\n       [-1.40104225],\n       [ 0.39382639],\n       [ 0.65089248],\n       [-1.2804095 ],\n       [-0.14371283],\n       [-0.07314985],\n       [ 0.40659027],\n       [-0.79831036],\n       [-0.99424132],\n       [ 0.2182558 ],\n       [-0.1024341 ],\n       [ 0.21792997],\n       [-0.47020931],\n       [-1.52241832],\n       [-0.18877912],\n       [-1.44844604],\n       [-1.78583376],\n       [-0.67614963],\n       [-1.64114833],\n       [-0.40163824],\n       [-1.32530632],\n       [-2.2162147 ],\n       [ 1.9881817 ],\n       [-0.46197067],\n       [-1.33181571],\n       [-1.96051671],\n       [ 0.28514746],\n       [-1.37649259],\n       [-1.08787029],\n       [-1.08736303],\n       [ 0.90238368],\n       [-0.05501476],\n       [-1.26574074],\n       [-1.12531647],\n       [-1.13115354],\n       [-0.65613811],\n       [-1.07719685],\n       [-0.79914271],\n       [-1.38507027],\n       [-0.47611231],\n       [-1.72991047],\n       [-2.32533712],\n       [-0.63891572],\n       [ 0.97855747],\n       [-1.91371281],\n       [-0.93813356],\n       [-0.79181952],\n       [-0.3146305 ],\n       [-0.62785746],\n       [-1.65929899],\n       [-2.01090329],\n       [-0.89555129],\n       [-1.67397512],\n       [-1.93416166],\n       [-2.0845939 ],\n       [-1.25079031],\n       [-1.02445415],\n       [-1.77828134],\n       [-1.10971477],\n       [-2.05845141],\n       [-0.1083399 ],\n       [-2.34145158],\n       [-0.61917586],\n       [-1.74217189],\n       [ 0.87237704],\n       [-2.13328918],\n       [-0.25687311],\n       [-1.44730953],\n       [ 1.39893279],\n       [-1.94266616],\n       [-0.50405737],\n       [-0.23699838],\n       [-0.54644327],\n       [ 1.30822157],\n       [-1.28872242],\n       [-1.19656229],\n       [-0.59946667],\n       [-1.69015361],\n       [ 0.37168032],\n       [-2.78615351],\n       [-1.25380876],\n       [-1.64138711],\n       [-0.14859618],\n       [ 0.47234942],\n       [-1.54049408],\n       [-0.43741118],\n       [ 1.11936529],\n       [ 1.38127202],\n       [-1.24351547],\n       [-1.84915996],\n       [-1.60276065],\n       [-1.09570752],\n       [-0.52013034],\n       [-1.29907866],\n       [-0.57387893],\n       [-2.12852626],\n       [-1.68924668],\n       [-1.301961  ],\n       [-1.43634145],\n       [-0.36982331],\n       [-1.90183175],\n       [-0.30243865],\n       [-0.67736167],\n       [-0.52774593],\n       [-1.59852847],\n       [ 0.74943586],\n       [-2.14965361],\n       [-1.43343158],\n       [-2.3086103 ],\n       [ 0.56642915],\n       [-1.62520535],\n       [ 1.81943187],\n       [-0.67756253],\n       [ 1.7695649 ],\n       [-0.46772558],\n       [-0.65473094],\n       [-0.43884558],\n       [-1.64801971],\n       [-1.83418625],\n       [-1.42731733],\n       [ 0.99588277],\n       [-1.86846878],\n       [ 0.13256577],\n       [-3.20503685],\n       [-1.9742736 ],\n       [-0.81704689],\n       [-1.82467517],\n       [-1.83727559],\n       [ 0.50312585],\n       [-2.46390553],\n       [-1.42266861],\n       [-1.53480843],\n       [ 0.82601248],\n       [-1.18348035],\n       [ 1.6979588 ],\n       [-1.39356202],\n       [-0.73581795],\n       [-1.27254184],\n       [ 0.52560067],\n       [-0.68131048],\n       [-1.60038916],\n       [-0.4502456 ],\n       [-2.96219487],\n       [-2.42379023],\n       [-2.01343704],\n       [-1.3194868 ],\n       [-2.69980309],\n       [-1.45316611],\n       [-1.32014624],\n       [ 0.14646919],\n       [-3.36134718],\n       [-1.10124266],\n       [-1.8229923 ],\n       [ 0.52844355],\n       [-2.14218391],\n       [-0.3612475 ],\n       [ 0.64709104],\n       [-2.47039177],\n       [ 2.01519925],\n       [ 0.02613638],\n       [ 0.66480555],\n       [-0.54396616],\n       [-0.25725793],\n       [-1.43380959],\n       [-2.10369212],\n       [-0.35806895],\n       [-0.40184572],\n       [-2.70910426],\n       [-0.42373062],\n       [-1.16096418],\n       [ 1.00260561],\n       [ 1.65832757],\n       [-1.66679303],\n       [ 0.93872855],\n       [-0.30491454],\n       [-1.52303744],\n       [-1.10937883],\n       [-2.27385138],\n       [-1.0361609 ],\n       [-1.29685312],\n       [-2.36355103],\n       [-1.26228272],\n       [-1.2585278 ],\n       [-3.55004738],\n       [-2.08191829],\n       [ 0.52493097],\n       [-0.49662546],\n       [-1.18452289],\n       [-0.71022701],\n       [-2.58338502],\n       [ 0.23960695],\n       [ 0.7904523 ],\n       [ 0.17903891],\n       [-1.28351519],\n       [ 0.4128116 ],\n       [ 1.149053  ],\n       [-1.14941993],\n       [ 1.0670796 ],\n       [-0.85966694],\n       [-1.12330776],\n       [ 1.0876075 ],\n       [-0.31763678],\n       [-3.47228584],\n       [-1.22916584],\n       [-0.52129229],\n       [-3.02724212],\n       [ 1.57554087],\n       [ 1.28483531],\n       [-1.24657264],\n       [-1.8054684 ],\n       [-1.83109196],\n       [-1.52345993],\n       [-1.03899448],\n       [-1.19373062],\n       [-2.31252409],\n       [-1.573519  ],\n       [-2.3515015 ],\n       [-2.02619492],\n       [-1.03641919],\n       [-1.24768979],\n       [-2.13795128],\n       [-1.98655531],\n       [-1.52449686],\n       [-1.81134466],\n       [-2.54433382],\n       [-2.33630302],\n       [-1.68391717],\n       [ 0.07200154],\n       [-2.13432193],\n       [ 1.1545702 ],\n       [-2.11176255],\n       [-0.91496576],\n       [-1.37248845],\n       [ 0.74280147],\n       [-1.46045437],\n       [-0.6691308 ],\n       [ 1.14051808],\n       [ 0.63441664],\n       [-3.06533191],\n       [-1.08730252],\n       [-1.10541382],\n       [-1.65649281],\n       [-0.5773584 ],\n       [ 1.58687157],\n       [-2.27506925],\n       [-1.41163617],\n       [-1.36284382],\n       [-0.65390639],\n       [-0.68315574],\n       [-2.68952107],\n       [ 0.08466893],\n       [ 0.37791689],\n       [-2.45806342],\n       [-2.00516362],\n       [-0.87874892],\n       [-0.32846032],\n       [-0.0806349 ],\n       [ 1.97350112],\n       [-1.11831654],\n       [-0.27762136],\n       [-1.0008783 ],\n       [-1.15460179],\n       [ 0.58136427],\n       [ 1.07755132],\n       [-1.33231469],\n       [ 0.81107814],\n       [ 0.7401585 ],\n       [-0.98281019],\n       [-1.13530236],\n       [-0.3332688 ],\n       [-0.38963788],\n       [-0.14447789],\n       [-0.14868847],\n       [ 1.93179234],\n       [ 0.46641398],\n       [ 1.58313548],\n       [ 0.21202799],\n       [-1.41422951],\n       [-2.94792208],\n       [-0.10426638],\n       [ 1.45386495],\n       [-1.55620898],\n       [ 0.49926973],\n       [-0.04294646],\n       [ 0.95509893],\n       [ 0.61265937],\n       [ 2.29479146],\n       [ 0.02276089],\n       [ 2.29095735],\n       [ 0.30181952],\n       [ 1.37302395],\n       [ 0.54424005],\n       [ 0.22442409],\n       [ 2.78737633],\n       [-2.72970162],\n       [-1.10140375],\n       [-0.5063465 ],\n       [-0.31329962],\n       [ 1.64460263],\n       [ 1.84136999],\n       [ 1.23423329],\n       [ 1.26033075],\n       [ 1.74880707],\n       [ 1.18229415],\n       [ 0.80436748],\n       [-0.54957092],\n       [ 1.03874187],\n       [ 1.48200374],\n       [ 1.25601938],\n       [-0.83504232],\n       [ 0.09380739],\n       [-1.33814187],\n       [ 0.92223168],\n       [ 1.22344097],\n       [ 2.24293909],\n       [ 1.22033797],\n       [ 2.40410771],\n       [-1.62703599],\n       [ 1.36411001],\n       [-0.19869353],\n       [-0.49758419],\n       [ 1.22687176],\n       [-0.37716501],\n       [ 1.91053206],\n       [ 2.71563484],\n       [-1.15922115],\n       [-1.3547069 ],\n       [ 0.40793628],\n       [ 1.17838292],\n       [ 1.48084206],\n       [ 1.73521054],\n       [-1.6104645 ],\n       [ 0.75077928],\n       [ 0.98173637],\n       [ 0.84653896],\n       [ 1.48220199],\n       [-0.90186502],\n       [-1.21347664],\n       [ 2.89617668],\n       [ 1.79211311],\n       [ 1.3356734 ],\n       [-0.82737115],\n       [-0.99032875],\n       [-0.41699303],\n       [ 0.57963328],\n       [-1.20734519],\n       [ 2.1451677 ],\n       [ 0.44821933],\n       [-0.91373591],\n       [ 2.16669077],\n       [-0.74666642],\n       [ 0.62344748],\n       [ 1.57811889],\n       [-1.58325016],\n       [-1.09193541],\n       [ 0.9177444 ],\n       [-1.23211784],\n       [-0.39008135],\n       [ 0.91891988],\n       [ 2.02170125],\n       [ 1.98593211],\n       [ 1.8065775 ],\n       [-1.00468248],\n       [ 1.76994383],\n       [-1.33513105],\n       [-0.50390027],\n       [-0.07741209],\n       [-0.23567449],\n       [ 0.14672819],\n       [ 0.30345337],\n       [ 1.20104262],\n       [-1.06751756],\n       [ 1.43626325],\n       [ 1.53075756],\n       [ 1.78509281],\n       [ 1.38963185],\n       [ 1.14790879],\n       [ 0.74113988],\n       [-2.73196784],\n       [-0.02847217],\n       [-3.23874677],\n       [ 0.35512335],\n       [-1.73326062],\n       [-1.62156389],\n       [ 1.92244877],\n       [-0.47627315],\n       [ 2.54370655],\n       [-1.6381938 ],\n       [ 1.62199313],\n       [ 1.25533589],\n       [-0.70400916],\n       [-0.30036755],\n       [-0.06642152],\n       [ 1.22727483],\n       [-2.7251934 ],\n       [ 1.42968888],\n       [-0.29095888],\n       [ 2.37851954],\n       [-1.80432131],\n       [ 2.50233817],\n       [ 0.33157325],\n       [-0.68803407],\n       [ 0.99987545],\n       [ 0.68445897],\n       [ 0.89991351],\n       [ 1.44024675],\n       [-1.64639125],\n       [ 1.01726181],\n       [-1.19969785],\n       [ 1.20803571],\n       [ 1.94945798],\n       [ 1.98932565],\n       [ 1.30043812],\n       [ 2.50571079],\n       [-0.08285144],\n       [ 2.29573024],\n       [ 2.37823233],\n       [-3.06899875],\n       [ 1.3666765 ],\n       [ 0.82671364],\n       [-0.9184909 ],\n       [ 0.07535019],\n       [-0.34956372],\n       [ 1.25083598],\n       [-1.59014858],\n       [ 1.14398153],\n       [ 0.69213888],\n       [ 1.75014385],\n       [-1.15355634],\n       [ 0.00838713],\n       [ 0.07966998],\n       [-0.01898824],\n       [ 0.06252445],\n       [-1.37689494],\n       [ 0.79296142],\n       [ 2.46599596],\n       [-0.84688598],\n       [-1.84698599],\n       [ 0.06086432],\n       [-0.85175381],\n       [ 1.84295857],\n       [-0.67693841],\n       [-0.68280366],\n       [ 1.17493682],\n       [ 0.44108234],\n       [ 1.10573122],\n       [ 1.37690055],\n       [-1.4949269 ],\n       [ 0.21794342],\n       [ 0.16817031],\n       [-1.10783138],\n       [ 0.73916671],\n       [-2.51253683],\n       [ 1.21973905],\n       [ 0.30785644],\n       [ 1.18902982],\n       [ 0.84228414],\n       [ 0.24744491],\n       [ 1.28227147],\n       [ 2.32760056],\n       [-0.08039122],\n       [ 1.28448873],\n       [ 0.89210846],\n       [-1.48223796],\n       [-0.0093788 ],\n       [-1.14352094],\n       [ 0.25498238],\n       [ 2.34577635],\n       [-0.17222734],\n       [-0.72919003],\n       [-0.50719338],\n       [ 0.86066056],\n       [-0.32484783],\n       [ 1.67557319],\n       [-1.37303714],\n       [ 1.93565301],\n       [ 2.12308764],\n       [ 2.45040633],\n       [ 1.04170395],\n       [ 0.51259589],\n       [ 1.55343755],\n       [-1.46771077],\n       [-0.93254394],\n       [ 1.60109671],\n       [-1.2260175 ],\n       [ 1.93545863],\n       [ 0.31102129],\n       [ 0.69282769],\n       [-1.4302537 ],\n       [ 1.87132154],\n       [ 1.43289725],\n       [-0.45432364],\n       [-0.19715333],\n       [ 1.20275518],\n       [ 0.25232469],\n       [ 0.24029426],\n       [-1.44171531],\n       [ 1.72746895],\n       [-1.29698041],\n       [ 1.68122955],\n       [ 1.28974531],\n       [-1.29932564],\n       [ 1.85789146],\n       [ 0.5042792 ],\n       [-1.00896199],\n       [ 1.96973984],\n       [-0.2032225 ],\n       [ 0.7186107 ],\n       [ 2.0771769 ],\n       [ 0.15417225],\n       [-1.53689274],\n       [-0.54133242],\n       [ 1.65793142],\n       [ 0.91581493],\n       [ 1.46933905],\n       [ 0.6983248 ],\n       [ 1.76702569],\n       [-1.11679298],\n       [-1.35780969],\n       [ 1.43421774],\n       [ 0.85346494],\n       [ 2.40254279],\n       [-1.40583604],\n       [-0.0851993 ],\n       [ 1.32252353],\n       [-0.63986776],\n       [ 0.99202986],\n       [ 1.50834481],\n       [ 0.71086621],\n       [-0.14914618],\n       [-1.66797091],\n       [ 2.16283999],\n       [ 1.8170826 ],\n       [-1.49998533],\n       [-1.54121585],\n       [ 1.96426485],\n       [ 0.80859047],\n       [ 1.22857051],\n       [ 1.61597014],\n       [ 1.29471864],\n       [ 0.4607469 ],\n       [-1.55100431],\n       [ 1.90540791],\n       [-0.4613423 ],\n       [ 1.71335028],\n       [ 0.93873984],\n       [-2.04804177],\n       [-1.32024901],\n       [ 0.15770864],\n       [ 1.34298905],\n       [-0.5625252 ],\n       [ 0.37654647],\n       [ 1.78093261],\n       [-2.11113324],\n       [-0.62197504],\n       [-0.14855117],\n       [ 1.77738959],\n       [-1.44035262],\n       [-0.31842344],\n       [ 0.74387089],\n       [-1.52212946],\n       [-1.1536229 ],\n       [ 1.19989839],\n       [ 2.0591881 ]])"
     },
     "execution_count": 48,
     "metadata": {},
     "output_type": "execute_result"
    }
   ],
   "source": [
    "previsores_lda"
   ],
   "metadata": {
    "collapsed": false,
    "ExecuteTime": {
     "end_time": "2024-04-06T17:46:44.079835Z",
     "start_time": "2024-04-06T17:46:44.047872Z"
    }
   },
   "id": "beeaba8d2137c9c4",
   "execution_count": 48
  },
  {
   "cell_type": "code",
   "outputs": [
    {
     "data": {
      "text/plain": "array([1.])"
     },
     "execution_count": 49,
     "metadata": {},
     "output_type": "execute_result"
    }
   ],
   "source": [
    "lda.explained_variance_ratio_"
   ],
   "metadata": {
    "collapsed": false,
    "ExecuteTime": {
     "end_time": "2024-04-06T17:46:44.301038Z",
     "start_time": "2024-04-06T17:46:44.277053Z"
    }
   },
   "id": "9d00402ee1509b1e",
   "execution_count": 49
  },
  {
   "cell_type": "code",
   "outputs": [
    {
     "data": {
      "text/plain": "1.0"
     },
     "execution_count": 50,
     "metadata": {},
     "output_type": "execute_result"
    }
   ],
   "source": [
    "lda.explained_variance_ratio_.sum()"
   ],
   "metadata": {
    "collapsed": false,
    "ExecuteTime": {
     "end_time": "2024-04-06T17:46:44.471144Z",
     "start_time": "2024-04-06T17:46:44.458051Z"
    }
   },
   "id": "e4f533c7fcdfd8ec",
   "execution_count": 50
  },
  {
   "cell_type": "markdown",
   "source": [
    "# 43. Pré-processamento: Salvamento de variáveis"
   ],
   "metadata": {
    "collapsed": false
   },
   "id": "9ab6f46f3220e40e"
  },
  {
   "cell_type": "code",
   "outputs": [],
   "source": [
    "import pickle"
   ],
   "metadata": {
    "collapsed": false,
    "ExecuteTime": {
     "end_time": "2024-04-06T17:46:44.777517Z",
     "start_time": "2024-04-06T17:46:44.759783Z"
    }
   },
   "id": "aa713fbf27a156e7",
   "execution_count": 51
  },
  {
   "cell_type": "code",
   "outputs": [],
   "source": [
    "arq1 = open('Dataset/heart.pkl', 'wb') # Criando o arquivo"
   ],
   "metadata": {
    "collapsed": false,
    "ExecuteTime": {
     "end_time": "2024-04-06T17:46:45.133595Z",
     "start_time": "2024-04-06T17:46:45.083110Z"
    }
   },
   "id": "335d37d50e9a7cd6",
   "execution_count": 52
  },
  {
   "cell_type": "code",
   "outputs": [],
   "source": [
    "pickle.dump(alvo, arq1) # Salvando a variável no arquivo"
   ],
   "metadata": {
    "collapsed": false,
    "ExecuteTime": {
     "end_time": "2024-04-06T17:46:45.299040Z",
     "start_time": "2024-04-06T17:46:45.284052Z"
    }
   },
   "id": "8550ba0cb0726486",
   "execution_count": 53
  },
  {
   "cell_type": "code",
   "outputs": [],
   "source": [
    "arq1.close() # Fechando o arquivo"
   ],
   "metadata": {
    "collapsed": false,
    "ExecuteTime": {
     "end_time": "2024-04-06T17:46:45.536151Z",
     "start_time": "2024-04-06T17:46:45.516165Z"
    }
   },
   "id": "7bc8be385fedbcd9",
   "execution_count": 54
  },
  {
   "cell_type": "code",
   "outputs": [],
   "source": [
    "arq1 = open('Dataset/heart.pkl', 'rb') # Abrindo o arquivo"
   ],
   "metadata": {
    "collapsed": false,
    "ExecuteTime": {
     "end_time": "2024-04-06T17:46:45.758425Z",
     "start_time": "2024-04-06T17:46:45.714938Z"
    }
   },
   "id": "40b6a4192191aca6",
   "execution_count": 55
  },
  {
   "cell_type": "code",
   "outputs": [],
   "source": [
    "alvo = pickle.load(arq1) # Lendo o arquivo"
   ],
   "metadata": {
    "collapsed": false,
    "ExecuteTime": {
     "end_time": "2024-04-06T17:46:45.869394Z",
     "start_time": "2024-04-06T17:46:45.851405Z"
    }
   },
   "id": "34f9971aaf2aaf74",
   "execution_count": 56
  },
  {
   "cell_type": "code",
   "outputs": [
    {
     "data": {
      "text/plain": "array([0, 1, 0, 1, 0, 0, 0, 0, 1, 0, 0, 1, 0, 1, 0, 0, 1, 0, 1, 1, 0, 0,\n       0, 1, 0, 0, 0, 0, 0, 0, 1, 0, 1, 1, 0, 0, 1, 0, 0, 0, 0, 1, 0, 0,\n       1, 0, 0, 0, 0, 1, 1, 1, 0, 0, 0, 0, 1, 1, 0, 1, 0, 0, 0, 1, 0, 0,\n       0, 0, 1, 0, 1, 0, 1, 0, 1, 0, 1, 0, 0, 1, 0, 0, 1, 0, 1, 1, 1, 0,\n       1, 0, 0, 0, 0, 1, 0, 1, 0, 0, 0, 0, 1, 0, 1, 1, 1, 0, 0, 0, 0, 0,\n       0, 1, 0, 0, 0, 1, 1, 1, 0, 1, 1, 0, 0, 1, 0, 0, 0, 0, 0, 0, 0, 1,\n       1, 1, 0, 1, 0, 0, 1, 1, 1, 1, 1, 0, 1, 0, 0, 0, 0, 1, 0, 0, 0, 0,\n       0, 1, 1, 0, 1, 0, 1, 1, 0, 0, 0, 1, 1, 0, 0, 0, 0, 0, 0, 0, 1, 1,\n       1, 0, 0, 0, 1, 0, 1, 0, 0, 1, 0, 1, 0, 1, 0, 0, 0, 0, 0, 0, 0, 0,\n       1, 0, 0, 0, 0, 0, 0, 0, 0, 1, 0, 1, 1, 1, 0, 0, 1, 0, 1, 0, 0, 0,\n       1, 1, 0, 0, 0, 1, 0, 1, 0, 0, 0, 0, 0, 0, 0, 0, 1, 1, 1, 1, 0, 1,\n       1, 0, 1, 0, 1, 1, 1, 1, 1, 1, 0, 0, 1, 0, 0, 0, 0, 0, 0, 0, 1, 1,\n       1, 0, 1, 0, 1, 0, 0, 0, 1, 0, 0, 0, 1, 1, 0, 0, 0, 1, 0, 0, 0, 0,\n       0, 0, 0, 0, 0, 0, 0, 1, 1, 1, 1, 1, 1, 1, 1, 0, 1, 1, 1, 1, 1, 0,\n       1, 1, 0, 1, 1, 1, 0, 1, 1, 1, 1, 1, 1, 1, 1, 1, 1, 1, 0, 1, 1, 1,\n       1, 1, 0, 1, 1, 1, 0, 1, 1, 1, 1, 1, 1, 1, 1, 1, 1, 1, 1, 1, 1, 1,\n       1, 1, 1, 1, 1, 1, 1, 1, 1, 1, 1, 1, 0, 1, 1, 1, 1, 1, 1, 1, 1, 1,\n       1, 1, 1, 1, 1, 1, 1, 1, 1, 1, 1, 1, 1, 1, 1, 1, 1, 1, 1, 1, 1, 1,\n       1, 1, 1, 1, 1, 1, 1, 1, 1, 1, 1, 1, 1, 1, 1, 1, 1, 1, 1, 1, 1, 0,\n       1, 1, 0, 0, 1, 0, 1, 1, 0, 1, 1, 1, 1, 0, 1, 1, 0, 0, 1, 1, 1, 0,\n       1, 1, 1, 1, 1, 1, 1, 1, 1, 1, 1, 1, 0, 1, 0, 1, 1, 1, 0, 1, 1, 1,\n       0, 1, 0, 1, 0, 1, 0, 1, 1, 1, 1, 0, 1, 0, 1, 1, 1, 1, 1, 1, 1, 1,\n       1, 0, 1, 0, 1, 1, 1, 1, 1, 1, 1, 0, 1, 1, 1, 1, 1, 1, 0, 1, 1, 1,\n       0, 1, 1, 0, 1, 0, 1, 1, 0, 1, 1, 1, 1, 0, 1, 1, 1, 0, 0, 1, 0, 1,\n       1, 1, 1, 1, 1, 1, 1, 1, 1, 1, 0, 1, 1, 1, 1, 0, 0, 1, 1, 1, 0, 1,\n       0, 1, 1, 0, 1, 0, 1, 1, 1, 0, 0, 0, 1, 1, 1, 0, 1, 1, 1, 1, 1, 1,\n       1, 1, 1, 1, 1, 1, 1, 1, 1, 1, 0, 1, 1, 1, 0, 1, 1, 0, 0, 1, 1, 1,\n       1, 1, 0, 1, 1, 0, 1, 1, 1, 0, 0, 1, 1, 1, 1, 1, 0, 1, 0, 1, 1, 0,\n       1, 0, 0, 0, 1, 1, 1, 1, 0, 0, 0, 1, 0, 0, 1, 1, 0, 0, 1, 0, 0, 0,\n       0, 0, 0, 0, 1, 0, 1, 0, 0, 1, 1, 1, 1, 1, 0, 0, 1, 0, 0, 0, 1, 0,\n       1, 1, 1, 1, 1, 0, 0, 0, 0, 0, 1, 0, 1, 1, 0, 1, 0, 0, 0, 1, 0, 1,\n       0, 1, 1, 0, 0, 0, 0, 1, 0, 0, 0, 0, 1, 1, 1, 0, 0, 0, 0, 0, 0, 1,\n       0, 1, 1, 1, 1, 1, 0, 1, 0, 0, 0, 1, 0, 1, 1, 1, 0, 1, 1, 0, 1, 0,\n       1, 0, 0, 0, 1, 1, 0, 1, 1, 1, 1, 0, 0, 0, 1, 0, 0, 1, 1, 1, 0, 1,\n       0, 0, 0, 1, 0, 0, 1, 0, 1, 0, 1, 1, 1, 1, 1, 0, 0, 0, 0, 0, 0, 0,\n       1, 0, 0, 1, 1, 1, 0, 1, 0, 0, 0, 0, 0, 1, 0, 1, 1, 0, 0, 1, 1, 1,\n       1, 0, 0, 1, 1, 0, 0, 0, 1, 0, 0, 1, 0, 1, 0, 1, 0, 0, 0, 0, 0, 1,\n       0, 1, 1, 1, 1, 0, 0, 0, 1, 0, 1, 0, 0, 1, 0, 0, 0, 0, 0, 0, 1, 1,\n       0, 1, 0, 0, 1, 1, 0, 0, 1, 1, 0, 1, 0, 1, 0, 1, 0, 0, 1, 0, 0, 1,\n       0, 1, 1, 0, 1, 1, 1, 0, 1, 0, 0, 0, 0, 1, 1, 0, 0, 1, 1, 0, 1, 0,\n       0, 0, 0, 1, 0, 0, 1, 1, 1, 0, 0, 0, 1, 0, 1, 0, 1, 0, 1, 1, 1, 0,\n       0, 0, 1, 0, 1, 1, 1, 0, 1, 1, 1, 1, 1, 1, 0], dtype=int64)"
     },
     "execution_count": 57,
     "metadata": {},
     "output_type": "execute_result"
    }
   ],
   "source": [
    "alvo"
   ],
   "metadata": {
    "collapsed": false,
    "ExecuteTime": {
     "end_time": "2024-04-06T17:46:46.059588Z",
     "start_time": "2024-04-06T17:46:46.043598Z"
    }
   },
   "id": "603f371a740e71ed",
   "execution_count": 57
  },
  {
   "cell_type": "code",
   "outputs": [],
   "source": [
    "arq1.close() # Fechando o arquivo"
   ],
   "metadata": {
    "collapsed": false,
    "ExecuteTime": {
     "end_time": "2024-04-06T17:46:46.296112Z",
     "start_time": "2024-04-06T17:46:46.280122Z"
    }
   },
   "id": "f75512a9dd4aeb27",
   "execution_count": 58
  },
  {
   "cell_type": "markdown",
   "source": [
    "# 44. Separação entre treino e teste"
   ],
   "metadata": {
    "collapsed": false
   },
   "id": "b8b82dd752a1c680"
  },
  {
   "cell_type": "code",
   "outputs": [],
   "source": [
    "# Base de treino e teste\n",
    "from sklearn.model_selection import train_test_split"
   ],
   "metadata": {
    "collapsed": false,
    "ExecuteTime": {
     "end_time": "2024-04-06T19:41:01.490467Z",
     "start_time": "2024-04-06T19:41:01.471299Z"
    }
   },
   "id": "eaac1d78c42d16d2",
   "execution_count": 193
  },
  {
   "cell_type": "code",
   "outputs": [],
   "source": [
    "x_treino, x_teste, y_treino, y_teste = train_test_split(previsores, alvo, test_size=0.3, random_state=0)"
   ],
   "metadata": {
    "collapsed": false
   },
   "id": "70f7fb11a8fb143",
   "execution_count": null
  },
  {
   "cell_type": "code",
   "outputs": [
    {
     "data": {
      "text/plain": "(641, 11)"
     },
     "execution_count": 199,
     "metadata": {},
     "output_type": "execute_result"
    }
   ],
   "source": [
    "x_treino.shape"
   ],
   "metadata": {
    "collapsed": false,
    "ExecuteTime": {
     "end_time": "2024-04-06T19:41:46.909316Z",
     "start_time": "2024-04-06T19:41:46.901323Z"
    }
   },
   "id": "64ce37c3c668f1bc",
   "execution_count": 199
  },
  {
   "cell_type": "code",
   "outputs": [
    {
     "data": {
      "text/plain": "(276, 11)"
     },
     "execution_count": 200,
     "metadata": {},
     "output_type": "execute_result"
    }
   ],
   "source": [
    "x_teste.shape"
   ],
   "metadata": {
    "collapsed": false,
    "ExecuteTime": {
     "end_time": "2024-04-06T19:41:49.029342Z",
     "start_time": "2024-04-06T19:41:49.019347Z"
    }
   },
   "id": "225e5057f6851071",
   "execution_count": 200
  },
  {
   "cell_type": "code",
   "outputs": [
    {
     "data": {
      "text/plain": "(641,)"
     },
     "execution_count": 201,
     "metadata": {},
     "output_type": "execute_result"
    }
   ],
   "source": [
    "y_treino.shape"
   ],
   "metadata": {
    "collapsed": false,
    "ExecuteTime": {
     "end_time": "2024-04-06T19:41:50.206896Z",
     "start_time": "2024-04-06T19:41:50.187220Z"
    }
   },
   "id": "9e382a174054be5",
   "execution_count": 201
  },
  {
   "cell_type": "code",
   "outputs": [
    {
     "data": {
      "text/plain": "(276,)"
     },
     "execution_count": 202,
     "metadata": {},
     "output_type": "execute_result"
    }
   ],
   "source": [
    "y_teste.shape"
   ],
   "metadata": {
    "collapsed": false,
    "ExecuteTime": {
     "end_time": "2024-04-06T19:41:51.170008Z",
     "start_time": "2024-04-06T19:41:51.147022Z"
    }
   },
   "id": "2322c132df464aea",
   "execution_count": 202
  },
  {
   "cell_type": "markdown",
   "source": [
    "# 45. Naive Bayes : Teoria\n",
    "\"\"\"\n",
    "P(A|B) = [P(B|A) * P(A)] / P(B)\n",
    "P(A|B)*P(B) = P(A^B) = P(B^A)\n",
    "\n",
    "Aplicações:\n",
    "> Filtros de spam.\n",
    "> Diagnostico médico.\n",
    "> Classificação de imagens.\n",
    "> Análise de crédito.\n",
    "> Separação de documentos.\n",
    "> Previsão de falhas.\n",
    "\n",
    "Vantagens:\n",
    "> Rápido e de fácil entendimento.\n",
    "> Pouco esforço computacional.\n",
    "> Bom desemprenho com muitos dados.\n",
    "> Boas previsões com poucos dados.\n",
    "\n",
    "Desvantagens:\n",
    "> Considera atributos independentes.\n",
    "> Atribuição de um valor nulo de probabilidade quando uma classe contida no conjunto de teste não se apresenta no conjunto de treino.\n",
    "\"\"\""
   ],
   "metadata": {
    "collapsed": false
   },
   "id": "88d6eb87fdbbc4db"
  },
  {
   "cell_type": "markdown",
   "source": [
    "# 46. Naive Bayes no Python\n",
    "\"https://scikit-learn.org/stable/modules/naive_bayes.html\""
   ],
   "metadata": {
    "collapsed": false
   },
   "id": "69ee1f9cfad55352"
  },
  {
   "cell_type": "code",
   "outputs": [],
   "source": [
    "# Naive Bayes\n",
    "from sklearn.naive_bayes import GaussianNB"
   ],
   "metadata": {
    "collapsed": false,
    "ExecuteTime": {
     "end_time": "2024-04-06T17:46:47.684343Z",
     "start_time": "2024-04-06T17:46:47.663358Z"
    }
   },
   "id": "839907b4b300721",
   "execution_count": 64
  },
  {
   "cell_type": "code",
   "outputs": [
    {
     "data": {
      "text/plain": "GaussianNB()",
      "text/html": "<style>#sk-container-id-1 {color: black;}#sk-container-id-1 pre{padding: 0;}#sk-container-id-1 div.sk-toggleable {background-color: white;}#sk-container-id-1 label.sk-toggleable__label {cursor: pointer;display: block;width: 100%;margin-bottom: 0;padding: 0.3em;box-sizing: border-box;text-align: center;}#sk-container-id-1 label.sk-toggleable__label-arrow:before {content: \"▸\";float: left;margin-right: 0.25em;color: #696969;}#sk-container-id-1 label.sk-toggleable__label-arrow:hover:before {color: black;}#sk-container-id-1 div.sk-estimator:hover label.sk-toggleable__label-arrow:before {color: black;}#sk-container-id-1 div.sk-toggleable__content {max-height: 0;max-width: 0;overflow: hidden;text-align: left;background-color: #f0f8ff;}#sk-container-id-1 div.sk-toggleable__content pre {margin: 0.2em;color: black;border-radius: 0.25em;background-color: #f0f8ff;}#sk-container-id-1 input.sk-toggleable__control:checked~div.sk-toggleable__content {max-height: 200px;max-width: 100%;overflow: auto;}#sk-container-id-1 input.sk-toggleable__control:checked~label.sk-toggleable__label-arrow:before {content: \"▾\";}#sk-container-id-1 div.sk-estimator input.sk-toggleable__control:checked~label.sk-toggleable__label {background-color: #d4ebff;}#sk-container-id-1 div.sk-label input.sk-toggleable__control:checked~label.sk-toggleable__label {background-color: #d4ebff;}#sk-container-id-1 input.sk-hidden--visually {border: 0;clip: rect(1px 1px 1px 1px);clip: rect(1px, 1px, 1px, 1px);height: 1px;margin: -1px;overflow: hidden;padding: 0;position: absolute;width: 1px;}#sk-container-id-1 div.sk-estimator {font-family: monospace;background-color: #f0f8ff;border: 1px dotted black;border-radius: 0.25em;box-sizing: border-box;margin-bottom: 0.5em;}#sk-container-id-1 div.sk-estimator:hover {background-color: #d4ebff;}#sk-container-id-1 div.sk-parallel-item::after {content: \"\";width: 100%;border-bottom: 1px solid gray;flex-grow: 1;}#sk-container-id-1 div.sk-label:hover label.sk-toggleable__label {background-color: #d4ebff;}#sk-container-id-1 div.sk-serial::before {content: \"\";position: absolute;border-left: 1px solid gray;box-sizing: border-box;top: 0;bottom: 0;left: 50%;z-index: 0;}#sk-container-id-1 div.sk-serial {display: flex;flex-direction: column;align-items: center;background-color: white;padding-right: 0.2em;padding-left: 0.2em;position: relative;}#sk-container-id-1 div.sk-item {position: relative;z-index: 1;}#sk-container-id-1 div.sk-parallel {display: flex;align-items: stretch;justify-content: center;background-color: white;position: relative;}#sk-container-id-1 div.sk-item::before, #sk-container-id-1 div.sk-parallel-item::before {content: \"\";position: absolute;border-left: 1px solid gray;box-sizing: border-box;top: 0;bottom: 0;left: 50%;z-index: -1;}#sk-container-id-1 div.sk-parallel-item {display: flex;flex-direction: column;z-index: 1;position: relative;background-color: white;}#sk-container-id-1 div.sk-parallel-item:first-child::after {align-self: flex-end;width: 50%;}#sk-container-id-1 div.sk-parallel-item:last-child::after {align-self: flex-start;width: 50%;}#sk-container-id-1 div.sk-parallel-item:only-child::after {width: 0;}#sk-container-id-1 div.sk-dashed-wrapped {border: 1px dashed gray;margin: 0 0.4em 0.5em 0.4em;box-sizing: border-box;padding-bottom: 0.4em;background-color: white;}#sk-container-id-1 div.sk-label label {font-family: monospace;font-weight: bold;display: inline-block;line-height: 1.2em;}#sk-container-id-1 div.sk-label-container {text-align: center;}#sk-container-id-1 div.sk-container {/* jupyter's `normalize.less` sets `[hidden] { display: none; }` but bootstrap.min.css set `[hidden] { display: none !important; }` so we also need the `!important` here to be able to override the default hidden behavior on the sphinx rendered scikit-learn.org. See: https://github.com/scikit-learn/scikit-learn/issues/21755 */display: inline-block !important;position: relative;}#sk-container-id-1 div.sk-text-repr-fallback {display: none;}</style><div id=\"sk-container-id-1\" class=\"sk-top-container\"><div class=\"sk-text-repr-fallback\"><pre>GaussianNB()</pre><b>In a Jupyter environment, please rerun this cell to show the HTML representation or trust the notebook. <br />On GitHub, the HTML representation is unable to render, please try loading this page with nbviewer.org.</b></div><div class=\"sk-container\" hidden><div class=\"sk-item\"><div class=\"sk-estimator sk-toggleable\"><input class=\"sk-toggleable__control sk-hidden--visually\" id=\"sk-estimator-id-1\" type=\"checkbox\" checked><label for=\"sk-estimator-id-1\" class=\"sk-toggleable__label sk-toggleable__label-arrow\">GaussianNB</label><div class=\"sk-toggleable__content\"><pre>GaussianNB()</pre></div></div></div></div></div>"
     },
     "execution_count": 65,
     "metadata": {},
     "output_type": "execute_result"
    }
   ],
   "source": [
    "# Treinamento do algoritmo\n",
    "naive = GaussianNB()\n",
    "naive.fit(x_treino, y_treino)"
   ],
   "metadata": {
    "collapsed": false,
    "ExecuteTime": {
     "end_time": "2024-04-06T17:46:47.920220Z",
     "start_time": "2024-04-06T17:46:47.884238Z"
    }
   },
   "id": "2db1945a9a61c654",
   "execution_count": 65
  },
  {
   "cell_type": "code",
   "outputs": [
    {
     "data": {
      "text/plain": "array([1, 1, 1, 0, 0, 0, 0, 0, 0, 0, 1, 1, 1, 1, 0, 1, 1, 1, 1, 0, 1, 1,\n       1, 0, 0, 0, 1, 1, 0, 1, 1, 0, 0, 0, 1, 0, 0, 0, 1, 0, 0, 1, 1, 1,\n       1, 0, 0, 1, 0, 1, 0, 0, 0, 1, 1, 0, 0, 0, 0, 0, 1, 0, 1, 0, 1, 1,\n       1, 0, 1, 0, 1, 1, 0, 1, 1, 1, 1, 1, 1, 1, 0, 1, 0, 0, 1, 1, 1, 1,\n       1, 0, 1, 0, 0, 0, 1, 0, 1, 0, 0, 0, 0, 0, 1, 1, 0, 1, 1, 0, 0, 1,\n       1, 1, 1, 1, 1, 1, 0, 1, 1, 1, 1, 1, 1, 0, 1, 1, 0, 1, 0, 1, 0, 1,\n       1, 1, 1, 1, 1, 1, 1, 0, 0, 1, 0, 1, 0, 0, 1, 1, 0, 0, 0, 1, 0, 0,\n       1, 0, 1, 1, 1, 0, 1, 1, 1, 0, 1, 0, 1, 0, 1, 0, 1, 1, 0, 0, 0, 1,\n       1, 0, 0, 1, 1, 1, 0, 1, 1, 1, 0, 1, 1, 0, 0, 0, 1, 1, 1, 1, 0, 0,\n       1, 0, 1, 1, 0, 1, 1, 0, 0, 0, 1, 0, 1, 1, 0, 0, 0, 0, 1, 0, 1, 1,\n       1, 0, 0, 1, 1, 1, 0, 1, 1, 1, 0, 1, 1, 1, 0, 1, 1, 1, 0, 1, 1, 0,\n       1, 0, 0, 0, 0, 0, 1, 0, 1, 0, 1, 0, 0, 0, 1, 0, 0, 1, 0, 1, 1, 0,\n       0, 0, 0, 0, 1, 0, 0, 0, 1, 1, 1, 0], dtype=int64)"
     },
     "execution_count": 66,
     "metadata": {},
     "output_type": "execute_result"
    }
   ],
   "source": [
    "# Avaliação do algoritmo\n",
    "previsoes_naive = naive.predict(x_teste)\n",
    "previsoes_naive"
   ],
   "metadata": {
    "collapsed": false,
    "ExecuteTime": {
     "end_time": "2024-04-06T17:46:48.173533Z",
     "start_time": "2024-04-06T17:46:48.154782Z"
    }
   },
   "id": "af9f4761fe9cef60",
   "execution_count": 66
  },
  {
   "cell_type": "code",
   "outputs": [
    {
     "data": {
      "text/plain": "array([1, 0, 1, 0, 0, 0, 0, 0, 0, 0, 1, 0, 1, 1, 0, 1, 1, 1, 1, 0, 1, 1,\n       1, 0, 0, 0, 1, 1, 0, 0, 1, 0, 0, 0, 1, 0, 1, 0, 1, 0, 0, 1, 1, 1,\n       1, 0, 0, 1, 1, 1, 1, 0, 0, 1, 1, 0, 0, 0, 1, 0, 1, 1, 1, 0, 1, 1,\n       1, 0, 1, 0, 1, 1, 1, 1, 1, 1, 1, 1, 1, 0, 0, 1, 0, 0, 1, 1, 0, 1,\n       1, 0, 1, 0, 0, 1, 1, 0, 1, 0, 0, 0, 0, 1, 1, 1, 0, 1, 0, 0, 0, 1,\n       0, 1, 1, 1, 0, 1, 1, 1, 1, 1, 1, 1, 1, 0, 0, 1, 0, 1, 0, 1, 0, 1,\n       0, 1, 0, 0, 0, 1, 1, 0, 1, 1, 0, 1, 0, 0, 1, 1, 1, 0, 1, 1, 0, 0,\n       0, 0, 1, 1, 1, 0, 1, 1, 1, 0, 1, 0, 1, 0, 1, 0, 1, 1, 0, 0, 1, 0,\n       0, 1, 0, 1, 1, 1, 0, 1, 1, 1, 0, 1, 1, 0, 0, 0, 1, 1, 1, 1, 1, 0,\n       1, 0, 1, 1, 0, 1, 1, 0, 0, 0, 1, 0, 1, 1, 0, 1, 0, 1, 1, 1, 1, 1,\n       1, 1, 0, 0, 0, 1, 0, 1, 1, 1, 0, 1, 0, 1, 1, 1, 1, 1, 0, 1, 1, 0,\n       1, 0, 1, 0, 0, 0, 1, 0, 1, 0, 1, 1, 0, 0, 1, 0, 0, 1, 0, 1, 1, 0,\n       0, 0, 0, 0, 1, 0, 0, 1, 1, 1, 1, 1], dtype=int64)"
     },
     "execution_count": 67,
     "metadata": {},
     "output_type": "execute_result"
    }
   ],
   "source": [
    "y_teste"
   ],
   "metadata": {
    "collapsed": false,
    "ExecuteTime": {
     "end_time": "2024-04-06T17:46:48.454242Z",
     "start_time": "2024-04-06T17:46:48.435179Z"
    }
   },
   "id": "e361b27a921f91a3",
   "execution_count": 67
  },
  {
   "cell_type": "code",
   "outputs": [],
   "source": [
    "from sklearn.metrics import accuracy_score, confusion_matrix, classification_report"
   ],
   "metadata": {
    "collapsed": false,
    "ExecuteTime": {
     "end_time": "2024-04-06T17:46:48.658377Z",
     "start_time": "2024-04-06T17:46:48.641778Z"
    }
   },
   "id": "7c9fe96545435698",
   "execution_count": 68
  },
  {
   "cell_type": "code",
   "outputs": [
    {
     "data": {
      "text/plain": "0.8442028985507246"
     },
     "execution_count": 69,
     "metadata": {},
     "output_type": "execute_result"
    }
   ],
   "source": [
    "accuracy_score(y_teste, previsoes_naive)"
   ],
   "metadata": {
    "collapsed": false,
    "ExecuteTime": {
     "end_time": "2024-04-06T17:46:48.972341Z",
     "start_time": "2024-04-06T17:46:48.952365Z"
    }
   },
   "id": "52d422f6f89e4eef",
   "execution_count": 69
  },
  {
   "cell_type": "code",
   "outputs": [
    {
     "name": "stdout",
     "output_type": "stream",
     "text": [
      "Acurácia: 84.42%\n"
     ]
    }
   ],
   "source": [
    "print(f'Acurácia: {accuracy_score(y_teste, previsoes_naive)*100:.2f}%')"
   ],
   "metadata": {
    "collapsed": false,
    "ExecuteTime": {
     "end_time": "2024-04-06T17:46:49.207540Z",
     "start_time": "2024-04-06T17:46:49.196548Z"
    }
   },
   "id": "e3b5928cd4bebfd8",
   "execution_count": 70
  },
  {
   "cell_type": "code",
   "outputs": [
    {
     "data": {
      "text/plain": "array([[102,  19],\n       [ 24, 131]], dtype=int64)"
     },
     "execution_count": 71,
     "metadata": {},
     "output_type": "execute_result"
    }
   ],
   "source": [
    "confusion_matrix(y_teste, previsoes_naive)"
   ],
   "metadata": {
    "collapsed": false,
    "ExecuteTime": {
     "end_time": "2024-04-06T17:46:49.334303Z",
     "start_time": "2024-04-06T17:46:49.314729Z"
    }
   },
   "id": "93146f7eab4684c9",
   "execution_count": 71
  },
  {
   "cell_type": "code",
   "outputs": [
    {
     "name": "stdout",
     "output_type": "stream",
     "text": [
      "              precision    recall  f1-score   support\n",
      "\n",
      "           0       0.81      0.84      0.83       121\n",
      "           1       0.87      0.85      0.86       155\n",
      "\n",
      "    accuracy                           0.84       276\n",
      "   macro avg       0.84      0.84      0.84       276\n",
      "weighted avg       0.85      0.84      0.84       276\n"
     ]
    }
   ],
   "source": [
    "print(classification_report(y_teste, previsoes_naive))"
   ],
   "metadata": {
    "collapsed": false,
    "ExecuteTime": {
     "end_time": "2024-04-06T17:46:49.681910Z",
     "start_time": "2024-04-06T17:46:49.647930Z"
    }
   },
   "id": "cba50bf5b157c6e6",
   "execution_count": 72
  },
  {
   "cell_type": "code",
   "outputs": [
    {
     "data": {
      "text/plain": "array([0, 0, 1, 1, 1, 1, 0, 0, 0, 0, 1, 0, 1, 1, 1, 0, 0, 0, 0, 1, 0, 0,\n       1, 1, 1, 0, 0, 1, 0, 1, 1, 0, 1, 1, 0, 0, 1, 1, 0, 1, 0, 1, 0, 0,\n       1, 1, 0, 1, 1, 1, 0, 0, 1, 0, 1, 0, 0, 0, 1, 0, 0, 0, 0, 0, 1, 1,\n       0, 1, 1, 0, 1, 1, 1, 1, 0, 0, 0, 1, 0, 1, 1, 1, 1, 1, 0, 1, 1, 1,\n       1, 1, 0, 1, 0, 0, 1, 1, 1, 1, 1, 1, 1, 1, 0, 1, 1, 1, 1, 0, 0, 1,\n       0, 0, 1, 0, 1, 0, 1, 0, 1, 0, 0, 0, 0, 1, 0, 1, 0, 0, 0, 1, 1, 0,\n       1, 1, 0, 0, 1, 0, 1, 1, 0, 1, 1, 1, 1, 1, 1, 0, 0, 1, 1, 0, 1, 0,\n       1, 0, 1, 1, 1, 1, 1, 0, 0, 0, 0, 1, 1, 0, 0, 0, 0, 1, 1, 0, 1, 0,\n       0, 1, 1, 0, 0, 0, 0, 0, 0, 1, 1, 1, 1, 0, 0, 0, 1, 0, 0, 0, 1, 1,\n       0, 1, 0, 1, 0, 1, 1, 1, 1, 1, 1, 0, 0, 0, 1, 1, 1, 1, 1, 0, 0, 1,\n       1, 0, 0, 1, 1, 0, 1, 1, 1, 1, 0, 1, 0, 1, 1, 0, 1, 0, 0, 0, 1, 0,\n       1, 1, 1, 1, 1, 1, 1, 0, 1, 1, 0, 0, 0, 0, 0, 0, 1, 0, 0, 1, 1, 0,\n       1, 0, 1, 0, 1, 0, 1, 1, 0, 1, 0, 1, 1, 0, 0, 0, 1, 0, 0, 0, 1, 1,\n       0, 1, 1, 1, 1, 0, 1, 1, 0, 1, 0, 1, 0, 1, 1, 0, 0, 1, 0, 1, 0, 1,\n       1, 0, 1, 0, 1, 0, 1, 0, 1, 0, 1, 0, 1, 1, 1, 1, 0, 1, 1, 1, 1, 0,\n       0, 0, 1, 0, 0, 0, 0, 1, 0, 1, 1, 1, 1, 1, 1, 0, 1, 1, 0, 1, 0, 1,\n       0, 0, 0, 0, 0, 0, 1, 0, 0, 1, 0, 1, 1, 0, 0, 0, 0, 0, 1, 1, 0, 1,\n       0, 1, 1, 1, 0, 0, 1, 1, 0, 1, 0, 1, 0, 0, 0, 1, 0, 1, 1, 0, 1, 1,\n       0, 0, 0, 1, 1, 1, 1, 0, 1, 0, 1, 1, 1, 0, 0, 1, 0, 1, 1, 1, 0, 0,\n       0, 1, 1, 1, 0, 1, 1, 0, 1, 0, 0, 0, 0, 1, 0, 1, 1, 1, 1, 0, 1, 1,\n       0, 0, 1, 1, 1, 1, 0, 1, 0, 0, 1, 0, 1, 1, 1, 1, 0, 0, 0, 1, 0, 1,\n       1, 1, 1, 1, 1, 0, 1, 1, 1, 1, 1, 1, 1, 1, 1, 0, 0, 0, 1, 0, 0, 0,\n       0, 0, 1, 0, 1, 1, 0, 0, 0, 1, 1, 0, 1, 1, 1, 0, 1, 1, 0, 0, 1, 1,\n       1, 0, 0, 0, 1, 1, 1, 1, 0, 1, 0, 0, 1, 0, 1, 1, 1, 0, 0, 1, 1, 0,\n       1, 0, 1, 0, 1, 0, 1, 0, 1, 0, 1, 1, 0, 1, 0, 1, 1, 0, 0, 1, 1, 1,\n       0, 1, 1, 0, 1, 0, 1, 1, 1, 0, 1, 1, 0, 0, 0, 0, 1, 0, 0, 1, 0, 1,\n       1, 0, 0, 0, 1, 0, 0, 0, 0, 0, 0, 1, 1, 1, 1, 0, 1, 0, 0, 0, 0, 0,\n       0, 0, 1, 0, 0, 0, 0, 0, 0, 0, 1, 0, 0, 1, 0, 0, 1, 0, 0, 1, 0, 1,\n       1, 1, 1, 1, 1, 0, 1, 0, 1, 1, 1, 1, 0, 1, 1, 0, 0, 0, 1, 0, 1, 0,\n       0, 0, 1], dtype=int64)"
     },
     "execution_count": 73,
     "metadata": {},
     "output_type": "execute_result"
    }
   ],
   "source": [
    "# Análise dos dados de treino\n",
    "previsoes_treino = naive.predict(x_treino)\n",
    "previsoes_treino"
   ],
   "metadata": {
    "collapsed": false,
    "ExecuteTime": {
     "end_time": "2024-04-06T17:46:49.807126Z",
     "start_time": "2024-04-06T17:46:49.789088Z"
    }
   },
   "id": "d2132b48912b80a",
   "execution_count": 73
  },
  {
   "cell_type": "code",
   "outputs": [
    {
     "data": {
      "text/plain": "0.8361934477379095"
     },
     "execution_count": 74,
     "metadata": {},
     "output_type": "execute_result"
    }
   ],
   "source": [
    "accuracy_score(y_treino, previsoes_treino)"
   ],
   "metadata": {
    "collapsed": false,
    "ExecuteTime": {
     "end_time": "2024-04-06T17:46:50.089030Z",
     "start_time": "2024-04-06T17:46:50.074172Z"
    }
   },
   "id": "90a1182bed9adcae",
   "execution_count": 74
  },
  {
   "cell_type": "code",
   "outputs": [
    {
     "data": {
      "text/plain": "array([[243,  46],\n       [ 59, 293]], dtype=int64)"
     },
     "execution_count": 75,
     "metadata": {},
     "output_type": "execute_result"
    }
   ],
   "source": [
    "confusion_matrix(y_treino, previsoes_treino)"
   ],
   "metadata": {
    "collapsed": false,
    "ExecuteTime": {
     "end_time": "2024-04-06T17:46:50.406977Z",
     "start_time": "2024-04-06T17:46:50.391986Z"
    }
   },
   "id": "52b4990282737141",
   "execution_count": 75
  },
  {
   "cell_type": "code",
   "outputs": [
    {
     "name": "stdout",
     "output_type": "stream",
     "text": [
      "              precision    recall  f1-score   support\n",
      "\n",
      "           0       0.80      0.84      0.82       289\n",
      "           1       0.86      0.83      0.85       352\n",
      "\n",
      "    accuracy                           0.84       641\n",
      "   macro avg       0.83      0.84      0.84       641\n",
      "weighted avg       0.84      0.84      0.84       641\n"
     ]
    }
   ],
   "source": [
    "print(classification_report(y_treino, previsoes_treino))"
   ],
   "metadata": {
    "collapsed": false,
    "ExecuteTime": {
     "end_time": "2024-04-06T17:46:50.533056Z",
     "start_time": "2024-04-06T17:46:50.502559Z"
    }
   },
   "id": "3f110bb0d40e8599",
   "execution_count": 76
  },
  {
   "cell_type": "code",
   "outputs": [],
   "source": [
    "# Validação Cruzada\n",
    "from sklearn.model_selection import KFold\n",
    "from sklearn.model_selection import cross_val_score"
   ],
   "metadata": {
    "collapsed": false,
    "ExecuteTime": {
     "end_time": "2024-04-06T17:46:50.848913Z",
     "start_time": "2024-04-06T17:46:50.841917Z"
    }
   },
   "id": "f47e7b16953b26cb",
   "execution_count": 77
  },
  {
   "cell_type": "code",
   "outputs": [],
   "source": [
    "# Separando os dados em folds\n",
    "kfold = KFold(n_splits=30, shuffle=True, random_state=5)"
   ],
   "metadata": {
    "collapsed": false,
    "ExecuteTime": {
     "end_time": "2024-04-06T17:46:51.020588Z",
     "start_time": "2024-04-06T17:46:51.007527Z"
    }
   },
   "id": "4aae179add58cd39",
   "execution_count": 78
  },
  {
   "cell_type": "code",
   "outputs": [
    {
     "data": {
      "text/plain": "array([0.87096774, 0.87096774, 0.90322581, 0.80645161, 0.77419355,\n       0.90322581, 0.70967742, 0.87096774, 0.77419355, 0.87096774,\n       0.90322581, 0.77419355, 0.93548387, 0.90322581, 0.87096774,\n       0.87096774, 0.87096774, 0.93333333, 0.93333333, 0.9       ,\n       0.76666667, 0.83333333, 0.8       , 0.7       , 0.83333333,\n       0.93333333, 0.86666667, 0.9       , 0.86666667, 0.8       ])"
     },
     "execution_count": 79,
     "metadata": {},
     "output_type": "execute_result"
    }
   ],
   "source": [
    "# Criando o modelo\n",
    "modelo = GaussianNB()\n",
    "resultado = cross_val_score(modelo, previsores3_esc, alvo, cv=kfold)\n",
    "resultado"
   ],
   "metadata": {
    "collapsed": false,
    "ExecuteTime": {
     "end_time": "2024-04-06T17:46:51.410721Z",
     "start_time": "2024-04-06T17:46:51.284379Z"
    }
   },
   "id": "e8daf21a9e02b02b",
   "execution_count": 79
  },
  {
   "cell_type": "code",
   "outputs": [
    {
     "name": "stdout",
     "output_type": "stream",
     "text": [
      "Acurácia Média: 85.17%\n"
     ]
    }
   ],
   "source": [
    "# Usando a média e o desvio padrão\n",
    "print(f'Acurácia Média: {resultado.mean()*100:.2f}%')"
   ],
   "metadata": {
    "collapsed": false,
    "ExecuteTime": {
     "end_time": "2024-04-06T17:46:51.472558Z",
     "start_time": "2024-04-06T17:46:51.455566Z"
    }
   },
   "id": "e196dd0955e3d363",
   "execution_count": 80
  },
  {
   "cell_type": "markdown",
   "source": [
    "# 47. Máquina de Vetor de Suporte (SVM): Teoria\n",
    "\"\"\"\n",
    "Equação:\n",
    "w-> * x-> +b >= 0\n",
    "Onde:\n",
    "w = Vetor hiperplano;\n",
    "x = vetor pertencente ao hiperplano;\n",
    "b = deslocamento em relação à origem;\n",
    "\n",
    "Aplicações:\n",
    "> Classificação e Regressão.\n",
    "> Categorização de textos.\n",
    "> Reconhecimento de imagem.\n",
    "> Detecção facial.\n",
    "> Detecção e anomalias.\n",
    "> Reconhecimento de letras manuscritas.\n",
    "\n",
    "Constante de Penalização (custo)\n",
    "> Hiperparâmetro C: controla a tolerância a erros.\n",
    "    - Quanto maior o valor de C, maior a probabilidade de overfitting e o tempo.\n",
    "    - Quanto menor o valor de C, maior o tempo de treinamento e maior a probabilidade de underfitting.\n",
    "    \n",
    "> Ajuste do hiperparâmetro Gama para otimização.\n",
    "\n",
    "Vantagens: \n",
    "> Não é influenciado por dados discrepantes.\n",
    "> Solução de problemas lineares e não lineares.\n",
    "> Muito efetivo para datasets grandes.\n",
    "> Consegue aprender com características não pertencentes aos dados.\n",
    "\n",
    "Desvantagens:\n",
    "> Difícil interpretação teórica devido à matemática complexa.\n",
    "> Difícil visualização gráfica.\n",
    "> É lento comparado a outros algoritmos.\n",
    "\"\"\""
   ],
   "metadata": {
    "collapsed": false
   },
   "id": "f935c5f6471e5f7d"
  },
  {
   "cell_type": "markdown",
   "source": [
    "# 48. Máquina de Vetor de Suporte (SVM): Aplicação"
   ],
   "metadata": {
    "collapsed": false
   },
   "id": "d021eaa8f46f1fcb"
  },
  {
   "cell_type": "code",
   "outputs": [
    {
     "data": {
      "text/plain": "'https://scikit-learn.org/stable/modules/generated/sklearn.svm.SVC.html'"
     },
     "execution_count": 81,
     "metadata": {},
     "output_type": "execute_result"
    }
   ],
   "source": [
    "# Máquinas de Vetores de Suporte (SVM)\n",
    "\"https://scikit-learn.org/stable/modules/generated/sklearn.svm.SVC.html\""
   ],
   "metadata": {
    "collapsed": false,
    "ExecuteTime": {
     "end_time": "2024-04-06T17:46:51.660541Z",
     "start_time": "2024-04-06T17:46:51.634453Z"
    }
   },
   "id": "575c07aedd02a5dd",
   "execution_count": 81
  },
  {
   "cell_type": "code",
   "outputs": [],
   "source": [
    "from sklearn.svm import SVC"
   ],
   "metadata": {
    "collapsed": false,
    "ExecuteTime": {
     "end_time": "2024-04-06T17:46:51.946160Z",
     "start_time": "2024-04-06T17:46:51.935166Z"
    }
   },
   "id": "16f6a4fc9c911d5f",
   "execution_count": 82
  },
  {
   "cell_type": "code",
   "outputs": [
    {
     "data": {
      "text/plain": "SVC(C=2, random_state=1)",
      "text/html": "<style>#sk-container-id-2 {color: black;}#sk-container-id-2 pre{padding: 0;}#sk-container-id-2 div.sk-toggleable {background-color: white;}#sk-container-id-2 label.sk-toggleable__label {cursor: pointer;display: block;width: 100%;margin-bottom: 0;padding: 0.3em;box-sizing: border-box;text-align: center;}#sk-container-id-2 label.sk-toggleable__label-arrow:before {content: \"▸\";float: left;margin-right: 0.25em;color: #696969;}#sk-container-id-2 label.sk-toggleable__label-arrow:hover:before {color: black;}#sk-container-id-2 div.sk-estimator:hover label.sk-toggleable__label-arrow:before {color: black;}#sk-container-id-2 div.sk-toggleable__content {max-height: 0;max-width: 0;overflow: hidden;text-align: left;background-color: #f0f8ff;}#sk-container-id-2 div.sk-toggleable__content pre {margin: 0.2em;color: black;border-radius: 0.25em;background-color: #f0f8ff;}#sk-container-id-2 input.sk-toggleable__control:checked~div.sk-toggleable__content {max-height: 200px;max-width: 100%;overflow: auto;}#sk-container-id-2 input.sk-toggleable__control:checked~label.sk-toggleable__label-arrow:before {content: \"▾\";}#sk-container-id-2 div.sk-estimator input.sk-toggleable__control:checked~label.sk-toggleable__label {background-color: #d4ebff;}#sk-container-id-2 div.sk-label input.sk-toggleable__control:checked~label.sk-toggleable__label {background-color: #d4ebff;}#sk-container-id-2 input.sk-hidden--visually {border: 0;clip: rect(1px 1px 1px 1px);clip: rect(1px, 1px, 1px, 1px);height: 1px;margin: -1px;overflow: hidden;padding: 0;position: absolute;width: 1px;}#sk-container-id-2 div.sk-estimator {font-family: monospace;background-color: #f0f8ff;border: 1px dotted black;border-radius: 0.25em;box-sizing: border-box;margin-bottom: 0.5em;}#sk-container-id-2 div.sk-estimator:hover {background-color: #d4ebff;}#sk-container-id-2 div.sk-parallel-item::after {content: \"\";width: 100%;border-bottom: 1px solid gray;flex-grow: 1;}#sk-container-id-2 div.sk-label:hover label.sk-toggleable__label {background-color: #d4ebff;}#sk-container-id-2 div.sk-serial::before {content: \"\";position: absolute;border-left: 1px solid gray;box-sizing: border-box;top: 0;bottom: 0;left: 50%;z-index: 0;}#sk-container-id-2 div.sk-serial {display: flex;flex-direction: column;align-items: center;background-color: white;padding-right: 0.2em;padding-left: 0.2em;position: relative;}#sk-container-id-2 div.sk-item {position: relative;z-index: 1;}#sk-container-id-2 div.sk-parallel {display: flex;align-items: stretch;justify-content: center;background-color: white;position: relative;}#sk-container-id-2 div.sk-item::before, #sk-container-id-2 div.sk-parallel-item::before {content: \"\";position: absolute;border-left: 1px solid gray;box-sizing: border-box;top: 0;bottom: 0;left: 50%;z-index: -1;}#sk-container-id-2 div.sk-parallel-item {display: flex;flex-direction: column;z-index: 1;position: relative;background-color: white;}#sk-container-id-2 div.sk-parallel-item:first-child::after {align-self: flex-end;width: 50%;}#sk-container-id-2 div.sk-parallel-item:last-child::after {align-self: flex-start;width: 50%;}#sk-container-id-2 div.sk-parallel-item:only-child::after {width: 0;}#sk-container-id-2 div.sk-dashed-wrapped {border: 1px dashed gray;margin: 0 0.4em 0.5em 0.4em;box-sizing: border-box;padding-bottom: 0.4em;background-color: white;}#sk-container-id-2 div.sk-label label {font-family: monospace;font-weight: bold;display: inline-block;line-height: 1.2em;}#sk-container-id-2 div.sk-label-container {text-align: center;}#sk-container-id-2 div.sk-container {/* jupyter's `normalize.less` sets `[hidden] { display: none; }` but bootstrap.min.css set `[hidden] { display: none !important; }` so we also need the `!important` here to be able to override the default hidden behavior on the sphinx rendered scikit-learn.org. See: https://github.com/scikit-learn/scikit-learn/issues/21755 */display: inline-block !important;position: relative;}#sk-container-id-2 div.sk-text-repr-fallback {display: none;}</style><div id=\"sk-container-id-2\" class=\"sk-top-container\"><div class=\"sk-text-repr-fallback\"><pre>SVC(C=2, random_state=1)</pre><b>In a Jupyter environment, please rerun this cell to show the HTML representation or trust the notebook. <br />On GitHub, the HTML representation is unable to render, please try loading this page with nbviewer.org.</b></div><div class=\"sk-container\" hidden><div class=\"sk-item\"><div class=\"sk-estimator sk-toggleable\"><input class=\"sk-toggleable__control sk-hidden--visually\" id=\"sk-estimator-id-2\" type=\"checkbox\" checked><label for=\"sk-estimator-id-2\" class=\"sk-toggleable__label sk-toggleable__label-arrow\">SVC</label><div class=\"sk-toggleable__content\"><pre>SVC(C=2, random_state=1)</pre></div></div></div></div></div>"
     },
     "execution_count": 83,
     "metadata": {},
     "output_type": "execute_result"
    }
   ],
   "source": [
    "svm = SVC(kernel = 'rbf', random_state=1, C=2)\n",
    "svm.fit(x_treino, y_treino)"
   ],
   "metadata": {
    "collapsed": false,
    "ExecuteTime": {
     "end_time": "2024-04-06T17:46:52.197123Z",
     "start_time": "2024-04-06T17:46:52.149157Z"
    }
   },
   "id": "e6d1c36ed66f2f63",
   "execution_count": 83
  },
  {
   "cell_type": "code",
   "outputs": [
    {
     "data": {
      "text/plain": "array([0, 1, 1, 1, 1, 0, 0, 0, 0, 1, 1, 1, 1, 1, 1, 1, 1, 1, 0, 0, 1, 1,\n       1, 0, 1, 1, 0, 1, 0, 1, 1, 1, 0, 0, 1, 0, 0, 0, 1, 0, 0, 1, 1, 1,\n       1, 0, 0, 0, 1, 1, 0, 0, 1, 1, 1, 0, 0, 1, 1, 0, 1, 0, 0, 0, 1, 1,\n       1, 0, 1, 0, 0, 1, 0, 1, 1, 1, 0, 1, 1, 1, 0, 1, 0, 0, 1, 0, 1, 1,\n       1, 0, 1, 1, 0, 1, 1, 0, 1, 0, 1, 1, 1, 1, 1, 1, 0, 0, 0, 0, 0, 0,\n       1, 1, 1, 1, 0, 1, 0, 1, 1, 1, 1, 1, 1, 1, 1, 1, 1, 0, 0, 1, 0, 1,\n       1, 1, 1, 0, 1, 1, 1, 0, 1, 1, 0, 1, 0, 0, 1, 1, 0, 0, 0, 1, 1, 0,\n       1, 0, 1, 0, 1, 1, 1, 0, 1, 1, 1, 0, 1, 0, 1, 1, 1, 0, 0, 0, 0, 1,\n       1, 0, 1, 1, 1, 1, 1, 1, 0, 1, 1, 1, 1, 1, 0, 1, 1, 1, 1, 1, 0, 0,\n       1, 1, 1, 1, 0, 0, 1, 1, 1, 0, 1, 0, 0, 1, 1, 0, 0, 0, 1, 0, 1, 1,\n       1, 0, 1, 0, 1, 1, 0, 1, 1, 1, 0, 1, 1, 1, 1, 1, 0, 0, 1, 1, 1, 0,\n       1, 1, 0, 0, 0, 0, 1, 1, 1, 0, 1, 1, 0, 1, 1, 0, 1, 1, 1, 1, 1, 1,\n       0, 1, 0, 0, 1, 0, 1, 0, 0, 1, 0, 0], dtype=int64)"
     },
     "execution_count": 84,
     "metadata": {},
     "output_type": "execute_result"
    }
   ],
   "source": [
    "previsoes_svm = svm.predict(x_teste)\n",
    "previsoes_svm"
   ],
   "metadata": {
    "collapsed": false,
    "ExecuteTime": {
     "end_time": "2024-04-06T17:46:52.466743Z",
     "start_time": "2024-04-06T17:46:52.434473Z"
    }
   },
   "id": "49939fdbd9dcdff3",
   "execution_count": 84
  },
  {
   "cell_type": "code",
   "outputs": [
    {
     "data": {
      "text/plain": "array([1, 0, 1, 0, 0, 0, 0, 0, 0, 0, 1, 0, 1, 1, 0, 1, 1, 1, 1, 0, 1, 1,\n       1, 0, 0, 0, 1, 1, 0, 0, 1, 0, 0, 0, 1, 0, 1, 0, 1, 0, 0, 1, 1, 1,\n       1, 0, 0, 1, 1, 1, 1, 0, 0, 1, 1, 0, 0, 0, 1, 0, 1, 1, 1, 0, 1, 1,\n       1, 0, 1, 0, 1, 1, 1, 1, 1, 1, 1, 1, 1, 0, 0, 1, 0, 0, 1, 1, 0, 1,\n       1, 0, 1, 0, 0, 1, 1, 0, 1, 0, 0, 0, 0, 1, 1, 1, 0, 1, 0, 0, 0, 1,\n       0, 1, 1, 1, 0, 1, 1, 1, 1, 1, 1, 1, 1, 0, 0, 1, 0, 1, 0, 1, 0, 1,\n       0, 1, 0, 0, 0, 1, 1, 0, 1, 1, 0, 1, 0, 0, 1, 1, 1, 0, 1, 1, 0, 0,\n       0, 0, 1, 1, 1, 0, 1, 1, 1, 0, 1, 0, 1, 0, 1, 0, 1, 1, 0, 0, 1, 0,\n       0, 1, 0, 1, 1, 1, 0, 1, 1, 1, 0, 1, 1, 0, 0, 0, 1, 1, 1, 1, 1, 0,\n       1, 0, 1, 1, 0, 1, 1, 0, 0, 0, 1, 0, 1, 1, 0, 1, 0, 1, 1, 1, 1, 1,\n       1, 1, 0, 0, 0, 1, 0, 1, 1, 1, 0, 1, 0, 1, 1, 1, 1, 1, 0, 1, 1, 0,\n       1, 0, 1, 0, 0, 0, 1, 0, 1, 0, 1, 1, 0, 0, 1, 0, 0, 1, 0, 1, 1, 0,\n       0, 0, 0, 0, 1, 0, 0, 1, 1, 1, 1, 1], dtype=int64)"
     },
     "execution_count": 85,
     "metadata": {},
     "output_type": "execute_result"
    }
   ],
   "source": [
    "y_teste"
   ],
   "metadata": {
    "collapsed": false,
    "ExecuteTime": {
     "end_time": "2024-04-06T17:46:52.593501Z",
     "start_time": "2024-04-06T17:46:52.574904Z"
    }
   },
   "id": "1810cb43f9bb56a",
   "execution_count": 85
  },
  {
   "cell_type": "code",
   "outputs": [],
   "source": [
    "from sklearn.metrics import accuracy_score, confusion_matrix, classification_report"
   ],
   "metadata": {
    "collapsed": false,
    "ExecuteTime": {
     "end_time": "2024-04-06T17:46:52.941298Z",
     "start_time": "2024-04-06T17:46:52.922481Z"
    }
   },
   "id": "19b8bcfd78207721",
   "execution_count": 86
  },
  {
   "cell_type": "code",
   "outputs": [
    {
     "data": {
      "text/plain": "0.6702898550724637"
     },
     "execution_count": 87,
     "metadata": {},
     "output_type": "execute_result"
    }
   ],
   "source": [
    "accuracy_score(y_teste, previsoes_svm)"
   ],
   "metadata": {
    "collapsed": false,
    "ExecuteTime": {
     "end_time": "2024-04-06T17:46:53.205592Z",
     "start_time": "2024-04-06T17:46:53.188602Z"
    }
   },
   "id": "a9c0dcc210c817c1",
   "execution_count": 87
  },
  {
   "cell_type": "code",
   "outputs": [
    {
     "name": "stdout",
     "output_type": "stream",
     "text": [
      "Acurácia: 67.03%\n"
     ]
    }
   ],
   "source": [
    "print(f'Acurácia: {accuracy_score(y_teste, previsoes_svm)*100:.2f}%')"
   ],
   "metadata": {
    "collapsed": false,
    "ExecuteTime": {
     "end_time": "2024-04-06T17:46:53.342960Z",
     "start_time": "2024-04-06T17:46:53.323869Z"
    }
   },
   "id": "b500622deb63f12a",
   "execution_count": 88
  },
  {
   "cell_type": "code",
   "outputs": [
    {
     "data": {
      "text/plain": "array([[ 68,  53],\n       [ 38, 117]], dtype=int64)"
     },
     "execution_count": 89,
     "metadata": {},
     "output_type": "execute_result"
    }
   ],
   "source": [
    "confusion_matrix(y_teste, previsoes_svm)"
   ],
   "metadata": {
    "collapsed": false,
    "ExecuteTime": {
     "end_time": "2024-04-06T17:46:53.610886Z",
     "start_time": "2024-04-06T17:46:53.599886Z"
    }
   },
   "id": "80cf6005730be87d",
   "execution_count": 89
  },
  {
   "cell_type": "code",
   "outputs": [
    {
     "name": "stdout",
     "output_type": "stream",
     "text": [
      "              precision    recall  f1-score   support\n",
      "\n",
      "           0       0.64      0.56      0.60       121\n",
      "           1       0.69      0.75      0.72       155\n",
      "\n",
      "    accuracy                           0.67       276\n",
      "   macro avg       0.66      0.66      0.66       276\n",
      "weighted avg       0.67      0.67      0.67       276\n"
     ]
    }
   ],
   "source": [
    "print(classification_report(y_teste, previsoes_svm))"
   ],
   "metadata": {
    "collapsed": false,
    "ExecuteTime": {
     "end_time": "2024-04-06T17:46:53.956373Z",
     "start_time": "2024-04-06T17:46:53.930389Z"
    }
   },
   "id": "6de0152933b0d9b8",
   "execution_count": 90
  },
  {
   "cell_type": "code",
   "outputs": [
    {
     "data": {
      "text/plain": "array([1, 0, 1, 1, 0, 0, 1, 0, 0, 1, 1, 0, 1, 1, 1, 0, 0, 1, 0, 1, 0, 0,\n       1, 0, 1, 0, 0, 1, 1, 1, 1, 0, 1, 1, 0, 0, 1, 1, 0, 1, 0, 1, 0, 0,\n       1, 1, 0, 1, 1, 1, 1, 0, 1, 0, 1, 0, 1, 1, 0, 0, 0, 1, 0, 0, 1, 1,\n       1, 1, 1, 0, 0, 1, 1, 1, 0, 0, 1, 1, 0, 1, 1, 1, 1, 1, 0, 1, 1, 1,\n       1, 1, 1, 0, 0, 1, 1, 1, 1, 1, 1, 1, 0, 1, 1, 0, 1, 1, 1, 0, 0, 1,\n       0, 0, 1, 0, 1, 0, 0, 1, 1, 0, 0, 0, 0, 1, 0, 1, 1, 0, 1, 1, 1, 0,\n       1, 1, 0, 1, 0, 0, 1, 1, 0, 1, 1, 1, 1, 1, 1, 1, 1, 1, 1, 1, 1, 1,\n       1, 0, 1, 0, 1, 1, 1, 0, 0, 0, 0, 1, 1, 1, 0, 1, 0, 1, 1, 0, 1, 1,\n       0, 1, 1, 0, 1, 0, 0, 0, 0, 1, 1, 1, 1, 1, 0, 1, 1, 1, 0, 0, 1, 1,\n       1, 1, 0, 1, 0, 1, 1, 0, 0, 0, 0, 1, 0, 1, 1, 1, 1, 1, 1, 0, 1, 1,\n       0, 0, 1, 1, 1, 0, 1, 1, 1, 1, 1, 1, 1, 1, 1, 0, 1, 0, 0, 0, 1, 0,\n       1, 0, 0, 1, 1, 1, 1, 1, 1, 1, 0, 1, 0, 0, 0, 0, 1, 0, 0, 0, 1, 0,\n       1, 1, 1, 0, 1, 0, 0, 1, 1, 0, 0, 1, 1, 0, 0, 0, 1, 0, 0, 0, 1, 1,\n       0, 1, 1, 1, 1, 0, 1, 0, 1, 0, 0, 0, 0, 1, 1, 1, 0, 1, 0, 1, 0, 1,\n       1, 0, 1, 0, 0, 0, 1, 0, 1, 0, 1, 0, 1, 1, 1, 1, 0, 1, 1, 0, 1, 1,\n       1, 1, 1, 0, 1, 1, 0, 1, 0, 1, 1, 1, 1, 1, 1, 0, 1, 1, 0, 0, 0, 1,\n       0, 0, 1, 1, 0, 0, 1, 1, 0, 0, 1, 1, 1, 0, 0, 0, 0, 1, 1, 0, 0, 1,\n       1, 1, 1, 1, 0, 0, 1, 1, 0, 1, 0, 1, 0, 0, 0, 0, 1, 1, 0, 0, 1, 1,\n       0, 1, 1, 1, 1, 1, 1, 1, 1, 1, 0, 1, 1, 0, 0, 1, 1, 1, 1, 1, 0, 1,\n       1, 1, 1, 1, 1, 1, 0, 0, 1, 1, 1, 0, 0, 1, 0, 0, 1, 1, 1, 0, 1, 1,\n       0, 0, 1, 1, 0, 1, 0, 1, 1, 1, 1, 0, 1, 1, 1, 1, 0, 0, 1, 1, 0, 1,\n       1, 1, 1, 1, 1, 0, 1, 0, 1, 1, 1, 1, 0, 1, 1, 0, 0, 0, 1, 0, 1, 0,\n       1, 0, 0, 1, 1, 0, 1, 1, 0, 1, 1, 0, 1, 1, 1, 0, 1, 1, 0, 1, 1, 1,\n       1, 0, 0, 0, 0, 1, 0, 1, 0, 1, 1, 0, 1, 0, 1, 1, 0, 0, 0, 1, 1, 0,\n       1, 0, 0, 1, 1, 1, 1, 0, 0, 0, 1, 1, 0, 1, 0, 0, 0, 0, 0, 1, 0, 0,\n       0, 0, 1, 0, 1, 0, 1, 1, 1, 1, 1, 0, 1, 0, 1, 1, 1, 0, 0, 1, 0, 1,\n       1, 1, 1, 0, 1, 1, 0, 1, 1, 1, 1, 0, 1, 1, 1, 1, 1, 0, 1, 1, 1, 0,\n       0, 0, 1, 0, 0, 1, 1, 1, 0, 0, 1, 1, 0, 1, 0, 0, 1, 0, 0, 1, 0, 0,\n       1, 1, 0, 1, 0, 0, 0, 1, 1, 1, 1, 1, 0, 1, 1, 0, 1, 1, 1, 0, 1, 0,\n       1, 1, 1], dtype=int64)"
     },
     "execution_count": 91,
     "metadata": {},
     "output_type": "execute_result"
    }
   ],
   "source": [
    "# Análise de dados de treino\n",
    "previsoes_treino = svm.predict(x_treino)\n",
    "previsoes_treino"
   ],
   "metadata": {
    "collapsed": false,
    "ExecuteTime": {
     "end_time": "2024-04-06T17:46:54.242646Z",
     "start_time": "2024-04-06T17:46:54.177448Z"
    }
   },
   "id": "c269aff4a2ffcb0",
   "execution_count": 91
  },
  {
   "cell_type": "code",
   "outputs": [
    {
     "data": {
      "text/plain": "0.7129485179407177"
     },
     "execution_count": 92,
     "metadata": {},
     "output_type": "execute_result"
    }
   ],
   "source": [
    "accuracy_score(y_treino, previsoes_treino)"
   ],
   "metadata": {
    "collapsed": false,
    "ExecuteTime": {
     "end_time": "2024-04-06T17:46:54.402664Z",
     "start_time": "2024-04-06T17:46:54.380676Z"
    }
   },
   "id": "be79386d5618f639",
   "execution_count": 92
  },
  {
   "cell_type": "code",
   "outputs": [
    {
     "data": {
      "text/plain": "array([[181, 108],\n       [ 76, 276]], dtype=int64)"
     },
     "execution_count": 93,
     "metadata": {},
     "output_type": "execute_result"
    }
   ],
   "source": [
    "confusion_matrix(y_treino, previsoes_treino)"
   ],
   "metadata": {
    "collapsed": false,
    "ExecuteTime": {
     "end_time": "2024-04-06T17:46:54.716241Z",
     "start_time": "2024-04-06T17:46:54.706243Z"
    }
   },
   "id": "fa1bfaf81a78b6ba",
   "execution_count": 93
  },
  {
   "cell_type": "code",
   "outputs": [],
   "source": [
    "# Validaçõa Cruzada\n",
    "from sklearn.model_selection import KFold\n",
    "from sklearn.model_selection import cross_val_score"
   ],
   "metadata": {
    "collapsed": false,
    "ExecuteTime": {
     "end_time": "2024-04-06T17:46:54.937337Z",
     "start_time": "2024-04-06T17:46:54.915844Z"
    }
   },
   "id": "ae5edd81526e1b15",
   "execution_count": 94
  },
  {
   "cell_type": "code",
   "outputs": [],
   "source": [
    "# Separando os dados em folds\n",
    "kfold = KFold(n_splits=30, shuffle=True, random_state=5)"
   ],
   "metadata": {
    "collapsed": false,
    "ExecuteTime": {
     "end_time": "2024-04-06T17:46:55.112292Z",
     "start_time": "2024-04-06T17:46:55.094300Z"
    }
   },
   "id": "ff40a1d4b0fd895b",
   "execution_count": 95
  },
  {
   "cell_type": "code",
   "outputs": [
    {
     "data": {
      "text/plain": "array([0.96774194, 0.83870968, 0.87096774, 0.90322581, 0.83870968,\n       0.87096774, 0.70967742, 0.87096774, 0.80645161, 0.80645161,\n       0.87096774, 0.80645161, 0.96774194, 0.90322581, 0.80645161,\n       0.83870968, 0.80645161, 0.93333333, 0.86666667, 0.93333333,\n       0.83333333, 0.86666667, 0.86666667, 0.63333333, 0.83333333,\n       0.93333333, 0.9       , 0.86666667, 0.9       , 0.86666667])"
     },
     "execution_count": 96,
     "metadata": {},
     "output_type": "execute_result"
    }
   ],
   "source": [
    "# Criando o modelo\n",
    "modelo = SVC(kernel = 'rbf', random_state=1, C=2)\n",
    "resultado = cross_val_score(modelo, previsores3_esc, alvo, cv=kfold)\n",
    "resultado"
   ],
   "metadata": {
    "collapsed": false,
    "ExecuteTime": {
     "end_time": "2024-04-06T17:46:56.474972Z",
     "start_time": "2024-04-06T17:46:55.329076Z"
    }
   },
   "id": "ce0154844800c80e",
   "execution_count": 96
  },
  {
   "cell_type": "code",
   "outputs": [
    {
     "name": "stdout",
     "output_type": "stream",
     "text": [
      "Acurácia Média: 85.72%\n"
     ]
    }
   ],
   "source": [
    "# Usando a média e o desvio padrão\n",
    "print(f'Acurácia Média: {resultado.mean()*100:.2f}%')"
   ],
   "metadata": {
    "collapsed": false,
    "ExecuteTime": {
     "end_time": "2024-04-06T17:46:56.490963Z",
     "start_time": "2024-04-06T17:46:56.478969Z"
    }
   },
   "id": "77c0eb85fc2640f7",
   "execution_count": 97
  },
  {
   "cell_type": "markdown",
   "source": [
    "# 49. Regressão Logística: Aplicação"
   ],
   "metadata": {
    "collapsed": false
   },
   "id": "cb745ddaf940cfce"
  },
  {
   "cell_type": "code",
   "outputs": [
    {
     "data": {
      "text/plain": "'\\nRegressão Logística\\n> Algoritmo de classificação em aprendizagem supervisionada.\\n> Utiliza conceitos de regressão linear em seu modelo matemático\\n> Equação: p = 1/(1+e^-z) onde z=(b0+b1*x1+b2*x2+...+bn*xn)\\np = probabilidade de pertencer a determinada classe;\\ne = número de euler;\\nb0 = intercepto;\\nbn = coeficientes;\\nxn = variáveis dependentes;\\n\\nAplicações:\\n> Está presente em diversas aplicações em várias áreas de estudo como na economia, bioestatística, psicometria, medicina, ciências sociais...\\n\\nVantagens:\\n> Fácil implementação;\\n> Teoria consolidada;\\n> Excelente desempenho;\\n> Indica o valor de probabilidade para cada instância:\\n'"
     },
     "execution_count": 98,
     "metadata": {},
     "output_type": "execute_result"
    }
   ],
   "source": [
    "\"\"\"\n",
    "Regressão Logística\n",
    "> Algoritmo de classificação em aprendizagem supervisionada.\n",
    "> Utiliza conceitos de regressão linear em seu modelo matemático\n",
    "> Equação: p = 1/(1+e^-z) onde z=(b0+b1*x1+b2*x2+...+bn*xn)\n",
    "p = probabilidade de pertencer a determinada classe;\n",
    "e = número de euler;\n",
    "b0 = intercepto;\n",
    "bn = coeficientes;\n",
    "xn = variáveis dependentes;\n",
    "\n",
    "Aplicações:\n",
    "> Está presente em diversas aplicações em várias áreas de estudo como na economia, bioestatística, psicometria, medicina, ciências sociais...\n",
    "\n",
    "Vantagens:\n",
    "> Fácil implementação;\n",
    "> Teoria consolidada;\n",
    "> Excelente desempenho;\n",
    "> Indica o valor de probabilidade para cada instância:\n",
    "\"\"\""
   ],
   "metadata": {
    "collapsed": false,
    "ExecuteTime": {
     "end_time": "2024-04-06T17:46:56.506953Z",
     "start_time": "2024-04-06T17:46:56.492963Z"
    }
   },
   "id": "6443b6f79f9ede54",
   "execution_count": 98
  },
  {
   "cell_type": "markdown",
   "source": [
    "# 50. Regressão Logística no Python"
   ],
   "metadata": {
    "collapsed": false
   },
   "id": "273fd556442be3a1"
  },
  {
   "cell_type": "code",
   "outputs": [
    {
     "data": {
      "text/plain": "'https: scikit-learn.org/stable/modules/generated/sklearn.linear_model.LogisticRegression.html'"
     },
     "execution_count": 99,
     "metadata": {},
     "output_type": "execute_result"
    }
   ],
   "source": [
    "\"https: scikit-learn.org/stable/modules/generated/sklearn.linear_model.LogisticRegression.html\""
   ],
   "metadata": {
    "collapsed": false,
    "ExecuteTime": {
     "end_time": "2024-04-06T17:46:56.522947Z",
     "start_time": "2024-04-06T17:46:56.508951Z"
    }
   },
   "id": "749d3f25465b2c8c",
   "execution_count": 99
  },
  {
   "cell_type": "code",
   "outputs": [],
   "source": [
    "from sklearn.linear_model import LogisticRegression"
   ],
   "metadata": {
    "collapsed": false,
    "ExecuteTime": {
     "end_time": "2024-04-06T17:46:56.538445Z",
     "start_time": "2024-04-06T17:46:56.527451Z"
    }
   },
   "id": "baacf3cc63a7ef64",
   "execution_count": 100
  },
  {
   "cell_type": "code",
   "outputs": [
    {
     "data": {
      "text/plain": "LogisticRegression(C=1, max_iter=500, random_state=1)",
      "text/html": "<style>#sk-container-id-3 {color: black;}#sk-container-id-3 pre{padding: 0;}#sk-container-id-3 div.sk-toggleable {background-color: white;}#sk-container-id-3 label.sk-toggleable__label {cursor: pointer;display: block;width: 100%;margin-bottom: 0;padding: 0.3em;box-sizing: border-box;text-align: center;}#sk-container-id-3 label.sk-toggleable__label-arrow:before {content: \"▸\";float: left;margin-right: 0.25em;color: #696969;}#sk-container-id-3 label.sk-toggleable__label-arrow:hover:before {color: black;}#sk-container-id-3 div.sk-estimator:hover label.sk-toggleable__label-arrow:before {color: black;}#sk-container-id-3 div.sk-toggleable__content {max-height: 0;max-width: 0;overflow: hidden;text-align: left;background-color: #f0f8ff;}#sk-container-id-3 div.sk-toggleable__content pre {margin: 0.2em;color: black;border-radius: 0.25em;background-color: #f0f8ff;}#sk-container-id-3 input.sk-toggleable__control:checked~div.sk-toggleable__content {max-height: 200px;max-width: 100%;overflow: auto;}#sk-container-id-3 input.sk-toggleable__control:checked~label.sk-toggleable__label-arrow:before {content: \"▾\";}#sk-container-id-3 div.sk-estimator input.sk-toggleable__control:checked~label.sk-toggleable__label {background-color: #d4ebff;}#sk-container-id-3 div.sk-label input.sk-toggleable__control:checked~label.sk-toggleable__label {background-color: #d4ebff;}#sk-container-id-3 input.sk-hidden--visually {border: 0;clip: rect(1px 1px 1px 1px);clip: rect(1px, 1px, 1px, 1px);height: 1px;margin: -1px;overflow: hidden;padding: 0;position: absolute;width: 1px;}#sk-container-id-3 div.sk-estimator {font-family: monospace;background-color: #f0f8ff;border: 1px dotted black;border-radius: 0.25em;box-sizing: border-box;margin-bottom: 0.5em;}#sk-container-id-3 div.sk-estimator:hover {background-color: #d4ebff;}#sk-container-id-3 div.sk-parallel-item::after {content: \"\";width: 100%;border-bottom: 1px solid gray;flex-grow: 1;}#sk-container-id-3 div.sk-label:hover label.sk-toggleable__label {background-color: #d4ebff;}#sk-container-id-3 div.sk-serial::before {content: \"\";position: absolute;border-left: 1px solid gray;box-sizing: border-box;top: 0;bottom: 0;left: 50%;z-index: 0;}#sk-container-id-3 div.sk-serial {display: flex;flex-direction: column;align-items: center;background-color: white;padding-right: 0.2em;padding-left: 0.2em;position: relative;}#sk-container-id-3 div.sk-item {position: relative;z-index: 1;}#sk-container-id-3 div.sk-parallel {display: flex;align-items: stretch;justify-content: center;background-color: white;position: relative;}#sk-container-id-3 div.sk-item::before, #sk-container-id-3 div.sk-parallel-item::before {content: \"\";position: absolute;border-left: 1px solid gray;box-sizing: border-box;top: 0;bottom: 0;left: 50%;z-index: -1;}#sk-container-id-3 div.sk-parallel-item {display: flex;flex-direction: column;z-index: 1;position: relative;background-color: white;}#sk-container-id-3 div.sk-parallel-item:first-child::after {align-self: flex-end;width: 50%;}#sk-container-id-3 div.sk-parallel-item:last-child::after {align-self: flex-start;width: 50%;}#sk-container-id-3 div.sk-parallel-item:only-child::after {width: 0;}#sk-container-id-3 div.sk-dashed-wrapped {border: 1px dashed gray;margin: 0 0.4em 0.5em 0.4em;box-sizing: border-box;padding-bottom: 0.4em;background-color: white;}#sk-container-id-3 div.sk-label label {font-family: monospace;font-weight: bold;display: inline-block;line-height: 1.2em;}#sk-container-id-3 div.sk-label-container {text-align: center;}#sk-container-id-3 div.sk-container {/* jupyter's `normalize.less` sets `[hidden] { display: none; }` but bootstrap.min.css set `[hidden] { display: none !important; }` so we also need the `!important` here to be able to override the default hidden behavior on the sphinx rendered scikit-learn.org. See: https://github.com/scikit-learn/scikit-learn/issues/21755 */display: inline-block !important;position: relative;}#sk-container-id-3 div.sk-text-repr-fallback {display: none;}</style><div id=\"sk-container-id-3\" class=\"sk-top-container\"><div class=\"sk-text-repr-fallback\"><pre>LogisticRegression(C=1, max_iter=500, random_state=1)</pre><b>In a Jupyter environment, please rerun this cell to show the HTML representation or trust the notebook. <br />On GitHub, the HTML representation is unable to render, please try loading this page with nbviewer.org.</b></div><div class=\"sk-container\" hidden><div class=\"sk-item\"><div class=\"sk-estimator sk-toggleable\"><input class=\"sk-toggleable__control sk-hidden--visually\" id=\"sk-estimator-id-3\" type=\"checkbox\" checked><label for=\"sk-estimator-id-3\" class=\"sk-toggleable__label sk-toggleable__label-arrow\">LogisticRegression</label><div class=\"sk-toggleable__content\"><pre>LogisticRegression(C=1, max_iter=500, random_state=1)</pre></div></div></div></div></div>"
     },
     "execution_count": 101,
     "metadata": {},
     "output_type": "execute_result"
    }
   ],
   "source": [
    "logistica = LogisticRegression(random_state=1, max_iter=500, penalty=\"l2\", tol=0.0001, C=1, solver=\"lbfgs\") \n",
    "logistica.fit(x_treino, y_treino)"
   ],
   "metadata": {
    "collapsed": false,
    "ExecuteTime": {
     "end_time": "2024-04-06T17:46:56.779243Z",
     "start_time": "2024-04-06T17:46:56.540443Z"
    }
   },
   "id": "ecda1daed55885a3",
   "execution_count": 101
  },
  {
   "cell_type": "code",
   "outputs": [
    {
     "data": {
      "text/plain": "array([-4.70949359])"
     },
     "execution_count": 102,
     "metadata": {},
     "output_type": "execute_result"
    }
   ],
   "source": [
    "logistica.intercept_"
   ],
   "metadata": {
    "collapsed": false,
    "ExecuteTime": {
     "end_time": "2024-04-06T17:46:56.809225Z",
     "start_time": "2024-04-06T17:46:56.782241Z"
    }
   },
   "id": "dbd09fedd16c1cea",
   "execution_count": 102
  },
  {
   "cell_type": "code",
   "outputs": [
    {
     "data": {
      "text/plain": "array([[ 0.01310081,  1.27109795,  0.66432244,  0.00337222,  0.00432106,\n         0.92045964,  0.08879068, -0.01148407,  1.02230033,  0.24998987,\n         1.64635353]])"
     },
     "execution_count": 103,
     "metadata": {},
     "output_type": "execute_result"
    }
   ],
   "source": [
    "logistica.coef_"
   ],
   "metadata": {
    "collapsed": false,
    "ExecuteTime": {
     "end_time": "2024-04-06T17:46:56.839721Z",
     "start_time": "2024-04-06T17:46:56.813227Z"
    }
   },
   "id": "83000f879dd663f6",
   "execution_count": 103
  },
  {
   "cell_type": "code",
   "outputs": [
    {
     "data": {
      "text/plain": "array([1, 1, 1, 0, 0, 0, 0, 0, 0, 0, 1, 1, 1, 1, 0, 1, 1, 1, 1, 0, 1, 1,\n       1, 0, 0, 0, 1, 1, 1, 1, 1, 0, 0, 0, 1, 0, 0, 0, 1, 0, 0, 1, 1, 1,\n       1, 0, 0, 1, 0, 1, 1, 0, 0, 1, 1, 0, 0, 0, 0, 0, 1, 1, 1, 0, 1, 1,\n       1, 0, 1, 0, 1, 1, 0, 1, 1, 1, 1, 1, 1, 1, 1, 1, 0, 0, 1, 1, 1, 1,\n       1, 0, 1, 0, 0, 0, 1, 0, 1, 0, 0, 0, 0, 1, 1, 1, 0, 1, 1, 0, 0, 1,\n       1, 1, 1, 1, 1, 1, 0, 1, 1, 1, 1, 1, 1, 0, 1, 1, 0, 1, 0, 1, 0, 1,\n       1, 1, 0, 1, 1, 1, 1, 0, 0, 1, 0, 1, 0, 0, 1, 1, 0, 1, 0, 1, 1, 0,\n       1, 0, 1, 1, 1, 0, 1, 1, 1, 0, 1, 0, 1, 0, 1, 0, 1, 1, 0, 0, 1, 1,\n       1, 0, 0, 1, 1, 1, 0, 1, 1, 1, 0, 1, 1, 0, 0, 0, 1, 1, 1, 1, 0, 0,\n       1, 0, 1, 1, 0, 1, 1, 0, 0, 0, 1, 0, 1, 1, 0, 0, 0, 0, 1, 0, 1, 1,\n       1, 0, 0, 1, 1, 1, 0, 1, 0, 1, 0, 1, 1, 1, 0, 1, 1, 1, 0, 1, 1, 0,\n       1, 0, 1, 0, 0, 0, 1, 0, 1, 0, 1, 0, 0, 0, 1, 0, 0, 1, 0, 1, 1, 0,\n       0, 0, 0, 0, 1, 0, 0, 1, 1, 1, 1, 1], dtype=int64)"
     },
     "execution_count": 104,
     "metadata": {},
     "output_type": "execute_result"
    }
   ],
   "source": [
    "previsoes_logistica = logistica.predict(x_teste)\n",
    "previsoes_logistica"
   ],
   "metadata": {
    "collapsed": false,
    "ExecuteTime": {
     "end_time": "2024-04-06T17:46:56.871702Z",
     "start_time": "2024-04-06T17:46:56.843720Z"
    }
   },
   "id": "5c96737430b45147",
   "execution_count": 104
  },
  {
   "cell_type": "code",
   "outputs": [],
   "source": [
    "from sklearn.metrics import accuracy_score, confusion_matrix, classification_report"
   ],
   "metadata": {
    "collapsed": false,
    "ExecuteTime": {
     "end_time": "2024-04-06T17:46:56.887691Z",
     "start_time": "2024-04-06T17:46:56.874700Z"
    }
   },
   "id": "ba60b67a76a27730",
   "execution_count": 105
  },
  {
   "cell_type": "code",
   "outputs": [
    {
     "name": "stdout",
     "output_type": "stream",
     "text": [
      "Acurácia: 85.51%\n"
     ]
    }
   ],
   "source": [
    "print(f'''Acurácia: {accuracy_score(y_teste, previsoes_logistica)*100:.2f}%''')"
   ],
   "metadata": {
    "collapsed": false,
    "ExecuteTime": {
     "end_time": "2024-04-06T17:46:56.919678Z",
     "start_time": "2024-04-06T17:46:56.893689Z"
    }
   },
   "id": "587b02ab7083be70",
   "execution_count": 106
  },
  {
   "cell_type": "code",
   "outputs": [
    {
     "data": {
      "text/plain": "array([[ 99,  22],\n       [ 18, 137]], dtype=int64)"
     },
     "execution_count": 107,
     "metadata": {},
     "output_type": "execute_result"
    }
   ],
   "source": [
    "confusion_matrix(y_teste, previsoes_logistica)"
   ],
   "metadata": {
    "collapsed": false,
    "ExecuteTime": {
     "end_time": "2024-04-06T17:46:57.250780Z",
     "start_time": "2024-04-06T17:46:57.227795Z"
    }
   },
   "id": "54b8c1050f0241ac",
   "execution_count": 107
  },
  {
   "cell_type": "code",
   "outputs": [
    {
     "name": "stdout",
     "output_type": "stream",
     "text": [
      "              precision    recall  f1-score   support\n",
      "\n",
      "           0       0.85      0.82      0.83       121\n",
      "           1       0.86      0.88      0.87       155\n",
      "\n",
      "    accuracy                           0.86       276\n",
      "   macro avg       0.85      0.85      0.85       276\n",
      "weighted avg       0.85      0.86      0.85       276\n"
     ]
    }
   ],
   "source": [
    "print(classification_report(y_teste, previsoes_logistica))"
   ],
   "metadata": {
    "collapsed": false,
    "ExecuteTime": {
     "end_time": "2024-04-06T17:46:57.627208Z",
     "start_time": "2024-04-06T17:46:57.597605Z"
    }
   },
   "id": "dfe24a988c8d6094",
   "execution_count": 108
  },
  {
   "cell_type": "code",
   "outputs": [
    {
     "data": {
      "text/plain": "array([1, 0, 1, 1, 1, 1, 0, 0, 0, 0, 1, 0, 1, 1, 1, 0, 0, 0, 0, 1, 1, 1,\n       1, 1, 1, 0, 0, 1, 0, 1, 1, 0, 1, 1, 0, 0, 1, 1, 0, 1, 0, 1, 0, 0,\n       1, 1, 0, 1, 1, 1, 0, 0, 1, 0, 1, 0, 1, 0, 1, 0, 0, 0, 0, 0, 1, 1,\n       0, 1, 1, 0, 1, 1, 1, 1, 0, 0, 1, 1, 0, 1, 1, 1, 1, 1, 0, 1, 1, 1,\n       1, 1, 0, 1, 0, 0, 1, 1, 1, 1, 1, 1, 0, 1, 0, 1, 1, 1, 1, 0, 0, 1,\n       0, 0, 1, 0, 1, 0, 1, 0, 1, 0, 0, 0, 0, 1, 0, 1, 0, 0, 1, 1, 1, 0,\n       1, 1, 0, 0, 1, 0, 1, 1, 0, 1, 1, 1, 1, 1, 1, 0, 0, 1, 1, 0, 1, 0,\n       1, 0, 1, 1, 1, 1, 1, 0, 0, 0, 0, 0, 1, 1, 0, 0, 0, 1, 1, 0, 1, 0,\n       0, 1, 1, 0, 0, 0, 0, 0, 0, 1, 1, 1, 1, 0, 0, 0, 1, 0, 0, 1, 1, 0,\n       1, 1, 0, 1, 0, 1, 1, 1, 1, 1, 1, 0, 0, 0, 1, 1, 1, 1, 1, 0, 0, 1,\n       1, 0, 0, 1, 1, 0, 1, 1, 1, 1, 0, 1, 0, 1, 1, 0, 1, 0, 1, 0, 1, 0,\n       1, 1, 0, 1, 1, 1, 1, 0, 1, 1, 0, 0, 0, 0, 0, 0, 1, 0, 1, 1, 1, 0,\n       1, 0, 1, 0, 1, 0, 1, 1, 0, 1, 0, 1, 1, 0, 0, 0, 1, 0, 0, 0, 1, 1,\n       1, 1, 1, 1, 1, 0, 1, 1, 0, 1, 0, 1, 0, 1, 1, 0, 0, 1, 0, 0, 1, 1,\n       1, 0, 1, 0, 1, 0, 1, 0, 1, 0, 1, 0, 1, 1, 1, 1, 0, 1, 1, 1, 1, 0,\n       0, 0, 1, 0, 0, 0, 1, 1, 0, 1, 1, 1, 1, 1, 1, 0, 1, 1, 0, 1, 0, 1,\n       0, 0, 0, 0, 0, 0, 1, 0, 0, 1, 0, 1, 1, 0, 0, 0, 0, 0, 1, 1, 0, 1,\n       0, 1, 1, 1, 0, 1, 1, 1, 0, 1, 0, 1, 0, 0, 0, 1, 0, 1, 1, 0, 1, 1,\n       0, 0, 0, 1, 1, 1, 1, 0, 1, 0, 1, 1, 1, 0, 0, 1, 0, 1, 1, 1, 0, 0,\n       0, 1, 1, 1, 0, 1, 1, 0, 1, 0, 0, 0, 0, 1, 1, 1, 1, 1, 1, 0, 1, 1,\n       0, 0, 1, 1, 1, 1, 0, 1, 0, 0, 1, 0, 1, 1, 1, 1, 0, 0, 0, 1, 0, 1,\n       1, 1, 1, 1, 1, 0, 1, 1, 1, 1, 1, 1, 0, 1, 1, 0, 0, 0, 1, 0, 0, 0,\n       0, 0, 1, 0, 1, 1, 0, 0, 0, 1, 1, 0, 1, 1, 1, 0, 1, 1, 0, 1, 1, 1,\n       1, 1, 0, 0, 1, 1, 1, 1, 0, 1, 0, 0, 1, 0, 1, 1, 1, 0, 0, 1, 1, 0,\n       1, 0, 1, 0, 1, 0, 1, 0, 1, 0, 1, 1, 0, 1, 1, 1, 1, 0, 0, 1, 1, 0,\n       0, 0, 1, 0, 1, 0, 1, 1, 1, 0, 1, 1, 0, 0, 0, 1, 1, 0, 0, 1, 0, 1,\n       1, 0, 0, 0, 1, 0, 0, 0, 0, 1, 0, 1, 1, 1, 1, 0, 1, 0, 0, 0, 0, 1,\n       0, 0, 1, 0, 0, 0, 0, 0, 0, 0, 1, 0, 0, 1, 0, 1, 1, 1, 1, 1, 0, 1,\n       1, 1, 0, 1, 1, 0, 1, 0, 1, 1, 1, 1, 0, 1, 1, 0, 0, 1, 1, 0, 1, 0,\n       0, 0, 1], dtype=int64)"
     },
     "execution_count": 109,
     "metadata": {},
     "output_type": "execute_result"
    }
   ],
   "source": [
    "# Análise dados de treino\n",
    "previsoes_treino = logistica.predict(x_treino)\n",
    "previsoes_treino"
   ],
   "metadata": {
    "collapsed": false,
    "ExecuteTime": {
     "end_time": "2024-04-06T17:46:58.320809Z",
     "start_time": "2024-04-06T17:46:58.292823Z"
    }
   },
   "id": "cf7da5cb5330a9d9",
   "execution_count": 109
  },
  {
   "cell_type": "code",
   "outputs": [
    {
     "data": {
      "text/plain": "0.8502340093603744"
     },
     "execution_count": 110,
     "metadata": {},
     "output_type": "execute_result"
    }
   ],
   "source": [
    "accuracy_score(y_treino, previsoes_treino)"
   ],
   "metadata": {
    "collapsed": false,
    "ExecuteTime": {
     "end_time": "2024-04-06T17:46:58.603041Z",
     "start_time": "2024-04-06T17:46:58.587473Z"
    }
   },
   "id": "2f62bd84912f4ed6",
   "execution_count": 110
  },
  {
   "cell_type": "code",
   "outputs": [
    {
     "data": {
      "text/plain": "array([[239,  50],\n       [ 46, 306]], dtype=int64)"
     },
     "execution_count": 111,
     "metadata": {},
     "output_type": "execute_result"
    }
   ],
   "source": [
    "confusion_matrix(y_treino, previsoes_treino)"
   ],
   "metadata": {
    "collapsed": false,
    "ExecuteTime": {
     "end_time": "2024-04-06T17:46:58.820008Z",
     "start_time": "2024-04-06T17:46:58.796018Z"
    }
   },
   "id": "2b570ce8d69a2a95",
   "execution_count": 111
  },
  {
   "cell_type": "code",
   "outputs": [],
   "source": [
    "# Validação Cruzada\n",
    "from sklearn.model_selection import KFold\n",
    "from sklearn.model_selection import cross_val_score"
   ],
   "metadata": {
    "collapsed": false,
    "ExecuteTime": {
     "end_time": "2024-04-06T17:46:59.073827Z",
     "start_time": "2024-04-06T17:46:59.065835Z"
    }
   },
   "id": "61724051d1228fa9",
   "execution_count": 112
  },
  {
   "cell_type": "code",
   "outputs": [],
   "source": [
    "# Separando os dados em folds\n",
    "kfold = KFold(n_splits=30, shuffle=True, random_state=5)"
   ],
   "metadata": {
    "collapsed": false,
    "ExecuteTime": {
     "end_time": "2024-04-06T17:46:59.358771Z",
     "start_time": "2024-04-06T17:46:59.337783Z"
    }
   },
   "id": "5eb0055fff787274",
   "execution_count": 113
  },
  {
   "cell_type": "code",
   "outputs": [
    {
     "data": {
      "text/plain": "array([0.93548387, 0.83870968, 0.90322581, 0.77419355, 0.87096774,\n       0.90322581, 0.70967742, 0.87096774, 0.83870968, 0.87096774,\n       0.87096774, 0.80645161, 0.96774194, 0.83870968, 0.80645161,\n       0.90322581, 0.80645161, 0.96666667, 0.96666667, 0.86666667,\n       0.83333333, 0.86666667, 0.86666667, 0.7       , 0.83333333,\n       0.93333333, 0.9       , 0.83333333, 0.83333333, 0.83333333])"
     },
     "execution_count": 114,
     "metadata": {},
     "output_type": "execute_result"
    }
   ],
   "source": [
    "# Criando o modelo\n",
    "modelo = LogisticRegression(random_state=1, max_iter=500, penalty=\"l2\", tol=0.0001, C=1, solver=\"lbfgs\") \n",
    "resultado = cross_val_score(modelo, previsores3_esc, alvo, cv=kfold)\n",
    "resultado"
   ],
   "metadata": {
    "collapsed": false,
    "ExecuteTime": {
     "end_time": "2024-04-06T17:46:59.768851Z",
     "start_time": "2024-04-06T17:46:59.463101Z"
    }
   },
   "id": "4ed6181656e72bd9",
   "execution_count": 114
  },
  {
   "cell_type": "code",
   "outputs": [
    {
     "name": "stdout",
     "output_type": "stream",
     "text": [
      "Acurácia Média: 85.83%\n"
     ]
    }
   ],
   "source": [
    "# Usando a média e o desvio padrão\n",
    "print(f'Acurácia Média: {resultado.mean()*100:.2f}%')"
   ],
   "metadata": {
    "collapsed": false,
    "ExecuteTime": {
     "end_time": "2024-04-06T17:46:59.799913Z",
     "start_time": "2024-04-06T17:46:59.787947Z"
    }
   },
   "id": "f17c081366680204",
   "execution_count": 115
  },
  {
   "cell_type": "markdown",
   "source": [
    "# 51. KNN (Aprendizagem Baseada em Instâncias)"
   ],
   "metadata": {
    "collapsed": false
   },
   "id": "c74490024ea6bc24"
  },
  {
   "cell_type": "code",
   "outputs": [
    {
     "data": {
      "text/plain": "'\\n> Algoritmo de classificação em aprendizagem supervisionada.\\n> KNN é a sigla de K Nearest Neighbors (K vizinhos mais próximos).\\n> O Knn realiza classificação de instâncias (dados) em classes.\\n> Não possuí um modelo matemático, apenas classifica uma instância através de cálculos de distâncias\\n\\nVantagens:\\n> Fácil implementação;\\n> Fácil entendimento;\\n> Excelente desempenho em situações de dados com características complexas;\\n> Poucos parâmetros para ajustar;\\n\\nDesvantagens:\\n> Alto custo computacional;\\n> Parâmetro k é ajustado na tentativa e erro;\\n'"
     },
     "execution_count": 116,
     "metadata": {},
     "output_type": "execute_result"
    }
   ],
   "source": [
    "# Aprendizagem baseada em instâncias (KNN)\n",
    "\"\"\"\n",
    "> Algoritmo de classificação em aprendizagem supervisionada.\n",
    "> KNN é a sigla de K Nearest Neighbors (K vizinhos mais próximos).\n",
    "> O Knn realiza classificação de instâncias (dados) em classes.\n",
    "> Não possuí um modelo matemático, apenas classifica uma instância através de cálculos de distâncias\n",
    "\n",
    "Vantagens:\n",
    "> Fácil implementação;\n",
    "> Fácil entendimento;\n",
    "> Excelente desempenho em situações de dados com características complexas;\n",
    "> Poucos parâmetros para ajustar;\n",
    "\n",
    "Desvantagens:\n",
    "> Alto custo computacional;\n",
    "> Parâmetro k é ajustado na tentativa e erro;\n",
    "\"\"\""
   ],
   "metadata": {
    "collapsed": false,
    "ExecuteTime": {
     "end_time": "2024-04-06T17:47:00.004342Z",
     "start_time": "2024-04-06T17:46:59.991349Z"
    }
   },
   "id": "ee3cb71a8d7d82b9",
   "execution_count": 116
  },
  {
   "cell_type": "markdown",
   "source": [
    "# 52. KNN no Python\n",
    "'https://scikit-learn.org/stable/modules/generated/sklearn.neighbors.KNeighborsClassifier.html'"
   ],
   "metadata": {
    "collapsed": false
   },
   "id": "589a0eccef3bae21"
  },
  {
   "cell_type": "code",
   "outputs": [],
   "source": [
    "from sklearn.neighbors import KNeighborsClassifier"
   ],
   "metadata": {
    "collapsed": false,
    "ExecuteTime": {
     "end_time": "2024-04-06T17:47:00.431913Z",
     "start_time": "2024-04-06T17:47:00.296444Z"
    }
   },
   "id": "5f8317b15f6e9eb5",
   "execution_count": 117
  },
  {
   "cell_type": "code",
   "outputs": [
    {
     "data": {
      "text/plain": "KNeighborsClassifier(n_neighbors=7, p=1)",
      "text/html": "<style>#sk-container-id-4 {color: black;}#sk-container-id-4 pre{padding: 0;}#sk-container-id-4 div.sk-toggleable {background-color: white;}#sk-container-id-4 label.sk-toggleable__label {cursor: pointer;display: block;width: 100%;margin-bottom: 0;padding: 0.3em;box-sizing: border-box;text-align: center;}#sk-container-id-4 label.sk-toggleable__label-arrow:before {content: \"▸\";float: left;margin-right: 0.25em;color: #696969;}#sk-container-id-4 label.sk-toggleable__label-arrow:hover:before {color: black;}#sk-container-id-4 div.sk-estimator:hover label.sk-toggleable__label-arrow:before {color: black;}#sk-container-id-4 div.sk-toggleable__content {max-height: 0;max-width: 0;overflow: hidden;text-align: left;background-color: #f0f8ff;}#sk-container-id-4 div.sk-toggleable__content pre {margin: 0.2em;color: black;border-radius: 0.25em;background-color: #f0f8ff;}#sk-container-id-4 input.sk-toggleable__control:checked~div.sk-toggleable__content {max-height: 200px;max-width: 100%;overflow: auto;}#sk-container-id-4 input.sk-toggleable__control:checked~label.sk-toggleable__label-arrow:before {content: \"▾\";}#sk-container-id-4 div.sk-estimator input.sk-toggleable__control:checked~label.sk-toggleable__label {background-color: #d4ebff;}#sk-container-id-4 div.sk-label input.sk-toggleable__control:checked~label.sk-toggleable__label {background-color: #d4ebff;}#sk-container-id-4 input.sk-hidden--visually {border: 0;clip: rect(1px 1px 1px 1px);clip: rect(1px, 1px, 1px, 1px);height: 1px;margin: -1px;overflow: hidden;padding: 0;position: absolute;width: 1px;}#sk-container-id-4 div.sk-estimator {font-family: monospace;background-color: #f0f8ff;border: 1px dotted black;border-radius: 0.25em;box-sizing: border-box;margin-bottom: 0.5em;}#sk-container-id-4 div.sk-estimator:hover {background-color: #d4ebff;}#sk-container-id-4 div.sk-parallel-item::after {content: \"\";width: 100%;border-bottom: 1px solid gray;flex-grow: 1;}#sk-container-id-4 div.sk-label:hover label.sk-toggleable__label {background-color: #d4ebff;}#sk-container-id-4 div.sk-serial::before {content: \"\";position: absolute;border-left: 1px solid gray;box-sizing: border-box;top: 0;bottom: 0;left: 50%;z-index: 0;}#sk-container-id-4 div.sk-serial {display: flex;flex-direction: column;align-items: center;background-color: white;padding-right: 0.2em;padding-left: 0.2em;position: relative;}#sk-container-id-4 div.sk-item {position: relative;z-index: 1;}#sk-container-id-4 div.sk-parallel {display: flex;align-items: stretch;justify-content: center;background-color: white;position: relative;}#sk-container-id-4 div.sk-item::before, #sk-container-id-4 div.sk-parallel-item::before {content: \"\";position: absolute;border-left: 1px solid gray;box-sizing: border-box;top: 0;bottom: 0;left: 50%;z-index: -1;}#sk-container-id-4 div.sk-parallel-item {display: flex;flex-direction: column;z-index: 1;position: relative;background-color: white;}#sk-container-id-4 div.sk-parallel-item:first-child::after {align-self: flex-end;width: 50%;}#sk-container-id-4 div.sk-parallel-item:last-child::after {align-self: flex-start;width: 50%;}#sk-container-id-4 div.sk-parallel-item:only-child::after {width: 0;}#sk-container-id-4 div.sk-dashed-wrapped {border: 1px dashed gray;margin: 0 0.4em 0.5em 0.4em;box-sizing: border-box;padding-bottom: 0.4em;background-color: white;}#sk-container-id-4 div.sk-label label {font-family: monospace;font-weight: bold;display: inline-block;line-height: 1.2em;}#sk-container-id-4 div.sk-label-container {text-align: center;}#sk-container-id-4 div.sk-container {/* jupyter's `normalize.less` sets `[hidden] { display: none; }` but bootstrap.min.css set `[hidden] { display: none !important; }` so we also need the `!important` here to be able to override the default hidden behavior on the sphinx rendered scikit-learn.org. See: https://github.com/scikit-learn/scikit-learn/issues/21755 */display: inline-block !important;position: relative;}#sk-container-id-4 div.sk-text-repr-fallback {display: none;}</style><div id=\"sk-container-id-4\" class=\"sk-top-container\"><div class=\"sk-text-repr-fallback\"><pre>KNeighborsClassifier(n_neighbors=7, p=1)</pre><b>In a Jupyter environment, please rerun this cell to show the HTML representation or trust the notebook. <br />On GitHub, the HTML representation is unable to render, please try loading this page with nbviewer.org.</b></div><div class=\"sk-container\" hidden><div class=\"sk-item\"><div class=\"sk-estimator sk-toggleable\"><input class=\"sk-toggleable__control sk-hidden--visually\" id=\"sk-estimator-id-4\" type=\"checkbox\" checked><label for=\"sk-estimator-id-4\" class=\"sk-toggleable__label sk-toggleable__label-arrow\">KNeighborsClassifier</label><div class=\"sk-toggleable__content\"><pre>KNeighborsClassifier(n_neighbors=7, p=1)</pre></div></div></div></div></div>"
     },
     "execution_count": 118,
     "metadata": {},
     "output_type": "execute_result"
    }
   ],
   "source": [
    "knn = KNeighborsClassifier(n_neighbors=7, metric='minkowski', p=1)\n",
    "knn.fit(x_treino, y_treino)"
   ],
   "metadata": {
    "collapsed": false,
    "ExecuteTime": {
     "end_time": "2024-04-06T17:47:00.607261Z",
     "start_time": "2024-04-06T17:47:00.582210Z"
    }
   },
   "id": "7ccea4ad7239ffda",
   "execution_count": 118
  },
  {
   "cell_type": "markdown",
   "source": [
    "'https://scikit-learn.org/stable/modules/generated/sklearn.metrics.DistanceMetric.html'"
   ],
   "metadata": {
    "collapsed": false
   },
   "id": "7ec8efdd721e4f8d"
  },
  {
   "cell_type": "code",
   "outputs": [
    {
     "data": {
      "text/plain": "array([1, 1, 1, 1, 1, 0, 0, 0, 0, 1, 1, 1, 1, 1, 1, 1, 1, 1, 0, 0, 1, 1,\n       1, 0, 0, 0, 1, 1, 0, 1, 1, 0, 0, 0, 1, 0, 0, 1, 1, 0, 0, 1, 1, 1,\n       1, 0, 0, 0, 1, 1, 1, 0, 1, 1, 1, 0, 0, 1, 1, 0, 1, 1, 0, 0, 1, 1,\n       1, 0, 1, 0, 1, 1, 1, 1, 1, 1, 1, 1, 1, 1, 0, 1, 0, 1, 1, 0, 1, 1,\n       0, 0, 1, 1, 0, 0, 1, 0, 1, 0, 1, 1, 0, 1, 1, 1, 0, 0, 0, 0, 0, 0,\n       1, 1, 1, 1, 0, 1, 0, 1, 1, 1, 1, 1, 1, 0, 0, 1, 1, 0, 0, 1, 0, 1,\n       1, 0, 1, 1, 1, 1, 1, 0, 1, 1, 0, 1, 0, 0, 1, 1, 0, 0, 0, 1, 1, 0,\n       1, 1, 1, 1, 0, 1, 1, 0, 1, 1, 1, 0, 1, 0, 1, 1, 1, 1, 0, 0, 0, 1,\n       1, 0, 1, 0, 1, 1, 1, 1, 0, 1, 1, 1, 1, 1, 0, 1, 1, 1, 1, 1, 0, 0,\n       1, 1, 1, 1, 0, 0, 1, 1, 0, 1, 1, 0, 0, 0, 0, 0, 0, 0, 1, 0, 1, 1,\n       1, 0, 1, 0, 1, 1, 0, 1, 1, 1, 0, 1, 1, 1, 0, 1, 0, 0, 0, 1, 1, 0,\n       1, 0, 0, 1, 0, 0, 1, 1, 1, 0, 1, 1, 0, 1, 1, 0, 0, 1, 1, 1, 0, 1,\n       0, 1, 0, 0, 0, 0, 0, 0, 0, 1, 0, 0], dtype=int64)"
     },
     "execution_count": 119,
     "metadata": {},
     "output_type": "execute_result"
    }
   ],
   "source": [
    "previsoes_knn = knn.predict(x_teste)\n",
    "previsoes_knn"
   ],
   "metadata": {
    "collapsed": false,
    "ExecuteTime": {
     "end_time": "2024-04-06T17:47:00.963834Z",
     "start_time": "2024-04-06T17:47:00.917516Z"
    }
   },
   "id": "6db85f2e05580f8c",
   "execution_count": 119
  },
  {
   "cell_type": "code",
   "outputs": [
    {
     "data": {
      "text/plain": "array([1, 0, 1, 0, 0, 0, 0, 0, 0, 0, 1, 0, 1, 1, 0, 1, 1, 1, 1, 0, 1, 1,\n       1, 0, 0, 0, 1, 1, 0, 0, 1, 0, 0, 0, 1, 0, 1, 0, 1, 0, 0, 1, 1, 1,\n       1, 0, 0, 1, 1, 1, 1, 0, 0, 1, 1, 0, 0, 0, 1, 0, 1, 1, 1, 0, 1, 1,\n       1, 0, 1, 0, 1, 1, 1, 1, 1, 1, 1, 1, 1, 0, 0, 1, 0, 0, 1, 1, 0, 1,\n       1, 0, 1, 0, 0, 1, 1, 0, 1, 0, 0, 0, 0, 1, 1, 1, 0, 1, 0, 0, 0, 1,\n       0, 1, 1, 1, 0, 1, 1, 1, 1, 1, 1, 1, 1, 0, 0, 1, 0, 1, 0, 1, 0, 1,\n       0, 1, 0, 0, 0, 1, 1, 0, 1, 1, 0, 1, 0, 0, 1, 1, 1, 0, 1, 1, 0, 0,\n       0, 0, 1, 1, 1, 0, 1, 1, 1, 0, 1, 0, 1, 0, 1, 0, 1, 1, 0, 0, 1, 0,\n       0, 1, 0, 1, 1, 1, 0, 1, 1, 1, 0, 1, 1, 0, 0, 0, 1, 1, 1, 1, 1, 0,\n       1, 0, 1, 1, 0, 1, 1, 0, 0, 0, 1, 0, 1, 1, 0, 1, 0, 1, 1, 1, 1, 1,\n       1, 1, 0, 0, 0, 1, 0, 1, 1, 1, 0, 1, 0, 1, 1, 1, 1, 1, 0, 1, 1, 0,\n       1, 0, 1, 0, 0, 0, 1, 0, 1, 0, 1, 1, 0, 0, 1, 0, 0, 1, 0, 1, 1, 0,\n       0, 0, 0, 0, 1, 0, 0, 1, 1, 1, 1, 1], dtype=int64)"
     },
     "execution_count": 120,
     "metadata": {},
     "output_type": "execute_result"
    }
   ],
   "source": [
    "y_teste"
   ],
   "metadata": {
    "collapsed": false,
    "ExecuteTime": {
     "end_time": "2024-04-06T17:47:01.279822Z",
     "start_time": "2024-04-06T17:47:01.254837Z"
    }
   },
   "id": "df04308c35a58cea",
   "execution_count": 120
  },
  {
   "cell_type": "code",
   "outputs": [],
   "source": [
    "from sklearn.metrics import accuracy_score, confusion_matrix, classification_report"
   ],
   "metadata": {
    "collapsed": false,
    "ExecuteTime": {
     "end_time": "2024-04-06T17:47:01.435970Z",
     "start_time": "2024-04-06T17:47:01.417475Z"
    }
   },
   "id": "474cf7ceade791df",
   "execution_count": 121
  },
  {
   "cell_type": "code",
   "outputs": [
    {
     "name": "stdout",
     "output_type": "stream",
     "text": [
      "Acurácia: 69.20%\n"
     ]
    }
   ],
   "source": [
    "print(f'''Acurácia: {accuracy_score(y_teste, previsoes_knn)*100:.2f}%''')"
   ],
   "metadata": {
    "collapsed": false,
    "ExecuteTime": {
     "end_time": "2024-04-06T17:47:01.736373Z",
     "start_time": "2024-04-06T17:47:01.714283Z"
    }
   },
   "id": "f78a121b25c34d1c",
   "execution_count": 122
  },
  {
   "cell_type": "code",
   "outputs": [
    {
     "data": {
      "text/plain": "array([[ 74,  47],\n       [ 38, 117]], dtype=int64)"
     },
     "execution_count": 123,
     "metadata": {},
     "output_type": "execute_result"
    }
   ],
   "source": [
    "confusion_matrix(y_teste, previsoes_knn)"
   ],
   "metadata": {
    "collapsed": false,
    "ExecuteTime": {
     "end_time": "2024-04-06T17:47:01.944555Z",
     "start_time": "2024-04-06T17:47:01.923055Z"
    }
   },
   "id": "e3e445c12dc08a43",
   "execution_count": 123
  },
  {
   "cell_type": "code",
   "outputs": [
    {
     "name": "stdout",
     "output_type": "stream",
     "text": [
      "              precision    recall  f1-score   support\n",
      "\n",
      "           0       0.66      0.61      0.64       121\n",
      "           1       0.71      0.75      0.73       155\n",
      "\n",
      "    accuracy                           0.69       276\n",
      "   macro avg       0.69      0.68      0.68       276\n",
      "weighted avg       0.69      0.69      0.69       276\n"
     ]
    }
   ],
   "source": [
    "print(classification_report(y_teste, previsoes_knn))"
   ],
   "metadata": {
    "collapsed": false,
    "ExecuteTime": {
     "end_time": "2024-04-06T17:47:02.086181Z",
     "start_time": "2024-04-06T17:47:02.056293Z"
    }
   },
   "id": "18f34f7ee6ed14b7",
   "execution_count": 124
  },
  {
   "cell_type": "code",
   "outputs": [
    {
     "data": {
      "text/plain": "array([1, 0, 1, 1, 1, 1, 1, 0, 0, 1, 1, 0, 1, 1, 1, 0, 0, 0, 0, 1, 0, 0,\n       1, 0, 1, 0, 0, 1, 1, 1, 1, 0, 1, 1, 0, 0, 1, 1, 0, 0, 0, 1, 0, 0,\n       1, 1, 0, 1, 1, 1, 0, 0, 1, 0, 1, 0, 1, 0, 1, 1, 0, 0, 1, 0, 1, 1,\n       1, 1, 1, 0, 1, 1, 1, 1, 0, 0, 0, 1, 0, 1, 1, 1, 1, 1, 0, 1, 1, 1,\n       1, 1, 1, 0, 0, 1, 1, 1, 1, 1, 1, 1, 1, 1, 1, 0, 1, 1, 1, 0, 0, 1,\n       0, 0, 1, 1, 1, 0, 1, 1, 0, 0, 0, 0, 0, 1, 1, 1, 1, 0, 1, 1, 1, 0,\n       1, 1, 0, 1, 0, 0, 1, 1, 0, 1, 1, 1, 1, 1, 0, 1, 1, 1, 1, 1, 1, 0,\n       1, 0, 1, 0, 1, 1, 1, 1, 0, 0, 1, 1, 1, 1, 0, 1, 0, 1, 1, 0, 1, 0,\n       0, 1, 1, 0, 1, 0, 0, 0, 0, 1, 1, 1, 1, 0, 0, 1, 1, 1, 0, 0, 1, 1,\n       1, 1, 1, 0, 0, 1, 1, 0, 0, 0, 0, 1, 0, 0, 1, 1, 1, 1, 1, 0, 1, 1,\n       1, 0, 0, 1, 1, 0, 1, 1, 1, 1, 1, 1, 1, 1, 1, 0, 1, 0, 1, 0, 1, 0,\n       1, 1, 0, 1, 1, 0, 1, 1, 1, 1, 0, 0, 0, 0, 0, 0, 0, 0, 1, 0, 1, 0,\n       1, 0, 1, 1, 1, 0, 0, 1, 1, 0, 0, 1, 1, 0, 0, 0, 1, 0, 0, 0, 1, 1,\n       0, 1, 1, 1, 1, 0, 1, 1, 1, 0, 0, 0, 0, 1, 1, 0, 0, 1, 0, 1, 1, 1,\n       1, 0, 1, 0, 0, 0, 1, 0, 1, 0, 1, 0, 0, 1, 1, 1, 0, 1, 0, 1, 1, 0,\n       0, 0, 1, 0, 0, 0, 0, 1, 0, 1, 1, 1, 1, 1, 1, 0, 1, 1, 0, 1, 0, 1,\n       0, 0, 1, 0, 0, 1, 1, 1, 0, 0, 0, 1, 1, 0, 0, 0, 0, 0, 1, 1, 1, 1,\n       1, 1, 1, 1, 1, 1, 1, 1, 0, 1, 0, 1, 0, 0, 1, 1, 0, 0, 1, 1, 1, 1,\n       0, 1, 1, 1, 0, 1, 1, 0, 1, 1, 1, 1, 1, 0, 0, 1, 0, 1, 1, 1, 0, 1,\n       1, 1, 1, 1, 1, 1, 1, 0, 1, 1, 1, 0, 0, 1, 1, 0, 1, 1, 1, 1, 1, 1,\n       0, 1, 1, 1, 0, 1, 0, 1, 1, 0, 1, 0, 1, 1, 1, 1, 0, 0, 0, 1, 0, 1,\n       1, 0, 1, 1, 1, 0, 1, 0, 1, 1, 1, 1, 0, 1, 1, 0, 0, 0, 0, 0, 0, 0,\n       0, 0, 1, 1, 1, 1, 0, 1, 0, 1, 1, 0, 1, 1, 1, 0, 1, 1, 0, 1, 1, 1,\n       1, 1, 0, 0, 0, 1, 0, 1, 0, 1, 1, 0, 1, 0, 1, 1, 1, 1, 0, 1, 1, 0,\n       1, 0, 0, 1, 1, 0, 1, 0, 0, 0, 0, 1, 0, 1, 0, 1, 1, 0, 0, 1, 0, 1,\n       0, 0, 1, 0, 1, 0, 1, 1, 1, 0, 1, 1, 1, 0, 0, 1, 1, 0, 1, 1, 0, 1,\n       1, 0, 1, 0, 1, 1, 0, 0, 0, 1, 1, 1, 1, 1, 0, 0, 1, 0, 1, 0, 0, 0,\n       0, 0, 1, 0, 0, 1, 1, 0, 0, 0, 1, 1, 0, 1, 1, 1, 1, 0, 0, 1, 0, 1,\n       1, 1, 0, 1, 1, 1, 1, 0, 1, 1, 1, 1, 0, 1, 1, 0, 0, 1, 1, 0, 1, 0,\n       1, 0, 1], dtype=int64)"
     },
     "execution_count": 125,
     "metadata": {},
     "output_type": "execute_result"
    }
   ],
   "source": [
    "# Análise dados de treino\n",
    "previsoes_treino = knn.predict(x_treino)\n",
    "previsoes_treino"
   ],
   "metadata": {
    "collapsed": false,
    "ExecuteTime": {
     "end_time": "2024-04-06T17:47:02.402604Z",
     "start_time": "2024-04-06T17:47:02.323188Z"
    }
   },
   "id": "b9f08ccb74a27e34",
   "execution_count": 125
  },
  {
   "cell_type": "code",
   "outputs": [
    {
     "data": {
      "text/plain": "0.7987519500780031"
     },
     "execution_count": 126,
     "metadata": {},
     "output_type": "execute_result"
    }
   ],
   "source": [
    "accuracy_score(y_treino, previsoes_treino)"
   ],
   "metadata": {
    "collapsed": false,
    "ExecuteTime": {
     "end_time": "2024-04-06T17:47:02.624703Z",
     "start_time": "2024-04-06T17:47:02.602335Z"
    }
   },
   "id": "b9b95dc808bb1ec9",
   "execution_count": 126
  },
  {
   "cell_type": "code",
   "outputs": [
    {
     "data": {
      "text/plain": "array([[210,  79],\n       [ 50, 302]], dtype=int64)"
     },
     "execution_count": 127,
     "metadata": {},
     "output_type": "execute_result"
    }
   ],
   "source": [
    "confusion_matrix(y_treino, previsoes_treino)"
   ],
   "metadata": {
    "collapsed": false,
    "ExecuteTime": {
     "end_time": "2024-04-06T17:47:02.796719Z",
     "start_time": "2024-04-06T17:47:02.773010Z"
    }
   },
   "id": "f8738105d50905ac",
   "execution_count": 127
  },
  {
   "cell_type": "code",
   "outputs": [],
   "source": [
    "# Validação Cruzada\n",
    "from sklearn.model_selection import KFold\n",
    "from sklearn.model_selection import cross_val_score"
   ],
   "metadata": {
    "collapsed": false,
    "ExecuteTime": {
     "end_time": "2024-04-06T17:47:03.065849Z",
     "start_time": "2024-04-06T17:47:03.057854Z"
    }
   },
   "id": "51c89a1004f0f032",
   "execution_count": 128
  },
  {
   "cell_type": "code",
   "outputs": [],
   "source": [
    "# Separando os dados em folds\n",
    "kfold = KFold(n_splits=30, shuffle=True, random_state=5)"
   ],
   "metadata": {
    "collapsed": false,
    "ExecuteTime": {
     "end_time": "2024-04-06T17:47:03.303350Z",
     "start_time": "2024-04-06T17:47:03.293356Z"
    }
   },
   "id": "b5b8a6d499846d05",
   "execution_count": 129
  },
  {
   "cell_type": "code",
   "outputs": [
    {
     "data": {
      "text/plain": "array([0.96774194, 0.80645161, 0.83870968, 0.83870968, 0.83870968,\n       0.87096774, 0.67741935, 0.87096774, 0.80645161, 0.90322581,\n       0.83870968, 0.77419355, 0.96774194, 0.90322581, 0.87096774,\n       0.87096774, 0.83870968, 0.9       , 0.93333333, 0.96666667,\n       0.8       , 0.83333333, 0.86666667, 0.73333333, 0.8       ,\n       0.93333333, 0.9       , 0.9       , 0.86666667, 0.83333333])"
     },
     "execution_count": 130,
     "metadata": {},
     "output_type": "execute_result"
    }
   ],
   "source": [
    "# Criando o modelo\n",
    "modelo = KNeighborsClassifier(n_neighbors=7, metric='minkowski', p=1)\n",
    "resultado = cross_val_score(modelo, previsores3_esc, alvo, cv=kfold)\n",
    "resultado"
   ],
   "metadata": {
    "collapsed": false,
    "ExecuteTime": {
     "end_time": "2024-04-06T17:47:04.946601Z",
     "start_time": "2024-04-06T17:47:03.483279Z"
    }
   },
   "id": "ec8c5131fd909ca2",
   "execution_count": 130
  },
  {
   "cell_type": "code",
   "outputs": [
    {
     "name": "stdout",
     "output_type": "stream",
     "text": [
      "Acurácia Média: 85.84%\n"
     ]
    }
   ],
   "source": [
    "# Usando a média e o desvio padrão\n",
    "print(f'Acurácia Média: {resultado.mean()*100:.2f}%')"
   ],
   "metadata": {
    "collapsed": false,
    "ExecuteTime": {
     "end_time": "2024-04-06T17:47:04.962593Z",
     "start_time": "2024-04-06T17:47:04.949599Z"
    }
   },
   "id": "cd2b9751639ee373",
   "execution_count": 131
  },
  {
   "cell_type": "markdown",
   "source": [
    "# 53. Árvore de Decisão: Teoria"
   ],
   "metadata": {
    "collapsed": false
   },
   "id": "c934809ebc41eaba"
  },
  {
   "cell_type": "code",
   "outputs": [
    {
     "data": {
      "text/plain": "'\\n> Aplicado em problemas de aprendizagem supervisionada tanto de classificação (mais utilizado) como de regressão.\\n> Seleciona a ordem que os atributos irão aparecer na árvore, sempre de cima para baixo, conforme sua importância para a predição, assim como determina a separação dos ramos da árvore.\\n> Para determinar o nível de importância de um atributo, denominado de ganho de informação, utiliza-se de várias métricas, sendo que as mais e aplicadas são a entropia (medida da falta de homogeneidade) e o índice de Gini (medida do grau de heterogeneidade).\\n> Cálculo da Entropia (E):\\n    E(S) = -∑ p(xi)log2p(xi), onde \\n        p(xi) = probabilidade de ocorrer os atributos nos dados.\\n        n = número de classes que pode ser atingida.\\n> Cálculo do índice de Gini (Gi):\\n    Gi(S) = 1 - ∑ p(xi)^2, onde \\n        p(xi) = probabilidade de ocorrer os atributos nos dados.\\n        n = número de classes que pode ser atingida.\\n> Cálculo do ganho de informação (G):\\n    G(S, A) = E(S) - ∑ p(a)*P(i|a) * log2(P(i|a)), onde\\n        p(a) = probabilidade de ocorrer o atributo a nos dados.\\n        p(i|a) = probabilidade de i ocorrer, dado que a já tenha ocorrido.\\n        n = número de classes que pode ser atingida.\\n        \\nPodagem das Árvores\\n> Objetiva a probabilidade de overfitting\\n> Processo de podagem:\\n    - percorre a árvore em profundidade.\\n    - para cada nó de decisão calcula o erro no nó e a soma dos erros nos nós descendentes.\\n    - se o erro do nó é menor ou igual à soma dos erros dos nós descendentes, então o nó é transformado em folha.\\n    \\nVantagens:\\n> Fácil entendimento e interpretação.\\n> Normalmente não necessitam de preparações sofisticadas nos dados (label Encoder e OneHotEncoder).\\n> Trabalha com valores faltantes, variáveis categóricas e numéricas.\\n> Atua com dados não linearmente separáveis.\\n\\nDesvantagens:\\n> Sujeito a problemas de overfitting.\\n> Os modelos são instáveis (possuem alta variância).\\n> Não garante a construção da melhor estrutura para os dados de treino em questão (Necessita treinar várias árvores distintas).\\n'"
     },
     "execution_count": 132,
     "metadata": {},
     "output_type": "execute_result"
    }
   ],
   "source": [
    "# Decision Tree\n",
    "\"\"\"\n",
    "> Aplicado em problemas de aprendizagem supervisionada tanto de classificação (mais utilizado) como de regressão.\n",
    "> Seleciona a ordem que os atributos irão aparecer na árvore, sempre de cima para baixo, conforme sua importância para a predição, assim como determina a separação dos ramos da árvore.\n",
    "> Para determinar o nível de importância de um atributo, denominado de ganho de informação, utiliza-se de várias métricas, sendo que as mais e aplicadas são a entropia (medida da falta de homogeneidade) e o índice de Gini (medida do grau de heterogeneidade).\n",
    "> Cálculo da Entropia (E):\n",
    "    E(S) = -∑ p(xi)log2p(xi), onde \n",
    "        p(xi) = probabilidade de ocorrer os atributos nos dados.\n",
    "        n = número de classes que pode ser atingida.\n",
    "> Cálculo do índice de Gini (Gi):\n",
    "    Gi(S) = 1 - ∑ p(xi)^2, onde \n",
    "        p(xi) = probabilidade de ocorrer os atributos nos dados.\n",
    "        n = número de classes que pode ser atingida.\n",
    "> Cálculo do ganho de informação (G):\n",
    "    G(S, A) = E(S) - ∑ p(a)*P(i|a) * log2(P(i|a)), onde\n",
    "        p(a) = probabilidade de ocorrer o atributo a nos dados.\n",
    "        p(i|a) = probabilidade de i ocorrer, dado que a já tenha ocorrido.\n",
    "        n = número de classes que pode ser atingida.\n",
    "        \n",
    "Podagem das Árvores\n",
    "> Objetiva a probabilidade de overfitting\n",
    "> Processo de podagem:\n",
    "    - percorre a árvore em profundidade.\n",
    "    - para cada nó de decisão calcula o erro no nó e a soma dos erros nos nós descendentes.\n",
    "    - se o erro do nó é menor ou igual à soma dos erros dos nós descendentes, então o nó é transformado em folha.\n",
    "    \n",
    "Vantagens:\n",
    "> Fácil entendimento e interpretação.\n",
    "> Normalmente não necessitam de preparações sofisticadas nos dados (label Encoder e OneHotEncoder).\n",
    "> Trabalha com valores faltantes, variáveis categóricas e numéricas.\n",
    "> Atua com dados não linearmente separáveis.\n",
    "\n",
    "Desvantagens:\n",
    "> Sujeito a problemas de overfitting.\n",
    "> Os modelos são instáveis (possuem alta variância).\n",
    "> Não garante a construção da melhor estrutura para os dados de treino em questão (Necessita treinar várias árvores distintas).\n",
    "\"\"\""
   ],
   "metadata": {
    "collapsed": false,
    "ExecuteTime": {
     "end_time": "2024-04-06T17:47:04.994192Z",
     "start_time": "2024-04-06T17:47:04.965207Z"
    }
   },
   "id": "2cedf1cc84985929",
   "execution_count": 132
  },
  {
   "cell_type": "markdown",
   "source": [
    "# 54. Árvore de Decisão no Python"
   ],
   "metadata": {
    "collapsed": false
   },
   "id": "696be9cbb0ca6a2c"
  },
  {
   "cell_type": "code",
   "outputs": [
    {
     "data": {
      "text/plain": "'\\nhttps://scikit-learn.org/stable/modules/tree.html\\n'"
     },
     "execution_count": 133,
     "metadata": {},
     "output_type": "execute_result"
    }
   ],
   "source": [
    "# Árvore de Decisão\n",
    "\"\"\"\n",
    "https://scikit-learn.org/stable/modules/tree.html\n",
    "\"\"\""
   ],
   "metadata": {
    "collapsed": false,
    "ExecuteTime": {
     "end_time": "2024-04-06T17:47:05.010179Z",
     "start_time": "2024-04-06T17:47:04.997188Z"
    }
   },
   "id": "f8fce91deb07fb2a",
   "execution_count": 133
  },
  {
   "cell_type": "code",
   "outputs": [],
   "source": [
    "from sklearn.tree import DecisionTreeClassifier"
   ],
   "metadata": {
    "collapsed": false,
    "ExecuteTime": {
     "end_time": "2024-04-06T17:47:05.105636Z",
     "start_time": "2024-04-06T17:47:05.015184Z"
    }
   },
   "id": "18a158312f47f060",
   "execution_count": 134
  },
  {
   "cell_type": "code",
   "outputs": [
    {
     "data": {
      "text/plain": "DecisionTreeClassifier(criterion='entropy', max_depth=3, random_state=0)",
      "text/html": "<style>#sk-container-id-5 {color: black;}#sk-container-id-5 pre{padding: 0;}#sk-container-id-5 div.sk-toggleable {background-color: white;}#sk-container-id-5 label.sk-toggleable__label {cursor: pointer;display: block;width: 100%;margin-bottom: 0;padding: 0.3em;box-sizing: border-box;text-align: center;}#sk-container-id-5 label.sk-toggleable__label-arrow:before {content: \"▸\";float: left;margin-right: 0.25em;color: #696969;}#sk-container-id-5 label.sk-toggleable__label-arrow:hover:before {color: black;}#sk-container-id-5 div.sk-estimator:hover label.sk-toggleable__label-arrow:before {color: black;}#sk-container-id-5 div.sk-toggleable__content {max-height: 0;max-width: 0;overflow: hidden;text-align: left;background-color: #f0f8ff;}#sk-container-id-5 div.sk-toggleable__content pre {margin: 0.2em;color: black;border-radius: 0.25em;background-color: #f0f8ff;}#sk-container-id-5 input.sk-toggleable__control:checked~div.sk-toggleable__content {max-height: 200px;max-width: 100%;overflow: auto;}#sk-container-id-5 input.sk-toggleable__control:checked~label.sk-toggleable__label-arrow:before {content: \"▾\";}#sk-container-id-5 div.sk-estimator input.sk-toggleable__control:checked~label.sk-toggleable__label {background-color: #d4ebff;}#sk-container-id-5 div.sk-label input.sk-toggleable__control:checked~label.sk-toggleable__label {background-color: #d4ebff;}#sk-container-id-5 input.sk-hidden--visually {border: 0;clip: rect(1px 1px 1px 1px);clip: rect(1px, 1px, 1px, 1px);height: 1px;margin: -1px;overflow: hidden;padding: 0;position: absolute;width: 1px;}#sk-container-id-5 div.sk-estimator {font-family: monospace;background-color: #f0f8ff;border: 1px dotted black;border-radius: 0.25em;box-sizing: border-box;margin-bottom: 0.5em;}#sk-container-id-5 div.sk-estimator:hover {background-color: #d4ebff;}#sk-container-id-5 div.sk-parallel-item::after {content: \"\";width: 100%;border-bottom: 1px solid gray;flex-grow: 1;}#sk-container-id-5 div.sk-label:hover label.sk-toggleable__label {background-color: #d4ebff;}#sk-container-id-5 div.sk-serial::before {content: \"\";position: absolute;border-left: 1px solid gray;box-sizing: border-box;top: 0;bottom: 0;left: 50%;z-index: 0;}#sk-container-id-5 div.sk-serial {display: flex;flex-direction: column;align-items: center;background-color: white;padding-right: 0.2em;padding-left: 0.2em;position: relative;}#sk-container-id-5 div.sk-item {position: relative;z-index: 1;}#sk-container-id-5 div.sk-parallel {display: flex;align-items: stretch;justify-content: center;background-color: white;position: relative;}#sk-container-id-5 div.sk-item::before, #sk-container-id-5 div.sk-parallel-item::before {content: \"\";position: absolute;border-left: 1px solid gray;box-sizing: border-box;top: 0;bottom: 0;left: 50%;z-index: -1;}#sk-container-id-5 div.sk-parallel-item {display: flex;flex-direction: column;z-index: 1;position: relative;background-color: white;}#sk-container-id-5 div.sk-parallel-item:first-child::after {align-self: flex-end;width: 50%;}#sk-container-id-5 div.sk-parallel-item:last-child::after {align-self: flex-start;width: 50%;}#sk-container-id-5 div.sk-parallel-item:only-child::after {width: 0;}#sk-container-id-5 div.sk-dashed-wrapped {border: 1px dashed gray;margin: 0 0.4em 0.5em 0.4em;box-sizing: border-box;padding-bottom: 0.4em;background-color: white;}#sk-container-id-5 div.sk-label label {font-family: monospace;font-weight: bold;display: inline-block;line-height: 1.2em;}#sk-container-id-5 div.sk-label-container {text-align: center;}#sk-container-id-5 div.sk-container {/* jupyter's `normalize.less` sets `[hidden] { display: none; }` but bootstrap.min.css set `[hidden] { display: none !important; }` so we also need the `!important` here to be able to override the default hidden behavior on the sphinx rendered scikit-learn.org. See: https://github.com/scikit-learn/scikit-learn/issues/21755 */display: inline-block !important;position: relative;}#sk-container-id-5 div.sk-text-repr-fallback {display: none;}</style><div id=\"sk-container-id-5\" class=\"sk-top-container\"><div class=\"sk-text-repr-fallback\"><pre>DecisionTreeClassifier(criterion=&#x27;entropy&#x27;, max_depth=3, random_state=0)</pre><b>In a Jupyter environment, please rerun this cell to show the HTML representation or trust the notebook. <br />On GitHub, the HTML representation is unable to render, please try loading this page with nbviewer.org.</b></div><div class=\"sk-container\" hidden><div class=\"sk-item\"><div class=\"sk-estimator sk-toggleable\"><input class=\"sk-toggleable__control sk-hidden--visually\" id=\"sk-estimator-id-5\" type=\"checkbox\" checked><label for=\"sk-estimator-id-5\" class=\"sk-toggleable__label sk-toggleable__label-arrow\">DecisionTreeClassifier</label><div class=\"sk-toggleable__content\"><pre>DecisionTreeClassifier(criterion=&#x27;entropy&#x27;, max_depth=3, random_state=0)</pre></div></div></div></div></div>"
     },
     "execution_count": 135,
     "metadata": {},
     "output_type": "execute_result"
    }
   ],
   "source": [
    "arvore = DecisionTreeClassifier(criterion='entropy', random_state=0, max_depth=3)\n",
    "arvore.fit(x_treino, y_treino)"
   ],
   "metadata": {
    "collapsed": false,
    "ExecuteTime": {
     "end_time": "2024-04-06T17:47:05.121630Z",
     "start_time": "2024-04-06T17:47:05.107634Z"
    }
   },
   "id": "a91ab6c6c49f20dc",
   "execution_count": 135
  },
  {
   "cell_type": "code",
   "outputs": [
    {
     "data": {
      "text/plain": "array([1, 1, 1, 0, 0, 0, 1, 0, 0, 0, 1, 1, 1, 1, 0, 1, 1, 1, 1, 0, 1, 1,\n       0, 0, 0, 0, 1, 1, 0, 1, 1, 0, 0, 0, 1, 0, 0, 0, 1, 0, 0, 1, 1, 1,\n       1, 0, 0, 1, 0, 1, 1, 0, 0, 0, 1, 0, 0, 0, 0, 0, 1, 1, 0, 0, 1, 1,\n       1, 0, 1, 0, 1, 1, 0, 1, 1, 1, 0, 1, 1, 1, 1, 1, 0, 0, 1, 1, 1, 1,\n       1, 0, 1, 0, 0, 0, 0, 0, 1, 0, 0, 0, 0, 1, 1, 1, 0, 1, 0, 0, 0, 0,\n       0, 1, 1, 1, 0, 1, 1, 1, 1, 1, 1, 1, 1, 0, 0, 1, 0, 1, 0, 1, 0, 1,\n       1, 1, 0, 0, 0, 1, 0, 0, 0, 1, 0, 1, 0, 0, 1, 0, 1, 0, 0, 1, 1, 0,\n       1, 0, 1, 0, 1, 0, 1, 0, 1, 0, 1, 0, 1, 0, 1, 0, 1, 0, 0, 0, 1, 1,\n       1, 0, 0, 1, 1, 1, 0, 1, 1, 1, 0, 1, 1, 0, 1, 0, 1, 0, 1, 0, 0, 0,\n       1, 0, 1, 1, 0, 1, 1, 0, 0, 0, 1, 0, 1, 1, 0, 0, 0, 0, 1, 0, 1, 1,\n       1, 1, 0, 1, 1, 1, 0, 1, 1, 1, 0, 1, 1, 1, 0, 1, 0, 1, 0, 1, 1, 0,\n       1, 0, 0, 0, 0, 0, 1, 0, 1, 0, 1, 0, 0, 0, 1, 0, 0, 1, 0, 1, 1, 0,\n       0, 0, 0, 0, 1, 0, 0, 1, 1, 1, 1, 1], dtype=int64)"
     },
     "execution_count": 136,
     "metadata": {},
     "output_type": "execute_result"
    }
   ],
   "source": [
    "previsoes_arvore = arvore.predict(x_teste)\n",
    "previsoes_arvore"
   ],
   "metadata": {
    "collapsed": false,
    "ExecuteTime": {
     "end_time": "2024-04-06T17:47:05.137135Z",
     "start_time": "2024-04-06T17:47:05.124628Z"
    }
   },
   "id": "1837a123fb75309",
   "execution_count": 136
  },
  {
   "cell_type": "code",
   "outputs": [
    {
     "data": {
      "text/plain": "array([1, 0, 1, 0, 0, 0, 0, 0, 0, 0, 1, 0, 1, 1, 0, 1, 1, 1, 1, 0, 1, 1,\n       1, 0, 0, 0, 1, 1, 0, 0, 1, 0, 0, 0, 1, 0, 1, 0, 1, 0, 0, 1, 1, 1,\n       1, 0, 0, 1, 1, 1, 1, 0, 0, 1, 1, 0, 0, 0, 1, 0, 1, 1, 1, 0, 1, 1,\n       1, 0, 1, 0, 1, 1, 1, 1, 1, 1, 1, 1, 1, 0, 0, 1, 0, 0, 1, 1, 0, 1,\n       1, 0, 1, 0, 0, 1, 1, 0, 1, 0, 0, 0, 0, 1, 1, 1, 0, 1, 0, 0, 0, 1,\n       0, 1, 1, 1, 0, 1, 1, 1, 1, 1, 1, 1, 1, 0, 0, 1, 0, 1, 0, 1, 0, 1,\n       0, 1, 0, 0, 0, 1, 1, 0, 1, 1, 0, 1, 0, 0, 1, 1, 1, 0, 1, 1, 0, 0,\n       0, 0, 1, 1, 1, 0, 1, 1, 1, 0, 1, 0, 1, 0, 1, 0, 1, 1, 0, 0, 1, 0,\n       0, 1, 0, 1, 1, 1, 0, 1, 1, 1, 0, 1, 1, 0, 0, 0, 1, 1, 1, 1, 1, 0,\n       1, 0, 1, 1, 0, 1, 1, 0, 0, 0, 1, 0, 1, 1, 0, 1, 0, 1, 1, 1, 1, 1,\n       1, 1, 0, 0, 0, 1, 0, 1, 1, 1, 0, 1, 0, 1, 1, 1, 1, 1, 0, 1, 1, 0,\n       1, 0, 1, 0, 0, 0, 1, 0, 1, 0, 1, 1, 0, 0, 1, 0, 0, 1, 0, 1, 1, 0,\n       0, 0, 0, 0, 1, 0, 0, 1, 1, 1, 1, 1], dtype=int64)"
     },
     "execution_count": 137,
     "metadata": {},
     "output_type": "execute_result"
    }
   ],
   "source": [
    "y_teste"
   ],
   "metadata": {
    "collapsed": false,
    "ExecuteTime": {
     "end_time": "2024-04-06T17:47:05.152505Z",
     "start_time": "2024-04-06T17:47:05.139691Z"
    }
   },
   "id": "191d590647aef759",
   "execution_count": 137
  },
  {
   "cell_type": "code",
   "outputs": [],
   "source": [
    "from sklearn.metrics import accuracy_score, confusion_matrix, classification_report"
   ],
   "metadata": {
    "collapsed": false,
    "ExecuteTime": {
     "end_time": "2024-04-06T17:47:05.168599Z",
     "start_time": "2024-04-06T17:47:05.155495Z"
    }
   },
   "id": "94f660963bfc54f7",
   "execution_count": 138
  },
  {
   "cell_type": "code",
   "outputs": [
    {
     "name": "stdout",
     "output_type": "stream",
     "text": [
      "Acurácia: 83.70%\n"
     ]
    }
   ],
   "source": [
    "print(f'''Acurácia: {accuracy_score(y_teste, previsoes_arvore)*100:.2f}%''')"
   ],
   "metadata": {
    "collapsed": false,
    "ExecuteTime": {
     "end_time": "2024-04-06T17:47:05.184206Z",
     "start_time": "2024-04-06T17:47:05.171213Z"
    }
   },
   "id": "18a805701a91ac9",
   "execution_count": 139
  },
  {
   "cell_type": "code",
   "outputs": [
    {
     "data": {
      "text/plain": "array([[105,  16],\n       [ 29, 126]], dtype=int64)"
     },
     "execution_count": 140,
     "metadata": {},
     "output_type": "execute_result"
    }
   ],
   "source": [
    "confusion_matrix(y_teste, previsoes_arvore)"
   ],
   "metadata": {
    "collapsed": false,
    "ExecuteTime": {
     "end_time": "2024-04-06T17:47:05.199194Z",
     "start_time": "2024-04-06T17:47:05.187204Z"
    }
   },
   "id": "3b5cfaa9f847c207",
   "execution_count": 140
  },
  {
   "cell_type": "code",
   "outputs": [
    {
     "name": "stdout",
     "output_type": "stream",
     "text": [
      "              precision    recall  f1-score   support\n",
      "\n",
      "           0       0.78      0.87      0.82       121\n",
      "           1       0.89      0.81      0.85       155\n",
      "\n",
      "    accuracy                           0.84       276\n",
      "   macro avg       0.84      0.84      0.84       276\n",
      "weighted avg       0.84      0.84      0.84       276\n"
     ]
    }
   ],
   "source": [
    "print(classification_report(y_teste, previsoes_arvore))"
   ],
   "metadata": {
    "collapsed": false,
    "ExecuteTime": {
     "end_time": "2024-04-06T17:47:05.230694Z",
     "start_time": "2024-04-06T17:47:05.201194Z"
    }
   },
   "id": "41a0bb1193945b87",
   "execution_count": 141
  },
  {
   "cell_type": "code",
   "outputs": [
    {
     "data": {
      "text/plain": "array([1, 0, 1, 1, 1, 0, 0, 0, 0, 0, 1, 0, 1, 1, 1, 0, 0, 0, 0, 1, 0, 1,\n       1, 1, 1, 0, 0, 1, 0, 1, 1, 0, 1, 1, 0, 0, 0, 1, 0, 1, 0, 1, 0, 0,\n       1, 1, 0, 1, 1, 1, 1, 0, 1, 0, 1, 0, 1, 0, 1, 0, 0, 0, 0, 0, 1, 1,\n       0, 1, 1, 0, 0, 1, 1, 1, 0, 0, 0, 1, 0, 1, 1, 1, 1, 1, 0, 1, 1, 1,\n       1, 1, 0, 0, 0, 0, 1, 1, 1, 1, 1, 1, 0, 0, 0, 1, 1, 1, 1, 0, 0, 1,\n       0, 0, 1, 0, 1, 0, 1, 0, 1, 0, 0, 0, 0, 1, 0, 1, 0, 0, 1, 1, 1, 0,\n       0, 1, 0, 0, 1, 0, 1, 1, 0, 1, 1, 1, 1, 1, 1, 0, 0, 1, 1, 0, 1, 0,\n       1, 0, 1, 1, 1, 0, 1, 0, 0, 0, 0, 0, 1, 0, 0, 0, 0, 1, 1, 0, 1, 1,\n       0, 1, 1, 0, 0, 0, 0, 0, 0, 1, 1, 1, 1, 0, 0, 0, 1, 0, 0, 1, 1, 1,\n       1, 1, 0, 0, 0, 1, 1, 0, 0, 1, 1, 0, 0, 0, 1, 1, 1, 1, 1, 0, 0, 1,\n       1, 0, 0, 1, 1, 0, 1, 1, 1, 1, 1, 1, 0, 1, 1, 0, 1, 0, 1, 0, 1, 0,\n       1, 1, 1, 0, 1, 1, 1, 1, 1, 1, 0, 0, 0, 0, 0, 0, 0, 0, 0, 0, 1, 0,\n       1, 0, 1, 0, 1, 0, 1, 1, 0, 0, 0, 1, 1, 0, 0, 0, 1, 0, 0, 0, 1, 1,\n       0, 0, 1, 1, 1, 0, 1, 1, 1, 1, 0, 0, 0, 1, 1, 0, 0, 1, 0, 0, 1, 1,\n       1, 0, 1, 0, 0, 0, 1, 0, 1, 0, 1, 0, 1, 1, 1, 1, 0, 1, 1, 1, 1, 0,\n       0, 0, 1, 0, 0, 0, 1, 1, 0, 1, 1, 1, 1, 1, 1, 1, 1, 1, 0, 1, 0, 1,\n       0, 0, 0, 1, 0, 0, 1, 1, 0, 0, 0, 1, 1, 0, 0, 0, 0, 0, 1, 1, 0, 1,\n       0, 1, 1, 1, 0, 0, 1, 1, 0, 1, 0, 1, 0, 0, 0, 1, 0, 0, 1, 0, 1, 1,\n       0, 0, 1, 1, 1, 1, 1, 0, 1, 0, 1, 1, 1, 0, 0, 1, 0, 1, 1, 1, 0, 0,\n       0, 1, 1, 0, 0, 1, 1, 0, 0, 1, 0, 0, 0, 1, 1, 0, 1, 1, 1, 0, 1, 1,\n       0, 0, 1, 1, 0, 1, 0, 1, 0, 0, 1, 0, 1, 1, 1, 1, 0, 0, 1, 1, 0, 1,\n       1, 1, 1, 1, 1, 0, 1, 0, 1, 1, 1, 1, 0, 1, 1, 0, 0, 0, 1, 0, 0, 0,\n       0, 0, 1, 0, 1, 1, 1, 0, 0, 1, 1, 0, 1, 1, 1, 0, 1, 1, 0, 0, 1, 1,\n       1, 1, 0, 0, 1, 1, 0, 1, 0, 1, 0, 0, 0, 0, 1, 1, 0, 1, 0, 1, 1, 0,\n       1, 0, 1, 0, 1, 0, 1, 0, 0, 0, 1, 1, 0, 1, 1, 0, 1, 0, 0, 1, 1, 0,\n       0, 0, 1, 0, 1, 0, 1, 1, 1, 0, 1, 1, 1, 0, 0, 0, 1, 0, 0, 1, 0, 1,\n       1, 1, 0, 0, 1, 0, 0, 1, 0, 1, 0, 1, 1, 1, 1, 0, 1, 0, 0, 0, 0, 0,\n       0, 0, 0, 0, 0, 1, 0, 0, 0, 0, 1, 0, 1, 1, 0, 1, 1, 1, 1, 1, 0, 1,\n       1, 1, 0, 1, 1, 0, 1, 0, 1, 1, 0, 1, 0, 1, 1, 0, 0, 1, 1, 0, 1, 0,\n       1, 0, 1], dtype=int64)"
     },
     "execution_count": 142,
     "metadata": {},
     "output_type": "execute_result"
    }
   ],
   "source": [
    "# Análise dados de treino\n",
    "previsoes_treino = arvore.predict(x_treino)\n",
    "previsoes_treino"
   ],
   "metadata": {
    "collapsed": false,
    "ExecuteTime": {
     "end_time": "2024-04-06T17:47:05.262672Z",
     "start_time": "2024-04-06T17:47:05.234690Z"
    }
   },
   "id": "733ab559272e2498",
   "execution_count": 142
  },
  {
   "cell_type": "code",
   "outputs": [
    {
     "data": {
      "text/plain": "0.8517940717628705"
     },
     "execution_count": 143,
     "metadata": {},
     "output_type": "execute_result"
    }
   ],
   "source": [
    "accuracy_score(y_treino, previsoes_treino)"
   ],
   "metadata": {
    "collapsed": false,
    "ExecuteTime": {
     "end_time": "2024-04-06T17:47:05.278663Z",
     "start_time": "2024-04-06T17:47:05.268669Z"
    }
   },
   "id": "bb20605f9f8a4bc4",
   "execution_count": 143
  },
  {
   "cell_type": "code",
   "outputs": [
    {
     "data": {
      "text/plain": "array([[249,  40],\n       [ 55, 297]], dtype=int64)"
     },
     "execution_count": 144,
     "metadata": {},
     "output_type": "execute_result"
    }
   ],
   "source": [
    "confusion_matrix(y_treino, previsoes_treino)"
   ],
   "metadata": {
    "collapsed": false,
    "ExecuteTime": {
     "end_time": "2024-04-06T17:47:05.293654Z",
     "start_time": "2024-04-06T17:47:05.280660Z"
    }
   },
   "id": "3fb2c955c62946a8",
   "execution_count": 144
  },
  {
   "cell_type": "code",
   "outputs": [],
   "source": [
    "# Validação Cruzada\n",
    "from sklearn.model_selection import KFold\n",
    "from sklearn.model_selection import cross_val_score"
   ],
   "metadata": {
    "collapsed": false,
    "ExecuteTime": {
     "end_time": "2024-04-06T17:47:05.309643Z",
     "start_time": "2024-04-06T17:47:05.295653Z"
    }
   },
   "id": "3fb2584bf9f60dbd",
   "execution_count": 145
  },
  {
   "cell_type": "code",
   "outputs": [],
   "source": [
    "# Separando os dados em folds\n",
    "kfold = KFold(n_splits=30, shuffle=True, random_state=5)"
   ],
   "metadata": {
    "collapsed": false,
    "ExecuteTime": {
     "end_time": "2024-04-06T17:47:05.325636Z",
     "start_time": "2024-04-06T17:47:05.312642Z"
    }
   },
   "id": "a09c288f8769eb2d",
   "execution_count": 146
  },
  {
   "cell_type": "code",
   "outputs": [
    {
     "data": {
      "text/plain": "array([0.90322581, 0.80645161, 0.90322581, 0.87096774, 0.83870968,\n       0.83870968, 0.67741935, 0.77419355, 0.80645161, 0.80645161,\n       0.77419355, 0.87096774, 0.93548387, 0.80645161, 0.90322581,\n       0.87096774, 0.80645161, 0.93333333, 0.8       , 0.8       ,\n       0.73333333, 0.86666667, 0.8       , 0.76666667, 0.83333333,\n       0.9       , 0.86666667, 0.86666667, 0.73333333, 0.86666667])"
     },
     "execution_count": 147,
     "metadata": {},
     "output_type": "execute_result"
    }
   ],
   "source": [
    "# Criando o modelo\n",
    "modelo = DecisionTreeClassifier(criterion='gini', random_state=0, max_depth=3)\n",
    "resultado = cross_val_score(modelo, previsores3_esc, alvo, cv=kfold)\n",
    "resultado"
   ],
   "metadata": {
    "collapsed": false,
    "ExecuteTime": {
     "end_time": "2024-04-06T17:47:05.513357Z",
     "start_time": "2024-04-06T17:47:05.327635Z"
    }
   },
   "id": "5f5a7836b64682e2",
   "execution_count": 147
  },
  {
   "cell_type": "code",
   "outputs": [
    {
     "name": "stdout",
     "output_type": "stream",
     "text": [
      "Acurácia Média: 83.20%\n"
     ]
    }
   ],
   "source": [
    "# Usando a média e o desvio padrão\n",
    "print(f'Acurácia Média: {resultado.mean()*100:.2f}%')"
   ],
   "metadata": {
    "collapsed": false,
    "ExecuteTime": {
     "end_time": "2024-04-06T17:47:05.796594Z",
     "start_time": "2024-04-06T17:47:05.787038Z"
    }
   },
   "id": "5a0d1ea728d8d77d",
   "execution_count": 148
  },
  {
   "cell_type": "markdown",
   "source": [
    "# 55. Random Forest: teoria"
   ],
   "metadata": {
    "collapsed": false
   },
   "id": "91a28e0976a705b5"
  },
  {
   "cell_type": "code",
   "outputs": [
    {
     "data": {
      "text/plain": "'\\n> Criação aleatória de várias árvores de decisão;\\n> Utiliza o método Ensemble (construção de vários modelos para obter um resultado único);\\n> É mais robusto, complexo e normalmente propicia resultados melhores, mas possui maior custo computacional;\\n> Em problemas de classificação o resultado que mais aparece será o escolhido (moda), já em regressão será a média;\\n\\nVantagens:\\n> Resultados bastante precisos;\\n> Normalmente não necessitam de preparações sofisticadas nos dados (label Encoder e OneHotEncoder);\\n> Trabalha com valores faltantes, variáveis categóricas e numéricas;\\n> Pouca probabilidade de ocorrência de overfitting;\\n\\nDesvantagens:\\n> Velocidade de processamento relativamente baixa;\\n> Difícil interpretação de como chegou no resultado;\\n'"
     },
     "execution_count": 149,
     "metadata": {},
     "output_type": "execute_result"
    }
   ],
   "source": [
    "# Random Forest (Floresta Aleatória)\n",
    "\"\"\"\n",
    "> Criação aleatória de várias árvores de decisão;\n",
    "> Utiliza o método Ensemble (construção de vários modelos para obter um resultado único);\n",
    "> É mais robusto, complexo e normalmente propicia resultados melhores, mas possui maior custo computacional;\n",
    "> Em problemas de classificação o resultado que mais aparece será o escolhido (moda), já em regressão será a média;\n",
    "\n",
    "Vantagens:\n",
    "> Resultados bastante precisos;\n",
    "> Normalmente não necessitam de preparações sofisticadas nos dados (label Encoder e OneHotEncoder);\n",
    "> Trabalha com valores faltantes, variáveis categóricas e numéricas;\n",
    "> Pouca probabilidade de ocorrência de overfitting;\n",
    "\n",
    "Desvantagens:\n",
    "> Velocidade de processamento relativamente baixa;\n",
    "> Difícil interpretação de como chegou no resultado;\n",
    "\"\"\""
   ],
   "metadata": {
    "collapsed": false,
    "ExecuteTime": {
     "end_time": "2024-04-06T17:47:06.874257Z",
     "start_time": "2024-04-06T17:47:06.851268Z"
    }
   },
   "id": "130e3c76fd039d48",
   "execution_count": 149
  },
  {
   "cell_type": "markdown",
   "source": [
    "# 56. Random Forest no Python"
   ],
   "metadata": {
    "collapsed": false
   },
   "id": "120dd09ffa37ca17"
  },
  {
   "cell_type": "code",
   "outputs": [
    {
     "data": {
      "text/plain": "'https://scikit-learn.org/stable/modules/generated/sklearn.ensemble.RandomForestClassifier.html'"
     },
     "execution_count": 150,
     "metadata": {},
     "output_type": "execute_result"
    }
   ],
   "source": [
    "# Random Forest\n",
    "\"\"\"https://scikit-learn.org/stable/modules/generated/sklearn.ensemble.RandomForestClassifier.html\"\"\""
   ],
   "metadata": {
    "collapsed": false,
    "ExecuteTime": {
     "end_time": "2024-04-06T17:47:07.571711Z",
     "start_time": "2024-04-06T17:47:07.560716Z"
    }
   },
   "id": "612816a543ea0735",
   "execution_count": 150
  },
  {
   "cell_type": "code",
   "outputs": [],
   "source": [
    "from sklearn.ensemble import RandomForestClassifier"
   ],
   "metadata": {
    "collapsed": false,
    "ExecuteTime": {
     "end_time": "2024-04-06T17:47:08.219400Z",
     "start_time": "2024-04-06T17:47:07.991338Z"
    }
   },
   "id": "c7aa245060e5042f",
   "execution_count": 151
  },
  {
   "cell_type": "code",
   "outputs": [
    {
     "data": {
      "text/plain": "RandomForestClassifier(criterion='entropy', max_depth=4, n_estimators=150,\n                       random_state=0)",
      "text/html": "<style>#sk-container-id-6 {color: black;}#sk-container-id-6 pre{padding: 0;}#sk-container-id-6 div.sk-toggleable {background-color: white;}#sk-container-id-6 label.sk-toggleable__label {cursor: pointer;display: block;width: 100%;margin-bottom: 0;padding: 0.3em;box-sizing: border-box;text-align: center;}#sk-container-id-6 label.sk-toggleable__label-arrow:before {content: \"▸\";float: left;margin-right: 0.25em;color: #696969;}#sk-container-id-6 label.sk-toggleable__label-arrow:hover:before {color: black;}#sk-container-id-6 div.sk-estimator:hover label.sk-toggleable__label-arrow:before {color: black;}#sk-container-id-6 div.sk-toggleable__content {max-height: 0;max-width: 0;overflow: hidden;text-align: left;background-color: #f0f8ff;}#sk-container-id-6 div.sk-toggleable__content pre {margin: 0.2em;color: black;border-radius: 0.25em;background-color: #f0f8ff;}#sk-container-id-6 input.sk-toggleable__control:checked~div.sk-toggleable__content {max-height: 200px;max-width: 100%;overflow: auto;}#sk-container-id-6 input.sk-toggleable__control:checked~label.sk-toggleable__label-arrow:before {content: \"▾\";}#sk-container-id-6 div.sk-estimator input.sk-toggleable__control:checked~label.sk-toggleable__label {background-color: #d4ebff;}#sk-container-id-6 div.sk-label input.sk-toggleable__control:checked~label.sk-toggleable__label {background-color: #d4ebff;}#sk-container-id-6 input.sk-hidden--visually {border: 0;clip: rect(1px 1px 1px 1px);clip: rect(1px, 1px, 1px, 1px);height: 1px;margin: -1px;overflow: hidden;padding: 0;position: absolute;width: 1px;}#sk-container-id-6 div.sk-estimator {font-family: monospace;background-color: #f0f8ff;border: 1px dotted black;border-radius: 0.25em;box-sizing: border-box;margin-bottom: 0.5em;}#sk-container-id-6 div.sk-estimator:hover {background-color: #d4ebff;}#sk-container-id-6 div.sk-parallel-item::after {content: \"\";width: 100%;border-bottom: 1px solid gray;flex-grow: 1;}#sk-container-id-6 div.sk-label:hover label.sk-toggleable__label {background-color: #d4ebff;}#sk-container-id-6 div.sk-serial::before {content: \"\";position: absolute;border-left: 1px solid gray;box-sizing: border-box;top: 0;bottom: 0;left: 50%;z-index: 0;}#sk-container-id-6 div.sk-serial {display: flex;flex-direction: column;align-items: center;background-color: white;padding-right: 0.2em;padding-left: 0.2em;position: relative;}#sk-container-id-6 div.sk-item {position: relative;z-index: 1;}#sk-container-id-6 div.sk-parallel {display: flex;align-items: stretch;justify-content: center;background-color: white;position: relative;}#sk-container-id-6 div.sk-item::before, #sk-container-id-6 div.sk-parallel-item::before {content: \"\";position: absolute;border-left: 1px solid gray;box-sizing: border-box;top: 0;bottom: 0;left: 50%;z-index: -1;}#sk-container-id-6 div.sk-parallel-item {display: flex;flex-direction: column;z-index: 1;position: relative;background-color: white;}#sk-container-id-6 div.sk-parallel-item:first-child::after {align-self: flex-end;width: 50%;}#sk-container-id-6 div.sk-parallel-item:last-child::after {align-self: flex-start;width: 50%;}#sk-container-id-6 div.sk-parallel-item:only-child::after {width: 0;}#sk-container-id-6 div.sk-dashed-wrapped {border: 1px dashed gray;margin: 0 0.4em 0.5em 0.4em;box-sizing: border-box;padding-bottom: 0.4em;background-color: white;}#sk-container-id-6 div.sk-label label {font-family: monospace;font-weight: bold;display: inline-block;line-height: 1.2em;}#sk-container-id-6 div.sk-label-container {text-align: center;}#sk-container-id-6 div.sk-container {/* jupyter's `normalize.less` sets `[hidden] { display: none; }` but bootstrap.min.css set `[hidden] { display: none !important; }` so we also need the `!important` here to be able to override the default hidden behavior on the sphinx rendered scikit-learn.org. See: https://github.com/scikit-learn/scikit-learn/issues/21755 */display: inline-block !important;position: relative;}#sk-container-id-6 div.sk-text-repr-fallback {display: none;}</style><div id=\"sk-container-id-6\" class=\"sk-top-container\"><div class=\"sk-text-repr-fallback\"><pre>RandomForestClassifier(criterion=&#x27;entropy&#x27;, max_depth=4, n_estimators=150,\n                       random_state=0)</pre><b>In a Jupyter environment, please rerun this cell to show the HTML representation or trust the notebook. <br />On GitHub, the HTML representation is unable to render, please try loading this page with nbviewer.org.</b></div><div class=\"sk-container\" hidden><div class=\"sk-item\"><div class=\"sk-estimator sk-toggleable\"><input class=\"sk-toggleable__control sk-hidden--visually\" id=\"sk-estimator-id-6\" type=\"checkbox\" checked><label for=\"sk-estimator-id-6\" class=\"sk-toggleable__label sk-toggleable__label-arrow\">RandomForestClassifier</label><div class=\"sk-toggleable__content\"><pre>RandomForestClassifier(criterion=&#x27;entropy&#x27;, max_depth=4, n_estimators=150,\n                       random_state=0)</pre></div></div></div></div></div>"
     },
     "execution_count": 152,
     "metadata": {},
     "output_type": "execute_result"
    }
   ],
   "source": [
    "random_forest = RandomForestClassifier(n_estimators=150, criterion='entropy', random_state=0, max_depth=4)\n",
    "random_forest.fit(x_treino, y_treino)"
   ],
   "metadata": {
    "collapsed": false,
    "ExecuteTime": {
     "end_time": "2024-04-06T17:47:08.870592Z",
     "start_time": "2024-04-06T17:47:08.398896Z"
    }
   },
   "id": "f161b9cfac899f3b",
   "execution_count": 152
  },
  {
   "cell_type": "code",
   "outputs": [
    {
     "data": {
      "text/plain": "array([1, 1, 1, 0, 0, 0, 0, 0, 0, 0, 1, 1, 1, 1, 0, 1, 1, 1, 1, 0, 1, 1,\n       1, 0, 0, 0, 1, 1, 1, 1, 1, 0, 0, 0, 1, 0, 0, 0, 1, 0, 0, 1, 1, 1,\n       1, 0, 0, 1, 0, 1, 1, 0, 0, 0, 1, 0, 0, 0, 1, 0, 1, 1, 1, 0, 1, 1,\n       1, 0, 1, 0, 1, 1, 0, 1, 1, 1, 1, 1, 1, 1, 1, 1, 0, 0, 1, 1, 1, 1,\n       1, 0, 1, 0, 0, 0, 1, 0, 1, 0, 0, 0, 0, 1, 1, 1, 0, 1, 0, 0, 0, 1,\n       0, 1, 1, 1, 0, 1, 0, 1, 1, 1, 1, 1, 1, 0, 1, 1, 0, 1, 0, 1, 0, 1,\n       1, 1, 0, 1, 1, 1, 1, 0, 0, 1, 0, 1, 0, 0, 1, 1, 1, 1, 0, 1, 1, 0,\n       1, 0, 1, 1, 1, 0, 1, 1, 1, 0, 1, 0, 1, 0, 1, 0, 1, 1, 0, 0, 1, 1,\n       1, 0, 0, 1, 1, 1, 0, 1, 1, 1, 0, 1, 1, 0, 0, 0, 1, 0, 1, 1, 0, 0,\n       1, 0, 1, 1, 0, 1, 1, 0, 0, 0, 1, 0, 1, 1, 0, 0, 0, 0, 1, 0, 1, 1,\n       1, 0, 0, 1, 1, 1, 0, 1, 0, 1, 0, 1, 1, 1, 0, 1, 1, 1, 0, 1, 1, 0,\n       1, 0, 0, 0, 0, 0, 1, 0, 1, 0, 1, 0, 0, 0, 1, 0, 0, 1, 0, 1, 1, 0,\n       0, 0, 0, 0, 1, 0, 0, 1, 1, 1, 1, 1], dtype=int64)"
     },
     "execution_count": 153,
     "metadata": {},
     "output_type": "execute_result"
    }
   ],
   "source": [
    "previsoes_random_forest = random_forest.predict(x_teste)\n",
    "previsoes_random_forest"
   ],
   "metadata": {
    "collapsed": false,
    "ExecuteTime": {
     "end_time": "2024-04-06T17:47:08.933300Z",
     "start_time": "2024-04-06T17:47:08.875841Z"
    }
   },
   "id": "2d01d18bcf94e238",
   "execution_count": 153
  },
  {
   "cell_type": "code",
   "outputs": [
    {
     "data": {
      "text/plain": "array([1, 0, 1, 0, 0, 0, 0, 0, 0, 0, 1, 0, 1, 1, 0, 1, 1, 1, 1, 0, 1, 1,\n       1, 0, 0, 0, 1, 1, 0, 0, 1, 0, 0, 0, 1, 0, 1, 0, 1, 0, 0, 1, 1, 1,\n       1, 0, 0, 1, 1, 1, 1, 0, 0, 1, 1, 0, 0, 0, 1, 0, 1, 1, 1, 0, 1, 1,\n       1, 0, 1, 0, 1, 1, 1, 1, 1, 1, 1, 1, 1, 0, 0, 1, 0, 0, 1, 1, 0, 1,\n       1, 0, 1, 0, 0, 1, 1, 0, 1, 0, 0, 0, 0, 1, 1, 1, 0, 1, 0, 0, 0, 1,\n       0, 1, 1, 1, 0, 1, 1, 1, 1, 1, 1, 1, 1, 0, 0, 1, 0, 1, 0, 1, 0, 1,\n       0, 1, 0, 0, 0, 1, 1, 0, 1, 1, 0, 1, 0, 0, 1, 1, 1, 0, 1, 1, 0, 0,\n       0, 0, 1, 1, 1, 0, 1, 1, 1, 0, 1, 0, 1, 0, 1, 0, 1, 1, 0, 0, 1, 0,\n       0, 1, 0, 1, 1, 1, 0, 1, 1, 1, 0, 1, 1, 0, 0, 0, 1, 1, 1, 1, 1, 0,\n       1, 0, 1, 1, 0, 1, 1, 0, 0, 0, 1, 0, 1, 1, 0, 1, 0, 1, 1, 1, 1, 1,\n       1, 1, 0, 0, 0, 1, 0, 1, 1, 1, 0, 1, 0, 1, 1, 1, 1, 1, 0, 1, 1, 0,\n       1, 0, 1, 0, 0, 0, 1, 0, 1, 0, 1, 1, 0, 0, 1, 0, 0, 1, 0, 1, 1, 0,\n       0, 0, 0, 0, 1, 0, 0, 1, 1, 1, 1, 1], dtype=int64)"
     },
     "execution_count": 154,
     "metadata": {},
     "output_type": "execute_result"
    }
   ],
   "source": [
    "y_teste"
   ],
   "metadata": {
    "collapsed": false,
    "ExecuteTime": {
     "end_time": "2024-04-06T17:47:08.949291Z",
     "start_time": "2024-04-06T17:47:08.936298Z"
    }
   },
   "id": "5779f63dbdd2706c",
   "execution_count": 154
  },
  {
   "cell_type": "code",
   "outputs": [],
   "source": [
    "from sklearn.metrics import accuracy_score, confusion_matrix, classification_report"
   ],
   "metadata": {
    "collapsed": false,
    "ExecuteTime": {
     "end_time": "2024-04-06T17:47:08.996653Z",
     "start_time": "2024-04-06T17:47:08.984662Z"
    }
   },
   "id": "2c57cf20141887c1",
   "execution_count": 155
  },
  {
   "cell_type": "code",
   "outputs": [
    {
     "name": "stdout",
     "output_type": "stream",
     "text": [
      "Acurácia: 86.23%\n"
     ]
    }
   ],
   "source": [
    "print(f'''Acurácia: {accuracy_score(y_teste, previsoes_random_forest)*100:.2f}%''')"
   ],
   "metadata": {
    "collapsed": false,
    "ExecuteTime": {
     "end_time": "2024-04-06T17:47:09.185883Z",
     "start_time": "2024-04-06T17:47:09.171890Z"
    }
   },
   "id": "e44b7f977c40af66",
   "execution_count": 156
  },
  {
   "cell_type": "code",
   "outputs": [
    {
     "data": {
      "text/plain": "array([[102,  19],\n       [ 19, 136]], dtype=int64)"
     },
     "execution_count": 157,
     "metadata": {},
     "output_type": "execute_result"
    }
   ],
   "source": [
    "confusion_matrix(y_teste, previsoes_random_forest)"
   ],
   "metadata": {
    "collapsed": false,
    "ExecuteTime": {
     "end_time": "2024-04-06T17:47:09.629569Z",
     "start_time": "2024-04-06T17:47:09.614008Z"
    }
   },
   "id": "b28923315ea0f1ce",
   "execution_count": 157
  },
  {
   "cell_type": "code",
   "outputs": [
    {
     "name": "stdout",
     "output_type": "stream",
     "text": [
      "              precision    recall  f1-score   support\n",
      "\n",
      "           0       0.84      0.84      0.84       121\n",
      "           1       0.88      0.88      0.88       155\n",
      "\n",
      "    accuracy                           0.86       276\n",
      "   macro avg       0.86      0.86      0.86       276\n",
      "weighted avg       0.86      0.86      0.86       276\n"
     ]
    }
   ],
   "source": [
    "print(classification_report(y_teste, previsoes_random_forest))"
   ],
   "metadata": {
    "collapsed": false,
    "ExecuteTime": {
     "end_time": "2024-04-06T17:47:09.833672Z",
     "start_time": "2024-04-06T17:47:09.813162Z"
    }
   },
   "id": "89a733fcf9029724",
   "execution_count": 158
  },
  {
   "cell_type": "code",
   "outputs": [
    {
     "data": {
      "text/plain": "array([1, 0, 1, 1, 1, 1, 0, 0, 0, 0, 1, 0, 1, 1, 1, 0, 0, 0, 0, 1, 1, 1,\n       1, 1, 1, 0, 0, 1, 1, 1, 1, 0, 1, 1, 0, 0, 1, 1, 0, 1, 0, 1, 0, 0,\n       1, 1, 0, 1, 1, 1, 1, 0, 1, 0, 1, 0, 1, 0, 1, 0, 0, 0, 1, 0, 1, 1,\n       0, 1, 1, 0, 1, 1, 1, 1, 0, 0, 1, 1, 1, 1, 1, 1, 1, 1, 0, 1, 1, 1,\n       1, 1, 0, 1, 0, 0, 1, 1, 1, 1, 1, 1, 1, 1, 0, 1, 1, 1, 1, 0, 0, 1,\n       0, 0, 1, 0, 1, 0, 1, 0, 1, 0, 0, 0, 0, 1, 1, 1, 1, 0, 1, 1, 1, 0,\n       1, 1, 0, 0, 1, 0, 1, 1, 0, 1, 1, 1, 1, 1, 0, 0, 0, 1, 1, 0, 1, 0,\n       1, 0, 1, 1, 1, 0, 1, 0, 0, 0, 0, 1, 1, 0, 0, 0, 0, 1, 1, 0, 1, 0,\n       0, 1, 1, 0, 0, 0, 0, 0, 0, 1, 1, 1, 1, 1, 0, 0, 1, 0, 0, 1, 1, 1,\n       1, 1, 0, 0, 0, 1, 1, 1, 1, 1, 1, 0, 1, 0, 1, 1, 1, 1, 1, 0, 0, 1,\n       1, 0, 0, 1, 1, 1, 1, 1, 1, 1, 1, 1, 0, 1, 1, 0, 1, 0, 1, 0, 1, 0,\n       1, 1, 0, 1, 1, 1, 1, 1, 1, 1, 0, 0, 0, 0, 0, 0, 0, 0, 1, 0, 1, 0,\n       1, 0, 1, 0, 1, 0, 1, 1, 0, 1, 0, 1, 1, 0, 0, 0, 1, 0, 0, 0, 1, 1,\n       1, 1, 1, 1, 1, 0, 1, 1, 0, 1, 0, 1, 0, 1, 1, 0, 0, 1, 0, 0, 1, 1,\n       1, 0, 1, 0, 1, 0, 1, 0, 1, 1, 1, 0, 1, 1, 1, 1, 0, 1, 1, 1, 1, 0,\n       0, 0, 1, 0, 0, 0, 1, 1, 0, 1, 1, 1, 1, 1, 1, 0, 1, 1, 0, 1, 0, 1,\n       0, 0, 0, 1, 0, 1, 1, 1, 0, 1, 0, 1, 1, 0, 0, 0, 0, 0, 1, 1, 0, 1,\n       0, 1, 1, 1, 0, 1, 1, 1, 0, 1, 0, 1, 0, 0, 0, 1, 0, 1, 1, 1, 1, 1,\n       0, 0, 0, 1, 1, 1, 1, 0, 1, 1, 1, 1, 1, 0, 0, 1, 0, 1, 1, 1, 0, 0,\n       0, 1, 1, 0, 0, 1, 1, 0, 1, 1, 0, 0, 0, 1, 1, 1, 1, 1, 1, 1, 1, 1,\n       0, 0, 1, 1, 0, 1, 0, 1, 0, 0, 1, 0, 1, 1, 1, 1, 0, 0, 0, 1, 0, 1,\n       1, 1, 1, 1, 1, 0, 1, 0, 1, 1, 1, 1, 1, 1, 1, 0, 0, 0, 1, 0, 0, 0,\n       0, 0, 1, 0, 1, 1, 1, 0, 0, 1, 1, 0, 1, 1, 1, 0, 1, 1, 0, 0, 1, 1,\n       1, 1, 0, 0, 1, 1, 1, 1, 0, 1, 0, 0, 1, 0, 1, 1, 1, 1, 0, 1, 1, 0,\n       1, 0, 1, 0, 1, 0, 1, 0, 1, 0, 1, 1, 0, 1, 1, 1, 1, 0, 0, 1, 1, 0,\n       0, 1, 1, 0, 1, 0, 1, 1, 1, 0, 1, 1, 0, 1, 0, 1, 1, 0, 0, 1, 0, 1,\n       1, 1, 0, 0, 1, 0, 0, 1, 0, 1, 0, 1, 1, 1, 1, 0, 1, 0, 0, 0, 0, 0,\n       0, 0, 1, 0, 0, 1, 0, 0, 0, 0, 1, 0, 0, 1, 0, 1, 1, 1, 1, 1, 0, 1,\n       1, 1, 1, 1, 1, 0, 1, 1, 1, 1, 1, 1, 0, 1, 1, 0, 0, 1, 1, 0, 1, 0,\n       1, 0, 1], dtype=int64)"
     },
     "execution_count": 159,
     "metadata": {},
     "output_type": "execute_result"
    }
   ],
   "source": [
    "# Análise dados de treino\n",
    "previsoes_treino = random_forest.predict(x_treino)\n",
    "previsoes_treino"
   ],
   "metadata": {
    "collapsed": false,
    "ExecuteTime": {
     "end_time": "2024-04-06T17:47:10.103101Z",
     "start_time": "2024-04-06T17:47:10.036584Z"
    }
   },
   "id": "83f0102b47dddce0",
   "execution_count": 159
  },
  {
   "cell_type": "code",
   "outputs": [
    {
     "data": {
      "text/plain": "0.890795631825273"
     },
     "execution_count": 160,
     "metadata": {},
     "output_type": "execute_result"
    }
   ],
   "source": [
    "accuracy_score(y_treino, previsoes_treino)"
   ],
   "metadata": {
    "collapsed": false,
    "ExecuteTime": {
     "end_time": "2024-04-06T17:47:10.261651Z",
     "start_time": "2024-04-06T17:47:10.243663Z"
    }
   },
   "id": "d9c088492682c0d8",
   "execution_count": 160
  },
  {
   "cell_type": "code",
   "outputs": [
    {
     "data": {
      "text/plain": "array([[241,  48],\n       [ 22, 330]], dtype=int64)"
     },
     "execution_count": 161,
     "metadata": {},
     "output_type": "execute_result"
    }
   ],
   "source": [
    "confusion_matrix(y_treino, previsoes_treino)"
   ],
   "metadata": {
    "collapsed": false,
    "ExecuteTime": {
     "end_time": "2024-04-06T17:47:10.452105Z",
     "start_time": "2024-04-06T17:47:10.440111Z"
    }
   },
   "id": "d526ed68cdc77c70",
   "execution_count": 161
  },
  {
   "cell_type": "code",
   "outputs": [],
   "source": [
    "# Validação Cruzada\n",
    "from sklearn.model_selection import KFold\n",
    "from sklearn.model_selection import cross_val_score"
   ],
   "metadata": {
    "collapsed": false,
    "ExecuteTime": {
     "end_time": "2024-04-06T17:47:10.717800Z",
     "start_time": "2024-04-06T17:47:10.705697Z"
    }
   },
   "id": "ae40d5c01197e1e5",
   "execution_count": 162
  },
  {
   "cell_type": "code",
   "outputs": [],
   "source": [
    "# Separando os dados em folds\n",
    "kfold = KFold(n_splits=30, shuffle=True, random_state=5)"
   ],
   "metadata": {
    "collapsed": false,
    "ExecuteTime": {
     "end_time": "2024-04-06T17:47:10.859263Z",
     "start_time": "2024-04-06T17:47:10.848269Z"
    }
   },
   "id": "b2597a028140870e",
   "execution_count": 163
  },
  {
   "cell_type": "code",
   "outputs": [
    {
     "data": {
      "text/plain": "array([0.93548387, 0.90322581, 0.90322581, 0.83870968, 0.90322581,\n       0.83870968, 0.74193548, 0.80645161, 0.83870968, 0.80645161,\n       0.83870968, 0.83870968, 0.96774194, 0.87096774, 0.87096774,\n       0.90322581, 0.80645161, 0.96666667, 0.9       , 0.83333333,\n       0.76666667, 0.86666667, 0.83333333, 0.66666667, 0.86666667,\n       0.93333333, 0.86666667, 0.86666667, 0.83333333, 0.86666667])"
     },
     "execution_count": 164,
     "metadata": {},
     "output_type": "execute_result"
    }
   ],
   "source": [
    "# Criando o modelo\n",
    "modelo = RandomForestClassifier(n_estimators=150, criterion='entropy', random_state=0, max_depth=4)\n",
    "resultado = cross_val_score(modelo, previsores, alvo, cv=kfold)\n",
    "resultado"
   ],
   "metadata": {
    "collapsed": false,
    "ExecuteTime": {
     "end_time": "2024-04-06T17:47:27.352456Z",
     "start_time": "2024-04-06T17:47:11.090612Z"
    }
   },
   "id": "1a28ee938fbf02f5",
   "execution_count": 164
  },
  {
   "cell_type": "code",
   "outputs": [
    {
     "name": "stdout",
     "output_type": "stream",
     "text": [
      "Acurácia Média: 85.60%\n"
     ]
    }
   ],
   "source": [
    "# Usando a média e o desvio padrão\n",
    "print(f'Acurácia Média: {resultado.mean()*100:.2f}%')"
   ],
   "metadata": {
    "collapsed": false,
    "ExecuteTime": {
     "end_time": "2024-04-06T17:47:27.368448Z",
     "start_time": "2024-04-06T17:47:27.356454Z"
    }
   },
   "id": "636c0af452be578f",
   "execution_count": 165
  },
  {
   "cell_type": "markdown",
   "source": [
    "# 57. XGBoost: Teoria"
   ],
   "metadata": {
    "collapsed": false
   },
   "id": "d330481ef56b59a0"
  },
  {
   "cell_type": "code",
   "outputs": [
    {
     "data": {
      "text/plain": "'\\n> Algoritmo poderoso baseado em árvores de decisão;\\n> É uma evolução do algoritmo Gradient Boosting, que por sua vez é uma evolução do Random Forest;\\n> Apresenta aderência a grande variedade de aplicações;\\n> Roda em várias linguagens de programação, nos principais sistemas operacionais e em nuvem;\\n'"
     },
     "execution_count": 166,
     "metadata": {},
     "output_type": "execute_result"
    }
   ],
   "source": [
    "# XGBOOST (eXtreme Gradient Boosting)\n",
    "\"\"\"\n",
    "> Algoritmo poderoso baseado em árvores de decisão;\n",
    "> É uma evolução do algoritmo Gradient Boosting, que por sua vez é uma evolução do Random Forest;\n",
    "> Apresenta aderência a grande variedade de aplicações;\n",
    "> Roda em várias linguagens de programação, nos principais sistemas operacionais e em nuvem;\n",
    "\"\"\""
   ],
   "metadata": {
    "collapsed": false,
    "ExecuteTime": {
     "end_time": "2024-04-06T17:47:27.383436Z",
     "start_time": "2024-04-06T17:47:27.371445Z"
    }
   },
   "id": "161e50d19ef59044",
   "execution_count": 166
  },
  {
   "cell_type": "markdown",
   "source": [
    "# 58. XGBoost no Python"
   ],
   "metadata": {
    "collapsed": false
   },
   "id": "766110281a0803a5"
  },
  {
   "cell_type": "code",
   "outputs": [
    {
     "data": {
      "text/plain": "'https//xgboost.readthedocs.io/en/stable/'"
     },
     "execution_count": 167,
     "metadata": {},
     "output_type": "execute_result"
    }
   ],
   "source": [
    "# XGBOOST\n",
    "\"\"\"https//xgboost.readthedocs.io/en/stable/\"\"\""
   ],
   "metadata": {
    "collapsed": false,
    "ExecuteTime": {
     "end_time": "2024-04-06T17:47:27.399427Z",
     "start_time": "2024-04-06T17:47:27.386435Z"
    }
   },
   "id": "e44fa473b58c6bfe",
   "execution_count": 167
  },
  {
   "cell_type": "code",
   "outputs": [],
   "source": [
    "from xgboost import XGBClassifier"
   ],
   "metadata": {
    "collapsed": false,
    "ExecuteTime": {
     "end_time": "2024-04-06T17:47:27.605275Z",
     "start_time": "2024-04-06T17:47:27.403423Z"
    }
   },
   "id": "3096c34dcb101fe6",
   "execution_count": 168
  },
  {
   "cell_type": "code",
   "outputs": [
    {
     "data": {
      "text/plain": "XGBClassifier(base_score=None, booster=None, callbacks=None,\n              colsample_bylevel=None, colsample_bynode=None,\n              colsample_bytree=None, early_stopping_rounds=None,\n              enable_categorical=False, eval_metric=None, feature_types=None,\n              gamma=None, gpu_id=None, grow_policy=None, importance_type=None,\n              interaction_constraints=None, learning_rate=0.05, max_bin=None,\n              max_cat_threshold=None, max_cat_to_onehot=None,\n              max_delta_step=None, max_depth=2, max_leaves=None,\n              min_child_weight=None, missing=nan, monotone_constraints=None,\n              n_estimators=250, n_jobs=None, num_parallel_tree=None,\n              predictor=None, random_state=3, ...)",
      "text/html": "<style>#sk-container-id-7 {color: black;}#sk-container-id-7 pre{padding: 0;}#sk-container-id-7 div.sk-toggleable {background-color: white;}#sk-container-id-7 label.sk-toggleable__label {cursor: pointer;display: block;width: 100%;margin-bottom: 0;padding: 0.3em;box-sizing: border-box;text-align: center;}#sk-container-id-7 label.sk-toggleable__label-arrow:before {content: \"▸\";float: left;margin-right: 0.25em;color: #696969;}#sk-container-id-7 label.sk-toggleable__label-arrow:hover:before {color: black;}#sk-container-id-7 div.sk-estimator:hover label.sk-toggleable__label-arrow:before {color: black;}#sk-container-id-7 div.sk-toggleable__content {max-height: 0;max-width: 0;overflow: hidden;text-align: left;background-color: #f0f8ff;}#sk-container-id-7 div.sk-toggleable__content pre {margin: 0.2em;color: black;border-radius: 0.25em;background-color: #f0f8ff;}#sk-container-id-7 input.sk-toggleable__control:checked~div.sk-toggleable__content {max-height: 200px;max-width: 100%;overflow: auto;}#sk-container-id-7 input.sk-toggleable__control:checked~label.sk-toggleable__label-arrow:before {content: \"▾\";}#sk-container-id-7 div.sk-estimator input.sk-toggleable__control:checked~label.sk-toggleable__label {background-color: #d4ebff;}#sk-container-id-7 div.sk-label input.sk-toggleable__control:checked~label.sk-toggleable__label {background-color: #d4ebff;}#sk-container-id-7 input.sk-hidden--visually {border: 0;clip: rect(1px 1px 1px 1px);clip: rect(1px, 1px, 1px, 1px);height: 1px;margin: -1px;overflow: hidden;padding: 0;position: absolute;width: 1px;}#sk-container-id-7 div.sk-estimator {font-family: monospace;background-color: #f0f8ff;border: 1px dotted black;border-radius: 0.25em;box-sizing: border-box;margin-bottom: 0.5em;}#sk-container-id-7 div.sk-estimator:hover {background-color: #d4ebff;}#sk-container-id-7 div.sk-parallel-item::after {content: \"\";width: 100%;border-bottom: 1px solid gray;flex-grow: 1;}#sk-container-id-7 div.sk-label:hover label.sk-toggleable__label {background-color: #d4ebff;}#sk-container-id-7 div.sk-serial::before {content: \"\";position: absolute;border-left: 1px solid gray;box-sizing: border-box;top: 0;bottom: 0;left: 50%;z-index: 0;}#sk-container-id-7 div.sk-serial {display: flex;flex-direction: column;align-items: center;background-color: white;padding-right: 0.2em;padding-left: 0.2em;position: relative;}#sk-container-id-7 div.sk-item {position: relative;z-index: 1;}#sk-container-id-7 div.sk-parallel {display: flex;align-items: stretch;justify-content: center;background-color: white;position: relative;}#sk-container-id-7 div.sk-item::before, #sk-container-id-7 div.sk-parallel-item::before {content: \"\";position: absolute;border-left: 1px solid gray;box-sizing: border-box;top: 0;bottom: 0;left: 50%;z-index: -1;}#sk-container-id-7 div.sk-parallel-item {display: flex;flex-direction: column;z-index: 1;position: relative;background-color: white;}#sk-container-id-7 div.sk-parallel-item:first-child::after {align-self: flex-end;width: 50%;}#sk-container-id-7 div.sk-parallel-item:last-child::after {align-self: flex-start;width: 50%;}#sk-container-id-7 div.sk-parallel-item:only-child::after {width: 0;}#sk-container-id-7 div.sk-dashed-wrapped {border: 1px dashed gray;margin: 0 0.4em 0.5em 0.4em;box-sizing: border-box;padding-bottom: 0.4em;background-color: white;}#sk-container-id-7 div.sk-label label {font-family: monospace;font-weight: bold;display: inline-block;line-height: 1.2em;}#sk-container-id-7 div.sk-label-container {text-align: center;}#sk-container-id-7 div.sk-container {/* jupyter's `normalize.less` sets `[hidden] { display: none; }` but bootstrap.min.css set `[hidden] { display: none !important; }` so we also need the `!important` here to be able to override the default hidden behavior on the sphinx rendered scikit-learn.org. See: https://github.com/scikit-learn/scikit-learn/issues/21755 */display: inline-block !important;position: relative;}#sk-container-id-7 div.sk-text-repr-fallback {display: none;}</style><div id=\"sk-container-id-7\" class=\"sk-top-container\"><div class=\"sk-text-repr-fallback\"><pre>XGBClassifier(base_score=None, booster=None, callbacks=None,\n              colsample_bylevel=None, colsample_bynode=None,\n              colsample_bytree=None, early_stopping_rounds=None,\n              enable_categorical=False, eval_metric=None, feature_types=None,\n              gamma=None, gpu_id=None, grow_policy=None, importance_type=None,\n              interaction_constraints=None, learning_rate=0.05, max_bin=None,\n              max_cat_threshold=None, max_cat_to_onehot=None,\n              max_delta_step=None, max_depth=2, max_leaves=None,\n              min_child_weight=None, missing=nan, monotone_constraints=None,\n              n_estimators=250, n_jobs=None, num_parallel_tree=None,\n              predictor=None, random_state=3, ...)</pre><b>In a Jupyter environment, please rerun this cell to show the HTML representation or trust the notebook. <br />On GitHub, the HTML representation is unable to render, please try loading this page with nbviewer.org.</b></div><div class=\"sk-container\" hidden><div class=\"sk-item\"><div class=\"sk-estimator sk-toggleable\"><input class=\"sk-toggleable__control sk-hidden--visually\" id=\"sk-estimator-id-7\" type=\"checkbox\" checked><label for=\"sk-estimator-id-7\" class=\"sk-toggleable__label sk-toggleable__label-arrow\">XGBClassifier</label><div class=\"sk-toggleable__content\"><pre>XGBClassifier(base_score=None, booster=None, callbacks=None,\n              colsample_bylevel=None, colsample_bynode=None,\n              colsample_bytree=None, early_stopping_rounds=None,\n              enable_categorical=False, eval_metric=None, feature_types=None,\n              gamma=None, gpu_id=None, grow_policy=None, importance_type=None,\n              interaction_constraints=None, learning_rate=0.05, max_bin=None,\n              max_cat_threshold=None, max_cat_to_onehot=None,\n              max_delta_step=None, max_depth=2, max_leaves=None,\n              min_child_weight=None, missing=nan, monotone_constraints=None,\n              n_estimators=250, n_jobs=None, num_parallel_tree=None,\n              predictor=None, random_state=3, ...)</pre></div></div></div></div></div>"
     },
     "execution_count": 169,
     "metadata": {},
     "output_type": "execute_result"
    }
   ],
   "source": [
    "xg = XGBClassifier(max_depth=2, learning_rate=0.05, n_estimators=250, objective='binary:logistic', random_state=3)\n",
    "xg.fit(x_treino, y_treino)"
   ],
   "metadata": {
    "collapsed": false,
    "ExecuteTime": {
     "end_time": "2024-04-06T17:47:27.763701Z",
     "start_time": "2024-04-06T17:47:27.607273Z"
    }
   },
   "id": "cfa9a0663b468add",
   "execution_count": 169
  },
  {
   "cell_type": "code",
   "outputs": [
    {
     "data": {
      "text/plain": "array([1, 1, 1, 0, 0, 0, 0, 0, 0, 0, 1, 1, 1, 1, 0, 1, 1, 1, 1, 0, 1, 1,\n       1, 0, 0, 0, 1, 1, 1, 1, 1, 0, 0, 0, 1, 0, 0, 0, 1, 0, 0, 1, 1, 1,\n       1, 0, 0, 1, 0, 1, 1, 0, 0, 0, 1, 0, 0, 0, 1, 0, 1, 1, 1, 0, 1, 1,\n       1, 0, 1, 0, 1, 1, 0, 1, 1, 1, 1, 1, 1, 1, 1, 1, 0, 0, 1, 1, 1, 1,\n       1, 0, 1, 0, 0, 0, 1, 0, 1, 0, 0, 0, 0, 1, 1, 1, 0, 1, 0, 0, 0, 1,\n       0, 1, 1, 1, 0, 1, 0, 1, 1, 1, 1, 1, 1, 0, 1, 1, 0, 1, 0, 1, 0, 1,\n       1, 1, 0, 0, 0, 1, 1, 0, 0, 1, 0, 1, 0, 0, 1, 1, 1, 0, 0, 1, 1, 0,\n       1, 0, 1, 1, 1, 0, 1, 1, 1, 0, 1, 0, 1, 0, 1, 0, 1, 1, 0, 0, 1, 0,\n       1, 0, 0, 1, 1, 1, 0, 1, 1, 1, 0, 1, 1, 0, 1, 0, 1, 1, 1, 1, 0, 0,\n       1, 0, 1, 1, 0, 1, 1, 0, 0, 0, 1, 0, 1, 1, 0, 1, 0, 0, 1, 0, 1, 1,\n       1, 0, 0, 1, 1, 1, 0, 1, 0, 1, 0, 1, 1, 1, 0, 1, 1, 1, 0, 1, 1, 0,\n       1, 0, 0, 0, 0, 0, 1, 0, 1, 0, 1, 1, 0, 0, 1, 0, 0, 1, 0, 0, 1, 0,\n       1, 0, 0, 0, 1, 0, 0, 1, 1, 1, 1, 1])"
     },
     "execution_count": 170,
     "metadata": {},
     "output_type": "execute_result"
    }
   ],
   "source": [
    "previsoes_xg = xg.predict(x_teste)\n",
    "previsoes_xg"
   ],
   "metadata": {
    "collapsed": false,
    "ExecuteTime": {
     "end_time": "2024-04-06T17:47:27.795682Z",
     "start_time": "2024-04-06T17:47:27.766700Z"
    }
   },
   "id": "78d75dea36eb897",
   "execution_count": 170
  },
  {
   "cell_type": "code",
   "outputs": [
    {
     "data": {
      "text/plain": "array([1, 0, 1, 0, 0, 0, 0, 0, 0, 0, 1, 0, 1, 1, 0, 1, 1, 1, 1, 0, 1, 1,\n       1, 0, 0, 0, 1, 1, 0, 0, 1, 0, 0, 0, 1, 0, 1, 0, 1, 0, 0, 1, 1, 1,\n       1, 0, 0, 1, 1, 1, 1, 0, 0, 1, 1, 0, 0, 0, 1, 0, 1, 1, 1, 0, 1, 1,\n       1, 0, 1, 0, 1, 1, 1, 1, 1, 1, 1, 1, 1, 0, 0, 1, 0, 0, 1, 1, 0, 1,\n       1, 0, 1, 0, 0, 1, 1, 0, 1, 0, 0, 0, 0, 1, 1, 1, 0, 1, 0, 0, 0, 1,\n       0, 1, 1, 1, 0, 1, 1, 1, 1, 1, 1, 1, 1, 0, 0, 1, 0, 1, 0, 1, 0, 1,\n       0, 1, 0, 0, 0, 1, 1, 0, 1, 1, 0, 1, 0, 0, 1, 1, 1, 0, 1, 1, 0, 0,\n       0, 0, 1, 1, 1, 0, 1, 1, 1, 0, 1, 0, 1, 0, 1, 0, 1, 1, 0, 0, 1, 0,\n       0, 1, 0, 1, 1, 1, 0, 1, 1, 1, 0, 1, 1, 0, 0, 0, 1, 1, 1, 1, 1, 0,\n       1, 0, 1, 1, 0, 1, 1, 0, 0, 0, 1, 0, 1, 1, 0, 1, 0, 1, 1, 1, 1, 1,\n       1, 1, 0, 0, 0, 1, 0, 1, 1, 1, 0, 1, 0, 1, 1, 1, 1, 1, 0, 1, 1, 0,\n       1, 0, 1, 0, 0, 0, 1, 0, 1, 0, 1, 1, 0, 0, 1, 0, 0, 1, 0, 1, 1, 0,\n       0, 0, 0, 0, 1, 0, 0, 1, 1, 1, 1, 1], dtype=int64)"
     },
     "execution_count": 171,
     "metadata": {},
     "output_type": "execute_result"
    }
   ],
   "source": [
    "y_teste"
   ],
   "metadata": {
    "collapsed": false,
    "ExecuteTime": {
     "end_time": "2024-04-06T17:47:27.811673Z",
     "start_time": "2024-04-06T17:47:27.798680Z"
    }
   },
   "id": "585f8d2ada7f770f",
   "execution_count": 171
  },
  {
   "cell_type": "code",
   "outputs": [],
   "source": [
    "from sklearn.metrics import accuracy_score, confusion_matrix, classification_report"
   ],
   "metadata": {
    "collapsed": false,
    "ExecuteTime": {
     "end_time": "2024-04-06T17:47:27.826683Z",
     "start_time": "2024-04-06T17:47:27.814671Z"
    }
   },
   "id": "5322d77cca94317c",
   "execution_count": 172
  },
  {
   "cell_type": "code",
   "outputs": [
    {
     "name": "stdout",
     "output_type": "stream",
     "text": [
      "Acurácia: 87.68%\n"
     ]
    }
   ],
   "source": [
    "print(f'''Acurácia: {accuracy_score(y_teste, previsoes_xg)*100:.2f}%''')"
   ],
   "metadata": {
    "collapsed": false,
    "ExecuteTime": {
     "end_time": "2024-04-06T17:47:27.842189Z",
     "start_time": "2024-04-06T17:47:27.829682Z"
    }
   },
   "id": "e20c53c0358342cf",
   "execution_count": 173
  },
  {
   "cell_type": "code",
   "outputs": [
    {
     "data": {
      "text/plain": "array([[104,  17],\n       [ 17, 138]], dtype=int64)"
     },
     "execution_count": 174,
     "metadata": {},
     "output_type": "execute_result"
    }
   ],
   "source": [
    "confusion_matrix(y_teste, previsoes_xg)"
   ],
   "metadata": {
    "collapsed": false,
    "ExecuteTime": {
     "end_time": "2024-04-06T17:47:27.858179Z",
     "start_time": "2024-04-06T17:47:27.845187Z"
    }
   },
   "id": "a8abdb2cae353fb0",
   "execution_count": 174
  },
  {
   "cell_type": "code",
   "outputs": [
    {
     "name": "stdout",
     "output_type": "stream",
     "text": [
      "              precision    recall  f1-score   support\n",
      "\n",
      "           0       0.86      0.86      0.86       121\n",
      "           1       0.89      0.89      0.89       155\n",
      "\n",
      "    accuracy                           0.88       276\n",
      "   macro avg       0.87      0.87      0.87       276\n",
      "weighted avg       0.88      0.88      0.88       276\n"
     ]
    }
   ],
   "source": [
    "print(classification_report(y_teste, previsoes_xg))"
   ],
   "metadata": {
    "collapsed": false,
    "ExecuteTime": {
     "end_time": "2024-04-06T17:47:27.889513Z",
     "start_time": "2024-04-06T17:47:27.861177Z"
    }
   },
   "id": "29b8e4183b9c3b44",
   "execution_count": 175
  },
  {
   "cell_type": "code",
   "outputs": [
    {
     "data": {
      "text/plain": "array([1, 0, 1, 1, 1, 1, 0, 0, 0, 0, 1, 0, 1, 1, 1, 0, 0, 0, 0, 1, 0, 1,\n       1, 1, 1, 0, 0, 1, 1, 1, 1, 0, 1, 1, 0, 0, 1, 1, 0, 1, 0, 1, 0, 0,\n       1, 1, 0, 1, 1, 1, 0, 0, 1, 0, 1, 0, 1, 0, 1, 0, 0, 0, 1, 0, 1, 1,\n       0, 0, 1, 0, 1, 1, 1, 1, 0, 0, 1, 1, 1, 1, 1, 1, 1, 1, 0, 1, 1, 1,\n       1, 1, 0, 1, 0, 0, 1, 1, 1, 1, 1, 1, 1, 1, 0, 1, 1, 1, 1, 0, 1, 1,\n       0, 0, 1, 0, 1, 0, 1, 0, 1, 0, 0, 0, 0, 1, 0, 1, 1, 0, 1, 1, 1, 0,\n       1, 1, 0, 0, 1, 0, 1, 1, 0, 1, 1, 1, 1, 1, 0, 0, 0, 1, 1, 0, 1, 0,\n       1, 0, 1, 1, 1, 0, 1, 0, 0, 0, 1, 0, 1, 0, 0, 0, 0, 1, 1, 0, 1, 0,\n       0, 1, 1, 0, 0, 0, 0, 0, 0, 1, 1, 1, 1, 1, 0, 0, 1, 0, 0, 1, 1, 1,\n       1, 1, 0, 0, 0, 1, 1, 1, 1, 1, 0, 0, 1, 0, 1, 1, 1, 1, 1, 0, 0, 1,\n       1, 0, 0, 1, 1, 1, 1, 1, 1, 1, 1, 1, 0, 1, 1, 0, 1, 0, 1, 0, 1, 0,\n       1, 1, 0, 1, 1, 1, 1, 1, 1, 1, 0, 0, 0, 0, 0, 0, 0, 0, 0, 0, 1, 0,\n       1, 0, 1, 1, 1, 0, 1, 1, 0, 0, 0, 1, 1, 0, 0, 0, 1, 0, 0, 0, 1, 1,\n       1, 1, 1, 1, 1, 0, 1, 1, 0, 1, 0, 1, 0, 1, 1, 0, 0, 1, 0, 1, 1, 1,\n       1, 0, 1, 0, 1, 0, 1, 0, 1, 1, 1, 0, 1, 1, 1, 1, 0, 1, 1, 1, 1, 0,\n       0, 0, 1, 0, 0, 0, 1, 1, 0, 1, 1, 1, 1, 1, 1, 0, 1, 1, 0, 1, 0, 1,\n       0, 0, 0, 1, 0, 1, 1, 1, 0, 1, 0, 1, 1, 0, 0, 0, 0, 0, 1, 1, 0, 1,\n       0, 1, 1, 1, 0, 1, 1, 1, 0, 1, 0, 1, 0, 0, 1, 1, 0, 1, 1, 1, 1, 1,\n       0, 0, 0, 1, 1, 1, 1, 0, 1, 1, 1, 1, 0, 0, 0, 1, 0, 1, 1, 1, 0, 0,\n       0, 1, 1, 0, 0, 1, 1, 0, 1, 1, 0, 0, 0, 1, 1, 0, 1, 1, 1, 1, 1, 1,\n       0, 0, 1, 1, 0, 1, 0, 1, 0, 0, 1, 0, 1, 1, 1, 1, 0, 0, 0, 1, 0, 1,\n       1, 1, 1, 1, 1, 0, 1, 0, 1, 1, 1, 1, 1, 1, 1, 0, 0, 0, 1, 0, 0, 0,\n       0, 0, 1, 0, 1, 1, 0, 0, 0, 1, 1, 0, 0, 1, 1, 0, 1, 1, 0, 0, 1, 1,\n       1, 1, 0, 0, 1, 1, 1, 1, 0, 1, 0, 0, 1, 0, 1, 1, 1, 1, 0, 1, 1, 0,\n       1, 0, 1, 0, 1, 0, 1, 0, 1, 0, 1, 1, 0, 1, 1, 1, 1, 0, 0, 1, 1, 0,\n       0, 1, 1, 0, 1, 0, 1, 1, 1, 0, 1, 1, 1, 0, 0, 1, 1, 0, 1, 1, 0, 1,\n       1, 1, 0, 0, 1, 0, 0, 0, 0, 0, 0, 1, 1, 1, 1, 0, 1, 0, 0, 0, 0, 0,\n       0, 0, 1, 0, 0, 0, 0, 0, 0, 0, 1, 0, 1, 1, 0, 1, 1, 1, 1, 1, 0, 1,\n       1, 1, 0, 1, 1, 0, 1, 1, 1, 1, 1, 1, 0, 1, 1, 0, 0, 1, 1, 0, 1, 0,\n       0, 0, 1])"
     },
     "execution_count": 176,
     "metadata": {},
     "output_type": "execute_result"
    }
   ],
   "source": [
    "# Análise dados de treino\n",
    "previsoes_treino = xg.predict(x_treino)\n",
    "previsoes_treino"
   ],
   "metadata": {
    "collapsed": false,
    "ExecuteTime": {
     "end_time": "2024-04-06T17:47:27.920833Z",
     "start_time": "2024-04-06T17:47:27.892848Z"
    }
   },
   "id": "a4095260285282f9",
   "execution_count": 176
  },
  {
   "cell_type": "code",
   "outputs": [
    {
     "data": {
      "text/plain": "0.9157566302652106"
     },
     "execution_count": 177,
     "metadata": {},
     "output_type": "execute_result"
    }
   ],
   "source": [
    "accuracy_score(y_treino, previsoes_treino)"
   ],
   "metadata": {
    "collapsed": false,
    "ExecuteTime": {
     "end_time": "2024-04-06T17:47:27.952328Z",
     "start_time": "2024-04-06T17:47:27.928833Z"
    }
   },
   "id": "90efbd4195ffa90f",
   "execution_count": 177
  },
  {
   "cell_type": "code",
   "outputs": [
    {
     "data": {
      "text/plain": "array([[254,  35],\n       [ 19, 333]], dtype=int64)"
     },
     "execution_count": 178,
     "metadata": {},
     "output_type": "execute_result"
    }
   ],
   "source": [
    "confusion_matrix(y_treino, previsoes_treino)"
   ],
   "metadata": {
    "collapsed": false,
    "ExecuteTime": {
     "end_time": "2024-04-06T17:47:27.968318Z",
     "start_time": "2024-04-06T17:47:27.956326Z"
    }
   },
   "id": "1ccde07b66763af9",
   "execution_count": 178
  },
  {
   "cell_type": "code",
   "outputs": [],
   "source": [
    "# Validação Cruzada\n",
    "from sklearn.model_selection import KFold\n",
    "from sklearn.model_selection import cross_val_score"
   ],
   "metadata": {
    "collapsed": false,
    "ExecuteTime": {
     "end_time": "2024-04-06T17:47:27.983860Z",
     "start_time": "2024-04-06T17:47:27.970869Z"
    }
   },
   "id": "9487e59b9353793b",
   "execution_count": 179
  },
  {
   "cell_type": "code",
   "outputs": [],
   "source": [
    "# Separando os dados em folds\n",
    "kfold = KFold(n_splits=30, shuffle=True, random_state=5)"
   ],
   "metadata": {
    "collapsed": false,
    "ExecuteTime": {
     "end_time": "2024-04-06T17:47:27.999851Z",
     "start_time": "2024-04-06T17:47:27.986859Z"
    }
   },
   "id": "4fc03443bdfa3a96",
   "execution_count": 180
  },
  {
   "cell_type": "code",
   "outputs": [
    {
     "data": {
      "text/plain": "array([0.87096774, 0.93548387, 0.83870968, 0.90322581, 0.93548387,\n       0.87096774, 0.80645161, 0.87096774, 0.83870968, 0.80645161,\n       0.83870968, 0.83870968, 0.96774194, 0.90322581, 0.87096774,\n       0.90322581, 0.83870968, 0.96666667, 0.93333333, 0.93333333,\n       0.76666667, 0.83333333, 0.9       , 0.7       , 0.86666667,\n       0.96666667, 0.86666667, 0.86666667, 0.83333333, 0.86666667])"
     },
     "execution_count": 181,
     "metadata": {},
     "output_type": "execute_result"
    }
   ],
   "source": [
    "# Criando o modelo\n",
    "modelo = XGBClassifier(max_depth=2, learning_rate=0.05, n_estimators=250, objective='binary:logistic', random_state=3)\n",
    "resultado = cross_val_score(modelo, previsores, alvo, cv=kfold)\n",
    "resultado"
   ],
   "metadata": {
    "collapsed": false,
    "ExecuteTime": {
     "end_time": "2024-04-06T17:47:31.793544Z",
     "start_time": "2024-04-06T17:47:28.002803Z"
    }
   },
   "id": "4313a09fee34918",
   "execution_count": 181
  },
  {
   "cell_type": "code",
   "outputs": [
    {
     "name": "stdout",
     "output_type": "stream",
     "text": [
      "Acurácia Média: 87.13%\n"
     ]
    }
   ],
   "source": [
    "# Usando a média e o desvio padrão\n",
    "print(f'Acurácia Média: {resultado.mean()*100:.2f}%')"
   ],
   "metadata": {
    "collapsed": false,
    "ExecuteTime": {
     "end_time": "2024-04-06T17:47:31.808944Z",
     "start_time": "2024-04-06T17:47:31.796831Z"
    }
   },
   "id": "4c9e3f72ac022035",
   "execution_count": 182
  },
  {
   "cell_type": "markdown",
   "source": [
    "# 59. Light GBM: teoria"
   ],
   "metadata": {
    "collapsed": false
   },
   "id": "b9f3fd88777a294b"
  },
  {
   "cell_type": "code",
   "outputs": [
    {
     "data": {
      "text/plain": "'\\n> Baseado em árvores de decisão;\\n> É uma evolução do Gradient Boosting e do Random Forest;\\n> Alta velocidade de processamento;\\n> No LGBM a árvore cresce em folhas ao invés de níveis;\\n\\nObservações:\\n> O LGBM é feito para trabalhar com grandes quantidades de dados.\\n> Possui mais de 100 hiperparâmetros;\\n'"
     },
     "execution_count": 183,
     "metadata": {},
     "output_type": "execute_result"
    }
   ],
   "source": [
    "# Light Gradient Boosting Machine\n",
    "\"\"\"\n",
    "> Baseado em árvores de decisão;\n",
    "> É uma evolução do Gradient Boosting e do Random Forest;\n",
    "> Alta velocidade de processamento;\n",
    "> No LGBM a árvore cresce em folhas ao invés de níveis;\n",
    "\n",
    "Observações:\n",
    "> O LGBM é feito para trabalhar com grandes quantidades de dados.\n",
    "> Possui mais de 100 hiperparâmetros;\n",
    "\"\"\""
   ],
   "metadata": {
    "collapsed": false,
    "ExecuteTime": {
     "end_time": "2024-04-06T19:04:56.675547Z",
     "start_time": "2024-04-06T19:04:56.663256Z"
    }
   },
   "id": "e1e638cd08f85196",
   "execution_count": 183
  },
  {
   "cell_type": "markdown",
   "source": [
    "# 60. LGBM no Python"
   ],
   "metadata": {
    "collapsed": false
   },
   "id": "884e459d40fada5b"
  },
  {
   "cell_type": "code",
   "outputs": [
    {
     "data": {
      "text/plain": "'https://lightgbm.readthedocs.io/en/latest/pythonapi/lightgbm.train.html'"
     },
     "execution_count": 352,
     "metadata": {},
     "output_type": "execute_result"
    }
   ],
   "source": [
    "# LGMB\n",
    "\"\"\"https://lightgbm.readthedocs.io/en/latest/pythonapi/lightgbm.train.html\"\"\""
   ],
   "metadata": {
    "collapsed": false,
    "ExecuteTime": {
     "end_time": "2024-04-06T21:58:29.068553Z",
     "start_time": "2024-04-06T21:58:29.056756Z"
    }
   },
   "id": "d5927bd94a3676bb",
   "execution_count": 352
  },
  {
   "cell_type": "code",
   "outputs": [],
   "source": [
    "import lightgbm as lgb"
   ],
   "metadata": {
    "collapsed": false,
    "ExecuteTime": {
     "end_time": "2024-04-06T21:58:30.446002Z",
     "start_time": "2024-04-06T21:58:30.433386Z"
    }
   },
   "id": "b806c3b8398d5a2",
   "execution_count": 353
  },
  {
   "cell_type": "code",
   "outputs": [],
   "source": [
    "# Dataset para treino\n",
    "dataset = lgb.Dataset(x_treino, label=y_treino)"
   ],
   "metadata": {
    "collapsed": false,
    "ExecuteTime": {
     "end_time": "2024-04-06T21:59:08.601501Z",
     "start_time": "2024-04-06T21:59:08.583006Z"
    }
   },
   "id": "ef9e4dcf63a11cc3",
   "execution_count": 366
  },
  {
   "cell_type": "code",
   "outputs": [],
   "source": [
    "# Parâmetros\n",
    "parametros = {\n",
    "    'num_leaves':250,\n",
    "    'objective':'binary',\n",
    "    'max_depth':2,\n",
    "    'learning_rate':0.05,\n",
    "    'max_bin':250\n",
    "}"
   ],
   "metadata": {
    "collapsed": false,
    "ExecuteTime": {
     "end_time": "2024-04-06T21:59:10.023813Z",
     "start_time": "2024-04-06T21:59:10.013821Z"
    }
   },
   "id": "ddd77565d81e38fd",
   "execution_count": 367
  },
  {
   "cell_type": "code",
   "outputs": [
    {
     "name": "stdout",
     "output_type": "stream",
     "text": [
      "[LightGBM] [Info] Number of positive: 352, number of negative: 289\n",
      "[LightGBM] [Info] Auto-choosing row-wise multi-threading, the overhead of testing was 0.000229 seconds.\n",
      "You can set `force_row_wise=true` to remove the overhead.\n",
      "And if memory is not enough, you can set `force_col_wise=true`.\n",
      "[LightGBM] [Info] Total Bins 354\n",
      "[LightGBM] [Info] Number of data points in the train set: 641, number of used features: 11\n",
      "[LightGBM] [Info] [binary:BoostFromScore]: pavg=0.549142 -> initscore=0.197204\n",
      "[LightGBM] [Info] Start training from score 0.197204\n"
     ]
    }
   ],
   "source": [
    "lgbm = lgb.train(parametros, dataset, num_boost_round=150)"
   ],
   "metadata": {
    "collapsed": false,
    "ExecuteTime": {
     "end_time": "2024-04-06T21:59:11.586716Z",
     "start_time": "2024-04-06T21:59:11.535749Z"
    }
   },
   "id": "9923d11e7a0ff11e",
   "execution_count": 368
  },
  {
   "cell_type": "code",
   "outputs": [
    {
     "data": {
      "text/plain": "\"# Marcação de tempo de execução\\nfrom datetime import datetime\\ninicio = datetime.now()\\nlgbm = lgb.train(parametros, dataset)\\nfim = datetime.now()\\nprint(f'Tempo de execução: {fim - inicio}')\""
     },
     "execution_count": 369,
     "metadata": {},
     "output_type": "execute_result"
    }
   ],
   "source": [
    "\"\"\"# Marcação de tempo de execução\n",
    "from datetime import datetime\n",
    "inicio = datetime.now()\n",
    "lgbm = lgb.train(parametros, dataset)\n",
    "fim = datetime.now()\n",
    "print(f'Tempo de execução: {fim - inicio}')\"\"\""
   ],
   "metadata": {
    "collapsed": false,
    "ExecuteTime": {
     "end_time": "2024-04-06T21:59:12.953486Z",
     "start_time": "2024-04-06T21:59:12.943441Z"
    }
   },
   "id": "b5b590b811353aff",
   "execution_count": 369
  },
  {
   "cell_type": "code",
   "outputs": [
    {
     "data": {
      "text/plain": "array([0.89657674, 0.79376542, 0.96611784, 0.0345637 , 0.13164081,\n       0.32808911, 0.42011256, 0.02537998, 0.05898933, 0.08452429,\n       0.89221534, 0.90140987, 0.96633094, 0.9429581 , 0.41218974,\n       0.90669656, 0.66820624, 0.92499868, 0.90940891, 0.16515864,\n       0.9006004 , 0.93603904, 0.74183747, 0.22011269, 0.04246358,\n       0.02223214, 0.94077573, 0.97032438, 0.59886293, 0.61467825,\n       0.94414578, 0.04762212, 0.07400267, 0.0670975 , 0.78816801,\n       0.09527251, 0.17931325, 0.05683303, 0.66382839, 0.01511374,\n       0.02193676, 0.92546141, 0.92516916, 0.95050782, 0.95207891,\n       0.07706578, 0.01166637, 0.90214505, 0.37468361, 0.96673338,\n       0.90973708, 0.14357247, 0.10166874, 0.40031337, 0.9598319 ,\n       0.14179928, 0.08635226, 0.13797462, 0.55797668, 0.10313952,\n       0.94889437, 0.8967696 , 0.5851622 , 0.13936401, 0.95897641,\n       0.62845591, 0.95952399, 0.30669151, 0.91749655, 0.13936401,\n       0.87882209, 0.88958389, 0.31503401, 0.9598319 , 0.93522307,\n       0.8839228 , 0.78931175, 0.97690059, 0.90632897, 0.83154044,\n       0.85548596, 0.87293038, 0.12316906, 0.12302714, 0.87233051,\n       0.84036691, 0.86840409, 0.9594479 , 0.91197027, 0.19633164,\n       0.90552359, 0.32287008, 0.01446633, 0.21249939, 0.64903187,\n       0.10924735, 0.88564512, 0.04753229, 0.08574367, 0.15532787,\n       0.20222273, 0.75130453, 0.96873998, 0.90365416, 0.15599467,\n       0.92690214, 0.20862451, 0.02462251, 0.16975228, 0.72983494,\n       0.45325063, 0.96727016, 0.95568987, 0.92545045, 0.30891836,\n       0.95870254, 0.42011256, 0.95039408, 0.96369842, 0.89283643,\n       0.95649394, 0.98807298, 0.98150376, 0.07564598, 0.61707473,\n       0.61342298, 0.20117026, 0.73164264, 0.04481258, 0.95061855,\n       0.30637962, 0.97958086, 0.86166862, 0.79330531, 0.20328204,\n       0.47985297, 0.47642713, 0.96318759, 0.78739451, 0.06585713,\n       0.27353311, 0.93864794, 0.04003619, 0.91842033, 0.48589268,\n       0.04654251, 0.92924298, 0.64204563, 0.51534289, 0.34216061,\n       0.40873405, 0.92965182, 0.58358945, 0.07929172, 0.91886848,\n       0.03773233, 0.8283494 , 0.69127005, 0.79807688, 0.01837891,\n       0.96588669, 0.62294852, 0.95374477, 0.48611534, 0.90973708,\n       0.1457901 , 0.87728279, 0.01487402, 0.89669063, 0.33049634,\n       0.77574399, 0.74800747, 0.03167809, 0.16975228, 0.81491225,\n       0.46612616, 0.64674089, 0.25701429, 0.18349923, 0.68635021,\n       0.9598319 , 0.83869025, 0.13263632, 0.95597961, 0.9522421 ,\n       0.92646285, 0.16028117, 0.88234779, 0.92192263, 0.08671785,\n       0.57591004, 0.10470668, 0.95967281, 0.50785862, 0.91537999,\n       0.63239695, 0.24055161, 0.02365329, 0.85664172, 0.05707086,\n       0.95784179, 0.87435673, 0.2390999 , 0.96366387, 0.97801102,\n       0.21063862, 0.03433569, 0.06065329, 0.96243101, 0.25347668,\n       0.87360083, 0.97729563, 0.0104863 , 0.62190343, 0.10992783,\n       0.08603914, 0.92044062, 0.05016705, 0.8145629 , 0.75256075,\n       0.91287643, 0.16353824, 0.45984087, 0.58031618, 0.86963476,\n       0.9286985 , 0.08085302, 0.95078071, 0.30085282, 0.84923182,\n       0.02678492, 0.93819604, 0.71606169, 0.93102403, 0.0626857 ,\n       0.86866746, 0.71980352, 0.79090192, 0.02507046, 0.91475733,\n       0.96487581, 0.01166637, 0.91734492, 0.14479188, 0.15805441,\n       0.07680581, 0.19093731, 0.26068214, 0.94157294, 0.0740291 ,\n       0.97032438, 0.05185151, 0.78723302, 0.45270414, 0.01487561,\n       0.15075235, 0.97739898, 0.09649646, 0.04997909, 0.93012044,\n       0.06273764, 0.49782162, 0.55302045, 0.07267068, 0.52512139,\n       0.38729178, 0.01228617, 0.06606773, 0.923518  , 0.03984553,\n       0.02648392, 0.91072988, 0.94804434, 0.94524537, 0.83364459,\n       0.90318924])"
     },
     "execution_count": 370,
     "metadata": {},
     "output_type": "execute_result"
    }
   ],
   "source": [
    "previsoes_lgbm = lgbm.predict(x_teste)\n",
    "previsoes_lgbm"
   ],
   "metadata": {
    "collapsed": false,
    "ExecuteTime": {
     "end_time": "2024-04-06T21:59:14.405382Z",
     "start_time": "2024-04-06T21:59:14.383563Z"
    }
   },
   "id": "22d22d76c824327f",
   "execution_count": 370
  },
  {
   "cell_type": "code",
   "outputs": [
    {
     "data": {
      "text/plain": "(276,)"
     },
     "execution_count": 371,
     "metadata": {},
     "output_type": "execute_result"
    }
   ],
   "source": [
    "previsoes_lgbm.shape"
   ],
   "metadata": {
    "collapsed": false,
    "ExecuteTime": {
     "end_time": "2024-04-06T21:59:15.981099Z",
     "start_time": "2024-04-06T21:59:15.962112Z"
    }
   },
   "id": "8a21793f78d3d56",
   "execution_count": 371
  },
  {
   "cell_type": "code",
   "outputs": [],
   "source": [
    "# Quando for menor que 5 considera 0 e quando for maior ou igual a 5 considera 1\n",
    "for i in range(0, 276):\n",
    "    if previsoes_lgbm[i] >= 0.5:\n",
    "        previsoes_lgbm[i] = 1\n",
    "    else:\n",
    "        previsoes_lgbm[i] = 0"
   ],
   "metadata": {
    "collapsed": false,
    "ExecuteTime": {
     "end_time": "2024-04-06T21:59:17.369930Z",
     "start_time": "2024-04-06T21:59:17.353939Z"
    }
   },
   "id": "69124d1e450644e3",
   "execution_count": 372
  },
  {
   "cell_type": "code",
   "outputs": [
    {
     "data": {
      "text/plain": "array([1., 1., 1., 0., 0., 0., 0., 0., 0., 0., 1., 1., 1., 1., 0., 1., 1.,\n       1., 1., 0., 1., 1., 1., 0., 0., 0., 1., 1., 1., 1., 1., 0., 0., 0.,\n       1., 0., 0., 0., 1., 0., 0., 1., 1., 1., 1., 0., 0., 1., 0., 1., 1.,\n       0., 0., 0., 1., 0., 0., 0., 1., 0., 1., 1., 1., 0., 1., 1., 1., 0.,\n       1., 0., 1., 1., 0., 1., 1., 1., 1., 1., 1., 1., 1., 1., 0., 0., 1.,\n       1., 1., 1., 1., 0., 1., 0., 0., 0., 1., 0., 1., 0., 0., 0., 0., 1.,\n       1., 1., 0., 1., 0., 0., 0., 1., 0., 1., 1., 1., 0., 1., 0., 1., 1.,\n       1., 1., 1., 1., 0., 1., 1., 0., 1., 0., 1., 0., 1., 1., 1., 0., 0.,\n       0., 1., 1., 0., 0., 1., 0., 1., 0., 0., 1., 1., 1., 0., 0., 1., 1.,\n       0., 1., 0., 1., 1., 1., 0., 1., 1., 1., 0., 1., 0., 1., 0., 1., 0.,\n       1., 1., 0., 0., 1., 0., 1., 0., 0., 1., 1., 1., 0., 1., 1., 1., 0.,\n       1., 1., 0., 1., 0., 1., 1., 1., 1., 0., 0., 1., 0., 1., 1., 0., 1.,\n       1., 0., 0., 0., 1., 0., 1., 1., 0., 1., 0., 0., 1., 0., 1., 1., 1.,\n       0., 0., 1., 1., 1., 0., 1., 0., 1., 0., 1., 1., 1., 0., 1., 1., 1.,\n       0., 1., 1., 0., 1., 0., 0., 0., 0., 0., 1., 0., 1., 0., 1., 0., 0.,\n       0., 1., 0., 0., 1., 0., 0., 1., 0., 1., 0., 0., 0., 1., 0., 0., 1.,\n       1., 1., 1., 1.])"
     },
     "execution_count": 373,
     "metadata": {},
     "output_type": "execute_result"
    }
   ],
   "source": [
    "previsoes_lgbm"
   ],
   "metadata": {
    "collapsed": false,
    "ExecuteTime": {
     "end_time": "2024-04-06T21:59:18.929764Z",
     "start_time": "2024-04-06T21:59:18.909774Z"
    }
   },
   "id": "833db2a909420920",
   "execution_count": 373
  },
  {
   "cell_type": "code",
   "outputs": [
    {
     "data": {
      "text/plain": "array([1, 0, 1, 0, 0, 0, 0, 0, 0, 0, 1, 0, 1, 1, 0, 1, 1, 1, 1, 0, 1, 1,\n       1, 0, 0, 0, 1, 1, 0, 0, 1, 0, 0, 0, 1, 0, 1, 0, 1, 0, 0, 1, 1, 1,\n       1, 0, 0, 1, 1, 1, 1, 0, 0, 1, 1, 0, 0, 0, 1, 0, 1, 1, 1, 0, 1, 1,\n       1, 0, 1, 0, 1, 1, 1, 1, 1, 1, 1, 1, 1, 0, 0, 1, 0, 0, 1, 1, 0, 1,\n       1, 0, 1, 0, 0, 1, 1, 0, 1, 0, 0, 0, 0, 1, 1, 1, 0, 1, 0, 0, 0, 1,\n       0, 1, 1, 1, 0, 1, 1, 1, 1, 1, 1, 1, 1, 0, 0, 1, 0, 1, 0, 1, 0, 1,\n       0, 1, 0, 0, 0, 1, 1, 0, 1, 1, 0, 1, 0, 0, 1, 1, 1, 0, 1, 1, 0, 0,\n       0, 0, 1, 1, 1, 0, 1, 1, 1, 0, 1, 0, 1, 0, 1, 0, 1, 1, 0, 0, 1, 0,\n       0, 1, 0, 1, 1, 1, 0, 1, 1, 1, 0, 1, 1, 0, 0, 0, 1, 1, 1, 1, 1, 0,\n       1, 0, 1, 1, 0, 1, 1, 0, 0, 0, 1, 0, 1, 1, 0, 1, 0, 1, 1, 1, 1, 1,\n       1, 1, 0, 0, 0, 1, 0, 1, 1, 1, 0, 1, 0, 1, 1, 1, 1, 1, 0, 1, 1, 0,\n       1, 0, 1, 0, 0, 0, 1, 0, 1, 0, 1, 1, 0, 0, 1, 0, 0, 1, 0, 1, 1, 0,\n       0, 0, 0, 0, 1, 0, 0, 1, 1, 1, 1, 1], dtype=int64)"
     },
     "execution_count": 374,
     "metadata": {},
     "output_type": "execute_result"
    }
   ],
   "source": [
    "y_teste"
   ],
   "metadata": {
    "collapsed": false,
    "ExecuteTime": {
     "end_time": "2024-04-06T21:59:20.472789Z",
     "start_time": "2024-04-06T21:59:20.455801Z"
    }
   },
   "id": "8dd2dfabc0d823e2",
   "execution_count": 374
  },
  {
   "cell_type": "code",
   "outputs": [],
   "source": [
    "from sklearn.metrics import accuracy_score, confusion_matrix, classification_report"
   ],
   "metadata": {
    "collapsed": false,
    "ExecuteTime": {
     "end_time": "2024-04-06T21:59:21.664485Z",
     "start_time": "2024-04-06T21:59:21.647495Z"
    }
   },
   "id": "4fb7f00fdc48870",
   "execution_count": 375
  },
  {
   "cell_type": "code",
   "outputs": [
    {
     "name": "stdout",
     "output_type": "stream",
     "text": [
      "Acurácia: 87.32%\n"
     ]
    }
   ],
   "source": [
    "print(f'''Acurácia: {accuracy_score(y_teste, previsoes_lgbm)*100:.2f}%''')"
   ],
   "metadata": {
    "collapsed": false,
    "ExecuteTime": {
     "end_time": "2024-04-06T21:59:23.019508Z",
     "start_time": "2024-04-06T21:59:23.000009Z"
    }
   },
   "id": "685d6ba947c86d6e",
   "execution_count": 376
  },
  {
   "cell_type": "code",
   "outputs": [
    {
     "data": {
      "text/plain": "array([[104,  17],\n       [ 18, 137]], dtype=int64)"
     },
     "execution_count": 377,
     "metadata": {},
     "output_type": "execute_result"
    }
   ],
   "source": [
    "confusion_matrix(y_teste, previsoes_lgbm)"
   ],
   "metadata": {
    "collapsed": false,
    "ExecuteTime": {
     "end_time": "2024-04-06T21:59:24.234847Z",
     "start_time": "2024-04-06T21:59:24.217857Z"
    }
   },
   "id": "6b491ae24db417da",
   "execution_count": 377
  },
  {
   "cell_type": "code",
   "outputs": [
    {
     "name": "stdout",
     "output_type": "stream",
     "text": [
      "              precision    recall  f1-score   support\n",
      "\n",
      "           0       0.85      0.86      0.86       121\n",
      "           1       0.89      0.88      0.89       155\n",
      "\n",
      "    accuracy                           0.87       276\n",
      "   macro avg       0.87      0.87      0.87       276\n",
      "weighted avg       0.87      0.87      0.87       276\n"
     ]
    }
   ],
   "source": [
    "print(classification_report(y_teste, previsoes_lgbm))"
   ],
   "metadata": {
    "collapsed": false,
    "ExecuteTime": {
     "end_time": "2024-04-06T21:59:25.928818Z",
     "start_time": "2024-04-06T21:59:25.894775Z"
    }
   },
   "id": "5cb3146290550a9e",
   "execution_count": 378
  },
  {
   "cell_type": "code",
   "outputs": [
    {
     "data": {
      "text/plain": "array([0.91322533, 0.46783483, 0.93277683, 0.87912667, 0.79091118,\n       0.67168101, 0.12526164, 0.01399622, 0.05855133, 0.06401418,\n       0.91401951, 0.04033972, 0.84519125, 0.77457595, 0.90740634,\n       0.00679826, 0.02648392, 0.16975228, 0.28564554, 0.9429581 ,\n       0.3296561 , 0.68937129, 0.90380512, 0.87293038, 0.772692  ,\n       0.1023139 , 0.15520584, 0.84926588, 0.62665664, 0.91199231,\n       0.96305324, 0.00679826, 0.90222525, 0.96363648, 0.0443194 ,\n       0.25524952, 0.7945205 , 0.6084711 , 0.03649648, 0.87081326,\n       0.09244642, 0.93825883, 0.08784896, 0.08940363, 0.93407525,\n       0.96476373, 0.08899818, 0.94439448, 0.95059933, 0.83084074,\n       0.50661071, 0.08533556, 0.80833912, 0.29979011, 0.95120529,\n       0.36930553, 0.89667239, 0.03281802, 0.86306095, 0.07242802,\n       0.04057756, 0.04994571, 0.59371247, 0.01399622, 0.92910388,\n       0.85988102, 0.0778941 , 0.57920137, 0.9838597 , 0.00859929,\n       0.5489168 , 0.92336416, 0.96830816, 0.96304375, 0.04182618,\n       0.03029668, 0.63337444, 0.9598319 , 0.67912376, 0.95995583,\n       0.6906481 , 0.96130185, 0.96937692, 0.96118102, 0.13513013,\n       0.92508023, 0.90275714, 0.56433047, 0.96376871, 0.97045851,\n       0.13237712, 0.592541  , 0.0812393 , 0.14700654, 0.91555617,\n       0.79978921, 0.7613612 , 0.86720042, 0.921262  , 0.95317615,\n       0.70662572, 0.75638065, 0.18487714, 0.62869693, 0.91919603,\n       0.92898864, 0.87109035, 0.08894941, 0.50199106, 0.93980214,\n       0.01242279, 0.12570876, 0.92289438, 0.15748574, 0.86285778,\n       0.09874158, 0.82543099, 0.04681906, 0.64061939, 0.24586911,\n       0.06963759, 0.0348082 , 0.0095106 , 0.79700782, 0.37752678,\n       0.9838597 , 0.5122873 , 0.03984553, 0.87872114, 0.90333673,\n       0.92071927, 0.0397704 , 0.61280169, 0.79133277, 0.01473795,\n       0.36293741, 0.53239689, 0.00816394, 0.9286985 , 0.77275164,\n       0.03296273, 0.90856228, 0.67231436, 0.93424557, 0.88110882,\n       0.90062134, 0.31945721, 0.16108031, 0.37666758, 0.96413476,\n       0.95014611, 0.16961358, 0.86853039, 0.0398896 , 0.93053308,\n       0.00679826, 0.68937129, 0.94543603, 0.74655011, 0.31657991,\n       0.94345037, 0.39971358, 0.04912114, 0.03984553, 0.63451746,\n       0.33987592, 0.88763856, 0.2725156 , 0.04912114, 0.06632804,\n       0.09026833, 0.86606758, 0.71772777, 0.02738943, 0.92986039,\n       0.31130574, 0.08305699, 0.92042869, 0.85083448, 0.01477604,\n       0.07234564, 0.03919183, 0.07929172, 0.21243339, 0.04118855,\n       0.92545045, 0.94679854, 0.85910795, 0.96051894, 0.81195684,\n       0.02738943, 0.27885119, 0.89627428, 0.22928696, 0.07706578,\n       0.65669229, 0.81258424, 0.52283408, 0.79460341, 0.91365628,\n       0.19016175, 0.31641812, 0.01794955, 0.82116335, 0.72521888,\n       0.62532486, 0.68197511, 0.85791978, 0.42224568, 0.1480096 ,\n       0.73137614, 0.18412315, 0.95356235, 0.97984548, 0.85657708,\n       0.66382839, 0.85625454, 0.20390608, 0.11842515, 0.93316243,\n       0.81509583, 0.30637962, 0.1762312 , 0.86714946, 0.70796943,\n       0.55690311, 0.93405022, 0.74048371, 0.73703063, 0.93267459,\n       0.88845756, 0.94687334, 0.18151281, 0.96305324, 0.90997822,\n       0.05713918, 0.89627428, 0.06055002, 0.92357467, 0.04120123,\n       0.9689842 , 0.05387891, 0.80874592, 0.82016842, 0.38982456,\n       0.70387834, 0.6545484 , 0.90646318, 0.95534228, 0.7917042 ,\n       0.64057006, 0.94047156, 0.00679826, 0.02570435, 0.04118855,\n       0.03984553, 0.07116793, 0.05373533, 0.25880581, 0.11906034,\n       0.48056815, 0.29428633, 0.97958086, 0.50415472, 0.92192263,\n       0.27987407, 0.96118102, 0.44415386, 0.94229282, 0.15757222,\n       0.87732113, 0.9517801 , 0.10948426, 0.40959476, 0.10740487,\n       0.92655611, 0.84880754, 0.34101353, 0.04699491, 0.07864925,\n       0.93289547, 0.20469818, 0.02648392, 0.02648392, 0.79836371,\n       0.9006004 , 0.62904027, 0.82754255, 0.9354439 , 0.93252829,\n       0.87221006, 0.01487561, 0.95862586, 0.95051749, 0.28463969,\n       0.64696218, 0.07478372, 0.60580064, 0.10324181, 0.96000081,\n       0.91548095, 0.08723641, 0.03948213, 0.85086293, 0.03125404,\n       0.5889891 , 0.59450449, 0.76430301, 0.94439448, 0.07407394,\n       0.92192263, 0.0348082 , 0.67503694, 0.30319796, 0.96513797,\n       0.03187901, 0.87008753, 0.55312102, 0.87555748, 0.21949146,\n       0.7955156 , 0.87212894, 0.94207746, 0.81949666, 0.41965953,\n       0.97882153, 0.89518894, 0.84643419, 0.65667755, 0.17380754,\n       0.04123376, 0.07329344, 0.9576101 , 0.11812591, 0.00959139,\n       0.13923089, 0.8422589 , 0.97032438, 0.09687386, 0.74963301,\n       0.92640973, 0.86219442, 0.90775308, 0.962462  , 0.95580324,\n       0.38651129, 0.95071433, 0.89106001, 0.04125401, 0.81008394,\n       0.16849007, 0.97947554, 0.08612615, 0.07680581, 0.05678567,\n       0.64751573, 0.02411576, 0.67310865, 0.8964768 , 0.86046965,\n       0.30319796, 0.70687679, 0.21217002, 0.88754568, 0.87149535,\n       0.092206  , 0.02648392, 0.02648392, 0.03167809, 0.0178348 ,\n       0.87941533, 0.67619701, 0.3543627 , 0.87698133, 0.21660342,\n       0.95859271, 0.87786493, 0.93272002, 0.37584384, 0.63255188,\n       0.95757447, 0.92079302, 0.0071613 , 0.93666344, 0.09325093,\n       0.97045974, 0.18844648, 0.07924212, 0.59574354, 0.91958328,\n       0.02223214, 0.47113286, 0.8248432 , 0.67607504, 0.84763239,\n       0.92534994, 0.06293644, 0.11419863, 0.31117798, 0.88203661,\n       0.92673844, 0.9814774 , 0.82646476, 0.07234564, 0.95509184,\n       0.5528962 , 0.90661138, 0.84243892, 0.56638656, 0.07975312,\n       0.37728886, 0.54865284, 0.0478288 , 0.85657708, 0.89598167,\n       0.85006668, 0.06083246, 0.30352342, 0.18767585, 0.92272983,\n       0.92965182, 0.34955163, 0.12152473, 0.90552359, 0.86934826,\n       0.36930553, 0.70115712, 0.56885575, 0.02861292, 0.04481258,\n       0.03984553, 0.90130047, 0.9361249 , 0.51105543, 0.94216241,\n       0.97993746, 0.95117123, 0.76628246, 0.94207746, 0.86633292,\n       0.06403763, 0.31658598, 0.91366134, 0.954922  , 0.32096738,\n       0.95099161, 0.02996001, 0.92090829, 0.12694111, 0.0362953 ,\n       0.87127685, 0.07680581, 0.87388824, 0.92283674, 0.83615254,\n       0.87383375, 0.04118855, 0.03984553, 0.12424144, 0.93604256,\n       0.07242802, 0.93867386, 0.73390736, 0.82422828, 0.83715766,\n       0.92773209, 0.9276799 , 0.17810774, 0.92863977, 0.38595849,\n       0.81872948, 0.92192263, 0.96396896, 0.91868922, 0.57038149,\n       0.94143919, 0.93387512, 0.24794623, 0.04499432, 0.02411576,\n       0.73881201, 0.25059525, 0.13832405, 0.18332831, 0.03963096,\n       0.11451528, 0.91548095, 0.0670674 , 0.9689842 , 0.75146857,\n       0.33352889, 0.13421697, 0.09345569, 0.94159878, 0.85376356,\n       0.1405908 , 0.5505429 , 0.96658292, 0.91215276, 0.08888468,\n       0.96918835, 0.97240131, 0.02648392, 0.32073435, 0.75885265,\n       0.93091842, 0.92300025, 0.83717727, 0.03167809, 0.04512908,\n       0.87360083, 0.75747416, 0.60121852, 0.94856783, 0.19116941,\n       0.93213056, 0.07955938, 0.09531805, 0.83863268, 0.11048093,\n       0.92131051, 0.6535443 , 0.79067511, 0.73201568, 0.04753229,\n       0.95457007, 0.90301639, 0.04524846, 0.86913094, 0.16179696,\n       0.8756482 , 0.03616655, 0.93644172, 0.07478372, 0.91530659,\n       0.07242802, 0.78340052, 0.06224559, 0.95967281, 0.70044964,\n       0.03131405, 0.92192263, 0.78207945, 0.80347561, 0.89825226,\n       0.19893215, 0.20769615, 0.91734492, 0.87905978, 0.11591643,\n       0.03275521, 0.60213223, 0.95859271, 0.01228617, 0.92162564,\n       0.10589543, 0.85666109, 0.91938163, 0.81724196, 0.3022808 ,\n       0.86362868, 0.94100702, 0.59282122, 0.44792681, 0.0357313 ,\n       0.68188011, 0.96633094, 0.04491552, 0.5409054 , 0.96335318,\n       0.07478372, 0.90856228, 0.92545045, 0.85611634, 0.06243183,\n       0.35871686, 0.95652451, 0.13513073, 0.02223214, 0.50639236,\n       0.01565878, 0.55150675, 0.0639559 , 0.74140926, 0.96165449,\n       0.98078722, 0.71304267, 0.10194921, 0.92752315, 0.10016697,\n       0.23606217, 0.268032  , 0.03448589, 0.45419043, 0.12365042,\n       0.05227129, 0.79460135, 0.02223214, 0.1008632 , 0.55582843,\n       0.03280195, 0.11744243, 0.07242802, 0.10895021, 0.93727132,\n       0.21660342, 0.50602551, 0.8852475 , 0.42855764, 0.65237682,\n       0.93132321, 0.8648499 , 0.81121128, 0.95017381, 0.03817864,\n       0.83043244, 0.9578324 , 0.92342876, 0.27874313, 0.93854266,\n       0.91115256, 0.24421   , 0.79064716, 0.63268111, 0.90577367,\n       0.91312246, 0.7639378 , 0.86720042, 0.32665841, 0.85661155,\n       0.86665079, 0.15652702, 0.04166428, 0.87696526, 0.91008752,\n       0.13139907, 0.94121491, 0.08583846, 0.48082014, 0.04699491,\n       0.91829377])"
     },
     "execution_count": 379,
     "metadata": {},
     "output_type": "execute_result"
    }
   ],
   "source": [
    "# Análise dados de treino\n",
    "previsoes_treino = lgbm.predict(x_treino)\n",
    "previsoes_treino"
   ],
   "metadata": {
    "collapsed": false,
    "ExecuteTime": {
     "end_time": "2024-04-06T21:59:27.688424Z",
     "start_time": "2024-04-06T21:59:27.663440Z"
    }
   },
   "id": "d1da8274c1dfccd",
   "execution_count": 379
  },
  {
   "cell_type": "code",
   "outputs": [
    {
     "data": {
      "text/plain": "(641,)"
     },
     "execution_count": 380,
     "metadata": {},
     "output_type": "execute_result"
    }
   ],
   "source": [
    "previsoes_treino.shape"
   ],
   "metadata": {
    "collapsed": false,
    "ExecuteTime": {
     "end_time": "2024-04-06T21:59:29.455112Z",
     "start_time": "2024-04-06T21:59:29.439123Z"
    }
   },
   "id": "5898701ee3ff0f35",
   "execution_count": 380
  },
  {
   "cell_type": "code",
   "outputs": [],
   "source": [
    "# Quando for menor que 5 considera 0 e quando for maior ou igual a 5 considera 1\n",
    "for i in range(0, 641):\n",
    "    if previsoes_treino[i] >= 0.5:\n",
    "        previsoes_treino[i] = 1\n",
    "    else:\n",
    "        previsoes_treino[i] = 0"
   ],
   "metadata": {
    "collapsed": false,
    "ExecuteTime": {
     "end_time": "2024-04-06T21:59:30.875035Z",
     "start_time": "2024-04-06T21:59:30.867042Z"
    }
   },
   "id": "ef048b52400c98f",
   "execution_count": 381
  },
  {
   "cell_type": "code",
   "outputs": [
    {
     "data": {
      "text/plain": "array([1., 0., 1., 1., 1., 1., 0., 0., 0., 0., 1., 0., 1., 1., 1., 0., 0.,\n       0., 0., 1., 0., 1., 1., 1., 1., 0., 0., 1., 1., 1., 1., 0., 1., 1.,\n       0., 0., 1., 1., 0., 1., 0., 1., 0., 0., 1., 1., 0., 1., 1., 1., 1.,\n       0., 1., 0., 1., 0., 1., 0., 1., 0., 0., 0., 1., 0., 1., 1., 0., 1.,\n       1., 0., 1., 1., 1., 1., 0., 0., 1., 1., 1., 1., 1., 1., 1., 1., 0.,\n       1., 1., 1., 1., 1., 0., 1., 0., 0., 1., 1., 1., 1., 1., 1., 1., 1.,\n       0., 1., 1., 1., 1., 0., 1., 1., 0., 0., 1., 0., 1., 0., 1., 0., 1.,\n       0., 0., 0., 0., 1., 0., 1., 1., 0., 1., 1., 1., 0., 1., 1., 0., 0.,\n       1., 0., 1., 1., 0., 1., 1., 1., 1., 1., 0., 0., 0., 1., 1., 0., 1.,\n       0., 1., 0., 1., 1., 1., 0., 1., 0., 0., 0., 1., 0., 1., 0., 0., 0.,\n       0., 1., 1., 0., 1., 0., 0., 1., 1., 0., 0., 0., 0., 0., 0., 1., 1.,\n       1., 1., 1., 0., 0., 1., 0., 0., 1., 1., 1., 1., 1., 0., 0., 0., 1.,\n       1., 1., 1., 1., 0., 0., 1., 0., 1., 1., 1., 1., 1., 0., 0., 1., 1.,\n       0., 0., 1., 1., 1., 1., 1., 1., 1., 1., 1., 0., 1., 1., 0., 1., 0.,\n       1., 0., 1., 0., 1., 1., 0., 1., 1., 1., 1., 1., 1., 1., 0., 0., 0.,\n       0., 0., 0., 0., 0., 0., 0., 1., 1., 1., 0., 1., 0., 1., 0., 1., 1.,\n       0., 0., 0., 1., 1., 0., 0., 0., 1., 0., 0., 0., 1., 1., 1., 1., 1.,\n       1., 1., 0., 1., 1., 0., 1., 0., 1., 0., 1., 1., 0., 0., 1., 0., 1.,\n       1., 1., 1., 0., 1., 0., 1., 0., 1., 0., 1., 1., 1., 0., 1., 1., 1.,\n       1., 0., 1., 1., 1., 1., 0., 0., 0., 1., 0., 0., 0., 1., 1., 0., 1.,\n       1., 1., 1., 1., 1., 0., 1., 1., 0., 1., 0., 1., 0., 0., 0., 1., 0.,\n       1., 1., 1., 0., 1., 0., 1., 1., 0., 0., 0., 0., 0., 1., 1., 0., 1.,\n       0., 1., 1., 1., 0., 1., 1., 1., 0., 1., 0., 1., 0., 0., 1., 1., 0.,\n       0., 1., 1., 1., 1., 0., 0., 0., 1., 1., 1., 1., 0., 1., 1., 1., 1.,\n       1., 0., 0., 1., 0., 1., 1., 1., 0., 0., 0., 1., 1., 0., 0., 1., 1.,\n       0., 1., 1., 0., 0., 0., 1., 1., 1., 1., 1., 1., 1., 1., 1., 0., 0.,\n       1., 1., 0., 1., 0., 1., 0., 0., 1., 0., 1., 1., 1., 1., 0., 0., 0.,\n       1., 0., 1., 1., 1., 1., 1., 1., 0., 1., 0., 1., 1., 1., 1., 1., 1.,\n       1., 0., 0., 0., 1., 0., 0., 0., 0., 0., 1., 0., 1., 1., 0., 0., 0.,\n       1., 1., 0., 1., 1., 1., 0., 1., 1., 0., 0., 1., 1., 1., 1., 0., 0.,\n       1., 1., 1., 1., 0., 1., 0., 0., 1., 0., 1., 1., 1., 1., 0., 1., 1.,\n       0., 1., 0., 1., 0., 1., 0., 1., 0., 1., 0., 1., 1., 0., 1., 1., 1.,\n       1., 0., 0., 1., 1., 0., 0., 1., 1., 0., 1., 0., 1., 1., 1., 0., 1.,\n       1., 1., 0., 0., 1., 1., 0., 1., 1., 0., 1., 1., 1., 0., 0., 1., 0.,\n       0., 1., 0., 1., 0., 1., 1., 1., 1., 0., 1., 0., 0., 0., 0., 0., 0.,\n       0., 1., 0., 0., 1., 0., 0., 0., 0., 1., 0., 1., 1., 0., 1., 1., 1.,\n       1., 1., 0., 1., 1., 1., 0., 1., 1., 0., 1., 1., 1., 1., 1., 1., 0.,\n       1., 1., 0., 0., 1., 1., 0., 1., 0., 0., 0., 1.])"
     },
     "execution_count": 382,
     "metadata": {},
     "output_type": "execute_result"
    }
   ],
   "source": [
    "previsoes_treino"
   ],
   "metadata": {
    "collapsed": false,
    "ExecuteTime": {
     "end_time": "2024-04-06T21:59:32.214706Z",
     "start_time": "2024-04-06T21:59:32.185209Z"
    }
   },
   "id": "bb5a8826f7c420c0",
   "execution_count": 382
  },
  {
   "cell_type": "code",
   "outputs": [
    {
     "data": {
      "text/plain": "0.9017160686427457"
     },
     "execution_count": 383,
     "metadata": {},
     "output_type": "execute_result"
    }
   ],
   "source": [
    "accuracy_score(y_treino, previsoes_treino)"
   ],
   "metadata": {
    "collapsed": false,
    "ExecuteTime": {
     "end_time": "2024-04-06T21:59:33.620437Z",
     "start_time": "2024-04-06T21:59:33.608410Z"
    }
   },
   "id": "f75f3ba52fe62eb1",
   "execution_count": 383
  },
  {
   "cell_type": "code",
   "outputs": [
    {
     "data": {
      "text/plain": "array([[246,  43],\n       [ 20, 332]], dtype=int64)"
     },
     "execution_count": 384,
     "metadata": {},
     "output_type": "execute_result"
    }
   ],
   "source": [
    "confusion_matrix(y_treino, previsoes_treino)"
   ],
   "metadata": {
    "collapsed": false,
    "ExecuteTime": {
     "end_time": "2024-04-06T21:59:34.977558Z",
     "start_time": "2024-04-06T21:59:34.963567Z"
    }
   },
   "id": "ea23f1c7740925ac",
   "execution_count": 384
  },
  {
   "cell_type": "code",
   "outputs": [],
   "source": [
    "# Validação Cruzada\n",
    "from sklearn.model_selection import KFold\n",
    "from sklearn.model_selection import cross_val_score"
   ],
   "metadata": {
    "collapsed": false,
    "ExecuteTime": {
     "end_time": "2024-04-06T21:59:36.411286Z",
     "start_time": "2024-04-06T21:59:36.397786Z"
    }
   },
   "id": "a4c9389148e83338",
   "execution_count": 385
  },
  {
   "cell_type": "code",
   "outputs": [],
   "source": [
    "# Separando os dados em folds\n",
    "kfold = KFold(n_splits =30, shuffle=True, random_state=5)"
   ],
   "metadata": {
    "collapsed": false,
    "ExecuteTime": {
     "end_time": "2024-04-06T21:59:38.042146Z",
     "start_time": "2024-04-06T21:59:38.022157Z"
    }
   },
   "id": "7dc5bc6b1bdf52b1",
   "execution_count": 386
  },
  {
   "cell_type": "code",
   "outputs": [
    {
     "name": "stdout",
     "output_type": "stream",
     "text": [
      "[LightGBM] [Info] Number of positive: 489, number of negative: 397\n",
      "[LightGBM] [Info] Auto-choosing row-wise multi-threading, the overhead of testing was 0.000093 seconds.\n",
      "You can set `force_row_wise=true` to remove the overhead.\n",
      "And if memory is not enough, you can set `force_col_wise=true`.\n",
      "[LightGBM] [Info] Total Bins 395\n",
      "[LightGBM] [Info] Number of data points in the train set: 886, number of used features: 11\n",
      "[LightGBM] [Info] [binary:BoostFromScore]: pavg=0.551919 -> initscore=0.208426\n",
      "[LightGBM] [Info] Start training from score 0.208426\n",
      "[LightGBM] [Info] Number of positive: 490, number of negative: 396\n",
      "[LightGBM] [Info] Auto-choosing row-wise multi-threading, the overhead of testing was 0.000120 seconds.\n",
      "You can set `force_row_wise=true` to remove the overhead.\n",
      "And if memory is not enough, you can set `force_col_wise=true`.\n",
      "[LightGBM] [Info] Total Bins 394\n",
      "[LightGBM] [Info] Number of data points in the train set: 886, number of used features: 11\n",
      "[LightGBM] [Info] [binary:BoostFromScore]: pavg=0.553047 -> initscore=0.212991\n",
      "[LightGBM] [Info] Start training from score 0.212991\n",
      "[LightGBM] [Info] Number of positive: 486, number of negative: 400\n",
      "[LightGBM] [Info] Auto-choosing row-wise multi-threading, the overhead of testing was 0.000137 seconds.\n",
      "You can set `force_row_wise=true` to remove the overhead.\n",
      "And if memory is not enough, you can set `force_col_wise=true`.\n",
      "[LightGBM] [Info] Total Bins 392\n",
      "[LightGBM] [Info] Number of data points in the train set: 886, number of used features: 11\n",
      "[LightGBM] [Info] [binary:BoostFromScore]: pavg=0.548533 -> initscore=0.194744\n",
      "[LightGBM] [Info] Start training from score 0.194744\n",
      "[LightGBM] [Info] Number of positive: 487, number of negative: 399\n",
      "[LightGBM] [Info] Auto-choosing row-wise multi-threading, the overhead of testing was 0.000121 seconds.\n",
      "You can set `force_row_wise=true` to remove the overhead.\n",
      "And if memory is not enough, you can set `force_col_wise=true`.\n",
      "[LightGBM] [Info] Total Bins 395\n",
      "[LightGBM] [Info] Number of data points in the train set: 886, number of used features: 11\n",
      "[LightGBM] [Info] [binary:BoostFromScore]: pavg=0.549661 -> initscore=0.199303\n",
      "[LightGBM] [Info] Start training from score 0.199303\n",
      "[LightGBM] [Info] Number of positive: 490, number of negative: 396\n",
      "[LightGBM] [Info] Auto-choosing row-wise multi-threading, the overhead of testing was 0.000119 seconds.\n",
      "You can set `force_row_wise=true` to remove the overhead.\n",
      "And if memory is not enough, you can set `force_col_wise=true`.\n",
      "[LightGBM] [Info] Total Bins 394\n",
      "[LightGBM] [Info] Number of data points in the train set: 886, number of used features: 11\n",
      "[LightGBM] [Info] [binary:BoostFromScore]: pavg=0.553047 -> initscore=0.212991\n",
      "[LightGBM] [Info] Start training from score 0.212991\n",
      "[LightGBM] [Info] Number of positive: 489, number of negative: 397\n",
      "[LightGBM] [Info] Auto-choosing row-wise multi-threading, the overhead of testing was 0.000119 seconds.\n",
      "You can set `force_row_wise=true` to remove the overhead.\n",
      "And if memory is not enough, you can set `force_col_wise=true`.\n",
      "[LightGBM] [Info] Total Bins 396\n",
      "[LightGBM] [Info] Number of data points in the train set: 886, number of used features: 11\n",
      "[LightGBM] [Info] [binary:BoostFromScore]: pavg=0.551919 -> initscore=0.208426\n",
      "[LightGBM] [Info] Start training from score 0.208426\n",
      "[LightGBM] [Info] Number of positive: 490, number of negative: 396\n",
      "[LightGBM] [Info] Auto-choosing row-wise multi-threading, the overhead of testing was 0.000114 seconds.\n",
      "You can set `force_row_wise=true` to remove the overhead.\n",
      "And if memory is not enough, you can set `force_col_wise=true`.\n",
      "[LightGBM] [Info] Total Bins 395\n",
      "[LightGBM] [Info] Number of data points in the train set: 886, number of used features: 11\n",
      "[LightGBM] [Info] [binary:BoostFromScore]: pavg=0.553047 -> initscore=0.212991\n",
      "[LightGBM] [Info] Start training from score 0.212991\n",
      "[LightGBM] [Info] Number of positive: 491, number of negative: 395\n",
      "[LightGBM] [Info] Auto-choosing row-wise multi-threading, the overhead of testing was 0.000134 seconds.\n",
      "You can set `force_row_wise=true` to remove the overhead.\n",
      "And if memory is not enough, you can set `force_col_wise=true`.\n",
      "[LightGBM] [Info] Total Bins 392\n",
      "[LightGBM] [Info] Number of data points in the train set: 886, number of used features: 11\n",
      "[LightGBM] [Info] [binary:BoostFromScore]: pavg=0.554176 -> initscore=0.217558\n",
      "[LightGBM] [Info] Start training from score 0.217558\n",
      "[LightGBM] [Info] Number of positive: 491, number of negative: 395\n",
      "[LightGBM] [Info] Auto-choosing row-wise multi-threading, the overhead of testing was 0.000123 seconds.\n",
      "You can set `force_row_wise=true` to remove the overhead.\n",
      "And if memory is not enough, you can set `force_col_wise=true`.\n",
      "[LightGBM] [Info] Total Bins 394\n",
      "[LightGBM] [Info] Number of data points in the train set: 886, number of used features: 11\n",
      "[LightGBM] [Info] [binary:BoostFromScore]: pavg=0.554176 -> initscore=0.217558\n",
      "[LightGBM] [Info] Start training from score 0.217558\n",
      "[LightGBM] [Info] Number of positive: 490, number of negative: 396\n",
      "[LightGBM] [Info] Auto-choosing row-wise multi-threading, the overhead of testing was 0.000096 seconds.\n",
      "You can set `force_row_wise=true` to remove the overhead.\n",
      "And if memory is not enough, you can set `force_col_wise=true`.\n",
      "[LightGBM] [Info] Total Bins 390\n",
      "[LightGBM] [Info] Number of data points in the train set: 886, number of used features: 11\n",
      "[LightGBM] [Info] [binary:BoostFromScore]: pavg=0.553047 -> initscore=0.212991\n",
      "[LightGBM] [Info] Start training from score 0.212991\n",
      "[LightGBM] [Info] Number of positive: 492, number of negative: 394\n",
      "[LightGBM] [Info] Auto-choosing row-wise multi-threading, the overhead of testing was 0.000272 seconds.\n",
      "You can set `force_row_wise=true` to remove the overhead.\n",
      "And if memory is not enough, you can set `force_col_wise=true`.\n",
      "[LightGBM] [Info] Total Bins 396\n",
      "[LightGBM] [Info] Number of data points in the train set: 886, number of used features: 11\n",
      "[LightGBM] [Info] [binary:BoostFromScore]: pavg=0.555305 -> initscore=0.222128\n",
      "[LightGBM] [Info] Start training from score 0.222128\n",
      "[LightGBM] [Info] Number of positive: 484, number of negative: 402\n",
      "[LightGBM] [Info] Auto-choosing row-wise multi-threading, the overhead of testing was 0.000123 seconds.\n",
      "You can set `force_row_wise=true` to remove the overhead.\n",
      "And if memory is not enough, you can set `force_col_wise=true`.\n",
      "[LightGBM] [Info] Total Bins 394\n",
      "[LightGBM] [Info] Number of data points in the train set: 886, number of used features: 11\n",
      "[LightGBM] [Info] [binary:BoostFromScore]: pavg=0.546275 -> initscore=0.185633\n",
      "[LightGBM] [Info] Start training from score 0.185633\n",
      "[LightGBM] [Info] Number of positive: 489, number of negative: 397\n",
      "[LightGBM] [Info] Auto-choosing row-wise multi-threading, the overhead of testing was 0.000123 seconds.\n",
      "You can set `force_row_wise=true` to remove the overhead.\n",
      "And if memory is not enough, you can set `force_col_wise=true`.\n",
      "[LightGBM] [Info] Total Bins 394\n",
      "[LightGBM] [Info] Number of data points in the train set: 886, number of used features: 11\n",
      "[LightGBM] [Info] [binary:BoostFromScore]: pavg=0.551919 -> initscore=0.208426\n",
      "[LightGBM] [Info] Start training from score 0.208426\n",
      "[LightGBM] [Info] Number of positive: 489, number of negative: 397\n",
      "[LightGBM] [Info] Auto-choosing row-wise multi-threading, the overhead of testing was 0.000088 seconds.\n",
      "You can set `force_row_wise=true` to remove the overhead.\n",
      "And if memory is not enough, you can set `force_col_wise=true`.\n",
      "[LightGBM] [Info] Total Bins 397\n",
      "[LightGBM] [Info] Number of data points in the train set: 886, number of used features: 11\n",
      "[LightGBM] [Info] [binary:BoostFromScore]: pavg=0.551919 -> initscore=0.208426\n",
      "[LightGBM] [Info] Start training from score 0.208426\n",
      "[LightGBM] [Info] Number of positive: 494, number of negative: 392\n",
      "[LightGBM] [Info] Auto-choosing row-wise multi-threading, the overhead of testing was 0.000133 seconds.\n",
      "You can set `force_row_wise=true` to remove the overhead.\n",
      "And if memory is not enough, you can set `force_col_wise=true`.\n",
      "[LightGBM] [Info] Total Bins 397\n",
      "[LightGBM] [Info] Number of data points in the train set: 886, number of used features: 11\n",
      "[LightGBM] [Info] [binary:BoostFromScore]: pavg=0.557562 -> initscore=0.231274\n",
      "[LightGBM] [Info] Start training from score 0.231274\n",
      "[LightGBM] [Info] Number of positive: 488, number of negative: 398\n",
      "[LightGBM] [Info] Auto-choosing row-wise multi-threading, the overhead of testing was 0.000209 seconds.\n",
      "You can set `force_row_wise=true` to remove the overhead.\n",
      "And if memory is not enough, you can set `force_col_wise=true`.\n",
      "[LightGBM] [Info] Total Bins 397\n",
      "[LightGBM] [Info] Number of data points in the train set: 886, number of used features: 11\n",
      "[LightGBM] [Info] [binary:BoostFromScore]: pavg=0.550790 -> initscore=0.203863\n",
      "[LightGBM] [Info] Start training from score 0.203863\n",
      "[LightGBM] [Info] Number of positive: 489, number of negative: 397\n",
      "[LightGBM] [Info] Auto-choosing row-wise multi-threading, the overhead of testing was 0.000131 seconds.\n",
      "You can set `force_row_wise=true` to remove the overhead.\n",
      "And if memory is not enough, you can set `force_col_wise=true`.\n",
      "[LightGBM] [Info] Total Bins 396\n",
      "[LightGBM] [Info] Number of data points in the train set: 886, number of used features: 11\n",
      "[LightGBM] [Info] [binary:BoostFromScore]: pavg=0.551919 -> initscore=0.208426\n",
      "[LightGBM] [Info] Start training from score 0.208426\n",
      "[LightGBM] [Info] Number of positive: 488, number of negative: 399\n",
      "[LightGBM] [Info] Auto-choosing row-wise multi-threading, the overhead of testing was 0.000144 seconds.\n",
      "You can set `force_row_wise=true` to remove the overhead.\n",
      "And if memory is not enough, you can set `force_col_wise=true`.\n",
      "[LightGBM] [Info] Total Bins 396\n",
      "[LightGBM] [Info] Number of data points in the train set: 887, number of used features: 11\n",
      "[LightGBM] [Info] [binary:BoostFromScore]: pavg=0.550169 -> initscore=0.201354\n",
      "[LightGBM] [Info] Start training from score 0.201354\n",
      "[LightGBM] [Info] Number of positive: 490, number of negative: 397\n",
      "[LightGBM] [Info] Auto-choosing row-wise multi-threading, the overhead of testing was 0.000178 seconds.\n",
      "You can set `force_row_wise=true` to remove the overhead.\n",
      "And if memory is not enough, you can set `force_col_wise=true`.\n",
      "[LightGBM] [Info] Total Bins 396\n",
      "[LightGBM] [Info] Number of data points in the train set: 887, number of used features: 11\n",
      "[LightGBM] [Info] [binary:BoostFromScore]: pavg=0.552424 -> initscore=0.210469\n",
      "[LightGBM] [Info] Start training from score 0.210469\n",
      "[LightGBM] [Info] Number of positive: 490, number of negative: 397\n",
      "[LightGBM] [Info] Auto-choosing row-wise multi-threading, the overhead of testing was 0.000222 seconds.\n",
      "You can set `force_row_wise=true` to remove the overhead.\n",
      "And if memory is not enough, you can set `force_col_wise=true`.\n",
      "[LightGBM] [Info] Total Bins 393\n",
      "[LightGBM] [Info] Number of data points in the train set: 887, number of used features: 11\n",
      "[LightGBM] [Info] [binary:BoostFromScore]: pavg=0.552424 -> initscore=0.210469\n",
      "[LightGBM] [Info] Start training from score 0.210469\n",
      "[LightGBM] [Info] Number of positive: 491, number of negative: 396\n",
      "[LightGBM] [Info] Auto-choosing row-wise multi-threading, the overhead of testing was 0.000093 seconds.\n",
      "You can set `force_row_wise=true` to remove the overhead.\n",
      "And if memory is not enough, you can set `force_col_wise=true`.\n",
      "[LightGBM] [Info] Total Bins 394\n",
      "[LightGBM] [Info] Number of data points in the train set: 887, number of used features: 11\n",
      "[LightGBM] [Info] [binary:BoostFromScore]: pavg=0.553551 -> initscore=0.215030\n",
      "[LightGBM] [Info] Start training from score 0.215030\n",
      "[LightGBM] [Info] Number of positive: 491, number of negative: 396\n",
      "[LightGBM] [Info] Auto-choosing row-wise multi-threading, the overhead of testing was 0.000130 seconds.\n",
      "You can set `force_row_wise=true` to remove the overhead.\n",
      "And if memory is not enough, you can set `force_col_wise=true`.\n",
      "[LightGBM] [Info] Total Bins 392\n",
      "[LightGBM] [Info] Number of data points in the train set: 887, number of used features: 11\n",
      "[LightGBM] [Info] [binary:BoostFromScore]: pavg=0.553551 -> initscore=0.215030\n",
      "[LightGBM] [Info] Start training from score 0.215030\n",
      "[LightGBM] [Info] Number of positive: 493, number of negative: 394\n",
      "[LightGBM] [Info] Auto-choosing row-wise multi-threading, the overhead of testing was 0.000197 seconds.\n",
      "You can set `force_row_wise=true` to remove the overhead.\n",
      "And if memory is not enough, you can set `force_col_wise=true`.\n",
      "[LightGBM] [Info] Total Bins 398\n",
      "[LightGBM] [Info] Number of data points in the train set: 887, number of used features: 11\n",
      "[LightGBM] [Info] [binary:BoostFromScore]: pavg=0.555806 -> initscore=0.224158\n",
      "[LightGBM] [Info] Start training from score 0.224158\n",
      "[LightGBM] [Info] Number of positive: 494, number of negative: 393\n",
      "[LightGBM] [Info] Auto-choosing row-wise multi-threading, the overhead of testing was 0.000137 seconds.\n",
      "You can set `force_row_wise=true` to remove the overhead.\n",
      "And if memory is not enough, you can set `force_col_wise=true`.\n",
      "[LightGBM] [Info] Total Bins 398\n",
      "[LightGBM] [Info] Number of data points in the train set: 887, number of used features: 11\n",
      "[LightGBM] [Info] [binary:BoostFromScore]: pavg=0.556933 -> initscore=0.228726\n",
      "[LightGBM] [Info] Start training from score 0.228726\n",
      "[LightGBM] [Info] Number of positive: 493, number of negative: 394\n",
      "[LightGBM] [Info] Auto-choosing row-wise multi-threading, the overhead of testing was 0.000107 seconds.\n",
      "You can set `force_row_wise=true` to remove the overhead.\n",
      "And if memory is not enough, you can set `force_col_wise=true`.\n",
      "[LightGBM] [Info] Total Bins 394\n",
      "[LightGBM] [Info] Number of data points in the train set: 887, number of used features: 11\n",
      "[LightGBM] [Info] [binary:BoostFromScore]: pavg=0.555806 -> initscore=0.224158\n",
      "[LightGBM] [Info] Start training from score 0.224158\n",
      "[LightGBM] [Info] Number of positive: 487, number of negative: 400\n",
      "[LightGBM] [Info] Auto-choosing row-wise multi-threading, the overhead of testing was 0.000134 seconds.\n",
      "You can set `force_row_wise=true` to remove the overhead.\n",
      "And if memory is not enough, you can set `force_col_wise=true`.\n",
      "[LightGBM] [Info] Total Bins 395\n",
      "[LightGBM] [Info] Number of data points in the train set: 887, number of used features: 11\n",
      "[LightGBM] [Info] [binary:BoostFromScore]: pavg=0.549042 -> initscore=0.196800\n",
      "[LightGBM] [Info] Start training from score 0.196800\n",
      "[LightGBM] [Info] Number of positive: 489, number of negative: 398\n",
      "[LightGBM] [Info] Auto-choosing row-wise multi-threading, the overhead of testing was 0.000095 seconds.\n",
      "You can set `force_row_wise=true` to remove the overhead.\n",
      "And if memory is not enough, you can set `force_col_wise=true`.\n",
      "[LightGBM] [Info] Total Bins 395\n",
      "[LightGBM] [Info] Number of data points in the train set: 887, number of used features: 11\n",
      "[LightGBM] [Info] [binary:BoostFromScore]: pavg=0.551297 -> initscore=0.205910\n",
      "[LightGBM] [Info] Start training from score 0.205910\n",
      "[LightGBM] [Info] Number of positive: 492, number of negative: 395\n",
      "[LightGBM] [Info] Auto-choosing row-wise multi-threading, the overhead of testing was 0.000119 seconds.\n",
      "You can set `force_row_wise=true` to remove the overhead.\n",
      "And if memory is not enough, you can set `force_col_wise=true`.\n",
      "[LightGBM] [Info] Total Bins 398\n",
      "[LightGBM] [Info] Number of data points in the train set: 887, number of used features: 11\n",
      "[LightGBM] [Info] [binary:BoostFromScore]: pavg=0.554679 -> initscore=0.219593\n",
      "[LightGBM] [Info] Start training from score 0.219593\n",
      "[LightGBM] [Info] Number of positive: 493, number of negative: 394\n",
      "[LightGBM] [Info] Auto-choosing row-wise multi-threading, the overhead of testing was 0.000092 seconds.\n",
      "You can set `force_row_wise=true` to remove the overhead.\n",
      "And if memory is not enough, you can set `force_col_wise=true`.\n",
      "[LightGBM] [Info] Total Bins 392\n",
      "[LightGBM] [Info] Number of data points in the train set: 887, number of used features: 11\n",
      "[LightGBM] [Info] [binary:BoostFromScore]: pavg=0.555806 -> initscore=0.224158\n",
      "[LightGBM] [Info] Start training from score 0.224158\n",
      "[LightGBM] [Info] Number of positive: 494, number of negative: 393\n",
      "[LightGBM] [Info] Auto-choosing row-wise multi-threading, the overhead of testing was 0.000096 seconds.\n",
      "You can set `force_row_wise=true` to remove the overhead.\n",
      "And if memory is not enough, you can set `force_col_wise=true`.\n",
      "[LightGBM] [Info] Total Bins 396\n",
      "[LightGBM] [Info] Number of data points in the train set: 887, number of used features: 11\n",
      "[LightGBM] [Info] [binary:BoostFromScore]: pavg=0.556933 -> initscore=0.228726\n",
      "[LightGBM] [Info] Start training from score 0.228726\n"
     ]
    },
    {
     "data": {
      "text/plain": "array([0.87096774, 0.93548387, 0.87096774, 0.80645161, 0.93548387,\n       0.87096774, 0.74193548, 0.87096774, 0.80645161, 0.83870968,\n       0.87096774, 0.83870968, 0.96774194, 0.90322581, 0.87096774,\n       0.87096774, 0.80645161, 0.96666667, 0.93333333, 0.9       ,\n       0.8       , 0.83333333, 0.83333333, 0.66666667, 0.83333333,\n       0.96666667, 0.86666667, 0.86666667, 0.83333333, 0.86666667])"
     },
     "execution_count": 387,
     "metadata": {},
     "output_type": "execute_result"
    }
   ],
   "source": [
    "# Criando o modelo\n",
    "modelo = lgb.LGBMClassifier(num_leaves=250, objective='binary', max_depth=2, learning_rate=0.05, max_bin=250)\n",
    "resultado = cross_val_score(modelo, previsores, alvo, cv=kfold)\n",
    "resultado"
   ],
   "metadata": {
    "collapsed": false,
    "ExecuteTime": {
     "end_time": "2024-04-06T21:59:40.742235Z",
     "start_time": "2024-04-06T21:59:39.922657Z"
    }
   },
   "id": "c93b9182744d557",
   "execution_count": 387
  },
  {
   "cell_type": "code",
   "outputs": [
    {
     "name": "stdout",
     "output_type": "stream",
     "text": [
      "Acurácia Média: 86.15%\n"
     ]
    }
   ],
   "source": [
    "# Usando a média e o desvio padrão\n",
    "print(f'Acurácia Média: {resultado.mean()*100:.2f}%')"
   ],
   "metadata": {
    "collapsed": false,
    "ExecuteTime": {
     "end_time": "2024-04-06T21:59:44.656376Z",
     "start_time": "2024-04-06T21:59:44.647383Z"
    }
   },
   "id": "21373cd948ee767e",
   "execution_count": 388
  },
  {
   "cell_type": "code",
   "outputs": [],
   "source": [],
   "metadata": {
    "collapsed": false
   },
   "id": "4a8a87baefcf21d8"
  }
 ],
 "metadata": {
  "kernelspec": {
   "display_name": "Python 3",
   "language": "python",
   "name": "python3"
  },
  "language_info": {
   "codemirror_mode": {
    "name": "ipython",
    "version": 2
   },
   "file_extension": ".py",
   "mimetype": "text/x-python",
   "name": "python",
   "nbconvert_exporter": "python",
   "pygments_lexer": "ipython2",
   "version": "2.7.6"
  }
 },
 "nbformat": 4,
 "nbformat_minor": 5
}
