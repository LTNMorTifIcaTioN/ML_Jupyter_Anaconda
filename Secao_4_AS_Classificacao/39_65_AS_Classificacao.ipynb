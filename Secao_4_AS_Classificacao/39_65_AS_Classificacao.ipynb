{
 "cells": [
  {
   "cell_type": "markdown",
   "source": [
    "# 39. Pré-processamento dos dados: variáveis categóricas"
   ],
   "metadata": {
    "collapsed": false
   },
   "id": "f43b15ffc434c6ae"
  },
  {
   "cell_type": "code",
   "source": [
    "# Pré-processamento\n",
    "import numpy as np\n",
    "import pandas as pd\n",
    "df = pd.read_csv('Dataset/heart_tratado.csv', sep=',', encoding='utf-8')"
   ],
   "metadata": {
    "collapsed": false
   },
   "id": "51a7670725738719",
   "outputs": [],
   "execution_count": null
  },
  {
   "cell_type": "code",
   "source": [
    "df.head(10)"
   ],
   "metadata": {
    "collapsed": false
   },
   "id": "af06cbd139788b66",
   "outputs": [],
   "execution_count": null
  },
  {
   "cell_type": "code",
   "source": [
    "df.shape"
   ],
   "metadata": {
    "collapsed": false
   },
   "id": "52e5034159d74ce5",
   "outputs": [],
   "execution_count": null
  },
  {
   "cell_type": "code",
   "source": [
    "# Transformando as variáveis categóricas nominais em variáveis categóricas ordinais\n",
    "df2 = pd.DataFrame.copy(df)"
   ],
   "metadata": {
    "collapsed": false
   },
   "id": "82b73d93469345c4",
   "outputs": [],
   "execution_count": null
  },
  {
   "cell_type": "code",
   "source": [
    "df2['Sex'].replace({'M': 1, 'F': 0}, inplace=True)\n",
    "df2['ChestPainType'].replace({'TA':0, 'ATA':1, 'NAP':2, 'ASY':3}, inplace=True)\n",
    "df2['RestingECG'].replace({'Normal':0, 'ST':1, 'LVH':2}, inplace=True)\n",
    "df2['ExerciseAngina'].replace({'N':0, 'Y':1}, inplace=True)\n",
    "df2['ST_Slope'].replace({'Up':0, 'Flat':1 ,'Down':2}, inplace=True)"
   ],
   "metadata": {
    "collapsed": false
   },
   "id": "baae510ad49b025f",
   "outputs": [],
   "execution_count": null
  },
  {
   "cell_type": "code",
   "source": [
    "df2.head(10)"
   ],
   "metadata": {
    "collapsed": false
   },
   "id": "3f9afee2a9535e58",
   "outputs": [],
   "execution_count": null
  },
  {
   "cell_type": "code",
   "source": [
    "df2.dtypes"
   ],
   "metadata": {
    "collapsed": false
   },
   "id": "f0ef800e4298e28f",
   "outputs": [],
   "execution_count": null
  },
  {
   "cell_type": "code",
   "source": [
    "df2.shape"
   ],
   "metadata": {
    "collapsed": false
   },
   "id": "9a2c9c452cfe3e3b",
   "outputs": [],
   "execution_count": null
  },
  {
   "cell_type": "markdown",
   "source": [
    "# 40. Pré-processamento: escalonamento e separação de variáveis"
   ],
   "metadata": {
    "collapsed": false
   },
   "id": "d08cacc0e4701263"
  },
  {
   "cell_type": "code",
   "source": [
    "df2.head(10)"
   ],
   "metadata": {
    "collapsed": false
   },
   "id": "dee16986bad8041d",
   "outputs": [],
   "execution_count": null
  },
  {
   "cell_type": "code",
   "source": [
    "previsores = df2.iloc[:, 0:11].values"
   ],
   "metadata": {
    "collapsed": false
   },
   "id": "a5bd4a4617d18ae8",
   "outputs": [],
   "execution_count": null
  },
  {
   "cell_type": "code",
   "source": [
    "previsores"
   ],
   "metadata": {
    "collapsed": false
   },
   "id": "92cde52becf2fc7d",
   "outputs": [],
   "execution_count": null
  },
  {
   "cell_type": "code",
   "source": [
    "previsores.shape"
   ],
   "metadata": {
    "collapsed": false
   },
   "id": "f7e463ce9347eaa8",
   "outputs": [],
   "execution_count": null
  },
  {
   "cell_type": "code",
   "source": [
    "alvo = df2.iloc[:, 11].values"
   ],
   "metadata": {
    "collapsed": false
   },
   "id": "de3c52bb7fe75ff2",
   "outputs": [],
   "execution_count": null
  },
  {
   "cell_type": "code",
   "source": [
    "alvo"
   ],
   "metadata": {
    "collapsed": false
   },
   "id": "efda2b97fd21c4a6",
   "outputs": [],
   "execution_count": null
  },
  {
   "cell_type": "code",
   "source": [
    "alvo.shape"
   ],
   "metadata": {
    "collapsed": false
   },
   "id": "d1cb5a864c3aca20",
   "outputs": [],
   "execution_count": null
  },
  {
   "cell_type": "code",
   "source": [
    "# Análise das escalas dos atributos (Escalonamento)\n",
    "df2.describe()"
   ],
   "metadata": {
    "collapsed": false
   },
   "id": "6e01ee949feb1d78",
   "outputs": [],
   "execution_count": null
  },
  {
   "cell_type": "code",
   "source": [
    "# Padronização (utiliza a média e o desvio padrão como referência)\n",
    "from sklearn.preprocessing import StandardScaler\n",
    "previsores_esc = StandardScaler().fit_transform(previsores)\n",
    "previsores_esc"
   ],
   "metadata": {
    "collapsed": false
   },
   "id": "24e3424274f148a3",
   "outputs": [],
   "execution_count": null
  },
  {
   "cell_type": "code",
   "source": [
    "previsoresdf = pd.DataFrame(previsores_esc)\n",
    "previsoresdf"
   ],
   "metadata": {
    "collapsed": false
   },
   "id": "78966393e83eed33",
   "outputs": [],
   "execution_count": null
  },
  {
   "cell_type": "code",
   "source": [
    "previsoresdf.describe()"
   ],
   "metadata": {
    "collapsed": false
   },
   "id": "3ca4e6c4a9658e55",
   "outputs": [],
   "execution_count": null
  },
  {
   "cell_type": "markdown",
   "source": [
    "# 41. Pré-processamento: LabelEncoder e OnehotEncoder"
   ],
   "metadata": {
    "collapsed": false
   },
   "id": "abd63a48f59b44d9"
  },
  {
   "cell_type": "code",
   "source": [
    "# Transformação de variáveis categóricas em numéricas automaticamente\n",
    "from sklearn.preprocessing import LabelEncoder"
   ],
   "metadata": {
    "collapsed": false
   },
   "id": "c6934c86cb314782",
   "outputs": [],
   "execution_count": null
  },
  {
   "cell_type": "code",
   "source": [
    "df.head()"
   ],
   "metadata": {
    "collapsed": false
   },
   "id": "5d2641f48f1821a8",
   "outputs": [],
   "execution_count": null
  },
  {
   "cell_type": "code",
   "source": [
    "previsores2 = df.iloc[:, 0:11].values\n",
    "previsores2"
   ],
   "metadata": {
    "collapsed": false
   },
   "id": "e06af90a1db5d79e",
   "outputs": [],
   "execution_count": null
  },
  {
   "cell_type": "code",
   "source": [
    "previsores2[:, 1] = LabelEncoder().fit_transform(previsores2[:, 1])\n",
    "previsores2[:, 2] = LabelEncoder().fit_transform(previsores2[:, 2])\n",
    "previsores2[:, 6] = LabelEncoder().fit_transform(previsores2[:, 6])\n",
    "previsores2[:, 8] = LabelEncoder().fit_transform(previsores2[:, 8])\n",
    "previsores2[:, 10] = LabelEncoder().fit_transform(previsores2[:, 10])\n",
    "previsores2"
   ],
   "metadata": {
    "collapsed": false
   },
   "id": "78a6f6101c8e90bc",
   "outputs": [],
   "execution_count": null
  },
  {
   "cell_type": "code",
   "source": [
    "previsores2.shape"
   ],
   "metadata": {
    "collapsed": false
   },
   "id": "1fdf0528402139b2",
   "outputs": [],
   "execution_count": null
  },
  {
   "cell_type": "code",
   "source": [
    "# OneHotEncoder: Criação de variaveis Dummy (transformação de variáveis numéricas ordinais em binárias)\n",
    "from sklearn.preprocessing import OneHotEncoder\n",
    "from sklearn.compose import ColumnTransformer"
   ],
   "metadata": {
    "collapsed": false
   },
   "id": "a74e2869ad3361f1",
   "outputs": [],
   "execution_count": null
  },
  {
   "cell_type": "code",
   "source": [
    "ColumnTransformer?"
   ],
   "metadata": {
    "collapsed": false
   },
   "id": "5a4b75f74c73d06e",
   "outputs": [],
   "execution_count": null
  },
  {
   "cell_type": "code",
   "source": [
    "previsores3 = ColumnTransformer(transformers=[('OneHot', OneHotEncoder(), [1, 2, 6, 8, 10])], remainder='passthrough').fit_transform(previsores2)\n",
    "previsores3"
   ],
   "metadata": {
    "collapsed": false
   },
   "id": "51ab5e20755ff69a",
   "outputs": [],
   "execution_count": null
  },
  {
   "cell_type": "code",
   "source": [
    "previsores3.shape"
   ],
   "metadata": {
    "collapsed": false
   },
   "id": "88ed88176553755b",
   "outputs": [],
   "execution_count": null
  },
  {
   "cell_type": "code",
   "source": [
    "previsores3df = pd.DataFrame(previsores3)\n",
    "previsores3df.head(10)"
   ],
   "metadata": {
    "collapsed": false
   },
   "id": "4ff5940bc6cf57d1",
   "outputs": [],
   "execution_count": null
  },
  {
   "cell_type": "code",
   "source": [
    "df.head(10)"
   ],
   "metadata": {
    "collapsed": false
   },
   "id": "f0e8d341075a82a4",
   "outputs": [],
   "execution_count": null
  },
  {
   "cell_type": "code",
   "source": [
    "# Escalonamento\n",
    "from sklearn.preprocessing import StandardScaler"
   ],
   "metadata": {
    "collapsed": false
   },
   "id": "eb966cb23a1bd663",
   "outputs": [],
   "execution_count": null
  },
  {
   "cell_type": "code",
   "source": [
    "previsores3_esc = StandardScaler().fit_transform(previsores3)\n",
    "previsores3_esc"
   ],
   "metadata": {
    "collapsed": false
   },
   "id": "a0cabe436427e0ac",
   "outputs": [],
   "execution_count": null
  },
  {
   "cell_type": "code",
   "source": [
    "previsores3df = pd.DataFrame(previsores3_esc)\n",
    "previsores3df"
   ],
   "metadata": {
    "collapsed": false
   },
   "id": "fd2e6de0fd8eaaae",
   "outputs": [],
   "execution_count": null
  },
  {
   "cell_type": "code",
   "source": [
    "previsores3df.describe()"
   ],
   "metadata": {
    "collapsed": false
   },
   "id": "e31e156af64d7409",
   "outputs": [],
   "execution_count": null
  },
  {
   "cell_type": "code",
   "source": [
    "# Resumo do Pré-Processamento:\n",
    "# alvo = variável que se pretende atingir (tem ou não tem doença cardiaca);\n",
    "# previsores = conjunto de variáveis previsoras com as variáveis categóricas transformadas em numéricas manualmente, sem escalonar;\n",
    "# previsores_esc = previsores escalonada;\n",
    "# previsores2 = conjunto de variáveis previsoras com as variáveis categóricas transformadas em numéricas automaticamente pelo labelencoder;\n",
    "# previsores3 = previsores2 aplicada onehotencoder (variáveis dummy);\n",
    "# previsores3_esc = previsores3 escalonada."
   ],
   "metadata": {
    "collapsed": false
   },
   "id": "bc76ca318018fffc",
   "outputs": [],
   "execution_count": null
  },
  {
   "cell_type": "markdown",
   "source": [
    "# 42. Pré-processamento: Redução de dimensionalidade"
   ],
   "metadata": {
    "collapsed": false
   },
   "id": "ae3e88e875aa7307"
  },
  {
   "cell_type": "code",
   "source": [
    "# Análise dos componentes principais (Seleção de características vs Extração de características / aprendizagem não supervisionada)\n",
    "from sklearn.decomposition import PCA\n",
    "pca = PCA(n_components=3, svd_solver='auto')"
   ],
   "metadata": {
    "collapsed": false
   },
   "id": "83684a45a85543fa",
   "outputs": [],
   "execution_count": null
  },
  {
   "cell_type": "code",
   "source": [
    "previsores_pca = pca.fit_transform(previsores2)\n",
    "previsores_pca.shape"
   ],
   "metadata": {
    "collapsed": false
   },
   "id": "d32f88bed7ade7f6",
   "outputs": [],
   "execution_count": null
  },
  {
   "cell_type": "code",
   "source": [
    "previsores_pca # componentes principais"
   ],
   "metadata": {
    "collapsed": false
   },
   "id": "c4c01d5292c1c9a8",
   "outputs": [],
   "execution_count": null
  },
  {
   "cell_type": "code",
   "source": [
    "pca.explained_variance_ratio_ # razão das variáveis explicativas"
   ],
   "metadata": {
    "collapsed": false
   },
   "id": "a8b4aa025ebcf74a",
   "outputs": [],
   "execution_count": null
  },
  {
   "cell_type": "code",
   "source": [
    "pca.explained_variance_ratio_.sum() # Soma das variáveis explicativas"
   ],
   "metadata": {
    "collapsed": false
   },
   "id": "452c1485f6a2b60c",
   "outputs": [],
   "execution_count": null
  },
  {
   "cell_type": "code",
   "source": [
    "# Kernel PCA (Redução de dimensionalidade com aprendizagem não supervisionada)\n",
    "from sklearn.decomposition import KernelPCA"
   ],
   "metadata": {
    "collapsed": false
   },
   "id": "3f278bb79a2d2f06",
   "outputs": [],
   "execution_count": null
  },
  {
   "cell_type": "code",
   "source": [
    "kpca = KernelPCA(n_components=4, kernel='rbf')"
   ],
   "metadata": {
    "collapsed": false
   },
   "id": "d10673a60c4ba1f5",
   "outputs": [],
   "execution_count": null
  },
  {
   "cell_type": "code",
   "source": [
    "previsores_kernel = kpca.fit_transform(previsores2)\n",
    "previsores_kernel.shape"
   ],
   "metadata": {
    "collapsed": false
   },
   "id": "f74dd262246151cc",
   "outputs": [],
   "execution_count": null
  },
  {
   "cell_type": "code",
   "source": [
    "previsores_kernel"
   ],
   "metadata": {
    "collapsed": false
   },
   "id": "1642de9d7beacb95",
   "outputs": [],
   "execution_count": null
  },
  {
   "cell_type": "code",
   "source": [
    "# Análise do Discriminante Linear (LDA - Aprendizagem Supervisionada)\n",
    "from sklearn.discriminant_analysis import LinearDiscriminantAnalysis"
   ],
   "metadata": {
    "collapsed": false
   },
   "id": "d6c122fc42691b5e",
   "outputs": [],
   "execution_count": null
  },
  {
   "cell_type": "code",
   "source": [
    "lda = LinearDiscriminantAnalysis(n_components=1)"
   ],
   "metadata": {
    "collapsed": false
   },
   "id": "20266c5b79278950",
   "outputs": [],
   "execution_count": null
  },
  {
   "cell_type": "code",
   "source": [
    "previsores_lda = lda.fit_transform(previsores2, alvo)\n",
    "previsores_lda.shape"
   ],
   "metadata": {
    "collapsed": false
   },
   "id": "93279c491a07f0e9",
   "outputs": [],
   "execution_count": null
  },
  {
   "cell_type": "code",
   "source": [
    "previsores_lda"
   ],
   "metadata": {
    "collapsed": false
   },
   "id": "beeaba8d2137c9c4",
   "outputs": [],
   "execution_count": null
  },
  {
   "cell_type": "code",
   "source": [
    "lda.explained_variance_ratio_"
   ],
   "metadata": {
    "collapsed": false
   },
   "id": "9d00402ee1509b1e",
   "outputs": [],
   "execution_count": null
  },
  {
   "cell_type": "code",
   "source": [
    "lda.explained_variance_ratio_.sum()"
   ],
   "metadata": {
    "collapsed": false
   },
   "id": "e4f533c7fcdfd8ec",
   "outputs": [],
   "execution_count": null
  },
  {
   "cell_type": "markdown",
   "source": [
    "# 43. Pré-processamento: Salvamento de variáveis"
   ],
   "metadata": {
    "collapsed": false
   },
   "id": "9ab6f46f3220e40e"
  },
  {
   "cell_type": "code",
   "source": [
    "import pickle"
   ],
   "metadata": {
    "collapsed": false
   },
   "id": "aa713fbf27a156e7",
   "outputs": [],
   "execution_count": null
  },
  {
   "cell_type": "code",
   "source": [
    "arq1 = open('Dataset/heart.pkl', 'wb') # Criando o arquivo"
   ],
   "metadata": {
    "collapsed": false
   },
   "id": "335d37d50e9a7cd6",
   "outputs": [],
   "execution_count": null
  },
  {
   "cell_type": "code",
   "source": [
    "pickle.dump(alvo, arq1) # Salvando a variável no arquivo"
   ],
   "metadata": {
    "collapsed": false
   },
   "id": "8550ba0cb0726486",
   "outputs": [],
   "execution_count": null
  },
  {
   "cell_type": "code",
   "source": [
    "arq1.close() # Fechando o arquivo"
   ],
   "metadata": {
    "collapsed": false
   },
   "id": "7bc8be385fedbcd9",
   "outputs": [],
   "execution_count": null
  },
  {
   "cell_type": "code",
   "source": [
    "arq1 = open('Dataset/heart.pkl', 'rb') # Abrindo o arquivo"
   ],
   "metadata": {
    "collapsed": false
   },
   "id": "40b6a4192191aca6",
   "outputs": [],
   "execution_count": null
  },
  {
   "cell_type": "code",
   "source": [
    "alvo = pickle.load(arq1) # Lendo o arquivo"
   ],
   "metadata": {
    "collapsed": false
   },
   "id": "34f9971aaf2aaf74",
   "outputs": [],
   "execution_count": null
  },
  {
   "cell_type": "code",
   "source": [
    "alvo"
   ],
   "metadata": {
    "collapsed": false
   },
   "id": "603f371a740e71ed",
   "outputs": [],
   "execution_count": null
  },
  {
   "cell_type": "code",
   "source": [
    "arq1.close() # Fechando o arquivo"
   ],
   "metadata": {
    "collapsed": false
   },
   "id": "f75512a9dd4aeb27",
   "outputs": [],
   "execution_count": null
  },
  {
   "cell_type": "markdown",
   "source": [
    "# 44. Separação entre treino e teste"
   ],
   "metadata": {
    "collapsed": false
   },
   "id": "b8b82dd752a1c680"
  },
  {
   "cell_type": "code",
   "source": [
    "# Base de treino e teste\n",
    "from sklearn.model_selection import train_test_split"
   ],
   "metadata": {
    "collapsed": false
   },
   "id": "eaac1d78c42d16d2",
   "outputs": [],
   "execution_count": null
  },
  {
   "cell_type": "code",
   "source": [
    "x_treino, x_teste, y_treino, y_teste = train_test_split(previsores, alvo, test_size=0.3, random_state=0)"
   ],
   "metadata": {
    "collapsed": false
   },
   "id": "70f7fb11a8fb143",
   "outputs": [],
   "execution_count": null
  },
  {
   "cell_type": "code",
   "source": [
    "x_treino.shape"
   ],
   "metadata": {
    "collapsed": false
   },
   "id": "64ce37c3c668f1bc",
   "outputs": [],
   "execution_count": null
  },
  {
   "cell_type": "code",
   "source": [
    "x_teste.shape"
   ],
   "metadata": {
    "collapsed": false
   },
   "id": "225e5057f6851071",
   "outputs": [],
   "execution_count": null
  },
  {
   "cell_type": "code",
   "source": [
    "y_treino.shape"
   ],
   "metadata": {
    "collapsed": false
   },
   "id": "9e382a174054be5",
   "outputs": [],
   "execution_count": null
  },
  {
   "cell_type": "code",
   "source": [
    "y_teste.shape"
   ],
   "metadata": {
    "collapsed": false
   },
   "id": "2322c132df464aea",
   "outputs": [],
   "execution_count": null
  },
  {
   "cell_type": "markdown",
   "source": [
    "# 45. Naive Bayes : Teoria\n",
    "\"\"\"\n",
    "P(A|B) = [P(B|A) * P(A)] / P(B)\n",
    "P(A|B)*P(B) = P(A^B) = P(B^A)\n",
    "\n",
    "Aplicações:\n",
    "> Filtros de spam.\n",
    "> Diagnostico médico.\n",
    "> Classificação de imagens.\n",
    "> Análise de crédito.\n",
    "> Separação de documentos.\n",
    "> Previsão de falhas.\n",
    "\n",
    "Vantagens:\n",
    "> Rápido e de fácil entendimento.\n",
    "> Pouco esforço computacional.\n",
    "> Bom desemprenho com muitos dados.\n",
    "> Boas previsões com poucos dados.\n",
    "\n",
    "Desvantagens:\n",
    "> Considera atributos independentes.\n",
    "> Atribuição de um valor nulo de probabilidade quando uma classe contida no conjunto de teste não se apresenta no conjunto de treino.\n",
    "\"\"\""
   ],
   "metadata": {
    "collapsed": false
   },
   "id": "88d6eb87fdbbc4db"
  },
  {
   "cell_type": "markdown",
   "source": [
    "# 46. Naive Bayes no Python\n",
    "\"https://scikit-learn.org/stable/modules/naive_bayes.html\""
   ],
   "metadata": {
    "collapsed": false
   },
   "id": "69ee1f9cfad55352"
  },
  {
   "cell_type": "code",
   "source": [
    "# Naive Bayes\n",
    "from sklearn.naive_bayes import GaussianNB"
   ],
   "metadata": {
    "collapsed": false
   },
   "id": "839907b4b300721",
   "outputs": [],
   "execution_count": null
  },
  {
   "cell_type": "code",
   "source": [
    "# Treinamento do algoritmo\n",
    "naive = GaussianNB()\n",
    "naive.fit(x_treino, y_treino)"
   ],
   "metadata": {
    "collapsed": false
   },
   "id": "2db1945a9a61c654",
   "outputs": [],
   "execution_count": null
  },
  {
   "cell_type": "code",
   "source": [
    "# Avaliação do algoritmo\n",
    "previsoes_naive = naive.predict(x_teste)\n",
    "previsoes_naive"
   ],
   "metadata": {
    "collapsed": false
   },
   "id": "af9f4761fe9cef60",
   "outputs": [],
   "execution_count": null
  },
  {
   "cell_type": "code",
   "source": [
    "y_teste"
   ],
   "metadata": {
    "collapsed": false
   },
   "id": "e361b27a921f91a3",
   "outputs": [],
   "execution_count": null
  },
  {
   "cell_type": "code",
   "source": [
    "from sklearn.metrics import accuracy_score, confusion_matrix, classification_report"
   ],
   "metadata": {
    "collapsed": false
   },
   "id": "7c9fe96545435698",
   "outputs": [],
   "execution_count": null
  },
  {
   "cell_type": "code",
   "source": [
    "accuracy_score(y_teste, previsoes_naive)"
   ],
   "metadata": {
    "collapsed": false
   },
   "id": "52d422f6f89e4eef",
   "outputs": [],
   "execution_count": null
  },
  {
   "cell_type": "code",
   "source": [
    "print(f'Acurácia: {accuracy_score(y_teste, previsoes_naive)*100:.2f}%')"
   ],
   "metadata": {
    "collapsed": false
   },
   "id": "e3b5928cd4bebfd8",
   "outputs": [],
   "execution_count": null
  },
  {
   "cell_type": "code",
   "source": [
    "confusion_matrix(y_teste, previsoes_naive)"
   ],
   "metadata": {
    "collapsed": false
   },
   "id": "93146f7eab4684c9",
   "outputs": [],
   "execution_count": null
  },
  {
   "cell_type": "code",
   "source": [
    "print(classification_report(y_teste, previsoes_naive))"
   ],
   "metadata": {
    "collapsed": false
   },
   "id": "cba50bf5b157c6e6",
   "outputs": [],
   "execution_count": null
  },
  {
   "cell_type": "code",
   "source": [
    "# Análise dos dados de treino\n",
    "previsoes_treino = naive.predict(x_treino)\n",
    "previsoes_treino"
   ],
   "metadata": {
    "collapsed": false
   },
   "id": "d2132b48912b80a",
   "outputs": [],
   "execution_count": null
  },
  {
   "cell_type": "code",
   "source": [
    "accuracy_score(y_treino, previsoes_treino)"
   ],
   "metadata": {
    "collapsed": false
   },
   "id": "90a1182bed9adcae",
   "outputs": [],
   "execution_count": null
  },
  {
   "cell_type": "code",
   "source": [
    "confusion_matrix(y_treino, previsoes_treino)"
   ],
   "metadata": {
    "collapsed": false
   },
   "id": "52b4990282737141",
   "outputs": [],
   "execution_count": null
  },
  {
   "cell_type": "code",
   "source": [
    "print(classification_report(y_treino, previsoes_treino))"
   ],
   "metadata": {
    "collapsed": false
   },
   "id": "3f110bb0d40e8599",
   "outputs": [],
   "execution_count": null
  },
  {
   "cell_type": "code",
   "source": [
    "# Validação Cruzada\n",
    "from sklearn.model_selection import KFold\n",
    "from sklearn.model_selection import cross_val_score"
   ],
   "metadata": {
    "collapsed": false
   },
   "id": "f47e7b16953b26cb",
   "outputs": [],
   "execution_count": null
  },
  {
   "cell_type": "code",
   "source": [
    "# Separando os dados em folds\n",
    "kfold = KFold(n_splits=30, shuffle=True, random_state=5)"
   ],
   "metadata": {
    "collapsed": false
   },
   "id": "4aae179add58cd39",
   "outputs": [],
   "execution_count": null
  },
  {
   "cell_type": "code",
   "source": [
    "# Criando o modelo\n",
    "modelo = GaussianNB()\n",
    "resultado = cross_val_score(modelo, previsores3_esc, alvo, cv=kfold)\n",
    "resultado"
   ],
   "metadata": {
    "collapsed": false
   },
   "id": "e8daf21a9e02b02b",
   "outputs": [],
   "execution_count": null
  },
  {
   "cell_type": "code",
   "source": [
    "# Usando a média e o desvio padrão\n",
    "print(f'Acurácia Média: {resultado.mean()*100:.2f}%')"
   ],
   "metadata": {
    "collapsed": false
   },
   "id": "e196dd0955e3d363",
   "outputs": [],
   "execution_count": null
  },
  {
   "cell_type": "markdown",
   "source": [
    "# 47. Máquina de Vetor de Suporte (SVM): Teoria\n",
    "\"\"\"\n",
    "Equação:\n",
    "w-> * x-> +b >= 0\n",
    "Onde:\n",
    "w = Vetor hiperplano;\n",
    "x = vetor pertencente ao hiperplano;\n",
    "b = deslocamento em relação à origem;\n",
    "\n",
    "Aplicações:\n",
    "> Classificação e Regressão.\n",
    "> Categorização de textos.\n",
    "> Reconhecimento de imagem.\n",
    "> Detecção facial.\n",
    "> Detecção e anomalias.\n",
    "> Reconhecimento de letras manuscritas.\n",
    "\n",
    "Constante de Penalização (custo)\n",
    "> Hiperparâmetro C: controla a tolerância a erros.\n",
    "    - Quanto maior o valor de C, maior a probabilidade de overfitting e o tempo.\n",
    "    - Quanto menor o valor de C, maior o tempo de treinamento e maior a probabilidade de underfitting.\n",
    "    \n",
    "> Ajuste do hiperparâmetro Gama para otimização.\n",
    "\n",
    "Vantagens: \n",
    "> Não é influenciado por dados discrepantes.\n",
    "> Solução de problemas lineares e não lineares.\n",
    "> Muito efetivo para datasets grandes.\n",
    "> Consegue aprender com características não pertencentes aos dados.\n",
    "\n",
    "Desvantagens:\n",
    "> Difícil interpretação teórica devido à matemática complexa.\n",
    "> Difícil visualização gráfica.\n",
    "> É lento comparado a outros algoritmos.\n",
    "\"\"\""
   ],
   "metadata": {
    "collapsed": false
   },
   "id": "f935c5f6471e5f7d"
  },
  {
   "cell_type": "markdown",
   "source": [
    "# 48. Máquina de Vetor de Suporte (SVM): Aplicação"
   ],
   "metadata": {
    "collapsed": false
   },
   "id": "d021eaa8f46f1fcb"
  },
  {
   "cell_type": "code",
   "source": [
    "# Máquinas de Vetores de Suporte (SVM)\n",
    "\"https://scikit-learn.org/stable/modules/generated/sklearn.svm.SVC.html\""
   ],
   "metadata": {
    "collapsed": false
   },
   "id": "575c07aedd02a5dd",
   "outputs": [],
   "execution_count": null
  },
  {
   "cell_type": "code",
   "source": [
    "from sklearn.svm import SVC"
   ],
   "metadata": {
    "collapsed": false
   },
   "id": "16f6a4fc9c911d5f",
   "outputs": [],
   "execution_count": null
  },
  {
   "cell_type": "code",
   "source": [
    "svm = SVC(kernel = 'rbf', random_state=1, C=2)\n",
    "svm.fit(x_treino, y_treino)"
   ],
   "metadata": {
    "collapsed": false
   },
   "id": "e6d1c36ed66f2f63",
   "outputs": [],
   "execution_count": null
  },
  {
   "cell_type": "code",
   "source": [
    "previsoes_svm = svm.predict(x_teste)\n",
    "previsoes_svm"
   ],
   "metadata": {
    "collapsed": false
   },
   "id": "49939fdbd9dcdff3",
   "outputs": [],
   "execution_count": null
  },
  {
   "cell_type": "code",
   "source": [
    "y_teste"
   ],
   "metadata": {
    "collapsed": false
   },
   "id": "1810cb43f9bb56a",
   "outputs": [],
   "execution_count": null
  },
  {
   "cell_type": "code",
   "source": [
    "from sklearn.metrics import accuracy_score, confusion_matrix, classification_report"
   ],
   "metadata": {
    "collapsed": false
   },
   "id": "19b8bcfd78207721",
   "outputs": [],
   "execution_count": null
  },
  {
   "cell_type": "code",
   "source": [
    "accuracy_score(y_teste, previsoes_svm)"
   ],
   "metadata": {
    "collapsed": false
   },
   "id": "a9c0dcc210c817c1",
   "outputs": [],
   "execution_count": null
  },
  {
   "cell_type": "code",
   "source": [
    "print(f'Acurácia: {accuracy_score(y_teste, previsoes_svm)*100:.2f}%')"
   ],
   "metadata": {
    "collapsed": false
   },
   "id": "b500622deb63f12a",
   "outputs": [],
   "execution_count": null
  },
  {
   "cell_type": "code",
   "source": [
    "confusion_matrix(y_teste, previsoes_svm)"
   ],
   "metadata": {
    "collapsed": false
   },
   "id": "80cf6005730be87d",
   "outputs": [],
   "execution_count": null
  },
  {
   "cell_type": "code",
   "source": [
    "print(classification_report(y_teste, previsoes_svm))"
   ],
   "metadata": {
    "collapsed": false
   },
   "id": "6de0152933b0d9b8",
   "outputs": [],
   "execution_count": null
  },
  {
   "cell_type": "code",
   "source": [
    "# Análise de dados de treino\n",
    "previsoes_treino = svm.predict(x_treino)\n",
    "previsoes_treino"
   ],
   "metadata": {
    "collapsed": false
   },
   "id": "c269aff4a2ffcb0",
   "outputs": [],
   "execution_count": null
  },
  {
   "cell_type": "code",
   "source": [
    "accuracy_score(y_treino, previsoes_treino)"
   ],
   "metadata": {
    "collapsed": false
   },
   "id": "be79386d5618f639",
   "outputs": [],
   "execution_count": null
  },
  {
   "cell_type": "code",
   "source": [
    "confusion_matrix(y_treino, previsoes_treino)"
   ],
   "metadata": {
    "collapsed": false
   },
   "id": "fa1bfaf81a78b6ba",
   "outputs": [],
   "execution_count": null
  },
  {
   "cell_type": "code",
   "source": [
    "# Validaçõa Cruzada\n",
    "from sklearn.model_selection import KFold\n",
    "from sklearn.model_selection import cross_val_score"
   ],
   "metadata": {
    "collapsed": false
   },
   "id": "ae5edd81526e1b15",
   "outputs": [],
   "execution_count": null
  },
  {
   "cell_type": "code",
   "source": [
    "# Separando os dados em folds\n",
    "kfold = KFold(n_splits=30, shuffle=True, random_state=5)"
   ],
   "metadata": {
    "collapsed": false
   },
   "id": "ff40a1d4b0fd895b",
   "outputs": [],
   "execution_count": null
  },
  {
   "cell_type": "code",
   "source": [
    "# Criando o modelo\n",
    "modelo = SVC(kernel = 'rbf', random_state=1, C=2)\n",
    "resultado = cross_val_score(modelo, previsores3_esc, alvo, cv=kfold)\n",
    "resultado"
   ],
   "metadata": {
    "collapsed": false
   },
   "id": "ce0154844800c80e",
   "outputs": [],
   "execution_count": null
  },
  {
   "cell_type": "code",
   "source": [
    "# Usando a média e o desvio padrão\n",
    "print(f'Acurácia Média: {resultado.mean()*100:.2f}%')"
   ],
   "metadata": {
    "collapsed": false
   },
   "id": "77c0eb85fc2640f7",
   "outputs": [],
   "execution_count": null
  },
  {
   "cell_type": "markdown",
   "source": [
    "# 49. Regressão Logística: Aplicação"
   ],
   "metadata": {
    "collapsed": false
   },
   "id": "cb745ddaf940cfce"
  },
  {
   "cell_type": "code",
   "source": [
    "\"\"\"\n",
    "Regressão Logística\n",
    "> Algoritmo de classificação em aprendizagem supervisionada.\n",
    "> Utiliza conceitos de regressão linear em seu modelo matemático\n",
    "> Equação: p = 1/(1+e^-z) onde z=(b0+b1*x1+b2*x2+...+bn*xn)\n",
    "p = probabilidade de pertencer a determinada classe;\n",
    "e = número de euler;\n",
    "b0 = intercepto;\n",
    "bn = coeficientes;\n",
    "xn = variáveis dependentes;\n",
    "\n",
    "Aplicações:\n",
    "> Está presente em diversas aplicações em várias áreas de estudo como na economia, bioestatística, psicometria, medicina, ciências sociais...\n",
    "\n",
    "Vantagens:\n",
    "> Fácil implementação;\n",
    "> Teoria consolidada;\n",
    "> Excelente desempenho;\n",
    "> Indica o valor de probabilidade para cada instância:\n",
    "\"\"\""
   ],
   "metadata": {
    "collapsed": false
   },
   "id": "6443b6f79f9ede54",
   "outputs": [],
   "execution_count": null
  },
  {
   "cell_type": "markdown",
   "source": [
    "# 50. Regressão Logística no Python"
   ],
   "metadata": {
    "collapsed": false
   },
   "id": "273fd556442be3a1"
  },
  {
   "cell_type": "code",
   "source": [
    "\"https: scikit-learn.org/stable/modules/generated/sklearn.linear_model.LogisticRegression.html\""
   ],
   "metadata": {
    "collapsed": false
   },
   "id": "749d3f25465b2c8c",
   "outputs": [],
   "execution_count": null
  },
  {
   "cell_type": "code",
   "source": [
    "from sklearn.linear_model import LogisticRegression"
   ],
   "metadata": {
    "collapsed": false
   },
   "id": "baacf3cc63a7ef64",
   "outputs": [],
   "execution_count": null
  },
  {
   "cell_type": "code",
   "source": [
    "logistica = LogisticRegression(random_state=1, max_iter=500, penalty=\"l2\", tol=0.0001, C=1, solver=\"lbfgs\") \n",
    "logistica.fit(x_treino, y_treino)"
   ],
   "metadata": {
    "collapsed": false
   },
   "id": "ecda1daed55885a3",
   "outputs": [],
   "execution_count": null
  },
  {
   "cell_type": "code",
   "source": [
    "logistica.intercept_"
   ],
   "metadata": {
    "collapsed": false
   },
   "id": "dbd09fedd16c1cea",
   "outputs": [],
   "execution_count": null
  },
  {
   "cell_type": "code",
   "source": [
    "logistica.coef_"
   ],
   "metadata": {
    "collapsed": false
   },
   "id": "83000f879dd663f6",
   "outputs": [],
   "execution_count": null
  },
  {
   "cell_type": "code",
   "source": [
    "previsoes_logistica = logistica.predict(x_teste)\n",
    "previsoes_logistica"
   ],
   "metadata": {
    "collapsed": false
   },
   "id": "5c96737430b45147",
   "outputs": [],
   "execution_count": null
  },
  {
   "cell_type": "code",
   "source": [
    "from sklearn.metrics import accuracy_score, confusion_matrix, classification_report"
   ],
   "metadata": {
    "collapsed": false
   },
   "id": "ba60b67a76a27730",
   "outputs": [],
   "execution_count": null
  },
  {
   "cell_type": "code",
   "source": [
    "print(f'''Acurácia: {accuracy_score(y_teste, previsoes_logistica)*100:.2f}%''')"
   ],
   "metadata": {
    "collapsed": false
   },
   "id": "587b02ab7083be70",
   "outputs": [],
   "execution_count": null
  },
  {
   "cell_type": "code",
   "source": [
    "confusion_matrix(y_teste, previsoes_logistica)"
   ],
   "metadata": {
    "collapsed": false
   },
   "id": "54b8c1050f0241ac",
   "outputs": [],
   "execution_count": null
  },
  {
   "cell_type": "code",
   "source": [
    "print(classification_report(y_teste, previsoes_logistica))"
   ],
   "metadata": {
    "collapsed": false
   },
   "id": "dfe24a988c8d6094",
   "outputs": [],
   "execution_count": null
  },
  {
   "cell_type": "code",
   "source": [
    "# Análise dados de treino\n",
    "previsoes_treino = logistica.predict(x_treino)\n",
    "previsoes_treino"
   ],
   "metadata": {
    "collapsed": false
   },
   "id": "cf7da5cb5330a9d9",
   "outputs": [],
   "execution_count": null
  },
  {
   "cell_type": "code",
   "source": [
    "accuracy_score(y_treino, previsoes_treino)"
   ],
   "metadata": {
    "collapsed": false
   },
   "id": "2f62bd84912f4ed6",
   "outputs": [],
   "execution_count": null
  },
  {
   "cell_type": "code",
   "source": [
    "confusion_matrix(y_treino, previsoes_treino)"
   ],
   "metadata": {
    "collapsed": false
   },
   "id": "2b570ce8d69a2a95",
   "outputs": [],
   "execution_count": null
  },
  {
   "cell_type": "code",
   "source": [
    "# Validação Cruzada\n",
    "from sklearn.model_selection import KFold\n",
    "from sklearn.model_selection import cross_val_score"
   ],
   "metadata": {
    "collapsed": false
   },
   "id": "61724051d1228fa9",
   "outputs": [],
   "execution_count": null
  },
  {
   "cell_type": "code",
   "source": [
    "# Separando os dados em folds\n",
    "kfold = KFold(n_splits=30, shuffle=True, random_state=5)"
   ],
   "metadata": {
    "collapsed": false
   },
   "id": "5eb0055fff787274",
   "outputs": [],
   "execution_count": null
  },
  {
   "cell_type": "code",
   "source": [
    "# Criando o modelo\n",
    "modelo = LogisticRegression(random_state=1, max_iter=500, penalty=\"l2\", tol=0.0001, C=1, solver=\"lbfgs\") \n",
    "resultado = cross_val_score(modelo, previsores3_esc, alvo, cv=kfold)\n",
    "resultado"
   ],
   "metadata": {
    "collapsed": false
   },
   "id": "4ed6181656e72bd9",
   "outputs": [],
   "execution_count": null
  },
  {
   "cell_type": "code",
   "source": [
    "# Usando a média e o desvio padrão\n",
    "print(f'Acurácia Média: {resultado.mean()*100:.2f}%')"
   ],
   "metadata": {
    "collapsed": false
   },
   "id": "f17c081366680204",
   "outputs": [],
   "execution_count": null
  },
  {
   "cell_type": "markdown",
   "source": [
    "# 51. KNN (Aprendizagem Baseada em Instâncias)"
   ],
   "metadata": {
    "collapsed": false
   },
   "id": "c74490024ea6bc24"
  },
  {
   "cell_type": "code",
   "source": [
    "# Aprendizagem baseada em instâncias (KNN)\n",
    "\"\"\"\n",
    "> Algoritmo de classificação em aprendizagem supervisionada.\n",
    "> KNN é a sigla de K Nearest Neighbors (K vizinhos mais próximos).\n",
    "> O Knn realiza classificação de instâncias (dados) em classes.\n",
    "> Não possuí um modelo matemático, apenas classifica uma instância através de cálculos de distâncias\n",
    "\n",
    "Vantagens:\n",
    "> Fácil implementação;\n",
    "> Fácil entendimento;\n",
    "> Excelente desempenho em situações de dados com características complexas;\n",
    "> Poucos parâmetros para ajustar;\n",
    "\n",
    "Desvantagens:\n",
    "> Alto custo computacional;\n",
    "> Parâmetro k é ajustado na tentativa e erro;\n",
    "\"\"\""
   ],
   "metadata": {
    "collapsed": false
   },
   "id": "ee3cb71a8d7d82b9",
   "outputs": [],
   "execution_count": null
  },
  {
   "cell_type": "markdown",
   "source": [
    "# 52. KNN no Python\n",
    "'https://scikit-learn.org/stable/modules/generated/sklearn.neighbors.KNeighborsClassifier.html'"
   ],
   "metadata": {
    "collapsed": false
   },
   "id": "589a0eccef3bae21"
  },
  {
   "cell_type": "code",
   "source": [
    "from sklearn.neighbors import KNeighborsClassifier"
   ],
   "metadata": {
    "collapsed": false
   },
   "id": "5f8317b15f6e9eb5",
   "outputs": [],
   "execution_count": null
  },
  {
   "cell_type": "code",
   "source": [
    "knn = KNeighborsClassifier(n_neighbors=7, metric='minkowski', p=1)\n",
    "knn.fit(x_treino, y_treino)"
   ],
   "metadata": {
    "collapsed": false
   },
   "id": "7ccea4ad7239ffda",
   "outputs": [],
   "execution_count": null
  },
  {
   "cell_type": "markdown",
   "source": [
    "'https://scikit-learn.org/stable/modules/generated/sklearn.metrics.DistanceMetric.html'"
   ],
   "metadata": {
    "collapsed": false
   },
   "id": "7ec8efdd721e4f8d"
  },
  {
   "cell_type": "code",
   "source": [
    "previsoes_knn = knn.predict(x_teste)\n",
    "previsoes_knn"
   ],
   "metadata": {
    "collapsed": false
   },
   "id": "6db85f2e05580f8c",
   "outputs": [],
   "execution_count": null
  },
  {
   "cell_type": "code",
   "source": [
    "y_teste"
   ],
   "metadata": {
    "collapsed": false
   },
   "id": "df04308c35a58cea",
   "outputs": [],
   "execution_count": null
  },
  {
   "cell_type": "code",
   "source": [
    "from sklearn.metrics import accuracy_score, confusion_matrix, classification_report"
   ],
   "metadata": {
    "collapsed": false
   },
   "id": "474cf7ceade791df",
   "outputs": [],
   "execution_count": null
  },
  {
   "cell_type": "code",
   "source": [
    "print(f'''Acurácia: {accuracy_score(y_teste, previsoes_knn)*100:.2f}%''')"
   ],
   "metadata": {
    "collapsed": false
   },
   "id": "f78a121b25c34d1c",
   "outputs": [],
   "execution_count": null
  },
  {
   "cell_type": "code",
   "source": [
    "confusion_matrix(y_teste, previsoes_knn)"
   ],
   "metadata": {
    "collapsed": false
   },
   "id": "e3e445c12dc08a43",
   "outputs": [],
   "execution_count": null
  },
  {
   "cell_type": "code",
   "source": [
    "print(classification_report(y_teste, previsoes_knn))"
   ],
   "metadata": {
    "collapsed": false
   },
   "id": "18f34f7ee6ed14b7",
   "outputs": [],
   "execution_count": null
  },
  {
   "cell_type": "code",
   "source": [
    "# Análise dados de treino\n",
    "previsoes_treino = knn.predict(x_treino)\n",
    "previsoes_treino"
   ],
   "metadata": {
    "collapsed": false
   },
   "id": "b9f08ccb74a27e34",
   "outputs": [],
   "execution_count": null
  },
  {
   "cell_type": "code",
   "source": [
    "accuracy_score(y_treino, previsoes_treino)"
   ],
   "metadata": {
    "collapsed": false
   },
   "id": "b9b95dc808bb1ec9",
   "outputs": [],
   "execution_count": null
  },
  {
   "cell_type": "code",
   "source": [
    "confusion_matrix(y_treino, previsoes_treino)"
   ],
   "metadata": {
    "collapsed": false
   },
   "id": "f8738105d50905ac",
   "outputs": [],
   "execution_count": null
  },
  {
   "cell_type": "code",
   "source": [
    "# Validação Cruzada\n",
    "from sklearn.model_selection import KFold\n",
    "from sklearn.model_selection import cross_val_score"
   ],
   "metadata": {
    "collapsed": false
   },
   "id": "51c89a1004f0f032",
   "outputs": [],
   "execution_count": null
  },
  {
   "cell_type": "code",
   "source": [
    "# Separando os dados em folds\n",
    "kfold = KFold(n_splits=30, shuffle=True, random_state=5)"
   ],
   "metadata": {
    "collapsed": false
   },
   "id": "b5b8a6d499846d05",
   "outputs": [],
   "execution_count": null
  },
  {
   "cell_type": "code",
   "source": [
    "# Criando o modelo\n",
    "modelo = KNeighborsClassifier(n_neighbors=7, metric='minkowski', p=1)\n",
    "resultado = cross_val_score(modelo, previsores3_esc, alvo, cv=kfold)\n",
    "resultado"
   ],
   "metadata": {
    "collapsed": false
   },
   "id": "ec8c5131fd909ca2",
   "outputs": [],
   "execution_count": null
  },
  {
   "cell_type": "code",
   "source": [
    "# Usando a média e o desvio padrão\n",
    "print(f'Acurácia Média: {resultado.mean()*100:.2f}%')"
   ],
   "metadata": {
    "collapsed": false
   },
   "id": "cd2b9751639ee373",
   "outputs": [],
   "execution_count": null
  },
  {
   "cell_type": "markdown",
   "source": [
    "# 53. Árvore de Decisão: Teoria"
   ],
   "metadata": {
    "collapsed": false
   },
   "id": "c934809ebc41eaba"
  },
  {
   "cell_type": "code",
   "source": [
    "# Decision Tree\n",
    "\"\"\"\n",
    "> Aplicado em problemas de aprendizagem supervisionada tanto de classificação (mais utilizado) como de regressão.\n",
    "> Seleciona a ordem que os atributos irão aparecer na árvore, sempre de cima para baixo, conforme sua importância para a predição, assim como determina a separação dos ramos da árvore.\n",
    "> Para determinar o nível de importância de um atributo, denominado de ganho de informação, utiliza-se de várias métricas, sendo que as mais e aplicadas são a entropia (medida da falta de homogeneidade) e o índice de Gini (medida do grau de heterogeneidade).\n",
    "> Cálculo da Entropia (E):\n",
    "    E(S) = -∑ p(xi)log2p(xi), onde \n",
    "        p(xi) = probabilidade de ocorrer os atributos nos dados.\n",
    "        n = número de classes que pode ser atingida.\n",
    "> Cálculo do índice de Gini (Gi):\n",
    "    Gi(S) = 1 - ∑ p(xi)^2, onde \n",
    "        p(xi) = probabilidade de ocorrer os atributos nos dados.\n",
    "        n = número de classes que pode ser atingida.\n",
    "> Cálculo do ganho de informação (G):\n",
    "    G(S, A) = E(S) - ∑ p(a)*P(i|a) * log2(P(i|a)), onde\n",
    "        p(a) = probabilidade de ocorrer o atributo a nos dados.\n",
    "        p(i|a) = probabilidade de i ocorrer, dado que a já tenha ocorrido.\n",
    "        n = número de classes que pode ser atingida.\n",
    "        \n",
    "Podagem das Árvores\n",
    "> Objetiva a probabilidade de overfitting\n",
    "> Processo de podagem:\n",
    "    - percorre a árvore em profundidade.\n",
    "    - para cada nó de decisão calcula o erro no nó e a soma dos erros nos nós descendentes.\n",
    "    - se o erro do nó é menor ou igual à soma dos erros dos nós descendentes, então o nó é transformado em folha.\n",
    "    \n",
    "Vantagens:\n",
    "> Fácil entendimento e interpretação.\n",
    "> Normalmente não necessitam de preparações sofisticadas nos dados (label Encoder e OneHotEncoder).\n",
    "> Trabalha com valores faltantes, variáveis categóricas e numéricas.\n",
    "> Atua com dados não linearmente separáveis.\n",
    "\n",
    "Desvantagens:\n",
    "> Sujeito a problemas de overfitting.\n",
    "> Os modelos são instáveis (possuem alta variância).\n",
    "> Não garante a construção da melhor estrutura para os dados de treino em questão (Necessita treinar várias árvores distintas).\n",
    "\"\"\""
   ],
   "metadata": {
    "collapsed": false
   },
   "id": "2cedf1cc84985929",
   "outputs": [],
   "execution_count": null
  },
  {
   "cell_type": "markdown",
   "source": [
    "# 54. Árvore de Decisão no Python"
   ],
   "metadata": {
    "collapsed": false
   },
   "id": "696be9cbb0ca6a2c"
  },
  {
   "cell_type": "code",
   "source": [
    "# Árvore de Decisão\n",
    "\"\"\"\n",
    "https://scikit-learn.org/stable/modules/tree.html\n",
    "\"\"\""
   ],
   "metadata": {
    "collapsed": false
   },
   "id": "f8fce91deb07fb2a",
   "outputs": [],
   "execution_count": null
  },
  {
   "cell_type": "code",
   "source": [
    "from sklearn.tree import DecisionTreeClassifier"
   ],
   "metadata": {
    "collapsed": false
   },
   "id": "18a158312f47f060",
   "outputs": [],
   "execution_count": null
  },
  {
   "cell_type": "code",
   "source": [
    "arvore = DecisionTreeClassifier(criterion='entropy', random_state=0, max_depth=3)\n",
    "arvore.fit(x_treino, y_treino)"
   ],
   "metadata": {
    "collapsed": false
   },
   "id": "a91ab6c6c49f20dc",
   "outputs": [],
   "execution_count": null
  },
  {
   "cell_type": "code",
   "source": [
    "previsoes_arvore = arvore.predict(x_teste)\n",
    "previsoes_arvore"
   ],
   "metadata": {
    "collapsed": false
   },
   "id": "1837a123fb75309",
   "outputs": [],
   "execution_count": null
  },
  {
   "cell_type": "code",
   "source": [
    "y_teste"
   ],
   "metadata": {
    "collapsed": false
   },
   "id": "191d590647aef759",
   "outputs": [],
   "execution_count": null
  },
  {
   "cell_type": "code",
   "source": [
    "from sklearn.metrics import accuracy_score, confusion_matrix, classification_report"
   ],
   "metadata": {
    "collapsed": false
   },
   "id": "94f660963bfc54f7",
   "outputs": [],
   "execution_count": null
  },
  {
   "cell_type": "code",
   "source": [
    "print(f'''Acurácia: {accuracy_score(y_teste, previsoes_arvore)*100:.2f}%''')"
   ],
   "metadata": {
    "collapsed": false
   },
   "id": "18a805701a91ac9",
   "outputs": [],
   "execution_count": null
  },
  {
   "cell_type": "code",
   "source": [
    "confusion_matrix(y_teste, previsoes_arvore)"
   ],
   "metadata": {
    "collapsed": false
   },
   "id": "3b5cfaa9f847c207",
   "outputs": [],
   "execution_count": null
  },
  {
   "cell_type": "code",
   "source": [
    "print(classification_report(y_teste, previsoes_arvore))"
   ],
   "metadata": {
    "collapsed": false
   },
   "id": "41a0bb1193945b87",
   "outputs": [],
   "execution_count": null
  },
  {
   "cell_type": "code",
   "source": [
    "# Análise dados de treino\n",
    "previsoes_treino = arvore.predict(x_treino)\n",
    "previsoes_treino"
   ],
   "metadata": {
    "collapsed": false
   },
   "id": "733ab559272e2498",
   "outputs": [],
   "execution_count": null
  },
  {
   "cell_type": "code",
   "source": [
    "accuracy_score(y_treino, previsoes_treino)"
   ],
   "metadata": {
    "collapsed": false
   },
   "id": "bb20605f9f8a4bc4",
   "outputs": [],
   "execution_count": null
  },
  {
   "cell_type": "code",
   "source": [
    "confusion_matrix(y_treino, previsoes_treino)"
   ],
   "metadata": {
    "collapsed": false
   },
   "id": "3fb2c955c62946a8",
   "outputs": [],
   "execution_count": null
  },
  {
   "cell_type": "code",
   "source": [
    "# Validação Cruzada\n",
    "from sklearn.model_selection import KFold\n",
    "from sklearn.model_selection import cross_val_score"
   ],
   "metadata": {
    "collapsed": false
   },
   "id": "3fb2584bf9f60dbd",
   "outputs": [],
   "execution_count": null
  },
  {
   "cell_type": "code",
   "source": [
    "# Separando os dados em folds\n",
    "kfold = KFold(n_splits=30, shuffle=True, random_state=5)"
   ],
   "metadata": {
    "collapsed": false
   },
   "id": "a09c288f8769eb2d",
   "outputs": [],
   "execution_count": null
  },
  {
   "cell_type": "code",
   "source": [
    "# Criando o modelo\n",
    "modelo = DecisionTreeClassifier(criterion='gini', random_state=0, max_depth=3)\n",
    "resultado = cross_val_score(modelo, previsores3_esc, alvo, cv=kfold)\n",
    "resultado"
   ],
   "metadata": {
    "collapsed": false
   },
   "id": "5f5a7836b64682e2",
   "outputs": [],
   "execution_count": null
  },
  {
   "cell_type": "code",
   "source": [
    "# Usando a média e o desvio padrão\n",
    "print(f'Acurácia Média: {resultado.mean()*100:.2f}%')"
   ],
   "metadata": {
    "collapsed": false
   },
   "id": "5a0d1ea728d8d77d",
   "outputs": [],
   "execution_count": null
  },
  {
   "cell_type": "markdown",
   "source": [
    "# 55. Random Forest: teoria"
   ],
   "metadata": {
    "collapsed": false
   },
   "id": "91a28e0976a705b5"
  },
  {
   "cell_type": "code",
   "source": [
    "# Random Forest (Floresta Aleatória)\n",
    "\"\"\"\n",
    "> Criação aleatória de várias árvores de decisão;\n",
    "> Utiliza o método Ensemble (construção de vários modelos para obter um resultado único);\n",
    "> É mais robusto, complexo e normalmente propicia resultados melhores, mas possui maior custo computacional;\n",
    "> Em problemas de classificação o resultado que mais aparece será o escolhido (moda), já em regressão será a média;\n",
    "\n",
    "Vantagens:\n",
    "> Resultados bastante precisos;\n",
    "> Normalmente não necessitam de preparações sofisticadas nos dados (label Encoder e OneHotEncoder);\n",
    "> Trabalha com valores faltantes, variáveis categóricas e numéricas;\n",
    "> Pouca probabilidade de ocorrência de overfitting;\n",
    "\n",
    "Desvantagens:\n",
    "> Velocidade de processamento relativamente baixa;\n",
    "> Difícil interpretação de como chegou no resultado;\n",
    "\"\"\""
   ],
   "metadata": {
    "collapsed": false
   },
   "id": "130e3c76fd039d48",
   "outputs": [],
   "execution_count": null
  },
  {
   "cell_type": "markdown",
   "source": [
    "# 56. Random Forest no Python"
   ],
   "metadata": {
    "collapsed": false
   },
   "id": "120dd09ffa37ca17"
  },
  {
   "cell_type": "code",
   "source": [
    "# Random Forest\n",
    "\"\"\"https://scikit-learn.org/stable/modules/generated/sklearn.ensemble.RandomForestClassifier.html\"\"\""
   ],
   "metadata": {
    "collapsed": false
   },
   "id": "612816a543ea0735",
   "outputs": [],
   "execution_count": null
  },
  {
   "cell_type": "code",
   "source": [
    "from sklearn.ensemble import RandomForestClassifier"
   ],
   "metadata": {
    "collapsed": false
   },
   "id": "c7aa245060e5042f",
   "outputs": [],
   "execution_count": null
  },
  {
   "cell_type": "code",
   "source": [
    "random_forest = RandomForestClassifier(n_estimators=150, criterion='entropy', random_state=0, max_depth=4)\n",
    "random_forest.fit(x_treino, y_treino)"
   ],
   "metadata": {
    "collapsed": false
   },
   "id": "f161b9cfac899f3b",
   "outputs": [],
   "execution_count": null
  },
  {
   "cell_type": "code",
   "source": [
    "previsoes_random_forest = random_forest.predict(x_teste)\n",
    "previsoes_random_forest"
   ],
   "metadata": {
    "collapsed": false
   },
   "id": "2d01d18bcf94e238",
   "outputs": [],
   "execution_count": null
  },
  {
   "cell_type": "code",
   "source": [
    "y_teste"
   ],
   "metadata": {
    "collapsed": false
   },
   "id": "5779f63dbdd2706c",
   "outputs": [],
   "execution_count": null
  },
  {
   "cell_type": "code",
   "source": [
    "from sklearn.metrics import accuracy_score, confusion_matrix, classification_report"
   ],
   "metadata": {
    "collapsed": false
   },
   "id": "2c57cf20141887c1",
   "outputs": [],
   "execution_count": null
  },
  {
   "cell_type": "code",
   "source": [
    "print(f'''Acurácia: {accuracy_score(y_teste, previsoes_random_forest)*100:.2f}%''')"
   ],
   "metadata": {
    "collapsed": false
   },
   "id": "e44b7f977c40af66",
   "outputs": [],
   "execution_count": null
  },
  {
   "cell_type": "code",
   "source": [
    "confusion_matrix(y_teste, previsoes_random_forest)"
   ],
   "metadata": {
    "collapsed": false
   },
   "id": "b28923315ea0f1ce",
   "outputs": [],
   "execution_count": null
  },
  {
   "cell_type": "code",
   "source": [
    "print(classification_report(y_teste, previsoes_random_forest))"
   ],
   "metadata": {
    "collapsed": false
   },
   "id": "89a733fcf9029724",
   "outputs": [],
   "execution_count": null
  },
  {
   "cell_type": "code",
   "source": [
    "# Análise dados de treino\n",
    "previsoes_treino = random_forest.predict(x_treino)\n",
    "previsoes_treino"
   ],
   "metadata": {
    "collapsed": false
   },
   "id": "83f0102b47dddce0",
   "outputs": [],
   "execution_count": null
  },
  {
   "cell_type": "code",
   "source": [
    "accuracy_score(y_treino, previsoes_treino)"
   ],
   "metadata": {
    "collapsed": false
   },
   "id": "d9c088492682c0d8",
   "outputs": [],
   "execution_count": null
  },
  {
   "cell_type": "code",
   "source": [
    "confusion_matrix(y_treino, previsoes_treino)"
   ],
   "metadata": {
    "collapsed": false
   },
   "id": "d526ed68cdc77c70",
   "outputs": [],
   "execution_count": null
  },
  {
   "cell_type": "code",
   "source": [
    "# Validação Cruzada\n",
    "from sklearn.model_selection import KFold\n",
    "from sklearn.model_selection import cross_val_score"
   ],
   "metadata": {
    "collapsed": false
   },
   "id": "ae40d5c01197e1e5",
   "outputs": [],
   "execution_count": null
  },
  {
   "cell_type": "code",
   "source": [
    "# Separando os dados em folds\n",
    "kfold = KFold(n_splits=30, shuffle=True, random_state=5)"
   ],
   "metadata": {
    "collapsed": false
   },
   "id": "b2597a028140870e",
   "outputs": [],
   "execution_count": null
  },
  {
   "cell_type": "code",
   "source": [
    "# Criando o modelo\n",
    "modelo = RandomForestClassifier(n_estimators=150, criterion='entropy', random_state=0, max_depth=4)\n",
    "resultado = cross_val_score(modelo, previsores, alvo, cv=kfold)\n",
    "resultado"
   ],
   "metadata": {
    "collapsed": false
   },
   "id": "1a28ee938fbf02f5",
   "outputs": [],
   "execution_count": null
  },
  {
   "cell_type": "code",
   "source": [
    "# Usando a média e o desvio padrão\n",
    "print(f'Acurácia Média: {resultado.mean()*100:.2f}%')"
   ],
   "metadata": {
    "collapsed": false
   },
   "id": "636c0af452be578f",
   "outputs": [],
   "execution_count": null
  },
  {
   "cell_type": "markdown",
   "source": [
    "# 57. XGBoost: Teoria"
   ],
   "metadata": {
    "collapsed": false
   },
   "id": "d330481ef56b59a0"
  },
  {
   "cell_type": "code",
   "source": [
    "# XGBOOST (eXtreme Gradient Boosting)\n",
    "\"\"\"\n",
    "> Algoritmo poderoso baseado em árvores de decisão;\n",
    "> É uma evolução do algoritmo Gradient Boosting, que por sua vez é uma evolução do Random Forest;\n",
    "> Apresenta aderência a grande variedade de aplicações;\n",
    "> Roda em várias linguagens de programação, nos principais sistemas operacionais e em nuvem;\n",
    "\"\"\""
   ],
   "metadata": {
    "collapsed": false
   },
   "id": "161e50d19ef59044",
   "outputs": [],
   "execution_count": null
  },
  {
   "cell_type": "markdown",
   "source": [
    "# 58. XGBoost no Python"
   ],
   "metadata": {
    "collapsed": false
   },
   "id": "766110281a0803a5"
  },
  {
   "cell_type": "code",
   "source": [
    "# XGBOOST\n",
    "\"\"\"https//xgboost.readthedocs.io/en/stable/\"\"\""
   ],
   "metadata": {
    "collapsed": false
   },
   "id": "e44fa473b58c6bfe",
   "outputs": [],
   "execution_count": null
  },
  {
   "cell_type": "code",
   "source": [
    "from xgboost import XGBClassifier"
   ],
   "metadata": {
    "collapsed": false
   },
   "id": "3096c34dcb101fe6",
   "outputs": [],
   "execution_count": null
  },
  {
   "cell_type": "code",
   "source": [
    "xg = XGBClassifier(max_depth=2, learning_rate=0.05, n_estimators=250, objective='binary:logistic', random_state=3)\n",
    "xg.fit(x_treino, y_treino)"
   ],
   "metadata": {
    "collapsed": false
   },
   "id": "cfa9a0663b468add",
   "outputs": [],
   "execution_count": null
  },
  {
   "cell_type": "code",
   "source": [
    "previsoes_xg = xg.predict(x_teste)\n",
    "previsoes_xg"
   ],
   "metadata": {
    "collapsed": false
   },
   "id": "78d75dea36eb897",
   "outputs": [],
   "execution_count": null
  },
  {
   "cell_type": "code",
   "source": [
    "y_teste"
   ],
   "metadata": {
    "collapsed": false
   },
   "id": "585f8d2ada7f770f",
   "outputs": [],
   "execution_count": null
  },
  {
   "cell_type": "code",
   "source": [
    "from sklearn.metrics import accuracy_score, confusion_matrix, classification_report"
   ],
   "metadata": {
    "collapsed": false
   },
   "id": "5322d77cca94317c",
   "outputs": [],
   "execution_count": null
  },
  {
   "cell_type": "code",
   "source": [
    "print(f'''Acurácia: {accuracy_score(y_teste, previsoes_xg)*100:.2f}%''')"
   ],
   "metadata": {
    "collapsed": false
   },
   "id": "e20c53c0358342cf",
   "outputs": [],
   "execution_count": null
  },
  {
   "cell_type": "code",
   "source": [
    "confusion_matrix(y_teste, previsoes_xg)"
   ],
   "metadata": {
    "collapsed": false
   },
   "id": "a8abdb2cae353fb0",
   "outputs": [],
   "execution_count": null
  },
  {
   "cell_type": "code",
   "source": [
    "print(classification_report(y_teste, previsoes_xg))"
   ],
   "metadata": {
    "collapsed": false
   },
   "id": "29b8e4183b9c3b44",
   "outputs": [],
   "execution_count": null
  },
  {
   "cell_type": "code",
   "source": [
    "# Análise dados de treino\n",
    "previsoes_treino = xg.predict(x_treino)\n",
    "previsoes_treino"
   ],
   "metadata": {
    "collapsed": false
   },
   "id": "a4095260285282f9",
   "outputs": [],
   "execution_count": null
  },
  {
   "cell_type": "code",
   "source": [
    "accuracy_score(y_treino, previsoes_treino)"
   ],
   "metadata": {
    "collapsed": false
   },
   "id": "90efbd4195ffa90f",
   "outputs": [],
   "execution_count": null
  },
  {
   "cell_type": "code",
   "source": [
    "confusion_matrix(y_treino, previsoes_treino)"
   ],
   "metadata": {
    "collapsed": false
   },
   "id": "1ccde07b66763af9",
   "outputs": [],
   "execution_count": null
  },
  {
   "cell_type": "code",
   "source": [
    "# Validação Cruzada\n",
    "from sklearn.model_selection import KFold\n",
    "from sklearn.model_selection import cross_val_score"
   ],
   "metadata": {
    "collapsed": false
   },
   "id": "9487e59b9353793b",
   "outputs": [],
   "execution_count": null
  },
  {
   "cell_type": "code",
   "source": [
    "# Separando os dados em folds\n",
    "kfold = KFold(n_splits=30, shuffle=True, random_state=5)"
   ],
   "metadata": {
    "collapsed": false
   },
   "id": "4fc03443bdfa3a96",
   "outputs": [],
   "execution_count": null
  },
  {
   "cell_type": "code",
   "source": [
    "# Criando o modelo\n",
    "modelo = XGBClassifier(max_depth=2, learning_rate=0.05, n_estimators=250, objective='binary:logistic', random_state=3)\n",
    "resultado = cross_val_score(modelo, previsores, alvo, cv=kfold)\n",
    "resultado"
   ],
   "metadata": {
    "collapsed": false
   },
   "id": "4313a09fee34918",
   "outputs": [],
   "execution_count": null
  },
  {
   "cell_type": "code",
   "source": [
    "# Usando a média e o desvio padrão\n",
    "print(f'Acurácia Média: {resultado.mean()*100:.2f}%')"
   ],
   "metadata": {
    "collapsed": false
   },
   "id": "4c9e3f72ac022035",
   "outputs": [],
   "execution_count": null
  },
  {
   "cell_type": "markdown",
   "source": [
    "# 59. Light GBM: teoria"
   ],
   "metadata": {
    "collapsed": false
   },
   "id": "b9f3fd88777a294b"
  },
  {
   "cell_type": "code",
   "source": [
    "# Light Gradient Boosting Machine\n",
    "\"\"\"\n",
    "> Baseado em árvores de decisão;\n",
    "> É uma evolução do Gradient Boosting e do Random Forest;\n",
    "> Alta velocidade de processamento;\n",
    "> No LGBM a árvore cresce em folhas ao invés de níveis;\n",
    "\n",
    "Observações:\n",
    "> O LGBM é feito para trabalhar com grandes quantidades de dados.\n",
    "> Possui mais de 100 hiperparâmetros;\n",
    "\"\"\""
   ],
   "metadata": {
    "collapsed": false
   },
   "id": "e1e638cd08f85196",
   "outputs": [],
   "execution_count": null
  },
  {
   "cell_type": "markdown",
   "source": [
    "# 60. LGBM no Python"
   ],
   "metadata": {
    "collapsed": false
   },
   "id": "884e459d40fada5b"
  },
  {
   "cell_type": "code",
   "source": [
    "# LGMB\n",
    "\"\"\"https://lightgbm.readthedocs.io/en/latest/pythonapi/lightgbm.train.html\"\"\""
   ],
   "metadata": {
    "collapsed": false
   },
   "id": "d5927bd94a3676bb",
   "outputs": [],
   "execution_count": null
  },
  {
   "cell_type": "code",
   "source": [
    "import lightgbm as lgb"
   ],
   "metadata": {
    "collapsed": false
   },
   "id": "b806c3b8398d5a2",
   "outputs": [],
   "execution_count": null
  },
  {
   "cell_type": "code",
   "source": [
    "# Dataset para treino\n",
    "dataset = lgb.Dataset(x_treino, label=y_treino)"
   ],
   "metadata": {
    "collapsed": false
   },
   "id": "ef9e4dcf63a11cc3",
   "outputs": [],
   "execution_count": null
  },
  {
   "cell_type": "code",
   "source": [
    "# Parâmetros\n",
    "parametros = {\n",
    "    'num_leaves':250,\n",
    "    'objective':'binary',\n",
    "    'max_depth':2,\n",
    "    'learning_rate':0.05,\n",
    "    'max_bin':250\n",
    "}"
   ],
   "metadata": {
    "collapsed": false
   },
   "id": "ddd77565d81e38fd",
   "outputs": [],
   "execution_count": null
  },
  {
   "cell_type": "code",
   "source": [
    "lgbm = lgb.train(parametros, dataset, num_boost_round=150)"
   ],
   "metadata": {
    "collapsed": false
   },
   "id": "9923d11e7a0ff11e",
   "outputs": [],
   "execution_count": null
  },
  {
   "cell_type": "code",
   "source": [
    "\"\"\"# Marcação de tempo de execução\n",
    "from datetime import datetime\n",
    "inicio = datetime.now()\n",
    "lgbm = lgb.train(parametros, dataset)\n",
    "fim = datetime.now()\n",
    "print(f'Tempo de execução: {fim - inicio}')\"\"\""
   ],
   "metadata": {
    "collapsed": false
   },
   "id": "b5b590b811353aff",
   "outputs": [],
   "execution_count": null
  },
  {
   "cell_type": "code",
   "source": [
    "previsoes_lgbm = lgbm.predict(x_teste)\n",
    "previsoes_lgbm"
   ],
   "metadata": {
    "collapsed": false
   },
   "id": "22d22d76c824327f",
   "outputs": [],
   "execution_count": null
  },
  {
   "cell_type": "code",
   "source": [
    "previsoes_lgbm.shape"
   ],
   "metadata": {
    "collapsed": false
   },
   "id": "8a21793f78d3d56",
   "outputs": [],
   "execution_count": null
  },
  {
   "cell_type": "code",
   "source": [
    "# Quando for menor que 5 considera 0 e quando for maior ou igual a 5 considera 1\n",
    "for i in range(0, 276):\n",
    "    if previsoes_lgbm[i] >= 0.5:\n",
    "        previsoes_lgbm[i] = 1\n",
    "    else:\n",
    "        previsoes_lgbm[i] = 0"
   ],
   "metadata": {
    "collapsed": false
   },
   "id": "69124d1e450644e3",
   "outputs": [],
   "execution_count": null
  },
  {
   "cell_type": "code",
   "source": [
    "previsoes_lgbm"
   ],
   "metadata": {
    "collapsed": false
   },
   "id": "833db2a909420920",
   "outputs": [],
   "execution_count": null
  },
  {
   "cell_type": "code",
   "source": [
    "y_teste"
   ],
   "metadata": {
    "collapsed": false
   },
   "id": "8dd2dfabc0d823e2",
   "outputs": [],
   "execution_count": null
  },
  {
   "cell_type": "code",
   "source": [
    "from sklearn.metrics import accuracy_score, confusion_matrix, classification_report"
   ],
   "metadata": {
    "collapsed": false
   },
   "id": "4fb7f00fdc48870",
   "outputs": [],
   "execution_count": null
  },
  {
   "cell_type": "code",
   "source": [
    "print(f'''Acurácia: {accuracy_score(y_teste, previsoes_lgbm)*100:.2f}%''')"
   ],
   "metadata": {
    "collapsed": false
   },
   "id": "685d6ba947c86d6e",
   "outputs": [],
   "execution_count": null
  },
  {
   "cell_type": "code",
   "source": [
    "confusion_matrix(y_teste, previsoes_lgbm)"
   ],
   "metadata": {
    "collapsed": false
   },
   "id": "6b491ae24db417da",
   "outputs": [],
   "execution_count": null
  },
  {
   "cell_type": "code",
   "source": [
    "print(classification_report(y_teste, previsoes_lgbm))"
   ],
   "metadata": {
    "collapsed": false
   },
   "id": "5cb3146290550a9e",
   "outputs": [],
   "execution_count": null
  },
  {
   "cell_type": "code",
   "source": [
    "# Análise dados de treino\n",
    "previsoes_treino = lgbm.predict(x_treino)\n",
    "previsoes_treino"
   ],
   "metadata": {
    "collapsed": false
   },
   "id": "d1da8274c1dfccd",
   "outputs": [],
   "execution_count": null
  },
  {
   "cell_type": "code",
   "source": [
    "previsoes_treino.shape"
   ],
   "metadata": {
    "collapsed": false
   },
   "id": "5898701ee3ff0f35",
   "outputs": [],
   "execution_count": null
  },
  {
   "cell_type": "code",
   "source": [
    "# Quando for menor que 5 considera 0 e quando for maior ou igual a 5 considera 1\n",
    "for i in range(0, 641):\n",
    "    if previsoes_treino[i] >= 0.5:\n",
    "        previsoes_treino[i] = 1\n",
    "    else:\n",
    "        previsoes_treino[i] = 0"
   ],
   "metadata": {
    "collapsed": false
   },
   "id": "ef048b52400c98f",
   "outputs": [],
   "execution_count": null
  },
  {
   "cell_type": "code",
   "source": [
    "previsoes_treino"
   ],
   "metadata": {
    "collapsed": false
   },
   "id": "bb5a8826f7c420c0",
   "outputs": [],
   "execution_count": null
  },
  {
   "cell_type": "code",
   "source": [
    "accuracy_score(y_treino, previsoes_treino)"
   ],
   "metadata": {
    "collapsed": false
   },
   "id": "f75f3ba52fe62eb1",
   "outputs": [],
   "execution_count": null
  },
  {
   "cell_type": "code",
   "source": [
    "confusion_matrix(y_treino, previsoes_treino)"
   ],
   "metadata": {
    "collapsed": false
   },
   "id": "ea23f1c7740925ac",
   "outputs": [],
   "execution_count": null
  },
  {
   "cell_type": "code",
   "source": [
    "# Validação Cruzada\n",
    "from sklearn.model_selection import KFold\n",
    "from sklearn.model_selection import cross_val_score"
   ],
   "metadata": {
    "collapsed": false
   },
   "id": "a4c9389148e83338",
   "outputs": [],
   "execution_count": null
  },
  {
   "cell_type": "code",
   "source": [
    "# Separando os dados em folds\n",
    "kfold = KFold(n_splits =30, shuffle=True, random_state=5)"
   ],
   "metadata": {
    "collapsed": false
   },
   "id": "7dc5bc6b1bdf52b1",
   "outputs": [],
   "execution_count": null
  },
  {
   "cell_type": "code",
   "source": [
    "# Criando o modelo\n",
    "modelo = lgb.LGBMClassifier(num_leaves=250, objective='binary', max_depth=2, learning_rate=0.05, max_bin=250)\n",
    "resultado = cross_val_score(modelo, previsores, alvo, cv=kfold)\n",
    "resultado"
   ],
   "metadata": {
    "collapsed": false
   },
   "id": "c93b9182744d557",
   "outputs": [],
   "execution_count": null
  },
  {
   "cell_type": "code",
   "source": [
    "# Usando a média e o desvio padrão\n",
    "print(f'Acurácia Média: {resultado.mean()*100:.2f}%')"
   ],
   "metadata": {
    "collapsed": false
   },
   "id": "21373cd948ee767e",
   "outputs": [],
   "execution_count": null
  },
  {
   "metadata": {},
   "cell_type": "markdown",
   "source": "# 61. Catboost: Teoria",
   "id": "2d51113d6a219fcc"
  },
  {
   "metadata": {},
   "cell_type": "code",
   "source": [
    "# Category Boosting\n",
    "\"\"\"\n",
    "> Baseado em árvores de decisão;\n",
    "> É uma evolução do Gradient Boosting e do Random Forest;\n",
    "> Alta velocidade de processamento;\n",
    "> Executa automaticamente as transformações das variáveis categóricas;\n",
    "> Trabalha com eficiência em grandes e baixos volumes de dados;\n",
    "\n",
    "Vantagens\n",
    "> Permite o treinamento de dados em várias GPUs;\n",
    "> Fornece ótimos resultados com parâmetros padrão;\n",
    "> Oferece maior precissão devido ao ajustr excessivo reduzido;\n",
    "> Pode lidar com valores ausentes internamente;\n",
    "> Pode ser usado para problemas de regressão e de classificação;\n",
    "\"\"\""
   ],
   "id": "f45690c8e3e69256",
   "outputs": [],
   "execution_count": null
  },
  {
   "metadata": {},
   "cell_type": "markdown",
   "source": [
    "# 62. Catboost no Python\n",
    "'https://catboost.ai/en/docs/'"
   ],
   "id": "91dcf8cfd0cdaeed"
  },
  {
   "metadata": {},
   "cell_type": "code",
   "source": "from catboost import CatBoostClassifier",
   "id": "d6d7778608a55bd2",
   "outputs": [],
   "execution_count": null
  },
  {
   "metadata": {},
   "cell_type": "code",
   "source": "df",
   "id": "3497700c665b4ade",
   "outputs": [],
   "execution_count": null
  },
  {
   "metadata": {},
   "cell_type": "code",
   "source": "previsores4 = df.iloc[:, 0:11]",
   "id": "715aae24665d1588",
   "outputs": [],
   "execution_count": null
  },
  {
   "metadata": {},
   "cell_type": "code",
   "source": "previsores4.head()",
   "id": "440e9c733ffc8887",
   "outputs": [],
   "execution_count": null
  },
  {
   "metadata": {},
   "cell_type": "code",
   "source": "alvo4 = df.iloc[:, 11]",
   "id": "bca873576ada62be",
   "outputs": [],
   "execution_count": null
  },
  {
   "metadata": {},
   "cell_type": "code",
   "source": "from sklearn.model_selection import train_test_split",
   "id": "c0ba45017dfb724a",
   "outputs": [],
   "execution_count": null
  },
  {
   "metadata": {},
   "cell_type": "code",
   "source": "x_treino, x_teste, y_treino, y_teste = train_test_split(previsores4, alvo4, test_size=0.3, random_state=0)",
   "id": "186871cbd75872ec",
   "outputs": [],
   "execution_count": null
  },
  {
   "metadata": {},
   "cell_type": "code",
   "source": "categoricas = ['Sex', 'ChestPainType', 'RestingECG', 'ExerciseAngina', 'ST_Slope']",
   "id": "dcba7787cd0ba347",
   "outputs": [],
   "execution_count": null
  },
  {
   "metadata": {},
   "cell_type": "code",
   "source": "catboost = CatBoostClassifier(task_type='CPU', iterations=150, learning_rate=0.1, depth=5, random_state=5, eval_metric='Accuracy')",
   "id": "30d0bc00be705958",
   "outputs": [],
   "execution_count": null
  },
  {
   "metadata": {},
   "cell_type": "code",
   "source": "catboost.fit(x_treino, y_treino, cat_features=categoricas, plot=True, eval_set=(x_teste, y_teste))",
   "id": "2f740b69ec3cc77e",
   "outputs": [],
   "execution_count": null
  },
  {
   "metadata": {},
   "cell_type": "code",
   "source": [
    "previsoes_cat = catboost.predict(x_teste)\n",
    "previsoes_cat"
   ],
   "id": "a5af94be3502835f",
   "outputs": [],
   "execution_count": null
  },
  {
   "metadata": {},
   "cell_type": "code",
   "source": "y_teste",
   "id": "c887168a3dcad05d",
   "outputs": [],
   "execution_count": null
  },
  {
   "metadata": {},
   "cell_type": "code",
   "source": "from sklearn.metrics import accuracy_score, confusion_matrix, classification_report",
   "id": "645cbbb15655df35",
   "outputs": [],
   "execution_count": null
  },
  {
   "metadata": {},
   "cell_type": "code",
   "source": "print(f'''Acurácia: {accuracy_score(y_teste, previsoes_cat)*100:.2f}%''')",
   "id": "5f1223534fc72d55",
   "outputs": [],
   "execution_count": null
  },
  {
   "metadata": {},
   "cell_type": "code",
   "source": "confusion_matrix(y_teste, previsoes_cat)",
   "id": "20ba62385a39c279",
   "outputs": [],
   "execution_count": null
  },
  {
   "metadata": {},
   "cell_type": "code",
   "source": "print(classification_report(y_teste, previsoes_cat))",
   "id": "5dd47ffb69acc977",
   "outputs": [],
   "execution_count": null
  },
  {
   "metadata": {},
   "cell_type": "code",
   "source": [
    "# Análise dados de treino\n",
    "previsoes_treino = catboost.predict(x_treino)\n",
    "previsoes_treino"
   ],
   "id": "ebf128e7da2110d8",
   "outputs": [],
   "execution_count": null
  },
  {
   "metadata": {},
   "cell_type": "code",
   "source": "accuracy_score(y_treino, previsoes_treino)",
   "id": "b86c113cc673c0d5",
   "outputs": [],
   "execution_count": null
  },
  {
   "metadata": {},
   "cell_type": "code",
   "source": "confusion_matrix(y_treino, previsoes_treino)",
   "id": "7c33ab34cd0faed4",
   "outputs": [],
   "execution_count": null
  },
  {
   "metadata": {},
   "cell_type": "code",
   "source": [
    "# Validação Cruzada\n",
    "from sklearn.model_selection import KFold\n",
    "from sklearn.model_selection import cross_val_score"
   ],
   "id": "b91407b71fc0c46f",
   "outputs": [],
   "execution_count": null
  },
  {
   "metadata": {},
   "cell_type": "code",
   "source": [
    "# Separando os dados em folds\n",
    "kfold = KFold(n_splits =30, shuffle=True, random_state=5)"
   ],
   "id": "862e6825cd142908",
   "outputs": [],
   "execution_count": null
  },
  {
   "metadata": {},
   "cell_type": "code",
   "source": [
    "# Criando o modelo\n",
    "modelo = CatBoostClassifier(task_type='CPU', iterations=150, learning_rate=0.1, depth=5, random_state=5, eval_metric='Accuracy')\n",
    "resultado = cross_val_score(modelo, previsores, alvo, cv=kfold)\n",
    "resultado"
   ],
   "id": "8ecbfab75822eb26",
   "outputs": [],
   "execution_count": null
  },
  {
   "metadata": {},
   "cell_type": "code",
   "source": [
    "# Usando a média e o desvio padrão\n",
    "print(f'Acurácia Média: {resultado.mean()*100:.2f}%')"
   ],
   "id": "f04db97944a604d6",
   "outputs": [],
   "execution_count": null
  },
  {
   "metadata": {},
   "cell_type": "markdown",
   "source": "# 63. Salvando dados e simulando Deploy",
   "id": "573f22358462a154"
  },
  {
   "metadata": {},
   "cell_type": "code",
   "source": "# Salvando dados para Deploy",
   "id": "c57f5040f0eaca57",
   "outputs": [],
   "execution_count": null
  },
  {
   "metadata": {},
   "cell_type": "code",
   "source": "previsores",
   "id": "fb721ac29ecf41bb",
   "outputs": [],
   "execution_count": null
  },
  {
   "metadata": {},
   "cell_type": "code",
   "source": "alvo",
   "id": "fa3629cdf6474742",
   "outputs": [],
   "execution_count": null
  },
  {
   "metadata": {},
   "cell_type": "code",
   "source": "np.savetxt('Dataset/previsores.csv', previsores, delimiter=',')",
   "id": "3da1b9f095726f26",
   "outputs": [],
   "execution_count": null
  },
  {
   "metadata": {},
   "cell_type": "code",
   "source": "np.savetxt('Dataset/alvo.csv', alvo, delimiter=',')",
   "id": "858137c367180c8",
   "outputs": [],
   "execution_count": null
  },
  {
   "metadata": {},
   "cell_type": "markdown",
   "source": "# 65. Otimização com Grid Search",
   "id": "e8d45b6c6032c4b5"
  },
  {
   "metadata": {},
   "cell_type": "code",
   "source": [
    "from sklearn.metrics import roc_auc_score\n",
    "from sklearn.model_selection import GridSearchCV\n",
    "from sklearn.ensemble import GradientBoostingClassifier"
   ],
   "id": "c7bb361ffc791da0",
   "outputs": [],
   "execution_count": null
  },
  {
   "metadata": {},
   "cell_type": "code",
   "source": [
    "# Base de treino e teste\n",
    "from sklearn.model_selection import train_test_split\n",
    "x_treino, x_teste, y_treino, y_teste = train_test_split(previsores, alvo, test_size=0.3, random_state=0)\n",
    "x_treino.shape"
   ],
   "id": "93e61ec9649b04de",
   "outputs": [],
   "execution_count": null
  },
  {
   "metadata": {},
   "cell_type": "code",
   "source": "x_teste.shape",
   "id": "649b173184af28bd",
   "outputs": [],
   "execution_count": null
  },
  {
   "metadata": {},
   "cell_type": "code",
   "source": "y_treino.shape",
   "id": "599283f5225b6fa0",
   "outputs": [],
   "execution_count": null
  },
  {
   "metadata": {},
   "cell_type": "code",
   "source": "y_teste.shape",
   "id": "6cc50d9ceca5d265",
   "outputs": [],
   "execution_count": null
  },
  {
   "metadata": {},
   "cell_type": "code",
   "source": [
    "# Criando o algoritmo\n",
    "gbm = GradientBoostingClassifier(random_state=0)"
   ],
   "id": "128496c3ceafc1e4",
   "outputs": [],
   "execution_count": null
  },
  {
   "metadata": {},
   "cell_type": "code",
   "source": [
    "# Determinando o espaço do hiperparâmetro\n",
    "param_grid = dict(\n",
    "    n_estimators = [20, 50, 100, 250],\n",
    "    learning_rate=[0.05, 0.1, 0.5],\n",
    "    max_depth = [1, 2, 3, 4, 5]\n",
    ")"
   ],
   "id": "e0f57127a39addf5",
   "outputs": [],
   "execution_count": null
  },
  {
   "metadata": {},
   "cell_type": "code",
   "source": "print(f'Número de combinações de hiperparâmetros: {len(param_grid[\"n_estimators\"])*len(param_grid[\"learning_rate\"])*len(param_grid[\"max_depth\"])}')",
   "id": "ccb5633f272df75e",
   "outputs": [],
   "execution_count": null
  },
  {
   "metadata": {},
   "cell_type": "code",
   "source": [
    "# Configurando a procura com o Grid Search\n",
    "grid_search = GridSearchCV(gbm, param_grid, scoring='roc_auc', cv=4)"
   ],
   "id": "5db871329a067551",
   "outputs": [],
   "execution_count": null
  },
  {
   "metadata": {},
   "cell_type": "code",
   "source": [
    "# Configurando os melhores hiperparâmetros\n",
    "grid_search.fit(x_treino, y_treino)"
   ],
   "id": "622d7e5551a26fb7",
   "outputs": [],
   "execution_count": null
  },
  {
   "metadata": {},
   "cell_type": "code",
   "source": [
    "# Melhores Hiperparâmetros\n",
    "grid_search.best_params_"
   ],
   "id": "def80f34b3d4d9d7",
   "outputs": [],
   "execution_count": null
  },
  {
   "metadata": {},
   "cell_type": "code",
   "source": [
    "# Relação dos dados para todos os modelos\n",
    "resultado = pd.DataFrame(grid_search.cv_results_)\n",
    "print(resultado.shape)\n",
    "resultado.head(3)"
   ],
   "id": "5f957e0771466613",
   "outputs": [],
   "execution_count": null
  },
  {
   "metadata": {},
   "cell_type": "code",
   "source": [
    "# Ordenando os melhores resultados\n",
    "resultado.sort_values(by='mean_test_score', ascending=False, inplace=True)\n",
    "resultado.reset_index(drop=True, inplace=True)\n",
    "resultado[['param_max_depth', 'param_learning_rate', 'param_n_estimators', 'mean_test_score', 'std_test_score']].head()"
   ],
   "id": "506b4cdb5bfb4c51",
   "outputs": [],
   "execution_count": null
  },
  {
   "metadata": {},
   "cell_type": "code",
   "source": "",
   "id": "60a283074ae2e4c6",
   "outputs": [],
   "execution_count": null
  }
 ],
 "metadata": {
  "kernelspec": {
   "display_name": "Python 3",
   "language": "python",
   "name": "python3"
  },
  "language_info": {
   "codemirror_mode": {
    "name": "ipython",
    "version": 2
   },
   "file_extension": ".py",
   "mimetype": "text/x-python",
   "name": "python",
   "nbconvert_exporter": "python",
   "pygments_lexer": "ipython2",
   "version": "2.7.6"
  }
 },
 "nbformat": 4,
 "nbformat_minor": 5
}
