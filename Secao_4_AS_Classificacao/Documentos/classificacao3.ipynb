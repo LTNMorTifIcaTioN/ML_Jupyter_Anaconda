{
 "nbformat": 4,
 "nbformat_minor": 0,
 "metadata": {
  "colab": {
   "provenance": [],
   "mount_file_id": "1r7SQZXDD61Fh4sxth3Z6C6Ny3LgNte-i",
   "authorship_tag": "ABX9TyMe0YJwv9m9c/gj/ziSMDB1"
  },
  "kernelspec": {
   "name": "python3",
   "display_name": "Python 3"
  },
  "language_info": {
   "name": "python"
  }
 },
 "cells": [
  {
   "cell_type": "markdown",
   "metadata": {
    "id": "fQJ5CYV9Te0X"
   },
   "source": [
    "# **APRENDIZAGEM SUPERVISIONADA: CLASSIFICAÇÃO**"
   ]
  },
  {
   "cell_type": "markdown",
   "metadata": {
    "id": "kXFCCsVHTtTP"
   },
   "source": [
    "Este projeto tem por objetivo desenvolver um algoritmo de Machine Learning para prever a tendência de uma pessoa desenvolver algum tipo de doença cardíaca com base em alguns fatores clínicos e laboratoriais."
   ]
  },
  {
   "cell_type": "markdown",
   "metadata": {
    "id": "5ZQ2nYhQUc3G"
   },
   "source": [
    "Os dados foram extraídos do site do Kaggle:\n",
    "\n",
    "https://www.kaggle.com/fedesoriano/heart-failure-prediction/version/1"
   ]
  },
  {
   "cell_type": "markdown",
   "source": [
    "# **PRÉ-PROCESSAMENTO**"
   ],
   "metadata": {
    "id": "gczjMn0YIb6s"
   }
  },
  {
   "cell_type": "code",
   "metadata": {
    "id": "nWvIcticlCs2",
    "executionInfo": {
     "status": "ok",
     "timestamp": 1689263486766,
     "user_tz": 180,
     "elapsed": 3,
     "user": {
      "displayName": "Luciano Galdino",
      "userId": "10237697037323960148"
     }
    }
   },
   "source": [
    "import numpy as np\n",
    "import pandas as pd"
   ],
   "execution_count": 1,
   "outputs": []
  },
  {
   "cell_type": "code",
   "metadata": {
    "id": "LRIrwcC8kUhT",
    "executionInfo": {
     "status": "ok",
     "timestamp": 1689263487785,
     "user_tz": 180,
     "elapsed": 78,
     "user": {
      "displayName": "Luciano Galdino",
      "userId": "10237697037323960148"
     }
    }
   },
   "source": [
    "df = pd.read_csv('/content/drive/MyDrive/Cursos_Udemy/Machine_Learning_com_Python/heart_tratado.csv',\n",
    "                    sep=';', encoding='utf-8')"
   ],
   "execution_count": 2,
   "outputs": []
  },
  {
   "cell_type": "code",
   "source": [
    "df.head()"
   ],
   "metadata": {
    "id": "QtugliripIyp",
    "colab": {
     "base_uri": "https://localhost:8080/",
     "height": 0
    },
    "executionInfo": {
     "status": "ok",
     "timestamp": 1689263487786,
     "user_tz": 180,
     "elapsed": 77,
     "user": {
      "displayName": "Luciano Galdino",
      "userId": "10237697037323960148"
     }
    },
    "outputId": "bc5ce496-7bce-45a9-c16d-4b917236b3ec"
   },
   "execution_count": 3,
   "outputs": []
  },
  {
   "cell_type": "code",
   "source": [
    "df.shape"
   ],
   "metadata": {
    "id": "NSH5-od1gRAU",
    "executionInfo": {
     "status": "ok",
     "timestamp": 1689263487787,
     "user_tz": 180,
     "elapsed": 74,
     "user": {
      "displayName": "Luciano Galdino",
      "userId": "10237697037323960148"
     }
    },
    "outputId": "bb1e364d-266c-45dd-f173-02c0f3ea8e2b",
    "colab": {
     "base_uri": "https://localhost:8080/"
    }
   },
   "execution_count": 4,
   "outputs": []
  },
  {
   "cell_type": "code",
   "source": [
    "df.dtypes"
   ],
   "metadata": {
    "colab": {
     "base_uri": "https://localhost:8080/"
    },
    "id": "4B4dlBwKvN_A",
    "executionInfo": {
     "status": "ok",
     "timestamp": 1689263487788,
     "user_tz": 180,
     "elapsed": 72,
     "user": {
      "displayName": "Luciano Galdino",
      "userId": "10237697037323960148"
     }
    },
    "outputId": "ccd91da7-ae14-4e0c-aaae-f706e0988508"
   },
   "execution_count": 5,
   "outputs": []
  },
  {
   "cell_type": "markdown",
   "source": [
    "## **Transformando as variáveis categóricas nominais em variáveis categóricas ordinais**"
   ],
   "metadata": {
    "id": "a-DfpMtio-sq"
   }
  },
  {
   "cell_type": "code",
   "source": [
    "df2 = pd.DataFrame.copy(df)"
   ],
   "metadata": {
    "id": "JntPfMmptEhg",
    "executionInfo": {
     "status": "ok",
     "timestamp": 1689263487789,
     "user_tz": 180,
     "elapsed": 71,
     "user": {
      "displayName": "Luciano Galdino",
      "userId": "10237697037323960148"
     }
    }
   },
   "execution_count": 6,
   "outputs": []
  },
  {
   "cell_type": "code",
   "source": [
    "df2['Sex'].replace({'M':0, 'F': 1}, inplace=True)\n",
    "df2['ChestPainType'].replace({'TA':0, 'ATA': 1, 'NAP':2, 'ASY': 3}, inplace=True)\n",
    "df2['RestingECG'].replace({'Normal':0, 'ST': 1, 'LVH':2}, inplace=True)\n",
    "df2['ExerciseAngina'].replace({'N':0, 'Y': 1}, inplace=True)\n",
    "df2['ST_Slope'].replace({'Up':0, 'Flat': 1, 'Down':2}, inplace=True)"
   ],
   "metadata": {
    "id": "KUxPnNEhrsjL",
    "executionInfo": {
     "status": "ok",
     "timestamp": 1689263487790,
     "user_tz": 180,
     "elapsed": 71,
     "user": {
      "displayName": "Luciano Galdino",
      "userId": "10237697037323960148"
     }
    }
   },
   "execution_count": 7,
   "outputs": []
  },
  {
   "cell_type": "code",
   "source": [
    "df2.head()"
   ],
   "metadata": {
    "id": "1aTDlfUZpfJi",
    "colab": {
     "base_uri": "https://localhost:8080/",
     "height": 0
    },
    "executionInfo": {
     "status": "ok",
     "timestamp": 1689263487791,
     "user_tz": 180,
     "elapsed": 71,
     "user": {
      "displayName": "Luciano Galdino",
      "userId": "10237697037323960148"
     }
    },
    "outputId": "2a0ec0ae-3a61-404d-d938-fa98c7ac0200"
   },
   "execution_count": 8,
   "outputs": []
  },
  {
   "cell_type": "code",
   "source": [
    "df2.dtypes"
   ],
   "metadata": {
    "id": "6kC-deH0giws",
    "colab": {
     "base_uri": "https://localhost:8080/"
    },
    "executionInfo": {
     "status": "ok",
     "timestamp": 1689263487792,
     "user_tz": 180,
     "elapsed": 69,
     "user": {
      "displayName": "Luciano Galdino",
      "userId": "10237697037323960148"
     }
    },
    "outputId": "f633efe8-5844-4a7b-9609-15b1af6cca9b"
   },
   "execution_count": 9,
   "outputs": []
  },
  {
   "cell_type": "code",
   "source": [
    "df2.shape"
   ],
   "metadata": {
    "id": "e3oELnDctqsq",
    "colab": {
     "base_uri": "https://localhost:8080/"
    },
    "executionInfo": {
     "status": "ok",
     "timestamp": 1689263487793,
     "user_tz": 180,
     "elapsed": 67,
     "user": {
      "displayName": "Luciano Galdino",
      "userId": "10237697037323960148"
     }
    },
    "outputId": "ec89dc09-5cbe-4de4-b7f6-3dea18dff475"
   },
   "execution_count": 10,
   "outputs": []
  },
  {
   "cell_type": "markdown",
   "source": [
    "## **LEGENDA**"
   ],
   "metadata": {
    "id": "khuvnjo8ta5k"
   }
  },
  {
   "cell_type": "markdown",
   "source": [
    "Age = idade (anos)\n",
    "\n",
    "Sex = sexo (0=M; 1=F)\n",
    "\n",
    "Chest Pain Type = tipo de dor no peito (0=TA:angina típica; 1=ATA:angina atípica; 2=NAP:dor não anginosa; 3=ASY:assintomático)\n",
    "\n",
    "Resting BP = pressão sanguínea em repouso (mmHg)\n",
    "\n",
    "Cholesterol = colesterol sérico (mg/dl)\n",
    "\n",
    "Fasting BS = açúcar no sangue em jejum (mg/dl)\n",
    "          0: Fasting BS < 120 mg/dl (não diabético)\n",
    "          1: Fasting BS >= 120 mg/dl, (diabético)\n",
    "\n",
    "Resting ECG = eletrocardiograma em repouso (0=Normal; 1=ST:Anormalidade da onda ST-T; 2=LVH: Hipertrofia ventricular esquerda)\n",
    "\n",
    "Max HR = frequência cardíaca máxima\n",
    "\n",
    "Exercise Angina = Angina induzida por exercício (0=Não; 1=Sim)\n",
    "\n",
    "Old Peak = Depressão de ST induzida por exercício em relação ao repouso\n",
    "\n",
    "ST_Slope = Inclinação do segmento ST (0=UP; 1=Flat; 2=Down)\n",
    "\n",
    "Heart Disease = Doença cardíaca (0=Não possui doença cardíaca; 1=Possui doença cardíaca)\n",
    "\n"
   ],
   "metadata": {
    "id": "9Kz8O68wpsY3"
   }
  },
  {
   "cell_type": "markdown",
   "source": [
    "## **ATRIBUTOS PREVISORES E ALVO**"
   ],
   "metadata": {
    "id": "_NBxZCLzC8Bl"
   }
  },
  {
   "cell_type": "code",
   "source": [
    "df2.head()"
   ],
   "metadata": {
    "id": "eLzWunR78ozP",
    "colab": {
     "base_uri": "https://localhost:8080/",
     "height": 0
    },
    "executionInfo": {
     "status": "ok",
     "timestamp": 1689263487794,
     "user_tz": 180,
     "elapsed": 66,
     "user": {
      "displayName": "Luciano Galdino",
      "userId": "10237697037323960148"
     }
    },
    "outputId": "d7dd5d94-abe4-439a-a7ba-c5bebd28b143"
   },
   "execution_count": 11,
   "outputs": []
  },
  {
   "cell_type": "code",
   "source": [
    "previsores = df2.iloc[:, 0:11].values\n"
   ],
   "metadata": {
    "id": "alp9Gsx8z6f3",
    "executionInfo": {
     "status": "ok",
     "timestamp": 1689263487795,
     "user_tz": 180,
     "elapsed": 65,
     "user": {
      "displayName": "Luciano Galdino",
      "userId": "10237697037323960148"
     }
    }
   },
   "execution_count": 12,
   "outputs": []
  },
  {
   "cell_type": "code",
   "source": [
    "previsores"
   ],
   "metadata": {
    "id": "ZJjs6cWq-9Bn",
    "colab": {
     "base_uri": "https://localhost:8080/"
    },
    "executionInfo": {
     "status": "ok",
     "timestamp": 1689263487797,
     "user_tz": 180,
     "elapsed": 66,
     "user": {
      "displayName": "Luciano Galdino",
      "userId": "10237697037323960148"
     }
    },
    "outputId": "cb79db7d-fbe8-4b29-efe8-f50820576a62"
   },
   "execution_count": 13,
   "outputs": []
  },
  {
   "cell_type": "code",
   "source": [
    "previsores.shape"
   ],
   "metadata": {
    "id": "KrtsyKXXAxTL",
    "colab": {
     "base_uri": "https://localhost:8080/"
    },
    "executionInfo": {
     "status": "ok",
     "timestamp": 1689263487797,
     "user_tz": 180,
     "elapsed": 64,
     "user": {
      "displayName": "Luciano Galdino",
      "userId": "10237697037323960148"
     }
    },
    "outputId": "409d0a66-7d23-4462-f88c-f351ae71557b"
   },
   "execution_count": 14,
   "outputs": []
  },
  {
   "cell_type": "code",
   "source": [
    "alvo = df2.iloc[:, 11].values"
   ],
   "metadata": {
    "id": "wdXWRjHMBAFo",
    "executionInfo": {
     "status": "ok",
     "timestamp": 1689263487799,
     "user_tz": 180,
     "elapsed": 64,
     "user": {
      "displayName": "Luciano Galdino",
      "userId": "10237697037323960148"
     }
    }
   },
   "execution_count": 15,
   "outputs": []
  },
  {
   "cell_type": "code",
   "source": [
    "alvo"
   ],
   "metadata": {
    "id": "wK163BWgBJg2",
    "colab": {
     "base_uri": "https://localhost:8080/"
    },
    "executionInfo": {
     "status": "ok",
     "timestamp": 1689263487800,
     "user_tz": 180,
     "elapsed": 64,
     "user": {
      "displayName": "Luciano Galdino",
      "userId": "10237697037323960148"
     }
    },
    "outputId": "273ed284-7c25-4967-c3f4-f8db261dc236"
   },
   "execution_count": 16,
   "outputs": []
  },
  {
   "cell_type": "code",
   "source": [
    "alvo.shape"
   ],
   "metadata": {
    "id": "RoSOdYF3BaOf",
    "colab": {
     "base_uri": "https://localhost:8080/"
    },
    "executionInfo": {
     "status": "ok",
     "timestamp": 1689263487800,
     "user_tz": 180,
     "elapsed": 61,
     "user": {
      "displayName": "Luciano Galdino",
      "userId": "10237697037323960148"
     }
    },
    "outputId": "da128653-d73b-44f7-94c7-1b9431450a7e"
   },
   "execution_count": 17,
   "outputs": []
  },
  {
   "cell_type": "markdown",
   "source": [
    "## **Análise das escalas dos atributos (Escalonamento)**"
   ],
   "metadata": {
    "id": "Xw6d4rM0C9ZD"
   }
  },
  {
   "cell_type": "code",
   "source": [
    "df2.describe()"
   ],
   "metadata": {
    "id": "JzYfrEIxDHIL",
    "colab": {
     "base_uri": "https://localhost:8080/",
     "height": 0
    },
    "executionInfo": {
     "status": "ok",
     "timestamp": 1689263487801,
     "user_tz": 180,
     "elapsed": 60,
     "user": {
      "displayName": "Luciano Galdino",
      "userId": "10237697037323960148"
     }
    },
    "outputId": "7a93609b-df0c-4ce2-851f-e3f866dedaad"
   },
   "execution_count": 18,
   "outputs": []
  },
  {
   "cell_type": "markdown",
   "source": [
    "Padronização (utiliza a média e o desvio padrão como referência).\n",
    "\n",
    "Normalização (utiliza os valores máximo e mínimo como referência)."
   ],
   "metadata": {
    "id": "XcSAxyqTD4dw"
   }
  },
  {
   "cell_type": "code",
   "source": [
    "from sklearn.preprocessing import StandardScaler"
   ],
   "metadata": {
    "id": "eMoVJG5kEJSG",
    "executionInfo": {
     "status": "ok",
     "timestamp": 1689263488692,
     "user_tz": 180,
     "elapsed": 942,
     "user": {
      "displayName": "Luciano Galdino",
      "userId": "10237697037323960148"
     }
    }
   },
   "execution_count": 19,
   "outputs": []
  },
  {
   "cell_type": "code",
   "source": [
    "previsores_esc = StandardScaler().fit_transform(previsores)"
   ],
   "metadata": {
    "id": "0DpkgD9REQ7m",
    "executionInfo": {
     "status": "ok",
     "timestamp": 1689263488693,
     "user_tz": 180,
     "elapsed": 21,
     "user": {
      "displayName": "Luciano Galdino",
      "userId": "10237697037323960148"
     }
    }
   },
   "execution_count": 20,
   "outputs": []
  },
  {
   "cell_type": "code",
   "source": [
    "previsores_esc"
   ],
   "metadata": {
    "id": "qmoQSiWMEr0k",
    "colab": {
     "base_uri": "https://localhost:8080/"
    },
    "executionInfo": {
     "status": "ok",
     "timestamp": 1689263488695,
     "user_tz": 180,
     "elapsed": 22,
     "user": {
      "displayName": "Luciano Galdino",
      "userId": "10237697037323960148"
     }
    },
    "outputId": "5310f0c1-1aa5-4ae6-fb5f-0a2b0575558f"
   },
   "execution_count": 21,
   "outputs": []
  },
  {
   "cell_type": "code",
   "source": [
    "previsoresdf = pd.DataFrame(previsores_esc)\n",
    "previsoresdf"
   ],
   "metadata": {
    "id": "aFabOc6kFLMu",
    "colab": {
     "base_uri": "https://localhost:8080/",
     "height": 0
    },
    "executionInfo": {
     "status": "ok",
     "timestamp": 1689263488696,
     "user_tz": 180,
     "elapsed": 22,
     "user": {
      "displayName": "Luciano Galdino",
      "userId": "10237697037323960148"
     }
    },
    "outputId": "3b7c40d2-cd59-4936-be6e-befee9e1ce7a"
   },
   "execution_count": 22,
   "outputs": []
  },
  {
   "cell_type": "code",
   "source": [
    "previsoresdf.describe()"
   ],
   "metadata": {
    "id": "cXVXsyAtFWSo",
    "colab": {
     "base_uri": "https://localhost:8080/",
     "height": 0
    },
    "executionInfo": {
     "status": "ok",
     "timestamp": 1689263488696,
     "user_tz": 180,
     "elapsed": 20,
     "user": {
      "displayName": "Luciano Galdino",
      "userId": "10237697037323960148"
     }
    },
    "outputId": "3ed3c1f4-b31d-482f-ac32-80558f9325a7"
   },
   "execution_count": 23,
   "outputs": []
  },
  {
   "cell_type": "markdown",
   "source": [
    "## **Codificação de variáveis categóricas**"
   ],
   "metadata": {
    "id": "HU3ZNfuI0BaL"
   }
  },
  {
   "cell_type": "markdown",
   "source": [
    "### **LabelEncoder: transformação de variáveis categóricas em numéricas**\n"
   ],
   "metadata": {
    "id": "lPObOxwx0Qy5"
   }
  },
  {
   "cell_type": "code",
   "source": [
    "from sklearn.preprocessing import LabelEncoder"
   ],
   "metadata": {
    "id": "oLt4fZ620l-5",
    "executionInfo": {
     "status": "ok",
     "timestamp": 1689263488697,
     "user_tz": 180,
     "elapsed": 20,
     "user": {
      "displayName": "Luciano Galdino",
      "userId": "10237697037323960148"
     }
    }
   },
   "execution_count": 24,
   "outputs": []
  },
  {
   "cell_type": "code",
   "source": [
    "df.head()"
   ],
   "metadata": {
    "id": "oJc1Q36h1Ls_",
    "colab": {
     "base_uri": "https://localhost:8080/",
     "height": 0
    },
    "executionInfo": {
     "status": "ok",
     "timestamp": 1689263488697,
     "user_tz": 180,
     "elapsed": 19,
     "user": {
      "displayName": "Luciano Galdino",
      "userId": "10237697037323960148"
     }
    },
    "outputId": "8511d5f9-8f5f-4c71-9eee-de3d5982d49f"
   },
   "execution_count": 25,
   "outputs": []
  },
  {
   "cell_type": "code",
   "source": [
    "previsores2 = df.iloc[:, 0:11].values\n",
    "previsores2"
   ],
   "metadata": {
    "id": "0VFq4NJ_181-",
    "colab": {
     "base_uri": "https://localhost:8080/"
    },
    "executionInfo": {
     "status": "ok",
     "timestamp": 1689263488698,
     "user_tz": 180,
     "elapsed": 19,
     "user": {
      "displayName": "Luciano Galdino",
      "userId": "10237697037323960148"
     }
    },
    "outputId": "4a111be4-0ebd-452e-a04e-3856b10102b5"
   },
   "execution_count": 26,
   "outputs": []
  },
  {
   "cell_type": "code",
   "source": [
    "previsores2[:,1] = LabelEncoder().fit_transform(previsores2[:,1])"
   ],
   "metadata": {
    "id": "36oIQ8I10nin",
    "executionInfo": {
     "status": "ok",
     "timestamp": 1689263488699,
     "user_tz": 180,
     "elapsed": 19,
     "user": {
      "displayName": "Luciano Galdino",
      "userId": "10237697037323960148"
     }
    }
   },
   "execution_count": 27,
   "outputs": []
  },
  {
   "cell_type": "code",
   "source": [
    "previsores2"
   ],
   "metadata": {
    "id": "IZQuLVsb1kMW",
    "colab": {
     "base_uri": "https://localhost:8080/"
    },
    "executionInfo": {
     "status": "ok",
     "timestamp": 1689263488699,
     "user_tz": 180,
     "elapsed": 19,
     "user": {
      "displayName": "Luciano Galdino",
      "userId": "10237697037323960148"
     }
    },
    "outputId": "37bbf153-5220-4cc3-d26e-3d1875a33f25"
   },
   "execution_count": 28,
   "outputs": []
  },
  {
   "cell_type": "code",
   "source": [
    "previsores2[:,2] = LabelEncoder().fit_transform(previsores2[:,2])\n",
    "previsores2[:,6] = LabelEncoder().fit_transform(previsores2[:,6])\n",
    "previsores2[:,8] = LabelEncoder().fit_transform(previsores2[:,8])\n",
    "previsores2[:,10] = LabelEncoder().fit_transform(previsores2[:,10])"
   ],
   "metadata": {
    "id": "VAV6Jrmg00_B",
    "executionInfo": {
     "status": "ok",
     "timestamp": 1689263488700,
     "user_tz": 180,
     "elapsed": 19,
     "user": {
      "displayName": "Luciano Galdino",
      "userId": "10237697037323960148"
     }
    }
   },
   "execution_count": 29,
   "outputs": []
  },
  {
   "cell_type": "code",
   "source": [
    "previsores2"
   ],
   "metadata": {
    "id": "6OYCPPGa3EE6",
    "colab": {
     "base_uri": "https://localhost:8080/"
    },
    "executionInfo": {
     "status": "ok",
     "timestamp": 1689263489146,
     "user_tz": 180,
     "elapsed": 465,
     "user": {
      "displayName": "Luciano Galdino",
      "userId": "10237697037323960148"
     }
    },
    "outputId": "cc9ca281-819b-4f6a-cf90-ef818894240c"
   },
   "execution_count": 30,
   "outputs": []
  },
  {
   "cell_type": "code",
   "source": [
    "previsores2.shape"
   ],
   "metadata": {
    "id": "SV6SHdiD3i_Z",
    "colab": {
     "base_uri": "https://localhost:8080/"
    },
    "executionInfo": {
     "status": "ok",
     "timestamp": 1689263489147,
     "user_tz": 180,
     "elapsed": 21,
     "user": {
      "displayName": "Luciano Galdino",
      "userId": "10237697037323960148"
     }
    },
    "outputId": "4b0af898-a978-4f69-834f-80abaf530e05"
   },
   "execution_count": 31,
   "outputs": []
  },
  {
   "cell_type": "markdown",
   "source": [
    "### **OneHotEncoder: Criação de variáveis Dummy (fictícia).**"
   ],
   "metadata": {
    "id": "PIqEAMoH52Og"
   }
  },
  {
   "cell_type": "markdown",
   "source": [
    "Cuidado com a multicolinearidade (variáveis altamente correlacionadas entre si)."
   ],
   "metadata": {
    "id": "Ic1BCbFvGTNL"
   }
  },
  {
   "cell_type": "markdown",
   "source": [
    "![image.png](data:image/png;base64,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)"
   ],
   "metadata": {
    "id": "ruBvkbyn74ly"
   }
  },
  {
   "cell_type": "markdown",
   "metadata": {
    "id": "ZszZwZIBPrQR"
   },
   "source": [
    "A   B   C   D   \n",
    "1   0   0   0   \n",
    "0   1   0   0   \n",
    "0   0   1   0   \n",
    "0   0   0   1\n"
   ]
  },
  {
   "cell_type": "code",
   "source": [
    "from sklearn.preprocessing import OneHotEncoder\n",
    "from sklearn.compose import ColumnTransformer"
   ],
   "metadata": {
    "id": "YeSR7cQC8uCQ",
    "executionInfo": {
     "status": "ok",
     "timestamp": 1689263489147,
     "user_tz": 180,
     "elapsed": 17,
     "user": {
      "displayName": "Luciano Galdino",
      "userId": "10237697037323960148"
     }
    }
   },
   "execution_count": 32,
   "outputs": []
  },
  {
   "cell_type": "code",
   "metadata": {
    "id": "qx2UeR9S2Whp",
    "executionInfo": {
     "status": "ok",
     "timestamp": 1689263489148,
     "user_tz": 180,
     "elapsed": 18,
     "user": {
      "displayName": "Luciano Galdino",
      "userId": "10237697037323960148"
     }
    }
   },
   "source": [
    "ColumnTransformer?"
   ],
   "execution_count": 33,
   "outputs": []
  },
  {
   "cell_type": "markdown",
   "metadata": {
    "id": "ZT_BjSzytpVX"
   },
   "source": [
    "Parâmetros ColumnTransformer\n",
    "- name: nome dado a transformação.\n",
    "- transformer: tipo de estimador (OneHotEncoder).\n",
    "- columns: colunas que serão transformadas.\n",
    "- remainder: o que acontecerá com o restante das colunas não relacionadas:\n",
    "1) drop = exclui as outras colunas.\n",
    "2) passthrough = mantém as outras colunas. drop é default.  \n",
    "- sparse_threshold: parâmetro de classificação de matrizes esparsas. default é 0.3\n",
    "- n_jobs: número de trabalhos a serem executados em paralelo. default é nenhum\n",
    "- transformer_weights: definição de pesos aos transformadores.\n",
    "-verbose: default é False. se for True a execução é apresentada na tela."
   ]
  },
  {
   "cell_type": "code",
   "source": [
    "previsores3 = ColumnTransformer(transformers=[('OneHot', OneHotEncoder(), [1,2,6,8,10])],\n",
    "                                remainder='passthrough').fit_transform(previsores2)"
   ],
   "metadata": {
    "id": "rXFOyMmd9JEB",
    "executionInfo": {
     "status": "ok",
     "timestamp": 1689263489174,
     "user_tz": 180,
     "elapsed": 43,
     "user": {
      "displayName": "Luciano Galdino",
      "userId": "10237697037323960148"
     }
    }
   },
   "execution_count": 34,
   "outputs": []
  },
  {
   "cell_type": "code",
   "source": [
    "previsores3"
   ],
   "metadata": {
    "id": "F_H3hiDD_pfB",
    "colab": {
     "base_uri": "https://localhost:8080/"
    },
    "executionInfo": {
     "status": "ok",
     "timestamp": 1689263489175,
     "user_tz": 180,
     "elapsed": 44,
     "user": {
      "displayName": "Luciano Galdino",
      "userId": "10237697037323960148"
     }
    },
    "outputId": "094e4588-1230-4df3-bd41-8a74229d7307"
   },
   "execution_count": 35,
   "outputs": []
  },
  {
   "cell_type": "code",
   "source": [
    "previsores3.shape"
   ],
   "metadata": {
    "id": "eZ-nG4XEBMXU",
    "colab": {
     "base_uri": "https://localhost:8080/"
    },
    "executionInfo": {
     "status": "ok",
     "timestamp": 1689263489176,
     "user_tz": 180,
     "elapsed": 44,
     "user": {
      "displayName": "Luciano Galdino",
      "userId": "10237697037323960148"
     }
    },
    "outputId": "401bc5b5-0b89-4929-80c8-7a534a2989fa"
   },
   "execution_count": 36,
   "outputs": []
  },
  {
   "cell_type": "code",
   "source": [
    "previsores3df = pd.DataFrame(previsores3)\n",
    "previsores3df.head()"
   ],
   "metadata": {
    "id": "1iTTX6b0C_0-",
    "colab": {
     "base_uri": "https://localhost:8080/",
     "height": 0
    },
    "executionInfo": {
     "status": "ok",
     "timestamp": 1689263489177,
     "user_tz": 180,
     "elapsed": 44,
     "user": {
      "displayName": "Luciano Galdino",
      "userId": "10237697037323960148"
     }
    },
    "outputId": "445b8642-b7a5-4de0-f9b1-2808cb8e1197"
   },
   "execution_count": 37,
   "outputs": []
  },
  {
   "cell_type": "code",
   "source": [
    "df.head()"
   ],
   "metadata": {
    "id": "KTfczx7EDvwc",
    "colab": {
     "base_uri": "https://localhost:8080/",
     "height": 0
    },
    "executionInfo": {
     "status": "ok",
     "timestamp": 1689263489177,
     "user_tz": 180,
     "elapsed": 43,
     "user": {
      "displayName": "Luciano Galdino",
      "userId": "10237697037323960148"
     }
    },
    "outputId": "c77094cc-f44c-4c6b-ae68-f53e5f20c790"
   },
   "execution_count": 38,
   "outputs": []
  },
  {
   "cell_type": "markdown",
   "source": [
    "## **Escalonamento**"
   ],
   "metadata": {
    "id": "YWlyb9T-Fk1I"
   }
  },
  {
   "cell_type": "code",
   "source": [
    "from sklearn.preprocessing import StandardScaler"
   ],
   "metadata": {
    "id": "x4jzommSFk1L",
    "executionInfo": {
     "status": "ok",
     "timestamp": 1689263489177,
     "user_tz": 180,
     "elapsed": 41,
     "user": {
      "displayName": "Luciano Galdino",
      "userId": "10237697037323960148"
     }
    }
   },
   "execution_count": 39,
   "outputs": []
  },
  {
   "cell_type": "code",
   "source": [
    "previsores3_esc = StandardScaler().fit_transform(previsores3)"
   ],
   "metadata": {
    "id": "nvLu4mtDFk1L",
    "executionInfo": {
     "status": "ok",
     "timestamp": 1689263489178,
     "user_tz": 180,
     "elapsed": 42,
     "user": {
      "displayName": "Luciano Galdino",
      "userId": "10237697037323960148"
     }
    }
   },
   "execution_count": 40,
   "outputs": []
  },
  {
   "cell_type": "code",
   "source": [
    "previsores3_esc"
   ],
   "metadata": {
    "id": "eFTA8spkFk1M",
    "colab": {
     "base_uri": "https://localhost:8080/"
    },
    "executionInfo": {
     "status": "ok",
     "timestamp": 1689263489601,
     "user_tz": 180,
     "elapsed": 465,
     "user": {
      "displayName": "Luciano Galdino",
      "userId": "10237697037323960148"
     }
    },
    "outputId": "a8605f8d-1da6-4555-a906-a1e048890094"
   },
   "execution_count": 41,
   "outputs": []
  },
  {
   "cell_type": "code",
   "source": [
    "previsores3df = pd.DataFrame(previsores3_esc)\n",
    "previsores3df"
   ],
   "metadata": {
    "id": "w6JQStnqFk1M",
    "colab": {
     "base_uri": "https://localhost:8080/",
     "height": 0
    },
    "executionInfo": {
     "status": "ok",
     "timestamp": 1689263489601,
     "user_tz": 180,
     "elapsed": 10,
     "user": {
      "displayName": "Luciano Galdino",
      "userId": "10237697037323960148"
     }
    },
    "outputId": "649331d8-8f89-4c76-d4c5-f7d2bc6103d0"
   },
   "execution_count": 42,
   "outputs": []
  },
  {
   "cell_type": "code",
   "source": [
    "previsores3df.describe()"
   ],
   "metadata": {
    "id": "e-dcMRS-Fk1N",
    "colab": {
     "base_uri": "https://localhost:8080/",
     "height": 0
    },
    "executionInfo": {
     "status": "ok",
     "timestamp": 1689263489602,
     "user_tz": 180,
     "elapsed": 10,
     "user": {
      "displayName": "Luciano Galdino",
      "userId": "10237697037323960148"
     }
    },
    "outputId": "91056deb-e93c-4305-bd9d-d67f2b030981"
   },
   "execution_count": 43,
   "outputs": []
  },
  {
   "cell_type": "markdown",
   "source": [
    "## **RESUMO PRÉ-PROCESSAMENTO**"
   ],
   "metadata": {
    "id": "kW700Sj9Fk1O"
   }
  },
  {
   "cell_type": "markdown",
   "source": [
    "alvo = variável que se pretende atingir (tem ou não doença cardíaca).\n",
    "\n",
    "previsores = conjunto de variáveis previsoras com as variáveis categóricas transformadas em numéricas manualmente, sem escalonar.\n",
    "\n",
    "previsores_esc = conjunto de variáveis previsoras com as variáveis categóricas transformadas em numéricas, escalonada.\n",
    "\n",
    "previsores2 = conjunto de variáveis previsoras com as variáveis categóricas transformadas em numéricas pelo labelencoder.\n",
    "\n",
    "previsores3 = conjunto de variáveis previsoras transformadas pelo labelencoder e onehotencoder, sem escalonar.\n",
    "\n",
    "previsores3_esc = conjunto de variáveis previsoras transformadas pelo labelencoder e onehotencoder escalonada."
   ],
   "metadata": {
    "id": "k-L1kFumG1pO"
   }
  },
  {
   "cell_type": "markdown",
   "source": [
    "## **Redução de dimensionalidade**"
   ],
   "metadata": {
    "id": "S3Kl3wySKBEw"
   }
  },
  {
   "cell_type": "markdown",
   "source": [
    "Objetivo é selecionar os melhores componentes (atributos) para treinamento do algoritmo, através da análise das correlações entre as variáveis."
   ],
   "metadata": {
    "id": "w5fLfwjg8xrw"
   }
  },
  {
   "cell_type": "markdown",
   "metadata": {
    "id": "6OurC4GyUoak"
   },
   "source": [
    "### Análise dos Componentes Principais (PCA)"
   ]
  },
  {
   "cell_type": "markdown",
   "source": [
    "**Seleção de características:** seleciona os melhores atributos e utiliza sem transformações.\n",
    "\n",
    "**Extração de Características:** Encontra os relacionamentos dos melhores atributos e cria novos atributos.\n",
    "\n",
    "É um algoritmo de aprendizagem não supervisionada.\n",
    "\n",
    "Aplica-se em dados linearmente separáveis."
   ],
   "metadata": {
    "id": "iB5XY2Tf9AH5"
   }
  },
  {
   "cell_type": "code",
   "metadata": {
    "id": "j2adDUMyX3d2",
    "executionInfo": {
     "status": "ok",
     "timestamp": 1689263490018,
     "user_tz": 180,
     "elapsed": 424,
     "user": {
      "displayName": "Luciano Galdino",
      "userId": "10237697037323960148"
     }
    }
   },
   "source": [
    "from sklearn.decomposition import PCA"
   ],
   "execution_count": 44,
   "outputs": []
  },
  {
   "cell_type": "code",
   "metadata": {
    "id": "ZmpO8urpX8kz",
    "executionInfo": {
     "status": "ok",
     "timestamp": 1689263490020,
     "user_tz": 180,
     "elapsed": 24,
     "user": {
      "displayName": "Luciano Galdino",
      "userId": "10237697037323960148"
     }
    }
   },
   "source": [
    "pca = PCA(n_components=3)"
   ],
   "execution_count": 45,
   "outputs": []
  },
  {
   "cell_type": "code",
   "metadata": {
    "id": "zVHnZ8rYYOeL",
    "executionInfo": {
     "status": "ok",
     "timestamp": 1689263490020,
     "user_tz": 180,
     "elapsed": 23,
     "user": {
      "displayName": "Luciano Galdino",
      "userId": "10237697037323960148"
     }
    }
   },
   "source": [
    "previsores_pca = pca.fit_transform(previsores2)"
   ],
   "execution_count": 46,
   "outputs": []
  },
  {
   "cell_type": "code",
   "metadata": {
    "id": "5Ouz2wdFYkJh",
    "colab": {
     "base_uri": "https://localhost:8080/"
    },
    "executionInfo": {
     "status": "ok",
     "timestamp": 1689263490021,
     "user_tz": 180,
     "elapsed": 23,
     "user": {
      "displayName": "Luciano Galdino",
      "userId": "10237697037323960148"
     }
    },
    "outputId": "87be7cc6-296d-4c01-fe24-ba8599abb59f"
   },
   "source": [
    "previsores_pca.shape"
   ],
   "execution_count": 47,
   "outputs": []
  },
  {
   "cell_type": "code",
   "metadata": {
    "id": "i06cyMBkYubR",
    "colab": {
     "base_uri": "https://localhost:8080/"
    },
    "executionInfo": {
     "status": "ok",
     "timestamp": 1689263490022,
     "user_tz": 180,
     "elapsed": 21,
     "user": {
      "displayName": "Luciano Galdino",
      "userId": "10237697037323960148"
     }
    },
    "outputId": "27469ffe-363e-492a-8f1a-b9896508b95a"
   },
   "source": [
    "# Componentes principais\n",
    "previsores_pca"
   ],
   "execution_count": 48,
   "outputs": []
  },
  {
   "cell_type": "code",
   "metadata": {
    "id": "hdBAi-piY28x",
    "colab": {
     "base_uri": "https://localhost:8080/"
    },
    "executionInfo": {
     "status": "ok",
     "timestamp": 1689263490023,
     "user_tz": 180,
     "elapsed": 20,
     "user": {
      "displayName": "Luciano Galdino",
      "userId": "10237697037323960148"
     }
    },
    "outputId": "3213c352-1979-43d6-ac4e-246e36ef08f8"
   },
   "source": [
    "# razão das variáveis explicativas\n",
    "pca.explained_variance_ratio_"
   ],
   "execution_count": 49,
   "outputs": []
  },
  {
   "cell_type": "code",
   "metadata": {
    "id": "lBxPFP0VZR1I",
    "colab": {
     "base_uri": "https://localhost:8080/"
    },
    "executionInfo": {
     "status": "ok",
     "timestamp": 1689263490025,
     "user_tz": 180,
     "elapsed": 20,
     "user": {
      "displayName": "Luciano Galdino",
      "userId": "10237697037323960148"
     }
    },
    "outputId": "bd7ba18a-0506-4c89-b078-fc7049ad36cc"
   },
   "source": [
    "# Soma das variáveis explicativas\n",
    "pca.explained_variance_ratio_.sum()"
   ],
   "execution_count": 50,
   "outputs": []
  },
  {
   "cell_type": "markdown",
   "metadata": {
    "id": "2UhdSgBmUtJ6"
   },
   "source": [
    "### Kernel PCA"
   ]
  },
  {
   "cell_type": "markdown",
   "source": [
    "É um algoritmo de aprendizagem não supervisionada.\n",
    "\n",
    "Aplica-se também em dados linearmente não separáveis."
   ],
   "metadata": {
    "id": "1DM-bEoM_JzC"
   }
  },
  {
   "cell_type": "code",
   "metadata": {
    "id": "z4ATtNXscFq2",
    "executionInfo": {
     "status": "ok",
     "timestamp": 1689263490026,
     "user_tz": 180,
     "elapsed": 19,
     "user": {
      "displayName": "Luciano Galdino",
      "userId": "10237697037323960148"
     }
    }
   },
   "source": [
    "from sklearn.decomposition import KernelPCA"
   ],
   "execution_count": 51,
   "outputs": []
  },
  {
   "cell_type": "code",
   "metadata": {
    "id": "8kB6ZCIvcNb1",
    "executionInfo": {
     "status": "ok",
     "timestamp": 1689263490027,
     "user_tz": 180,
     "elapsed": 20,
     "user": {
      "displayName": "Luciano Galdino",
      "userId": "10237697037323960148"
     }
    }
   },
   "source": [
    "kpca = KernelPCA(n_components=4, kernel='rbf')"
   ],
   "execution_count": 52,
   "outputs": []
  },
  {
   "cell_type": "code",
   "source": [
    "previsores_kernel = kpca.fit_transform(previsores2)"
   ],
   "metadata": {
    "id": "bRAZ06bXPspG",
    "executionInfo": {
     "status": "ok",
     "timestamp": 1689263490841,
     "user_tz": 180,
     "elapsed": 833,
     "user": {
      "displayName": "Luciano Galdino",
      "userId": "10237697037323960148"
     }
    }
   },
   "execution_count": 53,
   "outputs": []
  },
  {
   "cell_type": "code",
   "metadata": {
    "id": "tswhvRYtdMvr",
    "colab": {
     "base_uri": "https://localhost:8080/"
    },
    "executionInfo": {
     "status": "ok",
     "timestamp": 1689263490841,
     "user_tz": 180,
     "elapsed": 23,
     "user": {
      "displayName": "Luciano Galdino",
      "userId": "10237697037323960148"
     }
    },
    "outputId": "3785caf2-f90c-47cf-990d-79a046d93ab8"
   },
   "source": [
    "previsores_kernel.shape"
   ],
   "execution_count": 54,
   "outputs": []
  },
  {
   "cell_type": "code",
   "metadata": {
    "id": "age1iPvsdZg-",
    "colab": {
     "base_uri": "https://localhost:8080/"
    },
    "executionInfo": {
     "status": "ok",
     "timestamp": 1689263490842,
     "user_tz": 180,
     "elapsed": 22,
     "user": {
      "displayName": "Luciano Galdino",
      "userId": "10237697037323960148"
     }
    },
    "outputId": "6953db9e-2e89-4cfb-b1fb-05a312d2b68d"
   },
   "source": [
    "previsores_kernel"
   ],
   "execution_count": 55,
   "outputs": []
  },
  {
   "cell_type": "markdown",
   "source": [
    "### **Análise do Discriminante Linear (LDA: Linear Discriminant Analysis)**"
   ],
   "metadata": {
    "id": "u3jQ6H1S-HtG"
   }
  },
  {
   "cell_type": "markdown",
   "source": [
    "Algoritmo de aprendizagem supervisionada, pois utiliza a classe como referência para seleção.\n",
    "\n",
    "Aplicado em situações com muitos atributos previsores e também com o atributo alvo com muitas classes."
   ],
   "metadata": {
    "id": "NqO1DSAP-7tT"
   }
  },
  {
   "cell_type": "code",
   "metadata": {
    "id": "3RRYZemLenmT",
    "executionInfo": {
     "status": "ok",
     "timestamp": 1689263490842,
     "user_tz": 180,
     "elapsed": 20,
     "user": {
      "displayName": "Luciano Galdino",
      "userId": "10237697037323960148"
     }
    }
   },
   "source": [
    "from sklearn.discriminant_analysis import LinearDiscriminantAnalysis\n",
    "lda = LinearDiscriminantAnalysis(n_components = 1)"
   ],
   "execution_count": 56,
   "outputs": []
  },
  {
   "cell_type": "code",
   "metadata": {
    "id": "onA-GJZafCLU",
    "executionInfo": {
     "status": "ok",
     "timestamp": 1689263490843,
     "user_tz": 180,
     "elapsed": 20,
     "user": {
      "displayName": "Luciano Galdino",
      "userId": "10237697037323960148"
     }
    }
   },
   "source": [
    "previsores_lda = lda.fit_transform(previsores2, alvo)"
   ],
   "execution_count": 57,
   "outputs": []
  },
  {
   "cell_type": "code",
   "source": [
    "previsores_lda"
   ],
   "metadata": {
    "id": "Y2qtrFLrBVzr",
    "colab": {
     "base_uri": "https://localhost:8080/"
    },
    "executionInfo": {
     "status": "ok",
     "timestamp": 1689263490843,
     "user_tz": 180,
     "elapsed": 20,
     "user": {
      "displayName": "Luciano Galdino",
      "userId": "10237697037323960148"
     }
    },
    "outputId": "e2b672d8-57a1-41e9-94d2-493fe2c83cf2"
   },
   "execution_count": 58,
   "outputs": []
  },
  {
   "cell_type": "code",
   "source": [
    "lda.explained_variance_ratio_"
   ],
   "metadata": {
    "id": "g5l0JnpGBfn7",
    "colab": {
     "base_uri": "https://localhost:8080/"
    },
    "executionInfo": {
     "status": "ok",
     "timestamp": 1689263490846,
     "user_tz": 180,
     "elapsed": 21,
     "user": {
      "displayName": "Luciano Galdino",
      "userId": "10237697037323960148"
     }
    },
    "outputId": "6fca1b75-5464-4b74-c1be-1a22f5dd9d4f"
   },
   "execution_count": 59,
   "outputs": []
  },
  {
   "cell_type": "markdown",
   "source": [
    "## **Salvando as variáveis (atributos)**"
   ],
   "metadata": {
    "id": "Caf7XRsO4BYE"
   }
  },
  {
   "cell_type": "code",
   "metadata": {
    "id": "Vn6R_DKHhG0u",
    "executionInfo": {
     "status": "ok",
     "timestamp": 1689263490846,
     "user_tz": 180,
     "elapsed": 20,
     "user": {
      "displayName": "Luciano Galdino",
      "userId": "10237697037323960148"
     }
    }
   },
   "source": [
    "import pickle"
   ],
   "execution_count": 60,
   "outputs": []
  },
  {
   "cell_type": "code",
   "source": [
    "# Criando arquivo\n",
    "arq1 = open('heart.pkl', 'wb')"
   ],
   "metadata": {
    "id": "DuPE27wl-vBw",
    "executionInfo": {
     "status": "ok",
     "timestamp": 1689263490847,
     "user_tz": 180,
     "elapsed": 21,
     "user": {
      "displayName": "Luciano Galdino",
      "userId": "10237697037323960148"
     }
    }
   },
   "execution_count": 61,
   "outputs": []
  },
  {
   "cell_type": "code",
   "source": [
    "# Salvando a variável no arquivo\n",
    "pickle.dump(alvo, arq1)"
   ],
   "metadata": {
    "id": "jTvKGTxnHien",
    "executionInfo": {
     "status": "ok",
     "timestamp": 1689263490847,
     "user_tz": 180,
     "elapsed": 20,
     "user": {
      "displayName": "Luciano Galdino",
      "userId": "10237697037323960148"
     }
    }
   },
   "execution_count": 62,
   "outputs": []
  },
  {
   "cell_type": "code",
   "source": [
    "# Fechando arquivo\n",
    "arq1.close()"
   ],
   "metadata": {
    "id": "sle5bDZZIJjt",
    "executionInfo": {
     "status": "ok",
     "timestamp": 1689263490847,
     "user_tz": 180,
     "elapsed": 20,
     "user": {
      "displayName": "Luciano Galdino",
      "userId": "10237697037323960148"
     }
    }
   },
   "execution_count": 63,
   "outputs": []
  },
  {
   "cell_type": "code",
   "source": [
    "# Lendo arquivo\n",
    "arq1 = open('heart.pkl', 'rb')"
   ],
   "metadata": {
    "id": "5-HNb-3IISWs",
    "executionInfo": {
     "status": "ok",
     "timestamp": 1689263490848,
     "user_tz": 180,
     "elapsed": 21,
     "user": {
      "displayName": "Luciano Galdino",
      "userId": "10237697037323960148"
     }
    }
   },
   "execution_count": 64,
   "outputs": []
  },
  {
   "cell_type": "code",
   "source": [
    "# Chamando a variável\n",
    "alvo = pickle.load(arq1)"
   ],
   "metadata": {
    "id": "poLMbNNvIjlz",
    "executionInfo": {
     "status": "ok",
     "timestamp": 1689263490848,
     "user_tz": 180,
     "elapsed": 20,
     "user": {
      "displayName": "Luciano Galdino",
      "userId": "10237697037323960148"
     }
    }
   },
   "execution_count": 65,
   "outputs": []
  },
  {
   "cell_type": "code",
   "source": [
    "alvo"
   ],
   "metadata": {
    "id": "MZHEQpHeKzK_",
    "colab": {
     "base_uri": "https://localhost:8080/"
    },
    "executionInfo": {
     "status": "ok",
     "timestamp": 1689263490848,
     "user_tz": 180,
     "elapsed": 20,
     "user": {
      "displayName": "Luciano Galdino",
      "userId": "10237697037323960148"
     }
    },
    "outputId": "1a35ba14-0f98-4ab7-a94b-e0b2fa597877"
   },
   "execution_count": 66,
   "outputs": []
  },
  {
   "cell_type": "code",
   "source": [
    "# Criando arquivos e Salvando as variáveis\n",
    "arq2 = open('heart2.pkl', 'wb')\n",
    "pickle.dump(previsores, arq2)\n",
    "arq3 = open('heart3.pkl', 'wb')\n",
    "pickle.dump(previsores_esc, arq3)\n",
    "arq4 = open('heart4.pkl', 'wb')\n",
    "pickle.dump(previsores2, arq4)\n",
    "arq5 = open('heart5.pkl', 'wb')\n",
    "pickle.dump(previsores3, arq5)\n",
    "arq6 = open('heart6.pkl', 'wb')\n",
    "pickle.dump(previsores3_esc, arq6)"
   ],
   "metadata": {
    "id": "hb4PNxyzQgC1",
    "executionInfo": {
     "status": "ok",
     "timestamp": 1689263490849,
     "user_tz": 180,
     "elapsed": 20,
     "user": {
      "displayName": "Luciano Galdino",
      "userId": "10237697037323960148"
     }
    }
   },
   "execution_count": 67,
   "outputs": []
  },
  {
   "cell_type": "code",
   "source": [
    "arq2 = open('heart2.pkl', 'rb')"
   ],
   "metadata": {
    "id": "i7noq9dAEwog",
    "executionInfo": {
     "status": "ok",
     "timestamp": 1689263490849,
     "user_tz": 180,
     "elapsed": 19,
     "user": {
      "displayName": "Luciano Galdino",
      "userId": "10237697037323960148"
     }
    }
   },
   "execution_count": 68,
   "outputs": []
  },
  {
   "cell_type": "code",
   "source": [
    "previsores = pickle.load(arq2)"
   ],
   "metadata": {
    "id": "sNSCfClWE0_G",
    "executionInfo": {
     "status": "ok",
     "timestamp": 1689263490850,
     "user_tz": 180,
     "elapsed": 20,
     "user": {
      "displayName": "Luciano Galdino",
      "userId": "10237697037323960148"
     }
    }
   },
   "execution_count": 69,
   "outputs": []
  },
  {
   "cell_type": "code",
   "source": [
    "previsores"
   ],
   "metadata": {
    "id": "3rE0rqRXRxR3",
    "executionInfo": {
     "status": "ok",
     "timestamp": 1689263490852,
     "user_tz": 180,
     "elapsed": 22,
     "user": {
      "displayName": "Luciano Galdino",
      "userId": "10237697037323960148"
     }
    },
    "colab": {
     "base_uri": "https://localhost:8080/"
    },
    "outputId": "46e7a306-7f57-4e50-8dd2-51241541e571"
   },
   "execution_count": 70,
   "outputs": []
  },
  {
   "cell_type": "markdown",
   "source": [
    "## **BASE DE TREINO E TESTE**"
   ],
   "metadata": {
    "id": "w-W634n0I_Db"
   }
  },
  {
   "cell_type": "code",
   "source": [
    "from sklearn.model_selection import train_test_split"
   ],
   "metadata": {
    "id": "UmjBvEubFG72",
    "executionInfo": {
     "status": "ok",
     "timestamp": 1689263490853,
     "user_tz": 180,
     "elapsed": 22,
     "user": {
      "displayName": "Luciano Galdino",
      "userId": "10237697037323960148"
     }
    }
   },
   "execution_count": 71,
   "outputs": []
  },
  {
   "cell_type": "markdown",
   "metadata": {
    "id": "cB1szLDSyfzA"
   },
   "source": [
    "Parâmetros train_test_split:   \n",
    "- arrays: nomes dos atributos previsores e alvo.   \n",
    "- test_size: tamanho em porcentagem dos dados de teste. default é none.   \n",
    "- train_size: tamanho em porcentagem dos dados de treinamento.default é none.  \n",
    "- random_state: nomeação de um estado aleatório.   \n",
    "- shuffle: embaralhamento dos dados aleatórios. Associado com o random_state ocorre o mesmo embaralhamento sempre. Default é True.  \n",
    "- stratify: Possibilidade de dividir os dados de forma estratificada. Default é None (nesse caso é mantido a proporção, isto é, se tem 30% de zeros e 70% de 1 no dataframe, na separação em treinamento e teste se manterá essa proporção)."
   ]
  },
  {
   "cell_type": "code",
   "source": [
    "x_treino, x_teste, y_treino, y_teste = train_test_split(previsores2, alvo, test_size = 0.3, random_state = 0)"
   ],
   "metadata": {
    "id": "JFn1OrYtF0m9",
    "executionInfo": {
     "status": "ok",
     "timestamp": 1689263490854,
     "user_tz": 180,
     "elapsed": 22,
     "user": {
      "displayName": "Luciano Galdino",
      "userId": "10237697037323960148"
     }
    }
   },
   "execution_count": 72,
   "outputs": []
  },
  {
   "cell_type": "code",
   "metadata": {
    "id": "Xza9uNMgJFD8",
    "colab": {
     "base_uri": "https://localhost:8080/"
    },
    "executionInfo": {
     "status": "ok",
     "timestamp": 1689263490854,
     "user_tz": 180,
     "elapsed": 22,
     "user": {
      "displayName": "Luciano Galdino",
      "userId": "10237697037323960148"
     }
    },
    "outputId": "d834aa82-25cf-46df-b785-190204a4ccb4"
   },
   "source": [
    "x_treino.shape"
   ],
   "execution_count": 73,
   "outputs": []
  },
  {
   "cell_type": "code",
   "metadata": {
    "id": "gM74hUlEJNOZ",
    "colab": {
     "base_uri": "https://localhost:8080/"
    },
    "executionInfo": {
     "status": "ok",
     "timestamp": 1689263490854,
     "user_tz": 180,
     "elapsed": 21,
     "user": {
      "displayName": "Luciano Galdino",
      "userId": "10237697037323960148"
     }
    },
    "outputId": "af39def4-474b-45b9-af79-294ab9af123e"
   },
   "source": [
    "x_teste.shape"
   ],
   "execution_count": 74,
   "outputs": []
  },
  {
   "cell_type": "code",
   "metadata": {
    "id": "lGzLxpISJeWG",
    "colab": {
     "base_uri": "https://localhost:8080/"
    },
    "executionInfo": {
     "status": "ok",
     "timestamp": 1689263490855,
     "user_tz": 180,
     "elapsed": 21,
     "user": {
      "displayName": "Luciano Galdino",
      "userId": "10237697037323960148"
     }
    },
    "outputId": "7975d218-6130-4d38-df1b-3c1f5724fb33"
   },
   "source": [
    "y_treino.shape"
   ],
   "execution_count": 75,
   "outputs": []
  },
  {
   "cell_type": "code",
   "metadata": {
    "id": "ZUojufPlJnhy",
    "colab": {
     "base_uri": "https://localhost:8080/"
    },
    "executionInfo": {
     "status": "ok",
     "timestamp": 1689263490855,
     "user_tz": 180,
     "elapsed": 21,
     "user": {
      "displayName": "Luciano Galdino",
      "userId": "10237697037323960148"
     }
    },
    "outputId": "210f7d9b-9627-48d2-a21d-dbdb6b330222"
   },
   "source": [
    "y_teste.shape"
   ],
   "execution_count": 76,
   "outputs": []
  },
  {
   "cell_type": "markdown",
   "source": [
    "# **NAIVE BAYES**"
   ],
   "metadata": {
    "id": "f6u542_aEj6B"
   }
  },
  {
   "cell_type": "markdown",
   "source": [
    "https://scikit-learn.org/stable/modules/naive_bayes.html"
   ],
   "metadata": {
    "id": "2tnCKM7kcfQl"
   }
  },
  {
   "cell_type": "markdown",
   "source": [
    "Treinamento do algoritmo"
   ],
   "metadata": {
    "id": "-GK8qvcgzWGQ"
   }
  },
  {
   "cell_type": "code",
   "source": [
    "from sklearn.naive_bayes import GaussianNB"
   ],
   "metadata": {
    "id": "YhAnMs4TJRoa"
   },
   "execution_count": null,
   "outputs": []
  },
  {
   "cell_type": "code",
   "source": [
    "naive = GaussianNB()\n",
    "naive.fit(x_treino, y_treino)"
   ],
   "metadata": {
    "id": "ak0_M56CJheq"
   },
   "execution_count": null,
   "outputs": []
  },
  {
   "cell_type": "markdown",
   "source": [
    "Avaliação do algoritmo"
   ],
   "metadata": {
    "id": "neBugc1HzbL_"
   }
  },
  {
   "cell_type": "code",
   "source": [
    "previsoes_naive = naive.predict(x_teste)\n",
    "previsoes_naive"
   ],
   "metadata": {
    "id": "ac4kuVBsJ85p"
   },
   "execution_count": null,
   "outputs": []
  },
  {
   "cell_type": "code",
   "source": [
    "y_teste"
   ],
   "metadata": {
    "id": "aBPvzhRUKLoZ"
   },
   "execution_count": null,
   "outputs": []
  },
  {
   "cell_type": "code",
   "source": [
    "from sklearn.metrics import accuracy_score, confusion_matrix, classification_report"
   ],
   "metadata": {
    "id": "OEXPFIiVKUl_"
   },
   "execution_count": null,
   "outputs": []
  },
  {
   "cell_type": "code",
   "source": [
    "accuracy_score(y_teste, previsoes_naive)"
   ],
   "metadata": {
    "id": "hojdvgEgKYjg"
   },
   "execution_count": null,
   "outputs": []
  },
  {
   "cell_type": "code",
   "source": [
    "print(\"Acurácia: %.2f%%\" % (accuracy_score(y_teste, previsoes_naive) * 100.0))"
   ],
   "metadata": {
    "id": "R8rjCRA7CwLV"
   },
   "execution_count": null,
   "outputs": []
  },
  {
   "cell_type": "code",
   "source": [
    "confusion_matrix(y_teste, previsoes_naive)"
   ],
   "metadata": {
    "id": "N_xxZiTXKeG3"
   },
   "execution_count": null,
   "outputs": []
  },
  {
   "cell_type": "code",
   "source": [
    "print(classification_report(y_teste, previsoes_naive))"
   ],
   "metadata": {
    "id": "CZMZ_zPNKzqW"
   },
   "execution_count": null,
   "outputs": []
  },
  {
   "cell_type": "markdown",
   "source": [
    "**Análise dados de treino**"
   ],
   "metadata": {
    "id": "Gnte-P_e0536"
   }
  },
  {
   "cell_type": "code",
   "source": [
    "previsoes_treino = naive.predict(x_treino)\n",
    "previsoes_treino"
   ],
   "metadata": {
    "id": "_t9CZH8qz9w-"
   },
   "execution_count": null,
   "outputs": []
  },
  {
   "cell_type": "code",
   "source": [
    "accuracy_score(y_treino, previsoes_treino)"
   ],
   "metadata": {
    "id": "ixfPbrJB0iEE"
   },
   "execution_count": null,
   "outputs": []
  },
  {
   "cell_type": "code",
   "source": [
    "confusion_matrix(y_treino, previsoes_treino)"
   ],
   "metadata": {
    "id": "nyTX_2Te0suq"
   },
   "execution_count": null,
   "outputs": []
  },
  {
   "cell_type": "markdown",
   "source": [
    "### **Validação Cruzada**"
   ],
   "metadata": {
    "id": "rNsT6wAn_e1l"
   }
  },
  {
   "cell_type": "code",
   "source": [
    "from sklearn.model_selection import KFold\n",
    "from sklearn.model_selection import cross_val_score"
   ],
   "metadata": {
    "id": "lvBuy5bm_qok"
   },
   "execution_count": null,
   "outputs": []
  },
  {
   "cell_type": "code",
   "source": [
    "# Separando os dados em folds\n",
    "kfold = KFold(n_splits = 30, shuffle=True, random_state = 5)"
   ],
   "metadata": {
    "id": "SS_dyx4x_260"
   },
   "execution_count": null,
   "outputs": []
  },
  {
   "cell_type": "code",
   "source": [
    "# Criando o modelo\n",
    "modelo = GaussianNB()\n",
    "resultado = cross_val_score(modelo, previsores3_esc, alvo, cv = kfold)\n",
    "resultado"
   ],
   "metadata": {
    "id": "K0aqT7kPAf1L"
   },
   "execution_count": null,
   "outputs": []
  },
  {
   "cell_type": "code",
   "source": [
    "# Usamos a média e o desvio padrão\n",
    "print(\"Acurácia Média: %.2f%%\" % (resultado.mean() * 100.0))"
   ],
   "metadata": {
    "id": "VmmFUeXird9B"
   },
   "execution_count": null,
   "outputs": []
  },
  {
   "cell_type": "markdown",
   "source": [
    "Naive Bayes = 84,78% (treino e teste) - 234 acertos e 85,17% (validação cruzada) - previsores3_esc\n",
    "\n",
    "\n",
    "\n"
   ],
   "metadata": {
    "id": "tZ03xoOQNkQP"
   }
  },
  {
   "cell_type": "markdown",
   "source": [
    "# **MÁQUINAS DE VETORES DE SUPORTE (SVM)**"
   ],
   "metadata": {
    "id": "n1ky9LQipNn0"
   }
  },
  {
   "cell_type": "markdown",
   "source": [
    "https://scikit-learn.org/stable/modules/generated/sklearn.svm.SVC.html"
   ],
   "metadata": {
    "id": "5p55FhL3b52u"
   }
  },
  {
   "cell_type": "code",
   "source": [
    "from sklearn.svm import SVC"
   ],
   "metadata": {
    "id": "oVy0EpUfpquK"
   },
   "execution_count": null,
   "outputs": []
  },
  {
   "cell_type": "code",
   "metadata": {
    "id": "P7xKKTCabAab"
   },
   "source": [
    "svm = SVC(kernel='rbf', random_state=1, C = 2)\n",
    "svm.fit(x_treino, y_treino)"
   ],
   "execution_count": null,
   "outputs": []
  },
  {
   "cell_type": "code",
   "metadata": {
    "id": "VjKeaHKrbicN"
   },
   "source": [
    "previsoes_svm = svm.predict(x_teste)\n",
    "previsoes_svm"
   ],
   "execution_count": null,
   "outputs": []
  },
  {
   "cell_type": "code",
   "source": [
    "y_teste"
   ],
   "metadata": {
    "id": "ulL7w207qcwQ"
   },
   "execution_count": null,
   "outputs": []
  },
  {
   "cell_type": "code",
   "source": [
    "from sklearn.metrics import accuracy_score, confusion_matrix, classification_report"
   ],
   "metadata": {
    "id": "iWdYWQQBvnVQ"
   },
   "execution_count": null,
   "outputs": []
  },
  {
   "cell_type": "code",
   "source": [
    "print(\"Acurácia: %.2f%%\" % (accuracy_score(y_teste, previsoes_svm) * 100.0))"
   ],
   "metadata": {
    "id": "kRZ4VwD-qjW4"
   },
   "execution_count": null,
   "outputs": []
  },
  {
   "cell_type": "code",
   "source": [
    "confusion_matrix(y_teste, previsoes_svm)"
   ],
   "metadata": {
    "id": "VYeZMXUtqjW5"
   },
   "execution_count": null,
   "outputs": []
  },
  {
   "cell_type": "code",
   "source": [
    "print(classification_report(y_teste, previsoes_svm))"
   ],
   "metadata": {
    "id": "YPKWlAGAqjW6"
   },
   "execution_count": null,
   "outputs": []
  },
  {
   "cell_type": "markdown",
   "source": [
    "**Análise dados de treino**"
   ],
   "metadata": {
    "id": "GeeUpamU1u6d"
   }
  },
  {
   "cell_type": "code",
   "source": [
    "previsoes_treino = svm.predict(x_treino)\n",
    "previsoes_treino"
   ],
   "metadata": {
    "id": "VVGJEYpC1u6d"
   },
   "execution_count": null,
   "outputs": []
  },
  {
   "cell_type": "code",
   "source": [
    "accuracy_score(y_treino, previsoes_treino)"
   ],
   "metadata": {
    "id": "Xo-iYrMn1u6d"
   },
   "execution_count": null,
   "outputs": []
  },
  {
   "cell_type": "code",
   "source": [
    "confusion_matrix(y_treino, previsoes_treino)"
   ],
   "metadata": {
    "id": "Z42CYXuC1u6e"
   },
   "execution_count": null,
   "outputs": []
  },
  {
   "cell_type": "markdown",
   "source": [
    "### **Validação Cruzada**"
   ],
   "metadata": {
    "id": "xXM2zqKVH1Vi"
   }
  },
  {
   "cell_type": "code",
   "source": [
    "from sklearn.model_selection import KFold\n",
    "from sklearn.model_selection import cross_val_score"
   ],
   "metadata": {
    "id": "tukeEaG8H1Vj"
   },
   "execution_count": null,
   "outputs": []
  },
  {
   "cell_type": "code",
   "source": [
    "# Separando os dados em folds\n",
    "kfold = KFold(n_splits = 30, shuffle=True, random_state = 5)"
   ],
   "metadata": {
    "id": "4tYyKK_RH1Vj"
   },
   "execution_count": null,
   "outputs": []
  },
  {
   "cell_type": "code",
   "source": [
    "# Criando o modelo\n",
    "modelo = SVC(kernel='rbf', random_state=1, C = 2)\n",
    "resultado = cross_val_score(modelo, previsores3_esc, alvo, cv = kfold)\n",
    "\n",
    "# Usamos a média e o desvio padrão\n",
    "print(\"Acurácia Média: %.2f%%\" % (resultado.mean() * 100.0))"
   ],
   "metadata": {
    "id": "mhD3BcOWH1Vk"
   },
   "execution_count": null,
   "outputs": []
  },
  {
   "cell_type": "markdown",
   "source": [
    "Naive Bayes = 84,78% (treino e teste) - 234 acertos e 85,17% (validação cruzada) : previsores3_esc\n",
    "\n",
    "SVM = 86,23% - 238 acertos e 85,72% (validação cruzada) : previsores3-esc - SVC(kernel='rbf', random_state=1, C = 2)\n",
    "\n"
   ],
   "metadata": {
    "id": "fT_1y1Hoqycp"
   }
  },
  {
   "cell_type": "markdown",
   "source": [
    "# **REGRESSÃO LOGÍSTICA**"
   ],
   "metadata": {
    "id": "jebC8M2jqyc9"
   }
  },
  {
   "cell_type": "markdown",
   "source": [
    "https://scikit-learn.org/stable/modules/generated/sklearn.linear_model.LogisticRegression.html"
   ],
   "metadata": {
    "id": "mprvbtyNbzP3"
   }
  },
  {
   "cell_type": "code",
   "source": [
    "from sklearn.linear_model import LogisticRegression"
   ],
   "metadata": {
    "id": "NVGe2Q7ur-Nv"
   },
   "execution_count": null,
   "outputs": []
  },
  {
   "cell_type": "code",
   "metadata": {
    "id": "f_RnL43VV9Yc",
    "colab": {
     "base_uri": "https://localhost:8080/"
    },
    "executionInfo": {
     "status": "ok",
     "timestamp": 1662236062154,
     "user_tz": 180,
     "elapsed": 628,
     "user": {
      "displayName": "Luciano Galdino",
      "userId": "10237697037323960148"
     }
    },
    "outputId": "fa9c3dd0-287f-4215-e243-4edd631f26be"
   },
   "source": [
    "logistica = LogisticRegression(random_state=1, max_iter=500, penalty=\"l2\",\n",
    "                               tol=0.0001, C=1,solver=\"lbfgs\")\n",
    "logistica.fit(x_treino, y_treino)"
   ],
   "execution_count": null,
   "outputs": []
  },
  {
   "cell_type": "code",
   "metadata": {
    "id": "I7EqQihmWIQG",
    "colab": {
     "base_uri": "https://localhost:8080/"
    },
    "executionInfo": {
     "status": "ok",
     "timestamp": 1662236065181,
     "user_tz": 180,
     "elapsed": 282,
     "user": {
      "displayName": "Luciano Galdino",
      "userId": "10237697037323960148"
     }
    },
    "outputId": "0c1c9d48-f56f-4f9a-e99e-3c3dcf2e6601"
   },
   "source": [
    "logistica.intercept_"
   ],
   "execution_count": null,
   "outputs": []
  },
  {
   "cell_type": "code",
   "metadata": {
    "id": "6BS-aVjsWK_0",
    "colab": {
     "base_uri": "https://localhost:8080/"
    },
    "executionInfo": {
     "status": "ok",
     "timestamp": 1662236068979,
     "user_tz": 180,
     "elapsed": 309,
     "user": {
      "displayName": "Luciano Galdino",
      "userId": "10237697037323960148"
     }
    },
    "outputId": "f042aa40-fffb-4bca-9062-68bb65885075"
   },
   "source": [
    "logistica.coef_"
   ],
   "execution_count": null,
   "outputs": []
  },
  {
   "cell_type": "code",
   "metadata": {
    "id": "zKlba1wBWX1O",
    "colab": {
     "base_uri": "https://localhost:8080/"
    },
    "executionInfo": {
     "status": "ok",
     "timestamp": 1662236071968,
     "user_tz": 180,
     "elapsed": 307,
     "user": {
      "displayName": "Luciano Galdino",
      "userId": "10237697037323960148"
     }
    },
    "outputId": "49cf910a-1502-48ed-9eed-8a9c6351ff73"
   },
   "source": [
    "previsoes_logistica = logistica.predict(x_teste)\n",
    "previsoes_logistica"
   ],
   "execution_count": null,
   "outputs": []
  },
  {
   "cell_type": "code",
   "source": [
    "from sklearn.metrics import accuracy_score, confusion_matrix, classification_report"
   ],
   "metadata": {
    "id": "PbF05awQvhzK"
   },
   "execution_count": null,
   "outputs": []
  },
  {
   "cell_type": "code",
   "source": [
    "print(\"Acurácia: %.2f%%\" % (accuracy_score(y_teste, previsoes_logistica) * 100.0))"
   ],
   "metadata": {
    "id": "72UCRQBdt2Iy",
    "colab": {
     "base_uri": "https://localhost:8080/"
    },
    "executionInfo": {
     "status": "ok",
     "timestamp": 1656717163654,
     "user_tz": 180,
     "elapsed": 232,
     "user": {
      "displayName": "Luciano Galdino",
      "userId": "10237697037323960148"
     }
    },
    "outputId": "e955d976-1e4a-435d-ba53-44326b5f3bb9"
   },
   "execution_count": null,
   "outputs": []
  },
  {
   "cell_type": "code",
   "source": [
    "confusion_matrix(y_teste, previsoes_logistica)"
   ],
   "metadata": {
    "id": "g2FaBeYDt2Iz",
    "colab": {
     "base_uri": "https://localhost:8080/"
    },
    "executionInfo": {
     "status": "ok",
     "timestamp": 1656717166777,
     "user_tz": 180,
     "elapsed": 241,
     "user": {
      "displayName": "Luciano Galdino",
      "userId": "10237697037323960148"
     }
    },
    "outputId": "26ab729b-750f-438a-abaa-af0989542dd3"
   },
   "execution_count": null,
   "outputs": []
  },
  {
   "cell_type": "code",
   "source": [
    "print(classification_report(y_teste, previsoes_logistica))"
   ],
   "metadata": {
    "id": "MAgJo5b5t2I0",
    "colab": {
     "base_uri": "https://localhost:8080/"
    },
    "executionInfo": {
     "status": "ok",
     "timestamp": 1656717169268,
     "user_tz": 180,
     "elapsed": 281,
     "user": {
      "displayName": "Luciano Galdino",
      "userId": "10237697037323960148"
     }
    },
    "outputId": "9dc145c3-278a-4809-d694-cb3761225c9b"
   },
   "execution_count": null,
   "outputs": []
  },
  {
   "cell_type": "markdown",
   "source": [
    "**Análise dados de treino**"
   ],
   "metadata": {
    "id": "6LpYZvhb17ms"
   }
  },
  {
   "cell_type": "code",
   "source": [
    "previsoes_treino = logistica.predict(x_treino)\n",
    "previsoes_treino"
   ],
   "metadata": {
    "id": "9Mup9Cn817mt",
    "colab": {
     "base_uri": "https://localhost:8080/"
    },
    "executionInfo": {
     "status": "ok",
     "timestamp": 1656717184635,
     "user_tz": 180,
     "elapsed": 289,
     "user": {
      "displayName": "Luciano Galdino",
      "userId": "10237697037323960148"
     }
    },
    "outputId": "12e3cba9-9e60-46dd-a0f9-1db06b958b6b"
   },
   "execution_count": null,
   "outputs": []
  },
  {
   "cell_type": "code",
   "source": [
    "accuracy_score(y_treino, previsoes_treino)"
   ],
   "metadata": {
    "id": "T4imJ5_w17mt",
    "colab": {
     "base_uri": "https://localhost:8080/"
    },
    "executionInfo": {
     "status": "ok",
     "timestamp": 1656717189834,
     "user_tz": 180,
     "elapsed": 6,
     "user": {
      "displayName": "Luciano Galdino",
      "userId": "10237697037323960148"
     }
    },
    "outputId": "747b9401-f58f-4d55-a62d-23b7c1a0e30d"
   },
   "execution_count": null,
   "outputs": []
  },
  {
   "cell_type": "code",
   "source": [
    "confusion_matrix(y_treino, previsoes_treino)"
   ],
   "metadata": {
    "id": "2Ms9dnHk17mu",
    "colab": {
     "base_uri": "https://localhost:8080/"
    },
    "executionInfo": {
     "status": "ok",
     "timestamp": 1656717191756,
     "user_tz": 180,
     "elapsed": 249,
     "user": {
      "displayName": "Luciano Galdino",
      "userId": "10237697037323960148"
     }
    },
    "outputId": "372457f9-74dd-4ab4-f8aa-3bce4f8a7e33"
   },
   "execution_count": null,
   "outputs": []
  },
  {
   "cell_type": "markdown",
   "source": [
    "### **Validação Cruzada**"
   ],
   "metadata": {
    "id": "rGdamAVpJfJ5"
   }
  },
  {
   "cell_type": "code",
   "source": [
    "from sklearn.model_selection import KFold\n",
    "from sklearn.model_selection import cross_val_score"
   ],
   "metadata": {
    "id": "IcNfFmq9JfJ6"
   },
   "execution_count": null,
   "outputs": []
  },
  {
   "cell_type": "code",
   "source": [
    "# Separando os dados em folds\n",
    "kfold = KFold(n_splits = 30, shuffle=True, random_state = 5)"
   ],
   "metadata": {
    "id": "srKfNrUoJfJ6"
   },
   "execution_count": null,
   "outputs": []
  },
  {
   "cell_type": "code",
   "source": [
    "# Criando o modelo\n",
    "modelo = LogisticRegression(random_state=1, max_iter=600, penalty=\"l2\",\n",
    "                               tol=0.0001, C=1,solver=\"lbfgs\")\n",
    "resultado = cross_val_score(modelo, previsores3_esc, alvo, cv = kfold)\n",
    "\n",
    "# Usamos a média e o desvio padrão\n",
    "print(\"Acurácia Média: %.2f%%\" % (resultado.mean() * 100.0))"
   ],
   "metadata": {
    "id": "eHZjsD-RJfJ7",
    "colab": {
     "base_uri": "https://localhost:8080/"
    },
    "executionInfo": {
     "status": "ok",
     "timestamp": 1656717612565,
     "user_tz": 180,
     "elapsed": 1730,
     "user": {
      "displayName": "Luciano Galdino",
      "userId": "10237697037323960148"
     }
    },
    "outputId": "0781aa6d-9de4-44ea-b396-cababc31be7a"
   },
   "execution_count": null,
   "outputs": []
  },
  {
   "cell_type": "markdown",
   "source": [
    "Naive Bayes = 84,78% (treino e teste) - 234 acertos e 85,17% (validação cruzada) : previsores3_esc\n",
    "\n",
    "SVM = 86,23% - 238 acertos e 85,72% (validação cruzada) : previsores3-esc - SVC(kernel='rbf', random_state=1, C = 2)\n",
    "\n",
    "Regressão logística = 86,23% - 238 acertos e 85,83% (validação cruzada) : previsores3_esc - LogisticRegression(random_state=1, max_iter=600, penalty=\"l2\", tol=0.0001, C=1,solver=\"lbfgs\")"
   ],
   "metadata": {
    "id": "KmKIO-uUv31v"
   }
  },
  {
   "cell_type": "markdown",
   "source": [
    "# **APRENDIZAGEM BASEADA EM INSTÂNCIAS (KNN)**"
   ],
   "metadata": {
    "id": "GETCbQj7v32B"
   }
  },
  {
   "cell_type": "markdown",
   "source": [
    "https://scikit-learn.org/stable/modules/generated/sklearn.neighbors.KNeighborsClassifier.html"
   ],
   "metadata": {
    "id": "AXOVpUsGbnlK"
   }
  },
  {
   "cell_type": "code",
   "source": [
    "from sklearn.neighbors import KNeighborsClassifier"
   ],
   "metadata": {
    "id": "u3_VSVAFwo8H"
   },
   "execution_count": null,
   "outputs": []
  },
  {
   "cell_type": "code",
   "metadata": {
    "id": "xkC1VdFmXvcz"
   },
   "source": [
    "knn = KNeighborsClassifier(n_neighbors=7, metric='minkowski', p=1)\n",
    "knn.fit(x_treino, y_treino)"
   ],
   "execution_count": null,
   "outputs": []
  },
  {
   "cell_type": "markdown",
   "source": [
    "https://scikit-learn.org/stable/modules/generated/sklearn.metrics.DistanceMetric.html"
   ],
   "metadata": {
    "id": "CJB-tW-g2P4_"
   }
  },
  {
   "cell_type": "code",
   "metadata": {
    "id": "sSCtq6WKYlFx"
   },
   "source": [
    "previsoes_knn = knn.predict(x_teste)\n",
    "previsoes_knn"
   ],
   "execution_count": null,
   "outputs": []
  },
  {
   "cell_type": "code",
   "source": [
    "y_teste"
   ],
   "metadata": {
    "id": "oG0I-trLxQ50"
   },
   "execution_count": null,
   "outputs": []
  },
  {
   "cell_type": "code",
   "source": [
    "from sklearn.metrics import accuracy_score, confusion_matrix, classification_report"
   ],
   "metadata": {
    "id": "aQYth6LjxOSG"
   },
   "execution_count": null,
   "outputs": []
  },
  {
   "cell_type": "code",
   "source": [
    "print(\"Acurácia: %.2f%%\" % (accuracy_score(y_teste, previsoes_knn) * 100.0))"
   ],
   "metadata": {
    "id": "OWDZlThoxOSI"
   },
   "execution_count": null,
   "outputs": []
  },
  {
   "cell_type": "code",
   "source": [
    "confusion_matrix(y_teste, previsoes_knn)"
   ],
   "metadata": {
    "id": "-IGoTCdmxOSJ"
   },
   "execution_count": null,
   "outputs": []
  },
  {
   "cell_type": "code",
   "source": [
    "print(classification_report(y_teste, previsoes_knn))"
   ],
   "metadata": {
    "id": "5V-bhRMvxOSJ"
   },
   "execution_count": null,
   "outputs": []
  },
  {
   "cell_type": "markdown",
   "source": [
    "**Análise dados de treino**"
   ],
   "metadata": {
    "id": "qEF7YW-Y2KT9"
   }
  },
  {
   "cell_type": "code",
   "source": [
    "previsoes_treino = knn.predict(x_treino)\n",
    "previsoes_treino"
   ],
   "metadata": {
    "id": "gmZgnjMe2KT-"
   },
   "execution_count": null,
   "outputs": []
  },
  {
   "cell_type": "code",
   "source": [
    "accuracy_score(y_treino, previsoes_treino)"
   ],
   "metadata": {
    "id": "q5pLRV6J2KT_"
   },
   "execution_count": null,
   "outputs": []
  },
  {
   "cell_type": "code",
   "source": [
    "confusion_matrix(y_treino, previsoes_treino)"
   ],
   "metadata": {
    "id": "w4ce2FGJ2KT_"
   },
   "execution_count": null,
   "outputs": []
  },
  {
   "cell_type": "markdown",
   "source": [
    "### **Validação Cruzada**"
   ],
   "metadata": {
    "id": "pUNWBzC8KJ5v"
   }
  },
  {
   "cell_type": "code",
   "source": [
    "from sklearn.model_selection import KFold\n",
    "from sklearn.model_selection import cross_val_score"
   ],
   "metadata": {
    "id": "b88vNYd8KJ5w"
   },
   "execution_count": null,
   "outputs": []
  },
  {
   "cell_type": "code",
   "source": [
    "# Separando os dados em folds\n",
    "kfold = KFold(n_splits = 30, shuffle=True, random_state = 5)"
   ],
   "metadata": {
    "id": "nG58w5CNKJ5w"
   },
   "execution_count": null,
   "outputs": []
  },
  {
   "cell_type": "code",
   "source": [
    "# Criando o modelo\n",
    "modelo = KNeighborsClassifier(n_neighbors=7, metric='minkowski', p = 1)\n",
    "resultado = cross_val_score(modelo, previsores3_esc, alvo, cv = kfold)\n",
    "\n",
    "# Usamos a média e o desvio padrão\n",
    "print(\"Acurácia Média: %.2f%%\" % (resultado.mean() * 100.0))"
   ],
   "metadata": {
    "id": "V9BM96VTKJ5w"
   },
   "execution_count": null,
   "outputs": []
  },
  {
   "cell_type": "markdown",
   "source": [
    "Naive Bayes = 84,78% (treino e teste) - 234 acertos e 85,17% (validação cruzada) : previsores3_esc\n",
    "\n",
    "SVM = 86,23% - 238 acertos e 85,72% (validação cruzada) : previsores3-esc - SVC(kernel='rbf', random_state=1, C = 2)\n",
    "\n",
    "Regressão logística = 86,23% - 238 acertos e 85,83% (validação cruzada) : previsores3_esc - LogisticRegression(random_state=1, max_iter=600, penalty=\"l2\", tol=0.0001, C=1,solver=\"lbfgs\")\n",
    "\n",
    "KNN = 84,06% - 232 acertos e 85,84% (validação cruzada) : previsores3_esc ou previsores_esc - KNeighborsClassifier(n_neighbors=7, metric='minkowski', p = 1)\n",
    "\n"
   ],
   "metadata": {
    "id": "ovmlWcN6xOSK"
   }
  },
  {
   "cell_type": "markdown",
   "source": [
    "# **ÁRVORE DE DECISÃO**"
   ],
   "metadata": {
    "id": "VdGvKcYjODGt"
   }
  },
  {
   "cell_type": "markdown",
   "source": [
    "https://scikit-learn.org/stable/modules/tree.html"
   ],
   "metadata": {
    "id": "i65VtZ4pcQGP"
   }
  },
  {
   "cell_type": "code",
   "source": [
    "from sklearn.tree import DecisionTreeClassifier"
   ],
   "metadata": {
    "id": "-2oaMph5OFa2"
   },
   "execution_count": null,
   "outputs": []
  },
  {
   "cell_type": "code",
   "source": [
    "arvore = DecisionTreeClassifier(criterion='entropy', random_state = 0, max_depth=3)\n",
    "arvore.fit(x_treino, y_treino)"
   ],
   "metadata": {
    "id": "Zxu4_zhCOMVj"
   },
   "execution_count": null,
   "outputs": []
  },
  {
   "cell_type": "code",
   "source": [
    "previsoes_arvore = arvore.predict(x_teste)\n",
    "previsoes_arvore"
   ],
   "metadata": {
    "id": "UnxRfJZXOVkk"
   },
   "execution_count": null,
   "outputs": []
  },
  {
   "cell_type": "code",
   "source": [
    "y_teste"
   ],
   "metadata": {
    "id": "ozqiMkVAOke6"
   },
   "execution_count": null,
   "outputs": []
  },
  {
   "cell_type": "code",
   "source": [
    "from sklearn.metrics import accuracy_score, confusion_matrix, classification_report"
   ],
   "metadata": {
    "id": "fS4QmmG9vrl4"
   },
   "execution_count": null,
   "outputs": []
  },
  {
   "cell_type": "code",
   "source": [
    "print(\"Acurácia: %.2f%%\" % (accuracy_score(y_teste, previsoes_arvore) * 100.0))"
   ],
   "metadata": {
    "id": "9vuYKW1_Onqq"
   },
   "execution_count": null,
   "outputs": []
  },
  {
   "cell_type": "code",
   "source": [
    "confusion_matrix(y_teste, previsoes_arvore)"
   ],
   "metadata": {
    "id": "IAJonpblPUGh"
   },
   "execution_count": null,
   "outputs": []
  },
  {
   "cell_type": "code",
   "source": [
    "print(classification_report(y_teste, previsoes_arvore))"
   ],
   "metadata": {
    "id": "wACzOEs-PcTo"
   },
   "execution_count": null,
   "outputs": []
  },
  {
   "cell_type": "markdown",
   "source": [
    "**Análise dados de treino**"
   ],
   "metadata": {
    "id": "PXa_22cA1DcE"
   }
  },
  {
   "cell_type": "code",
   "source": [
    "previsoes_treino = arvore.predict(x_treino)\n",
    "previsoes_treino"
   ],
   "metadata": {
    "id": "UZFn-68G1DcF"
   },
   "execution_count": null,
   "outputs": []
  },
  {
   "cell_type": "code",
   "source": [
    "accuracy_score(y_treino, previsoes_treino)"
   ],
   "metadata": {
    "id": "mDqKNd3v1DcG"
   },
   "execution_count": null,
   "outputs": []
  },
  {
   "cell_type": "code",
   "source": [
    "confusion_matrix(y_treino, previsoes_treino)"
   ],
   "metadata": {
    "id": "dMQiq4o01DcG"
   },
   "execution_count": null,
   "outputs": []
  },
  {
   "cell_type": "markdown",
   "source": [
    "### **Validação Cruzada**"
   ],
   "metadata": {
    "id": "dxwugdgiEhdw"
   }
  },
  {
   "cell_type": "code",
   "source": [
    "from sklearn.model_selection import KFold\n",
    "from sklearn.model_selection import cross_val_score"
   ],
   "metadata": {
    "id": "ArJOjabUEZJf"
   },
   "execution_count": null,
   "outputs": []
  },
  {
   "cell_type": "code",
   "source": [
    "# Separando os dados em folds\n",
    "kfold = KFold(n_splits = 30, shuffle=True, random_state = 5)"
   ],
   "metadata": {
    "id": "zfWK55DrEZJg"
   },
   "execution_count": null,
   "outputs": []
  },
  {
   "cell_type": "code",
   "source": [
    "# Criando o modelo\n",
    "modelo = DecisionTreeClassifier(criterion='entropy', random_state = 0, max_depth=3)\n",
    "resultado = cross_val_score(modelo, previsores3_esc, alvo, cv = kfold)\n",
    "\n",
    "# Usamos a média e o desvio padrão\n",
    "print(\"Acurácia Média: %.2f%%\" % (resultado.mean() * 100.0))"
   ],
   "metadata": {
    "id": "MwGsKOFZEZJh"
   },
   "execution_count": null,
   "outputs": []
  },
  {
   "cell_type": "markdown",
   "source": [
    "Naive Bayes = 84,78% (treino e teste) - 234 acertos e 85,17% (validação cruzada) : previsores3_esc\n",
    "\n",
    "SVM = 86,23% - 238 acertos e 85,72% (validação cruzada) : previsores3-esc - SVC(kernel='rbf', random_state=1, C = 2)\n",
    "\n",
    "Regressão logística = 86,23% - 238 acertos e 85,83% (validação cruzada) : previsores3_esc - LogisticRegression(random_state=1, max_iter=600, penalty=\"l2\", tol=0.0001, C=1,solver=\"lbfgs\")\n",
    "\n",
    "KNN = 84,06% - 232 acertos e 85,84% (validação cruzada) : previsores3_esc ou previsores_esc - KNeighborsClassifier(n_neighbors=7, metric='minkowski', p = 1)\n",
    "\n",
    "Árvore de decisão = 83,7% (treino e teste) - 231 acertos e 83,32% (validação cruzada): previsores3_esc - DecisionTreeClassifier(criterion='entropy', random_state = 0, max_depth=3)"
   ],
   "metadata": {
    "id": "-Ti98jalQK23"
   }
  },
  {
   "cell_type": "markdown",
   "source": [
    "# **RANDOM FOREST**"
   ],
   "metadata": {
    "id": "hw7px-UemoSc"
   }
  },
  {
   "cell_type": "markdown",
   "source": [
    "https://scikit-learn.org/stable/modules/generated/sklearn.ensemble.RandomForestClassifier.html"
   ],
   "metadata": {
    "id": "HAUbw5xfcCYy"
   }
  },
  {
   "cell_type": "code",
   "source": [
    "from sklearn.ensemble import RandomForestClassifier"
   ],
   "metadata": {
    "id": "BqqXdinImokj"
   },
   "execution_count": null,
   "outputs": []
  },
  {
   "cell_type": "code",
   "source": [
    "random = RandomForestClassifier(n_estimators=150, criterion='entropy', random_state = 0, max_depth=4)\n",
    "random.fit(x_treino, y_treino)"
   ],
   "metadata": {
    "id": "Klr3lymumztn"
   },
   "execution_count": null,
   "outputs": []
  },
  {
   "cell_type": "code",
   "source": [
    "previsoes_random = random.predict(x_teste)\n",
    "previsoes_random"
   ],
   "metadata": {
    "id": "0JOqI4bQnY17"
   },
   "execution_count": null,
   "outputs": []
  },
  {
   "cell_type": "code",
   "source": [
    "y_teste"
   ],
   "metadata": {
    "id": "fRN6hPPXn5qp"
   },
   "execution_count": null,
   "outputs": []
  },
  {
   "cell_type": "code",
   "source": [
    "from sklearn.metrics import accuracy_score, confusion_matrix, classification_report"
   ],
   "metadata": {
    "id": "cgB44VIOvpZf"
   },
   "execution_count": null,
   "outputs": []
  },
  {
   "cell_type": "code",
   "source": [
    "print(\"Acurácia: %.2f%%\" % (accuracy_score(y_teste, previsoes_random) * 100.0))"
   ],
   "metadata": {
    "id": "gnAuxYDDoDxM"
   },
   "execution_count": null,
   "outputs": []
  },
  {
   "cell_type": "code",
   "source": [
    "confusion_matrix(y_teste, previsoes_random)"
   ],
   "metadata": {
    "id": "zjAqh3e8oDxN"
   },
   "execution_count": null,
   "outputs": []
  },
  {
   "cell_type": "code",
   "source": [
    "print(classification_report(y_teste, previsoes_random))"
   ],
   "metadata": {
    "id": "IdpisYpjoDxO"
   },
   "execution_count": null,
   "outputs": []
  },
  {
   "cell_type": "markdown",
   "source": [
    "**Análise dados de treino**"
   ],
   "metadata": {
    "id": "e9NiPecr1bdw"
   }
  },
  {
   "cell_type": "code",
   "source": [
    "previsoes_treino = random.predict(x_treino)\n",
    "previsoes_treino"
   ],
   "metadata": {
    "id": "DDs9J1hX1bdx"
   },
   "execution_count": null,
   "outputs": []
  },
  {
   "cell_type": "code",
   "source": [
    "accuracy_score(y_treino, previsoes_treino)"
   ],
   "metadata": {
    "id": "MkH9uYfz1bdy"
   },
   "execution_count": null,
   "outputs": []
  },
  {
   "cell_type": "code",
   "source": [
    "confusion_matrix(y_treino, previsoes_treino)"
   ],
   "metadata": {
    "id": "pLge3xVL1bdy"
   },
   "execution_count": null,
   "outputs": []
  },
  {
   "cell_type": "markdown",
   "source": [
    "### **Validação Cruzada**"
   ],
   "metadata": {
    "id": "GH4nEvlaGOb7"
   }
  },
  {
   "cell_type": "code",
   "source": [
    "from sklearn.model_selection import KFold\n",
    "from sklearn.model_selection import cross_val_score"
   ],
   "metadata": {
    "id": "hreEC55-GOb8"
   },
   "execution_count": null,
   "outputs": []
  },
  {
   "cell_type": "code",
   "source": [
    "# Separando os dados em folds\n",
    "kfold = KFold(n_splits = 30, shuffle=True, random_state = 5)"
   ],
   "metadata": {
    "id": "ETYEB99OGOb9"
   },
   "execution_count": null,
   "outputs": []
  },
  {
   "cell_type": "code",
   "source": [
    "# Criando o modelo\n",
    "modelo = RandomForestClassifier(n_estimators=150, criterion='entropy', random_state = 0, max_depth=4)\n",
    "resultado = cross_val_score(modelo, previsores, alvo, cv = kfold)\n",
    "\n",
    "# Usamos a média e o desvio padrão\n",
    "print(\"Acurácia Média: %.2f%%\" % (resultado.mean() * 100.0))"
   ],
   "metadata": {
    "id": "7GHcsag3GOb9"
   },
   "execution_count": null,
   "outputs": []
  },
  {
   "cell_type": "markdown",
   "source": [
    "Naive Bayes = 84,78% (treino e teste) - 234 acertos e 85,17% (validação cruzada) : previsores3_esc\n",
    "\n",
    "SVM = 86,23% - 238 acertos e 85,72% (validação cruzada) : previsores3-esc - SVC(kernel='rbf', random_state=1, C = 2)\n",
    "\n",
    "Regressão logística = 86,23% - 238 acertos e 85,83% (validação cruzada) : previsores3_esc - LogisticRegression(random_state=1, max_iter=600, penalty=\"l2\", tol=0.0001, C=1,solver=\"lbfgs\")\n",
    "\n",
    "KNN = 84,06% - 232 acertos e 85,84% (validação cruzada) : previsores3_esc ou previsores_esc - KNeighborsClassifier(n_neighbors=7, metric='minkowski', p = 1)\n",
    "\n",
    "Árvore de decisão = 83,7% (treino e teste) - 231 acertos e 83,32% (validação cruzada): previsores3_esc - DecisionTreeClassifier(criterion='entropy', random_state = 0, max_depth=3)\n",
    "\n",
    "Random Forest = 86,59% - 239 acertos e 85,92% (validação cruzada) : previsores - RandomForestClassifier(n_estimators=150, criterion='entropy', random_state = 0, max_depth=4)"
   ],
   "metadata": {
    "id": "N3dUl9DDpNnz"
   }
  },
  {
   "cell_type": "markdown",
   "source": [
    "# **XGBOOST**"
   ],
   "metadata": {
    "id": "jH3OocboSGXH"
   }
  },
  {
   "cell_type": "markdown",
   "source": [
    "https://xgboost.readthedocs.io/en/stable/"
   ],
   "metadata": {
    "id": "OpLLJlcnbcsR"
   }
  },
  {
   "cell_type": "code",
   "source": [
    "from xgboost import XGBClassifier"
   ],
   "metadata": {
    "id": "PKdcu1J2Qk0h"
   },
   "execution_count": null,
   "outputs": []
  },
  {
   "cell_type": "code",
   "source": [
    "xg = XGBClassifier(max_depth=2, learning_rate=0.05, n_estimators=250, objective='binary:logistic', random_state=3)\n",
    "xg.fit(x_treino,y_treino)"
   ],
   "metadata": {
    "id": "jyOMVARbQmLa"
   },
   "execution_count": null,
   "outputs": []
  },
  {
   "cell_type": "code",
   "source": [
    "previsoes_xg = xg.predict(x_teste)\n",
    "previsoes_xg"
   ],
   "metadata": {
    "id": "QrR1ZLZVQ5K4",
    "colab": {
     "base_uri": "https://localhost:8080/"
    },
    "executionInfo": {
     "status": "ok",
     "timestamp": 1685828799536,
     "user_tz": 180,
     "elapsed": 423,
     "user": {
      "displayName": "Luciano Galdino",
      "userId": "10237697037323960148"
     }
    },
    "outputId": "d2f031c1-2b36-4d0e-e8f0-b007aa75989c"
   },
   "execution_count": null,
   "outputs": []
  },
  {
   "cell_type": "code",
   "source": [
    "from sklearn.metrics import accuracy_score, confusion_matrix, classification_report"
   ],
   "metadata": {
    "id": "HSR36D1mRZpz"
   },
   "execution_count": null,
   "outputs": []
  },
  {
   "cell_type": "code",
   "source": [
    "print(\"Acurácia: %.2f%%\" % (accuracy_score(y_teste, previsoes_xg) * 100.0))"
   ],
   "metadata": {
    "id": "UxMj0PznRZp0",
    "colab": {
     "base_uri": "https://localhost:8080/"
    },
    "executionInfo": {
     "status": "ok",
     "timestamp": 1685828799536,
     "user_tz": 180,
     "elapsed": 7,
     "user": {
      "displayName": "Luciano Galdino",
      "userId": "10237697037323960148"
     }
    },
    "outputId": "29589b95-e081-42dc-ec2a-f2edd2835aa3"
   },
   "execution_count": null,
   "outputs": []
  },
  {
   "cell_type": "code",
   "source": [
    "confusion_matrix(y_teste, previsoes_xg)"
   ],
   "metadata": {
    "id": "5PcyMmFqRZp1",
    "colab": {
     "base_uri": "https://localhost:8080/"
    },
    "executionInfo": {
     "status": "ok",
     "timestamp": 1685828799536,
     "user_tz": 180,
     "elapsed": 6,
     "user": {
      "displayName": "Luciano Galdino",
      "userId": "10237697037323960148"
     }
    },
    "outputId": "52542755-f4f9-45e7-d093-ba5931c8f9dc"
   },
   "execution_count": null,
   "outputs": []
  },
  {
   "cell_type": "code",
   "source": [
    "print(classification_report(y_teste, previsoes_xg))"
   ],
   "metadata": {
    "id": "fBYjluOzRZp2",
    "colab": {
     "base_uri": "https://localhost:8080/"
    },
    "executionInfo": {
     "status": "ok",
     "timestamp": 1685828799537,
     "user_tz": 180,
     "elapsed": 7,
     "user": {
      "displayName": "Luciano Galdino",
      "userId": "10237697037323960148"
     }
    },
    "outputId": "890bfdba-5e19-4fbf-d1c3-870de18c3891"
   },
   "execution_count": null,
   "outputs": []
  },
  {
   "cell_type": "markdown",
   "source": [
    "**Análise dados de treino**"
   ],
   "metadata": {
    "id": "VLAUCC_t2dkX"
   }
  },
  {
   "cell_type": "code",
   "source": [
    "previsoes_treino = xg.predict(x_treino)\n",
    "previsoes_treino"
   ],
   "metadata": {
    "id": "K5oak1Jy2dkY",
    "colab": {
     "base_uri": "https://localhost:8080/"
    },
    "executionInfo": {
     "status": "ok",
     "timestamp": 1685828799537,
     "user_tz": 180,
     "elapsed": 6,
     "user": {
      "displayName": "Luciano Galdino",
      "userId": "10237697037323960148"
     }
    },
    "outputId": "447747c1-1669-443e-e3be-1cb76e84ad71"
   },
   "execution_count": null,
   "outputs": []
  },
  {
   "cell_type": "code",
   "source": [
    "accuracy_score(y_treino, previsoes_treino)"
   ],
   "metadata": {
    "id": "70k-raF62dkZ",
    "colab": {
     "base_uri": "https://localhost:8080/"
    },
    "executionInfo": {
     "status": "ok",
     "timestamp": 1685828799537,
     "user_tz": 180,
     "elapsed": 5,
     "user": {
      "displayName": "Luciano Galdino",
      "userId": "10237697037323960148"
     }
    },
    "outputId": "c16f734b-4b7e-418f-a1bc-e90cb87e81f5"
   },
   "execution_count": null,
   "outputs": []
  },
  {
   "cell_type": "code",
   "source": [
    "confusion_matrix(y_treino, previsoes_treino)"
   ],
   "metadata": {
    "id": "Hy7uFw9E2dkZ",
    "colab": {
     "base_uri": "https://localhost:8080/"
    },
    "executionInfo": {
     "status": "ok",
     "timestamp": 1685828799537,
     "user_tz": 180,
     "elapsed": 5,
     "user": {
      "displayName": "Luciano Galdino",
      "userId": "10237697037323960148"
     }
    },
    "outputId": "3cb4435f-8809-43c3-8af5-35ee4fc8623e"
   },
   "execution_count": null,
   "outputs": []
  },
  {
   "cell_type": "markdown",
   "source": [
    "### **Validação Cruzada**"
   ],
   "metadata": {
    "id": "gHvG_uWZLARo"
   }
  },
  {
   "cell_type": "code",
   "source": [
    "from sklearn.model_selection import KFold\n",
    "from sklearn.model_selection import cross_val_score"
   ],
   "metadata": {
    "id": "l3RZmFL_LARp"
   },
   "execution_count": null,
   "outputs": []
  },
  {
   "cell_type": "code",
   "source": [
    "# Separando os dados em folds\n",
    "kfold = KFold(n_splits = 30, shuffle=True, random_state = 5)"
   ],
   "metadata": {
    "id": "BKmF7defLARq"
   },
   "execution_count": null,
   "outputs": []
  },
  {
   "cell_type": "code",
   "source": [
    "# Criando o modelo\n",
    "modelo = XGBClassifier(max_depth=2, learning_rate=0.05, n_estimators=250, objective='binary:logistic', random_state=3)\n",
    "resultado = cross_val_score(modelo, previsores2, alvo, cv = kfold)\n",
    "\n",
    "# Usamos a média e o desvio padrão\n",
    "print(\"Acurácia Média: %.2f%%\" % (resultado.mean() * 100.0))"
   ],
   "metadata": {
    "id": "1h7FUmsWLARr",
    "colab": {
     "base_uri": "https://localhost:8080/"
    },
    "executionInfo": {
     "status": "ok",
     "timestamp": 1685830159736,
     "user_tz": 180,
     "elapsed": 3594,
     "user": {
      "displayName": "Luciano Galdino",
      "userId": "10237697037323960148"
     }
    },
    "outputId": "c7f21814-3114-4724-f8e5-f7f4766440ae"
   },
   "execution_count": null,
   "outputs": []
  },
  {
   "cell_type": "markdown",
   "source": [
    "Naive Bayes = 84,78% (treino e teste) - 234 acertos e 85,17% (validação cruzada) : previsores3_esc\n",
    "\n",
    "SVM = 86,23% - 238 acertos e 85,72% (validação cruzada) : previsores3-esc - SVC(kernel='rbf', random_state=1, C = 2)\n",
    "\n",
    "Regressão logística = 86,23% - 238 acertos e 85,83% (validação cruzada) : previsores3_esc - LogisticRegression(random_state=1, max_iter=600, penalty=\"l2\", tol=0.0001, C=1,solver=\"lbfgs\")\n",
    "\n",
    "KNN = 84,06% - 232 acertos e 85,84% (validação cruzada) : previsores3_esc ou previsores_esc - KNeighborsClassifier(n_neighbors=7, metric='minkowski', p = 1)\n",
    "\n",
    "Árvore de decisão = 83,7% (treino e teste) - 231 acertos e 83,32% (validação cruzada): previsores3_esc - DecisionTreeClassifier(criterion='entropy', random_state = 0, max_depth=3)\n",
    "\n",
    "Random Forest = 86,59% - 239 acertos e 85,92% (validação cruzada) : previsores - RandomForestClassifier(n_estimators=150, criterion='entropy', random_state = 0, max_depth=4)\n",
    "\n",
    "XGboost = 87,68% - 242 acertos e 87,13% (validação cruzada) : previsores - XGBClassifier(max_depth=2, learning_rate=0.05, n_estimators=250, objective='binary:logistic', random_state=3)"
   ],
   "metadata": {
    "id": "gkZCAe-OR3rW"
   }
  },
  {
   "cell_type": "markdown",
   "source": [
    "# **LIGHTGBM**"
   ],
   "metadata": {
    "id": "sPZLUYzCqTWL"
   }
  },
  {
   "cell_type": "markdown",
   "source": [
    "https://lightgbm.readthedocs.io/en/latest/pythonapi/lightgbm.train.html"
   ],
   "metadata": {
    "id": "LLop9X5OVOfc"
   }
  },
  {
   "cell_type": "code",
   "source": [
    "# Instalação do Algoritmo\n",
    "!pip install lightgbm"
   ],
   "metadata": {
    "id": "r2fYJevzt58X",
    "colab": {
     "base_uri": "https://localhost:8080/"
    },
    "executionInfo": {
     "status": "ok",
     "timestamp": 1662477561484,
     "user_tz": 180,
     "elapsed": 4064,
     "user": {
      "displayName": "Luciano Galdino",
      "userId": "10237697037323960148"
     }
    },
    "outputId": "fa65acd1-d56f-4c5e-9502-0394090b56a3"
   },
   "execution_count": null,
   "outputs": []
  },
  {
   "cell_type": "code",
   "source": [
    "import lightgbm as lgb"
   ],
   "metadata": {
    "id": "HyJzU46uq9mQ"
   },
   "execution_count": null,
   "outputs": []
  },
  {
   "cell_type": "code",
   "source": [
    "# Dataset para treino\n",
    "dataset = lgb.Dataset(x_treino,label=y_treino)"
   ],
   "metadata": {
    "id": "D7GfTX-TxWh2"
   },
   "execution_count": null,
   "outputs": []
  },
  {
   "cell_type": "markdown",
   "source": [
    "**Hiperparâmetros**\n",
    "\n",
    "**Controle de ajuste**\n",
    "\n",
    "num_leaves : define o número de folhas a serem formadas em uma árvore. Não tem uma relação direta entre num_leaves e max_depth e, portanto, os dois não devem estar vinculados um ao outro.\n",
    "\n",
    "max_depth : especifica a profundidade máxima ou nível até o qual a árvore pode crescer.\n",
    "\n",
    "**Controle de velocidade**\n",
    "\n",
    "learning_rate: taxa de aprendizagem, determina o impacto de cada árvore no resultado final.\n",
    "\n",
    "max_bin : O valor menor de max_bin reduz muito tempo de procesamento, pois agrupa os valores do recurso em caixas discretas, o que é computacionalmente mais barato.\n",
    "\n",
    "**Controle de precisão**\n",
    "\n",
    "num_leaves : valor alto produz árvores mais profundas com maior precisão, mas leva ao overfitting.\n",
    "\n",
    "max_bin : valores altos tem efeito semelhante ao causado pelo aumento do valor de num_leaves e também torna mais lento o procedimento de treinamento."
   ],
   "metadata": {
    "id": "9sYH7x7pjczh"
   }
  },
  {
   "cell_type": "code",
   "source": [
    "# Parâmetros\n",
    "parametros = {'num_leaves':250, # número de folhas\n",
    "              'objective':'binary', # classificação Binária\n",
    "              'max_depth':2,\n",
    "              'learning_rate':.05,\n",
    "              'max_bin':100}"
   ],
   "metadata": {
    "id": "eRYtywqRxnRM"
   },
   "execution_count": null,
   "outputs": []
  },
  {
   "cell_type": "code",
   "metadata": {
    "id": "s-75IteevPFt"
   },
   "source": [
    "lgbm=lgb.train(parametros,dataset,num_boost_round=200)"
   ],
   "execution_count": null,
   "outputs": []
  },
  {
   "cell_type": "code",
   "source": [
    "# Marcação do tempo de execução\n",
    "from datetime import datetime\n",
    "inicio=datetime.now()\n",
    "lgbm=lgb.train(parametros,dataset)\n",
    "fim=datetime.now()\n",
    "\n",
    "tempo = fim - inicio\n",
    "tempo"
   ],
   "metadata": {
    "id": "w2eVSPh7XeQe",
    "colab": {
     "base_uri": "https://localhost:8080/"
    },
    "executionInfo": {
     "status": "ok",
     "timestamp": 1662477811733,
     "user_tz": 180,
     "elapsed": 256,
     "user": {
      "displayName": "Luciano Galdino",
      "userId": "10237697037323960148"
     }
    },
    "outputId": "fbec8a9e-117f-4dd8-a52c-2b96d3faa34a"
   },
   "execution_count": null,
   "outputs": []
  },
  {
   "cell_type": "code",
   "metadata": {
    "id": "FbY1sQrzvPFv",
    "colab": {
     "base_uri": "https://localhost:8080/"
    },
    "executionInfo": {
     "status": "ok",
     "timestamp": 1662477814289,
     "user_tz": 180,
     "elapsed": 257,
     "user": {
      "displayName": "Luciano Galdino",
      "userId": "10237697037323960148"
     }
    },
    "outputId": "e28c998b-6f00-49a1-b6fd-57310686c714"
   },
   "source": [
    "previsoes_lgbm = lgbm.predict(x_teste)\n",
    "previsoes_lgbm"
   ],
   "execution_count": null,
   "outputs": []
  },
  {
   "cell_type": "code",
   "source": [
    "previsoes_lgbm.shape"
   ],
   "metadata": {
    "id": "eQ-eOobHzgdY",
    "colab": {
     "base_uri": "https://localhost:8080/"
    },
    "executionInfo": {
     "status": "ok",
     "timestamp": 1662477817927,
     "user_tz": 180,
     "elapsed": 259,
     "user": {
      "displayName": "Luciano Galdino",
      "userId": "10237697037323960148"
     }
    },
    "outputId": "a47a2781-9979-47b2-ca6f-228d907cb1ba"
   },
   "execution_count": null,
   "outputs": []
  },
  {
   "cell_type": "code",
   "source": [
    "# Quando for menor que 5 considera 0 e quando for maior ou igual a 5 considera 1\n",
    "for i in range(0, 276):\n",
    "    if previsoes_lgbm[i] >= .5:\n",
    "       previsoes_lgbm[i] = 1\n",
    "    else:\n",
    "       previsoes_lgbm[i] = 0"
   ],
   "metadata": {
    "id": "bCK5052RyreS"
   },
   "execution_count": null,
   "outputs": []
  },
  {
   "cell_type": "code",
   "source": [
    "previsoes_lgbm"
   ],
   "metadata": {
    "id": "X3kyhhXJzmtG",
    "colab": {
     "base_uri": "https://localhost:8080/"
    },
    "executionInfo": {
     "status": "ok",
     "timestamp": 1662477822908,
     "user_tz": 180,
     "elapsed": 351,
     "user": {
      "displayName": "Luciano Galdino",
      "userId": "10237697037323960148"
     }
    },
    "outputId": "ddc6ac3d-8b08-41e4-9eab-ca9ebdc2bc93"
   },
   "execution_count": null,
   "outputs": []
  },
  {
   "cell_type": "code",
   "source": [
    "y_teste"
   ],
   "metadata": {
    "id": "wvItoNPgvPFw",
    "colab": {
     "base_uri": "https://localhost:8080/"
    },
    "executionInfo": {
     "status": "ok",
     "timestamp": 1662477825619,
     "user_tz": 180,
     "elapsed": 246,
     "user": {
      "displayName": "Luciano Galdino",
      "userId": "10237697037323960148"
     }
    },
    "outputId": "cb607575-1c1d-45c4-b0da-55b064d7f9fc"
   },
   "execution_count": null,
   "outputs": []
  },
  {
   "cell_type": "code",
   "source": [
    "from sklearn.metrics import accuracy_score, confusion_matrix, classification_report"
   ],
   "metadata": {
    "id": "7zmmlXg00NgO"
   },
   "execution_count": null,
   "outputs": []
  },
  {
   "cell_type": "code",
   "source": [
    "print(\"Acurácia: %.2f%%\" % (accuracy_score(y_teste, previsoes_lgbm) * 100.0))"
   ],
   "metadata": {
    "id": "7jtEMCEd0NgP",
    "colab": {
     "base_uri": "https://localhost:8080/"
    },
    "executionInfo": {
     "status": "ok",
     "timestamp": 1662477828140,
     "user_tz": 180,
     "elapsed": 3,
     "user": {
      "displayName": "Luciano Galdino",
      "userId": "10237697037323960148"
     }
    },
    "outputId": "cae83075-c073-43c9-aa66-4b0879352168"
   },
   "execution_count": null,
   "outputs": []
  },
  {
   "cell_type": "code",
   "source": [
    "confusion_matrix(y_teste, previsoes_lgbm)"
   ],
   "metadata": {
    "id": "Vi92nyDd0NgQ",
    "colab": {
     "base_uri": "https://localhost:8080/"
    },
    "executionInfo": {
     "status": "ok",
     "timestamp": 1662477830165,
     "user_tz": 180,
     "elapsed": 261,
     "user": {
      "displayName": "Luciano Galdino",
      "userId": "10237697037323960148"
     }
    },
    "outputId": "6fef1a2f-ff41-4ded-b096-9ad29cc70b5f"
   },
   "execution_count": null,
   "outputs": []
  },
  {
   "cell_type": "markdown",
   "source": [
    "**Análise dados de treino**"
   ],
   "metadata": {
    "id": "u3pNMaVs0NgR"
   }
  },
  {
   "cell_type": "code",
   "source": [
    "previsoes_treino = lgbm.predict(x_treino)\n",
    "previsoes_treino"
   ],
   "metadata": {
    "id": "fS-C8nIw0NgR"
   },
   "execution_count": null,
   "outputs": []
  },
  {
   "cell_type": "code",
   "source": [
    "previsoes_treino.shape"
   ],
   "metadata": {
    "id": "5ZTvZKs51umQ"
   },
   "execution_count": null,
   "outputs": []
  },
  {
   "cell_type": "code",
   "source": [
    "# Quando for menor que 5 considera 0 e quando for maior ou igual a 5 considera 1\n",
    "for i in range(0, 641):\n",
    "    if previsoes_treino[i] >= .5:\n",
    "       previsoes_treino[i] = 1\n",
    "    else:\n",
    "       previsoes_treino[i] = 0"
   ],
   "metadata": {
    "id": "y_Xb-SEN1bNL"
   },
   "execution_count": null,
   "outputs": []
  },
  {
   "cell_type": "code",
   "source": [
    "previsoes_treino"
   ],
   "metadata": {
    "id": "ENkdM8Jd1oCJ"
   },
   "execution_count": null,
   "outputs": []
  },
  {
   "cell_type": "code",
   "source": [
    "accuracy_score(y_treino, previsoes_treino)"
   ],
   "metadata": {
    "id": "NKAIaTGF0NgS"
   },
   "execution_count": null,
   "outputs": []
  },
  {
   "cell_type": "code",
   "source": [
    "confusion_matrix(y_treino, previsoes_treino)"
   ],
   "metadata": {
    "id": "dDOEsI4W0NgT"
   },
   "execution_count": null,
   "outputs": []
  },
  {
   "cell_type": "markdown",
   "source": [
    "### **Validação Cruzada**"
   ],
   "metadata": {
    "id": "3hEGp61Q0NgT"
   }
  },
  {
   "cell_type": "code",
   "source": [
    "from sklearn.model_selection import KFold\n",
    "from sklearn.model_selection import cross_val_score"
   ],
   "metadata": {
    "id": "RwR3Salk0NgT"
   },
   "execution_count": null,
   "outputs": []
  },
  {
   "cell_type": "code",
   "source": [
    "# Separando os dados em folds\n",
    "kfold = KFold(n_splits = 30, shuffle=True, random_state = 5)"
   ],
   "metadata": {
    "id": "8Xnl-F4XSNTJ"
   },
   "execution_count": null,
   "outputs": []
  },
  {
   "cell_type": "code",
   "source": [
    "# Criando o modelo\n",
    "modelo = lgb.LGBMClassifier(num_leaves = 250, objective = 'binary',\n",
    "                            max_depth = 2, learning_rate = .05, max_bin =100)\n",
    "resultado = cross_val_score(modelo, previsores, alvo, cv = kfold)\n",
    "\n",
    "# Usamos a média e o desvio padrão\n",
    "print(\"Acurácia Média: %.2f%%\" % (resultado.mean() * 100.0))"
   ],
   "metadata": {
    "id": "Qq7iUdMxSNTL"
   },
   "execution_count": null,
   "outputs": []
  },
  {
   "cell_type": "markdown",
   "source": [
    "Naive Bayes = 84,78% (treino e teste) - 234 acertos e 85,17% (validação cruzada) : previsores3_esc\n",
    "\n",
    "SVM = 86,23% - 238 acertos e 85,72% (validação cruzada) : previsores3-esc - SVC(kernel='rbf', random_state=1, C = 2)\n",
    "\n",
    "Regressão logística = 86,23% - 238 acertos e 85,83% (validação cruzada) : previsores3_esc - LogisticRegression(random_state=1, max_iter=600, penalty=\"l2\", tol=0.0001, C=1,solver=\"lbfgs\")\n",
    "\n",
    "KNN = 84,06% - 232 acertos e 85,84% (validação cruzada) : previsores3_esc ou previsores_esc - KNeighborsClassifier(n_neighbors=7, metric='minkowski', p = 1)\n",
    "\n",
    "Árvore de decisão = 83,7% (treino e teste) - 231 acertos e 83,32% (validação cruzada): previsores3_esc - DecisionTreeClassifier(criterion='entropy', random_state = 0, max_depth=3)\n",
    "\n",
    "Random Forest = 86,59% - 239 acertos e 85,92% (validação cruzada) : previsores - RandomForestClassifier(n_estimators=150, criterion='entropy', random_state = 0, max_depth=4)\n",
    "\n",
    "XGboost = 87,68% - 242 acertos e 87,13% (validação cruzada) : previsores - XGBClassifier(max_depth=2, learning_rate=0.05, n_estimators=250, objective='binary:logistic', random_state=3)\n",
    "\n",
    "LightGBM = 86,23% (treino e teste)- 238 acertos e 85,93% (validação cruzada) : previsores - lgb.LGBMClassifier(num_leaves = 250, objective = 'binary',  max_depth = 2, learning_rate = .05, max_bin =100)"
   ],
   "metadata": {
    "id": "W6ADUoMW0NgV"
   }
  },
  {
   "cell_type": "markdown",
   "source": [
    "# **CATBOOST**"
   ],
   "metadata": {
    "id": "yKpYGEuWUChU"
   }
  },
  {
   "cell_type": "markdown",
   "source": [
    "https://catboost.ai/en/docs/"
   ],
   "metadata": {
    "id": "LMqQ_NMTUChV"
   }
  },
  {
   "cell_type": "code",
   "source": [
    "#Instalação\n",
    "!pip install catboost"
   ],
   "metadata": {
    "id": "Vkt7hfJVUChV"
   },
   "execution_count": null,
   "outputs": []
  },
  {
   "cell_type": "code",
   "source": [
    "from catboost import CatBoostClassifier"
   ],
   "metadata": {
    "id": "kisDuh-RUChW"
   },
   "execution_count": null,
   "outputs": []
  },
  {
   "cell_type": "code",
   "source": [
    "df"
   ],
   "metadata": {
    "id": "fochAJydUChX"
   },
   "execution_count": null,
   "outputs": []
  },
  {
   "cell_type": "code",
   "source": [
    "previsores4 = df.iloc[:, 0:11]"
   ],
   "metadata": {
    "id": "mFw4wb_2CZWv"
   },
   "execution_count": null,
   "outputs": []
  },
  {
   "cell_type": "code",
   "source": [
    "previsores4.head()"
   ],
   "metadata": {
    "id": "6EGMtQa9Dwf7"
   },
   "execution_count": null,
   "outputs": []
  },
  {
   "cell_type": "code",
   "source": [
    "alvo4 = df.iloc[:, 11]"
   ],
   "metadata": {
    "id": "G0qli4gSEBbM"
   },
   "execution_count": null,
   "outputs": []
  },
  {
   "cell_type": "code",
   "source": [
    "from sklearn.model_selection import train_test_split"
   ],
   "metadata": {
    "id": "hAcS1ULCC78V"
   },
   "execution_count": null,
   "outputs": []
  },
  {
   "cell_type": "code",
   "source": [
    "x_treino, x_teste, y_treino, y_teste = train_test_split(previsores4, alvo4, test_size = 0.3, random_state = 0)"
   ],
   "metadata": {
    "id": "OP69_qpGC78W"
   },
   "execution_count": null,
   "outputs": []
  },
  {
   "cell_type": "code",
   "source": [
    "categoricas = ['Sex','ChestPainType', 'RestingECG', 'ExerciseAngina', 'ST_Slope']"
   ],
   "metadata": {
    "id": "B9Gb_1r2UChX"
   },
   "execution_count": null,
   "outputs": []
  },
  {
   "cell_type": "code",
   "source": [
    "catboost = CatBoostClassifier(task_type='CPU', iterations=100, learning_rate=0.1, depth = 8, random_state = 5,\n",
    "                              eval_metric=\"Accuracy\")"
   ],
   "metadata": {
    "id": "kM7Xaph4UChY"
   },
   "execution_count": null,
   "outputs": []
  },
  {
   "cell_type": "code",
   "source": [
    "catboost.fit( x_treino, y_treino, cat_features= categoricas, plot=True, eval_set=(x_teste, y_teste))"
   ],
   "metadata": {
    "id": "frZ9Fw1EUChY"
   },
   "execution_count": null,
   "outputs": []
  },
  {
   "cell_type": "code",
   "source": [
    "previsoes_cat = catboost.predict(x_teste)\n",
    "previsoes_cat"
   ],
   "metadata": {
    "id": "MIJVraLTUChZ"
   },
   "execution_count": null,
   "outputs": []
  },
  {
   "cell_type": "code",
   "source": [
    "y_teste"
   ],
   "metadata": {
    "id": "dSrjeuL_UCha"
   },
   "execution_count": null,
   "outputs": []
  },
  {
   "cell_type": "code",
   "source": [
    "from sklearn.metrics import accuracy_score, confusion_matrix, classification_report"
   ],
   "metadata": {
    "id": "r6FeKp07UCha"
   },
   "execution_count": null,
   "outputs": []
  },
  {
   "cell_type": "code",
   "source": [
    "print(\"Acurácia: %.2f%%\" % (accuracy_score(y_teste, previsoes_cat) * 100.0))"
   ],
   "metadata": {
    "id": "rknZXiSyUChb"
   },
   "execution_count": null,
   "outputs": []
  },
  {
   "cell_type": "code",
   "source": [
    "confusion_matrix(y_teste, previsoes_cat)"
   ],
   "metadata": {
    "id": "coB92zR9UChb"
   },
   "execution_count": null,
   "outputs": []
  },
  {
   "cell_type": "markdown",
   "source": [
    "**Análise dados de treino**"
   ],
   "metadata": {
    "id": "IA02yBduUChc"
   }
  },
  {
   "cell_type": "code",
   "source": [
    "previsoes_treino = catboost.predict(x_treino)\n",
    "previsoes_treino"
   ],
   "metadata": {
    "id": "pu0f-5frUChc"
   },
   "execution_count": null,
   "outputs": []
  },
  {
   "cell_type": "code",
   "source": [
    "accuracy_score(y_treino, previsoes_treino)"
   ],
   "metadata": {
    "id": "agSmZWOEUChc"
   },
   "execution_count": null,
   "outputs": []
  },
  {
   "cell_type": "code",
   "source": [
    "confusion_matrix(y_treino, previsoes_treino)"
   ],
   "metadata": {
    "id": "Oh06bx0IUChd"
   },
   "execution_count": null,
   "outputs": []
  },
  {
   "cell_type": "markdown",
   "source": [
    "### **Validação Cruzada**"
   ],
   "metadata": {
    "id": "2LgdzmpMUChd"
   }
  },
  {
   "cell_type": "code",
   "source": [
    "from sklearn.model_selection import KFold\n",
    "from sklearn.model_selection import cross_val_score"
   ],
   "metadata": {
    "id": "N80OsHhNUChd"
   },
   "execution_count": null,
   "outputs": []
  },
  {
   "cell_type": "code",
   "source": [
    "# Separando os dados em folds\n",
    "kfold = KFold(n_splits = 30, shuffle=True, random_state = 5)"
   ],
   "metadata": {
    "id": "vkhW9kFUUChd"
   },
   "execution_count": null,
   "outputs": []
  },
  {
   "cell_type": "code",
   "source": [
    "# Criando o modelo\n",
    "modelo = CatBoostClassifier(task_type='CPU', iterations=100, learning_rate=0.1, depth = 8, random_state = 5,\n",
    "                              eval_metric=\"Accuracy\")\n",
    "resultado = cross_val_score(modelo, previsores, alvo, cv = kfold)\n",
    "\n",
    "# Usamos a média e o desvio padrão\n",
    "print(\"Acurácia Média: %.2f%%\" % (resultado.mean() * 100.0))"
   ],
   "metadata": {
    "id": "lwgfw-cVUChd"
   },
   "execution_count": null,
   "outputs": []
  },
  {
   "cell_type": "markdown",
   "source": [
    "Naive Bayes = 84,78% (treino e teste) - 234 acertos e 85,17% (validação cruzada) : previsores3_esc\n",
    "\n",
    "SVM = 86,23% - 238 acertos e 85,72% (validação cruzada) : previsores3-esc - SVC(kernel='rbf', random_state=1, C = 2)\n",
    "\n",
    "Regressão logística = 86,23% - 238 acertos e 85,83% (validação cruzada) : previsores3_esc - LogisticRegression(random_state=1, max_iter=600, penalty=\"l2\", tol=0.0001, C=1,solver=\"lbfgs\")\n",
    "\n",
    "KNN = 84,06% - 232 acertos e 85,84% (validação cruzada) : previsores3_esc ou previsores_esc - KNeighborsClassifier(n_neighbors=7, metric='minkowski', p = 1)\n",
    "\n",
    "Árvore de decisão = 83,7% (treino e teste) - 231 acertos e 83,32% (validação cruzada): previsores3_esc - DecisionTreeClassifier(criterion='entropy', random_state = 0, max_depth=3)\n",
    "\n",
    "Random Forest = 86,59% - 239 acertos e 85,92% (validação cruzada) : previsores - RandomForestClassifier(n_estimators=150, criterion='entropy', random_state = 0, max_depth=4)\n",
    "\n",
    "**XGboost = 87,68% - 242 acertos e 87,13% (validação cruzada) : previsores - XGBClassifier(max_depth=2, learning_rate=0.05, n_estimators=250, objective='binary:logistic', random_state=3)**\n",
    "\n",
    "LightGBM = 86,23% (treino e teste)- 238 acertos e 85,93% (validação cruzada) : previsores - lgb.LGBMClassifier(num_leaves = 250, objective = 'binary',  max_depth = 2, learning_rate = .05, max_bin =100)\n",
    "\n",
    "CatBoost = 86,96% (treino e teste) previsores4 - 240 acertos e 88% (validação cruzada com previsores) - CatBoostClassifier(task_type='CPU', iterations=100, learning_rate=0.1, depth = 8, random_state = 5, eval_metric=\"Accuracy\")"
   ],
   "metadata": {
    "id": "gco4qH1qUChe"
   }
  },
  {
   "cell_type": "markdown",
   "source": [
    "# **Salvando dados para Deploy**"
   ],
   "metadata": {
    "id": "-SI78UagmLD7"
   }
  },
  {
   "cell_type": "code",
   "metadata": {
    "id": "LNMNKr4TmLD8",
    "colab": {
     "base_uri": "https://localhost:8080/"
    },
    "executionInfo": {
     "status": "ok",
     "timestamp": 1665100404870,
     "user_tz": 180,
     "elapsed": 216,
     "user": {
      "displayName": "Luciano Galdino",
      "userId": "10237697037323960148"
     }
    },
    "outputId": "368c8f12-37c6-4ba4-e997-b3a82799470d"
   },
   "source": [
    "previsores"
   ],
   "execution_count": null,
   "outputs": []
  },
  {
   "cell_type": "code",
   "source": [
    "alvo"
   ],
   "metadata": {
    "id": "isSCWsMPDdw6",
    "colab": {
     "base_uri": "https://localhost:8080/"
    },
    "executionInfo": {
     "status": "ok",
     "timestamp": 1665100406554,
     "user_tz": 180,
     "elapsed": 223,
     "user": {
      "displayName": "Luciano Galdino",
      "userId": "10237697037323960148"
     }
    },
    "outputId": "b9ac256b-4261-44f0-f745-c1639629c375"
   },
   "execution_count": null,
   "outputs": []
  },
  {
   "cell_type": "code",
   "source": [
    "np.savetxt('previsores.csv', previsores, delimiter=',')"
   ],
   "metadata": {
    "id": "XUYRtI5VDBXF"
   },
   "execution_count": null,
   "outputs": []
  },
  {
   "cell_type": "code",
   "source": [
    "np.savetxt('alvo.csv', alvo, delimiter=',')"
   ],
   "metadata": {
    "id": "dd7lbPU3DQFO"
   },
   "execution_count": null,
   "outputs": []
  },
  {
   "cell_type": "markdown",
   "source": [
    "# **NOÇÕES DE OTIMIZAÇÃO DE HIPERPARÂMETROS**"
   ],
   "metadata": {
    "id": "gX89_HefchXj"
   }
  },
  {
   "cell_type": "markdown",
   "metadata": {
    "id": "omABK560CVdx"
   },
   "source": [
    "## **Grid Search (classificador Gradient Boosting)**"
   ]
  },
  {
   "cell_type": "code",
   "source": [
    "from sklearn.metrics import roc_auc_score\n",
    "from sklearn.model_selection import GridSearchCV\n",
    "from sklearn.ensemble import GradientBoostingClassifier"
   ],
   "metadata": {
    "id": "v5D6FyycAJf6",
    "executionInfo": {
     "status": "ok",
     "timestamp": 1689263870988,
     "user_tz": 180,
     "elapsed": 427,
     "user": {
      "displayName": "Luciano Galdino",
      "userId": "10237697037323960148"
     }
    }
   },
   "execution_count": 77,
   "outputs": []
  },
  {
   "cell_type": "code",
   "source": [
    "# Criando o algoritmo\n",
    "gbm = GradientBoostingClassifier(random_state=0)"
   ],
   "metadata": {
    "id": "_W-Qrc5AmXUD",
    "executionInfo": {
     "status": "ok",
     "timestamp": 1689263891906,
     "user_tz": 180,
     "elapsed": 389,
     "user": {
      "displayName": "Luciano Galdino",
      "userId": "10237697037323960148"
     }
    }
   },
   "execution_count": 78,
   "outputs": []
  },
  {
   "cell_type": "code",
   "execution_count": 79,
   "metadata": {
    "id": "ZLXrw1MlCVdy",
    "executionInfo": {
     "status": "ok",
     "timestamp": 1689264041666,
     "user_tz": 180,
     "elapsed": 396,
     "user": {
      "displayName": "Luciano Galdino",
      "userId": "10237697037323960148"
     }
    }
   },
   "source": [
    "# Determinando o espaço do hiperparâmetro\n",
    "param_grid = dict(\n",
    "    n_estimators=[20, 50, 100, 250],\n",
    "    learning_rate=[0.05, 0.1, 0.5],\n",
    "    max_depth=[1,2,3,4,5],\n",
    "    )"
   ],
   "outputs": []
  },
  {
   "cell_type": "code",
   "source": [
    "print('Número de combinações de Hiperparâmetros: ',\n",
    "      len(param_grid['n_estimators']) * len(param_grid['learning_rate']) * len(param_grid['max_depth']))"
   ],
   "metadata": {
    "colab": {
     "base_uri": "https://localhost:8080/"
    },
    "id": "n180TbSi637w",
    "executionInfo": {
     "status": "ok",
     "timestamp": 1689264082406,
     "user_tz": 180,
     "elapsed": 383,
     "user": {
      "displayName": "Luciano Galdino",
      "userId": "10237697037323960148"
     }
    },
    "outputId": "7705a697-f560-4d4e-8c85-03b224460518"
   },
   "execution_count": 80,
   "outputs": []
  },
  {
   "cell_type": "code",
   "execution_count": 81,
   "metadata": {
    "id": "RzWsjsfuCVdz",
    "executionInfo": {
     "status": "ok",
     "timestamp": 1689264298495,
     "user_tz": 180,
     "elapsed": 406,
     "user": {
      "displayName": "Luciano Galdino",
      "userId": "10237697037323960148"
     }
    }
   },
   "source": [
    "# Configurando a procura com o Grid search\n",
    "grid_search = GridSearchCV(gbm, param_grid, scoring='roc_auc', cv=4)"
   ],
   "outputs": []
  },
  {
   "cell_type": "code",
   "source": [
    "# Configurando os melhores hiperparâmetros\n",
    "grid_search.fit(x_treino, y_treino)"
   ],
   "metadata": {
    "id": "uws9ORGbm5T4",
    "colab": {
     "base_uri": "https://localhost:8080/",
     "height": 117
    },
    "executionInfo": {
     "status": "ok",
     "timestamp": 1689264361379,
     "user_tz": 180,
     "elapsed": 41267,
     "user": {
      "displayName": "Luciano Galdino",
      "userId": "10237697037323960148"
     }
    },
    "outputId": "3c55b686-d4db-4215-f295-910dd05c5b5c"
   },
   "execution_count": 82,
   "outputs": []
  },
  {
   "cell_type": "code",
   "execution_count": 83,
   "metadata": {
    "id": "hHTFIt2ZCVd0",
    "colab": {
     "base_uri": "https://localhost:8080/"
    },
    "executionInfo": {
     "status": "ok",
     "timestamp": 1689264397879,
     "user_tz": 180,
     "elapsed": 380,
     "user": {
      "displayName": "Luciano Galdino",
      "userId": "10237697037323960148"
     }
    },
    "outputId": "b6e7106a-13b0-47c9-838d-cd4f70178153"
   },
   "source": [
    "# Melhores Hiperparâmetros\n",
    "grid_search.best_params_"
   ],
   "outputs": []
  },
  {
   "cell_type": "code",
   "execution_count": 84,
   "metadata": {
    "id": "jVVWHEkYCVd1",
    "colab": {
     "base_uri": "https://localhost:8080/",
     "height": 381
    },
    "executionInfo": {
     "status": "ok",
     "timestamp": 1689264496466,
     "user_tz": 180,
     "elapsed": 639,
     "user": {
      "displayName": "Luciano Galdino",
      "userId": "10237697037323960148"
     }
    },
    "outputId": "101fb4a4-ae8d-4fce-efb0-e7a4d66d1208"
   },
   "source": [
    "# Relação dos dados para todos os modelos\n",
    "\n",
    "resultado = pd.DataFrame(grid_search.cv_results_)\n",
    "print(resultado.shape)\n",
    "resultado.head(3)"
   ],
   "outputs": []
  },
  {
   "cell_type": "code",
   "execution_count": 85,
   "metadata": {
    "id": "KM2wq4wOCVd2",
    "colab": {
     "base_uri": "https://localhost:8080/",
     "height": 206
    },
    "executionInfo": {
     "status": "ok",
     "timestamp": 1689264800823,
     "user_tz": 180,
     "elapsed": 399,
     "user": {
      "displayName": "Luciano Galdino",
      "userId": "10237697037323960148"
     }
    },
    "outputId": "eb3f014d-2eaa-4854-bb93-a94fff578692"
   },
   "source": [
    "# Ordenando os melhores resultados\n",
    "resultado.sort_values(by='mean_test_score', ascending=False, inplace=True)\n",
    "\n",
    "resultado.reset_index(drop=True, inplace=True)\n",
    "\n",
    "resultado[['param_max_depth', 'param_learning_rate', 'param_n_estimators',\n",
    "    'mean_test_score', 'std_test_score']].head()"
   ],
   "outputs": []
  },
  {
   "cell_type": "markdown",
   "source": [
    "# **DESAFIO 1**"
   ],
   "metadata": {
    "id": "Q6LoOxMow4Ci"
   }
  },
  {
   "cell_type": "markdown",
   "source": [
    "DESENVOLVER E SELECIONAR O MELHOR ALGORITMO DE MACHINE LEARNING DE CLASSIFICAÇÃO PARA O DATASET DO LINK A SEGUIR:"
   ],
   "metadata": {
    "id": "bjLFumRQxayX"
   }
  },
  {
   "cell_type": "markdown",
   "source": [
    "https://www.kaggle.com/uciml/breast-cancer-wisconsin-data"
   ],
   "metadata": {
    "id": "VG8xV9wYxKk2"
   }
  }
 ]
}
