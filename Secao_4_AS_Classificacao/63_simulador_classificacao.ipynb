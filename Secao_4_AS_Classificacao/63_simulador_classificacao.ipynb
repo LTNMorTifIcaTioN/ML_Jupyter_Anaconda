{
 "nbformat": 4,
 "nbformat_minor": 0,
 "metadata": {
  "colab": {
   "name": "simulador_classificacao.ipynb",
   "provenance": []
  },
  "kernelspec": {
   "name": "python3",
   "display_name": "Python 3 (ipykernel)",
   "language": "python"
  },
  "language_info": {
   "name": "python"
  }
 },
 "cells": [
  {
   "cell_type": "markdown",
   "metadata": {
    "id": "fQJ5CYV9Te0X"
   },
   "source": [
    "# **COMO ESTÁ MEU CORAÇÃO?**"
   ]
  },
  {
   "cell_type": "markdown",
   "metadata": {
    "id": "kXFCCsVHTtTP"
   },
   "source": [
    "Este algoritmo realiza a previsão de uma pessoa ter a tendência de desenvolver algum tipo de doença cardíaca com base em alguns fatores clínicos e laboratoriais. "
   ]
  },
  {
   "cell_type": "markdown",
   "source": [
    "**Abertura dos atributos previsores e alvo**"
   ],
   "metadata": {
    "id": "zF4ZZ2IaMarJ"
   }
  },
  {
   "cell_type": "code",
   "source": [
    "import pandas as pd\n",
    "import numpy as np"
   ],
   "metadata": {
    "id": "WB8AihEHE-SO",
    "ExecuteTime": {
     "end_time": "2024-04-09T03:50:28.672640Z",
     "start_time": "2024-04-09T03:50:28.661645Z"
    }
   },
   "execution_count": 112,
   "outputs": []
  },
  {
   "cell_type": "code",
   "source": "previsores = pd.read_csv('G:/.shortcut-targets-by-id/1-0eJugp2mhHVgylXYxSrV79OPbp72CNB/Cloud Drive/Documentos/Arquivos PDF, PPT, DOC/CURSOS/Machine Learning com Python/ML_Jupyter_Anaconda/Secao_4_Aprendizado_Supervisionado/Datasets/previsores.csv',header=None)",
   "metadata": {
    "id": "OgOCU0-ZE5JW",
    "ExecuteTime": {
     "end_time": "2024-04-09T03:56:02.669325Z",
     "start_time": "2024-04-09T03:56:02.588352Z"
    }
   },
   "execution_count": 124,
   "outputs": []
  },
  {
   "cell_type": "code",
   "source": [
    "previsores"
   ],
   "metadata": {
    "id": "OT_O9kmLiC3r",
    "colab": {
     "base_uri": "https://localhost:8080/"
    },
    "outputId": "0953e4ec-9fda-4e5b-d1d5-90d29c6c0890",
    "ExecuteTime": {
     "end_time": "2024-04-09T03:56:04.393732Z",
     "start_time": "2024-04-09T03:56:04.346016Z"
    }
   },
   "execution_count": 125,
   "outputs": []
  },
  {
   "cell_type": "code",
   "source": [
    "previsores = previsores.values"
   ],
   "metadata": {
    "id": "98RdIzv6GAdC",
    "ExecuteTime": {
     "end_time": "2024-04-09T03:56:53.151259Z",
     "start_time": "2024-04-09T03:56:53.132272Z"
    }
   },
   "execution_count": 126,
   "outputs": []
  },
  {
   "cell_type": "code",
   "source": "alvo = pd.read_csv('G:/.shortcut-targets-by-id/1-0eJugp2mhHVgylXYxSrV79OPbp72CNB/Cloud Drive/Documentos/Arquivos PDF, PPT, DOC/CURSOS/Machine Learning com Python/ML_Jupyter_Anaconda/Secao_4_Aprendizado_Supervisionado/Datasets/alvo.csv',header=None)",
   "metadata": {
    "id": "tu5Mpu8gG3Bw",
    "ExecuteTime": {
     "end_time": "2024-04-09T03:56:59.160269Z",
     "start_time": "2024-04-09T03:56:59.137278Z"
    }
   },
   "execution_count": 127,
   "outputs": []
  },
  {
   "cell_type": "code",
   "source": [
    "alvo"
   ],
   "metadata": {
    "id": "U2HIYfy4G63G",
    "ExecuteTime": {
     "end_time": "2024-04-09T03:57:03.188608Z",
     "start_time": "2024-04-09T03:57:03.168548Z"
    }
   },
   "execution_count": 128,
   "outputs": []
  },
  {
   "cell_type": "code",
   "source": [
    "alvo = alvo.iloc[:, 0].values"
   ],
   "metadata": {
    "id": "RT7WpC3XG9Dt",
    "ExecuteTime": {
     "end_time": "2024-04-09T03:57:07.817886Z",
     "start_time": "2024-04-09T03:57:07.808317Z"
    }
   },
   "execution_count": 129,
   "outputs": []
  },
  {
   "cell_type": "markdown",
   "source": [
    "**Carregando o Classificador XGBoost**"
   ],
   "metadata": {
    "id": "jH3OocboSGXH"
   }
  },
  {
   "cell_type": "code",
   "source": [
    "from xgboost import XGBClassifier\n",
    "xg = XGBClassifier(max_depth=2, learning_rate=0.05, n_estimators=250, objective='binary:logistic', random_state=3)\n",
    "xg.fit(previsores,alvo)"
   ],
   "metadata": {
    "id": "jyOMVARbQmLa",
    "colab": {
     "base_uri": "https://localhost:8080/"
    },
    "outputId": "c61a3cc5-d58b-44f3-aec7-b4c7911ce860",
    "ExecuteTime": {
     "end_time": "2024-04-09T03:57:15.639456Z",
     "start_time": "2024-04-09T03:57:15.501404Z"
    }
   },
   "execution_count": 130,
   "outputs": []
  },
  {
   "cell_type": "markdown",
   "source": [
    "**Simulação de Novos Pacientes**"
   ],
   "metadata": {
    "id": "NGzVZVzkMzqv"
   }
  },
  {
   "cell_type": "markdown",
   "source": [
    "**LEGENDA**"
   ],
   "metadata": {
    "id": "AA8ZlBGOR5CI"
   }
  },
  {
   "cell_type": "markdown",
   "source": [
    "Age = idade (anos)\n",
    "\n",
    "Sex = sexo (0=M; 1=F)\n",
    "\n",
    "Chest Pain Type = tipo de dor no peito (0=TA:angina típica; 1=ATA:angina atípica; 2=NAP:dor não anginosa; 3=ASY:assintomático)\n",
    "\n",
    "Resting BP = pressão sanguínea em repouso (mmHg)\n",
    "\n",
    "Cholesterol = colesterol sérico (mg/dl)\n",
    "\n",
    "Fasting BS = açúcar no sangue em jejum (mg/dl)\n",
    "          0: Fasting BS < 120 mg/dl (não diabético)\n",
    "          1: Fasting BS >= 120 mg/dl, (diabético)\n",
    "\n",
    "Resting ECG = eletrocardiograma em repouso (0=Normal; 1=ST:Anormalidade da onda ST-T; 2=LVH: Hipertrofia ventricular esquerda)\n",
    "\n",
    "Max HR = frequência cardíaca máxima\n",
    "\n",
    "Exercise Angina = Angina induzida por exercício (0=Não; 1=Sim)\n",
    "\n",
    "Old Peak = Depressão de ST induzida por exercício em relação ao repouso\n",
    "\n",
    "ST_Slope = Inclinação do segmento ST (0=UP; 1=Flat; 2=Down)\n",
    "\n",
    "Heart Disease = Doença cardíaca (0=Não possui doença cardíaca; 1=Possui doença cardíaca)\n",
    "\n"
   ],
   "metadata": {
    "id": "U-7-8IJ_R5CK"
   }
  },
  {
   "cell_type": "code",
   "source": [
    "paciente1 = [40, 0, 1, 140, 289, 0, 0, 172, 0, 0, 0]"
   ],
   "metadata": {
    "id": "FADe0cwCTRPq",
    "ExecuteTime": {
     "end_time": "2024-04-09T03:57:23.172945Z",
     "start_time": "2024-04-09T03:57:23.155957Z"
    }
   },
   "execution_count": 131,
   "outputs": []
  },
  {
   "cell_type": "code",
   "source": "paciente2 = {0:48, 1:1, 2:3, 3:138, 4:214, 5:0, 6:0, 7:108, 8:1, 9:1.5, 10:1}",
   "metadata": {
    "id": "kVjsN4BEXFX4",
    "ExecuteTime": {
     "end_time": "2024-04-09T04:08:34.783685Z",
     "start_time": "2024-04-09T04:08:34.770693Z"
    }
   },
   "execution_count": null,
   "outputs": []
  },
  {
   "metadata": {
    "ExecuteTime": {
     "end_time": "2024-04-09T04:09:29.825089Z",
     "start_time": "2024-04-09T04:09:29.809099Z"
    }
   },
   "cell_type": "code",
   "source": "paciente = pd.DataFrame(paciente2, index=[0])",
   "execution_count": null,
   "outputs": []
  },
  {
   "metadata": {
    "ExecuteTime": {
     "end_time": "2024-04-09T04:10:20.614562Z",
     "start_time": "2024-04-09T04:10:20.596969Z"
    }
   },
   "cell_type": "code",
   "source": "paciente = paciente.values",
   "execution_count": 141,
   "outputs": []
  },
  {
   "cell_type": "code",
   "source": [
    "resultado = xg.predict(paciente)\n",
    "\n",
    "if resultado == 1:\n",
    "  print('O paciente POSSUI tendência de problemas cardíacos')\n",
    "else:\n",
    "  print('O paciente NÃO POSSUI tendência de problemas cardíacos')"
   ],
   "metadata": {
    "id": "kJmB8SXXUil3",
    "colab": {
     "base_uri": "https://localhost:8080/"
    },
    "outputId": "ebb260a8-1249-4662-ce92-f8fb8e672a6b",
    "ExecuteTime": {
     "end_time": "2024-04-09T04:12:15.220807Z",
     "start_time": "2024-04-09T04:12:15.204818Z"
    }
   },
   "execution_count": 143,
   "outputs": []
  },
  {
   "metadata": {},
   "cell_type": "code",
   "execution_count": null,
   "source": "",
   "outputs": []
  }
 ]
}
