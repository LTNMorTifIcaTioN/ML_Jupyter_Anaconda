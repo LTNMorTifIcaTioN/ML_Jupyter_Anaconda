{
 "nbformat": 4,
 "nbformat_minor": 0,
 "metadata": {
  "colab": {
   "name": "simulador_classificacao.ipynb",
   "provenance": []
  },
  "kernelspec": {
   "name": "python3",
   "display_name": "Python 3 (ipykernel)",
   "language": "python"
  },
  "language_info": {
   "name": "python"
  }
 },
 "cells": [
  {
   "cell_type": "markdown",
   "metadata": {
    "id": "fQJ5CYV9Te0X"
   },
   "source": [
    "# **COMO ESTÁ MEU CORAÇÃO?**"
   ]
  },
  {
   "cell_type": "markdown",
   "metadata": {
    "id": "kXFCCsVHTtTP"
   },
   "source": [
    "Este algoritmo realiza a previsão de uma pessoa ter a tendência de desenvolver algum tipo de doença cardíaca com base em alguns fatores clínicos e laboratoriais. "
   ]
  },
  {
   "cell_type": "markdown",
   "source": [
    "**Abertura dos atributos previsores e alvo**"
   ],
   "metadata": {
    "id": "zF4ZZ2IaMarJ"
   }
  },
  {
   "cell_type": "code",
   "source": [
    "import pandas as pd\n",
    "import numpy as np"
   ],
   "metadata": {
    "id": "WB8AihEHE-SO",
    "ExecuteTime": {
     "end_time": "2024-04-09T03:50:28.672640Z",
     "start_time": "2024-04-09T03:50:28.661645Z"
    }
   },
   "outputs": [],
   "execution_count": 112
  },
  {
   "cell_type": "code",
   "source": "previsores = pd.read_csv('G:/.shortcut-targets-by-id/1-0eJugp2mhHVgylXYxSrV79OPbp72CNB/Cloud Drive/Documentos/Arquivos PDF, PPT, DOC/CURSOS/Machine Learning com Python/ML_Jupyter_Anaconda/Secao_4_Aprendizado_Supervisionado/Dataset/previsores.csv',header=None)",
   "metadata": {
    "id": "OgOCU0-ZE5JW",
    "ExecuteTime": {
     "end_time": "2024-04-09T03:56:02.669325Z",
     "start_time": "2024-04-09T03:56:02.588352Z"
    }
   },
   "outputs": [],
   "execution_count": 124
  },
  {
   "cell_type": "code",
   "source": [
    "previsores"
   ],
   "metadata": {
    "id": "OT_O9kmLiC3r",
    "colab": {
     "base_uri": "https://localhost:8080/"
    },
    "outputId": "0953e4ec-9fda-4e5b-d1d5-90d29c6c0890",
    "ExecuteTime": {
     "end_time": "2024-04-09T03:56:04.393732Z",
     "start_time": "2024-04-09T03:56:04.346016Z"
    }
   },
   "outputs": [
    {
     "data": {
      "text/plain": [
       "       0    1    2      3      4    5    6      7    8    9    10\n",
       "0    40.0  1.0  1.0  140.0  289.0  0.0  0.0  172.0  0.0  0.0  0.0\n",
       "1    49.0  0.0  2.0  160.0  180.0  0.0  0.0  156.0  0.0  1.0  1.0\n",
       "2    37.0  1.0  1.0  130.0  283.0  0.0  1.0   98.0  0.0  0.0  0.0\n",
       "3    48.0  0.0  3.0  138.0  214.0  0.0  0.0  108.0  1.0  1.5  1.0\n",
       "4    54.0  1.0  2.0  150.0  195.0  0.0  0.0  122.0  0.0  0.0  0.0\n",
       "..    ...  ...  ...    ...    ...  ...  ...    ...  ...  ...  ...\n",
       "912  45.0  1.0  0.0  110.0  264.0  0.0  0.0  132.0  0.0  1.2  1.0\n",
       "913  68.0  1.0  3.0  144.0  193.0  1.0  0.0  141.0  0.0  3.4  1.0\n",
       "914  57.0  1.0  3.0  130.0  131.0  0.0  0.0  115.0  1.0  1.2  1.0\n",
       "915  57.0  0.0  1.0  130.0  236.0  0.0  2.0  174.0  0.0  0.0  1.0\n",
       "916  38.0  1.0  2.0  138.0  175.0  0.0  0.0  173.0  0.0  0.0  0.0\n",
       "\n",
       "[917 rows x 11 columns]"
      ],
      "text/html": [
       "<div>\n",
       "<style scoped>\n",
       "    .dataframe tbody tr th:only-of-type {\n",
       "        vertical-align: middle;\n",
       "    }\n",
       "\n",
       "    .dataframe tbody tr th {\n",
       "        vertical-align: top;\n",
       "    }\n",
       "\n",
       "    .dataframe thead th {\n",
       "        text-align: right;\n",
       "    }\n",
       "</style>\n",
       "<table border=\"1\" class=\"dataframe\">\n",
       "  <thead>\n",
       "    <tr style=\"text-align: right;\">\n",
       "      <th></th>\n",
       "      <th>0</th>\n",
       "      <th>1</th>\n",
       "      <th>2</th>\n",
       "      <th>3</th>\n",
       "      <th>4</th>\n",
       "      <th>5</th>\n",
       "      <th>6</th>\n",
       "      <th>7</th>\n",
       "      <th>8</th>\n",
       "      <th>9</th>\n",
       "      <th>10</th>\n",
       "    </tr>\n",
       "  </thead>\n",
       "  <tbody>\n",
       "    <tr>\n",
       "      <th>0</th>\n",
       "      <td>40.0</td>\n",
       "      <td>1.0</td>\n",
       "      <td>1.0</td>\n",
       "      <td>140.0</td>\n",
       "      <td>289.0</td>\n",
       "      <td>0.0</td>\n",
       "      <td>0.0</td>\n",
       "      <td>172.0</td>\n",
       "      <td>0.0</td>\n",
       "      <td>0.0</td>\n",
       "      <td>0.0</td>\n",
       "    </tr>\n",
       "    <tr>\n",
       "      <th>1</th>\n",
       "      <td>49.0</td>\n",
       "      <td>0.0</td>\n",
       "      <td>2.0</td>\n",
       "      <td>160.0</td>\n",
       "      <td>180.0</td>\n",
       "      <td>0.0</td>\n",
       "      <td>0.0</td>\n",
       "      <td>156.0</td>\n",
       "      <td>0.0</td>\n",
       "      <td>1.0</td>\n",
       "      <td>1.0</td>\n",
       "    </tr>\n",
       "    <tr>\n",
       "      <th>2</th>\n",
       "      <td>37.0</td>\n",
       "      <td>1.0</td>\n",
       "      <td>1.0</td>\n",
       "      <td>130.0</td>\n",
       "      <td>283.0</td>\n",
       "      <td>0.0</td>\n",
       "      <td>1.0</td>\n",
       "      <td>98.0</td>\n",
       "      <td>0.0</td>\n",
       "      <td>0.0</td>\n",
       "      <td>0.0</td>\n",
       "    </tr>\n",
       "    <tr>\n",
       "      <th>3</th>\n",
       "      <td>48.0</td>\n",
       "      <td>0.0</td>\n",
       "      <td>3.0</td>\n",
       "      <td>138.0</td>\n",
       "      <td>214.0</td>\n",
       "      <td>0.0</td>\n",
       "      <td>0.0</td>\n",
       "      <td>108.0</td>\n",
       "      <td>1.0</td>\n",
       "      <td>1.5</td>\n",
       "      <td>1.0</td>\n",
       "    </tr>\n",
       "    <tr>\n",
       "      <th>4</th>\n",
       "      <td>54.0</td>\n",
       "      <td>1.0</td>\n",
       "      <td>2.0</td>\n",
       "      <td>150.0</td>\n",
       "      <td>195.0</td>\n",
       "      <td>0.0</td>\n",
       "      <td>0.0</td>\n",
       "      <td>122.0</td>\n",
       "      <td>0.0</td>\n",
       "      <td>0.0</td>\n",
       "      <td>0.0</td>\n",
       "    </tr>\n",
       "    <tr>\n",
       "      <th>...</th>\n",
       "      <td>...</td>\n",
       "      <td>...</td>\n",
       "      <td>...</td>\n",
       "      <td>...</td>\n",
       "      <td>...</td>\n",
       "      <td>...</td>\n",
       "      <td>...</td>\n",
       "      <td>...</td>\n",
       "      <td>...</td>\n",
       "      <td>...</td>\n",
       "      <td>...</td>\n",
       "    </tr>\n",
       "    <tr>\n",
       "      <th>912</th>\n",
       "      <td>45.0</td>\n",
       "      <td>1.0</td>\n",
       "      <td>0.0</td>\n",
       "      <td>110.0</td>\n",
       "      <td>264.0</td>\n",
       "      <td>0.0</td>\n",
       "      <td>0.0</td>\n",
       "      <td>132.0</td>\n",
       "      <td>0.0</td>\n",
       "      <td>1.2</td>\n",
       "      <td>1.0</td>\n",
       "    </tr>\n",
       "    <tr>\n",
       "      <th>913</th>\n",
       "      <td>68.0</td>\n",
       "      <td>1.0</td>\n",
       "      <td>3.0</td>\n",
       "      <td>144.0</td>\n",
       "      <td>193.0</td>\n",
       "      <td>1.0</td>\n",
       "      <td>0.0</td>\n",
       "      <td>141.0</td>\n",
       "      <td>0.0</td>\n",
       "      <td>3.4</td>\n",
       "      <td>1.0</td>\n",
       "    </tr>\n",
       "    <tr>\n",
       "      <th>914</th>\n",
       "      <td>57.0</td>\n",
       "      <td>1.0</td>\n",
       "      <td>3.0</td>\n",
       "      <td>130.0</td>\n",
       "      <td>131.0</td>\n",
       "      <td>0.0</td>\n",
       "      <td>0.0</td>\n",
       "      <td>115.0</td>\n",
       "      <td>1.0</td>\n",
       "      <td>1.2</td>\n",
       "      <td>1.0</td>\n",
       "    </tr>\n",
       "    <tr>\n",
       "      <th>915</th>\n",
       "      <td>57.0</td>\n",
       "      <td>0.0</td>\n",
       "      <td>1.0</td>\n",
       "      <td>130.0</td>\n",
       "      <td>236.0</td>\n",
       "      <td>0.0</td>\n",
       "      <td>2.0</td>\n",
       "      <td>174.0</td>\n",
       "      <td>0.0</td>\n",
       "      <td>0.0</td>\n",
       "      <td>1.0</td>\n",
       "    </tr>\n",
       "    <tr>\n",
       "      <th>916</th>\n",
       "      <td>38.0</td>\n",
       "      <td>1.0</td>\n",
       "      <td>2.0</td>\n",
       "      <td>138.0</td>\n",
       "      <td>175.0</td>\n",
       "      <td>0.0</td>\n",
       "      <td>0.0</td>\n",
       "      <td>173.0</td>\n",
       "      <td>0.0</td>\n",
       "      <td>0.0</td>\n",
       "      <td>0.0</td>\n",
       "    </tr>\n",
       "  </tbody>\n",
       "</table>\n",
       "<p>917 rows × 11 columns</p>\n",
       "</div>"
      ]
     },
     "execution_count": 125,
     "metadata": {},
     "output_type": "execute_result"
    }
   ],
   "execution_count": 125
  },
  {
   "cell_type": "code",
   "source": [
    "previsores = previsores.values"
   ],
   "metadata": {
    "id": "98RdIzv6GAdC",
    "ExecuteTime": {
     "end_time": "2024-04-09T03:56:53.151259Z",
     "start_time": "2024-04-09T03:56:53.132272Z"
    }
   },
   "outputs": [],
   "execution_count": 126
  },
  {
   "cell_type": "code",
   "source": "alvo = pd.read_csv('G:/.shortcut-targets-by-id/1-0eJugp2mhHVgylXYxSrV79OPbp72CNB/Cloud Drive/Documentos/Arquivos PDF, PPT, DOC/CURSOS/Machine Learning com Python/ML_Jupyter_Anaconda/Secao_4_Aprendizado_Supervisionado/Dataset/alvo.csv',header=None)",
   "metadata": {
    "id": "tu5Mpu8gG3Bw",
    "ExecuteTime": {
     "end_time": "2024-04-09T03:56:59.160269Z",
     "start_time": "2024-04-09T03:56:59.137278Z"
    }
   },
   "outputs": [],
   "execution_count": 127
  },
  {
   "cell_type": "code",
   "source": [
    "alvo"
   ],
   "metadata": {
    "id": "U2HIYfy4G63G",
    "ExecuteTime": {
     "end_time": "2024-04-09T03:57:03.188608Z",
     "start_time": "2024-04-09T03:57:03.168548Z"
    }
   },
   "outputs": [
    {
     "data": {
      "text/plain": [
       "       0\n",
       "0    0.0\n",
       "1    1.0\n",
       "2    0.0\n",
       "3    1.0\n",
       "4    0.0\n",
       "..   ...\n",
       "912  1.0\n",
       "913  1.0\n",
       "914  1.0\n",
       "915  1.0\n",
       "916  0.0\n",
       "\n",
       "[917 rows x 1 columns]"
      ],
      "text/html": [
       "<div>\n",
       "<style scoped>\n",
       "    .dataframe tbody tr th:only-of-type {\n",
       "        vertical-align: middle;\n",
       "    }\n",
       "\n",
       "    .dataframe tbody tr th {\n",
       "        vertical-align: top;\n",
       "    }\n",
       "\n",
       "    .dataframe thead th {\n",
       "        text-align: right;\n",
       "    }\n",
       "</style>\n",
       "<table border=\"1\" class=\"dataframe\">\n",
       "  <thead>\n",
       "    <tr style=\"text-align: right;\">\n",
       "      <th></th>\n",
       "      <th>0</th>\n",
       "    </tr>\n",
       "  </thead>\n",
       "  <tbody>\n",
       "    <tr>\n",
       "      <th>0</th>\n",
       "      <td>0.0</td>\n",
       "    </tr>\n",
       "    <tr>\n",
       "      <th>1</th>\n",
       "      <td>1.0</td>\n",
       "    </tr>\n",
       "    <tr>\n",
       "      <th>2</th>\n",
       "      <td>0.0</td>\n",
       "    </tr>\n",
       "    <tr>\n",
       "      <th>3</th>\n",
       "      <td>1.0</td>\n",
       "    </tr>\n",
       "    <tr>\n",
       "      <th>4</th>\n",
       "      <td>0.0</td>\n",
       "    </tr>\n",
       "    <tr>\n",
       "      <th>...</th>\n",
       "      <td>...</td>\n",
       "    </tr>\n",
       "    <tr>\n",
       "      <th>912</th>\n",
       "      <td>1.0</td>\n",
       "    </tr>\n",
       "    <tr>\n",
       "      <th>913</th>\n",
       "      <td>1.0</td>\n",
       "    </tr>\n",
       "    <tr>\n",
       "      <th>914</th>\n",
       "      <td>1.0</td>\n",
       "    </tr>\n",
       "    <tr>\n",
       "      <th>915</th>\n",
       "      <td>1.0</td>\n",
       "    </tr>\n",
       "    <tr>\n",
       "      <th>916</th>\n",
       "      <td>0.0</td>\n",
       "    </tr>\n",
       "  </tbody>\n",
       "</table>\n",
       "<p>917 rows × 1 columns</p>\n",
       "</div>"
      ]
     },
     "execution_count": 128,
     "metadata": {},
     "output_type": "execute_result"
    }
   ],
   "execution_count": 128
  },
  {
   "cell_type": "code",
   "source": [
    "alvo = alvo.iloc[:, 0].values"
   ],
   "metadata": {
    "id": "RT7WpC3XG9Dt",
    "ExecuteTime": {
     "end_time": "2024-04-09T03:57:07.817886Z",
     "start_time": "2024-04-09T03:57:07.808317Z"
    }
   },
   "outputs": [],
   "execution_count": 129
  },
  {
   "cell_type": "markdown",
   "source": [
    "**Carregando o Classificador XGBoost**"
   ],
   "metadata": {
    "id": "jH3OocboSGXH"
   }
  },
  {
   "cell_type": "code",
   "source": [
    "from xgboost import XGBClassifier\n",
    "xg = XGBClassifier(max_depth=2, learning_rate=0.05, n_estimators=250, objective='binary:logistic', random_state=3)\n",
    "xg.fit(previsores,alvo)"
   ],
   "metadata": {
    "id": "jyOMVARbQmLa",
    "colab": {
     "base_uri": "https://localhost:8080/"
    },
    "outputId": "c61a3cc5-d58b-44f3-aec7-b4c7911ce860",
    "ExecuteTime": {
     "end_time": "2024-04-09T03:57:15.639456Z",
     "start_time": "2024-04-09T03:57:15.501404Z"
    }
   },
   "outputs": [
    {
     "data": {
      "text/plain": [
       "XGBClassifier(base_score=None, booster=None, callbacks=None,\n",
       "              colsample_bylevel=None, colsample_bynode=None,\n",
       "              colsample_bytree=None, early_stopping_rounds=None,\n",
       "              enable_categorical=False, eval_metric=None, feature_types=None,\n",
       "              gamma=None, gpu_id=None, grow_policy=None, importance_type=None,\n",
       "              interaction_constraints=None, learning_rate=0.05, max_bin=None,\n",
       "              max_cat_threshold=None, max_cat_to_onehot=None,\n",
       "              max_delta_step=None, max_depth=2, max_leaves=None,\n",
       "              min_child_weight=None, missing=nan, monotone_constraints=None,\n",
       "              n_estimators=250, n_jobs=None, num_parallel_tree=None,\n",
       "              predictor=None, random_state=3, ...)"
      ],
      "text/html": [
       "<style>#sk-container-id-9 {color: black;}#sk-container-id-9 pre{padding: 0;}#sk-container-id-9 div.sk-toggleable {background-color: white;}#sk-container-id-9 label.sk-toggleable__label {cursor: pointer;display: block;width: 100%;margin-bottom: 0;padding: 0.3em;box-sizing: border-box;text-align: center;}#sk-container-id-9 label.sk-toggleable__label-arrow:before {content: \"▸\";float: left;margin-right: 0.25em;color: #696969;}#sk-container-id-9 label.sk-toggleable__label-arrow:hover:before {color: black;}#sk-container-id-9 div.sk-estimator:hover label.sk-toggleable__label-arrow:before {color: black;}#sk-container-id-9 div.sk-toggleable__content {max-height: 0;max-width: 0;overflow: hidden;text-align: left;background-color: #f0f8ff;}#sk-container-id-9 div.sk-toggleable__content pre {margin: 0.2em;color: black;border-radius: 0.25em;background-color: #f0f8ff;}#sk-container-id-9 input.sk-toggleable__control:checked~div.sk-toggleable__content {max-height: 200px;max-width: 100%;overflow: auto;}#sk-container-id-9 input.sk-toggleable__control:checked~label.sk-toggleable__label-arrow:before {content: \"▾\";}#sk-container-id-9 div.sk-estimator input.sk-toggleable__control:checked~label.sk-toggleable__label {background-color: #d4ebff;}#sk-container-id-9 div.sk-label input.sk-toggleable__control:checked~label.sk-toggleable__label {background-color: #d4ebff;}#sk-container-id-9 input.sk-hidden--visually {border: 0;clip: rect(1px 1px 1px 1px);clip: rect(1px, 1px, 1px, 1px);height: 1px;margin: -1px;overflow: hidden;padding: 0;position: absolute;width: 1px;}#sk-container-id-9 div.sk-estimator {font-family: monospace;background-color: #f0f8ff;border: 1px dotted black;border-radius: 0.25em;box-sizing: border-box;margin-bottom: 0.5em;}#sk-container-id-9 div.sk-estimator:hover {background-color: #d4ebff;}#sk-container-id-9 div.sk-parallel-item::after {content: \"\";width: 100%;border-bottom: 1px solid gray;flex-grow: 1;}#sk-container-id-9 div.sk-label:hover label.sk-toggleable__label {background-color: #d4ebff;}#sk-container-id-9 div.sk-serial::before {content: \"\";position: absolute;border-left: 1px solid gray;box-sizing: border-box;top: 0;bottom: 0;left: 50%;z-index: 0;}#sk-container-id-9 div.sk-serial {display: flex;flex-direction: column;align-items: center;background-color: white;padding-right: 0.2em;padding-left: 0.2em;position: relative;}#sk-container-id-9 div.sk-item {position: relative;z-index: 1;}#sk-container-id-9 div.sk-parallel {display: flex;align-items: stretch;justify-content: center;background-color: white;position: relative;}#sk-container-id-9 div.sk-item::before, #sk-container-id-9 div.sk-parallel-item::before {content: \"\";position: absolute;border-left: 1px solid gray;box-sizing: border-box;top: 0;bottom: 0;left: 50%;z-index: -1;}#sk-container-id-9 div.sk-parallel-item {display: flex;flex-direction: column;z-index: 1;position: relative;background-color: white;}#sk-container-id-9 div.sk-parallel-item:first-child::after {align-self: flex-end;width: 50%;}#sk-container-id-9 div.sk-parallel-item:last-child::after {align-self: flex-start;width: 50%;}#sk-container-id-9 div.sk-parallel-item:only-child::after {width: 0;}#sk-container-id-9 div.sk-dashed-wrapped {border: 1px dashed gray;margin: 0 0.4em 0.5em 0.4em;box-sizing: border-box;padding-bottom: 0.4em;background-color: white;}#sk-container-id-9 div.sk-label label {font-family: monospace;font-weight: bold;display: inline-block;line-height: 1.2em;}#sk-container-id-9 div.sk-label-container {text-align: center;}#sk-container-id-9 div.sk-container {/* jupyter's `normalize.less` sets `[hidden] { display: none; }` but bootstrap.min.css set `[hidden] { display: none !important; }` so we also need the `!important` here to be able to override the default hidden behavior on the sphinx rendered scikit-learn.org. See: https://github.com/scikit-learn/scikit-learn/issues/21755 */display: inline-block !important;position: relative;}#sk-container-id-9 div.sk-text-repr-fallback {display: none;}</style><div id=\"sk-container-id-9\" class=\"sk-top-container\"><div class=\"sk-text-repr-fallback\"><pre>XGBClassifier(base_score=None, booster=None, callbacks=None,\n",
       "              colsample_bylevel=None, colsample_bynode=None,\n",
       "              colsample_bytree=None, early_stopping_rounds=None,\n",
       "              enable_categorical=False, eval_metric=None, feature_types=None,\n",
       "              gamma=None, gpu_id=None, grow_policy=None, importance_type=None,\n",
       "              interaction_constraints=None, learning_rate=0.05, max_bin=None,\n",
       "              max_cat_threshold=None, max_cat_to_onehot=None,\n",
       "              max_delta_step=None, max_depth=2, max_leaves=None,\n",
       "              min_child_weight=None, missing=nan, monotone_constraints=None,\n",
       "              n_estimators=250, n_jobs=None, num_parallel_tree=None,\n",
       "              predictor=None, random_state=3, ...)</pre><b>In a Jupyter environment, please rerun this cell to show the HTML representation or trust the notebook. <br />On GitHub, the HTML representation is unable to render, please try loading this page with nbviewer.org.</b></div><div class=\"sk-container\" hidden><div class=\"sk-item\"><div class=\"sk-estimator sk-toggleable\"><input class=\"sk-toggleable__control sk-hidden--visually\" id=\"sk-estimator-id-9\" type=\"checkbox\" checked><label for=\"sk-estimator-id-9\" class=\"sk-toggleable__label sk-toggleable__label-arrow\">XGBClassifier</label><div class=\"sk-toggleable__content\"><pre>XGBClassifier(base_score=None, booster=None, callbacks=None,\n",
       "              colsample_bylevel=None, colsample_bynode=None,\n",
       "              colsample_bytree=None, early_stopping_rounds=None,\n",
       "              enable_categorical=False, eval_metric=None, feature_types=None,\n",
       "              gamma=None, gpu_id=None, grow_policy=None, importance_type=None,\n",
       "              interaction_constraints=None, learning_rate=0.05, max_bin=None,\n",
       "              max_cat_threshold=None, max_cat_to_onehot=None,\n",
       "              max_delta_step=None, max_depth=2, max_leaves=None,\n",
       "              min_child_weight=None, missing=nan, monotone_constraints=None,\n",
       "              n_estimators=250, n_jobs=None, num_parallel_tree=None,\n",
       "              predictor=None, random_state=3, ...)</pre></div></div></div></div></div>"
      ]
     },
     "execution_count": 130,
     "metadata": {},
     "output_type": "execute_result"
    }
   ],
   "execution_count": 130
  },
  {
   "cell_type": "markdown",
   "source": [
    "**Simulação de Novos Pacientes**"
   ],
   "metadata": {
    "id": "NGzVZVzkMzqv"
   }
  },
  {
   "cell_type": "markdown",
   "source": [
    "**LEGENDA**"
   ],
   "metadata": {
    "id": "AA8ZlBGOR5CI"
   }
  },
  {
   "cell_type": "markdown",
   "source": [
    "Age = idade (anos)\n",
    "\n",
    "Sex = sexo (0=M; 1=F)\n",
    "\n",
    "Chest Pain Type = tipo de dor no peito (0=TA:angina típica; 1=ATA:angina atípica; 2=NAP:dor não anginosa; 3=ASY:assintomático)\n",
    "\n",
    "Resting BP = pressão sanguínea em repouso (mmHg)\n",
    "\n",
    "Cholesterol = colesterol sérico (mg/dl)\n",
    "\n",
    "Fasting BS = açúcar no sangue em jejum (mg/dl)\n",
    "          0: Fasting BS < 120 mg/dl (não diabético)\n",
    "          1: Fasting BS >= 120 mg/dl, (diabético)\n",
    "\n",
    "Resting ECG = eletrocardiograma em repouso (0=Normal; 1=ST:Anormalidade da onda ST-T; 2=LVH: Hipertrofia ventricular esquerda)\n",
    "\n",
    "Max HR = frequência cardíaca máxima\n",
    "\n",
    "Exercise Angina = Angina induzida por exercício (0=Não; 1=Sim)\n",
    "\n",
    "Old Peak = Depressão de ST induzida por exercício em relação ao repouso\n",
    "\n",
    "ST_Slope = Inclinação do segmento ST (0=UP; 1=Flat; 2=Down)\n",
    "\n",
    "Heart Disease = Doença cardíaca (0=Não possui doença cardíaca; 1=Possui doença cardíaca)\n",
    "\n"
   ],
   "metadata": {
    "id": "U-7-8IJ_R5CK"
   }
  },
  {
   "cell_type": "code",
   "source": [
    "paciente1 = [40, 0, 1, 140, 289, 0, 0, 172, 0, 0, 0]"
   ],
   "metadata": {
    "id": "FADe0cwCTRPq",
    "ExecuteTime": {
     "end_time": "2024-04-09T03:57:23.172945Z",
     "start_time": "2024-04-09T03:57:23.155957Z"
    }
   },
   "outputs": [],
   "execution_count": 131
  },
  {
   "cell_type": "code",
   "source": "paciente2 = {0:48, 1:1, 2:3, 3:138, 4:214, 5:0, 6:0, 7:108, 8:1, 9:1.5, 10:1}",
   "metadata": {
    "id": "kVjsN4BEXFX4",
    "ExecuteTime": {
     "end_time": "2024-04-09T04:08:34.783685Z",
     "start_time": "2024-04-09T04:08:34.770693Z"
    }
   },
   "outputs": [],
   "execution_count": null
  },
  {
   "metadata": {
    "ExecuteTime": {
     "end_time": "2024-04-09T04:09:29.825089Z",
     "start_time": "2024-04-09T04:09:29.809099Z"
    }
   },
   "cell_type": "code",
   "source": "paciente = pd.DataFrame(paciente2, index=[0])",
   "outputs": [],
   "execution_count": null
  },
  {
   "metadata": {
    "ExecuteTime": {
     "end_time": "2024-04-09T04:10:20.614562Z",
     "start_time": "2024-04-09T04:10:20.596969Z"
    }
   },
   "cell_type": "code",
   "source": "paciente = paciente.values",
   "outputs": [],
   "execution_count": 141
  },
  {
   "cell_type": "code",
   "source": [
    "resultado = xg.predict(paciente)\n",
    "\n",
    "if resultado == 1:\n",
    "  print('O paciente POSSUI tendência de problemas cardíacos')\n",
    "else:\n",
    "  print('O paciente NÃO POSSUI tendência de problemas cardíacos')"
   ],
   "metadata": {
    "id": "kJmB8SXXUil3",
    "colab": {
     "base_uri": "https://localhost:8080/"
    },
    "outputId": "ebb260a8-1249-4662-ce92-f8fb8e672a6b",
    "ExecuteTime": {
     "end_time": "2024-04-09T04:12:15.220807Z",
     "start_time": "2024-04-09T04:12:15.204818Z"
    }
   },
   "outputs": [
    {
     "name": "stdout",
     "output_type": "stream",
     "text": [
      "O paciente POSSUI tendência de problemas cardíacos\n"
     ]
    }
   ],
   "execution_count": 143
  },
  {
   "metadata": {},
   "cell_type": "code",
   "outputs": [],
   "execution_count": null,
   "source": ""
  }
 ]
}
