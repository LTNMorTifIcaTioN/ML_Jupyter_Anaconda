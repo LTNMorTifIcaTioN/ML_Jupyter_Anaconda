{
 "nbformat": 4,
 "nbformat_minor": 0,
 "metadata": {
  "colab": {
   "name": "regressao.ipynb",
   "provenance": [],
   "toc_visible": true
  },
  "kernelspec": {
   "name": "python3",
   "display_name": "Python 3"
  },
  "language_info": {
   "name": "python"
  }
 },
 "cells": [
  {
   "cell_type": "markdown",
   "metadata": {
    "id": "fQJ5CYV9Te0X"
   },
   "source": [
    "# **APRENDIZAGEM SUPERVISIONADA: REGRESSÃO**"
   ]
  },
  {
   "cell_type": "markdown",
   "metadata": {
    "id": "kXFCCsVHTtTP"
   },
   "source": [
    "Este projeto tem por objetivo desenvolver um algoritmo de Machine Learning para prever o valor do preço médio de casas em Boston. "
   ]
  },
  {
   "cell_type": "markdown",
   "metadata": {
    "id": "5ZQ2nYhQUc3G"
   },
   "source": [
    "Os dados foram extraídos do site do Kaggle:\n",
    "\n",
    "https://www.kaggle.com/schirmerchad/bostonhoustingmlnd"
   ]
  },
  {
   "cell_type": "code",
   "metadata": {
    "id": "nWvIcticlCs2"
   },
   "source": [
    "import numpy as np\n",
    "import pandas as pd"
   ],
   "execution_count": null,
   "outputs": []
  },
  {
   "cell_type": "code",
   "metadata": {
    "id": "LRIrwcC8kUhT"
   },
   "source": [
    "df = pd.read_csv('/content/drive/MyDrive/Cursos_Udemy/Machine_Learning_com_Python/housing.csv',\n",
    "                    sep=',', encoding='iso-8859-1')"
   ],
   "execution_count": null,
   "outputs": []
  },
  {
   "cell_type": "code",
   "source": [
    "df.head()"
   ],
   "metadata": {
    "id": "QtugliripIyp",
    "colab": {
     "base_uri": "https://localhost:8080/",
     "height": 206
    },
    "outputId": "4550ba54-b384-4443-bfc9-677df01f4322"
   },
   "execution_count": null,
   "outputs": []
  },
  {
   "cell_type": "markdown",
   "source": [
    "**Atributos previsores**\n",
    "\n",
    "RM: é o número médio de cômodos entre os imóveis no bairro.\n",
    "\n",
    "LSTAT: é a porcentagem de proprietários no bairro considerados de \"classe baixa\" (proletariado).\n",
    "\n",
    "PTRATIO: é a razão entre estudantes e professores nas escolas de ensino fundamental e médio no bairro.\n",
    "\n",
    "**Variável alvo**\n",
    "\n",
    "MEDV: valor médio das casas"
   ],
   "metadata": {
    "id": "BxBX5HD17FZn"
   }
  },
  {
   "cell_type": "code",
   "source": [
    "df.shape"
   ],
   "metadata": {
    "id": "-pOctrVgQWpa",
    "colab": {
     "base_uri": "https://localhost:8080/"
    },
    "outputId": "f9560110-3519-4d2a-e043-cf3561daac28"
   },
   "execution_count": null,
   "outputs": []
  },
  {
   "cell_type": "markdown",
   "source": [
    "## **EXPLORAÇÃO E TRATAMENTO DOS DADOS**"
   ],
   "metadata": {
    "id": "HxaCUHTyTqsg"
   }
  },
  {
   "cell_type": "markdown",
   "metadata": {
    "id": "3lk5kf4eZ_sL"
   },
   "source": [
    "Valores Missing (NAN)"
   ]
  },
  {
   "cell_type": "code",
   "metadata": {
    "id": "A24U7d5QYPaV",
    "colab": {
     "base_uri": "https://localhost:8080/"
    },
    "outputId": "5f838ccb-25a2-4a6b-f435-882919909c4f"
   },
   "source": [
    "# RELAÇÃO DA QUANTIDADE\n",
    "df.isnull().sum()"
   ],
   "execution_count": null,
   "outputs": []
  },
  {
   "cell_type": "markdown",
   "source": [
    "**Análise dos tipos de atributos.**"
   ],
   "metadata": {
    "id": "Q_4_5j4Vlz2j"
   }
  },
  {
   "cell_type": "code",
   "metadata": {
    "id": "wopAqivQXpqI",
    "colab": {
     "base_uri": "https://localhost:8080/"
    },
    "outputId": "7d5fa051-01de-43ea-dd76-30edf8a4446b"
   },
   "source": [
    "# object: strings\n",
    "# int64: inteiros\n",
    "# float64: reais\n",
    "# complex: complexos\n",
    "df.dtypes"
   ],
   "execution_count": null,
   "outputs": []
  },
  {
   "cell_type": "markdown",
   "source": [
    "**Dados Estatísticos**"
   ],
   "metadata": {
    "id": "GmQ0oYyVTYOv"
   }
  },
  {
   "cell_type": "code",
   "source": [
    "df.describe()"
   ],
   "metadata": {
    "id": "BE2XqrzRS8Zo",
    "colab": {
     "base_uri": "https://localhost:8080/"
    },
    "outputId": "f5a6ae0a-2250-41a1-abe1-05863d571330"
   },
   "execution_count": null,
   "outputs": []
  },
  {
   "cell_type": "markdown",
   "metadata": {
    "id": "BjC9JIo5jJ79"
   },
   "source": [
    "**Análise dos outliers**"
   ]
  },
  {
   "cell_type": "code",
   "metadata": {
    "id": "9pBh8XgzjJOX"
   },
   "source": [
    "import plotly.express as px"
   ],
   "execution_count": null,
   "outputs": []
  },
  {
   "cell_type": "code",
   "metadata": {
    "id": "R3RYMYZ0jQgO",
    "colab": {
     "base_uri": "https://localhost:8080/"
    },
    "outputId": "dff2ed42-b3b9-4dfd-c8e8-3207b8d59f85"
   },
   "source": [
    "boxplot = px.box(df, y=\"RM\")\n",
    "boxplot.show()"
   ],
   "execution_count": null,
   "outputs": []
  },
  {
   "cell_type": "code",
   "source": [
    "boxplot = px.box(df, y=\"LSTAT\")\n",
    "boxplot.show()"
   ],
   "metadata": {
    "id": "QNJ0er6fROyJ",
    "colab": {
     "base_uri": "https://localhost:8080/"
    },
    "outputId": "2366a292-c166-4d22-8d59-b6faeca20f90"
   },
   "execution_count": null,
   "outputs": []
  },
  {
   "cell_type": "code",
   "source": [
    "boxplot = px.box(df, y=\"PTRATIO\")\n",
    "boxplot.show()"
   ],
   "metadata": {
    "id": "xQXSjXoSRqTg",
    "colab": {
     "base_uri": "https://localhost:8080/"
    },
    "outputId": "501d973f-a1b9-4260-f248-aec9fc27437e"
   },
   "execution_count": null,
   "outputs": []
  },
  {
   "cell_type": "code",
   "source": [
    "boxplot = px.box(df, y=\"MEDV\")\n",
    "boxplot.show()"
   ],
   "metadata": {
    "id": "B9amK0_pR1Je",
    "colab": {
     "base_uri": "https://localhost:8080/"
    },
    "outputId": "f64232e6-c5d3-45e9-9f4e-583465dfc523"
   },
   "execution_count": null,
   "outputs": []
  },
  {
   "cell_type": "markdown",
   "source": [
    "## **CORRELAÇÃO LINEAR**"
   ],
   "metadata": {
    "id": "1_UXHtabUPkP"
   }
  },
  {
   "cell_type": "code",
   "source": [
    "df.head(2)"
   ],
   "metadata": {
    "id": "KndAusGtsT7N",
    "colab": {
     "base_uri": "https://localhost:8080/"
    },
    "outputId": "38e415ed-741c-4d15-bd89-c86e2434b604"
   },
   "execution_count": null,
   "outputs": []
  },
  {
   "cell_type": "markdown",
   "source": [
    "**Atributos previsores**\n",
    "\n",
    "RM: é o número médio de cômodos entre os imóveis no bairro.\n",
    "\n",
    "LSTAT: é a porcentagem de proprietários no bairro considerados de \"classe baixa\" (proletariado).\n",
    "\n",
    "PTRATIO: é a razão entre estudantes e professores nas escolas de ensino fundamental e médio no bairro.\n",
    "\n",
    "**Variável alvo**\n",
    "\n",
    "MEDV: valor médio das casas"
   ],
   "metadata": {
    "id": "QDtXzr4JsYGS"
   }
  },
  {
   "cell_type": "code",
   "source": [
    "import matplotlib.pyplot as plt"
   ],
   "metadata": {
    "id": "lIg7QtoMUNo5"
   },
   "execution_count": null,
   "outputs": []
  },
  {
   "cell_type": "code",
   "source": [
    "plt.scatter(df.RM, df.MEDV)\n",
    "plt.title('Correlação Linear')\n",
    "plt.xlabel('Quantidade Média de Cômodos')\n",
    "plt.ylabel('Valor Médio')\n",
    "plt.grid(False)"
   ],
   "metadata": {
    "id": "xdvIffKTUZ49",
    "colab": {
     "base_uri": "https://localhost:8080/"
    },
    "outputId": "d1960b3d-e777-4132-f29b-5386952f98d1"
   },
   "execution_count": null,
   "outputs": []
  },
  {
   "cell_type": "code",
   "source": [
    "plt.scatter(df.LSTAT, df.MEDV)\n",
    "plt.title('Correlação Linear')\n",
    "plt.xlabel('Quantidade Classe Baixa (%)')\n",
    "plt.ylabel('Valor Médio')\n",
    "plt.grid(True)\n"
   ],
   "metadata": {
    "id": "g8j-uHDFU-QF",
    "colab": {
     "base_uri": "https://localhost:8080/"
    },
    "outputId": "c88441f8-5615-4604-8623-f3c4f167e46b"
   },
   "execution_count": null,
   "outputs": []
  },
  {
   "cell_type": "code",
   "source": [
    "plt.scatter(df.PTRATIO, df.MEDV)\n",
    "plt.title('Correlação Linear')\n",
    "plt.xlabel('Estudantes/Professores')\n",
    "plt.ylabel('Valor Médio')\n",
    "plt.grid(False)"
   ],
   "metadata": {
    "id": "Onmpw86_Vqct",
    "colab": {
     "base_uri": "https://localhost:8080/"
    },
    "outputId": "6852afe8-5528-4a19-af5d-e2e4bcc907c9"
   },
   "execution_count": null,
   "outputs": []
  },
  {
   "cell_type": "code",
   "metadata": {
    "id": "ZW3RE6_uDzE2"
   },
   "source": [
    "import seaborn as sns"
   ],
   "execution_count": null,
   "outputs": []
  },
  {
   "cell_type": "code",
   "metadata": {
    "id": "3K5Ee3sED1YO",
    "colab": {
     "base_uri": "https://localhost:8080/"
    },
    "outputId": "784b9727-c04e-4c44-ee69-70a1267e713b"
   },
   "source": [
    "sns.pairplot(df);"
   ],
   "execution_count": null,
   "outputs": []
  },
  {
   "cell_type": "markdown",
   "metadata": {
    "id": "_dOyeKE2AesY"
   },
   "source": [
    "### Análise da Normalidade"
   ]
  },
  {
   "cell_type": "markdown",
   "metadata": {
    "id": "U4MnqZjNG_29"
   },
   "source": [
    "Gráfico QQ-Plot"
   ]
  },
  {
   "cell_type": "code",
   "metadata": {
    "id": "o3lb2FS7A9MU"
   },
   "source": [
    "import scipy.stats as stats"
   ],
   "execution_count": null,
   "outputs": []
  },
  {
   "cell_type": "code",
   "metadata": {
    "id": "LD3otdF6G8D1",
    "colab": {
     "base_uri": "https://localhost:8080/"
    },
    "outputId": "fc991ba7-1388-4d19-db8f-a996c75dca90"
   },
   "source": [
    "stats.probplot(df['MEDV'], dist=\"norm\", plot=plt)\n",
    "plt.title(\"Normal Q-Q plot\")\n",
    "plt.show()"
   ],
   "execution_count": null,
   "outputs": []
  },
  {
   "cell_type": "code",
   "metadata": {
    "id": "lDLCKa3ZSq1b"
   },
   "source": [
    "import plotly.express as px"
   ],
   "execution_count": null,
   "outputs": []
  },
  {
   "cell_type": "code",
   "metadata": {
    "id": "JxIib1HfSJxN",
    "colab": {
     "base_uri": "https://localhost:8080/"
    },
    "outputId": "93f7b993-8e1b-41ff-ed3f-e75b75786271"
   },
   "source": [
    "hist =  px.histogram (df,  x = \"MEDV\", nbins=60) \n",
    "hist.update_layout(width=800,height=500,title_text='Média dos valores') \n",
    "hist.show()"
   ],
   "execution_count": null,
   "outputs": []
  },
  {
   "cell_type": "code",
   "metadata": {
    "id": "-WaQDC6xHOzU",
    "colab": {
     "base_uri": "https://localhost:8080/"
    },
    "outputId": "1d83aac9-52c0-4063-c982-1d194d38ec21"
   },
   "source": [
    "stats.probplot(df['RM'], dist=\"norm\", plot=plt)\n",
    "plt.title(\"Normal Q-Q plot\")\n",
    "plt.show()"
   ],
   "execution_count": null,
   "outputs": []
  },
  {
   "cell_type": "code",
   "source": [
    "hist =  px.histogram (df,  x = \"RM\", nbins=40) \n",
    "hist.update_layout(width=800,height=500,title_text='Quantidade de cômodos') \n",
    "hist.show()"
   ],
   "metadata": {
    "id": "DAr20mqI2FlH",
    "colab": {
     "base_uri": "https://localhost:8080/"
    },
    "outputId": "4bbe90bb-0547-4301-9ebb-99b75703ca8d"
   },
   "execution_count": null,
   "outputs": []
  },
  {
   "cell_type": "code",
   "source": [
    "stats.probplot(df['LSTAT'], dist=\"norm\", plot=plt)\n",
    "plt.title(\"Normal Q-Q plot\")\n",
    "plt.show()"
   ],
   "metadata": {
    "id": "C-ZHKF9O0vgj",
    "colab": {
     "base_uri": "https://localhost:8080/"
    },
    "outputId": "2893eeb8-dba5-40fe-b795-158ef52546a1"
   },
   "execution_count": null,
   "outputs": []
  },
  {
   "cell_type": "code",
   "source": [
    "hist =  px.histogram (df,  x = \"LSTAT\", nbins=60) \n",
    "hist.update_layout(width=800,height=500,title_text='Quantidade de Classe Baixa (%)') \n",
    "hist.show()"
   ],
   "metadata": {
    "id": "t_DuX1wV2XTX",
    "colab": {
     "base_uri": "https://localhost:8080/"
    },
    "outputId": "efbee636-7f0a-4af5-d696-4c42feaf708b"
   },
   "execution_count": null,
   "outputs": []
  },
  {
   "cell_type": "code",
   "source": [
    "stats.probplot(df['PTRATIO'], dist=\"norm\", plot=plt)\n",
    "plt.title(\"Normal Q-Q plot\")\n",
    "plt.show()"
   ],
   "metadata": {
    "id": "JJdjZnSj07ih",
    "colab": {
     "base_uri": "https://localhost:8080/"
    },
    "outputId": "980d0b2d-e65a-4418-8bf6-61e60fc470d2"
   },
   "execution_count": null,
   "outputs": []
  },
  {
   "cell_type": "code",
   "source": [
    "hist =  px.histogram (df,  x = \"PTRATIO\", nbins=60) \n",
    "hist.update_layout(width=800,height=500,title_text='Relação Estudantes/Professores') \n",
    "hist.show()"
   ],
   "metadata": {
    "id": "WfcMWw032ojE",
    "colab": {
     "base_uri": "https://localhost:8080/"
    },
    "outputId": "6a4d362e-8856-445b-adf5-a4d8300cee0c"
   },
   "execution_count": null,
   "outputs": []
  },
  {
   "cell_type": "markdown",
   "metadata": {
    "id": "b38jbpVpBSrN"
   },
   "source": [
    "Teste Shapiro-Wilk"
   ]
  },
  {
   "cell_type": "markdown",
   "metadata": {
    "id": "UBCGqxZiCKzR"
   },
   "source": [
    "Ho = distribuição normal : p > 0.05\n",
    "\n",
    "Ha = distribuição != normal : p <= 0.05"
   ]
  },
  {
   "cell_type": "code",
   "metadata": {
    "id": "5wcDiCVBL5Ax",
    "colab": {
     "base_uri": "https://localhost:8080/"
    },
    "outputId": "2deaf12d-9558-4424-d5c1-6fa68e1bef7f"
   },
   "source": [
    "stats.shapiro(df.MEDV)"
   ],
   "execution_count": null,
   "outputs": []
  },
  {
   "cell_type": "code",
   "metadata": {
    "id": "wxg4KYhAAqIP",
    "colab": {
     "base_uri": "https://localhost:8080/"
    },
    "outputId": "a812af2f-bbe0-4f14-b41a-9d39703a4f20"
   },
   "source": [
    "estatistica, p = stats.shapiro(df.MEDV)\n",
    "print('Estatística do teste: {}'.format(estatistica))\n",
    "print('p-valor: {}'.format(p))"
   ],
   "execution_count": null,
   "outputs": []
  },
  {
   "cell_type": "code",
   "metadata": {
    "id": "2CtpuM8PFyio",
    "colab": {
     "base_uri": "https://localhost:8080/"
    },
    "outputId": "9733d433-87f8-4c60-e4e5-5c2172fab891"
   },
   "source": [
    "estatistica, p = stats.shapiro(df.RM)\n",
    "print('Estatística do teste: {}'.format(estatistica))\n",
    "print('p-valor: {}'.format(p))"
   ],
   "execution_count": null,
   "outputs": []
  },
  {
   "cell_type": "code",
   "metadata": {
    "id": "0-fjsQBK3id7",
    "colab": {
     "base_uri": "https://localhost:8080/"
    },
    "outputId": "36fca97e-b0d0-4600-ad57-05f22ef2fc31"
   },
   "source": [
    "estatistica, p = stats.shapiro(df.LSTAT)\n",
    "print('Estatística do teste: {}'.format(estatistica))\n",
    "print('p-valor: {}'.format(p))"
   ],
   "execution_count": null,
   "outputs": []
  },
  {
   "cell_type": "code",
   "metadata": {
    "id": "Qmbgy-Ie3id8",
    "colab": {
     "base_uri": "https://localhost:8080/"
    },
    "outputId": "24fb22c3-077b-4e85-9329-88398dbbbaf8"
   },
   "source": [
    "estatistica, p = stats.shapiro(df.PTRATIO)\n",
    "print('Estatística do teste: {}'.format(estatistica))\n",
    "print('p-valor: {}'.format(p))"
   ],
   "execution_count": null,
   "outputs": []
  },
  {
   "cell_type": "markdown",
   "metadata": {
    "id": "V6bxiYpYJmKS"
   },
   "source": [
    "Teste Lilliefors (Kolmogorov_Sminorv)"
   ]
  },
  {
   "cell_type": "markdown",
   "metadata": {
    "id": "qmzqzC03JvHk"
   },
   "source": [
    "Ho = distribuição normal : p > 0.05\n",
    "\n",
    "Ha = distribuição != normal : p <= 0.05"
   ]
  },
  {
   "cell_type": "code",
   "metadata": {
    "id": "-FABb4nSJlXf",
    "colab": {
     "base_uri": "https://localhost:8080/"
    },
    "outputId": "1df7b4ac-8560-46b4-9807-ebb6988996d2"
   },
   "source": [
    "import statsmodels\n",
    "from statsmodels.stats.diagnostic import lilliefors"
   ],
   "execution_count": null,
   "outputs": []
  },
  {
   "cell_type": "code",
   "metadata": {
    "id": "YAxevGrNJuT5",
    "colab": {
     "base_uri": "https://localhost:8080/"
    },
    "outputId": "ec999056-4234-4cde-af42-eb5ff442f3b9"
   },
   "source": [
    "estatistica, p = statsmodels.stats.diagnostic.lilliefors(df.MEDV, dist = 'norm')\n",
    "print('Estatística de teste: {}'.format(estatistica))\n",
    "print('p-valor: {}'.format(p))"
   ],
   "execution_count": null,
   "outputs": []
  },
  {
   "cell_type": "code",
   "metadata": {
    "id": "B1MzwpxfMZHm",
    "colab": {
     "base_uri": "https://localhost:8080/"
    },
    "outputId": "06d1b910-222c-4519-d501-50c98f7e6c39"
   },
   "source": [
    "estatistica, p = statsmodels.stats.diagnostic.lilliefors(df.RM, dist = 'norm')\n",
    "print('Estatística de teste: {}'.format(estatistica))\n",
    "print('p-valor: {}'.format(p))"
   ],
   "execution_count": null,
   "outputs": []
  },
  {
   "cell_type": "markdown",
   "metadata": {
    "id": "uq5tgQBfnKEW"
   },
   "source": [
    "### Correlação Linear"
   ]
  },
  {
   "cell_type": "markdown",
   "metadata": {
    "id": "AINeGYMRQPdW"
   },
   "source": [
    "Pearson (distribuição normal)\n",
    "\n",
    "Spearman (distribuição não normal)\n",
    "\n",
    "Kendall (distribuição não normal com quantidade pequena de amostras)"
   ]
  },
  {
   "cell_type": "markdown",
   "metadata": {
    "id": "zqLl2LgkQbs3"
   },
   "source": [
    "Ho = não há corrrelação linear: p > 0,05\n",
    "\n",
    "Ha = existe correlação linear: p <= 0,05"
   ]
  },
  {
   "cell_type": "code",
   "metadata": {
    "id": "c0Qs5Jf2UR_1"
   },
   "source": [
    "# Pearson\n",
    "#coef,p = stats.pearsonr(df.MEDV, df.RM)\n",
    "#print('Coeficiente de correlação: {}'.format(coef))\n",
    "#print('p-valor: {}'.format(p))"
   ],
   "execution_count": null,
   "outputs": []
  },
  {
   "cell_type": "code",
   "metadata": {
    "id": "K1dnDGnDVMQU",
    "colab": {
     "base_uri": "https://localhost:8080/"
    },
    "outputId": "ccc2be05-8084-416a-eb25-084babf18fbf"
   },
   "source": [
    "# Spearman\n",
    "coef,p = stats.spearmanr(df.MEDV, df.PTRATIO)\n",
    "print('Coeficiente de correlação: {}'.format(coef))\n",
    "print('p-valor: {}'.format(p))"
   ],
   "execution_count": null,
   "outputs": []
  },
  {
   "cell_type": "code",
   "metadata": {
    "id": "rx0tZdc3VWBC"
   },
   "source": [
    "# Kendall\n",
    "#coef,p = stats.kendalltau(df.MEDV,df.RM)\n",
    "#print('Coeficiente de correlação: {}'.format(coef))\n",
    "#print('p-valor: {}'.format(p))"
   ],
   "execution_count": null,
   "outputs": []
  },
  {
   "cell_type": "code",
   "metadata": {
    "id": "w6Wcby_cRHHg",
    "colab": {
     "base_uri": "https://localhost:8080/"
    },
    "outputId": "5e62f02c-8512-4336-c8cd-037022d1d0fd"
   },
   "source": [
    "correlacoes = df.corr(method='spearman')\n",
    "correlacoes"
   ],
   "execution_count": null,
   "outputs": []
  },
  {
   "cell_type": "code",
   "metadata": {
    "id": "eaiZhH-XRisc",
    "colab": {
     "base_uri": "https://localhost:8080/"
    },
    "outputId": "226e2a85-0ee4-42e2-8311-9e50a6a40f99"
   },
   "source": [
    "plt.figure()\n",
    "sns.heatmap(correlacoes, annot=True);"
   ],
   "execution_count": null,
   "outputs": []
  },
  {
   "cell_type": "markdown",
   "source": [
    "## **REGRESSÃO LINEAR SIMPLES**"
   ],
   "metadata": {
    "id": "S3Hp7kQK9KaY"
   }
  },
  {
   "cell_type": "markdown",
   "source": [
    "https://scikit-learn.org/stable/modules/generated/sklearn.linear_model.LinearRegression.html "
   ],
   "metadata": {
    "id": "x7ruW5bkQhrR"
   }
  },
  {
   "cell_type": "markdown",
   "source": [
    "### Valor médio (MEDV) em função do número de cômodos (RM)"
   ],
   "metadata": {
    "id": "Btt5b0gt0tAz"
   }
  },
  {
   "cell_type": "code",
   "source": [
    "df.head(2)"
   ],
   "metadata": {
    "id": "uTt4DY04DavB"
   },
   "execution_count": null,
   "outputs": []
  },
  {
   "cell_type": "code",
   "metadata": {
    "id": "r-ghCIWu0PM0"
   },
   "source": [
    "x1 = df.iloc[:,0:1].values\n",
    "x1"
   ],
   "execution_count": null,
   "outputs": []
  },
  {
   "cell_type": "code",
   "metadata": {
    "id": "7S0eXs3R0dZe"
   },
   "source": [
    "y = df.iloc[:, 3].values\n",
    "y"
   ],
   "execution_count": null,
   "outputs": []
  },
  {
   "cell_type": "code",
   "metadata": {
    "id": "xH25j9ap18Xu"
   },
   "source": [
    "from sklearn.model_selection import train_test_split\n",
    "x_treino, x_teste, y_treino, y_teste = train_test_split(x1, y, test_size = 0.3, random_state = 10)"
   ],
   "execution_count": null,
   "outputs": []
  },
  {
   "cell_type": "code",
   "metadata": {
    "id": "Bsws9Z2P2Nug"
   },
   "source": [
    "x_treino.shape, y_treino.shape"
   ],
   "execution_count": null,
   "outputs": []
  },
  {
   "cell_type": "code",
   "metadata": {
    "id": "bMjUYmZu2VEj"
   },
   "source": [
    "x_teste.shape, y_teste.shape"
   ],
   "execution_count": null,
   "outputs": []
  },
  {
   "cell_type": "code",
   "source": [
    "from sklearn.linear_model import LinearRegression"
   ],
   "metadata": {
    "id": "vEBGIvlQa41o"
   },
   "execution_count": null,
   "outputs": []
  },
  {
   "cell_type": "code",
   "metadata": {
    "id": "A-iqvnKk2bnf"
   },
   "source": [
    "reg_linear1 = LinearRegression()\n",
    "reg_linear1.fit(x_treino, y_treino)"
   ],
   "execution_count": null,
   "outputs": []
  },
  {
   "cell_type": "code",
   "metadata": {
    "id": "2bX8QM8S2ntL"
   },
   "source": [
    "# Intercepto (coeficiente linear)\n",
    "reg_linear1.intercept_"
   ],
   "execution_count": null,
   "outputs": []
  },
  {
   "cell_type": "code",
   "metadata": {
    "id": "ZRr5GJ8l2sQs"
   },
   "source": [
    "# Coeficiente Angular\n",
    "reg_linear1.coef_"
   ],
   "execution_count": null,
   "outputs": []
  },
  {
   "cell_type": "markdown",
   "source": [
    "**Equação: Valor = -626510,27 + 173771,45.número_cômodos**"
   ],
   "metadata": {
    "id": "uGC5B9gnO-oZ"
   }
  },
  {
   "cell_type": "code",
   "metadata": {
    "id": "GpTQY7812wpM"
   },
   "source": [
    "# Coeficiente de Determinação dados de treino\n",
    "reg_linear1.score(x_treino, y_treino)"
   ],
   "execution_count": null,
   "outputs": []
  },
  {
   "cell_type": "code",
   "metadata": {
    "id": "1EG8Tvie28UO"
   },
   "source": [
    "# Coeficiente de Determinação dados de teste\n",
    "reg_linear1.score(x_teste, y_teste)"
   ],
   "execution_count": null,
   "outputs": []
  },
  {
   "cell_type": "code",
   "metadata": {
    "id": "kL8XhAwQ3EbM"
   },
   "source": [
    "previsoes_treino = reg_linear1.predict(x_treino)\n",
    "previsoes_treino"
   ],
   "execution_count": null,
   "outputs": []
  },
  {
   "cell_type": "code",
   "source": [
    "import matplotlib.pyplot as plt"
   ],
   "metadata": {
    "id": "0nRoU5nmvNLn"
   },
   "execution_count": null,
   "outputs": []
  },
  {
   "cell_type": "code",
   "source": [
    "plt.scatter(y=y_treino, x=x_treino, color='blue', s=10, alpha=0.9)\n",
    "X_plot = np.linspace(3, 9)\n",
    "plt.plot(X_plot, X_plot*reg_linear1.coef_ + reg_linear1.intercept_, color='r')\n",
    "plt.title('Reta de regressão')\n",
    "plt.ylabel('Valor Médio')\n",
    "plt.xlabel('Quantidade Média de Cômodos')\n",
    "plt.show()"
   ],
   "metadata": {
    "id": "t3hTUF7HzVC5"
   },
   "execution_count": null,
   "outputs": []
  },
  {
   "cell_type": "code",
   "metadata": {
    "id": "4KLbSxAg5oiQ"
   },
   "source": [
    "previsoes_teste = reg_linear1.predict(x_teste)\n",
    "previsoes_teste"
   ],
   "execution_count": null,
   "outputs": []
  },
  {
   "cell_type": "code",
   "metadata": {
    "id": "XZtf_4mq5wLy"
   },
   "source": [
    "y_teste"
   ],
   "execution_count": null,
   "outputs": []
  },
  {
   "cell_type": "code",
   "metadata": {
    "id": "6v_GM2AQ8KdP"
   },
   "source": [
    "plt.scatter(y=y_teste, x=x_teste, color='blue', s=10, alpha=0.9)\n",
    "X_plot = np.linspace(4, 9)\n",
    "plt.plot(X_plot, X_plot*reg_linear1.coef_ + reg_linear1.intercept_, color='r')\n",
    "plt.title('Reta de regressão')\n",
    "plt.ylabel('Valor Médio')\n",
    "plt.xlabel('Quantidade de Cômodos')\n",
    "plt.show()"
   ],
   "execution_count": null,
   "outputs": []
  },
  {
   "cell_type": "code",
   "source": [
    "# Fazendo previsões para valores distintos\n",
    "valor_casa = reg_linear1.predict([[4]])\n",
    "valor_casa"
   ],
   "metadata": {
    "id": "CNrxZVosM5lD"
   },
   "execution_count": null,
   "outputs": []
  },
  {
   "cell_type": "markdown",
   "source": [
    "**Métricas de Desempenho**"
   ],
   "metadata": {
    "id": "-eU7r8Fs2n5o"
   }
  },
  {
   "cell_type": "code",
   "metadata": {
    "id": "K0vNPhFw2QA_"
   },
   "source": [
    "# Erro absoluto\n",
    "abs(y_teste - previsoes_teste).mean()"
   ],
   "execution_count": null,
   "outputs": []
  },
  {
   "cell_type": "code",
   "metadata": {
    "id": "0xwitnAQ2QBA"
   },
   "source": [
    "from sklearn.metrics import mean_absolute_error, mean_squared_error"
   ],
   "execution_count": null,
   "outputs": []
  },
  {
   "cell_type": "code",
   "metadata": {
    "id": "JvV7onBf2QBA"
   },
   "source": [
    "# Erro médio absoluto\n",
    "mean_absolute_error(y_teste, previsoes_teste)"
   ],
   "execution_count": null,
   "outputs": []
  },
  {
   "cell_type": "code",
   "metadata": {
    "id": "Hsv58lFO2QBB"
   },
   "source": [
    "# Erro quadrático médio\n",
    "mean_squared_error(y_teste, previsoes_teste)"
   ],
   "execution_count": null,
   "outputs": []
  },
  {
   "cell_type": "code",
   "metadata": {
    "id": "XP8C3lPI2QBC"
   },
   "source": [
    "# Raiz do erro quadrático médio\n",
    "np.sqrt(mean_squared_error(y_teste, previsoes_teste))"
   ],
   "execution_count": null,
   "outputs": []
  },
  {
   "cell_type": "markdown",
   "source": [
    "### Valor médio (MEDV) em função da classe social (LSTAT)"
   ],
   "metadata": {
    "id": "xOvqLq4JDIV1"
   }
  },
  {
   "cell_type": "code",
   "source": [
    "df.head(2)"
   ],
   "metadata": {
    "id": "tlTW_OVLD7Gd",
    "colab": {
     "base_uri": "https://localhost:8080/"
    },
    "outputId": "4984be21-a304-402d-81c9-e287a5522314"
   },
   "execution_count": null,
   "outputs": []
  },
  {
   "cell_type": "code",
   "metadata": {
    "id": "BX3_0k2JDIV-",
    "colab": {
     "base_uri": "https://localhost:8080/"
    },
    "outputId": "35e4daba-6a0e-45a4-d3bb-e67aa6ed77af"
   },
   "source": [
    "x2 = df.iloc[:,1:2].values\n",
    "x2"
   ],
   "execution_count": null,
   "outputs": []
  },
  {
   "cell_type": "code",
   "metadata": {
    "id": "QQxq1rOaDIV-",
    "colab": {
     "base_uri": "https://localhost:8080/"
    },
    "outputId": "393e61e7-d869-4bda-b60c-281b3f66f629"
   },
   "source": [
    "y = df.iloc[:, 3].values\n",
    "y"
   ],
   "execution_count": null,
   "outputs": []
  },
  {
   "cell_type": "code",
   "metadata": {
    "id": "fm5tatizDIV-"
   },
   "source": [
    "from sklearn.model_selection import train_test_split\n",
    "x_treino, x_teste, y_treino, y_teste = train_test_split(x2, y, test_size = 0.3, random_state = 10)"
   ],
   "execution_count": null,
   "outputs": []
  },
  {
   "cell_type": "code",
   "metadata": {
    "id": "Nf4kIFBUDIV-",
    "colab": {
     "base_uri": "https://localhost:8080/"
    },
    "outputId": "27d494b4-36ce-4b83-d9c3-3d7ce1e9f8ec"
   },
   "source": [
    "x_treino.shape, y_treino.shape"
   ],
   "execution_count": null,
   "outputs": []
  },
  {
   "cell_type": "code",
   "metadata": {
    "id": "1ENZkvJ6DIV_",
    "colab": {
     "base_uri": "https://localhost:8080/"
    },
    "outputId": "b7bd97dc-24e4-4a14-929c-045f9f463aad"
   },
   "source": [
    "x_teste.shape, y_teste.shape"
   ],
   "execution_count": null,
   "outputs": []
  },
  {
   "cell_type": "code",
   "metadata": {
    "id": "pnlHWrMSDIV_",
    "colab": {
     "base_uri": "https://localhost:8080/"
    },
    "outputId": "cc4e13e9-d65a-4d8f-e728-d5ea2c7538e1"
   },
   "source": [
    "from sklearn.linear_model import LinearRegression\n",
    "reg_linear2 = LinearRegression()\n",
    "reg_linear2.fit(x_treino, y_treino)"
   ],
   "execution_count": null,
   "outputs": []
  },
  {
   "cell_type": "code",
   "metadata": {
    "id": "sf9TY-nmDIV_",
    "colab": {
     "base_uri": "https://localhost:8080/"
    },
    "outputId": "4d1c36b5-98f5-4f77-9c8f-a2eac96e5df7"
   },
   "source": [
    "# Intercepto (coeficiente linear)\n",
    "reg_linear2.intercept_"
   ],
   "execution_count": null,
   "outputs": []
  },
  {
   "cell_type": "code",
   "metadata": {
    "id": "yKxLXHwwDIWA",
    "colab": {
     "base_uri": "https://localhost:8080/"
    },
    "outputId": "b0c284e7-a1e5-4124-8839-2c4cae1e5265"
   },
   "source": [
    "# Coeficiente Angular\n",
    "reg_linear2.coef_"
   ],
   "execution_count": null,
   "outputs": []
  },
  {
   "cell_type": "markdown",
   "source": [
    "**Equação: Valor = 681977,75 - 17263,75.LSTAT**"
   ],
   "metadata": {
    "id": "egv0y9u3pTN2"
   }
  },
  {
   "cell_type": "code",
   "metadata": {
    "id": "7rAbcYHrDIWA",
    "colab": {
     "base_uri": "https://localhost:8080/"
    },
    "outputId": "5589fa96-00ce-42e7-df7c-2f201aa0e023"
   },
   "source": [
    "# Coeficiente de Determinação dados de treino\n",
    "reg_linear2.score(x_treino, y_treino)"
   ],
   "execution_count": null,
   "outputs": []
  },
  {
   "cell_type": "code",
   "metadata": {
    "id": "01cMJImBDIWA",
    "colab": {
     "base_uri": "https://localhost:8080/"
    },
    "outputId": "39bb8e8c-094a-44d3-8475-573117f4c7e4"
   },
   "source": [
    "previsoes_treino = reg_linear2.predict(x_treino)\n",
    "previsoes_treino"
   ],
   "execution_count": null,
   "outputs": []
  },
  {
   "cell_type": "code",
   "source": [
    "plt.scatter(y=y_treino, x=x_treino, color='blue', s=10, alpha=0.9)\n",
    "X_plot = np.linspace(0, 40)\n",
    "plt.plot(X_plot, X_plot*reg_linear2.coef_ + reg_linear2.intercept_, color='r')\n",
    "plt.title('Reta de regressão')\n",
    "plt.ylabel('Valor Médio')\n",
    "plt.xlabel('Quantidade de Proprietários de Classe Média Baixa (%)')\n",
    "plt.show()"
   ],
   "metadata": {
    "id": "1k8tu9tSDIWA",
    "colab": {
     "base_uri": "https://localhost:8080/"
    },
    "outputId": "8cdac88f-6da1-4186-f44f-88130a105e1d"
   },
   "execution_count": null,
   "outputs": []
  },
  {
   "cell_type": "code",
   "metadata": {
    "id": "0VULl4HSDIWB",
    "colab": {
     "base_uri": "https://localhost:8080/"
    },
    "outputId": "af039a30-4f74-4eb6-cce1-4c814fc4ca0f"
   },
   "source": [
    "previsoes_teste = reg_linear2.predict(x_teste)\n",
    "previsoes_teste"
   ],
   "execution_count": null,
   "outputs": []
  },
  {
   "cell_type": "code",
   "metadata": {
    "id": "A0e4uSPQDIWB",
    "colab": {
     "base_uri": "https://localhost:8080/"
    },
    "outputId": "5152a365-7952-4fac-dbfd-daacc965add1"
   },
   "source": [
    "y_teste"
   ],
   "execution_count": null,
   "outputs": []
  },
  {
   "cell_type": "code",
   "metadata": {
    "id": "hBKuKJ8CDIWA",
    "colab": {
     "base_uri": "https://localhost:8080/"
    },
    "outputId": "22e1e9c4-dc4b-4657-bdb4-ad4bc02290cb"
   },
   "source": [
    "# Coeficiente de Determinação dados de teste\n",
    "reg_linear2.score(x_teste, y_teste)"
   ],
   "execution_count": null,
   "outputs": []
  },
  {
   "cell_type": "code",
   "metadata": {
    "id": "662tKSwpDIWB",
    "colab": {
     "base_uri": "https://localhost:8080/"
    },
    "outputId": "995f0c2a-f057-4215-bff8-786cb63696cd"
   },
   "source": [
    "plt.scatter(y=y_teste, x=x_teste, color='blue', s=10, alpha=0.9)\n",
    "X_plot = np.linspace(2, 35)\n",
    "plt.plot(X_plot, X_plot*reg_linear2.coef_ + reg_linear2.intercept_, color='r')\n",
    "plt.title('Reta de regressão')\n",
    "plt.ylabel('Valor Médio')\n",
    "plt.xlabel('Quantidade de Proprietários de Classe Média Baixa (%)')\n",
    "plt.show()"
   ],
   "execution_count": null,
   "outputs": []
  },
  {
   "cell_type": "code",
   "source": [
    "# Fazendo previsões para valores distintos\n",
    "valor_casa = reg_linear2.predict([[25]])\n",
    "valor_casa"
   ],
   "metadata": {
    "id": "2q9VCdUONwFp",
    "colab": {
     "base_uri": "https://localhost:8080/"
    },
    "outputId": "8e56d798-20c1-47cc-c434-a9431a53352d"
   },
   "execution_count": null,
   "outputs": []
  },
  {
   "cell_type": "markdown",
   "source": [
    "**Métricas de Desempenho**"
   ],
   "metadata": {
    "id": "UA65Y6G6DIWB"
   }
  },
  {
   "cell_type": "code",
   "metadata": {
    "id": "QV59JNCnDIWB",
    "colab": {
     "base_uri": "https://localhost:8080/"
    },
    "outputId": "0e8b5b22-b324-41c7-f0a0-667606b51442"
   },
   "source": [
    "# Erro absoluto\n",
    "abs(y_teste - previsoes_teste).mean()"
   ],
   "execution_count": null,
   "outputs": []
  },
  {
   "cell_type": "code",
   "metadata": {
    "id": "MOv0MSHiDIWC"
   },
   "source": [
    "from sklearn.metrics import mean_absolute_error, mean_squared_error"
   ],
   "execution_count": null,
   "outputs": []
  },
  {
   "cell_type": "code",
   "metadata": {
    "id": "bc0dZQc7DIWC",
    "colab": {
     "base_uri": "https://localhost:8080/"
    },
    "outputId": "eb0d1a28-b350-4e38-e82e-af4dfc618842"
   },
   "source": [
    "# Erro médio Absoluto\n",
    "mean_absolute_error(y_teste, previsoes_teste)"
   ],
   "execution_count": null,
   "outputs": []
  },
  {
   "cell_type": "code",
   "metadata": {
    "id": "-I9Zi-ZVDIWC",
    "colab": {
     "base_uri": "https://localhost:8080/"
    },
    "outputId": "fa3c1e66-9e34-4fc6-d340-742711a7b966"
   },
   "source": [
    "# Erro quadrático médio\n",
    "mean_squared_error(y_teste, previsoes_teste)"
   ],
   "execution_count": null,
   "outputs": []
  },
  {
   "cell_type": "code",
   "metadata": {
    "id": "io-zNm8VDIWC",
    "colab": {
     "base_uri": "https://localhost:8080/"
    },
    "outputId": "c08245e4-0985-4995-ea9b-603b09c4cb94"
   },
   "source": [
    "# Raiz do erro quadrático médio (RMSE)\n",
    "np.sqrt(mean_squared_error(y_teste, previsoes_teste))"
   ],
   "execution_count": null,
   "outputs": []
  },
  {
   "cell_type": "markdown",
   "source": [
    "### **Validação Cruzada**"
   ],
   "metadata": {
    "id": "BsXaKhiVIMGl"
   }
  },
  {
   "cell_type": "code",
   "source": [
    "from sklearn.model_selection import KFold\n",
    "from sklearn.model_selection import cross_val_score"
   ],
   "metadata": {
    "id": "lvBuy5bm_qok"
   },
   "execution_count": null,
   "outputs": []
  },
  {
   "cell_type": "code",
   "source": [
    "# Separando os dados em folds\n",
    "kfold = KFold(n_splits = 15, shuffle=True, random_state = 5)"
   ],
   "metadata": {
    "id": "SS_dyx4x_260"
   },
   "execution_count": null,
   "outputs": []
  },
  {
   "cell_type": "code",
   "source": [
    "# Criando o modelo\n",
    "from sklearn.linear_model import LinearRegression\n",
    "modelo = LinearRegression()\n",
    "resultado = cross_val_score(modelo, x2, y, cv = kfold)\n",
    "resultado"
   ],
   "metadata": {
    "id": "K0aqT7kPAf1L"
   },
   "execution_count": null,
   "outputs": []
  },
  {
   "cell_type": "code",
   "source": [
    "# Usamos a média e o desvio padrão\n",
    "print(\"Coef. determinação Médio: %.2f%%\" % (resultado.mean() * 100.0))"
   ],
   "metadata": {
    "id": "3Lq7dW7ALUqE"
   },
   "execution_count": null,
   "outputs": []
  },
  {
   "cell_type": "markdown",
   "metadata": {
    "id": "cmeit_na_AzG"
   },
   "source": [
    "### **Avaliando a Regressão Linear Simples com Statsmodels**"
   ]
  },
  {
   "cell_type": "code",
   "metadata": {
    "id": "zFuMSGRTG0Nd"
   },
   "source": [
    "import statsmodels.formula.api as smf"
   ],
   "execution_count": null,
   "outputs": []
  },
  {
   "cell_type": "code",
   "source": [
    "import matplotlib.pyplot as plt"
   ],
   "metadata": {
    "id": "fY7Z7YIHg5R8"
   },
   "execution_count": null,
   "outputs": []
  },
  {
   "cell_type": "code",
   "source": [
    "df.head(2)"
   ],
   "metadata": {
    "colab": {
     "base_uri": "https://localhost:8080/",
     "height": 112
    },
    "outputId": "cdbff437-dc06-4575-f2da-011c3b69b3b5",
    "id": "fwLCyuyifojJ"
   },
   "execution_count": null,
   "outputs": []
  },
  {
   "cell_type": "code",
   "metadata": {
    "id": "Vn6yVWUhfojL"
   },
   "source": [
    "x2 = df.iloc[:,1:2].values\n",
    "x2"
   ],
   "execution_count": null,
   "outputs": []
  },
  {
   "cell_type": "code",
   "metadata": {
    "id": "Mo5qURSWfojM"
   },
   "source": [
    "y = df.iloc[:, 3].values\n",
    "y"
   ],
   "execution_count": null,
   "outputs": []
  },
  {
   "cell_type": "code",
   "metadata": {
    "id": "MeznMmquUZk9"
   },
   "source": [
    "# Criação do modelo\n",
    "regressao = smf.ols('y ~ x2', data = df).fit()"
   ],
   "execution_count": null,
   "outputs": []
  },
  {
   "cell_type": "code",
   "metadata": {
    "id": "9xsQx4tSJ4qs"
   },
   "source": [
    "residuos = regressao.resid\n",
    "residuos"
   ],
   "execution_count": null,
   "outputs": []
  },
  {
   "cell_type": "markdown",
   "metadata": {
    "id": "eAHuUe4jbiP7"
   },
   "source": [
    "#### Teste de Normalidade dos resíduos"
   ]
  },
  {
   "cell_type": "markdown",
   "metadata": {
    "id": "Kwk129HhZNtv"
   },
   "source": [
    "Ho = distribuição normal : p > 0.05\n",
    "\n",
    "Ha = distribuição != normal : p <= 0.05"
   ]
  },
  {
   "cell_type": "code",
   "metadata": {
    "id": "krlGYS1ZbdqO",
    "colab": {
     "base_uri": "https://localhost:8080/"
    },
    "outputId": "848e3393-07ff-4669-f7e5-06de55bab7c8"
   },
   "source": [
    "estatistica, p = stats.shapiro(residuos)\n",
    "print('Estatística de teste: {}'.format(estatistica))\n",
    "print('p-valor: {}'.format(p))"
   ],
   "execution_count": null,
   "outputs": []
  },
  {
   "cell_type": "code",
   "source": [
    "import scipy.stats as stats"
   ],
   "metadata": {
    "id": "qEV7aokVhRTa"
   },
   "execution_count": null,
   "outputs": []
  },
  {
   "cell_type": "code",
   "metadata": {
    "id": "Kt8lZ51mcSec",
    "colab": {
     "base_uri": "https://localhost:8080/",
     "height": 295
    },
    "outputId": "01d15d7d-baf3-4434-a6d9-0759e3fd69f0"
   },
   "source": [
    "stats.probplot(residuos, dist=\"norm\", plot=plt)\n",
    "plt.title(\"Normal Q-Q plot - Resíduos\")\n",
    "plt.show()"
   ],
   "execution_count": null,
   "outputs": []
  },
  {
   "cell_type": "markdown",
   "metadata": {
    "id": "xVnnlrFqr2ws"
   },
   "source": [
    "#### Análise da Homocedasticidade dos resíduos\n",
    "(resíduos com variação constante)"
   ]
  },
  {
   "cell_type": "code",
   "metadata": {
    "id": "z8aZ9dArocJ4",
    "colab": {
     "base_uri": "https://localhost:8080/",
     "height": 279
    },
    "outputId": "baa64ba5-6fb5-4c41-bb56-5f09e9c88034"
   },
   "source": [
    "plt.scatter(y=residuos, x=regressao.predict(), color='red')\n",
    "plt.hlines(y=0, xmin=0, xmax=700000, color='orange')\n",
    "plt.ylabel('Resíduos')\n",
    "plt.xlabel('Valores Preditos')\n",
    "plt.show()"
   ],
   "execution_count": null,
   "outputs": []
  },
  {
   "cell_type": "markdown",
   "metadata": {
    "id": "9zkKh9XQcZrJ"
   },
   "source": [
    "Teste Breusch-Pagan (Homocedasticidade ou heterocedasticidade)"
   ]
  },
  {
   "cell_type": "markdown",
   "metadata": {
    "id": "74rj-ZfvcYYO"
   },
   "source": [
    "Ho = existe homocedasticidade : p > 0.05\n",
    "\n",
    "Ha = não existe homocedasticidade : p <= 0.05"
   ]
  },
  {
   "cell_type": "code",
   "metadata": {
    "id": "2RScGd9LYt83"
   },
   "source": [
    "from statsmodels.compat import lzip\n",
    "import statsmodels.stats.api as sms"
   ],
   "execution_count": null,
   "outputs": []
  },
  {
   "cell_type": "code",
   "metadata": {
    "id": "Q7dLJFtoYuHS",
    "colab": {
     "base_uri": "https://localhost:8080/"
    },
    "outputId": "35ac04dd-3f0e-44b3-83cc-7a05d5e0acbd"
   },
   "source": [
    "estatistica, p, f, fp = sms.het_breuschpagan (regressao.resid, regressao.model.exog)\n",
    "print('Estatística de teste: {}'.format(estatistica))\n",
    "print('p-valor: {}'.format(p))\n",
    "print('f-valor: {}'.format(f))\n",
    "print('f_p-valor: {}'.format(fp))"
   ],
   "execution_count": null,
   "outputs": []
  },
  {
   "cell_type": "markdown",
   "metadata": {
    "id": "SX_KI2zSgLyz"
   },
   "source": [
    "#### **Outliers nos resíduos**"
   ]
  },
  {
   "cell_type": "markdown",
   "metadata": {
    "id": "GZ6ZdkvbgghP"
   },
   "source": [
    "(Entre -3 e 3)"
   ]
  },
  {
   "cell_type": "code",
   "metadata": {
    "id": "-ngGQAjbYuSZ"
   },
   "source": [
    "outliers = regressao.outlier_test()"
   ],
   "execution_count": null,
   "outputs": []
  },
  {
   "cell_type": "code",
   "metadata": {
    "id": "CcDEfP_MdgFS",
    "colab": {
     "base_uri": "https://localhost:8080/"
    },
    "outputId": "1e0fcc86-b640-4429-978e-729161ef08d2"
   },
   "source": [
    "outliers.max()"
   ],
   "execution_count": null,
   "outputs": []
  },
  {
   "cell_type": "code",
   "metadata": {
    "id": "Vd7oXnZ8dgIm",
    "colab": {
     "base_uri": "https://localhost:8080/"
    },
    "outputId": "4428692c-b666-40e7-dd0a-49713e8a902e"
   },
   "source": [
    "outliers.min()"
   ],
   "execution_count": null,
   "outputs": []
  },
  {
   "cell_type": "markdown",
   "metadata": {
    "id": "cPABWbxog7WL"
   },
   "source": [
    "**Modelo não consistente**"
   ]
  },
  {
   "cell_type": "markdown",
   "metadata": {
    "id": "1syQSo9GnbJN"
   },
   "source": [
    "#### **Modelo de Regressão Linear**"
   ]
  },
  {
   "cell_type": "code",
   "metadata": {
    "id": "a6NEb27IdgNR",
    "colab": {
     "base_uri": "https://localhost:8080/"
    },
    "outputId": "98dd45ff-1f82-46d4-c387-da8116a523a1"
   },
   "source": [
    "print(regressao.summary())"
   ],
   "execution_count": null,
   "outputs": []
  },
  {
   "cell_type": "markdown",
   "metadata": {
    "id": "-ntti1sDhA48"
   },
   "source": [
    "Estatística t:\n",
    "\n",
    "Ho = coeficiente igual a zero : p > 0,05 (coeficiente não validado)\n",
    "\n",
    "Ha = coeficiente diferente de zero: p <= 0,05 (coeficiente validado)\n",
    "\n",
    "**R^2 ajustado = 0,578**"
   ]
  },
  {
   "cell_type": "code",
   "metadata": {
    "id": "yJxpCoC6OBiY",
    "colab": {
     "base_uri": "https://localhost:8080/"
    },
    "outputId": "19c77879-b4ac-4285-c788-8183ae475ab9"
   },
   "source": [
    "coefs = pd.DataFrame(regressao.params)\n",
    "coefs.columns = ['Coeficientes']\n",
    "print(coefs)"
   ],
   "execution_count": null,
   "outputs": []
  },
  {
   "cell_type": "markdown",
   "source": [
    "**Equação: Valor = 684138,49 - 17759.04.LSTAT**"
   ],
   "metadata": {
    "id": "8zMvIckHeOJ7"
   }
  },
  {
   "cell_type": "code",
   "metadata": {
    "colab": {
     "base_uri": "https://localhost:8080/"
    },
    "id": "oMBIK34smkWB",
    "outputId": "97ed3bff-ada1-4735-8465-cdb12ab533a0"
   },
   "source": [
    "regressao.params"
   ],
   "execution_count": null,
   "outputs": []
  },
  {
   "cell_type": "code",
   "metadata": {
    "id": "LU2iScJE-AkM",
    "colab": {
     "base_uri": "https://localhost:8080/",
     "height": 206
    },
    "outputId": "3fe3cfa1-b3df-4181-8da0-1327f3c6d3cf"
   },
   "source": [
    "df.head()"
   ],
   "execution_count": null,
   "outputs": []
  },
  {
   "cell_type": "code",
   "metadata": {
    "id": "C4bUw8iijUGO"
   },
   "source": [
    "regressao.predict()"
   ],
   "execution_count": null,
   "outputs": []
  },
  {
   "cell_type": "code",
   "metadata": {
    "id": "Jj_wMPXyR9g8",
    "colab": {
     "base_uri": "https://localhost:8080/",
     "height": 295
    },
    "outputId": "2b66d3cb-afec-4151-ccec-2a0434605db6"
   },
   "source": [
    "plt.scatter(y=df.MEDV, x=df.LSTAT, color='blue', s=30, alpha=0.9)\n",
    "X_plot = np.linspace(0, 40)\n",
    "plt.plot(X_plot, X_plot*regressao.params[1] + regressao.params[0], color='r')\n",
    "plt.title('Reta de regressão')\n",
    "plt.ylabel('Valor da Casa')\n",
    "plt.xlabel('LSTAT')\n",
    "plt.show()"
   ],
   "execution_count": null,
   "outputs": []
  },
  {
   "cell_type": "markdown",
   "source": [
    "## **REGRESSÃO LINEAR MÚLTIPLA**"
   ],
   "metadata": {
    "id": "LmzsbeX5w0lY"
   }
  },
  {
   "cell_type": "code",
   "metadata": {
    "id": "kgYpMcLwkZUE"
   },
   "source": [
    "from sklearn.linear_model import LinearRegression"
   ],
   "execution_count": null,
   "outputs": []
  },
  {
   "cell_type": "code",
   "source": [
    "df.head(2)"
   ],
   "metadata": {
    "id": "f1nrMVmEyqIC"
   },
   "execution_count": null,
   "outputs": []
  },
  {
   "cell_type": "code",
   "metadata": {
    "id": "aX8qGculivhJ"
   },
   "source": [
    "independente = df.iloc[:, 0:3].values\n",
    "independente"
   ],
   "execution_count": null,
   "outputs": []
  },
  {
   "cell_type": "code",
   "source": [
    "independente.shape"
   ],
   "metadata": {
    "id": "M7xlISgSzDMG"
   },
   "execution_count": null,
   "outputs": []
  },
  {
   "cell_type": "code",
   "metadata": {
    "id": "Qqq3fnIvjP3R"
   },
   "source": [
    "dependente = df.iloc[:, 3].values\n",
    "dependente"
   ],
   "execution_count": null,
   "outputs": []
  },
  {
   "cell_type": "code",
   "metadata": {
    "id": "a4AKtgVd9h02"
   },
   "source": [
    "from sklearn.model_selection import train_test_split\n",
    "x_treino, x_teste, y_treino, y_teste = train_test_split(independente, dependente, test_size = 0.3, random_state = 0)"
   ],
   "execution_count": null,
   "outputs": []
  },
  {
   "cell_type": "code",
   "metadata": {
    "id": "9fw4GK5g9kkj"
   },
   "source": [
    "x_treino.shape, x_teste.shape"
   ],
   "execution_count": null,
   "outputs": []
  },
  {
   "cell_type": "code",
   "metadata": {
    "id": "WUP3-e_okhcd"
   },
   "source": [
    "multipla = LinearRegression()\n",
    "multipla.fit(x_treino, y_treino)"
   ],
   "execution_count": null,
   "outputs": []
  },
  {
   "cell_type": "code",
   "metadata": {
    "id": "wTgjt31Ep3NI"
   },
   "source": [
    "multipla.intercept_"
   ],
   "execution_count": null,
   "outputs": []
  },
  {
   "cell_type": "code",
   "metadata": {
    "id": "9BgX7VTMuv1q"
   },
   "source": [
    "multipla.coef_"
   ],
   "execution_count": null,
   "outputs": []
  },
  {
   "cell_type": "code",
   "metadata": {
    "id": "8nn9ATOblAPt"
   },
   "source": [
    "print(\"Equação: Valor = {:.2f} + ({:.2f})*RM + ({:.2f})*LSTAT + ({:.2f})*PTRATIO\".format(multipla.intercept_, multipla.coef_[0], multipla.coef_[1], multipla.coef_[2]))"
   ],
   "execution_count": null,
   "outputs": []
  },
  {
   "cell_type": "code",
   "metadata": {
    "id": "4n_LXotMoJpM"
   },
   "source": [
    "# Coeficiente de Determinação\n",
    "multipla.score(x_treino, y_treino)"
   ],
   "execution_count": null,
   "outputs": []
  },
  {
   "cell_type": "markdown",
   "source": [
    "**TESTE**"
   ],
   "metadata": {
    "id": "FWKwy4jE18as"
   }
  },
  {
   "cell_type": "code",
   "source": [
    "previsoes = multipla.predict(x_teste)\n",
    "previsoes"
   ],
   "metadata": {
    "id": "vS3xum5A1-Hw"
   },
   "execution_count": null,
   "outputs": []
  },
  {
   "cell_type": "code",
   "source": [
    "y_teste"
   ],
   "metadata": {
    "id": "Ii_5SXfv2IWa"
   },
   "execution_count": null,
   "outputs": []
  },
  {
   "cell_type": "code",
   "source": [
    "# Coeficiente de Determinação\n",
    "multipla.score(x_teste, y_teste)"
   ],
   "metadata": {
    "id": "uyGfU-jg5n5A"
   },
   "execution_count": null,
   "outputs": []
  },
  {
   "cell_type": "code",
   "source": [
    "# Fazendo previsões para valores distintos\n",
    "valor_casa = multipla.predict([[6,20,12]])\n",
    "valor_casa"
   ],
   "metadata": {
    "id": "FS1Jm81s7E1t"
   },
   "execution_count": null,
   "outputs": []
  },
  {
   "cell_type": "markdown",
   "source": [
    "**MÉTRICAS**"
   ],
   "metadata": {
    "id": "sSpkaLa65QBw"
   }
  },
  {
   "cell_type": "code",
   "metadata": {
    "id": "VzYBRKey3Gx3"
   },
   "source": [
    "# Erro absoluto\n",
    "abs(y_teste - previsoes).mean()"
   ],
   "execution_count": null,
   "outputs": []
  },
  {
   "cell_type": "code",
   "metadata": {
    "id": "Xe7D9X8T3Gx4"
   },
   "source": [
    "from sklearn.metrics import mean_absolute_error, mean_squared_error"
   ],
   "execution_count": null,
   "outputs": []
  },
  {
   "cell_type": "code",
   "metadata": {
    "id": "IDgsagJZ3Gx4"
   },
   "source": [
    "# Erro médio Absoluto\n",
    "mean_absolute_error(y_teste, previsoes)"
   ],
   "execution_count": null,
   "outputs": []
  },
  {
   "cell_type": "code",
   "metadata": {
    "id": "9Ji4rWpd3Gx5"
   },
   "source": [
    "# Erro quadrático médio\n",
    "mean_squared_error(y_teste, previsoes)"
   ],
   "execution_count": null,
   "outputs": []
  },
  {
   "cell_type": "code",
   "metadata": {
    "id": "T28f1ngx3Gx5"
   },
   "source": [
    "# Raiz do erro quadrático médio\n",
    "np.sqrt(mean_squared_error(y_teste, previsoes))"
   ],
   "execution_count": null,
   "outputs": []
  },
  {
   "cell_type": "markdown",
   "source": [
    "### **Validação Cruzada**"
   ],
   "metadata": {
    "id": "gGC6-Oz98SHi"
   }
  },
  {
   "cell_type": "code",
   "source": [
    "from sklearn.model_selection import KFold\n",
    "from sklearn.model_selection import cross_val_score"
   ],
   "metadata": {
    "id": "a-BNcrFK8SHj"
   },
   "execution_count": null,
   "outputs": []
  },
  {
   "cell_type": "code",
   "source": [
    "# Separando os dados em folds\n",
    "kfold = KFold(n_splits = 15, shuffle=True, random_state = 5)"
   ],
   "metadata": {
    "id": "ajx802o98SHk"
   },
   "execution_count": null,
   "outputs": []
  },
  {
   "cell_type": "code",
   "source": [
    "# Criando o modelo\n",
    "from sklearn.linear_model import LinearRegression\n",
    "modelo = LinearRegression()\n",
    "resultado = cross_val_score(modelo, independente, dependente, cv = kfold)\n",
    "resultado"
   ],
   "metadata": {
    "id": "pHsOTmgU8SHl"
   },
   "execution_count": null,
   "outputs": []
  },
  {
   "cell_type": "code",
   "source": [
    "# Usamos a média e o desvio padrão\n",
    "print(\"Coeficiente de Determinação Médio: %.2f%%\" % (resultado.mean() * 100.0))"
   ],
   "metadata": {
    "id": "RdlkoLV38SHl"
   },
   "execution_count": null,
   "outputs": []
  },
  {
   "cell_type": "markdown",
   "source": [
    "**REGRESSÃO LINEAR SIMPLES:** R^2 = 0,57/0,60; RMSE = 99315,5; R^2 Validação Cruzada: 55,97%\n",
    "\n",
    "**REGRESSÃO LINEAR MÚLTIPLA:** R^2 = 0,73/0,68; RMSE = 96087,3; R^2 Validação Cruzada: 69,25%"
   ],
   "metadata": {
    "id": "WTK4cOLq93Uh"
   }
  },
  {
   "cell_type": "markdown",
   "source": [
    "### **Avaliando a Regressão Linear Múltipla com Statsmodels**"
   ],
   "metadata": {
    "id": "PCqEHnjrbVXe"
   }
  },
  {
   "cell_type": "code",
   "metadata": {
    "id": "33t6bYgdy7LC"
   },
   "source": [
    "import statsmodels.formula.api as smf\n",
    "import statsmodels.stats.api as sms"
   ],
   "execution_count": null,
   "outputs": []
  },
  {
   "cell_type": "code",
   "source": [
    "df.head()"
   ],
   "metadata": {
    "id": "ppyC-CsCcGu7",
    "colab": {
     "base_uri": "https://localhost:8080/",
     "height": 206
    },
    "outputId": "dd541eb6-1496-4182-e43a-a15d69ad9930"
   },
   "execution_count": null,
   "outputs": []
  },
  {
   "cell_type": "code",
   "metadata": {
    "id": "LRJ3RZsQy-2y"
   },
   "source": [
    "# Criação do modelo\n",
    "modelo = smf.ols('MEDV ~ RM + LSTAT + PTRATIO', data = df).fit()"
   ],
   "execution_count": null,
   "outputs": []
  },
  {
   "cell_type": "code",
   "metadata": {
    "id": "0_4XijxizPdh",
    "colab": {
     "base_uri": "https://localhost:8080/"
    },
    "outputId": "3b808075-31cb-4300-cd0e-eb5179ff86cb"
   },
   "source": [
    "residuos = modelo.resid\n",
    "residuos"
   ],
   "execution_count": null,
   "outputs": []
  },
  {
   "cell_type": "markdown",
   "metadata": {
    "id": "3foWvm3_b9xd"
   },
   "source": [
    "#### Teste de Normalidade dos resíduos"
   ]
  },
  {
   "cell_type": "code",
   "metadata": {
    "id": "lxEZMdHX0Y9Y"
   },
   "source": [
    "import scipy.stats as stats"
   ],
   "execution_count": null,
   "outputs": []
  },
  {
   "cell_type": "markdown",
   "metadata": {
    "id": "KMt9Rnuqb9xe"
   },
   "source": [
    "Ho = distribuição normal : p > 0.05\n",
    "\n",
    "Ha = distribuição != normal : p <= 0.05"
   ]
  },
  {
   "cell_type": "code",
   "metadata": {
    "id": "k_HEWSq6b9xf",
    "colab": {
     "base_uri": "https://localhost:8080/"
    },
    "outputId": "7ec9b78c-c66e-4257-9e4a-e2573534d0df"
   },
   "source": [
    "estatistica, p = stats.shapiro(residuos)\n",
    "print('Estatística de teste: {}'.format(estatistica))\n",
    "print('p-valor: {}'.format(p))"
   ],
   "execution_count": null,
   "outputs": []
  },
  {
   "cell_type": "code",
   "metadata": {
    "id": "U56YLUoi0kSu"
   },
   "source": [
    "import matplotlib.pyplot as plt"
   ],
   "execution_count": null,
   "outputs": []
  },
  {
   "cell_type": "code",
   "metadata": {
    "id": "-WTK7O-Sb9xg",
    "colab": {
     "base_uri": "https://localhost:8080/",
     "height": 295
    },
    "outputId": "dae875b8-f2fd-4c4c-9fae-065a8ac8474c"
   },
   "source": [
    "stats.probplot(residuos, dist=\"norm\", plot=plt)\n",
    "plt.title(\"Normal Q-Q plot - Resíduos\")\n",
    "plt.show()"
   ],
   "execution_count": null,
   "outputs": []
  },
  {
   "cell_type": "markdown",
   "metadata": {
    "id": "ayUUsJ2ub9xh"
   },
   "source": [
    "#### Análise da Homocedasticidade dos resíduos\n",
    "(resíduos com variação constante)"
   ]
  },
  {
   "cell_type": "code",
   "metadata": {
    "id": "f0XJ3L0kb9xi",
    "colab": {
     "base_uri": "https://localhost:8080/",
     "height": 279
    },
    "outputId": "c644dcd1-1817-4c76-a4c4-0038a41b2b65"
   },
   "source": [
    "plt.scatter(y=residuos, x=modelo.predict(), color='red')\n",
    "plt.hlines(y=0, xmin=0, xmax=900000, color='orange')\n",
    "plt.ylabel('Resíduos')\n",
    "plt.xlabel('Valores Preditos')\n",
    "plt.show()"
   ],
   "execution_count": null,
   "outputs": []
  },
  {
   "cell_type": "markdown",
   "metadata": {
    "id": "q6zC0JTCb9xi"
   },
   "source": [
    "Teste Breusch-Pagan (Homocedasticidade ou heterocedasticidade)"
   ]
  },
  {
   "cell_type": "markdown",
   "metadata": {
    "id": "3D1DR96wb9xj"
   },
   "source": [
    "Ho = existe homocedasticidade : p > 0.05\n",
    "\n",
    "Ha = não existe homocedasticidade : p <= 0.05"
   ]
  },
  {
   "cell_type": "code",
   "metadata": {
    "id": "ks0IfIFhb9xj"
   },
   "source": [
    "from statsmodels.compat import lzip"
   ],
   "execution_count": null,
   "outputs": []
  },
  {
   "cell_type": "code",
   "metadata": {
    "id": "6Gfqghirb9xk",
    "colab": {
     "base_uri": "https://localhost:8080/"
    },
    "outputId": "04866d17-493e-414e-cabe-107c0030ff68"
   },
   "source": [
    "estatistica, p, f, fp = sms.het_breuschpagan (modelo.resid, modelo.model.exog)\n",
    "print('Estatística de teste: {}'.format(estatistica))\n",
    "print('p-valor: {}'.format(p))\n",
    "print('f-valor: {}'.format(f))\n",
    "print('f_p-valor: {}'.format(fp))"
   ],
   "execution_count": null,
   "outputs": []
  },
  {
   "cell_type": "markdown",
   "metadata": {
    "id": "us2buFSqdCyP"
   },
   "source": [
    "#### **Outliers nos resíduos**"
   ]
  },
  {
   "cell_type": "markdown",
   "metadata": {
    "id": "MllW6T7tdCyQ"
   },
   "source": [
    "(Entre -3 e 3)"
   ]
  },
  {
   "cell_type": "code",
   "metadata": {
    "id": "aOZDERDWdCyQ"
   },
   "source": [
    "outliers = modelo.outlier_test()"
   ],
   "execution_count": null,
   "outputs": []
  },
  {
   "cell_type": "code",
   "metadata": {
    "id": "mDlWpym9dCyQ",
    "colab": {
     "base_uri": "https://localhost:8080/"
    },
    "outputId": "34e5eaff-bce2-4576-dde3-e584fa8c42f8"
   },
   "source": [
    "outliers.max()"
   ],
   "execution_count": null,
   "outputs": []
  },
  {
   "cell_type": "code",
   "metadata": {
    "id": "ffcnOdD1dCyR",
    "colab": {
     "base_uri": "https://localhost:8080/"
    },
    "outputId": "c9ac3ff4-682b-4793-ed26-ceb676a8e5d6"
   },
   "source": [
    "outliers.min()"
   ],
   "execution_count": null,
   "outputs": []
  },
  {
   "cell_type": "markdown",
   "metadata": {
    "id": "OFTGh67R6Xiv"
   },
   "source": [
    "#### **Ausência de Multicolinearidade**"
   ]
  },
  {
   "cell_type": "markdown",
   "metadata": {
    "id": "SUI8Dj6A6wCr"
   },
   "source": [
    "Somente entre as variáveis independentes.\n",
    "\n",
    "Considerada multicolinearidade quando r > 0.9."
   ]
  },
  {
   "cell_type": "code",
   "metadata": {
    "id": "LVxFkYw-6W5E"
   },
   "source": [
    "variaveis = df[['RM','LSTAT','PTRATIO']]"
   ],
   "execution_count": null,
   "outputs": []
  },
  {
   "cell_type": "code",
   "metadata": {
    "id": "9cgwDxfl9Q-r",
    "colab": {
     "base_uri": "https://localhost:8080/",
     "height": 206
    },
    "outputId": "dd261050-6a63-45d2-d6ac-7583f895110f"
   },
   "source": [
    "variaveis.head()"
   ],
   "execution_count": null,
   "outputs": []
  },
  {
   "cell_type": "code",
   "metadata": {
    "id": "ox1XAWbp7mcD",
    "colab": {
     "base_uri": "https://localhost:8080/",
     "height": 143
    },
    "outputId": "4a3781ee-89b7-4c4f-adb1-a84ef99a49e4"
   },
   "source": [
    "correlacoes = variaveis.corr(method='pearson')\n",
    "correlacoes"
   ],
   "execution_count": null,
   "outputs": []
  },
  {
   "cell_type": "markdown",
   "metadata": {
    "id": "BmNV4E9bRkrA"
   },
   "source": [
    "#### **Análise do Modelo**"
   ]
  },
  {
   "cell_type": "markdown",
   "metadata": {
    "id": "sQiLvdd-IF64"
   },
   "source": [
    "Intercept\n",
    "\n",
    "p_valor para cada coeficiente < 0,05 (estatisticamente significativos).\n",
    "\n",
    "Adjusted R-squared (explicação do modelo através dos dados).\n",
    "\n",
    "p_valor da estatística F < 0.05 (valida o modelo de regressão)."
   ]
  },
  {
   "cell_type": "code",
   "metadata": {
    "id": "UlG8rURSIXlr",
    "colab": {
     "base_uri": "https://localhost:8080/"
    },
    "outputId": "3e55af1b-5139-4bd2-896c-c38a365733c0"
   },
   "source": [
    "print(modelo.summary())"
   ],
   "execution_count": null,
   "outputs": []
  },
  {
   "cell_type": "markdown",
   "metadata": {
    "id": "vntw35adIwwO"
   },
   "source": [
    "**Equação:** Valor da casa = 4.155e+05 + 8.657e+04.RM - 1.085e+04.LSTAT - 1.949e+04.PTRATIO"
   ]
  },
  {
   "cell_type": "code",
   "metadata": {
    "id": "KVp90LWAIvZ-"
   },
   "source": [
    "# Criando uma coluna com previsão\n",
    "df['previsao'] = modelo.fittedvalues"
   ],
   "execution_count": null,
   "outputs": []
  },
  {
   "cell_type": "code",
   "metadata": {
    "id": "-zeVuxu-KGwN",
    "colab": {
     "base_uri": "https://localhost:8080/",
     "height": 206
    },
    "outputId": "d22394b4-eb17-4d65-b9ae-3a498c80255a"
   },
   "source": [
    "df.head()"
   ],
   "execution_count": null,
   "outputs": []
  },
  {
   "cell_type": "code",
   "metadata": {
    "id": "bkZAIUvOAQnD"
   },
   "source": [
    "import seaborn as sns"
   ],
   "execution_count": null,
   "outputs": []
  },
  {
   "cell_type": "code",
   "metadata": {
    "id": "0o4fnUEkAwsM",
    "colab": {
     "base_uri": "https://localhost:8080/",
     "height": 369
    },
    "outputId": "a30683e2-9427-47ee-be7f-7728e00f6951"
   },
   "source": [
    "sns.lmplot(x='previsao', y='MEDV', data=df);"
   ],
   "execution_count": null,
   "outputs": []
  },
  {
   "cell_type": "markdown",
   "source": [
    "## **REGRESSÃO POLINOMIAL**"
   ],
   "metadata": {
    "id": "l74FqlotBUSo"
   }
  },
  {
   "cell_type": "markdown",
   "source": [
    "https://scikit-learn.org/stable/modules/generated/sklearn.preprocessing.PolynomialFeatures.html "
   ],
   "metadata": {
    "id": "rxl3wSbjQzmC"
   }
  },
  {
   "cell_type": "markdown",
   "source": [
    "Valor médio (MEDV) em função do número de cômodos (RM)"
   ],
   "metadata": {
    "id": "s6Xb-47Gy2Zu"
   }
  },
  {
   "cell_type": "code",
   "source": [
    "df.head(2)"
   ],
   "metadata": {
    "id": "iW4QWMUdy2Zw"
   },
   "execution_count": null,
   "outputs": []
  },
  {
   "cell_type": "code",
   "metadata": {
    "id": "iHwBH87Qy2Zx"
   },
   "source": [
    "x1 = df.iloc[:,0:1].values\n",
    "x1"
   ],
   "execution_count": null,
   "outputs": []
  },
  {
   "cell_type": "code",
   "metadata": {
    "id": "YcPCZ7B2y2Zx"
   },
   "source": [
    "y = df.iloc[:, 3].values\n",
    "y"
   ],
   "execution_count": null,
   "outputs": []
  },
  {
   "cell_type": "code",
   "metadata": {
    "id": "kN8BGPNuy2Zy"
   },
   "source": [
    "from sklearn.model_selection import train_test_split\n",
    "x_treino, x_teste, y_treino, y_teste = train_test_split(x1, y, test_size = 0.3, random_state = 0)"
   ],
   "execution_count": null,
   "outputs": []
  },
  {
   "cell_type": "code",
   "metadata": {
    "id": "LnZefisMy2Zz"
   },
   "source": [
    "x_treino.shape, y_treino.shape"
   ],
   "execution_count": null,
   "outputs": []
  },
  {
   "cell_type": "code",
   "metadata": {
    "id": "4HZbiotXy2Zz"
   },
   "source": [
    "x_teste.shape, y_teste.shape"
   ],
   "execution_count": null,
   "outputs": []
  },
  {
   "cell_type": "code",
   "source": [
    "from sklearn.preprocessing import PolynomialFeatures\n",
    "from sklearn.linear_model import LinearRegression"
   ],
   "metadata": {
    "id": "fYmNDUC70sS-"
   },
   "execution_count": null,
   "outputs": []
  },
  {
   "cell_type": "code",
   "source": [
    "# Pré Processamento\n",
    "grau_polinomial =PolynomialFeatures(degree=2)"
   ],
   "metadata": {
    "id": "cJ40XdDp0wa9"
   },
   "execution_count": null,
   "outputs": []
  },
  {
   "cell_type": "code",
   "source": [
    "x_poly = grau_polinomial.fit_transform(x_treino)\n",
    "x_poly"
   ],
   "metadata": {
    "id": "eaKDcBBa09t8"
   },
   "execution_count": null,
   "outputs": []
  },
  {
   "cell_type": "code",
   "source": [
    "polinomial = LinearRegression()"
   ],
   "metadata": {
    "id": "c92sBlGh14g8"
   },
   "execution_count": null,
   "outputs": []
  },
  {
   "cell_type": "code",
   "source": [
    "polinomial.fit(x_poly, y_treino)"
   ],
   "metadata": {
    "id": "rmcVhyf62D2Z"
   },
   "execution_count": null,
   "outputs": []
  },
  {
   "cell_type": "code",
   "source": [
    "previsoes_treino = polinomial.predict(x_poly)"
   ],
   "metadata": {
    "id": "6LdCO7pn21oL"
   },
   "execution_count": null,
   "outputs": []
  },
  {
   "cell_type": "code",
   "source": [
    "polinomial.coef_"
   ],
   "metadata": {
    "id": "sxO5u0kuBmZZ"
   },
   "execution_count": null,
   "outputs": []
  },
  {
   "cell_type": "code",
   "source": [
    "polinomial.intercept_"
   ],
   "metadata": {
    "id": "45PxFqQJBvJ-"
   },
   "execution_count": null,
   "outputs": []
  },
  {
   "cell_type": "markdown",
   "source": [
    "**Equação:**\n",
    "\n",
    "Valor = 1640107 - 568528.11*RM + 60092.59*RM^2"
   ],
   "metadata": {
    "id": "gip9Am_QCO5m"
   }
  },
  {
   "cell_type": "code",
   "source": [
    "numeros = np.linspace(3,9.84,342)\n",
    "numeros"
   ],
   "metadata": {
    "id": "90-1bKy_ErzH"
   },
   "execution_count": null,
   "outputs": []
  },
  {
   "cell_type": "code",
   "source": [
    "numeros.shape"
   ],
   "metadata": {
    "id": "xSHziSI6Ibdw"
   },
   "execution_count": null,
   "outputs": []
  },
  {
   "cell_type": "code",
   "source": [
    "valor = 1640107 -568528.11*numeros + 60092.59*numeros**2"
   ],
   "metadata": {
    "id": "1z_fEA9NCMFu"
   },
   "execution_count": null,
   "outputs": []
  },
  {
   "cell_type": "code",
   "source": [
    "import matplotlib.pyplot as plt"
   ],
   "metadata": {
    "id": "bHC7KVx8BCrF"
   },
   "execution_count": null,
   "outputs": []
  },
  {
   "cell_type": "code",
   "source": [
    "plt.scatter(x_treino, y_treino, c = \"gray\")\n",
    "plt.xlabel(\"Quantidade Cômodos\")\n",
    "plt.ylabel(\"Valores das Casas\")\n",
    "plt.title(\"Previsão dos valores das casas: dados de treino\")\n",
    "plt.plot(numeros, valor);"
   ],
   "metadata": {
    "id": "73IUpLI63J37"
   },
   "execution_count": null,
   "outputs": []
  },
  {
   "cell_type": "code",
   "source": [
    "# Fazendo previsões para valores distintos\n",
    "comodos = 6\n",
    "valor = 1640107 -568528.11*comodos + 60092.59*comodos**2\n",
    "valor"
   ],
   "metadata": {
    "id": "nqXZAgSpM5TL"
   },
   "execution_count": null,
   "outputs": []
  },
  {
   "cell_type": "code",
   "source": [
    "# Coeficiente de Determinação dados de treino\n",
    "polinomial.score(x_poly, y_treino)"
   ],
   "metadata": {
    "id": "WrsObUUUQse7"
   },
   "execution_count": null,
   "outputs": []
  },
  {
   "cell_type": "markdown",
   "source": [
    "**TESTE**"
   ],
   "metadata": {
    "id": "YQM-rjYiKIx3"
   }
  },
  {
   "cell_type": "code",
   "source": [
    "numeros2 = np.linspace(3,8.88,147)\n",
    "numeros2"
   ],
   "metadata": {
    "id": "b26kMsIcKRfc"
   },
   "execution_count": null,
   "outputs": []
  },
  {
   "cell_type": "code",
   "source": [
    "numeros2.shape"
   ],
   "metadata": {
    "id": "QwIONvPaKRfd"
   },
   "execution_count": null,
   "outputs": []
  },
  {
   "cell_type": "code",
   "source": [
    "valor2 = 1640107 -568528.11*numeros2 + 60092.59*numeros2**2"
   ],
   "metadata": {
    "id": "Jl8S1QHnKRfd"
   },
   "execution_count": null,
   "outputs": []
  },
  {
   "cell_type": "code",
   "source": [
    "import matplotlib.pyplot as plt"
   ],
   "metadata": {
    "id": "CwfK-zZLKRfe"
   },
   "execution_count": null,
   "outputs": []
  },
  {
   "cell_type": "code",
   "source": [
    "plt.scatter(x_teste, y_teste, c = \"gray\")\n",
    "plt.xlabel(\"Quantidade Cômodos\")\n",
    "plt.ylabel(\"Valor Casas\")\n",
    "plt.title(\"Previsão dos valores das casas: dados de teste\")\n",
    "plt.plot(numeros2, valor2);"
   ],
   "metadata": {
    "id": "dtf0r1GcKRfe"
   },
   "execution_count": null,
   "outputs": []
  },
  {
   "cell_type": "code",
   "source": [
    "x_poly_teste = grau_polinomial.fit_transform(x_teste)\n",
    "x_poly_teste"
   ],
   "metadata": {
    "id": "hoH-9JjWKdAe"
   },
   "execution_count": null,
   "outputs": []
  },
  {
   "cell_type": "code",
   "source": [
    "polinomial_teste = LinearRegression()"
   ],
   "metadata": {
    "id": "NJv-sQdBKdAf"
   },
   "execution_count": null,
   "outputs": []
  },
  {
   "cell_type": "code",
   "source": [
    "polinomial_teste.fit(x_poly_teste, y_teste)"
   ],
   "metadata": {
    "id": "mb-o1YtPKRfZ"
   },
   "execution_count": null,
   "outputs": []
  },
  {
   "cell_type": "code",
   "source": [
    "# Coeficiente de Determinação dados de teste\n",
    "polinomial.score(x_poly_teste, y_teste)"
   ],
   "metadata": {
    "id": "N4VHnrmARbfA"
   },
   "execution_count": null,
   "outputs": []
  },
  {
   "cell_type": "code",
   "source": [
    "previsoes_teste = polinomial_teste.predict(x_poly_teste)"
   ],
   "metadata": {
    "id": "8PngvKX2KRfa"
   },
   "execution_count": null,
   "outputs": []
  },
  {
   "cell_type": "markdown",
   "source": [
    "**MÉTRICAS**"
   ],
   "metadata": {
    "id": "bLfbXwUV2tZJ"
   }
  },
  {
   "cell_type": "code",
   "metadata": {
    "id": "PnDu4Kht7qFI"
   },
   "source": [
    "from sklearn.metrics import mean_absolute_error, mean_squared_error"
   ],
   "execution_count": null,
   "outputs": []
  },
  {
   "cell_type": "code",
   "metadata": {
    "id": "1aC34FoV7qFJ"
   },
   "source": [
    "# Erro médio Absoluto\n",
    "mean_absolute_error(y_teste, previsoes_teste)"
   ],
   "execution_count": null,
   "outputs": []
  },
  {
   "cell_type": "code",
   "metadata": {
    "id": "O-Q6xhUc7qFJ"
   },
   "source": [
    "# Erro quadrático médio\n",
    "mean_squared_error(y_teste, previsoes_teste)"
   ],
   "execution_count": null,
   "outputs": []
  },
  {
   "cell_type": "code",
   "metadata": {
    "id": "bRpWUvWg7qFK"
   },
   "source": [
    "# Raiz do erro quadrático médio (RMSE)\n",
    "np.sqrt(mean_squared_error(y_teste, previsoes_teste))"
   ],
   "execution_count": null,
   "outputs": []
  },
  {
   "cell_type": "markdown",
   "source": [
    "**RESULTADOS:**\n",
    "\n",
    "**REGRESSÃO LINEAR SIMPLES:** R^2 = 0,57/0,60; RMSE = 99315,5; R^2 Validação Cruzada: 55,97%\n",
    "\n",
    "**REGRESSÃO LINEAR MÚLTIPLA:** R^2 = 0,73/0,68; RMSE = 96087,3; R^2 Validação Cruzada: 69,25%\n",
    "\n",
    "**REGRESSÃO POLINOMIAL:** R^2 = 0,59/0,54; RMSE = 114670,6."
   ],
   "metadata": {
    "id": "N2mEiK4bR-5v"
   }
  },
  {
   "cell_type": "markdown",
   "source": [
    "## **REGRESSÃO POR VETORES DE SUPORTE**"
   ],
   "metadata": {
    "id": "WX2KnLCzsq7u"
   }
  },
  {
   "cell_type": "markdown",
   "source": [
    "https://scikit-learn.org/stable/modules/generated/sklearn.svm.SVR.html "
   ],
   "metadata": {
    "id": "X5x2joIiP457"
   }
  },
  {
   "cell_type": "code",
   "source": [
    "df.head(2)"
   ],
   "metadata": {
    "id": "YUF38EvVtCOS"
   },
   "execution_count": null,
   "outputs": []
  },
  {
   "cell_type": "code",
   "metadata": {
    "id": "m1BCYoD6udBc"
   },
   "source": [
    "independente = df.iloc[:, 0:3].values\n",
    "independente"
   ],
   "execution_count": null,
   "outputs": []
  },
  {
   "cell_type": "code",
   "source": [
    "independente.shape"
   ],
   "metadata": {
    "id": "UrL64jazudBe"
   },
   "execution_count": null,
   "outputs": []
  },
  {
   "cell_type": "code",
   "metadata": {
    "id": "BZsXvQGQudBf"
   },
   "source": [
    "dependente = df.iloc[:, 3].values\n",
    "dependente"
   ],
   "execution_count": null,
   "outputs": []
  },
  {
   "cell_type": "code",
   "metadata": {
    "id": "pJmPpACbudBf"
   },
   "source": [
    "from sklearn.model_selection import train_test_split\n",
    "x_treino, x_teste, y_treino, y_teste = train_test_split(independente, dependente, test_size = 0.3, random_state = 0)"
   ],
   "execution_count": null,
   "outputs": []
  },
  {
   "cell_type": "code",
   "metadata": {
    "id": "qEOTgfCnudBg"
   },
   "source": [
    "x_treino.shape, x_teste.shape"
   ],
   "execution_count": null,
   "outputs": []
  },
  {
   "cell_type": "code",
   "metadata": {
    "id": "ZmVCGt-BtGVO"
   },
   "source": [
    "# kernel = rbf, linear, polinomial (poly)\n",
    "from sklearn.svm import SVR\n",
    "SVR = SVR(kernel='rbf')\n",
    "SVR.fit(x_treino,y_treino)"
   ],
   "execution_count": null,
   "outputs": []
  },
  {
   "cell_type": "code",
   "metadata": {
    "id": "809lWfiEuMiV"
   },
   "source": [
    "SVR.score(x_treino, y_treino)"
   ],
   "execution_count": null,
   "outputs": []
  },
  {
   "cell_type": "code",
   "metadata": {
    "id": "ZCcstZ8uuUq8"
   },
   "source": [
    "SVR.score(x_teste, y_teste)"
   ],
   "execution_count": null,
   "outputs": []
  },
  {
   "cell_type": "markdown",
   "source": [
    "**Padronização de escala**"
   ],
   "metadata": {
    "id": "i0tdnZNhxRDj"
   }
  },
  {
   "cell_type": "code",
   "source": [
    "from sklearn.preprocessing import StandardScaler\n",
    "x_scaler = StandardScaler()\n",
    "x_treino_scaler = x_scaler.fit_transform(x_treino)"
   ],
   "metadata": {
    "id": "vIgPmXt8xRtk"
   },
   "execution_count": null,
   "outputs": []
  },
  {
   "cell_type": "code",
   "source": [
    "x_treino_scaler"
   ],
   "metadata": {
    "id": "fc4OD6JdyVks"
   },
   "execution_count": null,
   "outputs": []
  },
  {
   "cell_type": "code",
   "source": [
    "y_scaler = StandardScaler()\n",
    "y_treino_scaler = y_scaler.fit_transform(y_treino.reshape(-1,1))"
   ],
   "metadata": {
    "id": "wyKhCzqexRy0"
   },
   "execution_count": null,
   "outputs": []
  },
  {
   "cell_type": "code",
   "source": [
    "y_treino_scaler"
   ],
   "metadata": {
    "id": "uyOhdquuyb2D"
   },
   "execution_count": null,
   "outputs": []
  },
  {
   "cell_type": "code",
   "source": [
    "x_teste_scaler = x_scaler.transform(x_teste)\n",
    "x_teste_scaler"
   ],
   "metadata": {
    "id": "IsHYG6i7ygdg"
   },
   "execution_count": null,
   "outputs": []
  },
  {
   "cell_type": "code",
   "source": [
    "y_teste_scaler = y_scaler.transform(y_teste.reshape(-1,1))\n",
    "y_teste_scaler"
   ],
   "metadata": {
    "id": "P5QgpoYoy_Vq"
   },
   "execution_count": null,
   "outputs": []
  },
  {
   "cell_type": "code",
   "source": [
    "from sklearn.svm import SVR\n",
    "SVR2 = SVR(kernel='rbf')\n",
    "SVR2.fit(x_treino_scaler, y_treino_scaler.ravel())\n",
    "\n",
    "# .ravel() é para retornar matriz 1D"
   ],
   "metadata": {
    "id": "oyhO5h_8zZVJ"
   },
   "execution_count": null,
   "outputs": []
  },
  {
   "cell_type": "code",
   "source": [
    "SVR2.score(x_treino_scaler, y_treino_scaler)"
   ],
   "metadata": {
    "id": "-CfJcin_z0ZS"
   },
   "execution_count": null,
   "outputs": []
  },
  {
   "cell_type": "markdown",
   "source": [
    "**TESTE**"
   ],
   "metadata": {
    "id": "6fHv3HCV0c4U"
   }
  },
  {
   "cell_type": "code",
   "source": [
    "SVR2.score(x_teste_scaler, y_teste_scaler)"
   ],
   "metadata": {
    "id": "UkLzgWpV0cDv"
   },
   "execution_count": null,
   "outputs": []
  },
  {
   "cell_type": "code",
   "source": [
    "previsoes_teste = SVR2.predict(x_teste_scaler)\n",
    "previsoes_teste"
   ],
   "metadata": {
    "id": "tIHtC0NF038o"
   },
   "execution_count": null,
   "outputs": []
  },
  {
   "cell_type": "code",
   "source": [
    "y_teste_scaler"
   ],
   "metadata": {
    "id": "he5RYWCs1Cvl"
   },
   "execution_count": null,
   "outputs": []
  },
  {
   "cell_type": "markdown",
   "source": [
    "**Revertendo a transformação**"
   ],
   "metadata": {
    "id": "qXiWO2g21N4C"
   }
  },
  {
   "cell_type": "code",
   "source": [
    "y_teste_inverse = y_scaler.inverse_transform(y_teste_scaler)\n",
    "previsoes_inverse = y_scaler.inverse_transform(previsoes_teste.reshape(-1, 1))"
   ],
   "metadata": {
    "id": "YxYKJhda1QOQ"
   },
   "execution_count": null,
   "outputs": []
  },
  {
   "cell_type": "code",
   "source": [
    "y_teste_inverse"
   ],
   "metadata": {
    "id": "h5UWcx7U2O4R"
   },
   "execution_count": null,
   "outputs": []
  },
  {
   "cell_type": "code",
   "source": [
    "previsoes_inverse"
   ],
   "metadata": {
    "id": "gzk4dY8b2RaH"
   },
   "execution_count": null,
   "outputs": []
  },
  {
   "cell_type": "markdown",
   "source": [
    "**MÉTRICAS**"
   ],
   "metadata": {
    "id": "LIuZtYzy244V"
   }
  },
  {
   "cell_type": "code",
   "metadata": {
    "id": "xQObOvjP244W"
   },
   "source": [
    "from sklearn.metrics import mean_absolute_error, mean_squared_error"
   ],
   "execution_count": null,
   "outputs": []
  },
  {
   "cell_type": "code",
   "metadata": {
    "id": "4_JGDXQ_244X"
   },
   "source": [
    "# Erro médio Absoluto\n",
    "mean_absolute_error(y_teste_inverse, previsoes_inverse)"
   ],
   "execution_count": null,
   "outputs": []
  },
  {
   "cell_type": "code",
   "metadata": {
    "id": "FGawDh_o244Y"
   },
   "source": [
    "# Erro quadrático médio\n",
    "mean_squared_error(y_teste_inverse, previsoes_inverse)"
   ],
   "execution_count": null,
   "outputs": []
  },
  {
   "cell_type": "code",
   "metadata": {
    "id": "5EwUUep7244Z"
   },
   "source": [
    "# Raiz do erro quadrático médio (RMSE)\n",
    "np.sqrt(mean_squared_error(y_teste_inverse, previsoes_inverse))"
   ],
   "execution_count": null,
   "outputs": []
  },
  {
   "cell_type": "markdown",
   "source": [
    "### **Validação Cruzada**"
   ],
   "metadata": {
    "id": "rHDzUmOb35hE"
   }
  },
  {
   "cell_type": "markdown",
   "source": [
    "**Padronização de escala**"
   ],
   "metadata": {
    "id": "ebxViZwY3_mH"
   }
  },
  {
   "cell_type": "code",
   "source": [
    "from sklearn.preprocessing import StandardScaler\n",
    "x = StandardScaler()\n",
    "independente_scaler = x.fit_transform(independente)"
   ],
   "metadata": {
    "id": "AIAuGipc3_mI"
   },
   "execution_count": null,
   "outputs": []
  },
  {
   "cell_type": "code",
   "source": [
    "independente_scaler"
   ],
   "metadata": {
    "id": "RO4FhcYt3_mI"
   },
   "execution_count": null,
   "outputs": []
  },
  {
   "cell_type": "code",
   "source": [
    "y = StandardScaler()\n",
    "dependente_scaler = y.fit_transform(dependente.reshape(-1,1))"
   ],
   "metadata": {
    "id": "y5khxbi53_mJ"
   },
   "execution_count": null,
   "outputs": []
  },
  {
   "cell_type": "code",
   "source": [
    "from sklearn.model_selection import KFold\n",
    "from sklearn.model_selection import cross_val_score"
   ],
   "metadata": {
    "id": "VFsyFWtC3gLe"
   },
   "execution_count": null,
   "outputs": []
  },
  {
   "cell_type": "code",
   "source": [
    "# Separando os dados em folds\n",
    "kfold = KFold(n_splits = 15, shuffle=True, random_state = 5)"
   ],
   "metadata": {
    "id": "AwKcmfAS3gLg"
   },
   "execution_count": null,
   "outputs": []
  },
  {
   "cell_type": "code",
   "source": [
    "# Criando o modelo\n",
    "from sklearn.svm import SVR\n",
    "modelo = SVR(kernel='rbf')\n",
    "resultado = cross_val_score(modelo, independente_scaler, dependente_scaler.ravel(), cv = kfold)\n",
    "resultado"
   ],
   "metadata": {
    "id": "i8R3DHwF3gLg"
   },
   "execution_count": null,
   "outputs": []
  },
  {
   "cell_type": "code",
   "source": [
    "# Usamos a média e o desvio padrão\n",
    "print(\"Coeficiente de Determinação médio: %.2f%%\" % (resultado.mean() * 100.0))"
   ],
   "metadata": {
    "id": "6xzv5UHd3gLh"
   },
   "execution_count": null,
   "outputs": []
  },
  {
   "cell_type": "markdown",
   "source": [
    "**RESULTADOS:**\n",
    "\n",
    "**REGRESSÃO LINEAR SIMPLES:** R^2 = 0,57/0,60; RMSE = 99315,5; R^2 Validação Cruzada: 55,97%\n",
    "\n",
    "**REGRESSÃO LINEAR MÚLTIPLA:** R^2 = 0,73/0,68; RMSE = 96087,3; R^2 Validação Cruzada: 69,25%\n",
    "\n",
    "**REGRESSÃO POLINOMIAL:** R^2 = 0,59/0,54; RMSE = 114670,6.\n",
    "\n",
    "**REGRESSÃO SVR:** R^2 = 0,87/0,81; RMSE = 73422,7. R^2 Validação Cruzada: 82,37%."
   ],
   "metadata": {
    "id": "9uo9IM_V2nph"
   }
  },
  {
   "cell_type": "markdown",
   "source": [
    "## **REGRESSÃO COM ÁRVORE DE DECISÃO**"
   ],
   "metadata": {
    "id": "N3OZHJFl2npi"
   }
  },
  {
   "cell_type": "markdown",
   "source": [
    "https://scikit-learn.org/stable/modules/tree.html#regression "
   ],
   "metadata": {
    "id": "0tAem7qwPVhF"
   }
  },
  {
   "cell_type": "code",
   "source": [
    "df.head(2)"
   ],
   "metadata": {
    "id": "ka5_F-RwHkLb"
   },
   "execution_count": null,
   "outputs": []
  },
  {
   "cell_type": "code",
   "metadata": {
    "id": "PSvXJHP3HkLc"
   },
   "source": [
    "independente = df.iloc[:, 0:3].values\n",
    "independente"
   ],
   "execution_count": null,
   "outputs": []
  },
  {
   "cell_type": "code",
   "source": [
    "independente.shape"
   ],
   "metadata": {
    "id": "x3JRhqbFHkLd"
   },
   "execution_count": null,
   "outputs": []
  },
  {
   "cell_type": "code",
   "metadata": {
    "id": "enBgBJlRHkLd"
   },
   "source": [
    "dependente = df.iloc[:, 3].values\n",
    "dependente"
   ],
   "execution_count": null,
   "outputs": []
  },
  {
   "cell_type": "code",
   "source": [
    "dependente.shape"
   ],
   "metadata": {
    "id": "ChyvkvdhHy3l"
   },
   "execution_count": null,
   "outputs": []
  },
  {
   "cell_type": "code",
   "metadata": {
    "id": "F66i09NYHkLe"
   },
   "source": [
    "from sklearn.model_selection import train_test_split\n",
    "x_treino, x_teste, y_treino, y_teste = train_test_split(independente, dependente, test_size = 0.3, random_state = 0)"
   ],
   "execution_count": null,
   "outputs": []
  },
  {
   "cell_type": "code",
   "metadata": {
    "id": "T59uRIMSHkLe"
   },
   "source": [
    "x_treino.shape, x_teste.shape"
   ],
   "execution_count": null,
   "outputs": []
  },
  {
   "cell_type": "code",
   "source": [
    "y_treino.shape, y_teste.shape"
   ],
   "metadata": {
    "id": "AGQ6_Yp8H8Jk"
   },
   "execution_count": null,
   "outputs": []
  },
  {
   "cell_type": "code",
   "metadata": {
    "id": "xekvfhT7hWgM"
   },
   "source": [
    "from sklearn.tree import DecisionTreeRegressor\n",
    "arvore = DecisionTreeRegressor(max_depth=5, random_state=10)\n",
    "arvore.fit(x_treino, y_treino)"
   ],
   "execution_count": null,
   "outputs": []
  },
  {
   "cell_type": "code",
   "metadata": {
    "id": "9N8PKjeLhnwm"
   },
   "source": [
    "arvore.score(x_treino, y_treino)"
   ],
   "execution_count": null,
   "outputs": []
  },
  {
   "cell_type": "markdown",
   "source": [
    "**TESTE**"
   ],
   "metadata": {
    "id": "-4H1NHKAMTMx"
   }
  },
  {
   "cell_type": "code",
   "metadata": {
    "id": "fnRicPdUhtEV"
   },
   "source": [
    "arvore.score(x_teste, y_teste)"
   ],
   "execution_count": null,
   "outputs": []
  },
  {
   "cell_type": "code",
   "metadata": {
    "id": "iUUoAtpBh3gv"
   },
   "source": [
    "previsoes_teste = arvore.predict(x_teste)\n",
    "previsoes_teste"
   ],
   "execution_count": null,
   "outputs": []
  },
  {
   "cell_type": "code",
   "metadata": {
    "id": "AbwmfJgLh8wk"
   },
   "source": [
    "y_teste"
   ],
   "execution_count": null,
   "outputs": []
  },
  {
   "cell_type": "markdown",
   "source": [
    "**MÉTRICAS**"
   ],
   "metadata": {
    "id": "lKWJ-81bMyZP"
   }
  },
  {
   "cell_type": "code",
   "metadata": {
    "id": "eAErxalxMyZQ"
   },
   "source": [
    "from sklearn.metrics import mean_absolute_error, mean_squared_error"
   ],
   "execution_count": null,
   "outputs": []
  },
  {
   "cell_type": "code",
   "metadata": {
    "id": "o7shpq0eMyZR"
   },
   "source": [
    "# Erro médio Absoluto\n",
    "mean_absolute_error(y_teste, previsoes_teste)"
   ],
   "execution_count": null,
   "outputs": []
  },
  {
   "cell_type": "code",
   "metadata": {
    "id": "UCxNMPjvMyZS"
   },
   "source": [
    "# Erro quadrático médio\n",
    "mean_squared_error(y_teste, previsoes_teste)"
   ],
   "execution_count": null,
   "outputs": []
  },
  {
   "cell_type": "code",
   "metadata": {
    "id": "-i_NBmScMyZS"
   },
   "source": [
    "# Raiz do erro quadrático médio (RMSE)\n",
    "np.sqrt(mean_squared_error(y_teste, previsoes_teste))"
   ],
   "execution_count": null,
   "outputs": []
  },
  {
   "cell_type": "markdown",
   "source": [
    "### **Validação Cruzada**"
   ],
   "metadata": {
    "id": "KlGC2Y7eNJIH"
   }
  },
  {
   "cell_type": "code",
   "source": [
    "from sklearn.model_selection import KFold\n",
    "from sklearn.model_selection import cross_val_score"
   ],
   "metadata": {
    "id": "_uZCiCebNJII"
   },
   "execution_count": null,
   "outputs": []
  },
  {
   "cell_type": "code",
   "source": [
    "# Separando os dados em folds\n",
    "kfold = KFold(n_splits = 15, shuffle=True, random_state = 5)"
   ],
   "metadata": {
    "id": "dzXlSwOHNJIJ"
   },
   "execution_count": null,
   "outputs": []
  },
  {
   "cell_type": "code",
   "source": [
    "# Criando o modelo\n",
    "from sklearn.tree import DecisionTreeRegressor\n",
    "modelo = DecisionTreeRegressor(max_depth=5, random_state=10)\n",
    "resultado = cross_val_score(modelo, independente, dependente, cv = kfold)\n",
    "resultado"
   ],
   "metadata": {
    "id": "JOzI7g_kNJIJ"
   },
   "execution_count": null,
   "outputs": []
  },
  {
   "cell_type": "code",
   "source": [
    "# Usamos a média e o desvio padrão\n",
    "print(\"Coeficiente de Determinação Médio: %.2f%%\" % (resultado.mean() * 100.0))"
   ],
   "metadata": {
    "id": "k9_kKBtYNJIK"
   },
   "execution_count": null,
   "outputs": []
  },
  {
   "cell_type": "markdown",
   "source": [
    "**RESULTADOS:**\n",
    "\n",
    "**REGRESSÃO LINEAR SIMPLES:** R^2 = 0,57/0,60; RMSE = 99315,5; R^2 Validação Cruzada: 55,97%\n",
    "\n",
    "**REGRESSÃO LINEAR MÚLTIPLA:** R^2 = 0,73/0,68; RMSE = 96087,3; R^2 Validação Cruzada: 69,25%\n",
    "\n",
    "**REGRESSÃO POLINOMIAL:** R^2 = 0,59/0,54; RMSE = 114670,6.\n",
    "\n",
    "**REGRESSÃO SVR:** R^2 = 0,87/0,81; RMSE = 73422,7. R^2 Validação Cruzada: 82,37%.\n",
    "\n",
    "**REGRESSÃO ÁRVORE DE DECISÃO:** R^2 = 0,91/0,83; RMSE = 71114,5. R^2 Validação Cruzada: 74,60%."
   ],
   "metadata": {
    "id": "T-iYcZo4NJIL"
   }
  },
  {
   "cell_type": "markdown",
   "source": [
    "## **REGRESSÃO COM RANDOM FOREST**"
   ],
   "metadata": {
    "id": "em7docfu_mvB"
   }
  },
  {
   "cell_type": "markdown",
   "source": [
    "https://scikit-learn.org/stable/modules/generated/sklearn.ensemble.RandomForestRegressor.html "
   ],
   "metadata": {
    "id": "XxohwrvT_xVI"
   }
  },
  {
   "cell_type": "code",
   "source": [
    "df.head(2)"
   ],
   "metadata": {
    "id": "BreuwClMAqSa",
    "colab": {
     "base_uri": "https://localhost:8080/",
     "height": 112
    },
    "outputId": "9b07a060-711a-4511-af62-7f5355ac4ed9"
   },
   "execution_count": null,
   "outputs": []
  },
  {
   "cell_type": "code",
   "metadata": {
    "id": "L9IfgWrjAqSb",
    "colab": {
     "base_uri": "https://localhost:8080/"
    },
    "outputId": "d570d42d-45b5-42f5-adb0-02de6b9819cf"
   },
   "source": [
    "independente = df.iloc[:, 0:3].values\n",
    "independente"
   ],
   "execution_count": null,
   "outputs": []
  },
  {
   "cell_type": "code",
   "source": [
    "independente.shape"
   ],
   "metadata": {
    "id": "fzFtVk9JAqSc",
    "colab": {
     "base_uri": "https://localhost:8080/"
    },
    "outputId": "1048d9a9-6015-49d9-e2a6-e4cef8d30485"
   },
   "execution_count": null,
   "outputs": []
  },
  {
   "cell_type": "code",
   "metadata": {
    "id": "dPZbKG7yAqSd",
    "colab": {
     "base_uri": "https://localhost:8080/"
    },
    "outputId": "acd74b40-75a6-4648-c085-331d5353d780"
   },
   "source": [
    "dependente = df.iloc[:, 3].values\n",
    "dependente"
   ],
   "execution_count": null,
   "outputs": []
  },
  {
   "cell_type": "code",
   "source": [
    "dependente.shape"
   ],
   "metadata": {
    "id": "mKrN8FpVAqSe",
    "colab": {
     "base_uri": "https://localhost:8080/"
    },
    "outputId": "b672b375-09c3-4391-f5b8-1e5b69202020"
   },
   "execution_count": null,
   "outputs": []
  },
  {
   "cell_type": "code",
   "metadata": {
    "id": "FBV-LWNCAqSe"
   },
   "source": [
    "from sklearn.model_selection import train_test_split\n",
    "x_treino, x_teste, y_treino, y_teste = train_test_split(independente, dependente, test_size = 0.3, random_state = 0)"
   ],
   "execution_count": null,
   "outputs": []
  },
  {
   "cell_type": "code",
   "metadata": {
    "id": "smtq2nvRAqSf",
    "colab": {
     "base_uri": "https://localhost:8080/"
    },
    "outputId": "9b7fc03d-2606-4f0a-f988-bf489e4f4dc4"
   },
   "source": [
    "x_treino.shape, x_teste.shape"
   ],
   "execution_count": null,
   "outputs": []
  },
  {
   "cell_type": "code",
   "source": [
    "y_treino.shape, y_teste.shape"
   ],
   "metadata": {
    "id": "cmGJ3PJVAqSf",
    "colab": {
     "base_uri": "https://localhost:8080/"
    },
    "outputId": "6f7a299e-0caa-4d08-c453-b0fccd1025ce"
   },
   "execution_count": null,
   "outputs": []
  },
  {
   "cell_type": "code",
   "source": [
    "from sklearn.ensemble import RandomForestRegressor"
   ],
   "metadata": {
    "id": "jq-8R7XpB9f3"
   },
   "execution_count": null,
   "outputs": []
  },
  {
   "cell_type": "code",
   "metadata": {
    "id": "6dN6ggkVBHH4",
    "colab": {
     "base_uri": "https://localhost:8080/"
    },
    "outputId": "800ef63a-6f87-46cc-f014-a55c33bc769c"
   },
   "source": [
    "random = RandomForestRegressor(n_estimators=60, criterion='squared_error', max_depth=5, random_state = 10)\n",
    "random.fit(x_treino, y_treino)"
   ],
   "execution_count": null,
   "outputs": []
  },
  {
   "cell_type": "code",
   "metadata": {
    "id": "RtbJdyMVBHH6",
    "colab": {
     "base_uri": "https://localhost:8080/"
    },
    "outputId": "7e90016b-cea8-41e7-d2de-500c19cfa74e"
   },
   "source": [
    "random.score(x_treino, y_treino)"
   ],
   "execution_count": null,
   "outputs": []
  },
  {
   "cell_type": "markdown",
   "source": [
    "**TESTE**"
   ],
   "metadata": {
    "id": "l6-F9ZQxBHH7"
   }
  },
  {
   "cell_type": "code",
   "metadata": {
    "id": "gBApN-jaBHH7"
   },
   "source": [
    "random.score(x_teste, y_teste)"
   ],
   "execution_count": null,
   "outputs": []
  },
  {
   "cell_type": "code",
   "metadata": {
    "id": "Y51B43YTBHH8"
   },
   "source": [
    "previsoes_teste = random.predict(x_teste)\n",
    "previsoes_teste"
   ],
   "execution_count": null,
   "outputs": []
  },
  {
   "cell_type": "code",
   "metadata": {
    "id": "B48-pZ7eBHH9"
   },
   "source": [
    "y_teste"
   ],
   "execution_count": null,
   "outputs": []
  },
  {
   "cell_type": "markdown",
   "source": [
    "**MÉTRICAS**"
   ],
   "metadata": {
    "id": "l1m3gPLhBHH9"
   }
  },
  {
   "cell_type": "code",
   "metadata": {
    "id": "x-D_BJZ-BHH9"
   },
   "source": [
    "from sklearn.metrics import mean_absolute_error, mean_squared_error"
   ],
   "execution_count": null,
   "outputs": []
  },
  {
   "cell_type": "code",
   "metadata": {
    "id": "wvRaZ50aBHH-"
   },
   "source": [
    "# Erro médio Absoluto\n",
    "mean_absolute_error(y_teste, previsoes_teste)"
   ],
   "execution_count": null,
   "outputs": []
  },
  {
   "cell_type": "code",
   "metadata": {
    "id": "Fjju8AAbBHH_"
   },
   "source": [
    "# Erro quadrático médio\n",
    "mean_squared_error(y_teste, previsoes_teste)"
   ],
   "execution_count": null,
   "outputs": []
  },
  {
   "cell_type": "code",
   "metadata": {
    "id": "L_4yAmxxBHH_"
   },
   "source": [
    "# Raiz do erro quadrático médio (RMSE)\n",
    "np.sqrt(mean_squared_error(y_teste, previsoes_teste))"
   ],
   "execution_count": null,
   "outputs": []
  },
  {
   "cell_type": "markdown",
   "source": [
    "### **Validação Cruzada**"
   ],
   "metadata": {
    "id": "mLyVoeblBHIA"
   }
  },
  {
   "cell_type": "code",
   "source": [
    "from sklearn.model_selection import KFold\n",
    "from sklearn.model_selection import cross_val_score"
   ],
   "metadata": {
    "id": "TQiW7o6mBHIA"
   },
   "execution_count": null,
   "outputs": []
  },
  {
   "cell_type": "code",
   "source": [
    "# Separando os dados em folds\n",
    "kfold = KFold(n_splits = 15, shuffle=True, random_state = 5)"
   ],
   "metadata": {
    "id": "u6c0cLchBHIB"
   },
   "execution_count": null,
   "outputs": []
  },
  {
   "cell_type": "code",
   "source": [
    "# Criando o modelo\n",
    "from sklearn.ensemble import RandomForestRegressor\n",
    "modelo = RandomForestRegressor(n_estimators=60, criterion='squared_error', max_depth=5, random_state = 10)\n",
    "resultado = cross_val_score(modelo, independente, dependente, cv = kfold)\n",
    "resultado"
   ],
   "metadata": {
    "id": "bfcTtlMtBHIB"
   },
   "execution_count": null,
   "outputs": []
  },
  {
   "cell_type": "code",
   "source": [
    "# Usamos a média e o desvio padrão\n",
    "print(\"Coeficiente de Determinação Médio: %.2f%%\" % (resultado.mean() * 100.0))"
   ],
   "metadata": {
    "id": "k8dR6MeCBHIC"
   },
   "execution_count": null,
   "outputs": []
  },
  {
   "cell_type": "markdown",
   "source": [
    "**RESULTADOS:**\n",
    "\n",
    "**REGRESSÃO LINEAR SIMPLES:** R^2 = 0,57/0,60; RMSE = 99315,5; R^2 Validação Cruzada: 55,97%\n",
    "\n",
    "**REGRESSÃO LINEAR MÚLTIPLA:** R^2 = 0,73/0,68; RMSE = 96087,3; R^2 Validação Cruzada: 69,25%\n",
    "\n",
    "**REGRESSÃO POLINOMIAL:** R^2 = 0,59/0,54; RMSE = 114670,6.\n",
    "\n",
    "**REGRESSÃO SVR:** R^2 = 0,87/0,81; RMSE = 73422,7. R^2 Validação Cruzada: 82,37%.\n",
    "\n",
    "**REGRESSÃO ÁRVORE DE DECISÃO:** R^2 = 0,91/0,83; RMSE = 71114,5. R^2 Validação Cruzada: 74,60%.\n",
    "\n",
    "**REGRESSÃO COM RANDOM FOREST:** R^2 = 0,92/0,85; RMSE = 66729,3. R^2 Validação Cruzada: 82,85%."
   ],
   "metadata": {
    "id": "-5fEdSH-BHIC"
   }
  },
  {
   "cell_type": "markdown",
   "source": [
    "## **REGRESSÃO COM XGBOOST**"
   ],
   "metadata": {
    "id": "texm7_wzD3ZN"
   }
  },
  {
   "cell_type": "markdown",
   "source": [
    "https://xgboost.readthedocs.io/en/latest/python/python_api.html#xgboost.XGBRegressor "
   ],
   "metadata": {
    "id": "9bFhbBKgEnmc"
   }
  },
  {
   "cell_type": "code",
   "source": [
    "df.head(2)"
   ],
   "metadata": {
    "id": "S1kDY4K6LZ3o"
   },
   "execution_count": null,
   "outputs": []
  },
  {
   "cell_type": "code",
   "metadata": {
    "id": "gJxxUoJfLZ3q"
   },
   "source": [
    "independente = df.iloc[:, 0:3].values\n",
    "independente"
   ],
   "execution_count": null,
   "outputs": []
  },
  {
   "cell_type": "code",
   "source": [
    "independente.shape"
   ],
   "metadata": {
    "id": "X748p6-1LZ3r"
   },
   "execution_count": null,
   "outputs": []
  },
  {
   "cell_type": "code",
   "metadata": {
    "id": "T6PtTe5SLZ3r"
   },
   "source": [
    "dependente = df.iloc[:, 3].values"
   ],
   "execution_count": null,
   "outputs": []
  },
  {
   "cell_type": "code",
   "source": [
    "dependente.shape"
   ],
   "metadata": {
    "id": "IVvAP3tJLZ3s"
   },
   "execution_count": null,
   "outputs": []
  },
  {
   "cell_type": "code",
   "metadata": {
    "id": "-R3GlRD8LZ3s"
   },
   "source": [
    "from sklearn.model_selection import train_test_split\n",
    "x_treino, x_teste, y_treino, y_teste = train_test_split(independente, dependente, test_size = 0.3, random_state = 0)"
   ],
   "execution_count": null,
   "outputs": []
  },
  {
   "cell_type": "code",
   "metadata": {
    "id": "2ZOzrZh1LZ3t"
   },
   "source": [
    "x_treino.shape, x_teste.shape"
   ],
   "execution_count": null,
   "outputs": []
  },
  {
   "cell_type": "code",
   "source": [
    "from xgboost import XGBRegressor"
   ],
   "metadata": {
    "id": "gXsNjojnEoyA"
   },
   "execution_count": null,
   "outputs": []
  },
  {
   "cell_type": "code",
   "metadata": {
    "id": "ggIQN7N9LZ3v"
   },
   "source": [
    "xgboost = XGBRegressor(n_estimators=180, max_depth=3, learning_rate=0.05, objective=\"reg:squarederror\", random_state=10)\n",
    "xgboost.fit(x_treino, y_treino)"
   ],
   "execution_count": null,
   "outputs": []
  },
  {
   "cell_type": "code",
   "metadata": {
    "id": "qGniar4pLZ3v"
   },
   "source": [
    "xgboost.score(x_treino, y_treino)"
   ],
   "execution_count": null,
   "outputs": []
  },
  {
   "cell_type": "markdown",
   "source": [
    "**TESTE**"
   ],
   "metadata": {
    "id": "Ag0SWRYdLZ3w"
   }
  },
  {
   "cell_type": "code",
   "metadata": {
    "id": "gPggEGb0LZ3w"
   },
   "source": [
    "xgboost.score(x_teste, y_teste)"
   ],
   "execution_count": null,
   "outputs": []
  },
  {
   "cell_type": "code",
   "metadata": {
    "id": "LZ7WLVF4LZ3x"
   },
   "source": [
    "previsoes_teste = xgboost.predict(x_teste)"
   ],
   "execution_count": null,
   "outputs": []
  },
  {
   "cell_type": "code",
   "source": [
    "# Fazendo previsões para valores distintos\n",
    "valor_casa = xgboost.predict([[6,20,12]])\n",
    "valor_casa"
   ],
   "metadata": {
    "id": "qXY1DEm2TPrs"
   },
   "execution_count": null,
   "outputs": []
  },
  {
   "cell_type": "markdown",
   "source": [
    "**MÉTRICAS**"
   ],
   "metadata": {
    "id": "eupiQ6n9LZ3y"
   }
  },
  {
   "cell_type": "code",
   "metadata": {
    "id": "mNFhiP0nLZ3z"
   },
   "source": [
    "from sklearn.metrics import mean_absolute_error, mean_squared_error"
   ],
   "execution_count": null,
   "outputs": []
  },
  {
   "cell_type": "code",
   "metadata": {
    "id": "ptcF4Z3QLZ3z"
   },
   "source": [
    "# Erro médio Absoluto\n",
    "mean_absolute_error(y_teste, previsoes_teste)"
   ],
   "execution_count": null,
   "outputs": []
  },
  {
   "cell_type": "code",
   "metadata": {
    "id": "UW9rH3WyLZ30"
   },
   "source": [
    "# Raiz do erro quadrático médio (RMSE)\n",
    "np.sqrt(mean_squared_error(y_teste, previsoes_teste))"
   ],
   "execution_count": null,
   "outputs": []
  },
  {
   "cell_type": "markdown",
   "source": [
    "### **Validação Cruzada**"
   ],
   "metadata": {
    "id": "mopLhYaKLZ31"
   }
  },
  {
   "cell_type": "code",
   "source": [
    "from sklearn.model_selection import KFold\n",
    "from sklearn.model_selection import cross_val_score"
   ],
   "metadata": {
    "id": "EW9FdkEELZ31"
   },
   "execution_count": null,
   "outputs": []
  },
  {
   "cell_type": "code",
   "source": [
    "# Separando os dados em folds\n",
    "kfold = KFold(n_splits = 15, shuffle=True, random_state = 5)"
   ],
   "metadata": {
    "id": "-duD4L-4LZ32"
   },
   "execution_count": null,
   "outputs": []
  },
  {
   "cell_type": "code",
   "source": [
    "# Criando o modelo\n",
    "from xgboost import XGBRegressor\n",
    "modelo = XGBRegressor(n_estimators=180, max_depth=3, learning_rate=0.05, objective = \"reg:squarederror\")\n",
    "resultado = cross_val_score(modelo, independente, dependente, cv = kfold)\n",
    "resultado"
   ],
   "metadata": {
    "id": "KTJuA6GpLZ32"
   },
   "execution_count": null,
   "outputs": []
  },
  {
   "cell_type": "code",
   "source": [
    "# Usamos a média e o desvio padrão\n",
    "print(\"Coeficiente de determinação Médio: %.2f%%\" % (resultado.mean() * 100.0))"
   ],
   "metadata": {
    "id": "6OLrwVIQLZ33"
   },
   "execution_count": null,
   "outputs": []
  },
  {
   "cell_type": "markdown",
   "source": [
    "**RESULTADOS:**\n",
    "\n",
    "**REGRESSÃO LINEAR SIMPLES:** R^2 = 0,57/0,60; RMSE = 99315,5; R^2 Validação Cruzada: 55,97%\n",
    "\n",
    "**REGRESSÃO LINEAR MÚLTIPLA:** R^2 = 0,73/0,68; RMSE = 96087,3; R^2 Validação Cruzada: 69,25%\n",
    "\n",
    "**REGRESSÃO POLINOMIAL:** R^2 = 0,59/0,54; RMSE = 114670,6.\n",
    "\n",
    "**REGRESSÃO SVR:** R^2 = 0,87/0,81; RMSE = 73422,7. R^2 Validação Cruzada: 82,37%.\n",
    "\n",
    "**REGRESSÃO ÁRVORE DE DECISÃO:** R^2 = 0,91/0,83; RMSE = 71114,5. R^2 Validação Cruzada: 74,60%.\n",
    "\n",
    "**REGRESSÃO COM RANDOM FOREST:** R^2 = 0,92/0,85; RMSE = 66729,3. R^2 Validação Cruzada: 82,85%.\n",
    "\n",
    "**REGRESSÃO COM XGBOOST:** R^2 = 0,93/0,84; RMSE = 67788,8. R^2 Validação Cruzada: 83,22%."
   ],
   "metadata": {
    "id": "y4gwkctLLZ33"
   }
  },
  {
   "cell_type": "markdown",
   "source": [
    "## **REGRESSÃO COM LIGHT GBM**"
   ],
   "metadata": {
    "id": "5Ml9LC8_P_Us"
   }
  },
  {
   "cell_type": "markdown",
   "source": [
    "https://lightgbm.readthedocs.io/en/latest/pythonapi/lightgbm.LGBMRegressor.html "
   ],
   "metadata": {
    "id": "sLqV3RvmQHiI"
   }
  },
  {
   "cell_type": "code",
   "source": [
    "# Instalação do Algoritmo\n",
    "!pip install lightgbm"
   ],
   "metadata": {
    "id": "hqvRU7h6Q9oc"
   },
   "execution_count": null,
   "outputs": []
  },
  {
   "cell_type": "code",
   "source": [
    "df.head(2)"
   ],
   "metadata": {
    "id": "TmOsSq05QgB0"
   },
   "execution_count": null,
   "outputs": []
  },
  {
   "cell_type": "code",
   "metadata": {
    "id": "zyubjorGQgB2"
   },
   "source": [
    "independente = df.iloc[:, 0:3].values\n",
    "independente"
   ],
   "execution_count": null,
   "outputs": []
  },
  {
   "cell_type": "code",
   "source": [
    "independente.shape"
   ],
   "metadata": {
    "id": "r08QXJHHQgB2"
   },
   "execution_count": null,
   "outputs": []
  },
  {
   "cell_type": "code",
   "metadata": {
    "id": "mWxdToSwQgB3"
   },
   "source": [
    "dependente = df.iloc[:, 3].values"
   ],
   "execution_count": null,
   "outputs": []
  },
  {
   "cell_type": "code",
   "source": [
    "dependente.shape"
   ],
   "metadata": {
    "id": "G6Rvs0KHQgB4"
   },
   "execution_count": null,
   "outputs": []
  },
  {
   "cell_type": "code",
   "metadata": {
    "id": "uaWSEem8QgB4"
   },
   "source": [
    "from sklearn.model_selection import train_test_split\n",
    "x_treino, x_teste, y_treino, y_teste = train_test_split(independente, dependente, test_size = 0.3, random_state = 0)"
   ],
   "execution_count": null,
   "outputs": []
  },
  {
   "cell_type": "code",
   "metadata": {
    "id": "dgMg2ZJ2QgB5"
   },
   "source": [
    "x_treino.shape, x_teste.shape"
   ],
   "execution_count": null,
   "outputs": []
  },
  {
   "cell_type": "code",
   "source": [
    "import lightgbm as lgb"
   ],
   "metadata": {
    "id": "q4V61kANQgB5"
   },
   "execution_count": null,
   "outputs": []
  },
  {
   "cell_type": "code",
   "metadata": {
    "id": "Sk8UBLYrQgB6"
   },
   "source": [
    "lgbm = lgb.LGBMRegressor(num_leaves=50, max_depth=3, learning_rate=0.1, n_estimators=50, random_state=10)\n",
    "lgbm.fit(x_treino, y_treino)"
   ],
   "execution_count": null,
   "outputs": []
  },
  {
   "cell_type": "code",
   "metadata": {
    "id": "-fk3JlxnQgB6"
   },
   "source": [
    "lgbm.score(x_treino, y_treino)"
   ],
   "execution_count": null,
   "outputs": []
  },
  {
   "cell_type": "markdown",
   "source": [
    "**TESTE**"
   ],
   "metadata": {
    "id": "6vaV_m3fQgB7"
   }
  },
  {
   "cell_type": "code",
   "metadata": {
    "id": "0e_-0p0EQgB7"
   },
   "source": [
    "lgbm.score(x_teste, y_teste)"
   ],
   "execution_count": null,
   "outputs": []
  },
  {
   "cell_type": "code",
   "metadata": {
    "id": "SuRMp_IuQgB8"
   },
   "source": [
    "previsoes_teste = lgbm.predict(x_teste)"
   ],
   "execution_count": null,
   "outputs": []
  },
  {
   "cell_type": "code",
   "source": [
    "# Fazendo previsões para valores distintos\n",
    "valor_casa = lgbm.predict([[8,12,25]])\n",
    "valor_casa"
   ],
   "metadata": {
    "id": "vHgIjE5hTYEW"
   },
   "execution_count": null,
   "outputs": []
  },
  {
   "cell_type": "markdown",
   "source": [
    "**MÉTRICAS**"
   ],
   "metadata": {
    "id": "TB4eq5DYQgB8"
   }
  },
  {
   "cell_type": "code",
   "metadata": {
    "id": "bUuxOSjGQgB9"
   },
   "source": [
    "from sklearn.metrics import mean_absolute_error, mean_squared_error"
   ],
   "execution_count": null,
   "outputs": []
  },
  {
   "cell_type": "code",
   "metadata": {
    "id": "oD4PttzoQgB9"
   },
   "source": [
    "# Erro médio Absoluto\n",
    "mean_absolute_error(y_teste, previsoes_teste)"
   ],
   "execution_count": null,
   "outputs": []
  },
  {
   "cell_type": "code",
   "metadata": {
    "id": "Dql6Ds3rQgB-"
   },
   "source": [
    "# Raiz do erro quadrático médio (RMSE)\n",
    "np.sqrt(mean_squared_error(y_teste, previsoes_teste))"
   ],
   "execution_count": null,
   "outputs": []
  },
  {
   "cell_type": "markdown",
   "source": [
    "### **Validação Cruzada**"
   ],
   "metadata": {
    "id": "HiSSyx4qQgB_"
   }
  },
  {
   "cell_type": "code",
   "source": [
    "from sklearn.model_selection import KFold\n",
    "from sklearn.model_selection import cross_val_score"
   ],
   "metadata": {
    "id": "qoP8WdOAQgB_"
   },
   "execution_count": null,
   "outputs": []
  },
  {
   "cell_type": "code",
   "source": [
    "# Separando os dados em folds\n",
    "kfold = KFold(n_splits = 15, shuffle=True, random_state = 5)"
   ],
   "metadata": {
    "id": "OiBBJQ5oQgCA"
   },
   "execution_count": null,
   "outputs": []
  },
  {
   "cell_type": "code",
   "source": [
    "# Criando o modelo\n",
    "import lightgbm as lgb\n",
    "modelo = lgb.LGBMRegressor(num_leaves=50, max_depth=3, learning_rate=0.1, n_estimators=50)\n",
    "resultado = cross_val_score(modelo, independente, dependente, cv = kfold)\n",
    "resultado"
   ],
   "metadata": {
    "id": "yzpxQlPpQgCA"
   },
   "execution_count": null,
   "outputs": []
  },
  {
   "cell_type": "code",
   "source": [
    "# Usamos a média e o desvio padrão\n",
    "print(\"Coeficiente de Determinação Médio: %.2f%%\" % (resultado.mean() * 100.0))"
   ],
   "metadata": {
    "id": "eDE7L7RBQgCB"
   },
   "execution_count": null,
   "outputs": []
  },
  {
   "cell_type": "markdown",
   "source": [
    "**RESULTADOS:**\n",
    "\n",
    "**REGRESSÃO LINEAR SIMPLES:** R^2 = 0,57/0,60; RMSE = 99315,5; R^2 Validação Cruzada: 55,97%\n",
    "\n",
    "**REGRESSÃO LINEAR MÚLTIPLA:** R^2 = 0,73/0,68; RMSE = 96087,3; R^2 Validação Cruzada: 69,25%\n",
    "\n",
    "**REGRESSÃO POLINOMIAL:** R^2 = 0,59/0,54; RMSE = 114670,6.\n",
    "\n",
    "**REGRESSÃO SVR:** R^2 = 0,87/0,81; RMSE = 73422,7. R^2 Validação Cruzada: 82,37%.\n",
    "\n",
    "**REGRESSÃO ÁRVORE DE DECISÃO:** R^2 = 0,91/0,83; RMSE = 71114,5. R^2 Validação Cruzada: 74,60%.\n",
    "\n",
    "**REGRESSÃO COM RANDOM FOREST:** R^2 = 0,92/0,85; RMSE = 66729,3. R^2 Validação Cruzada: 82,85%.\n",
    "\n",
    "**REGRESSÃO COM XGBOOST:** R^2 = 0,93/0,84; RMSE = 67788,8. R^2 Validação Cruzada: 83,22%.\n",
    "\n",
    "**REGRESSÃO COM LIGHT GBM:** R^2 = 0,88/0,82; RMSE = 71906,4. R^2 Validação Cruzada: 82,38%."
   ],
   "metadata": {
    "id": "vxcj5kwGQgCC"
   }
  },
  {
   "cell_type": "markdown",
   "source": [
    "## **REGRESSÃO COM CATBOOST**"
   ],
   "metadata": {
    "id": "gZsVtfKfQgCC"
   }
  },
  {
   "cell_type": "markdown",
   "source": [
    "https://catboost.ai/en/docs/concepts/python-reference_catboostregressor "
   ],
   "metadata": {
    "id": "5GPeGeg-VXsz"
   }
  },
  {
   "cell_type": "code",
   "source": [
    "#Instalação\n",
    "!pip install catboost"
   ],
   "metadata": {
    "id": "NuLKDgUGVXs0"
   },
   "execution_count": null,
   "outputs": []
  },
  {
   "cell_type": "code",
   "source": [
    "df.head(2)"
   ],
   "metadata": {
    "id": "ld2ULQzLVXs1"
   },
   "execution_count": null,
   "outputs": []
  },
  {
   "cell_type": "code",
   "metadata": {
    "id": "1nReQ2gUVXs2"
   },
   "source": [
    "independente = df.iloc[:, 0:3].values\n",
    "independente"
   ],
   "execution_count": null,
   "outputs": []
  },
  {
   "cell_type": "code",
   "source": [
    "independente.shape"
   ],
   "metadata": {
    "id": "rDPRCUFUVXs3"
   },
   "execution_count": null,
   "outputs": []
  },
  {
   "cell_type": "code",
   "metadata": {
    "id": "v_vJst49VXs3"
   },
   "source": [
    "dependente = df.iloc[:, 3].values"
   ],
   "execution_count": null,
   "outputs": []
  },
  {
   "cell_type": "code",
   "source": [
    "dependente.shape"
   ],
   "metadata": {
    "id": "CuJFrX_1VXs4"
   },
   "execution_count": null,
   "outputs": []
  },
  {
   "cell_type": "code",
   "metadata": {
    "id": "ZiFMJQRNVXs4"
   },
   "source": [
    "from sklearn.model_selection import train_test_split\n",
    "x_treino, x_teste, y_treino, y_teste = train_test_split(independente, dependente, test_size = 0.3, random_state = 0)"
   ],
   "execution_count": null,
   "outputs": []
  },
  {
   "cell_type": "code",
   "metadata": {
    "id": "7S3QP4XEVXs5"
   },
   "source": [
    "x_treino.shape, x_teste.shape"
   ],
   "execution_count": null,
   "outputs": []
  },
  {
   "cell_type": "code",
   "source": [
    "from catboost.core import CatBoostRegressor"
   ],
   "metadata": {
    "id": "Mvq49H8TVXs5"
   },
   "execution_count": null,
   "outputs": []
  },
  {
   "cell_type": "code",
   "metadata": {
    "id": "ElgRHg_3VXs6"
   },
   "source": [
    "catboost = CatBoostRegressor (iterations=100, learning_rate=0.08, depth = 5, random_state = 10)\n",
    "catboost.fit(x_treino, y_treino)"
   ],
   "execution_count": null,
   "outputs": []
  },
  {
   "cell_type": "code",
   "metadata": {
    "id": "RYJLt365VXs6"
   },
   "source": [
    "catboost.score(x_treino, y_treino)"
   ],
   "execution_count": null,
   "outputs": []
  },
  {
   "cell_type": "markdown",
   "source": [
    "**TESTE**"
   ],
   "metadata": {
    "id": "J0YqqCe_VXs7"
   }
  },
  {
   "cell_type": "code",
   "metadata": {
    "id": "Kq3ufyL1VXs7"
   },
   "source": [
    "catboost.score(x_teste, y_teste)"
   ],
   "execution_count": null,
   "outputs": []
  },
  {
   "cell_type": "code",
   "metadata": {
    "id": "bbb2-5sqVXs8"
   },
   "source": [
    "previsoes_teste = catboost.predict(x_teste)"
   ],
   "execution_count": null,
   "outputs": []
  },
  {
   "cell_type": "code",
   "source": [
    "# Fazendo previsões para valores distintos\n",
    "valor_casa = catboost.predict([[5,18,20]])\n",
    "valor_casa"
   ],
   "metadata": {
    "id": "rFXFPukcYZNe"
   },
   "execution_count": null,
   "outputs": []
  },
  {
   "cell_type": "markdown",
   "source": [
    "**MÉTRICAS**"
   ],
   "metadata": {
    "id": "pSBW-UoFVXs8"
   }
  },
  {
   "cell_type": "code",
   "metadata": {
    "id": "dUHUBMG5VXs9"
   },
   "source": [
    "from sklearn.metrics import mean_absolute_error, mean_squared_error"
   ],
   "execution_count": null,
   "outputs": []
  },
  {
   "cell_type": "code",
   "metadata": {
    "id": "lgn3ZatBVXs9"
   },
   "source": [
    "# Erro médio Absoluto\n",
    "mean_absolute_error(y_teste, previsoes_teste)"
   ],
   "execution_count": null,
   "outputs": []
  },
  {
   "cell_type": "code",
   "metadata": {
    "id": "DewzTfdWVXs9"
   },
   "source": [
    "# Raiz do erro quadrático médio (RMSE)\n",
    "np.sqrt(mean_squared_error(y_teste, previsoes_teste))"
   ],
   "execution_count": null,
   "outputs": []
  },
  {
   "cell_type": "markdown",
   "source": [
    "### **Validação Cruzada**"
   ],
   "metadata": {
    "id": "KPym0jypVXs-"
   }
  },
  {
   "cell_type": "code",
   "source": [
    "from sklearn.model_selection import KFold\n",
    "from sklearn.model_selection import cross_val_score"
   ],
   "metadata": {
    "id": "oZwUBh3_VXs-"
   },
   "execution_count": null,
   "outputs": []
  },
  {
   "cell_type": "code",
   "source": [
    "# Separando os dados em folds\n",
    "kfold = KFold(n_splits = 15, shuffle=True, random_state = 5)"
   ],
   "metadata": {
    "id": "gJMJ1x4bVXs_"
   },
   "execution_count": null,
   "outputs": []
  },
  {
   "cell_type": "code",
   "source": [
    "# Criando o modelo\n",
    "from catboost.core import CatBoostRegressor\n",
    "modelo = CatBoostRegressor (iterations=100, learning_rate=0.08, depth = 5, random_state = 10)\n",
    "resultado = cross_val_score(modelo, independente, dependente, cv = kfold)\n",
    "resultado"
   ],
   "metadata": {
    "id": "TUW6Frh8VXs_"
   },
   "execution_count": null,
   "outputs": []
  },
  {
   "cell_type": "code",
   "source": [
    "# Usamos a média e o desvio padrão\n",
    "print(\"Coeficiente de Determinação Médio: %.2f%%\" % (resultado.mean() * 100.0))"
   ],
   "metadata": {
    "id": "sRPAGvgQVXtA"
   },
   "execution_count": null,
   "outputs": []
  },
  {
   "cell_type": "markdown",
   "source": [
    "**RESULTADOS:**\n",
    "\n",
    "**REGRESSÃO LINEAR SIMPLES:** R^2 = 0,57/0,60; RMSE = 99315,5; R^2 Validação Cruzada: 55,97%\n",
    "\n",
    "**REGRESSÃO LINEAR MÚLTIPLA:** R^2 = 0,73/0,68; RMSE = 96087,3; R^2 Validação Cruzada: 69,25%\n",
    "\n",
    "**REGRESSÃO POLINOMIAL:** R^2 = 0,59/0,54; RMSE = 114670,6.\n",
    "\n",
    "**REGRESSÃO SVR:** R^2 = 0,87/0,81; RMSE = 73422,7. R^2 Validação Cruzada: 82,37%.\n",
    "\n",
    "**REGRESSÃO ÁRVORE DE DECISÃO:** R^2 = 0,91/0,83; RMSE = 71114,5. R^2 Validação Cruzada: 74,60%.\n",
    "\n",
    "**REGRESSÃO COM RANDOM FOREST:** R^2 = 0,92/0,85; RMSE = 66729,3. R^2 Validação Cruzada: 82,85%.\n",
    "\n",
    "**REGRESSÃO COM XGBOOST:** R^2 = 0,93/0,84; RMSE = 67788,8. R^2 Validação Cruzada: 83,22%.\n",
    "\n",
    "**REGRESSÃO COM LIGHT GBM:** R^2 = 0,88/0,82; RMSE = 71906,4. R^2 Validação Cruzada: 82,38%.\n",
    "\n",
    "**REGRESSÃO COM CATBOOST:** R^2 = 0,90/0,84; RMSE = 69053,3 R^2 Validação Cruzada: 83,40%."
   ],
   "metadata": {
    "id": "7cwsGoINVXtA"
   }
  },
  {
   "cell_type": "markdown",
   "source": [],
   "metadata": {
    "id": "_n5ncFlgox69"
   }
  },
  {
   "cell_type": "markdown",
   "source": [
    "# **Salvando dados para Deploy**"
   ],
   "metadata": {
    "id": "-SI78UagmLD7"
   }
  },
  {
   "cell_type": "code",
   "source": [
    "independente = df.iloc[:, 0:3].values\n",
    "independente"
   ],
   "metadata": {
    "id": "iHM2TQfjbwf9"
   },
   "execution_count": null,
   "outputs": []
  },
  {
   "cell_type": "code",
   "source": [
    "dependente = df.iloc[:, 3].values\n",
    "dependente"
   ],
   "metadata": {
    "id": "isSCWsMPDdw6"
   },
   "execution_count": null,
   "outputs": []
  },
  {
   "cell_type": "code",
   "source": [
    "np.savetxt('independente.csv', independente, delimiter=',')"
   ],
   "metadata": {
    "id": "XUYRtI5VDBXF"
   },
   "execution_count": null,
   "outputs": []
  },
  {
   "cell_type": "code",
   "source": [
    "np.savetxt('dependente.csv', dependente, delimiter=',')"
   ],
   "metadata": {
    "id": "dd7lbPU3DQFO"
   },
   "execution_count": null,
   "outputs": []
  },
  {
   "cell_type": "markdown",
   "source": [
    "# **DESAFIO 2**"
   ],
   "metadata": {
    "id": "Q6LoOxMow4Ci"
   }
  },
  {
   "cell_type": "markdown",
   "source": [
    "DESENVOLVER E SELECIONAR O MELHOR ALGORITMO DE MACHINE LEARNING DE REGRESSÃO PARA O DATASET DO LINK A SEGUIR:"
   ],
   "metadata": {
    "id": "bjLFumRQxayX"
   }
  },
  {
   "cell_type": "markdown",
   "source": [
    "https://www.kaggle.com/mirichoi0218/insurance/code"
   ],
   "metadata": {
    "id": "VG8xV9wYxKk2"
   }
  }
 ]
}
